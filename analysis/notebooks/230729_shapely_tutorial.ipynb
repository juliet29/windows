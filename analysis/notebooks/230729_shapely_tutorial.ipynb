{
 "cells": [
  {
   "cell_type": "code",
   "execution_count": 58,
   "metadata": {},
   "outputs": [],
   "source": [
    "from shapely import *\n",
    "import shapely as shp\n",
    "import matplotlib.pyplot as plt"
   ]
  },
  {
   "cell_type": "code",
   "execution_count": null,
   "metadata": {},
   "outputs": [],
   "source": [
    "# split room into points, create cells around each points, and determine the adjacency of these cells \n",
    "\n",
    "# create a room \n",
    "# create offset curve to describe surroundings, and make it into a polygon \n",
    "# use numpy to make a mesh of points that are evenly distributed \n",
    "# use buffer to create cells based on these points and the overlap/ intersection with the polygons \n",
    "# give cells properties based on their relation to the room/surroundings...\n",
    "# use str tree thing to identify neighbours of each cell "
   ]
  },
  {
   "cell_type": "code",
   "execution_count": null,
   "metadata": {},
   "outputs": [],
   "source": []
  },
  {
   "cell_type": "code",
   "execution_count": 6,
   "metadata": {},
   "outputs": [
    {
     "data": {
      "image/svg+xml": [
       "<svg xmlns=\"http://www.w3.org/2000/svg\" xmlns:xlink=\"http://www.w3.org/1999/xlink\" width=\"100.0\" height=\"100.0\" viewBox=\"-0.4 -0.4 10.8 10.8\" preserveAspectRatio=\"xMinYMin meet\"><g transform=\"matrix(1,0,0,-1,0,10.0)\"><path fill-rule=\"evenodd\" fill=\"#66cc99\" stroke=\"#555555\" stroke-width=\"0.21600000000000003\" opacity=\"0.6\" d=\"M 0.0,0.0 L 10.0,0.0 L 10.0,10.0 L 0.0,10.0 L 0.0,0.0 z\" /></g></svg>"
      ],
      "text/plain": [
       "<POLYGON ((0 0, 10 0, 10 10, 0 10, 0 0))>"
      ]
     },
     "execution_count": 6,
     "metadata": {},
     "output_type": "execute_result"
    }
   ],
   "source": [
    "room_dim = 10\n",
    "room = Polygon([[0, 0], [room_dim, 0], [room_dim, room_dim], [0, room_dim], [0, 0]])\n",
    "room"
   ]
  },
  {
   "cell_type": "code",
   "execution_count": 7,
   "metadata": {},
   "outputs": [
    {
     "data": {
      "image/svg+xml": [
       "<svg xmlns=\"http://www.w3.org/2000/svg\" xmlns:xlink=\"http://www.w3.org/1999/xlink\" width=\"100.0\" height=\"100.0\" viewBox=\"-0.8 -0.8 21.6 21.6\" preserveAspectRatio=\"xMinYMin meet\"><g transform=\"matrix(1,0,0,-1,0,20.0)\"><path fill-rule=\"evenodd\" fill=\"#66cc99\" stroke=\"#555555\" stroke-width=\"0.43200000000000005\" opacity=\"0.6\" d=\"M 0.0,0.0 L 20.0,0.0 L 20.0,20.0 L 0.0,20.0 L 0.0,0.0 z\" /></g></svg>"
      ],
      "text/plain": [
       "<POLYGON ((0 0, 20 0, 20 20, 0 20, 0 0))>"
      ]
     },
     "execution_count": 7,
     "metadata": {},
     "output_type": "execute_result"
    }
   ],
   "source": [
    "outside_dim = 20 \n",
    "ambient = Polygon([[0, 0], [outside_dim, 0], [outside_dim, outside_dim], [0, outside_dim], [0, 0]])\n",
    "ambient"
   ]
  },
  {
   "cell_type": "code",
   "execution_count": 67,
   "metadata": {},
   "outputs": [
    {
     "data": {
      "text/plain": [
       "True"
      ]
     },
     "execution_count": 67,
     "metadata": {},
     "output_type": "execute_result"
    }
   ],
   "source": [
    "ambient.contains(room)"
   ]
  },
  {
   "cell_type": "code",
   "execution_count": 16,
   "metadata": {},
   "outputs": [
    {
     "data": {
      "text/plain": [
       "[(10.0, 10.0)]"
      ]
     },
     "execution_count": 16,
     "metadata": {},
     "output_type": "execute_result"
    }
   ],
   "source": [
    "list(ambient.centroid.coords)"
   ]
  },
  {
   "cell_type": "code",
   "execution_count": 110,
   "metadata": {},
   "outputs": [
    {
     "data": {
      "text/plain": [
       "(array('d', [10.0]), array('d', [10.0]))"
      ]
     },
     "execution_count": 110,
     "metadata": {},
     "output_type": "execute_result"
    }
   ],
   "source": [
    "ambient.centroid.xy"
   ]
  },
  {
   "cell_type": "code",
   "execution_count": 26,
   "metadata": {},
   "outputs": [
    {
     "data": {
      "text/plain": [
       "[(5.0, 5.0)]"
      ]
     },
     "execution_count": 26,
     "metadata": {},
     "output_type": "execute_result"
    }
   ],
   "source": [
    "list(room.centroid.coords)"
   ]
  },
  {
   "cell_type": "code",
   "execution_count": 59,
   "metadata": {},
   "outputs": [
    {
     "data": {
      "text/plain": [
       "<matplotlib.patches.PathPatch at 0x115035bb0>"
      ]
     },
     "execution_count": 59,
     "metadata": {},
     "output_type": "execute_result"
    },
    {
     "data": {
      "image/png": "[encoded data removed]",
      "text/plain": [
       "<Figure size 576x432 with 1 Axes>"
      ]
     },
     "metadata": {},
     "output_type": "display_data"
    }
   ],
   "source": [
    "fig = plt.figure(1,  dpi=90)\n",
    "ax = fig.add_subplot(121)\n",
    "line = LineString([(0, 0), (1, 1), (0, 2), (2, 2), (3, 1), (1, 0)])\n",
    "shp.plotting.plot_line(line, ax=ax, add_points=False, alpha=0.7)"
   ]
  },
  {
   "cell_type": "code",
   "execution_count": 25,
   "metadata": {},
   "outputs": [
    {
     "data": {
      "image/svg+xml": [
       "<svg xmlns=\"http://www.w3.org/2000/svg\" xmlns:xlink=\"http://www.w3.org/1999/xlink\" width=\"100.0\" height=\"100.0\" viewBox=\"-0.04 -0.04 1.08 1.08\" preserveAspectRatio=\"xMinYMin meet\"><g transform=\"matrix(1,0,0,-1,0,1.0)\"><polyline fill=\"none\" stroke=\"#66cc99\" stroke-width=\"0.0216\" points=\"0.0,0.0 1.0,1.0\" opacity=\"0.8\" /></g></svg>"
      ],
      "text/plain": [
       "<LINESTRING (0 0, 1 1)>"
      ]
     },
     "execution_count": 25,
     "metadata": {},
     "output_type": "execute_result"
    }
   ],
   "source": [
    "line = LineString([(0, 0), (1, 1)])\n",
    "line"
   ]
  },
  {
   "cell_type": "code",
   "execution_count": 28,
   "metadata": {},
   "outputs": [
    {
     "data": {
      "image/svg+xml": [
       "<svg xmlns=\"http://www.w3.org/2000/svg\" xmlns:xlink=\"http://www.w3.org/1999/xlink\" width=\"100.0\" height=\"100.0\" viewBox=\"-0.16 0.84 4.32 4.32\" preserveAspectRatio=\"xMinYMin meet\"><g transform=\"matrix(1,0,0,-1,0,6.0)\"><polyline fill=\"none\" stroke=\"#66cc99\" stroke-width=\"0.0864\" points=\"0.0,1.0 2.0,1.0 4.0,5.0\" opacity=\"0.8\" /></g></svg>"
      ],
      "text/plain": [
       "<LINESTRING (0 1, 2 1, 4 5)>"
      ]
     },
     "execution_count": 28,
     "metadata": {},
     "output_type": "execute_result"
    }
   ],
   "source": [
    "LineString([Point(0.0, 1.0), (2.0, 1.0), Point(4.0, 5.0)])"
   ]
  },
  {
   "cell_type": "code",
   "execution_count": 30,
   "metadata": {},
   "outputs": [
    {
     "data": {
      "image/svg+xml": [
       "<svg xmlns=\"http://www.w3.org/2000/svg\" xmlns:xlink=\"http://www.w3.org/1999/xlink\" width=\"100.0\" height=\"100.0\" viewBox=\"-0.04 -0.04 1.08 1.08\" preserveAspectRatio=\"xMinYMin meet\"><g transform=\"matrix(1,0,0,-1,0,1.0)\"><polyline fill=\"none\" stroke=\"#66cc99\" stroke-width=\"0.0216\" points=\"0.0,0.0 1.0,1.0 1.0,0.0 0.0,0.0\" opacity=\"0.8\" /></g></svg>"
      ],
      "text/plain": [
       "<LINEARRING (0 0, 1 1, 1 0, 0 0)>"
      ]
     },
     "execution_count": 30,
     "metadata": {},
     "output_type": "execute_result"
    }
   ],
   "source": [
    "ring = LinearRing([(0, 0), (1, 1), (1, 0)])\n",
    "ring"
   ]
  },
  {
   "cell_type": "code",
   "execution_count": 34,
   "metadata": {},
   "outputs": [
    {
     "data": {
      "text/plain": [
       "((0.0, 1.0),)"
      ]
     },
     "execution_count": 34,
     "metadata": {},
     "output_type": "execute_result"
    }
   ],
   "source": []
  },
  {
   "cell_type": "code",
   "execution_count": 37,
   "metadata": {},
   "outputs": [
    {
     "data": {
      "image/svg+xml": [
       "<svg xmlns=\"http://www.w3.org/2000/svg\" xmlns:xlink=\"http://www.w3.org/1999/xlink\" width=\"100.0\" height=\"100.0\" viewBox=\"-0.16 0.84 4.32 4.32\" preserveAspectRatio=\"xMinYMin meet\"><g transform=\"matrix(1,0,0,-1,0,6.0)\"><polyline fill=\"none\" stroke=\"#66cc99\" stroke-width=\"0.0864\" points=\"0.0,1.0 2.0,1.0 4.0,5.0 0.0,1.0\" opacity=\"0.8\" /></g></svg>"
      ],
      "text/plain": [
       "<LINEARRING (0 1, 2 1, 4 5, 0 1)>"
      ]
     },
     "execution_count": 37,
     "metadata": {},
     "output_type": "execute_result"
    }
   ],
   "source": [
    "LinearRing([list(Point(0.0, 1.0).coords)[0],(2.0, 1.0), list(Point(4.0, 5.0).coords)[0]])"
   ]
  },
  {
   "cell_type": "code",
   "execution_count": 39,
   "metadata": {},
   "outputs": [
    {
     "data": {
      "image/svg+xml": [
       "<svg xmlns=\"http://www.w3.org/2000/svg\" xmlns:xlink=\"http://www.w3.org/1999/xlink\" width=\"100.0\" height=\"100.0\" viewBox=\"-0.08 -0.08 2.16 2.16\" preserveAspectRatio=\"xMinYMin meet\"><g transform=\"matrix(1,0,0,-1,0,2.0)\"><path fill-rule=\"evenodd\" fill=\"#66cc99\" stroke=\"#555555\" stroke-width=\"0.0432\" opacity=\"0.6\" d=\"M 0.0,0.0 L 0.0,2.0 L 2.0,2.0 L 2.0,0.0 L 0.0,0.0 z M 1.0,0.0 L 1.5,0.5 L 1.0,1.0 L 0.5,0.5 L 1.0,0.0 z\" /></g></svg>"
      ],
      "text/plain": [
       "<POLYGON ((0 0, 0 2, 2 2, 2 0, 0 0), (1 0, 1.5 0.5, 1 1, 0.5 0.5, 1 0))>"
      ]
     },
     "execution_count": 39,
     "metadata": {},
     "output_type": "execute_result"
    }
   ],
   "source": [
    "# 1: valid polygon\n",
    "ax = fig.add_subplot(121)\n",
    "\n",
    "ext = [(0, 0), (0, 2), (2, 2), (2, 0), (0, 0)]\n",
    "int = [(1, 0), (0.5, 0.5), (1, 1), (1.5, 0.5), (1, 0)][::-1]\n",
    "polygon = Polygon(ext, [int])\n",
    "\n",
    "polygon\n"
   ]
  },
  {
   "cell_type": "code",
   "execution_count": 46,
   "metadata": {},
   "outputs": [
    {
     "data": {
      "text/plain": [
       "[<LINEARRING (1 0, 1.5 0.5, 1 1, 0.5 0.5, 1 0)>]"
      ]
     },
     "execution_count": 46,
     "metadata": {},
     "output_type": "execute_result"
    }
   ],
   "source": [
    "list(polygon.interiors)"
   ]
  },
  {
   "cell_type": "code",
   "execution_count": 47,
   "metadata": {},
   "outputs": [
    {
     "data": {
      "image/svg+xml": [
       "<svg xmlns=\"http://www.w3.org/2000/svg\" xmlns:xlink=\"http://www.w3.org/1999/xlink\" width=\"100.0\" height=\"100.0\" viewBox=\"-0.04 -0.04 1.08 1.08\" preserveAspectRatio=\"xMinYMin meet\"><g transform=\"matrix(1,0,0,-1,0,1.0)\"><path fill-rule=\"evenodd\" fill=\"#66cc99\" stroke=\"#555555\" stroke-width=\"0.0216\" opacity=\"0.6\" d=\"M 0.0,0.0 L 1.0,1.0 L 1.0,0.0 L 0.0,0.0 z\" /></g></svg>"
      ],
      "text/plain": [
       "<POLYGON ((0 0, 1 1, 1 0, 0 0))>"
      ]
     },
     "execution_count": 47,
     "metadata": {},
     "output_type": "execute_result"
    }
   ],
   "source": [
    "coords = [(0, 0), (1, 1), (1, 0)]\n",
    "r = LinearRing(coords)\n",
    "s = Polygon(r)\n",
    "s"
   ]
  },
  {
   "cell_type": "code",
   "execution_count": 48,
   "metadata": {},
   "outputs": [
    {
     "data": {
      "image/svg+xml": [
       "<svg xmlns=\"http://www.w3.org/2000/svg\" xmlns:xlink=\"http://www.w3.org/1999/xlink\" width=\"100.0\" height=\"100.0\" viewBox=\"-1.12 -1.12 3.24 3.24\" preserveAspectRatio=\"xMinYMin meet\"><g transform=\"matrix(1,0,0,-1,0,1.0)\"><path fill-rule=\"evenodd\" fill=\"#66cc99\" stroke=\"#555555\" stroke-width=\"0.06480000000000001\" opacity=\"0.6\" d=\"M 0.0,-1.0 L -0.09801714032956045,-0.9951847266721969 L -0.19509032201612866,-0.9807852804032303 L -0.29028467725446244,-0.9569403357322088 L -0.38268343236509034,-0.9238795325112865 L -0.4713967368259979,-0.8819212643483549 L -0.5555702330196022,-0.8314696123025452 L -0.6343932841636458,-0.7730104533627367 L -0.7071067811865477,-0.7071067811865475 L -0.7730104533627371,-0.6343932841636453 L -0.8314696123025455,-0.555570233019602 L -0.881921264348355,-0.47139673682599764 L -0.9238795325112868,-0.38268343236508967 L -0.9569403357322089,-0.2902846772544621 L -0.9807852804032304,-0.19509032201612836 L -0.9951847266721969,-0.09801714032956059 L -1.0,1.2246467991473532e-16 L -0.9951847266721968,0.09801714032956083 L -0.9807852804032304,0.1950903220161286 L -0.9569403357322088,0.2902846772544624 L -0.9238795325112867,0.3826834323650899 L -0.8819212643483549,0.47139673682599786 L -0.8314696123025453,0.5555702330196022 L -0.773010453362737,0.6343932841636455 L -0.7071067811865475,0.7071067811865475 L 0.29289321881345254,1.7071067811865475 L 0.3656067158363546,1.773010453362737 L 0.44442976698039804,1.8314696123025453 L 0.5286032631740023,1.881921264348355 L 0.6173165676349103,1.9238795325112867 L 0.7097153227455378,1.956940335732209 L 0.8049096779838718,1.9807852804032304 L 0.9019828596704393,1.995184726672197 L 1.0,2.0 L 1.0980171403295609,1.9951847266721967 L 1.1950903220161284,1.9807852804032304 L 1.2902846772544623,1.9569403357322088 L 1.3826834323650898,1.9238795325112867 L 1.471396736825998,1.881921264348355 L 1.5555702330196022,1.8314696123025453 L 1.6343932841636455,1.7730104533627369 L 1.7071067811865475,1.7071067811865475 L 1.7730104533627369,1.6343932841636453 L 1.8314696123025453,1.5555702330196022 L 1.881921264348355,1.4713967368259977 L 1.9238795325112867,1.3826834323650898 L 1.956940335732209,1.2902846772544623 L 1.9807852804032304,1.1950903220161284 L 1.995184726672197,1.0980171403295607 L 2.0,1.0 L 2.0,0.0 L 1.995184726672197,-0.0980171403295606 L 1.9807852804032304,-0.19509032201612825 L 1.9569403357322088,-0.29028467725446233 L 1.9238795325112867,-0.3826834323650898 L 1.881921264348355,-0.47139673682599764 L 1.8314696123025453,-0.5555702330196022 L 1.7730104533627369,-0.6343932841636455 L 1.7071067811865475,-0.7071067811865475 L 1.6343932841636455,-0.773010453362737 L 1.5555702330196022,-0.8314696123025452 L 1.471396736825998,-0.8819212643483549 L 1.3826834323650898,-0.9238795325112867 L 1.2902846772544623,-0.9569403357322088 L 1.1950903220161284,-0.9807852804032304 L 1.0980171403295609,-0.9951847266721968 L 1.0,-1.0 L 0.0,-1.0 z\" /></g></svg>"
      ],
      "text/plain": [
       "<POLYGON ((0 -1, -0.098 -0.995, -0.195 -0.981, -0.29 -0.957, -0.383 -0.924, ...>"
      ]
     },
     "execution_count": 48,
     "metadata": {},
     "output_type": "execute_result"
    }
   ],
   "source": [
    "s.buffer(1.0)"
   ]
  },
  {
   "cell_type": "code",
   "execution_count": 49,
   "metadata": {},
   "outputs": [
    {
     "data": {
      "image/svg+xml": [
       "<svg xmlns=\"http://www.w3.org/2000/svg\" xmlns:xlink=\"http://www.w3.org/1999/xlink\" width=\"100.0\" height=\"100.0\" viewBox=\"-0.04 -0.04 1.08 1.08\" preserveAspectRatio=\"xMinYMin meet\"><g transform=\"matrix(1,0,0,-1,0,1.0)\"><path fill-rule=\"evenodd\" fill=\"#66cc99\" stroke=\"#555555\" stroke-width=\"0.0216\" opacity=\"0.6\" d=\"M 1.0,0.0 L 1.0,1.0 L 0.0,1.0 L 0.0,0.0 L 1.0,0.0 z\" /></g></svg>"
      ],
      "text/plain": [
       "<POLYGON ((1 0, 1 1, 0 1, 0 0, 1 0))>"
      ]
     },
     "execution_count": 49,
     "metadata": {},
     "output_type": "execute_result"
    }
   ],
   "source": [
    "b = box(0.0, 0.0, 1.0, 1.0)\n",
    "b"
   ]
  },
  {
   "cell_type": "code",
   "execution_count": 50,
   "metadata": {},
   "outputs": [
    {
     "data": {
      "image/svg+xml": [
       "<svg xmlns=\"http://www.w3.org/2000/svg\" xmlns:xlink=\"http://www.w3.org/1999/xlink\" width=\"100.0\" height=\"100.0\" viewBox=\"-0.04 -0.04 1.08 1.08\" preserveAspectRatio=\"xMinYMin meet\"><g transform=\"matrix(1,0,0,-1,0,1.0)\"><polyline fill=\"none\" stroke=\"#66cc99\" stroke-width=\"0.0216\" points=\"0.0,0.0 0.0,1.0 1.0,1.0\" opacity=\"0.8\" /></g></svg>"
      ],
      "text/plain": [
       "<LINESTRING (0 0, 0 1, 1 1)>"
      ]
     },
     "execution_count": 50,
     "metadata": {},
     "output_type": "execute_result"
    }
   ],
   "source": [
    "ip = LineString([(0, 0), (0, 1), (1, 1)])\n",
    "ip"
   ]
  },
  {
   "cell_type": "code",
   "execution_count": 54,
   "metadata": {},
   "outputs": [
    {
     "data": {
      "text/plain": [
       "[(0.5, 1.0)]"
      ]
     },
     "execution_count": 54,
     "metadata": {},
     "output_type": "execute_result"
    }
   ],
   "source": [
    "m = ip.interpolate(1.5)\n",
    "list(m.coords)"
   ]
  },
  {
   "cell_type": "code",
   "execution_count": 63,
   "metadata": {},
   "outputs": [],
   "source": [
    "from functools import wraps\n",
    "def validate(func):\n",
    "    @wraps(func)\n",
    "    def wrapper(*args, **kwargs):\n",
    "        ob = func(*args, **kwargs)\n",
    "        if not ob.is_valid:\n",
    "            raise Error(\n",
    "                \"Given arguments do not determine a valid geometric object\")\n",
    "        return ob\n",
    "    return wrapper"
   ]
  },
  {
   "cell_type": "code",
   "execution_count": 65,
   "metadata": {},
   "outputs": [],
   "source": [
    "@validate  \n",
    "def ring(coordinates):\n",
    "    return LinearRing(coordinates)"
   ]
  },
  {
   "cell_type": "code",
   "execution_count": 66,
   "metadata": {},
   "outputs": [
    {
     "ename": "NameError",
     "evalue": "name 'Error' is not defined",
     "output_type": "error",
     "traceback": [
      "\u001b[0;31m---------------------------------------------------------------------------\u001b[0m",
      "\u001b[0;31mNameError\u001b[0m                                 Traceback (most recent call last)",
      "Cell \u001b[0;32mIn[66], line 2\u001b[0m\n\u001b[1;32m      1\u001b[0m coords \u001b[39m=\u001b[39m [(\u001b[39m0\u001b[39m, \u001b[39m0\u001b[39m), (\u001b[39m1\u001b[39m, \u001b[39m1\u001b[39m), (\u001b[39m1\u001b[39m, \u001b[39m-\u001b[39m\u001b[39m1\u001b[39m), (\u001b[39m0\u001b[39m, \u001b[39m1\u001b[39m)]\n\u001b[0;32m----> 2\u001b[0m ring(coords) \n",
      "Cell \u001b[0;32mIn[63], line 7\u001b[0m, in \u001b[0;36mvalidate.<locals>.wrapper\u001b[0;34m(*args, **kwargs)\u001b[0m\n\u001b[1;32m      5\u001b[0m ob \u001b[39m=\u001b[39m func(\u001b[39m*\u001b[39margs, \u001b[39m*\u001b[39m\u001b[39m*\u001b[39mkwargs)\n\u001b[1;32m      6\u001b[0m \u001b[39mif\u001b[39;00m \u001b[39mnot\u001b[39;00m ob\u001b[39m.\u001b[39mis_valid:\n\u001b[0;32m----> 7\u001b[0m     \u001b[39mraise\u001b[39;00m Error(\n\u001b[1;32m      8\u001b[0m         \u001b[39m\"\u001b[39m\u001b[39mGiven arguments do not determine a valid geometric object\u001b[39m\u001b[39m\"\u001b[39m)\n\u001b[1;32m      9\u001b[0m \u001b[39mreturn\u001b[39;00m ob\n",
      "\u001b[0;31mNameError\u001b[0m: name 'Error' is not defined"
     ]
    }
   ],
   "source": [
    "# coords = [(0, 0), (1, 1), (1, -1), (0, 1)]\n",
    "# ring(coords) "
   ]
  },
  {
   "cell_type": "code",
   "execution_count": 68,
   "metadata": {},
   "outputs": [],
   "source": [
    "p = Point(4.0, 5.0)"
   ]
  },
  {
   "cell_type": "code",
   "execution_count": 72,
   "metadata": {},
   "outputs": [
    {
     "data": {
      "image/svg+xml": [
       "<svg xmlns=\"http://www.w3.org/2000/svg\" xmlns:xlink=\"http://www.w3.org/1999/xlink\" width=\"100.0\" height=\"100.0\" viewBox=\"3.46 4.46 1.08 1.08\" preserveAspectRatio=\"xMinYMin meet\"><g transform=\"matrix(1,0,0,-1,0,10.0)\"><path fill-rule=\"evenodd\" fill=\"#66cc99\" stroke=\"#555555\" stroke-width=\"0.0216\" opacity=\"0.6\" d=\"M 4.5,5.5 L 4.5,4.5 L 3.5,4.5 L 3.5,5.5 L 4.5,5.5 z\" /></g></svg>"
      ],
      "text/plain": [
       "<POLYGON ((4.5 5.5, 4.5 4.5, 3.5 4.5, 3.5 5.5, 4.5 5.5))>"
      ]
     },
     "execution_count": 72,
     "metadata": {},
     "output_type": "execute_result"
    }
   ],
   "source": [
    "p2 = p.buffer(0.5, cap_style=3,)\n",
    "p2"
   ]
  },
  {
   "cell_type": "code",
   "execution_count": 79,
   "metadata": {},
   "outputs": [
    {
     "data": {
      "text/plain": [
       "[(4.5, 5.5), (4.5, 4.5), (3.5, 4.5), (3.5, 5.5), (4.5, 5.5)]"
      ]
     },
     "execution_count": 79,
     "metadata": {},
     "output_type": "execute_result"
    }
   ],
   "source": [
    "list(p2.boundary.coords)"
   ]
  },
  {
   "cell_type": "code",
   "execution_count": 76,
   "metadata": {},
   "outputs": [
    {
     "data": {
      "text/plain": [
       "'Polygon'"
      ]
     },
     "execution_count": 76,
     "metadata": {},
     "output_type": "execute_result"
    }
   ],
   "source": [
    "p2.geom_type"
   ]
  },
  {
   "cell_type": "code",
   "execution_count": 81,
   "metadata": {},
   "outputs": [
    {
     "data": {
      "image/svg+xml": [
       "<svg xmlns=\"http://www.w3.org/2000/svg\" xmlns:xlink=\"http://www.w3.org/1999/xlink\" width=\"100.0\" height=\"100.0\" viewBox=\"-1.0 -1.0 2.0 2.0\" preserveAspectRatio=\"xMinYMin meet\"><g transform=\"matrix(1,0,0,-1,0,0.0)\"><circle cx=\"0.0\" cy=\"0.0\" r=\"0.06\" stroke=\"#555555\" stroke-width=\"0.02\" fill=\"#66cc99\" opacity=\"0.6\" /></g></svg>"
      ],
      "text/plain": [
       "<POINT (0 0)>"
      ]
     },
     "execution_count": 81,
     "metadata": {},
     "output_type": "execute_result"
    }
   ],
   "source": [
    "Point(0, 0).envelope\n",
    "# MultiPoint([(0, 0), (1, 1)]).envelope\n"
   ]
  },
  {
   "cell_type": "code",
   "execution_count": 83,
   "metadata": {},
   "outputs": [
    {
     "data": {
      "image/svg+xml": [
       "<svg xmlns=\"http://www.w3.org/2000/svg\" xmlns:xlink=\"http://www.w3.org/1999/xlink\" width=\"100.0\" height=\"100.0\" viewBox=\"-0.2635294117647059 -0.08705882352941176 2.3505882352941176 1.3800000000000001\" preserveAspectRatio=\"xMinYMin meet\"><g transform=\"matrix(1,0,0,-1,0,1.2058823529411764)\"><path fill-rule=\"evenodd\" fill=\"#66cc99\" stroke=\"#555555\" stroke-width=\"0.04701176470588235\" opacity=\"0.6\" d=\"M 2.0,0.5 L 1.8235294117647058,1.2058823529411764 L -0.17647058823529413,0.7058823529411764 L 0.0,0.0 L 2.0,0.5 z\" /></g></svg>"
      ],
      "text/plain": [
       "<POLYGON ((2 0.5, 1.824 1.206, -0.176 0.706, 0 0, 2 0.5))>"
      ]
     },
     "execution_count": 83,
     "metadata": {},
     "output_type": "execute_result"
    }
   ],
   "source": [
    "a = MultiPoint([(0,0),(1,1),(2,0.5)]).minimum_rotated_rectangle\n",
    "a"
   ]
  },
  {
   "cell_type": "code",
   "execution_count": 89,
   "metadata": {},
   "outputs": [
    {
     "data": {
      "image/svg+xml": [
       "<svg xmlns=\"http://www.w3.org/2000/svg\" xmlns:xlink=\"http://www.w3.org/1999/xlink\" width=\"100.0\" height=\"100.0\" viewBox=\"-0.13256017424508607 0.04391041399020801 2.088649760254878 1.1180615249607604\" preserveAspectRatio=\"xMinYMin meet\"><g transform=\"matrix(1,0,0,-1,0,1.2058823529411764)\"><polyline fill=\"none\" stroke=\"#66cc99\" stroke-width=\"0.04177299520509756\" points=\"1.8787321874818335,0.5727606875108999 1.750768724253806,1.0846145404230099 -0.05520277571712762,0.6331216654302765 0.07276068751089991,0.12126781251816646 1.8787321874818335,0.5727606875108999\" opacity=\"0.8\" /></g></svg>"
      ],
      "text/plain": [
       "<LINESTRING (1.879 0.573, 1.751 1.085, -0.055 0.633, 0.073 0.121, 1.879 0.573)>"
      ]
     },
     "execution_count": 89,
     "metadata": {},
     "output_type": "execute_result"
    }
   ],
   "source": [
    "a.boundary.offset_curve(0.1)"
   ]
  },
  {
   "cell_type": "code",
   "execution_count": 90,
   "metadata": {},
   "outputs": [
    {
     "data": {
      "image/svg+xml": [
       "<svg xmlns=\"http://www.w3.org/2000/svg\" xmlns:xlink=\"http://www.w3.org/1999/xlink\" width=\"100.0\" height=\"100.0\" viewBox=\"-0.62 -0.62 3.24 3.24\" preserveAspectRatio=\"xMinYMin meet\"><g transform=\"matrix(1,0,0,-1,0,2.0)\"><path fill-rule=\"evenodd\" fill=\"#66cc99\" stroke=\"#555555\" stroke-width=\"0.06480000000000001\" opacity=\"0.6\" d=\"M 2.5,1.0 L 2.4927770900082953,0.8529742895056591 L 2.4711779206048456,0.7073645169758076 L 2.4354105035983133,0.5645729841183065 L 2.38581929876693,0.42597485145236536 L 2.3228818965225324,0.29290489476100356 L 2.247204418453818,0.16664465047059673 L 2.1595156800441053,0.04841007375453177 L 2.0606601717798214,-0.06066017177982119 L 1.9515899262454681,-0.15951568004410555 L 1.8333553495294035,-0.2472044184538178 L 1.7070951052389967,-0.3228818965225324 L 1.5740251485476349,-0.38581929876693 L 1.4354270158816935,-0.43541050359831335 L 1.2926354830241924,-0.47117792060484565 L 1.147025710494341,-0.4927770900082953 L 1.0,-0.5 L 0.852974289505659,-0.4927770900082953 L 0.7073645169758077,-0.47117792060484565 L 0.5645729841183067,-0.43541050359831335 L 0.42597485145236536,-0.38581929876693 L 0.29290489476100345,-0.32288189652253263 L 0.16664465047059707,-0.24720441845381802 L 0.04841007375453188,-0.15951568004410577 L -0.06066017177982119,-0.060660171779821415 L -0.15951568004410555,0.04841007375453177 L -0.24720441845381802,0.16664465047059673 L -0.3228818965225324,0.29290489476100323 L -0.38581929876693,0.42597485145236513 L -0.43541050359831335,0.5645729841183065 L -0.47117792060484565,0.7073645169758072 L -0.4927770900082953,0.8529742895056588 L -0.5,0.9999999999999998 L -0.4927770900082953,1.1470257104943409 L -0.47117792060484565,1.2926354830241924 L -0.43541050359831335,1.435427015881693 L -0.3858192987669302,1.5740251485476344 L -0.32288189652253263,1.7070951052389964 L -0.24720441845381824,1.8333553495294028 L -0.15951568004410577,1.951589926245468 L -0.060660171779821415,2.060660171779821 L 0.04841007375453121,2.159515680044105 L 0.16664465047059673,2.247204418453818 L 0.2929048947610031,2.3228818965225324 L 0.42597485145236447,2.38581929876693 L 0.5645729841183064,2.4354105035983133 L 0.7073645169758069,2.4711779206048456 L 0.8529742895056593,2.4927770900082953 L 0.9999999999999998,2.5 L 1.1470257104943402,2.4927770900082953 L 1.2926354830241924,2.4711779206048456 L 1.435427015881693,2.4354105035983133 L 1.5740251485476349,2.38581929876693 L 1.7070951052389964,2.3228818965225324 L 1.8333553495294028,2.2472044184538182 L 1.9515899262454683,2.1595156800441053 L 2.060660171779821,2.0606601717798214 L 2.159515680044105,1.951589926245469 L 2.247204418453818,1.8333553495294033 L 2.3228818965225324,1.7070951052389969 L 2.38581929876693,1.5740251485476355 L 2.4354105035983133,1.4354270158816937 L 2.4711779206048456,1.292635483024193 L 2.4927770900082953,1.1470257104943409 L 2.5,1.0 z\" /></g></svg>"
      ],
      "text/plain": [
       "<POLYGON ((2.5 1, 2.493 0.853, 2.471 0.707, 2.435 0.565, 2.386 0.426, 2.323 ...>"
      ]
     },
     "execution_count": 90,
     "metadata": {},
     "output_type": "execute_result"
    }
   ],
   "source": [
    "p = Point(1, 1).buffer(1.5)\n",
    "p"
   ]
  },
  {
   "cell_type": "code",
   "execution_count": 91,
   "metadata": {},
   "outputs": [
    {
     "data": {
      "image/svg+xml": [
       "<svg xmlns=\"http://www.w3.org/2000/svg\" xmlns:xlink=\"http://www.w3.org/1999/xlink\" width=\"100.0\" height=\"100.0\" viewBox=\"-0.62 -0.62 3.24 3.24\" preserveAspectRatio=\"xMinYMin meet\"><g transform=\"matrix(1,0,0,-1,0,2.0)\"><path fill-rule=\"evenodd\" fill=\"#66cc99\" stroke=\"#555555\" stroke-width=\"0.06480000000000001\" opacity=\"0.6\" d=\"M 2.5,1.0 L 2.0606601717798214,-0.06066017177982119 L 1.0,-0.5 L -0.06066017177982119,-0.060660171779821415 L -0.5,0.9999999999999998 L -0.060660171779821415,2.060660171779821 L 0.9999999999999998,2.5 L 2.060660171779821,2.0606601717798214 L 2.5,1.0 z\" /></g></svg>"
      ],
      "text/plain": [
       "<POLYGON ((2.5 1, 2.061 -0.061, 1 -0.5, -0.061 -0.061, -0.5 1, -0.061 2.061,...>"
      ]
     },
     "execution_count": 91,
     "metadata": {},
     "output_type": "execute_result"
    }
   ],
   "source": [
    "q = p.simplify(0.2)\n",
    "q"
   ]
  },
  {
   "cell_type": "code",
   "execution_count": 93,
   "metadata": {},
   "outputs": [
    {
     "ename": "TypeError",
     "evalue": "One of the arguments is of incorrect type. Please provide only Geometry objects.",
     "output_type": "error",
     "traceback": [
      "\u001b[0;31m---------------------------------------------------------------------------\u001b[0m",
      "\u001b[0;31mTypeError\u001b[0m                                 Traceback (most recent call last)",
      "Cell \u001b[0;32mIn[93], line 10\u001b[0m\n\u001b[1;32m      1\u001b[0m lines \u001b[39m=\u001b[39m [\n\u001b[1;32m      2\u001b[0m     ((\u001b[39m0\u001b[39m, \u001b[39m0\u001b[39m), (\u001b[39m1\u001b[39m, \u001b[39m1\u001b[39m)),\n\u001b[1;32m      3\u001b[0m     ((\u001b[39m0\u001b[39m, \u001b[39m0\u001b[39m), (\u001b[39m0\u001b[39m, \u001b[39m1\u001b[39m)),\n\u001b[0;32m   (...)\u001b[0m\n\u001b[1;32m      8\u001b[0m     ((\u001b[39m1\u001b[39m, \u001b[39m1\u001b[39m), (\u001b[39m100\u001b[39m, \u001b[39m100\u001b[39m)),\n\u001b[1;32m      9\u001b[0m     ]\n\u001b[0;32m---> 10\u001b[0m result, cuts, dangles, invalids \u001b[39m=\u001b[39m polygonize_full(lines)\n",
      "File \u001b[0;32m~/_UILCode/windows/localwindowsenv/lib/python3.9/site-packages/shapely/constructive.py:741\u001b[0m, in \u001b[0;36mpolygonize_full\u001b[0;34m(geometries, **kwargs)\u001b[0m\n\u001b[1;32m    684\u001b[0m \u001b[39mdef\u001b[39;00m \u001b[39mpolygonize_full\u001b[39m(geometries, \u001b[39m*\u001b[39m\u001b[39m*\u001b[39mkwargs):\n\u001b[1;32m    685\u001b[0m     \u001b[39m\"\"\"Creates polygons formed from the linework of a set of Geometries and\u001b[39;00m\n\u001b[1;32m    686\u001b[0m \u001b[39m    return all extra outputs as well.\u001b[39;00m\n\u001b[1;32m    687\u001b[0m \n\u001b[0;32m   (...)\u001b[0m\n\u001b[1;32m    739\u001b[0m \u001b[39m     <GEOMETRYCOLLECTION EMPTY>)\u001b[39;00m\n\u001b[1;32m    740\u001b[0m \u001b[39m    \"\"\"\u001b[39;00m\n\u001b[0;32m--> 741\u001b[0m     \u001b[39mreturn\u001b[39;00m lib\u001b[39m.\u001b[39;49mpolygonize_full(geometries, \u001b[39m*\u001b[39;49m\u001b[39m*\u001b[39;49mkwargs)\n",
      "\u001b[0;31mTypeError\u001b[0m: One of the arguments is of incorrect type. Please provide only Geometry objects."
     ]
    }
   ],
   "source": [
    "lines = [\n",
    "    ((0, 0), (1, 1)),\n",
    "    ((0, 0), (0, 1)),\n",
    "    ((0, 1), (1, 1)),\n",
    "    ((1, 1), (1, 0)),\n",
    "    ((1, 0), (0, 0)),\n",
    "    ((5, 5), (6, 6)),\n",
    "    ((1, 1), (100, 100)),\n",
    "    ]\n",
    "result, cuts, dangles, invalids = polygonize_full(lines)"
   ]
  },
  {
   "cell_type": "code",
   "execution_count": 98,
   "metadata": {},
   "outputs": [],
   "source": [
    "from shapely.ops import *"
   ]
  },
  {
   "cell_type": "code",
   "execution_count": 97,
   "metadata": {},
   "outputs": [
    {
     "data": {
      "image/svg+xml": [
       "<svg xmlns=\"http://www.w3.org/2000/svg\" xmlns:xlink=\"http://www.w3.org/1999/xlink\" width=\"100.0\" height=\"100.0\" viewBox=\"-3.36 -3.36 9.72 8.72\" preserveAspectRatio=\"xMinYMin meet\"><g transform=\"matrix(1,0,0,-1,0,2.0000000000000004)\"><g><path fill-rule=\"evenodd\" fill=\"#66cc99\" stroke=\"#555555\" stroke-width=\"0.19440000000000002\" opacity=\"0.6\" d=\"M 2.0,1.0 L 2.0,0.5 L 0.5,0.5 L 0.0,1.0 L 1.0,2.0 L 2.0,1.0 z\" /><path fill-rule=\"evenodd\" fill=\"#66cc99\" stroke=\"#555555\" stroke-width=\"0.19440000000000002\" opacity=\"0.6\" d=\"M 6.0,-3.0 L 3.75,-3.0 L 2.0,0.5 L 2.0,1.0 L 6.0,5.0 L 6.0,-3.0 z\" /><path fill-rule=\"evenodd\" fill=\"#66cc99\" stroke=\"#555555\" stroke-width=\"0.19440000000000002\" opacity=\"0.6\" d=\"M -3.0,-3.0 L -3.0,1.0 L 0.0,1.0 L 0.5,0.5 L 0.5,-3.0 L -3.0,-3.0 z\" /><path fill-rule=\"evenodd\" fill=\"#66cc99\" stroke=\"#555555\" stroke-width=\"0.19440000000000002\" opacity=\"0.6\" d=\"M 0.5,-3.0 L 0.5,0.5 L 2.0,0.5 L 3.75,-3.0 L 0.5,-3.0 z\" /><path fill-rule=\"evenodd\" fill=\"#66cc99\" stroke=\"#555555\" stroke-width=\"0.19440000000000002\" opacity=\"0.6\" d=\"M -3.0,5.0 L 1.0,5.0 L 1.0,2.0 L 0.0,1.0 L -3.0,1.0 L -3.0,5.0 z\" /><path fill-rule=\"evenodd\" fill=\"#66cc99\" stroke=\"#555555\" stroke-width=\"0.19440000000000002\" opacity=\"0.6\" d=\"M 6.0,5.0 L 2.0,1.0 L 1.0,2.0 L 1.0,5.0 L 6.0,5.0 z\" /></g></g></svg>"
      ],
      "text/plain": [
       "<GEOMETRYCOLLECTION (POLYGON ((2 1, 2 0.5, 0.5 0.5, 0 1, 1 2, 2 1)), POLYGON...>"
      ]
     },
     "execution_count": 97,
     "metadata": {},
     "output_type": "execute_result"
    }
   ],
   "source": [
    "points = MultiPoint([(0, 0), (1, 1), (0, 2), (2, 2), (3, 1), (1, 0)])\n",
    "regions = voronoi_diagram(points)\n",
    "regions"
   ]
  },
  {
   "cell_type": "code",
   "execution_count": 99,
   "metadata": {},
   "outputs": [],
   "source": [
    "square = Polygon([(1,1), (2, 1), (2, 2), (1, 2), (1, 1)])\n",
    "line = LineString([(0,0), (0.8, 0.8), (1.8, 0.95), (2.6, 0.5)])"
   ]
  },
  {
   "cell_type": "code",
   "execution_count": 101,
   "metadata": {},
   "outputs": [
    {
     "data": {
      "image/svg+xml": [
       "<svg xmlns=\"http://www.w3.org/2000/svg\" xmlns:xlink=\"http://www.w3.org/1999/xlink\" width=\"100.0\" height=\"100.0\" viewBox=\"0.96 0.96 1.08 1.08\" preserveAspectRatio=\"xMinYMin meet\"><g transform=\"matrix(1,0,0,-1,0,3.0)\"><path fill-rule=\"evenodd\" fill=\"#66cc99\" stroke=\"#555555\" stroke-width=\"0.0216\" opacity=\"0.6\" d=\"M 1.0,1.0 L 2.0,1.0 L 2.0,2.0 L 1.0,2.0 L 1.0,1.0 z\" /></g></svg>"
      ],
      "text/plain": [
       "<POLYGON ((1 1, 2 1, 2 2, 1 2, 1 1))>"
      ]
     },
     "execution_count": 101,
     "metadata": {},
     "output_type": "execute_result"
    }
   ],
   "source": [
    "square"
   ]
  },
  {
   "cell_type": "code",
   "execution_count": 102,
   "metadata": {},
   "outputs": [
    {
     "data": {
      "image/svg+xml": [
       "<svg xmlns=\"http://www.w3.org/2000/svg\" xmlns:xlink=\"http://www.w3.org/1999/xlink\" width=\"100.0\" height=\"100.0\" viewBox=\"-0.10400000000000001 -0.10400000000000001 2.8080000000000003 1.1580000000000001\" preserveAspectRatio=\"xMinYMin meet\"><g transform=\"matrix(1,0,0,-1,0,0.9500000000000001)\"><polyline fill=\"none\" stroke=\"#66cc99\" stroke-width=\"0.05616000000000001\" points=\"0.0,0.0 0.8,0.8 1.8,0.95 2.6,0.5\" opacity=\"0.8\" /></g></svg>"
      ],
      "text/plain": [
       "<LINESTRING (0 0, 0.8 0.8, 1.8 0.95, 2.6 0.5)>"
      ]
     },
     "execution_count": 102,
     "metadata": {},
     "output_type": "execute_result"
    }
   ],
   "source": [
    "line"
   ]
  },
  {
   "cell_type": "code",
   "execution_count": 100,
   "metadata": {},
   "outputs": [
    {
     "data": {
      "image/svg+xml": [
       "<svg xmlns=\"http://www.w3.org/2000/svg\" xmlns:xlink=\"http://www.w3.org/1999/xlink\" width=\"100.0\" height=\"100.0\" viewBox=\"-0.10400000000000001 -0.10400000000000001 2.8080000000000003 1.2080000000000002\" preserveAspectRatio=\"xMinYMin meet\"><g transform=\"matrix(1,0,0,-1,0,1.0)\"><polyline fill=\"none\" stroke=\"#66cc99\" stroke-width=\"0.05616000000000001\" points=\"0.0,0.0 1.0,1.0 2.0,1.0 2.6,0.5\" opacity=\"0.8\" /></g></svg>"
      ],
      "text/plain": [
       "<LINESTRING (0 0, 1 1, 2 1, 2.6 0.5)>"
      ]
     },
     "execution_count": 100,
     "metadata": {},
     "output_type": "execute_result"
    }
   ],
   "source": [
    "result = snap(line, square, 0.5)\n",
    "result"
   ]
  },
  {
   "cell_type": "code",
   "execution_count": 103,
   "metadata": {},
   "outputs": [],
   "source": [
    "g1 = LineString([(0, 0), (10, 0), (10, 5), (20, 5)])\n",
    "g2 = LineString([(5, 0), (30, 0), (30, 5), (0, 5)])\n",
    "forward, backward = shared_paths(g1, g2).geoms"
   ]
  },
  {
   "cell_type": "code",
   "execution_count": 105,
   "metadata": {},
   "outputs": [
    {
     "data": {
      "image/svg+xml": [
       "<svg xmlns=\"http://www.w3.org/2000/svg\" xmlns:xlink=\"http://www.w3.org/1999/xlink\" width=\"100.0\" height=\"100.0\" viewBox=\"-0.8 -0.8 21.6 6.6\" preserveAspectRatio=\"xMinYMin meet\"><g transform=\"matrix(1,0,0,-1,0,5.0)\"><polyline fill=\"none\" stroke=\"#66cc99\" stroke-width=\"0.43200000000000005\" points=\"0.0,0.0 10.0,0.0 10.0,5.0 20.0,5.0\" opacity=\"0.8\" /></g></svg>"
      ],
      "text/plain": [
       "<LINESTRING (0 0, 10 0, 10 5, 20 5)>"
      ]
     },
     "execution_count": 105,
     "metadata": {},
     "output_type": "execute_result"
    }
   ],
   "source": [
    "g1"
   ]
  },
  {
   "cell_type": "code",
   "execution_count": 106,
   "metadata": {},
   "outputs": [
    {
     "data": {
      "image/svg+xml": [
       "<svg xmlns=\"http://www.w3.org/2000/svg\" xmlns:xlink=\"http://www.w3.org/1999/xlink\" width=\"100.0\" height=\"100.0\" viewBox=\"-1.2 -1.2 32.4 7.4\" preserveAspectRatio=\"xMinYMin meet\"><g transform=\"matrix(1,0,0,-1,0,5.0)\"><polyline fill=\"none\" stroke=\"#66cc99\" stroke-width=\"0.648\" points=\"5.0,0.0 30.0,0.0 30.0,5.0 0.0,5.0\" opacity=\"0.8\" /></g></svg>"
      ],
      "text/plain": [
       "<LINESTRING (5 0, 30 0, 30 5, 0 5)>"
      ]
     },
     "execution_count": 106,
     "metadata": {},
     "output_type": "execute_result"
    }
   ],
   "source": [
    "g2"
   ]
  },
  {
   "cell_type": "code",
   "execution_count": 104,
   "metadata": {},
   "outputs": [
    {
     "data": {
      "image/svg+xml": [
       "<svg xmlns=\"http://www.w3.org/2000/svg\" xmlns:xlink=\"http://www.w3.org/1999/xlink\" width=\"100.0\" height=\"100.0\" viewBox=\"4.8 -0.2 5.3999999999999995 0.4\" preserveAspectRatio=\"xMinYMin meet\"><g transform=\"matrix(1,0,0,-1,0,0.0)\"><g><polyline fill=\"none\" stroke=\"#66cc99\" stroke-width=\"0.10799999999999998\" points=\"5.0,0.0 10.0,0.0\" opacity=\"0.8\" /></g></g></svg>"
      ],
      "text/plain": [
       "<MULTILINESTRING ((5 0, 10 0))>"
      ]
     },
     "execution_count": 104,
     "metadata": {},
     "output_type": "execute_result"
    }
   ],
   "source": [
    "forward"
   ]
  },
  {
   "cell_type": "code",
   "execution_count": 107,
   "metadata": {},
   "outputs": [],
   "source": [
    "points = [Point(i, i) for i in range(10)]\n",
    "tree = STRtree(points)\n",
    "query_geom = Point(2,2).buffer(0.99) #"
   ]
  },
  {
   "cell_type": "code",
   "execution_count": 108,
   "metadata": {},
   "outputs": [
    {
     "data": {
      "text/plain": [
       "[<POINT (0 0)>,\n",
       " <POINT (1 1)>,\n",
       " <POINT (2 2)>,\n",
       " <POINT (3 3)>,\n",
       " <POINT (4 4)>,\n",
       " <POINT (5 5)>,\n",
       " <POINT (6 6)>,\n",
       " <POINT (7 7)>,\n",
       " <POINT (8 8)>,\n",
       " <POINT (9 9)>]"
      ]
     },
     "execution_count": 108,
     "metadata": {},
     "output_type": "execute_result"
    }
   ],
   "source": [
    "points"
   ]
  },
  {
   "cell_type": "code",
   "execution_count": 109,
   "metadata": {},
   "outputs": [
    {
     "data": {
      "text/plain": [
       "['POINT (2 2)']"
      ]
     },
     "execution_count": 109,
     "metadata": {},
     "output_type": "execute_result"
    }
   ],
   "source": [
    "[points[idx].wkt for idx in tree.query(query_geom)]"
   ]
  }
 ],
 "metadata": {
  "kernelspec": {
   "display_name": "localwindowsenv",
   "language": "python",
   "name": "python3"
  },
  "language_info": {
   "codemirror_mode": {
    "name": "ipython",
    "version": 3
   },
   "file_extension": ".py",
   "mimetype": "text/x-python",
   "name": "python",
   "nbconvert_exporter": "python",
   "pygments_lexer": "ipython3",
   "version": "3.9.15"
  },
  "orig_nbformat": 4
 },
 "nbformat": 4,
 "nbformat_minor": 2
}
