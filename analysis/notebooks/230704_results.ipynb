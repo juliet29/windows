{
 "cells": [
  {
   "cell_type": "code",
   "execution_count": 99,
   "metadata": {},
   "outputs": [],
   "source": [
    "import plotly.graph_objects as go\n",
    "import plotly.express as px\n",
    "from plotly.subplots import make_subplots\n",
    "import plotly.io as pio\n",
    "import pandas as pd\n",
    "import numpy as np\n",
    "\n",
    "\n",
    "import sys\n",
    "sys.path.insert(0, \"../scripts\")\n",
    "import ml_window as m \n",
    "import helpers as h\n",
    "\n",
    "import json \n"
   ]
  },
  {
   "cell_type": "code",
   "execution_count": 100,
   "metadata": {},
   "outputs": [],
   "source": [
    "# macro f1 score...\n",
    "with open(\"../constants/svm_metrics_230704.json\") as f:\n",
    "    svm_data =json.load(f)\n",
    "\n",
    "with open(\"../constants/ewm_metrics_230704.json\") as f:\n",
    "    ewm_data =json.load(f)"
   ]
  },
  {
   "cell_type": "code",
   "execution_count": 101,
   "metadata": {},
   "outputs": [
    {
     "data": {
      "text/plain": [
       "{'name': ['amb_minus_meas_temp',\n",
       "  'meas_minus_deriv_temp',\n",
       "  'meas_minus_deriv_rh'],\n",
       " 'metrics': {'standard': {'macro avg f1-score': 0.574},\n",
       "  'drdr': {'unbounded acc': -10.88, 'bounded acc': 0.1},\n",
       "  'custom': {'(hits + near hits)/guesses': 0.595, 'guesses/actions': 2.846}}}"
      ]
     },
     "execution_count": 101,
     "metadata": {},
     "output_type": "execute_result"
    }
   ],
   "source": [
    "svm_data[\"exp_A\"][\"0\"]"
   ]
  },
  {
   "cell_type": "code",
   "execution_count": 102,
   "metadata": {},
   "outputs": [],
   "source": [
    "def sort_and_return_quick_result(all_results, data_type=\"svm\"):\n",
    "    print(data_type)\n",
    "    if data_type==\"svm\":\n",
    "        sorted_results = sorted(all_results.items(), key=lambda x:x[1][\"metrics\"][\"standard\"][\"macro avg f1-score\"], reverse=True)\n",
    "        quick_res = [\n",
    "            {\n",
    "            \"name\": v[\"name\"],\n",
    "            \"val\": v[\"metrics\"][\"standard\"][\"macro avg f1-score\"] \n",
    "            }\n",
    "            for k,v in sorted_results]\n",
    "    else:\n",
    "        sorted_results = sorted(all_results.items(), key=lambda x:x[1][\"standard\"][\"macro avg\"][\"f1-score\"], reverse=True)\n",
    "        quick_res = [\n",
    "        {\n",
    "            \"name\": k,\n",
    "            \"val\":  v[\"standard\"][\"macro avg\"][\"f1-score\"],\n",
    "        }\n",
    "        for k,v in sorted_results]\n",
    "    return quick_res, sorted_results "
   ]
  },
  {
   "cell_type": "code",
   "execution_count": 163,
   "metadata": {},
   "outputs": [
    {
     "name": "stdout",
     "output_type": "stream",
     "text": [
      "ewm\n"
     ]
    },
    {
     "data": {
      "text/plain": [
       "[{'name': 'z=1', 'val': 0.7242424242424242},\n",
       " {'name': 'z=2', 'val': 0.5824526404952461}]"
      ]
     },
     "execution_count": 163,
     "metadata": {},
     "output_type": "execute_result"
    }
   ],
   "source": [
    "quick, slow = sort_and_return_quick_result(ewm_data[\"exp_A\"], \"ewm\")\n",
    "quick"
   ]
  },
  {
   "cell_type": "code",
   "execution_count": null,
   "metadata": {},
   "outputs": [],
   "source": [
    "[i for i in ]"
   ]
  },
  {
   "cell_type": "code",
   "execution_count": 104,
   "metadata": {},
   "outputs": [
    {
     "data": {
      "text/plain": [
       "0.574"
      ]
     },
     "execution_count": 104,
     "metadata": {},
     "output_type": "execute_result"
    }
   ],
   "source": [
    "svm_data[\"exp_A\"][\"0\"][\"metrics\"][\"standard\"][\"macro avg f1-score\"]"
   ]
  },
  {
   "cell_type": "code",
   "execution_count": 110,
   "metadata": {},
   "outputs": [
    {
     "name": "stdout",
     "output_type": "stream",
     "text": [
      "svm\n"
     ]
    }
   ],
   "source": [
    "quick, slow = sort_and_return_quick_result(svm_data[\"exp_A\"], \"svm\")\n",
    "# quick"
   ]
  },
  {
   "cell_type": "code",
   "execution_count": 106,
   "metadata": {},
   "outputs": [
    {
     "data": {
      "text/plain": [
       "['exp_A', 'exp_B', 'exp_C']"
      ]
     },
     "execution_count": 106,
     "metadata": {},
     "output_type": "execute_result"
    }
   ],
   "source": [
    "exps = list(svm_data.keys())\n",
    "exps"
   ]
  },
  {
   "cell_type": "code",
   "execution_count": 152,
   "metadata": {},
   "outputs": [
    {
     "data": {
      "text/plain": [
       "[{'name': 'z=1', 'val': 0.7242424242424242, 'chart_name': 'EWM'},\n",
       " {'name': ['dt_meas_temp', 'dt_meas_rh'], 'val': 0.709, 'chart_name': 'SVM_1'},\n",
       " {'name': ['meas_temp', 'meas_rh', 'dt_meas_temp', 'dt_amb_rh'],\n",
       "  'val': 0.699,\n",
       "  'chart_name': 'SVM_2'},\n",
       " {'name': ['meas_temp', 'meas_rh', 'dt_meas_temp', 'dt_amb_temp'],\n",
       "  'val': 0.694,\n",
       "  'chart_name': 'SVM_3'}]"
      ]
     },
     "execution_count": 152,
     "metadata": {},
     "output_type": "execute_result"
    }
   ],
   "source": [
    "data_pts[\"exp_A\"]"
   ]
  },
  {
   "cell_type": "code",
   "execution_count": 166,
   "metadata": {},
   "outputs": [
    {
     "name": "stdout",
     "output_type": "stream",
     "text": [
      "[{'name': 'z=1', 'val': 0.7242424242424242, 'chart_name': 'EWM'}]\n"
     ]
    }
   ],
   "source": [
    "res = filter(lambda x: True if x[\"name\"] == \"z=1\" else False, data_pts[\"exp_A\"])\n",
    "print(list(res))"
   ]
  },
  {
   "cell_type": "code",
   "execution_count": 178,
   "metadata": {},
   "outputs": [
    {
     "name": "stdout",
     "output_type": "stream",
     "text": [
      "ewm\n",
      "svm\n",
      "ewm\n",
      "svm\n",
      "ewm\n",
      "svm\n"
     ]
    }
   ],
   "source": [
    "data_pts = {}\n",
    "for exp in exps:\n",
    "    data_pts[exp] = []\n",
    "    for type, data in zip([\"ewm\", \"svm\"], [ewm_data, svm_data]):\n",
    "        quick, slow = sort_and_return_quick_result(data[exp], type)\n",
    "        if type == \"ewm\":\n",
    "            res = list(filter(lambda x: True if x[\"name\"] == \"z=1\" else False, quick))\n",
    "            data_pts[exp].append(res[0])\n",
    "            data_pts[exp][0][\"chart_name\"] = \"EWM\"\n",
    "        else:\n",
    "            data_pts[exp].extend(quick[0:3])\n",
    "            for i in range(3):\n",
    "                data_pts[exp][i+1][\"chart_name\"] = f\"SVM_{i+1}\"\n",
    "\n",
    "\n",
    "\n",
    "\n",
    "\n",
    "\n"
   ]
  },
  {
   "cell_type": "code",
   "execution_count": 179,
   "metadata": {},
   "outputs": [
    {
     "data": {
      "text/plain": [
       "[{'name': 'z=1', 'val': 0.7242424242424242, 'chart_name': 'EWM'},\n",
       " {'name': ['dt_meas_temp', 'dt_meas_rh'], 'val': 0.709, 'chart_name': 'SVM_1'},\n",
       " {'name': ['meas_temp', 'meas_rh', 'dt_meas_temp', 'dt_amb_rh'],\n",
       "  'val': 0.699,\n",
       "  'chart_name': 'SVM_2'},\n",
       " {'name': ['meas_temp', 'meas_rh', 'dt_meas_temp', 'dt_amb_temp'],\n",
       "  'val': 0.694,\n",
       "  'chart_name': 'SVM_3'}]"
      ]
     },
     "execution_count": 179,
     "metadata": {},
     "output_type": "execute_result"
    }
   ],
   "source": [
    "data_pts[\"exp_A\"]"
   ]
  },
  {
   "cell_type": "code",
   "execution_count": 180,
   "metadata": {},
   "outputs": [],
   "source": [
    "for k,v in data_pts.items():\n",
    "    for small_dict in v:\n",
    "        small_dict[\"exp\"] = k"
   ]
  },
  {
   "cell_type": "code",
   "execution_count": 181,
   "metadata": {},
   "outputs": [],
   "source": [
    "data_list = sum(data_pts.values(), [])"
   ]
  },
  {
   "cell_type": "code",
   "execution_count": 182,
   "metadata": {},
   "outputs": [
    {
     "data": {
      "text/html": [
       "<div>\n",
       "<style scoped>\n",
       "    .dataframe tbody tr th:only-of-type {\n",
       "        vertical-align: middle;\n",
       "    }\n",
       "\n",
       "    .dataframe tbody tr th {\n",
       "        vertical-align: top;\n",
       "    }\n",
       "\n",
       "    .dataframe thead th {\n",
       "        text-align: right;\n",
       "    }\n",
       "</style>\n",
       "<table border=\"1\" class=\"dataframe\">\n",
       "  <thead>\n",
       "    <tr style=\"text-align: right;\">\n",
       "      <th></th>\n",
       "      <th>name</th>\n",
       "      <th>val</th>\n",
       "      <th>chart_name</th>\n",
       "      <th>exp</th>\n",
       "    </tr>\n",
       "  </thead>\n",
       "  <tbody>\n",
       "    <tr>\n",
       "      <th>0</th>\n",
       "      <td>z=1</td>\n",
       "      <td>0.724242</td>\n",
       "      <td>EWM</td>\n",
       "      <td>exp_A</td>\n",
       "    </tr>\n",
       "    <tr>\n",
       "      <th>1</th>\n",
       "      <td>[dt_meas_temp, dt_meas_rh]</td>\n",
       "      <td>0.709000</td>\n",
       "      <td>SVM_1</td>\n",
       "      <td>exp_A</td>\n",
       "    </tr>\n",
       "    <tr>\n",
       "      <th>2</th>\n",
       "      <td>[meas_temp, meas_rh, dt_meas_temp, dt_amb_rh]</td>\n",
       "      <td>0.699000</td>\n",
       "      <td>SVM_2</td>\n",
       "      <td>exp_A</td>\n",
       "    </tr>\n",
       "    <tr>\n",
       "      <th>3</th>\n",
       "      <td>[meas_temp, meas_rh, dt_meas_temp, dt_amb_temp]</td>\n",
       "      <td>0.694000</td>\n",
       "      <td>SVM_3</td>\n",
       "      <td>exp_A</td>\n",
       "    </tr>\n",
       "    <tr>\n",
       "      <th>4</th>\n",
       "      <td>z=1</td>\n",
       "      <td>0.461721</td>\n",
       "      <td>EWM</td>\n",
       "      <td>exp_B</td>\n",
       "    </tr>\n",
       "    <tr>\n",
       "      <th>5</th>\n",
       "      <td>[amb_rh]</td>\n",
       "      <td>0.445000</td>\n",
       "      <td>SVM_1</td>\n",
       "      <td>exp_B</td>\n",
       "    </tr>\n",
       "    <tr>\n",
       "      <th>6</th>\n",
       "      <td>[amb_temp]</td>\n",
       "      <td>0.424000</td>\n",
       "      <td>SVM_2</td>\n",
       "      <td>exp_B</td>\n",
       "    </tr>\n",
       "    <tr>\n",
       "      <th>7</th>\n",
       "      <td>[amb_temp, dt_meas_temp, dt_amb_temp, dt_amb_rh]</td>\n",
       "      <td>0.419000</td>\n",
       "      <td>SVM_3</td>\n",
       "      <td>exp_B</td>\n",
       "    </tr>\n",
       "    <tr>\n",
       "      <th>8</th>\n",
       "      <td>z=1</td>\n",
       "      <td>0.437793</td>\n",
       "      <td>EWM</td>\n",
       "      <td>exp_C</td>\n",
       "    </tr>\n",
       "    <tr>\n",
       "      <th>9</th>\n",
       "      <td>[amb_temp, amb_rh]</td>\n",
       "      <td>0.626000</td>\n",
       "      <td>SVM_1</td>\n",
       "      <td>exp_C</td>\n",
       "    </tr>\n",
       "    <tr>\n",
       "      <th>10</th>\n",
       "      <td>[amb_temp]</td>\n",
       "      <td>0.610000</td>\n",
       "      <td>SVM_2</td>\n",
       "      <td>exp_C</td>\n",
       "    </tr>\n",
       "    <tr>\n",
       "      <th>11</th>\n",
       "      <td>[meas_rh, amb_temp, amb_rh]</td>\n",
       "      <td>0.609000</td>\n",
       "      <td>SVM_3</td>\n",
       "      <td>exp_C</td>\n",
       "    </tr>\n",
       "  </tbody>\n",
       "</table>\n",
       "</div>"
      ],
      "text/plain": [
       "                                                name       val chart_name  \\\n",
       "0                                                z=1  0.724242        EWM   \n",
       "1                         [dt_meas_temp, dt_meas_rh]  0.709000      SVM_1   \n",
       "2      [meas_temp, meas_rh, dt_meas_temp, dt_amb_rh]  0.699000      SVM_2   \n",
       "3    [meas_temp, meas_rh, dt_meas_temp, dt_amb_temp]  0.694000      SVM_3   \n",
       "4                                                z=1  0.461721        EWM   \n",
       "5                                           [amb_rh]  0.445000      SVM_1   \n",
       "6                                         [amb_temp]  0.424000      SVM_2   \n",
       "7   [amb_temp, dt_meas_temp, dt_amb_temp, dt_amb_rh]  0.419000      SVM_3   \n",
       "8                                                z=1  0.437793        EWM   \n",
       "9                                 [amb_temp, amb_rh]  0.626000      SVM_1   \n",
       "10                                        [amb_temp]  0.610000      SVM_2   \n",
       "11                       [meas_rh, amb_temp, amb_rh]  0.609000      SVM_3   \n",
       "\n",
       "      exp  \n",
       "0   exp_A  \n",
       "1   exp_A  \n",
       "2   exp_A  \n",
       "3   exp_A  \n",
       "4   exp_B  \n",
       "5   exp_B  \n",
       "6   exp_B  \n",
       "7   exp_B  \n",
       "8   exp_C  \n",
       "9   exp_C  \n",
       "10  exp_C  \n",
       "11  exp_C  "
      ]
     },
     "execution_count": 182,
     "metadata": {},
     "output_type": "execute_result"
    }
   ],
   "source": [
    "df = pd.DataFrame(data_list)\n",
    "df"
   ]
  },
  {
   "cell_type": "code",
   "execution_count": 190,
   "metadata": {},
   "outputs": [
    {
     "data": {
      "application/vnd.plotly.v1+json": {
       "config": {
        "plotlyServerURL": "https://plotly.com"
       },
       "data": [
        {
         "alignmentgroup": "True",
         "boxpoints": "all",
         "fillcolor": "rgba(255,255,255,0)",
         "hoveron": "points",
         "hovertemplate": "exp=exp_A<br>chart_name=%{x}<br>val=%{y}<extra></extra>",
         "legendgroup": "exp_A",
         "line": {
          "color": "rgba(255,255,255,0)"
         },
         "marker": {
          "color": "#636efa"
         },
         "name": "exp_A",
         "offsetgroup": "exp_A",
         "orientation": "v",
         "pointpos": 0,
         "showlegend": true,
         "type": "box",
         "x": [
          "EWM",
          "SVM_1",
          "SVM_2",
          "SVM_3"
         ],
         "x0": " ",
         "xaxis": "x",
         "y": [
          0.7242424242424242,
          0.709,
          0.699,
          0.694
         ],
         "y0": " ",
         "yaxis": "y"
        },
        {
         "alignmentgroup": "True",
         "boxpoints": "all",
         "fillcolor": "rgba(255,255,255,0)",
         "hoveron": "points",
         "hovertemplate": "exp=exp_B<br>chart_name=%{x}<br>val=%{y}<extra></extra>",
         "legendgroup": "exp_B",
         "line": {
          "color": "rgba(255,255,255,0)"
         },
         "marker": {
          "color": "#EF553B"
         },
         "name": "exp_B",
         "offsetgroup": "exp_B",
         "orientation": "v",
         "pointpos": 0,
         "showlegend": true,
         "type": "box",
         "x": [
          "EWM",
          "SVM_1",
          "SVM_2",
          "SVM_3"
         ],
         "x0": " ",
         "xaxis": "x",
         "y": [
          0.46172064876796826,
          0.445,
          0.424,
          0.419
         ],
         "y0": " ",
         "yaxis": "y"
        },
        {
         "alignmentgroup": "True",
         "boxpoints": "all",
         "fillcolor": "rgba(255,255,255,0)",
         "hoveron": "points",
         "hovertemplate": "exp=exp_C<br>chart_name=%{x}<br>val=%{y}<extra></extra>",
         "legendgroup": "exp_C",
         "line": {
          "color": "rgba(255,255,255,0)"
         },
         "marker": {
          "color": "#00cc96"
         },
         "name": "exp_C",
         "offsetgroup": "exp_C",
         "orientation": "v",
         "pointpos": 0,
         "showlegend": true,
         "type": "box",
         "x": [
          "EWM",
          "SVM_1",
          "SVM_2",
          "SVM_3"
         ],
         "x0": " ",
         "xaxis": "x",
         "y": [
          0.4377925875723232,
          0.626,
          0.61,
          0.609
         ],
         "y0": " ",
         "yaxis": "y"
        }
       ],
       "layout": {
        "boxmode": "group",
        "legend": {
         "title": {
          "text": "exp"
         },
         "tracegroupgap": 0
        },
        "margin": {
         "t": 60
        },
        "template": {
         "data": {
          "bar": [
           {
            "error_x": {
             "color": "#2a3f5f"
            },
            "error_y": {
             "color": "#2a3f5f"
            },
            "marker": {
             "line": {
              "color": "#E5ECF6",
              "width": 0.5
             },
             "pattern": {
              "fillmode": "overlay",
              "size": 10,
              "solidity": 0.2
             }
            },
            "type": "bar"
           }
          ],
          "barpolar": [
           {
            "marker": {
             "line": {
              "color": "#E5ECF6",
              "width": 0.5
             },
             "pattern": {
              "fillmode": "overlay",
              "size": 10,
              "solidity": 0.2
             }
            },
            "type": "barpolar"
           }
          ],
          "carpet": [
           {
            "aaxis": {
             "endlinecolor": "#2a3f5f",
             "gridcolor": "white",
             "linecolor": "white",
             "minorgridcolor": "white",
             "startlinecolor": "#2a3f5f"
            },
            "baxis": {
             "endlinecolor": "#2a3f5f",
             "gridcolor": "white",
             "linecolor": "white",
             "minorgridcolor": "white",
             "startlinecolor": "#2a3f5f"
            },
            "type": "carpet"
           }
          ],
          "choropleth": [
           {
            "colorbar": {
             "outlinewidth": 0,
             "ticks": ""
            },
            "type": "choropleth"
           }
          ],
          "contour": [
           {
            "colorbar": {
             "outlinewidth": 0,
             "ticks": ""
            },
            "colorscale": [
             [
              0,
              "#0d0887"
             ],
             [
              0.1111111111111111,
              "#46039f"
             ],
             [
              0.2222222222222222,
              "#7201a8"
             ],
             [
              0.3333333333333333,
              "#9c179e"
             ],
             [
              0.4444444444444444,
              "#bd3786"
             ],
             [
              0.5555555555555556,
              "#d8576b"
             ],
             [
              0.6666666666666666,
              "#ed7953"
             ],
             [
              0.7777777777777778,
              "#fb9f3a"
             ],
             [
              0.8888888888888888,
              "#fdca26"
             ],
             [
              1,
              "#f0f921"
             ]
            ],
            "type": "contour"
           }
          ],
          "contourcarpet": [
           {
            "colorbar": {
             "outlinewidth": 0,
             "ticks": ""
            },
            "type": "contourcarpet"
           }
          ],
          "heatmap": [
           {
            "colorbar": {
             "outlinewidth": 0,
             "ticks": ""
            },
            "colorscale": [
             [
              0,
              "#0d0887"
             ],
             [
              0.1111111111111111,
              "#46039f"
             ],
             [
              0.2222222222222222,
              "#7201a8"
             ],
             [
              0.3333333333333333,
              "#9c179e"
             ],
             [
              0.4444444444444444,
              "#bd3786"
             ],
             [
              0.5555555555555556,
              "#d8576b"
             ],
             [
              0.6666666666666666,
              "#ed7953"
             ],
             [
              0.7777777777777778,
              "#fb9f3a"
             ],
             [
              0.8888888888888888,
              "#fdca26"
             ],
             [
              1,
              "#f0f921"
             ]
            ],
            "type": "heatmap"
           }
          ],
          "heatmapgl": [
           {
            "colorbar": {
             "outlinewidth": 0,
             "ticks": ""
            },
            "colorscale": [
             [
              0,
              "#0d0887"
             ],
             [
              0.1111111111111111,
              "#46039f"
             ],
             [
              0.2222222222222222,
              "#7201a8"
             ],
             [
              0.3333333333333333,
              "#9c179e"
             ],
             [
              0.4444444444444444,
              "#bd3786"
             ],
             [
              0.5555555555555556,
              "#d8576b"
             ],
             [
              0.6666666666666666,
              "#ed7953"
             ],
             [
              0.7777777777777778,
              "#fb9f3a"
             ],
             [
              0.8888888888888888,
              "#fdca26"
             ],
             [
              1,
              "#f0f921"
             ]
            ],
            "type": "heatmapgl"
           }
          ],
          "histogram": [
           {
            "marker": {
             "pattern": {
              "fillmode": "overlay",
              "size": 10,
              "solidity": 0.2
             }
            },
            "type": "histogram"
           }
          ],
          "histogram2d": [
           {
            "colorbar": {
             "outlinewidth": 0,
             "ticks": ""
            },
            "colorscale": [
             [
              0,
              "#0d0887"
             ],
             [
              0.1111111111111111,
              "#46039f"
             ],
             [
              0.2222222222222222,
              "#7201a8"
             ],
             [
              0.3333333333333333,
              "#9c179e"
             ],
             [
              0.4444444444444444,
              "#bd3786"
             ],
             [
              0.5555555555555556,
              "#d8576b"
             ],
             [
              0.6666666666666666,
              "#ed7953"
             ],
             [
              0.7777777777777778,
              "#fb9f3a"
             ],
             [
              0.8888888888888888,
              "#fdca26"
             ],
             [
              1,
              "#f0f921"
             ]
            ],
            "type": "histogram2d"
           }
          ],
          "histogram2dcontour": [
           {
            "colorbar": {
             "outlinewidth": 0,
             "ticks": ""
            },
            "colorscale": [
             [
              0,
              "#0d0887"
             ],
             [
              0.1111111111111111,
              "#46039f"
             ],
             [
              0.2222222222222222,
              "#7201a8"
             ],
             [
              0.3333333333333333,
              "#9c179e"
             ],
             [
              0.4444444444444444,
              "#bd3786"
             ],
             [
              0.5555555555555556,
              "#d8576b"
             ],
             [
              0.6666666666666666,
              "#ed7953"
             ],
             [
              0.7777777777777778,
              "#fb9f3a"
             ],
             [
              0.8888888888888888,
              "#fdca26"
             ],
             [
              1,
              "#f0f921"
             ]
            ],
            "type": "histogram2dcontour"
           }
          ],
          "mesh3d": [
           {
            "colorbar": {
             "outlinewidth": 0,
             "ticks": ""
            },
            "type": "mesh3d"
           }
          ],
          "parcoords": [
           {
            "line": {
             "colorbar": {
              "outlinewidth": 0,
              "ticks": ""
             }
            },
            "type": "parcoords"
           }
          ],
          "pie": [
           {
            "automargin": true,
            "type": "pie"
           }
          ],
          "scatter": [
           {
            "fillpattern": {
             "fillmode": "overlay",
             "size": 10,
             "solidity": 0.2
            },
            "type": "scatter"
           }
          ],
          "scatter3d": [
           {
            "line": {
             "colorbar": {
              "outlinewidth": 0,
              "ticks": ""
             }
            },
            "marker": {
             "colorbar": {
              "outlinewidth": 0,
              "ticks": ""
             }
            },
            "type": "scatter3d"
           }
          ],
          "scattercarpet": [
           {
            "marker": {
             "colorbar": {
              "outlinewidth": 0,
              "ticks": ""
             }
            },
            "type": "scattercarpet"
           }
          ],
          "scattergeo": [
           {
            "marker": {
             "colorbar": {
              "outlinewidth": 0,
              "ticks": ""
             }
            },
            "type": "scattergeo"
           }
          ],
          "scattergl": [
           {
            "marker": {
             "colorbar": {
              "outlinewidth": 0,
              "ticks": ""
             }
            },
            "type": "scattergl"
           }
          ],
          "scattermapbox": [
           {
            "marker": {
             "colorbar": {
              "outlinewidth": 0,
              "ticks": ""
             }
            },
            "type": "scattermapbox"
           }
          ],
          "scatterpolar": [
           {
            "marker": {
             "colorbar": {
              "outlinewidth": 0,
              "ticks": ""
             }
            },
            "type": "scatterpolar"
           }
          ],
          "scatterpolargl": [
           {
            "marker": {
             "colorbar": {
              "outlinewidth": 0,
              "ticks": ""
             }
            },
            "type": "scatterpolargl"
           }
          ],
          "scatterternary": [
           {
            "marker": {
             "colorbar": {
              "outlinewidth": 0,
              "ticks": ""
             }
            },
            "type": "scatterternary"
           }
          ],
          "surface": [
           {
            "colorbar": {
             "outlinewidth": 0,
             "ticks": ""
            },
            "colorscale": [
             [
              0,
              "#0d0887"
             ],
             [
              0.1111111111111111,
              "#46039f"
             ],
             [
              0.2222222222222222,
              "#7201a8"
             ],
             [
              0.3333333333333333,
              "#9c179e"
             ],
             [
              0.4444444444444444,
              "#bd3786"
             ],
             [
              0.5555555555555556,
              "#d8576b"
             ],
             [
              0.6666666666666666,
              "#ed7953"
             ],
             [
              0.7777777777777778,
              "#fb9f3a"
             ],
             [
              0.8888888888888888,
              "#fdca26"
             ],
             [
              1,
              "#f0f921"
             ]
            ],
            "type": "surface"
           }
          ],
          "table": [
           {
            "cells": {
             "fill": {
              "color": "#EBF0F8"
             },
             "line": {
              "color": "white"
             }
            },
            "header": {
             "fill": {
              "color": "#C8D4E3"
             },
             "line": {
              "color": "white"
             }
            },
            "type": "table"
           }
          ]
         },
         "layout": {
          "annotationdefaults": {
           "arrowcolor": "#2a3f5f",
           "arrowhead": 0,
           "arrowwidth": 1
          },
          "autotypenumbers": "strict",
          "coloraxis": {
           "colorbar": {
            "outlinewidth": 0,
            "ticks": ""
           }
          },
          "colorscale": {
           "diverging": [
            [
             0,
             "#8e0152"
            ],
            [
             0.1,
             "#c51b7d"
            ],
            [
             0.2,
             "#de77ae"
            ],
            [
             0.3,
             "#f1b6da"
            ],
            [
             0.4,
             "#fde0ef"
            ],
            [
             0.5,
             "#f7f7f7"
            ],
            [
             0.6,
             "#e6f5d0"
            ],
            [
             0.7,
             "#b8e186"
            ],
            [
             0.8,
             "#7fbc41"
            ],
            [
             0.9,
             "#4d9221"
            ],
            [
             1,
             "#276419"
            ]
           ],
           "sequential": [
            [
             0,
             "#0d0887"
            ],
            [
             0.1111111111111111,
             "#46039f"
            ],
            [
             0.2222222222222222,
             "#7201a8"
            ],
            [
             0.3333333333333333,
             "#9c179e"
            ],
            [
             0.4444444444444444,
             "#bd3786"
            ],
            [
             0.5555555555555556,
             "#d8576b"
            ],
            [
             0.6666666666666666,
             "#ed7953"
            ],
            [
             0.7777777777777778,
             "#fb9f3a"
            ],
            [
             0.8888888888888888,
             "#fdca26"
            ],
            [
             1,
             "#f0f921"
            ]
           ],
           "sequentialminus": [
            [
             0,
             "#0d0887"
            ],
            [
             0.1111111111111111,
             "#46039f"
            ],
            [
             0.2222222222222222,
             "#7201a8"
            ],
            [
             0.3333333333333333,
             "#9c179e"
            ],
            [
             0.4444444444444444,
             "#bd3786"
            ],
            [
             0.5555555555555556,
             "#d8576b"
            ],
            [
             0.6666666666666666,
             "#ed7953"
            ],
            [
             0.7777777777777778,
             "#fb9f3a"
            ],
            [
             0.8888888888888888,
             "#fdca26"
            ],
            [
             1,
             "#f0f921"
            ]
           ]
          },
          "colorway": [
           "#636efa",
           "#EF553B",
           "#00cc96",
           "#ab63fa",
           "#FFA15A",
           "#19d3f3",
           "#FF6692",
           "#B6E880",
           "#FF97FF",
           "#FECB52"
          ],
          "font": {
           "color": "#2a3f5f"
          },
          "geo": {
           "bgcolor": "white",
           "lakecolor": "white",
           "landcolor": "#E5ECF6",
           "showlakes": true,
           "showland": true,
           "subunitcolor": "white"
          },
          "hoverlabel": {
           "align": "left"
          },
          "hovermode": "closest",
          "mapbox": {
           "style": "light"
          },
          "paper_bgcolor": "white",
          "plot_bgcolor": "#E5ECF6",
          "polar": {
           "angularaxis": {
            "gridcolor": "white",
            "linecolor": "white",
            "ticks": ""
           },
           "bgcolor": "#E5ECF6",
           "radialaxis": {
            "gridcolor": "white",
            "linecolor": "white",
            "ticks": ""
           }
          },
          "scene": {
           "xaxis": {
            "backgroundcolor": "#E5ECF6",
            "gridcolor": "white",
            "gridwidth": 2,
            "linecolor": "white",
            "showbackground": true,
            "ticks": "",
            "zerolinecolor": "white"
           },
           "yaxis": {
            "backgroundcolor": "#E5ECF6",
            "gridcolor": "white",
            "gridwidth": 2,
            "linecolor": "white",
            "showbackground": true,
            "ticks": "",
            "zerolinecolor": "white"
           },
           "zaxis": {
            "backgroundcolor": "#E5ECF6",
            "gridcolor": "white",
            "gridwidth": 2,
            "linecolor": "white",
            "showbackground": true,
            "ticks": "",
            "zerolinecolor": "white"
           }
          },
          "shapedefaults": {
           "line": {
            "color": "#2a3f5f"
           }
          },
          "ternary": {
           "aaxis": {
            "gridcolor": "white",
            "linecolor": "white",
            "ticks": ""
           },
           "baxis": {
            "gridcolor": "white",
            "linecolor": "white",
            "ticks": ""
           },
           "bgcolor": "#E5ECF6",
           "caxis": {
            "gridcolor": "white",
            "linecolor": "white",
            "ticks": ""
           }
          },
          "title": {
           "x": 0.05
          },
          "xaxis": {
           "automargin": true,
           "gridcolor": "white",
           "linecolor": "white",
           "ticks": "",
           "title": {
            "standoff": 15
           },
           "zerolinecolor": "white",
           "zerolinewidth": 2
          },
          "yaxis": {
           "automargin": true,
           "gridcolor": "white",
           "linecolor": "white",
           "ticks": "",
           "title": {
            "standoff": 15
           },
           "zerolinecolor": "white",
           "zerolinewidth": 2
          }
         }
        },
        "title": {
         "text": "Macro Average F1 Score"
        },
        "xaxis": {
         "anchor": "y",
         "domain": [
          0,
          1
         ],
         "title": {
          "text": "chart_name"
         }
        },
        "yaxis": {
         "anchor": "x",
         "domain": [
          0,
          1
         ],
         "title": {
          "text": "val"
         }
        }
       }
      }
     },
     "metadata": {},
     "output_type": "display_data"
    }
   ],
   "source": [
    "fig = px.strip(df, x=\"chart_name\", y=\"val\", color=\"exp\")\n",
    "fig.update_layout(title=\"Macro Average F1 Score\")\n",
    "fig.show()"
   ]
  },
  {
   "cell_type": "code",
   "execution_count": 185,
   "metadata": {},
   "outputs": [
    {
     "data": {
      "text/plain": [
       "<pandas.core.groupby.generic.SeriesGroupBy object at 0x140d71580>"
      ]
     },
     "execution_count": 185,
     "metadata": {},
     "output_type": "execute_result"
    }
   ],
   "source": [
    "df.groupby(\"exp\")[\"val\"]"
   ]
  },
  {
   "cell_type": "code",
   "execution_count": 108,
   "metadata": {},
   "outputs": [
    {
     "name": "stdout",
     "output_type": "stream",
     "text": [
      "svm\n"
     ]
    },
    {
     "data": {
      "text/plain": [
       "[{'name': ['dt_meas_temp', 'dt_meas_rh'], 'val': 0.709},\n",
       " {'name': ['meas_temp', 'meas_rh', 'dt_meas_temp', 'dt_amb_rh'], 'val': 0.699},\n",
       " {'name': ['meas_temp', 'meas_rh', 'dt_meas_temp', 'dt_amb_temp'],\n",
       "  'val': 0.694},\n",
       " {'name': ['meas_temp', 'dt_meas_temp', 'dt_meas_rh', 'dt_amb_rh'],\n",
       "  'val': 0.686},\n",
       " {'name': ['meas_temp', 'dt_meas_temp', 'dt_meas_rh', 'dt_amb_temp'],\n",
       "  'val': 0.686},\n",
       " {'name': ['meas_temp', 'dt_meas_temp', 'dt_amb_temp', 'dt_amb_rh'],\n",
       "  'val': 0.684},\n",
       " {'name': ['meas_temp', 'amb_rh', 'dt_meas_temp', 'dt_meas_rh'], 'val': 0.673},\n",
       " {'name': ['dt_meas_temp', 'dt_meas_rh', 'dt_amb_temp'], 'val': 0.668},\n",
       " {'name': ['meas_temp', 'amb_rh', 'dt_meas_temp', 'dt_amb_rh'], 'val': 0.668},\n",
       " {'name': ['meas_temp', 'meas_rh', 'dt_meas_temp', 'dt_meas_rh'],\n",
       "  'val': 0.662},\n",
       " {'name': ['dt_meas_temp', 'dt_meas_rh', 'dt_amb_rh'], 'val': 0.662},\n",
       " {'name': ['amb_rh', 'dt_meas_temp', 'dt_meas_rh', 'dt_amb_temp'],\n",
       "  'val': 0.66},\n",
       " {'name': ['dt_meas_rh'], 'val': 0.66},\n",
       " {'name': ['meas_temp', 'amb_rh', 'dt_meas_temp', 'dt_amb_temp'],\n",
       "  'val': 0.657},\n",
       " {'name': ['amb_rh', 'dt_meas_temp', 'dt_meas_rh', 'dt_amb_rh'], 'val': 0.657},\n",
       " {'name': ['meas_temp', 'dt_meas_rh', 'dt_amb_temp', 'dt_amb_rh'],\n",
       "  'val': 0.652},\n",
       " {'name': ['meas_temp', 'amb_temp', 'dt_meas_temp', 'dt_amb_temp'],\n",
       "  'val': 0.649},\n",
       " {'name': ['meas_rh', 'dt_meas_temp', 'dt_meas_rh', 'dt_amb_rh'],\n",
       "  'val': 0.647},\n",
       " {'name': ['meas_temp', 'amb_temp', 'dt_meas_temp', 'dt_amb_rh'],\n",
       "  'val': 0.644},\n",
       " {'name': ['dt_meas_temp', 'dt_amb_temp'], 'val': 0.641},\n",
       " {'name': ['meas_temp', 'amb_temp', 'amb_rh', 'dt_meas_temp'], 'val': 0.641},\n",
       " {'name': ['amb_rh', 'dt_meas_temp', 'dt_amb_temp', 'dt_amb_rh'],\n",
       "  'val': 0.641},\n",
       " {'name': ['amb_temp', 'amb_rh', 'dt_meas_temp', 'dt_amb_temp'], 'val': 0.639},\n",
       " {'name': ['meas_temp', 'amb_rh', 'dt_meas_rh', 'dt_amb_temp'], 'val': 0.636},\n",
       " {'name': ['dt_meas_temp', 'dt_meas_rh', 'dt_amb_temp', 'dt_amb_rh'],\n",
       "  'val': 0.636},\n",
       " {'name': ['dt_meas_temp'], 'val': 0.634},\n",
       " {'name': ['dt_meas_temp', 'dt_amb_rh'], 'val': 0.634},\n",
       " {'name': ['amb_temp', 'amb_rh', 'dt_meas_temp', 'dt_meas_rh'], 'val': 0.633},\n",
       " {'name': ['meas_temp', 'amb_temp', 'dt_meas_temp', 'dt_meas_rh'],\n",
       "  'val': 0.631},\n",
       " {'name': ['meas_temp', 'meas_rh', 'dt_meas_rh', 'dt_amb_rh'], 'val': 0.631},\n",
       " {'name': ['amb_temp', 'amb_rh', 'dt_meas_temp', 'dt_amb_rh'], 'val': 0.631},\n",
       " {'name': ['meas_temp', 'meas_rh', 'dt_meas_rh', 'dt_amb_temp'], 'val': 0.628},\n",
       " {'name': ['meas_temp', 'meas_rh', 'dt_amb_temp', 'dt_amb_rh'], 'val': 0.628},\n",
       " {'name': ['meas_temp', 'meas_rh', 'amb_rh', 'dt_meas_temp'], 'val': 0.628},\n",
       " {'name': ['meas_temp', 'amb_rh', 'dt_meas_rh', 'dt_amb_rh'], 'val': 0.628},\n",
       " {'name': ['meas_temp', 'amb_temp', 'dt_meas_rh', 'dt_amb_temp'],\n",
       "  'val': 0.628},\n",
       " {'name': ['meas_temp', 'amb_rh'], 'val': 0.628},\n",
       " {'name': ['meas_temp', 'amb_temp', 'amb_rh', 'dt_amb_rh'], 'val': 0.626},\n",
       " {'name': ['dt_meas_rh', 'dt_amb_rh'], 'val': 0.626},\n",
       " {'name': ['amb_rh', 'dt_meas_rh', 'dt_amb_temp', 'dt_amb_rh'], 'val': 0.626},\n",
       " {'name': ['meas_rh', 'dt_meas_temp', 'dt_meas_rh', 'dt_amb_temp'],\n",
       "  'val': 0.626},\n",
       " {'name': ['meas_temp', 'meas_rh', 'amb_temp', 'dt_meas_temp'], 'val': 0.62},\n",
       " {'name': ['meas_rh', 'dt_meas_temp', 'dt_amb_temp', 'dt_amb_rh'],\n",
       "  'val': 0.62},\n",
       " {'name': ['meas_temp', 'amb_rh', 'dt_amb_temp', 'dt_amb_rh'], 'val': 0.62},\n",
       " {'name': ['dt_meas_rh', 'dt_amb_temp'], 'val': 0.618},\n",
       " {'name': ['amb_temp', 'dt_meas_temp', 'dt_meas_rh', 'dt_amb_rh'],\n",
       "  'val': 0.618},\n",
       " {'name': ['meas_temp', 'amb_temp', 'amb_rh', 'dt_amb_temp'], 'val': 0.616},\n",
       " {'name': ['amb_minus_meas_temp',\n",
       "   'amb_minus_meas_rh',\n",
       "   'meas_minus_deriv_temp'],\n",
       "  'val': 0.615},\n",
       " {'name': ['dt_meas_temp', 'dt_amb_temp', 'dt_amb_rh'], 'val': 0.615},\n",
       " {'name': ['meas_temp', 'amb_temp', 'dt_meas_rh', 'dt_amb_rh'], 'val': 0.615},\n",
       " {'name': ['amb_temp', 'amb_rh', 'dt_meas_rh', 'dt_amb_temp'], 'val': 0.615},\n",
       " {'name': ['meas_temp', 'amb_temp', 'amb_rh', 'dt_meas_rh'], 'val': 0.615},\n",
       " {'name': ['amb_temp', 'amb_rh', 'dt_meas_rh', 'dt_amb_rh'], 'val': 0.613},\n",
       " {'name': ['amb_temp', 'dt_meas_temp', 'dt_meas_rh', 'dt_amb_temp'],\n",
       "  'val': 0.612},\n",
       " {'name': ['amb_temp', 'dt_meas_temp', 'dt_amb_temp', 'dt_amb_rh'],\n",
       "  'val': 0.61},\n",
       " {'name': ['meas_rh', 'amb_rh', 'dt_meas_temp', 'dt_amb_rh'], 'val': 0.61},\n",
       " {'name': ['meas_temp', 'meas_rh', 'amb_rh', 'dt_amb_temp'], 'val': 0.607},\n",
       " {'name': ['meas_rh', 'amb_rh', 'dt_meas_temp', 'dt_meas_rh'], 'val': 0.607},\n",
       " {'name': ['meas_rh', 'amb_rh', 'dt_meas_temp', 'dt_amb_temp'], 'val': 0.605},\n",
       " {'name': ['amb_minus_meas_temp',\n",
       "   'amb_minus_meas_rh',\n",
       "   'meas_minus_deriv_temp',\n",
       "   'meas_minus_deriv_rh'],\n",
       "  'val': 0.605},\n",
       " {'name': ['meas_temp', 'amb_temp'], 'val': 0.605},\n",
       " {'name': ['meas_temp', 'meas_rh', 'amb_temp', 'dt_amb_temp'], 'val': 0.602},\n",
       " {'name': ['meas_temp', 'amb_temp', 'dt_amb_temp', 'dt_amb_rh'], 'val': 0.602},\n",
       " {'name': ['meas_temp', 'amb_temp', 'amb_rh'], 'val': 0.599},\n",
       " {'name': ['meas_rh', 'amb_temp', 'dt_meas_temp', 'dt_amb_rh'], 'val': 0.594},\n",
       " {'name': ['meas_temp', 'meas_rh', 'amb_temp', 'dt_amb_rh'], 'val': 0.592},\n",
       " {'name': ['meas_temp', 'meas_rh', 'amb_rh', 'dt_amb_rh'], 'val': 0.592},\n",
       " {'name': ['dt_meas_rh', 'dt_amb_temp', 'dt_amb_rh'], 'val': 0.589},\n",
       " {'name': ['meas_rh', 'amb_temp', 'dt_meas_temp', 'dt_meas_rh'], 'val': 0.584},\n",
       " {'name': ['amb_minus_meas_rh',\n",
       "   'meas_minus_deriv_temp',\n",
       "   'meas_minus_deriv_rh'],\n",
       "  'val': 0.584},\n",
       " {'name': ['meas_rh', 'amb_temp', 'amb_rh', 'dt_meas_temp'], 'val': 0.584},\n",
       " {'name': ['meas_rh', 'amb_temp', 'dt_meas_temp', 'dt_amb_temp'],\n",
       "  'val': 0.581},\n",
       " {'name': ['meas_rh', 'dt_meas_rh', 'dt_amb_temp', 'dt_amb_rh'], 'val': 0.581},\n",
       " {'name': ['amb_temp', 'dt_meas_rh', 'dt_amb_temp', 'dt_amb_rh'],\n",
       "  'val': 0.581},\n",
       " {'name': ['amb_minus_meas_rh', 'meas_minus_deriv_temp'], 'val': 0.581},\n",
       " {'name': ['amb_temp', 'amb_rh', 'dt_amb_temp', 'dt_amb_rh'], 'val': 0.581},\n",
       " {'name': ['amb_minus_meas_temp',\n",
       "   'meas_minus_deriv_temp',\n",
       "   'meas_minus_deriv_rh'],\n",
       "  'val': 0.574},\n",
       " {'name': ['amb_temp'], 'val': 0.574},\n",
       " {'name': ['meas_rh', 'amb_rh', 'dt_meas_rh', 'dt_amb_temp'], 'val': 0.573},\n",
       " {'name': ['meas_rh', 'amb_rh', 'dt_amb_temp', 'dt_amb_rh'], 'val': 0.571},\n",
       " {'name': ['amb_minus_meas_temp', 'amb_minus_meas_rh'], 'val': 0.568},\n",
       " {'name': ['amb_rh'], 'val': 0.563},\n",
       " {'name': ['amb_minus_meas_temp', 'meas_minus_deriv_temp'], 'val': 0.56},\n",
       " {'name': ['amb_minus_meas_temp', 'amb_minus_meas_rh', 'meas_minus_deriv_rh'],\n",
       "  'val': 0.558},\n",
       " {'name': ['meas_rh', 'amb_temp', 'dt_meas_rh', 'dt_amb_rh'], 'val': 0.558},\n",
       " {'name': ['meas_rh', 'amb_rh', 'dt_meas_rh', 'dt_amb_rh'], 'val': 0.558},\n",
       " {'name': ['dt_amb_rh'], 'val': 0.549},\n",
       " {'name': ['meas_rh', 'amb_temp', 'dt_amb_temp', 'dt_amb_rh'], 'val': 0.548},\n",
       " {'name': ['meas_minus_deriv_temp'], 'val': 0.547},\n",
       " {'name': ['meas_temp', 'meas_rh', 'amb_rh', 'dt_meas_rh'], 'val': 0.545},\n",
       " {'name': ['meas_rh', 'amb_temp', 'amb_rh', 'dt_amb_temp'], 'val': 0.544},\n",
       " {'name': ['amb_temp', 'amb_rh'], 'val': 0.542},\n",
       " {'name': ['meas_minus_deriv_temp', 'meas_minus_deriv_rh'], 'val': 0.542},\n",
       " {'name': ['meas_rh', 'amb_temp', 'dt_meas_rh', 'dt_amb_temp'], 'val': 0.542},\n",
       " {'name': ['meas_rh', 'amb_temp', 'amb_rh', 'dt_amb_rh'], 'val': 0.539},\n",
       " {'name': ['meas_temp'], 'val': 0.539},\n",
       " {'name': ['meas_temp', 'meas_rh'], 'val': 0.537},\n",
       " {'name': ['meas_temp', 'meas_rh', 'amb_temp', 'dt_meas_rh'], 'val': 0.534},\n",
       " {'name': ['meas_minus_deriv_rh'], 'val': 0.531},\n",
       " {'name': ['meas_temp', 'meas_rh', 'amb_rh'], 'val': 0.529},\n",
       " {'name': ['amb_minus_meas_temp', 'meas_minus_deriv_rh'], 'val': 0.527},\n",
       " {'name': ['meas_temp', 'meas_rh', 'amb_temp', 'amb_rh'], 'val': 0.52},\n",
       " {'name': ['meas_temp', 'meas_rh', 'amb_temp'], 'val': 0.51},\n",
       " {'name': ['amb_minus_meas_rh'], 'val': 0.5},\n",
       " {'name': ['dt_amb_temp', 'dt_amb_rh'], 'val': 0.5},\n",
       " {'name': ['amb_minus_meas_temp'], 'val': 0.487},\n",
       " {'name': ['meas_rh', 'amb_temp', 'amb_rh', 'dt_meas_rh'], 'val': 0.487},\n",
       " {'name': ['amb_minus_meas_rh', 'meas_minus_deriv_rh'], 'val': 0.484},\n",
       " {'name': ['meas_rh'], 'val': 0.482},\n",
       " {'name': ['meas_rh', 'amb_rh'], 'val': 0.469},\n",
       " {'name': ['meas_rh', 'amb_temp', 'amb_rh'], 'val': 0.459},\n",
       " {'name': ['meas_rh', 'amb_temp'], 'val': 0.451},\n",
       " {'name': ['dt_amb_temp'], 'val': 0.303}]"
      ]
     },
     "execution_count": 108,
     "metadata": {},
     "output_type": "execute_result"
    }
   ],
   "source": [
    "quick, slow = sort_and_return_quick_result(svm_data[\"exp_A\"], \"svm\")\n",
    "quick"
   ]
  },
  {
   "cell_type": "code",
   "execution_count": 109,
   "metadata": {},
   "outputs": [
    {
     "data": {
      "text/plain": [
       "{'0': {'name': ['amb_minus_meas_temp',\n",
       "   'meas_minus_deriv_temp',\n",
       "   'meas_minus_deriv_rh'],\n",
       "  'metrics': {'standard': {'macro avg f1-score': 0.574},\n",
       "   'drdr': {'unbounded acc': -10.88, 'bounded acc': 0.1},\n",
       "   'custom': {'(hits + near hits)/guesses': 0.595, 'guesses/actions': 2.846}}},\n",
       " '1': {'name': ['meas_temp', 'meas_rh', 'amb_temp', 'dt_meas_rh'],\n",
       "  'metrics': {'standard': {'macro avg f1-score': 0.534},\n",
       "   'drdr': {'unbounded acc': -15.23, 'bounded acc': 0.0},\n",
       "   'custom': {'(hits + near hits)/guesses': 0.628, 'guesses/actions': 3.308}}},\n",
       " '2': {'name': ['dt_meas_rh', 'dt_amb_temp'],\n",
       "  'metrics': {'standard': {'macro avg f1-score': 0.618},\n",
       "   'drdr': {'unbounded acc': -16.11, 'bounded acc': 0.0},\n",
       "   'custom': {'(hits + near hits)/guesses': 0.475, 'guesses/actions': 9.231}}},\n",
       " '3': {'name': ['meas_rh', 'amb_temp', 'dt_meas_temp', 'dt_amb_temp'],\n",
       "  'metrics': {'standard': {'macro avg f1-score': 0.581},\n",
       "   'drdr': {'unbounded acc': -15.26, 'bounded acc': 0.01889},\n",
       "   'custom': {'(hits + near hits)/guesses': 0.54, 'guesses/actions': 4.846}}},\n",
       " '4': {'name': ['dt_meas_temp', 'dt_amb_temp'],\n",
       "  'metrics': {'standard': {'macro avg f1-score': 0.641},\n",
       "   'drdr': {'unbounded acc': -15.28, 'bounded acc': 0.0136},\n",
       "   'custom': {'(hits + near hits)/guesses': 0.449, 'guesses/actions': 6.846}}},\n",
       " '5': {'name': ['amb_temp', 'dt_meas_temp', 'dt_meas_rh', 'dt_amb_rh'],\n",
       "  'metrics': {'standard': {'macro avg f1-score': 0.618},\n",
       "   'drdr': {'unbounded acc': -11.98, 'bounded acc': 0.0},\n",
       "   'custom': {'(hits + near hits)/guesses': 0.554, 'guesses/actions': 5.0}}},\n",
       " '6': {'name': ['meas_temp', 'meas_rh', 'amb_temp', 'dt_meas_temp'],\n",
       "  'metrics': {'standard': {'macro avg f1-score': 0.62},\n",
       "   'drdr': {'unbounded acc': -14.68, 'bounded acc': 0.0},\n",
       "   'custom': {'(hits + near hits)/guesses': 0.568, 'guesses/actions': 2.846}}},\n",
       " '7': {'name': ['amb_minus_meas_temp',\n",
       "   'amb_minus_meas_rh',\n",
       "   'meas_minus_deriv_temp'],\n",
       "  'metrics': {'standard': {'macro avg f1-score': 0.615},\n",
       "   'drdr': {'unbounded acc': -10.52, 'bounded acc': 0.0},\n",
       "   'custom': {'(hits + near hits)/guesses': 0.615, 'guesses/actions': 3.0}}},\n",
       " '8': {'name': ['meas_temp', 'amb_temp', 'dt_meas_temp', 'dt_meas_rh'],\n",
       "  'metrics': {'standard': {'macro avg f1-score': 0.631},\n",
       "   'drdr': {'unbounded acc': -12.89, 'bounded acc': 0.0},\n",
       "   'custom': {'(hits + near hits)/guesses': 0.681, 'guesses/actions': 3.615}}},\n",
       " '9': {'name': ['meas_rh', 'amb_rh', 'dt_meas_temp', 'dt_amb_temp'],\n",
       "  'metrics': {'standard': {'macro avg f1-score': 0.605},\n",
       "   'drdr': {'unbounded acc': -15.9, 'bounded acc': 0.017},\n",
       "   'custom': {'(hits + near hits)/guesses': 0.492, 'guesses/actions': 5.0}}},\n",
       " '10': {'name': ['meas_rh', 'dt_meas_rh', 'dt_amb_temp', 'dt_amb_rh'],\n",
       "  'metrics': {'standard': {'macro avg f1-score': 0.581},\n",
       "   'drdr': {'unbounded acc': -14.23, 'bounded acc': 0.01172},\n",
       "   'custom': {'(hits + near hits)/guesses': 0.475, 'guesses/actions': 7.769}}},\n",
       " '11': {'name': ['meas_temp', 'meas_rh', 'dt_meas_temp', 'dt_meas_rh'],\n",
       "  'metrics': {'standard': {'macro avg f1-score': 0.662},\n",
       "   'drdr': {'unbounded acc': -11.04, 'bounded acc': 0.001},\n",
       "   'custom': {'(hits + near hits)/guesses': 0.483, 'guesses/actions': 2.231}}},\n",
       " '12': {'name': ['meas_temp', 'dt_meas_rh', 'dt_amb_temp', 'dt_amb_rh'],\n",
       "  'metrics': {'standard': {'macro avg f1-score': 0.652},\n",
       "   'drdr': {'unbounded acc': -15.98, 'bounded acc': 0.0},\n",
       "   'custom': {'(hits + near hits)/guesses': 0.591, 'guesses/actions': 7.154}}},\n",
       " '13': {'name': ['meas_rh', 'dt_meas_temp', 'dt_amb_temp', 'dt_amb_rh'],\n",
       "  'metrics': {'standard': {'macro avg f1-score': 0.62},\n",
       "   'drdr': {'unbounded acc': -14.6, 'bounded acc': 0.0319},\n",
       "   'custom': {'(hits + near hits)/guesses': 0.467, 'guesses/actions': 5.769}}},\n",
       " '14': {'name': ['meas_rh', 'amb_temp', 'amb_rh'],\n",
       "  'metrics': {'standard': {'macro avg f1-score': 0.459},\n",
       "   'drdr': {'unbounded acc': -13.16, 'bounded acc': 0.035},\n",
       "   'custom': {'(hits + near hits)/guesses': 0.444, 'guesses/actions': 2.077}}},\n",
       " '15': {'name': ['meas_temp', 'amb_rh', 'dt_amb_temp', 'dt_amb_rh'],\n",
       "  'metrics': {'standard': {'macro avg f1-score': 0.62},\n",
       "   'drdr': {'unbounded acc': -16.61, 'bounded acc': 0.0},\n",
       "   'custom': {'(hits + near hits)/guesses': 0.532, 'guesses/actions': 8.385}}},\n",
       " '16': {'name': ['dt_meas_temp', 'dt_meas_rh', 'dt_amb_temp'],\n",
       "  'metrics': {'standard': {'macro avg f1-score': 0.668},\n",
       "   'drdr': {'unbounded acc': -13.85, 'bounded acc': 0.0335},\n",
       "   'custom': {'(hits + near hits)/guesses': 0.408, 'guesses/actions': 5.462}}},\n",
       " '17': {'name': ['amb_minus_meas_temp'],\n",
       "  'metrics': {'standard': {'macro avg f1-score': 0.487},\n",
       "   'drdr': {'unbounded acc': -14.61, 'bounded acc': 0.0},\n",
       "   'custom': {'(hits + near hits)/guesses': 0.612, 'guesses/actions': 5.154}}},\n",
       " '18': {'name': ['meas_temp', 'amb_rh', 'dt_meas_temp', 'dt_amb_rh'],\n",
       "  'metrics': {'standard': {'macro avg f1-score': 0.668},\n",
       "   'drdr': {'unbounded acc': -13.08, 'bounded acc': 0.0},\n",
       "   'custom': {'(hits + near hits)/guesses': 0.545, 'guesses/actions': 4.231}}},\n",
       " '19': {'name': ['meas_temp', 'meas_rh', 'amb_temp', 'dt_amb_temp'],\n",
       "  'metrics': {'standard': {'macro avg f1-score': 0.602},\n",
       "   'drdr': {'unbounded acc': -14.42, 'bounded acc': 0.0},\n",
       "   'custom': {'(hits + near hits)/guesses': 0.58, 'guesses/actions': 5.308}}},\n",
       " '20': {'name': ['amb_temp', 'amb_rh', 'dt_meas_rh', 'dt_amb_rh'],\n",
       "  'metrics': {'standard': {'macro avg f1-score': 0.613},\n",
       "   'drdr': {'unbounded acc': -13.53, 'bounded acc': 0.0},\n",
       "   'custom': {'(hits + near hits)/guesses': 0.517, 'guesses/actions': 6.846}}},\n",
       " '21': {'name': ['amb_minus_meas_temp', 'amb_minus_meas_rh'],\n",
       "  'metrics': {'standard': {'macro avg f1-score': 0.568},\n",
       "   'drdr': {'unbounded acc': -11.36, 'bounded acc': 0.00077},\n",
       "   'custom': {'(hits + near hits)/guesses': 0.535, 'guesses/actions': 3.308}}},\n",
       " '22': {'name': ['meas_temp', 'meas_rh', 'amb_temp'],\n",
       "  'metrics': {'standard': {'macro avg f1-score': 0.51},\n",
       "   'drdr': {'unbounded acc': -14.4, 'bounded acc': 0.0},\n",
       "   'custom': {'(hits + near hits)/guesses': 0.545, 'guesses/actions': 2.538}}},\n",
       " '23': {'name': ['amb_minus_meas_temp',\n",
       "   'amb_minus_meas_rh',\n",
       "   'meas_minus_deriv_temp',\n",
       "   'meas_minus_deriv_rh'],\n",
       "  'metrics': {'standard': {'macro avg f1-score': 0.605},\n",
       "   'drdr': {'unbounded acc': -12.08, 'bounded acc': 0.06091},\n",
       "   'custom': {'(hits + near hits)/guesses': 0.564, 'guesses/actions': 3.0}}},\n",
       " '24': {'name': ['meas_minus_deriv_temp'],\n",
       "  'metrics': {'standard': {'macro avg f1-score': 0.547},\n",
       "   'drdr': {'unbounded acc': -14.57, 'bounded acc': 0.00045},\n",
       "   'custom': {'(hits + near hits)/guesses': 0.522, 'guesses/actions': 5.308}}},\n",
       " '25': {'name': ['amb_minus_meas_temp',\n",
       "   'amb_minus_meas_rh',\n",
       "   'meas_minus_deriv_rh'],\n",
       "  'metrics': {'standard': {'macro avg f1-score': 0.558},\n",
       "   'drdr': {'unbounded acc': -13.05, 'bounded acc': 0.0},\n",
       "   'custom': {'(hits + near hits)/guesses': 0.51, 'guesses/actions': 3.923}}},\n",
       " '26': {'name': ['dt_amb_temp'],\n",
       "  'metrics': {'standard': {'macro avg f1-score': 0.303},\n",
       "   'drdr': {'unbounded acc': -21.77, 'bounded acc': 0.0},\n",
       "   'custom': {'(hits + near hits)/guesses': 0.273, 'guesses/actions': 0.846}}},\n",
       " '27': {'name': ['meas_rh', 'amb_temp', 'amb_rh', 'dt_meas_rh'],\n",
       "  'metrics': {'standard': {'macro avg f1-score': 0.487},\n",
       "   'drdr': {'unbounded acc': -12.67, 'bounded acc': 0.0},\n",
       "   'custom': {'(hits + near hits)/guesses': 0.489, 'guesses/actions': 3.615}}},\n",
       " '28': {'name': ['amb_rh', 'dt_meas_temp', 'dt_meas_rh', 'dt_amb_temp'],\n",
       "  'metrics': {'standard': {'macro avg f1-score': 0.66},\n",
       "   'drdr': {'unbounded acc': -13.67, 'bounded acc': 0.0},\n",
       "   'custom': {'(hits + near hits)/guesses': 0.523, 'guesses/actions': 5.0}}},\n",
       " '29': {'name': ['meas_temp', 'amb_temp', 'dt_meas_temp', 'dt_amb_temp'],\n",
       "  'metrics': {'standard': {'macro avg f1-score': 0.649},\n",
       "   'drdr': {'unbounded acc': -11.94, 'bounded acc': 0.0},\n",
       "   'custom': {'(hits + near hits)/guesses': 0.672, 'guesses/actions': 5.154}}},\n",
       " '30': {'name': ['meas_temp', 'meas_rh', 'dt_meas_temp', 'dt_amb_temp'],\n",
       "  'metrics': {'standard': {'macro avg f1-score': 0.694},\n",
       "   'drdr': {'unbounded acc': -13.54, 'bounded acc': 0.0},\n",
       "   'custom': {'(hits + near hits)/guesses': 0.509, 'guesses/actions': 4.385}}},\n",
       " '31': {'name': ['meas_temp', 'amb_temp', 'amb_rh', 'dt_amb_rh'],\n",
       "  'metrics': {'standard': {'macro avg f1-score': 0.626},\n",
       "   'drdr': {'unbounded acc': -14.6, 'bounded acc': 0.0},\n",
       "   'custom': {'(hits + near hits)/guesses': 0.522, 'guesses/actions': 5.308}}},\n",
       " '32': {'name': ['meas_temp', 'meas_rh', 'amb_temp', 'dt_amb_rh'],\n",
       "  'metrics': {'standard': {'macro avg f1-score': 0.592},\n",
       "   'drdr': {'unbounded acc': -14.01, 'bounded acc': 0.0},\n",
       "   'custom': {'(hits + near hits)/guesses': 0.554, 'guesses/actions': 5.0}}},\n",
       " '33': {'name': ['meas_temp', 'amb_temp', 'amb_rh'],\n",
       "  'metrics': {'standard': {'macro avg f1-score': 0.599},\n",
       "   'drdr': {'unbounded acc': -11.7, 'bounded acc': 0.0},\n",
       "   'custom': {'(hits + near hits)/guesses': 0.568, 'guesses/actions': 2.846}}},\n",
       " '34': {'name': ['dt_meas_temp', 'dt_amb_temp', 'dt_amb_rh'],\n",
       "  'metrics': {'standard': {'macro avg f1-score': 0.615},\n",
       "   'drdr': {'unbounded acc': -16.24, 'bounded acc': 0.02393},\n",
       "   'custom': {'(hits + near hits)/guesses': 0.466, 'guesses/actions': 7.923}}},\n",
       " '35': {'name': ['amb_minus_meas_temp', 'meas_minus_deriv_rh'],\n",
       "  'metrics': {'standard': {'macro avg f1-score': 0.527},\n",
       "   'drdr': {'unbounded acc': -15.5, 'bounded acc': 0.07143},\n",
       "   'custom': {'(hits + near hits)/guesses': 0.636, 'guesses/actions': 4.231}}},\n",
       " '36': {'name': ['amb_minus_meas_rh'],\n",
       "  'metrics': {'standard': {'macro avg f1-score': 0.5},\n",
       "   'drdr': {'unbounded acc': -15.0, 'bounded acc': 0.0},\n",
       "   'custom': {'(hits + near hits)/guesses': 0.54, 'guesses/actions': 3.846}}},\n",
       " '37': {'name': ['meas_rh', 'amb_temp', 'dt_meas_temp', 'dt_meas_rh'],\n",
       "  'metrics': {'standard': {'macro avg f1-score': 0.584},\n",
       "   'drdr': {'unbounded acc': -12.12, 'bounded acc': 0.0},\n",
       "   'custom': {'(hits + near hits)/guesses': 0.636, 'guesses/actions': 2.538}}},\n",
       " '38': {'name': ['amb_temp', 'amb_rh', 'dt_meas_temp', 'dt_meas_rh'],\n",
       "  'metrics': {'standard': {'macro avg f1-score': 0.633},\n",
       "   'drdr': {'unbounded acc': -10.69, 'bounded acc': 0.0},\n",
       "   'custom': {'(hits + near hits)/guesses': 0.6, 'guesses/actions': 3.462}}},\n",
       " '39': {'name': ['meas_temp', 'amb_temp', 'dt_amb_temp', 'dt_amb_rh'],\n",
       "  'metrics': {'standard': {'macro avg f1-score': 0.602},\n",
       "   'drdr': {'unbounded acc': -14.75, 'bounded acc': 0.0},\n",
       "   'custom': {'(hits + near hits)/guesses': 0.564, 'guesses/actions': 7.769}}},\n",
       " '40': {'name': ['meas_temp', 'meas_rh', 'amb_temp', 'amb_rh'],\n",
       "  'metrics': {'standard': {'macro avg f1-score': 0.52},\n",
       "   'drdr': {'unbounded acc': -13.83, 'bounded acc': 0.0},\n",
       "   'custom': {'(hits + near hits)/guesses': 0.537, 'guesses/actions': 3.154}}},\n",
       " '41': {'name': ['meas_temp', 'meas_rh'],\n",
       "  'metrics': {'standard': {'macro avg f1-score': 0.537},\n",
       "   'drdr': {'unbounded acc': -13.68, 'bounded acc': 0.08333},\n",
       "   'custom': {'(hits + near hits)/guesses': 0.586, 'guesses/actions': 2.231}}},\n",
       " '42': {'name': ['dt_meas_temp', 'dt_meas_rh'],\n",
       "  'metrics': {'standard': {'macro avg f1-score': 0.709},\n",
       "   'drdr': {'unbounded acc': -10.25, 'bounded acc': 0.00091},\n",
       "   'custom': {'(hits + near hits)/guesses': 0.446, 'guesses/actions': 4.308}}},\n",
       " '43': {'name': ['meas_temp', 'amb_temp', 'dt_meas_rh', 'dt_amb_rh'],\n",
       "  'metrics': {'standard': {'macro avg f1-score': 0.615},\n",
       "   'drdr': {'unbounded acc': -14.11, 'bounded acc': 0.0},\n",
       "   'custom': {'(hits + near hits)/guesses': 0.533, 'guesses/actions': 5.769}}},\n",
       " '44': {'name': ['meas_temp', 'amb_temp', 'dt_meas_temp', 'dt_amb_rh'],\n",
       "  'metrics': {'standard': {'macro avg f1-score': 0.644},\n",
       "   'drdr': {'unbounded acc': -12.91, 'bounded acc': 0.0},\n",
       "   'custom': {'(hits + near hits)/guesses': 0.6, 'guesses/actions': 4.231}}},\n",
       " '45': {'name': ['meas_temp', 'meas_rh', 'dt_meas_rh', 'dt_amb_temp'],\n",
       "  'metrics': {'standard': {'macro avg f1-score': 0.628},\n",
       "   'drdr': {'unbounded acc': -15.36, 'bounded acc': 0.0},\n",
       "   'custom': {'(hits + near hits)/guesses': 0.551, 'guesses/actions': 5.308}}},\n",
       " '46': {'name': ['amb_temp', 'dt_meas_temp', 'dt_meas_rh', 'dt_amb_temp'],\n",
       "  'metrics': {'standard': {'macro avg f1-score': 0.612},\n",
       "   'drdr': {'unbounded acc': -14.02, 'bounded acc': 0.0},\n",
       "   'custom': {'(hits + near hits)/guesses': 0.494, 'guesses/actions': 5.923}}},\n",
       " '47': {'name': ['meas_temp', 'dt_meas_temp', 'dt_amb_temp', 'dt_amb_rh'],\n",
       "  'metrics': {'standard': {'macro avg f1-score': 0.684},\n",
       "   'drdr': {'unbounded acc': -13.99, 'bounded acc': 0.0},\n",
       "   'custom': {'(hits + near hits)/guesses': 0.574, 'guesses/actions': 4.692}}},\n",
       " '48': {'name': ['meas_temp', 'dt_meas_temp', 'dt_meas_rh', 'dt_amb_rh'],\n",
       "  'metrics': {'standard': {'macro avg f1-score': 0.686},\n",
       "   'drdr': {'unbounded acc': -12.91, 'bounded acc': 0.0},\n",
       "   'custom': {'(hits + near hits)/guesses': 0.551, 'guesses/actions': 3.769}}},\n",
       " '49': {'name': ['meas_rh'],\n",
       "  'metrics': {'standard': {'macro avg f1-score': 0.482},\n",
       "   'drdr': {'unbounded acc': -12.66, 'bounded acc': 0.05556},\n",
       "   'custom': {'(hits + near hits)/guesses': 0.561, 'guesses/actions': 4.385}}},\n",
       " '50': {'name': ['meas_temp', 'meas_rh', 'amb_rh'],\n",
       "  'metrics': {'standard': {'macro avg f1-score': 0.529},\n",
       "   'drdr': {'unbounded acc': -15.7, 'bounded acc': 0.0},\n",
       "   'custom': {'(hits + near hits)/guesses': 0.512, 'guesses/actions': 3.308}}},\n",
       " '51': {'name': ['meas_temp', 'meas_rh', 'dt_amb_temp', 'dt_amb_rh'],\n",
       "  'metrics': {'standard': {'macro avg f1-score': 0.628},\n",
       "   'drdr': {'unbounded acc': -15.49, 'bounded acc': 0.0},\n",
       "   'custom': {'(hits + near hits)/guesses': 0.571, 'guesses/actions': 7.0}}},\n",
       " '52': {'name': ['dt_meas_rh'],\n",
       "  'metrics': {'standard': {'macro avg f1-score': 0.66},\n",
       "   'drdr': {'unbounded acc': -12.39, 'bounded acc': 0.0},\n",
       "   'custom': {'(hits + near hits)/guesses': 0.48, 'guesses/actions': 7.538}}},\n",
       " '53': {'name': ['meas_temp', 'amb_temp', 'amb_rh', 'dt_meas_temp'],\n",
       "  'metrics': {'standard': {'macro avg f1-score': 0.641},\n",
       "   'drdr': {'unbounded acc': -11.38, 'bounded acc': 0.0},\n",
       "   'custom': {'(hits + near hits)/guesses': 0.595, 'guesses/actions': 2.846}}},\n",
       " '54': {'name': ['meas_temp', 'amb_rh', 'dt_meas_rh', 'dt_amb_temp'],\n",
       "  'metrics': {'standard': {'macro avg f1-score': 0.636},\n",
       "   'drdr': {'unbounded acc': -16.05, 'bounded acc': 0.0},\n",
       "   'custom': {'(hits + near hits)/guesses': 0.484, 'guesses/actions': 7.0}}},\n",
       " '55': {'name': ['amb_temp', 'amb_rh'],\n",
       "  'metrics': {'standard': {'macro avg f1-score': 0.542},\n",
       "   'drdr': {'unbounded acc': -12.1, 'bounded acc': 0.0},\n",
       "   'custom': {'(hits + near hits)/guesses': 0.452, 'guesses/actions': 2.385}}},\n",
       " '56': {'name': ['meas_minus_deriv_temp', 'meas_minus_deriv_rh'],\n",
       "  'metrics': {'standard': {'macro avg f1-score': 0.542},\n",
       "   'drdr': {'unbounded acc': -12.28, 'bounded acc': 0.05882},\n",
       "   'custom': {'(hits + near hits)/guesses': 0.549, 'guesses/actions': 3.923}}},\n",
       " '57': {'name': ['meas_temp', 'meas_rh', 'dt_meas_rh', 'dt_amb_rh'],\n",
       "  'metrics': {'standard': {'macro avg f1-score': 0.631},\n",
       "   'drdr': {'unbounded acc': -15.24, 'bounded acc': 0.0},\n",
       "   'custom': {'(hits + near hits)/guesses': 0.522, 'guesses/actions': 5.154}}},\n",
       " '58': {'name': ['meas_temp', 'amb_rh', 'dt_meas_temp', 'dt_amb_temp'],\n",
       "  'metrics': {'standard': {'macro avg f1-score': 0.657},\n",
       "   'drdr': {'unbounded acc': -13.94, 'bounded acc': 0.0},\n",
       "   'custom': {'(hits + near hits)/guesses': 0.536, 'guesses/actions': 5.308}}},\n",
       " '59': {'name': ['amb_temp', 'amb_rh', 'dt_meas_temp', 'dt_amb_temp'],\n",
       "  'metrics': {'standard': {'macro avg f1-score': 0.639},\n",
       "   'drdr': {'unbounded acc': -15.42, 'bounded acc': 0.00063},\n",
       "   'custom': {'(hits + near hits)/guesses': 0.508, 'guesses/actions': 5.0}}},\n",
       " '60': {'name': ['amb_temp', 'dt_meas_rh', 'dt_amb_temp', 'dt_amb_rh'],\n",
       "  'metrics': {'standard': {'macro avg f1-score': 0.581},\n",
       "   'drdr': {'unbounded acc': -15.09, 'bounded acc': 0.0},\n",
       "   'custom': {'(hits + near hits)/guesses': 0.486, 'guesses/actions': 8.077}}},\n",
       " '61': {'name': ['meas_temp', 'meas_rh', 'amb_rh', 'dt_meas_rh'],\n",
       "  'metrics': {'standard': {'macro avg f1-score': 0.545},\n",
       "   'drdr': {'unbounded acc': -15.19, 'bounded acc': 0.0},\n",
       "   'custom': {'(hits + near hits)/guesses': 0.578, 'guesses/actions': 3.462}}},\n",
       " '62': {'name': ['meas_rh', 'amb_temp', 'amb_rh', 'dt_amb_rh'],\n",
       "  'metrics': {'standard': {'macro avg f1-score': 0.539},\n",
       "   'drdr': {'unbounded acc': -14.79, 'bounded acc': 0.0335},\n",
       "   'custom': {'(hits + near hits)/guesses': 0.534, 'guesses/actions': 5.615}}},\n",
       " '63': {'name': ['amb_temp', 'amb_rh', 'dt_meas_rh', 'dt_amb_temp'],\n",
       "  'metrics': {'standard': {'macro avg f1-score': 0.615},\n",
       "   'drdr': {'unbounded acc': -15.1, 'bounded acc': 0.0},\n",
       "   'custom': {'(hits + near hits)/guesses': 0.494, 'guesses/actions': 6.846}}},\n",
       " '64': {'name': ['dt_meas_rh', 'dt_amb_temp', 'dt_amb_rh'],\n",
       "  'metrics': {'standard': {'macro avg f1-score': 0.589},\n",
       "   'drdr': {'unbounded acc': -16.92, 'bounded acc': 0.00026},\n",
       "   'custom': {'(hits + near hits)/guesses': 0.466,\n",
       "    'guesses/actions': 10.077}}},\n",
       " '65': {'name': ['amb_temp', 'dt_meas_temp', 'dt_amb_temp', 'dt_amb_rh'],\n",
       "  'metrics': {'standard': {'macro avg f1-score': 0.61},\n",
       "   'drdr': {'unbounded acc': -13.24, 'bounded acc': 0.00048},\n",
       "   'custom': {'(hits + near hits)/guesses': 0.529, 'guesses/actions': 6.692}}},\n",
       " '66': {'name': ['amb_temp'],\n",
       "  'metrics': {'standard': {'macro avg f1-score': 0.574},\n",
       "   'drdr': {'unbounded acc': -12.76, 'bounded acc': 0.0},\n",
       "   'custom': {'(hits + near hits)/guesses': 0.613, 'guesses/actions': 2.385}}},\n",
       " '67': {'name': ['amb_minus_meas_rh', 'meas_minus_deriv_temp'],\n",
       "  'metrics': {'standard': {'macro avg f1-score': 0.581},\n",
       "   'drdr': {'unbounded acc': -13.48, 'bounded acc': 0.0},\n",
       "   'custom': {'(hits + near hits)/guesses': 0.809, 'guesses/actions': 3.615}}},\n",
       " '68': {'name': ['meas_rh', 'dt_meas_temp', 'dt_meas_rh', 'dt_amb_rh'],\n",
       "  'metrics': {'standard': {'macro avg f1-score': 0.647},\n",
       "   'drdr': {'unbounded acc': -12.34, 'bounded acc': 0.04786},\n",
       "   'custom': {'(hits + near hits)/guesses': 0.49, 'guesses/actions': 3.769}}},\n",
       " '69': {'name': ['meas_temp', 'meas_rh', 'amb_rh', 'dt_meas_temp'],\n",
       "  'metrics': {'standard': {'macro avg f1-score': 0.628},\n",
       "   'drdr': {'unbounded acc': -10.52, 'bounded acc': 0.0},\n",
       "   'custom': {'(hits + near hits)/guesses': 0.69, 'guesses/actions': 2.231}}},\n",
       " '70': {'name': ['meas_rh', 'amb_rh', 'dt_meas_rh', 'dt_amb_temp'],\n",
       "  'metrics': {'standard': {'macro avg f1-score': 0.573},\n",
       "   'drdr': {'unbounded acc': -15.87, 'bounded acc': 0.00038},\n",
       "   'custom': {'(hits + near hits)/guesses': 0.506, 'guesses/actions': 6.846}}},\n",
       " '71': {'name': ['dt_meas_temp'],\n",
       "  'metrics': {'standard': {'macro avg f1-score': 0.634},\n",
       "   'drdr': {'unbounded acc': -14.53, 'bounded acc': 0.0},\n",
       "   'custom': {'(hits + near hits)/guesses': 0.493, 'guesses/actions': 5.769}}},\n",
       " '72': {'name': ['dt_amb_rh'],\n",
       "  'metrics': {'standard': {'macro avg f1-score': 0.549},\n",
       "   'drdr': {'unbounded acc': -15.82, 'bounded acc': 0.0},\n",
       "   'custom': {'(hits + near hits)/guesses': 0.479,\n",
       "    'guesses/actions': 12.692}}},\n",
       " '73': {'name': ['meas_temp', 'amb_temp', 'amb_rh', 'dt_amb_temp'],\n",
       "  'metrics': {'standard': {'macro avg f1-score': 0.616},\n",
       "   'drdr': {'unbounded acc': -14.38, 'bounded acc': 0.0},\n",
       "   'custom': {'(hits + near hits)/guesses': 0.506, 'guesses/actions': 6.846}}},\n",
       " '74': {'name': ['meas_rh', 'amb_temp', 'dt_amb_temp', 'dt_amb_rh'],\n",
       "  'metrics': {'standard': {'macro avg f1-score': 0.548},\n",
       "   'drdr': {'unbounded acc': -14.91, 'bounded acc': 0.0268},\n",
       "   'custom': {'(hits + near hits)/guesses': 0.484, 'guesses/actions': 7.308}}},\n",
       " '75': {'name': ['meas_temp', 'amb_rh', 'dt_meas_rh', 'dt_amb_rh'],\n",
       "  'metrics': {'standard': {'macro avg f1-score': 0.628},\n",
       "   'drdr': {'unbounded acc': -14.81, 'bounded acc': 0.0},\n",
       "   'custom': {'(hits + near hits)/guesses': 0.494, 'guesses/actions': 6.385}}},\n",
       " '76': {'name': ['meas_rh', 'amb_temp', 'dt_meas_rh', 'dt_amb_rh'],\n",
       "  'metrics': {'standard': {'macro avg f1-score': 0.558},\n",
       "   'drdr': {'unbounded acc': -14.29, 'bounded acc': 0.01619},\n",
       "   'custom': {'(hits + near hits)/guesses': 0.548, 'guesses/actions': 5.615}}},\n",
       " '77': {'name': ['dt_amb_temp', 'dt_amb_rh'],\n",
       "  'metrics': {'standard': {'macro avg f1-score': 0.5},\n",
       "   'drdr': {'unbounded acc': -16.36, 'bounded acc': 0.0},\n",
       "   'custom': {'(hits + near hits)/guesses': 0.482,\n",
       "    'guesses/actions': 14.692}}},\n",
       " '78': {'name': ['amb_temp', 'amb_rh', 'dt_amb_temp', 'dt_amb_rh'],\n",
       "  'metrics': {'standard': {'macro avg f1-score': 0.581},\n",
       "   'drdr': {'unbounded acc': -15.48, 'bounded acc': 0.0},\n",
       "   'custom': {'(hits + near hits)/guesses': 0.486, 'guesses/actions': 8.231}}},\n",
       " '79': {'name': ['dt_meas_rh', 'dt_amb_rh'],\n",
       "  'metrics': {'standard': {'macro avg f1-score': 0.626},\n",
       "   'drdr': {'unbounded acc': -15.75, 'bounded acc': 0.0},\n",
       "   'custom': {'(hits + near hits)/guesses': 0.466, 'guesses/actions': 9.077}}},\n",
       " '80': {'name': ['meas_rh', 'amb_temp', 'dt_meas_temp', 'dt_amb_rh'],\n",
       "  'metrics': {'standard': {'macro avg f1-score': 0.594},\n",
       "   'drdr': {'unbounded acc': -15.94, 'bounded acc': 0.02267},\n",
       "   'custom': {'(hits + near hits)/guesses': 0.474, 'guesses/actions': 4.385}}},\n",
       " '81': {'name': ['amb_temp', 'amb_rh', 'dt_meas_temp', 'dt_amb_rh'],\n",
       "  'metrics': {'standard': {'macro avg f1-score': 0.631},\n",
       "   'drdr': {'unbounded acc': -13.85, 'bounded acc': 0.00067},\n",
       "   'custom': {'(hits + near hits)/guesses': 0.569, 'guesses/actions': 5.0}}},\n",
       " '82': {'name': ['amb_rh', 'dt_meas_rh', 'dt_amb_temp', 'dt_amb_rh'],\n",
       "  'metrics': {'standard': {'macro avg f1-score': 0.626},\n",
       "   'drdr': {'unbounded acc': -15.21, 'bounded acc': 0.0},\n",
       "   'custom': {'(hits + near hits)/guesses': 0.45, 'guesses/actions': 8.538}}},\n",
       " '83': {'name': ['dt_meas_temp', 'dt_amb_rh'],\n",
       "  'metrics': {'standard': {'macro avg f1-score': 0.634},\n",
       "   'drdr': {'unbounded acc': -14.48, 'bounded acc': 0.0},\n",
       "   'custom': {'(hits + near hits)/guesses': 0.456, 'guesses/actions': 6.077}}},\n",
       " '84': {'name': ['meas_rh', 'amb_rh', 'dt_amb_temp', 'dt_amb_rh'],\n",
       "  'metrics': {'standard': {'macro avg f1-score': 0.571},\n",
       "   'drdr': {'unbounded acc': -15.7, 'bounded acc': 0.0231},\n",
       "   'custom': {'(hits + near hits)/guesses': 0.457, 'guesses/actions': 8.077}}},\n",
       " '85': {'name': ['amb_minus_meas_temp', 'meas_minus_deriv_temp'],\n",
       "  'metrics': {'standard': {'macro avg f1-score': 0.56},\n",
       "   'drdr': {'unbounded acc': -9.07, 'bounded acc': 0.0},\n",
       "   'custom': {'(hits + near hits)/guesses': 0.596, 'guesses/actions': 3.615}}},\n",
       " '86': {'name': ['meas_rh', 'amb_rh'],\n",
       "  'metrics': {'standard': {'macro avg f1-score': 0.469},\n",
       "   'drdr': {'unbounded acc': -7.79, 'bounded acc': 0.0425},\n",
       "   'custom': {'(hits + near hits)/guesses': 0.435, 'guesses/actions': 1.769}}},\n",
       " '87': {'name': ['meas_temp', 'amb_temp', 'dt_meas_rh', 'dt_amb_temp'],\n",
       "  'metrics': {'standard': {'macro avg f1-score': 0.628},\n",
       "   'drdr': {'unbounded acc': -15.19, 'bounded acc': 0.0},\n",
       "   'custom': {'(hits + near hits)/guesses': 0.506, 'guesses/actions': 6.231}}},\n",
       " '88': {'name': ['amb_minus_meas_rh',\n",
       "   'meas_minus_deriv_temp',\n",
       "   'meas_minus_deriv_rh'],\n",
       "  'metrics': {'standard': {'macro avg f1-score': 0.584},\n",
       "   'drdr': {'unbounded acc': -12.64, 'bounded acc': 0.04467},\n",
       "   'custom': {'(hits + near hits)/guesses': 0.681, 'guesses/actions': 3.615}}},\n",
       " '89': {'name': ['meas_rh', 'amb_rh', 'dt_meas_temp', 'dt_amb_rh'],\n",
       "  'metrics': {'standard': {'macro avg f1-score': 0.61},\n",
       "   'drdr': {'unbounded acc': -13.13, 'bounded acc': 0.00059},\n",
       "   'custom': {'(hits + near hits)/guesses': 0.54, 'guesses/actions': 4.846}}},\n",
       " '90': {'name': ['meas_rh', 'amb_rh', 'dt_meas_rh', 'dt_amb_rh'],\n",
       "  'metrics': {'standard': {'macro avg f1-score': 0.558},\n",
       "   'drdr': {'unbounded acc': -14.59, 'bounded acc': 0.00038},\n",
       "   'custom': {'(hits + near hits)/guesses': 0.494, 'guesses/actions': 6.846}}},\n",
       " '91': {'name': ['meas_temp', 'meas_rh', 'amb_rh', 'dt_amb_temp'],\n",
       "  'metrics': {'standard': {'macro avg f1-score': 0.607},\n",
       "   'drdr': {'unbounded acc': -15.35, 'bounded acc': 0.0},\n",
       "   'custom': {'(hits + near hits)/guesses': 0.494, 'guesses/actions': 6.231}}},\n",
       " '92': {'name': ['amb_minus_meas_rh', 'meas_minus_deriv_rh'],\n",
       "  'metrics': {'standard': {'macro avg f1-score': 0.484},\n",
       "   'drdr': {'unbounded acc': -13.37, 'bounded acc': 0.0},\n",
       "   'custom': {'(hits + near hits)/guesses': 0.612, 'guesses/actions': 3.769}}},\n",
       " '93': {'name': ['meas_temp', 'dt_meas_temp', 'dt_meas_rh', 'dt_amb_temp'],\n",
       "  'metrics': {'standard': {'macro avg f1-score': 0.686},\n",
       "   'drdr': {'unbounded acc': -14.82, 'bounded acc': 0.0},\n",
       "   'custom': {'(hits + near hits)/guesses': 0.528, 'guesses/actions': 4.077}}},\n",
       " '94': {'name': ['meas_rh', 'amb_temp', 'amb_rh', 'dt_meas_temp'],\n",
       "  'metrics': {'standard': {'macro avg f1-score': 0.584},\n",
       "   'drdr': {'unbounded acc': -13.61, 'bounded acc': 0.03091},\n",
       "   'custom': {'(hits + near hits)/guesses': 0.541, 'guesses/actions': 2.846}}},\n",
       " '95': {'name': ['meas_temp', 'amb_temp'],\n",
       "  'metrics': {'standard': {'macro avg f1-score': 0.605},\n",
       "   'drdr': {'unbounded acc': -11.66, 'bounded acc': 0.0},\n",
       "   'custom': {'(hits + near hits)/guesses': 0.568, 'guesses/actions': 2.846}}},\n",
       " '96': {'name': ['dt_meas_temp', 'dt_meas_rh', 'dt_amb_temp', 'dt_amb_rh'],\n",
       "  'metrics': {'standard': {'macro avg f1-score': 0.636},\n",
       "   'drdr': {'unbounded acc': -13.99, 'bounded acc': 0.01478},\n",
       "   'custom': {'(hits + near hits)/guesses': 0.42, 'guesses/actions': 6.231}}},\n",
       " '97': {'name': ['meas_temp'],\n",
       "  'metrics': {'standard': {'macro avg f1-score': 0.539},\n",
       "   'drdr': {'unbounded acc': -14.51, 'bounded acc': 0.02429},\n",
       "   'custom': {'(hits + near hits)/guesses': 0.615, 'guesses/actions': 3.0}}},\n",
       " '98': {'name': ['dt_meas_temp', 'dt_meas_rh', 'dt_amb_rh'],\n",
       "  'metrics': {'standard': {'macro avg f1-score': 0.662},\n",
       "   'drdr': {'unbounded acc': -13.62, 'bounded acc': 0.00053},\n",
       "   'custom': {'(hits + near hits)/guesses': 0.384, 'guesses/actions': 5.615}}},\n",
       " '99': {'name': ['amb_rh'],\n",
       "  'metrics': {'standard': {'macro avg f1-score': 0.563},\n",
       "   'drdr': {'unbounded acc': -13.28, 'bounded acc': 0.0},\n",
       "   'custom': {'(hits + near hits)/guesses': 0.543, 'guesses/actions': 2.692}}},\n",
       " '100': {'name': ['amb_rh', 'dt_meas_temp', 'dt_amb_temp', 'dt_amb_rh'],\n",
       "  'metrics': {'standard': {'macro avg f1-score': 0.641},\n",
       "   'drdr': {'unbounded acc': -15.05, 'bounded acc': 0.00042},\n",
       "   'custom': {'(hits + near hits)/guesses': 0.471, 'guesses/actions': 6.538}}},\n",
       " '101': {'name': ['meas_temp', 'meas_rh', 'amb_rh', 'dt_amb_rh'],\n",
       "  'metrics': {'standard': {'macro avg f1-score': 0.592},\n",
       "   'drdr': {'unbounded acc': -15.08, 'bounded acc': 0.0},\n",
       "   'custom': {'(hits + near hits)/guesses': 0.536, 'guesses/actions': 5.308}}},\n",
       " '102': {'name': ['meas_temp', 'amb_rh', 'dt_meas_temp', 'dt_meas_rh'],\n",
       "  'metrics': {'standard': {'macro avg f1-score': 0.673},\n",
       "   'drdr': {'unbounded acc': -12.68, 'bounded acc': 0.0},\n",
       "   'custom': {'(hits + near hits)/guesses': 0.578, 'guesses/actions': 3.462}}},\n",
       " '103': {'name': ['meas_rh', 'amb_rh', 'dt_meas_temp', 'dt_meas_rh'],\n",
       "  'metrics': {'standard': {'macro avg f1-score': 0.607},\n",
       "   'drdr': {'unbounded acc': -11.87, 'bounded acc': 0.0},\n",
       "   'custom': {'(hits + near hits)/guesses': 0.537, 'guesses/actions': 3.154}}},\n",
       " '104': {'name': ['meas_rh', 'amb_temp', 'amb_rh', 'dt_amb_temp'],\n",
       "  'metrics': {'standard': {'macro avg f1-score': 0.544},\n",
       "   'drdr': {'unbounded acc': -15.46, 'bounded acc': 0.00043},\n",
       "   'custom': {'(hits + near hits)/guesses': 0.531, 'guesses/actions': 6.231}}},\n",
       " '105': {'name': ['amb_rh', 'dt_meas_temp', 'dt_meas_rh', 'dt_amb_rh'],\n",
       "  'metrics': {'standard': {'macro avg f1-score': 0.657},\n",
       "   'drdr': {'unbounded acc': -13.39, 'bounded acc': 0.0},\n",
       "   'custom': {'(hits + near hits)/guesses': 0.507, 'guesses/actions': 5.462}}},\n",
       " '106': {'name': ['meas_temp', 'meas_rh', 'dt_meas_temp', 'dt_amb_rh'],\n",
       "  'metrics': {'standard': {'macro avg f1-score': 0.699},\n",
       "   'drdr': {'unbounded acc': -11.33, 'bounded acc': 0.0},\n",
       "   'custom': {'(hits + near hits)/guesses': 0.622, 'guesses/actions': 3.462}}},\n",
       " '107': {'name': ['meas_rh', 'dt_meas_temp', 'dt_meas_rh', 'dt_amb_temp'],\n",
       "  'metrics': {'standard': {'macro avg f1-score': 0.626},\n",
       "   'drdr': {'unbounded acc': -12.26, 'bounded acc': 0.03941},\n",
       "   'custom': {'(hits + near hits)/guesses': 0.439, 'guesses/actions': 4.385}}},\n",
       " '108': {'name': ['meas_rh', 'amb_temp'],\n",
       "  'metrics': {'standard': {'macro avg f1-score': 0.451},\n",
       "   'drdr': {'unbounded acc': -10.84, 'bounded acc': 0.03778},\n",
       "   'custom': {'(hits + near hits)/guesses': 0.48, 'guesses/actions': 1.923}}},\n",
       " '109': {'name': ['meas_temp', 'amb_temp', 'amb_rh', 'dt_meas_rh'],\n",
       "  'metrics': {'standard': {'macro avg f1-score': 0.615},\n",
       "   'drdr': {'unbounded acc': -13.06, 'bounded acc': 0.0},\n",
       "   'custom': {'(hits + near hits)/guesses': 0.6, 'guesses/actions': 4.231}}},\n",
       " '110': {'name': ['meas_minus_deriv_rh'],\n",
       "  'metrics': {'standard': {'macro avg f1-score': 0.531},\n",
       "   'drdr': {'unbounded acc': -13.32, 'bounded acc': 0.00045},\n",
       "   'custom': {'(hits + near hits)/guesses': 0.514, 'guesses/actions': 8.077}}},\n",
       " '111': {'name': ['meas_rh', 'amb_temp', 'dt_meas_rh', 'dt_amb_temp'],\n",
       "  'metrics': {'standard': {'macro avg f1-score': 0.542},\n",
       "   'drdr': {'unbounded acc': -14.76, 'bounded acc': 0.0005},\n",
       "   'custom': {'(hits + near hits)/guesses': 0.507, 'guesses/actions': 5.615}}},\n",
       " '112': {'name': ['meas_temp', 'amb_rh'],\n",
       "  'metrics': {'standard': {'macro avg f1-score': 0.628},\n",
       "   'drdr': {'unbounded acc': -12.89, 'bounded acc': 0.0},\n",
       "   'custom': {'(hits + near hits)/guesses': 0.581, 'guesses/actions': 3.308}}}}"
      ]
     },
     "execution_count": 109,
     "metadata": {},
     "output_type": "execute_result"
    }
   ],
   "source": [
    "svm_data[\"exp_A\"]"
   ]
  }
 ],
 "metadata": {
  "kernelspec": {
   "display_name": "localwindowsenv",
   "language": "python",
   "name": "python3"
  },
  "language_info": {
   "codemirror_mode": {
    "name": "ipython",
    "version": 3
   },
   "file_extension": ".py",
   "mimetype": "text/x-python",
   "name": "python",
   "nbconvert_exporter": "python",
   "pygments_lexer": "ipython3",
   "version": "3.9.15"
  },
  "orig_nbformat": 4
 },
 "nbformat": 4,
 "nbformat_minor": 2
}
