{
 "cells": [
  {
   "cell_type": "code",
   "execution_count": 43,
   "metadata": {},
   "outputs": [],
   "source": [
    "import pandas as pd\n",
    "import numpy as np\n",
    "\n",
    "import sys\n",
    "sys.path.insert(0, \"../scripts\")\n",
    "import helpers as h\n",
    "import window_detect2 as w\n",
    "import ml_window as m\n",
    "from icecream import ic\n",
    "\n",
    "import itertools\n",
    "import pickle\n",
    "import json "
   ]
  },
  {
   "attachments": {},
   "cell_type": "markdown",
   "metadata": {},
   "source": [
    "## create variations of data "
   ]
  },
  {
   "cell_type": "code",
   "execution_count": 44,
   "metadata": {},
   "outputs": [],
   "source": [
    "# import data\n",
    "a00, a01 = h.import_desired_data(\"A\", \"15T\")\n",
    "window_sched = np.array(a01[\"Window Open\"]) # truth "
   ]
  },
  {
   "cell_type": "code",
   "execution_count": 45,
   "metadata": {},
   "outputs": [],
   "source": [
    "arrs = {}\n",
    "# measured data \n",
    "arrs[\"meas_temp\"] = a01[\"Temp C\"]\n",
    "arrs[\"meas_rh\"] = a01[\"RH %\"]\n",
    "\n",
    "# ambient data \n",
    "arrs[\"amb_temp\"] = a01[\"Ambient Temp\"]\n",
    "arrs[\"amb_rh\"] = a01[\"Ambient RH\"]\n",
    "\n",
    "arrs = {k: np.array(h.normalize(v)) for k,v in arrs.items()}\n",
    "\n",
    "# derivatives\n",
    "derivs = {f\"dt_{k}\": h.normalize(np.gradient(v)) for k,v in arrs.items()}"
   ]
  },
  {
   "cell_type": "code",
   "execution_count": 46,
   "metadata": {},
   "outputs": [],
   "source": [
    "# meausred/ambient temp difference \n",
    "diffs = {}\n",
    "diffs[\"amb_minus_meas_temp\"] = arrs[\"amb_temp\"] - arrs[\"meas_temp\"]\n",
    "diffs[\"amb_minus_meas_rh\"] = arrs[\"amb_rh\"] - arrs[\"meas_rh\"]\n",
    "\n",
    "diffs[\"meas_minus_deriv_temp\"] = arrs[\"meas_temp\"] - derivs[\"dt_meas_temp\"]\n",
    "diffs[\"meas_minus_deriv_rh\"] = arrs[\"meas_rh\"] - derivs[\"dt_meas_rh\"]\n",
    "\n",
    "diffs = {k: h.normalize(v) for k,v in diffs.items()}\n"
   ]
  },
  {
   "cell_type": "code",
   "execution_count": 47,
   "metadata": {},
   "outputs": [
    {
     "data": {
      "text/plain": [
       "dict_keys(['meas_temp', 'meas_rh', 'amb_temp', 'amb_rh', 'dt_meas_temp', 'dt_meas_rh', 'dt_amb_temp', 'dt_amb_rh', 'amb_minus_meas_temp', 'amb_minus_meas_rh', 'meas_minus_deriv_temp', 'meas_minus_deriv_rh'])"
      ]
     },
     "execution_count": 47,
     "metadata": {},
     "output_type": "execute_result"
    }
   ],
   "source": [
    "# all data \n",
    "all_data = arrs | derivs | diffs\n",
    "all_data.keys()"
   ]
  },
  {
   "cell_type": "code",
   "execution_count": 48,
   "metadata": {},
   "outputs": [],
   "source": [
    "# making keys\n",
    "\n",
    "keys = {}\n",
    "sets = {}\n",
    "dict_names= [\"arrs\", \"derivs\", \"diffs\"]\n",
    "dicts = [arrs, derivs, diffs]\n",
    "\n",
    "for name, dict_i in zip(dict_names, dicts):\n",
    "    keys[name] = list(dict_i.keys())\n",
    "    sets[name] = list(dict_i.keys())\n",
    "\n"
   ]
  },
  {
   "cell_type": "code",
   "execution_count": 49,
   "metadata": {},
   "outputs": [],
   "source": [
    "# within set combinations, from length 2, up to the length of number of keys in each dictionary\n",
    "for k, v in keys.items():\n",
    "    # print(f\"\\n  {k}, {len(v)}\")\n",
    "    for i in range(len(v)+1)[2:]:\n",
    "        for comb in itertools.combinations(v, i):\n",
    "            sets[k].append(comb)\n",
    "\n",
    "# across set combinations, only up to length 4 (which excludes a lot of combos but oh well )\n",
    "keys[\"combined\"] = keys[\"arrs\"] + keys[\"derivs\"] # + keys[\"diffs\"]\n",
    "\n",
    "sets[\"combined\"] = []\n",
    "for comb in itertools.combinations(keys[\"combined\"], 4):\n",
    "        sets[\"combined\"].append(comb)"
   ]
  },
  {
   "cell_type": "code",
   "execution_count": 50,
   "metadata": {},
   "outputs": [
    {
     "data": {
      "text/plain": [
       "113"
      ]
     },
     "execution_count": 50,
     "metadata": {},
     "output_type": "execute_result"
    }
   ],
   "source": [
    "# find unique elements across all sets\n",
    "true_sets = {k: set(v) for k,v in sets.items()}\n",
    "true_set_list = list(true_sets.values())\n",
    "test_set = list(set.union(*true_set_list))\n",
    "len(test_set)\n"
   ]
  },
  {
   "cell_type": "code",
   "execution_count": 51,
   "metadata": {},
   "outputs": [
    {
     "data": {
      "text/plain": [
       "tuple"
      ]
     },
     "execution_count": 51,
     "metadata": {},
     "output_type": "execute_result"
    }
   ],
   "source": [
    "type(test_set[0])"
   ]
  },
  {
   "cell_type": "code",
   "execution_count": 52,
   "metadata": {},
   "outputs": [
    {
     "data": {
      "text/plain": [
       "{'data': [['amb_minus_meas_temp',\n",
       "   'meas_minus_deriv_temp',\n",
       "   'meas_minus_deriv_rh'],\n",
       "  ['meas_temp', 'meas_rh', 'amb_temp', 'dt_meas_rh'],\n",
       "  ['dt_meas_rh', 'dt_amb_temp'],\n",
       "  ['meas_rh', 'amb_temp', 'dt_meas_temp', 'dt_amb_temp'],\n",
       "  ['dt_meas_temp', 'dt_amb_temp'],\n",
       "  ['amb_temp', 'dt_meas_temp', 'dt_meas_rh', 'dt_amb_rh'],\n",
       "  ['meas_temp', 'meas_rh', 'amb_temp', 'dt_meas_temp'],\n",
       "  ['amb_minus_meas_temp', 'amb_minus_meas_rh', 'meas_minus_deriv_temp'],\n",
       "  ['meas_temp', 'amb_temp', 'dt_meas_temp', 'dt_meas_rh'],\n",
       "  ['meas_rh', 'amb_rh', 'dt_meas_temp', 'dt_amb_temp'],\n",
       "  ['meas_rh', 'dt_meas_rh', 'dt_amb_temp', 'dt_amb_rh'],\n",
       "  ['meas_temp', 'meas_rh', 'dt_meas_temp', 'dt_meas_rh'],\n",
       "  ['meas_temp', 'dt_meas_rh', 'dt_amb_temp', 'dt_amb_rh'],\n",
       "  ['meas_rh', 'dt_meas_temp', 'dt_amb_temp', 'dt_amb_rh'],\n",
       "  ['meas_rh', 'amb_temp', 'amb_rh'],\n",
       "  ['meas_temp', 'amb_rh', 'dt_amb_temp', 'dt_amb_rh'],\n",
       "  ['dt_meas_temp', 'dt_meas_rh', 'dt_amb_temp'],\n",
       "  ['amb_minus_meas_temp'],\n",
       "  ['meas_temp', 'amb_rh', 'dt_meas_temp', 'dt_amb_rh'],\n",
       "  ['meas_temp', 'meas_rh', 'amb_temp', 'dt_amb_temp'],\n",
       "  ['amb_temp', 'amb_rh', 'dt_meas_rh', 'dt_amb_rh'],\n",
       "  ['amb_minus_meas_temp', 'amb_minus_meas_rh'],\n",
       "  ['meas_temp', 'meas_rh', 'amb_temp'],\n",
       "  ['amb_minus_meas_temp',\n",
       "   'amb_minus_meas_rh',\n",
       "   'meas_minus_deriv_temp',\n",
       "   'meas_minus_deriv_rh'],\n",
       "  ['meas_minus_deriv_temp'],\n",
       "  ['amb_minus_meas_temp', 'amb_minus_meas_rh', 'meas_minus_deriv_rh'],\n",
       "  ['dt_amb_temp'],\n",
       "  ['meas_rh', 'amb_temp', 'amb_rh', 'dt_meas_rh'],\n",
       "  ['amb_rh', 'dt_meas_temp', 'dt_meas_rh', 'dt_amb_temp'],\n",
       "  ['meas_temp', 'amb_temp', 'dt_meas_temp', 'dt_amb_temp'],\n",
       "  ['meas_temp', 'meas_rh', 'dt_meas_temp', 'dt_amb_temp'],\n",
       "  ['meas_temp', 'amb_temp', 'amb_rh', 'dt_amb_rh'],\n",
       "  ['meas_temp', 'meas_rh', 'amb_temp', 'dt_amb_rh'],\n",
       "  ['meas_temp', 'amb_temp', 'amb_rh'],\n",
       "  ['dt_meas_temp', 'dt_amb_temp', 'dt_amb_rh'],\n",
       "  ['amb_minus_meas_temp', 'meas_minus_deriv_rh'],\n",
       "  ['amb_minus_meas_rh'],\n",
       "  ['meas_rh', 'amb_temp', 'dt_meas_temp', 'dt_meas_rh'],\n",
       "  ['amb_temp', 'amb_rh', 'dt_meas_temp', 'dt_meas_rh'],\n",
       "  ['meas_temp', 'amb_temp', 'dt_amb_temp', 'dt_amb_rh'],\n",
       "  ['meas_temp', 'meas_rh', 'amb_temp', 'amb_rh'],\n",
       "  ['meas_temp', 'meas_rh'],\n",
       "  ['dt_meas_temp', 'dt_meas_rh'],\n",
       "  ['meas_temp', 'amb_temp', 'dt_meas_rh', 'dt_amb_rh'],\n",
       "  ['meas_temp', 'amb_temp', 'dt_meas_temp', 'dt_amb_rh'],\n",
       "  ['meas_temp', 'meas_rh', 'dt_meas_rh', 'dt_amb_temp'],\n",
       "  ['amb_temp', 'dt_meas_temp', 'dt_meas_rh', 'dt_amb_temp'],\n",
       "  ['meas_temp', 'dt_meas_temp', 'dt_amb_temp', 'dt_amb_rh'],\n",
       "  ['meas_temp', 'dt_meas_temp', 'dt_meas_rh', 'dt_amb_rh'],\n",
       "  ['meas_rh'],\n",
       "  ['meas_temp', 'meas_rh', 'amb_rh'],\n",
       "  ['meas_temp', 'meas_rh', 'dt_amb_temp', 'dt_amb_rh'],\n",
       "  ['dt_meas_rh'],\n",
       "  ['meas_temp', 'amb_temp', 'amb_rh', 'dt_meas_temp'],\n",
       "  ['meas_temp', 'amb_rh', 'dt_meas_rh', 'dt_amb_temp'],\n",
       "  ['amb_temp', 'amb_rh'],\n",
       "  ['meas_minus_deriv_temp', 'meas_minus_deriv_rh'],\n",
       "  ['meas_temp', 'meas_rh', 'dt_meas_rh', 'dt_amb_rh'],\n",
       "  ['meas_temp', 'amb_rh', 'dt_meas_temp', 'dt_amb_temp'],\n",
       "  ['amb_temp', 'amb_rh', 'dt_meas_temp', 'dt_amb_temp'],\n",
       "  ['amb_temp', 'dt_meas_rh', 'dt_amb_temp', 'dt_amb_rh'],\n",
       "  ['meas_temp', 'meas_rh', 'amb_rh', 'dt_meas_rh'],\n",
       "  ['meas_rh', 'amb_temp', 'amb_rh', 'dt_amb_rh'],\n",
       "  ['amb_temp', 'amb_rh', 'dt_meas_rh', 'dt_amb_temp'],\n",
       "  ['dt_meas_rh', 'dt_amb_temp', 'dt_amb_rh'],\n",
       "  ['amb_temp', 'dt_meas_temp', 'dt_amb_temp', 'dt_amb_rh'],\n",
       "  ['amb_temp'],\n",
       "  ['amb_minus_meas_rh', 'meas_minus_deriv_temp'],\n",
       "  ['meas_rh', 'dt_meas_temp', 'dt_meas_rh', 'dt_amb_rh'],\n",
       "  ['meas_temp', 'meas_rh', 'amb_rh', 'dt_meas_temp'],\n",
       "  ['meas_rh', 'amb_rh', 'dt_meas_rh', 'dt_amb_temp'],\n",
       "  ['dt_meas_temp'],\n",
       "  ['dt_amb_rh'],\n",
       "  ['meas_temp', 'amb_temp', 'amb_rh', 'dt_amb_temp'],\n",
       "  ['meas_rh', 'amb_temp', 'dt_amb_temp', 'dt_amb_rh'],\n",
       "  ['meas_temp', 'amb_rh', 'dt_meas_rh', 'dt_amb_rh'],\n",
       "  ['meas_rh', 'amb_temp', 'dt_meas_rh', 'dt_amb_rh'],\n",
       "  ['dt_amb_temp', 'dt_amb_rh'],\n",
       "  ['amb_temp', 'amb_rh', 'dt_amb_temp', 'dt_amb_rh'],\n",
       "  ['dt_meas_rh', 'dt_amb_rh'],\n",
       "  ['meas_rh', 'amb_temp', 'dt_meas_temp', 'dt_amb_rh'],\n",
       "  ['amb_temp', 'amb_rh', 'dt_meas_temp', 'dt_amb_rh'],\n",
       "  ['amb_rh', 'dt_meas_rh', 'dt_amb_temp', 'dt_amb_rh'],\n",
       "  ['dt_meas_temp', 'dt_amb_rh'],\n",
       "  ['meas_rh', 'amb_rh', 'dt_amb_temp', 'dt_amb_rh'],\n",
       "  ['amb_minus_meas_temp', 'meas_minus_deriv_temp'],\n",
       "  ['meas_rh', 'amb_rh'],\n",
       "  ['meas_temp', 'amb_temp', 'dt_meas_rh', 'dt_amb_temp'],\n",
       "  ['amb_minus_meas_rh', 'meas_minus_deriv_temp', 'meas_minus_deriv_rh'],\n",
       "  ['meas_rh', 'amb_rh', 'dt_meas_temp', 'dt_amb_rh'],\n",
       "  ['meas_rh', 'amb_rh', 'dt_meas_rh', 'dt_amb_rh'],\n",
       "  ['meas_temp', 'meas_rh', 'amb_rh', 'dt_amb_temp'],\n",
       "  ['amb_minus_meas_rh', 'meas_minus_deriv_rh'],\n",
       "  ['meas_temp', 'dt_meas_temp', 'dt_meas_rh', 'dt_amb_temp'],\n",
       "  ['meas_rh', 'amb_temp', 'amb_rh', 'dt_meas_temp'],\n",
       "  ['meas_temp', 'amb_temp'],\n",
       "  ['dt_meas_temp', 'dt_meas_rh', 'dt_amb_temp', 'dt_amb_rh'],\n",
       "  ['meas_temp'],\n",
       "  ['dt_meas_temp', 'dt_meas_rh', 'dt_amb_rh'],\n",
       "  ['amb_rh'],\n",
       "  ['amb_rh', 'dt_meas_temp', 'dt_amb_temp', 'dt_amb_rh'],\n",
       "  ['meas_temp', 'meas_rh', 'amb_rh', 'dt_amb_rh'],\n",
       "  ['meas_temp', 'amb_rh', 'dt_meas_temp', 'dt_meas_rh'],\n",
       "  ['meas_rh', 'amb_rh', 'dt_meas_temp', 'dt_meas_rh'],\n",
       "  ['meas_rh', 'amb_temp', 'amb_rh', 'dt_amb_temp'],\n",
       "  ['amb_rh', 'dt_meas_temp', 'dt_meas_rh', 'dt_amb_rh'],\n",
       "  ['meas_temp', 'meas_rh', 'dt_meas_temp', 'dt_amb_rh'],\n",
       "  ['meas_rh', 'dt_meas_temp', 'dt_meas_rh', 'dt_amb_temp'],\n",
       "  ['meas_rh', 'amb_temp'],\n",
       "  ['meas_temp', 'amb_temp', 'amb_rh', 'dt_meas_rh'],\n",
       "  ['meas_minus_deriv_rh'],\n",
       "  ['meas_rh', 'amb_temp', 'dt_meas_rh', 'dt_amb_temp'],\n",
       "  ['meas_temp', 'amb_rh']]}"
      ]
     },
     "execution_count": 52,
     "metadata": {},
     "output_type": "execute_result"
    }
   ],
   "source": [
    "test_set = [[i] if type(i) is not tuple else list(i)  for i in test_set]\n",
    "test_set_data = {\n",
    "    \"data\" : test_set\n",
    "}\n",
    "test_set_data"
   ]
  },
  {
   "cell_type": "code",
   "execution_count": 53,
   "metadata": {},
   "outputs": [],
   "source": [
    "with open('../constants/test_set_230703.json','w') as f:\n",
    "    json.dump(test_set_data,f)"
   ]
  }
 ],
 "metadata": {
  "kernelspec": {
   "display_name": "localwindowsenv",
   "language": "python",
   "name": "python3"
  },
  "language_info": {
   "codemirror_mode": {
    "name": "ipython",
    "version": 3
   },
   "file_extension": ".py",
   "mimetype": "text/x-python",
   "name": "python",
   "nbconvert_exporter": "python",
   "pygments_lexer": "ipython3",
   "version": "3.9.15"
  },
  "orig_nbformat": 4
 },
 "nbformat": 4,
 "nbformat_minor": 2
}
