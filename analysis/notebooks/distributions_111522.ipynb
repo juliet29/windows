{
 "cells": [
  {
   "cell_type": "markdown",
   "metadata": {},
   "source": [
    "# Distributions 11/15/22\n",
    "\n",
    "* Goal 11/15/22: look at distributions of the data ...\n",
    "\n"
   ]
  },
  {
   "cell_type": "code",
   "execution_count": 17,
   "metadata": {},
   "outputs": [],
   "source": [
    "import json\n",
    "import datetime\n",
    "import pandas as pd\n",
    "import numpy as np\n",
    "import sys\n",
    "import os\n",
    "\n",
    "import plotly.express as px\n",
    "import plotly.graph_objects as go\n",
    "\n",
    "\n",
    "import seaborn as sns\n",
    "import seaborn.objects as so\n",
    "# Apply the default theme\n",
    "sns.set_theme()\n",
    "import matplotlib.pyplot as plt\n"
   ]
  },
  {
   "cell_type": "code",
   "execution_count": 18,
   "metadata": {},
   "outputs": [
    {
     "data": {
      "text/html": [
       "<div>\n",
       "<style scoped>\n",
       "    .dataframe tbody tr th:only-of-type {\n",
       "        vertical-align: middle;\n",
       "    }\n",
       "\n",
       "    .dataframe tbody tr th {\n",
       "        vertical-align: top;\n",
       "    }\n",
       "\n",
       "    .dataframe thead th {\n",
       "        text-align: right;\n",
       "    }\n",
       "</style>\n",
       "<table border=\"1\" class=\"dataframe\">\n",
       "  <thead>\n",
       "    <tr style=\"text-align: right;\">\n",
       "      <th></th>\n",
       "      <th>DateTime</th>\n",
       "      <th>Temp C</th>\n",
       "      <th>RH %</th>\n",
       "      <th>Room</th>\n",
       "      <th>Ambient Temp</th>\n",
       "      <th>Ambient RH</th>\n",
       "      <th>Window Open</th>\n",
       "    </tr>\n",
       "  </thead>\n",
       "  <tbody>\n",
       "    <tr>\n",
       "      <th>0</th>\n",
       "      <td>2022-07-20 07:20:00</td>\n",
       "      <td>23.189</td>\n",
       "      <td>51.268</td>\n",
       "      <td>0</td>\n",
       "      <td>14.333333</td>\n",
       "      <td>30.555556</td>\n",
       "      <td>1</td>\n",
       "    </tr>\n",
       "    <tr>\n",
       "      <th>1</th>\n",
       "      <td>2022-07-20 07:20:30</td>\n",
       "      <td>23.189</td>\n",
       "      <td>51.362</td>\n",
       "      <td>0</td>\n",
       "      <td>14.333333</td>\n",
       "      <td>30.555556</td>\n",
       "      <td>1</td>\n",
       "    </tr>\n",
       "    <tr>\n",
       "      <th>2</th>\n",
       "      <td>2022-07-20 07:21:00</td>\n",
       "      <td>23.189</td>\n",
       "      <td>51.488</td>\n",
       "      <td>0</td>\n",
       "      <td>14.333333</td>\n",
       "      <td>30.555556</td>\n",
       "      <td>1</td>\n",
       "    </tr>\n",
       "    <tr>\n",
       "      <th>3</th>\n",
       "      <td>2022-07-20 07:21:30</td>\n",
       "      <td>23.189</td>\n",
       "      <td>51.457</td>\n",
       "      <td>0</td>\n",
       "      <td>14.333333</td>\n",
       "      <td>30.555556</td>\n",
       "      <td>1</td>\n",
       "    </tr>\n",
       "    <tr>\n",
       "      <th>4</th>\n",
       "      <td>2022-07-20 07:22:00</td>\n",
       "      <td>23.165</td>\n",
       "      <td>51.517</td>\n",
       "      <td>0</td>\n",
       "      <td>14.333333</td>\n",
       "      <td>30.555556</td>\n",
       "      <td>1</td>\n",
       "    </tr>\n",
       "    <tr>\n",
       "      <th>...</th>\n",
       "      <td>...</td>\n",
       "      <td>...</td>\n",
       "      <td>...</td>\n",
       "      <td>...</td>\n",
       "      <td>...</td>\n",
       "      <td>...</td>\n",
       "      <td>...</td>\n",
       "    </tr>\n",
       "    <tr>\n",
       "      <th>123601</th>\n",
       "      <td>2022-09-11 07:58:00</td>\n",
       "      <td>29.196</td>\n",
       "      <td>50.861</td>\n",
       "      <td>1</td>\n",
       "      <td>19.611111</td>\n",
       "      <td>30.000000</td>\n",
       "      <td>0</td>\n",
       "    </tr>\n",
       "    <tr>\n",
       "      <th>123602</th>\n",
       "      <td>2022-09-11 07:58:30</td>\n",
       "      <td>29.196</td>\n",
       "      <td>50.861</td>\n",
       "      <td>1</td>\n",
       "      <td>19.611111</td>\n",
       "      <td>30.000000</td>\n",
       "      <td>0</td>\n",
       "    </tr>\n",
       "    <tr>\n",
       "      <th>123603</th>\n",
       "      <td>2022-09-11 07:59:00</td>\n",
       "      <td>29.196</td>\n",
       "      <td>50.796</td>\n",
       "      <td>1</td>\n",
       "      <td>19.611111</td>\n",
       "      <td>30.000000</td>\n",
       "      <td>0</td>\n",
       "    </tr>\n",
       "    <tr>\n",
       "      <th>123604</th>\n",
       "      <td>2022-09-11 07:59:30</td>\n",
       "      <td>29.196</td>\n",
       "      <td>50.796</td>\n",
       "      <td>1</td>\n",
       "      <td>19.611111</td>\n",
       "      <td>30.000000</td>\n",
       "      <td>0</td>\n",
       "    </tr>\n",
       "    <tr>\n",
       "      <th>123605</th>\n",
       "      <td>2022-09-11 08:00:00</td>\n",
       "      <td>29.196</td>\n",
       "      <td>50.796</td>\n",
       "      <td>1</td>\n",
       "      <td>19.833333</td>\n",
       "      <td>30.000000</td>\n",
       "      <td>0</td>\n",
       "    </tr>\n",
       "  </tbody>\n",
       "</table>\n",
       "<p>123606 rows × 7 columns</p>\n",
       "</div>"
      ],
      "text/plain": [
       "                  DateTime  Temp C    RH %  Room  Ambient Temp  Ambient RH  \\\n",
       "0      2022-07-20 07:20:00  23.189  51.268     0     14.333333   30.555556   \n",
       "1      2022-07-20 07:20:30  23.189  51.362     0     14.333333   30.555556   \n",
       "2      2022-07-20 07:21:00  23.189  51.488     0     14.333333   30.555556   \n",
       "3      2022-07-20 07:21:30  23.189  51.457     0     14.333333   30.555556   \n",
       "4      2022-07-20 07:22:00  23.165  51.517     0     14.333333   30.555556   \n",
       "...                    ...     ...     ...   ...           ...         ...   \n",
       "123601 2022-09-11 07:58:00  29.196  50.861     1     19.611111   30.000000   \n",
       "123602 2022-09-11 07:58:30  29.196  50.861     1     19.611111   30.000000   \n",
       "123603 2022-09-11 07:59:00  29.196  50.796     1     19.611111   30.000000   \n",
       "123604 2022-09-11 07:59:30  29.196  50.796     1     19.611111   30.000000   \n",
       "123605 2022-09-11 08:00:00  29.196  50.796     1     19.833333   30.000000   \n",
       "\n",
       "        Window Open  \n",
       "0                 1  \n",
       "1                 1  \n",
       "2                 1  \n",
       "3                 1  \n",
       "4                 1  \n",
       "...             ...  \n",
       "123601            0  \n",
       "123602            0  \n",
       "123603            0  \n",
       "123604            0  \n",
       "123605            0  \n",
       "\n",
       "[123606 rows x 7 columns]"
      ]
     },
     "execution_count": 18,
     "metadata": {},
     "output_type": "execute_result"
    }
   ],
   "source": [
    "df = pd.read_csv(\"../constants/td_ambient_102022.csv\", )\n",
    "df[\"DateTime\"] = pd.to_datetime(df[\"DateTime\"])\n",
    "df"
   ]
  },
  {
   "cell_type": "code",
   "execution_count": 19,
   "metadata": {},
   "outputs": [],
   "source": [
    "# add temperature and rh deltas for each observation \n",
    "df[\"T_Delta\"] =  df[\"Temp C\"] - df[\"Ambient Temp\"]\n",
    "df[\"RH_Delta\"] =  df[\"RH %\"]- df[\"Ambient RH\"]\n"
   ]
  },
  {
   "cell_type": "code",
   "execution_count": 20,
   "metadata": {},
   "outputs": [
    {
     "data": {
      "text/html": [
       "<div>\n",
       "<style scoped>\n",
       "    .dataframe tbody tr th:only-of-type {\n",
       "        vertical-align: middle;\n",
       "    }\n",
       "\n",
       "    .dataframe tbody tr th {\n",
       "        vertical-align: top;\n",
       "    }\n",
       "\n",
       "    .dataframe thead th {\n",
       "        text-align: right;\n",
       "    }\n",
       "</style>\n",
       "<table border=\"1\" class=\"dataframe\">\n",
       "  <thead>\n",
       "    <tr style=\"text-align: right;\">\n",
       "      <th></th>\n",
       "      <th>DateTime</th>\n",
       "      <th>Temp C</th>\n",
       "      <th>RH %</th>\n",
       "      <th>Room</th>\n",
       "      <th>Ambient Temp</th>\n",
       "      <th>Ambient RH</th>\n",
       "      <th>Window Open</th>\n",
       "      <th>T_Delta</th>\n",
       "      <th>RH_Delta</th>\n",
       "    </tr>\n",
       "  </thead>\n",
       "  <tbody>\n",
       "    <tr>\n",
       "      <th>0</th>\n",
       "      <td>2022-07-20 07:20:00</td>\n",
       "      <td>23.189</td>\n",
       "      <td>51.268</td>\n",
       "      <td>0</td>\n",
       "      <td>14.333333</td>\n",
       "      <td>30.555556</td>\n",
       "      <td>1</td>\n",
       "      <td>8.855667</td>\n",
       "      <td>20.712444</td>\n",
       "    </tr>\n",
       "    <tr>\n",
       "      <th>1</th>\n",
       "      <td>2022-07-20 07:20:30</td>\n",
       "      <td>23.189</td>\n",
       "      <td>51.362</td>\n",
       "      <td>0</td>\n",
       "      <td>14.333333</td>\n",
       "      <td>30.555556</td>\n",
       "      <td>1</td>\n",
       "      <td>8.855667</td>\n",
       "      <td>20.806444</td>\n",
       "    </tr>\n",
       "    <tr>\n",
       "      <th>2</th>\n",
       "      <td>2022-07-20 07:21:00</td>\n",
       "      <td>23.189</td>\n",
       "      <td>51.488</td>\n",
       "      <td>0</td>\n",
       "      <td>14.333333</td>\n",
       "      <td>30.555556</td>\n",
       "      <td>1</td>\n",
       "      <td>8.855667</td>\n",
       "      <td>20.932444</td>\n",
       "    </tr>\n",
       "    <tr>\n",
       "      <th>3</th>\n",
       "      <td>2022-07-20 07:21:30</td>\n",
       "      <td>23.189</td>\n",
       "      <td>51.457</td>\n",
       "      <td>0</td>\n",
       "      <td>14.333333</td>\n",
       "      <td>30.555556</td>\n",
       "      <td>1</td>\n",
       "      <td>8.855667</td>\n",
       "      <td>20.901444</td>\n",
       "    </tr>\n",
       "    <tr>\n",
       "      <th>4</th>\n",
       "      <td>2022-07-20 07:22:00</td>\n",
       "      <td>23.165</td>\n",
       "      <td>51.517</td>\n",
       "      <td>0</td>\n",
       "      <td>14.333333</td>\n",
       "      <td>30.555556</td>\n",
       "      <td>1</td>\n",
       "      <td>8.831667</td>\n",
       "      <td>20.961444</td>\n",
       "    </tr>\n",
       "  </tbody>\n",
       "</table>\n",
       "</div>"
      ],
      "text/plain": [
       "             DateTime  Temp C    RH %  Room  Ambient Temp  Ambient RH  \\\n",
       "0 2022-07-20 07:20:00  23.189  51.268     0     14.333333   30.555556   \n",
       "1 2022-07-20 07:20:30  23.189  51.362     0     14.333333   30.555556   \n",
       "2 2022-07-20 07:21:00  23.189  51.488     0     14.333333   30.555556   \n",
       "3 2022-07-20 07:21:30  23.189  51.457     0     14.333333   30.555556   \n",
       "4 2022-07-20 07:22:00  23.165  51.517     0     14.333333   30.555556   \n",
       "\n",
       "   Window Open   T_Delta   RH_Delta  \n",
       "0            1  8.855667  20.712444  \n",
       "1            1  8.855667  20.806444  \n",
       "2            1  8.855667  20.932444  \n",
       "3            1  8.855667  20.901444  \n",
       "4            1  8.831667  20.961444  "
      ]
     },
     "execution_count": 20,
     "metadata": {},
     "output_type": "execute_result"
    }
   ],
   "source": [
    "df.head()"
   ]
  },
  {
   "cell_type": "code",
   "execution_count": 21,
   "metadata": {},
   "outputs": [
    {
     "data": {
      "text/plain": [
       "0         23.189\n",
       "1         23.189\n",
       "2         23.189\n",
       "3         23.189\n",
       "4         23.165\n",
       "           ...  \n",
       "123601    29.196\n",
       "123602    29.196\n",
       "123603    29.196\n",
       "123604    29.196\n",
       "123605    29.196\n",
       "Name: Temp C, Length: 123606, dtype: float64"
      ]
     },
     "execution_count": 21,
     "metadata": {},
     "output_type": "execute_result"
    }
   ],
   "source": [
    "df[\"Temp C\"]"
   ]
  },
  {
   "cell_type": "markdown",
   "metadata": {},
   "source": [
    "# Grouping and Statistics "
   ]
  },
  {
   "cell_type": "code",
   "execution_count": 22,
   "metadata": {},
   "outputs": [
    {
     "data": {
      "text/html": [
       "<div>\n",
       "<style scoped>\n",
       "    .dataframe tbody tr th:only-of-type {\n",
       "        vertical-align: middle;\n",
       "    }\n",
       "\n",
       "    .dataframe tbody tr th {\n",
       "        vertical-align: top;\n",
       "    }\n",
       "\n",
       "    .dataframe thead tr th {\n",
       "        text-align: left;\n",
       "    }\n",
       "\n",
       "    .dataframe thead tr:last-of-type th {\n",
       "        text-align: right;\n",
       "    }\n",
       "</style>\n",
       "<table border=\"1\" class=\"dataframe\">\n",
       "  <thead>\n",
       "    <tr>\n",
       "      <th></th>\n",
       "      <th colspan=\"2\" halign=\"left\">T_Delta</th>\n",
       "      <th colspan=\"2\" halign=\"left\">RH_Delta</th>\n",
       "    </tr>\n",
       "    <tr>\n",
       "      <th></th>\n",
       "      <th>mean</th>\n",
       "      <th>std</th>\n",
       "      <th>mean</th>\n",
       "      <th>std</th>\n",
       "    </tr>\n",
       "    <tr>\n",
       "      <th>Window Open</th>\n",
       "      <th></th>\n",
       "      <th></th>\n",
       "      <th></th>\n",
       "      <th></th>\n",
       "    </tr>\n",
       "  </thead>\n",
       "  <tbody>\n",
       "    <tr>\n",
       "      <th>0</th>\n",
       "      <td>5.752171</td>\n",
       "      <td>4.206669</td>\n",
       "      <td>30.640394</td>\n",
       "      <td>8.547424</td>\n",
       "    </tr>\n",
       "    <tr>\n",
       "      <th>1</th>\n",
       "      <td>6.257008</td>\n",
       "      <td>3.594757</td>\n",
       "      <td>28.279236</td>\n",
       "      <td>7.846737</td>\n",
       "    </tr>\n",
       "  </tbody>\n",
       "</table>\n",
       "</div>"
      ],
      "text/plain": [
       "              T_Delta             RH_Delta          \n",
       "                 mean       std       mean       std\n",
       "Window Open                                         \n",
       "0            5.752171  4.206669  30.640394  8.547424\n",
       "1            6.257008  3.594757  28.279236  7.846737"
      ]
     },
     "execution_count": 22,
     "metadata": {},
     "output_type": "execute_result"
    }
   ],
   "source": [
    "# do some grouping \n",
    "\n",
    "# group by window open vs window closed -> where are the deltas greater \n",
    "df.drop(\"DateTime\", axis=1).groupby([\"Window Open\"]).agg([\"mean\", \"std\"]).loc[:,[\"T_Delta\", \"RH_Delta\"]]"
   ]
  },
  {
   "cell_type": "code",
   "execution_count": 23,
   "metadata": {},
   "outputs": [
    {
     "data": {
      "text/html": [
       "<div>\n",
       "<style scoped>\n",
       "    .dataframe tbody tr th:only-of-type {\n",
       "        vertical-align: middle;\n",
       "    }\n",
       "\n",
       "    .dataframe tbody tr th {\n",
       "        vertical-align: top;\n",
       "    }\n",
       "\n",
       "    .dataframe thead tr th {\n",
       "        text-align: left;\n",
       "    }\n",
       "\n",
       "    .dataframe thead tr:last-of-type th {\n",
       "        text-align: right;\n",
       "    }\n",
       "</style>\n",
       "<table border=\"1\" class=\"dataframe\">\n",
       "  <thead>\n",
       "    <tr>\n",
       "      <th></th>\n",
       "      <th colspan=\"2\" halign=\"left\">T_Delta</th>\n",
       "      <th colspan=\"2\" halign=\"left\">RH_Delta</th>\n",
       "    </tr>\n",
       "    <tr>\n",
       "      <th></th>\n",
       "      <th>mean</th>\n",
       "      <th>std</th>\n",
       "      <th>mean</th>\n",
       "      <th>std</th>\n",
       "    </tr>\n",
       "    <tr>\n",
       "      <th>Room</th>\n",
       "      <th></th>\n",
       "      <th></th>\n",
       "      <th></th>\n",
       "      <th></th>\n",
       "    </tr>\n",
       "  </thead>\n",
       "  <tbody>\n",
       "    <tr>\n",
       "      <th>0</th>\n",
       "      <td>5.729435</td>\n",
       "      <td>3.780207</td>\n",
       "      <td>29.178837</td>\n",
       "      <td>8.143704</td>\n",
       "    </tr>\n",
       "    <tr>\n",
       "      <th>1</th>\n",
       "      <td>6.301897</td>\n",
       "      <td>4.010265</td>\n",
       "      <td>29.637181</td>\n",
       "      <td>8.395411</td>\n",
       "    </tr>\n",
       "  </tbody>\n",
       "</table>\n",
       "</div>"
      ],
      "text/plain": [
       "       T_Delta             RH_Delta          \n",
       "          mean       std       mean       std\n",
       "Room                                         \n",
       "0     5.729435  3.780207  29.178837  8.143704\n",
       "1     6.301897  4.010265  29.637181  8.395411"
      ]
     },
     "execution_count": 23,
     "metadata": {},
     "output_type": "execute_result"
    }
   ],
   "source": [
    "# group by rooms -> where are the deltas greater \n",
    "df.drop(\"DateTime\", axis=1).groupby([\"Room\"]).agg([\"mean\", \"std\"]).loc[:,[\"T_Delta\", \"RH_Delta\"]]"
   ]
  },
  {
   "cell_type": "code",
   "execution_count": 24,
   "metadata": {},
   "outputs": [
    {
     "data": {
      "text/html": [
       "<div>\n",
       "<style scoped>\n",
       "    .dataframe tbody tr th:only-of-type {\n",
       "        vertical-align: middle;\n",
       "    }\n",
       "\n",
       "    .dataframe tbody tr th {\n",
       "        vertical-align: top;\n",
       "    }\n",
       "\n",
       "    .dataframe thead tr th {\n",
       "        text-align: left;\n",
       "    }\n",
       "\n",
       "    .dataframe thead tr:last-of-type th {\n",
       "        text-align: right;\n",
       "    }\n",
       "</style>\n",
       "<table border=\"1\" class=\"dataframe\">\n",
       "  <thead>\n",
       "    <tr>\n",
       "      <th></th>\n",
       "      <th></th>\n",
       "      <th colspan=\"2\" halign=\"left\">T_Delta</th>\n",
       "      <th colspan=\"2\" halign=\"left\">RH_Delta</th>\n",
       "    </tr>\n",
       "    <tr>\n",
       "      <th></th>\n",
       "      <th></th>\n",
       "      <th>mean</th>\n",
       "      <th>std</th>\n",
       "      <th>mean</th>\n",
       "      <th>std</th>\n",
       "    </tr>\n",
       "    <tr>\n",
       "      <th>Window Open</th>\n",
       "      <th>Room</th>\n",
       "      <th></th>\n",
       "      <th></th>\n",
       "      <th></th>\n",
       "      <th></th>\n",
       "    </tr>\n",
       "  </thead>\n",
       "  <tbody>\n",
       "    <tr>\n",
       "      <th rowspan=\"2\" valign=\"top\">0</th>\n",
       "      <th>0</th>\n",
       "      <td>1.603624</td>\n",
       "      <td>4.786734</td>\n",
       "      <td>37.193811</td>\n",
       "      <td>7.443892</td>\n",
       "    </tr>\n",
       "    <tr>\n",
       "      <th>1</th>\n",
       "      <td>6.059046</td>\n",
       "      <td>3.992906</td>\n",
       "      <td>30.155626</td>\n",
       "      <td>8.423356</td>\n",
       "    </tr>\n",
       "    <tr>\n",
       "      <th rowspan=\"2\" valign=\"top\">1</th>\n",
       "      <th>0</th>\n",
       "      <td>6.020292</td>\n",
       "      <td>3.521054</td>\n",
       "      <td>28.613806</td>\n",
       "      <td>7.889349</td>\n",
       "    </tr>\n",
       "    <tr>\n",
       "      <th>1</th>\n",
       "      <td>8.272099</td>\n",
       "      <td>3.584829</td>\n",
       "      <td>25.431145</td>\n",
       "      <td>6.841461</td>\n",
       "    </tr>\n",
       "  </tbody>\n",
       "</table>\n",
       "</div>"
      ],
      "text/plain": [
       "                   T_Delta             RH_Delta          \n",
       "                      mean       std       mean       std\n",
       "Window Open Room                                         \n",
       "0           0     1.603624  4.786734  37.193811  7.443892\n",
       "            1     6.059046  3.992906  30.155626  8.423356\n",
       "1           0     6.020292  3.521054  28.613806  7.889349\n",
       "            1     8.272099  3.584829  25.431145  6.841461"
      ]
     },
     "execution_count": 24,
     "metadata": {},
     "output_type": "execute_result"
    }
   ],
   "source": [
    "# group by window open vs window closed and rooms -> where are the deltas greater \n",
    "df.drop(\"DateTime\", axis=1).groupby([\"Window Open\", \"Room\"]).agg([\"mean\", \"std\"]).loc[:,[\"T_Delta\", \"RH_Delta\"]]"
   ]
  },
  {
   "cell_type": "markdown",
   "metadata": {},
   "source": [
    "# Plot Distributions"
   ]
  },
  {
   "cell_type": "code",
   "execution_count": 25,
   "metadata": {},
   "outputs": [
    {
     "data": {
      "text/plain": [
       "<seaborn.axisgrid.FacetGrid at 0x282985c00>"
      ]
     },
     "execution_count": 25,
     "metadata": {},
     "output_type": "execute_result"
    },
    {
     "data": {
      "image/png": "[encoded data removed]",
      "text/plain": [
       "<Figure size 626.847x300 with 1 Axes>"
      ]
     },
     "metadata": {},
     "output_type": "display_data"
    }
   ],
   "source": [
    "sns.displot(df, x=\"T_Delta\", hue=\"Window Open\", kind=\"kde\", height=3, aspect=1.7,  fill=True)"
   ]
  },
  {
   "cell_type": "code",
   "execution_count": 13,
   "metadata": {},
   "outputs": [
    {
     "data": {
      "text/plain": [
       "<seaborn.axisgrid.FacetGrid at 0x2828a3b80>"
      ]
     },
     "execution_count": 13,
     "metadata": {},
     "output_type": "execute_result"
    },
    {
     "data": {
      "image/png": "[encoded data removed]",
      "text/plain": [
       "<Figure size 626.847x300 with 1 Axes>"
      ]
     },
     "metadata": {},
     "output_type": "display_data"
    }
   ],
   "source": [
    "sns.displot(df, x=\"Temp C\", hue=\"Window Open\", kind=\"kde\", height=3, aspect=1.7,  fill=True)"
   ]
  },
  {
   "cell_type": "code",
   "execution_count": 14,
   "metadata": {},
   "outputs": [
    {
     "ename": "ValueError",
     "evalue": "Could not interpret value `T_Delta` for parameter `x`",
     "output_type": "error",
     "traceback": [
      "\u001b[0;31m---------------------------------------------------------------------------\u001b[0m",
      "\u001b[0;31mValueError\u001b[0m                                Traceback (most recent call last)",
      "\u001b[1;32m/Users/julietnwagwuume-ezeoke/UILCode/windows/analysis/notebooks/distributions_111522.ipynb Cell 13\u001b[0m in \u001b[0;36m<cell line: 1>\u001b[0;34m()\u001b[0m\n\u001b[0;32m----> <a href='vscode-notebook-cell:/Users/julietnwagwuume-ezeoke/UILCode/windows/analysis/notebooks/distributions_111522.ipynb#Y103sZmlsZQ%3D%3D?line=0'>1</a>\u001b[0m sns\u001b[39m.\u001b[39;49mdisplot(df, x\u001b[39m=\u001b[39;49m\u001b[39m\"\u001b[39;49m\u001b[39mT_Delta\u001b[39;49m\u001b[39m\"\u001b[39;49m, hue\u001b[39m=\u001b[39;49m\u001b[39m\"\u001b[39;49m\u001b[39mWindow Open\u001b[39;49m\u001b[39m\"\u001b[39;49m, kind\u001b[39m=\u001b[39;49m\u001b[39m\"\u001b[39;49m\u001b[39mkde\u001b[39;49m\u001b[39m\"\u001b[39;49m, height\u001b[39m=\u001b[39;49m\u001b[39m3\u001b[39;49m, aspect\u001b[39m=\u001b[39;49m\u001b[39m1.7\u001b[39;49m,  fill\u001b[39m=\u001b[39;49m\u001b[39mTrue\u001b[39;49;00m)\n",
      "File \u001b[0;32m~/mylocalenvs/localwindowsenv/lib/python3.10/site-packages/seaborn/distributions.py:2131\u001b[0m, in \u001b[0;36mdisplot\u001b[0;34m(data, x, y, hue, row, col, weights, kind, rug, rug_kws, log_scale, legend, palette, hue_order, hue_norm, color, col_wrap, row_order, col_order, height, aspect, facet_kws, **kwargs)\u001b[0m\n\u001b[1;32m   2117\u001b[0m \u001b[39mdef\u001b[39;00m \u001b[39mdisplot\u001b[39m(\n\u001b[1;32m   2118\u001b[0m     data\u001b[39m=\u001b[39m\u001b[39mNone\u001b[39;00m, \u001b[39m*\u001b[39m,\n\u001b[1;32m   2119\u001b[0m     \u001b[39m# Vector variables\u001b[39;00m\n\u001b[0;32m   (...)\u001b[0m\n\u001b[1;32m   2128\u001b[0m     \u001b[39m*\u001b[39m\u001b[39m*\u001b[39mkwargs,\n\u001b[1;32m   2129\u001b[0m ):\n\u001b[0;32m-> 2131\u001b[0m     p \u001b[39m=\u001b[39m _DistributionFacetPlotter(\n\u001b[1;32m   2132\u001b[0m         data\u001b[39m=\u001b[39;49mdata,\n\u001b[1;32m   2133\u001b[0m         variables\u001b[39m=\u001b[39;49m_DistributionFacetPlotter\u001b[39m.\u001b[39;49mget_semantics(\u001b[39mlocals\u001b[39;49m())\n\u001b[1;32m   2134\u001b[0m     )\n\u001b[1;32m   2136\u001b[0m     p\u001b[39m.\u001b[39mmap_hue(palette\u001b[39m=\u001b[39mpalette, order\u001b[39m=\u001b[39mhue_order, norm\u001b[39m=\u001b[39mhue_norm)\n\u001b[1;32m   2138\u001b[0m     _check_argument(\u001b[39m\"\u001b[39m\u001b[39mkind\u001b[39m\u001b[39m\"\u001b[39m, [\u001b[39m\"\u001b[39m\u001b[39mhist\u001b[39m\u001b[39m\"\u001b[39m, \u001b[39m\"\u001b[39m\u001b[39mkde\u001b[39m\u001b[39m\"\u001b[39m, \u001b[39m\"\u001b[39m\u001b[39mecdf\u001b[39m\u001b[39m\"\u001b[39m], kind)\n",
      "File \u001b[0;32m~/mylocalenvs/localwindowsenv/lib/python3.10/site-packages/seaborn/distributions.py:112\u001b[0m, in \u001b[0;36m_DistributionPlotter.__init__\u001b[0;34m(self, data, variables)\u001b[0m\n\u001b[1;32m    106\u001b[0m \u001b[39mdef\u001b[39;00m \u001b[39m__init__\u001b[39m(\n\u001b[1;32m    107\u001b[0m     \u001b[39mself\u001b[39m,\n\u001b[1;32m    108\u001b[0m     data\u001b[39m=\u001b[39m\u001b[39mNone\u001b[39;00m,\n\u001b[1;32m    109\u001b[0m     variables\u001b[39m=\u001b[39m{},\n\u001b[1;32m    110\u001b[0m ):\n\u001b[0;32m--> 112\u001b[0m     \u001b[39msuper\u001b[39;49m()\u001b[39m.\u001b[39;49m\u001b[39m__init__\u001b[39;49m(data\u001b[39m=\u001b[39;49mdata, variables\u001b[39m=\u001b[39;49mvariables)\n",
      "File \u001b[0;32m~/mylocalenvs/localwindowsenv/lib/python3.10/site-packages/seaborn/_oldcore.py:640\u001b[0m, in \u001b[0;36mVectorPlotter.__init__\u001b[0;34m(self, data, variables)\u001b[0m\n\u001b[1;32m    635\u001b[0m \u001b[39m# var_ordered is relevant only for categorical axis variables, and may\u001b[39;00m\n\u001b[1;32m    636\u001b[0m \u001b[39m# be better handled by an internal axis information object that tracks\u001b[39;00m\n\u001b[1;32m    637\u001b[0m \u001b[39m# such information and is set up by the scale_* methods. The analogous\u001b[39;00m\n\u001b[1;32m    638\u001b[0m \u001b[39m# information for numeric axes would be information about log scales.\u001b[39;00m\n\u001b[1;32m    639\u001b[0m \u001b[39mself\u001b[39m\u001b[39m.\u001b[39m_var_ordered \u001b[39m=\u001b[39m {\u001b[39m\"\u001b[39m\u001b[39mx\u001b[39m\u001b[39m\"\u001b[39m: \u001b[39mFalse\u001b[39;00m, \u001b[39m\"\u001b[39m\u001b[39my\u001b[39m\u001b[39m\"\u001b[39m: \u001b[39mFalse\u001b[39;00m}  \u001b[39m# alt., used DefaultDict\u001b[39;00m\n\u001b[0;32m--> 640\u001b[0m \u001b[39mself\u001b[39;49m\u001b[39m.\u001b[39;49massign_variables(data, variables)\n\u001b[1;32m    642\u001b[0m \u001b[39mfor\u001b[39;00m var, \u001b[39mcls\u001b[39m \u001b[39min\u001b[39;00m \u001b[39mself\u001b[39m\u001b[39m.\u001b[39m_semantic_mappings\u001b[39m.\u001b[39mitems():\n\u001b[1;32m    643\u001b[0m \n\u001b[1;32m    644\u001b[0m     \u001b[39m# Create the mapping function\u001b[39;00m\n\u001b[1;32m    645\u001b[0m     map_func \u001b[39m=\u001b[39m partial(\u001b[39mcls\u001b[39m\u001b[39m.\u001b[39mmap, plotter\u001b[39m=\u001b[39m\u001b[39mself\u001b[39m)\n",
      "File \u001b[0;32m~/mylocalenvs/localwindowsenv/lib/python3.10/site-packages/seaborn/_oldcore.py:701\u001b[0m, in \u001b[0;36mVectorPlotter.assign_variables\u001b[0;34m(self, data, variables)\u001b[0m\n\u001b[1;32m    699\u001b[0m \u001b[39melse\u001b[39;00m:\n\u001b[1;32m    700\u001b[0m     \u001b[39mself\u001b[39m\u001b[39m.\u001b[39minput_format \u001b[39m=\u001b[39m \u001b[39m\"\u001b[39m\u001b[39mlong\u001b[39m\u001b[39m\"\u001b[39m\n\u001b[0;32m--> 701\u001b[0m     plot_data, variables \u001b[39m=\u001b[39m \u001b[39mself\u001b[39;49m\u001b[39m.\u001b[39;49m_assign_variables_longform(\n\u001b[1;32m    702\u001b[0m         data, \u001b[39m*\u001b[39;49m\u001b[39m*\u001b[39;49mvariables,\n\u001b[1;32m    703\u001b[0m     )\n\u001b[1;32m    705\u001b[0m \u001b[39mself\u001b[39m\u001b[39m.\u001b[39mplot_data \u001b[39m=\u001b[39m plot_data\n\u001b[1;32m    706\u001b[0m \u001b[39mself\u001b[39m\u001b[39m.\u001b[39mvariables \u001b[39m=\u001b[39m variables\n",
      "File \u001b[0;32m~/mylocalenvs/localwindowsenv/lib/python3.10/site-packages/seaborn/_oldcore.py:938\u001b[0m, in \u001b[0;36mVectorPlotter._assign_variables_longform\u001b[0;34m(self, data, **kwargs)\u001b[0m\n\u001b[1;32m    933\u001b[0m \u001b[39melif\u001b[39;00m \u001b[39misinstance\u001b[39m(val, (\u001b[39mstr\u001b[39m, \u001b[39mbytes\u001b[39m)):\n\u001b[1;32m    934\u001b[0m \n\u001b[1;32m    935\u001b[0m     \u001b[39m# This looks like a column name but we don't know what it means!\u001b[39;00m\n\u001b[1;32m    937\u001b[0m     err \u001b[39m=\u001b[39m \u001b[39mf\u001b[39m\u001b[39m\"\u001b[39m\u001b[39mCould not interpret value `\u001b[39m\u001b[39m{\u001b[39;00mval\u001b[39m}\u001b[39;00m\u001b[39m` for parameter `\u001b[39m\u001b[39m{\u001b[39;00mkey\u001b[39m}\u001b[39;00m\u001b[39m`\u001b[39m\u001b[39m\"\u001b[39m\n\u001b[0;32m--> 938\u001b[0m     \u001b[39mraise\u001b[39;00m \u001b[39mValueError\u001b[39;00m(err)\n\u001b[1;32m    940\u001b[0m \u001b[39melse\u001b[39;00m:\n\u001b[1;32m    941\u001b[0m \n\u001b[1;32m    942\u001b[0m     \u001b[39m# Otherwise, assume the value is itself data\u001b[39;00m\n\u001b[1;32m    943\u001b[0m \n\u001b[1;32m    944\u001b[0m     \u001b[39m# Raise when data object is present and a vector can't matched\u001b[39;00m\n\u001b[1;32m    945\u001b[0m     \u001b[39mif\u001b[39;00m \u001b[39misinstance\u001b[39m(data, pd\u001b[39m.\u001b[39mDataFrame) \u001b[39mand\u001b[39;00m \u001b[39mnot\u001b[39;00m \u001b[39misinstance\u001b[39m(val, pd\u001b[39m.\u001b[39mSeries):\n",
      "\u001b[0;31mValueError\u001b[0m: Could not interpret value `T_Delta` for parameter `x`"
     ]
    }
   ],
   "source": []
  }
 ],
 "metadata": {
  "kernelspec": {
   "display_name": "Python 3.10.8 ('localwindowsenv': venv)",
   "language": "python",
   "name": "python3"
  },
  "language_info": {
   "codemirror_mode": {
    "name": "ipython",
    "version": 3
   },
   "file_extension": ".py",
   "mimetype": "text/x-python",
   "name": "python",
   "nbconvert_exporter": "python",
   "pygments_lexer": "ipython3",
   "version": "3.10.8"
  },
  "orig_nbformat": 4,
  "vscode": {
   "interpreter": {
    "hash": "f28a956a8a055d6b68b5cc293671ad0a6b47fe35ab4dad72e45e8f1e380b8050"
   }
  }
 },
 "nbformat": 4,
 "nbformat_minor": 2
}
