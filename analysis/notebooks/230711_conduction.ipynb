{
 "cells": [
  {
   "cell_type": "code",
   "execution_count": 45,
   "metadata": {},
   "outputs": [],
   "source": [
    "import sympy as smp\n",
    "\n",
    "from sympy import symbols, Eq, Function, dsolve, lambdify\n",
    "import numpy as np\n",
    "\n",
    "\n",
    "import plotly.graph_objects as go\n",
    "from plotly.subplots import make_subplots\n"
   ]
  },
  {
   "attachments": {},
   "cell_type": "markdown",
   "metadata": {},
   "source": [
    "## 1D Heat Conduction \n",
    "\n",
    "Setup: \n",
    "  * Ambient environment with temperature $T_{amb}$ and conductivity $k_{amb}$. \n",
    "  * Wall with an exterior surface at $x = W_{start}$, and an interior surface at $x = W_{end}$ that has a temperature of $T_{int}$. The wall has a conductivity of $k_{wall}$. \n",
    "  * Steady-state \n",
    "\n",
    "Equation for steady state heat conduction[^1] with no heat generation \n",
    "$\\begin{equation}\n",
    "\\frac{d^2T}{dx^2} = 0 \n",
    "\\end{equation}$\n",
    "\n",
    "Interface boundary condition at $x = W_{start}$\n",
    "$\\begin{equation}\n",
    "T(x = W_{start}) = T_{amb}\n",
    "\\end{equation}$\n",
    "\n",
    "$\\begin{equation}\n",
    "-k_{amb} \\frac{\\partial T_{amb}(x = W_{start})}{\\partial x} = -k_{wall} \\frac{\\partial T_{wall}(x = W_{start})}{\\partial x}\n",
    "\\end{equation}$\n",
    "\n",
    "Fixed temperature boundary condition at $x = W_{end}$:\n",
    "$\\begin{equation}\n",
    "T(x = W_{end}) = T_{int}\n",
    "\\end{equation}$\n",
    "\n",
    "\n",
    "\n",
    "[^1]: or heat transfer more generally?"
   ]
  },
  {
   "cell_type": "code",
   "execution_count": 99,
   "metadata": {},
   "outputs": [],
   "source": [
    "T_amb = 25 # C \n",
    "T_int= 23 #C \n",
    "\n",
    "W_start = 0 #m \n",
    "W_end = 0.3 #m\n",
    "\n",
    "k_amb = 1 # conductivity units...\n",
    "k_wall = 1 # conductivity units "
   ]
  },
  {
   "cell_type": "code",
   "execution_count": 97,
   "metadata": {},
   "outputs": [],
   "source": [
    "x, W_start, W_end, T_amb, T_int = symbols('x W_start W_end T_amb T_int', real=True, positive=True)\n",
    "T = symbols('T', cls=smp.Function)\n",
    "\n",
    "# W_start, W_end, T_amb, T_int = symbols('W_start W_end T_amb T_int', real=True, positive=True, constant=True)"
   ]
  },
  {
   "cell_type": "code",
   "execution_count": 82,
   "metadata": {},
   "outputs": [
    {
     "data": {
      "text/latex": [
       "$\\displaystyle \\frac{d}{d x} T{\\left(x \\right)}$"
      ],
      "text/plain": [
       "Derivative(T(x), x)"
      ]
     },
     "execution_count": 82,
     "metadata": {},
     "output_type": "execute_result"
    }
   ],
   "source": [
    "# differential equation \n",
    "Tx = T(x).diff(x, 1)\n",
    "Txx = T(x).diff(x, 2)\n",
    "Tx\n"
   ]
  },
  {
   "cell_type": "code",
   "execution_count": 100,
   "metadata": {},
   "outputs": [
    {
     "data": {
      "text/latex": [
       "$\\displaystyle \\left. \\frac{d}{d x} T{\\left(x \\right)} \\right|_{\\substack{ x=0.3 }}$"
      ],
      "text/plain": [
       "Subs(Derivative(T(x), x), x, 0.3)"
      ]
     },
     "execution_count": 100,
     "metadata": {},
     "output_type": "execute_result"
    }
   ],
   "source": [
    "Tx.subs(x, W_end)"
   ]
  },
  {
   "cell_type": "code",
   "execution_count": 106,
   "metadata": {},
   "outputs": [],
   "source": [
    "flux = -20\n",
    "eqs = [\n",
    "    Eq(Txx, 0),\n",
    "    # Eq(Tx.subs(x, W_start), flux),\n",
    "    # Eq(Tx.subs(x, W_end), flux)\n",
    "]\n",
    "# eqs[1]"
   ]
  },
  {
   "cell_type": "code",
   "execution_count": 103,
   "metadata": {},
   "outputs": [
    {
     "data": {
      "text/latex": [
       "$\\displaystyle \\left. \\frac{d}{d x} T{\\left(x \\right)} \\right|_{\\substack{ x=0.3 }} = -20$"
      ],
      "text/plain": [
       "Eq(Subs(Derivative(T(x), x), x, 0.3), -20)"
      ]
     },
     "execution_count": 103,
     "metadata": {},
     "output_type": "execute_result"
    }
   ],
   "source": [
    "eqs[1]"
   ]
  },
  {
   "cell_type": "code",
   "execution_count": 107,
   "metadata": {},
   "outputs": [
    {
     "ename": "ValueError",
     "evalue": "\nInput to the funcs should be a list of functions.",
     "output_type": "error",
     "traceback": [
      "\u001b[0;31m---------------------------------------------------------------------------\u001b[0m",
      "\u001b[0;31mValueError\u001b[0m                                Traceback (most recent call last)",
      "Cell \u001b[0;32mIn[107], line 1\u001b[0m\n\u001b[0;32m----> 1\u001b[0m Tx \u001b[39m=\u001b[39m dsolve(eqs, T(x), ics\u001b[39m=\u001b[39;49m{T(W_start): T_amb, T(W_end): T_int})\n",
      "File \u001b[0;32m~/_UILCode/windows/localwindowsenv/lib/python3.9/site-packages/sympy/solvers/ode/ode.py:559\u001b[0m, in \u001b[0;36mdsolve\u001b[0;34m(eq, func, hint, simplify, ics, xi, eta, x0, n, **kwargs)\u001b[0m\n\u001b[1;32m    553\u001b[0m \u001b[39m# This may have to be changed in future\u001b[39;00m\n\u001b[1;32m    554\u001b[0m \u001b[39m# when we have weakly and strongly\u001b[39;00m\n\u001b[1;32m    555\u001b[0m \u001b[39m# connected components. This have to\u001b[39;00m\n\u001b[1;32m    556\u001b[0m \u001b[39m# changed to show the systems that haven't\u001b[39;00m\n\u001b[1;32m    557\u001b[0m \u001b[39m# been solved.\u001b[39;00m\n\u001b[1;32m    558\u001b[0m \u001b[39mtry\u001b[39;00m:\n\u001b[0;32m--> 559\u001b[0m     sol \u001b[39m=\u001b[39m dsolve_system(eq, funcs\u001b[39m=\u001b[39;49mfunc, ics\u001b[39m=\u001b[39;49mics, doit\u001b[39m=\u001b[39;49m\u001b[39mTrue\u001b[39;49;00m)\n\u001b[1;32m    560\u001b[0m     \u001b[39mreturn\u001b[39;00m sol[\u001b[39m0\u001b[39m] \u001b[39mif\u001b[39;00m \u001b[39mlen\u001b[39m(sol) \u001b[39m==\u001b[39m \u001b[39m1\u001b[39m \u001b[39melse\u001b[39;00m sol\n\u001b[1;32m    561\u001b[0m \u001b[39mexcept\u001b[39;00m \u001b[39mNotImplementedError\u001b[39;00m:\n",
      "File \u001b[0;32m~/_UILCode/windows/localwindowsenv/lib/python3.9/site-packages/sympy/solvers/ode/systems.py:2073\u001b[0m, in \u001b[0;36mdsolve_system\u001b[0;34m(eqs, funcs, t, ics, doit, simplify)\u001b[0m\n\u001b[1;32m   2070\u001b[0m eqs \u001b[39m=\u001b[39m _preprocess_eqs(eqs)\n\u001b[1;32m   2072\u001b[0m \u001b[39mif\u001b[39;00m funcs \u001b[39mis\u001b[39;00m \u001b[39mnot\u001b[39;00m \u001b[39mNone\u001b[39;00m \u001b[39mand\u001b[39;00m \u001b[39mnot\u001b[39;00m \u001b[39misinstance\u001b[39m(funcs, \u001b[39mlist\u001b[39m):\n\u001b[0;32m-> 2073\u001b[0m     \u001b[39mraise\u001b[39;00m \u001b[39mValueError\u001b[39;00m(filldedent(\u001b[39m'''\u001b[39m\n\u001b[1;32m   2074\u001b[0m \u001b[39m        Input to the funcs should be a list of functions.\u001b[39m\n\u001b[1;32m   2075\u001b[0m \u001b[39m    \u001b[39m\u001b[39m'''\u001b[39m))\n\u001b[1;32m   2077\u001b[0m \u001b[39mif\u001b[39;00m funcs \u001b[39mis\u001b[39;00m \u001b[39mNone\u001b[39;00m:\n\u001b[1;32m   2078\u001b[0m     funcs \u001b[39m=\u001b[39m _extract_funcs(eqs)\n",
      "\u001b[0;31mValueError\u001b[0m: \nInput to the funcs should be a list of functions."
     ]
    }
   ],
   "source": [
    "Tx = dsolve(eqs, T(x), ics={T(W_start): T_amb, T(W_end): T_int})"
   ]
  },
  {
   "cell_type": "code",
   "execution_count": 104,
   "metadata": {},
   "outputs": [
    {
     "ename": "ValueError",
     "evalue": "\nInput to the funcs should be a list of functions.",
     "output_type": "error",
     "traceback": [
      "\u001b[0;31m---------------------------------------------------------------------------\u001b[0m",
      "\u001b[0;31mValueError\u001b[0m                                Traceback (most recent call last)",
      "Cell \u001b[0;32mIn[104], line 3\u001b[0m\n\u001b[1;32m      1\u001b[0m \u001b[39m# gradient at both sides \u001b[39;00m\n\u001b[0;32m----> 3\u001b[0m Tx \u001b[39m=\u001b[39m dsolve(eqs, T(x), ics\u001b[39m=\u001b[39;49m{T(W_start): T_amb, T(W_end): T_int})\n\u001b[1;32m      4\u001b[0m Tx_fun \u001b[39m=\u001b[39m lambdify([x], Tx\u001b[39m.\u001b[39mrhs)\n\u001b[1;32m      6\u001b[0m x_num \u001b[39m=\u001b[39m np\u001b[39m.\u001b[39mlinspace(W_start,W_end,\u001b[39m100\u001b[39m)\n",
      "File \u001b[0;32m~/_UILCode/windows/localwindowsenv/lib/python3.9/site-packages/sympy/solvers/ode/ode.py:559\u001b[0m, in \u001b[0;36mdsolve\u001b[0;34m(eq, func, hint, simplify, ics, xi, eta, x0, n, **kwargs)\u001b[0m\n\u001b[1;32m    553\u001b[0m \u001b[39m# This may have to be changed in future\u001b[39;00m\n\u001b[1;32m    554\u001b[0m \u001b[39m# when we have weakly and strongly\u001b[39;00m\n\u001b[1;32m    555\u001b[0m \u001b[39m# connected components. This have to\u001b[39;00m\n\u001b[1;32m    556\u001b[0m \u001b[39m# changed to show the systems that haven't\u001b[39;00m\n\u001b[1;32m    557\u001b[0m \u001b[39m# been solved.\u001b[39;00m\n\u001b[1;32m    558\u001b[0m \u001b[39mtry\u001b[39;00m:\n\u001b[0;32m--> 559\u001b[0m     sol \u001b[39m=\u001b[39m dsolve_system(eq, funcs\u001b[39m=\u001b[39;49mfunc, ics\u001b[39m=\u001b[39;49mics, doit\u001b[39m=\u001b[39;49m\u001b[39mTrue\u001b[39;49;00m)\n\u001b[1;32m    560\u001b[0m     \u001b[39mreturn\u001b[39;00m sol[\u001b[39m0\u001b[39m] \u001b[39mif\u001b[39;00m \u001b[39mlen\u001b[39m(sol) \u001b[39m==\u001b[39m \u001b[39m1\u001b[39m \u001b[39melse\u001b[39;00m sol\n\u001b[1;32m    561\u001b[0m \u001b[39mexcept\u001b[39;00m \u001b[39mNotImplementedError\u001b[39;00m:\n",
      "File \u001b[0;32m~/_UILCode/windows/localwindowsenv/lib/python3.9/site-packages/sympy/solvers/ode/systems.py:2073\u001b[0m, in \u001b[0;36mdsolve_system\u001b[0;34m(eqs, funcs, t, ics, doit, simplify)\u001b[0m\n\u001b[1;32m   2070\u001b[0m eqs \u001b[39m=\u001b[39m _preprocess_eqs(eqs)\n\u001b[1;32m   2072\u001b[0m \u001b[39mif\u001b[39;00m funcs \u001b[39mis\u001b[39;00m \u001b[39mnot\u001b[39;00m \u001b[39mNone\u001b[39;00m \u001b[39mand\u001b[39;00m \u001b[39mnot\u001b[39;00m \u001b[39misinstance\u001b[39m(funcs, \u001b[39mlist\u001b[39m):\n\u001b[0;32m-> 2073\u001b[0m     \u001b[39mraise\u001b[39;00m \u001b[39mValueError\u001b[39;00m(filldedent(\u001b[39m'''\u001b[39m\n\u001b[1;32m   2074\u001b[0m \u001b[39m        Input to the funcs should be a list of functions.\u001b[39m\n\u001b[1;32m   2075\u001b[0m \u001b[39m    \u001b[39m\u001b[39m'''\u001b[39m))\n\u001b[1;32m   2077\u001b[0m \u001b[39mif\u001b[39;00m funcs \u001b[39mis\u001b[39;00m \u001b[39mNone\u001b[39;00m:\n\u001b[1;32m   2078\u001b[0m     funcs \u001b[39m=\u001b[39m _extract_funcs(eqs)\n",
      "\u001b[0;31mValueError\u001b[0m: \nInput to the funcs should be a list of functions."
     ]
    }
   ],
   "source": [
    "# gradient at both sides \n",
    "\n",
    "Tx = dsolve(eqs, T(x), ics={T(W_start): T_amb, T(W_end): T_int})\n",
    "Tx_fun = lambdify([x], Tx.rhs)\n",
    "\n",
    "x_num = np.linspace(W_start,W_end,100)\n",
    "\n",
    "fig = go.Figure()\n",
    "fig.add_trace(go.Scatter(x=x_num, y=Tx_fun(x_num), mode='markers',))\n",
    "fig.update_layout(\n",
    "    xaxis_title=\"x [m]\",\n",
    "    yaxis_title=\"Temperature [ºC]\",\n",
    "    title=\"Fixed temperature boundary conditions, both sides\"\n",
    ")"
   ]
  },
  {
   "cell_type": "code",
   "execution_count": 72,
   "metadata": {},
   "outputs": [
    {
     "data": {
      "application/vnd.plotly.v1+json": {
       "config": {
        "plotlyServerURL": "https://plotly.com"
       },
       "data": [
        {
         "mode": "markers",
         "type": "scatter",
         "x": [
          0,
          0.0030303030303030303,
          0.006060606060606061,
          0.00909090909090909,
          0.012121212121212121,
          0.015151515151515152,
          0.01818181818181818,
          0.021212121212121213,
          0.024242424242424242,
          0.02727272727272727,
          0.030303030303030304,
          0.03333333333333333,
          0.03636363636363636,
          0.03939393939393939,
          0.04242424242424243,
          0.045454545454545456,
          0.048484848484848485,
          0.051515151515151514,
          0.05454545454545454,
          0.05757575757575758,
          0.06060606060606061,
          0.06363636363636363,
          0.06666666666666667,
          0.0696969696969697,
          0.07272727272727272,
          0.07575757575757576,
          0.07878787878787878,
          0.08181818181818182,
          0.08484848484848485,
          0.08787878787878788,
          0.09090909090909091,
          0.09393939393939393,
          0.09696969696969697,
          0.1,
          0.10303030303030303,
          0.10606060606060606,
          0.10909090909090909,
          0.11212121212121212,
          0.11515151515151516,
          0.11818181818181818,
          0.12121212121212122,
          0.12424242424242424,
          0.12727272727272726,
          0.1303030303030303,
          0.13333333333333333,
          0.13636363636363635,
          0.1393939393939394,
          0.14242424242424243,
          0.14545454545454545,
          0.1484848484848485,
          0.15151515151515152,
          0.15454545454545454,
          0.15757575757575756,
          0.1606060606060606,
          0.16363636363636364,
          0.16666666666666666,
          0.1696969696969697,
          0.17272727272727273,
          0.17575757575757575,
          0.1787878787878788,
          0.18181818181818182,
          0.18484848484848485,
          0.18787878787878787,
          0.19090909090909092,
          0.19393939393939394,
          0.19696969696969696,
          0.2,
          0.20303030303030303,
          0.20606060606060606,
          0.20909090909090908,
          0.21212121212121213,
          0.21515151515151515,
          0.21818181818181817,
          0.22121212121212122,
          0.22424242424242424,
          0.22727272727272727,
          0.23030303030303031,
          0.23333333333333334,
          0.23636363636363636,
          0.23939393939393938,
          0.24242424242424243,
          0.24545454545454545,
          0.24848484848484848,
          0.2515151515151515,
          0.2545454545454545,
          0.25757575757575757,
          0.2606060606060606,
          0.2636363636363636,
          0.26666666666666666,
          0.2696969696969697,
          0.2727272727272727,
          0.27575757575757576,
          0.2787878787878788,
          0.2818181818181818,
          0.28484848484848485,
          0.2878787878787879,
          0.2909090909090909,
          0.29393939393939394,
          0.296969696969697,
          0.3
         ],
         "y": [
          25,
          24.97979797979798,
          24.95959595959596,
          24.939393939393938,
          24.91919191919192,
          24.8989898989899,
          24.87878787878788,
          24.858585858585858,
          24.838383838383837,
          24.818181818181817,
          24.7979797979798,
          24.77777777777778,
          24.757575757575758,
          24.737373737373737,
          24.717171717171716,
          24.696969696969695,
          24.67676767676768,
          24.656565656565657,
          24.636363636363637,
          24.616161616161616,
          24.595959595959595,
          24.575757575757574,
          24.555555555555557,
          24.535353535353536,
          24.515151515151516,
          24.494949494949495,
          24.474747474747474,
          24.454545454545453,
          24.434343434343432,
          24.414141414141415,
          24.393939393939394,
          24.373737373737374,
          24.353535353535353,
          24.333333333333332,
          24.31313131313131,
          24.292929292929294,
          24.272727272727273,
          24.252525252525253,
          24.232323232323232,
          24.21212121212121,
          24.19191919191919,
          24.171717171717173,
          24.151515151515152,
          24.13131313131313,
          24.11111111111111,
          24.09090909090909,
          24.07070707070707,
          24.05050505050505,
          24.03030303030303,
          24.01010101010101,
          23.98989898989899,
          23.96969696969697,
          23.949494949494948,
          23.929292929292927,
          23.90909090909091,
          23.88888888888889,
          23.86868686868687,
          23.848484848484848,
          23.828282828282827,
          23.808080808080806,
          23.78787878787879,
          23.767676767676768,
          23.747474747474747,
          23.727272727272727,
          23.707070707070706,
          23.686868686868685,
          23.666666666666664,
          23.646464646464647,
          23.626262626262626,
          23.606060606060606,
          23.585858585858585,
          23.565656565656564,
          23.545454545454547,
          23.525252525252526,
          23.505050505050505,
          23.484848484848484,
          23.464646464646464,
          23.444444444444443,
          23.424242424242422,
          23.404040404040405,
          23.383838383838384,
          23.363636363636363,
          23.343434343434343,
          23.32323232323232,
          23.3030303030303,
          23.282828282828284,
          23.262626262626263,
          23.242424242424242,
          23.22222222222222,
          23.2020202020202,
          23.18181818181818,
          23.16161616161616,
          23.141414141414142,
          23.12121212121212,
          23.1010101010101,
          23.08080808080808,
          23.06060606060606,
          23.040404040404038,
          23.02020202020202,
          23
         ]
        }
       ],
       "layout": {
        "template": {
         "data": {
          "bar": [
           {
            "error_x": {
             "color": "#2a3f5f"
            },
            "error_y": {
             "color": "#2a3f5f"
            },
            "marker": {
             "line": {
              "color": "#E5ECF6",
              "width": 0.5
             },
             "pattern": {
              "fillmode": "overlay",
              "size": 10,
              "solidity": 0.2
             }
            },
            "type": "bar"
           }
          ],
          "barpolar": [
           {
            "marker": {
             "line": {
              "color": "#E5ECF6",
              "width": 0.5
             },
             "pattern": {
              "fillmode": "overlay",
              "size": 10,
              "solidity": 0.2
             }
            },
            "type": "barpolar"
           }
          ],
          "carpet": [
           {
            "aaxis": {
             "endlinecolor": "#2a3f5f",
             "gridcolor": "white",
             "linecolor": "white",
             "minorgridcolor": "white",
             "startlinecolor": "#2a3f5f"
            },
            "baxis": {
             "endlinecolor": "#2a3f5f",
             "gridcolor": "white",
             "linecolor": "white",
             "minorgridcolor": "white",
             "startlinecolor": "#2a3f5f"
            },
            "type": "carpet"
           }
          ],
          "choropleth": [
           {
            "colorbar": {
             "outlinewidth": 0,
             "ticks": ""
            },
            "type": "choropleth"
           }
          ],
          "contour": [
           {
            "colorbar": {
             "outlinewidth": 0,
             "ticks": ""
            },
            "colorscale": [
             [
              0,
              "#0d0887"
             ],
             [
              0.1111111111111111,
              "#46039f"
             ],
             [
              0.2222222222222222,
              "#7201a8"
             ],
             [
              0.3333333333333333,
              "#9c179e"
             ],
             [
              0.4444444444444444,
              "#bd3786"
             ],
             [
              0.5555555555555556,
              "#d8576b"
             ],
             [
              0.6666666666666666,
              "#ed7953"
             ],
             [
              0.7777777777777778,
              "#fb9f3a"
             ],
             [
              0.8888888888888888,
              "#fdca26"
             ],
             [
              1,
              "#f0f921"
             ]
            ],
            "type": "contour"
           }
          ],
          "contourcarpet": [
           {
            "colorbar": {
             "outlinewidth": 0,
             "ticks": ""
            },
            "type": "contourcarpet"
           }
          ],
          "heatmap": [
           {
            "colorbar": {
             "outlinewidth": 0,
             "ticks": ""
            },
            "colorscale": [
             [
              0,
              "#0d0887"
             ],
             [
              0.1111111111111111,
              "#46039f"
             ],
             [
              0.2222222222222222,
              "#7201a8"
             ],
             [
              0.3333333333333333,
              "#9c179e"
             ],
             [
              0.4444444444444444,
              "#bd3786"
             ],
             [
              0.5555555555555556,
              "#d8576b"
             ],
             [
              0.6666666666666666,
              "#ed7953"
             ],
             [
              0.7777777777777778,
              "#fb9f3a"
             ],
             [
              0.8888888888888888,
              "#fdca26"
             ],
             [
              1,
              "#f0f921"
             ]
            ],
            "type": "heatmap"
           }
          ],
          "heatmapgl": [
           {
            "colorbar": {
             "outlinewidth": 0,
             "ticks": ""
            },
            "colorscale": [
             [
              0,
              "#0d0887"
             ],
             [
              0.1111111111111111,
              "#46039f"
             ],
             [
              0.2222222222222222,
              "#7201a8"
             ],
             [
              0.3333333333333333,
              "#9c179e"
             ],
             [
              0.4444444444444444,
              "#bd3786"
             ],
             [
              0.5555555555555556,
              "#d8576b"
             ],
             [
              0.6666666666666666,
              "#ed7953"
             ],
             [
              0.7777777777777778,
              "#fb9f3a"
             ],
             [
              0.8888888888888888,
              "#fdca26"
             ],
             [
              1,
              "#f0f921"
             ]
            ],
            "type": "heatmapgl"
           }
          ],
          "histogram": [
           {
            "marker": {
             "pattern": {
              "fillmode": "overlay",
              "size": 10,
              "solidity": 0.2
             }
            },
            "type": "histogram"
           }
          ],
          "histogram2d": [
           {
            "colorbar": {
             "outlinewidth": 0,
             "ticks": ""
            },
            "colorscale": [
             [
              0,
              "#0d0887"
             ],
             [
              0.1111111111111111,
              "#46039f"
             ],
             [
              0.2222222222222222,
              "#7201a8"
             ],
             [
              0.3333333333333333,
              "#9c179e"
             ],
             [
              0.4444444444444444,
              "#bd3786"
             ],
             [
              0.5555555555555556,
              "#d8576b"
             ],
             [
              0.6666666666666666,
              "#ed7953"
             ],
             [
              0.7777777777777778,
              "#fb9f3a"
             ],
             [
              0.8888888888888888,
              "#fdca26"
             ],
             [
              1,
              "#f0f921"
             ]
            ],
            "type": "histogram2d"
           }
          ],
          "histogram2dcontour": [
           {
            "colorbar": {
             "outlinewidth": 0,
             "ticks": ""
            },
            "colorscale": [
             [
              0,
              "#0d0887"
             ],
             [
              0.1111111111111111,
              "#46039f"
             ],
             [
              0.2222222222222222,
              "#7201a8"
             ],
             [
              0.3333333333333333,
              "#9c179e"
             ],
             [
              0.4444444444444444,
              "#bd3786"
             ],
             [
              0.5555555555555556,
              "#d8576b"
             ],
             [
              0.6666666666666666,
              "#ed7953"
             ],
             [
              0.7777777777777778,
              "#fb9f3a"
             ],
             [
              0.8888888888888888,
              "#fdca26"
             ],
             [
              1,
              "#f0f921"
             ]
            ],
            "type": "histogram2dcontour"
           }
          ],
          "mesh3d": [
           {
            "colorbar": {
             "outlinewidth": 0,
             "ticks": ""
            },
            "type": "mesh3d"
           }
          ],
          "parcoords": [
           {
            "line": {
             "colorbar": {
              "outlinewidth": 0,
              "ticks": ""
             }
            },
            "type": "parcoords"
           }
          ],
          "pie": [
           {
            "automargin": true,
            "type": "pie"
           }
          ],
          "scatter": [
           {
            "fillpattern": {
             "fillmode": "overlay",
             "size": 10,
             "solidity": 0.2
            },
            "type": "scatter"
           }
          ],
          "scatter3d": [
           {
            "line": {
             "colorbar": {
              "outlinewidth": 0,
              "ticks": ""
             }
            },
            "marker": {
             "colorbar": {
              "outlinewidth": 0,
              "ticks": ""
             }
            },
            "type": "scatter3d"
           }
          ],
          "scattercarpet": [
           {
            "marker": {
             "colorbar": {
              "outlinewidth": 0,
              "ticks": ""
             }
            },
            "type": "scattercarpet"
           }
          ],
          "scattergeo": [
           {
            "marker": {
             "colorbar": {
              "outlinewidth": 0,
              "ticks": ""
             }
            },
            "type": "scattergeo"
           }
          ],
          "scattergl": [
           {
            "marker": {
             "colorbar": {
              "outlinewidth": 0,
              "ticks": ""
             }
            },
            "type": "scattergl"
           }
          ],
          "scattermapbox": [
           {
            "marker": {
             "colorbar": {
              "outlinewidth": 0,
              "ticks": ""
             }
            },
            "type": "scattermapbox"
           }
          ],
          "scatterpolar": [
           {
            "marker": {
             "colorbar": {
              "outlinewidth": 0,
              "ticks": ""
             }
            },
            "type": "scatterpolar"
           }
          ],
          "scatterpolargl": [
           {
            "marker": {
             "colorbar": {
              "outlinewidth": 0,
              "ticks": ""
             }
            },
            "type": "scatterpolargl"
           }
          ],
          "scatterternary": [
           {
            "marker": {
             "colorbar": {
              "outlinewidth": 0,
              "ticks": ""
             }
            },
            "type": "scatterternary"
           }
          ],
          "surface": [
           {
            "colorbar": {
             "outlinewidth": 0,
             "ticks": ""
            },
            "colorscale": [
             [
              0,
              "#0d0887"
             ],
             [
              0.1111111111111111,
              "#46039f"
             ],
             [
              0.2222222222222222,
              "#7201a8"
             ],
             [
              0.3333333333333333,
              "#9c179e"
             ],
             [
              0.4444444444444444,
              "#bd3786"
             ],
             [
              0.5555555555555556,
              "#d8576b"
             ],
             [
              0.6666666666666666,
              "#ed7953"
             ],
             [
              0.7777777777777778,
              "#fb9f3a"
             ],
             [
              0.8888888888888888,
              "#fdca26"
             ],
             [
              1,
              "#f0f921"
             ]
            ],
            "type": "surface"
           }
          ],
          "table": [
           {
            "cells": {
             "fill": {
              "color": "#EBF0F8"
             },
             "line": {
              "color": "white"
             }
            },
            "header": {
             "fill": {
              "color": "#C8D4E3"
             },
             "line": {
              "color": "white"
             }
            },
            "type": "table"
           }
          ]
         },
         "layout": {
          "annotationdefaults": {
           "arrowcolor": "#2a3f5f",
           "arrowhead": 0,
           "arrowwidth": 1
          },
          "autotypenumbers": "strict",
          "coloraxis": {
           "colorbar": {
            "outlinewidth": 0,
            "ticks": ""
           }
          },
          "colorscale": {
           "diverging": [
            [
             0,
             "#8e0152"
            ],
            [
             0.1,
             "#c51b7d"
            ],
            [
             0.2,
             "#de77ae"
            ],
            [
             0.3,
             "#f1b6da"
            ],
            [
             0.4,
             "#fde0ef"
            ],
            [
             0.5,
             "#f7f7f7"
            ],
            [
             0.6,
             "#e6f5d0"
            ],
            [
             0.7,
             "#b8e186"
            ],
            [
             0.8,
             "#7fbc41"
            ],
            [
             0.9,
             "#4d9221"
            ],
            [
             1,
             "#276419"
            ]
           ],
           "sequential": [
            [
             0,
             "#0d0887"
            ],
            [
             0.1111111111111111,
             "#46039f"
            ],
            [
             0.2222222222222222,
             "#7201a8"
            ],
            [
             0.3333333333333333,
             "#9c179e"
            ],
            [
             0.4444444444444444,
             "#bd3786"
            ],
            [
             0.5555555555555556,
             "#d8576b"
            ],
            [
             0.6666666666666666,
             "#ed7953"
            ],
            [
             0.7777777777777778,
             "#fb9f3a"
            ],
            [
             0.8888888888888888,
             "#fdca26"
            ],
            [
             1,
             "#f0f921"
            ]
           ],
           "sequentialminus": [
            [
             0,
             "#0d0887"
            ],
            [
             0.1111111111111111,
             "#46039f"
            ],
            [
             0.2222222222222222,
             "#7201a8"
            ],
            [
             0.3333333333333333,
             "#9c179e"
            ],
            [
             0.4444444444444444,
             "#bd3786"
            ],
            [
             0.5555555555555556,
             "#d8576b"
            ],
            [
             0.6666666666666666,
             "#ed7953"
            ],
            [
             0.7777777777777778,
             "#fb9f3a"
            ],
            [
             0.8888888888888888,
             "#fdca26"
            ],
            [
             1,
             "#f0f921"
            ]
           ]
          },
          "colorway": [
           "#636efa",
           "#EF553B",
           "#00cc96",
           "#ab63fa",
           "#FFA15A",
           "#19d3f3",
           "#FF6692",
           "#B6E880",
           "#FF97FF",
           "#FECB52"
          ],
          "font": {
           "color": "#2a3f5f"
          },
          "geo": {
           "bgcolor": "white",
           "lakecolor": "white",
           "landcolor": "#E5ECF6",
           "showlakes": true,
           "showland": true,
           "subunitcolor": "white"
          },
          "hoverlabel": {
           "align": "left"
          },
          "hovermode": "closest",
          "mapbox": {
           "style": "light"
          },
          "paper_bgcolor": "white",
          "plot_bgcolor": "#E5ECF6",
          "polar": {
           "angularaxis": {
            "gridcolor": "white",
            "linecolor": "white",
            "ticks": ""
           },
           "bgcolor": "#E5ECF6",
           "radialaxis": {
            "gridcolor": "white",
            "linecolor": "white",
            "ticks": ""
           }
          },
          "scene": {
           "xaxis": {
            "backgroundcolor": "#E5ECF6",
            "gridcolor": "white",
            "gridwidth": 2,
            "linecolor": "white",
            "showbackground": true,
            "ticks": "",
            "zerolinecolor": "white"
           },
           "yaxis": {
            "backgroundcolor": "#E5ECF6",
            "gridcolor": "white",
            "gridwidth": 2,
            "linecolor": "white",
            "showbackground": true,
            "ticks": "",
            "zerolinecolor": "white"
           },
           "zaxis": {
            "backgroundcolor": "#E5ECF6",
            "gridcolor": "white",
            "gridwidth": 2,
            "linecolor": "white",
            "showbackground": true,
            "ticks": "",
            "zerolinecolor": "white"
           }
          },
          "shapedefaults": {
           "line": {
            "color": "#2a3f5f"
           }
          },
          "ternary": {
           "aaxis": {
            "gridcolor": "white",
            "linecolor": "white",
            "ticks": ""
           },
           "baxis": {
            "gridcolor": "white",
            "linecolor": "white",
            "ticks": ""
           },
           "bgcolor": "#E5ECF6",
           "caxis": {
            "gridcolor": "white",
            "linecolor": "white",
            "ticks": ""
           }
          },
          "title": {
           "x": 0.05
          },
          "xaxis": {
           "automargin": true,
           "gridcolor": "white",
           "linecolor": "white",
           "ticks": "",
           "title": {
            "standoff": 15
           },
           "zerolinecolor": "white",
           "zerolinewidth": 2
          },
          "yaxis": {
           "automargin": true,
           "gridcolor": "white",
           "linecolor": "white",
           "ticks": "",
           "title": {
            "standoff": 15
           },
           "zerolinecolor": "white",
           "zerolinewidth": 2
          }
         }
        },
        "title": {
         "text": "Fixed temperature boundary conditions, both sides"
        },
        "xaxis": {
         "title": {
          "text": "x [m]"
         }
        },
        "yaxis": {
         "title": {
          "text": "Temperature [ºC]"
         }
        }
       }
      }
     },
     "metadata": {},
     "output_type": "display_data"
    }
   ],
   "source": [
    "# fixed temperatures at both sides \n",
    "Tx = dsolve(Txx, T(x), ics={T(W_start): T_amb, T(W_end): T_int})\n",
    "Tx_fun = lambdify([x], Tx.rhs)\n",
    "\n",
    "x_num = np.linspace(W_start,W_end,100)\n",
    "\n",
    "fig = go.Figure()\n",
    "fig.add_trace(go.Scatter(x=x_num, y=Tx_fun(x_num), mode='markers',))\n",
    "fig.update_layout(\n",
    "    xaxis_title=\"x [m]\",\n",
    "    yaxis_title=\"Temperature [ºC]\",\n",
    "    title=\"Fixed temperature boundary conditions, both sides\"\n",
    ")"
   ]
  },
  {
   "attachments": {},
   "cell_type": "markdown",
   "metadata": {},
   "source": [
    "### sympy example"
   ]
  },
  {
   "cell_type": "code",
   "execution_count": 17,
   "metadata": {},
   "outputs": [],
   "source": [
    "f, g = symbols(\"f g\", cls=Function)\n",
    "x = symbols(\"x\")\n"
   ]
  },
  {
   "cell_type": "code",
   "execution_count": 27,
   "metadata": {},
   "outputs": [
    {
     "data": {
      "text/latex": [
       "$\\displaystyle \\frac{d}{d x} f{\\left(x \\right)} = g{\\left(x \\right)}$"
      ],
      "text/plain": [
       "Eq(Derivative(f(x), x), g(x))"
      ]
     },
     "execution_count": 27,
     "metadata": {},
     "output_type": "execute_result"
    }
   ],
   "source": [
    "eqs = [\n",
    "    Eq(f(x).diff(x), g(x)),\n",
    "    Eq(g(x).diff(x), f(x))\n",
    "]\n",
    "\n",
    "eqs[0]"
   ]
  },
  {
   "cell_type": "code",
   "execution_count": 28,
   "metadata": {},
   "outputs": [
    {
     "data": {
      "text/latex": [
       "$\\displaystyle \\frac{d}{d x} g{\\left(x \\right)} = f{\\left(x \\right)}$"
      ],
      "text/plain": [
       "Eq(Derivative(g(x), x), f(x))"
      ]
     },
     "execution_count": 28,
     "metadata": {},
     "output_type": "execute_result"
    }
   ],
   "source": [
    "eqs[1]"
   ]
  },
  {
   "cell_type": "code",
   "execution_count": 34,
   "metadata": {},
   "outputs": [
    {
     "data": {
      "text/plain": [
       "([Eq(f(x), -C1*exp(-x) + C2*exp(x)), Eq(g(x), C1*exp(-x) + C2*exp(x))], 2)"
      ]
     },
     "execution_count": 34,
     "metadata": {},
     "output_type": "execute_result"
    }
   ],
   "source": [
    "gen = dsolve(eqs, [f(x), g(x)])\n",
    "gen, len(gen)"
   ]
  },
  {
   "cell_type": "code",
   "execution_count": 32,
   "metadata": {},
   "outputs": [
    {
     "data": {
      "text/latex": [
       "$\\displaystyle f{\\left(x \\right)} = - C_{1} e^{- x} + C_{2} e^{x}$"
      ],
      "text/plain": [
       "Eq(f(x), -C1*exp(-x) + C2*exp(x))"
      ]
     },
     "execution_count": 32,
     "metadata": {},
     "output_type": "execute_result"
    }
   ],
   "source": [
    "gen[0]"
   ]
  },
  {
   "cell_type": "code",
   "execution_count": 33,
   "metadata": {},
   "outputs": [
    {
     "data": {
      "text/latex": [
       "$\\displaystyle g{\\left(x \\right)} = C_{1} e^{- x} + C_{2} e^{x}$"
      ],
      "text/plain": [
       "Eq(g(x), C1*exp(-x) + C2*exp(x))"
      ]
     },
     "execution_count": 33,
     "metadata": {},
     "output_type": "execute_result"
    }
   ],
   "source": [
    "gen[1]"
   ]
  },
  {
   "cell_type": "code",
   "execution_count": 36,
   "metadata": {},
   "outputs": [
    {
     "data": {
      "text/plain": [
       "([Eq(f(x), (1 + 3*exp(2))*exp(x)/(1 + exp(4)) - (-exp(4) + 3*exp(2))*exp(-x)/(1 + exp(4))),\n",
       "  Eq(g(x), (1 + 3*exp(2))*exp(x)/(1 + exp(4)) + (-exp(4) + 3*exp(2))*exp(-x)/(1 + exp(4)))],\n",
       " 2)"
      ]
     },
     "execution_count": 36,
     "metadata": {},
     "output_type": "execute_result"
    }
   ],
   "source": [
    "spec = dsolve(eqs, [f(x), g(x)], ics={f(0): 1, g(2): 3})\n",
    "spec, len(spec)"
   ]
  },
  {
   "cell_type": "code",
   "execution_count": 37,
   "metadata": {},
   "outputs": [
    {
     "data": {
      "text/latex": [
       "$\\displaystyle f{\\left(x \\right)} = \\frac{\\left(1 + 3 e^{2}\\right) e^{x}}{1 + e^{4}} - \\frac{\\left(- e^{4} + 3 e^{2}\\right) e^{- x}}{1 + e^{4}}$"
      ],
      "text/plain": [
       "Eq(f(x), (1 + 3*exp(2))*exp(x)/(1 + exp(4)) - (-exp(4) + 3*exp(2))*exp(-x)/(1 + exp(4)))"
      ]
     },
     "execution_count": 37,
     "metadata": {},
     "output_type": "execute_result"
    }
   ],
   "source": [
    "spec[0]"
   ]
  }
 ],
 "metadata": {
  "kernelspec": {
   "display_name": "localwindowsenv",
   "language": "python",
   "name": "python3"
  },
  "language_info": {
   "codemirror_mode": {
    "name": "ipython",
    "version": 3
   },
   "file_extension": ".py",
   "mimetype": "text/x-python",
   "name": "python",
   "nbconvert_exporter": "python",
   "pygments_lexer": "ipython3",
   "version": "3.9.15"
  },
  "orig_nbformat": 4
 },
 "nbformat": 4,
 "nbformat_minor": 2
}
