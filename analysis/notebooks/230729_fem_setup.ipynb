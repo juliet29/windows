{
 "cells": [
  {
   "cell_type": "code",
   "execution_count": 139,
   "metadata": {},
   "outputs": [],
   "source": [
    "from shapely import *\n",
    "import shapely.plotting as splt\n",
    "import shapely.ops as sopt\n",
    "import shapely as shp\n",
    "\n",
    "import matplotlib.pyplot as plt\n",
    "import numpy as np\n",
    "\n",
    "import sympy as smp\n",
    "\n",
    "from icecream import ic"
   ]
  },
  {
   "cell_type": "markdown",
   "metadata": {},
   "source": [
    "## geometry"
   ]
  },
  {
   "cell_type": "code",
   "execution_count": 17,
   "metadata": {},
   "outputs": [],
   "source": [
    "# split room into points, create cells around each points, and determine the adjacency of these cells \n",
    "\n",
    "# create a room \n",
    "# create offset curve to describe surroundings, and make it into a polygon \n",
    "# use numpy to make a mesh of points that are evenly distributed \n",
    "# use buffer to create cells based on these points and the overlap/ intersection with the polygons \n",
    "# give cells properties based on their relation to the room/surroundings...\n",
    "# use str tree thing to identify neighbours of each cell "
   ]
  },
  {
   "cell_type": "code",
   "execution_count": 18,
   "metadata": {},
   "outputs": [],
   "source": [
    "# create a room \n",
    "room_lx = 20 #m - length in x\n",
    "room_ly= 10 #m \n",
    "room_poly = box(0.0, 0.0, room_lx, room_ly)"
   ]
  },
  {
   "cell_type": "code",
   "execution_count": 19,
   "metadata": {},
   "outputs": [],
   "source": [
    "# use buffer to describe ambient \n",
    "amb_poly = room_poly.buffer(1, cap_style=\"square\", join_style=\"mitre\")\n",
    "amb_poly_diff = amb_poly.difference(room_poly)"
   ]
  },
  {
   "cell_type": "code",
   "execution_count": 20,
   "metadata": {},
   "outputs": [],
   "source": [
    "# use numpy to make a mesh of points that are evenly distributed \n",
    "room_xy = room_poly.exterior.coords.xy\n",
    "\n",
    "num_points = 5\n",
    "x = np.linspace(np.min(room_xy[0]), np.max(room_xy[0]), num_points)\n",
    "y = np.linspace(np.min(room_xy[1]), np.max(room_xy[1]), num_points)\n",
    "xv, yv = np.meshgrid(x,y)\n",
    "\n",
    "room_pts = [(x,y) for x,y in zip(xv.flatten(), yv.flatten())]"
   ]
  },
  {
   "cell_type": "code",
   "execution_count": 21,
   "metadata": {},
   "outputs": [],
   "source": [
    "def box_from_centroid(centroid, dx, dy):\n",
    "    # centroid should be a tuple\n",
    "    # create a box based on a centroid with coordinates going in ccw direction (starting from top-left => v1, v2, v3, v4 <= top right)\n",
    "    cx, cy = centroid\n",
    "\n",
    "    v1x = v2x = cx - dx/2\n",
    "    v4x = v3x = cx + dx/2\n",
    "\n",
    "    v1y = v4y = cy - dy/2\n",
    "    v2y = v3y = cy + dy/2\n",
    "\n",
    "    coords = (\n",
    "        (v1x, v1y),\n",
    "        (v2x, v2y),\n",
    "        (v3x, v3y),\n",
    "        (v4x, v4y)\n",
    "    )\n",
    "\n",
    "    # return coords\n",
    "\n",
    "    return Polygon(coords)\n"
   ]
  },
  {
   "cell_type": "code",
   "execution_count": 24,
   "metadata": {},
   "outputs": [],
   "source": [
    "# create cells around points in mesh of points \n",
    "dx = room_lx/(num_points - 1)\n",
    "dy = room_ly/(num_points - 1)\n",
    "cells = [box_from_centroid(pt, dx, dy) for pt in room_pts]\n",
    "\n",
    "#all cells should have the same area \n",
    "assert len(np.unique(np.array([cell.area for cell in cells]))) == 1\n"
   ]
  },
  {
   "cell_type": "code",
   "execution_count": 25,
   "metadata": {},
   "outputs": [],
   "source": [
    "# edit cell geometries based on overlap with room geom \n",
    "cells_trimmed = {}\n",
    "for ix, cell in enumerate(cells):\n",
    "    if not cell.within(room_poly):\n",
    "        cells_trimmed[ix] = cell.intersection(room_poly)\n",
    "    else:\n",
    "        cells_trimmed[ix] = cell\n"
   ]
  },
  {
   "cell_type": "code",
   "execution_count": 26,
   "metadata": {},
   "outputs": [],
   "source": [
    "# find the neighbours of each cell - those that have overlapping boundaries (not just points)\n",
    "tree = STRtree(list(cells_trimmed.values()))\n",
    "\n",
    "\n",
    "cells_nb = {} # nb - neighbours\n",
    "nb_pattern = 'FF2F11212' # used relate function to id DE-9IM pattern\n",
    "\n",
    "for k,v in cells_trimmed.items(): \n",
    "    cells_nb[k] = []\n",
    "    near_cells_ix = tree.query(v).tolist() \n",
    "\n",
    "    for ix in near_cells_ix:\n",
    "        if v.relate_pattern(cells_trimmed[ix], nb_pattern):\n",
    "            cells_nb[k].append(ix)\n",
    "\n",
    "\n",
    "    "
   ]
  },
  {
   "cell_type": "code",
   "execution_count": 128,
   "metadata": {},
   "outputs": [
    {
     "data": {
      "image/png": "[encoded data removed]",
      "text/latex": [
       "$\\displaystyle \\left[ 1, \\  5\\right]$"
      ],
      "text/plain": [
       "[1, 5]"
      ]
     },
     "execution_count": 128,
     "metadata": {},
     "output_type": "execute_result"
    }
   ],
   "source": [
    "cells_nb[0]"
   ]
  },
  {
   "cell_type": "code",
   "execution_count": 138,
   "metadata": {},
   "outputs": [
    {
     "name": "stdout",
     "output_type": "stream",
     "text": [
      "0 1 True\n",
      "0 5 False\n",
      "1 1 False\n",
      "1 5 False\n",
      "2 1 False\n",
      "2 5 False\n",
      "3 1 False\n",
      "3 5 True\n"
     ]
    }
   ],
   "source": [
    "cell_num = 0\n",
    "\n",
    "vs = list(cells_trimmed[cell_num].exterior.coords)\n",
    "lines = {}\n",
    "for ix, _ in enumerate(vs):\n",
    "    if ix < len(vs) - 1:\n",
    "        lines[ix] = LineString((vs[ix], vs[ix+1]))\n",
    "\n",
    "line_nb_touch_pattern = \"F1FF0F212\"\n",
    "for l_num, l in lines.items():\n",
    "    for ixn in cells_nb[cell_num]:\n",
    "        print(l_num, ixn, l.relate_pattern(cells_trimmed[ixn], line_nb_touch_pattern ))\n"
   ]
  },
  {
   "cell_type": "code",
   "execution_count": null,
   "metadata": {},
   "outputs": [],
   "source": [
    "# 0->1 0 1 F1FF0F212\n",
    "# 3->5 3 5 F1FF0F212"
   ]
  },
  {
   "cell_type": "code",
   "execution_count": 130,
   "metadata": {},
   "outputs": [
    {
     "data": {
      "text/plain": [
       "{0: <LINESTRING (2.5 1.25, 2.5 0)>,\n",
       " 1: <LINESTRING (2.5 0, 0 0)>,\n",
       " 2: <LINESTRING (0 0, 0 1.25)>,\n",
       " 3: <LINESTRING (0 1.25, 2.5 1.25)>}"
      ]
     },
     "execution_count": 130,
     "metadata": {},
     "output_type": "execute_result"
    }
   ],
   "source": [
    "lines"
   ]
  },
  {
   "cell_type": "markdown",
   "metadata": {},
   "source": [
    "## calculus"
   ]
  },
  {
   "cell_type": "code",
   "execution_count": 146,
   "metadata": {},
   "outputs": [],
   "source": [
    "cells_temp = {ix: k for ix, k in enumerate(smp.symbols(f\"T0:{len(cells_trimmed.values())}\"))}"
   ]
  },
  {
   "cell_type": "code",
   "execution_count": 64,
   "metadata": {},
   "outputs": [],
   "source": [
    "def get_flow_direction(line):\n",
    "    t = line.xy\n",
    "    dy = t[1][1] - t[1][0] # y dir if rise != 0\n",
    "    dx = t[0][1] - t[0][0] # x \n",
    "\n",
    "    if dy==0:\n",
    "        dir=\"x\"\n",
    "    else:\n",
    "        dir=\"y\"\n",
    "\n",
    "    return dir\n",
    "\n",
    "def get_rel_length(line, typical_length):\n",
    "    return line.length/typical_length"
   ]
  },
  {
   "cell_type": "code",
   "execution_count": 156,
   "metadata": {},
   "outputs": [],
   "source": [
    "amb_touch_pattern = 'F1FF0F212'\n",
    "line_nb_touch_pattern = \"F1FF0F212\"\n",
    "\n",
    "def boundary_cell_eq(cell_num=0, cells_polygon=cells_trimmed, cells_nb=cells_nb, cells_temp=cells_temp, gen_dx=dx, gen_dy=dy):\n",
    "    Tamb, h, k, delta_x, delta_y = smp.symbols(\"T_ininity, h, k,delta_x, delta_y\")\n",
    "    Tself = cells_temp[cell_num]\n",
    "\n",
    "    # specific cell and its vertices \n",
    "    cell = cells_polygon[cell_num]\n",
    "    vs = list(cell.exterior.coords)\n",
    "\n",
    "    # create lines based on vertices \n",
    "    lines = {}\n",
    "    for ix, _ in enumerate(vs):\n",
    "        if ix < len(vs) - 1:\n",
    "            lines[ix] = LineString((vs[ix], vs[ix+1]))\n",
    "    # TODO somehow check that this is valid \n",
    "\n",
    "    terms = []\n",
    "    for line_num,L in lines.items():\n",
    "        dirxy = get_flow_direction(L)\n",
    "        ic(dirxy)\n",
    "        rel_len = get_rel_length(L, gen_dx) if dirxy == \"x\" else get_rel_length(L, gen_dy)\n",
    "\n",
    "        # convection \n",
    "        if L.relate_pattern(amb_poly_diff, amb_touch_pattern):\n",
    "            term =  h * (Tamb - Tself)  * rel_len\n",
    "            if dirxy == \"x\": \n",
    "                term = term * delta_x\n",
    "            else:\n",
    "                term = term * delta_y\n",
    "            \n",
    "            terms.append(term)\n",
    "        \n",
    "        # conduction \n",
    "        else:\n",
    "            dxdy = delta_x/delta_y if dirxy == \"x\" else delta_y/delta_x\n",
    "            # have to cycle though all neigbours..\n",
    "            for ixn in cells_nb[cell_num]: \n",
    "                if L.relate_pattern(cells_polygon[ixn], line_nb_touch_pattern):\n",
    "                    ic(line_num, ixn) # this should only occur once per line number # TODO enforce a check here \n",
    "                    Tnb = cells_temp[ixn]\n",
    "\n",
    "                    term = k * rel_len * dxdy * (Tnb - Tself)\n",
    "\n",
    "                    terms.append(term)\n",
    "\n",
    "                    \n",
    "\n",
    "\n",
    "    return terms\n",
    "    "
   ]
  },
  {
   "cell_type": "code",
   "execution_count": 152,
   "metadata": {},
   "outputs": [
    {
     "name": "stderr",
     "output_type": "stream",
     "text": [
      "ic| line_num: 0, ixn: 1\n"
     ]
    },
    {
     "name": "stderr",
     "output_type": "stream",
     "text": [
      "ic| line_num: 3, ixn: 5\n"
     ]
    },
    {
     "data": {
      "image/png": "[encoded data removed]",
      "text/latex": [
       "$\\displaystyle \\left[ \\frac{0.5 \\delta_{x} k \\left(- T_{0} + T_{1}\\right)}{\\delta_{y}}, \\  0.5 \\delta_{x} h \\left(- T_{0} + T_{ininity}\\right), \\  0.5 \\delta_{y} h \\left(- T_{0} + T_{ininity}\\right), \\  \\frac{0.5 \\delta_{x} k \\left(- T_{0} + T_{5}\\right)}{\\delta_{y}}\\right]$"
      ],
      "text/plain": [
       "⎡0.5⋅δₓ⋅k⋅(-T₀ + T₁)                                                          \n",
       "⎢───────────────────, 0.5⋅δₓ⋅h⋅(-T₀ + T_ininity), 0.5⋅δ_y⋅h⋅(-T₀ + T_ininity),\n",
       "⎣        δ_y                                                                  \n",
       "\n",
       " 0.5⋅δₓ⋅k⋅(-T₀ + T₅)⎤\n",
       " ───────────────────⎥\n",
       "         δ_y        ⎦"
      ]
     },
     "execution_count": 152,
     "metadata": {},
     "output_type": "execute_result"
    }
   ],
   "source": [
    "boundary_cell_eq(cell_num=0)\n"
   ]
  },
  {
   "cell_type": "code",
   "execution_count": 157,
   "metadata": {},
   "outputs": [
    {
     "name": "stderr",
     "output_type": "stream",
     "text": [
      "ic| dirxy: 'x'\n",
      "ic| line_num: 0, ixn: 6\n",
      "ic| dirxy: 'y'\n",
      "ic| line_num: 1, ixn: 2\n",
      "ic| dirxy: 'x'\n",
      "ic| dirxy: 'y'\n",
      "ic| line_num: 3, ixn: 0\n"
     ]
    },
    {
     "data": {
      "image/png": "[encoded data removed]",
      "text/latex": [
       "$\\displaystyle \\left[ \\frac{1.0 \\delta_{x} k \\left(- T_{1} + T_{6}\\right)}{\\delta_{y}}, \\  \\frac{0.5 \\delta_{y} k \\left(- T_{1} + T_{2}\\right)}{\\delta_{x}}, \\  1.0 \\delta_{x} h \\left(- T_{1} + T_{ininity}\\right), \\  \\frac{0.5 \\delta_{y} k \\left(T_{0} - T_{1}\\right)}{\\delta_{x}}\\right]$"
      ],
      "text/plain": [
       "⎡1.0⋅δₓ⋅k⋅(-T₁ + T₆)  0.5⋅δ_y⋅k⋅(-T₁ + T₂)                              0.5⋅δ_\n",
       "⎢───────────────────, ────────────────────, 1.0⋅δₓ⋅h⋅(-T₁ + T_ininity), ──────\n",
       "⎣        δ_y                   δₓ                                             \n",
       "\n",
       "y⋅k⋅(T₀ - T₁)⎤\n",
       "─────────────⎥\n",
       "   δₓ        ⎦"
      ]
     },
     "execution_count": 157,
     "metadata": {},
     "output_type": "execute_result"
    }
   ],
   "source": [
    "boundary_cell_eq(cell_num=1)"
   ]
  },
  {
   "cell_type": "code",
   "execution_count": 158,
   "metadata": {},
   "outputs": [
    {
     "name": "stderr",
     "output_type": "stream",
     "text": [
      "ic| dirxy: 'y'\n",
      "ic| line_num: 0, ixn: 5\n",
      "ic| dirxy: 'x'\n",
      "ic| line_num: 1, ixn: 11\n",
      "ic| dirxy: 'y'\n",
      "ic| line_num: 2, ixn: 7\n",
      "ic| dirxy: 'x'\n",
      "ic| line_num: 3, ixn: 1\n"
     ]
    },
    {
     "data": {
      "image/png": "[encoded data removed]",
      "text/latex": [
       "$\\displaystyle \\left[ \\frac{1.0 \\delta_{y} k \\left(T_{5} - T_{6}\\right)}{\\delta_{x}}, \\  \\frac{1.0 \\delta_{x} k \\left(T_{11} - T_{6}\\right)}{\\delta_{y}}, \\  \\frac{1.0 \\delta_{y} k \\left(- T_{6} + T_{7}\\right)}{\\delta_{x}}, \\  \\frac{1.0 \\delta_{x} k \\left(T_{1} - T_{6}\\right)}{\\delta_{y}}\\right]$"
      ],
      "text/plain": [
       "⎡1.0⋅δ_y⋅k⋅(T₅ - T₆)  1.0⋅δₓ⋅k⋅(T₁₁ - T₆)  1.0⋅δ_y⋅k⋅(-T₆ + T₇)  1.0⋅δₓ⋅k⋅(T₁ \n",
       "⎢───────────────────, ───────────────────, ────────────────────, ─────────────\n",
       "⎣         δₓ                  δ_y                   δₓ                  δ_y   \n",
       "\n",
       "- T₆)⎤\n",
       "─────⎥\n",
       "     ⎦"
      ]
     },
     "execution_count": 158,
     "metadata": {},
     "output_type": "execute_result"
    }
   ],
   "source": [
    "boundary_cell_eq(cell_num=6)"
   ]
  },
  {
   "cell_type": "code",
   "execution_count": 97,
   "metadata": {},
   "outputs": [
    {
     "data": {
      "text/plain": [
       "[1.0*dx*h*(T_ininity - 1)]"
      ]
     },
     "execution_count": 97,
     "metadata": {},
     "output_type": "execute_result"
    }
   ],
   "source": [
    "boundary_cell_eq(cells_trimmed[1])"
   ]
  },
  {
   "cell_type": "markdown",
   "metadata": {},
   "source": [
    "### old procedure"
   ]
  },
  {
   "cell_type": "code",
   "execution_count": 222,
   "metadata": {},
   "outputs": [],
   "source": [
    "def make_conduction_term(T1, T2, dir=\"x\", corner=False):\n",
    "    k, dx, dy = symbols(\"k, dx, dy\")\n",
    "\n",
    "    term = k * (T2 - T1) \n",
    "\n",
    "    if dir == \"x\":\n",
    "        term = term * (dy/dx)\n",
    "    else:\n",
    "        term = term * (dx/dy)\n",
    "\n",
    "    if corner:\n",
    "        term = term/2\n",
    "\n",
    "    return term\n",
    "\n",
    "def make_convection_term(T1, corner=False, edge=False, dir=\"x\"):\n",
    "    Tamb, h, dx, dy = symbols(\"T_ininity, h, dx, dy\")\n",
    "    \n",
    "    term =  h * (Tamb - T1) \n",
    "\n",
    "    if edge:\n",
    "        if dir == \"x\": #TODO could be both \n",
    "            term = term * dx\n",
    "        elif term == \"y\":\n",
    "            term = term * dy\n",
    "        elif term == \"dxdy\":\n",
    "            term = term * dy * dx \n",
    "\n",
    "    if edge:\n",
    "        term = term/2\n",
    "\n",
    "    if corner:\n",
    "        term = term/4\n",
    "\n",
    "    return term\n",
    "\n",
    "def make_heat_generation_term(corner=False, edge=False):\n",
    "    e, dx, dy = symbols(\"e, dx, dy\")\n",
    "    term = dy*dx*e\n",
    "\n",
    "    if edge:\n",
    "        term = term/2\n",
    "\n",
    "    if corner:\n",
    "        term = term/4\n",
    "\n",
    "    return term\n",
    "    \n",
    "    "
   ]
  },
  {
   "cell_type": "code",
   "execution_count": 223,
   "metadata": {},
   "outputs": [
    {
     "data": {
      "text/latex": [
       "$\\displaystyle dx dy e$"
      ],
      "text/plain": [
       "dx*dy*e"
      ]
     },
     "execution_count": 223,
     "metadata": {},
     "output_type": "execute_result"
    }
   ],
   "source": [
    "make_heat_generation_term()"
   ]
  },
  {
   "cell_type": "code",
   "execution_count": 217,
   "metadata": {},
   "outputs": [
    {
     "data": {
      "text/latex": [
       "$\\displaystyle \\frac{dx k \\left(- T_{1} + T_{2}\\right)}{dy}$"
      ],
      "text/plain": [
       "dx*k*(-T1 + T2)/dy"
      ]
     },
     "execution_count": 217,
     "metadata": {},
     "output_type": "execute_result"
    }
   ],
   "source": [
    "T1, T2 = symbols(\"T1, T2\")\n",
    "\n",
    "make_conduction_term(T1, T2, dir=\"y\", )"
   ]
  },
  {
   "cell_type": "markdown",
   "metadata": {},
   "source": [
    "## visuals"
   ]
  },
  {
   "cell_type": "code",
   "execution_count": 144,
   "metadata": {},
   "outputs": [
    {
     "data": {
      "image/svg+xml": [
       "<svg xmlns=\"http://www.w3.org/2000/svg\" xmlns:xlink=\"http://www.w3.org/1999/xlink\" width=\"100.0\" height=\"100.0\" viewBox=\"-0.8 -0.8 21.6 11.600000000000001\" preserveAspectRatio=\"xMinYMin meet\"><g transform=\"matrix(1,0,0,-1,0,10.0)\"><g><path fill-rule=\"evenodd\" fill=\"#ff3333\" stroke=\"#555555\" stroke-width=\"0.43200000000000005\" opacity=\"0.6\" d=\"M 2.5,1.25 L 2.5,0.0 L 0.0,0.0 L 0.0,1.25 L 2.5,1.25 z\" /><path fill-rule=\"evenodd\" fill=\"#ff3333\" stroke=\"#555555\" stroke-width=\"0.43200000000000005\" opacity=\"0.6\" d=\"M 2.5,1.25 L 7.5,1.25 L 7.5,0.0 L 2.5,0.0 L 2.5,1.25 z\" /><path fill-rule=\"evenodd\" fill=\"#ff3333\" stroke=\"#555555\" stroke-width=\"0.43200000000000005\" opacity=\"0.6\" d=\"M 7.5,1.25 L 12.5,1.25 L 12.5,0.0 L 7.5,0.0 L 7.5,1.25 z\" /><path fill-rule=\"evenodd\" fill=\"#ff3333\" stroke=\"#555555\" stroke-width=\"0.43200000000000005\" opacity=\"0.6\" d=\"M 12.5,1.25 L 17.5,1.25 L 17.5,0.0 L 12.5,0.0 L 12.5,1.25 z\" /><path fill-rule=\"evenodd\" fill=\"#ff3333\" stroke=\"#555555\" stroke-width=\"0.43200000000000005\" opacity=\"0.6\" d=\"M 17.5,1.25 L 20.0,1.25 L 20.0,0.0 L 17.5,0.0 L 17.5,1.25 z\" /><path fill-rule=\"evenodd\" fill=\"#ff3333\" stroke=\"#555555\" stroke-width=\"0.43200000000000005\" opacity=\"0.6\" d=\"M 2.5,3.75 L 2.5,1.25 L 0.0,1.25 L 0.0,3.75 L 2.5,3.75 z\" /><path fill-rule=\"evenodd\" fill=\"#ff3333\" stroke=\"#555555\" stroke-width=\"0.43200000000000005\" opacity=\"0.6\" d=\"M 2.5,1.25 L 2.5,3.75 L 7.5,3.75 L 7.5,1.25 L 2.5,1.25 z\" /><path fill-rule=\"evenodd\" fill=\"#ff3333\" stroke=\"#555555\" stroke-width=\"0.43200000000000005\" opacity=\"0.6\" d=\"M 7.5,1.25 L 7.5,3.75 L 12.5,3.75 L 12.5,1.25 L 7.5,1.25 z\" /><path fill-rule=\"evenodd\" fill=\"#ff3333\" stroke=\"#555555\" stroke-width=\"0.43200000000000005\" opacity=\"0.6\" d=\"M 12.5,1.25 L 12.5,3.75 L 17.5,3.75 L 17.5,1.25 L 12.5,1.25 z\" /><path fill-rule=\"evenodd\" fill=\"#ff3333\" stroke=\"#555555\" stroke-width=\"0.43200000000000005\" opacity=\"0.6\" d=\"M 17.5,3.75 L 20.0,3.75 L 20.0,1.25 L 17.5,1.25 L 17.5,3.75 z\" /><path fill-rule=\"evenodd\" fill=\"#ff3333\" stroke=\"#555555\" stroke-width=\"0.43200000000000005\" opacity=\"0.6\" d=\"M 2.5,6.25 L 2.5,3.75 L 0.0,3.75 L 0.0,6.25 L 2.5,6.25 z\" /><path fill-rule=\"evenodd\" fill=\"#ff3333\" stroke=\"#555555\" stroke-width=\"0.43200000000000005\" opacity=\"0.6\" d=\"M 2.5,3.75 L 2.5,6.25 L 7.5,6.25 L 7.5,3.75 L 2.5,3.75 z\" /><path fill-rule=\"evenodd\" fill=\"#ff3333\" stroke=\"#555555\" stroke-width=\"0.43200000000000005\" opacity=\"0.6\" d=\"M 7.5,3.75 L 7.5,6.25 L 12.5,6.25 L 12.5,3.75 L 7.5,3.75 z\" /><path fill-rule=\"evenodd\" fill=\"#ff3333\" stroke=\"#555555\" stroke-width=\"0.43200000000000005\" opacity=\"0.6\" d=\"M 12.5,3.75 L 12.5,6.25 L 17.5,6.25 L 17.5,3.75 L 12.5,3.75 z\" /><path fill-rule=\"evenodd\" fill=\"#ff3333\" stroke=\"#555555\" stroke-width=\"0.43200000000000005\" opacity=\"0.6\" d=\"M 17.5,6.25 L 20.0,6.25 L 20.0,3.75 L 17.5,3.75 L 17.5,6.25 z\" /><path fill-rule=\"evenodd\" fill=\"#ff3333\" stroke=\"#555555\" stroke-width=\"0.43200000000000005\" opacity=\"0.6\" d=\"M 2.5,8.75 L 2.5,6.25 L 0.0,6.25 L 0.0,8.75 L 2.5,8.75 z\" /><path fill-rule=\"evenodd\" fill=\"#ff3333\" stroke=\"#555555\" stroke-width=\"0.43200000000000005\" opacity=\"0.6\" d=\"M 2.5,6.25 L 2.5,8.75 L 7.5,8.75 L 7.5,6.25 L 2.5,6.25 z\" /><path fill-rule=\"evenodd\" fill=\"#ff3333\" stroke=\"#555555\" stroke-width=\"0.43200000000000005\" opacity=\"0.6\" d=\"M 7.5,6.25 L 7.5,8.75 L 12.5,8.75 L 12.5,6.25 L 7.5,6.25 z\" /><path fill-rule=\"evenodd\" fill=\"#ff3333\" stroke=\"#555555\" stroke-width=\"0.43200000000000005\" opacity=\"0.6\" d=\"M 12.5,6.25 L 12.5,8.75 L 17.5,8.75 L 17.5,6.25 L 12.5,6.25 z\" /><path fill-rule=\"evenodd\" fill=\"#ff3333\" stroke=\"#555555\" stroke-width=\"0.43200000000000005\" opacity=\"0.6\" d=\"M 17.5,8.75 L 20.0,8.75 L 20.0,6.25 L 17.5,6.25 L 17.5,8.75 z\" /><path fill-rule=\"evenodd\" fill=\"#ff3333\" stroke=\"#555555\" stroke-width=\"0.43200000000000005\" opacity=\"0.6\" d=\"M 2.5,8.75 L 0.0,8.75 L 0.0,10.0 L 2.5,10.0 L 2.5,8.75 z\" /><path fill-rule=\"evenodd\" fill=\"#ff3333\" stroke=\"#555555\" stroke-width=\"0.43200000000000005\" opacity=\"0.6\" d=\"M 2.5,10.0 L 7.5,10.0 L 7.5,8.75 L 2.5,8.75 L 2.5,10.0 z\" /><path fill-rule=\"evenodd\" fill=\"#ff3333\" stroke=\"#555555\" stroke-width=\"0.43200000000000005\" opacity=\"0.6\" d=\"M 7.5,10.0 L 12.5,10.0 L 12.5,8.75 L 7.5,8.75 L 7.5,10.0 z\" /><path fill-rule=\"evenodd\" fill=\"#ff3333\" stroke=\"#555555\" stroke-width=\"0.43200000000000005\" opacity=\"0.6\" d=\"M 12.5,10.0 L 17.5,10.0 L 17.5,8.75 L 12.5,8.75 L 12.5,10.0 z\" /><path fill-rule=\"evenodd\" fill=\"#ff3333\" stroke=\"#555555\" stroke-width=\"0.43200000000000005\" opacity=\"0.6\" d=\"M 17.5,10.0 L 20.0,10.0 L 20.0,8.75 L 17.5,8.75 L 17.5,10.0 z\" /></g></g></svg>"
      ],
      "text/plain": [
       "<MULTIPOLYGON (((2.5 1.25, 2.5 0, 0 0, 0 1.25, 2.5 1.25)), ((2.5 1.25, 7.5 1...>"
      ]
     },
     "execution_count": 144,
     "metadata": {},
     "output_type": "execute_result"
    }
   ],
   "source": [
    "MultiPolygon(cells_trimmed)"
   ]
  },
  {
   "cell_type": "code",
   "execution_count": 163,
   "metadata": {},
   "outputs": [
    {
     "data": {
      "text/plain": [
       "<matplotlib.lines.Line2D at 0x1191c1340>"
      ]
     },
     "execution_count": 163,
     "metadata": {},
     "output_type": "execute_result"
    },
    {
     "data": {
      "image/png": "[encoded data removed]",
      "text/plain": [
       "<Figure size 360x222.492 with 1 Axes>"
      ]
     },
     "metadata": {},
     "output_type": "display_data"
    }
   ],
   "source": [
    "GM = (np.sqrt(5)-1.0)/2.0\n",
    "W = 4\n",
    "H = W*GM\n",
    "SIZE = (W, H)\n",
    "\n",
    "fig = plt.figure(figsize=SIZE,  dpi=90)\n",
    "ax = fig.add_subplot(111)\n",
    "\n",
    "\n",
    "splt.plot_polygon(amb_poly, ax=ax, alpha=0.7, color=\"blue\")\n",
    "splt.plot_polygon(room_poly, ax=ax, alpha=0.7, color=\"red\")\n",
    "\n",
    "\n",
    "\n",
    "for cell in cells:\n",
    "    splt.plot_polygon(cell, ax=ax, alpha=0.2, color=\"pink\")\n",
    "\n",
    "for (name, cell), pt in zip(cells_trimmed.items(),room_pts):\n",
    "    splt.plot_polygon(cell, ax=ax, alpha=0.4, color=\"orange\")\n",
    "    ax.annotate(name, pt)\n",
    "\n",
    "\n",
    "splt.plot_points(MultiPoint(room_pts), ax=ax, alpha=0.7, color=\"black\")"
   ]
  },
  {
   "cell_type": "code",
   "execution_count": null,
   "metadata": {},
   "outputs": [],
   "source": []
  }
 ],
 "metadata": {
  "kernelspec": {
   "display_name": "localwindowsenv",
   "language": "python",
   "name": "python3"
  },
  "language_info": {
   "codemirror_mode": {
    "name": "ipython",
    "version": 3
   },
   "file_extension": ".py",
   "mimetype": "text/x-python",
   "name": "python",
   "nbconvert_exporter": "python",
   "pygments_lexer": "ipython3",
   "version": "3.9.15"
  },
  "orig_nbformat": 4
 },
 "nbformat": 4,
 "nbformat_minor": 2
}
