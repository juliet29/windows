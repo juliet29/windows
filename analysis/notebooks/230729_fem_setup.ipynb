{
 "cells": [
  {
   "cell_type": "code",
   "execution_count": 139,
   "metadata": {},
   "outputs": [],
   "source": [
    "from shapely import *\n",
    "import shapely.plotting as splt\n",
    "import shapely.ops as sopt\n",
    "import shapely as shp\n",
    "\n",
    "import matplotlib.pyplot as plt\n",
    "import numpy as np\n",
    "\n",
    "import sympy as smp\n",
    "\n",
    "from icecream import ic"
   ]
  },
  {
   "cell_type": "markdown",
   "metadata": {},
   "source": [
    "## geometry"
   ]
  },
  {
   "cell_type": "code",
   "execution_count": 17,
   "metadata": {},
   "outputs": [],
   "source": [
    "# split room into points, create cells around each points, and determine the adjacency of these cells \n",
    "\n",
    "# create a room \n",
    "# create offset curve to describe surroundings, and make it into a polygon \n",
    "# use numpy to make a mesh of points that are evenly distributed \n",
    "# use buffer to create cells based on these points and the overlap/ intersection with the polygons \n",
    "# give cells properties based on their relation to the room/surroundings...\n",
    "# use str tree thing to identify neighbours of each cell "
   ]
  },
  {
   "cell_type": "code",
   "execution_count": 18,
   "metadata": {},
   "outputs": [],
   "source": [
    "# create a room \n",
    "room_lx = 20 #m - length in x\n",
    "room_ly= 10 #m \n",
    "room_poly = box(0.0, 0.0, room_lx, room_ly)"
   ]
  },
  {
   "cell_type": "code",
   "execution_count": 19,
   "metadata": {},
   "outputs": [],
   "source": [
    "# use buffer to describe ambient \n",
    "amb_poly = room_poly.buffer(1, cap_style=\"square\", join_style=\"mitre\")\n",
    "amb_poly_diff = amb_poly.difference(room_poly)"
   ]
  },
  {
   "cell_type": "code",
   "execution_count": 20,
   "metadata": {},
   "outputs": [],
   "source": [
    "# use numpy to make a mesh of points that are evenly distributed \n",
    "room_xy = room_poly.exterior.coords.xy\n",
    "\n",
    "num_points = 5\n",
    "x = np.linspace(np.min(room_xy[0]), np.max(room_xy[0]), num_points)\n",
    "y = np.linspace(np.min(room_xy[1]), np.max(room_xy[1]), num_points)\n",
    "xv, yv = np.meshgrid(x,y)\n",
    "\n",
    "room_pts = [(x,y) for x,y in zip(xv.flatten(), yv.flatten())]"
   ]
  },
  {
   "cell_type": "code",
   "execution_count": 21,
   "metadata": {},
   "outputs": [],
   "source": [
    "def box_from_centroid(centroid, dx, dy):\n",
    "    # centroid should be a tuple\n",
    "    # create a box based on a centroid with coordinates going in ccw direction (starting from top-left => v1, v2, v3, v4 <= top right)\n",
    "    cx, cy = centroid\n",
    "\n",
    "    v1x = v2x = cx - dx/2\n",
    "    v4x = v3x = cx + dx/2\n",
    "\n",
    "    v1y = v4y = cy - dy/2\n",
    "    v2y = v3y = cy + dy/2\n",
    "\n",
    "    coords = (\n",
    "        (v1x, v1y),\n",
    "        (v2x, v2y),\n",
    "        (v3x, v3y),\n",
    "        (v4x, v4y)\n",
    "    )\n",
    "\n",
    "    # return coords\n",
    "\n",
    "    return Polygon(coords)\n"
   ]
  },
  {
   "cell_type": "code",
   "execution_count": 24,
   "metadata": {},
   "outputs": [],
   "source": [
    "# create cells around points in mesh of points \n",
    "dx = room_lx/(num_points - 1)\n",
    "dy = room_ly/(num_points - 1)\n",
    "cells = [box_from_centroid(pt, dx, dy) for pt in room_pts]\n",
    "\n",
    "#all cells should have the same area \n",
    "assert len(np.unique(np.array([cell.area for cell in cells]))) == 1\n"
   ]
  },
  {
   "cell_type": "code",
   "execution_count": 25,
   "metadata": {},
   "outputs": [],
   "source": [
    "# edit cell geometries based on overlap with room geom \n",
    "cells_trimmed = {}\n",
    "for ix, cell in enumerate(cells):\n",
    "    if not cell.within(room_poly):\n",
    "        cells_trimmed[ix] = cell.intersection(room_poly)\n",
    "    else:\n",
    "        cells_trimmed[ix] = cell\n"
   ]
  },
  {
   "cell_type": "code",
   "execution_count": 26,
   "metadata": {},
   "outputs": [],
   "source": [
    "# find the neighbours of each cell - those that have overlapping boundaries (not just points)\n",
    "tree = STRtree(list(cells_trimmed.values()))\n",
    "\n",
    "\n",
    "cells_nb = {} # nb - neighbours\n",
    "nb_pattern = 'FF2F11212' # used relate function to id DE-9IM pattern\n",
    "\n",
    "for k,v in cells_trimmed.items(): \n",
    "    cells_nb[k] = []\n",
    "    near_cells_ix = tree.query(v).tolist() \n",
    "\n",
    "    for ix in near_cells_ix:\n",
    "        if v.relate_pattern(cells_trimmed[ix], nb_pattern):\n",
    "            cells_nb[k].append(ix)\n",
    "\n",
    "\n",
    "    "
   ]
  },
  {
   "cell_type": "markdown",
   "metadata": {},
   "source": [
    "#### testing"
   ]
  },
  {
   "cell_type": "code",
   "execution_count": 128,
   "metadata": {},
   "outputs": [
    {
     "data": {
      "image/png": "[encoded data removed]",
      "text/latex": [
       "$\\displaystyle \\left[ 1, \\  5\\right]$"
      ],
      "text/plain": [
       "[1, 5]"
      ]
     },
     "execution_count": 128,
     "metadata": {},
     "output_type": "execute_result"
    }
   ],
   "source": [
    "cells_nb[0]"
   ]
  },
  {
   "cell_type": "code",
   "execution_count": 138,
   "metadata": {},
   "outputs": [
    {
     "name": "stdout",
     "output_type": "stream",
     "text": [
      "0 1 True\n",
      "0 5 False\n",
      "1 1 False\n",
      "1 5 False\n",
      "2 1 False\n",
      "2 5 False\n",
      "3 1 False\n",
      "3 5 True\n"
     ]
    }
   ],
   "source": [
    "cell_num = 0\n",
    "\n",
    "vs = list(cells_trimmed[cell_num].exterior.coords)\n",
    "lines = {}\n",
    "for ix, _ in enumerate(vs):\n",
    "    if ix < len(vs) - 1:\n",
    "        lines[ix] = LineString((vs[ix], vs[ix+1]))\n",
    "\n",
    "line_nb_touch_pattern = \"F1FF0F212\"\n",
    "for l_num, l in lines.items():\n",
    "    for ixn in cells_nb[cell_num]:\n",
    "        print(l_num, ixn, l.relate_pattern(cells_trimmed[ixn], line_nb_touch_pattern ))\n"
   ]
  },
  {
   "cell_type": "code",
   "execution_count": 159,
   "metadata": {},
   "outputs": [
    {
     "data": {
      "text/plain": [
       "{'x': 1, 'y': 0.5}"
      ]
     },
     "execution_count": 159,
     "metadata": {},
     "output_type": "execute_result"
    }
   ],
   "source": [
    "_dirs = [\"x\", \"y\", \"x\", \"y\"]\n",
    "_lens = [1, 0.5, 1, 0.5]\n",
    "d = {ds:ls for ds, ls in zip(_dirs, _lens)}\n",
    "d"
   ]
  },
  {
   "cell_type": "code",
   "execution_count": 165,
   "metadata": {},
   "outputs": [
    {
     "data": {
      "image/png": "[encoded data removed]",
      "text/latex": [
       "$\\displaystyle \\dot{x}$"
      ],
      "text/plain": [
       "ẋ"
      ]
     },
     "execution_count": 165,
     "metadata": {},
     "output_type": "execute_result"
    }
   ],
   "source": [
    "smp.symbols(\"xdot\")"
   ]
  },
  {
   "cell_type": "markdown",
   "metadata": {},
   "source": [
    "## calculus"
   ]
  },
  {
   "cell_type": "code",
   "execution_count": 146,
   "metadata": {},
   "outputs": [],
   "source": [
    "cells_temp = {ix: k for ix, k in enumerate(smp.symbols(f\"T0:{len(cells_trimmed.values())}\"))}"
   ]
  },
  {
   "cell_type": "code",
   "execution_count": 64,
   "metadata": {},
   "outputs": [],
   "source": [
    "def get_flow_direction(line):\n",
    "    t = line.xy\n",
    "    dy = t[1][1] - t[1][0] # y dir if rise != 0\n",
    "    dx = t[0][1] - t[0][0] # x \n",
    "\n",
    "    if dy==0:\n",
    "        dir=\"x\"\n",
    "    else:\n",
    "        dir=\"y\"\n",
    "\n",
    "    return dir\n",
    "\n",
    "def get_rel_length(line, typical_length):\n",
    "    return line.length/typical_length"
   ]
  },
  {
   "cell_type": "code",
   "execution_count": 196,
   "metadata": {},
   "outputs": [],
   "source": [
    "amb_touch_pattern = 'F1FF0F212'\n",
    "line_nb_touch_pattern = \"F1FF0F212\"\n",
    "\n",
    "\n",
    "# TODO this is now the general procedure => just need to split it up for different types of BCs\n",
    "def boundary_cell_eq(cell_num=0, cells_polygon=cells_trimmed, cells_nb=cells_nb, cells_temp=cells_temp, gen_dx=dx, gen_dy=dy):\n",
    "    T_infinity, h, k, edot, delta_x, delta_y = smp.symbols(\"T_ininity, h, k, edot, delta_x, delta_y\")\n",
    "    Tself = cells_temp[cell_num]\n",
    "\n",
    "    # specific cell and its vertices \n",
    "    cell = cells_polygon[cell_num]\n",
    "    vs = list(cell.exterior.coords)\n",
    "\n",
    "    # create lines based on vertices \n",
    "    lines = {}\n",
    "    for ix, _ in enumerate(vs):\n",
    "        if ix < len(vs) - 1:\n",
    "            lines[ix] = LineString((vs[ix], vs[ix+1]))\n",
    "    # TODO somehow check that this is valid \n",
    "\n",
    "    terms = []\n",
    "    cell_data = {}\n",
    "    for line_num,L in lines.items():\n",
    "        dirxy = get_flow_direction(L)\n",
    "       # ic(dirxy)\n",
    "        rel_len = get_rel_length(L, gen_dx) if dirxy == \"x\" else get_rel_length(L, gen_dy)\n",
    "        cell_data[dirxy] = rel_len\n",
    "\n",
    "\n",
    "        # convection \n",
    "        if L.relate_pattern(amb_poly_diff, amb_touch_pattern):\n",
    "            term =  h * (T_infinity - Tself)  * rel_len\n",
    "            if dirxy == \"x\": \n",
    "                term = term * delta_x\n",
    "            else:\n",
    "                term = term * delta_y\n",
    "            \n",
    "            terms.append(term)\n",
    "        \n",
    "        # conduction \n",
    "        else:\n",
    "            dxdy = delta_x/delta_y if dirxy == \"x\" else delta_y/delta_x\n",
    "            # have to cycle though all neigbours..\n",
    "            for ixn in cells_nb[cell_num]: \n",
    "                if L.relate_pattern(cells_polygon[ixn], line_nb_touch_pattern):\n",
    "                   # ic(line_num, ixn) # this should only occur once per line number # TODO enforce a check here \n",
    "                    Tnb = cells_temp[ixn]\n",
    "\n",
    "                    term = k * rel_len * dxdy * (Tnb - Tself)\n",
    "\n",
    "                    terms.append(term)\n",
    "    \n",
    "    # heat generation term \n",
    "   # ic(cell_data)\n",
    "    term = edot * cell_data[\"x\"] * delta_x * cell_data[\"y\"] * delta_y \n",
    "    terms.append(term)\n",
    "                    \n",
    "    # should have 5 terms total \n",
    "    assert len(terms) == 5\n",
    "\n",
    "    eqn = smp.Eq(0, sum(terms))\n",
    "\n",
    "    return eqn\n",
    "    "
   ]
  },
  {
   "cell_type": "code",
   "execution_count": 207,
   "metadata": {},
   "outputs": [],
   "source": [
    "T_infinity, h, k, edot, delta_x, delta_y = smp.symbols(\"T_ininity, h, k, edot, delta_x, delta_y\")\n",
    "\n",
    "# Cengel - ex 5.6\n",
    "subs= {\n",
    "    T_infinity: 33, # F \n",
    "    h: 1.8, # Btu/h-ft^2-F\n",
    "    k: 0.4, # Btu/h-ft-F\n",
    "    edot: 0, # W/m^3\n",
    "    delta_x: dx,\n",
    "    delta_y: dy,\n",
    "}"
   ]
  },
  {
   "cell_type": "code",
   "execution_count": 202,
   "metadata": {},
   "outputs": [],
   "source": [
    "eqns = []\n",
    "\n",
    "for i in range(len(cells_trimmed)):\n",
    "    eqn = boundary_cell_eq(cell_num=i)\n",
    "    eqns.append(eqn)"
   ]
  },
  {
   "cell_type": "code",
   "execution_count": 208,
   "metadata": {},
   "outputs": [
    {
     "data": {
      "image/png": "[encoded data removed]",
      "text/latex": [
       "$\\displaystyle \\left[ 0 = - 7.25 T_{0} + 0.1 T_{1} + 0.4 T_{5} + 222.75, \\  0 = 0.1 T_{0} - 10.0 T_{1} + 0.1 T_{2} + 0.8 T_{6} + 297.0, \\  0 = 0.1 T_{1} - 10.0 T_{2} + 0.1 T_{3} + 0.8 T_{7} + 297.0, \\  0 = 0.1 T_{2} - 10.0 T_{3} + 0.1 T_{4} + 0.8 T_{8} + 297.0, \\  0 = 0.1 T_{3} - 7.25 T_{4} + 0.4 T_{9} + 222.75, \\  0 = 0.4 T_{0} + 0.4 T_{10} - 5.5 T_{5} + 0.2 T_{6} + 148.5, \\  0 = 0.8 T_{1} + 0.8 T_{11} + 0.2 T_{5} - 2.0 T_{6} + 0.2 T_{7}, \\  0 = 0.8 T_{12} + 0.8 T_{2} + 0.2 T_{6} - 2.0 T_{7} + 0.2 T_{8}, \\  0 = 0.8 T_{13} + 0.8 T_{3} + 0.2 T_{7} - 2.0 T_{8} + 0.2 T_{9}, \\  0 = 0.4 T_{14} + 0.4 T_{4} + 0.2 T_{8} - 5.5 T_{9} + 148.5, \\  0 = - 5.5 T_{10} + 0.2 T_{11} + 0.4 T_{15} + 0.4 T_{5} + 148.5, \\  0 = 0.2 T_{10} - 2.0 T_{11} + 0.2 T_{12} + 0.8 T_{16} + 0.8 T_{6}, \\  0 = 0.2 T_{11} - 2.0 T_{12} + 0.2 T_{13} + 0.8 T_{17} + 0.8 T_{7}, \\  0 = 0.2 T_{12} - 2.0 T_{13} + 0.2 T_{14} + 0.8 T_{18} + 0.8 T_{8}, \\  0 = 0.2 T_{13} - 5.5 T_{14} + 0.4 T_{19} + 0.4 T_{9} + 148.5, \\  0 = 0.4 T_{10} - 5.5 T_{15} + 0.2 T_{16} + 0.4 T_{20} + 148.5, \\  0 = 0.8 T_{11} + 0.2 T_{15} - 2.0 T_{16} + 0.2 T_{17} + 0.8 T_{21}, \\  0 = 0.8 T_{12} + 0.2 T_{16} - 2.0 T_{17} + 0.2 T_{18} + 0.8 T_{22}, \\  0 = 0.8 T_{13} + 0.2 T_{17} - 2.0 T_{18} + 0.2 T_{19} + 0.8 T_{23}, \\  0 = 0.4 T_{14} + 0.2 T_{18} - 5.5 T_{19} + 0.4 T_{24} + 148.5, \\  0 = 0.4 T_{15} - 7.25 T_{20} + 0.1 T_{21} + 222.75, \\  0 = 0.8 T_{16} + 0.1 T_{20} - 10.0 T_{21} + 0.1 T_{22} + 297.0, \\  0 = 0.8 T_{17} + 0.1 T_{21} - 10.0 T_{22} + 0.1 T_{23} + 297.0, \\  0 = 0.8 T_{18} + 0.1 T_{22} - 10.0 T_{23} + 0.1 T_{24} + 297.0, \\  0 = 0.4 T_{19} + 0.1 T_{23} - 7.25 T_{24} + 222.75\\right]$"
      ],
      "text/plain": [
       "[0 = -7.25⋅T₀ + 0.1⋅T₁ + 0.4⋅T₅ + 222.75, 0 = 0.1⋅T₀ - 10.0⋅T₁ + 0.1⋅T₂ + 0.8⋅\n",
       "T₆ + 297.0, 0 = 0.1⋅T₁ - 10.0⋅T₂ + 0.1⋅T₃ + 0.8⋅T₇ + 297.0, 0 = 0.1⋅T₂ - 10.0⋅\n",
       "T₃ + 0.1⋅T₄ + 0.8⋅T₈ + 297.0, 0 = 0.1⋅T₃ - 7.25⋅T₄ + 0.4⋅T₉ + 222.75, 0 = 0.4⋅\n",
       "T₀ + 0.4⋅T₁₀ - 5.5⋅T₅ + 0.2⋅T₆ + 148.5, 0 = 0.8⋅T₁ + 0.8⋅T₁₁ + 0.2⋅T₅ - 2.0⋅T₆\n",
       " + 0.2⋅T₇, 0 = 0.8⋅T₁₂ + 0.8⋅T₂ + 0.2⋅T₆ - 2.0⋅T₇ + 0.2⋅T₈, 0 = 0.8⋅T₁₃ + 0.8⋅\n",
       "T₃ + 0.2⋅T₇ - 2.0⋅T₈ + 0.2⋅T₉, 0 = 0.4⋅T₁₄ + 0.4⋅T₄ + 0.2⋅T₈ - 5.5⋅T₉ + 148.5,\n",
       " 0 = -5.5⋅T₁₀ + 0.2⋅T₁₁ + 0.4⋅T₁₅ + 0.4⋅T₅ + 148.5, 0 = 0.2⋅T₁₀ - 2.0⋅T₁₁ + 0.\n",
       "2⋅T₁₂ + 0.8⋅T₁₆ + 0.8⋅T₆, 0 = 0.2⋅T₁₁ - 2.0⋅T₁₂ + 0.2⋅T₁₃ + 0.8⋅T₁₇ + 0.8⋅T₇, \n",
       "0 = 0.2⋅T₁₂ - 2.0⋅T₁₃ + 0.2⋅T₁₄ + 0.8⋅T₁₈ + 0.8⋅T₈, 0 = 0.2⋅T₁₃ - 5.5⋅T₁₄ + 0.\n",
       "4⋅T₁₉ + 0.4⋅T₉ + 148.5, 0 = 0.4⋅T₁₀ - 5.5⋅T₁₅ + 0.2⋅T₁₆ + 0.4⋅T₂₀ + 148.5, 0 =\n",
       " 0.8⋅T₁₁ + 0.2⋅T₁₅ - 2.0⋅T₁₆ + 0.2⋅T₁₇ + 0.8⋅T₂₁, 0 = 0.8⋅T₁₂ + 0.2⋅T₁₆ - 2.0⋅\n",
       "T₁₇ + 0.2⋅T₁₈ + 0.8⋅T₂₂, 0 = 0.8⋅T₁₃ + 0.2⋅T₁₇ - 2.0⋅T₁₈ + 0.2⋅T₁₉ + 0.8⋅T₂₃, \n",
       "0 = 0.4⋅T₁₄ + 0.2⋅T₁₈ - 5.5⋅T₁₉ + 0.4⋅T₂₄ + 148.5, 0 = 0.4⋅T₁₅ - 7.25⋅T₂₀ + 0.\n",
       "1⋅T₂₁ + 222.75, 0 = 0.8⋅T₁₆ + 0.1⋅T₂₀ - 10.0⋅T₂₁ + 0.1⋅T₂₂ + 297.0, 0 = 0.8⋅T₁\n",
       "₇ + 0.1⋅T₂₁ - 10.0⋅T₂₂ + 0.1⋅T₂₃ + 297.0, 0 = 0.8⋅T₁₈ + 0.1⋅T₂₂ - 10.0⋅T₂₃ + 0\n",
       ".1⋅T₂₄ + 297.0, 0 = 0.4⋅T₁₉ + 0.1⋅T₂₃ - 7.25⋅T₂₄ + 222.75]"
      ]
     },
     "execution_count": 208,
     "metadata": {},
     "output_type": "execute_result"
    }
   ],
   "source": [
    "eqns_simp = [eqn.subs(subs) for eqn in eqns]\n",
    "eqns_simp"
   ]
  },
  {
   "cell_type": "code",
   "execution_count": 209,
   "metadata": {},
   "outputs": [
    {
     "data": {
      "image/png": "[encoded data removed]",
      "text/latex": [
       "$\\displaystyle \\left\\{ T_{0} : 33.0, \\  T_{1} : 33.0, \\  T_{10} : 33.0, \\  T_{11} : 33.0, \\  T_{12} : 33.0, \\  T_{13} : 33.0, \\  T_{14} : 33.0, \\  T_{15} : 33.0, \\  T_{16} : 33.0, \\  T_{17} : 33.0, \\  T_{18} : 33.0, \\  T_{19} : 33.0, \\  T_{2} : 33.0, \\  T_{20} : 33.0, \\  T_{21} : 33.0, \\  T_{22} : 33.0, \\  T_{23} : 33.0, \\  T_{24} : 33.0, \\  T_{3} : 33.0, \\  T_{4} : 33.0, \\  T_{5} : 33.0, \\  T_{6} : 33.0, \\  T_{7} : 33.0, \\  T_{8} : 33.0, \\  T_{9} : 33.0\\right\\}$"
      ],
      "text/plain": [
       "{T₀: 33.0, T₁: 33.0, T₁₀: 33.0, T₁₁: 33.0, T₁₂: 33.0, T₁₃: 33.0, T₁₄: 33.0, T₁\n",
       "₅: 33.0, T₁₆: 33.0, T₁₇: 33.0, T₁₈: 33.0, T₁₉: 33.0, T₂: 33.0, T₂₀: 33.0, T₂₁:\n",
       " 33.0, T₂₂: 33.0, T₂₃: 33.0, T₂₄: 33.0, T₃: 33.0, T₄: 33.0, T₅: 33.0, T₆: 33.0\n",
       ", T₇: 33.0, T₈: 33.0, T₉: 33.0}"
      ]
     },
     "execution_count": 209,
     "metadata": {},
     "output_type": "execute_result"
    }
   ],
   "source": [
    "smp.solve(eqns_simp, list(cells_temp.values()))"
   ]
  },
  {
   "cell_type": "markdown",
   "metadata": {},
   "source": [
    "## visuals"
   ]
  },
  {
   "cell_type": "code",
   "execution_count": 144,
   "metadata": {},
   "outputs": [
    {
     "data": {
      "image/svg+xml": [
       "<svg xmlns=\"http://www.w3.org/2000/svg\" xmlns:xlink=\"http://www.w3.org/1999/xlink\" width=\"100.0\" height=\"100.0\" viewBox=\"-0.8 -0.8 21.6 11.600000000000001\" preserveAspectRatio=\"xMinYMin meet\"><g transform=\"matrix(1,0,0,-1,0,10.0)\"><g><path fill-rule=\"evenodd\" fill=\"#ff3333\" stroke=\"#555555\" stroke-width=\"0.43200000000000005\" opacity=\"0.6\" d=\"M 2.5,1.25 L 2.5,0.0 L 0.0,0.0 L 0.0,1.25 L 2.5,1.25 z\" /><path fill-rule=\"evenodd\" fill=\"#ff3333\" stroke=\"#555555\" stroke-width=\"0.43200000000000005\" opacity=\"0.6\" d=\"M 2.5,1.25 L 7.5,1.25 L 7.5,0.0 L 2.5,0.0 L 2.5,1.25 z\" /><path fill-rule=\"evenodd\" fill=\"#ff3333\" stroke=\"#555555\" stroke-width=\"0.43200000000000005\" opacity=\"0.6\" d=\"M 7.5,1.25 L 12.5,1.25 L 12.5,0.0 L 7.5,0.0 L 7.5,1.25 z\" /><path fill-rule=\"evenodd\" fill=\"#ff3333\" stroke=\"#555555\" stroke-width=\"0.43200000000000005\" opacity=\"0.6\" d=\"M 12.5,1.25 L 17.5,1.25 L 17.5,0.0 L 12.5,0.0 L 12.5,1.25 z\" /><path fill-rule=\"evenodd\" fill=\"#ff3333\" stroke=\"#555555\" stroke-width=\"0.43200000000000005\" opacity=\"0.6\" d=\"M 17.5,1.25 L 20.0,1.25 L 20.0,0.0 L 17.5,0.0 L 17.5,1.25 z\" /><path fill-rule=\"evenodd\" fill=\"#ff3333\" stroke=\"#555555\" stroke-width=\"0.43200000000000005\" opacity=\"0.6\" d=\"M 2.5,3.75 L 2.5,1.25 L 0.0,1.25 L 0.0,3.75 L 2.5,3.75 z\" /><path fill-rule=\"evenodd\" fill=\"#ff3333\" stroke=\"#555555\" stroke-width=\"0.43200000000000005\" opacity=\"0.6\" d=\"M 2.5,1.25 L 2.5,3.75 L 7.5,3.75 L 7.5,1.25 L 2.5,1.25 z\" /><path fill-rule=\"evenodd\" fill=\"#ff3333\" stroke=\"#555555\" stroke-width=\"0.43200000000000005\" opacity=\"0.6\" d=\"M 7.5,1.25 L 7.5,3.75 L 12.5,3.75 L 12.5,1.25 L 7.5,1.25 z\" /><path fill-rule=\"evenodd\" fill=\"#ff3333\" stroke=\"#555555\" stroke-width=\"0.43200000000000005\" opacity=\"0.6\" d=\"M 12.5,1.25 L 12.5,3.75 L 17.5,3.75 L 17.5,1.25 L 12.5,1.25 z\" /><path fill-rule=\"evenodd\" fill=\"#ff3333\" stroke=\"#555555\" stroke-width=\"0.43200000000000005\" opacity=\"0.6\" d=\"M 17.5,3.75 L 20.0,3.75 L 20.0,1.25 L 17.5,1.25 L 17.5,3.75 z\" /><path fill-rule=\"evenodd\" fill=\"#ff3333\" stroke=\"#555555\" stroke-width=\"0.43200000000000005\" opacity=\"0.6\" d=\"M 2.5,6.25 L 2.5,3.75 L 0.0,3.75 L 0.0,6.25 L 2.5,6.25 z\" /><path fill-rule=\"evenodd\" fill=\"#ff3333\" stroke=\"#555555\" stroke-width=\"0.43200000000000005\" opacity=\"0.6\" d=\"M 2.5,3.75 L 2.5,6.25 L 7.5,6.25 L 7.5,3.75 L 2.5,3.75 z\" /><path fill-rule=\"evenodd\" fill=\"#ff3333\" stroke=\"#555555\" stroke-width=\"0.43200000000000005\" opacity=\"0.6\" d=\"M 7.5,3.75 L 7.5,6.25 L 12.5,6.25 L 12.5,3.75 L 7.5,3.75 z\" /><path fill-rule=\"evenodd\" fill=\"#ff3333\" stroke=\"#555555\" stroke-width=\"0.43200000000000005\" opacity=\"0.6\" d=\"M 12.5,3.75 L 12.5,6.25 L 17.5,6.25 L 17.5,3.75 L 12.5,3.75 z\" /><path fill-rule=\"evenodd\" fill=\"#ff3333\" stroke=\"#555555\" stroke-width=\"0.43200000000000005\" opacity=\"0.6\" d=\"M 17.5,6.25 L 20.0,6.25 L 20.0,3.75 L 17.5,3.75 L 17.5,6.25 z\" /><path fill-rule=\"evenodd\" fill=\"#ff3333\" stroke=\"#555555\" stroke-width=\"0.43200000000000005\" opacity=\"0.6\" d=\"M 2.5,8.75 L 2.5,6.25 L 0.0,6.25 L 0.0,8.75 L 2.5,8.75 z\" /><path fill-rule=\"evenodd\" fill=\"#ff3333\" stroke=\"#555555\" stroke-width=\"0.43200000000000005\" opacity=\"0.6\" d=\"M 2.5,6.25 L 2.5,8.75 L 7.5,8.75 L 7.5,6.25 L 2.5,6.25 z\" /><path fill-rule=\"evenodd\" fill=\"#ff3333\" stroke=\"#555555\" stroke-width=\"0.43200000000000005\" opacity=\"0.6\" d=\"M 7.5,6.25 L 7.5,8.75 L 12.5,8.75 L 12.5,6.25 L 7.5,6.25 z\" /><path fill-rule=\"evenodd\" fill=\"#ff3333\" stroke=\"#555555\" stroke-width=\"0.43200000000000005\" opacity=\"0.6\" d=\"M 12.5,6.25 L 12.5,8.75 L 17.5,8.75 L 17.5,6.25 L 12.5,6.25 z\" /><path fill-rule=\"evenodd\" fill=\"#ff3333\" stroke=\"#555555\" stroke-width=\"0.43200000000000005\" opacity=\"0.6\" d=\"M 17.5,8.75 L 20.0,8.75 L 20.0,6.25 L 17.5,6.25 L 17.5,8.75 z\" /><path fill-rule=\"evenodd\" fill=\"#ff3333\" stroke=\"#555555\" stroke-width=\"0.43200000000000005\" opacity=\"0.6\" d=\"M 2.5,8.75 L 0.0,8.75 L 0.0,10.0 L 2.5,10.0 L 2.5,8.75 z\" /><path fill-rule=\"evenodd\" fill=\"#ff3333\" stroke=\"#555555\" stroke-width=\"0.43200000000000005\" opacity=\"0.6\" d=\"M 2.5,10.0 L 7.5,10.0 L 7.5,8.75 L 2.5,8.75 L 2.5,10.0 z\" /><path fill-rule=\"evenodd\" fill=\"#ff3333\" stroke=\"#555555\" stroke-width=\"0.43200000000000005\" opacity=\"0.6\" d=\"M 7.5,10.0 L 12.5,10.0 L 12.5,8.75 L 7.5,8.75 L 7.5,10.0 z\" /><path fill-rule=\"evenodd\" fill=\"#ff3333\" stroke=\"#555555\" stroke-width=\"0.43200000000000005\" opacity=\"0.6\" d=\"M 12.5,10.0 L 17.5,10.0 L 17.5,8.75 L 12.5,8.75 L 12.5,10.0 z\" /><path fill-rule=\"evenodd\" fill=\"#ff3333\" stroke=\"#555555\" stroke-width=\"0.43200000000000005\" opacity=\"0.6\" d=\"M 17.5,10.0 L 20.0,10.0 L 20.0,8.75 L 17.5,8.75 L 17.5,10.0 z\" /></g></g></svg>"
      ],
      "text/plain": [
       "<MULTIPOLYGON (((2.5 1.25, 2.5 0, 0 0, 0 1.25, 2.5 1.25)), ((2.5 1.25, 7.5 1...>"
      ]
     },
     "execution_count": 144,
     "metadata": {},
     "output_type": "execute_result"
    }
   ],
   "source": [
    "MultiPolygon(cells_trimmed)"
   ]
  },
  {
   "cell_type": "code",
   "execution_count": 163,
   "metadata": {},
   "outputs": [
    {
     "data": {
      "text/plain": [
       "<matplotlib.lines.Line2D at 0x1191c1340>"
      ]
     },
     "execution_count": 163,
     "metadata": {},
     "output_type": "execute_result"
    },
    {
     "data": {
      "image/png": "[encoded data removed]",
      "text/plain": [
       "<Figure size 360x222.492 with 1 Axes>"
      ]
     },
     "metadata": {},
     "output_type": "display_data"
    }
   ],
   "source": [
    "GM = (np.sqrt(5)-1.0)/2.0\n",
    "W = 4\n",
    "H = W*GM\n",
    "SIZE = (W, H)\n",
    "\n",
    "fig = plt.figure(figsize=SIZE,  dpi=90)\n",
    "ax = fig.add_subplot(111)\n",
    "\n",
    "\n",
    "splt.plot_polygon(amb_poly, ax=ax, alpha=0.7, color=\"blue\")\n",
    "splt.plot_polygon(room_poly, ax=ax, alpha=0.7, color=\"red\")\n",
    "\n",
    "\n",
    "\n",
    "for cell in cells:\n",
    "    splt.plot_polygon(cell, ax=ax, alpha=0.2, color=\"pink\")\n",
    "\n",
    "for (name, cell), pt in zip(cells_trimmed.items(),room_pts):\n",
    "    splt.plot_polygon(cell, ax=ax, alpha=0.4, color=\"orange\")\n",
    "    ax.annotate(name, pt)\n",
    "\n",
    "\n",
    "splt.plot_points(MultiPoint(room_pts), ax=ax, alpha=0.7, color=\"black\")"
   ]
  },
  {
   "cell_type": "code",
   "execution_count": null,
   "metadata": {},
   "outputs": [],
   "source": []
  }
 ],
 "metadata": {
  "kernelspec": {
   "display_name": "localwindowsenv",
   "language": "python",
   "name": "python3"
  },
  "language_info": {
   "codemirror_mode": {
    "name": "ipython",
    "version": 3
   },
   "file_extension": ".py",
   "mimetype": "text/x-python",
   "name": "python",
   "nbconvert_exporter": "python",
   "pygments_lexer": "ipython3",
   "version": "3.9.15"
  },
  "orig_nbformat": 4
 },
 "nbformat": 4,
 "nbformat_minor": 2
}
