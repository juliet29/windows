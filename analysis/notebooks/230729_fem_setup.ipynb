{
 "cells": [
  {
   "cell_type": "code",
   "execution_count": 3,
   "metadata": {},
   "outputs": [],
   "source": [
    "from shapely import *\n",
    "import shapely.plotting as splt\n",
    "import shapely as shp\n",
    "import matplotlib.pyplot as plt\n",
    "import numpy as np\n"
   ]
  },
  {
   "cell_type": "code",
   "execution_count": 8,
   "metadata": {},
   "outputs": [],
   "source": [
    "GM = (np.sqrt(5)-1.0)/2.0\n",
    "W = 4\n",
    "H = W*GM\n",
    "SIZE = (W, H)"
   ]
  },
  {
   "cell_type": "code",
   "execution_count": null,
   "metadata": {},
   "outputs": [],
   "source": [
    "# split room into points, create cells around each points, and determine the adjacency of these cells \n",
    "\n",
    "# create a room \n",
    "# create offset curve to describe surroundings, and make it into a polygon \n",
    "# use numpy to make a mesh of points that are evenly distributed \n",
    "# use buffer to create cells based on these points and the overlap/ intersection with the polygons \n",
    "# give cells properties based on their relation to the room/surroundings...\n",
    "# use str tree thing to identify neighbours of each cell "
   ]
  },
  {
   "cell_type": "code",
   "execution_count": 2,
   "metadata": {},
   "outputs": [],
   "source": [
    "# create a room \n",
    "room_length = 20 #m \n",
    "room_width = 10 #m \n",
    "room_poly = box(0.0, 0.0, room_length, room_width)"
   ]
  },
  {
   "cell_type": "code",
   "execution_count": 49,
   "metadata": {},
   "outputs": [],
   "source": [
    "# use buffer to describe ambient \n",
    "amb_poly = room_poly.buffer(1, cap_style=\"square\", join_style=\"mitre\")"
   ]
  },
  {
   "cell_type": "code",
   "execution_count": 55,
   "metadata": {},
   "outputs": [
    {
     "data": {
      "text/plain": [
       "[(20.0, 0.0), (20.0, 10.0), (0.0, 10.0), (0.0, 0.0), (20.0, 0.0)]"
      ]
     },
     "execution_count": 55,
     "metadata": {},
     "output_type": "execute_result"
    }
   ],
   "source": [
    "list(room_poly.exterior.coords)"
   ]
  },
  {
   "cell_type": "code",
   "execution_count": 57,
   "metadata": {},
   "outputs": [
    {
     "data": {
      "text/plain": [
       "(array('d', [20.0, 20.0, 0.0, 0.0, 20.0]),\n",
       " array('d', [0.0, 10.0, 10.0, 0.0, 0.0]))"
      ]
     },
     "execution_count": 57,
     "metadata": {},
     "output_type": "execute_result"
    }
   ],
   "source": [
    "room_poly.exterior.coords.xy"
   ]
  },
  {
   "cell_type": "code",
   "execution_count": 59,
   "metadata": {},
   "outputs": [],
   "source": [
    "room_xy = room_poly.exterior.coords.xy"
   ]
  },
  {
   "cell_type": "code",
   "execution_count": 62,
   "metadata": {},
   "outputs": [
    {
     "data": {
      "text/plain": [
       "0.0"
      ]
     },
     "execution_count": 62,
     "metadata": {},
     "output_type": "execute_result"
    }
   ],
   "source": [
    "np.min(room_xy[0])"
   ]
  },
  {
   "cell_type": "code",
   "execution_count": 70,
   "metadata": {},
   "outputs": [],
   "source": [
    "room_xy = room_poly.exterior.coords.xy\n",
    "\n",
    "num_points = 5\n",
    "x = np.linspace(np.min(room_xy[0]), np.max(room_xy[0]), num_points)\n",
    "y = np.linspace(np.min(room_xy[1]), np.max(room_xy[1]), num_points)\n",
    "xv, yv = np.meshgrid(x,y)\n",
    "\n",
    "room_pts = MultiPoint([(x,y) for x,y in zip(xv.flatten(), yv.flatten())])"
   ]
  },
  {
   "cell_type": "code",
   "execution_count": 71,
   "metadata": {},
   "outputs": [
    {
     "data": {
      "text/plain": [
       "array([[ 0.,  5., 10., 15., 20.],\n",
       "       [ 0.,  5., 10., 15., 20.],\n",
       "       [ 0.,  5., 10., 15., 20.],\n",
       "       [ 0.,  5., 10., 15., 20.],\n",
       "       [ 0.,  5., 10., 15., 20.]])"
      ]
     },
     "execution_count": 71,
     "metadata": {},
     "output_type": "execute_result"
    }
   ],
   "source": [
    "xv"
   ]
  },
  {
   "cell_type": "code",
   "execution_count": 75,
   "metadata": {},
   "outputs": [
    {
     "data": {
      "text/plain": [
       "array([ 0. ,  0. ,  0. ,  0. ,  0. ,  2.5,  2.5,  2.5,  2.5,  2.5,  5. ,\n",
       "        5. ,  5. ,  5. ,  5. ,  7.5,  7.5,  7.5,  7.5,  7.5, 10. , 10. ,\n",
       "       10. , 10. , 10. ])"
      ]
     },
     "execution_count": 75,
     "metadata": {},
     "output_type": "execute_result"
    }
   ],
   "source": [
    "yv.flatten()"
   ]
  },
  {
   "cell_type": "code",
   "execution_count": 78,
   "metadata": {},
   "outputs": [
    {
     "data": {
      "image/svg+xml": [
       "<svg xmlns=\"http://www.w3.org/2000/svg\" xmlns:xlink=\"http://www.w3.org/1999/xlink\" width=\"100.0\" height=\"100.0\" viewBox=\"-0.8 -0.8 21.6 11.600000000000001\" preserveAspectRatio=\"xMinYMin meet\"><g transform=\"matrix(1,0,0,-1,0,10.0)\"><g><circle cx=\"0.0\" cy=\"0.0\" r=\"0.6480000000000001\" stroke=\"#555555\" stroke-width=\"0.21600000000000003\" fill=\"#66cc99\" opacity=\"0.6\" /><circle cx=\"5.0\" cy=\"0.0\" r=\"0.6480000000000001\" stroke=\"#555555\" stroke-width=\"0.21600000000000003\" fill=\"#66cc99\" opacity=\"0.6\" /><circle cx=\"10.0\" cy=\"0.0\" r=\"0.6480000000000001\" stroke=\"#555555\" stroke-width=\"0.21600000000000003\" fill=\"#66cc99\" opacity=\"0.6\" /><circle cx=\"15.0\" cy=\"0.0\" r=\"0.6480000000000001\" stroke=\"#555555\" stroke-width=\"0.21600000000000003\" fill=\"#66cc99\" opacity=\"0.6\" /><circle cx=\"20.0\" cy=\"0.0\" r=\"0.6480000000000001\" stroke=\"#555555\" stroke-width=\"0.21600000000000003\" fill=\"#66cc99\" opacity=\"0.6\" /><circle cx=\"0.0\" cy=\"2.5\" r=\"0.6480000000000001\" stroke=\"#555555\" stroke-width=\"0.21600000000000003\" fill=\"#66cc99\" opacity=\"0.6\" /><circle cx=\"5.0\" cy=\"2.5\" r=\"0.6480000000000001\" stroke=\"#555555\" stroke-width=\"0.21600000000000003\" fill=\"#66cc99\" opacity=\"0.6\" /><circle cx=\"10.0\" cy=\"2.5\" r=\"0.6480000000000001\" stroke=\"#555555\" stroke-width=\"0.21600000000000003\" fill=\"#66cc99\" opacity=\"0.6\" /><circle cx=\"15.0\" cy=\"2.5\" r=\"0.6480000000000001\" stroke=\"#555555\" stroke-width=\"0.21600000000000003\" fill=\"#66cc99\" opacity=\"0.6\" /><circle cx=\"20.0\" cy=\"2.5\" r=\"0.6480000000000001\" stroke=\"#555555\" stroke-width=\"0.21600000000000003\" fill=\"#66cc99\" opacity=\"0.6\" /><circle cx=\"0.0\" cy=\"5.0\" r=\"0.6480000000000001\" stroke=\"#555555\" stroke-width=\"0.21600000000000003\" fill=\"#66cc99\" opacity=\"0.6\" /><circle cx=\"5.0\" cy=\"5.0\" r=\"0.6480000000000001\" stroke=\"#555555\" stroke-width=\"0.21600000000000003\" fill=\"#66cc99\" opacity=\"0.6\" /><circle cx=\"10.0\" cy=\"5.0\" r=\"0.6480000000000001\" stroke=\"#555555\" stroke-width=\"0.21600000000000003\" fill=\"#66cc99\" opacity=\"0.6\" /><circle cx=\"15.0\" cy=\"5.0\" r=\"0.6480000000000001\" stroke=\"#555555\" stroke-width=\"0.21600000000000003\" fill=\"#66cc99\" opacity=\"0.6\" /><circle cx=\"20.0\" cy=\"5.0\" r=\"0.6480000000000001\" stroke=\"#555555\" stroke-width=\"0.21600000000000003\" fill=\"#66cc99\" opacity=\"0.6\" /><circle cx=\"0.0\" cy=\"7.5\" r=\"0.6480000000000001\" stroke=\"#555555\" stroke-width=\"0.21600000000000003\" fill=\"#66cc99\" opacity=\"0.6\" /><circle cx=\"5.0\" cy=\"7.5\" r=\"0.6480000000000001\" stroke=\"#555555\" stroke-width=\"0.21600000000000003\" fill=\"#66cc99\" opacity=\"0.6\" /><circle cx=\"10.0\" cy=\"7.5\" r=\"0.6480000000000001\" stroke=\"#555555\" stroke-width=\"0.21600000000000003\" fill=\"#66cc99\" opacity=\"0.6\" /><circle cx=\"15.0\" cy=\"7.5\" r=\"0.6480000000000001\" stroke=\"#555555\" stroke-width=\"0.21600000000000003\" fill=\"#66cc99\" opacity=\"0.6\" /><circle cx=\"20.0\" cy=\"7.5\" r=\"0.6480000000000001\" stroke=\"#555555\" stroke-width=\"0.21600000000000003\" fill=\"#66cc99\" opacity=\"0.6\" /><circle cx=\"0.0\" cy=\"10.0\" r=\"0.6480000000000001\" stroke=\"#555555\" stroke-width=\"0.21600000000000003\" fill=\"#66cc99\" opacity=\"0.6\" /><circle cx=\"5.0\" cy=\"10.0\" r=\"0.6480000000000001\" stroke=\"#555555\" stroke-width=\"0.21600000000000003\" fill=\"#66cc99\" opacity=\"0.6\" /><circle cx=\"10.0\" cy=\"10.0\" r=\"0.6480000000000001\" stroke=\"#555555\" stroke-width=\"0.21600000000000003\" fill=\"#66cc99\" opacity=\"0.6\" /><circle cx=\"15.0\" cy=\"10.0\" r=\"0.6480000000000001\" stroke=\"#555555\" stroke-width=\"0.21600000000000003\" fill=\"#66cc99\" opacity=\"0.6\" /><circle cx=\"20.0\" cy=\"10.0\" r=\"0.6480000000000001\" stroke=\"#555555\" stroke-width=\"0.21600000000000003\" fill=\"#66cc99\" opacity=\"0.6\" /></g></g></svg>"
      ],
      "text/plain": [
       "<MULTIPOINT (0 0, 5 0, 10 0, 15 0, 20 0, 0 2.5, 5 2.5, 10 2.5, 15 2.5, 20 2....>"
      ]
     },
     "execution_count": 78,
     "metadata": {},
     "output_type": "execute_result"
    }
   ],
   "source": []
  },
  {
   "cell_type": "code",
   "execution_count": 79,
   "metadata": {},
   "outputs": [
    {
     "data": {
      "text/plain": [
       "<matplotlib.lines.Line2D at 0x118c0d820>"
      ]
     },
     "execution_count": 79,
     "metadata": {},
     "output_type": "execute_result"
    },
    {
     "data": {
      "image/png": "[encoded data removed]",
      "text/plain": [
       "<Figure size 360x222.492 with 1 Axes>"
      ]
     },
     "metadata": {},
     "output_type": "display_data"
    }
   ],
   "source": [
    "fig = plt.figure(figsize=SIZE,  dpi=90)\n",
    "ax = fig.add_subplot(111)\n",
    "\n",
    "\n",
    "splt.plot_polygon(amb_poly, ax=ax, alpha=0.7, color=\"red\")\n",
    "splt.plot_polygon(room_poly, ax=ax, alpha=0.7)\n",
    "\n",
    "splt.plot_points(room_pts, ax=ax, alpha=0.7, color=\"black\")"
   ]
  }
 ],
 "metadata": {
  "kernelspec": {
   "display_name": "localwindowsenv",
   "language": "python",
   "name": "python3"
  },
  "language_info": {
   "codemirror_mode": {
    "name": "ipython",
    "version": 3
   },
   "file_extension": ".py",
   "mimetype": "text/x-python",
   "name": "python",
   "nbconvert_exporter": "python",
   "pygments_lexer": "ipython3",
   "version": "3.9.15"
  },
  "orig_nbformat": 4
 },
 "nbformat": 4,
 "nbformat_minor": 2
}
