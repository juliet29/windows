{
 "cells": [
  {
   "cell_type": "code",
   "execution_count": 87,
   "metadata": {},
   "outputs": [],
   "source": [
    "from shapely import *\n",
    "import shapely.plotting as splt\n",
    "import shapely.ops as sopt\n",
    "import shapely as shp\n",
    "import matplotlib.pyplot as plt\n",
    "import numpy as np\n"
   ]
  },
  {
   "cell_type": "code",
   "execution_count": null,
   "metadata": {},
   "outputs": [],
   "source": [
    "# split room into points, create cells around each points, and determine the adjacency of these cells \n",
    "\n",
    "# create a room \n",
    "# create offset curve to describe surroundings, and make it into a polygon \n",
    "# use numpy to make a mesh of points that are evenly distributed \n",
    "# use buffer to create cells based on these points and the overlap/ intersection with the polygons \n",
    "# give cells properties based on their relation to the room/surroundings...\n",
    "# use str tree thing to identify neighbours of each cell "
   ]
  },
  {
   "cell_type": "code",
   "execution_count": 89,
   "metadata": {},
   "outputs": [],
   "source": [
    "# create a room \n",
    "room_lx = 20 #m - length in x\n",
    "room_ly= 10 #m \n",
    "room_poly = box(0.0, 0.0, room_lx, room_ly)"
   ]
  },
  {
   "cell_type": "code",
   "execution_count": 49,
   "metadata": {},
   "outputs": [],
   "source": [
    "# use buffer to describe ambient \n",
    "amb_poly = room_poly.buffer(1, cap_style=\"square\", join_style=\"mitre\")"
   ]
  },
  {
   "cell_type": "code",
   "execution_count": 98,
   "metadata": {},
   "outputs": [],
   "source": [
    "# use numpy to make a mesh of points that are evenly distributed \n",
    "room_xy = room_poly.exterior.coords.xy\n",
    "\n",
    "num_points = 5\n",
    "x = np.linspace(np.min(room_xy[0]), np.max(room_xy[0]), num_points)\n",
    "y = np.linspace(np.min(room_xy[1]), np.max(room_xy[1]), num_points)\n",
    "xv, yv = np.meshgrid(x,y)\n",
    "\n",
    "room_pts = [(x,y) for x,y in zip(xv.flatten(), yv.flatten())]"
   ]
  },
  {
   "cell_type": "code",
   "execution_count": 119,
   "metadata": {},
   "outputs": [],
   "source": [
    "def box_from_centroid(centroid, dx, dy):\n",
    "    # centroid should be a tuple\n",
    "    # create a box based on a centroid with coordinates going in ccw direction (starting from top-left => v1, v2, v3, v4 <= top right)\n",
    "    cx, cy = centroid\n",
    "\n",
    "    v1x = v2x = cx - dx/2\n",
    "    v4x = v3x = cx + dx/2\n",
    "\n",
    "    v1y = v4y = cy - dy/2\n",
    "    v2y = v3y = cy + dy/2\n",
    "\n",
    "    coords = (\n",
    "        (v1x, v1y),\n",
    "        (v2x, v2y),\n",
    "        (v3x, v3y),\n",
    "        (v4x, v4y)\n",
    "    )\n",
    "\n",
    "    return Polygon(coords)\n"
   ]
  },
  {
   "cell_type": "code",
   "execution_count": 135,
   "metadata": {},
   "outputs": [],
   "source": [
    "# create cells around points in mesh of points \n",
    "dx = room_lx/(num_points - 1)\n",
    "dy = room_ly/(num_points - 1)\n",
    "cells = [box_from_centroid(pt, dx, dy) for pt in room_pts]\n",
    "\n",
    "#all cells should have the same area \n",
    "assert len(np.unique(np.array([cell.area for cell in cells2]))) == 1\n"
   ]
  },
  {
   "cell_type": "code",
   "execution_count": 188,
   "metadata": {},
   "outputs": [],
   "source": [
    "# edit cell geometries based on overlap with room geom \n",
    "cells_trimmed = {}\n",
    "for ix, cell in enumerate(cells):\n",
    "    if not cell.within(room_poly):\n",
    "        cells_trimmed[ix] = cell.intersection(room_poly)\n",
    "    else:\n",
    "        cells_trimmed[ix] = cell\n"
   ]
  },
  {
   "cell_type": "code",
   "execution_count": 190,
   "metadata": {},
   "outputs": [],
   "source": [
    "# find the neighbours of each cell - those that have overlapping boundaries (not just points)\n",
    "tree = STRtree(list(cells_trimmed.values()))\n",
    "\n",
    "\n",
    "cells_nb = {} # nb - neighbours\n",
    "nb_pattern = 'FF2F11212' # used relate function to id DE-9IM pattern\n",
    "\n",
    "for k,v in cells_trimmed.items(): \n",
    "    cells_nb[k] = []\n",
    "    near_cells_ix = tree.query(v).tolist() \n",
    "\n",
    "    for ix in near_cells_ix:\n",
    "        if v.relate_pattern(cells_trimmed[ix], nb_pattern):\n",
    "            cells_nb[k].append(ix)\n",
    "\n",
    "\n",
    "    "
   ]
  },
  {
   "cell_type": "code",
   "execution_count": 191,
   "metadata": {},
   "outputs": [
    {
     "data": {
      "text/plain": [
       "{0: [1, 5],\n",
       " 1: [0, 2, 6],\n",
       " 2: [1, 3, 7],\n",
       " 3: [2, 4, 8],\n",
       " 4: [3, 9],\n",
       " 5: [0, 6, 10],\n",
       " 6: [1, 5, 11, 7],\n",
       " 7: [2, 6, 12, 8],\n",
       " 8: [3, 7, 9, 13],\n",
       " 9: [4, 8, 14],\n",
       " 10: [5, 11, 15],\n",
       " 11: [6, 10, 12, 16],\n",
       " 12: [11, 7, 13, 17],\n",
       " 13: [12, 8, 14, 18],\n",
       " 14: [9, 13, 19],\n",
       " 15: [10, 16, 20],\n",
       " 16: [11, 15, 17, 21],\n",
       " 17: [12, 16, 18, 22],\n",
       " 18: [13, 17, 19, 23],\n",
       " 19: [14, 18, 24],\n",
       " 20: [15, 21],\n",
       " 21: [16, 22, 20],\n",
       " 22: [17, 21, 23],\n",
       " 23: [18, 22, 24],\n",
       " 24: [19, 23]}"
      ]
     },
     "execution_count": 191,
     "metadata": {},
     "output_type": "execute_result"
    }
   ],
   "source": [
    "cells_nb"
   ]
  },
  {
   "cell_type": "markdown",
   "metadata": {},
   "source": [
    "### visuals"
   ]
  },
  {
   "cell_type": "code",
   "execution_count": 144,
   "metadata": {},
   "outputs": [
    {
     "data": {
      "image/svg+xml": [
       "<svg xmlns=\"http://www.w3.org/2000/svg\" xmlns:xlink=\"http://www.w3.org/1999/xlink\" width=\"100.0\" height=\"100.0\" viewBox=\"-0.8 -0.8 21.6 11.600000000000001\" preserveAspectRatio=\"xMinYMin meet\"><g transform=\"matrix(1,0,0,-1,0,10.0)\"><g><path fill-rule=\"evenodd\" fill=\"#ff3333\" stroke=\"#555555\" stroke-width=\"0.43200000000000005\" opacity=\"0.6\" d=\"M 2.5,1.25 L 2.5,0.0 L 0.0,0.0 L 0.0,1.25 L 2.5,1.25 z\" /><path fill-rule=\"evenodd\" fill=\"#ff3333\" stroke=\"#555555\" stroke-width=\"0.43200000000000005\" opacity=\"0.6\" d=\"M 2.5,1.25 L 7.5,1.25 L 7.5,0.0 L 2.5,0.0 L 2.5,1.25 z\" /><path fill-rule=\"evenodd\" fill=\"#ff3333\" stroke=\"#555555\" stroke-width=\"0.43200000000000005\" opacity=\"0.6\" d=\"M 7.5,1.25 L 12.5,1.25 L 12.5,0.0 L 7.5,0.0 L 7.5,1.25 z\" /><path fill-rule=\"evenodd\" fill=\"#ff3333\" stroke=\"#555555\" stroke-width=\"0.43200000000000005\" opacity=\"0.6\" d=\"M 12.5,1.25 L 17.5,1.25 L 17.5,0.0 L 12.5,0.0 L 12.5,1.25 z\" /><path fill-rule=\"evenodd\" fill=\"#ff3333\" stroke=\"#555555\" stroke-width=\"0.43200000000000005\" opacity=\"0.6\" d=\"M 17.5,1.25 L 20.0,1.25 L 20.0,0.0 L 17.5,0.0 L 17.5,1.25 z\" /><path fill-rule=\"evenodd\" fill=\"#ff3333\" stroke=\"#555555\" stroke-width=\"0.43200000000000005\" opacity=\"0.6\" d=\"M 2.5,3.75 L 2.5,1.25 L 0.0,1.25 L 0.0,3.75 L 2.5,3.75 z\" /><path fill-rule=\"evenodd\" fill=\"#ff3333\" stroke=\"#555555\" stroke-width=\"0.43200000000000005\" opacity=\"0.6\" d=\"M 2.5,1.25 L 2.5,3.75 L 7.5,3.75 L 7.5,1.25 L 2.5,1.25 z\" /><path fill-rule=\"evenodd\" fill=\"#ff3333\" stroke=\"#555555\" stroke-width=\"0.43200000000000005\" opacity=\"0.6\" d=\"M 7.5,1.25 L 7.5,3.75 L 12.5,3.75 L 12.5,1.25 L 7.5,1.25 z\" /><path fill-rule=\"evenodd\" fill=\"#ff3333\" stroke=\"#555555\" stroke-width=\"0.43200000000000005\" opacity=\"0.6\" d=\"M 12.5,1.25 L 12.5,3.75 L 17.5,3.75 L 17.5,1.25 L 12.5,1.25 z\" /><path fill-rule=\"evenodd\" fill=\"#ff3333\" stroke=\"#555555\" stroke-width=\"0.43200000000000005\" opacity=\"0.6\" d=\"M 17.5,3.75 L 20.0,3.75 L 20.0,1.25 L 17.5,1.25 L 17.5,3.75 z\" /><path fill-rule=\"evenodd\" fill=\"#ff3333\" stroke=\"#555555\" stroke-width=\"0.43200000000000005\" opacity=\"0.6\" d=\"M 2.5,6.25 L 2.5,3.75 L 0.0,3.75 L 0.0,6.25 L 2.5,6.25 z\" /><path fill-rule=\"evenodd\" fill=\"#ff3333\" stroke=\"#555555\" stroke-width=\"0.43200000000000005\" opacity=\"0.6\" d=\"M 2.5,3.75 L 2.5,6.25 L 7.5,6.25 L 7.5,3.75 L 2.5,3.75 z\" /><path fill-rule=\"evenodd\" fill=\"#ff3333\" stroke=\"#555555\" stroke-width=\"0.43200000000000005\" opacity=\"0.6\" d=\"M 7.5,3.75 L 7.5,6.25 L 12.5,6.25 L 12.5,3.75 L 7.5,3.75 z\" /><path fill-rule=\"evenodd\" fill=\"#ff3333\" stroke=\"#555555\" stroke-width=\"0.43200000000000005\" opacity=\"0.6\" d=\"M 12.5,3.75 L 12.5,6.25 L 17.5,6.25 L 17.5,3.75 L 12.5,3.75 z\" /><path fill-rule=\"evenodd\" fill=\"#ff3333\" stroke=\"#555555\" stroke-width=\"0.43200000000000005\" opacity=\"0.6\" d=\"M 17.5,6.25 L 20.0,6.25 L 20.0,3.75 L 17.5,3.75 L 17.5,6.25 z\" /><path fill-rule=\"evenodd\" fill=\"#ff3333\" stroke=\"#555555\" stroke-width=\"0.43200000000000005\" opacity=\"0.6\" d=\"M 2.5,8.75 L 2.5,6.25 L 0.0,6.25 L 0.0,8.75 L 2.5,8.75 z\" /><path fill-rule=\"evenodd\" fill=\"#ff3333\" stroke=\"#555555\" stroke-width=\"0.43200000000000005\" opacity=\"0.6\" d=\"M 2.5,6.25 L 2.5,8.75 L 7.5,8.75 L 7.5,6.25 L 2.5,6.25 z\" /><path fill-rule=\"evenodd\" fill=\"#ff3333\" stroke=\"#555555\" stroke-width=\"0.43200000000000005\" opacity=\"0.6\" d=\"M 7.5,6.25 L 7.5,8.75 L 12.5,8.75 L 12.5,6.25 L 7.5,6.25 z\" /><path fill-rule=\"evenodd\" fill=\"#ff3333\" stroke=\"#555555\" stroke-width=\"0.43200000000000005\" opacity=\"0.6\" d=\"M 12.5,6.25 L 12.5,8.75 L 17.5,8.75 L 17.5,6.25 L 12.5,6.25 z\" /><path fill-rule=\"evenodd\" fill=\"#ff3333\" stroke=\"#555555\" stroke-width=\"0.43200000000000005\" opacity=\"0.6\" d=\"M 17.5,8.75 L 20.0,8.75 L 20.0,6.25 L 17.5,6.25 L 17.5,8.75 z\" /><path fill-rule=\"evenodd\" fill=\"#ff3333\" stroke=\"#555555\" stroke-width=\"0.43200000000000005\" opacity=\"0.6\" d=\"M 2.5,8.75 L 0.0,8.75 L 0.0,10.0 L 2.5,10.0 L 2.5,8.75 z\" /><path fill-rule=\"evenodd\" fill=\"#ff3333\" stroke=\"#555555\" stroke-width=\"0.43200000000000005\" opacity=\"0.6\" d=\"M 2.5,10.0 L 7.5,10.0 L 7.5,8.75 L 2.5,8.75 L 2.5,10.0 z\" /><path fill-rule=\"evenodd\" fill=\"#ff3333\" stroke=\"#555555\" stroke-width=\"0.43200000000000005\" opacity=\"0.6\" d=\"M 7.5,10.0 L 12.5,10.0 L 12.5,8.75 L 7.5,8.75 L 7.5,10.0 z\" /><path fill-rule=\"evenodd\" fill=\"#ff3333\" stroke=\"#555555\" stroke-width=\"0.43200000000000005\" opacity=\"0.6\" d=\"M 12.5,10.0 L 17.5,10.0 L 17.5,8.75 L 12.5,8.75 L 12.5,10.0 z\" /><path fill-rule=\"evenodd\" fill=\"#ff3333\" stroke=\"#555555\" stroke-width=\"0.43200000000000005\" opacity=\"0.6\" d=\"M 17.5,10.0 L 20.0,10.0 L 20.0,8.75 L 17.5,8.75 L 17.5,10.0 z\" /></g></g></svg>"
      ],
      "text/plain": [
       "<MULTIPOLYGON (((2.5 1.25, 2.5 0, 0 0, 0 1.25, 2.5 1.25)), ((2.5 1.25, 7.5 1...>"
      ]
     },
     "execution_count": 144,
     "metadata": {},
     "output_type": "execute_result"
    }
   ],
   "source": [
    "MultiPolygon(cells_trimmed)"
   ]
  },
  {
   "cell_type": "code",
   "execution_count": 163,
   "metadata": {},
   "outputs": [
    {
     "data": {
      "text/plain": [
       "<matplotlib.lines.Line2D at 0x1191c1340>"
      ]
     },
     "execution_count": 163,
     "metadata": {},
     "output_type": "execute_result"
    },
    {
     "data": {
      "image/png": "[encoded data removed]",
      "text/plain": [
       "<Figure size 360x222.492 with 1 Axes>"
      ]
     },
     "metadata": {},
     "output_type": "display_data"
    }
   ],
   "source": [
    "GM = (np.sqrt(5)-1.0)/2.0\n",
    "W = 4\n",
    "H = W*GM\n",
    "SIZE = (W, H)\n",
    "\n",
    "fig = plt.figure(figsize=SIZE,  dpi=90)\n",
    "ax = fig.add_subplot(111)\n",
    "\n",
    "\n",
    "splt.plot_polygon(amb_poly, ax=ax, alpha=0.7, color=\"blue\")\n",
    "splt.plot_polygon(room_poly, ax=ax, alpha=0.7, color=\"red\")\n",
    "\n",
    "\n",
    "\n",
    "for cell in cells:\n",
    "    splt.plot_polygon(cell, ax=ax, alpha=0.2, color=\"pink\")\n",
    "\n",
    "for (name, cell), pt in zip(cells_trimmed.items(),room_pts):\n",
    "    splt.plot_polygon(cell, ax=ax, alpha=0.4, color=\"orange\")\n",
    "    ax.annotate(name, pt)\n",
    "\n",
    "\n",
    "splt.plot_points(MultiPoint(room_pts), ax=ax, alpha=0.7, color=\"black\")"
   ]
  },
  {
   "cell_type": "code",
   "execution_count": null,
   "metadata": {},
   "outputs": [],
   "source": []
  }
 ],
 "metadata": {
  "kernelspec": {
   "display_name": "localwindowsenv",
   "language": "python",
   "name": "python3"
  },
  "language_info": {
   "codemirror_mode": {
    "name": "ipython",
    "version": 3
   },
   "file_extension": ".py",
   "mimetype": "text/x-python",
   "name": "python",
   "nbconvert_exporter": "python",
   "pygments_lexer": "ipython3",
   "version": "3.9.15"
  },
  "orig_nbformat": 4
 },
 "nbformat": 4,
 "nbformat_minor": 2
}
