{
 "cells": [
  {
   "cell_type": "code",
   "execution_count": 1,
   "metadata": {},
   "outputs": [],
   "source": [
    "from enum import Enum\n",
    "\n",
    "from icecream import ic\n",
    "\n",
    "import sys\n",
    "sys.path.insert(0, \"../scripts\")\n",
    "\n",
    "import fem_calc as fc\n",
    "import fem_helpers as h\n"
   ]
  },
  {
   "cell_type": "code",
   "execution_count": 2,
   "metadata": {},
   "outputs": [
    {
     "data": {
      "text/plain": [
       "'FF2F11212'"
      ]
     },
     "execution_count": 2,
     "metadata": {},
     "output_type": "execute_result"
    }
   ],
   "source": [
    "h.DE9IMPattern.CELL_ADJ.value"
   ]
  },
  {
   "cell_type": "code",
   "execution_count": 3,
   "metadata": {},
   "outputs": [
    {
     "data": {
      "text/plain": [
       "[Eq(0, -3.15*T0 + 0.1*T1 + 0.8*T5 + 74.25),\n",
       " Eq(0, 0.1*T0 - 1.8*T1 + 0.1*T2 + 1.6*T6),\n",
       " Eq(0, 0.1*T1 - 1.8*T2 + 0.1*T3 + 1.6*T7),\n",
       " Eq(0, 0.1*T2 - 1.8*T3 + 0.1*T4 + 1.6*T8),\n",
       " Eq(0, 0.2*T3 - 1.0*T4 + 0.8*T9),\n",
       " Eq(0, 0.4*T0 + 0.4*T10 - 5.5*T5 + 0.2*T6 + 148.5),\n",
       " Eq(0, 0.8*T1 + 0.8*T11 + 0.2*T5 - 2.0*T6 + 0.2*T7),\n",
       " Eq(0, 0.8*T12 + 0.8*T2 + 0.2*T6 - 2.0*T7 + 0.2*T8),\n",
       " Eq(0, 0.8*T13 + 0.8*T3 + 0.2*T7 - 2.0*T8 + 0.2*T9),\n",
       " Eq(0, 0.4*T14 + 0.4*T4 + 0.4*T8 - 1.2*T9),\n",
       " Eq(0, -5.5*T10 + 0.2*T11 + 0.4*T15 + 0.4*T5 + 148.5),\n",
       " Eq(0, 0.2*T10 - 2.0*T11 + 0.2*T12 + 0.8*T16 + 0.8*T6),\n",
       " Eq(0, 0.2*T11 - 2.0*T12 + 0.2*T13 + 0.8*T17 + 0.8*T7),\n",
       " Eq(0, 0.2*T12 - 2.0*T13 + 0.2*T14 + 0.8*T18 + 0.8*T8),\n",
       " Eq(0, 0.4*T13 - 1.2*T14 + 0.4*T19 + 0.4*T9),\n",
       " Eq(0, 0.4*T10 - 5.5*T15 + 0.2*T16 + 0.4*T20 + 148.5),\n",
       " Eq(0, 0.8*T11 + 0.2*T15 - 2.0*T16 + 0.2*T17 + 0.8*T21),\n",
       " Eq(0, 0.8*T12 + 0.2*T16 - 2.0*T17 + 0.2*T18 + 0.8*T22),\n",
       " Eq(0, 0.8*T13 + 0.2*T17 - 2.0*T18 + 0.2*T19 + 0.8*T23),\n",
       " Eq(0, 0.4*T14 + 0.4*T18 - 1.2*T19 + 0.4*T24),\n",
       " Eq(0, 0.8*T15 - 3.15*T20 + 0.1*T21 + 74.25),\n",
       " Eq(0, 1.6*T16 + 0.1*T20 - 1.8*T21 + 0.1*T22),\n",
       " Eq(0, 1.6*T17 + 0.1*T21 - 1.8*T22 + 0.1*T23),\n",
       " Eq(0, 1.6*T18 + 0.1*T22 - 1.8*T23 + 0.1*T24),\n",
       " Eq(0, 0.8*T19 + 0.2*T23 - 1.0*T24)]"
      ]
     },
     "execution_count": 3,
     "metadata": {},
     "output_type": "execute_result"
    }
   ],
   "source": [
    "f1 = fc.FEM_Calc()\n",
    "f1.generate_and_subs()"
   ]
  },
  {
   "cell_type": "code",
   "execution_count": 4,
   "metadata": {},
   "outputs": [
    {
     "data": {
      "text/plain": [
       "{T0: 33.0000000000000,\n",
       " T1: 33.0000000000000,\n",
       " T10: 33.0000000000000,\n",
       " T11: 33.0000000000000,\n",
       " T12: 33.0000000000000,\n",
       " T13: 33.0000000000000,\n",
       " T14: 33.0000000000000,\n",
       " T15: 33.0000000000000,\n",
       " T16: 33.0000000000000,\n",
       " T17: 33.0000000000000,\n",
       " T18: 33.0000000000000,\n",
       " T19: 33.0000000000000,\n",
       " T2: 33.0000000000000,\n",
       " T20: 33.0000000000000,\n",
       " T21: 33.0000000000000,\n",
       " T22: 33.0000000000000,\n",
       " T23: 33.0000000000000,\n",
       " T24: 33.0000000000000,\n",
       " T3: 33.0000000000000,\n",
       " T4: 33.0000000000000,\n",
       " T5: 33.0000000000000,\n",
       " T6: 33.0000000000000,\n",
       " T7: 33.0000000000000,\n",
       " T8: 33.0000000000000,\n",
       " T9: 33.0000000000000}"
      ]
     },
     "execution_count": 4,
     "metadata": {},
     "output_type": "execute_result"
    }
   ],
   "source": [
    "f1.solve()"
   ]
  },
  {
   "cell_type": "code",
   "execution_count": 5,
   "metadata": {},
   "outputs": [
    {
     "data": {
      "text/latex": [
       "$\\displaystyle 0 = 0.5 \\delta_{x} \\delta_{y} \\dot{e} + \\frac{2.0 \\delta_{x} k \\left(- T_{1} + T_{6}\\right)}{\\delta_{y}} + \\frac{0.5 \\delta_{y} k \\left(T_{0} - T_{1}\\right)}{\\delta_{x}} + \\frac{0.5 \\delta_{y} k \\left(- T_{1} + T_{2}\\right)}{\\delta_{x}}$"
      ],
      "text/plain": [
       "Eq(0, 0.5*delta_x*delta_y*edot + 2.0*delta_x*k*(-T1 + T6)/delta_y + 0.5*delta_y*k*(T0 - T1)/delta_x + 0.5*delta_y*k*(-T1 + T2)/delta_x)"
      ]
     },
     "execution_count": 5,
     "metadata": {},
     "output_type": "execute_result"
    }
   ],
   "source": [
    "f1.create_cell_eq(1)"
   ]
  },
  {
   "cell_type": "code",
   "execution_count": 6,
   "metadata": {},
   "outputs": [
    {
     "data": {
      "text/latex": [
       "$\\displaystyle 0 = 1.0 \\delta_{x} \\delta_{y} \\dot{e} + \\frac{1.0 \\delta_{x} k \\left(T_{1} - T_{6}\\right)}{\\delta_{y}} + \\frac{1.0 \\delta_{x} k \\left(T_{11} - T_{6}\\right)}{\\delta_{y}} + \\frac{1.0 \\delta_{y} k \\left(T_{5} - T_{6}\\right)}{\\delta_{x}} + \\frac{1.0 \\delta_{y} k \\left(- T_{6} + T_{7}\\right)}{\\delta_{x}}$"
      ],
      "text/plain": [
       "Eq(0, 1.0*delta_x*delta_y*edot + 1.0*delta_x*k*(T1 - T6)/delta_y + 1.0*delta_x*k*(T11 - T6)/delta_y + 1.0*delta_y*k*(T5 - T6)/delta_x + 1.0*delta_y*k*(-T6 + T7)/delta_x)"
      ]
     },
     "execution_count": 6,
     "metadata": {},
     "output_type": "execute_result"
    }
   ],
   "source": [
    "f1.create_cell_eq(6)"
   ]
  },
  {
   "cell_type": "code",
   "execution_count": 7,
   "metadata": {},
   "outputs": [
    {
     "data": {
      "text/latex": [
       "$\\displaystyle 0 = 0.25 \\delta_{x} \\delta_{y} \\dot{e} + \\frac{1.0 \\delta_{x} k \\left(- T_{0} + T_{5}\\right)}{\\delta_{y}} + 0.5 \\delta_{y} h \\left(- T_{0} + T_{ininity}\\right) + \\frac{0.5 \\delta_{y} k \\left(- T_{0} + T_{1}\\right)}{\\delta_{x}}$"
      ],
      "text/plain": [
       "Eq(0, 0.25*delta_x*delta_y*edot + 1.0*delta_x*k*(-T0 + T5)/delta_y + 0.5*delta_y*h*(-T0 + T_ininity) + 0.5*delta_y*k*(-T0 + T1)/delta_x)"
      ]
     },
     "execution_count": 7,
     "metadata": {},
     "output_type": "execute_result"
    }
   ],
   "source": [
    "f1.create_cell_eq(0)"
   ]
  },
  {
   "cell_type": "code",
   "execution_count": 8,
   "metadata": {},
   "outputs": [
    {
     "data": {
      "text/latex": [
       "$\\displaystyle 0 = 0.5 \\delta_{x} \\delta_{y} \\dot{e} + \\frac{2.0 \\delta_{x} k \\left(T_{16} - T_{21}\\right)}{\\delta_{y}} + \\frac{0.5 \\delta_{y} k \\left(T_{20} - T_{21}\\right)}{\\delta_{x}} + \\frac{0.5 \\delta_{y} k \\left(- T_{21} + T_{22}\\right)}{\\delta_{x}}$"
      ],
      "text/plain": [
       "Eq(0, 0.5*delta_x*delta_y*edot + 2.0*delta_x*k*(T16 - T21)/delta_y + 0.5*delta_y*k*(T20 - T21)/delta_x + 0.5*delta_y*k*(-T21 + T22)/delta_x)"
      ]
     },
     "execution_count": 8,
     "metadata": {},
     "output_type": "execute_result"
    }
   ],
   "source": [
    "f1.create_cell_eq(21)"
   ]
  }
 ],
 "metadata": {
  "kernelspec": {
   "display_name": "localwindowsenv",
   "language": "python",
   "name": "python3"
  },
  "language_info": {
   "codemirror_mode": {
    "name": "ipython",
    "version": 3
   },
   "file_extension": ".py",
   "mimetype": "text/x-python",
   "name": "python",
   "nbconvert_exporter": "python",
   "pygments_lexer": "ipython3",
   "version": "3.9.15"
  },
  "orig_nbformat": 4
 },
 "nbformat": 4,
 "nbformat_minor": 2
}
