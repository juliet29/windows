{
 "cells": [
  {
   "cell_type": "code",
   "execution_count": 1,
   "metadata": {},
   "outputs": [],
   "source": [
    "from enum import Enum\n",
    "\n",
    "from icecream import ic\n",
    "\n",
    "import sys\n",
    "sys.path.insert(0, \"../scripts\")\n",
    "\n",
    "import fem_calc as fc\n",
    "import fem_helpers as h\n"
   ]
  },
  {
   "cell_type": "code",
   "execution_count": 2,
   "metadata": {},
   "outputs": [
    {
     "data": {
      "text/plain": [
       "'FF2F11212'"
      ]
     },
     "execution_count": 2,
     "metadata": {},
     "output_type": "execute_result"
    }
   ],
   "source": [
    "h.DE9IMPattern.CELL_ADJ.value"
   ]
  },
  {
   "cell_type": "code",
   "execution_count": 3,
   "metadata": {},
   "outputs": [
    {
     "data": {
      "text/latex": [
       "$\\displaystyle 0 = 0.25 \\delta_{x} \\delta_{y} \\dot{e} + \\frac{1.0 \\delta_{x} k \\left(- T_{0} + T_{5}\\right)}{\\delta_{y}} + 0.5 \\delta_{y} h \\left(- T_{0} + T_{ininity}\\right) + \\frac{0.5 \\delta_{y} k \\left(- T_{0} + T_{1}\\right)}{\\delta_{x}}$"
      ],
      "text/plain": [
       "Eq(0, 0.25*delta_x*delta_y*edot + 1.0*delta_x*k*(-T0 + T5)/delta_y + 0.5*delta_y*h*(-T0 + T_ininity) + 0.5*delta_y*k*(-T0 + T1)/delta_x)"
      ]
     },
     "execution_count": 3,
     "metadata": {},
     "output_type": "execute_result"
    }
   ],
   "source": [
    "f1 = fc.FEM_Calc()\n",
    "f1.create_cell_eq(0)"
   ]
  },
  {
   "cell_type": "code",
   "execution_count": 4,
   "metadata": {},
   "outputs": [
    {
     "data": {
      "text/latex": [
       "$\\displaystyle 0 = 0.5 \\delta_{x} \\delta_{y} \\dot{e} + \\frac{2.0 \\delta_{x} k \\left(- T_{1} + T_{6}\\right)}{\\delta_{y}} + \\frac{0.5 \\delta_{y} k \\left(T_{0} - T_{1}\\right)}{\\delta_{x}} + \\frac{0.5 \\delta_{y} k \\left(- T_{1} + T_{2}\\right)}{\\delta_{x}}$"
      ],
      "text/plain": [
       "Eq(0, 0.5*delta_x*delta_y*edot + 2.0*delta_x*k*(-T1 + T6)/delta_y + 0.5*delta_y*k*(T0 - T1)/delta_x + 0.5*delta_y*k*(-T1 + T2)/delta_x)"
      ]
     },
     "execution_count": 4,
     "metadata": {},
     "output_type": "execute_result"
    }
   ],
   "source": [
    "f1.create_cell_eq(1)"
   ]
  },
  {
   "cell_type": "code",
   "execution_count": 5,
   "metadata": {},
   "outputs": [
    {
     "data": {
      "text/latex": [
       "$\\displaystyle 0 = 1.0 \\delta_{x} \\delta_{y} \\dot{e} + \\frac{1.0 \\delta_{x} k \\left(T_{1} - T_{6}\\right)}{\\delta_{y}} + \\frac{1.0 \\delta_{x} k \\left(T_{11} - T_{6}\\right)}{\\delta_{y}} + \\frac{1.0 \\delta_{y} k \\left(T_{5} - T_{6}\\right)}{\\delta_{x}} + \\frac{1.0 \\delta_{y} k \\left(- T_{6} + T_{7}\\right)}{\\delta_{x}}$"
      ],
      "text/plain": [
       "Eq(0, 1.0*delta_x*delta_y*edot + 1.0*delta_x*k*(T1 - T6)/delta_y + 1.0*delta_x*k*(T11 - T6)/delta_y + 1.0*delta_y*k*(T5 - T6)/delta_x + 1.0*delta_y*k*(-T6 + T7)/delta_x)"
      ]
     },
     "execution_count": 5,
     "metadata": {},
     "output_type": "execute_result"
    }
   ],
   "source": [
    "f1.create_cell_eq(6)"
   ]
  },
  {
   "cell_type": "code",
   "execution_count": 6,
   "metadata": {},
   "outputs": [
    {
     "data": {
      "text/latex": [
       "$\\displaystyle 0 = 0.25 \\delta_{x} \\delta_{y} \\dot{e} + \\frac{1.0 \\delta_{x} k \\left(- T_{0} + T_{5}\\right)}{\\delta_{y}} + 0.5 \\delta_{y} h \\left(- T_{0} + T_{ininity}\\right) + \\frac{0.5 \\delta_{y} k \\left(- T_{0} + T_{1}\\right)}{\\delta_{x}}$"
      ],
      "text/plain": [
       "Eq(0, 0.25*delta_x*delta_y*edot + 1.0*delta_x*k*(-T0 + T5)/delta_y + 0.5*delta_y*h*(-T0 + T_ininity) + 0.5*delta_y*k*(-T0 + T1)/delta_x)"
      ]
     },
     "execution_count": 6,
     "metadata": {},
     "output_type": "execute_result"
    }
   ],
   "source": [
    "f1.create_cell_eq(0)"
   ]
  }
 ],
 "metadata": {
  "kernelspec": {
   "display_name": "localwindowsenv",
   "language": "python",
   "name": "python3"
  },
  "language_info": {
   "codemirror_mode": {
    "name": "ipython",
    "version": 3
   },
   "file_extension": ".py",
   "mimetype": "text/x-python",
   "name": "python",
   "nbconvert_exporter": "python",
   "pygments_lexer": "ipython3",
   "version": "3.9.15"
  },
  "orig_nbformat": 4
 },
 "nbformat": 4,
 "nbformat_minor": 2
}
