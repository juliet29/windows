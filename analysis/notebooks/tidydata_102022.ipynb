{
 "cells": [
  {
   "cell_type": "markdown",
   "metadata": {},
   "source": [
    "# Tidy Data 10/20/22\n",
    "\n",
    "Goal: Put data into \"tidy\" (long) format\n",
    "\n",
    "Timestamp | Room | Window Open | Temperature | RH "
   ]
  },
  {
   "cell_type": "code",
   "execution_count": 1,
   "metadata": {},
   "outputs": [],
   "source": [
    "import json\n",
    "import datetime\n",
    "import pandas as pd\n",
    "import numpy as np\n",
    "from sklearn.metrics import mean_squared_error\n",
    "import math \n",
    "import sys\n",
    "import os\n",
    "\n",
    "# overall directory location \n",
    "root  = \"/Users/julietnwagwuume-ezeoke/Library/CloudStorage/GoogleDrive-jnwagwu@stanford.edu/My Drive/UIL/windows/\"\n",
    "# add path to scripts \n",
    "sys.path.insert(0, os.path.join(root, 'analysis/scripts'))"
   ]
  },
  {
   "cell_type": "code",
   "execution_count": 2,
   "metadata": {},
   "outputs": [],
   "source": [
    "from temprh_analysis import Temp_RH_Analysis"
   ]
  },
  {
   "cell_type": "code",
   "execution_count": 80,
   "metadata": {},
   "outputs": [],
   "source": [
    "# TODO add these fx to temprh_analysis.py \n",
    "\n",
    "def str2dt(date):\n",
    "    \"\"\"Convert a string to a pandas timestamp object \"\"\"\n",
    "    return pd.to_datetime(date, format= '%Y, %m, %d, %H, %M' )\n",
    "\n",
    "def get_htimes(df, date):\n",
    "    with open('../constants/htimes.json') as f:    \n",
    "        htimes = json.load(f)\n",
    "    htimes_arr = [(str2dt(i[\"open\"]), str2dt(i[\"close\"])) for i in  htimes[date]]\n",
    "\n",
    "    return htimes_arr"
   ]
  },
  {
   "cell_type": "markdown",
   "metadata": {},
   "source": [
    "# Single DataFrame"
   ]
  },
  {
   "cell_type": "code",
   "execution_count": 3,
   "metadata": {},
   "outputs": [],
   "source": [
    "a = Temp_RH_Analysis(root, \"072522\", [\"Open\", \"Sometimes Open\"] )\n",
    "# TODO make file in constants with all times and variables "
   ]
  },
  {
   "cell_type": "code",
   "execution_count": 5,
   "metadata": {},
   "outputs": [
    {
     "data": {
      "text/html": [
       "<div>\n",
       "<style scoped>\n",
       "    .dataframe tbody tr th:only-of-type {\n",
       "        vertical-align: middle;\n",
       "    }\n",
       "\n",
       "    .dataframe tbody tr th {\n",
       "        vertical-align: top;\n",
       "    }\n",
       "\n",
       "    .dataframe thead th {\n",
       "        text-align: right;\n",
       "    }\n",
       "</style>\n",
       "<table border=\"1\" class=\"dataframe\">\n",
       "  <thead>\n",
       "    <tr style=\"text-align: right;\">\n",
       "      <th></th>\n",
       "      <th>DateTime</th>\n",
       "      <th>Temp C</th>\n",
       "      <th>RH %</th>\n",
       "    </tr>\n",
       "  </thead>\n",
       "  <tbody>\n",
       "    <tr>\n",
       "      <th>0</th>\n",
       "      <td>2022-07-18 22:30:00</td>\n",
       "      <td>26.090</td>\n",
       "      <td>50.099</td>\n",
       "    </tr>\n",
       "    <tr>\n",
       "      <th>1</th>\n",
       "      <td>2022-07-18 22:30:30</td>\n",
       "      <td>26.066</td>\n",
       "      <td>50.127</td>\n",
       "    </tr>\n",
       "    <tr>\n",
       "      <th>2</th>\n",
       "      <td>2022-07-18 22:31:00</td>\n",
       "      <td>26.042</td>\n",
       "      <td>50.571</td>\n",
       "    </tr>\n",
       "    <tr>\n",
       "      <th>3</th>\n",
       "      <td>2022-07-18 22:31:30</td>\n",
       "      <td>26.017</td>\n",
       "      <td>50.185</td>\n",
       "    </tr>\n",
       "    <tr>\n",
       "      <th>4</th>\n",
       "      <td>2022-07-18 22:32:00</td>\n",
       "      <td>25.993</td>\n",
       "      <td>50.309</td>\n",
       "    </tr>\n",
       "    <tr>\n",
       "      <th>...</th>\n",
       "      <td>...</td>\n",
       "      <td>...</td>\n",
       "      <td>...</td>\n",
       "    </tr>\n",
       "    <tr>\n",
       "      <th>18348</th>\n",
       "      <td>2022-07-25 07:24:00</td>\n",
       "      <td>22.901</td>\n",
       "      <td>53.616</td>\n",
       "    </tr>\n",
       "    <tr>\n",
       "      <th>18349</th>\n",
       "      <td>2022-07-25 07:24:30</td>\n",
       "      <td>22.925</td>\n",
       "      <td>53.557</td>\n",
       "    </tr>\n",
       "    <tr>\n",
       "      <th>18350</th>\n",
       "      <td>2022-07-25 07:25:00</td>\n",
       "      <td>22.901</td>\n",
       "      <td>53.491</td>\n",
       "    </tr>\n",
       "    <tr>\n",
       "      <th>18351</th>\n",
       "      <td>2022-07-25 07:25:30</td>\n",
       "      <td>22.925</td>\n",
       "      <td>53.557</td>\n",
       "    </tr>\n",
       "    <tr>\n",
       "      <th>18352</th>\n",
       "      <td>2022-07-25 07:26:00</td>\n",
       "      <td>22.925</td>\n",
       "      <td>53.557</td>\n",
       "    </tr>\n",
       "  </tbody>\n",
       "</table>\n",
       "<p>18353 rows × 3 columns</p>\n",
       "</div>"
      ],
      "text/plain": [
       "                 DateTime  Temp C    RH %\n",
       "0     2022-07-18 22:30:00  26.090  50.099\n",
       "1     2022-07-18 22:30:30  26.066  50.127\n",
       "2     2022-07-18 22:31:00  26.042  50.571\n",
       "3     2022-07-18 22:31:30  26.017  50.185\n",
       "4     2022-07-18 22:32:00  25.993  50.309\n",
       "...                   ...     ...     ...\n",
       "18348 2022-07-25 07:24:00  22.901  53.616\n",
       "18349 2022-07-25 07:24:30  22.925  53.557\n",
       "18350 2022-07-25 07:25:00  22.901  53.491\n",
       "18351 2022-07-25 07:25:30  22.925  53.557\n",
       "18352 2022-07-25 07:26:00  22.925  53.557\n",
       "\n",
       "[18353 rows x 3 columns]"
      ]
     },
     "execution_count": 5,
     "metadata": {},
     "output_type": "execute_result"
    }
   ],
   "source": [
    "a.trh_422a"
   ]
  },
  {
   "cell_type": "markdown",
   "metadata": {},
   "source": [
    "* based on this, would just need to add a column about whether the window was open or closed based on h_times, and then group into one data set "
   ]
  },
  {
   "cell_type": "code",
   "execution_count": 13,
   "metadata": {},
   "outputs": [
    {
     "data": {
      "text/plain": [
       "[(Timestamp('2022-07-19 12:01:00'), Timestamp('2022-07-19 20:00:00')),\n",
       " (Timestamp('2022-07-20 07:50:00'), Timestamp('2022-07-20 12:30:00')),\n",
       " (Timestamp('2022-07-20 22:28:00'), Timestamp('2022-07-21 13:11:00')),\n",
       " (Timestamp('2022-07-21 15:06:00'), Timestamp('2022-07-21 17:28:00')),\n",
       " (Timestamp('2022-07-21 22:45:00'), Timestamp('2022-07-22 07:50:00')),\n",
       " (Timestamp('2022-07-22 11:07:00'), Timestamp('2022-07-22 16:00:00')),\n",
       " (Timestamp('2022-07-22 23:02:00'), Timestamp('2022-07-23 19:50:00')),\n",
       " (Timestamp('2022-07-24 13:22:00'), Timestamp('2022-07-24 19:33:00'))]"
      ]
     },
     "execution_count": 13,
     "metadata": {},
     "output_type": "execute_result"
    }
   ],
   "source": [
    "htimes = get_htimes(a, a.date)\n",
    "htimes"
   ]
  },
  {
   "cell_type": "code",
   "execution_count": 31,
   "metadata": {},
   "outputs": [],
   "source": [
    "# create a column window open, with all 0 values (0 indicating closed)\n",
    "df = a.trh_422a\n",
    "df[\"Window Open\"] = 0\n",
    "# at these values in htime, change to 1 (indicating window open)\n",
    "for htime_pair in htimes:\n",
    "    mask = (df['DateTime'] > htime_pair [0]) & (df['DateTime'] <= htime_pair [1])\n",
    "    df.loc[mask, \"Window Open\"]= 1"
   ]
  },
  {
   "cell_type": "code",
   "execution_count": null,
   "metadata": {},
   "outputs": [],
   "source": [
    "def add_window_open_values(df, date):\n",
    "    htimes = get_htimes(df, date)\n",
    "    df[\"Window Open\"] = 0\n",
    "    # at these values in htime, change to 1 (indicating window open)\n",
    "    for htime_pair in htimes:\n",
    "        mask = (df['DateTime'] > htime_pair [0]) & (df['DateTime'] <= htime_pair [1])\n",
    "        df.loc[mask, \"Window Open\"]= 1"
   ]
  },
  {
   "cell_type": "code",
   "execution_count": 34,
   "metadata": {},
   "outputs": [
    {
     "data": {
      "text/plain": [
       "0.462158775132131"
      ]
     },
     "execution_count": 34,
     "metadata": {},
     "output_type": "execute_result"
    }
   ],
   "source": [
    "df[\"Window Open\"].mean()"
   ]
  },
  {
   "cell_type": "markdown",
   "metadata": {},
   "source": [
    "# All DataFrames"
   ]
  },
  {
   "cell_type": "code",
   "execution_count": 46,
   "metadata": {},
   "outputs": [],
   "source": [
    "def add_window_open_values(df, date):\n",
    "    htimes = get_htimes(df, date)\n",
    "    df[\"Window Open\"] = 0\n",
    "    # at these values in htime, change to 1 (indicating window open)\n",
    "    for htime_pair in htimes:\n",
    "        mask = (df['DateTime'] > htime_pair [0]) & (df['DateTime'] <= htime_pair [1])\n",
    "        df.loc[mask, \"Window Open\"]= 1\n",
    "    return df"
   ]
  },
  {
   "cell_type": "code",
   "execution_count": 42,
   "metadata": {},
   "outputs": [],
   "source": [
    "# list of time stamps. for all time stamps, repeat for a and b. add column indicating if room a or room b \n",
    "\n",
    "with open('../constants/htimes.json') as f:    \n",
    "    htimes_file = json.load(f)"
   ]
  },
  {
   "cell_type": "code",
   "execution_count": 44,
   "metadata": {},
   "outputs": [],
   "source": [
    "htimes_dates = htimes.keys()"
   ]
  },
  {
   "cell_type": "code",
   "execution_count": 75,
   "metadata": {},
   "outputs": [],
   "source": [
    "# initialize total  dataframe\n",
    "\n",
    "all_data_list = []\n",
    "\n",
    "for date in htimes_dates:\n",
    "    # get data for this  date\n",
    "    date_data = Temp_RH_Analysis(root, date, [\"Open\", \"Sometimes Open\"] )\n",
    "    \n",
    "    # Room A -> 0\n",
    "    df_a  = add_window_open_values(date_data.trh_422a, date)\n",
    "    df_a[\"Room\"] = 0\n",
    "\n",
    "    # Room B -> 1\n",
    "    df_b = add_window_open_values(date_data.trh_422b, date)\n",
    "    df_b[\"Room\"] = 1\n",
    "\n",
    "    # join these dataframes df_a + df_b for specific date\n",
    "    all_data_list.extend([df_a, df_b])\n",
    "\n",
    "\n",
    "    \n",
    "    "
   ]
  },
  {
   "cell_type": "code",
   "execution_count": 77,
   "metadata": {},
   "outputs": [],
   "source": [
    "# add to total df  \n",
    "all_data_df = pd.concat(all_data_list)"
   ]
  },
  {
   "cell_type": "code",
   "execution_count": 78,
   "metadata": {},
   "outputs": [
    {
     "data": {
      "text/html": [
       "<div>\n",
       "<style scoped>\n",
       "    .dataframe tbody tr th:only-of-type {\n",
       "        vertical-align: middle;\n",
       "    }\n",
       "\n",
       "    .dataframe tbody tr th {\n",
       "        vertical-align: top;\n",
       "    }\n",
       "\n",
       "    .dataframe thead th {\n",
       "        text-align: right;\n",
       "    }\n",
       "</style>\n",
       "<table border=\"1\" class=\"dataframe\">\n",
       "  <thead>\n",
       "    <tr style=\"text-align: right;\">\n",
       "      <th></th>\n",
       "      <th>DateTime</th>\n",
       "      <th>Temp C</th>\n",
       "      <th>RH %</th>\n",
       "      <th>Window Open</th>\n",
       "      <th>Room</th>\n",
       "    </tr>\n",
       "  </thead>\n",
       "  <tbody>\n",
       "    <tr>\n",
       "      <th>0</th>\n",
       "      <td>2022-07-18 22:30:00</td>\n",
       "      <td>26.090</td>\n",
       "      <td>50.099</td>\n",
       "      <td>0</td>\n",
       "      <td>0</td>\n",
       "    </tr>\n",
       "    <tr>\n",
       "      <th>1</th>\n",
       "      <td>2022-07-18 22:30:30</td>\n",
       "      <td>26.066</td>\n",
       "      <td>50.127</td>\n",
       "      <td>0</td>\n",
       "      <td>0</td>\n",
       "    </tr>\n",
       "    <tr>\n",
       "      <th>2</th>\n",
       "      <td>2022-07-18 22:31:00</td>\n",
       "      <td>26.042</td>\n",
       "      <td>50.571</td>\n",
       "      <td>0</td>\n",
       "      <td>0</td>\n",
       "    </tr>\n",
       "    <tr>\n",
       "      <th>3</th>\n",
       "      <td>2022-07-18 22:31:30</td>\n",
       "      <td>26.017</td>\n",
       "      <td>50.185</td>\n",
       "      <td>0</td>\n",
       "      <td>0</td>\n",
       "    </tr>\n",
       "    <tr>\n",
       "      <th>4</th>\n",
       "      <td>2022-07-18 22:32:00</td>\n",
       "      <td>25.993</td>\n",
       "      <td>50.309</td>\n",
       "      <td>0</td>\n",
       "      <td>0</td>\n",
       "    </tr>\n",
       "    <tr>\n",
       "      <th>...</th>\n",
       "      <td>...</td>\n",
       "      <td>...</td>\n",
       "      <td>...</td>\n",
       "      <td>...</td>\n",
       "      <td>...</td>\n",
       "    </tr>\n",
       "    <tr>\n",
       "      <th>34912</th>\n",
       "      <td>2022-09-20 10:41:00</td>\n",
       "      <td>25.264</td>\n",
       "      <td>51.358</td>\n",
       "      <td>0</td>\n",
       "      <td>1</td>\n",
       "    </tr>\n",
       "    <tr>\n",
       "      <th>34913</th>\n",
       "      <td>2022-09-20 10:41:30</td>\n",
       "      <td>25.264</td>\n",
       "      <td>51.358</td>\n",
       "      <td>0</td>\n",
       "      <td>1</td>\n",
       "    </tr>\n",
       "    <tr>\n",
       "      <th>34914</th>\n",
       "      <td>2022-09-20 10:42:00</td>\n",
       "      <td>25.264</td>\n",
       "      <td>51.358</td>\n",
       "      <td>0</td>\n",
       "      <td>1</td>\n",
       "    </tr>\n",
       "    <tr>\n",
       "      <th>34915</th>\n",
       "      <td>2022-09-20 10:42:30</td>\n",
       "      <td>25.385</td>\n",
       "      <td>52.389</td>\n",
       "      <td>0</td>\n",
       "      <td>1</td>\n",
       "    </tr>\n",
       "    <tr>\n",
       "      <th>34916</th>\n",
       "      <td>2022-09-20 10:43:00</td>\n",
       "      <td>25.798</td>\n",
       "      <td>51.557</td>\n",
       "      <td>0</td>\n",
       "      <td>1</td>\n",
       "    </tr>\n",
       "  </tbody>\n",
       "</table>\n",
       "<p>191174 rows × 5 columns</p>\n",
       "</div>"
      ],
      "text/plain": [
       "                 DateTime  Temp C    RH %  Window Open  Room\n",
       "0     2022-07-18 22:30:00  26.090  50.099            0     0\n",
       "1     2022-07-18 22:30:30  26.066  50.127            0     0\n",
       "2     2022-07-18 22:31:00  26.042  50.571            0     0\n",
       "3     2022-07-18 22:31:30  26.017  50.185            0     0\n",
       "4     2022-07-18 22:32:00  25.993  50.309            0     0\n",
       "...                   ...     ...     ...          ...   ...\n",
       "34912 2022-09-20 10:41:00  25.264  51.358            0     1\n",
       "34913 2022-09-20 10:41:30  25.264  51.358            0     1\n",
       "34914 2022-09-20 10:42:00  25.264  51.358            0     1\n",
       "34915 2022-09-20 10:42:30  25.385  52.389            0     1\n",
       "34916 2022-09-20 10:43:00  25.798  51.557            0     1\n",
       "\n",
       "[191174 rows x 5 columns]"
      ]
     },
     "execution_count": 78,
     "metadata": {},
     "output_type": "execute_result"
    }
   ],
   "source": [
    "all_data_df"
   ]
  },
  {
   "cell_type": "code",
   "execution_count": 79,
   "metadata": {},
   "outputs": [
    {
     "data": {
      "text/plain": [
       "0.5000209233473171"
      ]
     },
     "execution_count": 79,
     "metadata": {},
     "output_type": "execute_result"
    }
   ],
   "source": [
    "all_data_df[\"Room\"].mean() # should be 0.5 -> same amount of data collected in Rooms A and B "
   ]
  },
  {
   "cell_type": "markdown",
   "metadata": {},
   "source": [
    "## save as csv"
   ]
  },
  {
   "cell_type": "code",
   "execution_count": null,
   "metadata": {},
   "outputs": [],
   "source": [
    "all_data_df.to_csv(\"../constants/tidydata_102022.csv\")"
   ]
  }
 ],
 "metadata": {
  "kernelspec": {
   "display_name": "Python 3.10.6 ('localwindowsenv': venv)",
   "language": "python",
   "name": "python3"
  },
  "language_info": {
   "codemirror_mode": {
    "name": "ipython",
    "version": 3
   },
   "file_extension": ".py",
   "mimetype": "text/x-python",
   "name": "python",
   "nbconvert_exporter": "python",
   "pygments_lexer": "ipython3",
   "version": "3.10.6"
  },
  "orig_nbformat": 4,
  "vscode": {
   "interpreter": {
    "hash": "f28a956a8a055d6b68b5cc293671ad0a6b47fe35ab4dad72e45e8f1e380b8050"
   }
  }
 },
 "nbformat": 4,
 "nbformat_minor": 2
}
