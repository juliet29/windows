{
 "cells": [
  {
   "cell_type": "code",
   "execution_count": 289,
   "metadata": {},
   "outputs": [],
   "source": [
    "import plotly.graph_objects as go\n",
    "# import kaleido\n",
    "from plotly.subplots import make_subplots\n",
    "import plotly.io as pio\n",
    "import pandas as pd\n",
    "import numpy as np\n",
    "import json\n",
    "\n",
    "from statsmodels.tsa.seasonal import seasonal_decompose\n",
    "import statsmodels.api as sm\n",
    "\n",
    "# local modules \n",
    "import sys\n",
    "sys.path.insert(0, \"../scripts\")\n",
    "import helpers as h\n",
    "import seaborn as sns\n",
    "\n",
    "import matplotlib.pyplot as plt\n",
    "\n",
    "from numpy.linalg import lstsq\n",
    "import scipy.signal\n",
    "\n",
    "import scipy.optimize"
   ]
  },
  {
   "cell_type": "code",
   "execution_count": 207,
   "metadata": {},
   "outputs": [
    {
     "name": "stdout",
     "output_type": "stream",
     "text": [
      "[1.] [0. 1.] Index(['DateTime', 'Temp C', 'RH %', 'Room', 'Ambient Temp', 'Ambient RH',\n",
      "       'Window Open'],\n",
      "      dtype='object')\n"
     ]
    }
   ],
   "source": [
    "a00, a01 = h.import_desired_data(\"A\", \"15T\")\n",
    "a00.set_index(a00[\"DateTime\"].values, inplace=True)\n",
    "\n",
    "amb = a01[\"Ambient Temp\"]\n",
    "# a01.set_index(time.values, inplace=True)\n",
    "print(a00[\"Window Open\"].unique(), a01[\"Window Open\"].unique(), a00.columns)\n"
   ]
  },
  {
   "cell_type": "code",
   "execution_count": 386,
   "metadata": {},
   "outputs": [
    {
     "data": {
      "text/plain": [
       "<bound method NDFrame._add_numeric_operations.<locals>.std of 2022-07-20 07:15:00    0.222591\n",
       "2022-07-20 07:30:00    0.222591\n",
       "2022-07-20 07:45:00    0.222591\n",
       "2022-07-20 08:00:00    0.242525\n",
       "2022-07-20 08:15:00    0.242525\n",
       "                         ...   \n",
       "2022-07-24 06:15:00    0.239203\n",
       "2022-07-24 06:30:00    0.239203\n",
       "2022-07-24 06:45:00    0.239203\n",
       "2022-07-24 07:00:00    0.245847\n",
       "2022-07-24 07:15:00    0.245847\n",
       "Name: Ambient Temp, Length: 385, dtype: float64>"
      ]
     },
     "execution_count": 386,
     "metadata": {},
     "output_type": "execute_result"
    }
   ],
   "source": [
    "amb.std"
   ]
  },
  {
   "attachments": {},
   "cell_type": "markdown",
   "metadata": {},
   "source": [
    "## Testing Guesses"
   ]
  },
  {
   "cell_type": "code",
   "execution_count": 84,
   "metadata": {},
   "outputs": [],
   "source": [
    "def make_fit(series, A, w, phi, w_t_var):\n",
    "    n = len(series)\n",
    "    t = np.arange(n)\n",
    "\n",
    "    w_t = np.random.normal(0, 1, size=w_t_var)\n",
    "    x_t = A*np.cos(2*np.pi*w*t + phi) # + w_t\n",
    "\n",
    "    return x_t, t"
   ]
  },
  {
   "cell_type": "code",
   "execution_count": 85,
   "metadata": {},
   "outputs": [],
   "source": [
    "def norm_grad(series):\n",
    "    return h.normalize(np.gradient(series))"
   ]
  },
  {
   "cell_type": "code",
   "execution_count": 217,
   "metadata": {},
   "outputs": [
    {
     "data": {
      "text/plain": [
       "array([  3,   7,  19,  26,  28,  32,  38,  44,  51,  57,  62,  67,  72,\n",
       "        79,  86,  93,  96, 104, 108, 114, 118, 124, 128, 131, 136, 141,\n",
       "       144, 146, 150, 152, 160, 162, 175, 187, 193, 197, 201, 207, 220,\n",
       "       224, 229, 231, 235, 241, 245, 249, 253, 256, 260, 265, 268, 288,\n",
       "       293, 305, 307, 310, 316, 323, 330, 335, 344, 351, 353, 357, 367,\n",
       "       380])"
      ]
     },
     "execution_count": 217,
     "metadata": {},
     "output_type": "execute_result"
    }
   ],
   "source": [
    "peaks=scipy.signal.find_peaks(ddt_dif_xt)\n",
    "peaks[01]"
   ]
  },
  {
   "cell_type": "code",
   "execution_count": 216,
   "metadata": {},
   "outputs": [
    {
     "data": {
      "text/plain": [
       "3     2022-07-20 08:00:00\n",
       "7     2022-07-20 09:00:00\n",
       "19    2022-07-20 12:00:00\n",
       "26    2022-07-20 13:45:00\n",
       "28    2022-07-20 14:15:00\n",
       "              ...        \n",
       "351   2022-07-23 23:00:00\n",
       "353   2022-07-23 23:30:00\n",
       "357   2022-07-24 00:30:00\n",
       "367   2022-07-24 03:00:00\n",
       "380   2022-07-24 06:15:00\n",
       "Name: DateTime, Length: 66, dtype: datetime64[ns]"
      ]
     },
     "execution_count": 216,
     "metadata": {},
     "output_type": "execute_result"
    }
   ],
   "source": []
  },
  {
   "cell_type": "code",
   "execution_count": 278,
   "metadata": {},
   "outputs": [
    {
     "data": {
      "text/plain": [
       "1.1544011544011544e-05"
      ]
     },
     "execution_count": 278,
     "metadata": {},
     "output_type": "execute_result"
    }
   ],
   "source": [
    "big_peak = f_ddt_sort[0]\n",
    "big_peak\n"
   ]
  },
  {
   "cell_type": "code",
   "execution_count": 279,
   "metadata": {},
   "outputs": [
    {
     "data": {
      "text/plain": [
       "0.01012987012987013"
      ]
     },
     "execution_count": 279,
     "metadata": {},
     "output_type": "execute_result"
    }
   ],
   "source": [
    "3.9*(1/(len(temp)))"
   ]
  },
  {
   "cell_type": "code",
   "execution_count": 292,
   "metadata": {},
   "outputs": [],
   "source": [
    "def fit_sin(tt, yy):\n",
    "    '''Fit sin to the input time sequence, and return fitting parameters \"amp\", \"omega\", \"phase\", \"offset\", \"freq\", \"period\" and \"fitfunc\"\n",
    "\n",
    "    # https://stackoverflow.com/questions/16716302/how-do-i-fit-a-sine-curve-to-my-data-with-pylab-and-numpy\n",
    "    \n",
    "    '''\n",
    "    tt = np.array(tt)\n",
    "    yy = np.array(yy)\n",
    "    ff = np.fft.fftfreq(len(tt), (tt[1]-tt[0]))   # assume uniform spacing\n",
    "    Fyy = abs(np.fft.fft(yy))\n",
    "    guess_freq = abs(ff[np.argmax(Fyy[1:])+1])   # excluding the zero frequency \"peak\", which is related to offset\n",
    "    guess_amp = np.std(yy) * 2.**0.5\n",
    "    guess_offset = np.mean(yy)\n",
    "    guess = np.array([guess_amp, 2.*np.pi*guess_freq, 0., guess_offset])\n",
    "\n",
    "    def sinfunc(t, A, w, p, c):  return A * np.sin(w*t + p) + c\n",
    "    popt, pcov = scipy.optimize.curve_fit(sinfunc, tt, yy, p0=guess)\n",
    "    A, w, p, c = popt\n",
    "    f = w/(2.*np.pi)\n",
    "    fitfunc = lambda t: A * np.sin(w*t + p) + c\n",
    "    return {\"amp\": A, \"omega\": w, \"phase\": p, \"offset\": c, \"freq\": f, \"period\": 1./f, \"fitfunc\": fitfunc, \"maxcov\": np.max(pcov), \"rawres\": (guess,popt,pcov)}"
   ]
  },
  {
   "cell_type": "code",
   "execution_count": 384,
   "metadata": {},
   "outputs": [
    {
     "ename": "AttributeError",
     "evalue": "'numpy.ndarray' object has no attribute 'ewm'",
     "output_type": "error",
     "traceback": [
      "\u001b[0;31m---------------------------------------------------------------------------\u001b[0m",
      "\u001b[0;31mAttributeError\u001b[0m                            Traceback (most recent call last)",
      "\u001b[1;32m/Users/julietnwagwuume-ezeoke/_UILCode/windows/analysis/notebooks/230524_peak_remove.ipynb Cell 11\u001b[0m in \u001b[0;36m<cell line: 41>\u001b[0;34m()\u001b[0m\n\u001b[1;32m     <a href='vscode-notebook-cell:/Users/julietnwagwuume-ezeoke/_UILCode/windows/analysis/notebooks/230524_peak_remove.ipynb#Y126sZmlsZQ%3D%3D?line=36'>37</a>\u001b[0m fig\u001b[39m.\u001b[39madd_trace(go\u001b[39m.\u001b[39mScatter(x\u001b[39m=\u001b[39mtime, y\u001b[39m=\u001b[39mdif_xt, name\u001b[39m=\u001b[39m\u001b[39m\"\u001b[39m\u001b[39mdif_xt\u001b[39m\u001b[39m\"\u001b[39m, mode\u001b[39m=\u001b[39m\u001b[39m'\u001b[39m\u001b[39mlines\u001b[39m\u001b[39m'\u001b[39m,))\n\u001b[1;32m     <a href='vscode-notebook-cell:/Users/julietnwagwuume-ezeoke/_UILCode/windows/analysis/notebooks/230524_peak_remove.ipynb#Y126sZmlsZQ%3D%3D?line=38'>39</a>\u001b[0m \u001b[39m# fig.add_trace(go.Scatter(x=time, y=dif_xt_sin, name=\"dif_xt_sin\", mode='lines',))\u001b[39;00m\n\u001b[0;32m---> <a href='vscode-notebook-cell:/Users/julietnwagwuume-ezeoke/_UILCode/windows/analysis/notebooks/230524_peak_remove.ipynb#Y126sZmlsZQ%3D%3D?line=40'>41</a>\u001b[0m fig\u001b[39m.\u001b[39madd_trace(go\u001b[39m.\u001b[39mScatter(x\u001b[39m=\u001b[39mtime, y\u001b[39m=\u001b[39mddt_dif_xt\u001b[39m.\u001b[39;49mewm(\u001b[39m4\u001b[39m)\u001b[39m.\u001b[39mmean(), name\u001b[39m=\u001b[39m\u001b[39m\"\u001b[39m\u001b[39mWindow Detection\u001b[39m\u001b[39m\"\u001b[39m, mode\u001b[39m=\u001b[39m\u001b[39m'\u001b[39m\u001b[39mlines\u001b[39m\u001b[39m'\u001b[39m,))\n",
      "\u001b[0;31mAttributeError\u001b[0m: 'numpy.ndarray' object has no attribute 'ewm'"
     ]
    }
   ],
   "source": [
    "temp = a01[\"Temp C\"]\n",
    "time = a01[\"DateTime\"]\n",
    "\n",
    "# normalized temperature \n",
    "norm_temp = h.normalize(temp)\n",
    "\n",
    "\n",
    "# fit an optimal sinusoid \n",
    "xt_res = fit_sin(freqdf[\"Time\"], norm_temp)\n",
    "xt = h.normalize(xt_res[\"fitfunc\"](freqdf[\"Time\"]))\n",
    "\n",
    "xt2 = xt.apply(lambda x: 0.5 if x < 0.5 else x)\n",
    "xt3 = norm_temp.ewm(4).mean()\n",
    "# temp.ewcm\n",
    "\n",
    "# difference and derivative \n",
    "dif_xt = h.normalize(norm_temp - xt3)\n",
    "\n",
    "# fit sin to the differnce \n",
    "dif_xt_res = fit_sin(freqdf[\"Time\"], dif_xt)\n",
    "dif_xt_sin = h.normalize(dif_xt_res[\"fitfunc\"](freqdf[\"Time\"]))\n",
    "\n",
    "ddt_dif_xt= norm_grad(dif_xt)\n",
    "\n",
    "smooth_dif_xt\n",
    "\n",
    "fig = go.Figure()\n",
    "\n",
    "fig.add_trace(go.Scatter(\n",
    "    x=time, y=a01[\"Window Open\"], name=\"Window\", mode='lines',\n",
    "))\n",
    "\n",
    "fig.add_trace(go.Scatter(x=time, y=norm_temp, name=\"Indoor Temp, Normalized\", mode='lines',))\n",
    "\n",
    "fig.add_trace(go.Scatter(x=time, y=xt, name=\"xt\", mode='lines',))\n",
    "\n",
    "fig.add_trace(go.Scatter(x=time, y=xt3, name=\"xt3\", mode='lines',))\n",
    "\n",
    "fig.add_trace(go.Scatter(x=time, y=dif_xt, name=\"dif_xt\", mode='lines',))\n",
    "\n",
    "# fig.add_trace(go.Scatter(x=time, y=dif_xt_sin, name=\"dif_xt_sin\", mode='lines',))\n",
    "\n",
    "fig.add_trace(go.Scatter(x=time, y=ddt_dif_xt, name=\"Window Detection\", mode='lines',))\n",
    "\n",
    "\n",
    "\n"
   ]
  },
  {
   "cell_type": "code",
   "execution_count": 376,
   "metadata": {},
   "outputs": [
    {
     "data": {
      "text/plain": [
       "0      23.438600\n",
       "1      23.427044\n",
       "2      23.422272\n",
       "3      23.466828\n",
       "4      23.525779\n",
       "         ...    \n",
       "380    23.440309\n",
       "381    23.426688\n",
       "382    23.412910\n",
       "383    23.401888\n",
       "384    23.394350\n",
       "Name: Temp C, Length: 385, dtype: float64"
      ]
     },
     "execution_count": 376,
     "metadata": {},
     "output_type": "execute_result"
    }
   ],
   "source": [
    "temp.ewm(4).mean()"
   ]
  },
  {
   "cell_type": "code",
   "execution_count": 371,
   "metadata": {},
   "outputs": [
    {
     "data": {
      "text/plain": [
       "0      0.320254\n",
       "1      0.342591\n",
       "2      0.366491\n",
       "3      0.391851\n",
       "4      0.418558\n",
       "         ...   \n",
       "380    0.322085\n",
       "381    0.344559\n",
       "382    0.368587\n",
       "383    0.394065\n",
       "384    0.420882\n",
       "Name: Time, Length: 385, dtype: float64"
      ]
     },
     "execution_count": 371,
     "metadata": {},
     "output_type": "execute_result"
    }
   ],
   "source": [
    "xt.apply(lambda x: x + 0.2)"
   ]
  },
  {
   "cell_type": "code",
   "execution_count": 372,
   "metadata": {},
   "outputs": [
    {
     "data": {
      "text/plain": [
       "0      0.320254\n",
       "1      0.342591\n",
       "2      0.366491\n",
       "3      0.391851\n",
       "4      0.418558\n",
       "         ...   \n",
       "380    0.322085\n",
       "381    0.344559\n",
       "382    0.368587\n",
       "383    0.394065\n",
       "384    0.420882\n",
       "Name: Time, Length: 385, dtype: float64"
      ]
     },
     "execution_count": 372,
     "metadata": {},
     "output_type": "execute_result"
    }
   ],
   "source": [
    "xt.apply(lambda x: x+0.2 if x < 0.5 else x)"
   ]
  },
  {
   "cell_type": "code",
   "execution_count": null,
   "metadata": {},
   "outputs": [],
   "source": [
    "xt2 = [i + (0.5 - i ) for i in xt if i < 0.5]\n",
    "xt2"
   ]
  },
  {
   "cell_type": "code",
   "execution_count": 312,
   "metadata": {},
   "outputs": [
    {
     "data": {
      "text/plain": [
       "<seaborn.axisgrid.FacetGrid at 0x14146feb0>"
      ]
     },
     "execution_count": 312,
     "metadata": {},
     "output_type": "execute_result"
    },
    {
     "data": {
      "image/png": "[encoded data removed]",
      "text/plain": [
       "<Figure size 500x500 with 1 Axes>"
      ]
     },
     "metadata": {},
     "output_type": "display_data"
    }
   ],
   "source": [
    "sns.displot(ddt_dif_xt)"
   ]
  },
  {
   "cell_type": "code",
   "execution_count": 310,
   "metadata": {},
   "outputs": [
    {
     "data": {
      "application/vnd.plotly.v1+json": {
       "config": {
        "plotlyServerURL": "https://plotly.com"
       },
       "data": [
        {
         "mode": "lines",
         "name": "Window",
         "type": "scatter",
         "x": [
          "2022-07-20T07:15:00",
          "2022-07-20T07:30:00",
          "2022-07-20T07:45:00",
          "2022-07-20T08:00:00",
          "2022-07-20T08:15:00",
          "2022-07-20T08:30:00",
          "2022-07-20T08:45:00",
          "2022-07-20T09:00:00",
          "2022-07-20T09:15:00",
          "2022-07-20T09:30:00",
          "2022-07-20T09:45:00",
          "2022-07-20T10:00:00",
          "2022-07-20T10:15:00",
          "2022-07-20T10:30:00",
          "2022-07-20T10:45:00",
          "2022-07-20T11:00:00",
          "2022-07-20T11:15:00",
          "2022-07-20T11:30:00",
          "2022-07-20T11:45:00",
          "2022-07-20T12:00:00",
          "2022-07-20T12:15:00",
          "2022-07-20T12:30:00",
          "2022-07-20T12:45:00",
          "2022-07-20T13:00:00",
          "2022-07-20T13:15:00",
          "2022-07-20T13:30:00",
          "2022-07-20T13:45:00",
          "2022-07-20T14:00:00",
          "2022-07-20T14:15:00",
          "2022-07-20T14:30:00",
          "2022-07-20T14:45:00",
          "2022-07-20T15:00:00",
          "2022-07-20T15:15:00",
          "2022-07-20T15:30:00",
          "2022-07-20T15:45:00",
          "2022-07-20T16:00:00",
          "2022-07-20T16:15:00",
          "2022-07-20T16:30:00",
          "2022-07-20T16:45:00",
          "2022-07-20T17:00:00",
          "2022-07-20T17:15:00",
          "2022-07-20T17:30:00",
          "2022-07-20T17:45:00",
          "2022-07-20T18:00:00",
          "2022-07-20T18:15:00",
          "2022-07-20T18:30:00",
          "2022-07-20T18:45:00",
          "2022-07-20T19:00:00",
          "2022-07-20T19:15:00",
          "2022-07-20T19:30:00",
          "2022-07-20T19:45:00",
          "2022-07-20T20:00:00",
          "2022-07-20T20:15:00",
          "2022-07-20T20:30:00",
          "2022-07-20T20:45:00",
          "2022-07-20T21:00:00",
          "2022-07-20T21:15:00",
          "2022-07-20T21:30:00",
          "2022-07-20T21:45:00",
          "2022-07-20T22:00:00",
          "2022-07-20T22:15:00",
          "2022-07-20T22:30:00",
          "2022-07-20T22:45:00",
          "2022-07-20T23:00:00",
          "2022-07-20T23:15:00",
          "2022-07-20T23:30:00",
          "2022-07-20T23:45:00",
          "2022-07-21T00:00:00",
          "2022-07-21T00:15:00",
          "2022-07-21T00:30:00",
          "2022-07-21T00:45:00",
          "2022-07-21T01:00:00",
          "2022-07-21T01:15:00",
          "2022-07-21T01:30:00",
          "2022-07-21T01:45:00",
          "2022-07-21T02:00:00",
          "2022-07-21T02:15:00",
          "2022-07-21T02:30:00",
          "2022-07-21T02:45:00",
          "2022-07-21T03:00:00",
          "2022-07-21T03:15:00",
          "2022-07-21T03:30:00",
          "2022-07-21T03:45:00",
          "2022-07-21T04:00:00",
          "2022-07-21T04:15:00",
          "2022-07-21T04:30:00",
          "2022-07-21T04:45:00",
          "2022-07-21T05:00:00",
          "2022-07-21T05:15:00",
          "2022-07-21T05:30:00",
          "2022-07-21T05:45:00",
          "2022-07-21T06:00:00",
          "2022-07-21T06:15:00",
          "2022-07-21T06:30:00",
          "2022-07-21T06:45:00",
          "2022-07-21T07:00:00",
          "2022-07-21T07:15:00",
          "2022-07-21T07:30:00",
          "2022-07-21T07:45:00",
          "2022-07-21T08:00:00",
          "2022-07-21T08:15:00",
          "2022-07-21T08:30:00",
          "2022-07-21T08:45:00",
          "2022-07-21T09:00:00",
          "2022-07-21T09:15:00",
          "2022-07-21T09:30:00",
          "2022-07-21T09:45:00",
          "2022-07-21T10:00:00",
          "2022-07-21T10:15:00",
          "2022-07-21T10:30:00",
          "2022-07-21T10:45:00",
          "2022-07-21T11:00:00",
          "2022-07-21T11:15:00",
          "2022-07-21T11:30:00",
          "2022-07-21T11:45:00",
          "2022-07-21T12:00:00",
          "2022-07-21T12:15:00",
          "2022-07-21T12:30:00",
          "2022-07-21T12:45:00",
          "2022-07-21T13:00:00",
          "2022-07-21T13:15:00",
          "2022-07-21T13:30:00",
          "2022-07-21T13:45:00",
          "2022-07-21T14:00:00",
          "2022-07-21T14:15:00",
          "2022-07-21T14:30:00",
          "2022-07-21T14:45:00",
          "2022-07-21T15:00:00",
          "2022-07-21T15:15:00",
          "2022-07-21T15:30:00",
          "2022-07-21T15:45:00",
          "2022-07-21T16:00:00",
          "2022-07-21T16:15:00",
          "2022-07-21T16:30:00",
          "2022-07-21T16:45:00",
          "2022-07-21T17:00:00",
          "2022-07-21T17:15:00",
          "2022-07-21T17:30:00",
          "2022-07-21T17:45:00",
          "2022-07-21T18:00:00",
          "2022-07-21T18:15:00",
          "2022-07-21T18:30:00",
          "2022-07-21T18:45:00",
          "2022-07-21T19:00:00",
          "2022-07-21T19:15:00",
          "2022-07-21T19:30:00",
          "2022-07-21T19:45:00",
          "2022-07-21T20:00:00",
          "2022-07-21T20:15:00",
          "2022-07-21T20:30:00",
          "2022-07-21T20:45:00",
          "2022-07-21T21:00:00",
          "2022-07-21T21:15:00",
          "2022-07-21T21:30:00",
          "2022-07-21T21:45:00",
          "2022-07-21T22:00:00",
          "2022-07-21T22:15:00",
          "2022-07-21T22:30:00",
          "2022-07-21T22:45:00",
          "2022-07-21T23:00:00",
          "2022-07-21T23:15:00",
          "2022-07-21T23:30:00",
          "2022-07-21T23:45:00",
          "2022-07-22T00:00:00",
          "2022-07-22T00:15:00",
          "2022-07-22T00:30:00",
          "2022-07-22T00:45:00",
          "2022-07-22T01:00:00",
          "2022-07-22T01:15:00",
          "2022-07-22T01:30:00",
          "2022-07-22T01:45:00",
          "2022-07-22T02:00:00",
          "2022-07-22T02:15:00",
          "2022-07-22T02:30:00",
          "2022-07-22T02:45:00",
          "2022-07-22T03:00:00",
          "2022-07-22T03:15:00",
          "2022-07-22T03:30:00",
          "2022-07-22T03:45:00",
          "2022-07-22T04:00:00",
          "2022-07-22T04:15:00",
          "2022-07-22T04:30:00",
          "2022-07-22T04:45:00",
          "2022-07-22T05:00:00",
          "2022-07-22T05:15:00",
          "2022-07-22T05:30:00",
          "2022-07-22T05:45:00",
          "2022-07-22T06:00:00",
          "2022-07-22T06:15:00",
          "2022-07-22T06:30:00",
          "2022-07-22T06:45:00",
          "2022-07-22T07:00:00",
          "2022-07-22T07:15:00",
          "2022-07-22T07:30:00",
          "2022-07-22T07:45:00",
          "2022-07-22T08:00:00",
          "2022-07-22T08:15:00",
          "2022-07-22T08:30:00",
          "2022-07-22T08:45:00",
          "2022-07-22T09:00:00",
          "2022-07-22T09:15:00",
          "2022-07-22T09:30:00",
          "2022-07-22T09:45:00",
          "2022-07-22T10:00:00",
          "2022-07-22T10:15:00",
          "2022-07-22T10:30:00",
          "2022-07-22T10:45:00",
          "2022-07-22T11:00:00",
          "2022-07-22T11:15:00",
          "2022-07-22T11:30:00",
          "2022-07-22T11:45:00",
          "2022-07-22T12:00:00",
          "2022-07-22T12:15:00",
          "2022-07-22T12:30:00",
          "2022-07-22T12:45:00",
          "2022-07-22T13:00:00",
          "2022-07-22T13:15:00",
          "2022-07-22T13:30:00",
          "2022-07-22T13:45:00",
          "2022-07-22T14:00:00",
          "2022-07-22T14:15:00",
          "2022-07-22T14:30:00",
          "2022-07-22T14:45:00",
          "2022-07-22T15:00:00",
          "2022-07-22T15:15:00",
          "2022-07-22T15:30:00",
          "2022-07-22T15:45:00",
          "2022-07-22T16:00:00",
          "2022-07-22T16:15:00",
          "2022-07-22T16:30:00",
          "2022-07-22T16:45:00",
          "2022-07-22T17:00:00",
          "2022-07-22T17:15:00",
          "2022-07-22T17:30:00",
          "2022-07-22T17:45:00",
          "2022-07-22T18:00:00",
          "2022-07-22T18:15:00",
          "2022-07-22T18:30:00",
          "2022-07-22T18:45:00",
          "2022-07-22T19:00:00",
          "2022-07-22T19:15:00",
          "2022-07-22T19:30:00",
          "2022-07-22T19:45:00",
          "2022-07-22T20:00:00",
          "2022-07-22T20:15:00",
          "2022-07-22T20:30:00",
          "2022-07-22T20:45:00",
          "2022-07-22T21:00:00",
          "2022-07-22T21:15:00",
          "2022-07-22T21:30:00",
          "2022-07-22T21:45:00",
          "2022-07-22T22:00:00",
          "2022-07-22T22:15:00",
          "2022-07-22T22:30:00",
          "2022-07-22T22:45:00",
          "2022-07-22T23:00:00",
          "2022-07-22T23:15:00",
          "2022-07-22T23:30:00",
          "2022-07-22T23:45:00",
          "2022-07-23T00:00:00",
          "2022-07-23T00:15:00",
          "2022-07-23T00:30:00",
          "2022-07-23T00:45:00",
          "2022-07-23T01:00:00",
          "2022-07-23T01:15:00",
          "2022-07-23T01:30:00",
          "2022-07-23T01:45:00",
          "2022-07-23T02:00:00",
          "2022-07-23T02:15:00",
          "2022-07-23T02:30:00",
          "2022-07-23T02:45:00",
          "2022-07-23T03:00:00",
          "2022-07-23T03:15:00",
          "2022-07-23T03:30:00",
          "2022-07-23T03:45:00",
          "2022-07-23T04:00:00",
          "2022-07-23T04:15:00",
          "2022-07-23T04:30:00",
          "2022-07-23T04:45:00",
          "2022-07-23T05:00:00",
          "2022-07-23T05:15:00",
          "2022-07-23T05:30:00",
          "2022-07-23T05:45:00",
          "2022-07-23T06:00:00",
          "2022-07-23T06:15:00",
          "2022-07-23T06:30:00",
          "2022-07-23T06:45:00",
          "2022-07-23T07:00:00",
          "2022-07-23T07:15:00",
          "2022-07-23T07:30:00",
          "2022-07-23T07:45:00",
          "2022-07-23T08:00:00",
          "2022-07-23T08:15:00",
          "2022-07-23T08:30:00",
          "2022-07-23T08:45:00",
          "2022-07-23T09:00:00",
          "2022-07-23T09:15:00",
          "2022-07-23T09:30:00",
          "2022-07-23T09:45:00",
          "2022-07-23T10:00:00",
          "2022-07-23T10:15:00",
          "2022-07-23T10:30:00",
          "2022-07-23T10:45:00",
          "2022-07-23T11:00:00",
          "2022-07-23T11:15:00",
          "2022-07-23T11:30:00",
          "2022-07-23T11:45:00",
          "2022-07-23T12:00:00",
          "2022-07-23T12:15:00",
          "2022-07-23T12:30:00",
          "2022-07-23T12:45:00",
          "2022-07-23T13:00:00",
          "2022-07-23T13:15:00",
          "2022-07-23T13:30:00",
          "2022-07-23T13:45:00",
          "2022-07-23T14:00:00",
          "2022-07-23T14:15:00",
          "2022-07-23T14:30:00",
          "2022-07-23T14:45:00",
          "2022-07-23T15:00:00",
          "2022-07-23T15:15:00",
          "2022-07-23T15:30:00",
          "2022-07-23T15:45:00",
          "2022-07-23T16:00:00",
          "2022-07-23T16:15:00",
          "2022-07-23T16:30:00",
          "2022-07-23T16:45:00",
          "2022-07-23T17:00:00",
          "2022-07-23T17:15:00",
          "2022-07-23T17:30:00",
          "2022-07-23T17:45:00",
          "2022-07-23T18:00:00",
          "2022-07-23T18:15:00",
          "2022-07-23T18:30:00",
          "2022-07-23T18:45:00",
          "2022-07-23T19:00:00",
          "2022-07-23T19:15:00",
          "2022-07-23T19:30:00",
          "2022-07-23T19:45:00",
          "2022-07-23T20:00:00",
          "2022-07-23T20:15:00",
          "2022-07-23T20:30:00",
          "2022-07-23T20:45:00",
          "2022-07-23T21:00:00",
          "2022-07-23T21:15:00",
          "2022-07-23T21:30:00",
          "2022-07-23T21:45:00",
          "2022-07-23T22:00:00",
          "2022-07-23T22:15:00",
          "2022-07-23T22:30:00",
          "2022-07-23T22:45:00",
          "2022-07-23T23:00:00",
          "2022-07-23T23:15:00",
          "2022-07-23T23:30:00",
          "2022-07-23T23:45:00",
          "2022-07-24T00:00:00",
          "2022-07-24T00:15:00",
          "2022-07-24T00:30:00",
          "2022-07-24T00:45:00",
          "2022-07-24T01:00:00",
          "2022-07-24T01:15:00",
          "2022-07-24T01:30:00",
          "2022-07-24T01:45:00",
          "2022-07-24T02:00:00",
          "2022-07-24T02:15:00",
          "2022-07-24T02:30:00",
          "2022-07-24T02:45:00",
          "2022-07-24T03:00:00",
          "2022-07-24T03:15:00",
          "2022-07-24T03:30:00",
          "2022-07-24T03:45:00",
          "2022-07-24T04:00:00",
          "2022-07-24T04:15:00",
          "2022-07-24T04:30:00",
          "2022-07-24T04:45:00",
          "2022-07-24T05:00:00",
          "2022-07-24T05:15:00",
          "2022-07-24T05:30:00",
          "2022-07-24T05:45:00",
          "2022-07-24T06:00:00",
          "2022-07-24T06:15:00",
          "2022-07-24T06:30:00",
          "2022-07-24T06:45:00",
          "2022-07-24T07:00:00",
          "2022-07-24T07:15:00"
         ],
         "y": [
          0,
          0,
          1,
          1,
          1,
          1,
          1,
          1,
          1,
          1,
          1,
          1,
          1,
          1,
          1,
          1,
          1,
          1,
          1,
          1,
          1,
          0,
          0,
          0,
          0,
          0,
          0,
          0,
          0,
          0,
          0,
          0,
          0,
          0,
          0,
          0,
          0,
          0,
          0,
          0,
          0,
          0,
          0,
          0,
          0,
          0,
          0,
          0,
          0,
          0,
          0,
          0,
          0,
          0,
          0,
          0,
          0,
          0,
          0,
          0,
          0,
          1,
          1,
          1,
          1,
          1,
          1,
          1,
          1,
          1,
          1,
          1,
          1,
          1,
          1,
          1,
          1,
          1,
          1,
          1,
          1,
          1,
          1,
          1,
          1,
          1,
          1,
          1,
          1,
          1,
          1,
          1,
          1,
          1,
          1,
          1,
          1,
          1,
          1,
          1,
          1,
          1,
          1,
          1,
          1,
          1,
          1,
          1,
          1,
          1,
          1,
          1,
          1,
          1,
          1,
          1,
          1,
          1,
          1,
          1,
          0,
          0,
          0,
          0,
          0,
          0,
          0,
          1,
          1,
          1,
          1,
          1,
          1,
          1,
          1,
          1,
          1,
          0,
          0,
          0,
          0,
          0,
          0,
          0,
          0,
          0,
          0,
          0,
          0,
          0,
          0,
          0,
          0,
          0,
          0,
          0,
          0,
          0,
          1,
          1,
          1,
          1,
          1,
          1,
          1,
          1,
          1,
          1,
          1,
          1,
          1,
          1,
          1,
          1,
          1,
          1,
          1,
          1,
          1,
          1,
          1,
          1,
          1,
          1,
          1,
          1,
          1,
          1,
          1,
          1,
          1,
          1,
          1,
          1,
          0,
          0,
          0,
          0,
          0,
          0,
          0,
          0,
          0,
          0,
          0,
          0,
          0,
          0,
          1,
          1,
          1,
          1,
          1,
          1,
          1,
          1,
          1,
          1,
          1,
          1,
          1,
          1,
          1,
          1,
          1,
          1,
          1,
          0,
          0,
          0,
          0,
          0,
          0,
          0,
          0,
          0,
          0,
          0,
          0,
          0,
          0,
          0,
          0,
          0,
          0,
          0,
          0,
          0,
          0,
          0,
          0,
          0,
          0,
          0,
          0,
          1,
          1,
          1,
          1,
          1,
          1,
          1,
          1,
          1,
          1,
          1,
          1,
          1,
          1,
          1,
          1,
          1,
          1,
          1,
          1,
          1,
          1,
          1,
          1,
          1,
          1,
          1,
          1,
          1,
          1,
          1,
          1,
          1,
          1,
          1,
          1,
          1,
          1,
          1,
          1,
          1,
          1,
          1,
          1,
          1,
          1,
          1,
          1,
          1,
          1,
          1,
          1,
          1,
          1,
          1,
          1,
          1,
          1,
          1,
          1,
          1,
          1,
          1,
          1,
          1,
          1,
          1,
          1,
          1,
          1,
          1,
          1,
          1,
          1,
          1,
          1,
          1,
          1,
          1,
          1,
          1,
          1,
          1,
          0,
          0,
          0,
          0,
          0,
          0,
          0,
          0,
          0,
          0,
          0,
          0,
          0,
          0,
          0,
          0,
          0,
          0,
          0,
          0,
          0,
          0,
          0,
          0,
          0,
          0,
          0,
          0,
          0,
          0,
          0,
          0,
          0,
          0,
          0,
          0,
          0,
          0,
          0,
          0,
          0,
          0,
          0,
          0,
          0,
          0,
          0
         ]
        },
        {
         "mode": "lines",
         "name": "Indoor Temp, Normalized",
         "type": "scatter",
         "x": [
          "2022-07-20T07:15:00",
          "2022-07-20T07:30:00",
          "2022-07-20T07:45:00",
          "2022-07-20T08:00:00",
          "2022-07-20T08:15:00",
          "2022-07-20T08:30:00",
          "2022-07-20T08:45:00",
          "2022-07-20T09:00:00",
          "2022-07-20T09:15:00",
          "2022-07-20T09:30:00",
          "2022-07-20T09:45:00",
          "2022-07-20T10:00:00",
          "2022-07-20T10:15:00",
          "2022-07-20T10:30:00",
          "2022-07-20T10:45:00",
          "2022-07-20T11:00:00",
          "2022-07-20T11:15:00",
          "2022-07-20T11:30:00",
          "2022-07-20T11:45:00",
          "2022-07-20T12:00:00",
          "2022-07-20T12:15:00",
          "2022-07-20T12:30:00",
          "2022-07-20T12:45:00",
          "2022-07-20T13:00:00",
          "2022-07-20T13:15:00",
          "2022-07-20T13:30:00",
          "2022-07-20T13:45:00",
          "2022-07-20T14:00:00",
          "2022-07-20T14:15:00",
          "2022-07-20T14:30:00",
          "2022-07-20T14:45:00",
          "2022-07-20T15:00:00",
          "2022-07-20T15:15:00",
          "2022-07-20T15:30:00",
          "2022-07-20T15:45:00",
          "2022-07-20T16:00:00",
          "2022-07-20T16:15:00",
          "2022-07-20T16:30:00",
          "2022-07-20T16:45:00",
          "2022-07-20T17:00:00",
          "2022-07-20T17:15:00",
          "2022-07-20T17:30:00",
          "2022-07-20T17:45:00",
          "2022-07-20T18:00:00",
          "2022-07-20T18:15:00",
          "2022-07-20T18:30:00",
          "2022-07-20T18:45:00",
          "2022-07-20T19:00:00",
          "2022-07-20T19:15:00",
          "2022-07-20T19:30:00",
          "2022-07-20T19:45:00",
          "2022-07-20T20:00:00",
          "2022-07-20T20:15:00",
          "2022-07-20T20:30:00",
          "2022-07-20T20:45:00",
          "2022-07-20T21:00:00",
          "2022-07-20T21:15:00",
          "2022-07-20T21:30:00",
          "2022-07-20T21:45:00",
          "2022-07-20T22:00:00",
          "2022-07-20T22:15:00",
          "2022-07-20T22:30:00",
          "2022-07-20T22:45:00",
          "2022-07-20T23:00:00",
          "2022-07-20T23:15:00",
          "2022-07-20T23:30:00",
          "2022-07-20T23:45:00",
          "2022-07-21T00:00:00",
          "2022-07-21T00:15:00",
          "2022-07-21T00:30:00",
          "2022-07-21T00:45:00",
          "2022-07-21T01:00:00",
          "2022-07-21T01:15:00",
          "2022-07-21T01:30:00",
          "2022-07-21T01:45:00",
          "2022-07-21T02:00:00",
          "2022-07-21T02:15:00",
          "2022-07-21T02:30:00",
          "2022-07-21T02:45:00",
          "2022-07-21T03:00:00",
          "2022-07-21T03:15:00",
          "2022-07-21T03:30:00",
          "2022-07-21T03:45:00",
          "2022-07-21T04:00:00",
          "2022-07-21T04:15:00",
          "2022-07-21T04:30:00",
          "2022-07-21T04:45:00",
          "2022-07-21T05:00:00",
          "2022-07-21T05:15:00",
          "2022-07-21T05:30:00",
          "2022-07-21T05:45:00",
          "2022-07-21T06:00:00",
          "2022-07-21T06:15:00",
          "2022-07-21T06:30:00",
          "2022-07-21T06:45:00",
          "2022-07-21T07:00:00",
          "2022-07-21T07:15:00",
          "2022-07-21T07:30:00",
          "2022-07-21T07:45:00",
          "2022-07-21T08:00:00",
          "2022-07-21T08:15:00",
          "2022-07-21T08:30:00",
          "2022-07-21T08:45:00",
          "2022-07-21T09:00:00",
          "2022-07-21T09:15:00",
          "2022-07-21T09:30:00",
          "2022-07-21T09:45:00",
          "2022-07-21T10:00:00",
          "2022-07-21T10:15:00",
          "2022-07-21T10:30:00",
          "2022-07-21T10:45:00",
          "2022-07-21T11:00:00",
          "2022-07-21T11:15:00",
          "2022-07-21T11:30:00",
          "2022-07-21T11:45:00",
          "2022-07-21T12:00:00",
          "2022-07-21T12:15:00",
          "2022-07-21T12:30:00",
          "2022-07-21T12:45:00",
          "2022-07-21T13:00:00",
          "2022-07-21T13:15:00",
          "2022-07-21T13:30:00",
          "2022-07-21T13:45:00",
          "2022-07-21T14:00:00",
          "2022-07-21T14:15:00",
          "2022-07-21T14:30:00",
          "2022-07-21T14:45:00",
          "2022-07-21T15:00:00",
          "2022-07-21T15:15:00",
          "2022-07-21T15:30:00",
          "2022-07-21T15:45:00",
          "2022-07-21T16:00:00",
          "2022-07-21T16:15:00",
          "2022-07-21T16:30:00",
          "2022-07-21T16:45:00",
          "2022-07-21T17:00:00",
          "2022-07-21T17:15:00",
          "2022-07-21T17:30:00",
          "2022-07-21T17:45:00",
          "2022-07-21T18:00:00",
          "2022-07-21T18:15:00",
          "2022-07-21T18:30:00",
          "2022-07-21T18:45:00",
          "2022-07-21T19:00:00",
          "2022-07-21T19:15:00",
          "2022-07-21T19:30:00",
          "2022-07-21T19:45:00",
          "2022-07-21T20:00:00",
          "2022-07-21T20:15:00",
          "2022-07-21T20:30:00",
          "2022-07-21T20:45:00",
          "2022-07-21T21:00:00",
          "2022-07-21T21:15:00",
          "2022-07-21T21:30:00",
          "2022-07-21T21:45:00",
          "2022-07-21T22:00:00",
          "2022-07-21T22:15:00",
          "2022-07-21T22:30:00",
          "2022-07-21T22:45:00",
          "2022-07-21T23:00:00",
          "2022-07-21T23:15:00",
          "2022-07-21T23:30:00",
          "2022-07-21T23:45:00",
          "2022-07-22T00:00:00",
          "2022-07-22T00:15:00",
          "2022-07-22T00:30:00",
          "2022-07-22T00:45:00",
          "2022-07-22T01:00:00",
          "2022-07-22T01:15:00",
          "2022-07-22T01:30:00",
          "2022-07-22T01:45:00",
          "2022-07-22T02:00:00",
          "2022-07-22T02:15:00",
          "2022-07-22T02:30:00",
          "2022-07-22T02:45:00",
          "2022-07-22T03:00:00",
          "2022-07-22T03:15:00",
          "2022-07-22T03:30:00",
          "2022-07-22T03:45:00",
          "2022-07-22T04:00:00",
          "2022-07-22T04:15:00",
          "2022-07-22T04:30:00",
          "2022-07-22T04:45:00",
          "2022-07-22T05:00:00",
          "2022-07-22T05:15:00",
          "2022-07-22T05:30:00",
          "2022-07-22T05:45:00",
          "2022-07-22T06:00:00",
          "2022-07-22T06:15:00",
          "2022-07-22T06:30:00",
          "2022-07-22T06:45:00",
          "2022-07-22T07:00:00",
          "2022-07-22T07:15:00",
          "2022-07-22T07:30:00",
          "2022-07-22T07:45:00",
          "2022-07-22T08:00:00",
          "2022-07-22T08:15:00",
          "2022-07-22T08:30:00",
          "2022-07-22T08:45:00",
          "2022-07-22T09:00:00",
          "2022-07-22T09:15:00",
          "2022-07-22T09:30:00",
          "2022-07-22T09:45:00",
          "2022-07-22T10:00:00",
          "2022-07-22T10:15:00",
          "2022-07-22T10:30:00",
          "2022-07-22T10:45:00",
          "2022-07-22T11:00:00",
          "2022-07-22T11:15:00",
          "2022-07-22T11:30:00",
          "2022-07-22T11:45:00",
          "2022-07-22T12:00:00",
          "2022-07-22T12:15:00",
          "2022-07-22T12:30:00",
          "2022-07-22T12:45:00",
          "2022-07-22T13:00:00",
          "2022-07-22T13:15:00",
          "2022-07-22T13:30:00",
          "2022-07-22T13:45:00",
          "2022-07-22T14:00:00",
          "2022-07-22T14:15:00",
          "2022-07-22T14:30:00",
          "2022-07-22T14:45:00",
          "2022-07-22T15:00:00",
          "2022-07-22T15:15:00",
          "2022-07-22T15:30:00",
          "2022-07-22T15:45:00",
          "2022-07-22T16:00:00",
          "2022-07-22T16:15:00",
          "2022-07-22T16:30:00",
          "2022-07-22T16:45:00",
          "2022-07-22T17:00:00",
          "2022-07-22T17:15:00",
          "2022-07-22T17:30:00",
          "2022-07-22T17:45:00",
          "2022-07-22T18:00:00",
          "2022-07-22T18:15:00",
          "2022-07-22T18:30:00",
          "2022-07-22T18:45:00",
          "2022-07-22T19:00:00",
          "2022-07-22T19:15:00",
          "2022-07-22T19:30:00",
          "2022-07-22T19:45:00",
          "2022-07-22T20:00:00",
          "2022-07-22T20:15:00",
          "2022-07-22T20:30:00",
          "2022-07-22T20:45:00",
          "2022-07-22T21:00:00",
          "2022-07-22T21:15:00",
          "2022-07-22T21:30:00",
          "2022-07-22T21:45:00",
          "2022-07-22T22:00:00",
          "2022-07-22T22:15:00",
          "2022-07-22T22:30:00",
          "2022-07-22T22:45:00",
          "2022-07-22T23:00:00",
          "2022-07-22T23:15:00",
          "2022-07-22T23:30:00",
          "2022-07-22T23:45:00",
          "2022-07-23T00:00:00",
          "2022-07-23T00:15:00",
          "2022-07-23T00:30:00",
          "2022-07-23T00:45:00",
          "2022-07-23T01:00:00",
          "2022-07-23T01:15:00",
          "2022-07-23T01:30:00",
          "2022-07-23T01:45:00",
          "2022-07-23T02:00:00",
          "2022-07-23T02:15:00",
          "2022-07-23T02:30:00",
          "2022-07-23T02:45:00",
          "2022-07-23T03:00:00",
          "2022-07-23T03:15:00",
          "2022-07-23T03:30:00",
          "2022-07-23T03:45:00",
          "2022-07-23T04:00:00",
          "2022-07-23T04:15:00",
          "2022-07-23T04:30:00",
          "2022-07-23T04:45:00",
          "2022-07-23T05:00:00",
          "2022-07-23T05:15:00",
          "2022-07-23T05:30:00",
          "2022-07-23T05:45:00",
          "2022-07-23T06:00:00",
          "2022-07-23T06:15:00",
          "2022-07-23T06:30:00",
          "2022-07-23T06:45:00",
          "2022-07-23T07:00:00",
          "2022-07-23T07:15:00",
          "2022-07-23T07:30:00",
          "2022-07-23T07:45:00",
          "2022-07-23T08:00:00",
          "2022-07-23T08:15:00",
          "2022-07-23T08:30:00",
          "2022-07-23T08:45:00",
          "2022-07-23T09:00:00",
          "2022-07-23T09:15:00",
          "2022-07-23T09:30:00",
          "2022-07-23T09:45:00",
          "2022-07-23T10:00:00",
          "2022-07-23T10:15:00",
          "2022-07-23T10:30:00",
          "2022-07-23T10:45:00",
          "2022-07-23T11:00:00",
          "2022-07-23T11:15:00",
          "2022-07-23T11:30:00",
          "2022-07-23T11:45:00",
          "2022-07-23T12:00:00",
          "2022-07-23T12:15:00",
          "2022-07-23T12:30:00",
          "2022-07-23T12:45:00",
          "2022-07-23T13:00:00",
          "2022-07-23T13:15:00",
          "2022-07-23T13:30:00",
          "2022-07-23T13:45:00",
          "2022-07-23T14:00:00",
          "2022-07-23T14:15:00",
          "2022-07-23T14:30:00",
          "2022-07-23T14:45:00",
          "2022-07-23T15:00:00",
          "2022-07-23T15:15:00",
          "2022-07-23T15:30:00",
          "2022-07-23T15:45:00",
          "2022-07-23T16:00:00",
          "2022-07-23T16:15:00",
          "2022-07-23T16:30:00",
          "2022-07-23T16:45:00",
          "2022-07-23T17:00:00",
          "2022-07-23T17:15:00",
          "2022-07-23T17:30:00",
          "2022-07-23T17:45:00",
          "2022-07-23T18:00:00",
          "2022-07-23T18:15:00",
          "2022-07-23T18:30:00",
          "2022-07-23T18:45:00",
          "2022-07-23T19:00:00",
          "2022-07-23T19:15:00",
          "2022-07-23T19:30:00",
          "2022-07-23T19:45:00",
          "2022-07-23T20:00:00",
          "2022-07-23T20:15:00",
          "2022-07-23T20:30:00",
          "2022-07-23T20:45:00",
          "2022-07-23T21:00:00",
          "2022-07-23T21:15:00",
          "2022-07-23T21:30:00",
          "2022-07-23T21:45:00",
          "2022-07-23T22:00:00",
          "2022-07-23T22:15:00",
          "2022-07-23T22:30:00",
          "2022-07-23T22:45:00",
          "2022-07-23T23:00:00",
          "2022-07-23T23:15:00",
          "2022-07-23T23:30:00",
          "2022-07-23T23:45:00",
          "2022-07-24T00:00:00",
          "2022-07-24T00:15:00",
          "2022-07-24T00:30:00",
          "2022-07-24T00:45:00",
          "2022-07-24T01:00:00",
          "2022-07-24T01:15:00",
          "2022-07-24T01:30:00",
          "2022-07-24T01:45:00",
          "2022-07-24T02:00:00",
          "2022-07-24T02:15:00",
          "2022-07-24T02:30:00",
          "2022-07-24T02:45:00",
          "2022-07-24T03:00:00",
          "2022-07-24T03:15:00",
          "2022-07-24T03:30:00",
          "2022-07-24T03:45:00",
          "2022-07-24T04:00:00",
          "2022-07-24T04:15:00",
          "2022-07-24T04:30:00",
          "2022-07-24T04:45:00",
          "2022-07-24T05:00:00",
          "2022-07-24T05:15:00",
          "2022-07-24T05:30:00",
          "2022-07-24T05:45:00",
          "2022-07-24T06:00:00",
          "2022-07-24T06:15:00",
          "2022-07-24T06:30:00",
          "2022-07-24T06:45:00",
          "2022-07-24T07:00:00",
          "2022-07-24T07:15:00"
         ],
         "y": [
          0.037569163528155196,
          0.027897893709025973,
          0.026781977960664272,
          0.09113311944948374,
          0.14283721579021,
          0.20317416035089314,
          0.2750422343113111,
          0.35765099734970174,
          0.4350521535624067,
          0.5061452860309047,
          0.5671331814448018,
          0.6214100835386932,
          0.6671316315618171,
          0.7099858960648474,
          0.7463616496954483,
          0.7606825684660806,
          0.763658343795043,
          0.7763053889431346,
          0.785263712589701,
          0.7975387858216697,
          0.8128516297019562,
          0.805040219463431,
          0.7926256567629141,
          0.7848762418437409,
          0.7792811642720969,
          0.77146975403357,
          0.7910757737790791,
          0.7998016149780676,
          0.8147114892825585,
          0.8277305063467696,
          0.8232668433533261,
          0.8147114892825585,
          0.8251267029339283,
          0.8303653074192885,
          0.8307527781652485,
          0.8195471241921232,
          0.8225228995210855,
          0.8154554331147992,
          0.8199190961082427,
          0.8284744501790101,
          0.8176872646115209,
          0.8024364160505881,
          0.813967545450318,
          0.8243827591016878,
          0.8357434013731968,
          0.8601850560282706,
          0.8635328032733524,
          0.8635328032733524,
          0.8579532245315472,
          0.8434153221431789,
          0.824398257931525,
          0.7990421723159897,
          0.780784550766417,
          0.7444397947954922,
          0.70133754901505,
          0.6559724740782067,
          0.6217200601354589,
          0.5930162272748402,
          0.5675516498504362,
          0.5345236434649188,
          0.49008849831837753,
          0.48892608608050087,
          0.5107174408332186,
          0.5218765983168289,
          0.5304319523875964,
          0.5300599804714753,
          0.522992514065189,
          0.5226205421490695,
          0.519272794903986,
          0.5148091319105409,
          0.5140651880783004,
          0.5129492723299403,
          0.5207606825684672,
          0.5322918119681987,
          0.5386153345422429,
          0.5475426605291298,
          0.5534942111870561,
          0.5590737899288614,
          0.5594457618449808,
          0.5598332325909391,
          0.5668077060181956,
          0.5699074719858656,
          0.5699074719858656,
          0.5710698842237405,
          0.5699074719858656,
          0.5637079400505274,
          0.5594457618449808,
          0.5594457618449808,
          0.5508904077742133,
          0.5467987166968893,
          0.5352675872971611,
          0.5259682893941513,
          0.5162970195750237,
          0.5081136374203756,
          0.5025340586785705,
          0.49472264844004354,
          0.49249081694332014,
          0.4909409339594868,
          0.483191519040312,
          0.4808666945645604,
          0.4808666945645604,
          0.48125416531051873,
          0.4900729994885403,
          0.5345391422947561,
          0.5959920026038025,
          0.645464267447807,
          0.6927047007950898,
          0.7248802715394995,
          0.7557384417476474,
          0.7906728042032819,
          0.8173152926953997,
          0.8350149563707934,
          0.8415864602222527,
          0.8505137862091413,
          0.8620449156088712,
          0.8706002696796403,
          0.8750794315029211,
          0.8839912586599709,
          0.8889198865485654,
          0.8971032687032118,
          0.8885479146324442,
          0.8874319988840825,
          0.8933835495420088,
          0.9082624261868221,
          0.9194215836704308,
          0.934703429891043,
          0.9425768354489238,
          0.9470404984423673,
          0.9600595155065783,
          0.9652826211621012,
          0.9676074456378528,
          0.9757443313029843,
          0.9749693898110676,
          0.9726445653353161,
          0.9734195068272327,
          0.9768757458811849,
          0.988065901024473,
          1,
          0.9988375877621251,
          0.9568357589002024,
          0.9201810263325103,
          0.9130980610963867,
          0.9034267912772576,
          0.8762573425706349,
          0.8568373087831871,
          0.8316517102958727,
          0.8031803598828287,
          0.7831093752421702,
          0.7463306520357722,
          0.7148370298042492,
          0.6942235861192487,
          0.6660157158134571,
          0.6413880752003218,
          0.6127307388292181,
          0.5844608732040727,
          0.549030548193611,
          0.5133212442460597,
          0.48551634351606526,
          0.4870662264998986,
          0.4936067326916818,
          0.5025340586785705,
          0.5103454689170974,
          0.515181103826662,
          0.5248523736457913,
          0.5259682893941513,
          0.5274561770586341,
          0.5278281489747536,
          0.5296880085553558,
          0.5274561770586341,
          0.5278281489747536,
          0.5259682893941513,
          0.5259682893941513,
          0.5259682893941513,
          0.522992514065189,
          0.5181568791556244,
          0.515181103826662,
          0.5148091319105409,
          0.5107174408332186,
          0.5055098340075328,
          0.5036499744269305,
          0.49769842376900586,
          0.49247531811348294,
          0.4870662264998986,
          0.48125416531051873,
          0.4745431719905146,
          0.46933556516483055,
          0.46040823917794355,
          0.4581764076812218,
          0.4533407727716572,
          0.44850513786209256,
          0.46412795833914483,
          0.4991398149439721,
          0.5311758962198354,
          0.576509973497001,
          0.62781110026193,
          0.6171944018226616,
          0.6266951845135683,
          0.6859627098154096,
          0.7376823049859714,
          0.7744455293625323,
          0.775561445110894,
          0.788394476217047,
          0.8121076858697157,
          0.8113637420374767,
          0.8031803598828287,
          0.7766928596890929,
          0.7647742595434031,
          0.7826444103470191,
          0.795337951984624,
          0.795725422730584,
          0.7914632445250391,
          0.785263712589701,
          0.7844887710977826,
          0.7844887710977826,
          0.7833728553494209,
          0.7841167991816616,
          0.7837448272655421,
          0.7844887710977826,
          0.7848762418437409,
          0.7868135955735343,
          0.7922381860169557,
          0.7961128934765423,
          0.7961128934765423,
          0.8020644441344686,
          0.8369058136110717,
          0.8869205374994199,
          0.9082624261868221,
          0.9282869143379674,
          0.944064723113405,
          0.9596875435904588,
          0.973806977573191,
          0.9847026549495507,
          0.9958618124331611,
          0.9996125292540416,
          0.9980936439298828,
          0.9988375877621251,
          0.9984656158460022,
          0.9947458966847993,
          0.9847026549495507,
          0.9761318020489426,
          0.9656700919080595,
          0.9593155716743377,
          0.9503882456874491,
          0.9384851443715997,
          0.9240557337920985,
          0.9086343981029432,
          0.8956153810387306,
          0.8752189209714659,
          0.8490258985446602,
          0.8281954712419205,
          0.8083879667085144,
          0.7834968459881285,
          0.755784938237164,
          0.7334356256102671,
          0.7170688613009709,
          0.6537561414113222,
          0.6697354349746599,
          0.6727112103036222,
          0.674943041800344,
          0.6723392383875029,
          0.6719672664713817,
          0.6727112103036222,
          0.6719672664713817,
          0.6686195192262983,
          0.661924024736133,
          0.6608081089877713,
          0.6593202213232902,
          0.6515088110847632,
          0.6496489515041609,
          0.6459292323429581,
          0.6399776816850333,
          0.6373273817826756,
          0.6288030253715841,
          0.6264936997256697,
          0.6194262333193834,
          0.6131027107453392,
          0.6064072162551724,
          0.6000836936811266,
          0.5933881991909613,
          0.5870646766169155,
          0.5814850978751104,
          0.5729297438043411,
          0.5668077060181956,
          0.5594457618449808,
          0.5523782954386944,
          0.5475426605291298,
          0.5427070256195652,
          0.5371274468777617,
          0.5371274468777617,
          0.5371274468777617,
          0.5371274468777617,
          0.5464267447807698,
          0.5904124238619973,
          0.6469211574526138,
          0.7016940221013322,
          0.7470900946978499,
          0.7906883030331208,
          0.8255761689992405,
          0.8549774492025848,
          0.8782411927899432,
          0.8985911563676929,
          0.9191426047333429,
          0.9317896498814344,
          0.9314176779653134,
          0.9225058508082635,
          0.9160738364253491,
          0.9090063700190627,
          0.9008229878644163,
          0.8971032687032118,
          0.888175942716323,
          0.8863160831357224,
          0.8847662001518874,
          0.877016785232716,
          0.8766293144867576,
          0.877016785232716,
          0.8785666682165493,
          0.8859286123897642,
          0.8863160831357224,
          0.8863160831357224,
          0.8805040219463426,
          0.8754669022488794,
          0.8832163171680542,
          0.8878039708002037,
          0.8959873529548517,
          0.8974752406193328,
          0.8974752406193328,
          0.8978472125354523,
          0.8974752406193328,
          0.8978472125354523,
          0.8974752406193328,
          0.8974752406193328,
          0.89487143720649,
          0.8878039708002037,
          0.8828288464220942,
          0.8750794315029211,
          0.871344213511881,
          0.8635328032733524,
          0.8546054772864654,
          0.8414624695835451,
          0.8019714511554388,
          0.7632243765595698,
          0.7226484400427762,
          0.6881635436524537,
          0.6526247268331232,
          0.6254552781265007,
          0.5937601711070808,
          0.5569969467305216,
          0.5319198400520776,
          0.5125773004138191,
          0.49582306535856635,
          0.4771624742331947,
          0.4630120425907831,
          0.4444134467847686,
          0.42544287906263123,
          0.4084871592194798,
          0.3848049472264855,
          0.3561631096852206,
          0.3383084577114433,
          0.31475023635715654,
          0.267912772585671,
          0.2195564234900265,
          0.18411059964972595,
          0.14804482261589408,
          0.12014692890686811,
          0.1026642488492136,
          0.08369368112707627,
          0.0706746640628636,
          0.07662621472078991,
          0.07774213046914996,
          0.07774213046914996,
          0.07365043939182758,
          0.06955874831450355,
          0.06658297298554122,
          0.06100339424373603,
          0.05542381550193083,
          0.04575254568280326,
          0.04240479843771981,
          0.032733528618590586,
          0.022318314967220778,
          0.015250848560936071,
          0.007439438322407477,
          0.006695494490166895,
          0,
          0,
          0.002975775328963982
         ]
        },
        {
         "mode": "lines",
         "name": "Window Detection",
         "type": "scatter",
         "x": [
          "2022-07-20T07:15:00",
          "2022-07-20T07:30:00",
          "2022-07-20T07:45:00",
          "2022-07-20T08:00:00",
          "2022-07-20T08:15:00",
          "2022-07-20T08:30:00",
          "2022-07-20T08:45:00",
          "2022-07-20T09:00:00",
          "2022-07-20T09:15:00",
          "2022-07-20T09:30:00",
          "2022-07-20T09:45:00",
          "2022-07-20T10:00:00",
          "2022-07-20T10:15:00",
          "2022-07-20T10:30:00",
          "2022-07-20T10:45:00",
          "2022-07-20T11:00:00",
          "2022-07-20T11:15:00",
          "2022-07-20T11:30:00",
          "2022-07-20T11:45:00",
          "2022-07-20T12:00:00",
          "2022-07-20T12:15:00",
          "2022-07-20T12:30:00",
          "2022-07-20T12:45:00",
          "2022-07-20T13:00:00",
          "2022-07-20T13:15:00",
          "2022-07-20T13:30:00",
          "2022-07-20T13:45:00",
          "2022-07-20T14:00:00",
          "2022-07-20T14:15:00",
          "2022-07-20T14:30:00",
          "2022-07-20T14:45:00",
          "2022-07-20T15:00:00",
          "2022-07-20T15:15:00",
          "2022-07-20T15:30:00",
          "2022-07-20T15:45:00",
          "2022-07-20T16:00:00",
          "2022-07-20T16:15:00",
          "2022-07-20T16:30:00",
          "2022-07-20T16:45:00",
          "2022-07-20T17:00:00",
          "2022-07-20T17:15:00",
          "2022-07-20T17:30:00",
          "2022-07-20T17:45:00",
          "2022-07-20T18:00:00",
          "2022-07-20T18:15:00",
          "2022-07-20T18:30:00",
          "2022-07-20T18:45:00",
          "2022-07-20T19:00:00",
          "2022-07-20T19:15:00",
          "2022-07-20T19:30:00",
          "2022-07-20T19:45:00",
          "2022-07-20T20:00:00",
          "2022-07-20T20:15:00",
          "2022-07-20T20:30:00",
          "2022-07-20T20:45:00",
          "2022-07-20T21:00:00",
          "2022-07-20T21:15:00",
          "2022-07-20T21:30:00",
          "2022-07-20T21:45:00",
          "2022-07-20T22:00:00",
          "2022-07-20T22:15:00",
          "2022-07-20T22:30:00",
          "2022-07-20T22:45:00",
          "2022-07-20T23:00:00",
          "2022-07-20T23:15:00",
          "2022-07-20T23:30:00",
          "2022-07-20T23:45:00",
          "2022-07-21T00:00:00",
          "2022-07-21T00:15:00",
          "2022-07-21T00:30:00",
          "2022-07-21T00:45:00",
          "2022-07-21T01:00:00",
          "2022-07-21T01:15:00",
          "2022-07-21T01:30:00",
          "2022-07-21T01:45:00",
          "2022-07-21T02:00:00",
          "2022-07-21T02:15:00",
          "2022-07-21T02:30:00",
          "2022-07-21T02:45:00",
          "2022-07-21T03:00:00",
          "2022-07-21T03:15:00",
          "2022-07-21T03:30:00",
          "2022-07-21T03:45:00",
          "2022-07-21T04:00:00",
          "2022-07-21T04:15:00",
          "2022-07-21T04:30:00",
          "2022-07-21T04:45:00",
          "2022-07-21T05:00:00",
          "2022-07-21T05:15:00",
          "2022-07-21T05:30:00",
          "2022-07-21T05:45:00",
          "2022-07-21T06:00:00",
          "2022-07-21T06:15:00",
          "2022-07-21T06:30:00",
          "2022-07-21T06:45:00",
          "2022-07-21T07:00:00",
          "2022-07-21T07:15:00",
          "2022-07-21T07:30:00",
          "2022-07-21T07:45:00",
          "2022-07-21T08:00:00",
          "2022-07-21T08:15:00",
          "2022-07-21T08:30:00",
          "2022-07-21T08:45:00",
          "2022-07-21T09:00:00",
          "2022-07-21T09:15:00",
          "2022-07-21T09:30:00",
          "2022-07-21T09:45:00",
          "2022-07-21T10:00:00",
          "2022-07-21T10:15:00",
          "2022-07-21T10:30:00",
          "2022-07-21T10:45:00",
          "2022-07-21T11:00:00",
          "2022-07-21T11:15:00",
          "2022-07-21T11:30:00",
          "2022-07-21T11:45:00",
          "2022-07-21T12:00:00",
          "2022-07-21T12:15:00",
          "2022-07-21T12:30:00",
          "2022-07-21T12:45:00",
          "2022-07-21T13:00:00",
          "2022-07-21T13:15:00",
          "2022-07-21T13:30:00",
          "2022-07-21T13:45:00",
          "2022-07-21T14:00:00",
          "2022-07-21T14:15:00",
          "2022-07-21T14:30:00",
          "2022-07-21T14:45:00",
          "2022-07-21T15:00:00",
          "2022-07-21T15:15:00",
          "2022-07-21T15:30:00",
          "2022-07-21T15:45:00",
          "2022-07-21T16:00:00",
          "2022-07-21T16:15:00",
          "2022-07-21T16:30:00",
          "2022-07-21T16:45:00",
          "2022-07-21T17:00:00",
          "2022-07-21T17:15:00",
          "2022-07-21T17:30:00",
          "2022-07-21T17:45:00",
          "2022-07-21T18:00:00",
          "2022-07-21T18:15:00",
          "2022-07-21T18:30:00",
          "2022-07-21T18:45:00",
          "2022-07-21T19:00:00",
          "2022-07-21T19:15:00",
          "2022-07-21T19:30:00",
          "2022-07-21T19:45:00",
          "2022-07-21T20:00:00",
          "2022-07-21T20:15:00",
          "2022-07-21T20:30:00",
          "2022-07-21T20:45:00",
          "2022-07-21T21:00:00",
          "2022-07-21T21:15:00",
          "2022-07-21T21:30:00",
          "2022-07-21T21:45:00",
          "2022-07-21T22:00:00",
          "2022-07-21T22:15:00",
          "2022-07-21T22:30:00",
          "2022-07-21T22:45:00",
          "2022-07-21T23:00:00",
          "2022-07-21T23:15:00",
          "2022-07-21T23:30:00",
          "2022-07-21T23:45:00",
          "2022-07-22T00:00:00",
          "2022-07-22T00:15:00",
          "2022-07-22T00:30:00",
          "2022-07-22T00:45:00",
          "2022-07-22T01:00:00",
          "2022-07-22T01:15:00",
          "2022-07-22T01:30:00",
          "2022-07-22T01:45:00",
          "2022-07-22T02:00:00",
          "2022-07-22T02:15:00",
          "2022-07-22T02:30:00",
          "2022-07-22T02:45:00",
          "2022-07-22T03:00:00",
          "2022-07-22T03:15:00",
          "2022-07-22T03:30:00",
          "2022-07-22T03:45:00",
          "2022-07-22T04:00:00",
          "2022-07-22T04:15:00",
          "2022-07-22T04:30:00",
          "2022-07-22T04:45:00",
          "2022-07-22T05:00:00",
          "2022-07-22T05:15:00",
          "2022-07-22T05:30:00",
          "2022-07-22T05:45:00",
          "2022-07-22T06:00:00",
          "2022-07-22T06:15:00",
          "2022-07-22T06:30:00",
          "2022-07-22T06:45:00",
          "2022-07-22T07:00:00",
          "2022-07-22T07:15:00",
          "2022-07-22T07:30:00",
          "2022-07-22T07:45:00",
          "2022-07-22T08:00:00",
          "2022-07-22T08:15:00",
          "2022-07-22T08:30:00",
          "2022-07-22T08:45:00",
          "2022-07-22T09:00:00",
          "2022-07-22T09:15:00",
          "2022-07-22T09:30:00",
          "2022-07-22T09:45:00",
          "2022-07-22T10:00:00",
          "2022-07-22T10:15:00",
          "2022-07-22T10:30:00",
          "2022-07-22T10:45:00",
          "2022-07-22T11:00:00",
          "2022-07-22T11:15:00",
          "2022-07-22T11:30:00",
          "2022-07-22T11:45:00",
          "2022-07-22T12:00:00",
          "2022-07-22T12:15:00",
          "2022-07-22T12:30:00",
          "2022-07-22T12:45:00",
          "2022-07-22T13:00:00",
          "2022-07-22T13:15:00",
          "2022-07-22T13:30:00",
          "2022-07-22T13:45:00",
          "2022-07-22T14:00:00",
          "2022-07-22T14:15:00",
          "2022-07-22T14:30:00",
          "2022-07-22T14:45:00",
          "2022-07-22T15:00:00",
          "2022-07-22T15:15:00",
          "2022-07-22T15:30:00",
          "2022-07-22T15:45:00",
          "2022-07-22T16:00:00",
          "2022-07-22T16:15:00",
          "2022-07-22T16:30:00",
          "2022-07-22T16:45:00",
          "2022-07-22T17:00:00",
          "2022-07-22T17:15:00",
          "2022-07-22T17:30:00",
          "2022-07-22T17:45:00",
          "2022-07-22T18:00:00",
          "2022-07-22T18:15:00",
          "2022-07-22T18:30:00",
          "2022-07-22T18:45:00",
          "2022-07-22T19:00:00",
          "2022-07-22T19:15:00",
          "2022-07-22T19:30:00",
          "2022-07-22T19:45:00",
          "2022-07-22T20:00:00",
          "2022-07-22T20:15:00",
          "2022-07-22T20:30:00",
          "2022-07-22T20:45:00",
          "2022-07-22T21:00:00",
          "2022-07-22T21:15:00",
          "2022-07-22T21:30:00",
          "2022-07-22T21:45:00",
          "2022-07-22T22:00:00",
          "2022-07-22T22:15:00",
          "2022-07-22T22:30:00",
          "2022-07-22T22:45:00",
          "2022-07-22T23:00:00",
          "2022-07-22T23:15:00",
          "2022-07-22T23:30:00",
          "2022-07-22T23:45:00",
          "2022-07-23T00:00:00",
          "2022-07-23T00:15:00",
          "2022-07-23T00:30:00",
          "2022-07-23T00:45:00",
          "2022-07-23T01:00:00",
          "2022-07-23T01:15:00",
          "2022-07-23T01:30:00",
          "2022-07-23T01:45:00",
          "2022-07-23T02:00:00",
          "2022-07-23T02:15:00",
          "2022-07-23T02:30:00",
          "2022-07-23T02:45:00",
          "2022-07-23T03:00:00",
          "2022-07-23T03:15:00",
          "2022-07-23T03:30:00",
          "2022-07-23T03:45:00",
          "2022-07-23T04:00:00",
          "2022-07-23T04:15:00",
          "2022-07-23T04:30:00",
          "2022-07-23T04:45:00",
          "2022-07-23T05:00:00",
          "2022-07-23T05:15:00",
          "2022-07-23T05:30:00",
          "2022-07-23T05:45:00",
          "2022-07-23T06:00:00",
          "2022-07-23T06:15:00",
          "2022-07-23T06:30:00",
          "2022-07-23T06:45:00",
          "2022-07-23T07:00:00",
          "2022-07-23T07:15:00",
          "2022-07-23T07:30:00",
          "2022-07-23T07:45:00",
          "2022-07-23T08:00:00",
          "2022-07-23T08:15:00",
          "2022-07-23T08:30:00",
          "2022-07-23T08:45:00",
          "2022-07-23T09:00:00",
          "2022-07-23T09:15:00",
          "2022-07-23T09:30:00",
          "2022-07-23T09:45:00",
          "2022-07-23T10:00:00",
          "2022-07-23T10:15:00",
          "2022-07-23T10:30:00",
          "2022-07-23T10:45:00",
          "2022-07-23T11:00:00",
          "2022-07-23T11:15:00",
          "2022-07-23T11:30:00",
          "2022-07-23T11:45:00",
          "2022-07-23T12:00:00",
          "2022-07-23T12:15:00",
          "2022-07-23T12:30:00",
          "2022-07-23T12:45:00",
          "2022-07-23T13:00:00",
          "2022-07-23T13:15:00",
          "2022-07-23T13:30:00",
          "2022-07-23T13:45:00",
          "2022-07-23T14:00:00",
          "2022-07-23T14:15:00",
          "2022-07-23T14:30:00",
          "2022-07-23T14:45:00",
          "2022-07-23T15:00:00",
          "2022-07-23T15:15:00",
          "2022-07-23T15:30:00",
          "2022-07-23T15:45:00",
          "2022-07-23T16:00:00",
          "2022-07-23T16:15:00",
          "2022-07-23T16:30:00",
          "2022-07-23T16:45:00",
          "2022-07-23T17:00:00",
          "2022-07-23T17:15:00",
          "2022-07-23T17:30:00",
          "2022-07-23T17:45:00",
          "2022-07-23T18:00:00",
          "2022-07-23T18:15:00",
          "2022-07-23T18:30:00",
          "2022-07-23T18:45:00",
          "2022-07-23T19:00:00",
          "2022-07-23T19:15:00",
          "2022-07-23T19:30:00",
          "2022-07-23T19:45:00",
          "2022-07-23T20:00:00",
          "2022-07-23T20:15:00",
          "2022-07-23T20:30:00",
          "2022-07-23T20:45:00",
          "2022-07-23T21:00:00",
          "2022-07-23T21:15:00",
          "2022-07-23T21:30:00",
          "2022-07-23T21:45:00",
          "2022-07-23T22:00:00",
          "2022-07-23T22:15:00",
          "2022-07-23T22:30:00",
          "2022-07-23T22:45:00",
          "2022-07-23T23:00:00",
          "2022-07-23T23:15:00",
          "2022-07-23T23:30:00",
          "2022-07-23T23:45:00",
          "2022-07-24T00:00:00",
          "2022-07-24T00:15:00",
          "2022-07-24T00:30:00",
          "2022-07-24T00:45:00",
          "2022-07-24T01:00:00",
          "2022-07-24T01:15:00",
          "2022-07-24T01:30:00",
          "2022-07-24T01:45:00",
          "2022-07-24T02:00:00",
          "2022-07-24T02:15:00",
          "2022-07-24T02:30:00",
          "2022-07-24T02:45:00",
          "2022-07-24T03:00:00",
          "2022-07-24T03:15:00",
          "2022-07-24T03:30:00",
          "2022-07-24T03:45:00",
          "2022-07-24T04:00:00",
          "2022-07-24T04:15:00",
          "2022-07-24T04:30:00",
          "2022-07-24T04:45:00",
          "2022-07-24T05:00:00",
          "2022-07-24T05:15:00",
          "2022-07-24T05:30:00",
          "2022-07-24T05:45:00",
          "2022-07-24T06:00:00",
          "2022-07-24T06:15:00",
          "2022-07-24T06:30:00",
          "2022-07-24T06:45:00",
          "2022-07-24T07:00:00",
          "2022-07-24T07:15:00"
         ],
         "y": [
          0.2972221082508587,
          0.3307455583604467,
          0.6207963266421848,
          0.827767222509728,
          0.8120379048207504,
          0.8910487925186946,
          0.97831908273853,
          1,
          0.9548769262853692,
          0.8905628878911032,
          0.8246698460748068,
          0.7648498943484132,
          0.7200912060434111,
          0.6834704584585204,
          0.5716648555749227,
          0.44078974981346,
          0.43423079817152405,
          0.4576729115695105,
          0.45621535560433063,
          0.4811150106257684,
          0.40240774873278323,
          0.29376015270290035,
          0.2940030619668954,
          0.3207246440192898,
          0.3204817060783309,
          0.41923013658645736,
          0.4840299934990651,
          0.4656285161957189,
          0.48245096140868726,
          0.4065373209662183,
          0.32199989259868333,
          0.3803015431216161,
          0.434352030583434,
          0.3950591233809447,
          0.33062362321175354,
          0.3407656693345205,
          0.35698080554720474,
          0.3628109577090539,
          0.42402769148215297,
          0.36426847068674273,
          0.27098579260204037,
          0.35843827556212965,
          0.45900863311517986,
          0.45834057888843477,
          0.513302029876488,
          0.4819041398023802,
          0.3861314947877054,
          0.35115048156334716,
          0.2941848822184854,
          0.24153117683776057,
          0.19914099370824603,
          0.20211679354341583,
          0.1590585705062805,
          0.06170692207604782,
          0.026361523453888983,
          0.06103885355706769,
          0.1263245577090631,
          0.16075896421085195,
          0.14381502856217318,
          0.06948039157508012,
          0.19434310950284325,
          0.4538462347011619,
          0.50212728661088,
          0.4502630829567789,
          0.40507927840147623,
          0.34386251601273193,
          0.3438625017205257,
          0.3584379036425921,
          0.3424049315180031,
          0.35260770857826884,
          0.36572556888225877,
          0.3992490118858027,
          0.4488054127249503,
          0.4429752319549954,
          0.43277242632215474,
          0.4313148704183331,
          0.4181969815450218,
          0.39633384294485496,
          0.3759889768679793,
          0.40186032636822233,
          0.4124882197465684,
          0.3851593000707699,
          0.37756792318475857,
          0.37301309134425403,
          0.3441658991494922,
          0.3320197047000891,
          0.3563120507847792,
          0.33948957696914517,
          0.323456604866132,
          0.3117962576281688,
          0.291390660663351,
          0.2986783545046984,
          0.3030509651044923,
          0.31908390867592146,
          0.3205414360352343,
          0.33365929636618147,
          0.3581945660652283,
          0.3365743510902059,
          0.33353779178809323,
          0.36390322797566055,
          0.3745311213755868,
          0.40908698972661406,
          0.5818056575996982,
          0.7880477827642296,
          0.8076638494999665,
          0.7519735991352241,
          0.684197899494781,
          0.6200053230078205,
          0.6308154091190545,
          0.6142965898316183,
          0.5467638137990533,
          0.4681172829050016,
          0.4337435787596308,
          0.4531774528024173,
          0.4517198969406967,
          0.4240873227971726,
          0.42548411927936036,
          0.4272453011679711,
          0.42439093459013766,
          0.3715550365822789,
          0.3351164818153583,
          0.39196059081402357,
          0.45463486629905064,
          0.47504043476685903,
          0.4766194239603769,
          0.4637444587435492,
          0.42135427569605033,
          0.4415169205646379,
          0.4444927204829092,
          0.4025883846457736,
          0.4140057797896878,
          0.4018595853900119,
          0.360866213069453,
          0.36693928893843525,
          0.3895919007510268,
          0.43040305193032463,
          0.46362284049964947,
          0.4152202982761199,
          0.20387674897023017,
          0.06480297172255438,
          0.20162967721174785,
          0.3073621614471819,
          0.22865489968577912,
          0.19045514881799863,
          0.19822868992377235,
          0.1627618295981221,
          0.18280301268551635,
          0.15025123560468057,
          0.1054925474463591,
          0.16883486287039629,
          0.18170979965730252,
          0.16598048212686162,
          0.16421927180183657,
          0.14994749589490178,
          0.12340807800959702,
          0.09425723138718248,
          0.12413682042932556,
          0.2701338919710649,
          0.4047135541468884,
          0.4336214487780768,
          0.43860136846032977,
          0.422568396436301,
          0.4298560903544863,
          0.41528065995394275,
          0.38321473009864926,
          0.38029963267084504,
          0.3817571601080821,
          0.37155435457584995,
          0.3657241739086539,
          0.36718170134914674,
          0.36572414554809135,
          0.3730118394760427,
          0.3613514923279132,
          0.3424034370742652,
          0.3424034228988688,
          0.3598939081804002,
          0.35552126914321835,
          0.3365732138939137,
          0.34531844945077517,
          0.34240335203817396,
          0.32922473237652417,
          0.33135029973981434,
          0.3290425113393488,
          0.32394110149911065,
          0.32630959246922203,
          0.31762505947874115,
          0.3292853782869395,
          0.3453183219601826,
          0.3351155164507479,
          0.4152802914642589,
          0.5714194234901911,
          0.6357334333740289,
          0.6761801992098224,
          0.7516686948592847,
          0.5324301284986772,
          0.36863887465022044,
          0.6424744926042982,
          0.8079054524737422,
          0.7197241702345405,
          0.5214377646858656,
          0.4276692395671123,
          0.5162148789162555,
          0.4630145955930947,
          0.33803038742099994,
          0.23715634690265167,
          0.2225201856468552,
          0.39633200984870043,
          0.4927726663198651,
          0.42426819597936605,
          0.35782857627016856,
          0.33201792925635415,
          0.34568236782105155,
          0.36997471404229987,
          0.36863862008975895,
          0.37155368920048987,
          0.37446875831231446,
          0.37446874418258214,
          0.3774445441974627,
          0.38212080943831034,
          0.40185833810055893,
          0.4094496865862254,
          0.3881938571510157,
          0.3963317837468612,
          0.5328548348217534,
          0.70551277192631,
          0.6526161431326268,
          0.535101835794828,
          0.5132994282581669,
          0.4960518382892104,
          0.48955361777857687,
          0.47103067889315575,
          0.45943106271009815,
          0.43143410328826276,
          0.3817562122503775,
          0.3699744033679193,
          0.3744684759246185,
          0.35697796236082724,
          0.3190818660996572,
          0.30007308001583455,
          0.29843333158718144,
          0.3071178363106455,
          0.313130181396095,
          0.2913885047766702,
          0.26982902086100147,
          0.2560430922601243,
          0.26156959014283326,
          0.24207495686063948,
          0.1904536770096063,
          0.18875319768987364,
          0.21377431476211486,
          0.19786280463670058,
          0.1668900310920578,
          0.17684988474725785,
          0.22130489010812615,
          0.060793104971916485,
          0.18753848103869875,
          0.44728453005204316,
          0.3934162068790407,
          0.3715530684753043,
          0.36135026304321344,
          0.37446812355333847,
          0.37301056785135983,
          0.35697759593726447,
          0.3336569159176645,
          0.3424021515682009,
          0.36280772019039076,
          0.33657195693142733,
          0.33511440123599634,
          0.351147344997507,
          0.335114373091066,
          0.3393047911815287,
          0.32922344756432176,
          0.3305595133152207,
          0.33626820393117746,
          0.3205388865346459,
          0.3219964140905979,
          0.32199640002632046,
          0.3219963859631489,
          0.321996371901064,
          0.32636898270403,
          0.317623718916205,
          0.31549812332631594,
          0.32017438863701486,
          0.31646978962620187,
          0.3263689124154781,
          0.3351141480889703,
          0.33219905079300155,
          0.351147077817926,
          0.3730101880865786,
          0.37301017403652625,
          0.4094487005205753,
          0.5818029831938362,
          0.7667892932529867,
          0.8090579862256071,
          0.7655139162440653,
          0.7217269226600825,
          0.6805513578153957,
          0.6249218385603702,
          0.5793736488539039,
          0.5439067886960018,
          0.5332788670025379,
          0.5030955952241128,
          0.42110886498901257,
          0.33663216781859073,
          0.31288637153761595,
          0.320113334710795,
          0.31325072887897604,
          0.32636858944050967,
          0.3234534921686121,
          0.3307411862470693,
          0.35964908104286714,
          0.3365713246793362,
          0.3411261282210984,
          0.3730098371637009,
          0.3806011857520618,
          0.40793007713024154,
          0.40337524554313825,
          0.37452805360178637,
          0.35023567922815996,
          0.3304981224222521,
          0.38363764668346295,
          0.4213515221201239,
          0.4230519733310921,
          0.4109057791406187,
          0.3788398494598574,
          0.37446721058528043,
          0.37300965495444777,
          0.37300964094602757,
          0.3730096269387045,
          0.37155207131116236,
          0.362806807578107,
          0.33511350276898905,
          0.3258216609301389,
          0.3231494872892177,
          0.32800794535955347,
          0.32776500775635065,
          0.30742014196020795,
          0.2865286980571689,
          0.166767347509003,
          0.06643988524620488,
          0.06218870818985726,
          0.07888969194110314,
          0.09862722073786058,
          0.1272921919663029,
          0.14235344139685552,
          0.1047609997583077,
          0.1306930804500755,
          0.198954599062108,
          0.23156707885378058,
          0.2342392245085985,
          0.24444200187466764,
          0.2446849114961658,
          0.2257975873389189,
          0.23223504885320395,
          0.21377284100437532,
          0.16798172775688763,
          0.19081653251432476,
          0.210736254030228,
          0.09716945539464383,
          0,
          0.044637198180757016,
          0.09279678861415194,
          0.12237272337679632,
          0.1951890595730427,
          0.23017004451695403,
          0.24766053000610977,
          0.34531580466899914,
          0.40070237231469286,
          0.37738169241018277,
          0.35697609574942635,
          0.34094312395372073,
          0.34531573485759826,
          0.339485554413338,
          0.32928274910621397,
          0.3132497773149161,
          0.3219950130871592,
          0.321994999132575,
          0.2943016943740108,
          0.3045044717708857,
          0.3147072491688481,
          0.3394854427811135,
          0.3438580536960038,
          0.34677312299067165,
          0.38466919119813797,
          0.3963295171955452
         ]
        }
       ],
       "layout": {
        "template": {
         "data": {
          "bar": [
           {
            "error_x": {
             "color": "#2a3f5f"
            },
            "error_y": {
             "color": "#2a3f5f"
            },
            "marker": {
             "line": {
              "color": "#E5ECF6",
              "width": 0.5
             },
             "pattern": {
              "fillmode": "overlay",
              "size": 10,
              "solidity": 0.2
             }
            },
            "type": "bar"
           }
          ],
          "barpolar": [
           {
            "marker": {
             "line": {
              "color": "#E5ECF6",
              "width": 0.5
             },
             "pattern": {
              "fillmode": "overlay",
              "size": 10,
              "solidity": 0.2
             }
            },
            "type": "barpolar"
           }
          ],
          "carpet": [
           {
            "aaxis": {
             "endlinecolor": "#2a3f5f",
             "gridcolor": "white",
             "linecolor": "white",
             "minorgridcolor": "white",
             "startlinecolor": "#2a3f5f"
            },
            "baxis": {
             "endlinecolor": "#2a3f5f",
             "gridcolor": "white",
             "linecolor": "white",
             "minorgridcolor": "white",
             "startlinecolor": "#2a3f5f"
            },
            "type": "carpet"
           }
          ],
          "choropleth": [
           {
            "colorbar": {
             "outlinewidth": 0,
             "ticks": ""
            },
            "type": "choropleth"
           }
          ],
          "contour": [
           {
            "colorbar": {
             "outlinewidth": 0,
             "ticks": ""
            },
            "colorscale": [
             [
              0,
              "#0d0887"
             ],
             [
              0.1111111111111111,
              "#46039f"
             ],
             [
              0.2222222222222222,
              "#7201a8"
             ],
             [
              0.3333333333333333,
              "#9c179e"
             ],
             [
              0.4444444444444444,
              "#bd3786"
             ],
             [
              0.5555555555555556,
              "#d8576b"
             ],
             [
              0.6666666666666666,
              "#ed7953"
             ],
             [
              0.7777777777777778,
              "#fb9f3a"
             ],
             [
              0.8888888888888888,
              "#fdca26"
             ],
             [
              1,
              "#f0f921"
             ]
            ],
            "type": "contour"
           }
          ],
          "contourcarpet": [
           {
            "colorbar": {
             "outlinewidth": 0,
             "ticks": ""
            },
            "type": "contourcarpet"
           }
          ],
          "heatmap": [
           {
            "colorbar": {
             "outlinewidth": 0,
             "ticks": ""
            },
            "colorscale": [
             [
              0,
              "#0d0887"
             ],
             [
              0.1111111111111111,
              "#46039f"
             ],
             [
              0.2222222222222222,
              "#7201a8"
             ],
             [
              0.3333333333333333,
              "#9c179e"
             ],
             [
              0.4444444444444444,
              "#bd3786"
             ],
             [
              0.5555555555555556,
              "#d8576b"
             ],
             [
              0.6666666666666666,
              "#ed7953"
             ],
             [
              0.7777777777777778,
              "#fb9f3a"
             ],
             [
              0.8888888888888888,
              "#fdca26"
             ],
             [
              1,
              "#f0f921"
             ]
            ],
            "type": "heatmap"
           }
          ],
          "heatmapgl": [
           {
            "colorbar": {
             "outlinewidth": 0,
             "ticks": ""
            },
            "colorscale": [
             [
              0,
              "#0d0887"
             ],
             [
              0.1111111111111111,
              "#46039f"
             ],
             [
              0.2222222222222222,
              "#7201a8"
             ],
             [
              0.3333333333333333,
              "#9c179e"
             ],
             [
              0.4444444444444444,
              "#bd3786"
             ],
             [
              0.5555555555555556,
              "#d8576b"
             ],
             [
              0.6666666666666666,
              "#ed7953"
             ],
             [
              0.7777777777777778,
              "#fb9f3a"
             ],
             [
              0.8888888888888888,
              "#fdca26"
             ],
             [
              1,
              "#f0f921"
             ]
            ],
            "type": "heatmapgl"
           }
          ],
          "histogram": [
           {
            "marker": {
             "pattern": {
              "fillmode": "overlay",
              "size": 10,
              "solidity": 0.2
             }
            },
            "type": "histogram"
           }
          ],
          "histogram2d": [
           {
            "colorbar": {
             "outlinewidth": 0,
             "ticks": ""
            },
            "colorscale": [
             [
              0,
              "#0d0887"
             ],
             [
              0.1111111111111111,
              "#46039f"
             ],
             [
              0.2222222222222222,
              "#7201a8"
             ],
             [
              0.3333333333333333,
              "#9c179e"
             ],
             [
              0.4444444444444444,
              "#bd3786"
             ],
             [
              0.5555555555555556,
              "#d8576b"
             ],
             [
              0.6666666666666666,
              "#ed7953"
             ],
             [
              0.7777777777777778,
              "#fb9f3a"
             ],
             [
              0.8888888888888888,
              "#fdca26"
             ],
             [
              1,
              "#f0f921"
             ]
            ],
            "type": "histogram2d"
           }
          ],
          "histogram2dcontour": [
           {
            "colorbar": {
             "outlinewidth": 0,
             "ticks": ""
            },
            "colorscale": [
             [
              0,
              "#0d0887"
             ],
             [
              0.1111111111111111,
              "#46039f"
             ],
             [
              0.2222222222222222,
              "#7201a8"
             ],
             [
              0.3333333333333333,
              "#9c179e"
             ],
             [
              0.4444444444444444,
              "#bd3786"
             ],
             [
              0.5555555555555556,
              "#d8576b"
             ],
             [
              0.6666666666666666,
              "#ed7953"
             ],
             [
              0.7777777777777778,
              "#fb9f3a"
             ],
             [
              0.8888888888888888,
              "#fdca26"
             ],
             [
              1,
              "#f0f921"
             ]
            ],
            "type": "histogram2dcontour"
           }
          ],
          "mesh3d": [
           {
            "colorbar": {
             "outlinewidth": 0,
             "ticks": ""
            },
            "type": "mesh3d"
           }
          ],
          "parcoords": [
           {
            "line": {
             "colorbar": {
              "outlinewidth": 0,
              "ticks": ""
             }
            },
            "type": "parcoords"
           }
          ],
          "pie": [
           {
            "automargin": true,
            "type": "pie"
           }
          ],
          "scatter": [
           {
            "fillpattern": {
             "fillmode": "overlay",
             "size": 10,
             "solidity": 0.2
            },
            "type": "scatter"
           }
          ],
          "scatter3d": [
           {
            "line": {
             "colorbar": {
              "outlinewidth": 0,
              "ticks": ""
             }
            },
            "marker": {
             "colorbar": {
              "outlinewidth": 0,
              "ticks": ""
             }
            },
            "type": "scatter3d"
           }
          ],
          "scattercarpet": [
           {
            "marker": {
             "colorbar": {
              "outlinewidth": 0,
              "ticks": ""
             }
            },
            "type": "scattercarpet"
           }
          ],
          "scattergeo": [
           {
            "marker": {
             "colorbar": {
              "outlinewidth": 0,
              "ticks": ""
             }
            },
            "type": "scattergeo"
           }
          ],
          "scattergl": [
           {
            "marker": {
             "colorbar": {
              "outlinewidth": 0,
              "ticks": ""
             }
            },
            "type": "scattergl"
           }
          ],
          "scattermapbox": [
           {
            "marker": {
             "colorbar": {
              "outlinewidth": 0,
              "ticks": ""
             }
            },
            "type": "scattermapbox"
           }
          ],
          "scatterpolar": [
           {
            "marker": {
             "colorbar": {
              "outlinewidth": 0,
              "ticks": ""
             }
            },
            "type": "scatterpolar"
           }
          ],
          "scatterpolargl": [
           {
            "marker": {
             "colorbar": {
              "outlinewidth": 0,
              "ticks": ""
             }
            },
            "type": "scatterpolargl"
           }
          ],
          "scatterternary": [
           {
            "marker": {
             "colorbar": {
              "outlinewidth": 0,
              "ticks": ""
             }
            },
            "type": "scatterternary"
           }
          ],
          "surface": [
           {
            "colorbar": {
             "outlinewidth": 0,
             "ticks": ""
            },
            "colorscale": [
             [
              0,
              "#0d0887"
             ],
             [
              0.1111111111111111,
              "#46039f"
             ],
             [
              0.2222222222222222,
              "#7201a8"
             ],
             [
              0.3333333333333333,
              "#9c179e"
             ],
             [
              0.4444444444444444,
              "#bd3786"
             ],
             [
              0.5555555555555556,
              "#d8576b"
             ],
             [
              0.6666666666666666,
              "#ed7953"
             ],
             [
              0.7777777777777778,
              "#fb9f3a"
             ],
             [
              0.8888888888888888,
              "#fdca26"
             ],
             [
              1,
              "#f0f921"
             ]
            ],
            "type": "surface"
           }
          ],
          "table": [
           {
            "cells": {
             "fill": {
              "color": "#EBF0F8"
             },
             "line": {
              "color": "white"
             }
            },
            "header": {
             "fill": {
              "color": "#C8D4E3"
             },
             "line": {
              "color": "white"
             }
            },
            "type": "table"
           }
          ]
         },
         "layout": {
          "annotationdefaults": {
           "arrowcolor": "#2a3f5f",
           "arrowhead": 0,
           "arrowwidth": 1
          },
          "autotypenumbers": "strict",
          "coloraxis": {
           "colorbar": {
            "outlinewidth": 0,
            "ticks": ""
           }
          },
          "colorscale": {
           "diverging": [
            [
             0,
             "#8e0152"
            ],
            [
             0.1,
             "#c51b7d"
            ],
            [
             0.2,
             "#de77ae"
            ],
            [
             0.3,
             "#f1b6da"
            ],
            [
             0.4,
             "#fde0ef"
            ],
            [
             0.5,
             "#f7f7f7"
            ],
            [
             0.6,
             "#e6f5d0"
            ],
            [
             0.7,
             "#b8e186"
            ],
            [
             0.8,
             "#7fbc41"
            ],
            [
             0.9,
             "#4d9221"
            ],
            [
             1,
             "#276419"
            ]
           ],
           "sequential": [
            [
             0,
             "#0d0887"
            ],
            [
             0.1111111111111111,
             "#46039f"
            ],
            [
             0.2222222222222222,
             "#7201a8"
            ],
            [
             0.3333333333333333,
             "#9c179e"
            ],
            [
             0.4444444444444444,
             "#bd3786"
            ],
            [
             0.5555555555555556,
             "#d8576b"
            ],
            [
             0.6666666666666666,
             "#ed7953"
            ],
            [
             0.7777777777777778,
             "#fb9f3a"
            ],
            [
             0.8888888888888888,
             "#fdca26"
            ],
            [
             1,
             "#f0f921"
            ]
           ],
           "sequentialminus": [
            [
             0,
             "#0d0887"
            ],
            [
             0.1111111111111111,
             "#46039f"
            ],
            [
             0.2222222222222222,
             "#7201a8"
            ],
            [
             0.3333333333333333,
             "#9c179e"
            ],
            [
             0.4444444444444444,
             "#bd3786"
            ],
            [
             0.5555555555555556,
             "#d8576b"
            ],
            [
             0.6666666666666666,
             "#ed7953"
            ],
            [
             0.7777777777777778,
             "#fb9f3a"
            ],
            [
             0.8888888888888888,
             "#fdca26"
            ],
            [
             1,
             "#f0f921"
            ]
           ]
          },
          "colorway": [
           "#636efa",
           "#EF553B",
           "#00cc96",
           "#ab63fa",
           "#FFA15A",
           "#19d3f3",
           "#FF6692",
           "#B6E880",
           "#FF97FF",
           "#FECB52"
          ],
          "font": {
           "color": "#2a3f5f"
          },
          "geo": {
           "bgcolor": "white",
           "lakecolor": "white",
           "landcolor": "#E5ECF6",
           "showlakes": true,
           "showland": true,
           "subunitcolor": "white"
          },
          "hoverlabel": {
           "align": "left"
          },
          "hovermode": "closest",
          "mapbox": {
           "style": "light"
          },
          "paper_bgcolor": "white",
          "plot_bgcolor": "#E5ECF6",
          "polar": {
           "angularaxis": {
            "gridcolor": "white",
            "linecolor": "white",
            "ticks": ""
           },
           "bgcolor": "#E5ECF6",
           "radialaxis": {
            "gridcolor": "white",
            "linecolor": "white",
            "ticks": ""
           }
          },
          "scene": {
           "xaxis": {
            "backgroundcolor": "#E5ECF6",
            "gridcolor": "white",
            "gridwidth": 2,
            "linecolor": "white",
            "showbackground": true,
            "ticks": "",
            "zerolinecolor": "white"
           },
           "yaxis": {
            "backgroundcolor": "#E5ECF6",
            "gridcolor": "white",
            "gridwidth": 2,
            "linecolor": "white",
            "showbackground": true,
            "ticks": "",
            "zerolinecolor": "white"
           },
           "zaxis": {
            "backgroundcolor": "#E5ECF6",
            "gridcolor": "white",
            "gridwidth": 2,
            "linecolor": "white",
            "showbackground": true,
            "ticks": "",
            "zerolinecolor": "white"
           }
          },
          "shapedefaults": {
           "line": {
            "color": "#2a3f5f"
           }
          },
          "ternary": {
           "aaxis": {
            "gridcolor": "white",
            "linecolor": "white",
            "ticks": ""
           },
           "baxis": {
            "gridcolor": "white",
            "linecolor": "white",
            "ticks": ""
           },
           "bgcolor": "#E5ECF6",
           "caxis": {
            "gridcolor": "white",
            "linecolor": "white",
            "ticks": ""
           }
          },
          "title": {
           "x": 0.05
          },
          "xaxis": {
           "automargin": true,
           "gridcolor": "white",
           "linecolor": "white",
           "ticks": "",
           "title": {
            "standoff": 15
           },
           "zerolinecolor": "white",
           "zerolinewidth": 2
          },
          "yaxis": {
           "automargin": true,
           "gridcolor": "white",
           "linecolor": "white",
           "ticks": "",
           "title": {
            "standoff": 15
           },
           "zerolinecolor": "white",
           "zerolinewidth": 2
          }
         }
        }
       }
      }
     },
     "metadata": {},
     "output_type": "display_data"
    }
   ],
   "source": [
    "\n",
    "\n",
    "# sinusoidal fit to normalized temp (eyeballing )\n",
    "xt, t = make_fit(series=temp, A=-0.5, w=3.9*(1/(len(temp))), phi=0.8, w_t_var=1)\n",
    "xt += 0.5\n",
    "\n",
    "xt, t = make_fit(series=temp, A=-0.5, w=big_peak, phi=0.8, w_t_var=1)\n",
    "\n",
    "\n",
    "# difference and derivative \n",
    "dif_xt = norm_temp - xt \n",
    "ddt_dif_xt= norm_grad(dif_xt)\n",
    "\n",
    "# ambient temp \n",
    "amb = h.normalize(a00[\"Ambient Temp\"])\n",
    "\n",
    "peaks=scipy.signal.find_peaks(ddt_dif_xt, prominence=0.2)[0]\n",
    "peak_widths = scipy.signal.peak_widths(ddt_dif_xt, peaks)\n",
    "\n",
    "fig = go.Figure()\n",
    "\n",
    "fig.add_trace(go.Scatter(\n",
    "    x=time, y=a01[\"Window Open\"], name=\"Window\", mode='lines',\n",
    "))\n",
    "\n",
    "fig.add_trace(go.Scatter(x=time, y=norm_temp, name=\"Indoor Temp, Normalized\", mode='lines',))\n",
    "\n",
    "# fig.add_trace(go.Scatter(x=time, y=xt, name=\"xt\", mode='lines',))\n",
    "\n",
    "fig.add_trace(go.Scatter(x=time, y=ddt_dif_xt, name=\"Window Detection\", mode='lines',))\n",
    "\n",
    "# fig.add_trace(go.Scatter( x=time, y=amb,  name=\"Ambient\", mode='lines',))\n",
    "\n",
    "# fig.add_trace(go.Scatter( x=time[peaks], y=ddt_dif_xt[peaks],  name=\"peaks\", mode='markers',))\n",
    "\n",
    "\n",
    "\n"
   ]
  },
  {
   "cell_type": "code",
   "execution_count": 260,
   "metadata": {},
   "outputs": [
    {
     "data": {
      "text/plain": [
       "array([ 2.04645277,  2.54211675,  2.72590287,  3.97991012,  5.31452752,\n",
       "        6.70245734,  7.42524233,  7.42734758, 10.81124454, 11.1244649 ,\n",
       "       11.29995622, 12.3494428 , 23.31855652, 23.84605508, 25.15284034])"
      ]
     },
     "execution_count": 260,
     "metadata": {},
     "output_type": "execute_result"
    }
   ],
   "source": [
    "peak_widths_sort = np.sort(peak_widths[0])\n",
    "peak_widths_sort_ix = np.argsort(peak_widths[0])\n",
    "\n",
    "peak_widths_sort_small = peak_widths_sort[0:15]\n",
    "peak_widths_sort_ix_small = peak_widths_sort_ix[0:15]\n",
    "\n",
    "peak_widths_sort_small"
   ]
  },
  {
   "cell_type": "code",
   "execution_count": 271,
   "metadata": {},
   "outputs": [
    {
     "data": {
      "text/plain": [
       "array([10.81124454,  7.42524233, 23.31855652,  6.70245734, 11.1244649 ,\n",
       "       23.84605508,  3.97991012,  2.72590287,  2.04645277,  2.54211675,\n",
       "       25.15284034,  5.31452752, 12.3494428 , 11.29995622,  7.42734758])"
      ]
     },
     "execution_count": 271,
     "metadata": {},
     "output_type": "execute_result"
    }
   ],
   "source": [
    "peak_widths[0]"
   ]
  },
  {
   "cell_type": "code",
   "execution_count": 273,
   "metadata": {},
   "outputs": [
    {
     "data": {
      "text/plain": [
       "7     2022-07-20 09:00:00\n",
       "44    2022-07-20 18:15:00\n",
       "62    2022-07-20 22:45:00\n",
       "104   2022-07-21 09:15:00\n",
       "136   2022-07-21 17:15:00\n",
       "160   2022-07-21 23:15:00\n",
       "193   2022-07-22 07:30:00\n",
       "197   2022-07-22 08:30:00\n",
       "207   2022-07-22 11:00:00\n",
       "224   2022-07-22 15:15:00\n",
       "256   2022-07-22 23:15:00\n",
       "293   2022-07-23 08:30:00\n",
       "335   2022-07-23 19:00:00\n",
       "351   2022-07-23 23:00:00\n",
       "367   2022-07-24 03:00:00\n",
       "Name: DateTime, dtype: datetime64[ns]"
      ]
     },
     "execution_count": 273,
     "metadata": {},
     "output_type": "execute_result"
    }
   ],
   "source": [
    "time[peaks]"
   ]
  },
  {
   "cell_type": "code",
   "execution_count": 275,
   "metadata": {},
   "outputs": [
    {
     "data": {
      "application/vnd.plotly.v1+json": {
       "config": {
        "plotlyServerURL": "https://plotly.com"
       },
       "data": [
        {
         "mode": "lines+markers",
         "name": "Peak widths",
         "type": "scatter",
         "x": [
          "2022-07-20T09:00:00",
          "2022-07-20T18:15:00",
          "2022-07-20T22:45:00",
          "2022-07-21T09:15:00",
          "2022-07-21T17:15:00",
          "2022-07-21T23:15:00",
          "2022-07-22T07:30:00",
          "2022-07-22T08:30:00",
          "2022-07-22T11:00:00",
          "2022-07-22T15:15:00",
          "2022-07-22T23:15:00",
          "2022-07-23T08:30:00",
          "2022-07-23T19:00:00",
          "2022-07-23T23:00:00",
          "2022-07-24T03:00:00"
         ],
         "y": [
          10.811244544163205,
          7.425242333177998,
          23.318556520626593,
          6.702457337385752,
          11.12446489712599,
          23.8460550795879,
          3.9799101160496946,
          2.7259028678984123,
          2.046452767392907,
          2.5421167469955037,
          25.152840340606787,
          5.314527521204241,
          12.34944279823958,
          11.299956218438012,
          7.427347582179436
         ]
        }
       ],
       "layout": {
        "template": {
         "data": {
          "bar": [
           {
            "error_x": {
             "color": "#2a3f5f"
            },
            "error_y": {
             "color": "#2a3f5f"
            },
            "marker": {
             "line": {
              "color": "#E5ECF6",
              "width": 0.5
             },
             "pattern": {
              "fillmode": "overlay",
              "size": 10,
              "solidity": 0.2
             }
            },
            "type": "bar"
           }
          ],
          "barpolar": [
           {
            "marker": {
             "line": {
              "color": "#E5ECF6",
              "width": 0.5
             },
             "pattern": {
              "fillmode": "overlay",
              "size": 10,
              "solidity": 0.2
             }
            },
            "type": "barpolar"
           }
          ],
          "carpet": [
           {
            "aaxis": {
             "endlinecolor": "#2a3f5f",
             "gridcolor": "white",
             "linecolor": "white",
             "minorgridcolor": "white",
             "startlinecolor": "#2a3f5f"
            },
            "baxis": {
             "endlinecolor": "#2a3f5f",
             "gridcolor": "white",
             "linecolor": "white",
             "minorgridcolor": "white",
             "startlinecolor": "#2a3f5f"
            },
            "type": "carpet"
           }
          ],
          "choropleth": [
           {
            "colorbar": {
             "outlinewidth": 0,
             "ticks": ""
            },
            "type": "choropleth"
           }
          ],
          "contour": [
           {
            "colorbar": {
             "outlinewidth": 0,
             "ticks": ""
            },
            "colorscale": [
             [
              0,
              "#0d0887"
             ],
             [
              0.1111111111111111,
              "#46039f"
             ],
             [
              0.2222222222222222,
              "#7201a8"
             ],
             [
              0.3333333333333333,
              "#9c179e"
             ],
             [
              0.4444444444444444,
              "#bd3786"
             ],
             [
              0.5555555555555556,
              "#d8576b"
             ],
             [
              0.6666666666666666,
              "#ed7953"
             ],
             [
              0.7777777777777778,
              "#fb9f3a"
             ],
             [
              0.8888888888888888,
              "#fdca26"
             ],
             [
              1,
              "#f0f921"
             ]
            ],
            "type": "contour"
           }
          ],
          "contourcarpet": [
           {
            "colorbar": {
             "outlinewidth": 0,
             "ticks": ""
            },
            "type": "contourcarpet"
           }
          ],
          "heatmap": [
           {
            "colorbar": {
             "outlinewidth": 0,
             "ticks": ""
            },
            "colorscale": [
             [
              0,
              "#0d0887"
             ],
             [
              0.1111111111111111,
              "#46039f"
             ],
             [
              0.2222222222222222,
              "#7201a8"
             ],
             [
              0.3333333333333333,
              "#9c179e"
             ],
             [
              0.4444444444444444,
              "#bd3786"
             ],
             [
              0.5555555555555556,
              "#d8576b"
             ],
             [
              0.6666666666666666,
              "#ed7953"
             ],
             [
              0.7777777777777778,
              "#fb9f3a"
             ],
             [
              0.8888888888888888,
              "#fdca26"
             ],
             [
              1,
              "#f0f921"
             ]
            ],
            "type": "heatmap"
           }
          ],
          "heatmapgl": [
           {
            "colorbar": {
             "outlinewidth": 0,
             "ticks": ""
            },
            "colorscale": [
             [
              0,
              "#0d0887"
             ],
             [
              0.1111111111111111,
              "#46039f"
             ],
             [
              0.2222222222222222,
              "#7201a8"
             ],
             [
              0.3333333333333333,
              "#9c179e"
             ],
             [
              0.4444444444444444,
              "#bd3786"
             ],
             [
              0.5555555555555556,
              "#d8576b"
             ],
             [
              0.6666666666666666,
              "#ed7953"
             ],
             [
              0.7777777777777778,
              "#fb9f3a"
             ],
             [
              0.8888888888888888,
              "#fdca26"
             ],
             [
              1,
              "#f0f921"
             ]
            ],
            "type": "heatmapgl"
           }
          ],
          "histogram": [
           {
            "marker": {
             "pattern": {
              "fillmode": "overlay",
              "size": 10,
              "solidity": 0.2
             }
            },
            "type": "histogram"
           }
          ],
          "histogram2d": [
           {
            "colorbar": {
             "outlinewidth": 0,
             "ticks": ""
            },
            "colorscale": [
             [
              0,
              "#0d0887"
             ],
             [
              0.1111111111111111,
              "#46039f"
             ],
             [
              0.2222222222222222,
              "#7201a8"
             ],
             [
              0.3333333333333333,
              "#9c179e"
             ],
             [
              0.4444444444444444,
              "#bd3786"
             ],
             [
              0.5555555555555556,
              "#d8576b"
             ],
             [
              0.6666666666666666,
              "#ed7953"
             ],
             [
              0.7777777777777778,
              "#fb9f3a"
             ],
             [
              0.8888888888888888,
              "#fdca26"
             ],
             [
              1,
              "#f0f921"
             ]
            ],
            "type": "histogram2d"
           }
          ],
          "histogram2dcontour": [
           {
            "colorbar": {
             "outlinewidth": 0,
             "ticks": ""
            },
            "colorscale": [
             [
              0,
              "#0d0887"
             ],
             [
              0.1111111111111111,
              "#46039f"
             ],
             [
              0.2222222222222222,
              "#7201a8"
             ],
             [
              0.3333333333333333,
              "#9c179e"
             ],
             [
              0.4444444444444444,
              "#bd3786"
             ],
             [
              0.5555555555555556,
              "#d8576b"
             ],
             [
              0.6666666666666666,
              "#ed7953"
             ],
             [
              0.7777777777777778,
              "#fb9f3a"
             ],
             [
              0.8888888888888888,
              "#fdca26"
             ],
             [
              1,
              "#f0f921"
             ]
            ],
            "type": "histogram2dcontour"
           }
          ],
          "mesh3d": [
           {
            "colorbar": {
             "outlinewidth": 0,
             "ticks": ""
            },
            "type": "mesh3d"
           }
          ],
          "parcoords": [
           {
            "line": {
             "colorbar": {
              "outlinewidth": 0,
              "ticks": ""
             }
            },
            "type": "parcoords"
           }
          ],
          "pie": [
           {
            "automargin": true,
            "type": "pie"
           }
          ],
          "scatter": [
           {
            "fillpattern": {
             "fillmode": "overlay",
             "size": 10,
             "solidity": 0.2
            },
            "type": "scatter"
           }
          ],
          "scatter3d": [
           {
            "line": {
             "colorbar": {
              "outlinewidth": 0,
              "ticks": ""
             }
            },
            "marker": {
             "colorbar": {
              "outlinewidth": 0,
              "ticks": ""
             }
            },
            "type": "scatter3d"
           }
          ],
          "scattercarpet": [
           {
            "marker": {
             "colorbar": {
              "outlinewidth": 0,
              "ticks": ""
             }
            },
            "type": "scattercarpet"
           }
          ],
          "scattergeo": [
           {
            "marker": {
             "colorbar": {
              "outlinewidth": 0,
              "ticks": ""
             }
            },
            "type": "scattergeo"
           }
          ],
          "scattergl": [
           {
            "marker": {
             "colorbar": {
              "outlinewidth": 0,
              "ticks": ""
             }
            },
            "type": "scattergl"
           }
          ],
          "scattermapbox": [
           {
            "marker": {
             "colorbar": {
              "outlinewidth": 0,
              "ticks": ""
             }
            },
            "type": "scattermapbox"
           }
          ],
          "scatterpolar": [
           {
            "marker": {
             "colorbar": {
              "outlinewidth": 0,
              "ticks": ""
             }
            },
            "type": "scatterpolar"
           }
          ],
          "scatterpolargl": [
           {
            "marker": {
             "colorbar": {
              "outlinewidth": 0,
              "ticks": ""
             }
            },
            "type": "scatterpolargl"
           }
          ],
          "scatterternary": [
           {
            "marker": {
             "colorbar": {
              "outlinewidth": 0,
              "ticks": ""
             }
            },
            "type": "scatterternary"
           }
          ],
          "surface": [
           {
            "colorbar": {
             "outlinewidth": 0,
             "ticks": ""
            },
            "colorscale": [
             [
              0,
              "#0d0887"
             ],
             [
              0.1111111111111111,
              "#46039f"
             ],
             [
              0.2222222222222222,
              "#7201a8"
             ],
             [
              0.3333333333333333,
              "#9c179e"
             ],
             [
              0.4444444444444444,
              "#bd3786"
             ],
             [
              0.5555555555555556,
              "#d8576b"
             ],
             [
              0.6666666666666666,
              "#ed7953"
             ],
             [
              0.7777777777777778,
              "#fb9f3a"
             ],
             [
              0.8888888888888888,
              "#fdca26"
             ],
             [
              1,
              "#f0f921"
             ]
            ],
            "type": "surface"
           }
          ],
          "table": [
           {
            "cells": {
             "fill": {
              "color": "#EBF0F8"
             },
             "line": {
              "color": "white"
             }
            },
            "header": {
             "fill": {
              "color": "#C8D4E3"
             },
             "line": {
              "color": "white"
             }
            },
            "type": "table"
           }
          ]
         },
         "layout": {
          "annotationdefaults": {
           "arrowcolor": "#2a3f5f",
           "arrowhead": 0,
           "arrowwidth": 1
          },
          "autotypenumbers": "strict",
          "coloraxis": {
           "colorbar": {
            "outlinewidth": 0,
            "ticks": ""
           }
          },
          "colorscale": {
           "diverging": [
            [
             0,
             "#8e0152"
            ],
            [
             0.1,
             "#c51b7d"
            ],
            [
             0.2,
             "#de77ae"
            ],
            [
             0.3,
             "#f1b6da"
            ],
            [
             0.4,
             "#fde0ef"
            ],
            [
             0.5,
             "#f7f7f7"
            ],
            [
             0.6,
             "#e6f5d0"
            ],
            [
             0.7,
             "#b8e186"
            ],
            [
             0.8,
             "#7fbc41"
            ],
            [
             0.9,
             "#4d9221"
            ],
            [
             1,
             "#276419"
            ]
           ],
           "sequential": [
            [
             0,
             "#0d0887"
            ],
            [
             0.1111111111111111,
             "#46039f"
            ],
            [
             0.2222222222222222,
             "#7201a8"
            ],
            [
             0.3333333333333333,
             "#9c179e"
            ],
            [
             0.4444444444444444,
             "#bd3786"
            ],
            [
             0.5555555555555556,
             "#d8576b"
            ],
            [
             0.6666666666666666,
             "#ed7953"
            ],
            [
             0.7777777777777778,
             "#fb9f3a"
            ],
            [
             0.8888888888888888,
             "#fdca26"
            ],
            [
             1,
             "#f0f921"
            ]
           ],
           "sequentialminus": [
            [
             0,
             "#0d0887"
            ],
            [
             0.1111111111111111,
             "#46039f"
            ],
            [
             0.2222222222222222,
             "#7201a8"
            ],
            [
             0.3333333333333333,
             "#9c179e"
            ],
            [
             0.4444444444444444,
             "#bd3786"
            ],
            [
             0.5555555555555556,
             "#d8576b"
            ],
            [
             0.6666666666666666,
             "#ed7953"
            ],
            [
             0.7777777777777778,
             "#fb9f3a"
            ],
            [
             0.8888888888888888,
             "#fdca26"
            ],
            [
             1,
             "#f0f921"
            ]
           ]
          },
          "colorway": [
           "#636efa",
           "#EF553B",
           "#00cc96",
           "#ab63fa",
           "#FFA15A",
           "#19d3f3",
           "#FF6692",
           "#B6E880",
           "#FF97FF",
           "#FECB52"
          ],
          "font": {
           "color": "#2a3f5f"
          },
          "geo": {
           "bgcolor": "white",
           "lakecolor": "white",
           "landcolor": "#E5ECF6",
           "showlakes": true,
           "showland": true,
           "subunitcolor": "white"
          },
          "hoverlabel": {
           "align": "left"
          },
          "hovermode": "closest",
          "mapbox": {
           "style": "light"
          },
          "paper_bgcolor": "white",
          "plot_bgcolor": "#E5ECF6",
          "polar": {
           "angularaxis": {
            "gridcolor": "white",
            "linecolor": "white",
            "ticks": ""
           },
           "bgcolor": "#E5ECF6",
           "radialaxis": {
            "gridcolor": "white",
            "linecolor": "white",
            "ticks": ""
           }
          },
          "scene": {
           "xaxis": {
            "backgroundcolor": "#E5ECF6",
            "gridcolor": "white",
            "gridwidth": 2,
            "linecolor": "white",
            "showbackground": true,
            "ticks": "",
            "zerolinecolor": "white"
           },
           "yaxis": {
            "backgroundcolor": "#E5ECF6",
            "gridcolor": "white",
            "gridwidth": 2,
            "linecolor": "white",
            "showbackground": true,
            "ticks": "",
            "zerolinecolor": "white"
           },
           "zaxis": {
            "backgroundcolor": "#E5ECF6",
            "gridcolor": "white",
            "gridwidth": 2,
            "linecolor": "white",
            "showbackground": true,
            "ticks": "",
            "zerolinecolor": "white"
           }
          },
          "shapedefaults": {
           "line": {
            "color": "#2a3f5f"
           }
          },
          "ternary": {
           "aaxis": {
            "gridcolor": "white",
            "linecolor": "white",
            "ticks": ""
           },
           "baxis": {
            "gridcolor": "white",
            "linecolor": "white",
            "ticks": ""
           },
           "bgcolor": "#E5ECF6",
           "caxis": {
            "gridcolor": "white",
            "linecolor": "white",
            "ticks": ""
           }
          },
          "title": {
           "x": 0.05
          },
          "xaxis": {
           "automargin": true,
           "gridcolor": "white",
           "linecolor": "white",
           "ticks": "",
           "title": {
            "standoff": 15
           },
           "zerolinecolor": "white",
           "zerolinewidth": 2
          },
          "yaxis": {
           "automargin": true,
           "gridcolor": "white",
           "linecolor": "white",
           "ticks": "",
           "title": {
            "standoff": 15
           },
           "zerolinecolor": "white",
           "zerolinewidth": 2
          }
         }
        }
       }
      }
     },
     "metadata": {},
     "output_type": "display_data"
    }
   ],
   "source": [
    "fig = go.Figure()\n",
    "\n",
    "fig.add_trace(go.Scatter(\n",
    "    x=time[peaks],  y=peak_widths[0], name=\"Peak widths\", mode='lines+markers',\n",
    "))\n",
    "\n",
    "# fig.add_trace(go.Scatter(x=time, y=norm_temp, name=\"norm_temp\", mode='lines',))"
   ]
  },
  {
   "cell_type": "code",
   "execution_count": 242,
   "metadata": {},
   "outputs": [
    {
     "data": {
      "text/plain": [
       "<seaborn.axisgrid.FacetGrid at 0x177205f30>"
      ]
     },
     "execution_count": 242,
     "metadata": {},
     "output_type": "execute_result"
    },
    {
     "data": {
      "image/png": "[encoded data removed]",
      "text/plain": [
       "<Figure size 500x500 with 1 Axes>"
      ]
     },
     "metadata": {},
     "output_type": "display_data"
    }
   ],
   "source": [
    "sns.displot(ddt_dif_xt)"
   ]
  },
  {
   "attachments": {},
   "cell_type": "markdown",
   "metadata": {},
   "source": [
    "## Frequency analysis \n",
    "http://bebi103.caltech.edu.s3-website-us-east-1.amazonaws.com/2015/tutorials/t7a_time_series.html"
   ]
  },
  {
   "cell_type": "code",
   "execution_count": 87,
   "metadata": {},
   "outputs": [
    {
     "name": "stdout",
     "output_type": "stream",
     "text": [
      "inter_sample_time = 900.0 s\n"
     ]
    },
    {
     "data": {
      "text/html": [
       "<div>\n",
       "<style scoped>\n",
       "    .dataframe tbody tr th:only-of-type {\n",
       "        vertical-align: middle;\n",
       "    }\n",
       "\n",
       "    .dataframe tbody tr th {\n",
       "        vertical-align: top;\n",
       "    }\n",
       "\n",
       "    .dataframe thead th {\n",
       "        text-align: right;\n",
       "    }\n",
       "</style>\n",
       "<table border=\"1\" class=\"dataframe\">\n",
       "  <thead>\n",
       "    <tr style=\"text-align: right;\">\n",
       "      <th></th>\n",
       "      <th>DateTime</th>\n",
       "      <th>Temp C</th>\n",
       "      <th>ddt_dif_xt</th>\n",
       "      <th>Time</th>\n",
       "    </tr>\n",
       "  </thead>\n",
       "  <tbody>\n",
       "    <tr>\n",
       "      <th>0</th>\n",
       "      <td>2022-07-20 07:15:00</td>\n",
       "      <td>23.4386</td>\n",
       "      <td>0.165671</td>\n",
       "      <td>0.0</td>\n",
       "    </tr>\n",
       "    <tr>\n",
       "      <th>1</th>\n",
       "      <td>2022-07-20 07:30:00</td>\n",
       "      <td>23.4178</td>\n",
       "      <td>0.202032</td>\n",
       "      <td>900.0</td>\n",
       "    </tr>\n",
       "    <tr>\n",
       "      <th>2</th>\n",
       "      <td>2022-07-20 07:45:00</td>\n",
       "      <td>23.4154</td>\n",
       "      <td>0.561096</td>\n",
       "      <td>1800.0</td>\n",
       "    </tr>\n",
       "    <tr>\n",
       "      <th>3</th>\n",
       "      <td>2022-07-20 08:00:00</td>\n",
       "      <td>23.5538</td>\n",
       "      <td>0.814707</td>\n",
       "      <td>2700.0</td>\n",
       "    </tr>\n",
       "    <tr>\n",
       "      <th>4</th>\n",
       "      <td>2022-07-20 08:15:00</td>\n",
       "      <td>23.6650</td>\n",
       "      <td>0.783955</td>\n",
       "      <td>3600.0</td>\n",
       "    </tr>\n",
       "    <tr>\n",
       "      <th>...</th>\n",
       "      <td>...</td>\n",
       "      <td>...</td>\n",
       "      <td>...</td>\n",
       "      <td>...</td>\n",
       "    </tr>\n",
       "    <tr>\n",
       "      <th>380</th>\n",
       "      <td>2022-07-24 06:15:00</td>\n",
       "      <td>23.3738</td>\n",
       "      <td>0.502745</td>\n",
       "      <td>342000.0</td>\n",
       "    </tr>\n",
       "    <tr>\n",
       "      <th>381</th>\n",
       "      <td>2022-07-24 06:30:00</td>\n",
       "      <td>23.3722</td>\n",
       "      <td>0.488154</td>\n",
       "      <td>342900.0</td>\n",
       "    </tr>\n",
       "    <tr>\n",
       "      <th>382</th>\n",
       "      <td>2022-07-24 06:45:00</td>\n",
       "      <td>23.3578</td>\n",
       "      <td>0.471588</td>\n",
       "      <td>343800.0</td>\n",
       "    </tr>\n",
       "    <tr>\n",
       "      <th>383</th>\n",
       "      <td>2022-07-24 07:00:00</td>\n",
       "      <td>23.3578</td>\n",
       "      <td>0.499834</td>\n",
       "      <td>344700.0</td>\n",
       "    </tr>\n",
       "    <tr>\n",
       "      <th>384</th>\n",
       "      <td>2022-07-24 07:15:00</td>\n",
       "      <td>23.3642</td>\n",
       "      <td>0.504620</td>\n",
       "      <td>345600.0</td>\n",
       "    </tr>\n",
       "  </tbody>\n",
       "</table>\n",
       "<p>385 rows × 4 columns</p>\n",
       "</div>"
      ],
      "text/plain": [
       "               DateTime   Temp C  ddt_dif_xt      Time\n",
       "0   2022-07-20 07:15:00  23.4386    0.165671       0.0\n",
       "1   2022-07-20 07:30:00  23.4178    0.202032     900.0\n",
       "2   2022-07-20 07:45:00  23.4154    0.561096    1800.0\n",
       "3   2022-07-20 08:00:00  23.5538    0.814707    2700.0\n",
       "4   2022-07-20 08:15:00  23.6650    0.783955    3600.0\n",
       "..                  ...      ...         ...       ...\n",
       "380 2022-07-24 06:15:00  23.3738    0.502745  342000.0\n",
       "381 2022-07-24 06:30:00  23.3722    0.488154  342900.0\n",
       "382 2022-07-24 06:45:00  23.3578    0.471588  343800.0\n",
       "383 2022-07-24 07:00:00  23.3578    0.499834  344700.0\n",
       "384 2022-07-24 07:15:00  23.3642    0.504620  345600.0\n",
       "\n",
       "[385 rows x 4 columns]"
      ]
     },
     "execution_count": 87,
     "metadata": {},
     "output_type": "execute_result"
    }
   ],
   "source": [
    "freqdf = a01.filter([\"DateTime\", \"Temp C\"], axis=1)\n",
    "freqdf = freqdf.reset_index(drop=True)\n",
    "freqdf[\"ddt_dif_xt\"] = ddt_dif_xt\n",
    "\n",
    "# sampling rate \n",
    "inter_sample_time = freqdf[\"DateTime\"][1] - freqdf[\"DateTime\"][0]\n",
    "print('inter_sample_time =', inter_sample_time.total_seconds(), 's')\n",
    "\n",
    "freqdf[\"Time\"] = freqdf[\"DateTime\"] - freqdf[\"DateTime\"].min()\n",
    "freqdf[\"Time\"] = freqdf[\"Time\"].dt.total_seconds()\n",
    "\n",
    "\n",
    "freqdf"
   ]
  },
  {
   "cell_type": "code",
   "execution_count": 88,
   "metadata": {},
   "outputs": [
    {
     "name": "stdout",
     "output_type": "stream",
     "text": [
      "inter_sample_time = 900.0 s\n",
      "All the same?: True\n",
      "n_samples: 385, sampling_freq: 0.0011111111111111111\n"
     ]
    }
   ],
   "source": [
    "inter_sample_time = freqdf[\"Time\"][1] - freqdf[\"Time\"][0]\n",
    "print('inter_sample_time =', inter_sample_time, 's')\n",
    "\n",
    "# # Check to make sure they are all the same\n",
    "print('All the same?:', np.allclose(np.diff(freqdf[\"Time\"]), inter_sample_time))\n",
    "\n",
    "n_samples = len(freqdf)\n",
    "sampling_freq = 1/inter_sample_time \n",
    "\n",
    "print(f\"n_samples: {n_samples}, sampling_freq: {sampling_freq}\")"
   ]
  },
  {
   "cell_type": "code",
   "execution_count": 89,
   "metadata": {},
   "outputs": [],
   "source": [
    "# fig = go.Figure()\n",
    "\n",
    "# fig.add_trace(go.Scatter(\n",
    "#     x=freqdf[\"Time\"],\n",
    "#     y=freqdf[\"Temp C\"], \n",
    "#     name=\"Window\",\n",
    "#     mode='lines',\n",
    "# ))\n"
   ]
  },
  {
   "cell_type": "code",
   "execution_count": 104,
   "metadata": {},
   "outputs": [],
   "source": [
    "f_ddt, psd_ddt = scipy.signal.periodogram(freqdf[\"ddt_dif_xt\"], fs=sampling_freq)\n",
    "\n",
    "f_temp, psd_temp = scipy.signal.periodogram(freqdf[\"Temp C\"], fs=sampling_freq)\n"
   ]
  },
  {
   "cell_type": "code",
   "execution_count": 287,
   "metadata": {},
   "outputs": [
    {
     "data": {
      "application/vnd.plotly.v1+json": {
       "config": {
        "plotlyServerURL": "https://plotly.com"
       },
       "data": [
        {
         "mode": "lines",
         "name": "Indoor Temperature ",
         "type": "scatter",
         "x": [
          0,
          0.000002886002886002886,
          0.000005772005772005772,
          0.000008658008658008657,
          0.000011544011544011544,
          0.00001443001443001443,
          0.000017316017316017315,
          0.000020202020202020203,
          0.000023088023088023087,
          0.000025974025974025972,
          0.00002886002886002886,
          0.000031746031746031745,
          0.00003463203463203463,
          0.000037518037518037514,
          0.000040404040404040405,
          0.00004329004329004329,
          0.000046176046176046175,
          0.00004906204906204906,
          0.000051948051948051944,
          0.000054834054834054835,
          0.00005772005772005772,
          0.000060606060606060605,
          0.00006349206349206349,
          0.00006637806637806638,
          0.00006926406926406926,
          0.00007215007215007215,
          0.00007503607503607503,
          0.00007792207792207792,
          0.00008080808080808081,
          0.00008369408369408369,
          0.00008658008658008658,
          0.00008946608946608946,
          0.00009235209235209235,
          0.00009523809523809524,
          0.00009812409812409812,
          0.00010101010101010101,
          0.00010389610389610389,
          0.00010678210678210678,
          0.00010966810966810967,
          0.00011255411255411255,
          0.00011544011544011544,
          0.00011832611832611832,
          0.00012121212121212121,
          0.0001240981240981241,
          0.00012698412698412698,
          0.00012987012987012987,
          0.00013275613275613276,
          0.00013564213564213563,
          0.00013852813852813852,
          0.0001414141414141414,
          0.0001443001443001443,
          0.0001471861471861472,
          0.00015007215007215006,
          0.00015295815295815295,
          0.00015584415584415584,
          0.00015873015873015873,
          0.00016161616161616162,
          0.00016450216450216449,
          0.00016738816738816738,
          0.00017027417027417027,
          0.00017316017316017316,
          0.00017604617604617605,
          0.00017893217893217892,
          0.0001818181818181818,
          0.0001847041847041847,
          0.0001875901875901876,
          0.00019047619047619048,
          0.00019336219336219335,
          0.00019624819624819624,
          0.00019913419913419913,
          0.00020202020202020202,
          0.0002049062049062049,
          0.00020779220779220778,
          0.00021067821067821067,
          0.00021356421356421356,
          0.00021645021645021645,
          0.00021933621933621934,
          0.0002222222222222222,
          0.0002251082251082251,
          0.000227994227994228,
          0.00023088023088023088,
          0.00023376623376623377,
          0.00023665223665223664,
          0.00023953823953823953,
          0.00024242424242424242,
          0.0002453102453102453,
          0.0002481962481962482,
          0.0002510822510822511,
          0.00025396825396825396,
          0.0002568542568542568,
          0.00025974025974025974,
          0.0002626262626262626,
          0.0002655122655122655,
          0.0002683982683982684,
          0.00027128427128427125,
          0.00027417027417027417,
          0.00027705627705627703,
          0.00027994227994227995,
          0.0002828282828282828,
          0.0002857142857142857,
          0.0002886002886002886,
          0.00029148629148629146,
          0.0002943722943722944,
          0.00029725829725829725,
          0.0003001443001443001,
          0.00030303030303030303,
          0.0003059163059163059,
          0.0003088023088023088,
          0.0003116883116883117,
          0.00031457431457431454,
          0.00031746031746031746,
          0.0003203463203463203,
          0.00032323232323232324,
          0.0003261183261183261,
          0.00032900432900432897,
          0.0003318903318903319,
          0.00033477633477633475,
          0.00033766233766233767,
          0.00034054834054834054,
          0.0003434343434343434,
          0.0003463203463203463,
          0.0003492063492063492,
          0.0003520923520923521,
          0.00035497835497835497,
          0.00035786435786435783,
          0.00036075036075036075,
          0.0003636363636363636,
          0.00036652236652236653,
          0.0003694083694083694,
          0.00037229437229437226,
          0.0003751803751803752,
          0.00037806637806637804,
          0.00038095238095238096,
          0.00038383838383838383,
          0.0003867243867243867,
          0.0003896103896103896,
          0.0003924963924963925,
          0.0003953823953823954,
          0.00039826839826839826,
          0.0004011544011544011,
          0.00040404040404040404,
          0.0004069264069264069,
          0.0004098124098124098,
          0.0004126984126984127,
          0.00041558441558441555,
          0.00041847041847041847,
          0.00042135642135642133,
          0.00042424242424242425,
          0.0004271284271284271,
          0.00043001443001443,
          0.0004329004329004329,
          0.00043578643578643576,
          0.0004386724386724387,
          0.00044155844155844155,
          0.0004444444444444444,
          0.00044733044733044733,
          0.0004502164502164502,
          0.0004531024531024531,
          0.000455988455988456,
          0.00045887445887445884,
          0.00046176046176046176,
          0.0004646464646464646,
          0.00046753246753246754,
          0.0004704184704184704,
          0.00047330447330447327,
          0.0004761904761904762,
          0.00047907647907647905,
          0.000481962481962482,
          0.00048484848484848484,
          0.0004877344877344877,
          0.0004906204906204906,
          0.0004935064935064935,
          0.0004963924963924963,
          0.0004992784992784992,
          0.0005021645021645022,
          0.000505050505050505,
          0.0005079365079365079,
          0.0005108225108225108,
          0.0005137085137085136,
          0.0005165945165945166,
          0.0005194805194805195,
          0.0005223665223665223,
          0.0005252525252525252,
          0.0005281385281385281,
          0.000531024531024531,
          0.0005339105339105339,
          0.0005367965367965368,
          0.0005396825396825396,
          0.0005425685425685425,
          0.0005454545454545455,
          0.0005483405483405483,
          0.0005512265512265512,
          0.0005541125541125541
         ],
         "y": [
          7.3657397502934475e-25,
          10818.892334983117,
          11507.061610180173,
          2262.516119016098,
          57712.959091924124,
          2167.6893467106115,
          581.0539255457506,
          2428.2900784305853,
          104.00753605828174,
          35.880385637300755,
          351.09237417698995,
          328.6515218221529,
          3279.0655873169976,
          189.500340743903,
          9.267479914067252,
          219.07475375905315,
          220.3583811172301,
          7.131835303351768,
          38.74055500713342,
          167.227924880592,
          319.75266793245476,
          29.690348187010738,
          27.113218466727286,
          81.45839822482381,
          2.8610812728579367,
          26.250048588681555,
          14.406468731082814,
          17.12765451562358,
          28.357315611395105,
          0.3580455426296931,
          1.3402187625604152,
          4.028706432196645,
          8.530881426857437,
          0.4350665033061379,
          0.2786294546855195,
          18.756272954559996,
          1.3794641094774214,
          4.026641324877706,
          0.7558268401811045,
          1.0905900538131796,
          7.790308556486913,
          1.3904297240811117,
          3.651788590817325,
          4.039316722732616,
          0.05205555217226109,
          5.698050704418382,
          1.139237225927568,
          6.895848388220777,
          3.3706410818073897,
          3.566068134852605,
          0.7209297534416174,
          0.6066157945788232,
          1.4774874135734082,
          0.9382438233261093,
          1.054789579012701,
          1.4674575906762286,
          3.5671269660273586,
          0.7415803621232262,
          2.33400379825729,
          0.48353990203705005,
          1.3320718266461624,
          0.243679922331256,
          0.9301400805704099,
          3.269610456404893,
          1.2135741307995482,
          0.47103803431824937,
          0.2782211075095669,
          0.18464871049004075,
          1.233431634192871,
          1.5754618543280654,
          2.2324988643080914,
          1.9799365769191954,
          0.7562060081413488,
          1.4239426263334842,
          0.9082732029376356,
          0.41113352371135936,
          0.08955100284165989,
          2.869106780409019,
          0.36466420192648097,
          0.4837884654677243,
          0.5508003847478622,
          0.4273057556079178,
          2.2425520071346603,
          0.5540044888519575,
          0.9378735992576852,
          0.6961886470388502,
          0.2923616896685321,
          1.5704559600052586,
          0.3379603619555757,
          0.9306261938632615,
          0.21382429348798618,
          0.4309445193755411,
          0.1395768779887617,
          0.39718531924551065,
          0.19958001102808123,
          0.038275132010422375,
          0.3826810045270264,
          0.8951331708517236,
          0.033765435273406225,
          0.38203350998145214,
          0.14275368331985552,
          0.21688516397022867,
          0.1455134512917902,
          0.37615063531901466,
          0.01677651179685161,
          0.31840018109157636,
          0.17921837448014138,
          0.05622498210322614,
          0.1695599343925542,
          0.3608539631066219,
          0.21857486953168384,
          0.8179674309946593,
          0.18371939874446028,
          0.18818542945241465,
          0.12074805065242653,
          0.4216309375000018,
          0.04580290917356406,
          0.8010291658911901,
          0.045708936662442905,
          0.21347465186984374,
          0.5599093831138329,
          0.3340311413990798,
          0.36225379410267217,
          0.25815597344989827,
          0.19760713479642594,
          0.1435024172829438,
          0.12141705094645582,
          0.010770485305797562,
          0.009302221946033806,
          0.42502753704818985,
          0.0613972987491904,
          0.24714792466454094,
          0.1401830733703345,
          0.08722084214751469,
          0.18801678370230482,
          0.1736711428592765,
          0.009064067350238342,
          0.15638338195430768,
          0.1327647747529338,
          0.3035314458221408,
          0.3997124712504024,
          0.11101029253802845,
          0.08165604260829487,
          0.006895368654165907,
          0.060926645235389376,
          0.06519696292623792,
          0.01120903094277076,
          0.17394312443612786,
          0.0649702346973177,
          0.4170516748231315,
          0.0027652575220954772,
          0.04975244192249541,
          0.004538066841593113,
          0.024018075916618902,
          0.0633535572533841,
          0.16235914765889464,
          0.15318313054360183,
          0.0993024753854058,
          0.007050520713393585,
          0.016038237374665823,
          0.09431535463177283,
          0.2626189867046779,
          0.1290499038128092,
          0.09395340061330175,
          0.09877221610250561,
          0.04466431901280491,
          0.12176743568557234,
          0.04375886049556286,
          0.025336343400287717,
          0.055015810847435585,
          0.1329352465123634,
          0.031963204537060086,
          0.011515140564389039,
          0.12891675176063602,
          0.038011974886088054,
          0.01875581450368014,
          0.013088278334519629,
          0.033230480235121124,
          0.07373236585306646,
          0.10702982904253958,
          0.02714901342488232,
          0.027080801038549644,
          0.09616312731908416,
          0.02371107077309491,
          0.0892211510271596,
          0.10630382341901373,
          0.060141579136013534,
          0.02253156768206706,
          0.0031703210608602372,
          0.07631914884057031,
          0.0046404223372187095,
          0.08950664517881982,
          0.010910958323670504
         ]
        },
        {
         "mode": "lines",
         "name": "Window Detection",
         "type": "scatter",
         "x": [
          0,
          0.000002886002886002886,
          0.000005772005772005772,
          0.000008658008658008657,
          0.000011544011544011544,
          0.00001443001443001443,
          0.000017316017316017315,
          0.000020202020202020203,
          0.000023088023088023087,
          0.000025974025974025972,
          0.00002886002886002886,
          0.000031746031746031745,
          0.00003463203463203463,
          0.000037518037518037514,
          0.000040404040404040405,
          0.00004329004329004329,
          0.000046176046176046175,
          0.00004906204906204906,
          0.000051948051948051944,
          0.000054834054834054835,
          0.00005772005772005772,
          0.000060606060606060605,
          0.00006349206349206349,
          0.00006637806637806638,
          0.00006926406926406926,
          0.00007215007215007215,
          0.00007503607503607503,
          0.00007792207792207792,
          0.00008080808080808081,
          0.00008369408369408369,
          0.00008658008658008658,
          0.00008946608946608946,
          0.00009235209235209235,
          0.00009523809523809524,
          0.00009812409812409812,
          0.00010101010101010101,
          0.00010389610389610389,
          0.00010678210678210678,
          0.00010966810966810967,
          0.00011255411255411255,
          0.00011544011544011544,
          0.00011832611832611832,
          0.00012121212121212121,
          0.0001240981240981241,
          0.00012698412698412698,
          0.00012987012987012987,
          0.00013275613275613276,
          0.00013564213564213563,
          0.00013852813852813852,
          0.0001414141414141414,
          0.0001443001443001443,
          0.0001471861471861472,
          0.00015007215007215006,
          0.00015295815295815295,
          0.00015584415584415584,
          0.00015873015873015873,
          0.00016161616161616162,
          0.00016450216450216449,
          0.00016738816738816738,
          0.00017027417027417027,
          0.00017316017316017316,
          0.00017604617604617605,
          0.00017893217893217892,
          0.0001818181818181818,
          0.0001847041847041847,
          0.0001875901875901876,
          0.00019047619047619048,
          0.00019336219336219335,
          0.00019624819624819624,
          0.00019913419913419913,
          0.00020202020202020202,
          0.0002049062049062049,
          0.00020779220779220778,
          0.00021067821067821067,
          0.00021356421356421356,
          0.00021645021645021645,
          0.00021933621933621934,
          0.0002222222222222222,
          0.0002251082251082251,
          0.000227994227994228,
          0.00023088023088023088,
          0.00023376623376623377,
          0.00023665223665223664,
          0.00023953823953823953,
          0.00024242424242424242,
          0.0002453102453102453,
          0.0002481962481962482,
          0.0002510822510822511,
          0.00025396825396825396,
          0.0002568542568542568,
          0.00025974025974025974,
          0.0002626262626262626,
          0.0002655122655122655,
          0.0002683982683982684,
          0.00027128427128427125,
          0.00027417027417027417,
          0.00027705627705627703,
          0.00027994227994227995,
          0.0002828282828282828,
          0.0002857142857142857,
          0.0002886002886002886,
          0.00029148629148629146,
          0.0002943722943722944,
          0.00029725829725829725,
          0.0003001443001443001,
          0.00030303030303030303,
          0.0003059163059163059,
          0.0003088023088023088,
          0.0003116883116883117,
          0.00031457431457431454,
          0.00031746031746031746,
          0.0003203463203463203,
          0.00032323232323232324,
          0.0003261183261183261,
          0.00032900432900432897,
          0.0003318903318903319,
          0.00033477633477633475,
          0.00033766233766233767,
          0.00034054834054834054,
          0.0003434343434343434,
          0.0003463203463203463,
          0.0003492063492063492,
          0.0003520923520923521,
          0.00035497835497835497,
          0.00035786435786435783,
          0.00036075036075036075,
          0.0003636363636363636,
          0.00036652236652236653,
          0.0003694083694083694,
          0.00037229437229437226,
          0.0003751803751803752,
          0.00037806637806637804,
          0.00038095238095238096,
          0.00038383838383838383,
          0.0003867243867243867,
          0.0003896103896103896,
          0.0003924963924963925,
          0.0003953823953823954,
          0.00039826839826839826,
          0.0004011544011544011,
          0.00040404040404040404,
          0.0004069264069264069,
          0.0004098124098124098,
          0.0004126984126984127,
          0.00041558441558441555,
          0.00041847041847041847,
          0.00042135642135642133,
          0.00042424242424242425,
          0.0004271284271284271,
          0.00043001443001443,
          0.0004329004329004329,
          0.00043578643578643576,
          0.0004386724386724387,
          0.00044155844155844155,
          0.0004444444444444444,
          0.00044733044733044733,
          0.0004502164502164502,
          0.0004531024531024531,
          0.000455988455988456,
          0.00045887445887445884,
          0.00046176046176046176,
          0.0004646464646464646,
          0.00046753246753246754,
          0.0004704184704184704,
          0.00047330447330447327,
          0.0004761904761904762,
          0.00047907647907647905,
          0.000481962481962482,
          0.00048484848484848484,
          0.0004877344877344877,
          0.0004906204906204906,
          0.0004935064935064935,
          0.0004963924963924963,
          0.0004992784992784992,
          0.0005021645021645022,
          0.000505050505050505,
          0.0005079365079365079,
          0.0005108225108225108,
          0.0005137085137085136,
          0.0005165945165945166,
          0.0005194805194805195,
          0.0005223665223665223,
          0.0005252525252525252,
          0.0005281385281385281,
          0.000531024531024531,
          0.0005339105339105339,
          0.0005367965367965368,
          0.0005396825396825396,
          0.0005425685425685425,
          0.0005454545454545455,
          0.0005483405483405483,
          0.0005512265512265512,
          0.0005541125541125541
         ],
         "y": [
          1.4937132465093966e-28,
          88.15734856748685,
          456.29831086301607,
          567.2012099276366,
          5089.016626307337,
          46.83297784739051,
          115.23611534491481,
          440.9438041933494,
          4.312768056137149,
          34.62047901398505,
          168.29355291825917,
          202.34843399047855,
          2459.2551165571313,
          216.5742873708703,
          23.3067962901192,
          293.31137467467846,
          298.36249253489,
          19.357723715712858,
          46.40625326755019,
          320.8459690422306,
          700.0605929553233,
          68.82824047112709,
          57.0836751472928,
          284.0172963037119,
          3.3448292336396825,
          102.01187803939561,
          36.53459349633561,
          85.23115946326712,
          146.76577603324048,
          4.407657665209096,
          11.393987320954553,
          28.626140597932014,
          60.13490201632563,
          4.863459637219753,
          5.546241798319308,
          143.12487533053167,
          13.945826724803538,
          18.396245845672432,
          4.499372075827651,
          15.487290390253944,
          73.44778915550665,
          5.775109002977719,
          37.91908989687568,
          29.365279638973426,
          2.849681234559634,
          53.10181835861098,
          8.459599637273625,
          88.4999904562582,
          35.017622711466196,
          44.70903984608136,
          13.663802357313012,
          12.22313131553411,
          26.43789261764457,
          17.774567439885114,
          7.756778320616087,
          20.606956025063656,
          47.54126135032318,
          13.387745488378512,
          40.87002613183213,
          10.741894882672776,
          13.853284656628537,
          6.770924573252138,
          8.690660347809663,
          42.477776547381936,
          26.54009439346871,
          12.572805994970416,
          8.100085721234144,
          3.1161660983867185,
          20.095988126968063,
          30.2713488711635,
          39.959768663294895,
          37.82904263273202,
          13.3190766622246,
          34.69648500752981,
          11.957885817332226,
          13.009301212806665,
          4.004171276744297,
          68.40917548552719,
          7.1018014578727735,
          14.626943258415752,
          9.41230011393765,
          9.732928572827683,
          36.51790515696022,
          16.242696611624233,
          15.256041284823104,
          18.320706623695283,
          5.872200174142746,
          33.73251573259231,
          4.001769955606298,
          25.138396622577726,
          3.2307649072221514,
          12.132907072652046,
          4.489201142138847,
          6.018338810389035,
          7.509123871865346,
          0.4185560766465047,
          4.785846580379178,
          22.01571549806395,
          0.9716486452899692,
          8.565636196356454,
          4.278842147629053,
          3.90454478439053,
          3.602159416590068,
          9.62255735213587,
          1.537697500075313,
          5.539998462385432,
          5.744866076310434,
          0.4833961092425002,
          1.5466051375356213,
          8.628008690594541,
          3.9386645439896846,
          15.237729434019283,
          1.7123065224409362,
          1.9675765390951083,
          3.7078498252188576,
          8.518502497613017,
          2.4176871754482545,
          15.337453587026797,
          2.2158463468901464,
          2.0865130630474593,
          7.056043858643845,
          4.452119773217888,
          6.917358345756227,
          2.9263246273285373,
          4.289541509104948,
          2.234079579873988,
          1.9609442015797036,
          0.5649490308558391,
          0.046174158458293035,
          6.034702990028948,
          2.049204541469266,
          2.730450583850133,
          1.0873840972126545,
          2.4166921442919214,
          1.306771783726803,
          3.006563893707119,
          0.6484213118153461,
          1.0867544428689762,
          0.7304198793611657,
          2.2799981095005446,
          4.401959892193006,
          1.6969351710181049,
          1.4071785825164431,
          0.04738625221500499,
          0.5809486203402188,
          0.33873697783920786,
          0.08928599182206595,
          1.4827818184917665,
          1.1234007012188985,
          2.3988097117667078,
          0.3643901557264315,
          0.08662712567695201,
          0.3445403573597664,
          0.000253548179431675,
          1.1008163892628573,
          0.526282944462834,
          1.4483107804576876,
          0.49832481255872196,
          0.07400538534400283,
          0.3055215210618263,
          0.4044006925016413,
          0.5825400735046224,
          1.147158899006992,
          0.09090964639671043,
          0.13974937187366618,
          0.0017764093405553624,
          0.44624810466763615,
          0.11877501185132414,
          0.2042711164013964,
          0.10865397060510025,
          0.294966799174839,
          0.11681438542967902,
          0.0712211226893754,
          0.06268280966099578,
          0.43208649310072295,
          0.0804862094111547,
          0.07447618777587114,
          0.3518244675751024,
          0.012290423667939978,
          0.07373505112750123,
          0.2698879567295439,
          0.05760419799455954,
          0.07056315918633813,
          0.2084542422232741,
          0.11951555717999719,
          0.04685122579950748,
          0.19623984368937314,
          0.10886026109843737,
          0.1336699269465473,
          0.1854106487510728,
          0.13201791929152715,
          0.14050324684233995,
          0.13722762717629666
         ]
        }
       ],
       "layout": {
        "template": {
         "data": {
          "bar": [
           {
            "error_x": {
             "color": "#2a3f5f"
            },
            "error_y": {
             "color": "#2a3f5f"
            },
            "marker": {
             "line": {
              "color": "#E5ECF6",
              "width": 0.5
             },
             "pattern": {
              "fillmode": "overlay",
              "size": 10,
              "solidity": 0.2
             }
            },
            "type": "bar"
           }
          ],
          "barpolar": [
           {
            "marker": {
             "line": {
              "color": "#E5ECF6",
              "width": 0.5
             },
             "pattern": {
              "fillmode": "overlay",
              "size": 10,
              "solidity": 0.2
             }
            },
            "type": "barpolar"
           }
          ],
          "carpet": [
           {
            "aaxis": {
             "endlinecolor": "#2a3f5f",
             "gridcolor": "white",
             "linecolor": "white",
             "minorgridcolor": "white",
             "startlinecolor": "#2a3f5f"
            },
            "baxis": {
             "endlinecolor": "#2a3f5f",
             "gridcolor": "white",
             "linecolor": "white",
             "minorgridcolor": "white",
             "startlinecolor": "#2a3f5f"
            },
            "type": "carpet"
           }
          ],
          "choropleth": [
           {
            "colorbar": {
             "outlinewidth": 0,
             "ticks": ""
            },
            "type": "choropleth"
           }
          ],
          "contour": [
           {
            "colorbar": {
             "outlinewidth": 0,
             "ticks": ""
            },
            "colorscale": [
             [
              0,
              "#0d0887"
             ],
             [
              0.1111111111111111,
              "#46039f"
             ],
             [
              0.2222222222222222,
              "#7201a8"
             ],
             [
              0.3333333333333333,
              "#9c179e"
             ],
             [
              0.4444444444444444,
              "#bd3786"
             ],
             [
              0.5555555555555556,
              "#d8576b"
             ],
             [
              0.6666666666666666,
              "#ed7953"
             ],
             [
              0.7777777777777778,
              "#fb9f3a"
             ],
             [
              0.8888888888888888,
              "#fdca26"
             ],
             [
              1,
              "#f0f921"
             ]
            ],
            "type": "contour"
           }
          ],
          "contourcarpet": [
           {
            "colorbar": {
             "outlinewidth": 0,
             "ticks": ""
            },
            "type": "contourcarpet"
           }
          ],
          "heatmap": [
           {
            "colorbar": {
             "outlinewidth": 0,
             "ticks": ""
            },
            "colorscale": [
             [
              0,
              "#0d0887"
             ],
             [
              0.1111111111111111,
              "#46039f"
             ],
             [
              0.2222222222222222,
              "#7201a8"
             ],
             [
              0.3333333333333333,
              "#9c179e"
             ],
             [
              0.4444444444444444,
              "#bd3786"
             ],
             [
              0.5555555555555556,
              "#d8576b"
             ],
             [
              0.6666666666666666,
              "#ed7953"
             ],
             [
              0.7777777777777778,
              "#fb9f3a"
             ],
             [
              0.8888888888888888,
              "#fdca26"
             ],
             [
              1,
              "#f0f921"
             ]
            ],
            "type": "heatmap"
           }
          ],
          "heatmapgl": [
           {
            "colorbar": {
             "outlinewidth": 0,
             "ticks": ""
            },
            "colorscale": [
             [
              0,
              "#0d0887"
             ],
             [
              0.1111111111111111,
              "#46039f"
             ],
             [
              0.2222222222222222,
              "#7201a8"
             ],
             [
              0.3333333333333333,
              "#9c179e"
             ],
             [
              0.4444444444444444,
              "#bd3786"
             ],
             [
              0.5555555555555556,
              "#d8576b"
             ],
             [
              0.6666666666666666,
              "#ed7953"
             ],
             [
              0.7777777777777778,
              "#fb9f3a"
             ],
             [
              0.8888888888888888,
              "#fdca26"
             ],
             [
              1,
              "#f0f921"
             ]
            ],
            "type": "heatmapgl"
           }
          ],
          "histogram": [
           {
            "marker": {
             "pattern": {
              "fillmode": "overlay",
              "size": 10,
              "solidity": 0.2
             }
            },
            "type": "histogram"
           }
          ],
          "histogram2d": [
           {
            "colorbar": {
             "outlinewidth": 0,
             "ticks": ""
            },
            "colorscale": [
             [
              0,
              "#0d0887"
             ],
             [
              0.1111111111111111,
              "#46039f"
             ],
             [
              0.2222222222222222,
              "#7201a8"
             ],
             [
              0.3333333333333333,
              "#9c179e"
             ],
             [
              0.4444444444444444,
              "#bd3786"
             ],
             [
              0.5555555555555556,
              "#d8576b"
             ],
             [
              0.6666666666666666,
              "#ed7953"
             ],
             [
              0.7777777777777778,
              "#fb9f3a"
             ],
             [
              0.8888888888888888,
              "#fdca26"
             ],
             [
              1,
              "#f0f921"
             ]
            ],
            "type": "histogram2d"
           }
          ],
          "histogram2dcontour": [
           {
            "colorbar": {
             "outlinewidth": 0,
             "ticks": ""
            },
            "colorscale": [
             [
              0,
              "#0d0887"
             ],
             [
              0.1111111111111111,
              "#46039f"
             ],
             [
              0.2222222222222222,
              "#7201a8"
             ],
             [
              0.3333333333333333,
              "#9c179e"
             ],
             [
              0.4444444444444444,
              "#bd3786"
             ],
             [
              0.5555555555555556,
              "#d8576b"
             ],
             [
              0.6666666666666666,
              "#ed7953"
             ],
             [
              0.7777777777777778,
              "#fb9f3a"
             ],
             [
              0.8888888888888888,
              "#fdca26"
             ],
             [
              1,
              "#f0f921"
             ]
            ],
            "type": "histogram2dcontour"
           }
          ],
          "mesh3d": [
           {
            "colorbar": {
             "outlinewidth": 0,
             "ticks": ""
            },
            "type": "mesh3d"
           }
          ],
          "parcoords": [
           {
            "line": {
             "colorbar": {
              "outlinewidth": 0,
              "ticks": ""
             }
            },
            "type": "parcoords"
           }
          ],
          "pie": [
           {
            "automargin": true,
            "type": "pie"
           }
          ],
          "scatter": [
           {
            "fillpattern": {
             "fillmode": "overlay",
             "size": 10,
             "solidity": 0.2
            },
            "type": "scatter"
           }
          ],
          "scatter3d": [
           {
            "line": {
             "colorbar": {
              "outlinewidth": 0,
              "ticks": ""
             }
            },
            "marker": {
             "colorbar": {
              "outlinewidth": 0,
              "ticks": ""
             }
            },
            "type": "scatter3d"
           }
          ],
          "scattercarpet": [
           {
            "marker": {
             "colorbar": {
              "outlinewidth": 0,
              "ticks": ""
             }
            },
            "type": "scattercarpet"
           }
          ],
          "scattergeo": [
           {
            "marker": {
             "colorbar": {
              "outlinewidth": 0,
              "ticks": ""
             }
            },
            "type": "scattergeo"
           }
          ],
          "scattergl": [
           {
            "marker": {
             "colorbar": {
              "outlinewidth": 0,
              "ticks": ""
             }
            },
            "type": "scattergl"
           }
          ],
          "scattermapbox": [
           {
            "marker": {
             "colorbar": {
              "outlinewidth": 0,
              "ticks": ""
             }
            },
            "type": "scattermapbox"
           }
          ],
          "scatterpolar": [
           {
            "marker": {
             "colorbar": {
              "outlinewidth": 0,
              "ticks": ""
             }
            },
            "type": "scatterpolar"
           }
          ],
          "scatterpolargl": [
           {
            "marker": {
             "colorbar": {
              "outlinewidth": 0,
              "ticks": ""
             }
            },
            "type": "scatterpolargl"
           }
          ],
          "scatterternary": [
           {
            "marker": {
             "colorbar": {
              "outlinewidth": 0,
              "ticks": ""
             }
            },
            "type": "scatterternary"
           }
          ],
          "surface": [
           {
            "colorbar": {
             "outlinewidth": 0,
             "ticks": ""
            },
            "colorscale": [
             [
              0,
              "#0d0887"
             ],
             [
              0.1111111111111111,
              "#46039f"
             ],
             [
              0.2222222222222222,
              "#7201a8"
             ],
             [
              0.3333333333333333,
              "#9c179e"
             ],
             [
              0.4444444444444444,
              "#bd3786"
             ],
             [
              0.5555555555555556,
              "#d8576b"
             ],
             [
              0.6666666666666666,
              "#ed7953"
             ],
             [
              0.7777777777777778,
              "#fb9f3a"
             ],
             [
              0.8888888888888888,
              "#fdca26"
             ],
             [
              1,
              "#f0f921"
             ]
            ],
            "type": "surface"
           }
          ],
          "table": [
           {
            "cells": {
             "fill": {
              "color": "#EBF0F8"
             },
             "line": {
              "color": "white"
             }
            },
            "header": {
             "fill": {
              "color": "#C8D4E3"
             },
             "line": {
              "color": "white"
             }
            },
            "type": "table"
           }
          ]
         },
         "layout": {
          "annotationdefaults": {
           "arrowcolor": "#2a3f5f",
           "arrowhead": 0,
           "arrowwidth": 1
          },
          "autotypenumbers": "strict",
          "coloraxis": {
           "colorbar": {
            "outlinewidth": 0,
            "ticks": ""
           }
          },
          "colorscale": {
           "diverging": [
            [
             0,
             "#8e0152"
            ],
            [
             0.1,
             "#c51b7d"
            ],
            [
             0.2,
             "#de77ae"
            ],
            [
             0.3,
             "#f1b6da"
            ],
            [
             0.4,
             "#fde0ef"
            ],
            [
             0.5,
             "#f7f7f7"
            ],
            [
             0.6,
             "#e6f5d0"
            ],
            [
             0.7,
             "#b8e186"
            ],
            [
             0.8,
             "#7fbc41"
            ],
            [
             0.9,
             "#4d9221"
            ],
            [
             1,
             "#276419"
            ]
           ],
           "sequential": [
            [
             0,
             "#0d0887"
            ],
            [
             0.1111111111111111,
             "#46039f"
            ],
            [
             0.2222222222222222,
             "#7201a8"
            ],
            [
             0.3333333333333333,
             "#9c179e"
            ],
            [
             0.4444444444444444,
             "#bd3786"
            ],
            [
             0.5555555555555556,
             "#d8576b"
            ],
            [
             0.6666666666666666,
             "#ed7953"
            ],
            [
             0.7777777777777778,
             "#fb9f3a"
            ],
            [
             0.8888888888888888,
             "#fdca26"
            ],
            [
             1,
             "#f0f921"
            ]
           ],
           "sequentialminus": [
            [
             0,
             "#0d0887"
            ],
            [
             0.1111111111111111,
             "#46039f"
            ],
            [
             0.2222222222222222,
             "#7201a8"
            ],
            [
             0.3333333333333333,
             "#9c179e"
            ],
            [
             0.4444444444444444,
             "#bd3786"
            ],
            [
             0.5555555555555556,
             "#d8576b"
            ],
            [
             0.6666666666666666,
             "#ed7953"
            ],
            [
             0.7777777777777778,
             "#fb9f3a"
            ],
            [
             0.8888888888888888,
             "#fdca26"
            ],
            [
             1,
             "#f0f921"
            ]
           ]
          },
          "colorway": [
           "#636efa",
           "#EF553B",
           "#00cc96",
           "#ab63fa",
           "#FFA15A",
           "#19d3f3",
           "#FF6692",
           "#B6E880",
           "#FF97FF",
           "#FECB52"
          ],
          "font": {
           "color": "#2a3f5f"
          },
          "geo": {
           "bgcolor": "white",
           "lakecolor": "white",
           "landcolor": "#E5ECF6",
           "showlakes": true,
           "showland": true,
           "subunitcolor": "white"
          },
          "hoverlabel": {
           "align": "left"
          },
          "hovermode": "closest",
          "mapbox": {
           "style": "light"
          },
          "paper_bgcolor": "white",
          "plot_bgcolor": "#E5ECF6",
          "polar": {
           "angularaxis": {
            "gridcolor": "white",
            "linecolor": "white",
            "ticks": ""
           },
           "bgcolor": "#E5ECF6",
           "radialaxis": {
            "gridcolor": "white",
            "linecolor": "white",
            "ticks": ""
           }
          },
          "scene": {
           "xaxis": {
            "backgroundcolor": "#E5ECF6",
            "gridcolor": "white",
            "gridwidth": 2,
            "linecolor": "white",
            "showbackground": true,
            "ticks": "",
            "zerolinecolor": "white"
           },
           "yaxis": {
            "backgroundcolor": "#E5ECF6",
            "gridcolor": "white",
            "gridwidth": 2,
            "linecolor": "white",
            "showbackground": true,
            "ticks": "",
            "zerolinecolor": "white"
           },
           "zaxis": {
            "backgroundcolor": "#E5ECF6",
            "gridcolor": "white",
            "gridwidth": 2,
            "linecolor": "white",
            "showbackground": true,
            "ticks": "",
            "zerolinecolor": "white"
           }
          },
          "shapedefaults": {
           "line": {
            "color": "#2a3f5f"
           }
          },
          "ternary": {
           "aaxis": {
            "gridcolor": "white",
            "linecolor": "white",
            "ticks": ""
           },
           "baxis": {
            "gridcolor": "white",
            "linecolor": "white",
            "ticks": ""
           },
           "bgcolor": "#E5ECF6",
           "caxis": {
            "gridcolor": "white",
            "linecolor": "white",
            "ticks": ""
           }
          },
          "title": {
           "x": 0.05
          },
          "xaxis": {
           "automargin": true,
           "gridcolor": "white",
           "linecolor": "white",
           "ticks": "",
           "title": {
            "standoff": 15
           },
           "zerolinecolor": "white",
           "zerolinewidth": 2
          },
          "yaxis": {
           "automargin": true,
           "gridcolor": "white",
           "linecolor": "white",
           "ticks": "",
           "title": {
            "standoff": 15
           },
           "zerolinecolor": "white",
           "zerolinewidth": 2
          }
         }
        }
       }
      }
     },
     "metadata": {},
     "output_type": "display_data"
    }
   ],
   "source": [
    "fig = go.Figure()\n",
    "\n",
    "fig.add_trace(go.Scatter(\n",
    "    x=f_temp,\n",
    "    y=psd_temp, \n",
    "    name=\"Indoor Temperature \",\n",
    "    mode='lines',\n",
    "))\n",
    "\n",
    "# fig.update_yaxes(type=\"log\")\n",
    "\n",
    "\n",
    "fig.add_trace(go.Scatter(\n",
    "    x=f_ddt,\n",
    "    y=psd_ddt, \n",
    "    name=\"Window Detection\",\n",
    "    mode='lines',\n",
    "))"
   ]
  },
  {
   "cell_type": "code",
   "execution_count": 112,
   "metadata": {},
   "outputs": [
    {
     "name": "stdout",
     "output_type": "stream",
     "text": [
      "[1.15440115e-05 3.46320346e-05 5.77200577e-05 8.65800866e-06\n",
      " 5.77200577e-06]\n"
     ]
    },
    {
     "data": {
      "text/plain": [
       "array([ 4, 12, 20,  3,  2,  7, 19, 16, 15, 23])"
      ]
     },
     "execution_count": 112,
     "metadata": {},
     "output_type": "execute_result"
    }
   ],
   "source": [
    "psd_ddt_sort_ix = np.argsort(psd_ddt)[::-1]\n",
    "f_ddt_sort = f_ddt[psd_ddt_sort_ix]\n",
    "print(f_ddt_sort[0:5])\n",
    "\n",
    "psd_ddt_sort_ix[0:10]"
   ]
  },
  {
   "cell_type": "code",
   "execution_count": 169,
   "metadata": {},
   "outputs": [
    {
     "name": "stdout",
     "output_type": "stream",
     "text": [
      "86625.0 86400.0 87300.0 1.1574074074074073e-05\n"
     ]
    }
   ],
   "source": [
    "big_peak = 1/f_ddt_sort[0]\n",
    "\n",
    "inter_sample_time # 15 mins \n",
    "day_length = inter_sample_time* 4 * 24\n",
    "day_length_freq = 1/ day_length\n",
    "day_length_2 = (inter_sample_time* 4 * 24 ) + 900\n",
    "\n",
    "print(big_peak, day_length, day_length_2, day_length_freq )"
   ]
  },
  {
   "cell_type": "code",
   "execution_count": 198,
   "metadata": {},
   "outputs": [
    {
     "data": {
      "image/png": "[encoded data removed]",
      "text/plain": [
       "<Figure size 640x480 with 1 Axes>"
      ]
     },
     "metadata": {},
     "output_type": "display_data"
    }
   ],
   "source": [
    "b, a = scipy.signal.cheby2(3, 5,  day_length_freq / nyquist_freq, btype='high')\n",
    "\n",
    "# Get frequency response curve\n",
    "w, hf = scipy.signal.freqz(b, a, worN=2000)\n",
    "\n",
    "# Make plot\n",
    "plt.semilogx((nyquist_freq / np.pi) * w, abs(hf))\n",
    "plt.xlabel('freq. (Hz)')\n",
    "plt.ylabel('response')\n",
    "plt.margins(0.02)"
   ]
  },
  {
   "cell_type": "code",
   "execution_count": 357,
   "metadata": {},
   "outputs": [
    {
     "data": {
      "image/png": "[encoded data removed]",
      "text/plain": [
       "<Figure size 640x480 with 1 Axes>"
      ]
     },
     "metadata": {},
     "output_type": "display_data"
    }
   ],
   "source": [
    "nyquist_freq = sampling_freq / 2\n",
    "nyquist_freq\n",
    "\n",
    "\n",
    "# Design a butterworth filter\n",
    "b, a = scipy.signal.butter(5, 4.5e-4/ nyquist_freq, btype='low')\n",
    "\n",
    "# b2, a2 = scipy.signal.cheby1(3, 1.16e-5 / nyquist_freq, btype='high')\n",
    "\n",
    "# Get frequency response curve\n",
    "w, hf = scipy.signal.freqz(b, a, worN=2000)\n",
    "\n",
    "# Make plot\n",
    "plt.semilogx((nyquist_freq / np.pi) * w, abs(hf))\n",
    "plt.xlabel('freq. (Hz)')\n",
    "plt.ylabel('response')\n",
    "plt.margins(0.02)"
   ]
  },
  {
   "cell_type": "code",
   "execution_count": 358,
   "metadata": {},
   "outputs": [
    {
     "data": {
      "application/vnd.plotly.v1+json": {
       "config": {
        "plotlyServerURL": "https://plotly.com"
       },
       "data": [
        {
         "mode": "lines",
         "name": "Window",
         "type": "scatter",
         "x": [
          0,
          900,
          1800,
          2700,
          3600,
          4500,
          5400,
          6300,
          7200,
          8100.000000000001,
          9000,
          9900,
          10800,
          11700,
          12600,
          13500,
          14400,
          15300.000000000002,
          16200.000000000002,
          17100,
          18000,
          18900,
          19800,
          20700,
          21600,
          22500,
          23400,
          24300,
          25200,
          26100,
          27000,
          27900,
          28800,
          29700.000000000004,
          30600.000000000004,
          31500.000000000004,
          32400.000000000004,
          33300,
          34200,
          35100,
          36000,
          36900,
          37800,
          38700,
          39600,
          40500,
          41400,
          42300,
          43200,
          44100,
          45000,
          45900,
          46800,
          47700,
          48600,
          49500,
          50400,
          51300,
          52200,
          53100,
          54000,
          54900,
          55800,
          56700,
          57600,
          58500.00000000001,
          59400.00000000001,
          60300.00000000001,
          61200.00000000001,
          62100.00000000001,
          63000.00000000001,
          63900.00000000001,
          64800.00000000001,
          65700,
          66600,
          67500,
          68400,
          69300,
          70200,
          71100,
          72000,
          72900,
          73800,
          74700,
          75600,
          76500,
          77400,
          78300,
          79200,
          80100,
          81000,
          81900,
          82800,
          83700,
          84600,
          85500,
          86400,
          87300,
          88200,
          89100,
          90000,
          90900,
          91800,
          92700,
          93600,
          94500,
          95400,
          96300,
          97200,
          98100,
          99000,
          99900,
          100800,
          101700,
          102600,
          103500,
          104400,
          105300,
          106200,
          107100,
          108000,
          108900,
          109800,
          110700,
          111600,
          112500,
          113400,
          114300,
          115200,
          116100,
          117000.00000000001,
          117900.00000000001,
          118800.00000000001,
          119700.00000000001,
          120600.00000000001,
          121500.00000000001,
          122400.00000000001,
          123300.00000000001,
          124200.00000000001,
          125100.00000000001,
          126000.00000000001,
          126900.00000000001,
          127800.00000000001,
          128700.00000000001,
          129600.00000000001,
          130500.00000000001,
          131400,
          132300,
          133200,
          134100,
          135000,
          135900,
          136800,
          137700,
          138600,
          139500,
          140400,
          141300,
          142200,
          143100,
          144000,
          144900,
          145800,
          146700,
          147600,
          148500,
          149400,
          150300,
          151200,
          152100,
          153000,
          153900,
          154800,
          155700,
          156600,
          157500,
          158400,
          159300,
          160200,
          161100,
          162000,
          162900,
          163800,
          164700,
          165600,
          166500,
          167400,
          168300,
          169200,
          170100,
          171000,
          171900,
          172800,
          173700,
          174600,
          175500,
          176400,
          177300,
          178200,
          179100,
          180000,
          180900,
          181800,
          182700,
          183600,
          184500,
          185400,
          186300,
          187200,
          188100,
          189000,
          189900,
          190800,
          191700,
          192600,
          193500,
          194400,
          195300,
          196200,
          197100,
          198000,
          198900,
          199800,
          200700,
          201600,
          202500,
          203400,
          204300,
          205200,
          206100,
          207000,
          207900,
          208800,
          209700,
          210600,
          211500,
          212400,
          213300,
          214200,
          215100,
          216000,
          216900,
          217800,
          218700,
          219600,
          220500,
          221400,
          222300,
          223200,
          224100,
          225000,
          225900,
          226800,
          227700,
          228600,
          229500,
          230400,
          231300,
          232200,
          233100,
          234000.00000000003,
          234900.00000000003,
          235800.00000000003,
          236700.00000000003,
          237600.00000000003,
          238500.00000000003,
          239400.00000000003,
          240300.00000000003,
          241200.00000000003,
          242100.00000000003,
          243000.00000000003,
          243900.00000000003,
          244800.00000000003,
          245700.00000000003,
          246600.00000000003,
          247500.00000000003,
          248400.00000000003,
          249300.00000000003,
          250200.00000000003,
          251100.00000000003,
          252000.00000000003,
          252900.00000000003,
          253800.00000000003,
          254700.00000000003,
          255600.00000000003,
          256500.00000000003,
          257400.00000000003,
          258300.00000000003,
          259200.00000000003,
          260100.00000000003,
          261000.00000000003,
          261900.00000000003,
          262800,
          263700,
          264600,
          265500,
          266400,
          267300,
          268200,
          269100,
          270000,
          270900,
          271800,
          272700,
          273600,
          274500,
          275400,
          276300,
          277200,
          278100,
          279000,
          279900,
          280800,
          281700,
          282600,
          283500,
          284400,
          285300,
          286200,
          287100,
          288000,
          288900,
          289800,
          290700,
          291600,
          292500,
          293400,
          294300,
          295200,
          296100,
          297000,
          297900,
          298800,
          299700,
          300600,
          301500,
          302400,
          303300,
          304200,
          305100,
          306000,
          306900,
          307800,
          308700,
          309600,
          310500,
          311400,
          312300,
          313200,
          314100,
          315000,
          315900,
          316800,
          317700,
          318600,
          319500,
          320400,
          321300,
          322200,
          323100,
          324000,
          324900,
          325800,
          326700,
          327600,
          328500,
          329400,
          330300,
          331200,
          332100,
          333000,
          333900,
          334800,
          335700,
          336600,
          337500,
          338400,
          339300,
          340200,
          341100,
          342000,
          342900,
          343800,
          344700,
          345600
         ],
         "y": [
          0,
          0,
          1,
          1,
          1,
          1,
          1,
          1,
          1,
          1,
          1,
          1,
          1,
          1,
          1,
          1,
          1,
          1,
          1,
          1,
          1,
          0,
          0,
          0,
          0,
          0,
          0,
          0,
          0,
          0,
          0,
          0,
          0,
          0,
          0,
          0,
          0,
          0,
          0,
          0,
          0,
          0,
          0,
          0,
          0,
          0,
          0,
          0,
          0,
          0,
          0,
          0,
          0,
          0,
          0,
          0,
          0,
          0,
          0,
          0,
          0,
          1,
          1,
          1,
          1,
          1,
          1,
          1,
          1,
          1,
          1,
          1,
          1,
          1,
          1,
          1,
          1,
          1,
          1,
          1,
          1,
          1,
          1,
          1,
          1,
          1,
          1,
          1,
          1,
          1,
          1,
          1,
          1,
          1,
          1,
          1,
          1,
          1,
          1,
          1,
          1,
          1,
          1,
          1,
          1,
          1,
          1,
          1,
          1,
          1,
          1,
          1,
          1,
          1,
          1,
          1,
          1,
          1,
          1,
          1,
          0,
          0,
          0,
          0,
          0,
          0,
          0,
          1,
          1,
          1,
          1,
          1,
          1,
          1,
          1,
          1,
          1,
          0,
          0,
          0,
          0,
          0,
          0,
          0,
          0,
          0,
          0,
          0,
          0,
          0,
          0,
          0,
          0,
          0,
          0,
          0,
          0,
          0,
          1,
          1,
          1,
          1,
          1,
          1,
          1,
          1,
          1,
          1,
          1,
          1,
          1,
          1,
          1,
          1,
          1,
          1,
          1,
          1,
          1,
          1,
          1,
          1,
          1,
          1,
          1,
          1,
          1,
          1,
          1,
          1,
          1,
          1,
          1,
          1,
          0,
          0,
          0,
          0,
          0,
          0,
          0,
          0,
          0,
          0,
          0,
          0,
          0,
          0,
          1,
          1,
          1,
          1,
          1,
          1,
          1,
          1,
          1,
          1,
          1,
          1,
          1,
          1,
          1,
          1,
          1,
          1,
          1,
          0,
          0,
          0,
          0,
          0,
          0,
          0,
          0,
          0,
          0,
          0,
          0,
          0,
          0,
          0,
          0,
          0,
          0,
          0,
          0,
          0,
          0,
          0,
          0,
          0,
          0,
          0,
          0,
          1,
          1,
          1,
          1,
          1,
          1,
          1,
          1,
          1,
          1,
          1,
          1,
          1,
          1,
          1,
          1,
          1,
          1,
          1,
          1,
          1,
          1,
          1,
          1,
          1,
          1,
          1,
          1,
          1,
          1,
          1,
          1,
          1,
          1,
          1,
          1,
          1,
          1,
          1,
          1,
          1,
          1,
          1,
          1,
          1,
          1,
          1,
          1,
          1,
          1,
          1,
          1,
          1,
          1,
          1,
          1,
          1,
          1,
          1,
          1,
          1,
          1,
          1,
          1,
          1,
          1,
          1,
          1,
          1,
          1,
          1,
          1,
          1,
          1,
          1,
          1,
          1,
          1,
          1,
          1,
          1,
          1,
          1,
          0,
          0,
          0,
          0,
          0,
          0,
          0,
          0,
          0,
          0,
          0,
          0,
          0,
          0,
          0,
          0,
          0,
          0,
          0,
          0,
          0,
          0,
          0,
          0,
          0,
          0,
          0,
          0,
          0,
          0,
          0,
          0,
          0,
          0,
          0,
          0,
          0,
          0,
          0,
          0,
          0,
          0,
          0,
          0,
          0,
          0,
          0
         ]
        },
        {
         "mode": "lines",
         "name": "temp",
         "type": "scatter",
         "x": [
          0,
          900,
          1800,
          2700,
          3600,
          4500,
          5400,
          6300,
          7200,
          8100.000000000001,
          9000,
          9900,
          10800,
          11700,
          12600,
          13500,
          14400,
          15300.000000000002,
          16200.000000000002,
          17100,
          18000,
          18900,
          19800,
          20700,
          21600,
          22500,
          23400,
          24300,
          25200,
          26100,
          27000,
          27900,
          28800,
          29700.000000000004,
          30600.000000000004,
          31500.000000000004,
          32400.000000000004,
          33300,
          34200,
          35100,
          36000,
          36900,
          37800,
          38700,
          39600,
          40500,
          41400,
          42300,
          43200,
          44100,
          45000,
          45900,
          46800,
          47700,
          48600,
          49500,
          50400,
          51300,
          52200,
          53100,
          54000,
          54900,
          55800,
          56700,
          57600,
          58500.00000000001,
          59400.00000000001,
          60300.00000000001,
          61200.00000000001,
          62100.00000000001,
          63000.00000000001,
          63900.00000000001,
          64800.00000000001,
          65700,
          66600,
          67500,
          68400,
          69300,
          70200,
          71100,
          72000,
          72900,
          73800,
          74700,
          75600,
          76500,
          77400,
          78300,
          79200,
          80100,
          81000,
          81900,
          82800,
          83700,
          84600,
          85500,
          86400,
          87300,
          88200,
          89100,
          90000,
          90900,
          91800,
          92700,
          93600,
          94500,
          95400,
          96300,
          97200,
          98100,
          99000,
          99900,
          100800,
          101700,
          102600,
          103500,
          104400,
          105300,
          106200,
          107100,
          108000,
          108900,
          109800,
          110700,
          111600,
          112500,
          113400,
          114300,
          115200,
          116100,
          117000.00000000001,
          117900.00000000001,
          118800.00000000001,
          119700.00000000001,
          120600.00000000001,
          121500.00000000001,
          122400.00000000001,
          123300.00000000001,
          124200.00000000001,
          125100.00000000001,
          126000.00000000001,
          126900.00000000001,
          127800.00000000001,
          128700.00000000001,
          129600.00000000001,
          130500.00000000001,
          131400,
          132300,
          133200,
          134100,
          135000,
          135900,
          136800,
          137700,
          138600,
          139500,
          140400,
          141300,
          142200,
          143100,
          144000,
          144900,
          145800,
          146700,
          147600,
          148500,
          149400,
          150300,
          151200,
          152100,
          153000,
          153900,
          154800,
          155700,
          156600,
          157500,
          158400,
          159300,
          160200,
          161100,
          162000,
          162900,
          163800,
          164700,
          165600,
          166500,
          167400,
          168300,
          169200,
          170100,
          171000,
          171900,
          172800,
          173700,
          174600,
          175500,
          176400,
          177300,
          178200,
          179100,
          180000,
          180900,
          181800,
          182700,
          183600,
          184500,
          185400,
          186300,
          187200,
          188100,
          189000,
          189900,
          190800,
          191700,
          192600,
          193500,
          194400,
          195300,
          196200,
          197100,
          198000,
          198900,
          199800,
          200700,
          201600,
          202500,
          203400,
          204300,
          205200,
          206100,
          207000,
          207900,
          208800,
          209700,
          210600,
          211500,
          212400,
          213300,
          214200,
          215100,
          216000,
          216900,
          217800,
          218700,
          219600,
          220500,
          221400,
          222300,
          223200,
          224100,
          225000,
          225900,
          226800,
          227700,
          228600,
          229500,
          230400,
          231300,
          232200,
          233100,
          234000.00000000003,
          234900.00000000003,
          235800.00000000003,
          236700.00000000003,
          237600.00000000003,
          238500.00000000003,
          239400.00000000003,
          240300.00000000003,
          241200.00000000003,
          242100.00000000003,
          243000.00000000003,
          243900.00000000003,
          244800.00000000003,
          245700.00000000003,
          246600.00000000003,
          247500.00000000003,
          248400.00000000003,
          249300.00000000003,
          250200.00000000003,
          251100.00000000003,
          252000.00000000003,
          252900.00000000003,
          253800.00000000003,
          254700.00000000003,
          255600.00000000003,
          256500.00000000003,
          257400.00000000003,
          258300.00000000003,
          259200.00000000003,
          260100.00000000003,
          261000.00000000003,
          261900.00000000003,
          262800,
          263700,
          264600,
          265500,
          266400,
          267300,
          268200,
          269100,
          270000,
          270900,
          271800,
          272700,
          273600,
          274500,
          275400,
          276300,
          277200,
          278100,
          279000,
          279900,
          280800,
          281700,
          282600,
          283500,
          284400,
          285300,
          286200,
          287100,
          288000,
          288900,
          289800,
          290700,
          291600,
          292500,
          293400,
          294300,
          295200,
          296100,
          297000,
          297900,
          298800,
          299700,
          300600,
          301500,
          302400,
          303300,
          304200,
          305100,
          306000,
          306900,
          307800,
          308700,
          309600,
          310500,
          311400,
          312300,
          313200,
          314100,
          315000,
          315900,
          316800,
          317700,
          318600,
          319500,
          320400,
          321300,
          322200,
          323100,
          324000,
          324900,
          325800,
          326700,
          327600,
          328500,
          329400,
          330300,
          331200,
          332100,
          333000,
          333900,
          334800,
          335700,
          336600,
          337500,
          338400,
          339300,
          340200,
          341100,
          342000,
          342900,
          343800,
          344700,
          345600
         ],
         "y": [
          0.037569163528155196,
          0.027897893709025973,
          0.026781977960664272,
          0.09113311944948374,
          0.14283721579021,
          0.20317416035089314,
          0.2750422343113111,
          0.35765099734970174,
          0.4350521535624067,
          0.5061452860309047,
          0.5671331814448018,
          0.6214100835386932,
          0.6671316315618171,
          0.7099858960648474,
          0.7463616496954483,
          0.7606825684660806,
          0.763658343795043,
          0.7763053889431346,
          0.785263712589701,
          0.7975387858216697,
          0.8128516297019562,
          0.805040219463431,
          0.7926256567629141,
          0.7848762418437409,
          0.7792811642720969,
          0.77146975403357,
          0.7910757737790791,
          0.7998016149780676,
          0.8147114892825585,
          0.8277305063467696,
          0.8232668433533261,
          0.8147114892825585,
          0.8251267029339283,
          0.8303653074192885,
          0.8307527781652485,
          0.8195471241921232,
          0.8225228995210855,
          0.8154554331147992,
          0.8199190961082427,
          0.8284744501790101,
          0.8176872646115209,
          0.8024364160505881,
          0.813967545450318,
          0.8243827591016878,
          0.8357434013731968,
          0.8601850560282706,
          0.8635328032733524,
          0.8635328032733524,
          0.8579532245315472,
          0.8434153221431789,
          0.824398257931525,
          0.7990421723159897,
          0.780784550766417,
          0.7444397947954922,
          0.70133754901505,
          0.6559724740782067,
          0.6217200601354589,
          0.5930162272748402,
          0.5675516498504362,
          0.5345236434649188,
          0.49008849831837753,
          0.48892608608050087,
          0.5107174408332186,
          0.5218765983168289,
          0.5304319523875964,
          0.5300599804714753,
          0.522992514065189,
          0.5226205421490695,
          0.519272794903986,
          0.5148091319105409,
          0.5140651880783004,
          0.5129492723299403,
          0.5207606825684672,
          0.5322918119681987,
          0.5386153345422429,
          0.5475426605291298,
          0.5534942111870561,
          0.5590737899288614,
          0.5594457618449808,
          0.5598332325909391,
          0.5668077060181956,
          0.5699074719858656,
          0.5699074719858656,
          0.5710698842237405,
          0.5699074719858656,
          0.5637079400505274,
          0.5594457618449808,
          0.5594457618449808,
          0.5508904077742133,
          0.5467987166968893,
          0.5352675872971611,
          0.5259682893941513,
          0.5162970195750237,
          0.5081136374203756,
          0.5025340586785705,
          0.49472264844004354,
          0.49249081694332014,
          0.4909409339594868,
          0.483191519040312,
          0.4808666945645604,
          0.4808666945645604,
          0.48125416531051873,
          0.4900729994885403,
          0.5345391422947561,
          0.5959920026038025,
          0.645464267447807,
          0.6927047007950898,
          0.7248802715394995,
          0.7557384417476474,
          0.7906728042032819,
          0.8173152926953997,
          0.8350149563707934,
          0.8415864602222527,
          0.8505137862091413,
          0.8620449156088712,
          0.8706002696796403,
          0.8750794315029211,
          0.8839912586599709,
          0.8889198865485654,
          0.8971032687032118,
          0.8885479146324442,
          0.8874319988840825,
          0.8933835495420088,
          0.9082624261868221,
          0.9194215836704308,
          0.934703429891043,
          0.9425768354489238,
          0.9470404984423673,
          0.9600595155065783,
          0.9652826211621012,
          0.9676074456378528,
          0.9757443313029843,
          0.9749693898110676,
          0.9726445653353161,
          0.9734195068272327,
          0.9768757458811849,
          0.988065901024473,
          1,
          0.9988375877621251,
          0.9568357589002024,
          0.9201810263325103,
          0.9130980610963867,
          0.9034267912772576,
          0.8762573425706349,
          0.8568373087831871,
          0.8316517102958727,
          0.8031803598828287,
          0.7831093752421702,
          0.7463306520357722,
          0.7148370298042492,
          0.6942235861192487,
          0.6660157158134571,
          0.6413880752003218,
          0.6127307388292181,
          0.5844608732040727,
          0.549030548193611,
          0.5133212442460597,
          0.48551634351606526,
          0.4870662264998986,
          0.4936067326916818,
          0.5025340586785705,
          0.5103454689170974,
          0.515181103826662,
          0.5248523736457913,
          0.5259682893941513,
          0.5274561770586341,
          0.5278281489747536,
          0.5296880085553558,
          0.5274561770586341,
          0.5278281489747536,
          0.5259682893941513,
          0.5259682893941513,
          0.5259682893941513,
          0.522992514065189,
          0.5181568791556244,
          0.515181103826662,
          0.5148091319105409,
          0.5107174408332186,
          0.5055098340075328,
          0.5036499744269305,
          0.49769842376900586,
          0.49247531811348294,
          0.4870662264998986,
          0.48125416531051873,
          0.4745431719905146,
          0.46933556516483055,
          0.46040823917794355,
          0.4581764076812218,
          0.4533407727716572,
          0.44850513786209256,
          0.46412795833914483,
          0.4991398149439721,
          0.5311758962198354,
          0.576509973497001,
          0.62781110026193,
          0.6171944018226616,
          0.6266951845135683,
          0.6859627098154096,
          0.7376823049859714,
          0.7744455293625323,
          0.775561445110894,
          0.788394476217047,
          0.8121076858697157,
          0.8113637420374767,
          0.8031803598828287,
          0.7766928596890929,
          0.7647742595434031,
          0.7826444103470191,
          0.795337951984624,
          0.795725422730584,
          0.7914632445250391,
          0.785263712589701,
          0.7844887710977826,
          0.7844887710977826,
          0.7833728553494209,
          0.7841167991816616,
          0.7837448272655421,
          0.7844887710977826,
          0.7848762418437409,
          0.7868135955735343,
          0.7922381860169557,
          0.7961128934765423,
          0.7961128934765423,
          0.8020644441344686,
          0.8369058136110717,
          0.8869205374994199,
          0.9082624261868221,
          0.9282869143379674,
          0.944064723113405,
          0.9596875435904588,
          0.973806977573191,
          0.9847026549495507,
          0.9958618124331611,
          0.9996125292540416,
          0.9980936439298828,
          0.9988375877621251,
          0.9984656158460022,
          0.9947458966847993,
          0.9847026549495507,
          0.9761318020489426,
          0.9656700919080595,
          0.9593155716743377,
          0.9503882456874491,
          0.9384851443715997,
          0.9240557337920985,
          0.9086343981029432,
          0.8956153810387306,
          0.8752189209714659,
          0.8490258985446602,
          0.8281954712419205,
          0.8083879667085144,
          0.7834968459881285,
          0.755784938237164,
          0.7334356256102671,
          0.7170688613009709,
          0.6537561414113222,
          0.6697354349746599,
          0.6727112103036222,
          0.674943041800344,
          0.6723392383875029,
          0.6719672664713817,
          0.6727112103036222,
          0.6719672664713817,
          0.6686195192262983,
          0.661924024736133,
          0.6608081089877713,
          0.6593202213232902,
          0.6515088110847632,
          0.6496489515041609,
          0.6459292323429581,
          0.6399776816850333,
          0.6373273817826756,
          0.6288030253715841,
          0.6264936997256697,
          0.6194262333193834,
          0.6131027107453392,
          0.6064072162551724,
          0.6000836936811266,
          0.5933881991909613,
          0.5870646766169155,
          0.5814850978751104,
          0.5729297438043411,
          0.5668077060181956,
          0.5594457618449808,
          0.5523782954386944,
          0.5475426605291298,
          0.5427070256195652,
          0.5371274468777617,
          0.5371274468777617,
          0.5371274468777617,
          0.5371274468777617,
          0.5464267447807698,
          0.5904124238619973,
          0.6469211574526138,
          0.7016940221013322,
          0.7470900946978499,
          0.7906883030331208,
          0.8255761689992405,
          0.8549774492025848,
          0.8782411927899432,
          0.8985911563676929,
          0.9191426047333429,
          0.9317896498814344,
          0.9314176779653134,
          0.9225058508082635,
          0.9160738364253491,
          0.9090063700190627,
          0.9008229878644163,
          0.8971032687032118,
          0.888175942716323,
          0.8863160831357224,
          0.8847662001518874,
          0.877016785232716,
          0.8766293144867576,
          0.877016785232716,
          0.8785666682165493,
          0.8859286123897642,
          0.8863160831357224,
          0.8863160831357224,
          0.8805040219463426,
          0.8754669022488794,
          0.8832163171680542,
          0.8878039708002037,
          0.8959873529548517,
          0.8974752406193328,
          0.8974752406193328,
          0.8978472125354523,
          0.8974752406193328,
          0.8978472125354523,
          0.8974752406193328,
          0.8974752406193328,
          0.89487143720649,
          0.8878039708002037,
          0.8828288464220942,
          0.8750794315029211,
          0.871344213511881,
          0.8635328032733524,
          0.8546054772864654,
          0.8414624695835451,
          0.8019714511554388,
          0.7632243765595698,
          0.7226484400427762,
          0.6881635436524537,
          0.6526247268331232,
          0.6254552781265007,
          0.5937601711070808,
          0.5569969467305216,
          0.5319198400520776,
          0.5125773004138191,
          0.49582306535856635,
          0.4771624742331947,
          0.4630120425907831,
          0.4444134467847686,
          0.42544287906263123,
          0.4084871592194798,
          0.3848049472264855,
          0.3561631096852206,
          0.3383084577114433,
          0.31475023635715654,
          0.267912772585671,
          0.2195564234900265,
          0.18411059964972595,
          0.14804482261589408,
          0.12014692890686811,
          0.1026642488492136,
          0.08369368112707627,
          0.0706746640628636,
          0.07662621472078991,
          0.07774213046914996,
          0.07774213046914996,
          0.07365043939182758,
          0.06955874831450355,
          0.06658297298554122,
          0.06100339424373603,
          0.05542381550193083,
          0.04575254568280326,
          0.04240479843771981,
          0.032733528618590586,
          0.022318314967220778,
          0.015250848560936071,
          0.007439438322407477,
          0.006695494490166895,
          0,
          0,
          0.002975775328963982
         ]
        },
        {
         "mode": "lines",
         "name": "filtered",
         "type": "scatter",
         "x": [
          0,
          900,
          1800,
          2700,
          3600,
          4500,
          5400,
          6300,
          7200,
          8100.000000000001,
          9000,
          9900,
          10800,
          11700,
          12600,
          13500,
          14400,
          15300.000000000002,
          16200.000000000002,
          17100,
          18000,
          18900,
          19800,
          20700,
          21600,
          22500,
          23400,
          24300,
          25200,
          26100,
          27000,
          27900,
          28800,
          29700.000000000004,
          30600.000000000004,
          31500.000000000004,
          32400.000000000004,
          33300,
          34200,
          35100,
          36000,
          36900,
          37800,
          38700,
          39600,
          40500,
          41400,
          42300,
          43200,
          44100,
          45000,
          45900,
          46800,
          47700,
          48600,
          49500,
          50400,
          51300,
          52200,
          53100,
          54000,
          54900,
          55800,
          56700,
          57600,
          58500.00000000001,
          59400.00000000001,
          60300.00000000001,
          61200.00000000001,
          62100.00000000001,
          63000.00000000001,
          63900.00000000001,
          64800.00000000001,
          65700,
          66600,
          67500,
          68400,
          69300,
          70200,
          71100,
          72000,
          72900,
          73800,
          74700,
          75600,
          76500,
          77400,
          78300,
          79200,
          80100,
          81000,
          81900,
          82800,
          83700,
          84600,
          85500,
          86400,
          87300,
          88200,
          89100,
          90000,
          90900,
          91800,
          92700,
          93600,
          94500,
          95400,
          96300,
          97200,
          98100,
          99000,
          99900,
          100800,
          101700,
          102600,
          103500,
          104400,
          105300,
          106200,
          107100,
          108000,
          108900,
          109800,
          110700,
          111600,
          112500,
          113400,
          114300,
          115200,
          116100,
          117000.00000000001,
          117900.00000000001,
          118800.00000000001,
          119700.00000000001,
          120600.00000000001,
          121500.00000000001,
          122400.00000000001,
          123300.00000000001,
          124200.00000000001,
          125100.00000000001,
          126000.00000000001,
          126900.00000000001,
          127800.00000000001,
          128700.00000000001,
          129600.00000000001,
          130500.00000000001,
          131400,
          132300,
          133200,
          134100,
          135000,
          135900,
          136800,
          137700,
          138600,
          139500,
          140400,
          141300,
          142200,
          143100,
          144000,
          144900,
          145800,
          146700,
          147600,
          148500,
          149400,
          150300,
          151200,
          152100,
          153000,
          153900,
          154800,
          155700,
          156600,
          157500,
          158400,
          159300,
          160200,
          161100,
          162000,
          162900,
          163800,
          164700,
          165600,
          166500,
          167400,
          168300,
          169200,
          170100,
          171000,
          171900,
          172800,
          173700,
          174600,
          175500,
          176400,
          177300,
          178200,
          179100,
          180000,
          180900,
          181800,
          182700,
          183600,
          184500,
          185400,
          186300,
          187200,
          188100,
          189000,
          189900,
          190800,
          191700,
          192600,
          193500,
          194400,
          195300,
          196200,
          197100,
          198000,
          198900,
          199800,
          200700,
          201600,
          202500,
          203400,
          204300,
          205200,
          206100,
          207000,
          207900,
          208800,
          209700,
          210600,
          211500,
          212400,
          213300,
          214200,
          215100,
          216000,
          216900,
          217800,
          218700,
          219600,
          220500,
          221400,
          222300,
          223200,
          224100,
          225000,
          225900,
          226800,
          227700,
          228600,
          229500,
          230400,
          231300,
          232200,
          233100,
          234000.00000000003,
          234900.00000000003,
          235800.00000000003,
          236700.00000000003,
          237600.00000000003,
          238500.00000000003,
          239400.00000000003,
          240300.00000000003,
          241200.00000000003,
          242100.00000000003,
          243000.00000000003,
          243900.00000000003,
          244800.00000000003,
          245700.00000000003,
          246600.00000000003,
          247500.00000000003,
          248400.00000000003,
          249300.00000000003,
          250200.00000000003,
          251100.00000000003,
          252000.00000000003,
          252900.00000000003,
          253800.00000000003,
          254700.00000000003,
          255600.00000000003,
          256500.00000000003,
          257400.00000000003,
          258300.00000000003,
          259200.00000000003,
          260100.00000000003,
          261000.00000000003,
          261900.00000000003,
          262800,
          263700,
          264600,
          265500,
          266400,
          267300,
          268200,
          269100,
          270000,
          270900,
          271800,
          272700,
          273600,
          274500,
          275400,
          276300,
          277200,
          278100,
          279000,
          279900,
          280800,
          281700,
          282600,
          283500,
          284400,
          285300,
          286200,
          287100,
          288000,
          288900,
          289800,
          290700,
          291600,
          292500,
          293400,
          294300,
          295200,
          296100,
          297000,
          297900,
          298800,
          299700,
          300600,
          301500,
          302400,
          303300,
          304200,
          305100,
          306000,
          306900,
          307800,
          308700,
          309600,
          310500,
          311400,
          312300,
          313200,
          314100,
          315000,
          315900,
          316800,
          317700,
          318600,
          319500,
          320400,
          321300,
          322200,
          323100,
          324000,
          324900,
          325800,
          326700,
          327600,
          328500,
          329400,
          330300,
          331200,
          332100,
          333000,
          333900,
          334800,
          335700,
          336600,
          337500,
          338400,
          339300,
          340200,
          341100,
          342000,
          342900,
          343800,
          344700,
          345600
         ],
         "y": [
          0,
          0.9745672382907767,
          1,
          0.6674529280028335,
          0.9650593307302305,
          0.85489072956141,
          0.8183693887399268,
          0.9623948582794462,
          0.8271918067053611,
          0.937630968701913,
          0.9109023497435222,
          0.8937559821572865,
          0.9593346758951748,
          0.8985718242189489,
          0.9544045487830487,
          0.9333645280050501,
          0.9325162503059188,
          0.9530166902955833,
          0.9275303463498085,
          0.9531384416148486,
          0.9394560039777945,
          0.9448337424414156,
          0.9479412905560214,
          0.9366170527076108,
          0.9464695587034843,
          0.937820987878546,
          0.9417291234071041,
          0.9443517629646273,
          0.9429026059627749,
          0.9482098754686008,
          0.9459483604480152,
          0.9469089687267414,
          0.945861280821198,
          0.946828280413903,
          0.9485501764081764,
          0.9462745001929901,
          0.9467299593421103,
          0.9460126134314042,
          0.9459089068723336,
          0.9467735410785046,
          0.9468284039308521,
          0.9454226374324994,
          0.9440115236666252,
          0.9462985389284274,
          0.9477500853354011,
          0.9492352679711988,
          0.952028670458215,
          0.951829993721627,
          0.9511664066538428,
          0.9504849639389201,
          0.9479473813942296,
          0.9453256231167317,
          0.9425145557569222,
          0.9392457262532331,
          0.9345532417209967,
          0.9284776608780685,
          0.9236402045908646,
          0.9197223401431047,
          0.9163729335205294,
          0.9130116036173881,
          0.9081398849662643,
          0.9044930843517028,
          0.9058372346110748,
          0.9090283860171091,
          0.9097200144317316,
          0.9102043757402747,
          0.9101297273460245,
          0.9089838900102247,
          0.9091695221448292,
          0.9087220804888667,
          0.9080418538173382,
          0.9082738391784249,
          0.9083983866983392,
          0.909651053904054,
          0.9110867489476842,
          0.9117363003950086,
          0.9127756280457363,
          0.9135645553844288,
          0.9138397152745384,
          0.9139644476731447,
          0.9141878940601444,
          0.9150259349665418,
          0.9153182856563336,
          0.9151145184062704,
          0.915323298877759,
          0.914883670329739,
          0.9140593592714639,
          0.9138050329649222,
          0.9134653174829792,
          0.9125403541909278,
          0.9115675803961284,
          0.9103898509995755,
          0.9089737848711584,
          0.908027469957083,
          0.9070977524556622,
          0.9062775003349675,
          0.9056821726822153,
          0.9053176114705878,
          0.9050557721523321,
          0.9041462120542262,
          0.9039450075777854,
          0.9042542292497736,
          0.9044634765551348,
          0.9074405712516641,
          0.9142800557062429,
          0.9218538260031356,
          0.9275857067766804,
          0.9325326505486066,
          0.9366092273381856,
          0.9401835257385533,
          0.9445155245351757,
          0.9472828122109183,
          0.9485783816965091,
          0.9496260121533087,
          0.950602487992262,
          0.9521732143205504,
          0.9529484226309836,
          0.9535327388782752,
          0.9546612800027872,
          0.9553268673327144,
          0.9555359937440218,
          0.9547713333016266,
          0.9546824186871844,
          0.9563711625629484,
          0.9579594523064187,
          0.9595573738042917,
          0.9611513496037646,
          0.9618911348559318,
          0.962724134997331,
          0.9641099007368388,
          0.9646846833171422,
          0.9649095763344062,
          0.9657833341985036,
          0.965548585942231,
          0.9650839557585061,
          0.9656590548291888,
          0.9663322758693311,
          0.9678735374914708,
          0.9689244278537599,
          0.966508059036457,
          0.961039521057567,
          0.9574969374180703,
          0.9574537909492441,
          0.9554150206290447,
          0.9517399056392442,
          0.9494022201058738,
          0.946122129089345,
          0.9426512483194844,
          0.9397062115295965,
          0.9351969465643093,
          0.9314692489983946,
          0.9291771336534236,
          0.9255606789889556,
          0.9221491935561013,
          0.9189505156656749,
          0.9147016446615021,
          0.9104507676514069,
          0.9062227968797854,
          0.9042305724953494,
          0.9052166180924588,
          0.9063164642913173,
          0.9071957046868729,
          0.9081677905119373,
          0.9088859854852122,
          0.9097019554025718,
          0.9099272045176761,
          0.9097755390964933,
          0.9101180491580019,
          0.9100693972031983,
          0.9098577623127104,
          0.9098613484178728,
          0.9096791846859559,
          0.909681706583555,
          0.9095892283424043,
          0.9090585042161863,
          0.9084996458458297,
          0.9082931743725825,
          0.9081273533197263,
          0.9075191310090674,
          0.9069510585745756,
          0.9066249342095388,
          0.9058968150031906,
          0.9051245756982669,
          0.9045665312042287,
          0.9037137721293137,
          0.9029469178094622,
          0.9021753964437407,
          0.9013062870402514,
          0.9009525236243585,
          0.9004637925187492,
          0.9006332205132724,
          0.9038316477424001,
          0.908535208119808,
          0.91298663568729,
          0.9189626881649515,
          0.9228728466158687,
          0.9215151122279212,
          0.9244573973792003,
          0.9334280736953543,
          0.938719534942639,
          0.9408961016086156,
          0.9417855030749704,
          0.9431250832372122,
          0.9459823288072968,
          0.9449148207852163,
          0.94241976476046,
          0.9403690907132394,
          0.9395820116353332,
          0.9427073734026973,
          0.9436628889687361,
          0.9427263062578305,
          0.9426182978968135,
          0.9416877879903037,
          0.9418339703508745,
          0.941935628488969,
          0.9416020386527109,
          0.9419003497554839,
          0.9417753242049217,
          0.9418603980615659,
          0.9420653417229296,
          0.9423706313174235,
          0.943129185281535,
          0.9433862811843171,
          0.9435586810361499,
          0.9457401753573522,
          0.9511985971922687,
          0.9565582245467902,
          0.9586114125892273,
          0.9605070831141874,
          0.96296328916855,
          0.964401836911333,
          0.9661717181623466,
          0.9675400609671027,
          0.9683703525903525,
          0.968768607531761,
          0.9683276147405284,
          0.9685205500396641,
          0.9683862200854721,
          0.9673951596800379,
          0.9662918561058033,
          0.9649928159960377,
          0.9639963950388716,
          0.9630558071900938,
          0.9618326158295066,
          0.960159995010293,
          0.9582432071832202,
          0.956484495394101,
          0.9544924249561398,
          0.9516718998497841,
          0.9484447952201135,
          0.9460103109745582,
          0.9434530438148457,
          0.9399964235334505,
          0.9368140878299361,
          0.9343763437789221,
          0.930278497620679,
          0.9255753855772368,
          0.9271358780347067,
          0.9292960445922912,
          0.9273257903021535,
          0.9280847302927054,
          0.9281099522911882,
          0.9274934461173049,
          0.928149207330507,
          0.9267909831524728,
          0.9265348655136094,
          0.926449474777642,
          0.9257748111817732,
          0.9252948392313013,
          0.9246619676669402,
          0.9244791582970663,
          0.9235889743397125,
          0.9230567015794383,
          0.922422647414781,
          0.9216116093027711,
          0.92114348856817,
          0.9199870214265282,
          0.9193370000445311,
          0.9185708412131446,
          0.9175885390244343,
          0.9170343023767368,
          0.9160635606865549,
          0.915155658187894,
          0.9143211266215656,
          0.9134319826246322,
          0.9126554859933194,
          0.9120549354955526,
          0.9114945744827481,
          0.9109696106031134,
          0.9110727356672242,
          0.9111571188376949,
          0.9114612500224454,
          0.9144362866847907,
          0.9209793103802778,
          0.9283943867573896,
          0.9344722452361731,
          0.9399767668665822,
          0.9449456973938093,
          0.9489081288447123,
          0.9521645464226481,
          0.9548443247053434,
          0.9573256928576966,
          0.9595200733105177,
          0.9604190069195256,
          0.9596924933671287,
          0.9585594505106231,
          0.9577869623854508,
          0.9568927702954749,
          0.9560057871497879,
          0.9553771722356071,
          0.9546093948977985,
          0.9542987103502063,
          0.9540772037138429,
          0.9531991752524398,
          0.9532334603522865,
          0.9536146565826501,
          0.9538038678912303,
          0.9546519526717969,
          0.9546286334484598,
          0.954100669695389,
          0.9536296700959608,
          0.9533422746463343,
          0.9544677705686637,
          0.9553295580255429,
          0.9557296669539455,
          0.9561283235928717,
          0.955813636066272,
          0.9559613530999853,
          0.9560020832395968,
          0.9558432633024431,
          0.9560103893273817,
          0.955735172235151,
          0.9552469651289727,
          0.9543919231831116,
          0.9535749424175708,
          0.9529378884721704,
          0.9521379323673334,
          0.9512499054293039,
          0.9497771193512783,
          0.9469110283246435,
          0.9417303118014047,
          0.9364262979616196,
          0.9321568689150965,
          0.9275343639432441,
          0.9236754617809688,
          0.9201766069685321,
          0.9159247635663277,
          0.9118269702224819,
          0.9090300604331155,
          0.9070933959462923,
          0.904748008323406,
          0.9026917309974963,
          0.9007842025804862,
          0.8983911778501992,
          0.8960858596228594,
          0.8937100421866313,
          0.8904927385809035,
          0.8872200758585369,
          0.8849453820059889,
          0.8810239626858921,
          0.8745374270789703,
          0.8690529313541175,
          0.865008776031716,
          0.8608554540091788,
          0.8578539432159596,
          0.8559725233700742,
          0.8537987898210595,
          0.8530361506342514,
          0.853995802219915,
          0.8540810484226559,
          0.8536007903339992,
          0.8532940664765126,
          0.8526606153425519,
          0.8522439763277843,
          0.8515796944137846,
          0.8505402456859525,
          0.8497400974862926,
          0.8489523237485481,
          0.8478145573159269,
          0.8464747227958935,
          0.8456910775526688,
          0.8451177243191589,
          0.8446586421944323,
          0.8443280579455245,
          0.8442505096667805
         ]
        },
        {
         "mode": "lines",
         "name": "dif",
         "type": "scatter",
         "x": [
          0,
          900,
          1800,
          2700,
          3600,
          4500,
          5400,
          6300,
          7200,
          8100.000000000001,
          9000,
          9900,
          10800,
          11700,
          12600,
          13500,
          14400,
          15300.000000000002,
          16200.000000000002,
          17100,
          18000,
          18900,
          19800,
          20700,
          21600,
          22500,
          23400,
          24300,
          25200,
          26100,
          27000,
          27900,
          28800,
          29700.000000000004,
          30600.000000000004,
          31500.000000000004,
          32400.000000000004,
          33300,
          34200,
          35100,
          36000,
          36900,
          37800,
          38700,
          39600,
          40500,
          41400,
          42300,
          43200,
          44100,
          45000,
          45900,
          46800,
          47700,
          48600,
          49500,
          50400,
          51300,
          52200,
          53100,
          54000,
          54900,
          55800,
          56700,
          57600,
          58500.00000000001,
          59400.00000000001,
          60300.00000000001,
          61200.00000000001,
          62100.00000000001,
          63000.00000000001,
          63900.00000000001,
          64800.00000000001,
          65700,
          66600,
          67500,
          68400,
          69300,
          70200,
          71100,
          72000,
          72900,
          73800,
          74700,
          75600,
          76500,
          77400,
          78300,
          79200,
          80100,
          81000,
          81900,
          82800,
          83700,
          84600,
          85500,
          86400,
          87300,
          88200,
          89100,
          90000,
          90900,
          91800,
          92700,
          93600,
          94500,
          95400,
          96300,
          97200,
          98100,
          99000,
          99900,
          100800,
          101700,
          102600,
          103500,
          104400,
          105300,
          106200,
          107100,
          108000,
          108900,
          109800,
          110700,
          111600,
          112500,
          113400,
          114300,
          115200,
          116100,
          117000.00000000001,
          117900.00000000001,
          118800.00000000001,
          119700.00000000001,
          120600.00000000001,
          121500.00000000001,
          122400.00000000001,
          123300.00000000001,
          124200.00000000001,
          125100.00000000001,
          126000.00000000001,
          126900.00000000001,
          127800.00000000001,
          128700.00000000001,
          129600.00000000001,
          130500.00000000001,
          131400,
          132300,
          133200,
          134100,
          135000,
          135900,
          136800,
          137700,
          138600,
          139500,
          140400,
          141300,
          142200,
          143100,
          144000,
          144900,
          145800,
          146700,
          147600,
          148500,
          149400,
          150300,
          151200,
          152100,
          153000,
          153900,
          154800,
          155700,
          156600,
          157500,
          158400,
          159300,
          160200,
          161100,
          162000,
          162900,
          163800,
          164700,
          165600,
          166500,
          167400,
          168300,
          169200,
          170100,
          171000,
          171900,
          172800,
          173700,
          174600,
          175500,
          176400,
          177300,
          178200,
          179100,
          180000,
          180900,
          181800,
          182700,
          183600,
          184500,
          185400,
          186300,
          187200,
          188100,
          189000,
          189900,
          190800,
          191700,
          192600,
          193500,
          194400,
          195300,
          196200,
          197100,
          198000,
          198900,
          199800,
          200700,
          201600,
          202500,
          203400,
          204300,
          205200,
          206100,
          207000,
          207900,
          208800,
          209700,
          210600,
          211500,
          212400,
          213300,
          214200,
          215100,
          216000,
          216900,
          217800,
          218700,
          219600,
          220500,
          221400,
          222300,
          223200,
          224100,
          225000,
          225900,
          226800,
          227700,
          228600,
          229500,
          230400,
          231300,
          232200,
          233100,
          234000.00000000003,
          234900.00000000003,
          235800.00000000003,
          236700.00000000003,
          237600.00000000003,
          238500.00000000003,
          239400.00000000003,
          240300.00000000003,
          241200.00000000003,
          242100.00000000003,
          243000.00000000003,
          243900.00000000003,
          244800.00000000003,
          245700.00000000003,
          246600.00000000003,
          247500.00000000003,
          248400.00000000003,
          249300.00000000003,
          250200.00000000003,
          251100.00000000003,
          252000.00000000003,
          252900.00000000003,
          253800.00000000003,
          254700.00000000003,
          255600.00000000003,
          256500.00000000003,
          257400.00000000003,
          258300.00000000003,
          259200.00000000003,
          260100.00000000003,
          261000.00000000003,
          261900.00000000003,
          262800,
          263700,
          264600,
          265500,
          266400,
          267300,
          268200,
          269100,
          270000,
          270900,
          271800,
          272700,
          273600,
          274500,
          275400,
          276300,
          277200,
          278100,
          279000,
          279900,
          280800,
          281700,
          282600,
          283500,
          284400,
          285300,
          286200,
          287100,
          288000,
          288900,
          289800,
          290700,
          291600,
          292500,
          293400,
          294300,
          295200,
          296100,
          297000,
          297900,
          298800,
          299700,
          300600,
          301500,
          302400,
          303300,
          304200,
          305100,
          306000,
          306900,
          307800,
          308700,
          309600,
          310500,
          311400,
          312300,
          313200,
          314100,
          315000,
          315900,
          316800,
          317700,
          318600,
          319500,
          320400,
          321300,
          322200,
          323100,
          324000,
          324900,
          325800,
          326700,
          327600,
          328500,
          329400,
          330300,
          331200,
          332100,
          333000,
          333900,
          334800,
          335700,
          336600,
          337500,
          338400,
          339300,
          340200,
          341100,
          342000,
          342900,
          343800,
          344700,
          345600
         ],
         "y": [
          0.037569163528155196,
          -0.9466693445817508,
          -0.9732180220393357,
          -0.5763198085533497,
          -0.8222221149400205,
          -0.6517165692105169,
          -0.5433271544286158,
          -0.6047438609297444,
          -0.3921396531429544,
          -0.4314856826710083,
          -0.3437691682987204,
          -0.27234589861859326,
          -0.29220304433335775,
          -0.18858592815410147,
          -0.20804289908760043,
          -0.17268195953896948,
          -0.16885790651087573,
          -0.17671130135244872,
          -0.1422666337601075,
          -0.15559965579317891,
          -0.12660437427583826,
          -0.13979352297798464,
          -0.1553156337931073,
          -0.1517408108638698,
          -0.16718839443138733,
          -0.16635123384497597,
          -0.150653349628025,
          -0.14455014798655974,
          -0.12819111668021632,
          -0.12047936912183121,
          -0.12268151709468911,
          -0.1321974794441828,
          -0.12073457788726971,
          -0.1164629729946145,
          -0.1177973982429279,
          -0.12672737600086692,
          -0.12420705982102487,
          -0.13055718031660501,
          -0.125989810764091,
          -0.11829909089949453,
          -0.12914113931933124,
          -0.1429862213819113,
          -0.1300439782163072,
          -0.12191577982673962,
          -0.11200668396220426,
          -0.08905021194292828,
          -0.08849586718486269,
          -0.08829719044827467,
          -0.09321318212229557,
          -0.10706964179574119,
          -0.12354912346270464,
          -0.146283450800742,
          -0.16173000499050527,
          -0.19480593145774094,
          -0.23321569270594678,
          -0.2725051867998618,
          -0.3019201444554057,
          -0.32670611286826456,
          -0.34882128367009324,
          -0.3784879601524693,
          -0.41805138664788677,
          -0.41556699827120197,
          -0.3951197937778562,
          -0.38715178770028025,
          -0.3792880620441351,
          -0.3801443952687994,
          -0.3871372132808355,
          -0.3863633478611552,
          -0.3898967272408431,
          -0.3939129485783258,
          -0.3939766657390378,
          -0.3953245668484846,
          -0.387637704129872,
          -0.37735924193585524,
          -0.3724714144054413,
          -0.3641936398658788,
          -0.3592814168586802,
          -0.35449076545556746,
          -0.3543939534295576,
          -0.3541312150822056,
          -0.3473801880419488,
          -0.3451184629806763,
          -0.345410813670468,
          -0.34404463418252995,
          -0.34541582689189343,
          -0.3511757302792117,
          -0.354613597426483,
          -0.35435927111994137,
          -0.36257490970876594,
          -0.36574163749403854,
          -0.37629999309896733,
          -0.3844215616054242,
          -0.3926767652961347,
          -0.3999138325367074,
          -0.40456369377709167,
          -0.4115548518949239,
          -0.41319135573889515,
          -0.41437667751110097,
          -0.42186425311202014,
          -0.4232795174896658,
          -0.423078313013225,
          -0.4230000639392549,
          -0.41439047706659454,
          -0.37290142895690803,
          -0.31828805310244046,
          -0.27638955855532854,
          -0.23488100598159056,
          -0.20765237900910705,
          -0.18087078559053826,
          -0.14951072153527145,
          -0.12720023183977602,
          -0.11226785584012489,
          -0.1069919214742564,
          -0.09911222594416735,
          -0.08855757238339079,
          -0.08157294464091003,
          -0.07786899112806245,
          -0.06954148021830431,
          -0.06574139345422181,
          -0.05822359862950266,
          -0.06698807911157756,
          -0.06733933441754403,
          -0.06129886914517557,
          -0.04810873637612634,
          -0.03853786863598785,
          -0.02485394391324869,
          -0.018574514154840793,
          -0.014850636413564544,
          -0.0026646194907526954,
          0.0011727204252623968,
          0.002922762320710648,
          0.010834754968578109,
          0.009186055612564026,
          0.007095979393085039,
          0.008335551068726521,
          0.011216691051996075,
          0.021733625155141878,
          0.03212646250852924,
          0.029913159908365183,
          -0.00967230013625453,
          -0.04085849472505665,
          -0.0443988763216836,
          -0.05402699967198654,
          -0.07915767805840979,
          -0.09490259685605706,
          -0.11775050981000112,
          -0.14294176920651636,
          -0.15954187307731427,
          -0.19337555949382434,
          -0.22035991676006006,
          -0.23724566287914584,
          -0.2631614178399665,
          -0.28417260378863374,
          -0.3094184547268831,
          -0.3344896424616022,
          -0.3656710964678911,
          -0.39712952340534713,
          -0.4207064533637201,
          -0.4171643459954508,
          -0.411609885400777,
          -0.4037824056127468,
          -0.3968502357697755,
          -0.39298668668527525,
          -0.38403361183942086,
          -0.3837336660084205,
          -0.38247102745904193,
          -0.3819473901217397,
          -0.38043004060264607,
          -0.3826132201445642,
          -0.3820296133379568,
          -0.3838930590237215,
          -0.3837108952918046,
          -0.38371341718940366,
          -0.3865967142772153,
          -0.3909016250605619,
          -0.3933185420191676,
          -0.3934840424620416,
          -0.3974099124865077,
          -0.40200929700153465,
          -0.4033010841476451,
          -0.40892651044053296,
          -0.4134214968897077,
          -0.41805834919836826,
          -0.42331236589370996,
          -0.4291706001387991,
          -0.4336113526446317,
          -0.44176715726579713,
          -0.4431298793590296,
          -0.44761175085270133,
          -0.45195865465665663,
          -0.4365052621741276,
          -0.404691832798428,
          -0.3773593118999726,
          -0.33647666219028904,
          -0.29115158790302154,
          -0.30567844479320705,
          -0.29481992771435284,
          -0.23849468756379066,
          -0.19574576870938287,
          -0.16427400558010674,
          -0.1653346564977216,
          -0.1533910268579235,
          -0.1310173973674965,
          -0.13461858676982008,
          -0.14173446090238762,
          -0.16572690507136711,
          -0.17559483116983632,
          -0.15693760128831402,
          -0.1473694214180733,
          -0.14793746623815207,
          -0.15126306173279136,
          -0.15735458530711255,
          -0.15719901689252114,
          -0.15734519925309187,
          -0.15856277313954803,
          -0.1574852394710493,
          -0.1581555224899418,
          -0.15728655310713913,
          -0.1569841562178249,
          -0.1552517461493953,
          -0.15013244530046777,
          -0.14701629180499265,
          -0.14727338770777476,
          -0.14149423690168128,
          -0.10883436174628047,
          -0.06427805969284883,
          -0.04829579835996811,
          -0.030324498251259935,
          -0.016442360000782474,
          -0.0032757455780911826,
          0.009405140661858047,
          0.018530936787204078,
          0.02832175146605842,
          0.031242176663689114,
          0.029325036398121784,
          0.030509973021596637,
          0.029945065806338156,
          0.026359676599327142,
          0.017307495269512807,
          0.009839945943139305,
          0.0006772759120218241,
          -0.004680823364533904,
          -0.012667561502644697,
          -0.023347471457906943,
          -0.036104261218194544,
          -0.04960880908027698,
          -0.060869114355370346,
          -0.07927350398467392,
          -0.10264600130512391,
          -0.12024932397819299,
          -0.1376223442660438,
          -0.15995619782671722,
          -0.1842114852962865,
          -0.20337846221966904,
          -0.21730748247795117,
          -0.27652235620935683,
          -0.2558399506025769,
          -0.2544246677310844,
          -0.25435300279194717,
          -0.2549865519146506,
          -0.2561174638213237,
          -0.25539874198756596,
          -0.25552617964592317,
          -0.25952968810420873,
          -0.2648669584163398,
          -0.2657267565258381,
          -0.2671292534543518,
          -0.27426600009700997,
          -0.2756458877271404,
          -0.27873273532398213,
          -0.28450147661203296,
          -0.286261592557037,
          -0.29425367620785425,
          -0.29592894768911127,
          -0.3021853759833877,
          -0.3080407778228308,
          -0.31357980517135586,
          -0.31925330636340454,
          -0.3251826420221833,
          -0.33052386240751874,
          -0.3355492045016264,
          -0.3431338168822138,
          -0.3483479521696984,
          -0.35487536477658477,
          -0.3610536871859378,
          -0.36511282546418955,
          -0.3693479098759874,
          -0.37436712760498636,
          -0.37384216372535173,
          -0.37394528878946254,
          -0.3740296719599332,
          -0.3650345052416756,
          -0.3240238628227934,
          -0.274058152927664,
          -0.22670036465605736,
          -0.1873821505383232,
          -0.1492884638334614,
          -0.11936952839456882,
          -0.09393067964212753,
          -0.07392335363270497,
          -0.05625316833765048,
          -0.03818308812435378,
          -0.027730423429083273,
          -0.029001328954212258,
          -0.03718664255886517,
          -0.04248561408527396,
          -0.0487805923663881,
          -0.056069782431058646,
          -0.058902518446576124,
          -0.06720122951928409,
          -0.06829331176207609,
          -0.06953251019831885,
          -0.07706041848112688,
          -0.07656986076568217,
          -0.07621667511957053,
          -0.07504798836610083,
          -0.06787525550146611,
          -0.06833586953607451,
          -0.06831255031273742,
          -0.0735966477490464,
          -0.07816276784708143,
          -0.0701259574782801,
          -0.06666379976846004,
          -0.05934220507069121,
          -0.05825442633461264,
          -0.058653082973538884,
          -0.05796642353081971,
          -0.0584861124806525,
          -0.05815487070414449,
          -0.058368022683110254,
          -0.05853514870804888,
          -0.06086373502866105,
          -0.06744299432876899,
          -0.07156307676101736,
          -0.07849551091464968,
          -0.08159367496028946,
          -0.088605129093981,
          -0.09664442814283847,
          -0.1083146497677332,
          -0.1449395771692047,
          -0.1785059352418349,
          -0.2137778579188434,
          -0.24399332526264284,
          -0.27490963711012084,
          -0.2982201836544681,
          -0.3264164358614513,
          -0.3589278168358061,
          -0.37990713017040434,
          -0.3964527600192964,
          -0.411270330587726,
          -0.42758553409021127,
          -0.43967968840671323,
          -0.4563707557957176,
          -0.47294829878756794,
          -0.48759870040337955,
          -0.5089050949601458,
          -0.5343296288956829,
          -0.5489116181470937,
          -0.5701951456488323,
          -0.6131111901002211,
          -0.6549810035889438,
          -0.6849423317043916,
          -0.7169639534158219,
          -0.7407085251023108,
          -0.755189694366746,
          -0.7722788422429979,
          -0.7831241257581959,
          -0.7764099359134615,
          -0.7762536717507651,
          -0.7763389179535058,
          -0.7799503509421716,
          -0.783735318162009,
          -0.7860776423570106,
          -0.7912405820840482,
          -0.7961558789118537,
          -0.8047877000031493,
          -0.8073352990485728,
          -0.8162187951299575,
          -0.8254962423487061,
          -0.8312238742349575,
          -0.8382516392302614,
          -0.838422229828992,
          -0.8446586421944323,
          -0.8443280579455245,
          -0.8412747343378165
         ]
        }
       ],
       "layout": {
        "template": {
         "data": {
          "bar": [
           {
            "error_x": {
             "color": "#2a3f5f"
            },
            "error_y": {
             "color": "#2a3f5f"
            },
            "marker": {
             "line": {
              "color": "#E5ECF6",
              "width": 0.5
             },
             "pattern": {
              "fillmode": "overlay",
              "size": 10,
              "solidity": 0.2
             }
            },
            "type": "bar"
           }
          ],
          "barpolar": [
           {
            "marker": {
             "line": {
              "color": "#E5ECF6",
              "width": 0.5
             },
             "pattern": {
              "fillmode": "overlay",
              "size": 10,
              "solidity": 0.2
             }
            },
            "type": "barpolar"
           }
          ],
          "carpet": [
           {
            "aaxis": {
             "endlinecolor": "#2a3f5f",
             "gridcolor": "white",
             "linecolor": "white",
             "minorgridcolor": "white",
             "startlinecolor": "#2a3f5f"
            },
            "baxis": {
             "endlinecolor": "#2a3f5f",
             "gridcolor": "white",
             "linecolor": "white",
             "minorgridcolor": "white",
             "startlinecolor": "#2a3f5f"
            },
            "type": "carpet"
           }
          ],
          "choropleth": [
           {
            "colorbar": {
             "outlinewidth": 0,
             "ticks": ""
            },
            "type": "choropleth"
           }
          ],
          "contour": [
           {
            "colorbar": {
             "outlinewidth": 0,
             "ticks": ""
            },
            "colorscale": [
             [
              0,
              "#0d0887"
             ],
             [
              0.1111111111111111,
              "#46039f"
             ],
             [
              0.2222222222222222,
              "#7201a8"
             ],
             [
              0.3333333333333333,
              "#9c179e"
             ],
             [
              0.4444444444444444,
              "#bd3786"
             ],
             [
              0.5555555555555556,
              "#d8576b"
             ],
             [
              0.6666666666666666,
              "#ed7953"
             ],
             [
              0.7777777777777778,
              "#fb9f3a"
             ],
             [
              0.8888888888888888,
              "#fdca26"
             ],
             [
              1,
              "#f0f921"
             ]
            ],
            "type": "contour"
           }
          ],
          "contourcarpet": [
           {
            "colorbar": {
             "outlinewidth": 0,
             "ticks": ""
            },
            "type": "contourcarpet"
           }
          ],
          "heatmap": [
           {
            "colorbar": {
             "outlinewidth": 0,
             "ticks": ""
            },
            "colorscale": [
             [
              0,
              "#0d0887"
             ],
             [
              0.1111111111111111,
              "#46039f"
             ],
             [
              0.2222222222222222,
              "#7201a8"
             ],
             [
              0.3333333333333333,
              "#9c179e"
             ],
             [
              0.4444444444444444,
              "#bd3786"
             ],
             [
              0.5555555555555556,
              "#d8576b"
             ],
             [
              0.6666666666666666,
              "#ed7953"
             ],
             [
              0.7777777777777778,
              "#fb9f3a"
             ],
             [
              0.8888888888888888,
              "#fdca26"
             ],
             [
              1,
              "#f0f921"
             ]
            ],
            "type": "heatmap"
           }
          ],
          "heatmapgl": [
           {
            "colorbar": {
             "outlinewidth": 0,
             "ticks": ""
            },
            "colorscale": [
             [
              0,
              "#0d0887"
             ],
             [
              0.1111111111111111,
              "#46039f"
             ],
             [
              0.2222222222222222,
              "#7201a8"
             ],
             [
              0.3333333333333333,
              "#9c179e"
             ],
             [
              0.4444444444444444,
              "#bd3786"
             ],
             [
              0.5555555555555556,
              "#d8576b"
             ],
             [
              0.6666666666666666,
              "#ed7953"
             ],
             [
              0.7777777777777778,
              "#fb9f3a"
             ],
             [
              0.8888888888888888,
              "#fdca26"
             ],
             [
              1,
              "#f0f921"
             ]
            ],
            "type": "heatmapgl"
           }
          ],
          "histogram": [
           {
            "marker": {
             "pattern": {
              "fillmode": "overlay",
              "size": 10,
              "solidity": 0.2
             }
            },
            "type": "histogram"
           }
          ],
          "histogram2d": [
           {
            "colorbar": {
             "outlinewidth": 0,
             "ticks": ""
            },
            "colorscale": [
             [
              0,
              "#0d0887"
             ],
             [
              0.1111111111111111,
              "#46039f"
             ],
             [
              0.2222222222222222,
              "#7201a8"
             ],
             [
              0.3333333333333333,
              "#9c179e"
             ],
             [
              0.4444444444444444,
              "#bd3786"
             ],
             [
              0.5555555555555556,
              "#d8576b"
             ],
             [
              0.6666666666666666,
              "#ed7953"
             ],
             [
              0.7777777777777778,
              "#fb9f3a"
             ],
             [
              0.8888888888888888,
              "#fdca26"
             ],
             [
              1,
              "#f0f921"
             ]
            ],
            "type": "histogram2d"
           }
          ],
          "histogram2dcontour": [
           {
            "colorbar": {
             "outlinewidth": 0,
             "ticks": ""
            },
            "colorscale": [
             [
              0,
              "#0d0887"
             ],
             [
              0.1111111111111111,
              "#46039f"
             ],
             [
              0.2222222222222222,
              "#7201a8"
             ],
             [
              0.3333333333333333,
              "#9c179e"
             ],
             [
              0.4444444444444444,
              "#bd3786"
             ],
             [
              0.5555555555555556,
              "#d8576b"
             ],
             [
              0.6666666666666666,
              "#ed7953"
             ],
             [
              0.7777777777777778,
              "#fb9f3a"
             ],
             [
              0.8888888888888888,
              "#fdca26"
             ],
             [
              1,
              "#f0f921"
             ]
            ],
            "type": "histogram2dcontour"
           }
          ],
          "mesh3d": [
           {
            "colorbar": {
             "outlinewidth": 0,
             "ticks": ""
            },
            "type": "mesh3d"
           }
          ],
          "parcoords": [
           {
            "line": {
             "colorbar": {
              "outlinewidth": 0,
              "ticks": ""
             }
            },
            "type": "parcoords"
           }
          ],
          "pie": [
           {
            "automargin": true,
            "type": "pie"
           }
          ],
          "scatter": [
           {
            "fillpattern": {
             "fillmode": "overlay",
             "size": 10,
             "solidity": 0.2
            },
            "type": "scatter"
           }
          ],
          "scatter3d": [
           {
            "line": {
             "colorbar": {
              "outlinewidth": 0,
              "ticks": ""
             }
            },
            "marker": {
             "colorbar": {
              "outlinewidth": 0,
              "ticks": ""
             }
            },
            "type": "scatter3d"
           }
          ],
          "scattercarpet": [
           {
            "marker": {
             "colorbar": {
              "outlinewidth": 0,
              "ticks": ""
             }
            },
            "type": "scattercarpet"
           }
          ],
          "scattergeo": [
           {
            "marker": {
             "colorbar": {
              "outlinewidth": 0,
              "ticks": ""
             }
            },
            "type": "scattergeo"
           }
          ],
          "scattergl": [
           {
            "marker": {
             "colorbar": {
              "outlinewidth": 0,
              "ticks": ""
             }
            },
            "type": "scattergl"
           }
          ],
          "scattermapbox": [
           {
            "marker": {
             "colorbar": {
              "outlinewidth": 0,
              "ticks": ""
             }
            },
            "type": "scattermapbox"
           }
          ],
          "scatterpolar": [
           {
            "marker": {
             "colorbar": {
              "outlinewidth": 0,
              "ticks": ""
             }
            },
            "type": "scatterpolar"
           }
          ],
          "scatterpolargl": [
           {
            "marker": {
             "colorbar": {
              "outlinewidth": 0,
              "ticks": ""
             }
            },
            "type": "scatterpolargl"
           }
          ],
          "scatterternary": [
           {
            "marker": {
             "colorbar": {
              "outlinewidth": 0,
              "ticks": ""
             }
            },
            "type": "scatterternary"
           }
          ],
          "surface": [
           {
            "colorbar": {
             "outlinewidth": 0,
             "ticks": ""
            },
            "colorscale": [
             [
              0,
              "#0d0887"
             ],
             [
              0.1111111111111111,
              "#46039f"
             ],
             [
              0.2222222222222222,
              "#7201a8"
             ],
             [
              0.3333333333333333,
              "#9c179e"
             ],
             [
              0.4444444444444444,
              "#bd3786"
             ],
             [
              0.5555555555555556,
              "#d8576b"
             ],
             [
              0.6666666666666666,
              "#ed7953"
             ],
             [
              0.7777777777777778,
              "#fb9f3a"
             ],
             [
              0.8888888888888888,
              "#fdca26"
             ],
             [
              1,
              "#f0f921"
             ]
            ],
            "type": "surface"
           }
          ],
          "table": [
           {
            "cells": {
             "fill": {
              "color": "#EBF0F8"
             },
             "line": {
              "color": "white"
             }
            },
            "header": {
             "fill": {
              "color": "#C8D4E3"
             },
             "line": {
              "color": "white"
             }
            },
            "type": "table"
           }
          ]
         },
         "layout": {
          "annotationdefaults": {
           "arrowcolor": "#2a3f5f",
           "arrowhead": 0,
           "arrowwidth": 1
          },
          "autotypenumbers": "strict",
          "coloraxis": {
           "colorbar": {
            "outlinewidth": 0,
            "ticks": ""
           }
          },
          "colorscale": {
           "diverging": [
            [
             0,
             "#8e0152"
            ],
            [
             0.1,
             "#c51b7d"
            ],
            [
             0.2,
             "#de77ae"
            ],
            [
             0.3,
             "#f1b6da"
            ],
            [
             0.4,
             "#fde0ef"
            ],
            [
             0.5,
             "#f7f7f7"
            ],
            [
             0.6,
             "#e6f5d0"
            ],
            [
             0.7,
             "#b8e186"
            ],
            [
             0.8,
             "#7fbc41"
            ],
            [
             0.9,
             "#4d9221"
            ],
            [
             1,
             "#276419"
            ]
           ],
           "sequential": [
            [
             0,
             "#0d0887"
            ],
            [
             0.1111111111111111,
             "#46039f"
            ],
            [
             0.2222222222222222,
             "#7201a8"
            ],
            [
             0.3333333333333333,
             "#9c179e"
            ],
            [
             0.4444444444444444,
             "#bd3786"
            ],
            [
             0.5555555555555556,
             "#d8576b"
            ],
            [
             0.6666666666666666,
             "#ed7953"
            ],
            [
             0.7777777777777778,
             "#fb9f3a"
            ],
            [
             0.8888888888888888,
             "#fdca26"
            ],
            [
             1,
             "#f0f921"
            ]
           ],
           "sequentialminus": [
            [
             0,
             "#0d0887"
            ],
            [
             0.1111111111111111,
             "#46039f"
            ],
            [
             0.2222222222222222,
             "#7201a8"
            ],
            [
             0.3333333333333333,
             "#9c179e"
            ],
            [
             0.4444444444444444,
             "#bd3786"
            ],
            [
             0.5555555555555556,
             "#d8576b"
            ],
            [
             0.6666666666666666,
             "#ed7953"
            ],
            [
             0.7777777777777778,
             "#fb9f3a"
            ],
            [
             0.8888888888888888,
             "#fdca26"
            ],
            [
             1,
             "#f0f921"
            ]
           ]
          },
          "colorway": [
           "#636efa",
           "#EF553B",
           "#00cc96",
           "#ab63fa",
           "#FFA15A",
           "#19d3f3",
           "#FF6692",
           "#B6E880",
           "#FF97FF",
           "#FECB52"
          ],
          "font": {
           "color": "#2a3f5f"
          },
          "geo": {
           "bgcolor": "white",
           "lakecolor": "white",
           "landcolor": "#E5ECF6",
           "showlakes": true,
           "showland": true,
           "subunitcolor": "white"
          },
          "hoverlabel": {
           "align": "left"
          },
          "hovermode": "closest",
          "mapbox": {
           "style": "light"
          },
          "paper_bgcolor": "white",
          "plot_bgcolor": "#E5ECF6",
          "polar": {
           "angularaxis": {
            "gridcolor": "white",
            "linecolor": "white",
            "ticks": ""
           },
           "bgcolor": "#E5ECF6",
           "radialaxis": {
            "gridcolor": "white",
            "linecolor": "white",
            "ticks": ""
           }
          },
          "scene": {
           "xaxis": {
            "backgroundcolor": "#E5ECF6",
            "gridcolor": "white",
            "gridwidth": 2,
            "linecolor": "white",
            "showbackground": true,
            "ticks": "",
            "zerolinecolor": "white"
           },
           "yaxis": {
            "backgroundcolor": "#E5ECF6",
            "gridcolor": "white",
            "gridwidth": 2,
            "linecolor": "white",
            "showbackground": true,
            "ticks": "",
            "zerolinecolor": "white"
           },
           "zaxis": {
            "backgroundcolor": "#E5ECF6",
            "gridcolor": "white",
            "gridwidth": 2,
            "linecolor": "white",
            "showbackground": true,
            "ticks": "",
            "zerolinecolor": "white"
           }
          },
          "shapedefaults": {
           "line": {
            "color": "#2a3f5f"
           }
          },
          "ternary": {
           "aaxis": {
            "gridcolor": "white",
            "linecolor": "white",
            "ticks": ""
           },
           "baxis": {
            "gridcolor": "white",
            "linecolor": "white",
            "ticks": ""
           },
           "bgcolor": "#E5ECF6",
           "caxis": {
            "gridcolor": "white",
            "linecolor": "white",
            "ticks": ""
           }
          },
          "title": {
           "x": 0.05
          },
          "xaxis": {
           "automargin": true,
           "gridcolor": "white",
           "linecolor": "white",
           "ticks": "",
           "title": {
            "standoff": 15
           },
           "zerolinecolor": "white",
           "zerolinewidth": 2
          },
          "yaxis": {
           "automargin": true,
           "gridcolor": "white",
           "linecolor": "white",
           "ticks": "",
           "title": {
            "standoff": 15
           },
           "zerolinecolor": "white",
           "zerolinewidth": 2
          }
         }
        }
       }
      }
     },
     "metadata": {},
     "output_type": "display_data"
    }
   ],
   "source": [
    "freqdf[\"filtered temp\"] = scipy.signal.lfilter(b, a, freqdf[\"Temp C\"])\n",
    "\n",
    "fig = go.Figure()\n",
    "\n",
    "fig.add_trace(go.Scatter(\n",
    "    x=freqdf[\"Time\"], y=a01[\"Window Open\"], name=\"Window\", mode='lines',\n",
    "))\n",
    "\n",
    "\n",
    "fig.add_trace(go.Scatter(\n",
    "    x=freqdf[\"Time\"],\n",
    "    y=h.normalize(freqdf[\"Temp C\"]), \n",
    "    name=\"temp\",\n",
    "    mode='lines',\n",
    "))\n",
    "\n",
    "fig.add_trace(go.Scatter(\n",
    "    x=freqdf[\"Time\"],\n",
    "    y=h.normalize(freqdf[\"filtered temp\"]), \n",
    "    name=\"filtered\",\n",
    "    mode='lines',\n",
    "))\n",
    "\n",
    "dif = h.normalize(freqdf[\"Temp C\"]) -  h.normalize(freqdf[\"filtered temp\"])\n",
    "\n",
    "fig.add_trace(go.Scatter(\n",
    "    x=freqdf[\"Time\"], y=dif, name=\"dif\", mode='lines',\n",
    "))\n",
    "\n",
    "\n"
   ]
  },
  {
   "cell_type": "code",
   "execution_count": null,
   "metadata": {},
   "outputs": [],
   "source": []
  },
  {
   "cell_type": "code",
   "execution_count": 199,
   "metadata": {},
   "outputs": [
    {
     "data": {
      "application/vnd.plotly.v1+json": {
       "config": {
        "plotlyServerURL": "https://plotly.com"
       },
       "data": [
        {
         "mode": "lines",
         "name": "Window",
         "type": "scatter",
         "x": [
          0,
          900,
          1800,
          2700,
          3600,
          4500,
          5400,
          6300,
          7200,
          8100.000000000001,
          9000,
          9900,
          10800,
          11700,
          12600,
          13500,
          14400,
          15300.000000000002,
          16200.000000000002,
          17100,
          18000,
          18900,
          19800,
          20700,
          21600,
          22500,
          23400,
          24300,
          25200,
          26100,
          27000,
          27900,
          28800,
          29700.000000000004,
          30600.000000000004,
          31500.000000000004,
          32400.000000000004,
          33300,
          34200,
          35100,
          36000,
          36900,
          37800,
          38700,
          39600,
          40500,
          41400,
          42300,
          43200,
          44100,
          45000,
          45900,
          46800,
          47700,
          48600,
          49500,
          50400,
          51300,
          52200,
          53100,
          54000,
          54900,
          55800,
          56700,
          57600,
          58500.00000000001,
          59400.00000000001,
          60300.00000000001,
          61200.00000000001,
          62100.00000000001,
          63000.00000000001,
          63900.00000000001,
          64800.00000000001,
          65700,
          66600,
          67500,
          68400,
          69300,
          70200,
          71100,
          72000,
          72900,
          73800,
          74700,
          75600,
          76500,
          77400,
          78300,
          79200,
          80100,
          81000,
          81900,
          82800,
          83700,
          84600,
          85500,
          86400,
          87300,
          88200,
          89100,
          90000,
          90900,
          91800,
          92700,
          93600,
          94500,
          95400,
          96300,
          97200,
          98100,
          99000,
          99900,
          100800,
          101700,
          102600,
          103500,
          104400,
          105300,
          106200,
          107100,
          108000,
          108900,
          109800,
          110700,
          111600,
          112500,
          113400,
          114300,
          115200,
          116100,
          117000.00000000001,
          117900.00000000001,
          118800.00000000001,
          119700.00000000001,
          120600.00000000001,
          121500.00000000001,
          122400.00000000001,
          123300.00000000001,
          124200.00000000001,
          125100.00000000001,
          126000.00000000001,
          126900.00000000001,
          127800.00000000001,
          128700.00000000001,
          129600.00000000001,
          130500.00000000001,
          131400,
          132300,
          133200,
          134100,
          135000,
          135900,
          136800,
          137700,
          138600,
          139500,
          140400,
          141300,
          142200,
          143100,
          144000,
          144900,
          145800,
          146700,
          147600,
          148500,
          149400,
          150300,
          151200,
          152100,
          153000,
          153900,
          154800,
          155700,
          156600,
          157500,
          158400,
          159300,
          160200,
          161100,
          162000,
          162900,
          163800,
          164700,
          165600,
          166500,
          167400,
          168300,
          169200,
          170100,
          171000,
          171900,
          172800,
          173700,
          174600,
          175500,
          176400,
          177300,
          178200,
          179100,
          180000,
          180900,
          181800,
          182700,
          183600,
          184500,
          185400,
          186300,
          187200,
          188100,
          189000,
          189900,
          190800,
          191700,
          192600,
          193500,
          194400,
          195300,
          196200,
          197100,
          198000,
          198900,
          199800,
          200700,
          201600,
          202500,
          203400,
          204300,
          205200,
          206100,
          207000,
          207900,
          208800,
          209700,
          210600,
          211500,
          212400,
          213300,
          214200,
          215100,
          216000,
          216900,
          217800,
          218700,
          219600,
          220500,
          221400,
          222300,
          223200,
          224100,
          225000,
          225900,
          226800,
          227700,
          228600,
          229500,
          230400,
          231300,
          232200,
          233100,
          234000.00000000003,
          234900.00000000003,
          235800.00000000003,
          236700.00000000003,
          237600.00000000003,
          238500.00000000003,
          239400.00000000003,
          240300.00000000003,
          241200.00000000003,
          242100.00000000003,
          243000.00000000003,
          243900.00000000003,
          244800.00000000003,
          245700.00000000003,
          246600.00000000003,
          247500.00000000003,
          248400.00000000003,
          249300.00000000003,
          250200.00000000003,
          251100.00000000003,
          252000.00000000003,
          252900.00000000003,
          253800.00000000003,
          254700.00000000003,
          255600.00000000003,
          256500.00000000003,
          257400.00000000003,
          258300.00000000003,
          259200.00000000003,
          260100.00000000003,
          261000.00000000003,
          261900.00000000003,
          262800,
          263700,
          264600,
          265500,
          266400,
          267300,
          268200,
          269100,
          270000,
          270900,
          271800,
          272700,
          273600,
          274500,
          275400,
          276300,
          277200,
          278100,
          279000,
          279900,
          280800,
          281700,
          282600,
          283500,
          284400,
          285300,
          286200,
          287100,
          288000,
          288900,
          289800,
          290700,
          291600,
          292500,
          293400,
          294300,
          295200,
          296100,
          297000,
          297900,
          298800,
          299700,
          300600,
          301500,
          302400,
          303300,
          304200,
          305100,
          306000,
          306900,
          307800,
          308700,
          309600,
          310500,
          311400,
          312300,
          313200,
          314100,
          315000,
          315900,
          316800,
          317700,
          318600,
          319500,
          320400,
          321300,
          322200,
          323100,
          324000,
          324900,
          325800,
          326700,
          327600,
          328500,
          329400,
          330300,
          331200,
          332100,
          333000,
          333900,
          334800,
          335700,
          336600,
          337500,
          338400,
          339300,
          340200,
          341100,
          342000,
          342900,
          343800,
          344700,
          345600
         ],
         "y": [
          0,
          0,
          1,
          1,
          1,
          1,
          1,
          1,
          1,
          1,
          1,
          1,
          1,
          1,
          1,
          1,
          1,
          1,
          1,
          1,
          1,
          0,
          0,
          0,
          0,
          0,
          0,
          0,
          0,
          0,
          0,
          0,
          0,
          0,
          0,
          0,
          0,
          0,
          0,
          0,
          0,
          0,
          0,
          0,
          0,
          0,
          0,
          0,
          0,
          0,
          0,
          0,
          0,
          0,
          0,
          0,
          0,
          0,
          0,
          0,
          0,
          1,
          1,
          1,
          1,
          1,
          1,
          1,
          1,
          1,
          1,
          1,
          1,
          1,
          1,
          1,
          1,
          1,
          1,
          1,
          1,
          1,
          1,
          1,
          1,
          1,
          1,
          1,
          1,
          1,
          1,
          1,
          1,
          1,
          1,
          1,
          1,
          1,
          1,
          1,
          1,
          1,
          1,
          1,
          1,
          1,
          1,
          1,
          1,
          1,
          1,
          1,
          1,
          1,
          1,
          1,
          1,
          1,
          1,
          1,
          0,
          0,
          0,
          0,
          0,
          0,
          0,
          1,
          1,
          1,
          1,
          1,
          1,
          1,
          1,
          1,
          1,
          0,
          0,
          0,
          0,
          0,
          0,
          0,
          0,
          0,
          0,
          0,
          0,
          0,
          0,
          0,
          0,
          0,
          0,
          0,
          0,
          0,
          1,
          1,
          1,
          1,
          1,
          1,
          1,
          1,
          1,
          1,
          1,
          1,
          1,
          1,
          1,
          1,
          1,
          1,
          1,
          1,
          1,
          1,
          1,
          1,
          1,
          1,
          1,
          1,
          1,
          1,
          1,
          1,
          1,
          1,
          1,
          1,
          0,
          0,
          0,
          0,
          0,
          0,
          0,
          0,
          0,
          0,
          0,
          0,
          0,
          0,
          1,
          1,
          1,
          1,
          1,
          1,
          1,
          1,
          1,
          1,
          1,
          1,
          1,
          1,
          1,
          1,
          1,
          1,
          1,
          0,
          0,
          0,
          0,
          0,
          0,
          0,
          0,
          0,
          0,
          0,
          0,
          0,
          0,
          0,
          0,
          0,
          0,
          0,
          0,
          0,
          0,
          0,
          0,
          0,
          0,
          0,
          0,
          1,
          1,
          1,
          1,
          1,
          1,
          1,
          1,
          1,
          1,
          1,
          1,
          1,
          1,
          1,
          1,
          1,
          1,
          1,
          1,
          1,
          1,
          1,
          1,
          1,
          1,
          1,
          1,
          1,
          1,
          1,
          1,
          1,
          1,
          1,
          1,
          1,
          1,
          1,
          1,
          1,
          1,
          1,
          1,
          1,
          1,
          1,
          1,
          1,
          1,
          1,
          1,
          1,
          1,
          1,
          1,
          1,
          1,
          1,
          1,
          1,
          1,
          1,
          1,
          1,
          1,
          1,
          1,
          1,
          1,
          1,
          1,
          1,
          1,
          1,
          1,
          1,
          1,
          1,
          1,
          1,
          1,
          1,
          0,
          0,
          0,
          0,
          0,
          0,
          0,
          0,
          0,
          0,
          0,
          0,
          0,
          0,
          0,
          0,
          0,
          0,
          0,
          0,
          0,
          0,
          0,
          0,
          0,
          0,
          0,
          0,
          0,
          0,
          0,
          0,
          0,
          0,
          0,
          0,
          0,
          0,
          0,
          0,
          0,
          0,
          0,
          0,
          0,
          0,
          0
         ]
        },
        {
         "mode": "lines",
         "name": "ddt",
         "type": "scatter",
         "x": [
          0,
          900,
          1800,
          2700,
          3600,
          4500,
          5400,
          6300,
          7200,
          8100.000000000001,
          9000,
          9900,
          10800,
          11700,
          12600,
          13500,
          14400,
          15300.000000000002,
          16200.000000000002,
          17100,
          18000,
          18900,
          19800,
          20700,
          21600,
          22500,
          23400,
          24300,
          25200,
          26100,
          27000,
          27900,
          28800,
          29700.000000000004,
          30600.000000000004,
          31500.000000000004,
          32400.000000000004,
          33300,
          34200,
          35100,
          36000,
          36900,
          37800,
          38700,
          39600,
          40500,
          41400,
          42300,
          43200,
          44100,
          45000,
          45900,
          46800,
          47700,
          48600,
          49500,
          50400,
          51300,
          52200,
          53100,
          54000,
          54900,
          55800,
          56700,
          57600,
          58500.00000000001,
          59400.00000000001,
          60300.00000000001,
          61200.00000000001,
          62100.00000000001,
          63000.00000000001,
          63900.00000000001,
          64800.00000000001,
          65700,
          66600,
          67500,
          68400,
          69300,
          70200,
          71100,
          72000,
          72900,
          73800,
          74700,
          75600,
          76500,
          77400,
          78300,
          79200,
          80100,
          81000,
          81900,
          82800,
          83700,
          84600,
          85500,
          86400,
          87300,
          88200,
          89100,
          90000,
          90900,
          91800,
          92700,
          93600,
          94500,
          95400,
          96300,
          97200,
          98100,
          99000,
          99900,
          100800,
          101700,
          102600,
          103500,
          104400,
          105300,
          106200,
          107100,
          108000,
          108900,
          109800,
          110700,
          111600,
          112500,
          113400,
          114300,
          115200,
          116100,
          117000.00000000001,
          117900.00000000001,
          118800.00000000001,
          119700.00000000001,
          120600.00000000001,
          121500.00000000001,
          122400.00000000001,
          123300.00000000001,
          124200.00000000001,
          125100.00000000001,
          126000.00000000001,
          126900.00000000001,
          127800.00000000001,
          128700.00000000001,
          129600.00000000001,
          130500.00000000001,
          131400,
          132300,
          133200,
          134100,
          135000,
          135900,
          136800,
          137700,
          138600,
          139500,
          140400,
          141300,
          142200,
          143100,
          144000,
          144900,
          145800,
          146700,
          147600,
          148500,
          149400,
          150300,
          151200,
          152100,
          153000,
          153900,
          154800,
          155700,
          156600,
          157500,
          158400,
          159300,
          160200,
          161100,
          162000,
          162900,
          163800,
          164700,
          165600,
          166500,
          167400,
          168300,
          169200,
          170100,
          171000,
          171900,
          172800,
          173700,
          174600,
          175500,
          176400,
          177300,
          178200,
          179100,
          180000,
          180900,
          181800,
          182700,
          183600,
          184500,
          185400,
          186300,
          187200,
          188100,
          189000,
          189900,
          190800,
          191700,
          192600,
          193500,
          194400,
          195300,
          196200,
          197100,
          198000,
          198900,
          199800,
          200700,
          201600,
          202500,
          203400,
          204300,
          205200,
          206100,
          207000,
          207900,
          208800,
          209700,
          210600,
          211500,
          212400,
          213300,
          214200,
          215100,
          216000,
          216900,
          217800,
          218700,
          219600,
          220500,
          221400,
          222300,
          223200,
          224100,
          225000,
          225900,
          226800,
          227700,
          228600,
          229500,
          230400,
          231300,
          232200,
          233100,
          234000.00000000003,
          234900.00000000003,
          235800.00000000003,
          236700.00000000003,
          237600.00000000003,
          238500.00000000003,
          239400.00000000003,
          240300.00000000003,
          241200.00000000003,
          242100.00000000003,
          243000.00000000003,
          243900.00000000003,
          244800.00000000003,
          245700.00000000003,
          246600.00000000003,
          247500.00000000003,
          248400.00000000003,
          249300.00000000003,
          250200.00000000003,
          251100.00000000003,
          252000.00000000003,
          252900.00000000003,
          253800.00000000003,
          254700.00000000003,
          255600.00000000003,
          256500.00000000003,
          257400.00000000003,
          258300.00000000003,
          259200.00000000003,
          260100.00000000003,
          261000.00000000003,
          261900.00000000003,
          262800,
          263700,
          264600,
          265500,
          266400,
          267300,
          268200,
          269100,
          270000,
          270900,
          271800,
          272700,
          273600,
          274500,
          275400,
          276300,
          277200,
          278100,
          279000,
          279900,
          280800,
          281700,
          282600,
          283500,
          284400,
          285300,
          286200,
          287100,
          288000,
          288900,
          289800,
          290700,
          291600,
          292500,
          293400,
          294300,
          295200,
          296100,
          297000,
          297900,
          298800,
          299700,
          300600,
          301500,
          302400,
          303300,
          304200,
          305100,
          306000,
          306900,
          307800,
          308700,
          309600,
          310500,
          311400,
          312300,
          313200,
          314100,
          315000,
          315900,
          316800,
          317700,
          318600,
          319500,
          320400,
          321300,
          322200,
          323100,
          324000,
          324900,
          325800,
          326700,
          327600,
          328500,
          329400,
          330300,
          331200,
          332100,
          333000,
          333900,
          334800,
          335700,
          336600,
          337500,
          338400,
          339300,
          340200,
          341100,
          342000,
          342900,
          343800,
          344700,
          345600
         ],
         "y": [
          0.1656706756426135,
          0.20203246363025246,
          0.5610962386837682,
          0.8147073741421089,
          0.7839548502234458,
          0.8757606395478765,
          0.9793163570091927,
          1,
          0.9362835090989704,
          0.8492186665479374,
          0.761398345449771,
          0.6826442273145018,
          0.6244853214323843,
          0.5780508600070433,
          0.436539853965432,
          0.27187085286757695,
          0.2678158695000375,
          0.303468966957414,
          0.30843845627748295,
          0.3483951248631685,
          0.2567249584205622,
          0.12781274952877517,
          0.13956294829507457,
          0.18629791061642922,
          0.19946629533208457,
          0.3404574036957515,
          0.4388171411292252,
          0.43135383869288124,
          0.4697937112831252,
          0.3900557403072607,
          0.29987968687032485,
          0.3933293741546185,
          0.48179614998847536,
          0.45100839249661806,
          0.3883031652178269,
          0.42141617358681566,
          0.46246041598911747,
          0.4902587165473144,
          0.5890314312141212,
          0.5326437356616451,
          0.4331059811049545,
          0.5649629284502717,
          0.7132911730396561,
          0.7314359545859608,
          0.8203856902828973,
          0.7980713245011264,
          0.6925989781158797,
          0.6643306023204236,
          0.6071007286970398,
          0.55455092877545,
          0.5142492004503539,
          0.5311312787058451,
          0.4879923363448812,
          0.3741970865021243,
          0.33876808681091863,
          0.39194046435506125,
          0.48315955964978075,
          0.5336189414725179,
          0.5169824754828589,
          0.4255232456008709,
          0.5881073839529826,
          0.9219787669378321,
          0.9838232766790581,
          0.9160137233696591,
          0.8554792272969967,
          0.7731175668136556,
          0.767959291656348,
          0.7802427899979216,
          0.7520796758241823,
          0.7563607022085918,
          0.7632302411533526,
          0.7951470018139143,
          0.8465511314274253,
          0.8259497360257427,
          0.7987830928746462,
          0.781922087294879,
          0.7492725910873622,
          0.7046351399886667,
          0.6612322809786367,
          0.6764257419079348,
          0.6715123839758439,
          0.617454438139019,
          0.5882786748550742,
          0.5626573477926964,
          0.5056417632841919,
          0.46985629384962696,
          0.48068139683728167,
          0.4387953512226,
          0.3979913031176793,
          0.3629439401245656,
          0.3169208394174825,
          0.30670754016978846,
          0.29315096471880747,
          0.295010741386477,
          0.2787349036520122,
          0.27802458602761293,
          0.2926393885308055,
          0.24885345568422204,
          0.22971124022507527,
          0.2542678991239543,
          0.2544700293483968,
          0.28634023144766596,
          0.49634923253830515,
          0.7504216712416457,
          0.7664226521044605,
          0.6870732135250206,
          0.593438937600927,
          0.5056303956320436,
          0.5152119363504541,
          0.4910374389428287,
          0.4027607572526316,
          0.3015309045431412,
          0.25834132098393026,
          0.2854096502650118,
          0.28698173723469617,
          0.25627141334953046,
          0.2640178087247061,
          0.27345547445730073,
          0.2781723053350221,
          0.21998656024182184,
          0.18394070459602177,
          0.26853928875719263,
          0.36164258513909747,
          0.4015481726774177,
          0.41824729943709343,
          0.4172851448566828,
          0.37929400963060844,
          0.4222158785097648,
          0.443775308099241,
          0.40840457597802915,
          0.44189959861686967,
          0.4456362791053741,
          0.4127642017143957,
          0.4405059526500704,
          0.4897041272898897,
          0.5623009579194876,
          0.625209365536763,
          0.583457872099033,
          0.3327341478603749,
          0.1744378133613349,
          0.36949158150976985,
          0.5243254788820514,
          0.4423107597050887,
          0.41169703497560645,
          0.4394157598915563,
          0.41104543055664144,
          0.4530876050820232,
          0.42691765221613376,
          0.3842373822048082,
          0.47919191142907264,
          0.5084805581453014,
          0.5000745898110373,
          0.50849350289059,
          0.4997550375483964,
          0.47413186887366043,
          0.4439668510167907,
          0.48824025554903355,
          0.6800991751822764,
          0.8560566893995197,
          0.8952883147698187,
          0.9025602880182622,
          0.8816054155224731,
          0.889249848794667,
          0.8675861604174022,
          0.8222310346384637,
          0.812984202659534,
          0.808108526187832,
          0.787081081001241,
          0.7704842969486095,
          0.7620915295336177,
          0.7488669102823416,
          0.7458020543633065,
          0.7174513415196353,
          0.6788146833868911,
          0.6635778498887611,
          0.669934342186414,
          0.6475077206583967,
          0.6057071249089734,
          0.5987813725887818,
          0.5763624191700952,
          0.5403162843833655,
          0.5234919348519492,
          0.5006699525495311,
          0.4740325088839219,
          0.4568162612575732,
          0.4253614756133494,
          0.4199946650751908,
          0.420325695551246,
          0.38720418196857925,
          0.47016754951195733,
          0.6508474262666952,
          0.7142456950772189,
          0.7475444189243091,
          0.8263252392371887,
          0.5279799897507846,
          0.3014146869733447,
          0.6365550983569608,
          0.8335897945599849,
          0.7064598065122352,
          0.4391624193987009,
          0.3068437775635395,
          0.40926835110585313,
          0.33111712855872594,
          0.16210420386710248,
          0.025177472693850015,
          0,
          0.21760552178691392,
          0.33730145435765496,
          0.24685578633566718,
          0.16034415506298613,
          0.1272015805660608,
          0.14594931088673121,
          0.1796074971916361,
          0.18169437467629046,
          0.19049272182308094,
          0.20053311349309258,
          0.20805361422816665,
          0.2205744228434667,
          0.23642560277437402,
          0.2726924305019368,
          0.29445736243441695,
          0.28026516727035633,
          0.30471327150753275,
          0.4946270409822722,
          0.7317043407263467,
          0.6804609853809512,
          0.5471106908271586,
          0.5370858524159074,
          0.5334733589139151,
          0.5441381766132118,
          0.5398127118936917,
          0.5447049761009295,
          0.528843696734627,
          0.4853755473589185,
          0.490581502585101,
          0.5166676442168655,
          0.514511326025457,
          0.4860543796374959,
          0.48157898388680337,
          0.49905854934301985,
          0.529384129382277,
          0.5558198487298424,
          0.5461411966015737,
          0.5360817417876496,
          0.5353005384352651,
          0.5585191336415843,
          0.5488476729705285,
          0.49711664206790157,
          0.5084318555014068,
          0.5530030966914226,
          0.5440639794588379,
          0.5147287190777674,
          0.5367254825764946,
          0.6017656578905621,
          0.4028863934387757,
          0.5709676984633114,
          0.9082686235675275,
          0.8423228796541256,
          0.8161155878882617,
          0.8035623925615628,
          0.8196067960221252,
          0.8156786319720705,
          0.7917862425970004,
          0.7572841783710764,
          0.7626325970077792,
          0.7817003886076394,
          0.7397881269785508,
          0.7284713170922391,
          0.7384472069847838,
          0.7062397118618596,
          0.6989178283691484,
          0.6723188174717174,
          0.6594251485056812,
          0.6512663232647993,
          0.614822250100458,
          0.5996662539746441,
          0.5819698453534136,
          0.5636728922189034,
          0.5448494914047892,
          0.5311804811776396,
          0.5003254756101984,
          0.47766261837389384,
          0.46350617901170077,
          0.4384773100421754,
          0.43083687214408317,
          0.4217516328607065,
          0.39783714715597507,
          0.40214380256255516,
          0.41046587054805206,
          0.39112368004374587,
          0.4189236872604684,
          0.6214473175573418,
          0.8407501993969199,
          0.8777851098170019,
          0.8055592375673867,
          0.7338181452941124,
          0.6662836420307033,
          0.5811419466610271,
          0.509897187708901,
          0.4526014578890973,
          0.42821824673661096,
          0.37988877779846336,
          0.26631810351985835,
          0.15074812272707375,
          0.11424167802861503,
          0.11868087097888144,
          0.10632662272546167,
          0.12086259146430069,
          0.11613781532931823,
          0.1257839538279354,
          0.16443402941639096,
          0.13773731351170976,
          0.14773272795333903,
          0.19401422809071822,
          0.21039435802577913,
          0.253281491626503,
          0.25647827651120575,
          0.22967834893641767,
          0.2098153579463192,
          0.1968436485309656,
          0.2782853240122819,
          0.3409044267965448,
          0.3582547604099384,
          0.3586871445214374,
          0.334352601370315,
          0.3462112042674191,
          0.36243277900167536,
          0.38107586457063697,
          0.4001967592520121,
          0.41784982634874873,
          0.42648319828278647,
          0.4110708935799244,
          0.41940428627446635,
          0.43630008900525047,
          0.46284363581026505,
          0.4827615584624225,
          0.47674501056599006,
          0.46977781276439784,
          0.33575386765558174,
          0.22623011046657324,
          0.2393656597766454,
          0.27879494971388635,
          0.3214816631575806,
          0.37490603817087326,
          0.4101212065096239,
          0.3770104597165261,
          0.42442411602769836,
          0.5251379827089612,
          0.5791496550528556,
          0.5937268129630703,
          0.6168526835449109,
          0.6260681358324411,
          0.6095829995525638,
          0.6243461927847416,
          0.6059561768475067,
          0.5512779222251374,
          0.583285213156349,
          0.6102693199179612,
          0.46486449574742394,
          0.3391836539131617,
          0.39397470038016563,
          0.45200167117330725,
          0.48494514186331866,
          0.5720681718917956,
          0.6094771059787711,
          0.6232790273992921,
          0.7386784421867203,
          0.798785850880898,
          0.7569402524156612,
          0.7178094351912305,
          0.6833141509284124,
          0.6740611074240473,
          0.6508782070296979,
          0.6213018832478421,
          0.5835307482137646,
          0.5768668075014096,
          0.5584137689792453,
          0.5039597204650449,
          0.49765057889585146,
          0.490991571457063,
          0.5027446560282509,
          0.48815397613462463,
          0.47158795737922043,
          0.4998338971801578,
          0.5046199159557267
         ]
        },
        {
         "mode": "lines",
         "name": "filtered",
         "type": "scatter",
         "x": [
          0,
          900,
          1800,
          2700,
          3600,
          4500,
          5400,
          6300,
          7200,
          8100.000000000001,
          9000,
          9900,
          10800,
          11700,
          12600,
          13500,
          14400,
          15300.000000000002,
          16200.000000000002,
          17100,
          18000,
          18900,
          19800,
          20700,
          21600,
          22500,
          23400,
          24300,
          25200,
          26100,
          27000,
          27900,
          28800,
          29700.000000000004,
          30600.000000000004,
          31500.000000000004,
          32400.000000000004,
          33300,
          34200,
          35100,
          36000,
          36900,
          37800,
          38700,
          39600,
          40500,
          41400,
          42300,
          43200,
          44100,
          45000,
          45900,
          46800,
          47700,
          48600,
          49500,
          50400,
          51300,
          52200,
          53100,
          54000,
          54900,
          55800,
          56700,
          57600,
          58500.00000000001,
          59400.00000000001,
          60300.00000000001,
          61200.00000000001,
          62100.00000000001,
          63000.00000000001,
          63900.00000000001,
          64800.00000000001,
          65700,
          66600,
          67500,
          68400,
          69300,
          70200,
          71100,
          72000,
          72900,
          73800,
          74700,
          75600,
          76500,
          77400,
          78300,
          79200,
          80100,
          81000,
          81900,
          82800,
          83700,
          84600,
          85500,
          86400,
          87300,
          88200,
          89100,
          90000,
          90900,
          91800,
          92700,
          93600,
          94500,
          95400,
          96300,
          97200,
          98100,
          99000,
          99900,
          100800,
          101700,
          102600,
          103500,
          104400,
          105300,
          106200,
          107100,
          108000,
          108900,
          109800,
          110700,
          111600,
          112500,
          113400,
          114300,
          115200,
          116100,
          117000.00000000001,
          117900.00000000001,
          118800.00000000001,
          119700.00000000001,
          120600.00000000001,
          121500.00000000001,
          122400.00000000001,
          123300.00000000001,
          124200.00000000001,
          125100.00000000001,
          126000.00000000001,
          126900.00000000001,
          127800.00000000001,
          128700.00000000001,
          129600.00000000001,
          130500.00000000001,
          131400,
          132300,
          133200,
          134100,
          135000,
          135900,
          136800,
          137700,
          138600,
          139500,
          140400,
          141300,
          142200,
          143100,
          144000,
          144900,
          145800,
          146700,
          147600,
          148500,
          149400,
          150300,
          151200,
          152100,
          153000,
          153900,
          154800,
          155700,
          156600,
          157500,
          158400,
          159300,
          160200,
          161100,
          162000,
          162900,
          163800,
          164700,
          165600,
          166500,
          167400,
          168300,
          169200,
          170100,
          171000,
          171900,
          172800,
          173700,
          174600,
          175500,
          176400,
          177300,
          178200,
          179100,
          180000,
          180900,
          181800,
          182700,
          183600,
          184500,
          185400,
          186300,
          187200,
          188100,
          189000,
          189900,
          190800,
          191700,
          192600,
          193500,
          194400,
          195300,
          196200,
          197100,
          198000,
          198900,
          199800,
          200700,
          201600,
          202500,
          203400,
          204300,
          205200,
          206100,
          207000,
          207900,
          208800,
          209700,
          210600,
          211500,
          212400,
          213300,
          214200,
          215100,
          216000,
          216900,
          217800,
          218700,
          219600,
          220500,
          221400,
          222300,
          223200,
          224100,
          225000,
          225900,
          226800,
          227700,
          228600,
          229500,
          230400,
          231300,
          232200,
          233100,
          234000.00000000003,
          234900.00000000003,
          235800.00000000003,
          236700.00000000003,
          237600.00000000003,
          238500.00000000003,
          239400.00000000003,
          240300.00000000003,
          241200.00000000003,
          242100.00000000003,
          243000.00000000003,
          243900.00000000003,
          244800.00000000003,
          245700.00000000003,
          246600.00000000003,
          247500.00000000003,
          248400.00000000003,
          249300.00000000003,
          250200.00000000003,
          251100.00000000003,
          252000.00000000003,
          252900.00000000003,
          253800.00000000003,
          254700.00000000003,
          255600.00000000003,
          256500.00000000003,
          257400.00000000003,
          258300.00000000003,
          259200.00000000003,
          260100.00000000003,
          261000.00000000003,
          261900.00000000003,
          262800,
          263700,
          264600,
          265500,
          266400,
          267300,
          268200,
          269100,
          270000,
          270900,
          271800,
          272700,
          273600,
          274500,
          275400,
          276300,
          277200,
          278100,
          279000,
          279900,
          280800,
          281700,
          282600,
          283500,
          284400,
          285300,
          286200,
          287100,
          288000,
          288900,
          289800,
          290700,
          291600,
          292500,
          293400,
          294300,
          295200,
          296100,
          297000,
          297900,
          298800,
          299700,
          300600,
          301500,
          302400,
          303300,
          304200,
          305100,
          306000,
          306900,
          307800,
          308700,
          309600,
          310500,
          311400,
          312300,
          313200,
          314100,
          315000,
          315900,
          316800,
          317700,
          318600,
          319500,
          320400,
          321300,
          322200,
          323100,
          324000,
          324900,
          325800,
          326700,
          327600,
          328500,
          329400,
          330300,
          331200,
          332100,
          333000,
          333900,
          334800,
          335700,
          336600,
          337500,
          338400,
          339300,
          340200,
          341100,
          342000,
          342900,
          343800,
          344700,
          345600
         ],
         "y": [
          0.4709302111326201,
          0.49365363976592297,
          0.7803873145995534,
          0.9651021830803734,
          0.9056972245321544,
          0.9494761365788607,
          1,
          0.9790914266630236,
          0.8892461420233324,
          0.7843866907750068,
          0.6840536564279837,
          0.5962692123364198,
          0.5300245849352251,
          0.4770386327970952,
          0.3488989389763553,
          0.20880237608429797,
          0.20868926806367555,
          0.24194204931699545,
          0.2489151479788317,
          0.28495470855311716,
          0.2115010220267925,
          0.11189353377276838,
          0.133901335788925,
          0.18432487900972305,
          0.20524526988618336,
          0.33085385775427445,
          0.41541328029514757,
          0.4089427232059907,
          0.44089427323764635,
          0.37430909240404686,
          0.30293111510864823,
          0.386678926657128,
          0.4623487606675386,
          0.43626825002037534,
          0.3855115205127436,
          0.4164456846743731,
          0.45254110262592934,
          0.47605386823444146,
          0.5568451266184595,
          0.5058877794062602,
          0.4221231311888355,
          0.5331117452330705,
          0.6519397724833831,
          0.6574341869441069,
          0.7206939681278485,
          0.6889403952361343,
          0.5902143042950554,
          0.5599654566616328,
          0.5074061726164483,
          0.4614126815066434,
          0.42792367182863605,
          0.44328288168112906,
          0.40856147613627813,
          0.31761873561359244,
          0.2959978758352182,
          0.34856074033656187,
          0.429828027937885,
          0.47338873327161785,
          0.4594483552268633,
          0.38461190177629295,
          0.5225403762000528,
          0.7940469374195758,
          0.8273362257317032,
          0.7516947377270266,
          0.6854384089669666,
          0.604251087590431,
          0.590454190892702,
          0.5914617558443293,
          0.558910146616815,
          0.5545134803924969,
          0.5522819026858504,
          0.5705795962855544,
          0.6037592005055901,
          0.5757774737551686,
          0.5436375707049131,
          0.5214768422987865,
          0.4873587183946025,
          0.44507258167023017,
          0.40597024536094156,
          0.4171118587200305,
          0.4111761235957637,
          0.3651664175337663,
          0.3420764712083718,
          0.3232142123856348,
          0.2796390154331303,
          0.2559449002752619,
          0.27200087898053754,
          0.24405003512318615,
          0.21861301002918287,
          0.19942158036172256,
          0.17240083418504312,
          0.17644220051556259,
          0.17772285607163105,
          0.19178612687768373,
          0.19034033880056583,
          0.20187472425988057,
          0.22548507799812942,
          0.1998664847289276,
          0.19585214184549746,
          0.22798359818862338,
          0.23837244740853422,
          0.2741707561672159,
          0.45445687565912324,
          0.661292863965694,
          0.6610188416224402,
          0.5816539806470212,
          0.4940442140850673,
          0.4152763384702904,
          0.4203044112151285,
          0.3969682331696249,
          0.32180274858330005,
          0.23963498047511106,
          0.2093134450637251,
          0.23825488994601313,
          0.24462296910903117,
          0.22398161861368326,
          0.23591315828968443,
          0.24848714483968792,
          0.2563753378787737,
          0.21195728751427773,
          0.18791146177584878,
          0.2642239137526717,
          0.3434115735625478,
          0.3744789506912992,
          0.3845255381638189,
          0.3791859662631619,
          0.3433400486834411,
          0.375603834750404,
          0.388336987469117,
          0.35328838864770584,
          0.3764227550872512,
          0.37362793882184,
          0.3406208271562148,
          0.35896470171792244,
          0.3938094117636605,
          0.44587403621510463,
          0.48701413905940616,
          0.43965840222087477,
          0.22265961335589235,
          0.09290376891871889,
          0.2606635115931521,
          0.38677600821086594,
          0.31152526918382983,
          0.28242113936748814,
          0.30284649221218557,
          0.2761466673078439,
          0.3088221721343886,
          0.283791701287721,
          0.24658440966780795,
          0.32465018920276634,
          0.3447858445243182,
          0.33295707098592603,
          0.3356712243382221,
          0.32424553436416764,
          0.2996592650305838,
          0.2727836516319472,
          0.3087324542228608,
          0.4643918609370554,
          0.5989700588905432,
          0.6140301246039541,
          0.6018768258015156,
          0.5670241853077084,
          0.5574459063022866,
          0.5242629116122959,
          0.47337764944161687,
          0.4549684893461424,
          0.4413126787578302,
          0.41532567644299756,
          0.3946187706213402,
          0.38206571108291326,
          0.36655611067604144,
          0.3606010321072637,
          0.33457615365921556,
          0.30188839214744123,
          0.29062811885888723,
          0.2982230275224609,
          0.28226351567361957,
          0.25171415113639634,
          0.25197003425096304,
          0.24001664400068173,
          0.2180190285206573,
          0.21352098588916413,
          0.20487164381629044,
          0.19406989427467863,
          0.19210329031364376,
          0.1790385987482671,
          0.188599459092323,
          0.20281353076308073,
          0.18919702493458265,
          0.27214125150375057,
          0.43143783801039787,
          0.48611915853553944,
          0.5131648285727397,
          0.5761002949828269,
          0.3254492128765335,
          0.14680932786964965,
          0.43959044269605585,
          0.6036517708624751,
          0.4923641884324248,
          0.2713275543023465,
          0.17273025109307938,
          0.2724286242620561,
          0.21852732204270153,
          0.09273899598098254,
          0,
          0.004207473612896091,
          0.20808631522066176,
          0.32088941993600545,
          0.2548176677020742,
          0.19517037748919425,
          0.18232094470496976,
          0.2126338490914499,
          0.25340822975726607,
          0.26579806543915074,
          0.2827014164500703,
          0.29934208078235935,
          0.31259617708482046,
          0.32878534663942305,
          0.3463474099121729,
          0.37922498869369853,
          0.39786195197390256,
          0.38531442409062944,
          0.4045436884919483,
          0.5581861185038073,
          0.7418472772536648,
          0.6778663350865999,
          0.5486618678526872,
          0.526723707711199,
          0.5104476789096094,
          0.5060557235853413,
          0.4888991619268332,
          0.4795906812610686,
          0.4531194678064197,
          0.404794862558208,
          0.3985625807741349,
          0.4094384748604986,
          0.39616017463468356,
          0.3616124475968757,
          0.3483134695577653,
          0.35355079790398086,
          0.368902364701991,
          0.3800942206961969,
          0.36085547129020284,
          0.3421925044885355,
          0.33207440169152935,
          0.342211700813084,
          0.3247953308292821,
          0.27375279566483834,
          0.27734248476466383,
          0.30827912068791274,
          0.293787561410282,
          0.26347825181835693,
          0.2772144343238717,
          0.32592008561194724,
          0.15532050844913806,
          0.2957436070990347,
          0.5684216590761288,
          0.4954437957040153,
          0.458995353653352,
          0.4358287517224485,
          0.43761003205249216,
          0.4231393744917423,
          0.3933034475073922,
          0.35664771986793226,
          0.355088280517915,
          0.3653518489084426,
          0.3254027662383864,
          0.31319626596687133,
          0.31968325643657525,
          0.2917020931092575,
          0.28622187583867825,
          0.2657786618540849,
          0.258292000992191,
          0.255726063785272,
          0.2306712956731388,
          0.22507554422308768,
          0.2183392364654673,
          0.21211103883736812,
          0.20641736500725982,
          0.20589086126577666,
          0.19187331598717397,
          0.1859228321633385,
          0.18786486943521416,
          0.18132624516567325,
          0.1899615980211726,
          0.19745969737933644,
          0.192828627927346,
          0.2120661602039763,
          0.23397858905056568,
          0.23231125150220722,
          0.26976017302773514,
          0.4491480463895863,
          0.6330236152386588,
          0.6572014309703531,
          0.589882382982622,
          0.5260996954626491,
          0.4688063934889493,
          0.39979236036163224,
          0.3456420597996045,
          0.30568548136025936,
          0.29481701179871783,
          0.26477150105337643,
          0.18258722984044656,
          0.10303013704599308,
          0.09269900810643385,
          0.11666437738401429,
          0.12560919837135084,
          0.15617766347938558,
          0.16922684648245248,
          0.19326049320556696,
          0.23968109309423763,
          0.229653830679557,
          0.24997615121213854,
          0.2986997998896431,
          0.31984544962571737,
          0.3611690662906942,
          0.3671232114391776,
          0.34747541169148444,
          0.33392881872851354,
          0.3261401066954259,
          0.39578955880799443,
          0.44567807436184537,
          0.45500556869399017,
          0.44916286953631585,
          0.42249015760636927,
          0.4262340086120389,
          0.43266139713314206,
          0.44004239730052563,
          0.44673554085473727,
          0.4511857354917888,
          0.44731303959065066,
          0.42321687909607003,
          0.41929528986440223,
          0.42205656622743604,
          0.43207354804714015,
          0.43560680212925124,
          0.417137354261162,
          0.39839903826903245,
          0.2757589103636425,
          0.17938515181644368,
          0.18880433559255438,
          0.21934162499139043,
          0.25094825979342733,
          0.28970183523988136,
          0.3114041969827924,
          0.2757163368489418,
          0.3080722771994568,
          0.3825726992376297,
          0.4147451758402095,
          0.41273292395137307,
          0.41779136264052974,
          0.41111800719667857,
          0.3836660106118628,
          0.3834087725826828,
          0.35602299922513775,
          0.30039492157336695,
          0.31921017295225357,
          0.3332291645544175,
          0.20507213260893928,
          0.10022676543651164,
          0.1498449714291491,
          0.20018244394470316,
          0.22785701901924987,
          0.29919106186637334,
          0.32642079944217944,
          0.33326045978295604,
          0.42372742022458265,
          0.46440016862731487,
          0.4194299542036546,
          0.37937178801600857,
          0.3456226042215576,
          0.3348618818329891,
          0.31371817732898816,
          0.28895718112949237,
          0.2593195593011234,
          0.2574155421787492,
          0.24654262419698592,
          0.20725888304491416,
          0.2102654816696302,
          0.21349200457510334,
          0.2323365725754122,
          0.22914904623237428,
          0.22508716678948923,
          0.2586572568935728,
          0.27171518226694025
         ]
        }
       ],
       "layout": {
        "template": {
         "data": {
          "bar": [
           {
            "error_x": {
             "color": "#2a3f5f"
            },
            "error_y": {
             "color": "#2a3f5f"
            },
            "marker": {
             "line": {
              "color": "#E5ECF6",
              "width": 0.5
             },
             "pattern": {
              "fillmode": "overlay",
              "size": 10,
              "solidity": 0.2
             }
            },
            "type": "bar"
           }
          ],
          "barpolar": [
           {
            "marker": {
             "line": {
              "color": "#E5ECF6",
              "width": 0.5
             },
             "pattern": {
              "fillmode": "overlay",
              "size": 10,
              "solidity": 0.2
             }
            },
            "type": "barpolar"
           }
          ],
          "carpet": [
           {
            "aaxis": {
             "endlinecolor": "#2a3f5f",
             "gridcolor": "white",
             "linecolor": "white",
             "minorgridcolor": "white",
             "startlinecolor": "#2a3f5f"
            },
            "baxis": {
             "endlinecolor": "#2a3f5f",
             "gridcolor": "white",
             "linecolor": "white",
             "minorgridcolor": "white",
             "startlinecolor": "#2a3f5f"
            },
            "type": "carpet"
           }
          ],
          "choropleth": [
           {
            "colorbar": {
             "outlinewidth": 0,
             "ticks": ""
            },
            "type": "choropleth"
           }
          ],
          "contour": [
           {
            "colorbar": {
             "outlinewidth": 0,
             "ticks": ""
            },
            "colorscale": [
             [
              0,
              "#0d0887"
             ],
             [
              0.1111111111111111,
              "#46039f"
             ],
             [
              0.2222222222222222,
              "#7201a8"
             ],
             [
              0.3333333333333333,
              "#9c179e"
             ],
             [
              0.4444444444444444,
              "#bd3786"
             ],
             [
              0.5555555555555556,
              "#d8576b"
             ],
             [
              0.6666666666666666,
              "#ed7953"
             ],
             [
              0.7777777777777778,
              "#fb9f3a"
             ],
             [
              0.8888888888888888,
              "#fdca26"
             ],
             [
              1,
              "#f0f921"
             ]
            ],
            "type": "contour"
           }
          ],
          "contourcarpet": [
           {
            "colorbar": {
             "outlinewidth": 0,
             "ticks": ""
            },
            "type": "contourcarpet"
           }
          ],
          "heatmap": [
           {
            "colorbar": {
             "outlinewidth": 0,
             "ticks": ""
            },
            "colorscale": [
             [
              0,
              "#0d0887"
             ],
             [
              0.1111111111111111,
              "#46039f"
             ],
             [
              0.2222222222222222,
              "#7201a8"
             ],
             [
              0.3333333333333333,
              "#9c179e"
             ],
             [
              0.4444444444444444,
              "#bd3786"
             ],
             [
              0.5555555555555556,
              "#d8576b"
             ],
             [
              0.6666666666666666,
              "#ed7953"
             ],
             [
              0.7777777777777778,
              "#fb9f3a"
             ],
             [
              0.8888888888888888,
              "#fdca26"
             ],
             [
              1,
              "#f0f921"
             ]
            ],
            "type": "heatmap"
           }
          ],
          "heatmapgl": [
           {
            "colorbar": {
             "outlinewidth": 0,
             "ticks": ""
            },
            "colorscale": [
             [
              0,
              "#0d0887"
             ],
             [
              0.1111111111111111,
              "#46039f"
             ],
             [
              0.2222222222222222,
              "#7201a8"
             ],
             [
              0.3333333333333333,
              "#9c179e"
             ],
             [
              0.4444444444444444,
              "#bd3786"
             ],
             [
              0.5555555555555556,
              "#d8576b"
             ],
             [
              0.6666666666666666,
              "#ed7953"
             ],
             [
              0.7777777777777778,
              "#fb9f3a"
             ],
             [
              0.8888888888888888,
              "#fdca26"
             ],
             [
              1,
              "#f0f921"
             ]
            ],
            "type": "heatmapgl"
           }
          ],
          "histogram": [
           {
            "marker": {
             "pattern": {
              "fillmode": "overlay",
              "size": 10,
              "solidity": 0.2
             }
            },
            "type": "histogram"
           }
          ],
          "histogram2d": [
           {
            "colorbar": {
             "outlinewidth": 0,
             "ticks": ""
            },
            "colorscale": [
             [
              0,
              "#0d0887"
             ],
             [
              0.1111111111111111,
              "#46039f"
             ],
             [
              0.2222222222222222,
              "#7201a8"
             ],
             [
              0.3333333333333333,
              "#9c179e"
             ],
             [
              0.4444444444444444,
              "#bd3786"
             ],
             [
              0.5555555555555556,
              "#d8576b"
             ],
             [
              0.6666666666666666,
              "#ed7953"
             ],
             [
              0.7777777777777778,
              "#fb9f3a"
             ],
             [
              0.8888888888888888,
              "#fdca26"
             ],
             [
              1,
              "#f0f921"
             ]
            ],
            "type": "histogram2d"
           }
          ],
          "histogram2dcontour": [
           {
            "colorbar": {
             "outlinewidth": 0,
             "ticks": ""
            },
            "colorscale": [
             [
              0,
              "#0d0887"
             ],
             [
              0.1111111111111111,
              "#46039f"
             ],
             [
              0.2222222222222222,
              "#7201a8"
             ],
             [
              0.3333333333333333,
              "#9c179e"
             ],
             [
              0.4444444444444444,
              "#bd3786"
             ],
             [
              0.5555555555555556,
              "#d8576b"
             ],
             [
              0.6666666666666666,
              "#ed7953"
             ],
             [
              0.7777777777777778,
              "#fb9f3a"
             ],
             [
              0.8888888888888888,
              "#fdca26"
             ],
             [
              1,
              "#f0f921"
             ]
            ],
            "type": "histogram2dcontour"
           }
          ],
          "mesh3d": [
           {
            "colorbar": {
             "outlinewidth": 0,
             "ticks": ""
            },
            "type": "mesh3d"
           }
          ],
          "parcoords": [
           {
            "line": {
             "colorbar": {
              "outlinewidth": 0,
              "ticks": ""
             }
            },
            "type": "parcoords"
           }
          ],
          "pie": [
           {
            "automargin": true,
            "type": "pie"
           }
          ],
          "scatter": [
           {
            "fillpattern": {
             "fillmode": "overlay",
             "size": 10,
             "solidity": 0.2
            },
            "type": "scatter"
           }
          ],
          "scatter3d": [
           {
            "line": {
             "colorbar": {
              "outlinewidth": 0,
              "ticks": ""
             }
            },
            "marker": {
             "colorbar": {
              "outlinewidth": 0,
              "ticks": ""
             }
            },
            "type": "scatter3d"
           }
          ],
          "scattercarpet": [
           {
            "marker": {
             "colorbar": {
              "outlinewidth": 0,
              "ticks": ""
             }
            },
            "type": "scattercarpet"
           }
          ],
          "scattergeo": [
           {
            "marker": {
             "colorbar": {
              "outlinewidth": 0,
              "ticks": ""
             }
            },
            "type": "scattergeo"
           }
          ],
          "scattergl": [
           {
            "marker": {
             "colorbar": {
              "outlinewidth": 0,
              "ticks": ""
             }
            },
            "type": "scattergl"
           }
          ],
          "scattermapbox": [
           {
            "marker": {
             "colorbar": {
              "outlinewidth": 0,
              "ticks": ""
             }
            },
            "type": "scattermapbox"
           }
          ],
          "scatterpolar": [
           {
            "marker": {
             "colorbar": {
              "outlinewidth": 0,
              "ticks": ""
             }
            },
            "type": "scatterpolar"
           }
          ],
          "scatterpolargl": [
           {
            "marker": {
             "colorbar": {
              "outlinewidth": 0,
              "ticks": ""
             }
            },
            "type": "scatterpolargl"
           }
          ],
          "scatterternary": [
           {
            "marker": {
             "colorbar": {
              "outlinewidth": 0,
              "ticks": ""
             }
            },
            "type": "scatterternary"
           }
          ],
          "surface": [
           {
            "colorbar": {
             "outlinewidth": 0,
             "ticks": ""
            },
            "colorscale": [
             [
              0,
              "#0d0887"
             ],
             [
              0.1111111111111111,
              "#46039f"
             ],
             [
              0.2222222222222222,
              "#7201a8"
             ],
             [
              0.3333333333333333,
              "#9c179e"
             ],
             [
              0.4444444444444444,
              "#bd3786"
             ],
             [
              0.5555555555555556,
              "#d8576b"
             ],
             [
              0.6666666666666666,
              "#ed7953"
             ],
             [
              0.7777777777777778,
              "#fb9f3a"
             ],
             [
              0.8888888888888888,
              "#fdca26"
             ],
             [
              1,
              "#f0f921"
             ]
            ],
            "type": "surface"
           }
          ],
          "table": [
           {
            "cells": {
             "fill": {
              "color": "#EBF0F8"
             },
             "line": {
              "color": "white"
             }
            },
            "header": {
             "fill": {
              "color": "#C8D4E3"
             },
             "line": {
              "color": "white"
             }
            },
            "type": "table"
           }
          ]
         },
         "layout": {
          "annotationdefaults": {
           "arrowcolor": "#2a3f5f",
           "arrowhead": 0,
           "arrowwidth": 1
          },
          "autotypenumbers": "strict",
          "coloraxis": {
           "colorbar": {
            "outlinewidth": 0,
            "ticks": ""
           }
          },
          "colorscale": {
           "diverging": [
            [
             0,
             "#8e0152"
            ],
            [
             0.1,
             "#c51b7d"
            ],
            [
             0.2,
             "#de77ae"
            ],
            [
             0.3,
             "#f1b6da"
            ],
            [
             0.4,
             "#fde0ef"
            ],
            [
             0.5,
             "#f7f7f7"
            ],
            [
             0.6,
             "#e6f5d0"
            ],
            [
             0.7,
             "#b8e186"
            ],
            [
             0.8,
             "#7fbc41"
            ],
            [
             0.9,
             "#4d9221"
            ],
            [
             1,
             "#276419"
            ]
           ],
           "sequential": [
            [
             0,
             "#0d0887"
            ],
            [
             0.1111111111111111,
             "#46039f"
            ],
            [
             0.2222222222222222,
             "#7201a8"
            ],
            [
             0.3333333333333333,
             "#9c179e"
            ],
            [
             0.4444444444444444,
             "#bd3786"
            ],
            [
             0.5555555555555556,
             "#d8576b"
            ],
            [
             0.6666666666666666,
             "#ed7953"
            ],
            [
             0.7777777777777778,
             "#fb9f3a"
            ],
            [
             0.8888888888888888,
             "#fdca26"
            ],
            [
             1,
             "#f0f921"
            ]
           ],
           "sequentialminus": [
            [
             0,
             "#0d0887"
            ],
            [
             0.1111111111111111,
             "#46039f"
            ],
            [
             0.2222222222222222,
             "#7201a8"
            ],
            [
             0.3333333333333333,
             "#9c179e"
            ],
            [
             0.4444444444444444,
             "#bd3786"
            ],
            [
             0.5555555555555556,
             "#d8576b"
            ],
            [
             0.6666666666666666,
             "#ed7953"
            ],
            [
             0.7777777777777778,
             "#fb9f3a"
            ],
            [
             0.8888888888888888,
             "#fdca26"
            ],
            [
             1,
             "#f0f921"
            ]
           ]
          },
          "colorway": [
           "#636efa",
           "#EF553B",
           "#00cc96",
           "#ab63fa",
           "#FFA15A",
           "#19d3f3",
           "#FF6692",
           "#B6E880",
           "#FF97FF",
           "#FECB52"
          ],
          "font": {
           "color": "#2a3f5f"
          },
          "geo": {
           "bgcolor": "white",
           "lakecolor": "white",
           "landcolor": "#E5ECF6",
           "showlakes": true,
           "showland": true,
           "subunitcolor": "white"
          },
          "hoverlabel": {
           "align": "left"
          },
          "hovermode": "closest",
          "mapbox": {
           "style": "light"
          },
          "paper_bgcolor": "white",
          "plot_bgcolor": "#E5ECF6",
          "polar": {
           "angularaxis": {
            "gridcolor": "white",
            "linecolor": "white",
            "ticks": ""
           },
           "bgcolor": "#E5ECF6",
           "radialaxis": {
            "gridcolor": "white",
            "linecolor": "white",
            "ticks": ""
           }
          },
          "scene": {
           "xaxis": {
            "backgroundcolor": "#E5ECF6",
            "gridcolor": "white",
            "gridwidth": 2,
            "linecolor": "white",
            "showbackground": true,
            "ticks": "",
            "zerolinecolor": "white"
           },
           "yaxis": {
            "backgroundcolor": "#E5ECF6",
            "gridcolor": "white",
            "gridwidth": 2,
            "linecolor": "white",
            "showbackground": true,
            "ticks": "",
            "zerolinecolor": "white"
           },
           "zaxis": {
            "backgroundcolor": "#E5ECF6",
            "gridcolor": "white",
            "gridwidth": 2,
            "linecolor": "white",
            "showbackground": true,
            "ticks": "",
            "zerolinecolor": "white"
           }
          },
          "shapedefaults": {
           "line": {
            "color": "#2a3f5f"
           }
          },
          "ternary": {
           "aaxis": {
            "gridcolor": "white",
            "linecolor": "white",
            "ticks": ""
           },
           "baxis": {
            "gridcolor": "white",
            "linecolor": "white",
            "ticks": ""
           },
           "bgcolor": "#E5ECF6",
           "caxis": {
            "gridcolor": "white",
            "linecolor": "white",
            "ticks": ""
           }
          },
          "title": {
           "x": 0.05
          },
          "xaxis": {
           "automargin": true,
           "gridcolor": "white",
           "linecolor": "white",
           "ticks": "",
           "title": {
            "standoff": 15
           },
           "zerolinecolor": "white",
           "zerolinewidth": 2
          },
          "yaxis": {
           "automargin": true,
           "gridcolor": "white",
           "linecolor": "white",
           "ticks": "",
           "title": {
            "standoff": 15
           },
           "zerolinecolor": "white",
           "zerolinewidth": 2
          }
         }
        }
       }
      }
     },
     "metadata": {},
     "output_type": "display_data"
    }
   ],
   "source": [
    "freqdf[\"filted ddt\"] = scipy.signal.lfilter(b, a, freqdf[\"ddt_dif_xt\"])\n",
    "\n",
    "fig = go.Figure()\n",
    "\n",
    "fig.add_trace(go.Scatter(\n",
    "    x=freqdf[\"Time\"], y=a01[\"Window Open\"], name=\"Window\", mode='lines',\n",
    "))\n",
    "\n",
    "\n",
    "fig.add_trace(go.Scatter(\n",
    "    x=freqdf[\"Time\"],\n",
    "    y=freqdf[\"ddt_dif_xt\"], \n",
    "    name=\"ddt\",\n",
    "    mode='lines',\n",
    "))\n",
    "\n",
    "fig.add_trace(go.Scatter(\n",
    "    x=freqdf[\"Time\"],\n",
    "    y=h.normalize(freqdf[\"filted ddt\"]), \n",
    "    name=\"filtered\",\n",
    "    mode='lines',\n",
    "))\n"
   ]
  },
  {
   "cell_type": "code",
   "execution_count": 200,
   "metadata": {},
   "outputs": [
    {
     "data": {
      "application/vnd.plotly.v1+json": {
       "config": {
        "plotlyServerURL": "https://plotly.com"
       },
       "data": [
        {
         "mode": "lines",
         "name": "DDT",
         "type": "scatter",
         "x": [
          0,
          0.000002886002886002886,
          0.000005772005772005772,
          0.000008658008658008657,
          0.000011544011544011544,
          0.00001443001443001443,
          0.000017316017316017315,
          0.000020202020202020203,
          0.000023088023088023087,
          0.000025974025974025972,
          0.00002886002886002886,
          0.000031746031746031745,
          0.00003463203463203463,
          0.000037518037518037514,
          0.000040404040404040405,
          0.00004329004329004329,
          0.000046176046176046175,
          0.00004906204906204906,
          0.000051948051948051944,
          0.000054834054834054835,
          0.00005772005772005772,
          0.000060606060606060605,
          0.00006349206349206349,
          0.00006637806637806638,
          0.00006926406926406926,
          0.00007215007215007215,
          0.00007503607503607503,
          0.00007792207792207792,
          0.00008080808080808081,
          0.00008369408369408369,
          0.00008658008658008658,
          0.00008946608946608946,
          0.00009235209235209235,
          0.00009523809523809524,
          0.00009812409812409812,
          0.00010101010101010101,
          0.00010389610389610389,
          0.00010678210678210678,
          0.00010966810966810967,
          0.00011255411255411255,
          0.00011544011544011544,
          0.00011832611832611832,
          0.00012121212121212121,
          0.0001240981240981241,
          0.00012698412698412698,
          0.00012987012987012987,
          0.00013275613275613276,
          0.00013564213564213563,
          0.00013852813852813852,
          0.0001414141414141414,
          0.0001443001443001443,
          0.0001471861471861472,
          0.00015007215007215006,
          0.00015295815295815295,
          0.00015584415584415584,
          0.00015873015873015873,
          0.00016161616161616162,
          0.00016450216450216449,
          0.00016738816738816738,
          0.00017027417027417027,
          0.00017316017316017316,
          0.00017604617604617605,
          0.00017893217893217892,
          0.0001818181818181818,
          0.0001847041847041847,
          0.0001875901875901876,
          0.00019047619047619048,
          0.00019336219336219335,
          0.00019624819624819624,
          0.00019913419913419913,
          0.00020202020202020202,
          0.0002049062049062049,
          0.00020779220779220778,
          0.00021067821067821067,
          0.00021356421356421356,
          0.00021645021645021645,
          0.00021933621933621934,
          0.0002222222222222222,
          0.0002251082251082251,
          0.000227994227994228,
          0.00023088023088023088,
          0.00023376623376623377,
          0.00023665223665223664,
          0.00023953823953823953,
          0.00024242424242424242,
          0.0002453102453102453,
          0.0002481962481962482,
          0.0002510822510822511,
          0.00025396825396825396,
          0.0002568542568542568,
          0.00025974025974025974,
          0.0002626262626262626,
          0.0002655122655122655,
          0.0002683982683982684,
          0.00027128427128427125,
          0.00027417027417027417,
          0.00027705627705627703,
          0.00027994227994227995,
          0.0002828282828282828,
          0.0002857142857142857,
          0.0002886002886002886,
          0.00029148629148629146,
          0.0002943722943722944,
          0.00029725829725829725,
          0.0003001443001443001,
          0.00030303030303030303,
          0.0003059163059163059,
          0.0003088023088023088,
          0.0003116883116883117,
          0.00031457431457431454,
          0.00031746031746031746,
          0.0003203463203463203,
          0.00032323232323232324,
          0.0003261183261183261,
          0.00032900432900432897,
          0.0003318903318903319,
          0.00033477633477633475,
          0.00033766233766233767,
          0.00034054834054834054,
          0.0003434343434343434,
          0.0003463203463203463,
          0.0003492063492063492,
          0.0003520923520923521,
          0.00035497835497835497,
          0.00035786435786435783,
          0.00036075036075036075,
          0.0003636363636363636,
          0.00036652236652236653,
          0.0003694083694083694,
          0.00037229437229437226,
          0.0003751803751803752,
          0.00037806637806637804,
          0.00038095238095238096,
          0.00038383838383838383,
          0.0003867243867243867,
          0.0003896103896103896,
          0.0003924963924963925,
          0.0003953823953823954,
          0.00039826839826839826,
          0.0004011544011544011,
          0.00040404040404040404,
          0.0004069264069264069,
          0.0004098124098124098,
          0.0004126984126984127,
          0.00041558441558441555,
          0.00041847041847041847,
          0.00042135642135642133,
          0.00042424242424242425,
          0.0004271284271284271,
          0.00043001443001443,
          0.0004329004329004329,
          0.00043578643578643576,
          0.0004386724386724387,
          0.00044155844155844155,
          0.0004444444444444444,
          0.00044733044733044733,
          0.0004502164502164502,
          0.0004531024531024531,
          0.000455988455988456,
          0.00045887445887445884,
          0.00046176046176046176,
          0.0004646464646464646,
          0.00046753246753246754,
          0.0004704184704184704,
          0.00047330447330447327,
          0.0004761904761904762,
          0.00047907647907647905,
          0.000481962481962482,
          0.00048484848484848484,
          0.0004877344877344877,
          0.0004906204906204906,
          0.0004935064935064935,
          0.0004963924963924963,
          0.0004992784992784992,
          0.0005021645021645022,
          0.000505050505050505,
          0.0005079365079365079,
          0.0005108225108225108,
          0.0005137085137085136,
          0.0005165945165945166,
          0.0005194805194805195,
          0.0005223665223665223,
          0.0005252525252525252,
          0.0005281385281385281,
          0.000531024531024531,
          0.0005339105339105339,
          0.0005367965367965368,
          0.0005396825396825396,
          0.0005425685425685425,
          0.0005454545454545455,
          0.0005483405483405483,
          0.0005512265512265512,
          0.0005541125541125541
         ],
         "y": [
          1.4937132465093966e-28,
          88.15734856748685,
          456.29831086301607,
          567.2012099276366,
          5089.016626307337,
          46.83297784739051,
          115.23611534491481,
          440.9438041933494,
          4.312768056137149,
          34.62047901398505,
          168.29355291825917,
          202.34843399047855,
          2459.2551165571313,
          216.5742873708703,
          23.3067962901192,
          293.31137467467846,
          298.36249253489,
          19.357723715712858,
          46.40625326755019,
          320.8459690422306,
          700.0605929553233,
          68.82824047112709,
          57.0836751472928,
          284.0172963037119,
          3.3448292336396825,
          102.01187803939561,
          36.53459349633561,
          85.23115946326712,
          146.76577603324048,
          4.407657665209096,
          11.393987320954553,
          28.626140597932014,
          60.13490201632563,
          4.863459637219753,
          5.546241798319308,
          143.12487533053167,
          13.945826724803538,
          18.396245845672432,
          4.499372075827651,
          15.487290390253944,
          73.44778915550665,
          5.775109002977719,
          37.91908989687568,
          29.365279638973426,
          2.849681234559634,
          53.10181835861098,
          8.459599637273625,
          88.4999904562582,
          35.017622711466196,
          44.70903984608136,
          13.663802357313012,
          12.22313131553411,
          26.43789261764457,
          17.774567439885114,
          7.756778320616087,
          20.606956025063656,
          47.54126135032318,
          13.387745488378512,
          40.87002613183213,
          10.741894882672776,
          13.853284656628537,
          6.770924573252138,
          8.690660347809663,
          42.477776547381936,
          26.54009439346871,
          12.572805994970416,
          8.100085721234144,
          3.1161660983867185,
          20.095988126968063,
          30.2713488711635,
          39.959768663294895,
          37.82904263273202,
          13.3190766622246,
          34.69648500752981,
          11.957885817332226,
          13.009301212806665,
          4.004171276744297,
          68.40917548552719,
          7.1018014578727735,
          14.626943258415752,
          9.41230011393765,
          9.732928572827683,
          36.51790515696022,
          16.242696611624233,
          15.256041284823104,
          18.320706623695283,
          5.872200174142746,
          33.73251573259231,
          4.001769955606298,
          25.138396622577726,
          3.2307649072221514,
          12.132907072652046,
          4.489201142138847,
          6.018338810389035,
          7.509123871865346,
          0.4185560766465047,
          4.785846580379178,
          22.01571549806395,
          0.9716486452899692,
          8.565636196356454,
          4.278842147629053,
          3.90454478439053,
          3.602159416590068,
          9.62255735213587,
          1.537697500075313,
          5.539998462385432,
          5.744866076310434,
          0.4833961092425002,
          1.5466051375356213,
          8.628008690594541,
          3.9386645439896846,
          15.237729434019283,
          1.7123065224409362,
          1.9675765390951083,
          3.7078498252188576,
          8.518502497613017,
          2.4176871754482545,
          15.337453587026797,
          2.2158463468901464,
          2.0865130630474593,
          7.056043858643845,
          4.452119773217888,
          6.917358345756227,
          2.9263246273285373,
          4.289541509104948,
          2.234079579873988,
          1.9609442015797036,
          0.5649490308558391,
          0.046174158458293035,
          6.034702990028948,
          2.049204541469266,
          2.730450583850133,
          1.0873840972126545,
          2.4166921442919214,
          1.306771783726803,
          3.006563893707119,
          0.6484213118153461,
          1.0867544428689762,
          0.7304198793611657,
          2.2799981095005446,
          4.401959892193006,
          1.6969351710181049,
          1.4071785825164431,
          0.04738625221500499,
          0.5809486203402188,
          0.33873697783920786,
          0.08928599182206595,
          1.4827818184917665,
          1.1234007012188985,
          2.3988097117667078,
          0.3643901557264315,
          0.08662712567695201,
          0.3445403573597664,
          0.000253548179431675,
          1.1008163892628573,
          0.526282944462834,
          1.4483107804576876,
          0.49832481255872196,
          0.07400538534400283,
          0.3055215210618263,
          0.4044006925016413,
          0.5825400735046224,
          1.147158899006992,
          0.09090964639671043,
          0.13974937187366618,
          0.0017764093405553624,
          0.44624810466763615,
          0.11877501185132414,
          0.2042711164013964,
          0.10865397060510025,
          0.294966799174839,
          0.11681438542967902,
          0.0712211226893754,
          0.06268280966099578,
          0.43208649310072295,
          0.0804862094111547,
          0.07447618777587114,
          0.3518244675751024,
          0.012290423667939978,
          0.07373505112750123,
          0.2698879567295439,
          0.05760419799455954,
          0.07056315918633813,
          0.2084542422232741,
          0.11951555717999719,
          0.04685122579950748,
          0.19623984368937314,
          0.10886026109843737,
          0.1336699269465473,
          0.1854106487510728,
          0.13201791929152715,
          0.14050324684233995,
          0.13722762717629666
         ]
        },
        {
         "mode": "lines",
         "name": "ddt post filter",
         "type": "scatter",
         "x": [
          0,
          0.000002886002886002886,
          0.000005772005772005772,
          0.000008658008658008657,
          0.000011544011544011544,
          0.00001443001443001443,
          0.000017316017316017315,
          0.000020202020202020203,
          0.000023088023088023087,
          0.000025974025974025972,
          0.00002886002886002886,
          0.000031746031746031745,
          0.00003463203463203463,
          0.000037518037518037514,
          0.000040404040404040405,
          0.00004329004329004329,
          0.000046176046176046175,
          0.00004906204906204906,
          0.000051948051948051944,
          0.000054834054834054835,
          0.00005772005772005772,
          0.000060606060606060605,
          0.00006349206349206349,
          0.00006637806637806638,
          0.00006926406926406926,
          0.00007215007215007215,
          0.00007503607503607503,
          0.00007792207792207792,
          0.00008080808080808081,
          0.00008369408369408369,
          0.00008658008658008658,
          0.00008946608946608946,
          0.00009235209235209235,
          0.00009523809523809524,
          0.00009812409812409812,
          0.00010101010101010101,
          0.00010389610389610389,
          0.00010678210678210678,
          0.00010966810966810967,
          0.00011255411255411255,
          0.00011544011544011544,
          0.00011832611832611832,
          0.00012121212121212121,
          0.0001240981240981241,
          0.00012698412698412698,
          0.00012987012987012987,
          0.00013275613275613276,
          0.00013564213564213563,
          0.00013852813852813852,
          0.0001414141414141414,
          0.0001443001443001443,
          0.0001471861471861472,
          0.00015007215007215006,
          0.00015295815295815295,
          0.00015584415584415584,
          0.00015873015873015873,
          0.00016161616161616162,
          0.00016450216450216449,
          0.00016738816738816738,
          0.00017027417027417027,
          0.00017316017316017316,
          0.00017604617604617605,
          0.00017893217893217892,
          0.0001818181818181818,
          0.0001847041847041847,
          0.0001875901875901876,
          0.00019047619047619048,
          0.00019336219336219335,
          0.00019624819624819624,
          0.00019913419913419913,
          0.00020202020202020202,
          0.0002049062049062049,
          0.00020779220779220778,
          0.00021067821067821067,
          0.00021356421356421356,
          0.00021645021645021645,
          0.00021933621933621934,
          0.0002222222222222222,
          0.0002251082251082251,
          0.000227994227994228,
          0.00023088023088023088,
          0.00023376623376623377,
          0.00023665223665223664,
          0.00023953823953823953,
          0.00024242424242424242,
          0.0002453102453102453,
          0.0002481962481962482,
          0.0002510822510822511,
          0.00025396825396825396,
          0.0002568542568542568,
          0.00025974025974025974,
          0.0002626262626262626,
          0.0002655122655122655,
          0.0002683982683982684,
          0.00027128427128427125,
          0.00027417027417027417,
          0.00027705627705627703,
          0.00027994227994227995,
          0.0002828282828282828,
          0.0002857142857142857,
          0.0002886002886002886,
          0.00029148629148629146,
          0.0002943722943722944,
          0.00029725829725829725,
          0.0003001443001443001,
          0.00030303030303030303,
          0.0003059163059163059,
          0.0003088023088023088,
          0.0003116883116883117,
          0.00031457431457431454,
          0.00031746031746031746,
          0.0003203463203463203,
          0.00032323232323232324,
          0.0003261183261183261,
          0.00032900432900432897,
          0.0003318903318903319,
          0.00033477633477633475,
          0.00033766233766233767,
          0.00034054834054834054,
          0.0003434343434343434,
          0.0003463203463203463,
          0.0003492063492063492,
          0.0003520923520923521,
          0.00035497835497835497,
          0.00035786435786435783,
          0.00036075036075036075,
          0.0003636363636363636,
          0.00036652236652236653,
          0.0003694083694083694,
          0.00037229437229437226,
          0.0003751803751803752,
          0.00037806637806637804,
          0.00038095238095238096,
          0.00038383838383838383,
          0.0003867243867243867,
          0.0003896103896103896,
          0.0003924963924963925,
          0.0003953823953823954,
          0.00039826839826839826,
          0.0004011544011544011,
          0.00040404040404040404,
          0.0004069264069264069,
          0.0004098124098124098,
          0.0004126984126984127,
          0.00041558441558441555,
          0.00041847041847041847,
          0.00042135642135642133,
          0.00042424242424242425,
          0.0004271284271284271,
          0.00043001443001443,
          0.0004329004329004329,
          0.00043578643578643576,
          0.0004386724386724387,
          0.00044155844155844155,
          0.0004444444444444444,
          0.00044733044733044733,
          0.0004502164502164502,
          0.0004531024531024531,
          0.000455988455988456,
          0.00045887445887445884,
          0.00046176046176046176,
          0.0004646464646464646,
          0.00046753246753246754,
          0.0004704184704184704,
          0.00047330447330447327,
          0.0004761904761904762,
          0.00047907647907647905,
          0.000481962481962482,
          0.00048484848484848484,
          0.0004877344877344877,
          0.0004906204906204906,
          0.0004935064935064935,
          0.0004963924963924963,
          0.0004992784992784992,
          0.0005021645021645022,
          0.000505050505050505,
          0.0005079365079365079,
          0.0005108225108225108,
          0.0005137085137085136,
          0.0005165945165945166,
          0.0005194805194805195,
          0.0005223665223665223,
          0.0005252525252525252,
          0.0005281385281385281,
          0.000531024531024531,
          0.0005339105339105339,
          0.0005367965367965368,
          0.0005396825396825396,
          0.0005425685425685425,
          0.0005454545454545455,
          0.0005483405483405483,
          0.0005512265512265512,
          0.0005541125541125541
         ],
         "y": [
          1.5508800497708674e-27,
          543.8135425806701,
          436.1660327878682,
          42.81047122959828,
          349.51166989885695,
          317.7371975666938,
          109.86932941255178,
          719.9355500765724,
          105.36418603280732,
          12.512960129361728,
          155.4885389973297,
          265.8610882663527,
          2231.106155282948,
          159.19474672917517,
          0.5067716336023096,
          258.50639943000743,
          314.7548145662731,
          21.943194330325476,
          86.98950335882196,
          318.81283037580613,
          611.1753200162074,
          86.5147372781319,
          51.21954557140824,
          152.0762087585901,
          11.521644182201811,
          37.89074521705131,
          46.21027394453347,
          58.40107667051912,
          89.24579725587898,
          6.2665215123838545,
          10.997804967667035,
          5.860310610815452,
          41.041242879062594,
          7.201826354412426,
          3.869004075166189,
          90.96969887666029,
          1.8191102333404219,
          27.331091499678504,
          10.73115874029498,
          5.44722558393794,
          31.354952975827675,
          11.751367839092095,
          13.304667495131344,
          19.567614714399596,
          1.2999114541069523,
          55.34172715909583,
          4.573842116661452,
          58.90149328325156,
          16.435634005461306,
          40.580739503030344,
          4.063367196983814,
          3.5617298646043203,
          11.579418546695315,
          13.295719236661677,
          10.898485213065529,
          7.583334045592963,
          24.281721988957827,
          13.355461081590136,
          18.253574395596768,
          2.880498433599884,
          11.061628331567615,
          5.978998718907864,
          10.183426417731981,
          42.48388849092372,
          19.77527296030466,
          9.129150747357166,
          2.352064035186656,
          0.432356871979036,
          9.505133528278845,
          28.124314357008245,
          20.602791148715376,
          34.77106723336149,
          5.54893672063221,
          17.55189272677065,
          9.412423884333467,
          7.863217131606058,
          1.072460310252737,
          46.49780402450159,
          2.3047298517880344,
          6.476660333812318,
          4.427259143062502,
          3.307731958268992,
          32.51079991413157,
          12.030462795754845,
          9.993264357900113,
          7.853966531422456,
          7.490563648094425,
          17.746160751264814,
          5.790460423109294,
          12.130184435912774,
          5.2070116353170866,
          4.72715337551797,
          1.0585372547719336,
          3.8297998415571617,
          3.078722080861088,
          0.14272609381417764,
          5.757571861835374,
          10.452942215748369,
          1.7136724560804215,
          3.3729839982298966,
          1.0551608878670038,
          1.5320379844958263,
          4.332915773303143,
          3.7008094416861166,
          0.9799216831813085,
          2.7057732156631444,
          1.8489006662220284,
          0.34229263588024544,
          2.2383659121273642,
          3.349248169635259,
          5.144857211851316,
          8.548236459539067,
          2.6689131632509246,
          1.9229392504164802,
          0.9591498259138587,
          3.7119900584775203,
          0.9626409353069194,
          7.946636632550379,
          0.6360837087941192,
          2.3497275314650343,
          6.668324579500201,
          5.79002799942102,
          6.995823477006811,
          2.2850443316769242,
          4.201966451078855,
          0.7633199703237792,
          0.572861929330308,
          0.023812432470161793,
          0.18826671088332558,
          3.1912069074727376,
          0.44419563537716333,
          1.742268877429831,
          1.0559066902615755,
          0.5621524133525685,
          2.2992980199534334,
          0.856991229625938,
          0.44528783459292587,
          1.1306394706744316,
          1.0907963131322043,
          2.4353482874633734,
          5.064441478293553,
          0.3557125363549992,
          1.437371694775022,
          0.17628851841134016,
          0.1627948239923797,
          0.30914936996861875,
          0.3538872418643012,
          0.6703239191665561,
          0.9753790383016057,
          2.57628335418294,
          0.0767050184169695,
          0.6208149851813404,
          0.20988790071787278,
          0.29518695930001454,
          0.646651754393735,
          0.7957132601973329,
          0.3076587161573255,
          0.9679635535941724,
          0.2041005762552979,
          0.0065164940395101584,
          0.8200952270323472,
          1.2110154981855001,
          0.1533902031598902,
          0.617568046819173,
          0.3677904730462745,
          0.3191329629958811,
          0.7115131538899647,
          0.35941953425364354,
          0.03766356879943453,
          0.36615582209417935,
          0.23074228085293536,
          0.08579822087102053,
          0.1484332394842471,
          0.32175826907636906,
          0.026507717760467685,
          0.1542328452435771,
          0.08897321732801466,
          0.015170227726660353,
          0.19530690745651147,
          0.16095873834200838,
          0.009443171737180556,
          0.11930521726620485,
          0.12363480993474678,
          0.0436043109177828,
          0.1253653564948208,
          0.12242850981228606,
          0.04730460031121019,
          0.06900413138386045,
          0.0466023145861874,
          0.03052400233699157,
          0.04720455529037447,
          0.043675135663692036,
          0.04458471191730065
         ]
        }
       ],
       "layout": {
        "template": {
         "data": {
          "bar": [
           {
            "error_x": {
             "color": "#2a3f5f"
            },
            "error_y": {
             "color": "#2a3f5f"
            },
            "marker": {
             "line": {
              "color": "#E5ECF6",
              "width": 0.5
             },
             "pattern": {
              "fillmode": "overlay",
              "size": 10,
              "solidity": 0.2
             }
            },
            "type": "bar"
           }
          ],
          "barpolar": [
           {
            "marker": {
             "line": {
              "color": "#E5ECF6",
              "width": 0.5
             },
             "pattern": {
              "fillmode": "overlay",
              "size": 10,
              "solidity": 0.2
             }
            },
            "type": "barpolar"
           }
          ],
          "carpet": [
           {
            "aaxis": {
             "endlinecolor": "#2a3f5f",
             "gridcolor": "white",
             "linecolor": "white",
             "minorgridcolor": "white",
             "startlinecolor": "#2a3f5f"
            },
            "baxis": {
             "endlinecolor": "#2a3f5f",
             "gridcolor": "white",
             "linecolor": "white",
             "minorgridcolor": "white",
             "startlinecolor": "#2a3f5f"
            },
            "type": "carpet"
           }
          ],
          "choropleth": [
           {
            "colorbar": {
             "outlinewidth": 0,
             "ticks": ""
            },
            "type": "choropleth"
           }
          ],
          "contour": [
           {
            "colorbar": {
             "outlinewidth": 0,
             "ticks": ""
            },
            "colorscale": [
             [
              0,
              "#0d0887"
             ],
             [
              0.1111111111111111,
              "#46039f"
             ],
             [
              0.2222222222222222,
              "#7201a8"
             ],
             [
              0.3333333333333333,
              "#9c179e"
             ],
             [
              0.4444444444444444,
              "#bd3786"
             ],
             [
              0.5555555555555556,
              "#d8576b"
             ],
             [
              0.6666666666666666,
              "#ed7953"
             ],
             [
              0.7777777777777778,
              "#fb9f3a"
             ],
             [
              0.8888888888888888,
              "#fdca26"
             ],
             [
              1,
              "#f0f921"
             ]
            ],
            "type": "contour"
           }
          ],
          "contourcarpet": [
           {
            "colorbar": {
             "outlinewidth": 0,
             "ticks": ""
            },
            "type": "contourcarpet"
           }
          ],
          "heatmap": [
           {
            "colorbar": {
             "outlinewidth": 0,
             "ticks": ""
            },
            "colorscale": [
             [
              0,
              "#0d0887"
             ],
             [
              0.1111111111111111,
              "#46039f"
             ],
             [
              0.2222222222222222,
              "#7201a8"
             ],
             [
              0.3333333333333333,
              "#9c179e"
             ],
             [
              0.4444444444444444,
              "#bd3786"
             ],
             [
              0.5555555555555556,
              "#d8576b"
             ],
             [
              0.6666666666666666,
              "#ed7953"
             ],
             [
              0.7777777777777778,
              "#fb9f3a"
             ],
             [
              0.8888888888888888,
              "#fdca26"
             ],
             [
              1,
              "#f0f921"
             ]
            ],
            "type": "heatmap"
           }
          ],
          "heatmapgl": [
           {
            "colorbar": {
             "outlinewidth": 0,
             "ticks": ""
            },
            "colorscale": [
             [
              0,
              "#0d0887"
             ],
             [
              0.1111111111111111,
              "#46039f"
             ],
             [
              0.2222222222222222,
              "#7201a8"
             ],
             [
              0.3333333333333333,
              "#9c179e"
             ],
             [
              0.4444444444444444,
              "#bd3786"
             ],
             [
              0.5555555555555556,
              "#d8576b"
             ],
             [
              0.6666666666666666,
              "#ed7953"
             ],
             [
              0.7777777777777778,
              "#fb9f3a"
             ],
             [
              0.8888888888888888,
              "#fdca26"
             ],
             [
              1,
              "#f0f921"
             ]
            ],
            "type": "heatmapgl"
           }
          ],
          "histogram": [
           {
            "marker": {
             "pattern": {
              "fillmode": "overlay",
              "size": 10,
              "solidity": 0.2
             }
            },
            "type": "histogram"
           }
          ],
          "histogram2d": [
           {
            "colorbar": {
             "outlinewidth": 0,
             "ticks": ""
            },
            "colorscale": [
             [
              0,
              "#0d0887"
             ],
             [
              0.1111111111111111,
              "#46039f"
             ],
             [
              0.2222222222222222,
              "#7201a8"
             ],
             [
              0.3333333333333333,
              "#9c179e"
             ],
             [
              0.4444444444444444,
              "#bd3786"
             ],
             [
              0.5555555555555556,
              "#d8576b"
             ],
             [
              0.6666666666666666,
              "#ed7953"
             ],
             [
              0.7777777777777778,
              "#fb9f3a"
             ],
             [
              0.8888888888888888,
              "#fdca26"
             ],
             [
              1,
              "#f0f921"
             ]
            ],
            "type": "histogram2d"
           }
          ],
          "histogram2dcontour": [
           {
            "colorbar": {
             "outlinewidth": 0,
             "ticks": ""
            },
            "colorscale": [
             [
              0,
              "#0d0887"
             ],
             [
              0.1111111111111111,
              "#46039f"
             ],
             [
              0.2222222222222222,
              "#7201a8"
             ],
             [
              0.3333333333333333,
              "#9c179e"
             ],
             [
              0.4444444444444444,
              "#bd3786"
             ],
             [
              0.5555555555555556,
              "#d8576b"
             ],
             [
              0.6666666666666666,
              "#ed7953"
             ],
             [
              0.7777777777777778,
              "#fb9f3a"
             ],
             [
              0.8888888888888888,
              "#fdca26"
             ],
             [
              1,
              "#f0f921"
             ]
            ],
            "type": "histogram2dcontour"
           }
          ],
          "mesh3d": [
           {
            "colorbar": {
             "outlinewidth": 0,
             "ticks": ""
            },
            "type": "mesh3d"
           }
          ],
          "parcoords": [
           {
            "line": {
             "colorbar": {
              "outlinewidth": 0,
              "ticks": ""
             }
            },
            "type": "parcoords"
           }
          ],
          "pie": [
           {
            "automargin": true,
            "type": "pie"
           }
          ],
          "scatter": [
           {
            "fillpattern": {
             "fillmode": "overlay",
             "size": 10,
             "solidity": 0.2
            },
            "type": "scatter"
           }
          ],
          "scatter3d": [
           {
            "line": {
             "colorbar": {
              "outlinewidth": 0,
              "ticks": ""
             }
            },
            "marker": {
             "colorbar": {
              "outlinewidth": 0,
              "ticks": ""
             }
            },
            "type": "scatter3d"
           }
          ],
          "scattercarpet": [
           {
            "marker": {
             "colorbar": {
              "outlinewidth": 0,
              "ticks": ""
             }
            },
            "type": "scattercarpet"
           }
          ],
          "scattergeo": [
           {
            "marker": {
             "colorbar": {
              "outlinewidth": 0,
              "ticks": ""
             }
            },
            "type": "scattergeo"
           }
          ],
          "scattergl": [
           {
            "marker": {
             "colorbar": {
              "outlinewidth": 0,
              "ticks": ""
             }
            },
            "type": "scattergl"
           }
          ],
          "scattermapbox": [
           {
            "marker": {
             "colorbar": {
              "outlinewidth": 0,
              "ticks": ""
             }
            },
            "type": "scattermapbox"
           }
          ],
          "scatterpolar": [
           {
            "marker": {
             "colorbar": {
              "outlinewidth": 0,
              "ticks": ""
             }
            },
            "type": "scatterpolar"
           }
          ],
          "scatterpolargl": [
           {
            "marker": {
             "colorbar": {
              "outlinewidth": 0,
              "ticks": ""
             }
            },
            "type": "scatterpolargl"
           }
          ],
          "scatterternary": [
           {
            "marker": {
             "colorbar": {
              "outlinewidth": 0,
              "ticks": ""
             }
            },
            "type": "scatterternary"
           }
          ],
          "surface": [
           {
            "colorbar": {
             "outlinewidth": 0,
             "ticks": ""
            },
            "colorscale": [
             [
              0,
              "#0d0887"
             ],
             [
              0.1111111111111111,
              "#46039f"
             ],
             [
              0.2222222222222222,
              "#7201a8"
             ],
             [
              0.3333333333333333,
              "#9c179e"
             ],
             [
              0.4444444444444444,
              "#bd3786"
             ],
             [
              0.5555555555555556,
              "#d8576b"
             ],
             [
              0.6666666666666666,
              "#ed7953"
             ],
             [
              0.7777777777777778,
              "#fb9f3a"
             ],
             [
              0.8888888888888888,
              "#fdca26"
             ],
             [
              1,
              "#f0f921"
             ]
            ],
            "type": "surface"
           }
          ],
          "table": [
           {
            "cells": {
             "fill": {
              "color": "#EBF0F8"
             },
             "line": {
              "color": "white"
             }
            },
            "header": {
             "fill": {
              "color": "#C8D4E3"
             },
             "line": {
              "color": "white"
             }
            },
            "type": "table"
           }
          ]
         },
         "layout": {
          "annotationdefaults": {
           "arrowcolor": "#2a3f5f",
           "arrowhead": 0,
           "arrowwidth": 1
          },
          "autotypenumbers": "strict",
          "coloraxis": {
           "colorbar": {
            "outlinewidth": 0,
            "ticks": ""
           }
          },
          "colorscale": {
           "diverging": [
            [
             0,
             "#8e0152"
            ],
            [
             0.1,
             "#c51b7d"
            ],
            [
             0.2,
             "#de77ae"
            ],
            [
             0.3,
             "#f1b6da"
            ],
            [
             0.4,
             "#fde0ef"
            ],
            [
             0.5,
             "#f7f7f7"
            ],
            [
             0.6,
             "#e6f5d0"
            ],
            [
             0.7,
             "#b8e186"
            ],
            [
             0.8,
             "#7fbc41"
            ],
            [
             0.9,
             "#4d9221"
            ],
            [
             1,
             "#276419"
            ]
           ],
           "sequential": [
            [
             0,
             "#0d0887"
            ],
            [
             0.1111111111111111,
             "#46039f"
            ],
            [
             0.2222222222222222,
             "#7201a8"
            ],
            [
             0.3333333333333333,
             "#9c179e"
            ],
            [
             0.4444444444444444,
             "#bd3786"
            ],
            [
             0.5555555555555556,
             "#d8576b"
            ],
            [
             0.6666666666666666,
             "#ed7953"
            ],
            [
             0.7777777777777778,
             "#fb9f3a"
            ],
            [
             0.8888888888888888,
             "#fdca26"
            ],
            [
             1,
             "#f0f921"
            ]
           ],
           "sequentialminus": [
            [
             0,
             "#0d0887"
            ],
            [
             0.1111111111111111,
             "#46039f"
            ],
            [
             0.2222222222222222,
             "#7201a8"
            ],
            [
             0.3333333333333333,
             "#9c179e"
            ],
            [
             0.4444444444444444,
             "#bd3786"
            ],
            [
             0.5555555555555556,
             "#d8576b"
            ],
            [
             0.6666666666666666,
             "#ed7953"
            ],
            [
             0.7777777777777778,
             "#fb9f3a"
            ],
            [
             0.8888888888888888,
             "#fdca26"
            ],
            [
             1,
             "#f0f921"
            ]
           ]
          },
          "colorway": [
           "#636efa",
           "#EF553B",
           "#00cc96",
           "#ab63fa",
           "#FFA15A",
           "#19d3f3",
           "#FF6692",
           "#B6E880",
           "#FF97FF",
           "#FECB52"
          ],
          "font": {
           "color": "#2a3f5f"
          },
          "geo": {
           "bgcolor": "white",
           "lakecolor": "white",
           "landcolor": "#E5ECF6",
           "showlakes": true,
           "showland": true,
           "subunitcolor": "white"
          },
          "hoverlabel": {
           "align": "left"
          },
          "hovermode": "closest",
          "mapbox": {
           "style": "light"
          },
          "paper_bgcolor": "white",
          "plot_bgcolor": "#E5ECF6",
          "polar": {
           "angularaxis": {
            "gridcolor": "white",
            "linecolor": "white",
            "ticks": ""
           },
           "bgcolor": "#E5ECF6",
           "radialaxis": {
            "gridcolor": "white",
            "linecolor": "white",
            "ticks": ""
           }
          },
          "scene": {
           "xaxis": {
            "backgroundcolor": "#E5ECF6",
            "gridcolor": "white",
            "gridwidth": 2,
            "linecolor": "white",
            "showbackground": true,
            "ticks": "",
            "zerolinecolor": "white"
           },
           "yaxis": {
            "backgroundcolor": "#E5ECF6",
            "gridcolor": "white",
            "gridwidth": 2,
            "linecolor": "white",
            "showbackground": true,
            "ticks": "",
            "zerolinecolor": "white"
           },
           "zaxis": {
            "backgroundcolor": "#E5ECF6",
            "gridcolor": "white",
            "gridwidth": 2,
            "linecolor": "white",
            "showbackground": true,
            "ticks": "",
            "zerolinecolor": "white"
           }
          },
          "shapedefaults": {
           "line": {
            "color": "#2a3f5f"
           }
          },
          "ternary": {
           "aaxis": {
            "gridcolor": "white",
            "linecolor": "white",
            "ticks": ""
           },
           "baxis": {
            "gridcolor": "white",
            "linecolor": "white",
            "ticks": ""
           },
           "bgcolor": "#E5ECF6",
           "caxis": {
            "gridcolor": "white",
            "linecolor": "white",
            "ticks": ""
           }
          },
          "title": {
           "x": 0.05
          },
          "xaxis": {
           "automargin": true,
           "gridcolor": "white",
           "linecolor": "white",
           "ticks": "",
           "title": {
            "standoff": 15
           },
           "zerolinecolor": "white",
           "zerolinewidth": 2
          },
          "yaxis": {
           "automargin": true,
           "gridcolor": "white",
           "linecolor": "white",
           "ticks": "",
           "title": {
            "standoff": 15
           },
           "zerolinecolor": "white",
           "zerolinewidth": 2
          }
         }
        }
       }
      }
     },
     "metadata": {},
     "output_type": "display_data"
    }
   ],
   "source": [
    "\n",
    "f_ddt2, psd_ddt2 = scipy.signal.periodogram(h.normalize(freqdf[\"filted ddt\"]), fs=sampling_freq)\n",
    "\n",
    "fig = go.Figure()\n",
    "\n",
    "\n",
    "fig.add_trace(go.Scatter(\n",
    "    x=f_ddt,\n",
    "    y=psd_ddt, \n",
    "    name=\"DDT\",\n",
    "    mode='lines',\n",
    "))\n",
    "\n",
    "\n",
    "\n",
    "fig.add_trace(go.Scatter(\n",
    "    x=f_ddt2,\n",
    "    y=psd_ddt2, \n",
    "    name=\"ddt post filter\",\n",
    "    mode='lines',\n",
    "))\n",
    "\n"
   ]
  },
  {
   "attachments": {},
   "cell_type": "markdown",
   "metadata": {},
   "source": [
    "## Autocorrelation "
   ]
  },
  {
   "cell_type": "code",
   "execution_count": 25,
   "metadata": {},
   "outputs": [],
   "source": [
    "def acf1(x, nlags=None, acf_type=\"correlation\", pacf=False, ax=None, **kwargs):\n",
    "    lags = np.arange(1, nlags + 1)\n",
    "\n",
    "    if pacf:\n",
    "        if acf_type == \"correlation\":\n",
    "            values = sm.tsa.pacf(x, nlags=nlags)[1:]\n",
    "            ylabel = \"PACF\"\n",
    "    else:\n",
    "        if acf_type == \"correlation\":\n",
    "            values = sm.tsa.acf(x, nlags=nlags, fft=False)[1:]\n",
    "            ylabel = \"ACF\"\n",
    "        elif acf_type == \"covariance\":\n",
    "            values = sm.tsa.acovf(x, nlag=nlags)[1:]\n",
    "            ylabel = \"ACoV\"\n",
    "\n",
    "    if ax is None:\n",
    "        ax = plt.gca()\n",
    " \n",
    "    ax.bar(lags, values, **kwargs)\n",
    "    ax.axhline(0, color=\"black\", linewidth=1)\n",
    "    if acf_type == \"correlation\":\n",
    "        conf_level = 1.96 / np.sqrt(x.shape[0])\n",
    "        ax.axhline(conf_level, color=\"red\", linestyle=\"--\", linewidth=1)\n",
    "        ax.axhline(-conf_level, color=\"red\", linestyle=\"--\", linewidth=1)\n",
    "    ax.set_xlabel(\"LAG\")\n",
    "    ax.set_ylabel(ylabel)\n",
    "\n",
    "    return ax"
   ]
  },
  {
   "cell_type": "code",
   "execution_count": 26,
   "metadata": {},
   "outputs": [
    {
     "data": {
      "text/plain": [
       "<AxesSubplot:xlabel='LAG', ylabel='ACF'>"
      ]
     },
     "execution_count": 26,
     "metadata": {},
     "output_type": "execute_result"
    },
    {
     "data": {
      "image/png": "[encoded data removed]",
      "text/plain": [
       "<Figure size 640x480 with 1 Axes>"
      ]
     },
     "metadata": {},
     "output_type": "display_data"
    }
   ],
   "source": [
    "acf1(a01[\"Temp C\"], nlags = (len(a01[\"Temp C\"])-1))"
   ]
  },
  {
   "cell_type": "code",
   "execution_count": 27,
   "metadata": {},
   "outputs": [
    {
     "data": {
      "image/png": "[encoded data removed]",
      "text/plain": [
       "<Figure size 640x480 with 1 Axes>"
      ]
     },
     "metadata": {},
     "output_type": "display_data"
    }
   ],
   "source": [
    "corr_array = acf1(pd.Series(ddt_dif_xt), nlags = (len(a01[\"Temp C\"])-1))"
   ]
  },
  {
   "cell_type": "code",
   "execution_count": null,
   "metadata": {},
   "outputs": [],
   "source": []
  }
 ],
 "metadata": {
  "kernelspec": {
   "display_name": "localwindowsenv",
   "language": "python",
   "name": "python3"
  },
  "language_info": {
   "codemirror_mode": {
    "name": "ipython",
    "version": 3
   },
   "file_extension": ".py",
   "mimetype": "text/x-python",
   "name": "python",
   "nbconvert_exporter": "python",
   "pygments_lexer": "ipython3",
   "version": "3.10.8"
  },
  "orig_nbformat": 4
 },
 "nbformat": 4,
 "nbformat_minor": 2
}
