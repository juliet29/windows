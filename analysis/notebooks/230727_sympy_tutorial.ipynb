{
 "cells": [
  {
   "cell_type": "code",
   "execution_count": 124,
   "metadata": {},
   "outputs": [],
   "source": [
    "from sympy import * \n",
    "from spb import *\n",
    "\n",
    "import numpy as np\n",
    "\n",
    "import plotly.graph_objects as go\n",
    "from plotly.subplots import make_subplots\n",
    "\n",
    "\n",
    "\n",
    "smp.init_printing(pretty_print=True)"
   ]
  },
  {
   "cell_type": "markdown",
   "metadata": {},
   "source": [
    "# following mathcube tutorial from [medium](https://medium.com/@mathcube7/the-laplace-equation-solved-analytically-with-python-c788cb009773)\n",
    "\n",
    "- 2D laplace, div grad u(x,y) = 0 \n",
    "- semi infinite recatnagular domain: 0 <= x <= a, 0 <= y\n",
    "- BCs: \n",
    "  - u0 at y=0, 0 as y -> oo\n",
    "  - 0 at x=0, 0 at x=a\n",
    "- solution approach: seperation ansatz\n"
   ]
  },
  {
   "cell_type": "code",
   "execution_count": 30,
   "metadata": {},
   "outputs": [
    {
     "data": {
      "image/png": "[encoded data removed]",
      "text/latex": [
       "$\\displaystyle u{\\left(x,y \\right)}$"
      ],
      "text/plain": [
       "u(x, y)"
      ]
     },
     "execution_count": 30,
     "metadata": {},
     "output_type": "execute_result"
    }
   ],
   "source": [
    "# define variables\n",
    "x, y = symbols(\"x, y\")\n",
    "u = Function(\"u\")\n",
    "X, Y = symbols(\"X, Y\", cls=Function) # TODO why the difference here?\n",
    "\n",
    "u(x,y)"
   ]
  },
  {
   "cell_type": "code",
   "execution_count": 39,
   "metadata": {},
   "outputs": [],
   "source": [
    "# convenience function to apply opperation to both sides of an equation \n",
    "\n",
    "def apply(eq, func, *args):\n",
    "    return Eq(\n",
    "        func(eq.lhs, *args),\n",
    "        func(eq.rhs, *args)\n",
    "    )"
   ]
  },
  {
   "cell_type": "code",
   "execution_count": 56,
   "metadata": {},
   "outputs": [
    {
     "data": {
      "image/png": "[encoded data removed]",
      "text/latex": [
       "$\\displaystyle \\frac{\\partial^{2}}{\\partial x^{2}} u{\\left(x,y \\right)} + \\frac{\\partial^{2}}{\\partial y^{2}} u{\\left(x,y \\right)} = 0$"
      ],
      "text/plain": [
       "  2              2             \n",
       " ∂              ∂              \n",
       "───(u(x, y)) + ───(u(x, y)) = 0\n",
       "  2              2             \n",
       "∂x             ∂y              "
      ]
     },
     "execution_count": 56,
     "metadata": {},
     "output_type": "execute_result"
    }
   ],
   "source": [
    "# formulate Laplace equation \n",
    "\n",
    "EQ1 = Eq(\n",
    "    diff(u(x,y), (x, 2)) + diff(u(x,y), (y,2)), \n",
    "    0\n",
    ")\n",
    "EQ1"
   ]
  },
  {
   "cell_type": "markdown",
   "metadata": {},
   "source": [
    "### initial seperation "
   ]
  },
  {
   "cell_type": "code",
   "execution_count": 57,
   "metadata": {},
   "outputs": [
    {
     "data": {
      "image/png": "[encoded data removed]",
      "text/latex": [
       "$\\displaystyle \\frac{\\partial^{2}}{\\partial x^{2}} X{\\left(x \\right)} Y{\\left(y \\right)} + \\frac{\\partial^{2}}{\\partial y^{2}} X{\\left(x \\right)} Y{\\left(y \\right)} = 0$"
      ],
      "text/plain": [
       "  2                2               \n",
       " ∂                ∂                \n",
       "───(X(x)⋅Y(y)) + ───(X(x)⋅Y(y)) = 0\n",
       "  2                2               \n",
       "∂x               ∂y                "
      ]
     },
     "execution_count": 57,
     "metadata": {},
     "output_type": "execute_result"
    }
   ],
   "source": [
    "# substitue seperation ansatz\n",
    "EQ1.subs(u(x,y), X(x)*Y(y))"
   ]
  },
  {
   "cell_type": "code",
   "execution_count": 58,
   "metadata": {},
   "outputs": [
    {
     "data": {
      "image/png": "[encoded data removed]",
      "text/latex": [
       "$\\displaystyle X{\\left(x \\right)} \\frac{d^{2}}{d y^{2}} Y{\\left(y \\right)} + Y{\\left(y \\right)} \\frac{d^{2}}{d x^{2}} X{\\left(x \\right)} = 0$"
      ],
      "text/plain": [
       "       2                2          \n",
       "      d                d           \n",
       "X(x)⋅───(Y(y)) + Y(y)⋅───(X(x)) = 0\n",
       "       2                2          \n",
       "     dy               dx           "
      ]
     },
     "execution_count": 58,
     "metadata": {},
     "output_type": "execute_result"
    }
   ],
   "source": [
    "_.doit()"
   ]
  },
  {
   "cell_type": "code",
   "execution_count": 59,
   "metadata": {},
   "outputs": [
    {
     "data": {
      "image/png": "[encoded data removed]",
      "text/latex": [
       "$\\displaystyle \\frac{X{\\left(x \\right)} \\frac{d^{2}}{d y^{2}} Y{\\left(y \\right)} + Y{\\left(y \\right)} \\frac{d^{2}}{d x^{2}} X{\\left(x \\right)}}{X{\\left(x \\right)} Y{\\left(y \\right)}} = 0$"
      ],
      "text/plain": [
       "       2                2          \n",
       "      d                d           \n",
       "X(x)⋅───(Y(y)) + Y(y)⋅───(X(x))    \n",
       "       2                2          \n",
       "     dy               dx           \n",
       "─────────────────────────────── = 0\n",
       "           X(x)⋅Y(y)               "
      ]
     },
     "execution_count": 59,
     "metadata": {},
     "output_type": "execute_result"
    }
   ],
   "source": [
    "# divide bt the seperation ansatz \n",
    "apply(_, Mul, 1/ (X(x)*Y(y)))"
   ]
  },
  {
   "cell_type": "code",
   "execution_count": 60,
   "metadata": {},
   "outputs": [
    {
     "data": {
      "image/png": "[encoded data removed]",
      "text/latex": [
       "$\\displaystyle \\frac{\\frac{d^{2}}{d y^{2}} Y{\\left(y \\right)}}{Y{\\left(y \\right)}} + \\frac{\\frac{d^{2}}{d x^{2}} X{\\left(x \\right)}}{X{\\left(x \\right)}} = 0$"
      ],
      "text/plain": [
       "  2           2          \n",
       " d           d           \n",
       "───(Y(y))   ───(X(x))    \n",
       "  2           2          \n",
       "dy          dx           \n",
       "───────── + ───────── = 0\n",
       "   Y(y)        X(x)      "
      ]
     },
     "execution_count": 60,
     "metadata": {},
     "output_type": "execute_result"
    }
   ],
   "source": [
    "expand(_)"
   ]
  },
  {
   "cell_type": "code",
   "execution_count": 61,
   "metadata": {},
   "outputs": [
    {
     "data": {
      "image/png": "[encoded data removed]",
      "text/latex": [
       "$\\displaystyle \\frac{\\frac{d^{2}}{d x^{2}} X{\\left(x \\right)}}{X{\\left(x \\right)}} = - \\frac{\\frac{d^{2}}{d y^{2}} Y{\\left(y \\right)}}{Y{\\left(y \\right)}}$"
      ],
      "text/plain": [
       "  2            2       \n",
       " d            d        \n",
       "───(X(x))   -───(Y(y)) \n",
       "  2            2       \n",
       "dx           dy        \n",
       "───────── = ───────────\n",
       "   X(x)         Y(y)   "
      ]
     },
     "execution_count": 61,
     "metadata": {},
     "output_type": "execute_result"
    }
   ],
   "source": [
    "# put on different sides \n",
    "apply(_, Add, -_.lhs.args[1])"
   ]
  },
  {
   "cell_type": "code",
   "execution_count": 62,
   "metadata": {},
   "outputs": [],
   "source": [
    "EQ2 = _"
   ]
  },
  {
   "cell_type": "markdown",
   "metadata": {},
   "source": [
    "### solving for X(x)"
   ]
  },
  {
   "cell_type": "code",
   "execution_count": 64,
   "metadata": {},
   "outputs": [
    {
     "data": {
      "image/png": "[encoded data removed]",
      "text/latex": [
       "$\\displaystyle \\frac{\\frac{d^{2}}{d x^{2}} X{\\left(x \\right)}}{X{\\left(x \\right)}} = - k^{2}$"
      ],
      "text/plain": [
       "  2            \n",
       " d             \n",
       "───(X(x))      \n",
       "  2            \n",
       "dx            2\n",
       "───────── = -k \n",
       "   X(x)        "
      ]
     },
     "execution_count": 64,
     "metadata": {},
     "output_type": "execute_result"
    }
   ],
   "source": [
    "# each side must equal some negative constant # TODO => read in PDE book about this.. \n",
    "k = symbols(\"k\")\n",
    "\n",
    "Eq(EQ2.lhs, -k**2)"
   ]
  },
  {
   "cell_type": "code",
   "execution_count": 65,
   "metadata": {},
   "outputs": [
    {
     "data": {
      "image/png": "[encoded data removed]",
      "text/latex": [
       "$\\displaystyle \\frac{d^{2}}{d x^{2}} X{\\left(x \\right)} = - k^{2} X{\\left(x \\right)}$"
      ],
      "text/plain": [
       "  2                 \n",
       " d            2     \n",
       "───(X(x)) = -k ⋅X(x)\n",
       "  2                 \n",
       "dx                  "
      ]
     },
     "execution_count": 65,
     "metadata": {},
     "output_type": "execute_result"
    }
   ],
   "source": [
    "apply(_, Mul, X(x))"
   ]
  },
  {
   "cell_type": "code",
   "execution_count": 66,
   "metadata": {},
   "outputs": [],
   "source": [
    "EQ3 = _"
   ]
  },
  {
   "cell_type": "code",
   "execution_count": 68,
   "metadata": {},
   "outputs": [
    {
     "data": {
      "image/png": "[encoded data removed]",
      "text/latex": [
       "$\\displaystyle X{\\left(x \\right)} = A \\sin{\\left(k x \\right)} + B \\cos{\\left(k x \\right)}$"
      ],
      "text/plain": [
       "X(x) = A⋅sin(k⋅x) + B⋅cos(k⋅x)"
      ]
     },
     "execution_count": 68,
     "metadata": {},
     "output_type": "execute_result"
    }
   ],
   "source": [
    "# this is the ODE of a harmonic oscillator #TODO, refresh on ODEs \n",
    "# can write down solution for X(x) immediately \n",
    "\n",
    "var(\"A, B\")\n",
    "Eq(X(x), A * sin(k*x) + B * cos(k*x))"
   ]
  },
  {
   "cell_type": "markdown",
   "metadata": {},
   "source": [
    "#### boundary conditions on u(x)"
   ]
  },
  {
   "cell_type": "markdown",
   "metadata": {},
   "source": [
    "##### bc_x1: u(x=0, y) = 0"
   ]
  },
  {
   "cell_type": "code",
   "execution_count": 69,
   "metadata": {},
   "outputs": [
    {
     "data": {
      "image/png": "[encoded data removed]",
      "text/latex": [
       "$\\displaystyle X{\\left(x \\right)} = A \\sin{\\left(k x \\right)}$"
      ],
      "text/plain": [
       "X(x) = A⋅sin(k⋅x)"
      ]
     },
     "execution_count": 69,
     "metadata": {},
     "output_type": "execute_result"
    }
   ],
   "source": [
    "_.subs(B, 0) # note => skipped a step -> didnt acually solve out "
   ]
  },
  {
   "cell_type": "code",
   "execution_count": 70,
   "metadata": {},
   "outputs": [],
   "source": [
    "EQ4 = _"
   ]
  },
  {
   "cell_type": "markdown",
   "metadata": {},
   "source": [
    "##### bc_x2: u(x=a, y) = 0"
   ]
  },
  {
   "cell_type": "code",
   "execution_count": 71,
   "metadata": {},
   "outputs": [
    {
     "data": {
      "image/png": "[encoded data removed]",
      "text/latex": [
       "$\\displaystyle \\sin{\\left(a k \\right)} = 0$"
      ],
      "text/plain": [
       "sin(a⋅k) = 0"
      ]
     },
     "execution_count": 71,
     "metadata": {},
     "output_type": "execute_result"
    }
   ],
   "source": [
    "var(\"a\")\n",
    "\n",
    "Eq(sin(k*a), 0) # NOTE: left out the A / didnt use the whole equation - why?"
   ]
  },
  {
   "cell_type": "code",
   "execution_count": 72,
   "metadata": {},
   "outputs": [
    {
     "data": {
      "image/png": "[encoded data removed]",
      "text/latex": [
       "$\\displaystyle \\left[ 0, \\  \\pi\\right]$"
      ],
      "text/plain": [
       "[0, π]"
      ]
     },
     "execution_count": 72,
     "metadata": {},
     "output_type": "execute_result"
    }
   ],
   "source": [
    "solve(_, k*a)"
   ]
  },
  {
   "cell_type": "code",
   "execution_count": 73,
   "metadata": {},
   "outputs": [
    {
     "data": {
      "image/png": "[encoded data removed]",
      "text/latex": [
       "$\\displaystyle a k = \\pi n$"
      ],
      "text/plain": [
       "a⋅k = π⋅n"
      ]
     },
     "execution_count": 73,
     "metadata": {},
     "output_type": "execute_result"
    }
   ],
   "source": [
    "# 0, pi are possible values for k*a, but also all integrer multiples of pi \n",
    "var(\"n\", integer=True)\n",
    "\n",
    "Eq(k*a, n*pi)"
   ]
  },
  {
   "cell_type": "code",
   "execution_count": 74,
   "metadata": {},
   "outputs": [
    {
     "data": {
      "image/png": "[encoded data removed]",
      "text/latex": [
       "$\\displaystyle \\left[ \\frac{\\pi n}{a}\\right]$"
      ],
      "text/plain": [
       "⎡π⋅n⎤\n",
       "⎢───⎥\n",
       "⎣ a ⎦"
      ]
     },
     "execution_count": 74,
     "metadata": {},
     "output_type": "execute_result"
    }
   ],
   "source": [
    "solve(_, k)"
   ]
  },
  {
   "cell_type": "code",
   "execution_count": 76,
   "metadata": {},
   "outputs": [
    {
     "data": {
      "image/png": "[encoded data removed]",
      "text/latex": [
       "$\\displaystyle k = \\frac{\\pi n}{a}$"
      ],
      "text/plain": [
       "    π⋅n\n",
       "k = ───\n",
       "     a "
      ]
     },
     "execution_count": 76,
     "metadata": {},
     "output_type": "execute_result"
    }
   ],
   "source": [
    "Eq(k, _[0])"
   ]
  },
  {
   "cell_type": "code",
   "execution_count": 77,
   "metadata": {},
   "outputs": [],
   "source": [
    "EQ_k = _"
   ]
  },
  {
   "cell_type": "code",
   "execution_count": 78,
   "metadata": {},
   "outputs": [
    {
     "data": {
      "image/png": "[encoded data removed]",
      "text/latex": [
       "$\\displaystyle X{\\left(x \\right)} = A \\sin{\\left(\\frac{\\pi n x}{a} \\right)}$"
      ],
      "text/plain": [
       "            ⎛π⋅n⋅x⎞\n",
       "X(x) = A⋅sin⎜─────⎟\n",
       "            ⎝  a  ⎠"
      ]
     },
     "execution_count": 78,
     "metadata": {},
     "output_type": "execute_result"
    }
   ],
   "source": [
    "# now have a value for k, can eliminate from solution of x\n",
    "EQ4.subs(k, _.rhs)"
   ]
  },
  {
   "cell_type": "code",
   "execution_count": 79,
   "metadata": {},
   "outputs": [],
   "source": [
    "EQ5 = _"
   ]
  },
  {
   "cell_type": "markdown",
   "metadata": {},
   "source": [
    "### solving for Y(y)"
   ]
  },
  {
   "cell_type": "code",
   "execution_count": 81,
   "metadata": {},
   "outputs": [
    {
     "data": {
      "image/png": "[encoded data removed]",
      "text/latex": [
       "$\\displaystyle - \\frac{\\frac{d^{2}}{d y^{2}} Y{\\left(y \\right)}}{Y{\\left(y \\right)}} = - k^{2}$"
      ],
      "text/plain": [
       "   2             \n",
       "  d              \n",
       "-───(Y(y))       \n",
       "   2             \n",
       " dy             2\n",
       "─────────── = -k \n",
       "    Y(y)         "
      ]
     },
     "execution_count": 81,
     "metadata": {},
     "output_type": "execute_result"
    }
   ],
   "source": [
    "Eq(EQ2.rhs, -k**2)"
   ]
  },
  {
   "cell_type": "code",
   "execution_count": 82,
   "metadata": {},
   "outputs": [
    {
     "data": {
      "image/png": "[encoded data removed]",
      "text/latex": [
       "$\\displaystyle \\frac{d^{2}}{d y^{2}} Y{\\left(y \\right)} = k^{2} Y{\\left(y \\right)}$"
      ],
      "text/plain": [
       "  2                \n",
       " d           2     \n",
       "───(Y(y)) = k ⋅Y(y)\n",
       "  2                \n",
       "dy                 "
      ]
     },
     "execution_count": 82,
     "metadata": {},
     "output_type": "execute_result"
    }
   ],
   "source": [
    "apply(_, Mul, -Y(y))"
   ]
  },
  {
   "cell_type": "code",
   "execution_count": 83,
   "metadata": {},
   "outputs": [
    {
     "data": {
      "image/png": "[encoded data removed]",
      "text/latex": [
       "$\\displaystyle Y{\\left(y \\right)} = C e^{k y} + D e^{- k y}$"
      ],
      "text/plain": [
       "          k⋅y      -k⋅y\n",
       "Y(y) = C⋅ℯ    + D⋅ℯ    "
      ]
     },
     "execution_count": 83,
     "metadata": {},
     "output_type": "execute_result"
    }
   ],
   "source": [
    "# above ode is the hyperbolic counterpart of the harmonic oscillator #TODO review this..\n",
    "# again, can write down solution immediately \n",
    "\n",
    "var(\"C, D\")\n",
    "Eq(Y(y), C * exp(k*y) + D * exp(-k*y))"
   ]
  },
  {
   "cell_type": "markdown",
   "metadata": {},
   "source": [
    "#### boundary conditions on u(y)"
   ]
  },
  {
   "cell_type": "markdown",
   "metadata": {},
   "source": [
    "##### bc_y1: u(x, y->oo) = 0"
   ]
  },
  {
   "cell_type": "code",
   "execution_count": 84,
   "metadata": {},
   "outputs": [
    {
     "data": {
      "image/png": "[encoded data removed]",
      "text/latex": [
       "$\\displaystyle Y{\\left(y \\right)} = D e^{- k y}$"
      ],
      "text/plain": [
       "          -k⋅y\n",
       "Y(y) = D⋅ℯ    "
      ]
     },
     "execution_count": 84,
     "metadata": {},
     "output_type": "execute_result"
    }
   ],
   "source": [
    "# can discard the term with C based on this BC #TODO is there a way to automate this?\n",
    "\n",
    "_.subs({C: 0})"
   ]
  },
  {
   "cell_type": "code",
   "execution_count": 92,
   "metadata": {},
   "outputs": [],
   "source": [
    "EQ6=  _"
   ]
  },
  {
   "cell_type": "markdown",
   "metadata": {},
   "source": [
    "### preliminary solution (one BC to go)"
   ]
  },
  {
   "cell_type": "code",
   "execution_count": 95,
   "metadata": {},
   "outputs": [
    {
     "data": {
      "image/png": "[encoded data removed]",
      "text/latex": [
       "$\\displaystyle u{\\left(x,y \\right)} = \\sum_{n=1}^{\\infty} A_{n} D_{n} e^{- \\frac{\\pi n y}{a}} \\sin{\\left(\\frac{\\pi n x}{a} \\right)}$"
      ],
      "text/plain": [
       "            ∞                            \n",
       "          _____                          \n",
       "          ╲                              \n",
       "           ╲                             \n",
       "            ╲          -π⋅n⋅y            \n",
       "             ╲         ───────           \n",
       "u(x, y) =    ╱            a       ⎛π⋅n⋅x⎞\n",
       "            ╱   Aₙ⋅Dₙ⋅ℯ       ⋅sin⎜─────⎟\n",
       "           ╱                      ⎝  a  ⎠\n",
       "          ╱                              \n",
       "          ‾‾‾‾‾                          \n",
       "          n = 1                          "
      ]
     },
     "execution_count": 95,
     "metadata": {},
     "output_type": "execute_result"
    }
   ],
   "source": [
    "# constants in X(x) and Y(y) may depend on k and this n, so they need indices \n",
    "\n",
    "A_n, D_n = symbols(\"A_n, D_n\")\n",
    "\n",
    "Eq(\n",
    "    u(x,y),\n",
    "    Sum(\n",
    "        EQ5.rhs * EQ6.rhs, \n",
    "        (n, 1, oo)\n",
    "    ).subs({A: A_n, D: D_n, k:EQ_k.rhs})\n",
    ")"
   ]
  },
  {
   "cell_type": "code",
   "execution_count": 96,
   "metadata": {},
   "outputs": [
    {
     "data": {
      "image/png": "[encoded data removed]",
      "text/latex": [
       "$\\displaystyle u{\\left(x,y \\right)} = \\sum_{n=1}^{\\infty} e^{- \\frac{\\pi n y}{a}} \\sin{\\left(\\frac{\\pi n x}{a} \\right)} {b}_{n}$"
      ],
      "text/plain": [
       "            ∞                           \n",
       "          _____                         \n",
       "          ╲                             \n",
       "           ╲                            \n",
       "            ╲    -π⋅n⋅y                 \n",
       "             ╲   ───────                \n",
       "u(x, y) =    ╱      a       ⎛π⋅n⋅x⎞     \n",
       "            ╱   ℯ       ⋅sin⎜─────⎟⋅b[n]\n",
       "           ╱                ⎝  a  ⎠     \n",
       "          ╱                             \n",
       "          ‾‾‾‾‾                         \n",
       "          n = 1                         "
      ]
     },
     "execution_count": 96,
     "metadata": {},
     "output_type": "execute_result"
    }
   ],
   "source": [
    "# the constants dont need to be seperated, bn = An * Dn\n",
    "\n",
    "b = IndexedBase(\"b\") #TODO what does this mean?\n",
    "\n",
    "_.subs(A_n*D_n, b[n])"
   ]
  },
  {
   "cell_type": "code",
   "execution_count": 97,
   "metadata": {},
   "outputs": [],
   "source": [
    "EQ7 = _"
   ]
  },
  {
   "cell_type": "markdown",
   "metadata": {},
   "source": [
    "### bc_y2: u(x, y=0) = u0"
   ]
  },
  {
   "cell_type": "code",
   "execution_count": 98,
   "metadata": {},
   "outputs": [
    {
     "data": {
      "image/png": "[encoded data removed]",
      "text/latex": [
       "$\\displaystyle u_{0} = \\sum_{n=1}^{\\infty} \\sin{\\left(\\frac{\\pi n x}{a} \\right)} {b}_{n}$"
      ],
      "text/plain": [
       "       ∞                  \n",
       "      ____                \n",
       "      ╲                   \n",
       "       ╲                  \n",
       "        ╲     ⎛π⋅n⋅x⎞     \n",
       "u₀ =    ╱  sin⎜─────⎟⋅b[n]\n",
       "       ╱      ⎝  a  ⎠     \n",
       "      ╱                   \n",
       "      ‾‾‾‾                \n",
       "     n = 1                "
      ]
     },
     "execution_count": 98,
     "metadata": {},
     "output_type": "execute_result"
    }
   ],
   "source": [
    "u0 = Symbol(\"u_0\")\n",
    "\n",
    "Eq(u0, EQ7.rhs.subs(y, 0))"
   ]
  },
  {
   "cell_type": "code",
   "execution_count": 100,
   "metadata": {},
   "outputs": [
    {
     "data": {
      "image/png": "[encoded data removed]",
      "text/latex": [
       "$\\displaystyle u_{0} \\sin{\\left(\\frac{\\pi m x}{a} \\right)} = \\sin{\\left(\\frac{\\pi m x}{a} \\right)} \\sum_{n=1}^{\\infty} \\sin{\\left(\\frac{\\pi n x}{a} \\right)} {b}_{n}$"
      ],
      "text/plain": [
       "                             ∞                  \n",
       "                            ____                \n",
       "                            ╲                   \n",
       "                             ╲                  \n",
       "      ⎛π⋅m⋅x⎞      ⎛π⋅m⋅x⎞    ╲     ⎛π⋅n⋅x⎞     \n",
       "u₀⋅sin⎜─────⎟ = sin⎜─────⎟⋅   ╱  sin⎜─────⎟⋅b[n]\n",
       "      ⎝  a  ⎠      ⎝  a  ⎠   ╱      ⎝  a  ⎠     \n",
       "                            ╱                   \n",
       "                            ‾‾‾‾                \n",
       "                           n = 1                "
      ]
     },
     "execution_count": 100,
     "metadata": {},
     "output_type": "execute_result"
    }
   ],
   "source": [
    "# sines are a set of orthogonal functions #TODO read into this..\n",
    "# scalar product of 2 sin functions = pi integrated over the interval 0 - 2pi if the coefficients on their x values are the same \n",
    "\n",
    "var(\"m\", integer=True, positive=True)\n",
    "apply(_, Mul, sin(pi*m*x/a))"
   ]
  },
  {
   "cell_type": "code",
   "execution_count": 101,
   "metadata": {},
   "outputs": [
    {
     "data": {
      "image/png": "[encoded data removed]",
      "text/latex": [
       "$\\displaystyle \\int\\limits_{0}^{a} u_{0} \\sin{\\left(\\frac{\\pi m x}{a} \\right)}\\, dx = \\int\\limits_{0}^{a} \\sin{\\left(\\frac{\\pi m x}{a} \\right)} \\sum_{n=1}^{\\infty} \\sin{\\left(\\frac{\\pi n x}{a} \\right)} {b}_{n}\\, dx$"
      ],
      "text/plain": [
       "                     a                                    \n",
       "                     ⌠                                    \n",
       "                     ⎮              ∞                     \n",
       "                     ⎮             ____                   \n",
       "a                    ⎮             ╲                      \n",
       "⌠                    ⎮              ╲                     \n",
       "⎮       ⎛π⋅m⋅x⎞      ⎮    ⎛π⋅m⋅x⎞    ╲     ⎛π⋅n⋅x⎞        \n",
       "⎮ u₀⋅sin⎜─────⎟ dx = ⎮ sin⎜─────⎟⋅   ╱  sin⎜─────⎟⋅b[n] dx\n",
       "⎮       ⎝  a  ⎠      ⎮    ⎝  a  ⎠   ╱      ⎝  a  ⎠        \n",
       "⌡                    ⎮             ╱                      \n",
       "0                    ⎮             ‾‾‾‾                   \n",
       "                     ⎮            n = 1                   \n",
       "                     ⌡                                    \n",
       "                     0                                    "
      ]
     },
     "execution_count": 101,
     "metadata": {},
     "output_type": "execute_result"
    }
   ],
   "source": [
    "# integrate over x #TODO investigate Integral object vs integrate function \n",
    "\n",
    "apply(_, Integral, (x, 0, a))"
   ]
  },
  {
   "cell_type": "code",
   "execution_count": 102,
   "metadata": {},
   "outputs": [],
   "source": [
    "EQ8 = _"
   ]
  },
  {
   "cell_type": "code",
   "execution_count": 104,
   "metadata": {},
   "outputs": [
    {
     "data": {
      "image/png": "[encoded data removed]",
      "text/latex": [
       "$\\displaystyle \\int\\limits_{0}^{a} u_{0} \\sin{\\left(\\frac{\\pi m x}{a} \\right)}\\, dx = \\sum_{n=1}^{\\infty} {b}_{n} \\int\\limits_{0}^{a} \\sin{\\left(\\frac{\\pi m x}{a} \\right)} \\sin{\\left(\\frac{\\pi n x}{a} \\right)}\\, dx$"
      ],
      "text/plain": [
       "                       ∞                                   \n",
       "                     ______                                \n",
       "                     ╲                                     \n",
       "                      ╲                                    \n",
       "a                      ╲         a                         \n",
       "⌠                       ╲        ⌠                         \n",
       "⎮       ⎛π⋅m⋅x⎞          ╲       ⎮    ⎛π⋅m⋅x⎞    ⎛π⋅n⋅x⎞   \n",
       "⎮ u₀⋅sin⎜─────⎟ dx =     ╱  b[n]⋅⎮ sin⎜─────⎟⋅sin⎜─────⎟ dx\n",
       "⎮       ⎝  a  ⎠         ╱        ⎮    ⎝  a  ⎠    ⎝  a  ⎠   \n",
       "⌡                      ╱         ⌡                         \n",
       "0                     ╱          0                         \n",
       "                     ╱                                     \n",
       "                     ‾‾‾‾‾‾                                \n",
       "                     n = 1                                 "
      ]
     },
     "execution_count": 104,
     "metadata": {},
     "output_type": "execute_result"
    }
   ],
   "source": [
    "# rhs => swap integration and summation \n",
    "\n",
    "Eq(EQ8.lhs, \n",
    "    Sum(\n",
    "        b[n] * \n",
    "        Integral(sin(pi*m*x/a) * sin(pi*n*x/a), (x, 0, a)),\n",
    "        (n, 1, oo)\n",
    "    )\n",
    ")"
   ]
  },
  {
   "cell_type": "code",
   "execution_count": 105,
   "metadata": {},
   "outputs": [
    {
     "data": {
      "image/png": "[encoded data removed]",
      "text/latex": [
       "$\\displaystyle \\int\\limits_{0}^{a} u_{0} \\sin{\\left(\\frac{\\pi m x}{a} \\right)}\\, dx = {b}_{m} \\int\\limits_{0}^{a} \\sin^{2}{\\left(\\frac{\\pi m x}{a} \\right)}\\, dx$"
      ],
      "text/plain": [
       "a                         a               \n",
       "⌠                         ⌠               \n",
       "⎮       ⎛π⋅m⋅x⎞           ⎮    2⎛π⋅m⋅x⎞   \n",
       "⎮ u₀⋅sin⎜─────⎟ dx = b[m]⋅⎮ sin ⎜─────⎟ dx\n",
       "⎮       ⎝  a  ⎠           ⎮     ⎝  a  ⎠   \n",
       "⌡                         ⌡               \n",
       "0                         0               "
      ]
     },
     "execution_count": 105,
     "metadata": {},
     "output_type": "execute_result"
    }
   ],
   "source": [
    "# due to orthogonality property => terms vanish except for when n = m \n",
    "Eq(_.lhs, _.rhs.args[0].subs(n, m))"
   ]
  },
  {
   "cell_type": "code",
   "execution_count": 106,
   "metadata": {},
   "outputs": [],
   "source": [
    "EQ9 = _"
   ]
  },
  {
   "cell_type": "code",
   "execution_count": 111,
   "metadata": {},
   "outputs": [
    {
     "data": {
      "image/png": "[encoded data removed]",
      "text/latex": [
       "$\\displaystyle \\begin{cases} - \\frac{\\left(-1\\right)^{m} a u_{0}}{\\pi m} + \\frac{a u_{0}}{\\pi m} & \\text{for}\\: \\frac{\\pi m}{a} \\neq 0 \\\\0 & \\text{otherwise} \\end{cases} = \\left(\\begin{cases} \\frac{a}{2} & \\text{for}\\: \\frac{\\pi m}{a} \\neq 0 \\\\0 & \\text{otherwise} \\end{cases}\\right) {b}_{m}$"
      ],
      "text/plain": [
       "⎧      m                                                  \n",
       "⎪  (-1) ⋅a⋅u₀   a⋅u₀      π⋅m       ⎛⎧a      π⋅m    ⎞     \n",
       "⎪- ────────── + ────  for ─── ≠ 0   ⎜⎪─  for ─── ≠ 0⎟     \n",
       "⎨     π⋅m       π⋅m        a      = ⎜⎨2       a     ⎟⋅b[m]\n",
       "⎪                                   ⎜⎪              ⎟     \n",
       "⎪         0            otherwise    ⎝⎩0   otherwise ⎠     \n",
       "⎩                                                         "
      ]
     },
     "execution_count": 111,
     "metadata": {},
     "output_type": "execute_result"
    }
   ],
   "source": [
    "# evaluate the integrals \n",
    "EQ9.doit()"
   ]
  },
  {
   "cell_type": "code",
   "execution_count": 112,
   "metadata": {},
   "outputs": [
    {
     "data": {
      "image/png": "[encoded data removed]",
      "text/latex": [
       "$\\displaystyle - \\frac{\\left(-1\\right)^{m} a u_{0}}{\\pi m} + \\frac{a u_{0}}{\\pi m} = \\frac{a {b}_{m}}{2}$"
      ],
      "text/plain": [
       "      m                     \n",
       "  (-1) ⋅a⋅u₀   a⋅u₀   a⋅b[m]\n",
       "- ────────── + ──── = ──────\n",
       "     π⋅m       π⋅m      2   "
      ]
     },
     "execution_count": 112,
     "metadata": {},
     "output_type": "execute_result"
    }
   ],
   "source": [
    "# m is positive so can simplify with refine \n",
    "apply(_, refine, Q.nonzero(pi*m/a))"
   ]
  },
  {
   "cell_type": "code",
   "execution_count": 113,
   "metadata": {},
   "outputs": [
    {
     "data": {
      "image/png": "[encoded data removed]",
      "text/latex": [
       "$\\displaystyle \\frac{2 u_{0} \\cdot \\left(1 - \\left(-1\\right)^{m}\\right)}{\\pi m}$"
      ],
      "text/plain": [
       "     ⎛        m⎞\n",
       "2⋅u₀⋅⎝1 - (-1) ⎠\n",
       "────────────────\n",
       "      π⋅m       "
      ]
     },
     "execution_count": 113,
     "metadata": {},
     "output_type": "execute_result"
    }
   ],
   "source": [
    "solve(_, b[m])[0]"
   ]
  },
  {
   "cell_type": "code",
   "execution_count": 114,
   "metadata": {},
   "outputs": [
    {
     "data": {
      "image/png": "[encoded data removed]",
      "text/latex": [
       "$\\displaystyle {b}_{n} = \\frac{2 u_{0} \\cdot \\left(1 - \\left(-1\\right)^{n}\\right)}{\\pi n}$"
      ],
      "text/plain": [
       "            ⎛        n⎞\n",
       "       2⋅u₀⋅⎝1 - (-1) ⎠\n",
       "b[n] = ────────────────\n",
       "             π⋅n       "
      ]
     },
     "execution_count": 114,
     "metadata": {},
     "output_type": "execute_result"
    }
   ],
   "source": [
    "Eq(b[n], _.subs(m, n))"
   ]
  },
  {
   "cell_type": "markdown",
   "metadata": {},
   "source": [
    "### final solution "
   ]
  },
  {
   "cell_type": "code",
   "execution_count": 115,
   "metadata": {},
   "outputs": [
    {
     "data": {
      "image/png": "[encoded data removed]",
      "text/latex": [
       "$\\displaystyle u{\\left(x,y \\right)} = \\sum_{n=1}^{\\infty} \\frac{2 u_{0} \\cdot \\left(1 - \\left(-1\\right)^{n}\\right) e^{- \\frac{\\pi n y}{a}} \\sin{\\left(\\frac{\\pi n x}{a} \\right)}}{\\pi n}$"
      ],
      "text/plain": [
       "            ∞                                        \n",
       "          ______                                     \n",
       "          ╲                                          \n",
       "           ╲                                         \n",
       "            ╲                      -π⋅n⋅y            \n",
       "             ╲                     ───────           \n",
       "              ╲       ⎛        n⎞     a       ⎛π⋅n⋅x⎞\n",
       "u(x, y) =     ╱  2⋅u₀⋅⎝1 - (-1) ⎠⋅ℯ       ⋅sin⎜─────⎟\n",
       "             ╱                                ⎝  a  ⎠\n",
       "            ╱    ────────────────────────────────────\n",
       "           ╱                     π⋅n                 \n",
       "          ╱                                          \n",
       "          ‾‾‾‾‾‾                                     \n",
       "          n = 1                                      "
      ]
     },
     "execution_count": 115,
     "metadata": {},
     "output_type": "execute_result"
    }
   ],
   "source": [
    "EQ7.replace(b[n], _.rhs)"
   ]
  },
  {
   "cell_type": "code",
   "execution_count": 116,
   "metadata": {},
   "outputs": [],
   "source": [
    "SOL  = _ #type(SOL.rhs) # sympy.concrete.summations.Sum"
   ]
  },
  {
   "cell_type": "markdown",
   "metadata": {},
   "source": [
    "### use solution to plot"
   ]
  },
  {
   "cell_type": "code",
   "execution_count": 120,
   "metadata": {},
   "outputs": [
    {
     "data": {
      "image/png": "[encoded data removed]",
      "text/latex": [
       "$\\displaystyle \\sum_{n=1}^{30} \\frac{2 u_{0} \\cdot \\left(1 - \\left(-1\\right)^{n}\\right) e^{- \\frac{\\pi n y}{a}} \\sin{\\left(\\frac{\\pi n x}{a} \\right)}}{\\pi n}$"
      ],
      "text/plain": [
       "  30                                       \n",
       "______                                     \n",
       "╲                                          \n",
       " ╲                                         \n",
       "  ╲                      -π⋅n⋅y            \n",
       "   ╲                     ───────           \n",
       "    ╲       ⎛        n⎞     a       ⎛π⋅n⋅x⎞\n",
       "    ╱  2⋅u₀⋅⎝1 - (-1) ⎠⋅ℯ       ⋅sin⎜─────⎟\n",
       "   ╱                                ⎝  a  ⎠\n",
       "  ╱    ────────────────────────────────────\n",
       " ╱                     π⋅n                 \n",
       "╱                                          \n",
       "‾‾‾‾‾‾                                     \n",
       "n = 1                                      "
      ]
     },
     "execution_count": 120,
     "metadata": {},
     "output_type": "execute_result"
    }
   ],
   "source": [
    "# can approximate the infinite sum by cutting off at some point \n",
    "\n",
    "Sum(SOL.rhs.args[0], (n, 1, 30))"
   ]
  },
  {
   "cell_type": "code",
   "execution_count": 121,
   "metadata": {},
   "outputs": [],
   "source": [
    "SOL_APPROX = _.subs({u0: 100, a: 10})"
   ]
  },
  {
   "cell_type": "code",
   "execution_count": 122,
   "metadata": {},
   "outputs": [
    {
     "data": {
      "image/png": "[encoded data removed]",
      "text/latex": [
       "$\\displaystyle \\sum_{n=1}^{30} \\frac{200 \\cdot \\left(1 - \\left(-1\\right)^{n}\\right) e^{- \\frac{\\pi n y}{10}} \\sin{\\left(\\frac{\\pi n x}{10} \\right)}}{\\pi n}$"
      ],
      "text/plain": [
       "  30                                      \n",
       "______                                    \n",
       "╲                                         \n",
       " ╲                                        \n",
       "  ╲                     -π⋅n⋅y            \n",
       "   ╲                    ───────           \n",
       "    ╲      ⎛        n⎞     10      ⎛π⋅n⋅x⎞\n",
       "    ╱  200⋅⎝1 - (-1) ⎠⋅ℯ       ⋅sin⎜─────⎟\n",
       "   ╱                               ⎝  10 ⎠\n",
       "  ╱    ───────────────────────────────────\n",
       " ╱                     π⋅n                \n",
       "╱                                         \n",
       "‾‾‾‾‾‾                                    \n",
       "n = 1                                     "
      ]
     },
     "execution_count": 122,
     "metadata": {},
     "output_type": "execute_result"
    }
   ],
   "source": [
    "SOL_APPROX"
   ]
  },
  {
   "cell_type": "code",
   "execution_count": 125,
   "metadata": {},
   "outputs": [
    {
     "data": {
      "image/png": "[encoded data removed]",
      "text/plain": [
       "<Figure size 640x480 with 2 Axes>"
      ]
     },
     "metadata": {},
     "output_type": "display_data"
    },
    {
     "data": {
      "text/plain": [
       "<spb.backends.matplotlib.matplotlib.MatplotlibBackend at 0x1215153d0>"
      ]
     },
     "execution_count": 125,
     "metadata": {},
     "output_type": "execute_result"
    }
   ],
   "source": [
    "plot_contour(SOL_APPROX, (x, 0, 10), (y, 0, 8))"
   ]
  }
 ],
 "metadata": {
  "kernelspec": {
   "display_name": "localwindowsenv",
   "language": "python",
   "name": "python3"
  },
  "language_info": {
   "codemirror_mode": {
    "name": "ipython",
    "version": 3
   },
   "file_extension": ".py",
   "mimetype": "text/x-python",
   "name": "python",
   "nbconvert_exporter": "python",
   "pygments_lexer": "ipython3",
   "version": "3.9.15"
  },
  "orig_nbformat": 4
 },
 "nbformat": 4,
 "nbformat_minor": 2
}
