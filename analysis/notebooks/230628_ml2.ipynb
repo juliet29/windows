{
 "cells": [
  {
   "cell_type": "code",
   "execution_count": 1,
   "metadata": {},
   "outputs": [],
   "source": [
    "import pandas as pd\n",
    "import numpy as np\n",
    "\n",
    "import sys\n",
    "sys.path.insert(0, \"../scripts\")\n",
    "import helpers as h\n",
    "import window_detect2 as w\n",
    "import ml_window as m\n",
    "from icecream import ic\n",
    "\n",
    "import itertools\n"
   ]
  },
  {
   "cell_type": "code",
   "execution_count": 2,
   "metadata": {},
   "outputs": [],
   "source": [
    "arrs = {}\n",
    "\n",
    "# measured data\n",
    "a00, a01 = h.import_desired_data(\"A\", \"15T\")\n",
    "arrs[\"meas\"] = np.array(h.normalize(a01[\"Temp C\"])) \n",
    "window_sched = np.array(a01[\"Window Open\"])\n",
    "\n",
    "# ambient data \n",
    "arrs[\"amb\"] = np.array(h.normalize(a01[\"Ambient Temp\"]))\n",
    "\n",
    "# simulation data\n",
    "sim_data_path = \"../../data/energy_model/230307_and_smoothed.pkl\"\n",
    "sim_data = pd.read_pickle(sim_data_path)\n",
    "arrs[\"sim\"] = np.array(h.normalize(sim_data[\"Temp C\"]))"
   ]
  },
  {
   "cell_type": "code",
   "execution_count": 3,
   "metadata": {},
   "outputs": [],
   "source": [
    "# meausred/ambient temp difference \n",
    "diffs = {}\n",
    "diffs[\"amb_minus_meas\"] = arrs[\"amb\"] - arrs[\"meas\"]\n",
    "diffs[\"meas_minus_amb\"] = arrs[\"meas\"] - arrs[\"amb\"] \n",
    "diffs[\"abs_amb_meas_diff\"] = np.abs(arrs[\"amb\"] - arrs[\"meas\"])\n",
    "\n",
    "diffs = {k: h.normalize(v) for k,v in diffs.items()}\n",
    "\n",
    "diff_keys = list(diffs.keys())"
   ]
  },
  {
   "cell_type": "code",
   "execution_count": 4,
   "metadata": {},
   "outputs": [],
   "source": [
    "# derivaties\n",
    "derivs = {}\n",
    "derivs[\"dt_meas\"] = np.gradient(arrs[\"meas\"])\n",
    "derivs[\"dt_sim\"] = np.gradient(arrs[\"sim\"])\n",
    "derivs[\"dt_amb\"] = np.gradient(arrs[\"amb\"] )\n",
    "\n",
    "derivs = {k: h.normalize(v) for k,v in derivs.items()}\n",
    "\n",
    "# # derivatives of differences\n",
    "# dt_amm = np.gradient(amb_minus_meas)\n",
    "# dt_mma = np.gradient(meas_minus_amb)\n",
    "# dt_aamd = np.gradient(abs_amb_meas_diff)"
   ]
  },
  {
   "cell_type": "code",
   "execution_count": 5,
   "metadata": {},
   "outputs": [
    {
     "data": {
      "text/plain": [
       "['meas', 'amb', 'sim', ('meas', 'amb', 'sim')]"
      ]
     },
     "execution_count": 5,
     "metadata": {},
     "output_type": "execute_result"
    }
   ],
   "source": [
    "meas_keys = list(arrs.keys())\n",
    "meas_set = meas_keys.copy()\n",
    "\n",
    "# has to be the exact list of keys so dont duplicate existing \n",
    "for comb in itertools.combinations(meas_keys, 3):\n",
    "    meas_set.append(comb)\n",
    "\n",
    "\n",
    "meas_set"
   ]
  },
  {
   "cell_type": "code",
   "execution_count": 6,
   "metadata": {},
   "outputs": [
    {
     "data": {
      "text/plain": [
       "['dt_meas', 'dt_sim', 'dt_amb', ('dt_meas', 'dt_sim', 'dt_amb')]"
      ]
     },
     "execution_count": 6,
     "metadata": {},
     "output_type": "execute_result"
    }
   ],
   "source": [
    "deriv_keys = list(derivs.keys())\n",
    "deriv_set = deriv_keys.copy()\n",
    "\n",
    "# has to be the exact list of keys so dont duplicate existing \n",
    "for comb in itertools.combinations(deriv_keys, 3):\n",
    "    deriv_set.append(comb)\n",
    "\n",
    "\n",
    "deriv_set"
   ]
  },
  {
   "cell_type": "code",
   "execution_count": 7,
   "metadata": {},
   "outputs": [
    {
     "data": {
      "text/plain": [
       "[('dt_meas', 'dt_sim'),\n",
       " ('dt_meas', 'dt_amb'),\n",
       " ('dt_meas', 'meas'),\n",
       " ('dt_meas', 'amb'),\n",
       " ('dt_meas', 'sim'),\n",
       " ('dt_sim', 'dt_amb'),\n",
       " ('dt_sim', 'meas'),\n",
       " ('dt_sim', 'amb'),\n",
       " ('dt_sim', 'sim'),\n",
       " ('dt_amb', 'meas'),\n",
       " ('dt_amb', 'amb'),\n",
       " ('dt_amb', 'sim'),\n",
       " ('meas', 'amb'),\n",
       " ('meas', 'sim'),\n",
       " ('amb', 'sim')]"
      ]
     },
     "execution_count": 7,
     "metadata": {},
     "output_type": "execute_result"
    }
   ],
   "source": [
    "meas_and_deriv_keys = deriv_keys + meas_keys\n",
    "meas_and_deriv_set = []\n",
    "\n",
    "for comb in itertools.combinations(meas_and_deriv_keys, 2):\n",
    "    meas_and_deriv_set.append(comb)\n",
    "meas_and_deriv_set"
   ]
  },
  {
   "cell_type": "code",
   "execution_count": 8,
   "metadata": {},
   "outputs": [
    {
     "data": {
      "text/plain": [
       "dict_keys(['meas', 'amb', 'sim', 'amb_minus_meas', 'meas_minus_amb', 'abs_amb_meas_diff', 'dt_meas', 'dt_sim', 'dt_amb'])"
      ]
     },
     "execution_count": 8,
     "metadata": {},
     "output_type": "execute_result"
    }
   ],
   "source": [
    "all_data = arrs | diffs | derivs\n",
    "all_data.keys()"
   ]
  },
  {
   "cell_type": "code",
   "execution_count": 9,
   "metadata": {},
   "outputs": [
    {
     "data": {
      "text/plain": [
       "['dt_meas',\n",
       " 'dt_sim',\n",
       " 'dt_amb',\n",
       " ('dt_meas', 'dt_sim', 'dt_amb'),\n",
       " 'meas',\n",
       " 'amb',\n",
       " 'sim',\n",
       " ('meas', 'amb', 'sim'),\n",
       " ('dt_meas', 'dt_sim'),\n",
       " ('dt_meas', 'dt_amb'),\n",
       " ('dt_meas', 'meas'),\n",
       " ('dt_meas', 'amb'),\n",
       " ('dt_meas', 'sim'),\n",
       " ('dt_sim', 'dt_amb'),\n",
       " ('dt_sim', 'meas'),\n",
       " ('dt_sim', 'amb'),\n",
       " ('dt_sim', 'sim'),\n",
       " ('dt_amb', 'meas'),\n",
       " ('dt_amb', 'amb'),\n",
       " ('dt_amb', 'sim'),\n",
       " ('meas', 'amb'),\n",
       " ('meas', 'sim'),\n",
       " ('amb', 'sim'),\n",
       " 'amb_minus_meas',\n",
       " 'meas_minus_amb',\n",
       " 'abs_amb_meas_diff']"
      ]
     },
     "execution_count": 9,
     "metadata": {},
     "output_type": "execute_result"
    }
   ],
   "source": [
    "test_set = deriv_set + meas_set + meas_and_deriv_set + diff_keys\n",
    "test_set"
   ]
  },
  {
   "cell_type": "code",
   "execution_count": 15,
   "metadata": {},
   "outputs": [],
   "source": [
    "test_dict = {}\n",
    "for item in test_set:\n",
    "\n",
    "    if type(item) == tuple:\n",
    "        key = \"+\".join(item)\n",
    "        test_dict[key] = {}\n",
    "        test_dict[key][\"data\"] =  [all_data[k] for k in item]\n",
    "    else: # if not a tuple, then a string \n",
    "        test_dict[item] = {}\n",
    "        test_dict[item][\"data\"] = [all_data[item]]\n",
    "        "
   ]
  },
  {
   "cell_type": "code",
   "execution_count": 11,
   "metadata": {},
   "outputs": [],
   "source": [
    "_meas = m.ML_Window_Detect([arrs[\"meas\"]], window_sched)\n",
    "_meas.run_all()"
   ]
  },
  {
   "cell_type": "code",
   "execution_count": 17,
   "metadata": {},
   "outputs": [
    {
     "name": "stdout",
     "output_type": "stream",
     "text": [
      "dt_meas\n",
      "dt_sim\n",
      "dt_amb\n",
      "dt_meas+dt_sim+dt_amb\n",
      "meas\n",
      "amb\n",
      "sim\n",
      "meas+amb+sim\n",
      "dt_meas+dt_sim\n",
      "dt_meas+dt_amb\n",
      "dt_meas+meas\n",
      "dt_meas+amb\n",
      "dt_meas+sim\n",
      "dt_sim+dt_amb\n",
      "dt_sim+meas\n",
      "dt_sim+amb\n",
      "dt_sim+sim\n",
      "dt_amb+meas\n",
      "dt_amb+amb\n",
      "dt_amb+sim\n",
      "meas+amb\n",
      "meas+sim\n",
      "amb+sim\n",
      "amb_minus_meas\n",
      "meas_minus_amb\n",
      "abs_amb_meas_diff\n"
     ]
    }
   ],
   "source": [
    "for k, v in test_dict.items():\n",
    "    print(k)\n",
    "    obj = m.ML_Window_Detect(v[\"data\"], window_sched)\n",
    "    obj.run_all()\n",
    "    test_dict[k][\"accuracy\"] = obj.accuracy"
   ]
  },
  {
   "cell_type": "code",
   "execution_count": 18,
   "metadata": {},
   "outputs": [
    {
     "name": "stdout",
     "output_type": "stream",
     "text": [
      "dt_meas 0.6363636363636364\n",
      "dt_sim 0.2805194805194805\n",
      "dt_amb 0.4077922077922078\n",
      "dt_meas+dt_sim+dt_amb 0.612987012987013\n",
      "meas 0.5428571428571428\n",
      "amb 0.5766233766233766\n",
      "sim 0.44675324675324674\n",
      "meas+amb+sim 0.5376623376623376\n",
      "dt_meas+dt_sim 0.587012987012987\n",
      "dt_meas+dt_amb 0.6441558441558441\n",
      "dt_meas+meas 0.6753246753246753\n",
      "dt_meas+amb 0.6103896103896104\n",
      "dt_meas+sim 0.522077922077922\n",
      "dt_sim+dt_amb 0.45714285714285713\n",
      "dt_sim+meas 0.5168831168831168\n",
      "dt_sim+amb 0.44415584415584414\n",
      "dt_sim+sim 0.4103896103896104\n",
      "dt_amb+meas 0.6493506493506493\n",
      "dt_amb+amb 0.5636363636363636\n",
      "dt_amb+sim 0.4805194805194805\n",
      "meas+amb 0.6077922077922078\n",
      "meas+sim 0.5376623376623376\n",
      "amb+sim 0.574025974025974\n",
      "amb_minus_meas 0.4909090909090909\n",
      "meas_minus_amb 0.4909090909090909\n",
      "abs_amb_meas_diff 0.4623376623376623\n"
     ]
    }
   ],
   "source": [
    "for k, v in test_dict.items():\n",
    "    print(k, v[\"accuracy\"])"
   ]
  },
  {
   "cell_type": "code",
   "execution_count": null,
   "metadata": {},
   "outputs": [
    {
     "data": {
      "text/plain": [
       "0.5428571428571428"
      ]
     },
     "execution_count": 98,
     "metadata": {},
     "output_type": "execute_result"
    }
   ],
   "source": [
    "_meas.accuracy"
   ]
  }
 ],
 "metadata": {
  "kernelspec": {
   "display_name": "localwindowsenv",
   "language": "python",
   "name": "python3"
  },
  "language_info": {
   "codemirror_mode": {
    "name": "ipython",
    "version": 3
   },
   "file_extension": ".py",
   "mimetype": "text/x-python",
   "name": "python",
   "nbconvert_exporter": "python",
   "pygments_lexer": "ipython3",
   "version": "3.9.15"
  },
  "orig_nbformat": 4
 },
 "nbformat": 4,
 "nbformat_minor": 2
}
