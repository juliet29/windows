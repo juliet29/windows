{
 "cells": [
  {
   "cell_type": "code",
   "execution_count": 52,
   "metadata": {},
   "outputs": [],
   "source": [
    "import pandas as pd\n",
    "import numpy as np\n",
    "\n",
    "import sys\n",
    "sys.path.insert(0, \"../scripts\")\n",
    "import helpers as h\n",
    "import window_detect2 as w\n",
    "import ml_window as m\n",
    "from icecream import ic\n",
    "\n",
    "import itertools\n",
    "import pickle\n"
   ]
  },
  {
   "attachments": {},
   "cell_type": "markdown",
   "metadata": {},
   "source": [
    "## get data and create variations of it "
   ]
  },
  {
   "cell_type": "code",
   "execution_count": 2,
   "metadata": {},
   "outputs": [],
   "source": [
    "arrs = {}\n",
    "\n",
    "# measured data\n",
    "a00, a01 = h.import_desired_data(\"A\", \"15T\")\n",
    "arrs[\"meas\"] = np.array(h.normalize(a01[\"Temp C\"])) \n",
    "window_sched = np.array(a01[\"Window Open\"])\n",
    "\n",
    "# ambient data \n",
    "arrs[\"amb\"] = np.array(h.normalize(a01[\"Ambient Temp\"]))\n",
    "\n",
    "# simulation data\n",
    "sim_data_path = \"../../data/energy_model/230307_and_smoothed.pkl\"\n",
    "sim_data = pd.read_pickle(sim_data_path)\n",
    "arrs[\"sim\"] = np.array(h.normalize(sim_data[\"Temp C\"]))"
   ]
  },
  {
   "cell_type": "code",
   "execution_count": 3,
   "metadata": {},
   "outputs": [],
   "source": [
    "# meausred/ambient temp difference \n",
    "diffs = {}\n",
    "diffs[\"amb_minus_meas\"] = arrs[\"amb\"] - arrs[\"meas\"]\n",
    "diffs[\"meas_minus_amb\"] = arrs[\"meas\"] - arrs[\"amb\"] \n",
    "diffs[\"abs_amb_meas_diff\"] = np.abs(arrs[\"amb\"] - arrs[\"meas\"])\n",
    "\n",
    "diffs = {k: h.normalize(v) for k,v in diffs.items()}\n",
    "\n",
    "diff_keys = list(diffs.keys())"
   ]
  },
  {
   "cell_type": "code",
   "execution_count": 4,
   "metadata": {},
   "outputs": [],
   "source": [
    "# derivaties\n",
    "derivs = {}\n",
    "derivs[\"dt_meas\"] = np.gradient(arrs[\"meas\"])\n",
    "derivs[\"dt_sim\"] = np.gradient(arrs[\"sim\"])\n",
    "derivs[\"dt_amb\"] = np.gradient(arrs[\"amb\"] )\n",
    "\n",
    "derivs = {k: h.normalize(v) for k,v in derivs.items()}\n",
    "\n",
    "# # derivatives of differences\n",
    "# dt_amm = np.gradient(amb_minus_meas)\n",
    "# dt_mma = np.gradient(meas_minus_amb)\n",
    "# dt_aamd = np.gradient(abs_amb_meas_diff)"
   ]
  },
  {
   "attachments": {},
   "cell_type": "markdown",
   "metadata": {},
   "source": [
    "## ewm smoothing technique"
   ]
  },
  {
   "cell_type": "code",
   "execution_count": 47,
   "metadata": {},
   "outputs": [],
   "source": [
    "w0 = w.Window_Detect2(a01)\n",
    "w0.analyze_window_change(w.make_ewm_smooth)\n",
    "\n",
    "smooth_data = {\n",
    "    \"smooth_series\": w0.smooth_series.to_numpy(),\n",
    "    \"dif\": w0.dif.to_numpy(),\n",
    "    \"dt_dif\": w0.deriv.to_numpy(),\n",
    "    \"dt2_dif\": w0.deriv2.to_numpy()\n",
    "}"
   ]
  },
  {
   "cell_type": "code",
   "execution_count": 49,
   "metadata": {},
   "outputs": [
    {
     "name": "stdout",
     "output_type": "stream",
     "text": [
      "smooth_series\n",
      "dif\n",
      "dt_dif\n",
      "dt2_dif\n"
     ]
    }
   ],
   "source": [
    "smooth_test_dict = {}\n",
    "for k, v in smooth_data.items():\n",
    "    print(k)\n",
    "    obj = m.ML_Window_Detect([v], window_sched)\n",
    "    obj.run_all()\n",
    "    smooth_test_dict[k] = obj.accuracy"
   ]
  },
  {
   "cell_type": "code",
   "execution_count": 50,
   "metadata": {},
   "outputs": [
    {
     "data": {
      "text/plain": [
       "{'smooth_series': 0.4935064935064935,\n",
       " 'dif': 0.5792207792207792,\n",
       " 'dt_dif': 0.5714285714285714,\n",
       " 'dt2_dif': 0.5558441558441558}"
      ]
     },
     "execution_count": 50,
     "metadata": {},
     "output_type": "execute_result"
    }
   ],
   "source": [
    "smooth_test_dict"
   ]
  },
  {
   "cell_type": "code",
   "execution_count": 59,
   "metadata": {},
   "outputs": [],
   "source": [
    "w0.make_guesses()"
   ]
  },
  {
   "cell_type": "code",
   "execution_count": 60,
   "metadata": {},
   "outputs": [
    {
     "data": {
      "text/plain": [
       "3     2022-07-20 08:00:00\n",
       "4     2022-07-20 08:15:00\n",
       "5     2022-07-20 08:30:00\n",
       "6     2022-07-20 08:45:00\n",
       "7     2022-07-20 09:00:00\n",
       "15    2022-07-20 11:00:00\n",
       "16    2022-07-20 11:15:00\n",
       "21    2022-07-20 12:30:00\n",
       "61    2022-07-20 22:30:00\n",
       "62    2022-07-20 22:45:00\n",
       "102   2022-07-21 08:45:00\n",
       "103   2022-07-21 09:00:00\n",
       "104   2022-07-21 09:15:00\n",
       "138   2022-07-21 17:45:00\n",
       "139   2022-07-21 18:00:00\n",
       "158   2022-07-21 22:45:00\n",
       "159   2022-07-21 23:00:00\n",
       "190   2022-07-22 06:45:00\n",
       "191   2022-07-22 07:00:00\n",
       "192   2022-07-22 07:15:00\n",
       "193   2022-07-22 07:30:00\n",
       "197   2022-07-22 08:30:00\n",
       "204   2022-07-22 10:15:00\n",
       "205   2022-07-22 10:30:00\n",
       "224   2022-07-22 15:15:00\n",
       "256   2022-07-22 23:15:00\n",
       "291   2022-07-23 08:00:00\n",
       "292   2022-07-23 08:15:00\n",
       "293   2022-07-23 08:30:00\n",
       "294   2022-07-23 08:45:00\n",
       "303   2022-07-23 11:00:00\n",
       "339   2022-07-23 20:00:00\n",
       "Name: DateTime, dtype: datetime64[ns]"
      ]
     },
     "execution_count": 60,
     "metadata": {},
     "output_type": "execute_result"
    }
   ],
   "source": [
    "w0.guess_times"
   ]
  },
  {
   "attachments": {},
   "cell_type": "markdown",
   "metadata": {},
   "source": [
    "## test other combinations of data.."
   ]
  },
  {
   "attachments": {},
   "cell_type": "markdown",
   "metadata": {},
   "source": [
    "### creating combos -> dont need to run again.."
   ]
  },
  {
   "cell_type": "code",
   "execution_count": 5,
   "metadata": {},
   "outputs": [
    {
     "data": {
      "text/plain": [
       "['meas', 'amb', 'sim', ('meas', 'amb', 'sim')]"
      ]
     },
     "execution_count": 5,
     "metadata": {},
     "output_type": "execute_result"
    }
   ],
   "source": [
    "meas_keys = list(arrs.keys())\n",
    "meas_set = meas_keys.copy()\n",
    "\n",
    "# has to be the exact list of keys so dont duplicate existing \n",
    "for comb in itertools.combinations(meas_keys, 3):\n",
    "    meas_set.append(comb)\n",
    "\n",
    "\n",
    "meas_set"
   ]
  },
  {
   "cell_type": "code",
   "execution_count": 6,
   "metadata": {},
   "outputs": [
    {
     "data": {
      "text/plain": [
       "['dt_meas', 'dt_sim', 'dt_amb', ('dt_meas', 'dt_sim', 'dt_amb')]"
      ]
     },
     "execution_count": 6,
     "metadata": {},
     "output_type": "execute_result"
    }
   ],
   "source": [
    "deriv_keys = list(derivs.keys())\n",
    "deriv_set = deriv_keys.copy()\n",
    "\n",
    "# has to be the exact list of keys so dont duplicate existing \n",
    "for comb in itertools.combinations(deriv_keys, 3):\n",
    "    deriv_set.append(comb)\n",
    "\n",
    "\n",
    "deriv_set"
   ]
  },
  {
   "cell_type": "code",
   "execution_count": 7,
   "metadata": {},
   "outputs": [
    {
     "data": {
      "text/plain": [
       "[('dt_meas', 'dt_sim'),\n",
       " ('dt_meas', 'dt_amb'),\n",
       " ('dt_meas', 'meas'),\n",
       " ('dt_meas', 'amb'),\n",
       " ('dt_meas', 'sim'),\n",
       " ('dt_sim', 'dt_amb'),\n",
       " ('dt_sim', 'meas'),\n",
       " ('dt_sim', 'amb'),\n",
       " ('dt_sim', 'sim'),\n",
       " ('dt_amb', 'meas'),\n",
       " ('dt_amb', 'amb'),\n",
       " ('dt_amb', 'sim'),\n",
       " ('meas', 'amb'),\n",
       " ('meas', 'sim'),\n",
       " ('amb', 'sim')]"
      ]
     },
     "execution_count": 7,
     "metadata": {},
     "output_type": "execute_result"
    }
   ],
   "source": [
    "meas_and_deriv_keys = deriv_keys + meas_keys\n",
    "meas_and_deriv_set = []\n",
    "\n",
    "for comb in itertools.combinations(meas_and_deriv_keys, 2):\n",
    "    meas_and_deriv_set.append(comb)\n",
    "meas_and_deriv_set"
   ]
  },
  {
   "cell_type": "code",
   "execution_count": 8,
   "metadata": {},
   "outputs": [
    {
     "data": {
      "text/plain": [
       "dict_keys(['meas', 'amb', 'sim', 'amb_minus_meas', 'meas_minus_amb', 'abs_amb_meas_diff', 'dt_meas', 'dt_sim', 'dt_amb'])"
      ]
     },
     "execution_count": 8,
     "metadata": {},
     "output_type": "execute_result"
    }
   ],
   "source": [
    "all_data = arrs | diffs | derivs\n",
    "all_data.keys()"
   ]
  },
  {
   "cell_type": "code",
   "execution_count": 9,
   "metadata": {},
   "outputs": [
    {
     "data": {
      "text/plain": [
       "['dt_meas',\n",
       " 'dt_sim',\n",
       " 'dt_amb',\n",
       " ('dt_meas', 'dt_sim', 'dt_amb'),\n",
       " 'meas',\n",
       " 'amb',\n",
       " 'sim',\n",
       " ('meas', 'amb', 'sim'),\n",
       " ('dt_meas', 'dt_sim'),\n",
       " ('dt_meas', 'dt_amb'),\n",
       " ('dt_meas', 'meas'),\n",
       " ('dt_meas', 'amb'),\n",
       " ('dt_meas', 'sim'),\n",
       " ('dt_sim', 'dt_amb'),\n",
       " ('dt_sim', 'meas'),\n",
       " ('dt_sim', 'amb'),\n",
       " ('dt_sim', 'sim'),\n",
       " ('dt_amb', 'meas'),\n",
       " ('dt_amb', 'amb'),\n",
       " ('dt_amb', 'sim'),\n",
       " ('meas', 'amb'),\n",
       " ('meas', 'sim'),\n",
       " ('amb', 'sim'),\n",
       " 'amb_minus_meas',\n",
       " 'meas_minus_amb',\n",
       " 'abs_amb_meas_diff']"
      ]
     },
     "execution_count": 9,
     "metadata": {},
     "output_type": "execute_result"
    }
   ],
   "source": [
    "test_set = deriv_set + meas_set + meas_and_deriv_set + diff_keys\n",
    "test_set"
   ]
  },
  {
   "cell_type": "code",
   "execution_count": 15,
   "metadata": {},
   "outputs": [],
   "source": [
    "test_dict = {}\n",
    "for item in test_set:\n",
    "\n",
    "    if type(item) == tuple:\n",
    "        key = \"+\".join(item)\n",
    "        test_dict[key] = {}\n",
    "        test_dict[key][\"data\"] =  [all_data[k] for k in item]\n",
    "    else: # if not a tuple, then a string \n",
    "        test_dict[item] = {}\n",
    "        test_dict[item][\"data\"] = [all_data[item]]\n",
    "        "
   ]
  },
  {
   "cell_type": "code",
   "execution_count": 56,
   "metadata": {},
   "outputs": [],
   "source": [
    "# with open(\"../constants/data_combos_230638.pkl\", \"wb\") as fp:\n",
    "#     pickle.dump(test_dict, fp )"
   ]
  },
  {
   "attachments": {},
   "cell_type": "markdown",
   "metadata": {},
   "source": [
    "### testing combos "
   ]
  },
  {
   "cell_type": "code",
   "execution_count": 17,
   "metadata": {},
   "outputs": [
    {
     "name": "stdout",
     "output_type": "stream",
     "text": [
      "dt_meas\n",
      "dt_sim\n",
      "dt_amb\n",
      "dt_meas+dt_sim+dt_amb\n",
      "meas\n",
      "amb\n",
      "sim\n",
      "meas+amb+sim\n",
      "dt_meas+dt_sim\n",
      "dt_meas+dt_amb\n",
      "dt_meas+meas\n",
      "dt_meas+amb\n",
      "dt_meas+sim\n",
      "dt_sim+dt_amb\n",
      "dt_sim+meas\n",
      "dt_sim+amb\n",
      "dt_sim+sim\n",
      "dt_amb+meas\n",
      "dt_amb+amb\n",
      "dt_amb+sim\n",
      "meas+amb\n",
      "meas+sim\n",
      "amb+sim\n",
      "amb_minus_meas\n",
      "meas_minus_amb\n",
      "abs_amb_meas_diff\n"
     ]
    }
   ],
   "source": [
    "for k, v in test_dict.items():\n",
    "    print(k)\n",
    "    obj = m.ML_Window_Detect(v[\"data\"], window_sched)\n",
    "    obj.run_all()\n",
    "    test_dict[k][\"accuracy\"] = obj.accuracy"
   ]
  },
  {
   "cell_type": "code",
   "execution_count": 18,
   "metadata": {},
   "outputs": [
    {
     "name": "stdout",
     "output_type": "stream",
     "text": [
      "dt_meas 0.6363636363636364\n",
      "dt_sim 0.2805194805194805\n",
      "dt_amb 0.4077922077922078\n",
      "dt_meas+dt_sim+dt_amb 0.612987012987013\n",
      "meas 0.5428571428571428\n",
      "amb 0.5766233766233766\n",
      "sim 0.44675324675324674\n",
      "meas+amb+sim 0.5376623376623376\n",
      "dt_meas+dt_sim 0.587012987012987\n",
      "dt_meas+dt_amb 0.6441558441558441\n",
      "dt_meas+meas 0.6753246753246753\n",
      "dt_meas+amb 0.6103896103896104\n",
      "dt_meas+sim 0.522077922077922\n",
      "dt_sim+dt_amb 0.45714285714285713\n",
      "dt_sim+meas 0.5168831168831168\n",
      "dt_sim+amb 0.44415584415584414\n",
      "dt_sim+sim 0.4103896103896104\n",
      "dt_amb+meas 0.6493506493506493\n",
      "dt_amb+amb 0.5636363636363636\n",
      "dt_amb+sim 0.4805194805194805\n",
      "meas+amb 0.6077922077922078\n",
      "meas+sim 0.5376623376623376\n",
      "amb+sim 0.574025974025974\n",
      "amb_minus_meas 0.4909090909090909\n",
      "meas_minus_amb 0.4909090909090909\n",
      "abs_amb_meas_diff 0.4623376623376623\n"
     ]
    }
   ],
   "source": [
    "for k, v in test_dict.items():\n",
    "    print(k, v[\"accuracy\"])"
   ]
  },
  {
   "cell_type": "code",
   "execution_count": 39,
   "metadata": {},
   "outputs": [],
   "source": [
    "res = pd.DataFrame(data=[list(test_dict.keys()), [v[\"accuracy\"] for v in test_dict.values()]], index=[\"values\", \"accuracy\"]).T\n",
    "\n",
    "res.sort_values(by=\"accuracy\")"
   ]
  },
  {
   "cell_type": "code",
   "execution_count": 38,
   "metadata": {},
   "outputs": [
    {
     "data": {
      "text/html": [
       "<div>\n",
       "<style scoped>\n",
       "    .dataframe tbody tr th:only-of-type {\n",
       "        vertical-align: middle;\n",
       "    }\n",
       "\n",
       "    .dataframe tbody tr th {\n",
       "        vertical-align: top;\n",
       "    }\n",
       "\n",
       "    .dataframe thead th {\n",
       "        text-align: right;\n",
       "    }\n",
       "</style>\n",
       "<table border=\"1\" class=\"dataframe\">\n",
       "  <thead>\n",
       "    <tr style=\"text-align: right;\">\n",
       "      <th></th>\n",
       "      <th>values</th>\n",
       "      <th>accuracy</th>\n",
       "    </tr>\n",
       "  </thead>\n",
       "  <tbody>\n",
       "    <tr>\n",
       "      <th>1</th>\n",
       "      <td>dt_sim</td>\n",
       "      <td>0.280519</td>\n",
       "    </tr>\n",
       "    <tr>\n",
       "      <th>2</th>\n",
       "      <td>dt_amb</td>\n",
       "      <td>0.407792</td>\n",
       "    </tr>\n",
       "    <tr>\n",
       "      <th>16</th>\n",
       "      <td>dt_sim+sim</td>\n",
       "      <td>0.41039</td>\n",
       "    </tr>\n",
       "    <tr>\n",
       "      <th>15</th>\n",
       "      <td>dt_sim+amb</td>\n",
       "      <td>0.444156</td>\n",
       "    </tr>\n",
       "    <tr>\n",
       "      <th>6</th>\n",
       "      <td>sim</td>\n",
       "      <td>0.446753</td>\n",
       "    </tr>\n",
       "    <tr>\n",
       "      <th>13</th>\n",
       "      <td>dt_sim+dt_amb</td>\n",
       "      <td>0.457143</td>\n",
       "    </tr>\n",
       "    <tr>\n",
       "      <th>25</th>\n",
       "      <td>abs_amb_meas_diff</td>\n",
       "      <td>0.462338</td>\n",
       "    </tr>\n",
       "    <tr>\n",
       "      <th>19</th>\n",
       "      <td>dt_amb+sim</td>\n",
       "      <td>0.480519</td>\n",
       "    </tr>\n",
       "    <tr>\n",
       "      <th>23</th>\n",
       "      <td>amb_minus_meas</td>\n",
       "      <td>0.490909</td>\n",
       "    </tr>\n",
       "    <tr>\n",
       "      <th>24</th>\n",
       "      <td>meas_minus_amb</td>\n",
       "      <td>0.490909</td>\n",
       "    </tr>\n",
       "    <tr>\n",
       "      <th>14</th>\n",
       "      <td>dt_sim+meas</td>\n",
       "      <td>0.516883</td>\n",
       "    </tr>\n",
       "    <tr>\n",
       "      <th>12</th>\n",
       "      <td>dt_meas+sim</td>\n",
       "      <td>0.522078</td>\n",
       "    </tr>\n",
       "    <tr>\n",
       "      <th>7</th>\n",
       "      <td>meas+amb+sim</td>\n",
       "      <td>0.537662</td>\n",
       "    </tr>\n",
       "    <tr>\n",
       "      <th>21</th>\n",
       "      <td>meas+sim</td>\n",
       "      <td>0.537662</td>\n",
       "    </tr>\n",
       "    <tr>\n",
       "      <th>4</th>\n",
       "      <td>meas</td>\n",
       "      <td>0.542857</td>\n",
       "    </tr>\n",
       "    <tr>\n",
       "      <th>18</th>\n",
       "      <td>dt_amb+amb</td>\n",
       "      <td>0.563636</td>\n",
       "    </tr>\n",
       "    <tr>\n",
       "      <th>22</th>\n",
       "      <td>amb+sim</td>\n",
       "      <td>0.574026</td>\n",
       "    </tr>\n",
       "    <tr>\n",
       "      <th>5</th>\n",
       "      <td>amb</td>\n",
       "      <td>0.576623</td>\n",
       "    </tr>\n",
       "    <tr>\n",
       "      <th>8</th>\n",
       "      <td>dt_meas+dt_sim</td>\n",
       "      <td>0.587013</td>\n",
       "    </tr>\n",
       "    <tr>\n",
       "      <th>20</th>\n",
       "      <td>meas+amb</td>\n",
       "      <td>0.607792</td>\n",
       "    </tr>\n",
       "    <tr>\n",
       "      <th>11</th>\n",
       "      <td>dt_meas+amb</td>\n",
       "      <td>0.61039</td>\n",
       "    </tr>\n",
       "    <tr>\n",
       "      <th>3</th>\n",
       "      <td>dt_meas+dt_sim+dt_amb</td>\n",
       "      <td>0.612987</td>\n",
       "    </tr>\n",
       "    <tr>\n",
       "      <th>0</th>\n",
       "      <td>dt_meas</td>\n",
       "      <td>0.636364</td>\n",
       "    </tr>\n",
       "    <tr>\n",
       "      <th>9</th>\n",
       "      <td>dt_meas+dt_amb</td>\n",
       "      <td>0.644156</td>\n",
       "    </tr>\n",
       "    <tr>\n",
       "      <th>17</th>\n",
       "      <td>dt_amb+meas</td>\n",
       "      <td>0.649351</td>\n",
       "    </tr>\n",
       "    <tr>\n",
       "      <th>10</th>\n",
       "      <td>dt_meas+meas</td>\n",
       "      <td>0.675325</td>\n",
       "    </tr>\n",
       "  </tbody>\n",
       "</table>\n",
       "</div>"
      ],
      "text/plain": [
       "                   values  accuracy\n",
       "1                  dt_sim  0.280519\n",
       "2                  dt_amb  0.407792\n",
       "16             dt_sim+sim   0.41039\n",
       "15             dt_sim+amb  0.444156\n",
       "6                     sim  0.446753\n",
       "13          dt_sim+dt_amb  0.457143\n",
       "25      abs_amb_meas_diff  0.462338\n",
       "19             dt_amb+sim  0.480519\n",
       "23         amb_minus_meas  0.490909\n",
       "24         meas_minus_amb  0.490909\n",
       "14            dt_sim+meas  0.516883\n",
       "12            dt_meas+sim  0.522078\n",
       "7            meas+amb+sim  0.537662\n",
       "21               meas+sim  0.537662\n",
       "4                    meas  0.542857\n",
       "18             dt_amb+amb  0.563636\n",
       "22                amb+sim  0.574026\n",
       "5                     amb  0.576623\n",
       "8          dt_meas+dt_sim  0.587013\n",
       "20               meas+amb  0.607792\n",
       "11            dt_meas+amb   0.61039\n",
       "3   dt_meas+dt_sim+dt_amb  0.612987\n",
       "0                 dt_meas  0.636364\n",
       "9          dt_meas+dt_amb  0.644156\n",
       "17            dt_amb+meas  0.649351\n",
       "10           dt_meas+meas  0.675325"
      ]
     },
     "execution_count": 38,
     "metadata": {},
     "output_type": "execute_result"
    }
   ],
   "source": []
  }
 ],
 "metadata": {
  "kernelspec": {
   "display_name": "localwindowsenv",
   "language": "python",
   "name": "python3"
  },
  "language_info": {
   "codemirror_mode": {
    "name": "ipython",
    "version": 3
   },
   "file_extension": ".py",
   "mimetype": "text/x-python",
   "name": "python",
   "nbconvert_exporter": "python",
   "pygments_lexer": "ipython3",
   "version": "3.9.15"
  },
  "orig_nbformat": 4
 },
 "nbformat": 4,
 "nbformat_minor": 2
}
