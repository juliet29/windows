{
 "cells": [
  {
   "cell_type": "code",
   "execution_count": 29,
   "metadata": {},
   "outputs": [],
   "source": [
    "import pandas as pd\n",
    "import plotly.graph_objects as go"
   ]
  },
  {
   "cell_type": "code",
   "execution_count": 15,
   "metadata": {},
   "outputs": [
    {
     "name": "stderr",
     "output_type": "stream",
     "text": [
      "/var/folders/7r/39t1cgb13d57zk26c__2z50m0000gn/T/ipykernel_76798/302151061.py:4: DtypeWarning: Columns (5,35,36) have mixed types. Specify dtype option on import or set low_memory=False.\n",
      "  df = pd.read_csv(path, encoding=\"iso-8859-1\")\n"
     ]
    }
   ],
   "source": [
    "# path to data \n",
    "path = \"../../data/ext_data//ashrae_global_thermal_comfort/db_measurements_v2.1.0.csv\"\n",
    "# import csv \n",
    "df = pd.read_csv(path, encoding=\"iso-8859-1\")\n"
   ]
  },
  {
   "cell_type": "code",
   "execution_count": 16,
   "metadata": {},
   "outputs": [
    {
     "data": {
      "text/html": [
       "<div>\n",
       "<style scoped>\n",
       "    .dataframe tbody tr th:only-of-type {\n",
       "        vertical-align: middle;\n",
       "    }\n",
       "\n",
       "    .dataframe tbody tr th {\n",
       "        vertical-align: top;\n",
       "    }\n",
       "\n",
       "    .dataframe thead th {\n",
       "        text-align: right;\n",
       "    }\n",
       "</style>\n",
       "<table border=\"1\" class=\"dataframe\">\n",
       "  <thead>\n",
       "    <tr style=\"text-align: right;\">\n",
       "      <th></th>\n",
       "      <th>index</th>\n",
       "      <th>record_id</th>\n",
       "      <th>building_id</th>\n",
       "      <th>timestamp</th>\n",
       "      <th>season</th>\n",
       "      <th>subject_id</th>\n",
       "      <th>age</th>\n",
       "      <th>gender</th>\n",
       "      <th>ht</th>\n",
       "      <th>wt</th>\n",
       "      <th>...</th>\n",
       "      <th>t_out</th>\n",
       "      <th>rh_out</th>\n",
       "      <th>t_out_isd</th>\n",
       "      <th>rh_out_isd</th>\n",
       "      <th>set</th>\n",
       "      <th>pmv</th>\n",
       "      <th>ppd</th>\n",
       "      <th>pmv_ce</th>\n",
       "      <th>ppd_ce</th>\n",
       "      <th>t_mot_isd</th>\n",
       "    </tr>\n",
       "  </thead>\n",
       "  <tbody>\n",
       "    <tr>\n",
       "      <th>0</th>\n",
       "      <td>0</td>\n",
       "      <td>1</td>\n",
       "      <td>1</td>\n",
       "      <td>1995-05-18T00:00:00Z</td>\n",
       "      <td>winter</td>\n",
       "      <td>10.0</td>\n",
       "      <td>NaN</td>\n",
       "      <td>female</td>\n",
       "      <td>NaN</td>\n",
       "      <td>NaN</td>\n",
       "      <td>...</td>\n",
       "      <td>15.86</td>\n",
       "      <td>99.1</td>\n",
       "      <td>16.295833</td>\n",
       "      <td>86.837514</td>\n",
       "      <td>28.1</td>\n",
       "      <td>0.50</td>\n",
       "      <td>10.2</td>\n",
       "      <td>0.38</td>\n",
       "      <td>8.0</td>\n",
       "      <td>17.4</td>\n",
       "    </tr>\n",
       "    <tr>\n",
       "      <th>1</th>\n",
       "      <td>1</td>\n",
       "      <td>2</td>\n",
       "      <td>1</td>\n",
       "      <td>1995-05-18T00:00:00Z</td>\n",
       "      <td>winter</td>\n",
       "      <td>14.0</td>\n",
       "      <td>NaN</td>\n",
       "      <td>female</td>\n",
       "      <td>NaN</td>\n",
       "      <td>NaN</td>\n",
       "      <td>...</td>\n",
       "      <td>15.86</td>\n",
       "      <td>99.1</td>\n",
       "      <td>16.295833</td>\n",
       "      <td>86.837514</td>\n",
       "      <td>27.2</td>\n",
       "      <td>0.40</td>\n",
       "      <td>8.4</td>\n",
       "      <td>0.40</td>\n",
       "      <td>8.4</td>\n",
       "      <td>17.4</td>\n",
       "    </tr>\n",
       "    <tr>\n",
       "      <th>2</th>\n",
       "      <td>2</td>\n",
       "      <td>3</td>\n",
       "      <td>1</td>\n",
       "      <td>1995-05-18T00:00:00Z</td>\n",
       "      <td>winter</td>\n",
       "      <td>15.0</td>\n",
       "      <td>NaN</td>\n",
       "      <td>female</td>\n",
       "      <td>NaN</td>\n",
       "      <td>NaN</td>\n",
       "      <td>...</td>\n",
       "      <td>15.86</td>\n",
       "      <td>99.1</td>\n",
       "      <td>16.295833</td>\n",
       "      <td>86.837514</td>\n",
       "      <td>24.8</td>\n",
       "      <td>-0.07</td>\n",
       "      <td>5.1</td>\n",
       "      <td>-0.07</td>\n",
       "      <td>5.1</td>\n",
       "      <td>17.4</td>\n",
       "    </tr>\n",
       "    <tr>\n",
       "      <th>3</th>\n",
       "      <td>3</td>\n",
       "      <td>4</td>\n",
       "      <td>1</td>\n",
       "      <td>1995-05-18T00:00:00Z</td>\n",
       "      <td>winter</td>\n",
       "      <td>17.0</td>\n",
       "      <td>NaN</td>\n",
       "      <td>female</td>\n",
       "      <td>NaN</td>\n",
       "      <td>NaN</td>\n",
       "      <td>...</td>\n",
       "      <td>15.86</td>\n",
       "      <td>99.1</td>\n",
       "      <td>16.295833</td>\n",
       "      <td>86.837514</td>\n",
       "      <td>25.5</td>\n",
       "      <td>0.31</td>\n",
       "      <td>7.0</td>\n",
       "      <td>0.14</td>\n",
       "      <td>5.4</td>\n",
       "      <td>17.4</td>\n",
       "    </tr>\n",
       "    <tr>\n",
       "      <th>4</th>\n",
       "      <td>4</td>\n",
       "      <td>5</td>\n",
       "      <td>1</td>\n",
       "      <td>1995-05-18T00:00:00Z</td>\n",
       "      <td>winter</td>\n",
       "      <td>21.0</td>\n",
       "      <td>NaN</td>\n",
       "      <td>male</td>\n",
       "      <td>NaN</td>\n",
       "      <td>NaN</td>\n",
       "      <td>...</td>\n",
       "      <td>15.86</td>\n",
       "      <td>99.1</td>\n",
       "      <td>16.295833</td>\n",
       "      <td>86.837514</td>\n",
       "      <td>26.0</td>\n",
       "      <td>0.05</td>\n",
       "      <td>5.0</td>\n",
       "      <td>-0.06</td>\n",
       "      <td>5.1</td>\n",
       "      <td>17.4</td>\n",
       "    </tr>\n",
       "  </tbody>\n",
       "</table>\n",
       "<p>5 rows × 52 columns</p>\n",
       "</div>"
      ],
      "text/plain": [
       "   index  record_id  building_id             timestamp  season subject_id  \\\n",
       "0      0          1            1  1995-05-18T00:00:00Z  winter       10.0   \n",
       "1      1          2            1  1995-05-18T00:00:00Z  winter       14.0   \n",
       "2      2          3            1  1995-05-18T00:00:00Z  winter       15.0   \n",
       "3      3          4            1  1995-05-18T00:00:00Z  winter       17.0   \n",
       "4      4          5            1  1995-05-18T00:00:00Z  winter       21.0   \n",
       "\n",
       "   age  gender  ht  wt  ...  t_out  rh_out  t_out_isd  rh_out_isd   set   pmv  \\\n",
       "0  NaN  female NaN NaN  ...  15.86    99.1  16.295833   86.837514  28.1  0.50   \n",
       "1  NaN  female NaN NaN  ...  15.86    99.1  16.295833   86.837514  27.2  0.40   \n",
       "2  NaN  female NaN NaN  ...  15.86    99.1  16.295833   86.837514  24.8 -0.07   \n",
       "3  NaN  female NaN NaN  ...  15.86    99.1  16.295833   86.837514  25.5  0.31   \n",
       "4  NaN    male NaN NaN  ...  15.86    99.1  16.295833   86.837514  26.0  0.05   \n",
       "\n",
       "    ppd  pmv_ce  ppd_ce  t_mot_isd  \n",
       "0  10.2    0.38     8.0       17.4  \n",
       "1   8.4    0.40     8.4       17.4  \n",
       "2   5.1   -0.07     5.1       17.4  \n",
       "3   7.0    0.14     5.4       17.4  \n",
       "4   5.0   -0.06     5.1       17.4  \n",
       "\n",
       "[5 rows x 52 columns]"
      ]
     },
     "execution_count": 16,
     "metadata": {},
     "output_type": "execute_result"
    }
   ],
   "source": [
    "df.head()"
   ]
  },
  {
   "cell_type": "code",
   "execution_count": 17,
   "metadata": {},
   "outputs": [
    {
     "data": {
      "text/plain": [
       "109033"
      ]
     },
     "execution_count": 17,
     "metadata": {},
     "output_type": "execute_result"
    }
   ],
   "source": [
    "len(df)"
   ]
  },
  {
   "cell_type": "code",
   "execution_count": 19,
   "metadata": {},
   "outputs": [
    {
     "data": {
      "text/html": [
       "<div>\n",
       "<style scoped>\n",
       "    .dataframe tbody tr th:only-of-type {\n",
       "        vertical-align: middle;\n",
       "    }\n",
       "\n",
       "    .dataframe tbody tr th {\n",
       "        vertical-align: top;\n",
       "    }\n",
       "\n",
       "    .dataframe thead th {\n",
       "        text-align: right;\n",
       "    }\n",
       "</style>\n",
       "<table border=\"1\" class=\"dataframe\">\n",
       "  <thead>\n",
       "    <tr style=\"text-align: right;\">\n",
       "      <th></th>\n",
       "      <th>index</th>\n",
       "      <th>record_id</th>\n",
       "      <th>building_id</th>\n",
       "      <th>timestamp</th>\n",
       "      <th>season</th>\n",
       "      <th>subject_id</th>\n",
       "      <th>age</th>\n",
       "      <th>gender</th>\n",
       "      <th>ht</th>\n",
       "      <th>wt</th>\n",
       "      <th>...</th>\n",
       "      <th>t_out</th>\n",
       "      <th>rh_out</th>\n",
       "      <th>t_out_isd</th>\n",
       "      <th>rh_out_isd</th>\n",
       "      <th>set</th>\n",
       "      <th>pmv</th>\n",
       "      <th>ppd</th>\n",
       "      <th>pmv_ce</th>\n",
       "      <th>ppd_ce</th>\n",
       "      <th>t_mot_isd</th>\n",
       "    </tr>\n",
       "  </thead>\n",
       "  <tbody>\n",
       "    <tr>\n",
       "      <th>15566</th>\n",
       "      <td>15570</td>\n",
       "      <td>15571</td>\n",
       "      <td>166</td>\n",
       "      <td>2018-08-19T00:00:00Z</td>\n",
       "      <td>hot/wet</td>\n",
       "      <td>NaN</td>\n",
       "      <td>25.0</td>\n",
       "      <td>female</td>\n",
       "      <td>NaN</td>\n",
       "      <td>NaN</td>\n",
       "      <td>...</td>\n",
       "      <td>27.59</td>\n",
       "      <td>NaN</td>\n",
       "      <td>27.594444</td>\n",
       "      <td>85.450224</td>\n",
       "      <td>NaN</td>\n",
       "      <td>NaN</td>\n",
       "      <td>NaN</td>\n",
       "      <td>NaN</td>\n",
       "      <td>NaN</td>\n",
       "      <td>27.5</td>\n",
       "    </tr>\n",
       "    <tr>\n",
       "      <th>15567</th>\n",
       "      <td>15571</td>\n",
       "      <td>15572</td>\n",
       "      <td>166</td>\n",
       "      <td>2018-08-19T00:00:00Z</td>\n",
       "      <td>hot/wet</td>\n",
       "      <td>NaN</td>\n",
       "      <td>25.0</td>\n",
       "      <td>female</td>\n",
       "      <td>NaN</td>\n",
       "      <td>NaN</td>\n",
       "      <td>...</td>\n",
       "      <td>27.59</td>\n",
       "      <td>NaN</td>\n",
       "      <td>27.594444</td>\n",
       "      <td>85.450224</td>\n",
       "      <td>NaN</td>\n",
       "      <td>NaN</td>\n",
       "      <td>NaN</td>\n",
       "      <td>NaN</td>\n",
       "      <td>NaN</td>\n",
       "      <td>27.5</td>\n",
       "    </tr>\n",
       "    <tr>\n",
       "      <th>15568</th>\n",
       "      <td>15572</td>\n",
       "      <td>15573</td>\n",
       "      <td>166</td>\n",
       "      <td>2018-08-19T00:00:00Z</td>\n",
       "      <td>hot/wet</td>\n",
       "      <td>NaN</td>\n",
       "      <td>25.0</td>\n",
       "      <td>female</td>\n",
       "      <td>NaN</td>\n",
       "      <td>NaN</td>\n",
       "      <td>...</td>\n",
       "      <td>27.59</td>\n",
       "      <td>NaN</td>\n",
       "      <td>27.594444</td>\n",
       "      <td>85.450224</td>\n",
       "      <td>NaN</td>\n",
       "      <td>NaN</td>\n",
       "      <td>NaN</td>\n",
       "      <td>NaN</td>\n",
       "      <td>NaN</td>\n",
       "      <td>27.5</td>\n",
       "    </tr>\n",
       "    <tr>\n",
       "      <th>15569</th>\n",
       "      <td>15573</td>\n",
       "      <td>15574</td>\n",
       "      <td>166</td>\n",
       "      <td>2018-08-19T00:00:00Z</td>\n",
       "      <td>hot/wet</td>\n",
       "      <td>NaN</td>\n",
       "      <td>30.0</td>\n",
       "      <td>male</td>\n",
       "      <td>NaN</td>\n",
       "      <td>NaN</td>\n",
       "      <td>...</td>\n",
       "      <td>27.59</td>\n",
       "      <td>NaN</td>\n",
       "      <td>27.594444</td>\n",
       "      <td>85.450224</td>\n",
       "      <td>NaN</td>\n",
       "      <td>NaN</td>\n",
       "      <td>NaN</td>\n",
       "      <td>NaN</td>\n",
       "      <td>NaN</td>\n",
       "      <td>27.5</td>\n",
       "    </tr>\n",
       "    <tr>\n",
       "      <th>15570</th>\n",
       "      <td>15574</td>\n",
       "      <td>15575</td>\n",
       "      <td>166</td>\n",
       "      <td>2018-08-19T00:00:00Z</td>\n",
       "      <td>hot/wet</td>\n",
       "      <td>NaN</td>\n",
       "      <td>30.0</td>\n",
       "      <td>male</td>\n",
       "      <td>NaN</td>\n",
       "      <td>NaN</td>\n",
       "      <td>...</td>\n",
       "      <td>27.59</td>\n",
       "      <td>NaN</td>\n",
       "      <td>27.594444</td>\n",
       "      <td>85.450224</td>\n",
       "      <td>NaN</td>\n",
       "      <td>NaN</td>\n",
       "      <td>NaN</td>\n",
       "      <td>NaN</td>\n",
       "      <td>NaN</td>\n",
       "      <td>27.5</td>\n",
       "    </tr>\n",
       "    <tr>\n",
       "      <th>...</th>\n",
       "      <td>...</td>\n",
       "      <td>...</td>\n",
       "      <td>...</td>\n",
       "      <td>...</td>\n",
       "      <td>...</td>\n",
       "      <td>...</td>\n",
       "      <td>...</td>\n",
       "      <td>...</td>\n",
       "      <td>...</td>\n",
       "      <td>...</td>\n",
       "      <td>...</td>\n",
       "      <td>...</td>\n",
       "      <td>...</td>\n",
       "      <td>...</td>\n",
       "      <td>...</td>\n",
       "      <td>...</td>\n",
       "      <td>...</td>\n",
       "      <td>...</td>\n",
       "      <td>...</td>\n",
       "      <td>...</td>\n",
       "      <td>...</td>\n",
       "    </tr>\n",
       "    <tr>\n",
       "      <th>108928</th>\n",
       "      <td>109965</td>\n",
       "      <td>109966</td>\n",
       "      <td>807</td>\n",
       "      <td>NaN</td>\n",
       "      <td>winter</td>\n",
       "      <td>NaN</td>\n",
       "      <td>25.0</td>\n",
       "      <td>NaN</td>\n",
       "      <td>NaN</td>\n",
       "      <td>NaN</td>\n",
       "      <td>...</td>\n",
       "      <td>NaN</td>\n",
       "      <td>NaN</td>\n",
       "      <td>NaN</td>\n",
       "      <td>NaN</td>\n",
       "      <td>22.8</td>\n",
       "      <td>-0.58</td>\n",
       "      <td>12.2</td>\n",
       "      <td>-0.58</td>\n",
       "      <td>12.2</td>\n",
       "      <td>NaN</td>\n",
       "    </tr>\n",
       "    <tr>\n",
       "      <th>108929</th>\n",
       "      <td>109966</td>\n",
       "      <td>109967</td>\n",
       "      <td>807</td>\n",
       "      <td>NaN</td>\n",
       "      <td>winter</td>\n",
       "      <td>NaN</td>\n",
       "      <td>25.0</td>\n",
       "      <td>NaN</td>\n",
       "      <td>NaN</td>\n",
       "      <td>NaN</td>\n",
       "      <td>...</td>\n",
       "      <td>NaN</td>\n",
       "      <td>NaN</td>\n",
       "      <td>NaN</td>\n",
       "      <td>NaN</td>\n",
       "      <td>22.2</td>\n",
       "      <td>-0.94</td>\n",
       "      <td>23.7</td>\n",
       "      <td>-0.94</td>\n",
       "      <td>23.7</td>\n",
       "      <td>NaN</td>\n",
       "    </tr>\n",
       "    <tr>\n",
       "      <th>108930</th>\n",
       "      <td>109967</td>\n",
       "      <td>109968</td>\n",
       "      <td>807</td>\n",
       "      <td>NaN</td>\n",
       "      <td>winter</td>\n",
       "      <td>NaN</td>\n",
       "      <td>45.0</td>\n",
       "      <td>NaN</td>\n",
       "      <td>NaN</td>\n",
       "      <td>NaN</td>\n",
       "      <td>...</td>\n",
       "      <td>NaN</td>\n",
       "      <td>NaN</td>\n",
       "      <td>NaN</td>\n",
       "      <td>NaN</td>\n",
       "      <td>21.6</td>\n",
       "      <td>-1.14</td>\n",
       "      <td>32.2</td>\n",
       "      <td>-1.14</td>\n",
       "      <td>32.2</td>\n",
       "      <td>NaN</td>\n",
       "    </tr>\n",
       "    <tr>\n",
       "      <th>108931</th>\n",
       "      <td>109968</td>\n",
       "      <td>109969</td>\n",
       "      <td>807</td>\n",
       "      <td>NaN</td>\n",
       "      <td>winter</td>\n",
       "      <td>NaN</td>\n",
       "      <td>35.0</td>\n",
       "      <td>NaN</td>\n",
       "      <td>NaN</td>\n",
       "      <td>NaN</td>\n",
       "      <td>...</td>\n",
       "      <td>NaN</td>\n",
       "      <td>NaN</td>\n",
       "      <td>NaN</td>\n",
       "      <td>NaN</td>\n",
       "      <td>22.3</td>\n",
       "      <td>-0.55</td>\n",
       "      <td>11.4</td>\n",
       "      <td>-0.55</td>\n",
       "      <td>11.4</td>\n",
       "      <td>NaN</td>\n",
       "    </tr>\n",
       "    <tr>\n",
       "      <th>108932</th>\n",
       "      <td>109969</td>\n",
       "      <td>109970</td>\n",
       "      <td>807</td>\n",
       "      <td>NaN</td>\n",
       "      <td>winter</td>\n",
       "      <td>NaN</td>\n",
       "      <td>35.0</td>\n",
       "      <td>NaN</td>\n",
       "      <td>NaN</td>\n",
       "      <td>NaN</td>\n",
       "      <td>...</td>\n",
       "      <td>NaN</td>\n",
       "      <td>NaN</td>\n",
       "      <td>NaN</td>\n",
       "      <td>NaN</td>\n",
       "      <td>21.8</td>\n",
       "      <td>-1.04</td>\n",
       "      <td>27.8</td>\n",
       "      <td>-1.04</td>\n",
       "      <td>27.8</td>\n",
       "      <td>NaN</td>\n",
       "    </tr>\n",
       "  </tbody>\n",
       "</table>\n",
       "<p>26319 rows × 52 columns</p>\n",
       "</div>"
      ],
      "text/plain": [
       "         index  record_id  building_id             timestamp   season  \\\n",
       "15566    15570      15571          166  2018-08-19T00:00:00Z  hot/wet   \n",
       "15567    15571      15572          166  2018-08-19T00:00:00Z  hot/wet   \n",
       "15568    15572      15573          166  2018-08-19T00:00:00Z  hot/wet   \n",
       "15569    15573      15574          166  2018-08-19T00:00:00Z  hot/wet   \n",
       "15570    15574      15575          166  2018-08-19T00:00:00Z  hot/wet   \n",
       "...        ...        ...          ...                   ...      ...   \n",
       "108928  109965     109966          807                   NaN   winter   \n",
       "108929  109966     109967          807                   NaN   winter   \n",
       "108930  109967     109968          807                   NaN   winter   \n",
       "108931  109968     109969          807                   NaN   winter   \n",
       "108932  109969     109970          807                   NaN   winter   \n",
       "\n",
       "       subject_id   age  gender  ht  wt  ...  t_out  rh_out  t_out_isd  \\\n",
       "15566         NaN  25.0  female NaN NaN  ...  27.59     NaN  27.594444   \n",
       "15567         NaN  25.0  female NaN NaN  ...  27.59     NaN  27.594444   \n",
       "15568         NaN  25.0  female NaN NaN  ...  27.59     NaN  27.594444   \n",
       "15569         NaN  30.0    male NaN NaN  ...  27.59     NaN  27.594444   \n",
       "15570         NaN  30.0    male NaN NaN  ...  27.59     NaN  27.594444   \n",
       "...           ...   ...     ...  ..  ..  ...    ...     ...        ...   \n",
       "108928        NaN  25.0     NaN NaN NaN  ...    NaN     NaN        NaN   \n",
       "108929        NaN  25.0     NaN NaN NaN  ...    NaN     NaN        NaN   \n",
       "108930        NaN  45.0     NaN NaN NaN  ...    NaN     NaN        NaN   \n",
       "108931        NaN  35.0     NaN NaN NaN  ...    NaN     NaN        NaN   \n",
       "108932        NaN  35.0     NaN NaN NaN  ...    NaN     NaN        NaN   \n",
       "\n",
       "        rh_out_isd   set   pmv   ppd  pmv_ce  ppd_ce  t_mot_isd  \n",
       "15566    85.450224   NaN   NaN   NaN     NaN     NaN       27.5  \n",
       "15567    85.450224   NaN   NaN   NaN     NaN     NaN       27.5  \n",
       "15568    85.450224   NaN   NaN   NaN     NaN     NaN       27.5  \n",
       "15569    85.450224   NaN   NaN   NaN     NaN     NaN       27.5  \n",
       "15570    85.450224   NaN   NaN   NaN     NaN     NaN       27.5  \n",
       "...            ...   ...   ...   ...     ...     ...        ...  \n",
       "108928         NaN  22.8 -0.58  12.2   -0.58    12.2        NaN  \n",
       "108929         NaN  22.2 -0.94  23.7   -0.94    23.7        NaN  \n",
       "108930         NaN  21.6 -1.14  32.2   -1.14    32.2        NaN  \n",
       "108931         NaN  22.3 -0.55  11.4   -0.55    11.4        NaN  \n",
       "108932         NaN  21.8 -1.04  27.8   -1.04    27.8        NaN  \n",
       "\n",
       "[26319 rows x 52 columns]"
      ]
     },
     "execution_count": 19,
     "metadata": {},
     "output_type": "execute_result"
    }
   ],
   "source": [
    "df_windows = df.dropna(subset=[\"window\"], axis=0)\n",
    "df_windows"
   ]
  },
  {
   "cell_type": "code",
   "execution_count": 20,
   "metadata": {},
   "outputs": [
    {
     "data": {
      "text/plain": [
       "Index(['index', 'record_id', 'building_id', 'timestamp', 'season',\n",
       "       'subject_id', 'age', 'gender', 'ht', 'wt', 'ta', 'ta_h', 'ta_m', 'ta_l',\n",
       "       'top', 'tr', 'tg', 'tg_h', 'tg_m', 'tg_l', 'rh', 'vel', 'vel_h',\n",
       "       'vel_m', 'vel_l', 'met', 'clo', 'activity_10', 'activity_20',\n",
       "       'activity_30', 'activity_60', 'thermal_sensation',\n",
       "       'thermal_acceptability', 'thermal_preference', 'thermal_comfort',\n",
       "       'air_movement_acceptability', 'air_movement_preference',\n",
       "       'blind_curtain', 'fan', 'window', 'door', 'heater', 't_out', 'rh_out',\n",
       "       't_out_isd', 'rh_out_isd', 'set', 'pmv', 'ppd', 'pmv_ce', 'ppd_ce',\n",
       "       't_mot_isd'],\n",
       "      dtype='object')"
      ]
     },
     "execution_count": 20,
     "metadata": {},
     "output_type": "execute_result"
    }
   ],
   "source": [
    "df.columns"
   ]
  },
  {
   "cell_type": "code",
   "execution_count": 26,
   "metadata": {},
   "outputs": [
    {
     "data": {
      "text/plain": [
       "building_id\n",
       "166    339\n",
       "167    366\n",
       "200     79\n",
       "201    110\n",
       "202     60\n",
       "      ... \n",
       "701    179\n",
       "787    221\n",
       "788    534\n",
       "806    587\n",
       "807    493\n",
       "Name: index, Length: 411, dtype: int64"
      ]
     },
     "execution_count": 26,
     "metadata": {},
     "output_type": "execute_result"
    }
   ],
   "source": [
    "building_id_count = df_windows.groupby(\"building_id\")[\"index\"].count()\n",
    "building_id_count"
   ]
  },
  {
   "cell_type": "code",
   "execution_count": null,
   "metadata": {},
   "outputs": [],
   "source": [
    "go.Bar()"
   ]
  },
  {
   "cell_type": "code",
   "execution_count": 35,
   "metadata": {},
   "outputs": [
    {
     "data": {
      "application/vnd.plotly.v1+json": {
       "config": {
        "plotlyServerURL": "https://plotly.com"
       },
       "data": [
        {
         "type": "bar",
         "x": [
          166,
          167,
          200,
          201,
          202,
          203,
          204,
          205,
          206,
          207,
          208,
          209,
          210,
          211,
          212,
          213,
          214,
          215,
          216,
          217,
          218,
          219,
          220,
          221,
          222,
          223,
          224,
          225,
          226,
          227,
          228,
          229,
          230,
          231,
          232,
          233,
          234,
          235,
          236,
          237,
          238,
          239,
          240,
          241,
          242,
          243,
          244,
          245,
          246,
          247,
          248,
          249,
          250,
          251,
          252,
          253,
          254,
          255,
          256,
          257,
          258,
          259,
          260,
          261,
          262,
          263,
          264,
          265,
          266,
          267,
          268,
          269,
          270,
          271,
          272,
          273,
          274,
          275,
          276,
          277,
          278,
          279,
          280,
          281,
          282,
          283,
          284,
          285,
          286,
          287,
          288,
          289,
          290,
          291,
          292,
          293,
          294,
          295,
          296,
          297,
          298,
          299,
          300,
          301,
          302,
          303,
          304,
          305,
          306,
          307,
          308,
          309,
          310,
          311,
          312,
          313,
          314,
          315,
          316,
          317,
          318,
          319,
          320,
          321,
          322,
          323,
          324,
          325,
          326,
          327,
          328,
          329,
          330,
          331,
          332,
          333,
          334,
          335,
          336,
          337,
          338,
          339,
          340,
          341,
          342,
          343,
          344,
          345,
          346,
          347,
          348,
          349,
          350,
          351,
          352,
          353,
          354,
          355,
          356,
          357,
          358,
          359,
          360,
          361,
          362,
          363,
          364,
          365,
          366,
          367,
          368,
          369,
          370,
          371,
          372,
          373,
          374,
          375,
          376,
          377,
          378,
          379,
          380,
          381,
          382,
          383,
          384,
          385,
          386,
          387,
          388,
          389,
          390,
          391,
          392,
          393,
          394,
          395,
          396,
          397,
          398,
          399,
          400,
          401,
          402,
          403,
          404,
          405,
          406,
          407,
          408,
          409,
          410,
          411,
          412,
          413,
          414,
          415,
          416,
          417,
          418,
          419,
          420,
          421,
          422,
          423,
          424,
          425,
          426,
          427,
          428,
          429,
          430,
          431,
          432,
          433,
          434,
          435,
          436,
          437,
          438,
          439,
          440,
          441,
          442,
          443,
          444,
          445,
          446,
          447,
          448,
          449,
          450,
          451,
          452,
          453,
          454,
          455,
          456,
          457,
          458,
          459,
          460,
          461,
          462,
          463,
          464,
          465,
          466,
          467,
          468,
          469,
          470,
          471,
          472,
          473,
          474,
          475,
          476,
          477,
          478,
          479,
          480,
          481,
          482,
          483,
          484,
          485,
          486,
          487,
          488,
          489,
          490,
          491,
          492,
          493,
          494,
          495,
          496,
          497,
          498,
          499,
          500,
          501,
          502,
          503,
          504,
          505,
          506,
          507,
          508,
          509,
          510,
          511,
          512,
          513,
          514,
          515,
          516,
          517,
          518,
          519,
          520,
          521,
          522,
          543,
          544,
          545,
          546,
          556,
          557,
          598,
          599,
          600,
          601,
          602,
          603,
          604,
          605,
          606,
          607,
          608,
          609,
          610,
          611,
          612,
          613,
          614,
          615,
          616,
          617,
          618,
          619,
          620,
          621,
          622,
          623,
          624,
          628,
          629,
          630,
          631,
          632,
          637,
          639,
          640,
          641,
          642,
          644,
          646,
          648,
          650,
          651,
          653,
          654,
          655,
          656,
          657,
          658,
          659,
          660,
          661,
          662,
          669,
          670,
          676,
          677,
          682,
          683,
          684,
          685,
          686,
          687,
          688,
          689,
          690,
          691,
          692,
          693,
          694,
          695,
          696,
          697,
          698,
          699,
          700,
          701,
          787,
          788,
          806,
          807
         ],
         "y": [
          339,
          366,
          79,
          110,
          60,
          59,
          21,
          8,
          27,
          15,
          153,
          1,
          65,
          45,
          29,
          52,
          38,
          158,
          10,
          106,
          55,
          32,
          91,
          17,
          53,
          19,
          20,
          12,
          26,
          83,
          106,
          5,
          15,
          8,
          19,
          7,
          2,
          14,
          50,
          1,
          14,
          8,
          2,
          15,
          11,
          12,
          18,
          2,
          2,
          2,
          8,
          1,
          7,
          14,
          12,
          17,
          4,
          2,
          5,
          1,
          3,
          3,
          4,
          3,
          5,
          2,
          2,
          6,
          7,
          21,
          2,
          6,
          2,
          9,
          6,
          4,
          5,
          8,
          4,
          6,
          3,
          8,
          3,
          2,
          3,
          3,
          4,
          2,
          4,
          1,
          4,
          5,
          2,
          2,
          3,
          2,
          1,
          1,
          7,
          6,
          4,
          2,
          2,
          5,
          4,
          4,
          1,
          3,
          2,
          1,
          1,
          2,
          1,
          4,
          1,
          2,
          1,
          1,
          3,
          2,
          1,
          2,
          2,
          2,
          6,
          1,
          1,
          1,
          1,
          1,
          28,
          24,
          18,
          14,
          16,
          16,
          19,
          16,
          19,
          13,
          12,
          24,
          31,
          25,
          24,
          30,
          15,
          19,
          17,
          34,
          25,
          17,
          28,
          15,
          22,
          15,
          19,
          26,
          13,
          13,
          16,
          2,
          13,
          3,
          2,
          18,
          2,
          16,
          6,
          3,
          3,
          12,
          2,
          4,
          19,
          2,
          9,
          8,
          6,
          5,
          3,
          10,
          4,
          3,
          12,
          5,
          5,
          2,
          8,
          9,
          1,
          2,
          4,
          2,
          4,
          7,
          3,
          7,
          6,
          9,
          5,
          9,
          9,
          6,
          12,
          15,
          6,
          10,
          6,
          4,
          7,
          8,
          6,
          4,
          3,
          4,
          4,
          4,
          5,
          3,
          4,
          5,
          6,
          6,
          4,
          6,
          2,
          6,
          4,
          2,
          8,
          8,
          7,
          8,
          4,
          6,
          8,
          4,
          7,
          4,
          5,
          8,
          4,
          6,
          4,
          2,
          10,
          5,
          4,
          9,
          1,
          3,
          2,
          2,
          2,
          2,
          3,
          2,
          1,
          3,
          2,
          3,
          5,
          2,
          1,
          8,
          6,
          6,
          16,
          27,
          14,
          15,
          2,
          19,
          10,
          9,
          23,
          4,
          11,
          13,
          3,
          9,
          13,
          5,
          10,
          21,
          12,
          8,
          5,
          14,
          10,
          15,
          6,
          11,
          6,
          8,
          11,
          4,
          6,
          4,
          2,
          7,
          7,
          6,
          5,
          4,
          2,
          5,
          2,
          2,
          1,
          11,
          3,
          2,
          4,
          8,
          2,
          2,
          3,
          10,
          2,
          2,
          1,
          1,
          2,
          46,
          36,
          37,
          52,
          41,
          421,
          2069,
          368,
          246,
          222,
          906,
          1225,
          449,
          367,
          43,
          27,
          10,
          399,
          335,
          7,
          9,
          47,
          13,
          49,
          50,
          44,
          45,
          157,
          164,
          74,
          94,
          212,
          142,
          195,
          132,
          136,
          60,
          105,
          104,
          360,
          32,
          15,
          11,
          94,
          660,
          53,
          474,
          113,
          101,
          1527,
          151,
          1127,
          11,
          1128,
          39,
          12,
          609,
          21,
          147,
          71,
          49,
          23,
          521,
          245,
          295,
          162,
          69,
          298,
          88,
          109,
          106,
          179,
          31,
          71,
          87,
          412,
          97,
          191,
          393,
          403,
          157,
          179,
          221,
          534,
          587,
          493
         ]
        }
       ],
       "layout": {
        "template": {
         "data": {
          "bar": [
           {
            "error_x": {
             "color": "#2a3f5f"
            },
            "error_y": {
             "color": "#2a3f5f"
            },
            "marker": {
             "line": {
              "color": "#E5ECF6",
              "width": 0.5
             },
             "pattern": {
              "fillmode": "overlay",
              "size": 10,
              "solidity": 0.2
             }
            },
            "type": "bar"
           }
          ],
          "barpolar": [
           {
            "marker": {
             "line": {
              "color": "#E5ECF6",
              "width": 0.5
             },
             "pattern": {
              "fillmode": "overlay",
              "size": 10,
              "solidity": 0.2
             }
            },
            "type": "barpolar"
           }
          ],
          "carpet": [
           {
            "aaxis": {
             "endlinecolor": "#2a3f5f",
             "gridcolor": "white",
             "linecolor": "white",
             "minorgridcolor": "white",
             "startlinecolor": "#2a3f5f"
            },
            "baxis": {
             "endlinecolor": "#2a3f5f",
             "gridcolor": "white",
             "linecolor": "white",
             "minorgridcolor": "white",
             "startlinecolor": "#2a3f5f"
            },
            "type": "carpet"
           }
          ],
          "choropleth": [
           {
            "colorbar": {
             "outlinewidth": 0,
             "ticks": ""
            },
            "type": "choropleth"
           }
          ],
          "contour": [
           {
            "colorbar": {
             "outlinewidth": 0,
             "ticks": ""
            },
            "colorscale": [
             [
              0,
              "#0d0887"
             ],
             [
              0.1111111111111111,
              "#46039f"
             ],
             [
              0.2222222222222222,
              "#7201a8"
             ],
             [
              0.3333333333333333,
              "#9c179e"
             ],
             [
              0.4444444444444444,
              "#bd3786"
             ],
             [
              0.5555555555555556,
              "#d8576b"
             ],
             [
              0.6666666666666666,
              "#ed7953"
             ],
             [
              0.7777777777777778,
              "#fb9f3a"
             ],
             [
              0.8888888888888888,
              "#fdca26"
             ],
             [
              1,
              "#f0f921"
             ]
            ],
            "type": "contour"
           }
          ],
          "contourcarpet": [
           {
            "colorbar": {
             "outlinewidth": 0,
             "ticks": ""
            },
            "type": "contourcarpet"
           }
          ],
          "heatmap": [
           {
            "colorbar": {
             "outlinewidth": 0,
             "ticks": ""
            },
            "colorscale": [
             [
              0,
              "#0d0887"
             ],
             [
              0.1111111111111111,
              "#46039f"
             ],
             [
              0.2222222222222222,
              "#7201a8"
             ],
             [
              0.3333333333333333,
              "#9c179e"
             ],
             [
              0.4444444444444444,
              "#bd3786"
             ],
             [
              0.5555555555555556,
              "#d8576b"
             ],
             [
              0.6666666666666666,
              "#ed7953"
             ],
             [
              0.7777777777777778,
              "#fb9f3a"
             ],
             [
              0.8888888888888888,
              "#fdca26"
             ],
             [
              1,
              "#f0f921"
             ]
            ],
            "type": "heatmap"
           }
          ],
          "heatmapgl": [
           {
            "colorbar": {
             "outlinewidth": 0,
             "ticks": ""
            },
            "colorscale": [
             [
              0,
              "#0d0887"
             ],
             [
              0.1111111111111111,
              "#46039f"
             ],
             [
              0.2222222222222222,
              "#7201a8"
             ],
             [
              0.3333333333333333,
              "#9c179e"
             ],
             [
              0.4444444444444444,
              "#bd3786"
             ],
             [
              0.5555555555555556,
              "#d8576b"
             ],
             [
              0.6666666666666666,
              "#ed7953"
             ],
             [
              0.7777777777777778,
              "#fb9f3a"
             ],
             [
              0.8888888888888888,
              "#fdca26"
             ],
             [
              1,
              "#f0f921"
             ]
            ],
            "type": "heatmapgl"
           }
          ],
          "histogram": [
           {
            "marker": {
             "pattern": {
              "fillmode": "overlay",
              "size": 10,
              "solidity": 0.2
             }
            },
            "type": "histogram"
           }
          ],
          "histogram2d": [
           {
            "colorbar": {
             "outlinewidth": 0,
             "ticks": ""
            },
            "colorscale": [
             [
              0,
              "#0d0887"
             ],
             [
              0.1111111111111111,
              "#46039f"
             ],
             [
              0.2222222222222222,
              "#7201a8"
             ],
             [
              0.3333333333333333,
              "#9c179e"
             ],
             [
              0.4444444444444444,
              "#bd3786"
             ],
             [
              0.5555555555555556,
              "#d8576b"
             ],
             [
              0.6666666666666666,
              "#ed7953"
             ],
             [
              0.7777777777777778,
              "#fb9f3a"
             ],
             [
              0.8888888888888888,
              "#fdca26"
             ],
             [
              1,
              "#f0f921"
             ]
            ],
            "type": "histogram2d"
           }
          ],
          "histogram2dcontour": [
           {
            "colorbar": {
             "outlinewidth": 0,
             "ticks": ""
            },
            "colorscale": [
             [
              0,
              "#0d0887"
             ],
             [
              0.1111111111111111,
              "#46039f"
             ],
             [
              0.2222222222222222,
              "#7201a8"
             ],
             [
              0.3333333333333333,
              "#9c179e"
             ],
             [
              0.4444444444444444,
              "#bd3786"
             ],
             [
              0.5555555555555556,
              "#d8576b"
             ],
             [
              0.6666666666666666,
              "#ed7953"
             ],
             [
              0.7777777777777778,
              "#fb9f3a"
             ],
             [
              0.8888888888888888,
              "#fdca26"
             ],
             [
              1,
              "#f0f921"
             ]
            ],
            "type": "histogram2dcontour"
           }
          ],
          "mesh3d": [
           {
            "colorbar": {
             "outlinewidth": 0,
             "ticks": ""
            },
            "type": "mesh3d"
           }
          ],
          "parcoords": [
           {
            "line": {
             "colorbar": {
              "outlinewidth": 0,
              "ticks": ""
             }
            },
            "type": "parcoords"
           }
          ],
          "pie": [
           {
            "automargin": true,
            "type": "pie"
           }
          ],
          "scatter": [
           {
            "fillpattern": {
             "fillmode": "overlay",
             "size": 10,
             "solidity": 0.2
            },
            "type": "scatter"
           }
          ],
          "scatter3d": [
           {
            "line": {
             "colorbar": {
              "outlinewidth": 0,
              "ticks": ""
             }
            },
            "marker": {
             "colorbar": {
              "outlinewidth": 0,
              "ticks": ""
             }
            },
            "type": "scatter3d"
           }
          ],
          "scattercarpet": [
           {
            "marker": {
             "colorbar": {
              "outlinewidth": 0,
              "ticks": ""
             }
            },
            "type": "scattercarpet"
           }
          ],
          "scattergeo": [
           {
            "marker": {
             "colorbar": {
              "outlinewidth": 0,
              "ticks": ""
             }
            },
            "type": "scattergeo"
           }
          ],
          "scattergl": [
           {
            "marker": {
             "colorbar": {
              "outlinewidth": 0,
              "ticks": ""
             }
            },
            "type": "scattergl"
           }
          ],
          "scattermapbox": [
           {
            "marker": {
             "colorbar": {
              "outlinewidth": 0,
              "ticks": ""
             }
            },
            "type": "scattermapbox"
           }
          ],
          "scatterpolar": [
           {
            "marker": {
             "colorbar": {
              "outlinewidth": 0,
              "ticks": ""
             }
            },
            "type": "scatterpolar"
           }
          ],
          "scatterpolargl": [
           {
            "marker": {
             "colorbar": {
              "outlinewidth": 0,
              "ticks": ""
             }
            },
            "type": "scatterpolargl"
           }
          ],
          "scatterternary": [
           {
            "marker": {
             "colorbar": {
              "outlinewidth": 0,
              "ticks": ""
             }
            },
            "type": "scatterternary"
           }
          ],
          "surface": [
           {
            "colorbar": {
             "outlinewidth": 0,
             "ticks": ""
            },
            "colorscale": [
             [
              0,
              "#0d0887"
             ],
             [
              0.1111111111111111,
              "#46039f"
             ],
             [
              0.2222222222222222,
              "#7201a8"
             ],
             [
              0.3333333333333333,
              "#9c179e"
             ],
             [
              0.4444444444444444,
              "#bd3786"
             ],
             [
              0.5555555555555556,
              "#d8576b"
             ],
             [
              0.6666666666666666,
              "#ed7953"
             ],
             [
              0.7777777777777778,
              "#fb9f3a"
             ],
             [
              0.8888888888888888,
              "#fdca26"
             ],
             [
              1,
              "#f0f921"
             ]
            ],
            "type": "surface"
           }
          ],
          "table": [
           {
            "cells": {
             "fill": {
              "color": "#EBF0F8"
             },
             "line": {
              "color": "white"
             }
            },
            "header": {
             "fill": {
              "color": "#C8D4E3"
             },
             "line": {
              "color": "white"
             }
            },
            "type": "table"
           }
          ]
         },
         "layout": {
          "annotationdefaults": {
           "arrowcolor": "#2a3f5f",
           "arrowhead": 0,
           "arrowwidth": 1
          },
          "autotypenumbers": "strict",
          "coloraxis": {
           "colorbar": {
            "outlinewidth": 0,
            "ticks": ""
           }
          },
          "colorscale": {
           "diverging": [
            [
             0,
             "#8e0152"
            ],
            [
             0.1,
             "#c51b7d"
            ],
            [
             0.2,
             "#de77ae"
            ],
            [
             0.3,
             "#f1b6da"
            ],
            [
             0.4,
             "#fde0ef"
            ],
            [
             0.5,
             "#f7f7f7"
            ],
            [
             0.6,
             "#e6f5d0"
            ],
            [
             0.7,
             "#b8e186"
            ],
            [
             0.8,
             "#7fbc41"
            ],
            [
             0.9,
             "#4d9221"
            ],
            [
             1,
             "#276419"
            ]
           ],
           "sequential": [
            [
             0,
             "#0d0887"
            ],
            [
             0.1111111111111111,
             "#46039f"
            ],
            [
             0.2222222222222222,
             "#7201a8"
            ],
            [
             0.3333333333333333,
             "#9c179e"
            ],
            [
             0.4444444444444444,
             "#bd3786"
            ],
            [
             0.5555555555555556,
             "#d8576b"
            ],
            [
             0.6666666666666666,
             "#ed7953"
            ],
            [
             0.7777777777777778,
             "#fb9f3a"
            ],
            [
             0.8888888888888888,
             "#fdca26"
            ],
            [
             1,
             "#f0f921"
            ]
           ],
           "sequentialminus": [
            [
             0,
             "#0d0887"
            ],
            [
             0.1111111111111111,
             "#46039f"
            ],
            [
             0.2222222222222222,
             "#7201a8"
            ],
            [
             0.3333333333333333,
             "#9c179e"
            ],
            [
             0.4444444444444444,
             "#bd3786"
            ],
            [
             0.5555555555555556,
             "#d8576b"
            ],
            [
             0.6666666666666666,
             "#ed7953"
            ],
            [
             0.7777777777777778,
             "#fb9f3a"
            ],
            [
             0.8888888888888888,
             "#fdca26"
            ],
            [
             1,
             "#f0f921"
            ]
           ]
          },
          "colorway": [
           "#636efa",
           "#EF553B",
           "#00cc96",
           "#ab63fa",
           "#FFA15A",
           "#19d3f3",
           "#FF6692",
           "#B6E880",
           "#FF97FF",
           "#FECB52"
          ],
          "font": {
           "color": "#2a3f5f"
          },
          "geo": {
           "bgcolor": "white",
           "lakecolor": "white",
           "landcolor": "#E5ECF6",
           "showlakes": true,
           "showland": true,
           "subunitcolor": "white"
          },
          "hoverlabel": {
           "align": "left"
          },
          "hovermode": "closest",
          "mapbox": {
           "style": "light"
          },
          "paper_bgcolor": "white",
          "plot_bgcolor": "#E5ECF6",
          "polar": {
           "angularaxis": {
            "gridcolor": "white",
            "linecolor": "white",
            "ticks": ""
           },
           "bgcolor": "#E5ECF6",
           "radialaxis": {
            "gridcolor": "white",
            "linecolor": "white",
            "ticks": ""
           }
          },
          "scene": {
           "xaxis": {
            "backgroundcolor": "#E5ECF6",
            "gridcolor": "white",
            "gridwidth": 2,
            "linecolor": "white",
            "showbackground": true,
            "ticks": "",
            "zerolinecolor": "white"
           },
           "yaxis": {
            "backgroundcolor": "#E5ECF6",
            "gridcolor": "white",
            "gridwidth": 2,
            "linecolor": "white",
            "showbackground": true,
            "ticks": "",
            "zerolinecolor": "white"
           },
           "zaxis": {
            "backgroundcolor": "#E5ECF6",
            "gridcolor": "white",
            "gridwidth": 2,
            "linecolor": "white",
            "showbackground": true,
            "ticks": "",
            "zerolinecolor": "white"
           }
          },
          "shapedefaults": {
           "line": {
            "color": "#2a3f5f"
           }
          },
          "ternary": {
           "aaxis": {
            "gridcolor": "white",
            "linecolor": "white",
            "ticks": ""
           },
           "baxis": {
            "gridcolor": "white",
            "linecolor": "white",
            "ticks": ""
           },
           "bgcolor": "#E5ECF6",
           "caxis": {
            "gridcolor": "white",
            "linecolor": "white",
            "ticks": ""
           }
          },
          "title": {
           "x": 0.05
          },
          "xaxis": {
           "automargin": true,
           "gridcolor": "white",
           "linecolor": "white",
           "ticks": "",
           "title": {
            "standoff": 15
           },
           "zerolinecolor": "white",
           "zerolinewidth": 2
          },
          "yaxis": {
           "automargin": true,
           "gridcolor": "white",
           "linecolor": "white",
           "ticks": "",
           "title": {
            "standoff": 15
           },
           "zerolinecolor": "white",
           "zerolinewidth": 2
          }
         }
        },
        "xaxis": {
         "title": {
          "text": "Building Ids"
         }
        },
        "yaxis": {
         "title": {
          "text": "Number of Entries"
         },
         "type": "log"
        }
       }
      }
     },
     "metadata": {},
     "output_type": "display_data"
    }
   ],
   "source": [
    "# super quick scatter plot \n",
    "fig = go.Figure()\n",
    "fig.add_trace(go.Bar(\n",
    "    x=building_id_count.index,\n",
    "    y=building_id_count, \n",
    "))\n",
    "fig.update_layout(xaxis_title='Building Ids',\n",
    "                  yaxis_title='Number of Entries',\n",
    "                  )\n",
    "\n",
    "fig.update_yaxes(type=\"log\")\n"
   ]
  },
  {
   "cell_type": "code",
   "execution_count": 28,
   "metadata": {},
   "outputs": [
    {
     "data": {
      "text/plain": [
       "<AxesSubplot:>"
      ]
     },
     "execution_count": 28,
     "metadata": {},
     "output_type": "execute_result"
    },
    {
     "data": {
      "image/png": "[encoded data removed]",
      "text/plain": [
       "<Figure size 640x480 with 1 Axes>"
      ]
     },
     "metadata": {},
     "output_type": "display_data"
    }
   ],
   "source": [
    "building_id_count.hist()"
   ]
  }
 ],
 "metadata": {
  "kernelspec": {
   "display_name": "localwindowsenv",
   "language": "python",
   "name": "python3"
  },
  "language_info": {
   "codemirror_mode": {
    "name": "ipython",
    "version": 3
   },
   "file_extension": ".py",
   "mimetype": "text/x-python",
   "name": "python",
   "nbconvert_exporter": "python",
   "pygments_lexer": "ipython3",
   "version": "3.10.8"
  },
  "orig_nbformat": 4
 },
 "nbformat": 4,
 "nbformat_minor": 2
}
