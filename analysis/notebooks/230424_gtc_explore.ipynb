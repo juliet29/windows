{
 "cells": [
  {
   "attachments": {},
   "cell_type": "markdown",
   "metadata": {},
   "source": [
    "# explore global thermal comfort database"
   ]
  },
  {
   "cell_type": "code",
   "execution_count": 29,
   "metadata": {},
   "outputs": [],
   "source": [
    "import pandas as pd\n",
    "import plotly.graph_objects as go"
   ]
  },
  {
   "cell_type": "code",
   "execution_count": 15,
   "metadata": {},
   "outputs": [
    {
     "name": "stderr",
     "output_type": "stream",
     "text": [
      "/var/folders/7r/39t1cgb13d57zk26c__2z50m0000gn/T/ipykernel_76798/302151061.py:4: DtypeWarning: Columns (5,35,36) have mixed types. Specify dtype option on import or set low_memory=False.\n",
      "  df = pd.read_csv(path, encoding=\"iso-8859-1\")\n"
     ]
    }
   ],
   "source": [
    "# path to data \n",
    "path = \"../../data/ext_data/ashrae_global_thermal_comfort/db_measurements_v2.1.0.csv\"\n",
    "# import csv \n",
    "df = pd.read_csv(path, encoding=\"iso-8859-1\")\n"
   ]
  },
  {
   "cell_type": "code",
   "execution_count": 16,
   "metadata": {},
   "outputs": [
    {
     "data": {
      "text/html": [
       "<div>\n",
       "<style scoped>\n",
       "    .dataframe tbody tr th:only-of-type {\n",
       "        vertical-align: middle;\n",
       "    }\n",
       "\n",
       "    .dataframe tbody tr th {\n",
       "        vertical-align: top;\n",
       "    }\n",
       "\n",
       "    .dataframe thead th {\n",
       "        text-align: right;\n",
       "    }\n",
       "</style>\n",
       "<table border=\"1\" class=\"dataframe\">\n",
       "  <thead>\n",
       "    <tr style=\"text-align: right;\">\n",
       "      <th></th>\n",
       "      <th>index</th>\n",
       "      <th>record_id</th>\n",
       "      <th>building_id</th>\n",
       "      <th>timestamp</th>\n",
       "      <th>season</th>\n",
       "      <th>subject_id</th>\n",
       "      <th>age</th>\n",
       "      <th>gender</th>\n",
       "      <th>ht</th>\n",
       "      <th>wt</th>\n",
       "      <th>...</th>\n",
       "      <th>t_out</th>\n",
       "      <th>rh_out</th>\n",
       "      <th>t_out_isd</th>\n",
       "      <th>rh_out_isd</th>\n",
       "      <th>set</th>\n",
       "      <th>pmv</th>\n",
       "      <th>ppd</th>\n",
       "      <th>pmv_ce</th>\n",
       "      <th>ppd_ce</th>\n",
       "      <th>t_mot_isd</th>\n",
       "    </tr>\n",
       "  </thead>\n",
       "  <tbody>\n",
       "    <tr>\n",
       "      <th>0</th>\n",
       "      <td>0</td>\n",
       "      <td>1</td>\n",
       "      <td>1</td>\n",
       "      <td>1995-05-18T00:00:00Z</td>\n",
       "      <td>winter</td>\n",
       "      <td>10.0</td>\n",
       "      <td>NaN</td>\n",
       "      <td>female</td>\n",
       "      <td>NaN</td>\n",
       "      <td>NaN</td>\n",
       "      <td>...</td>\n",
       "      <td>15.86</td>\n",
       "      <td>99.1</td>\n",
       "      <td>16.295833</td>\n",
       "      <td>86.837514</td>\n",
       "      <td>28.1</td>\n",
       "      <td>0.50</td>\n",
       "      <td>10.2</td>\n",
       "      <td>0.38</td>\n",
       "      <td>8.0</td>\n",
       "      <td>17.4</td>\n",
       "    </tr>\n",
       "    <tr>\n",
       "      <th>1</th>\n",
       "      <td>1</td>\n",
       "      <td>2</td>\n",
       "      <td>1</td>\n",
       "      <td>1995-05-18T00:00:00Z</td>\n",
       "      <td>winter</td>\n",
       "      <td>14.0</td>\n",
       "      <td>NaN</td>\n",
       "      <td>female</td>\n",
       "      <td>NaN</td>\n",
       "      <td>NaN</td>\n",
       "      <td>...</td>\n",
       "      <td>15.86</td>\n",
       "      <td>99.1</td>\n",
       "      <td>16.295833</td>\n",
       "      <td>86.837514</td>\n",
       "      <td>27.2</td>\n",
       "      <td>0.40</td>\n",
       "      <td>8.4</td>\n",
       "      <td>0.40</td>\n",
       "      <td>8.4</td>\n",
       "      <td>17.4</td>\n",
       "    </tr>\n",
       "    <tr>\n",
       "      <th>2</th>\n",
       "      <td>2</td>\n",
       "      <td>3</td>\n",
       "      <td>1</td>\n",
       "      <td>1995-05-18T00:00:00Z</td>\n",
       "      <td>winter</td>\n",
       "      <td>15.0</td>\n",
       "      <td>NaN</td>\n",
       "      <td>female</td>\n",
       "      <td>NaN</td>\n",
       "      <td>NaN</td>\n",
       "      <td>...</td>\n",
       "      <td>15.86</td>\n",
       "      <td>99.1</td>\n",
       "      <td>16.295833</td>\n",
       "      <td>86.837514</td>\n",
       "      <td>24.8</td>\n",
       "      <td>-0.07</td>\n",
       "      <td>5.1</td>\n",
       "      <td>-0.07</td>\n",
       "      <td>5.1</td>\n",
       "      <td>17.4</td>\n",
       "    </tr>\n",
       "    <tr>\n",
       "      <th>3</th>\n",
       "      <td>3</td>\n",
       "      <td>4</td>\n",
       "      <td>1</td>\n",
       "      <td>1995-05-18T00:00:00Z</td>\n",
       "      <td>winter</td>\n",
       "      <td>17.0</td>\n",
       "      <td>NaN</td>\n",
       "      <td>female</td>\n",
       "      <td>NaN</td>\n",
       "      <td>NaN</td>\n",
       "      <td>...</td>\n",
       "      <td>15.86</td>\n",
       "      <td>99.1</td>\n",
       "      <td>16.295833</td>\n",
       "      <td>86.837514</td>\n",
       "      <td>25.5</td>\n",
       "      <td>0.31</td>\n",
       "      <td>7.0</td>\n",
       "      <td>0.14</td>\n",
       "      <td>5.4</td>\n",
       "      <td>17.4</td>\n",
       "    </tr>\n",
       "    <tr>\n",
       "      <th>4</th>\n",
       "      <td>4</td>\n",
       "      <td>5</td>\n",
       "      <td>1</td>\n",
       "      <td>1995-05-18T00:00:00Z</td>\n",
       "      <td>winter</td>\n",
       "      <td>21.0</td>\n",
       "      <td>NaN</td>\n",
       "      <td>male</td>\n",
       "      <td>NaN</td>\n",
       "      <td>NaN</td>\n",
       "      <td>...</td>\n",
       "      <td>15.86</td>\n",
       "      <td>99.1</td>\n",
       "      <td>16.295833</td>\n",
       "      <td>86.837514</td>\n",
       "      <td>26.0</td>\n",
       "      <td>0.05</td>\n",
       "      <td>5.0</td>\n",
       "      <td>-0.06</td>\n",
       "      <td>5.1</td>\n",
       "      <td>17.4</td>\n",
       "    </tr>\n",
       "  </tbody>\n",
       "</table>\n",
       "<p>5 rows × 52 columns</p>\n",
       "</div>"
      ],
      "text/plain": [
       "   index  record_id  building_id             timestamp  season subject_id  \\\n",
       "0      0          1            1  1995-05-18T00:00:00Z  winter       10.0   \n",
       "1      1          2            1  1995-05-18T00:00:00Z  winter       14.0   \n",
       "2      2          3            1  1995-05-18T00:00:00Z  winter       15.0   \n",
       "3      3          4            1  1995-05-18T00:00:00Z  winter       17.0   \n",
       "4      4          5            1  1995-05-18T00:00:00Z  winter       21.0   \n",
       "\n",
       "   age  gender  ht  wt  ...  t_out  rh_out  t_out_isd  rh_out_isd   set   pmv  \\\n",
       "0  NaN  female NaN NaN  ...  15.86    99.1  16.295833   86.837514  28.1  0.50   \n",
       "1  NaN  female NaN NaN  ...  15.86    99.1  16.295833   86.837514  27.2  0.40   \n",
       "2  NaN  female NaN NaN  ...  15.86    99.1  16.295833   86.837514  24.8 -0.07   \n",
       "3  NaN  female NaN NaN  ...  15.86    99.1  16.295833   86.837514  25.5  0.31   \n",
       "4  NaN    male NaN NaN  ...  15.86    99.1  16.295833   86.837514  26.0  0.05   \n",
       "\n",
       "    ppd  pmv_ce  ppd_ce  t_mot_isd  \n",
       "0  10.2    0.38     8.0       17.4  \n",
       "1   8.4    0.40     8.4       17.4  \n",
       "2   5.1   -0.07     5.1       17.4  \n",
       "3   7.0    0.14     5.4       17.4  \n",
       "4   5.0   -0.06     5.1       17.4  \n",
       "\n",
       "[5 rows x 52 columns]"
      ]
     },
     "execution_count": 16,
     "metadata": {},
     "output_type": "execute_result"
    }
   ],
   "source": [
    "df.head()"
   ]
  },
  {
   "cell_type": "code",
   "execution_count": 17,
   "metadata": {},
   "outputs": [
    {
     "data": {
      "text/plain": [
       "109033"
      ]
     },
     "execution_count": 17,
     "metadata": {},
     "output_type": "execute_result"
    }
   ],
   "source": [
    "len(df)"
   ]
  },
  {
   "cell_type": "code",
   "execution_count": 61,
   "metadata": {},
   "outputs": [
    {
     "data": {
      "text/html": [
       "<div>\n",
       "<style scoped>\n",
       "    .dataframe tbody tr th:only-of-type {\n",
       "        vertical-align: middle;\n",
       "    }\n",
       "\n",
       "    .dataframe tbody tr th {\n",
       "        vertical-align: top;\n",
       "    }\n",
       "\n",
       "    .dataframe thead th {\n",
       "        text-align: right;\n",
       "    }\n",
       "</style>\n",
       "<table border=\"1\" class=\"dataframe\">\n",
       "  <thead>\n",
       "    <tr style=\"text-align: right;\">\n",
       "      <th></th>\n",
       "      <th>index</th>\n",
       "      <th>record_id</th>\n",
       "      <th>building_id</th>\n",
       "      <th>timestamp</th>\n",
       "      <th>season</th>\n",
       "      <th>subject_id</th>\n",
       "      <th>age</th>\n",
       "      <th>gender</th>\n",
       "      <th>ht</th>\n",
       "      <th>wt</th>\n",
       "      <th>...</th>\n",
       "      <th>t_out</th>\n",
       "      <th>rh_out</th>\n",
       "      <th>t_out_isd</th>\n",
       "      <th>rh_out_isd</th>\n",
       "      <th>set</th>\n",
       "      <th>pmv</th>\n",
       "      <th>ppd</th>\n",
       "      <th>pmv_ce</th>\n",
       "      <th>ppd_ce</th>\n",
       "      <th>t_mot_isd</th>\n",
       "    </tr>\n",
       "  </thead>\n",
       "  <tbody>\n",
       "    <tr>\n",
       "      <th>15566</th>\n",
       "      <td>15570</td>\n",
       "      <td>15571</td>\n",
       "      <td>166</td>\n",
       "      <td>2018-08-19T00:00:00Z</td>\n",
       "      <td>hot/wet</td>\n",
       "      <td>NaN</td>\n",
       "      <td>25.0</td>\n",
       "      <td>female</td>\n",
       "      <td>NaN</td>\n",
       "      <td>NaN</td>\n",
       "      <td>...</td>\n",
       "      <td>27.59</td>\n",
       "      <td>NaN</td>\n",
       "      <td>27.594444</td>\n",
       "      <td>85.450224</td>\n",
       "      <td>NaN</td>\n",
       "      <td>NaN</td>\n",
       "      <td>NaN</td>\n",
       "      <td>NaN</td>\n",
       "      <td>NaN</td>\n",
       "      <td>27.5</td>\n",
       "    </tr>\n",
       "    <tr>\n",
       "      <th>15567</th>\n",
       "      <td>15571</td>\n",
       "      <td>15572</td>\n",
       "      <td>166</td>\n",
       "      <td>2018-08-19T00:00:00Z</td>\n",
       "      <td>hot/wet</td>\n",
       "      <td>NaN</td>\n",
       "      <td>25.0</td>\n",
       "      <td>female</td>\n",
       "      <td>NaN</td>\n",
       "      <td>NaN</td>\n",
       "      <td>...</td>\n",
       "      <td>27.59</td>\n",
       "      <td>NaN</td>\n",
       "      <td>27.594444</td>\n",
       "      <td>85.450224</td>\n",
       "      <td>NaN</td>\n",
       "      <td>NaN</td>\n",
       "      <td>NaN</td>\n",
       "      <td>NaN</td>\n",
       "      <td>NaN</td>\n",
       "      <td>27.5</td>\n",
       "    </tr>\n",
       "    <tr>\n",
       "      <th>15568</th>\n",
       "      <td>15572</td>\n",
       "      <td>15573</td>\n",
       "      <td>166</td>\n",
       "      <td>2018-08-19T00:00:00Z</td>\n",
       "      <td>hot/wet</td>\n",
       "      <td>NaN</td>\n",
       "      <td>25.0</td>\n",
       "      <td>female</td>\n",
       "      <td>NaN</td>\n",
       "      <td>NaN</td>\n",
       "      <td>...</td>\n",
       "      <td>27.59</td>\n",
       "      <td>NaN</td>\n",
       "      <td>27.594444</td>\n",
       "      <td>85.450224</td>\n",
       "      <td>NaN</td>\n",
       "      <td>NaN</td>\n",
       "      <td>NaN</td>\n",
       "      <td>NaN</td>\n",
       "      <td>NaN</td>\n",
       "      <td>27.5</td>\n",
       "    </tr>\n",
       "    <tr>\n",
       "      <th>15569</th>\n",
       "      <td>15573</td>\n",
       "      <td>15574</td>\n",
       "      <td>166</td>\n",
       "      <td>2018-08-19T00:00:00Z</td>\n",
       "      <td>hot/wet</td>\n",
       "      <td>NaN</td>\n",
       "      <td>30.0</td>\n",
       "      <td>male</td>\n",
       "      <td>NaN</td>\n",
       "      <td>NaN</td>\n",
       "      <td>...</td>\n",
       "      <td>27.59</td>\n",
       "      <td>NaN</td>\n",
       "      <td>27.594444</td>\n",
       "      <td>85.450224</td>\n",
       "      <td>NaN</td>\n",
       "      <td>NaN</td>\n",
       "      <td>NaN</td>\n",
       "      <td>NaN</td>\n",
       "      <td>NaN</td>\n",
       "      <td>27.5</td>\n",
       "    </tr>\n",
       "    <tr>\n",
       "      <th>15570</th>\n",
       "      <td>15574</td>\n",
       "      <td>15575</td>\n",
       "      <td>166</td>\n",
       "      <td>2018-08-19T00:00:00Z</td>\n",
       "      <td>hot/wet</td>\n",
       "      <td>NaN</td>\n",
       "      <td>30.0</td>\n",
       "      <td>male</td>\n",
       "      <td>NaN</td>\n",
       "      <td>NaN</td>\n",
       "      <td>...</td>\n",
       "      <td>27.59</td>\n",
       "      <td>NaN</td>\n",
       "      <td>27.594444</td>\n",
       "      <td>85.450224</td>\n",
       "      <td>NaN</td>\n",
       "      <td>NaN</td>\n",
       "      <td>NaN</td>\n",
       "      <td>NaN</td>\n",
       "      <td>NaN</td>\n",
       "      <td>27.5</td>\n",
       "    </tr>\n",
       "  </tbody>\n",
       "</table>\n",
       "<p>5 rows × 52 columns</p>\n",
       "</div>"
      ],
      "text/plain": [
       "       index  record_id  building_id             timestamp   season  \\\n",
       "15566  15570      15571          166  2018-08-19T00:00:00Z  hot/wet   \n",
       "15567  15571      15572          166  2018-08-19T00:00:00Z  hot/wet   \n",
       "15568  15572      15573          166  2018-08-19T00:00:00Z  hot/wet   \n",
       "15569  15573      15574          166  2018-08-19T00:00:00Z  hot/wet   \n",
       "15570  15574      15575          166  2018-08-19T00:00:00Z  hot/wet   \n",
       "\n",
       "      subject_id   age  gender  ht  wt  ...  t_out  rh_out  t_out_isd  \\\n",
       "15566        NaN  25.0  female NaN NaN  ...  27.59     NaN  27.594444   \n",
       "15567        NaN  25.0  female NaN NaN  ...  27.59     NaN  27.594444   \n",
       "15568        NaN  25.0  female NaN NaN  ...  27.59     NaN  27.594444   \n",
       "15569        NaN  30.0    male NaN NaN  ...  27.59     NaN  27.594444   \n",
       "15570        NaN  30.0    male NaN NaN  ...  27.59     NaN  27.594444   \n",
       "\n",
       "       rh_out_isd  set  pmv  ppd  pmv_ce  ppd_ce  t_mot_isd  \n",
       "15566   85.450224  NaN  NaN  NaN     NaN     NaN       27.5  \n",
       "15567   85.450224  NaN  NaN  NaN     NaN     NaN       27.5  \n",
       "15568   85.450224  NaN  NaN  NaN     NaN     NaN       27.5  \n",
       "15569   85.450224  NaN  NaN  NaN     NaN     NaN       27.5  \n",
       "15570   85.450224  NaN  NaN  NaN     NaN     NaN       27.5  \n",
       "\n",
       "[5 rows x 52 columns]"
      ]
     },
     "execution_count": 61,
     "metadata": {},
     "output_type": "execute_result"
    }
   ],
   "source": [
    "df_windows = df.dropna(subset=[\"window\", \"timestamp\"], axis=0)\n",
    "df_windows.head()"
   ]
  },
  {
   "cell_type": "code",
   "execution_count": 62,
   "metadata": {},
   "outputs": [
    {
     "data": {
      "text/html": [
       "<div>\n",
       "<style scoped>\n",
       "    .dataframe tbody tr th:only-of-type {\n",
       "        vertical-align: middle;\n",
       "    }\n",
       "\n",
       "    .dataframe tbody tr th {\n",
       "        vertical-align: top;\n",
       "    }\n",
       "\n",
       "    .dataframe thead th {\n",
       "        text-align: right;\n",
       "    }\n",
       "</style>\n",
       "<table border=\"1\" class=\"dataframe\">\n",
       "  <thead>\n",
       "    <tr style=\"text-align: right;\">\n",
       "      <th></th>\n",
       "      <th>index</th>\n",
       "      <th>record_id</th>\n",
       "      <th>timestamp</th>\n",
       "      <th>season</th>\n",
       "      <th>subject_id</th>\n",
       "      <th>age</th>\n",
       "      <th>gender</th>\n",
       "      <th>ht</th>\n",
       "      <th>wt</th>\n",
       "      <th>ta</th>\n",
       "      <th>...</th>\n",
       "      <th>t_out</th>\n",
       "      <th>rh_out</th>\n",
       "      <th>t_out_isd</th>\n",
       "      <th>rh_out_isd</th>\n",
       "      <th>set</th>\n",
       "      <th>pmv</th>\n",
       "      <th>ppd</th>\n",
       "      <th>pmv_ce</th>\n",
       "      <th>ppd_ce</th>\n",
       "      <th>t_mot_isd</th>\n",
       "    </tr>\n",
       "    <tr>\n",
       "      <th>building_id</th>\n",
       "      <th></th>\n",
       "      <th></th>\n",
       "      <th></th>\n",
       "      <th></th>\n",
       "      <th></th>\n",
       "      <th></th>\n",
       "      <th></th>\n",
       "      <th></th>\n",
       "      <th></th>\n",
       "      <th></th>\n",
       "      <th></th>\n",
       "      <th></th>\n",
       "      <th></th>\n",
       "      <th></th>\n",
       "      <th></th>\n",
       "      <th></th>\n",
       "      <th></th>\n",
       "      <th></th>\n",
       "      <th></th>\n",
       "      <th></th>\n",
       "      <th></th>\n",
       "    </tr>\n",
       "  </thead>\n",
       "  <tbody>\n",
       "    <tr>\n",
       "      <th>166</th>\n",
       "      <td>339</td>\n",
       "      <td>339</td>\n",
       "      <td>339</td>\n",
       "      <td>339</td>\n",
       "      <td>0</td>\n",
       "      <td>339</td>\n",
       "      <td>339</td>\n",
       "      <td>0</td>\n",
       "      <td>0</td>\n",
       "      <td>339</td>\n",
       "      <td>...</td>\n",
       "      <td>339</td>\n",
       "      <td>0</td>\n",
       "      <td>339</td>\n",
       "      <td>339</td>\n",
       "      <td>0</td>\n",
       "      <td>0</td>\n",
       "      <td>0</td>\n",
       "      <td>0</td>\n",
       "      <td>0</td>\n",
       "      <td>339</td>\n",
       "    </tr>\n",
       "    <tr>\n",
       "      <th>167</th>\n",
       "      <td>366</td>\n",
       "      <td>366</td>\n",
       "      <td>366</td>\n",
       "      <td>366</td>\n",
       "      <td>0</td>\n",
       "      <td>366</td>\n",
       "      <td>366</td>\n",
       "      <td>0</td>\n",
       "      <td>0</td>\n",
       "      <td>366</td>\n",
       "      <td>...</td>\n",
       "      <td>366</td>\n",
       "      <td>0</td>\n",
       "      <td>366</td>\n",
       "      <td>366</td>\n",
       "      <td>0</td>\n",
       "      <td>0</td>\n",
       "      <td>0</td>\n",
       "      <td>0</td>\n",
       "      <td>0</td>\n",
       "      <td>366</td>\n",
       "    </tr>\n",
       "    <tr>\n",
       "      <th>200</th>\n",
       "      <td>79</td>\n",
       "      <td>79</td>\n",
       "      <td>79</td>\n",
       "      <td>79</td>\n",
       "      <td>79</td>\n",
       "      <td>0</td>\n",
       "      <td>79</td>\n",
       "      <td>0</td>\n",
       "      <td>0</td>\n",
       "      <td>79</td>\n",
       "      <td>...</td>\n",
       "      <td>79</td>\n",
       "      <td>79</td>\n",
       "      <td>79</td>\n",
       "      <td>73</td>\n",
       "      <td>0</td>\n",
       "      <td>0</td>\n",
       "      <td>0</td>\n",
       "      <td>0</td>\n",
       "      <td>0</td>\n",
       "      <td>79</td>\n",
       "    </tr>\n",
       "    <tr>\n",
       "      <th>201</th>\n",
       "      <td>110</td>\n",
       "      <td>110</td>\n",
       "      <td>110</td>\n",
       "      <td>110</td>\n",
       "      <td>110</td>\n",
       "      <td>0</td>\n",
       "      <td>107</td>\n",
       "      <td>0</td>\n",
       "      <td>0</td>\n",
       "      <td>110</td>\n",
       "      <td>...</td>\n",
       "      <td>110</td>\n",
       "      <td>110</td>\n",
       "      <td>110</td>\n",
       "      <td>110</td>\n",
       "      <td>0</td>\n",
       "      <td>0</td>\n",
       "      <td>0</td>\n",
       "      <td>0</td>\n",
       "      <td>0</td>\n",
       "      <td>110</td>\n",
       "    </tr>\n",
       "    <tr>\n",
       "      <th>202</th>\n",
       "      <td>60</td>\n",
       "      <td>60</td>\n",
       "      <td>60</td>\n",
       "      <td>60</td>\n",
       "      <td>60</td>\n",
       "      <td>0</td>\n",
       "      <td>60</td>\n",
       "      <td>0</td>\n",
       "      <td>0</td>\n",
       "      <td>60</td>\n",
       "      <td>...</td>\n",
       "      <td>60</td>\n",
       "      <td>60</td>\n",
       "      <td>60</td>\n",
       "      <td>60</td>\n",
       "      <td>0</td>\n",
       "      <td>0</td>\n",
       "      <td>0</td>\n",
       "      <td>0</td>\n",
       "      <td>0</td>\n",
       "      <td>60</td>\n",
       "    </tr>\n",
       "  </tbody>\n",
       "</table>\n",
       "<p>5 rows × 51 columns</p>\n",
       "</div>"
      ],
      "text/plain": [
       "             index  record_id  timestamp  season  subject_id  age  gender  ht  \\\n",
       "building_id                                                                     \n",
       "166            339        339        339     339           0  339     339   0   \n",
       "167            366        366        366     366           0  366     366   0   \n",
       "200             79         79         79      79          79    0      79   0   \n",
       "201            110        110        110     110         110    0     107   0   \n",
       "202             60         60         60      60          60    0      60   0   \n",
       "\n",
       "             wt   ta  ...  t_out  rh_out  t_out_isd  rh_out_isd  set  pmv  \\\n",
       "building_id           ...                                                   \n",
       "166           0  339  ...    339       0        339         339    0    0   \n",
       "167           0  366  ...    366       0        366         366    0    0   \n",
       "200           0   79  ...     79      79         79          73    0    0   \n",
       "201           0  110  ...    110     110        110         110    0    0   \n",
       "202           0   60  ...     60      60         60          60    0    0   \n",
       "\n",
       "             ppd  pmv_ce  ppd_ce  t_mot_isd  \n",
       "building_id                                  \n",
       "166            0       0       0        339  \n",
       "167            0       0       0        366  \n",
       "200            0       0       0         79  \n",
       "201            0       0       0        110  \n",
       "202            0       0       0         60  \n",
       "\n",
       "[5 rows x 51 columns]"
      ]
     },
     "execution_count": 62,
     "metadata": {},
     "output_type": "execute_result"
    }
   ],
   "source": [
    "building_id_count = df_windows.groupby(\"building_id\").count()\n",
    "building_id_count.head()"
   ]
  },
  {
   "cell_type": "code",
   "execution_count": 41,
   "metadata": {},
   "outputs": [
    {
     "data": {
      "application/vnd.plotly.v1+json": {
       "config": {
        "plotlyServerURL": "https://plotly.com"
       },
       "data": [
        {
         "type": "bar",
         "x": [
          166,
          167,
          200,
          201,
          202,
          203,
          204,
          205,
          206,
          207,
          208,
          209,
          210,
          211,
          212,
          213,
          214,
          215,
          216,
          217,
          218,
          219,
          220,
          221,
          222,
          223,
          224,
          225,
          226,
          227,
          228,
          229,
          230,
          231,
          232,
          233,
          234,
          235,
          236,
          237,
          238,
          239,
          240,
          241,
          242,
          243,
          244,
          245,
          246,
          247,
          248,
          249,
          250,
          251,
          252,
          253,
          254,
          255,
          256,
          257,
          258,
          259,
          260,
          261,
          262,
          263,
          264,
          265,
          266,
          267,
          268,
          269,
          270,
          271,
          272,
          273,
          274,
          275,
          276,
          277,
          278,
          279,
          280,
          281,
          282,
          283,
          284,
          285,
          286,
          287,
          288,
          289,
          290,
          291,
          292,
          293,
          294,
          295,
          296,
          297,
          298,
          299,
          300,
          301,
          302,
          303,
          304,
          305,
          306,
          307,
          308,
          309,
          310,
          311,
          312,
          313,
          314,
          315,
          316,
          317,
          318,
          319,
          320,
          321,
          322,
          323,
          324,
          325,
          326,
          327,
          328,
          329,
          330,
          331,
          332,
          333,
          334,
          335,
          336,
          337,
          338,
          339,
          340,
          341,
          342,
          343,
          344,
          345,
          346,
          347,
          348,
          349,
          350,
          351,
          352,
          353,
          354,
          355,
          356,
          357,
          358,
          359,
          360,
          361,
          362,
          363,
          364,
          365,
          366,
          367,
          368,
          369,
          370,
          371,
          372,
          373,
          374,
          375,
          376,
          377,
          378,
          379,
          380,
          381,
          382,
          383,
          384,
          385,
          386,
          387,
          388,
          389,
          390,
          391,
          392,
          393,
          394,
          395,
          396,
          397,
          398,
          399,
          400,
          401,
          402,
          403,
          404,
          405,
          406,
          407,
          408,
          409,
          410,
          411,
          412,
          413,
          414,
          415,
          416,
          417,
          418,
          419,
          420,
          421,
          422,
          423,
          424,
          425,
          426,
          427,
          428,
          429,
          430,
          431,
          432,
          433,
          434,
          435,
          436,
          437,
          438,
          439,
          440,
          441,
          442,
          443,
          444,
          445,
          446,
          447,
          448,
          449,
          450,
          451,
          452,
          453,
          454,
          455,
          456,
          457,
          458,
          459,
          460,
          461,
          462,
          463,
          464,
          465,
          466,
          467,
          468,
          469,
          470,
          471,
          472,
          473,
          474,
          475,
          476,
          477,
          478,
          479,
          480,
          481,
          482,
          483,
          484,
          485,
          486,
          487,
          488,
          489,
          490,
          491,
          492,
          493,
          494,
          495,
          496,
          497,
          498,
          499,
          500,
          501,
          502,
          503,
          504,
          505,
          506,
          507,
          508,
          509,
          510,
          511,
          512,
          513,
          514,
          515,
          516,
          517,
          518,
          519,
          520,
          521,
          522,
          543,
          544,
          545,
          546,
          557,
          598,
          599,
          600,
          601,
          602,
          603,
          604,
          605,
          606,
          607,
          608,
          609,
          610,
          611,
          612,
          613,
          614,
          623,
          624,
          628,
          629,
          630,
          631,
          632,
          637,
          639,
          640,
          641,
          642,
          644,
          646,
          648,
          650,
          651,
          653,
          654,
          655,
          656,
          657,
          658,
          659,
          660,
          661,
          662,
          669,
          670,
          676,
          677,
          682,
          683,
          684,
          685,
          686,
          687,
          688,
          689,
          690,
          691,
          692,
          693,
          694,
          695,
          696,
          697,
          698,
          699,
          700,
          701,
          787,
          788
         ],
         "y": [
          339,
          366,
          79,
          110,
          60,
          59,
          21,
          8,
          27,
          15,
          153,
          1,
          65,
          45,
          29,
          52,
          38,
          158,
          10,
          106,
          55,
          32,
          91,
          17,
          53,
          19,
          20,
          12,
          26,
          83,
          106,
          5,
          15,
          8,
          19,
          7,
          2,
          14,
          50,
          1,
          14,
          8,
          2,
          15,
          11,
          12,
          18,
          2,
          2,
          2,
          8,
          1,
          7,
          14,
          12,
          17,
          4,
          2,
          5,
          1,
          3,
          3,
          4,
          3,
          5,
          2,
          2,
          6,
          7,
          21,
          2,
          6,
          2,
          9,
          6,
          4,
          5,
          8,
          4,
          6,
          3,
          8,
          3,
          2,
          3,
          3,
          4,
          2,
          4,
          1,
          4,
          5,
          2,
          2,
          3,
          2,
          1,
          1,
          7,
          6,
          4,
          2,
          2,
          5,
          4,
          4,
          1,
          3,
          2,
          1,
          1,
          2,
          1,
          4,
          1,
          2,
          1,
          1,
          3,
          2,
          1,
          2,
          2,
          2,
          6,
          1,
          1,
          1,
          1,
          1,
          28,
          24,
          18,
          14,
          16,
          16,
          19,
          16,
          19,
          13,
          12,
          24,
          31,
          25,
          24,
          30,
          15,
          19,
          17,
          34,
          25,
          17,
          28,
          15,
          22,
          15,
          19,
          26,
          13,
          13,
          16,
          2,
          13,
          3,
          2,
          18,
          2,
          16,
          6,
          3,
          3,
          12,
          2,
          4,
          19,
          2,
          9,
          8,
          6,
          5,
          3,
          10,
          4,
          3,
          12,
          5,
          5,
          2,
          8,
          9,
          1,
          2,
          4,
          2,
          4,
          7,
          3,
          7,
          6,
          9,
          5,
          9,
          9,
          6,
          12,
          15,
          6,
          10,
          6,
          4,
          7,
          8,
          6,
          4,
          3,
          4,
          4,
          4,
          5,
          3,
          4,
          5,
          6,
          6,
          4,
          6,
          2,
          6,
          4,
          2,
          8,
          8,
          7,
          8,
          4,
          6,
          8,
          4,
          7,
          4,
          5,
          8,
          4,
          6,
          4,
          2,
          10,
          5,
          4,
          9,
          1,
          3,
          2,
          2,
          2,
          2,
          3,
          2,
          1,
          3,
          2,
          3,
          5,
          2,
          1,
          8,
          6,
          6,
          16,
          27,
          14,
          15,
          2,
          19,
          10,
          9,
          23,
          4,
          11,
          13,
          3,
          9,
          13,
          5,
          10,
          21,
          12,
          8,
          5,
          14,
          10,
          15,
          6,
          11,
          6,
          8,
          11,
          4,
          6,
          4,
          2,
          7,
          7,
          6,
          5,
          4,
          2,
          5,
          2,
          2,
          1,
          11,
          3,
          2,
          4,
          8,
          2,
          2,
          3,
          10,
          2,
          2,
          1,
          1,
          2,
          46,
          36,
          37,
          52,
          421,
          2069,
          368,
          246,
          222,
          906,
          1225,
          449,
          367,
          43,
          27,
          10,
          399,
          335,
          7,
          9,
          47,
          13,
          212,
          142,
          195,
          132,
          136,
          60,
          105,
          104,
          360,
          32,
          15,
          11,
          94,
          660,
          53,
          474,
          113,
          101,
          1527,
          151,
          1127,
          11,
          1128,
          39,
          12,
          609,
          21,
          147,
          71,
          49,
          23,
          451,
          130,
          295,
          162,
          69,
          298,
          88,
          109,
          106,
          179,
          31,
          71,
          87,
          412,
          97,
          191,
          393,
          403,
          157,
          179,
          221,
          178
         ]
        }
       ],
       "layout": {
        "template": {
         "data": {
          "bar": [
           {
            "error_x": {
             "color": "#2a3f5f"
            },
            "error_y": {
             "color": "#2a3f5f"
            },
            "marker": {
             "line": {
              "color": "#E5ECF6",
              "width": 0.5
             },
             "pattern": {
              "fillmode": "overlay",
              "size": 10,
              "solidity": 0.2
             }
            },
            "type": "bar"
           }
          ],
          "barpolar": [
           {
            "marker": {
             "line": {
              "color": "#E5ECF6",
              "width": 0.5
             },
             "pattern": {
              "fillmode": "overlay",
              "size": 10,
              "solidity": 0.2
             }
            },
            "type": "barpolar"
           }
          ],
          "carpet": [
           {
            "aaxis": {
             "endlinecolor": "#2a3f5f",
             "gridcolor": "white",
             "linecolor": "white",
             "minorgridcolor": "white",
             "startlinecolor": "#2a3f5f"
            },
            "baxis": {
             "endlinecolor": "#2a3f5f",
             "gridcolor": "white",
             "linecolor": "white",
             "minorgridcolor": "white",
             "startlinecolor": "#2a3f5f"
            },
            "type": "carpet"
           }
          ],
          "choropleth": [
           {
            "colorbar": {
             "outlinewidth": 0,
             "ticks": ""
            },
            "type": "choropleth"
           }
          ],
          "contour": [
           {
            "colorbar": {
             "outlinewidth": 0,
             "ticks": ""
            },
            "colorscale": [
             [
              0,
              "#0d0887"
             ],
             [
              0.1111111111111111,
              "#46039f"
             ],
             [
              0.2222222222222222,
              "#7201a8"
             ],
             [
              0.3333333333333333,
              "#9c179e"
             ],
             [
              0.4444444444444444,
              "#bd3786"
             ],
             [
              0.5555555555555556,
              "#d8576b"
             ],
             [
              0.6666666666666666,
              "#ed7953"
             ],
             [
              0.7777777777777778,
              "#fb9f3a"
             ],
             [
              0.8888888888888888,
              "#fdca26"
             ],
             [
              1,
              "#f0f921"
             ]
            ],
            "type": "contour"
           }
          ],
          "contourcarpet": [
           {
            "colorbar": {
             "outlinewidth": 0,
             "ticks": ""
            },
            "type": "contourcarpet"
           }
          ],
          "heatmap": [
           {
            "colorbar": {
             "outlinewidth": 0,
             "ticks": ""
            },
            "colorscale": [
             [
              0,
              "#0d0887"
             ],
             [
              0.1111111111111111,
              "#46039f"
             ],
             [
              0.2222222222222222,
              "#7201a8"
             ],
             [
              0.3333333333333333,
              "#9c179e"
             ],
             [
              0.4444444444444444,
              "#bd3786"
             ],
             [
              0.5555555555555556,
              "#d8576b"
             ],
             [
              0.6666666666666666,
              "#ed7953"
             ],
             [
              0.7777777777777778,
              "#fb9f3a"
             ],
             [
              0.8888888888888888,
              "#fdca26"
             ],
             [
              1,
              "#f0f921"
             ]
            ],
            "type": "heatmap"
           }
          ],
          "heatmapgl": [
           {
            "colorbar": {
             "outlinewidth": 0,
             "ticks": ""
            },
            "colorscale": [
             [
              0,
              "#0d0887"
             ],
             [
              0.1111111111111111,
              "#46039f"
             ],
             [
              0.2222222222222222,
              "#7201a8"
             ],
             [
              0.3333333333333333,
              "#9c179e"
             ],
             [
              0.4444444444444444,
              "#bd3786"
             ],
             [
              0.5555555555555556,
              "#d8576b"
             ],
             [
              0.6666666666666666,
              "#ed7953"
             ],
             [
              0.7777777777777778,
              "#fb9f3a"
             ],
             [
              0.8888888888888888,
              "#fdca26"
             ],
             [
              1,
              "#f0f921"
             ]
            ],
            "type": "heatmapgl"
           }
          ],
          "histogram": [
           {
            "marker": {
             "pattern": {
              "fillmode": "overlay",
              "size": 10,
              "solidity": 0.2
             }
            },
            "type": "histogram"
           }
          ],
          "histogram2d": [
           {
            "colorbar": {
             "outlinewidth": 0,
             "ticks": ""
            },
            "colorscale": [
             [
              0,
              "#0d0887"
             ],
             [
              0.1111111111111111,
              "#46039f"
             ],
             [
              0.2222222222222222,
              "#7201a8"
             ],
             [
              0.3333333333333333,
              "#9c179e"
             ],
             [
              0.4444444444444444,
              "#bd3786"
             ],
             [
              0.5555555555555556,
              "#d8576b"
             ],
             [
              0.6666666666666666,
              "#ed7953"
             ],
             [
              0.7777777777777778,
              "#fb9f3a"
             ],
             [
              0.8888888888888888,
              "#fdca26"
             ],
             [
              1,
              "#f0f921"
             ]
            ],
            "type": "histogram2d"
           }
          ],
          "histogram2dcontour": [
           {
            "colorbar": {
             "outlinewidth": 0,
             "ticks": ""
            },
            "colorscale": [
             [
              0,
              "#0d0887"
             ],
             [
              0.1111111111111111,
              "#46039f"
             ],
             [
              0.2222222222222222,
              "#7201a8"
             ],
             [
              0.3333333333333333,
              "#9c179e"
             ],
             [
              0.4444444444444444,
              "#bd3786"
             ],
             [
              0.5555555555555556,
              "#d8576b"
             ],
             [
              0.6666666666666666,
              "#ed7953"
             ],
             [
              0.7777777777777778,
              "#fb9f3a"
             ],
             [
              0.8888888888888888,
              "#fdca26"
             ],
             [
              1,
              "#f0f921"
             ]
            ],
            "type": "histogram2dcontour"
           }
          ],
          "mesh3d": [
           {
            "colorbar": {
             "outlinewidth": 0,
             "ticks": ""
            },
            "type": "mesh3d"
           }
          ],
          "parcoords": [
           {
            "line": {
             "colorbar": {
              "outlinewidth": 0,
              "ticks": ""
             }
            },
            "type": "parcoords"
           }
          ],
          "pie": [
           {
            "automargin": true,
            "type": "pie"
           }
          ],
          "scatter": [
           {
            "fillpattern": {
             "fillmode": "overlay",
             "size": 10,
             "solidity": 0.2
            },
            "type": "scatter"
           }
          ],
          "scatter3d": [
           {
            "line": {
             "colorbar": {
              "outlinewidth": 0,
              "ticks": ""
             }
            },
            "marker": {
             "colorbar": {
              "outlinewidth": 0,
              "ticks": ""
             }
            },
            "type": "scatter3d"
           }
          ],
          "scattercarpet": [
           {
            "marker": {
             "colorbar": {
              "outlinewidth": 0,
              "ticks": ""
             }
            },
            "type": "scattercarpet"
           }
          ],
          "scattergeo": [
           {
            "marker": {
             "colorbar": {
              "outlinewidth": 0,
              "ticks": ""
             }
            },
            "type": "scattergeo"
           }
          ],
          "scattergl": [
           {
            "marker": {
             "colorbar": {
              "outlinewidth": 0,
              "ticks": ""
             }
            },
            "type": "scattergl"
           }
          ],
          "scattermapbox": [
           {
            "marker": {
             "colorbar": {
              "outlinewidth": 0,
              "ticks": ""
             }
            },
            "type": "scattermapbox"
           }
          ],
          "scatterpolar": [
           {
            "marker": {
             "colorbar": {
              "outlinewidth": 0,
              "ticks": ""
             }
            },
            "type": "scatterpolar"
           }
          ],
          "scatterpolargl": [
           {
            "marker": {
             "colorbar": {
              "outlinewidth": 0,
              "ticks": ""
             }
            },
            "type": "scatterpolargl"
           }
          ],
          "scatterternary": [
           {
            "marker": {
             "colorbar": {
              "outlinewidth": 0,
              "ticks": ""
             }
            },
            "type": "scatterternary"
           }
          ],
          "surface": [
           {
            "colorbar": {
             "outlinewidth": 0,
             "ticks": ""
            },
            "colorscale": [
             [
              0,
              "#0d0887"
             ],
             [
              0.1111111111111111,
              "#46039f"
             ],
             [
              0.2222222222222222,
              "#7201a8"
             ],
             [
              0.3333333333333333,
              "#9c179e"
             ],
             [
              0.4444444444444444,
              "#bd3786"
             ],
             [
              0.5555555555555556,
              "#d8576b"
             ],
             [
              0.6666666666666666,
              "#ed7953"
             ],
             [
              0.7777777777777778,
              "#fb9f3a"
             ],
             [
              0.8888888888888888,
              "#fdca26"
             ],
             [
              1,
              "#f0f921"
             ]
            ],
            "type": "surface"
           }
          ],
          "table": [
           {
            "cells": {
             "fill": {
              "color": "#EBF0F8"
             },
             "line": {
              "color": "white"
             }
            },
            "header": {
             "fill": {
              "color": "#C8D4E3"
             },
             "line": {
              "color": "white"
             }
            },
            "type": "table"
           }
          ]
         },
         "layout": {
          "annotationdefaults": {
           "arrowcolor": "#2a3f5f",
           "arrowhead": 0,
           "arrowwidth": 1
          },
          "autotypenumbers": "strict",
          "coloraxis": {
           "colorbar": {
            "outlinewidth": 0,
            "ticks": ""
           }
          },
          "colorscale": {
           "diverging": [
            [
             0,
             "#8e0152"
            ],
            [
             0.1,
             "#c51b7d"
            ],
            [
             0.2,
             "#de77ae"
            ],
            [
             0.3,
             "#f1b6da"
            ],
            [
             0.4,
             "#fde0ef"
            ],
            [
             0.5,
             "#f7f7f7"
            ],
            [
             0.6,
             "#e6f5d0"
            ],
            [
             0.7,
             "#b8e186"
            ],
            [
             0.8,
             "#7fbc41"
            ],
            [
             0.9,
             "#4d9221"
            ],
            [
             1,
             "#276419"
            ]
           ],
           "sequential": [
            [
             0,
             "#0d0887"
            ],
            [
             0.1111111111111111,
             "#46039f"
            ],
            [
             0.2222222222222222,
             "#7201a8"
            ],
            [
             0.3333333333333333,
             "#9c179e"
            ],
            [
             0.4444444444444444,
             "#bd3786"
            ],
            [
             0.5555555555555556,
             "#d8576b"
            ],
            [
             0.6666666666666666,
             "#ed7953"
            ],
            [
             0.7777777777777778,
             "#fb9f3a"
            ],
            [
             0.8888888888888888,
             "#fdca26"
            ],
            [
             1,
             "#f0f921"
            ]
           ],
           "sequentialminus": [
            [
             0,
             "#0d0887"
            ],
            [
             0.1111111111111111,
             "#46039f"
            ],
            [
             0.2222222222222222,
             "#7201a8"
            ],
            [
             0.3333333333333333,
             "#9c179e"
            ],
            [
             0.4444444444444444,
             "#bd3786"
            ],
            [
             0.5555555555555556,
             "#d8576b"
            ],
            [
             0.6666666666666666,
             "#ed7953"
            ],
            [
             0.7777777777777778,
             "#fb9f3a"
            ],
            [
             0.8888888888888888,
             "#fdca26"
            ],
            [
             1,
             "#f0f921"
            ]
           ]
          },
          "colorway": [
           "#636efa",
           "#EF553B",
           "#00cc96",
           "#ab63fa",
           "#FFA15A",
           "#19d3f3",
           "#FF6692",
           "#B6E880",
           "#FF97FF",
           "#FECB52"
          ],
          "font": {
           "color": "#2a3f5f"
          },
          "geo": {
           "bgcolor": "white",
           "lakecolor": "white",
           "landcolor": "#E5ECF6",
           "showlakes": true,
           "showland": true,
           "subunitcolor": "white"
          },
          "hoverlabel": {
           "align": "left"
          },
          "hovermode": "closest",
          "mapbox": {
           "style": "light"
          },
          "paper_bgcolor": "white",
          "plot_bgcolor": "#E5ECF6",
          "polar": {
           "angularaxis": {
            "gridcolor": "white",
            "linecolor": "white",
            "ticks": ""
           },
           "bgcolor": "#E5ECF6",
           "radialaxis": {
            "gridcolor": "white",
            "linecolor": "white",
            "ticks": ""
           }
          },
          "scene": {
           "xaxis": {
            "backgroundcolor": "#E5ECF6",
            "gridcolor": "white",
            "gridwidth": 2,
            "linecolor": "white",
            "showbackground": true,
            "ticks": "",
            "zerolinecolor": "white"
           },
           "yaxis": {
            "backgroundcolor": "#E5ECF6",
            "gridcolor": "white",
            "gridwidth": 2,
            "linecolor": "white",
            "showbackground": true,
            "ticks": "",
            "zerolinecolor": "white"
           },
           "zaxis": {
            "backgroundcolor": "#E5ECF6",
            "gridcolor": "white",
            "gridwidth": 2,
            "linecolor": "white",
            "showbackground": true,
            "ticks": "",
            "zerolinecolor": "white"
           }
          },
          "shapedefaults": {
           "line": {
            "color": "#2a3f5f"
           }
          },
          "ternary": {
           "aaxis": {
            "gridcolor": "white",
            "linecolor": "white",
            "ticks": ""
           },
           "baxis": {
            "gridcolor": "white",
            "linecolor": "white",
            "ticks": ""
           },
           "bgcolor": "#E5ECF6",
           "caxis": {
            "gridcolor": "white",
            "linecolor": "white",
            "ticks": ""
           }
          },
          "title": {
           "x": 0.05
          },
          "xaxis": {
           "automargin": true,
           "gridcolor": "white",
           "linecolor": "white",
           "ticks": "",
           "title": {
            "standoff": 15
           },
           "zerolinecolor": "white",
           "zerolinewidth": 2
          },
          "yaxis": {
           "automargin": true,
           "gridcolor": "white",
           "linecolor": "white",
           "ticks": "",
           "title": {
            "standoff": 15
           },
           "zerolinecolor": "white",
           "zerolinewidth": 2
          }
         }
        },
        "xaxis": {
         "title": {
          "text": "Building Ids"
         }
        },
        "yaxis": {
         "title": {
          "text": "Number of Entries"
         },
         "type": "log"
        }
       }
      }
     },
     "metadata": {},
     "output_type": "display_data"
    }
   ],
   "source": [
    "# super quick scatter plot \n",
    "fig = go.Figure()\n",
    "fig.add_trace(go.Bar(\n",
    "    x=building_id_count[\"index\"].index,\n",
    "    y=building_id_count[\"index\"], \n",
    "))\n",
    "fig.update_layout(xaxis_title='Building Ids',\n",
    "                  yaxis_title='Number of Entries',\n",
    "                  )\n",
    "\n",
    "fig.update_yaxes(type=\"log\")\n"
   ]
  },
  {
   "cell_type": "code",
   "execution_count": 71,
   "metadata": {},
   "outputs": [
    {
     "data": {
      "text/html": [
       "<div>\n",
       "<style scoped>\n",
       "    .dataframe tbody tr th:only-of-type {\n",
       "        vertical-align: middle;\n",
       "    }\n",
       "\n",
       "    .dataframe tbody tr th {\n",
       "        vertical-align: top;\n",
       "    }\n",
       "\n",
       "    .dataframe thead th {\n",
       "        text-align: right;\n",
       "    }\n",
       "</style>\n",
       "<table border=\"1\" class=\"dataframe\">\n",
       "  <thead>\n",
       "    <tr style=\"text-align: right;\">\n",
       "      <th></th>\n",
       "      <th>building_id</th>\n",
       "      <th>timestamp</th>\n",
       "      <th>window</th>\n",
       "      <th>ta</th>\n",
       "      <th>ta_h</th>\n",
       "      <th>ta_m</th>\n",
       "      <th>ta_l</th>\n",
       "      <th>top</th>\n",
       "      <th>tr</th>\n",
       "      <th>rh</th>\n",
       "    </tr>\n",
       "  </thead>\n",
       "  <tbody>\n",
       "    <tr>\n",
       "      <th>15905</th>\n",
       "      <td>167</td>\n",
       "      <td>2018-05-19T00:00:00Z</td>\n",
       "      <td>0.0</td>\n",
       "      <td>33.3</td>\n",
       "      <td>33.3</td>\n",
       "      <td>NaN</td>\n",
       "      <td>NaN</td>\n",
       "      <td>NaN</td>\n",
       "      <td>NaN</td>\n",
       "      <td>56.6</td>\n",
       "    </tr>\n",
       "    <tr>\n",
       "      <th>15906</th>\n",
       "      <td>167</td>\n",
       "      <td>2018-05-19T00:00:00Z</td>\n",
       "      <td>1.0</td>\n",
       "      <td>32.6</td>\n",
       "      <td>32.6</td>\n",
       "      <td>NaN</td>\n",
       "      <td>NaN</td>\n",
       "      <td>NaN</td>\n",
       "      <td>NaN</td>\n",
       "      <td>62.7</td>\n",
       "    </tr>\n",
       "    <tr>\n",
       "      <th>15907</th>\n",
       "      <td>167</td>\n",
       "      <td>2018-05-19T00:00:00Z</td>\n",
       "      <td>0.0</td>\n",
       "      <td>33.3</td>\n",
       "      <td>33.3</td>\n",
       "      <td>NaN</td>\n",
       "      <td>NaN</td>\n",
       "      <td>NaN</td>\n",
       "      <td>NaN</td>\n",
       "      <td>56.5</td>\n",
       "    </tr>\n",
       "    <tr>\n",
       "      <th>15908</th>\n",
       "      <td>167</td>\n",
       "      <td>2018-05-19T00:00:00Z</td>\n",
       "      <td>1.0</td>\n",
       "      <td>32.6</td>\n",
       "      <td>32.6</td>\n",
       "      <td>NaN</td>\n",
       "      <td>NaN</td>\n",
       "      <td>NaN</td>\n",
       "      <td>NaN</td>\n",
       "      <td>62.4</td>\n",
       "    </tr>\n",
       "    <tr>\n",
       "      <th>15909</th>\n",
       "      <td>167</td>\n",
       "      <td>2018-05-19T00:00:00Z</td>\n",
       "      <td>1.0</td>\n",
       "      <td>33.3</td>\n",
       "      <td>33.3</td>\n",
       "      <td>NaN</td>\n",
       "      <td>NaN</td>\n",
       "      <td>NaN</td>\n",
       "      <td>NaN</td>\n",
       "      <td>62.0</td>\n",
       "    </tr>\n",
       "  </tbody>\n",
       "</table>\n",
       "</div>"
      ],
      "text/plain": [
       "       building_id             timestamp  window    ta  ta_h  ta_m  ta_l  top  \\\n",
       "15905          167  2018-05-19T00:00:00Z     0.0  33.3  33.3   NaN   NaN  NaN   \n",
       "15906          167  2018-05-19T00:00:00Z     1.0  32.6  32.6   NaN   NaN  NaN   \n",
       "15907          167  2018-05-19T00:00:00Z     0.0  33.3  33.3   NaN   NaN  NaN   \n",
       "15908          167  2018-05-19T00:00:00Z     1.0  32.6  32.6   NaN   NaN  NaN   \n",
       "15909          167  2018-05-19T00:00:00Z     1.0  33.3  33.3   NaN   NaN  NaN   \n",
       "\n",
       "       tr    rh  \n",
       "15905 NaN  56.6  \n",
       "15906 NaN  62.7  \n",
       "15907 NaN  56.5  \n",
       "15908 NaN  62.4  \n",
       "15909 NaN  62.0  "
      ]
     },
     "execution_count": 71,
     "metadata": {},
     "output_type": "execute_result"
    }
   ],
   "source": [
    "df01 = df_windows.loc[df_windows[\"building_id\"]== 167, [\"building_id\", \"timestamp\", \"window\", \"ta\", \"ta_h\", \"ta_m\", \"ta_l\", \"top\", \"tr\", \"rh\"]]\n",
    "df01.head()"
   ]
  },
  {
   "cell_type": "code",
   "execution_count": 60,
   "metadata": {},
   "outputs": [
    {
     "data": {
      "application/vnd.plotly.v1+json": {
       "config": {
        "plotlyServerURL": "https://plotly.com"
       },
       "data": [
        {
         "mode": "markers",
         "type": "scatter",
         "x": [
          "2018-05-19T00:00:00Z",
          "2018-05-19T00:00:00Z",
          "2018-05-19T00:00:00Z",
          "2018-05-19T00:00:00Z",
          "2018-05-19T00:00:00Z",
          "2018-05-19T00:00:00Z",
          "2018-05-19T00:00:00Z",
          "2018-05-19T00:00:00Z",
          "2018-05-19T00:00:00Z",
          "2018-05-19T00:00:00Z",
          "2018-05-19T00:00:00Z",
          "2018-05-19T00:00:00Z",
          "2018-05-19T00:00:00Z",
          "2018-05-19T00:00:00Z",
          "2018-09-02T00:00:00Z",
          "2018-09-02T00:00:00Z",
          "2018-09-02T00:00:00Z",
          "2018-09-02T00:00:00Z",
          "2018-09-02T00:00:00Z",
          "2018-09-02T00:00:00Z",
          "2018-09-02T00:00:00Z",
          "2018-09-02T00:00:00Z",
          "2018-09-02T00:00:00Z",
          "2018-09-02T00:00:00Z",
          "2018-09-02T00:00:00Z",
          "2018-09-02T00:00:00Z",
          "2018-09-02T00:00:00Z",
          "2018-09-02T00:00:00Z",
          "2018-09-02T00:00:00Z",
          "2018-09-02T00:00:00Z",
          "2018-09-02T00:00:00Z",
          "2018-09-02T00:00:00Z",
          "2018-09-02T00:00:00Z",
          "2018-09-02T00:00:00Z",
          "2018-09-02T00:00:00Z",
          "2018-09-02T00:00:00Z",
          "2018-09-02T00:00:00Z",
          "2018-09-02T00:00:00Z",
          "2018-09-02T00:00:00Z",
          "2018-09-02T00:00:00Z",
          "2018-09-02T00:00:00Z",
          "2018-09-02T00:00:00Z",
          "2018-09-02T00:00:00Z",
          "2018-09-02T00:00:00Z",
          "2018-09-02T00:00:00Z",
          "2018-09-02T00:00:00Z",
          "2018-09-02T00:00:00Z",
          "2018-09-02T00:00:00Z",
          "2018-09-02T00:00:00Z",
          "2018-09-02T00:00:00Z",
          "2018-09-02T00:00:00Z",
          "2018-09-02T00:00:00Z",
          "2018-09-02T00:00:00Z",
          "2018-09-02T00:00:00Z",
          "2018-09-02T00:00:00Z",
          "2018-09-02T00:00:00Z",
          "2018-09-04T00:00:00Z",
          "2018-09-04T00:00:00Z",
          "2018-09-04T00:00:00Z",
          "2018-09-04T00:00:00Z",
          "2018-09-04T00:00:00Z",
          "2018-09-04T00:00:00Z",
          "2018-09-04T00:00:00Z",
          "2018-09-04T00:00:00Z",
          "2018-09-04T00:00:00Z",
          "2018-09-04T00:00:00Z",
          "2018-09-04T00:00:00Z",
          "2018-09-04T00:00:00Z",
          "2018-09-04T00:00:00Z",
          "2018-09-04T00:00:00Z",
          "2018-09-04T00:00:00Z",
          "2018-09-04T00:00:00Z",
          "2018-09-04T00:00:00Z",
          "2018-09-04T00:00:00Z",
          "2018-09-04T00:00:00Z",
          "2018-09-04T00:00:00Z",
          "2018-09-04T00:00:00Z",
          "2018-09-04T00:00:00Z",
          "2018-09-04T00:00:00Z",
          "2018-09-04T00:00:00Z",
          "2018-09-04T00:00:00Z",
          "2018-09-04T00:00:00Z",
          "2018-09-04T00:00:00Z",
          "2018-09-04T00:00:00Z",
          "2018-09-04T00:00:00Z",
          "2018-09-04T00:00:00Z",
          "2018-09-04T00:00:00Z",
          "2018-09-04T00:00:00Z",
          "2018-09-04T00:00:00Z",
          "2018-09-04T00:00:00Z",
          "2018-09-04T00:00:00Z",
          "2018-09-04T00:00:00Z",
          "2018-09-04T00:00:00Z",
          "2018-09-04T00:00:00Z",
          "2018-09-04T00:00:00Z",
          "2018-09-04T00:00:00Z",
          "2018-09-04T00:00:00Z",
          "2018-09-04T00:00:00Z",
          "2018-09-04T00:00:00Z",
          "2018-09-04T00:00:00Z",
          "2018-09-11T00:00:00Z",
          "2018-09-11T00:00:00Z",
          "2018-09-11T00:00:00Z",
          "2018-09-11T00:00:00Z",
          "2018-09-11T00:00:00Z",
          "2018-09-11T00:00:00Z",
          "2018-09-11T00:00:00Z",
          "2018-09-11T00:00:00Z",
          "2018-09-11T00:00:00Z",
          "2018-09-11T00:00:00Z",
          "2018-09-11T00:00:00Z",
          "2018-09-11T00:00:00Z",
          "2018-09-11T00:00:00Z",
          "2018-09-11T00:00:00Z",
          "2018-09-11T00:00:00Z",
          "2018-09-11T00:00:00Z",
          "2018-09-11T00:00:00Z",
          "2018-09-11T00:00:00Z",
          "2018-09-11T00:00:00Z",
          "2018-09-11T00:00:00Z",
          "2018-09-11T00:00:00Z",
          "2018-09-11T00:00:00Z",
          "2018-09-11T00:00:00Z",
          "2018-09-11T00:00:00Z",
          "2018-09-11T00:00:00Z",
          "2018-09-11T00:00:00Z",
          "2018-09-11T00:00:00Z",
          "2018-09-11T00:00:00Z",
          "2018-09-11T00:00:00Z",
          "2018-09-11T00:00:00Z",
          "2018-09-11T00:00:00Z",
          "2018-09-11T00:00:00Z",
          "2018-09-11T00:00:00Z",
          "2018-09-11T00:00:00Z",
          "2018-09-11T00:00:00Z",
          "2018-09-11T00:00:00Z",
          "2018-09-11T00:00:00Z",
          "2018-09-11T00:00:00Z",
          "2018-09-11T00:00:00Z",
          "2018-09-11T00:00:00Z",
          "2018-09-11T00:00:00Z",
          "2018-09-11T00:00:00Z",
          "2018-09-11T00:00:00Z",
          "2018-09-11T00:00:00Z",
          "2018-09-11T00:00:00Z",
          "2018-09-11T00:00:00Z",
          "2018-09-11T00:00:00Z",
          "2018-09-11T00:00:00Z",
          "2018-09-11T00:00:00Z",
          "2018-09-11T00:00:00Z",
          "2018-09-11T00:00:00Z",
          "2018-09-11T00:00:00Z",
          "2019-01-17T00:00:00Z",
          "2019-01-17T00:00:00Z",
          "2019-01-17T00:00:00Z",
          "2019-01-17T00:00:00Z",
          "2019-01-17T00:00:00Z",
          "2019-01-17T00:00:00Z",
          "2019-01-17T00:00:00Z",
          "2019-01-17T00:00:00Z",
          "2019-01-17T00:00:00Z",
          "2019-01-17T00:00:00Z",
          "2019-01-17T00:00:00Z",
          "2019-01-17T00:00:00Z",
          "2019-01-17T00:00:00Z",
          "2019-01-17T00:00:00Z",
          "2019-01-17T00:00:00Z",
          "2019-01-17T00:00:00Z",
          "2019-01-17T00:00:00Z",
          "2019-01-17T00:00:00Z",
          "2019-01-17T00:00:00Z",
          "2019-01-17T00:00:00Z",
          "2019-01-17T00:00:00Z",
          "2019-01-17T00:00:00Z",
          "2019-01-17T00:00:00Z",
          "2019-01-17T00:00:00Z",
          "2019-01-17T00:00:00Z",
          "2019-01-17T00:00:00Z",
          "2019-01-17T00:00:00Z",
          "2019-01-17T00:00:00Z",
          "2019-01-17T00:00:00Z",
          "2019-01-17T00:00:00Z",
          "2019-01-17T00:00:00Z",
          "2019-01-17T00:00:00Z",
          "2019-01-17T00:00:00Z",
          "2019-01-17T00:00:00Z",
          "2019-01-17T00:00:00Z",
          "2019-01-17T00:00:00Z",
          "2019-01-17T00:00:00Z",
          "2019-01-17T00:00:00Z",
          "2019-01-17T00:00:00Z",
          "2019-01-17T00:00:00Z",
          "2019-01-17T00:00:00Z",
          "2019-01-17T00:00:00Z",
          "2019-01-17T00:00:00Z",
          "2019-01-17T00:00:00Z",
          "2019-01-17T00:00:00Z",
          "2019-01-17T00:00:00Z",
          "2019-01-17T00:00:00Z",
          "2019-01-17T00:00:00Z",
          "2019-01-17T00:00:00Z",
          "2019-01-18T00:00:00Z",
          "2019-01-18T00:00:00Z",
          "2019-01-18T00:00:00Z",
          "2019-01-18T00:00:00Z",
          "2019-01-18T00:00:00Z",
          "2019-01-18T00:00:00Z",
          "2019-01-18T00:00:00Z",
          "2019-01-18T00:00:00Z",
          "2019-01-18T00:00:00Z",
          "2019-01-18T00:00:00Z",
          "2019-01-18T00:00:00Z",
          "2019-01-18T00:00:00Z",
          "2019-01-18T00:00:00Z",
          "2019-01-18T00:00:00Z",
          "2019-01-18T00:00:00Z",
          "2019-01-18T00:00:00Z",
          "2019-01-18T00:00:00Z",
          "2019-01-18T00:00:00Z",
          "2019-01-18T00:00:00Z",
          "2019-01-18T00:00:00Z",
          "2019-01-18T00:00:00Z",
          "2019-01-18T00:00:00Z",
          "2019-01-18T00:00:00Z",
          "2019-01-18T00:00:00Z",
          "2019-01-18T00:00:00Z",
          "2019-01-18T00:00:00Z",
          "2019-01-18T00:00:00Z",
          "2019-01-18T00:00:00Z",
          "2019-01-18T00:00:00Z",
          "2019-01-18T00:00:00Z",
          "2019-01-18T00:00:00Z",
          "2019-01-18T00:00:00Z",
          "2019-01-18T00:00:00Z",
          "2019-01-18T00:00:00Z",
          "2019-01-18T00:00:00Z",
          "2019-01-18T00:00:00Z",
          "2019-01-18T00:00:00Z",
          "2019-01-18T00:00:00Z",
          "2019-01-18T00:00:00Z",
          "2019-01-18T00:00:00Z",
          "2019-01-18T00:00:00Z",
          "2019-01-18T00:00:00Z",
          "2019-01-18T00:00:00Z",
          "2019-01-18T00:00:00Z",
          "2019-01-18T00:00:00Z",
          "2019-01-18T00:00:00Z",
          "2019-01-18T00:00:00Z",
          "2019-01-18T00:00:00Z",
          "2019-01-27T00:00:00Z",
          "2019-01-27T00:00:00Z",
          "2019-01-27T00:00:00Z",
          "2019-01-27T00:00:00Z",
          "2019-01-27T00:00:00Z",
          "2019-01-27T00:00:00Z",
          "2019-01-27T00:00:00Z",
          "2019-01-27T00:00:00Z",
          "2019-01-27T00:00:00Z",
          "2019-01-27T00:00:00Z",
          "2019-01-27T00:00:00Z",
          "2019-01-27T00:00:00Z",
          "2019-01-27T00:00:00Z",
          "2019-01-27T00:00:00Z",
          "2019-01-27T00:00:00Z",
          "2019-01-27T00:00:00Z",
          "2019-01-27T00:00:00Z",
          "2019-01-27T00:00:00Z",
          "2019-01-27T00:00:00Z",
          "2019-01-27T00:00:00Z",
          "2019-01-27T00:00:00Z",
          "2019-01-27T00:00:00Z",
          "2019-01-27T00:00:00Z",
          "2019-01-27T00:00:00Z",
          "2019-01-27T00:00:00Z",
          "2019-01-27T00:00:00Z",
          "2019-01-27T00:00:00Z",
          "2019-01-27T00:00:00Z",
          "2019-01-27T00:00:00Z",
          "2019-01-27T00:00:00Z",
          "2019-01-27T00:00:00Z",
          "2019-01-27T00:00:00Z",
          "2019-01-27T00:00:00Z",
          "2019-01-27T00:00:00Z",
          "2019-01-27T00:00:00Z",
          "2019-01-27T00:00:00Z",
          "2019-01-27T00:00:00Z",
          "2019-01-27T00:00:00Z",
          "2019-01-27T00:00:00Z",
          "2019-01-27T00:00:00Z",
          "2019-01-27T00:00:00Z",
          "2019-05-09T00:00:00Z",
          "2019-05-09T00:00:00Z",
          "2019-05-09T00:00:00Z",
          "2019-05-09T00:00:00Z",
          "2019-05-09T00:00:00Z",
          "2019-05-09T00:00:00Z",
          "2019-05-09T00:00:00Z",
          "2019-05-09T00:00:00Z",
          "2019-05-09T00:00:00Z",
          "2019-05-09T00:00:00Z",
          "2019-05-09T00:00:00Z",
          "2019-05-09T00:00:00Z",
          "2019-05-09T00:00:00Z",
          "2019-05-09T00:00:00Z",
          "2019-05-09T00:00:00Z",
          "2019-05-09T00:00:00Z",
          "2019-05-09T00:00:00Z",
          "2019-05-09T00:00:00Z",
          "2019-05-09T00:00:00Z",
          "2019-05-09T00:00:00Z",
          "2019-05-09T00:00:00Z",
          "2019-05-09T00:00:00Z",
          "2019-05-09T00:00:00Z",
          "2019-05-09T00:00:00Z",
          "2019-05-09T00:00:00Z",
          "2019-05-09T00:00:00Z",
          "2019-05-09T00:00:00Z",
          "2019-05-09T00:00:00Z",
          "2019-05-09T00:00:00Z",
          "2019-05-09T00:00:00Z",
          "2019-05-09T00:00:00Z",
          "2019-05-09T00:00:00Z",
          "2019-05-09T00:00:00Z",
          "2019-05-09T00:00:00Z",
          "2019-05-09T00:00:00Z",
          "2019-05-10T00:00:00Z",
          "2019-05-10T00:00:00Z",
          "2019-05-10T00:00:00Z",
          "2019-05-10T00:00:00Z",
          "2019-05-10T00:00:00Z",
          "2019-05-10T00:00:00Z",
          "2019-05-10T00:00:00Z",
          "2019-05-10T00:00:00Z",
          "2019-05-10T00:00:00Z",
          "2019-05-10T00:00:00Z",
          "2019-05-10T00:00:00Z",
          "2019-05-10T00:00:00Z",
          "2019-05-10T00:00:00Z",
          "2019-05-10T00:00:00Z",
          "2019-05-10T00:00:00Z",
          "2019-05-10T00:00:00Z",
          "2019-05-10T00:00:00Z",
          "2019-05-10T00:00:00Z",
          "2019-05-10T00:00:00Z",
          "2019-05-10T00:00:00Z",
          "2019-05-10T00:00:00Z",
          "2019-05-10T00:00:00Z",
          "2019-05-10T00:00:00Z",
          "2019-05-13T00:00:00Z",
          "2019-05-13T00:00:00Z",
          "2019-05-13T00:00:00Z",
          "2019-05-13T00:00:00Z",
          "2019-05-13T00:00:00Z",
          "2019-05-13T00:00:00Z",
          "2019-05-13T00:00:00Z",
          "2019-05-13T00:00:00Z",
          "2019-05-13T00:00:00Z",
          "2019-05-13T00:00:00Z",
          "2019-05-13T00:00:00Z",
          "2019-05-13T00:00:00Z",
          "2019-05-13T00:00:00Z",
          "2019-05-13T00:00:00Z",
          "2019-05-13T00:00:00Z",
          "2019-05-13T00:00:00Z",
          "2019-05-13T00:00:00Z",
          "2019-05-13T00:00:00Z"
         ],
         "y": [
          0,
          1,
          0,
          1,
          1,
          1,
          0,
          0,
          0,
          0,
          0,
          1,
          0,
          1,
          0,
          0,
          0,
          0,
          0,
          0,
          1,
          0,
          1,
          0,
          0,
          1,
          0,
          0,
          0,
          0,
          0,
          0,
          0,
          0,
          1,
          1,
          0,
          1,
          0,
          0,
          0,
          0,
          0,
          0,
          0,
          0,
          1,
          0,
          0,
          0,
          0,
          0,
          0,
          0,
          0,
          1,
          1,
          1,
          0,
          0,
          0,
          0,
          0,
          0,
          0,
          0,
          0,
          0,
          0,
          0,
          0,
          1,
          1,
          1,
          1,
          1,
          0,
          1,
          1,
          1,
          1,
          1,
          1,
          1,
          0,
          1,
          1,
          1,
          1,
          1,
          1,
          1,
          1,
          1,
          0,
          0,
          1,
          0,
          0,
          1,
          1,
          1,
          1,
          0,
          0,
          1,
          1,
          0,
          1,
          0,
          0,
          0,
          0,
          0,
          0,
          0,
          0,
          0,
          1,
          1,
          1,
          1,
          1,
          1,
          0,
          0,
          0,
          1,
          0,
          0,
          0,
          0,
          0,
          0,
          0,
          1,
          1,
          0,
          1,
          1,
          0,
          0,
          0,
          0,
          0,
          0,
          0,
          0,
          0,
          0,
          0,
          0,
          1,
          1,
          1,
          1,
          1,
          1,
          1,
          1,
          0,
          0,
          1,
          1,
          0,
          1,
          1,
          1,
          1,
          1,
          1,
          1,
          1,
          0,
          0,
          1,
          0,
          0,
          0,
          0,
          0,
          1,
          1,
          1,
          0,
          0,
          0,
          0,
          0,
          1,
          1,
          0,
          1,
          0,
          1,
          0,
          0,
          1,
          0,
          1,
          1,
          1,
          1,
          0,
          0,
          0,
          1,
          0,
          0,
          1,
          0,
          1,
          1,
          0,
          1,
          1,
          1,
          1,
          0,
          1,
          1,
          1,
          1,
          0,
          1,
          1,
          1,
          1,
          0,
          0,
          0,
          0,
          1,
          1,
          1,
          1,
          0,
          1,
          1,
          0,
          0,
          0,
          0,
          1,
          0,
          1,
          0,
          1,
          1,
          0,
          1,
          1,
          0,
          0,
          1,
          1,
          1,
          1,
          1,
          0,
          1,
          0,
          0,
          0,
          1,
          0,
          1,
          0,
          1,
          0,
          0,
          0,
          1,
          0,
          1,
          1,
          0,
          0,
          0,
          1,
          0,
          0,
          0,
          0,
          0,
          0,
          1,
          1,
          1,
          1,
          0,
          0,
          0,
          0,
          0,
          0,
          0,
          0,
          0,
          0,
          0,
          0,
          0,
          1,
          0,
          0,
          0,
          0,
          0,
          0,
          0,
          0,
          0,
          0,
          0,
          0,
          0,
          0,
          0,
          0,
          0,
          0,
          0,
          0,
          1,
          1,
          0,
          0,
          1,
          1,
          1,
          0,
          1,
          0,
          0,
          0,
          0,
          0,
          0,
          0,
          1,
          0,
          0,
          1,
          0,
          0,
          1,
          0,
          0,
          0,
          0,
          0,
          0,
          1,
          0,
          1,
          0,
          1,
          0,
          0,
          1,
          1,
          0,
          0,
          0,
          0
         ]
        }
       ],
       "layout": {
        "template": {
         "data": {
          "bar": [
           {
            "error_x": {
             "color": "#2a3f5f"
            },
            "error_y": {
             "color": "#2a3f5f"
            },
            "marker": {
             "line": {
              "color": "#E5ECF6",
              "width": 0.5
             },
             "pattern": {
              "fillmode": "overlay",
              "size": 10,
              "solidity": 0.2
             }
            },
            "type": "bar"
           }
          ],
          "barpolar": [
           {
            "marker": {
             "line": {
              "color": "#E5ECF6",
              "width": 0.5
             },
             "pattern": {
              "fillmode": "overlay",
              "size": 10,
              "solidity": 0.2
             }
            },
            "type": "barpolar"
           }
          ],
          "carpet": [
           {
            "aaxis": {
             "endlinecolor": "#2a3f5f",
             "gridcolor": "white",
             "linecolor": "white",
             "minorgridcolor": "white",
             "startlinecolor": "#2a3f5f"
            },
            "baxis": {
             "endlinecolor": "#2a3f5f",
             "gridcolor": "white",
             "linecolor": "white",
             "minorgridcolor": "white",
             "startlinecolor": "#2a3f5f"
            },
            "type": "carpet"
           }
          ],
          "choropleth": [
           {
            "colorbar": {
             "outlinewidth": 0,
             "ticks": ""
            },
            "type": "choropleth"
           }
          ],
          "contour": [
           {
            "colorbar": {
             "outlinewidth": 0,
             "ticks": ""
            },
            "colorscale": [
             [
              0,
              "#0d0887"
             ],
             [
              0.1111111111111111,
              "#46039f"
             ],
             [
              0.2222222222222222,
              "#7201a8"
             ],
             [
              0.3333333333333333,
              "#9c179e"
             ],
             [
              0.4444444444444444,
              "#bd3786"
             ],
             [
              0.5555555555555556,
              "#d8576b"
             ],
             [
              0.6666666666666666,
              "#ed7953"
             ],
             [
              0.7777777777777778,
              "#fb9f3a"
             ],
             [
              0.8888888888888888,
              "#fdca26"
             ],
             [
              1,
              "#f0f921"
             ]
            ],
            "type": "contour"
           }
          ],
          "contourcarpet": [
           {
            "colorbar": {
             "outlinewidth": 0,
             "ticks": ""
            },
            "type": "contourcarpet"
           }
          ],
          "heatmap": [
           {
            "colorbar": {
             "outlinewidth": 0,
             "ticks": ""
            },
            "colorscale": [
             [
              0,
              "#0d0887"
             ],
             [
              0.1111111111111111,
              "#46039f"
             ],
             [
              0.2222222222222222,
              "#7201a8"
             ],
             [
              0.3333333333333333,
              "#9c179e"
             ],
             [
              0.4444444444444444,
              "#bd3786"
             ],
             [
              0.5555555555555556,
              "#d8576b"
             ],
             [
              0.6666666666666666,
              "#ed7953"
             ],
             [
              0.7777777777777778,
              "#fb9f3a"
             ],
             [
              0.8888888888888888,
              "#fdca26"
             ],
             [
              1,
              "#f0f921"
             ]
            ],
            "type": "heatmap"
           }
          ],
          "heatmapgl": [
           {
            "colorbar": {
             "outlinewidth": 0,
             "ticks": ""
            },
            "colorscale": [
             [
              0,
              "#0d0887"
             ],
             [
              0.1111111111111111,
              "#46039f"
             ],
             [
              0.2222222222222222,
              "#7201a8"
             ],
             [
              0.3333333333333333,
              "#9c179e"
             ],
             [
              0.4444444444444444,
              "#bd3786"
             ],
             [
              0.5555555555555556,
              "#d8576b"
             ],
             [
              0.6666666666666666,
              "#ed7953"
             ],
             [
              0.7777777777777778,
              "#fb9f3a"
             ],
             [
              0.8888888888888888,
              "#fdca26"
             ],
             [
              1,
              "#f0f921"
             ]
            ],
            "type": "heatmapgl"
           }
          ],
          "histogram": [
           {
            "marker": {
             "pattern": {
              "fillmode": "overlay",
              "size": 10,
              "solidity": 0.2
             }
            },
            "type": "histogram"
           }
          ],
          "histogram2d": [
           {
            "colorbar": {
             "outlinewidth": 0,
             "ticks": ""
            },
            "colorscale": [
             [
              0,
              "#0d0887"
             ],
             [
              0.1111111111111111,
              "#46039f"
             ],
             [
              0.2222222222222222,
              "#7201a8"
             ],
             [
              0.3333333333333333,
              "#9c179e"
             ],
             [
              0.4444444444444444,
              "#bd3786"
             ],
             [
              0.5555555555555556,
              "#d8576b"
             ],
             [
              0.6666666666666666,
              "#ed7953"
             ],
             [
              0.7777777777777778,
              "#fb9f3a"
             ],
             [
              0.8888888888888888,
              "#fdca26"
             ],
             [
              1,
              "#f0f921"
             ]
            ],
            "type": "histogram2d"
           }
          ],
          "histogram2dcontour": [
           {
            "colorbar": {
             "outlinewidth": 0,
             "ticks": ""
            },
            "colorscale": [
             [
              0,
              "#0d0887"
             ],
             [
              0.1111111111111111,
              "#46039f"
             ],
             [
              0.2222222222222222,
              "#7201a8"
             ],
             [
              0.3333333333333333,
              "#9c179e"
             ],
             [
              0.4444444444444444,
              "#bd3786"
             ],
             [
              0.5555555555555556,
              "#d8576b"
             ],
             [
              0.6666666666666666,
              "#ed7953"
             ],
             [
              0.7777777777777778,
              "#fb9f3a"
             ],
             [
              0.8888888888888888,
              "#fdca26"
             ],
             [
              1,
              "#f0f921"
             ]
            ],
            "type": "histogram2dcontour"
           }
          ],
          "mesh3d": [
           {
            "colorbar": {
             "outlinewidth": 0,
             "ticks": ""
            },
            "type": "mesh3d"
           }
          ],
          "parcoords": [
           {
            "line": {
             "colorbar": {
              "outlinewidth": 0,
              "ticks": ""
             }
            },
            "type": "parcoords"
           }
          ],
          "pie": [
           {
            "automargin": true,
            "type": "pie"
           }
          ],
          "scatter": [
           {
            "fillpattern": {
             "fillmode": "overlay",
             "size": 10,
             "solidity": 0.2
            },
            "type": "scatter"
           }
          ],
          "scatter3d": [
           {
            "line": {
             "colorbar": {
              "outlinewidth": 0,
              "ticks": ""
             }
            },
            "marker": {
             "colorbar": {
              "outlinewidth": 0,
              "ticks": ""
             }
            },
            "type": "scatter3d"
           }
          ],
          "scattercarpet": [
           {
            "marker": {
             "colorbar": {
              "outlinewidth": 0,
              "ticks": ""
             }
            },
            "type": "scattercarpet"
           }
          ],
          "scattergeo": [
           {
            "marker": {
             "colorbar": {
              "outlinewidth": 0,
              "ticks": ""
             }
            },
            "type": "scattergeo"
           }
          ],
          "scattergl": [
           {
            "marker": {
             "colorbar": {
              "outlinewidth": 0,
              "ticks": ""
             }
            },
            "type": "scattergl"
           }
          ],
          "scattermapbox": [
           {
            "marker": {
             "colorbar": {
              "outlinewidth": 0,
              "ticks": ""
             }
            },
            "type": "scattermapbox"
           }
          ],
          "scatterpolar": [
           {
            "marker": {
             "colorbar": {
              "outlinewidth": 0,
              "ticks": ""
             }
            },
            "type": "scatterpolar"
           }
          ],
          "scatterpolargl": [
           {
            "marker": {
             "colorbar": {
              "outlinewidth": 0,
              "ticks": ""
             }
            },
            "type": "scatterpolargl"
           }
          ],
          "scatterternary": [
           {
            "marker": {
             "colorbar": {
              "outlinewidth": 0,
              "ticks": ""
             }
            },
            "type": "scatterternary"
           }
          ],
          "surface": [
           {
            "colorbar": {
             "outlinewidth": 0,
             "ticks": ""
            },
            "colorscale": [
             [
              0,
              "#0d0887"
             ],
             [
              0.1111111111111111,
              "#46039f"
             ],
             [
              0.2222222222222222,
              "#7201a8"
             ],
             [
              0.3333333333333333,
              "#9c179e"
             ],
             [
              0.4444444444444444,
              "#bd3786"
             ],
             [
              0.5555555555555556,
              "#d8576b"
             ],
             [
              0.6666666666666666,
              "#ed7953"
             ],
             [
              0.7777777777777778,
              "#fb9f3a"
             ],
             [
              0.8888888888888888,
              "#fdca26"
             ],
             [
              1,
              "#f0f921"
             ]
            ],
            "type": "surface"
           }
          ],
          "table": [
           {
            "cells": {
             "fill": {
              "color": "#EBF0F8"
             },
             "line": {
              "color": "white"
             }
            },
            "header": {
             "fill": {
              "color": "#C8D4E3"
             },
             "line": {
              "color": "white"
             }
            },
            "type": "table"
           }
          ]
         },
         "layout": {
          "annotationdefaults": {
           "arrowcolor": "#2a3f5f",
           "arrowhead": 0,
           "arrowwidth": 1
          },
          "autotypenumbers": "strict",
          "coloraxis": {
           "colorbar": {
            "outlinewidth": 0,
            "ticks": ""
           }
          },
          "colorscale": {
           "diverging": [
            [
             0,
             "#8e0152"
            ],
            [
             0.1,
             "#c51b7d"
            ],
            [
             0.2,
             "#de77ae"
            ],
            [
             0.3,
             "#f1b6da"
            ],
            [
             0.4,
             "#fde0ef"
            ],
            [
             0.5,
             "#f7f7f7"
            ],
            [
             0.6,
             "#e6f5d0"
            ],
            [
             0.7,
             "#b8e186"
            ],
            [
             0.8,
             "#7fbc41"
            ],
            [
             0.9,
             "#4d9221"
            ],
            [
             1,
             "#276419"
            ]
           ],
           "sequential": [
            [
             0,
             "#0d0887"
            ],
            [
             0.1111111111111111,
             "#46039f"
            ],
            [
             0.2222222222222222,
             "#7201a8"
            ],
            [
             0.3333333333333333,
             "#9c179e"
            ],
            [
             0.4444444444444444,
             "#bd3786"
            ],
            [
             0.5555555555555556,
             "#d8576b"
            ],
            [
             0.6666666666666666,
             "#ed7953"
            ],
            [
             0.7777777777777778,
             "#fb9f3a"
            ],
            [
             0.8888888888888888,
             "#fdca26"
            ],
            [
             1,
             "#f0f921"
            ]
           ],
           "sequentialminus": [
            [
             0,
             "#0d0887"
            ],
            [
             0.1111111111111111,
             "#46039f"
            ],
            [
             0.2222222222222222,
             "#7201a8"
            ],
            [
             0.3333333333333333,
             "#9c179e"
            ],
            [
             0.4444444444444444,
             "#bd3786"
            ],
            [
             0.5555555555555556,
             "#d8576b"
            ],
            [
             0.6666666666666666,
             "#ed7953"
            ],
            [
             0.7777777777777778,
             "#fb9f3a"
            ],
            [
             0.8888888888888888,
             "#fdca26"
            ],
            [
             1,
             "#f0f921"
            ]
           ]
          },
          "colorway": [
           "#636efa",
           "#EF553B",
           "#00cc96",
           "#ab63fa",
           "#FFA15A",
           "#19d3f3",
           "#FF6692",
           "#B6E880",
           "#FF97FF",
           "#FECB52"
          ],
          "font": {
           "color": "#2a3f5f"
          },
          "geo": {
           "bgcolor": "white",
           "lakecolor": "white",
           "landcolor": "#E5ECF6",
           "showlakes": true,
           "showland": true,
           "subunitcolor": "white"
          },
          "hoverlabel": {
           "align": "left"
          },
          "hovermode": "closest",
          "mapbox": {
           "style": "light"
          },
          "paper_bgcolor": "white",
          "plot_bgcolor": "#E5ECF6",
          "polar": {
           "angularaxis": {
            "gridcolor": "white",
            "linecolor": "white",
            "ticks": ""
           },
           "bgcolor": "#E5ECF6",
           "radialaxis": {
            "gridcolor": "white",
            "linecolor": "white",
            "ticks": ""
           }
          },
          "scene": {
           "xaxis": {
            "backgroundcolor": "#E5ECF6",
            "gridcolor": "white",
            "gridwidth": 2,
            "linecolor": "white",
            "showbackground": true,
            "ticks": "",
            "zerolinecolor": "white"
           },
           "yaxis": {
            "backgroundcolor": "#E5ECF6",
            "gridcolor": "white",
            "gridwidth": 2,
            "linecolor": "white",
            "showbackground": true,
            "ticks": "",
            "zerolinecolor": "white"
           },
           "zaxis": {
            "backgroundcolor": "#E5ECF6",
            "gridcolor": "white",
            "gridwidth": 2,
            "linecolor": "white",
            "showbackground": true,
            "ticks": "",
            "zerolinecolor": "white"
           }
          },
          "shapedefaults": {
           "line": {
            "color": "#2a3f5f"
           }
          },
          "ternary": {
           "aaxis": {
            "gridcolor": "white",
            "linecolor": "white",
            "ticks": ""
           },
           "baxis": {
            "gridcolor": "white",
            "linecolor": "white",
            "ticks": ""
           },
           "bgcolor": "#E5ECF6",
           "caxis": {
            "gridcolor": "white",
            "linecolor": "white",
            "ticks": ""
           }
          },
          "title": {
           "x": 0.05
          },
          "xaxis": {
           "automargin": true,
           "gridcolor": "white",
           "linecolor": "white",
           "ticks": "",
           "title": {
            "standoff": 15
           },
           "zerolinecolor": "white",
           "zerolinewidth": 2
          },
          "yaxis": {
           "automargin": true,
           "gridcolor": "white",
           "linecolor": "white",
           "ticks": "",
           "title": {
            "standoff": 15
           },
           "zerolinecolor": "white",
           "zerolinewidth": 2
          }
         }
        }
       }
      }
     },
     "metadata": {},
     "output_type": "display_data"
    }
   ],
   "source": [
    "fig = go.Figure()\n",
    "fig.add_trace(go.Scatter(\n",
    "    x=df01[\"timestamp\"],\n",
    "    y=df01[\"window\"], \n",
    "    mode='markers',\n",
    "))"
   ]
  },
  {
   "attachments": {},
   "cell_type": "markdown",
   "metadata": {},
   "source": [
    "## check if there is any time data...\n"
   ]
  },
  {
   "cell_type": "code",
   "execution_count": 70,
   "metadata": {},
   "outputs": [
    {
     "data": {
      "text/plain": [
       "array([datetime.time(0, 0)], dtype=object)"
      ]
     },
     "execution_count": 70,
     "metadata": {},
     "output_type": "execute_result"
    }
   ],
   "source": [
    "pd.to_datetime(df_windows.timestamp).dt.time.unique()"
   ]
  },
  {
   "attachments": {},
   "cell_type": "markdown",
   "metadata": {},
   "source": [
    "## compare to publications"
   ]
  },
  {
   "cell_type": "code",
   "execution_count": 73,
   "metadata": {},
   "outputs": [
    {
     "data": {
      "text/html": [
       "<div>\n",
       "<style scoped>\n",
       "    .dataframe tbody tr th:only-of-type {\n",
       "        vertical-align: middle;\n",
       "    }\n",
       "\n",
       "    .dataframe tbody tr th {\n",
       "        vertical-align: top;\n",
       "    }\n",
       "\n",
       "    .dataframe thead th {\n",
       "        text-align: right;\n",
       "    }\n",
       "</style>\n",
       "<table border=\"1\" class=\"dataframe\">\n",
       "  <thead>\n",
       "    <tr style=\"text-align: right;\">\n",
       "      <th></th>\n",
       "      <th>building_id</th>\n",
       "      <th>building_id_inf</th>\n",
       "      <th>contributor</th>\n",
       "      <th>publication</th>\n",
       "      <th>region</th>\n",
       "      <th>country</th>\n",
       "      <th>city</th>\n",
       "      <th>lat</th>\n",
       "      <th>lon</th>\n",
       "      <th>climate</th>\n",
       "      <th>...</th>\n",
       "      <th>records</th>\n",
       "      <th>has_age</th>\n",
       "      <th>has_ec</th>\n",
       "      <th>has_timestamp</th>\n",
       "      <th>timezone</th>\n",
       "      <th>met_source</th>\n",
       "      <th>isd_station</th>\n",
       "      <th>isd_distance</th>\n",
       "      <th>database</th>\n",
       "      <th>quality_assurance</th>\n",
       "    </tr>\n",
       "  </thead>\n",
       "  <tbody>\n",
       "    <tr>\n",
       "      <th>0</th>\n",
       "      <td>1</td>\n",
       "      <td>no</td>\n",
       "      <td>David Rowe</td>\n",
       "      <td>NaN</td>\n",
       "      <td>oceania</td>\n",
       "      <td>australia</td>\n",
       "      <td>sydney</td>\n",
       "      <td>-33.868820</td>\n",
       "      <td>151.209295</td>\n",
       "      <td>humid subtropical</td>\n",
       "      <td>...</td>\n",
       "      <td>170</td>\n",
       "      <td>no</td>\n",
       "      <td>no</td>\n",
       "      <td>yes</td>\n",
       "      <td>Australia/Sydney</td>\n",
       "      <td>rp884</td>\n",
       "      <td>947680-99999</td>\n",
       "      <td>2.3</td>\n",
       "      <td>1.0</td>\n",
       "      <td>pass</td>\n",
       "    </tr>\n",
       "    <tr>\n",
       "      <th>1</th>\n",
       "      <td>2</td>\n",
       "      <td>no</td>\n",
       "      <td>David Rowe</td>\n",
       "      <td>NaN</td>\n",
       "      <td>oceania</td>\n",
       "      <td>australia</td>\n",
       "      <td>sydney</td>\n",
       "      <td>-33.868820</td>\n",
       "      <td>151.209295</td>\n",
       "      <td>humid subtropical</td>\n",
       "      <td>...</td>\n",
       "      <td>83</td>\n",
       "      <td>no</td>\n",
       "      <td>no</td>\n",
       "      <td>yes</td>\n",
       "      <td>Australia/Sydney</td>\n",
       "      <td>rp884</td>\n",
       "      <td>947680-99999</td>\n",
       "      <td>2.3</td>\n",
       "      <td>1.0</td>\n",
       "      <td>pass</td>\n",
       "    </tr>\n",
       "    <tr>\n",
       "      <th>2</th>\n",
       "      <td>3</td>\n",
       "      <td>no</td>\n",
       "      <td>Fred Baumann</td>\n",
       "      <td>NaN</td>\n",
       "      <td>americas</td>\n",
       "      <td>usa</td>\n",
       "      <td>grand rapids</td>\n",
       "      <td>42.963360</td>\n",
       "      <td>-85.668086</td>\n",
       "      <td>humid midlatitude</td>\n",
       "      <td>...</td>\n",
       "      <td>85</td>\n",
       "      <td>no</td>\n",
       "      <td>no</td>\n",
       "      <td>yes</td>\n",
       "      <td>America/Detroit</td>\n",
       "      <td>rp884</td>\n",
       "      <td>726350-94860</td>\n",
       "      <td>14.9</td>\n",
       "      <td>1.0</td>\n",
       "      <td>pass</td>\n",
       "    </tr>\n",
       "    <tr>\n",
       "      <th>3</th>\n",
       "      <td>4</td>\n",
       "      <td>no</td>\n",
       "      <td>David Rowe</td>\n",
       "      <td>NaN</td>\n",
       "      <td>oceania</td>\n",
       "      <td>australia</td>\n",
       "      <td>sydney</td>\n",
       "      <td>-33.868820</td>\n",
       "      <td>151.209295</td>\n",
       "      <td>humid subtropical</td>\n",
       "      <td>...</td>\n",
       "      <td>137</td>\n",
       "      <td>no</td>\n",
       "      <td>no</td>\n",
       "      <td>yes</td>\n",
       "      <td>Australia/Sydney</td>\n",
       "      <td>NaN</td>\n",
       "      <td>947680-99999</td>\n",
       "      <td>2.3</td>\n",
       "      <td>1.0</td>\n",
       "      <td>pass</td>\n",
       "    </tr>\n",
       "    <tr>\n",
       "      <th>4</th>\n",
       "      <td>5</td>\n",
       "      <td>no</td>\n",
       "      <td>Gail Brager</td>\n",
       "      <td>Benton, C. C. &amp; Brager, G. S. Advanced Custome...</td>\n",
       "      <td>americas</td>\n",
       "      <td>usa</td>\n",
       "      <td>auburn</td>\n",
       "      <td>32.609857</td>\n",
       "      <td>-85.480783</td>\n",
       "      <td>mediterranean</td>\n",
       "      <td>...</td>\n",
       "      <td>128</td>\n",
       "      <td>no</td>\n",
       "      <td>no</td>\n",
       "      <td>yes</td>\n",
       "      <td>America/Chicago</td>\n",
       "      <td>rp884</td>\n",
       "      <td>722288-99999</td>\n",
       "      <td>2.1</td>\n",
       "      <td>1.0</td>\n",
       "      <td>pass</td>\n",
       "    </tr>\n",
       "  </tbody>\n",
       "</table>\n",
       "<p>5 rows × 23 columns</p>\n",
       "</div>"
      ],
      "text/plain": [
       "   building_id building_id_inf   contributor  \\\n",
       "0            1              no    David Rowe   \n",
       "1            2              no    David Rowe   \n",
       "2            3              no  Fred Baumann   \n",
       "3            4              no    David Rowe   \n",
       "4            5              no   Gail Brager   \n",
       "\n",
       "                                         publication    region    country  \\\n",
       "0                                                NaN   oceania  australia   \n",
       "1                                                NaN   oceania  australia   \n",
       "2                                                NaN  americas        usa   \n",
       "3                                                NaN   oceania  australia   \n",
       "4  Benton, C. C. & Brager, G. S. Advanced Custome...  americas        usa   \n",
       "\n",
       "           city        lat         lon            climate  ... records  \\\n",
       "0        sydney -33.868820  151.209295  humid subtropical  ...     170   \n",
       "1        sydney -33.868820  151.209295  humid subtropical  ...      83   \n",
       "2  grand rapids  42.963360  -85.668086  humid midlatitude  ...      85   \n",
       "3        sydney -33.868820  151.209295  humid subtropical  ...     137   \n",
       "4        auburn  32.609857  -85.480783      mediterranean  ...     128   \n",
       "\n",
       "  has_age  has_ec  has_timestamp          timezone met_source   isd_station  \\\n",
       "0      no      no            yes  Australia/Sydney      rp884  947680-99999   \n",
       "1      no      no            yes  Australia/Sydney      rp884  947680-99999   \n",
       "2      no      no            yes   America/Detroit      rp884  726350-94860   \n",
       "3      no      no            yes  Australia/Sydney        NaN  947680-99999   \n",
       "4      no      no            yes   America/Chicago      rp884  722288-99999   \n",
       "\n",
       "  isd_distance database quality_assurance  \n",
       "0          2.3      1.0              pass  \n",
       "1          2.3      1.0              pass  \n",
       "2         14.9      1.0              pass  \n",
       "3          2.3      1.0              pass  \n",
       "4          2.1      1.0              pass  \n",
       "\n",
       "[5 rows x 23 columns]"
      ]
     },
     "execution_count": 73,
     "metadata": {},
     "output_type": "execute_result"
    }
   ],
   "source": [
    "path = \"../../data/ext_data/ashrae_global_thermal_comfort/db_metadata.csv\"\n",
    "# import csv \n",
    "mdf = pd.read_csv(path, encoding=\"iso-8859-1\") # mdf = metdata df\n",
    "mdf.head()"
   ]
  },
  {
   "cell_type": "code",
   "execution_count": 75,
   "metadata": {},
   "outputs": [
    {
     "data": {
      "text/html": [
       "<div>\n",
       "<style scoped>\n",
       "    .dataframe tbody tr th:only-of-type {\n",
       "        vertical-align: middle;\n",
       "    }\n",
       "\n",
       "    .dataframe tbody tr th {\n",
       "        vertical-align: top;\n",
       "    }\n",
       "\n",
       "    .dataframe thead th {\n",
       "        text-align: right;\n",
       "    }\n",
       "</style>\n",
       "<table border=\"1\" class=\"dataframe\">\n",
       "  <thead>\n",
       "    <tr style=\"text-align: right;\">\n",
       "      <th></th>\n",
       "      <th>building_id</th>\n",
       "      <th>building_id_inf</th>\n",
       "      <th>contributor</th>\n",
       "      <th>publication</th>\n",
       "      <th>region</th>\n",
       "      <th>country</th>\n",
       "      <th>city</th>\n",
       "      <th>lat</th>\n",
       "      <th>lon</th>\n",
       "      <th>climate</th>\n",
       "      <th>...</th>\n",
       "      <th>records</th>\n",
       "      <th>has_age</th>\n",
       "      <th>has_ec</th>\n",
       "      <th>has_timestamp</th>\n",
       "      <th>timezone</th>\n",
       "      <th>met_source</th>\n",
       "      <th>isd_station</th>\n",
       "      <th>isd_distance</th>\n",
       "      <th>database</th>\n",
       "      <th>quality_assurance</th>\n",
       "    </tr>\n",
       "  </thead>\n",
       "  <tbody>\n",
       "    <tr>\n",
       "      <th>165</th>\n",
       "      <td>166</td>\n",
       "      <td>no</td>\n",
       "      <td>Jeetika Malik</td>\n",
       "      <td>https://doi.org/10.1080/17512549.2021.1907224</td>\n",
       "      <td>asia</td>\n",
       "      <td>india</td>\n",
       "      <td>mumbai</td>\n",
       "      <td>19.075984</td>\n",
       "      <td>72.877656</td>\n",
       "      <td>tropical wet savanna</td>\n",
       "      <td>...</td>\n",
       "      <td>339</td>\n",
       "      <td>yes</td>\n",
       "      <td>yes</td>\n",
       "      <td>yes</td>\n",
       "      <td>Asia/Kolkata</td>\n",
       "      <td>original_data</td>\n",
       "      <td>430030-99999</td>\n",
       "      <td>1.8</td>\n",
       "      <td>2.1</td>\n",
       "      <td>pass</td>\n",
       "    </tr>\n",
       "    <tr>\n",
       "      <th>166</th>\n",
       "      <td>167</td>\n",
       "      <td>no</td>\n",
       "      <td>Jeetika Malik</td>\n",
       "      <td>https://doi.org/10.1080/17512549.2021.1907224</td>\n",
       "      <td>asia</td>\n",
       "      <td>india</td>\n",
       "      <td>mumbai</td>\n",
       "      <td>19.075984</td>\n",
       "      <td>72.877656</td>\n",
       "      <td>tropical wet savanna</td>\n",
       "      <td>...</td>\n",
       "      <td>366</td>\n",
       "      <td>yes</td>\n",
       "      <td>yes</td>\n",
       "      <td>yes</td>\n",
       "      <td>Asia/Kolkata</td>\n",
       "      <td>original_data</td>\n",
       "      <td>430030-99999</td>\n",
       "      <td>1.8</td>\n",
       "      <td>2.1</td>\n",
       "      <td>pass</td>\n",
       "    </tr>\n",
       "    <tr>\n",
       "      <th>199</th>\n",
       "      <td>200</td>\n",
       "      <td>no</td>\n",
       "      <td>Salvatore Carlucci</td>\n",
       "      <td>P. Zangheri, L. Pagliano, R. Armani, M. Santam...</td>\n",
       "      <td>europe</td>\n",
       "      <td>italy</td>\n",
       "      <td>lodi</td>\n",
       "      <td>45.309723</td>\n",
       "      <td>9.503716</td>\n",
       "      <td>humid subtropical</td>\n",
       "      <td>...</td>\n",
       "      <td>79</td>\n",
       "      <td>no</td>\n",
       "      <td>yes</td>\n",
       "      <td>yes</td>\n",
       "      <td>Europe/Rome</td>\n",
       "      <td>original_data</td>\n",
       "      <td>160800-99999</td>\n",
       "      <td>23.3</td>\n",
       "      <td>2.0</td>\n",
       "      <td>pass</td>\n",
       "    </tr>\n",
       "    <tr>\n",
       "      <th>200</th>\n",
       "      <td>201</td>\n",
       "      <td>no</td>\n",
       "      <td>Salvatore Carlucci</td>\n",
       "      <td>P. Zangheri, L. Pagliano, R. Armani, M. Santam...</td>\n",
       "      <td>europe</td>\n",
       "      <td>italy</td>\n",
       "      <td>varese</td>\n",
       "      <td>45.820599</td>\n",
       "      <td>8.825058</td>\n",
       "      <td>temperate oceanic</td>\n",
       "      <td>...</td>\n",
       "      <td>110</td>\n",
       "      <td>no</td>\n",
       "      <td>yes</td>\n",
       "      <td>yes</td>\n",
       "      <td>Europe/Rome</td>\n",
       "      <td>original_data</td>\n",
       "      <td>067710-99999</td>\n",
       "      <td>9.0</td>\n",
       "      <td>2.0</td>\n",
       "      <td>pass</td>\n",
       "    </tr>\n",
       "    <tr>\n",
       "      <th>201</th>\n",
       "      <td>202</td>\n",
       "      <td>no</td>\n",
       "      <td>Salvatore Carlucci</td>\n",
       "      <td>P. Zangheri, L. Pagliano, R. Armani, M. Santam...</td>\n",
       "      <td>europe</td>\n",
       "      <td>italy</td>\n",
       "      <td>imola</td>\n",
       "      <td>44.360000</td>\n",
       "      <td>11.712429</td>\n",
       "      <td>humid subtropical</td>\n",
       "      <td>...</td>\n",
       "      <td>60</td>\n",
       "      <td>no</td>\n",
       "      <td>yes</td>\n",
       "      <td>yes</td>\n",
       "      <td>Europe/Rome</td>\n",
       "      <td>original_data</td>\n",
       "      <td>161470-99999</td>\n",
       "      <td>33.9</td>\n",
       "      <td>2.0</td>\n",
       "      <td>pass</td>\n",
       "    </tr>\n",
       "  </tbody>\n",
       "</table>\n",
       "<p>5 rows × 23 columns</p>\n",
       "</div>"
      ],
      "text/plain": [
       "     building_id building_id_inf         contributor  \\\n",
       "165          166              no       Jeetika Malik   \n",
       "166          167              no       Jeetika Malik   \n",
       "199          200              no  Salvatore Carlucci   \n",
       "200          201              no  Salvatore Carlucci   \n",
       "201          202              no  Salvatore Carlucci   \n",
       "\n",
       "                                           publication  region country  \\\n",
       "165      https://doi.org/10.1080/17512549.2021.1907224    asia   india   \n",
       "166      https://doi.org/10.1080/17512549.2021.1907224    asia   india   \n",
       "199  P. Zangheri, L. Pagliano, R. Armani, M. Santam...  europe   italy   \n",
       "200  P. Zangheri, L. Pagliano, R. Armani, M. Santam...  europe   italy   \n",
       "201  P. Zangheri, L. Pagliano, R. Armani, M. Santam...  europe   italy   \n",
       "\n",
       "       city        lat        lon               climate  ... records has_age  \\\n",
       "165  mumbai  19.075984  72.877656  tropical wet savanna  ...     339     yes   \n",
       "166  mumbai  19.075984  72.877656  tropical wet savanna  ...     366     yes   \n",
       "199    lodi  45.309723   9.503716     humid subtropical  ...      79      no   \n",
       "200  varese  45.820599   8.825058     temperate oceanic  ...     110      no   \n",
       "201   imola  44.360000  11.712429     humid subtropical  ...      60      no   \n",
       "\n",
       "     has_ec  has_timestamp      timezone     met_source   isd_station  \\\n",
       "165     yes            yes  Asia/Kolkata  original_data  430030-99999   \n",
       "166     yes            yes  Asia/Kolkata  original_data  430030-99999   \n",
       "199     yes            yes   Europe/Rome  original_data  160800-99999   \n",
       "200     yes            yes   Europe/Rome  original_data  067710-99999   \n",
       "201     yes            yes   Europe/Rome  original_data  161470-99999   \n",
       "\n",
       "    isd_distance database quality_assurance  \n",
       "165          1.8      2.1              pass  \n",
       "166          1.8      2.1              pass  \n",
       "199         23.3      2.0              pass  \n",
       "200          9.0      2.0              pass  \n",
       "201         33.9      2.0              pass  \n",
       "\n",
       "[5 rows x 23 columns]"
      ]
     },
     "execution_count": 75,
     "metadata": {},
     "output_type": "execute_result"
    }
   ],
   "source": [
    "wmdf = mdf.loc[mdf[\"building_id\"].isin(df_windows[\"building_id\"])]\n",
    "wmdf.head()"
   ]
  },
  {
   "cell_type": "code",
   "execution_count": 77,
   "metadata": {},
   "outputs": [
    {
     "data": {
      "text/plain": [
       "17"
      ]
     },
     "execution_count": 77,
     "metadata": {},
     "output_type": "execute_result"
    }
   ],
   "source": [
    "len(wmdf[\"publication\"].unique())"
   ]
  },
  {
   "cell_type": "code",
   "execution_count": 78,
   "metadata": {},
   "outputs": [
    {
     "data": {
      "text/plain": [
       "array(['https://doi.org/10.1080/17512549.2021.1907224',\n",
       "       'P. Zangheri, L. Pagliano, R. Armani, M. Santamouris, A. Freire, J.L. Alexandre, F. Nicol (2010). Thermal compliance in existing buildings. Deliverable number: CC WP5 D5.1. Report of the European project: EIE-07-190',\n",
       "       'Patane, E. M. (2021). The effects of thermal mass and air-conditioning on summer temperature thermal comfort and occupant behaviour in homes, PhD Thesis, University of Bath, Bath.',\n",
       "       'https://doi.org/10.1016/j.buildenv.2022.109187',\n",
       "       'https://doi.org/10.1016/j.enbuild.2020.109761',\n",
       "       'https://doi.org/10.1016/j.enbuild.2007.02.013',\n",
       "       \"De Vecchi, R. et al. Thermal history and its influence on occupants' thermal acceptability and cooling preferences in warm-humid climates: a new desire for comfort? Proceedings of 7th Windsor Conference: The changing context of comfort in an unpredictable world Cumberland Lodge, Windsor, UK, 12-15 April 2012. London: Network for Comfort and Energy Use in Buildings, http://nceub.org.uk.\",\n",
       "       'https://doi.org/10.3763/asre.2010.0021',\n",
       "       'https://doi.org/10.1016/j.buildenv.2013.01.017',\n",
       "       'Gail Brager, Gwelen Paliaga, Richard de Dear. Operable windows, personal control and occupant comfort. ASHRAE Transactions. 110(2)',\n",
       "       'https://doi.org/10.1016/j.buildenv.2016.03.014',\n",
       "       'Honnekeri, A., Brager, G., Dhaka, S., & Mathur, J. (2014). Comfort and adaptation in mixed-mode buildings in a hot-dry climate.',\n",
       "       'https://doi.org/10.1016/j.buildenv.2014.01.002',\n",
       "       'https://doi.org/10.1016/j.buildenv.2011.04.028',\n",
       "       'Loveday D. L., Webb L. H., Verma P., Cook M. J., Rawal R., Vadodaria K., Cropper P., Brager G., Zhang H., Foldvary V., Arens E., Babich F., Cobb R., Ariffin R., Kaam S., Toledo L. The Role of Air Motion for Providing Thermal Comfort in Residential / Mixed Mode Buildings: Multi-partner Global Innovation Initiative (GII) Project. Proceedings of 9th Windsor Conference. (2016) Windsor, UK.',\n",
       "       'https://doi.org/10.1016/j.buildenv.2015.12.019',\n",
       "       'https://doi.org/10.1016/j.buildenv.2011.04.029'], dtype=object)"
      ]
     },
     "execution_count": 78,
     "metadata": {},
     "output_type": "execute_result"
    }
   ],
   "source": [
    "wmdf[\"publication\"].unique()"
   ]
  },
  {
   "cell_type": "markdown",
   "metadata": {},
   "source": []
  }
 ],
 "metadata": {
  "kernelspec": {
   "display_name": "localwindowsenv",
   "language": "python",
   "name": "python3"
  },
  "language_info": {
   "codemirror_mode": {
    "name": "ipython",
    "version": 3
   },
   "file_extension": ".py",
   "mimetype": "text/x-python",
   "name": "python",
   "nbconvert_exporter": "python",
   "pygments_lexer": "ipython3",
   "version": "3.10.8"
  },
  "orig_nbformat": 4
 },
 "nbformat": 4,
 "nbformat_minor": 2
}
