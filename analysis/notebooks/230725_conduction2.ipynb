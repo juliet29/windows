{
 "cells": [
  {
   "cell_type": "markdown",
   "metadata": {},
   "source": [
    "# Transient 1D Heat Conduction"
   ]
  },
  {
   "cell_type": "code",
   "execution_count": 181,
   "metadata": {},
   "outputs": [],
   "source": [
    "import sympy as smp\n",
    "\n",
    "from sympy import * \n",
    "\n",
    "# from sympy import symbols, Eq, Function, dsolve, lambdify, exp, cos, sin\n",
    "from sympy.calculus.util import periodicity\n",
    "import numpy as np\n",
    "\n",
    "\n",
    "import plotly.graph_objects as go\n",
    "from plotly.subplots import make_subplots"
   ]
  },
  {
   "cell_type": "code",
   "execution_count": 182,
   "metadata": {},
   "outputs": [],
   "source": [
    "smp.init_printing(pretty_print=True)"
   ]
  },
  {
   "cell_type": "code",
   "execution_count": 183,
   "metadata": {},
   "outputs": [
    {
     "data": {
      "image/png": "[encoded data removed]",
      "text/latex": [
       "$\\displaystyle θ{\\left(X,\\tau \\right)}$"
      ],
      "text/plain": [
       "θ(X, τ)"
      ]
     },
     "execution_count": 183,
     "metadata": {},
     "output_type": "execute_result"
    }
   ],
   "source": [
    "# starting from basically the solution ..\n",
    "x, tau = symbols(\"X tau\")\n",
    "theta = symbols(\"θ\", cls=Function)(x, tau)\n",
    "theta\n"
   ]
  },
  {
   "cell_type": "code",
   "execution_count": 184,
   "metadata": {},
   "outputs": [
    {
     "data": {
      "image/png": "[encoded data removed]",
      "text/latex": [
       "$\\displaystyle Bi$"
      ],
      "text/plain": [
       "Bi"
      ]
     },
     "execution_count": 184,
     "metadata": {},
     "output_type": "execute_result"
    }
   ],
   "source": [
    "# Bi = 2\n",
    "lam, A, B, Bi = symbols(\"lambda A B, Bi\")\n",
    "lam = symbols(\"lambda\", real=True, positive=True)\n",
    "lam\n",
    "Bi"
   ]
  },
  {
   "cell_type": "code",
   "execution_count": 185,
   "metadata": {},
   "outputs": [
    {
     "data": {
      "image/png": "[encoded data removed]",
      "text/latex": [
       "$\\displaystyle θ{\\left(X,\\tau \\right)} = \\left(A \\cos{\\left(X \\lambda \\right)} + B \\sin{\\left(X \\lambda \\right)}\\right) e^{- \\lambda^{2} \\tau}$"
      ],
      "text/plain": [
       "                                       2  \n",
       "                                     -λ ⋅τ\n",
       "θ(X, τ) = (A⋅cos(X⋅λ) + B⋅sin(X⋅λ))⋅ℯ     "
      ]
     },
     "execution_count": 185,
     "metadata": {},
     "output_type": "execute_result"
    }
   ],
   "source": [
    "sol = exp(-lam**2*tau) * (A*cos(lam*x) + B*sin(lam*x))\n",
    "gen_eq = Eq(theta, sol )\n",
    "gen_eq"
   ]
  },
  {
   "cell_type": "code",
   "execution_count": 186,
   "metadata": {},
   "outputs": [
    {
     "data": {
      "image/png": "[encoded data removed]",
      "text/latex": [
       "$\\displaystyle 0$"
      ],
      "text/plain": [
       "0"
      ]
     },
     "execution_count": 186,
     "metadata": {},
     "output_type": "execute_result"
    }
   ],
   "source": [
    "bc1_eq = Eq(gen_eq.rhs.diff(x).subs(x,0), 0)\n",
    "# bc1_sol = bc1_eq\n",
    "B_solve = smp.solve(bc1_eq, B)[0]\n",
    "B_solve"
   ]
  },
  {
   "cell_type": "code",
   "execution_count": 187,
   "metadata": {},
   "outputs": [
    {
     "data": {
      "image/png": "[encoded data removed]",
      "text/latex": [
       "$\\displaystyle θ{\\left(X,\\tau \\right)} = A e^{- \\lambda^{2} \\tau} \\cos{\\left(X \\lambda \\right)}$"
      ],
      "text/plain": [
       "               2           \n",
       "             -λ ⋅τ         \n",
       "θ(X, τ) = A⋅ℯ     ⋅cos(X⋅λ)"
      ]
     },
     "execution_count": 187,
     "metadata": {},
     "output_type": "execute_result"
    }
   ],
   "source": [
    "gen_eq2 = Eq(theta, gen_eq.rhs.subs(B, B_solve))\n",
    "gen_eq2"
   ]
  },
  {
   "cell_type": "code",
   "execution_count": 188,
   "metadata": {},
   "outputs": [
    {
     "data": {
      "image/png": "[encoded data removed]",
      "text/latex": [
       "$\\displaystyle - A \\lambda e^{- \\lambda^{2} \\tau} \\sin{\\left(\\lambda \\right)} = - A Bi e^{- \\lambda^{2} \\tau} \\cos{\\left(\\lambda \\right)}$"
      ],
      "text/plain": [
       "        2                     2         \n",
       "      -λ ⋅τ                 -λ ⋅τ       \n",
       "-A⋅λ⋅ℯ     ⋅sin(λ) = -A⋅Bi⋅ℯ     ⋅cos(λ)"
      ]
     },
     "execution_count": 188,
     "metadata": {},
     "output_type": "execute_result"
    }
   ],
   "source": [
    "bc2_eq = Eq(gen_eq2.rhs.diff(x).subs(x,1), -Bi*gen_eq2.rhs.subs(x,1))\n",
    "bc2_eq "
   ]
  },
  {
   "cell_type": "code",
   "execution_count": 261,
   "metadata": {},
   "outputs": [
    {
     "data": {
      "image/png": "[encoded data removed]",
      "text/latex": [
       "$\\displaystyle \\lambda \\tan{\\left(\\lambda \\right)}$"
      ],
      "text/plain": [
       "λ⋅tan(λ)"
      ]
     },
     "execution_count": 261,
     "metadata": {},
     "output_type": "execute_result"
    }
   ],
   "source": [
    "Bi_solve = smp.solve(bc2_eq, Bi, domain=smp.S.Reals)[0]\n",
    "Bi_solve # has infinite values... "
   ]
  },
  {
   "cell_type": "code",
   "execution_count": 245,
   "metadata": {},
   "outputs": [
    {
     "data": {
      "image/png": "[encoded data removed]",
      "text/latex": [
       "$\\displaystyle {A}_{n}$"
      ],
      "text/plain": [
       "A[n]"
      ]
     },
     "execution_count": 245,
     "metadata": {},
     "output_type": "execute_result"
    }
   ],
   "source": [
    "# short cut\n",
    "lam_n = Indexed(\"lambda\", n)\n",
    "A_n = Indexed(\"A\", n)\n",
    "A_n"
   ]
  },
  {
   "cell_type": "code",
   "execution_count": 246,
   "metadata": {},
   "outputs": [
    {
     "data": {
      "image/png": "[encoded data removed]",
      "text/latex": [
       "$\\displaystyle \\frac{4 \\sin{\\left({\\lambda}_{n} \\right)}}{\\sin{\\left(2 {\\lambda}_{n} \\right)} + 2 {\\lambda}_{n}}$"
      ],
      "text/plain": [
       "       4⋅sin(lambda[n])       \n",
       "──────────────────────────────\n",
       "sin(2⋅lambda[n]) + 2⋅lambda[n]"
      ]
     },
     "execution_count": 246,
     "metadata": {},
     "output_type": "execute_result"
    }
   ],
   "source": [
    "An_sol = (4*sin(lam_n))/(2*lam_n + sin(2*lam_n))\n",
    "An_sol"
   ]
  },
  {
   "cell_type": "code",
   "execution_count": 250,
   "metadata": {},
   "outputs": [
    {
     "data": {
      "image/png": "[encoded data removed]",
      "text/latex": [
       "$\\displaystyle \\frac{4 e^{- \\tau {\\lambda}_{n}^{2}} \\sin{\\left({\\lambda}_{n} \\right)} \\cos{\\left(X {\\lambda}_{n} \\right)} {A}_{n}}{\\sin{\\left(2 {\\lambda}_{n} \\right)} + 2 {\\lambda}_{n}}$"
      ],
      "text/plain": [
       "               2                                     \n",
       "   -τ⋅lambda[n]                                      \n",
       "4⋅ℯ             ⋅sin(lambda[n])⋅cos(X⋅lambda[n])⋅A[n]\n",
       "─────────────────────────────────────────────────────\n",
       "            sin(2⋅lambda[n]) + 2⋅lambda[n]           "
      ]
     },
     "execution_count": 250,
     "metadata": {},
     "output_type": "execute_result"
    }
   ],
   "source": [
    "spec_sol = gen_eq2.rhs.subs([(lam, lam_n), (A, A_n)])*An_sol\n",
    "spec_sol"
   ]
  },
  {
   "cell_type": "code",
   "execution_count": 263,
   "metadata": {},
   "outputs": [
    {
     "data": {
      "image/png": "[encoded data removed]",
      "text/latex": [
       "$\\displaystyle Bi = \\tan{\\left({\\lambda}_{n} \\right)} {\\lambda}_{n}$"
      ],
      "text/plain": [
       "Bi = tan(lambda[n])⋅lambda[n]"
      ]
     },
     "execution_count": 263,
     "metadata": {},
     "output_type": "execute_result"
    }
   ],
   "source": [
    "Bi_eq = Eq(Bi, Bi_solve.subs(lam, lam_n))\n",
    "Bi_eq"
   ]
  },
  {
   "cell_type": "code",
   "execution_count": 273,
   "metadata": {},
   "outputs": [
    {
     "data": {
      "image/png": "[encoded data removed]",
      "text/latex": [
       "$\\displaystyle \\left\\{\\lambda\\; \\middle|\\; \\lambda \\in \\mathbb{C} \\wedge - Bi + \\lambda \\tan{\\left(\\lambda \\right)} = 0 \\right\\}$"
      ],
      "text/plain": [
       "{λ │ λ ∊ ℂ ∧ (-Bi + λ⋅tan(λ) = 0)}"
      ]
     },
     "execution_count": 273,
     "metadata": {},
     "output_type": "execute_result"
    }
   ],
   "source": [
    "solveset(Eq(Bi, Bi_solve), lam)"
   ]
  },
  {
   "cell_type": "code",
   "execution_count": 267,
   "metadata": {},
   "outputs": [
    {
     "data": {
      "text/plain": [
       "array([0.1, 0.2, 0.3, 0.4, 0.5, 0.6, 0.7, 0.8, 0.9, 1. ])"
      ]
     },
     "execution_count": 267,
     "metadata": {},
     "output_type": "execute_result"
    }
   ],
   "source": [
    "Bi_vals = np.linspace(0.1, 1, 10)\n",
    "Bi_vals"
   ]
  },
  {
   "cell_type": "code",
   "execution_count": 269,
   "metadata": {},
   "outputs": [
    {
     "data": {
      "text/plain": [
       "<function _lambdifygenerated(lambda_)>"
      ]
     },
     "execution_count": 269,
     "metadata": {},
     "output_type": "execute_result"
    }
   ],
   "source": [
    "fBi = lambdify(lam, Bi_solve )\n",
    "fBi"
   ]
  },
  {
   "cell_type": "code",
   "execution_count": 271,
   "metadata": {},
   "outputs": [
    {
     "data": {
      "image/png": "[encoded data removed]",
      "text/latex": [
       "$\\displaystyle 0.0100334672085451$"
      ],
      "text/plain": [
       "0.010033467208545054"
      ]
     },
     "execution_count": 271,
     "metadata": {},
     "output_type": "execute_result"
    }
   ],
   "source": [
    "fBi(0.1)"
   ]
  },
  {
   "cell_type": "code",
   "execution_count": 235,
   "metadata": {},
   "outputs": [
    {
     "data": {
      "image/png": "[encoded data removed]",
      "text/latex": [
       "$\\displaystyle e^{- \\tau {\\lambda}_{n}^{2}} \\cos{\\left(X {\\lambda}_{n} \\right)} {A}_{n}$"
      ],
      "text/plain": [
       "             2                      \n",
       " -τ⋅lambda[n]                       \n",
       "ℯ             ⋅cos(X⋅lambda[n])⋅A[n]"
      ]
     },
     "execution_count": 235,
     "metadata": {},
     "output_type": "execute_result"
    }
   ],
   "source": [
    "\n",
    "# # solution is a linear combination of thetas...\n",
    "# index_eq = gen_eq2.rhs.subs([(lam, Indexed(\"lambda\", n)),\n",
    "#         (A, Indexed(\"A\", n))])\n",
    "# # gen_eq3 = Eq(theta, Sum(), \n",
    "# #         (n, 1, 10)))\n",
    "# # gen_eq3\n",
    "# index_eq# Sum(gen_eq2.rhs.subs(lam, Indexed(\"lambda\", n)), (n, 1, 3))#.doit()"
   ]
  }
 ],
 "metadata": {
  "kernelspec": {
   "display_name": "localwindowsenv",
   "language": "python",
   "name": "python3"
  },
  "language_info": {
   "codemirror_mode": {
    "name": "ipython",
    "version": 3
   },
   "file_extension": ".py",
   "mimetype": "text/x-python",
   "name": "python",
   "nbconvert_exporter": "python",
   "pygments_lexer": "ipython3",
   "version": "3.9.15"
  },
  "orig_nbformat": 4
 },
 "nbformat": 4,
 "nbformat_minor": 2
}
