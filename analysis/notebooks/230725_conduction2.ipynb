{
 "cells": [
  {
   "cell_type": "markdown",
   "metadata": {},
   "source": [
    "# Transient 1D Heat Conduction"
   ]
  },
  {
   "cell_type": "code",
   "execution_count": 11,
   "metadata": {},
   "outputs": [],
   "source": [
    "import sympy as smp\n",
    "\n",
    "from sympy import symbols, Eq, Function, dsolve, lambdify, exp, cos, sin\n",
    "import numpy as np\n",
    "\n",
    "\n",
    "import plotly.graph_objects as go\n",
    "from plotly.subplots import make_subplots"
   ]
  },
  {
   "cell_type": "code",
   "execution_count": 44,
   "metadata": {},
   "outputs": [],
   "source": [
    "smp.init_printing(pretty_print=True)"
   ]
  },
  {
   "cell_type": "code",
   "execution_count": 3,
   "metadata": {},
   "outputs": [
    {
     "data": {
      "text/latex": [
       "$\\displaystyle θ{\\left(X,\\tau \\right)}$"
      ],
      "text/plain": [
       "θ(X, tau)"
      ]
     },
     "execution_count": 3,
     "metadata": {},
     "output_type": "execute_result"
    }
   ],
   "source": [
    "# starting from basically the solution ..\n",
    "x, tau = symbols(\"X tau\")\n",
    "theta = symbols(\"θ\", cls=Function)(x, tau)\n",
    "theta\n"
   ]
  },
  {
   "cell_type": "code",
   "execution_count": 4,
   "metadata": {},
   "outputs": [
    {
     "data": {
      "text/latex": [
       "$\\displaystyle \\lambda$"
      ],
      "text/plain": [
       "lambda"
      ]
     },
     "execution_count": 4,
     "metadata": {},
     "output_type": "execute_result"
    }
   ],
   "source": [
    "lam, A, B = symbols(\"lambda A B\")\n",
    "lam"
   ]
  },
  {
   "cell_type": "code",
   "execution_count": 15,
   "metadata": {},
   "outputs": [
    {
     "data": {
      "text/latex": [
       "$\\displaystyle \\left(A \\cos{\\left(X \\lambda \\right)} + B \\sin{\\left(X \\lambda \\right)}\\right) e^{- \\lambda^{2} \\tau}$"
      ],
      "text/plain": [
       "(A*cos(X*lambda) + B*sin(X*lambda))*exp(-lambda**2*tau)"
      ]
     },
     "execution_count": 15,
     "metadata": {},
     "output_type": "execute_result"
    }
   ],
   "source": [
    "rhs = exp(-lam**2*tau) * (A*cos(lam*x) + B*sin(lam*x))\n",
    "rhs"
   ]
  },
  {
   "cell_type": "code",
   "execution_count": 29,
   "metadata": {},
   "outputs": [
    {
     "data": {
      "text/latex": [
       "$\\displaystyle θ{\\left(X,\\tau \\right)} = \\left(A \\cos{\\left(X \\lambda \\right)} + B \\sin{\\left(X \\lambda \\right)}\\right) e^{- \\lambda^{2} \\tau}$"
      ],
      "text/plain": [
       "Eq(θ(X, tau), (A*cos(X*lambda) + B*sin(X*lambda))*exp(-lambda**2*tau))"
      ]
     },
     "execution_count": 29,
     "metadata": {},
     "output_type": "execute_result"
    }
   ],
   "source": [
    "eqs = [\n",
    "    Eq(theta, rhs),\n",
    "]\n",
    "eqs = eqs[0]\n",
    "eqs"
   ]
  },
  {
   "cell_type": "code",
   "execution_count": 20,
   "metadata": {},
   "outputs": [
    {
     "data": {
      "text/latex": [
       "$\\displaystyle \\left. \\frac{\\partial}{\\partial X} θ{\\left(X,\\tau \\right)} \\right|_{\\substack{ X=0 }}$"
      ],
      "text/plain": [
       "Subs(Derivative(θ(X, tau), X), X, 0)"
      ]
     },
     "execution_count": 20,
     "metadata": {},
     "output_type": "execute_result"
    }
   ],
   "source": [
    "theta.diff(x).subs(x, 0)"
   ]
  },
  {
   "cell_type": "code",
   "execution_count": 21,
   "metadata": {},
   "outputs": [],
   "source": [
    "Bi = 2"
   ]
  },
  {
   "cell_type": "code",
   "execution_count": 33,
   "metadata": {},
   "outputs": [
    {
     "data": {
      "text/latex": [
       "$\\displaystyle B \\lambda e^{- \\lambda^{2} \\tau}$"
      ],
      "text/plain": [
       "B*lambda*exp(-lambda**2*tau)"
      ]
     },
     "execution_count": 33,
     "metadata": {},
     "output_type": "execute_result"
    }
   ],
   "source": [
    "rhs.diff(x).subs(x,0) "
   ]
  },
  {
   "cell_type": "code",
   "execution_count": 45,
   "metadata": {},
   "outputs": [
    {
     "data": {
      "image/png": "[encoded data removed]",
      "text/latex": [
       "$\\displaystyle \\left[ 0\\right]$"
      ],
      "text/plain": [
       "[0]"
      ]
     },
     "execution_count": 45,
     "metadata": {},
     "output_type": "execute_result"
    }
   ],
   "source": [
    "smp.solve(rhs.diff(x).subs(x,0), B)"
   ]
  },
  {
   "cell_type": "code",
   "execution_count": 41,
   "metadata": {},
   "outputs": [
    {
     "data": {
      "text/latex": [
       "$\\displaystyle - A \\lambda e^{- \\lambda^{2} \\tau} \\sin{\\left(\\lambda \\right)} + 2 θ{\\left(1,\\tau \\right)}$"
      ],
      "text/plain": [
       "-A*lambda*exp(-lambda**2*tau)*sin(lambda) + 2*θ(1, tau)"
      ]
     },
     "execution_count": 41,
     "metadata": {},
     "output_type": "execute_result"
    }
   ],
   "source": [
    "cond2 = rhs.subs(B, 0).diff(x).subs(x,1) + Bi * theta.subs(x, 1)\n",
    "cond2"
   ]
  },
  {
   "cell_type": "code",
   "execution_count": 43,
   "metadata": {},
   "outputs": [
    {
     "ename": "IndexError",
     "evalue": "tuple index out of range",
     "output_type": "error",
     "traceback": [
      "\u001b[0;31m---------------------------------------------------------------------------\u001b[0m",
      "\u001b[0;31mIndexError\u001b[0m                                Traceback (most recent call last)",
      "Cell \u001b[0;32mIn[43], line 1\u001b[0m\n\u001b[0;32m----> 1\u001b[0m smp\u001b[39m.\u001b[39;49mrsolve(cond2, lam) \u001b[39m# NotImplementedError\u001b[39;00m\n",
      "File \u001b[0;32m~/_UILCode/windows/localwindowsenv/lib/python3.9/site-packages/sympy/solvers/recurr.py:733\u001b[0m, in \u001b[0;36mrsolve\u001b[0;34m(f, y, init)\u001b[0m\n\u001b[1;32m    730\u001b[0m \u001b[39mif\u001b[39;00m \u001b[39misinstance\u001b[39m(f, Equality):\n\u001b[1;32m    731\u001b[0m     f \u001b[39m=\u001b[39m f\u001b[39m.\u001b[39mlhs \u001b[39m-\u001b[39m f\u001b[39m.\u001b[39mrhs\n\u001b[0;32m--> 733\u001b[0m n \u001b[39m=\u001b[39m y\u001b[39m.\u001b[39;49margs[\u001b[39m0\u001b[39;49m]\n\u001b[1;32m    734\u001b[0m k \u001b[39m=\u001b[39m Wild(\u001b[39m'\u001b[39m\u001b[39mk\u001b[39m\u001b[39m'\u001b[39m, exclude\u001b[39m=\u001b[39m(n,))\n\u001b[1;32m    736\u001b[0m \u001b[39m# Preprocess user input to allow things like\u001b[39;00m\n\u001b[1;32m    737\u001b[0m \u001b[39m# y(n) + a*(y(n + 1) + y(n - 1))/2\u001b[39;00m\n",
      "\u001b[0;31mIndexError\u001b[0m: tuple index out of range"
     ]
    }
   ],
   "source": [
    "smp.solve(cond2, lam) # NotImplementedError"
   ]
  },
  {
   "cell_type": "code",
   "execution_count": 46,
   "metadata": {},
   "outputs": [
    {
     "data": {
      "text/latex": [
       "$\\displaystyle \\left\\{ θ{\\left(X,0 \\right)} : 1, \\  \\left. \\frac{\\partial}{\\partial X} θ{\\left(X,\\tau \\right)} \\right|_{\\substack{ X=0 }} : 0, \\  \\left. \\frac{\\partial}{\\partial X} θ{\\left(X,\\tau \\right)} \\right|_{\\substack{ X=1 }} : - 2 θ{\\left(1,\\tau \\right)}\\right\\}$"
      ],
      "text/plain": [
       "⎧            ⎛∂          ⎞│        ⎛∂          ⎞│               ⎫\n",
       "⎨θ(X, 0): 1, ⎜──(θ(X, τ))⎟│   : 0, ⎜──(θ(X, τ))⎟│   : -2⋅θ(1, τ)⎬\n",
       "⎩            ⎝∂X         ⎠│X=0     ⎝∂X         ⎠│X=1            ⎭"
      ]
     },
     "execution_count": 46,
     "metadata": {},
     "output_type": "execute_result"
    }
   ],
   "source": [
    "ics = {\n",
    "theta.diff(x).subs(x, 0): 0, \n",
    "theta.diff(x).subs(x, 1): -Bi * theta.subs(x, 1),\n",
    "theta.subs(tau, 0): 1\n",
    "\n",
    "}\n",
    "ics"
   ]
  },
  {
   "cell_type": "code",
   "execution_count": null,
   "metadata": {},
   "outputs": [],
   "source": []
  },
  {
   "cell_type": "code",
   "execution_count": 34,
   "metadata": {},
   "outputs": [
    {
     "ename": "KeyError",
     "evalue": "'ordered_hints'",
     "output_type": "error",
     "traceback": [
      "\u001b[0;31m---------------------------------------------------------------------------\u001b[0m",
      "\u001b[0;31mKeyError\u001b[0m                                  Traceback (most recent call last)",
      "Cell \u001b[0;32mIn[34], line 1\u001b[0m\n\u001b[0;32m----> 1\u001b[0m theta_exact \u001b[39m=\u001b[39m smp\u001b[39m.\u001b[39;49mpdsolve(eqs, theta)\n\u001b[1;32m      2\u001b[0m theta_exact\n",
      "File \u001b[0;32m~/_UILCode/windows/localwindowsenv/lib/python3.9/site-packages/sympy/solvers/pde.py:169\u001b[0m, in \u001b[0;36mpdsolve\u001b[0;34m(eq, func, hint, dict, solvefun, **kwargs)\u001b[0m\n\u001b[1;32m    166\u001b[0m     solvefun \u001b[39m=\u001b[39m Function(\u001b[39m'\u001b[39m\u001b[39mF\u001b[39m\u001b[39m'\u001b[39m)\n\u001b[1;32m    168\u001b[0m \u001b[39m# See the docstring of _desolve for more details.\u001b[39;00m\n\u001b[0;32m--> 169\u001b[0m hints \u001b[39m=\u001b[39m _desolve(eq, func\u001b[39m=\u001b[39;49mfunc, hint\u001b[39m=\u001b[39;49mhint, simplify\u001b[39m=\u001b[39;49m\u001b[39mTrue\u001b[39;49;00m,\n\u001b[1;32m    170\u001b[0m                  \u001b[39mtype\u001b[39;49m\u001b[39m=\u001b[39;49m\u001b[39m'\u001b[39;49m\u001b[39mpde\u001b[39;49m\u001b[39m'\u001b[39;49m, \u001b[39m*\u001b[39;49m\u001b[39m*\u001b[39;49mkwargs)\n\u001b[1;32m    171\u001b[0m eq \u001b[39m=\u001b[39m hints\u001b[39m.\u001b[39mpop(\u001b[39m'\u001b[39m\u001b[39meq\u001b[39m\u001b[39m'\u001b[39m, \u001b[39mFalse\u001b[39;00m)\n\u001b[1;32m    172\u001b[0m all_ \u001b[39m=\u001b[39m hints\u001b[39m.\u001b[39mpop(\u001b[39m'\u001b[39m\u001b[39mall\u001b[39m\u001b[39m'\u001b[39m, \u001b[39mFalse\u001b[39;00m)\n",
      "File \u001b[0;32m~/_UILCode/windows/localwindowsenv/lib/python3.9/site-packages/sympy/solvers/deutils.py:233\u001b[0m, in \u001b[0;36m_desolve\u001b[0;34m(eq, func, hint, ics, simplify, prep, **kwargs)\u001b[0m\n\u001b[1;32m    231\u001b[0m \u001b[39mif\u001b[39;00m hint \u001b[39mnot\u001b[39;00m \u001b[39min\u001b[39;00m allhints \u001b[39mand\u001b[39;00m hint \u001b[39m!=\u001b[39m \u001b[39m'\u001b[39m\u001b[39mdefault\u001b[39m\u001b[39m'\u001b[39m:\n\u001b[1;32m    232\u001b[0m     \u001b[39mraise\u001b[39;00m \u001b[39mValueError\u001b[39;00m(\u001b[39m\"\u001b[39m\u001b[39mHint not recognized: \u001b[39m\u001b[39m\"\u001b[39m \u001b[39m+\u001b[39m hint)\n\u001b[0;32m--> 233\u001b[0m \u001b[39melif\u001b[39;00m hint \u001b[39mnot\u001b[39;00m \u001b[39min\u001b[39;00m hints[\u001b[39m'\u001b[39;49m\u001b[39mordered_hints\u001b[39;49m\u001b[39m'\u001b[39;49m] \u001b[39mand\u001b[39;00m hint \u001b[39m!=\u001b[39m \u001b[39m'\u001b[39m\u001b[39mdefault\u001b[39m\u001b[39m'\u001b[39m:\n\u001b[1;32m    234\u001b[0m     \u001b[39mraise\u001b[39;00m \u001b[39mValueError\u001b[39;00m(string \u001b[39m+\u001b[39m \u001b[39mstr\u001b[39m(eq) \u001b[39m+\u001b[39m \u001b[39m\"\u001b[39m\u001b[39m does not match hint \u001b[39m\u001b[39m\"\u001b[39m \u001b[39m+\u001b[39m hint)\n\u001b[1;32m    235\u001b[0m \u001b[39m# If dsolve can't solve the purely algebraic equation then dsolve will raise\u001b[39;00m\n\u001b[1;32m    236\u001b[0m \u001b[39m# ValueError\u001b[39;00m\n",
      "\u001b[0;31mKeyError\u001b[0m: 'ordered_hints'"
     ]
    }
   ],
   "source": [
    "theta_exact = smp.pdsolve(eqs, theta, ics=ics)\n",
    "theta_exact"
   ]
  }
 ],
 "metadata": {
  "kernelspec": {
   "display_name": "localwindowsenv",
   "language": "python",
   "name": "python3"
  },
  "language_info": {
   "codemirror_mode": {
    "name": "ipython",
    "version": 3
   },
   "file_extension": ".py",
   "mimetype": "text/x-python",
   "name": "python",
   "nbconvert_exporter": "python",
   "pygments_lexer": "ipython3",
   "version": "3.9.15"
  },
  "orig_nbformat": 4
 },
 "nbformat": 4,
 "nbformat_minor": 2
}
