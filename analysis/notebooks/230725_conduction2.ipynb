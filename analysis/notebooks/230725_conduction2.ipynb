{
 "cells": [
  {
   "cell_type": "markdown",
   "metadata": {},
   "source": [
    "# Transient 1D Heat Conduction"
   ]
  },
  {
   "cell_type": "code",
   "execution_count": 181,
   "metadata": {},
   "outputs": [],
   "source": [
    "import sympy as smp\n",
    "\n",
    "from sympy import * \n",
    "\n",
    "# from sympy import symbols, Eq, Function, dsolve, lambdify, exp, cos, sin\n",
    "from sympy.calculus.util import periodicity\n",
    "import numpy as np\n",
    "\n",
    "\n",
    "import plotly.graph_objects as go\n",
    "from plotly.subplots import make_subplots"
   ]
  },
  {
   "cell_type": "code",
   "execution_count": 182,
   "metadata": {},
   "outputs": [],
   "source": [
    "smp.init_printing(pretty_print=True)"
   ]
  },
  {
   "cell_type": "code",
   "execution_count": 183,
   "metadata": {},
   "outputs": [
    {
     "data": {
      "image/png": "[encoded data removed]",
      "text/latex": [
       "$\\displaystyle θ{\\left(X,\\tau \\right)}$"
      ],
      "text/plain": [
       "θ(X, τ)"
      ]
     },
     "execution_count": 183,
     "metadata": {},
     "output_type": "execute_result"
    }
   ],
   "source": [
    "# starting from basically the solution ..\n",
    "x, tau = symbols(\"X tau\")\n",
    "theta = symbols(\"θ\", cls=Function)(x, tau)\n",
    "theta\n"
   ]
  },
  {
   "cell_type": "code",
   "execution_count": 184,
   "metadata": {},
   "outputs": [
    {
     "data": {
      "image/png": "[encoded data removed]",
      "text/latex": [
       "$\\displaystyle Bi$"
      ],
      "text/plain": [
       "Bi"
      ]
     },
     "execution_count": 184,
     "metadata": {},
     "output_type": "execute_result"
    }
   ],
   "source": [
    "# Bi = 2\n",
    "lam, A, B, Bi = symbols(\"lambda A B, Bi\")\n",
    "lam = symbols(\"lambda\", real=True, positive=True)\n",
    "lam\n",
    "Bi"
   ]
  },
  {
   "cell_type": "code",
   "execution_count": 185,
   "metadata": {},
   "outputs": [
    {
     "data": {
      "image/png": "[encoded data removed]",
      "text/latex": [
       "$\\displaystyle θ{\\left(X,\\tau \\right)} = \\left(A \\cos{\\left(X \\lambda \\right)} + B \\sin{\\left(X \\lambda \\right)}\\right) e^{- \\lambda^{2} \\tau}$"
      ],
      "text/plain": [
       "                                       2  \n",
       "                                     -λ ⋅τ\n",
       "θ(X, τ) = (A⋅cos(X⋅λ) + B⋅sin(X⋅λ))⋅ℯ     "
      ]
     },
     "execution_count": 185,
     "metadata": {},
     "output_type": "execute_result"
    }
   ],
   "source": [
    "sol = exp(-lam**2*tau) * (A*cos(lam*x) + B*sin(lam*x))\n",
    "gen_eq = Eq(theta, sol )\n",
    "gen_eq"
   ]
  },
  {
   "cell_type": "code",
   "execution_count": 186,
   "metadata": {},
   "outputs": [
    {
     "data": {
      "image/png": "[encoded data removed]",
      "text/latex": [
       "$\\displaystyle 0$"
      ],
      "text/plain": [
       "0"
      ]
     },
     "execution_count": 186,
     "metadata": {},
     "output_type": "execute_result"
    }
   ],
   "source": [
    "bc1_eq = Eq(gen_eq.rhs.diff(x).subs(x,0), 0)\n",
    "# bc1_sol = bc1_eq\n",
    "B_solve = smp.solve(bc1_eq, B)[0]\n",
    "B_solve"
   ]
  },
  {
   "cell_type": "code",
   "execution_count": 187,
   "metadata": {},
   "outputs": [
    {
     "data": {
      "image/png": "[encoded data removed]",
      "text/latex": [
       "$\\displaystyle θ{\\left(X,\\tau \\right)} = A e^{- \\lambda^{2} \\tau} \\cos{\\left(X \\lambda \\right)}$"
      ],
      "text/plain": [
       "               2           \n",
       "             -λ ⋅τ         \n",
       "θ(X, τ) = A⋅ℯ     ⋅cos(X⋅λ)"
      ]
     },
     "execution_count": 187,
     "metadata": {},
     "output_type": "execute_result"
    }
   ],
   "source": [
    "gen_eq2 = Eq(theta, gen_eq.rhs.subs(B, B_solve))\n",
    "gen_eq2"
   ]
  },
  {
   "cell_type": "code",
   "execution_count": 188,
   "metadata": {},
   "outputs": [
    {
     "data": {
      "image/png": "[encoded data removed]",
      "text/latex": [
       "$\\displaystyle - A \\lambda e^{- \\lambda^{2} \\tau} \\sin{\\left(\\lambda \\right)} = - A Bi e^{- \\lambda^{2} \\tau} \\cos{\\left(\\lambda \\right)}$"
      ],
      "text/plain": [
       "        2                     2         \n",
       "      -λ ⋅τ                 -λ ⋅τ       \n",
       "-A⋅λ⋅ℯ     ⋅sin(λ) = -A⋅Bi⋅ℯ     ⋅cos(λ)"
      ]
     },
     "execution_count": 188,
     "metadata": {},
     "output_type": "execute_result"
    }
   ],
   "source": [
    "bc2_eq = Eq(gen_eq2.rhs.diff(x).subs(x,1), -Bi*gen_eq2.rhs.subs(x,1))\n",
    "bc2_eq "
   ]
  },
  {
   "cell_type": "code",
   "execution_count": 197,
   "metadata": {},
   "outputs": [
    {
     "data": {
      "image/png": "[encoded data removed]",
      "text/latex": [
       "$\\displaystyle \\mathbb{R} \\cap \\left\\{\\frac{\\lambda \\sin{\\left(\\lambda \\right)}}{\\cos{\\left(\\lambda \\right)}}\\right\\}$"
      ],
      "text/plain": [
       "    ⎧λ⋅sin(λ)⎫\n",
       "ℝ ∩ ⎨────────⎬\n",
       "    ⎩ cos(λ) ⎭"
      ]
     },
     "execution_count": 197,
     "metadata": {},
     "output_type": "execute_result"
    }
   ],
   "source": [
    "Bi_solve = smp.solveset(bc2_eq, Bi, domain=smp.S.Reals)\n",
    "Bi_solve # has infinite values... "
   ]
  },
  {
   "cell_type": "code",
   "execution_count": 235,
   "metadata": {},
   "outputs": [
    {
     "data": {
      "image/png": "[encoded data removed]",
      "text/latex": [
       "$\\displaystyle e^{- \\tau {\\lambda}_{n}^{2}} \\cos{\\left(X {\\lambda}_{n} \\right)} {A}_{n}$"
      ],
      "text/plain": [
       "             2                      \n",
       " -τ⋅lambda[n]                       \n",
       "ℯ             ⋅cos(X⋅lambda[n])⋅A[n]"
      ]
     },
     "execution_count": 235,
     "metadata": {},
     "output_type": "execute_result"
    }
   ],
   "source": [
    "# solution is a linear combination of thetas...\n",
    "index_eq = gen_eq2.rhs.subs([(lam, Indexed(\"lambda\", n)),\n",
    "        (A, Indexed(\"A\", n))])\n",
    "# gen_eq3 = Eq(theta, Sum(), \n",
    "#         (n, 1, 10)))\n",
    "# gen_eq3\n",
    "index_eq\n",
    "# Sum(gen_eq2.rhs.subs(lam, Indexed(\"lambda\", n)), (n, 1, 3))#.doit()"
   ]
  },
  {
   "cell_type": "code",
   "execution_count": 238,
   "metadata": {},
   "outputs": [
    {
     "data": {
      "image/png": "[encoded data removed]",
      "text/latex": [
       "$\\displaystyle \\frac{2 e^{- \\lambda^{2} \\tau} \\sin{\\left(\\pi A \\right)} \\cos{\\left(X \\lambda \\right)}}{\\pi} - \\frac{e^{- \\lambda^{2} \\tau} \\sin{\\left(2 \\pi A \\right)} \\cos{\\left(X \\lambda \\right)}}{\\pi} + 2 e^{- \\lambda^{2} \\tau} \\cos{\\left(X \\lambda \\right)} + \\ldots$"
      ],
      "text/plain": [
       "     2                          2                                             \n",
       "   -λ ⋅τ                      -λ ⋅τ                            2              \n",
       "2⋅ℯ     ⋅sin(π⋅A)⋅cos(X⋅λ)   ℯ     ⋅sin(2⋅π⋅A)⋅cos(X⋅λ)      -λ ⋅τ            \n",
       "────────────────────────── - ────────────────────────── + 2⋅ℯ     ⋅cos(X⋅λ) + \n",
       "            π                            π                                    \n",
       "\n",
       " \n",
       " \n",
       " \n",
       "…\n",
       " "
      ]
     },
     "execution_count": 238,
     "metadata": {},
     "output_type": "execute_result"
    }
   ],
   "source": [
    "fs = fourier_series(gen_eq2.rhs, (A, 1, 3))\n",
    "fs"
   ]
  },
  {
   "cell_type": "code",
   "execution_count": 240,
   "metadata": {},
   "outputs": [
    {
     "data": {
      "text/plain": [
       "sympy.series.fourier.FourierSeries"
      ]
     },
     "execution_count": 240,
     "metadata": {},
     "output_type": "execute_result"
    }
   ],
   "source": [
    "type(fs)"
   ]
  },
  {
   "cell_type": "code",
   "execution_count": 241,
   "metadata": {},
   "outputs": [
    {
     "data": {
      "image/png": "[encoded data removed]",
      "text/latex": [
       "$\\displaystyle \\left[0, 0, 0, 0, \\ldots\\right]$"
      ],
      "text/plain": [
       "[0, 0, 0, 0, …]"
      ]
     },
     "execution_count": 241,
     "metadata": {},
     "output_type": "execute_result"
    }
   ],
   "source": [
    "fs.an"
   ]
  },
  {
   "cell_type": "code",
   "execution_count": 232,
   "metadata": {},
   "outputs": [
    {
     "data": {
      "image/png": "[encoded data removed]",
      "text/latex": [
       "$\\displaystyle - 4 \\cos{\\left(X \\right)} + \\cos{\\left(2 X \\right)} + \\frac{\\pi^{2}}{3} + \\ldots$"
      ],
      "text/plain": [
       "                        2    \n",
       "                       π     \n",
       "-4⋅cos(X) + cos(2⋅X) + ── + …\n",
       "                       3     "
      ]
     },
     "execution_count": 232,
     "metadata": {},
     "output_type": "execute_result"
    }
   ],
   "source": [
    "s = fourier_series(x**2, (x, -pi, pi))\n",
    "s"
   ]
  },
  {
   "cell_type": "code",
   "execution_count": null,
   "metadata": {},
   "outputs": [],
   "source": []
  },
  {
   "cell_type": "code",
   "execution_count": 206,
   "metadata": {},
   "outputs": [
    {
     "data": {
      "image/png": "[encoded data removed]",
      "text/latex": [
       "$\\displaystyle \\sum_{n=1}^{10} e^{- \\tau {\\lambda}_{n}^{2}} \\cos{\\left(X {\\lambda}_{n} \\right)} {A}_{n}$"
      ],
      "text/plain": [
       "  10                                      \n",
       " ____                                     \n",
       " ╲                                        \n",
       "  ╲                                       \n",
       "   ╲               2                      \n",
       "   ╱   -τ⋅lambda[n]                       \n",
       "  ╱   ℯ             ⋅cos(X⋅lambda[n])⋅A[n]\n",
       " ╱                                        \n",
       " ‾‾‾‾                                     \n",
       "n = 1                                     "
      ]
     },
     "execution_count": 206,
     "metadata": {},
     "output_type": "execute_result"
    }
   ],
   "source": [
    "gen_eq3.rhs"
   ]
  },
  {
   "cell_type": "code",
   "execution_count": 207,
   "metadata": {},
   "outputs": [
    {
     "data": {
      "image/png": "[encoded data removed]",
      "text/latex": [
       "$\\displaystyle \\sum_{n=1}^{10} e^{- \\tau {\\lambda}_{n}^{2}} \\cos{\\left(X {\\lambda}_{n} \\right)} {A}_{n} = 1$"
      ],
      "text/plain": [
       "  10                                          \n",
       " ____                                         \n",
       " ╲                                            \n",
       "  ╲                                           \n",
       "   ╲               2                          \n",
       "   ╱   -τ⋅lambda[n]                        = 1\n",
       "  ╱   ℯ             ⋅cos(X⋅lambda[n])⋅A[n]    \n",
       " ╱                                            \n",
       " ‾‾‾‾                                         \n",
       "n = 1                                         "
      ]
     },
     "execution_count": 207,
     "metadata": {},
     "output_type": "execute_result"
    }
   ],
   "source": [
    "# solve An using initial condution \n",
    "ic_eq = Eq(gen_eq3.rhs, 1)\n",
    "ic_eq"
   ]
  },
  {
   "cell_type": "code",
   "execution_count": 220,
   "metadata": {},
   "outputs": [
    {
     "data": {
      "image/png": "[encoded data removed]",
      "text/latex": [
       "$\\displaystyle \\sum_{n=1}^{10} \\cos{\\left(X {\\lambda}_{n} \\right)}$"
      ],
      "text/plain": [
       "  10                  \n",
       " ___                  \n",
       " ╲                    \n",
       "  ╲                   \n",
       "  ╱   cos(X⋅lambda[n])\n",
       " ╱                    \n",
       " ‾‾‾                  \n",
       "n = 1                 "
      ]
     },
     "execution_count": 220,
     "metadata": {},
     "output_type": "execute_result"
    }
   ],
   "source": [
    "cos_m = Sum(cos(Indexed(\"lambda\", n)*x), (n, 1, 10))\n",
    "cos_m"
   ]
  },
  {
   "cell_type": "code",
   "execution_count": 224,
   "metadata": {},
   "outputs": [
    {
     "data": {
      "image/png": "[encoded data removed]",
      "text/latex": [
       "$\\displaystyle \\left(\\sum_{n=1}^{10} e^{- \\tau {\\lambda}_{n}^{2}} \\cos{\\left(X {\\lambda}_{n} \\right)} {A}_{n}\\right) \\sum_{n=1}^{10} \\cos{\\left(X {\\lambda}_{n} \\right)} = \\sum_{n=1}^{10} \\cos{\\left(X {\\lambda}_{n} \\right)}$"
      ],
      "text/plain": [
       "  10                                                                          \n",
       " ____                                        10                       10      \n",
       " ╲                                          ___                      ___      \n",
       "  ╲                                         ╲                        ╲        \n",
       "   ╲               2                         ╲                        ╲       \n",
       "   ╱   -τ⋅lambda[n]                       ⋅  ╱   cos(X⋅lambda[n]) =   ╱   cos(\n",
       "  ╱   ℯ             ⋅cos(X⋅lambda[n])⋅A[n]  ╱                        ╱        \n",
       " ╱                                          ‾‾‾                      ‾‾‾      \n",
       " ‾‾‾‾                                      n = 1                    n = 1     \n",
       "n = 1                                                                         \n",
       "\n",
       "            \n",
       "            \n",
       "            \n",
       "            \n",
       "            \n",
       "X⋅lambda[n])\n",
       "            \n",
       "            \n",
       "            \n",
       "            "
      ]
     },
     "execution_count": 224,
     "metadata": {},
     "output_type": "execute_result"
    }
   ],
   "source": [
    "ic_eq2 = Eq(gen_eq3.rhs*cos_m, 1*cos_m)\n",
    "ic_eq2\n",
    "\n",
    "# ic_eq.rhs*cos(Indexed(\"lambda\", m))"
   ]
  },
  {
   "cell_type": "code",
   "execution_count": 217,
   "metadata": {},
   "outputs": [
    {
     "ename": "KeyboardInterrupt",
     "evalue": "",
     "output_type": "error",
     "traceback": [
      "\u001b[0;31m---------------------------------------------------------------------------\u001b[0m",
      "\u001b[0;31mKeyboardInterrupt\u001b[0m                         Traceback (most recent call last)",
      "Cell \u001b[0;32mIn[217], line 1\u001b[0m\n\u001b[0;32m----> 1\u001b[0m integrate(ic_eq2\u001b[39m.\u001b[39;49mlhs, (x, \u001b[39m0\u001b[39;49m, \u001b[39m1\u001b[39;49m))\u001b[39m.\u001b[39;49mdoit()\n",
      "File \u001b[0;32m~/_UILCode/windows/localwindowsenv/lib/python3.9/site-packages/sympy/integrals/integrals.py:499\u001b[0m, in \u001b[0;36mIntegral.doit\u001b[0;34m(self, **hints)\u001b[0m\n\u001b[1;32m    497\u001b[0m \u001b[39mif\u001b[39;00m reps:\n\u001b[1;32m    498\u001b[0m     undo \u001b[39m=\u001b[39m {v: k \u001b[39mfor\u001b[39;00m k, v \u001b[39min\u001b[39;00m reps\u001b[39m.\u001b[39mitems()}\n\u001b[0;32m--> 499\u001b[0m     did \u001b[39m=\u001b[39m \u001b[39mself\u001b[39;49m\u001b[39m.\u001b[39;49mxreplace(reps)\u001b[39m.\u001b[39;49mdoit(\u001b[39m*\u001b[39;49m\u001b[39m*\u001b[39;49mhints)\n\u001b[1;32m    500\u001b[0m     \u001b[39mif\u001b[39;00m \u001b[39misinstance\u001b[39m(did, \u001b[39mtuple\u001b[39m):  \u001b[39m# when separate=True\u001b[39;00m\n\u001b[1;32m    501\u001b[0m         did \u001b[39m=\u001b[39m \u001b[39mtuple\u001b[39m([i\u001b[39m.\u001b[39mxreplace(undo) \u001b[39mfor\u001b[39;00m i \u001b[39min\u001b[39;00m did])\n",
      "File \u001b[0;32m~/_UILCode/windows/localwindowsenv/lib/python3.9/site-packages/sympy/integrals/integrals.py:612\u001b[0m, in \u001b[0;36mIntegral.doit\u001b[0;34m(self, **hints)\u001b[0m\n\u001b[1;32m    610\u001b[0m     antideriv \u001b[39m=\u001b[39m \u001b[39mNone\u001b[39;00m\n\u001b[1;32m    611\u001b[0m \u001b[39melse\u001b[39;00m:\n\u001b[0;32m--> 612\u001b[0m     antideriv \u001b[39m=\u001b[39m \u001b[39mself\u001b[39;49m\u001b[39m.\u001b[39;49m_eval_integral(\n\u001b[1;32m    613\u001b[0m         function, xab[\u001b[39m0\u001b[39;49m], \u001b[39m*\u001b[39;49m\u001b[39m*\u001b[39;49meval_kwargs)\n\u001b[1;32m    614\u001b[0m     \u001b[39mif\u001b[39;00m antideriv \u001b[39mis\u001b[39;00m \u001b[39mNone\u001b[39;00m \u001b[39mand\u001b[39;00m meijerg \u001b[39mis\u001b[39;00m \u001b[39mTrue\u001b[39;00m:\n\u001b[1;32m    615\u001b[0m         ret \u001b[39m=\u001b[39m try_meijerg(function, xab)\n",
      "File \u001b[0;32m~/_UILCode/windows/localwindowsenv/lib/python3.9/site-packages/sympy/integrals/integrals.py:1084\u001b[0m, in \u001b[0;36mIntegral._eval_integral\u001b[0;34m(self, f, x, meijerg, risch, manual, heurisch, conds, final)\u001b[0m\n\u001b[1;32m   1082\u001b[0m \u001b[39mtry\u001b[39;00m:\n\u001b[1;32m   1083\u001b[0m     \u001b[39mif\u001b[39;00m conds \u001b[39m==\u001b[39m \u001b[39m'\u001b[39m\u001b[39mpiecewise\u001b[39m\u001b[39m'\u001b[39m:\n\u001b[0;32m-> 1084\u001b[0m         h \u001b[39m=\u001b[39m heurisch_wrapper(g, x, hints\u001b[39m=\u001b[39;49m[])\n\u001b[1;32m   1085\u001b[0m     \u001b[39melse\u001b[39;00m:\n\u001b[1;32m   1086\u001b[0m         h \u001b[39m=\u001b[39m heurisch_(g, x, hints\u001b[39m=\u001b[39m[])\n",
      "File \u001b[0;32m~/_UILCode/windows/localwindowsenv/lib/python3.9/site-packages/sympy/integrals/heurisch.py:143\u001b[0m, in \u001b[0;36mheurisch_wrapper\u001b[0;34m(f, x, rewrite, hints, mappings, retries, degree_offset, unnecessary_permutations, _try_heurisch)\u001b[0m\n\u001b[1;32m    140\u001b[0m \u001b[39mif\u001b[39;00m \u001b[39mnot\u001b[39;00m f\u001b[39m.\u001b[39mhas_free(x):\n\u001b[1;32m    141\u001b[0m     \u001b[39mreturn\u001b[39;00m f\u001b[39m*\u001b[39mx\n\u001b[0;32m--> 143\u001b[0m res \u001b[39m=\u001b[39m heurisch(f, x, rewrite, hints, mappings, retries, degree_offset,\n\u001b[1;32m    144\u001b[0m                unnecessary_permutations, _try_heurisch)\n\u001b[1;32m    145\u001b[0m \u001b[39mif\u001b[39;00m \u001b[39mnot\u001b[39;00m \u001b[39misinstance\u001b[39m(res, Basic):\n\u001b[1;32m    146\u001b[0m     \u001b[39mreturn\u001b[39;00m res\n",
      "File \u001b[0;32m~/_UILCode/windows/localwindowsenv/lib/python3.9/site-packages/sympy/integrals/heurisch.py:754\u001b[0m, in \u001b[0;36mheurisch\u001b[0;34m(f, x, rewrite, hints, mappings, retries, degree_offset, unnecessary_permutations, _try_heurisch)\u001b[0m\n\u001b[1;32m    752\u001b[0m         solution \u001b[39m=\u001b[39m _integrate()\n\u001b[1;32m    753\u001b[0m \u001b[39melse\u001b[39;00m:\n\u001b[0;32m--> 754\u001b[0m     solution \u001b[39m=\u001b[39m _integrate()\n\u001b[1;32m    756\u001b[0m \u001b[39mif\u001b[39;00m solution \u001b[39mis\u001b[39;00m \u001b[39mnot\u001b[39;00m \u001b[39mNone\u001b[39;00m:\n\u001b[1;32m    757\u001b[0m     antideriv \u001b[39m=\u001b[39m solution\u001b[39m.\u001b[39msubs(rev_mapping)\n",
      "File \u001b[0;32m~/_UILCode/windows/localwindowsenv/lib/python3.9/site-packages/sympy/integrals/heurisch.py:730\u001b[0m, in \u001b[0;36mheurisch.<locals>._integrate\u001b[0;34m(field)\u001b[0m\n\u001b[1;32m    728\u001b[0m ring \u001b[39m=\u001b[39m PolyRing(V, coeff_ring)\n\u001b[1;32m    729\u001b[0m \u001b[39mtry\u001b[39;00m:\n\u001b[0;32m--> 730\u001b[0m     numer \u001b[39m=\u001b[39m ring\u001b[39m.\u001b[39;49mfrom_expr(raw_numer)\n\u001b[1;32m    731\u001b[0m \u001b[39mexcept\u001b[39;00m \u001b[39mValueError\u001b[39;00m:\n\u001b[1;32m    732\u001b[0m     \u001b[39mraise\u001b[39;00m PolynomialError\n",
      "File \u001b[0;32m~/_UILCode/windows/localwindowsenv/lib/python3.9/site-packages/sympy/polys/rings.py:397\u001b[0m, in \u001b[0;36mPolyRing.from_expr\u001b[0;34m(self, expr)\u001b[0m\n\u001b[1;32m    394\u001b[0m mapping \u001b[39m=\u001b[39m \u001b[39mdict\u001b[39m(\u001b[39mlist\u001b[39m(\u001b[39mzip\u001b[39m(\u001b[39mself\u001b[39m\u001b[39m.\u001b[39msymbols, \u001b[39mself\u001b[39m\u001b[39m.\u001b[39mgens)))\n\u001b[1;32m    396\u001b[0m \u001b[39mtry\u001b[39;00m:\n\u001b[0;32m--> 397\u001b[0m     poly \u001b[39m=\u001b[39m \u001b[39mself\u001b[39;49m\u001b[39m.\u001b[39;49m_rebuild_expr(expr, mapping)\n\u001b[1;32m    398\u001b[0m \u001b[39mexcept\u001b[39;00m CoercionFailed:\n\u001b[1;32m    399\u001b[0m     \u001b[39mraise\u001b[39;00m \u001b[39mValueError\u001b[39;00m(\u001b[39m\"\u001b[39m\u001b[39mexpected an expression convertible to a polynomial in \u001b[39m\u001b[39m%s\u001b[39;00m\u001b[39m, got \u001b[39m\u001b[39m%s\u001b[39;00m\u001b[39m\"\u001b[39m \u001b[39m%\u001b[39m (\u001b[39mself\u001b[39m, expr))\n",
      "File \u001b[0;32m~/_UILCode/windows/localwindowsenv/lib/python3.9/site-packages/sympy/polys/rings.py:391\u001b[0m, in \u001b[0;36mPolyRing._rebuild_expr\u001b[0;34m(self, expr, mapping)\u001b[0m\n\u001b[1;32m    388\u001b[0m         \u001b[39melse\u001b[39;00m:\n\u001b[1;32m    389\u001b[0m             \u001b[39mreturn\u001b[39;00m \u001b[39mself\u001b[39m\u001b[39m.\u001b[39mground_new(domain\u001b[39m.\u001b[39mconvert(expr))\n\u001b[0;32m--> 391\u001b[0m \u001b[39mreturn\u001b[39;00m _rebuild(sympify(expr))\n",
      "File \u001b[0;32m~/_UILCode/windows/localwindowsenv/lib/python3.9/site-packages/sympy/polys/rings.py:379\u001b[0m, in \u001b[0;36mPolyRing._rebuild_expr.<locals>._rebuild\u001b[0;34m(expr)\u001b[0m\n\u001b[1;32m    377\u001b[0m     \u001b[39mreturn\u001b[39;00m generator\n\u001b[1;32m    378\u001b[0m \u001b[39melif\u001b[39;00m expr\u001b[39m.\u001b[39mis_Add:\n\u001b[0;32m--> 379\u001b[0m     \u001b[39mreturn\u001b[39;00m reduce(add, \u001b[39mlist\u001b[39;49m(\u001b[39mmap\u001b[39;49m(_rebuild, expr\u001b[39m.\u001b[39;49margs)))\n\u001b[1;32m    380\u001b[0m \u001b[39melif\u001b[39;00m expr\u001b[39m.\u001b[39mis_Mul:\n\u001b[1;32m    381\u001b[0m     \u001b[39mreturn\u001b[39;00m reduce(mul, \u001b[39mlist\u001b[39m(\u001b[39mmap\u001b[39m(_rebuild, expr\u001b[39m.\u001b[39margs)))\n",
      "File \u001b[0;32m~/_UILCode/windows/localwindowsenv/lib/python3.9/site-packages/sympy/polys/rings.py:957\u001b[0m, in \u001b[0;36mPolyElement.__add__\u001b[0;34m(p1, p2)\u001b[0m\n\u001b[1;32m    955\u001b[0m zero \u001b[39m=\u001b[39m ring\u001b[39m.\u001b[39mdomain\u001b[39m.\u001b[39mzero\n\u001b[1;32m    956\u001b[0m \u001b[39mfor\u001b[39;00m k, v \u001b[39min\u001b[39;00m p2\u001b[39m.\u001b[39mitems():\n\u001b[0;32m--> 957\u001b[0m     v \u001b[39m=\u001b[39m get(k, zero) \u001b[39m+\u001b[39;49m v\n\u001b[1;32m    958\u001b[0m     \u001b[39mif\u001b[39;00m v:\n\u001b[1;32m    959\u001b[0m         p[k] \u001b[39m=\u001b[39m v\n",
      "File \u001b[0;32m~/_UILCode/windows/localwindowsenv/lib/python3.9/site-packages/sympy/polys/rings.py:959\u001b[0m, in \u001b[0;36mPolyElement.__add__\u001b[0;34m(p1, p2)\u001b[0m\n\u001b[1;32m    957\u001b[0m v \u001b[39m=\u001b[39m get(k, zero) \u001b[39m+\u001b[39m v\n\u001b[1;32m    958\u001b[0m \u001b[39mif\u001b[39;00m v:\n\u001b[0;32m--> 959\u001b[0m     p[k] \u001b[39m=\u001b[39m v\n\u001b[1;32m    960\u001b[0m \u001b[39melse\u001b[39;00m:\n\u001b[1;32m    961\u001b[0m     \u001b[39mdel\u001b[39;00m p[k]\n",
      "\u001b[0;31mKeyboardInterrupt\u001b[0m: "
     ]
    }
   ],
   "source": []
  },
  {
   "cell_type": "code",
   "execution_count": 204,
   "metadata": {},
   "outputs": [
    {
     "ename": "NameError",
     "evalue": "name 'A_n' is not defined",
     "output_type": "error",
     "traceback": [
      "\u001b[0;31m---------------------------------------------------------------------------\u001b[0m",
      "\u001b[0;31mNameError\u001b[0m                                 Traceback (most recent call last)",
      "Cell \u001b[0;32mIn[204], line 1\u001b[0m\n\u001b[0;32m----> 1\u001b[0m An_solve \u001b[39m=\u001b[39m solve(ic_eq, A_n)\n\u001b[1;32m      2\u001b[0m An_solve\n",
      "\u001b[0;31mNameError\u001b[0m: name 'A_n' is not defined"
     ]
    }
   ],
   "source": [
    "An_solve = solve(ic_eq, A_n)\n",
    "An_solve"
   ]
  }
 ],
 "metadata": {
  "kernelspec": {
   "display_name": "localwindowsenv",
   "language": "python",
   "name": "python3"
  },
  "language_info": {
   "codemirror_mode": {
    "name": "ipython",
    "version": 3
   },
   "file_extension": ".py",
   "mimetype": "text/x-python",
   "name": "python",
   "nbconvert_exporter": "python",
   "pygments_lexer": "ipython3",
   "version": "3.9.15"
  },
  "orig_nbformat": 4
 },
 "nbformat": 4,
 "nbformat_minor": 2
}
