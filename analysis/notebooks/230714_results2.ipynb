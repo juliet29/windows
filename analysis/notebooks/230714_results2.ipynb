{
 "cells": [
  {
   "cell_type": "code",
   "execution_count": 42,
   "metadata": {},
   "outputs": [],
   "source": [
    "import plotly.graph_objects as go\n",
    "import plotly.express as px\n",
    "from plotly.subplots import make_subplots\n",
    "import plotly.io as pio\n",
    "import pandas as pd\n",
    "import numpy as np\n",
    "\n",
    "import seaborn as sns\n",
    "import seaborn.objects as so\n",
    "# Apply the default theme\n",
    "sns.set_theme()\n",
    "import matplotlib.pyplot as plt\n",
    "\n",
    "from IPython.display import display, Latex\n",
    "\n",
    "\n",
    "import sys\n",
    "sys.path.insert(0, \"../scripts\")\n",
    "import ml_window as m \n",
    "import helpers as h\n",
    "\n",
    "import json \n",
    "# import streamlit as st\n"
   ]
  },
  {
   "attachments": {},
   "cell_type": "markdown",
   "metadata": {},
   "source": [
    "### import data"
   ]
  },
  {
   "cell_type": "code",
   "execution_count": 13,
   "metadata": {},
   "outputs": [],
   "source": [
    "# macro f1 score...\n",
    "with open(\"../constants/svm_metrics_230704.json\") as f:\n",
    "    svm_data =json.load(f)\n",
    "\n",
    "with open(\"../constants/ewm_metrics_230704.json\") as f:\n",
    "    ewm_data =json.load(f)"
   ]
  },
  {
   "attachments": {},
   "cell_type": "markdown",
   "metadata": {},
   "source": [
    "### transform times to hours in data sets"
   ]
  },
  {
   "cell_type": "code",
   "execution_count": 14,
   "metadata": {},
   "outputs": [],
   "source": [
    "# need to go through all the data and turn false and true open time and turn into hours\n",
    "\n",
    "def get_nice_time(td_string):\n",
    "    return pd.to_timedelta(td_string)/ np.timedelta64(1, 'h')\n",
    "\n",
    "for exp in svm_data.values():\n",
    "    for model in exp.values():\n",
    "        model[\"metrics\"][\"drdr\"][\"true open time\"] = get_nice_time(model[\"metrics\"][\"drdr\"][\"true open time\"])\n",
    "        model[\"metrics\"][\"drdr\"][\"false open time\"] = get_nice_time(model[\"metrics\"][\"drdr\"][\"false open time\"])\n",
    "\n",
    "for exp in ewm_data.values():\n",
    "    for model in exp.values():\n",
    "        model[\"drdr\"][\"true open time\"] = get_nice_time(model[\"drdr\"][\"true open time\"])\n",
    "        model[\"drdr\"][\"false open time\"] = get_nice_time(model[\"drdr\"][\"false open time\"])\n"
   ]
  },
  {
   "attachments": {},
   "cell_type": "markdown",
   "metadata": {},
   "source": [
    "### assemble data from svm and ewm datasets and sort "
   ]
  },
  {
   "cell_type": "code",
   "execution_count": 15,
   "metadata": {},
   "outputs": [],
   "source": [
    "def safeget(dct, keys_arr):\n",
    "    assert type(keys_arr) == list\n",
    "    keys = keys_arr\n",
    "    for key in keys:\n",
    "        try:\n",
    "            dct = dct[key]\n",
    "        except KeyError:\n",
    "            return False\n",
    "    return dct"
   ]
  },
  {
   "cell_type": "code",
   "execution_count": 16,
   "metadata": {},
   "outputs": [],
   "source": [
    "sort_key_dict = {\n",
    "        \"f1\": [\"standard\", \"macro avg\", \"f1-score\"],\n",
    "        \"hits_guesses_ratio\": [\"custom\", \"(hits + near hits)/guesses\",], #hits and near hits/guesses\n",
    "        \"guesses_actions_ratio\": [\"custom\", \"guesses/actions\",], #guesses/actions,\n",
    "        \"opening_acc\": [\"drdr\", \"bounded acc\"] ,#opening accuracy\n",
    "        \"unbounded_opening_acc\": [\"drdr\", \"unbounded acc\"], \n",
    "        \"true_time\": [\"drdr\", \"true open time\"],\n",
    "        \"false_time\": [\"drdr\", \"false open time\"] \n",
    "    } \n",
    "\n",
    "def sort_and_return_quick_result(all_results, data_type=\"svm\", sort_key=\"f1\", key_dict=sort_key_dict):   \n",
    "\n",
    "    key_arr = key_dict[sort_key]\n",
    "\n",
    "    # TODO consider this \n",
    "    # reverse_direction = False if sort_key == \"false_time\" or sort_key == \"guesses_actions_ratio\" else True\n",
    "\n",
    "    reverse_direction = False if sort_key == \"false_time\" else True\n",
    "\n",
    "    # svm \n",
    "    if data_type==\"svm\":\n",
    "        sorted_results = sorted(all_results.items(), key=lambda x:safeget(x[1][\"metrics\"], key_arr), reverse=reverse_direction)\n",
    "        quick_res = [\n",
    "            {\n",
    "            \"name\": v[\"name\"],\n",
    "            \"val\": safeget(v[\"metrics\"], key_arr)\n",
    "            }\n",
    "            for k,v in sorted_results]\n",
    "    # ewm \n",
    "    else:\n",
    "        sorted_results = sorted(all_results.items(), key=lambda x:safeget(x[1], key_arr), reverse=reverse_direction)\n",
    "        quick_res = [\n",
    "        {\n",
    "            \"name\": k,\n",
    "            \"val\":  safeget(v, key_arr),\n",
    "        }\n",
    "        for k,v in sorted_results]\n",
    "    return quick_res, sorted_results "
   ]
  },
  {
   "cell_type": "code",
   "execution_count": 17,
   "metadata": {},
   "outputs": [],
   "source": [
    "# quick, slow = sort_and_return_quick_result(svm_data[\"exp_A\"], \"svm\", \"f1\")\n",
    "# quick[0:3]\n",
    "\n",
    "# quick, slow = sort_and_return_quick_result(ewm_data[\"exp_A\"], \"ewm\")\n",
    "# quick"
   ]
  },
  {
   "cell_type": "code",
   "execution_count": 18,
   "metadata": {},
   "outputs": [],
   "source": [
    "dif_sort_dfs = {}\n",
    "\n",
    "for sort_key in sort_key_dict.keys():\n",
    "    exps = list(ewm_data.keys())\n",
    "\n",
    "    data_pts = {}\n",
    "    for exp in exps:\n",
    "        data_pts[exp] = []\n",
    "        for data_type, data in zip([\"ewm\", \"svm\"], [ewm_data, svm_data]):\n",
    "            quick, slow = sort_and_return_quick_result(data[exp], data_type, sort_key)\n",
    "            if data_type == \"ewm\":\n",
    "                res = list(filter(lambda x: True if x[\"name\"] == \"z=1\" else False, quick))\n",
    "                data_pts[exp].append(res[0])\n",
    "                data_pts[exp][0][\"chart_name\"] = \"EWM\"\n",
    "            else:\n",
    "                data_pts[exp].extend(quick)\n",
    "                for i in range(3):\n",
    "                    data_pts[exp][i+1][\"chart_name\"] = f\"SVM_{i+1}\"\n",
    "\n",
    "    for k,v in data_pts.items():\n",
    "        for small_dict in v:\n",
    "            small_dict[\"exp\"] = k\n",
    "\n",
    "    data_list = sum(data_pts.values(), [])\n",
    "\n",
    "    df = pd.DataFrame(data_list)\n",
    "\n",
    "    dif_sort_dfs[sort_key] = df\n"
   ]
  },
  {
   "cell_type": "code",
   "execution_count": 19,
   "metadata": {},
   "outputs": [
    {
     "data": {
      "text/html": [
       "<div>\n",
       "<style scoped>\n",
       "    .dataframe tbody tr th:only-of-type {\n",
       "        vertical-align: middle;\n",
       "    }\n",
       "\n",
       "    .dataframe tbody tr th {\n",
       "        vertical-align: top;\n",
       "    }\n",
       "\n",
       "    .dataframe thead th {\n",
       "        text-align: right;\n",
       "    }\n",
       "</style>\n",
       "<table border=\"1\" class=\"dataframe\">\n",
       "  <thead>\n",
       "    <tr style=\"text-align: right;\">\n",
       "      <th></th>\n",
       "      <th>name</th>\n",
       "      <th>val</th>\n",
       "      <th>chart_name</th>\n",
       "      <th>exp</th>\n",
       "    </tr>\n",
       "  </thead>\n",
       "  <tbody>\n",
       "    <tr>\n",
       "      <th>0</th>\n",
       "      <td>z=1</td>\n",
       "      <td>0.724242</td>\n",
       "      <td>EWM</td>\n",
       "      <td>exp_A</td>\n",
       "    </tr>\n",
       "    <tr>\n",
       "      <th>1</th>\n",
       "      <td>[dt_meas_temp, dt_meas_rh]</td>\n",
       "      <td>0.709422</td>\n",
       "      <td>SVM_1</td>\n",
       "      <td>exp_A</td>\n",
       "    </tr>\n",
       "    <tr>\n",
       "      <th>2</th>\n",
       "      <td>[meas_temp, meas_rh, dt_meas_temp, dt_amb_rh]</td>\n",
       "      <td>0.698951</td>\n",
       "      <td>SVM_2</td>\n",
       "      <td>exp_A</td>\n",
       "    </tr>\n",
       "    <tr>\n",
       "      <th>3</th>\n",
       "      <td>[meas_temp, meas_rh, dt_meas_temp, dt_amb_temp]</td>\n",
       "      <td>0.693715</td>\n",
       "      <td>SVM_3</td>\n",
       "      <td>exp_A</td>\n",
       "    </tr>\n",
       "    <tr>\n",
       "      <th>4</th>\n",
       "      <td>[meas_temp, dt_meas_temp, dt_meas_rh, dt_amb_rh]</td>\n",
       "      <td>0.686005</td>\n",
       "      <td>NaN</td>\n",
       "      <td>exp_A</td>\n",
       "    </tr>\n",
       "    <tr>\n",
       "      <th>...</th>\n",
       "      <td>...</td>\n",
       "      <td>...</td>\n",
       "      <td>...</td>\n",
       "      <td>...</td>\n",
       "    </tr>\n",
       "    <tr>\n",
       "      <th>337</th>\n",
       "      <td>[meas_temp, amb_temp]</td>\n",
       "      <td>0.459252</td>\n",
       "      <td>NaN</td>\n",
       "      <td>exp_C</td>\n",
       "    </tr>\n",
       "    <tr>\n",
       "      <th>338</th>\n",
       "      <td>[amb_minus_meas_temp, meas_minus_deriv_rh]</td>\n",
       "      <td>0.444231</td>\n",
       "      <td>NaN</td>\n",
       "      <td>exp_C</td>\n",
       "    </tr>\n",
       "    <tr>\n",
       "      <th>339</th>\n",
       "      <td>[meas_temp]</td>\n",
       "      <td>0.430241</td>\n",
       "      <td>NaN</td>\n",
       "      <td>exp_C</td>\n",
       "    </tr>\n",
       "    <tr>\n",
       "      <th>340</th>\n",
       "      <td>[amb_minus_meas_rh, meas_minus_deriv_temp]</td>\n",
       "      <td>0.414189</td>\n",
       "      <td>NaN</td>\n",
       "      <td>exp_C</td>\n",
       "    </tr>\n",
       "    <tr>\n",
       "      <th>341</th>\n",
       "      <td>[dt_amb_temp, dt_amb_rh]</td>\n",
       "      <td>0.193616</td>\n",
       "      <td>NaN</td>\n",
       "      <td>exp_C</td>\n",
       "    </tr>\n",
       "  </tbody>\n",
       "</table>\n",
       "<p>342 rows × 4 columns</p>\n",
       "</div>"
      ],
      "text/plain": [
       "                                                 name       val chart_name  \\\n",
       "0                                                 z=1  0.724242        EWM   \n",
       "1                          [dt_meas_temp, dt_meas_rh]  0.709422      SVM_1   \n",
       "2       [meas_temp, meas_rh, dt_meas_temp, dt_amb_rh]  0.698951      SVM_2   \n",
       "3     [meas_temp, meas_rh, dt_meas_temp, dt_amb_temp]  0.693715      SVM_3   \n",
       "4    [meas_temp, dt_meas_temp, dt_meas_rh, dt_amb_rh]  0.686005        NaN   \n",
       "..                                                ...       ...        ...   \n",
       "337                             [meas_temp, amb_temp]  0.459252        NaN   \n",
       "338        [amb_minus_meas_temp, meas_minus_deriv_rh]  0.444231        NaN   \n",
       "339                                       [meas_temp]  0.430241        NaN   \n",
       "340        [amb_minus_meas_rh, meas_minus_deriv_temp]  0.414189        NaN   \n",
       "341                          [dt_amb_temp, dt_amb_rh]  0.193616        NaN   \n",
       "\n",
       "       exp  \n",
       "0    exp_A  \n",
       "1    exp_A  \n",
       "2    exp_A  \n",
       "3    exp_A  \n",
       "4    exp_A  \n",
       "..     ...  \n",
       "337  exp_C  \n",
       "338  exp_C  \n",
       "339  exp_C  \n",
       "340  exp_C  \n",
       "341  exp_C  \n",
       "\n",
       "[342 rows x 4 columns]"
      ]
     },
     "execution_count": 19,
     "metadata": {},
     "output_type": "execute_result"
    }
   ],
   "source": [
    "dif_sort_dfs[\"f1\"]"
   ]
  },
  {
   "attachments": {},
   "cell_type": "markdown",
   "metadata": {},
   "source": [
    "### make nicer names for plotting "
   ]
  },
  {
   "cell_type": "code",
   "execution_count": 20,
   "metadata": {},
   "outputs": [],
   "source": [
    "latex_names = {\n",
    "    \"meas_temp\": \"$T_{meas}$\",\n",
    "    \"meas_rh\": \"$RH_{meas}$\",\n",
    "\n",
    "    \"amb_temp\":\"$T_{amb}$\",\n",
    "    \"amb_rh\": \"$RH_{amb}$\",\n",
    "\n",
    "    \"dt_meas_temp\": \"$\\\\frac{\\mathrm{d}}{\\mathrm{d}t}T_{meas}$\",\n",
    "    \"dt_meas_rh\": \"$\\\\frac{\\mathrm{d}}{\\mathrm{d}t}RH_{meas}$\",\n",
    "    \"dt_amb_temp\": \"$\\\\frac{\\mathrm{d}}{\\mathrm{d}t}T_{amb}$\",\n",
    "    \"dt_amb_rh\": \"$\\\\frac{\\mathrm{d}}{\\mathrm{d}t}RH_{amb}$\",\n",
    "\n",
    "    \"amb_minus_meas_temp\": \"$T_{amb} - T_{meas}$\",\n",
    "    \"amb_minus_meas_rh\": \"$RH_{amb} - RH_{meas}$\",\n",
    "    \"meas_minus_deriv_temp\": \"$T_{meas} - \\\\frac{\\mathrm{d}}{\\mathrm{d}t}T_{meas}$\",\n",
    "    \"meas_minus_deriv_rh\": \"$RH_{meas} - \\\\frac{\\mathrm{d}}{\\mathrm{d}t}RH_{meas}$\",\n",
    "}\n",
    "\n",
    "experiment_names = {\n",
    "    \"exp_A\": \"Exp A\",\n",
    "    \"exp_B\": \"Exp B\",\n",
    "    \"exp_C\": \"Exp C\",\n",
    "}"
   ]
  },
  {
   "cell_type": "code",
   "execution_count": 21,
   "metadata": {},
   "outputs": [
    {
     "data": {
      "text/html": [
       "<div>\n",
       "<style scoped>\n",
       "    .dataframe tbody tr th:only-of-type {\n",
       "        vertical-align: middle;\n",
       "    }\n",
       "\n",
       "    .dataframe tbody tr th {\n",
       "        vertical-align: top;\n",
       "    }\n",
       "\n",
       "    .dataframe thead th {\n",
       "        text-align: right;\n",
       "    }\n",
       "</style>\n",
       "<table border=\"1\" class=\"dataframe\">\n",
       "  <thead>\n",
       "    <tr style=\"text-align: right;\">\n",
       "      <th></th>\n",
       "      <th>name</th>\n",
       "      <th>val</th>\n",
       "      <th>chart_name</th>\n",
       "      <th>exp</th>\n",
       "    </tr>\n",
       "  </thead>\n",
       "  <tbody>\n",
       "    <tr>\n",
       "      <th>0</th>\n",
       "      <td>z=1</td>\n",
       "      <td>0.724242</td>\n",
       "      <td>EWM</td>\n",
       "      <td>exp_A</td>\n",
       "    </tr>\n",
       "    <tr>\n",
       "      <th>1</th>\n",
       "      <td>[dt_meas_temp, dt_meas_rh]</td>\n",
       "      <td>0.709422</td>\n",
       "      <td>SVM_1</td>\n",
       "      <td>exp_A</td>\n",
       "    </tr>\n",
       "    <tr>\n",
       "      <th>2</th>\n",
       "      <td>[meas_temp, meas_rh, dt_meas_temp, dt_amb_rh]</td>\n",
       "      <td>0.698951</td>\n",
       "      <td>SVM_2</td>\n",
       "      <td>exp_A</td>\n",
       "    </tr>\n",
       "    <tr>\n",
       "      <th>3</th>\n",
       "      <td>[meas_temp, meas_rh, dt_meas_temp, dt_amb_temp]</td>\n",
       "      <td>0.693715</td>\n",
       "      <td>SVM_3</td>\n",
       "      <td>exp_A</td>\n",
       "    </tr>\n",
       "    <tr>\n",
       "      <th>4</th>\n",
       "      <td>[meas_temp, dt_meas_temp, dt_meas_rh, dt_amb_rh]</td>\n",
       "      <td>0.686005</td>\n",
       "      <td>NaN</td>\n",
       "      <td>exp_A</td>\n",
       "    </tr>\n",
       "    <tr>\n",
       "      <th>...</th>\n",
       "      <td>...</td>\n",
       "      <td>...</td>\n",
       "      <td>...</td>\n",
       "      <td>...</td>\n",
       "    </tr>\n",
       "    <tr>\n",
       "      <th>337</th>\n",
       "      <td>[meas_temp, amb_temp]</td>\n",
       "      <td>0.459252</td>\n",
       "      <td>NaN</td>\n",
       "      <td>exp_C</td>\n",
       "    </tr>\n",
       "    <tr>\n",
       "      <th>338</th>\n",
       "      <td>[amb_minus_meas_temp, meas_minus_deriv_rh]</td>\n",
       "      <td>0.444231</td>\n",
       "      <td>NaN</td>\n",
       "      <td>exp_C</td>\n",
       "    </tr>\n",
       "    <tr>\n",
       "      <th>339</th>\n",
       "      <td>[meas_temp]</td>\n",
       "      <td>0.430241</td>\n",
       "      <td>NaN</td>\n",
       "      <td>exp_C</td>\n",
       "    </tr>\n",
       "    <tr>\n",
       "      <th>340</th>\n",
       "      <td>[amb_minus_meas_rh, meas_minus_deriv_temp]</td>\n",
       "      <td>0.414189</td>\n",
       "      <td>NaN</td>\n",
       "      <td>exp_C</td>\n",
       "    </tr>\n",
       "    <tr>\n",
       "      <th>341</th>\n",
       "      <td>[dt_amb_temp, dt_amb_rh]</td>\n",
       "      <td>0.193616</td>\n",
       "      <td>NaN</td>\n",
       "      <td>exp_C</td>\n",
       "    </tr>\n",
       "  </tbody>\n",
       "</table>\n",
       "<p>342 rows × 4 columns</p>\n",
       "</div>"
      ],
      "text/plain": [
       "                                                 name       val chart_name  \\\n",
       "0                                                 z=1  0.724242        EWM   \n",
       "1                          [dt_meas_temp, dt_meas_rh]  0.709422      SVM_1   \n",
       "2       [meas_temp, meas_rh, dt_meas_temp, dt_amb_rh]  0.698951      SVM_2   \n",
       "3     [meas_temp, meas_rh, dt_meas_temp, dt_amb_temp]  0.693715      SVM_3   \n",
       "4    [meas_temp, dt_meas_temp, dt_meas_rh, dt_amb_rh]  0.686005        NaN   \n",
       "..                                                ...       ...        ...   \n",
       "337                             [meas_temp, amb_temp]  0.459252        NaN   \n",
       "338        [amb_minus_meas_temp, meas_minus_deriv_rh]  0.444231        NaN   \n",
       "339                                       [meas_temp]  0.430241        NaN   \n",
       "340        [amb_minus_meas_rh, meas_minus_deriv_temp]  0.414189        NaN   \n",
       "341                          [dt_amb_temp, dt_amb_rh]  0.193616        NaN   \n",
       "\n",
       "       exp  \n",
       "0    exp_A  \n",
       "1    exp_A  \n",
       "2    exp_A  \n",
       "3    exp_A  \n",
       "4    exp_A  \n",
       "..     ...  \n",
       "337  exp_C  \n",
       "338  exp_C  \n",
       "339  exp_C  \n",
       "340  exp_C  \n",
       "341  exp_C  \n",
       "\n",
       "[342 rows x 4 columns]"
      ]
     },
     "execution_count": 21,
     "metadata": {},
     "output_type": "execute_result"
    }
   ],
   "source": []
  },
  {
   "cell_type": "code",
   "execution_count": 22,
   "metadata": {},
   "outputs": [],
   "source": [
    "def change_name(x):\n",
    "    if type(x) is list:\n",
    "        # print(x)\n",
    "        for ix, item in enumerate(x):\n",
    "            try:\n",
    "                x[ix] = latex_names[item] \n",
    "            except KeyError:\n",
    "                # print(f\"passed on {x}\")  \n",
    "                pass \n",
    "        return x \n",
    "    else: \n",
    "        # smoothing technique\n",
    "        return \"$\\\\text{ST}$\" \n",
    "\n",
    "def join_names(x):\n",
    "    if type(x) is not list:\n",
    "        # smoothing technique \n",
    "        return x\n",
    "    if len(x) < 2:\n",
    "            temp = x[0]\n",
    "    else:\n",
    "        temp = \"/\".join(x)\n",
    "        temp = temp.replace(\"$/$\", \", \")\n",
    "    temp = temp.replace(\"$\", \"$\\\\text{SVM: }\", 1)\n",
    "    \n",
    "    return temp"
   ]
  },
  {
   "cell_type": "code",
   "execution_count": 23,
   "metadata": {},
   "outputs": [
    {
     "name": "stdout",
     "output_type": "stream",
     "text": [
      "\n",
      " f1\n",
      "\n",
      " hits_guesses_ratio\n",
      "\n",
      " guesses_actions_ratio\n",
      "\n",
      " opening_acc\n",
      "\n",
      " unbounded_opening_acc\n",
      "\n",
      " true_time\n",
      "\n",
      " false_time\n"
     ]
    }
   ],
   "source": [
    "# change tick names and legend names for plotting \n",
    "for k, v in dif_sort_dfs.items():\n",
    "    print(f\"\\n {k}\")\n",
    "    v[\"name\"] = v[\"name\"].apply(change_name)\n",
    "    v[\"name\"] = v[\"name\"].apply(join_names)\n",
    "    v[\"exp\"] = v[\"exp\"].apply(lambda x: experiment_names[x])"
   ]
  },
  {
   "cell_type": "code",
   "execution_count": 36,
   "metadata": {},
   "outputs": [
    {
     "data": {
      "text/html": [
       "<div>\n",
       "<style scoped>\n",
       "    .dataframe tbody tr th:only-of-type {\n",
       "        vertical-align: middle;\n",
       "    }\n",
       "\n",
       "    .dataframe tbody tr th {\n",
       "        vertical-align: top;\n",
       "    }\n",
       "\n",
       "    .dataframe thead th {\n",
       "        text-align: right;\n",
       "    }\n",
       "</style>\n",
       "<table border=\"1\" class=\"dataframe\">\n",
       "  <thead>\n",
       "    <tr style=\"text-align: right;\">\n",
       "      <th></th>\n",
       "      <th>name</th>\n",
       "      <th>val</th>\n",
       "      <th>chart_name</th>\n",
       "      <th>exp</th>\n",
       "    </tr>\n",
       "  </thead>\n",
       "  <tbody>\n",
       "    <tr>\n",
       "      <th>1</th>\n",
       "      <td>$\\text{SVM: }\\frac{\\mathrm{d}}{\\mathrm{d}t}T_{...</td>\n",
       "      <td>0.709422</td>\n",
       "      <td>SVM_1</td>\n",
       "      <td>Exp A</td>\n",
       "    </tr>\n",
       "    <tr>\n",
       "      <th>2</th>\n",
       "      <td>$\\text{SVM: }T_{meas}, RH_{meas}, \\frac{\\mathr...</td>\n",
       "      <td>0.698951</td>\n",
       "      <td>SVM_2</td>\n",
       "      <td>Exp A</td>\n",
       "    </tr>\n",
       "    <tr>\n",
       "      <th>3</th>\n",
       "      <td>$\\text{SVM: }T_{meas}, RH_{meas}, \\frac{\\mathr...</td>\n",
       "      <td>0.693715</td>\n",
       "      <td>SVM_3</td>\n",
       "      <td>Exp A</td>\n",
       "    </tr>\n",
       "    <tr>\n",
       "      <th>4</th>\n",
       "      <td>$\\text{SVM: }T_{meas}, \\frac{\\mathrm{d}}{\\math...</td>\n",
       "      <td>0.686005</td>\n",
       "      <td>NaN</td>\n",
       "      <td>Exp A</td>\n",
       "    </tr>\n",
       "    <tr>\n",
       "      <th>5</th>\n",
       "      <td>$\\text{SVM: }T_{meas}, \\frac{\\mathrm{d}}{\\math...</td>\n",
       "      <td>0.686005</td>\n",
       "      <td>NaN</td>\n",
       "      <td>Exp A</td>\n",
       "    </tr>\n",
       "    <tr>\n",
       "      <th>...</th>\n",
       "      <td>...</td>\n",
       "      <td>...</td>\n",
       "      <td>...</td>\n",
       "      <td>...</td>\n",
       "    </tr>\n",
       "    <tr>\n",
       "      <th>337</th>\n",
       "      <td>$\\text{SVM: }T_{meas}, T_{amb}$</td>\n",
       "      <td>0.459252</td>\n",
       "      <td>NaN</td>\n",
       "      <td>Exp C</td>\n",
       "    </tr>\n",
       "    <tr>\n",
       "      <th>338</th>\n",
       "      <td>$\\text{SVM: }T_{amb} - T_{meas}, RH_{meas} - \\...</td>\n",
       "      <td>0.444231</td>\n",
       "      <td>NaN</td>\n",
       "      <td>Exp C</td>\n",
       "    </tr>\n",
       "    <tr>\n",
       "      <th>339</th>\n",
       "      <td>$\\text{SVM: }T_{meas}$</td>\n",
       "      <td>0.430241</td>\n",
       "      <td>NaN</td>\n",
       "      <td>Exp C</td>\n",
       "    </tr>\n",
       "    <tr>\n",
       "      <th>340</th>\n",
       "      <td>$\\text{SVM: }RH_{amb} - RH_{meas}, T_{meas} - ...</td>\n",
       "      <td>0.414189</td>\n",
       "      <td>NaN</td>\n",
       "      <td>Exp C</td>\n",
       "    </tr>\n",
       "    <tr>\n",
       "      <th>341</th>\n",
       "      <td>$\\text{SVM: }\\frac{\\mathrm{d}}{\\mathrm{d}t}T_{...</td>\n",
       "      <td>0.193616</td>\n",
       "      <td>NaN</td>\n",
       "      <td>Exp C</td>\n",
       "    </tr>\n",
       "  </tbody>\n",
       "</table>\n",
       "<p>339 rows × 4 columns</p>\n",
       "</div>"
      ],
      "text/plain": [
       "                                                  name       val chart_name  \\\n",
       "1    $\\text{SVM: }\\frac{\\mathrm{d}}{\\mathrm{d}t}T_{...  0.709422      SVM_1   \n",
       "2    $\\text{SVM: }T_{meas}, RH_{meas}, \\frac{\\mathr...  0.698951      SVM_2   \n",
       "3    $\\text{SVM: }T_{meas}, RH_{meas}, \\frac{\\mathr...  0.693715      SVM_3   \n",
       "4    $\\text{SVM: }T_{meas}, \\frac{\\mathrm{d}}{\\math...  0.686005        NaN   \n",
       "5    $\\text{SVM: }T_{meas}, \\frac{\\mathrm{d}}{\\math...  0.686005        NaN   \n",
       "..                                                 ...       ...        ...   \n",
       "337                    $\\text{SVM: }T_{meas}, T_{amb}$  0.459252        NaN   \n",
       "338  $\\text{SVM: }T_{amb} - T_{meas}, RH_{meas} - \\...  0.444231        NaN   \n",
       "339                             $\\text{SVM: }T_{meas}$  0.430241        NaN   \n",
       "340  $\\text{SVM: }RH_{amb} - RH_{meas}, T_{meas} - ...  0.414189        NaN   \n",
       "341  $\\text{SVM: }\\frac{\\mathrm{d}}{\\mathrm{d}t}T_{...  0.193616        NaN   \n",
       "\n",
       "       exp  \n",
       "1    Exp A  \n",
       "2    Exp A  \n",
       "3    Exp A  \n",
       "4    Exp A  \n",
       "5    Exp A  \n",
       "..     ...  \n",
       "337  Exp C  \n",
       "338  Exp C  \n",
       "339  Exp C  \n",
       "340  Exp C  \n",
       "341  Exp C  \n",
       "\n",
       "[339 rows x 4 columns]"
      ]
     },
     "execution_count": 36,
     "metadata": {},
     "output_type": "execute_result"
    }
   ],
   "source": [
    "df_svm = dif_sort_dfs[\"f1\"].loc[dif_sort_dfs[\"f1\"].name.str.contains(\"ST\") == False]\n",
    "df_svm"
   ]
  },
  {
   "cell_type": "code",
   "execution_count": 45,
   "metadata": {},
   "outputs": [
    {
     "data": {
      "text/html": [
       "<div>\n",
       "<style scoped>\n",
       "    .dataframe tbody tr th:only-of-type {\n",
       "        vertical-align: middle;\n",
       "    }\n",
       "\n",
       "    .dataframe tbody tr th {\n",
       "        vertical-align: top;\n",
       "    }\n",
       "\n",
       "    .dataframe thead th {\n",
       "        text-align: right;\n",
       "    }\n",
       "</style>\n",
       "<table border=\"1\" class=\"dataframe\">\n",
       "  <thead>\n",
       "    <tr style=\"text-align: right;\">\n",
       "      <th></th>\n",
       "      <th>name</th>\n",
       "      <th>val</th>\n",
       "      <th>chart_name</th>\n",
       "      <th>exp</th>\n",
       "    </tr>\n",
       "  </thead>\n",
       "  <tbody>\n",
       "    <tr>\n",
       "      <th>0</th>\n",
       "      <td>$\\text{ST}$</td>\n",
       "      <td>0.724242</td>\n",
       "      <td>EWM</td>\n",
       "      <td>Exp A</td>\n",
       "    </tr>\n",
       "    <tr>\n",
       "      <th>114</th>\n",
       "      <td>$\\text{ST}$</td>\n",
       "      <td>0.461721</td>\n",
       "      <td>EWM</td>\n",
       "      <td>Exp B</td>\n",
       "    </tr>\n",
       "    <tr>\n",
       "      <th>228</th>\n",
       "      <td>$\\text{ST}$</td>\n",
       "      <td>0.437793</td>\n",
       "      <td>EWM</td>\n",
       "      <td>Exp C</td>\n",
       "    </tr>\n",
       "  </tbody>\n",
       "</table>\n",
       "</div>"
      ],
      "text/plain": [
       "            name       val chart_name    exp\n",
       "0    $\\text{ST}$  0.724242        EWM  Exp A\n",
       "114  $\\text{ST}$  0.461721        EWM  Exp B\n",
       "228  $\\text{ST}$  0.437793        EWM  Exp C"
      ]
     },
     "execution_count": 45,
     "metadata": {},
     "output_type": "execute_result"
    }
   ],
   "source": [
    "df_st = dif_sort_dfs[\"f1\"].loc[dif_sort_dfs[\"f1\"].name.str.contains(\"ST\")]\n",
    "df_st"
   ]
  },
  {
   "cell_type": "code",
   "execution_count": 63,
   "metadata": {},
   "outputs": [
    {
     "data": {
      "text/plain": [
       "Text(0.5, 0, '')"
      ]
     },
     "execution_count": 63,
     "metadata": {},
     "output_type": "execute_result"
    },
    {
     "data": {
      "image/png": "[encoded data removed]",
      "text/plain": [
       "<Figure size 400x300 with 2 Axes>"
      ]
     },
     "metadata": {},
     "output_type": "display_data"
    }
   ],
   "source": [
    "fig, axs = plt.subplots(1, 2,figsize=(4, 3), sharey=True, gridspec_kw={'width_ratios': [1, 1.5]})\n",
    "sns.stripplot(data=df_st, y=\"val\",  hue=\"exp\", legend=True, ax=axs[0])\n",
    "sns.kdeplot(data=df_svm,  y=\"val\", hue=\"exp\",  fill=True, ax=axs[1], legend=False)\n",
    "\n",
    "axs[0].set_title(\"ST\")\n",
    "axs[1].set_title(\"SVM\")\n",
    "\n",
    "axs[0].set_ylabel(\"Metric Value\")\n",
    "axs[0].legend(title=\"\")\n",
    "\n",
    "axs[1].set_xticks([])\n",
    "axs[1].set_xlabel(\"\")\n"
   ]
  },
  {
   "cell_type": "code",
   "execution_count": 40,
   "metadata": {},
   "outputs": [
    {
     "data": {
      "application/vnd.plotly.v1+json": {
       "config": {
        "plotlyServerURL": "https://plotly.com"
       },
       "data": [
        {
         "alignmentgroup": "True",
         "bingroup": "y",
         "hovertemplate": "exp=Exp A<br>count=%{x}<br>val=%{y}<extra></extra>",
         "legendgroup": "Exp A",
         "marker": {
          "color": "#636efa",
          "pattern": {
           "shape": ""
          }
         },
         "name": "Exp A",
         "offsetgroup": "Exp A",
         "orientation": "h",
         "showlegend": true,
         "type": "histogram",
         "xaxis": "x",
         "y": [
          0.7094221079901271,
          0.6989508326023839,
          0.6937151949085122,
          0.6860047846889952,
          0.6860047846889952,
          0.6835279651632801,
          0.6730660797141323,
          0.6675370064391544,
          0.6675370064391544,
          0.6623013687452828,
          0.6623013687452828,
          0.6598385167464115,
          0.6598385167464115,
          0.6573732515404107,
          0.6570657310514112,
          0.6518300933575396,
          0.6490476190476191,
          0.6469113660912629,
          0.6441387559808611,
          0.6413588179697964,
          0.6413588179697964,
          0.6413588179697964,
          0.6385714285714286,
          0.6364494806421153,
          0.6364494806421153,
          0.633990656236419,
          0.6336722488038277,
          0.6333333333333333,
          0.6308875425820533,
          0.6308875425820533,
          0.6308875425820533,
          0.628438995215311,
          0.628438995215311,
          0.628438995215311,
          0.628438995215311,
          0.628095238095238,
          0.628095238095238,
          0.6256519048881817,
          0.6256519048881817,
          0.6256519048881817,
          0.6256519048881817,
          0.6204162671943102,
          0.6204162671943102,
          0.6204162671943102,
          0.6183045415036941,
          0.6179724880382775,
          0.6155257097438197,
          0.6151806295004387,
          0.6151806295004387,
          0.6151806295004387,
          0.6151806295004387,
          0.6151806295004387,
          0.6127392344497609,
          0.6123809523809524,
          0.6099449918065669,
          0.6095733313369042,
          0.6071428571428571,
          0.6071428571428571,
          0.6047093541126953,
          0.6047093541126953,
          0.6047093541126953,
          0.6022727272727273,
          0.6022727272727273,
          0.5990920784868883,
          0.5942380787249522,
          0.5918062200956938,
          0.5918062200956938,
          0.5890024410310806,
          0.5841400533963763,
          0.5837668033372091,
          0.5837668033372091,
          0.5813397129186602,
          0.5813397129186602,
          0.5813397129186602,
          0.5813397129186602,
          0.5813397129186602,
          0.5740369930425928,
          0.5736781679472286,
          0.5732955279494658,
          0.5708732057416268,
          0.5684472252226547,
          0.5628242525617227,
          0.5599999999999999,
          0.557985339773507,
          0.557588614867851,
          0.557588614867851,
          0.5493520615593465,
          0.5475234543243592,
          0.547117339480108,
          0.544706937799043,
          0.5442857142857143,
          0.5418817017862363,
          0.5418817017862363,
          0.5418817017862363,
          0.5394736842105263,
          0.539047619047619,
          0.5366460640923648,
          0.5342404306220097,
          0.5314104263984933,
          0.5290071770334928,
          0.5265996834260637,
          0.5204826821117683,
          0.5104678756230069,
          0.4995201764117363,
          0.4995201764117363,
          0.4871411483253588,
          0.4871411483253588,
          0.484289687153649,
          0.4819078947368421,
          0.4685827740720342,
          0.4585974280066032,
          0.45050837320574166,
          0.30346600647495714
         ],
         "yaxis": "y"
        },
        {
         "alignmentgroup": "True",
         "bingroup": "y",
         "hovertemplate": "exp=Exp B<br>count=%{x}<br>val=%{y}<extra></extra>",
         "legendgroup": "Exp B",
         "marker": {
          "color": "#EF553B",
          "pattern": {
           "shape": ""
          }
         },
         "name": "Exp B",
         "offsetgroup": "Exp B",
         "orientation": "h",
         "showlegend": true,
         "type": "histogram",
         "xaxis": "x",
         "y": [
          0.44478494332049684,
          0.4238408521303258,
          0.4194354597768339,
          0.4158294688437707,
          0.41539993107937356,
          0.4144544872482393,
          0.4140264733772392,
          0.4140264733772392,
          0.4140264733772392,
          0.4122234779107075,
          0.4117968489904945,
          0.41042048244417606,
          0.41042048244417606,
          0.41042048244417606,
          0.4090411234939857,
          0.4086174869776445,
          0.4086174869776445,
          0.4086174869776445,
          0.40819376690161546,
          0.40819376690161546,
          0.40819376690161546,
          0.4072366689092345,
          0.4072366689092345,
          0.406392225857176,
          0.4054322143244833,
          0.4036277597397322,
          0.4036277597397322,
          0.4032085005780497,
          0.4032085005780497,
          0.4032085005780497,
          0.4032085005780497,
          0.402241004236362,
          0.4020599461158509,
          0.401823305154981,
          0.40140550511151807,
          0.40098760272385736,
          0.40098760272385736,
          0.4004350858201576,
          0.3996025096449865,
          0.3996025096449865,
          0.3996025096449865,
          0.3996025096449865,
          0.3996025096449865,
          0.3996025096449865,
          0.3996025096449865,
          0.397799514178455,
          0.3973845206349783,
          0.3964099414007274,
          0.3964099414007274,
          0.3964099414007274,
          0.39599651871192343,
          0.3955829795905388,
          0.3951693227091634,
          0.3946054868159762,
          0.39280103223122503,
          0.39280103223122503,
          0.39280103223122503,
          0.39280103223122503,
          0.39280103223122503,
          0.39156914010624166,
          0.3887845368457971,
          0.3873876684769714,
          0.38698154137926555,
          0.38698154137926555,
          0.38657527436834116,
          0.385178545912734,
          0.38477373332390163,
          0.3833755504462024,
          0.3833755504462024,
          0.3825021388614676,
          0.3819743047227179,
          0.3815725549796708,
          0.3815725549796708,
          0.379369110190583,
          0.37876406482570546,
          0.3783653955532154,
          0.3779665640466077,
          0.3779665640466077,
          0.3765609409684643,
          0.37616356858007605,
          0.37616356858007605,
          0.3739644870572645,
          0.372557577647013,
          0.37114757721421077,
          0.3707545821804814,
          0.36895158671394984,
          0.36855986392394585,
          0.36753866804470836,
          0.3671485912474182,
          0.36534559578088666,
          0.36495678183506686,
          0.3603208497057036,
          0.3603208497057036,
          0.35889896224745765,
          0.35633061844822883,
          0.3541475355684297,
          0.3527246275151657,
          0.3527246275151657,
          0.35129857678194765,
          0.3509216320486341,
          0.3491186365821025,
          0.34768966761244524,
          0.3458852130276941,
          0.3458852130276941,
          0.3455126456490394,
          0.3451398303462321,
          0.3437096501825078,
          0.3415367482573529,
          0.3397352072129135,
          0.32676585325365204,
          0.3245430702401443,
          0.3235213378129577,
          0.08618211725220773
         ],
         "yaxis": "y"
        },
        {
         "alignmentgroup": "True",
         "bingroup": "y",
         "hovertemplate": "exp=Exp C<br>count=%{x}<br>val=%{y}<extra></extra>",
         "legendgroup": "Exp C",
         "marker": {
          "color": "#00cc96",
          "pattern": {
           "shape": ""
          }
         },
         "name": "Exp C",
         "offsetgroup": "Exp C",
         "orientation": "h",
         "showlegend": true,
         "type": "histogram",
         "xaxis": "x",
         "y": [
          0.6258288105669261,
          0.610079365079365,
          0.6094594594594596,
          0.6094594594594596,
          0.6094594594594596,
          0.605191256830601,
          0.6035973084886128,
          0.6019490644490644,
          0.5990326888914822,
          0.5927027873473223,
          0.5869282744282744,
          0.5869282744282744,
          0.5869282744282744,
          0.5840432567005096,
          0.5822883706394781,
          0.5811594202898551,
          0.5794178794178795,
          0.5765485406050233,
          0.5736801242236024,
          0.5736801242236024,
          0.5736801242236024,
          0.5719074844074844,
          0.5719074844074844,
          0.5719074844074844,
          0.5719074844074844,
          0.5719074844074844,
          0.5690538245095369,
          0.5690538245095369,
          0.5643970893970893,
          0.5568866943866944,
          0.5568866943866944,
          0.5493762993762994,
          0.5465696762230781,
          0.5465696762230781,
          0.5446566923187104,
          0.543762939958592,
          0.5418659043659044,
          0.5418659043659044,
          0.5418659043659044,
          0.5371303566545568,
          0.5343555093555094,
          0.5315802440321054,
          0.5268451143451144,
          0.5268451143451144,
          0.5268451143451144,
          0.5248199185718759,
          0.5240855279366191,
          0.5240855279366191,
          0.5220776853262497,
          0.5220776853262497,
          0.5220776853262497,
          0.5213250517598343,
          0.5213250517598343,
          0.5193347193347193,
          0.5193347193347193,
          0.5172773775968265,
          0.5165908118411328,
          0.5165908118411328,
          0.5165908118411328,
          0.5165908118411328,
          0.5165908118411328,
          0.5145513496620961,
          0.5145513496620961,
          0.5145513496620961,
          0.5145513496620961,
          0.5138457556935818,
          0.5118243243243243,
          0.5118243243243243,
          0.5118243243243243,
          0.5118243243243243,
          0.5118243243243243,
          0.5118243243243243,
          0.5118243243243243,
          0.5090960957456464,
          0.5090960957456464,
          0.5070250139979426,
          0.5070250139979426,
          0.5070250139979426,
          0.5063664596273292,
          0.5063664596273292,
          0.5063664596273292,
          0.5063664596273292,
          0.5043139293139294,
          0.5043139293139294,
          0.5043139293139294,
          0.5043139293139294,
          0.5016013796501602,
          0.5016013796501602,
          0.5016013796501602,
          0.5016013796501602,
          0.5016013796501602,
          0.499498678333789,
          0.4968035343035343,
          0.4968035343035343,
          0.4941066635546738,
          0.4941066635546738,
          0.49036896364622895,
          0.4892931392931392,
          0.484446007005482,
          0.48178274428274426,
          0.48178274428274426,
          0.4791172313637012,
          0.4791172313637012,
          0.4791172313637012,
          0.47162251526821486,
          0.4614906832298137,
          0.4614906832298137,
          0.4609392143954356,
          0.45925155925155925,
          0.4442307692307692,
          0.4302412841352819,
          0.4141891891891892,
          0.19361619599354363
         ],
         "yaxis": "y"
        }
       ],
       "layout": {
        "barmode": "relative",
        "legend": {
         "title": {
          "text": "exp"
         },
         "tracegroupgap": 0
        },
        "margin": {
         "t": 60
        },
        "template": {
         "data": {
          "bar": [
           {
            "error_x": {
             "color": "#2a3f5f"
            },
            "error_y": {
             "color": "#2a3f5f"
            },
            "marker": {
             "line": {
              "color": "#E5ECF6",
              "width": 0.5
             },
             "pattern": {
              "fillmode": "overlay",
              "size": 10,
              "solidity": 0.2
             }
            },
            "type": "bar"
           }
          ],
          "barpolar": [
           {
            "marker": {
             "line": {
              "color": "#E5ECF6",
              "width": 0.5
             },
             "pattern": {
              "fillmode": "overlay",
              "size": 10,
              "solidity": 0.2
             }
            },
            "type": "barpolar"
           }
          ],
          "carpet": [
           {
            "aaxis": {
             "endlinecolor": "#2a3f5f",
             "gridcolor": "white",
             "linecolor": "white",
             "minorgridcolor": "white",
             "startlinecolor": "#2a3f5f"
            },
            "baxis": {
             "endlinecolor": "#2a3f5f",
             "gridcolor": "white",
             "linecolor": "white",
             "minorgridcolor": "white",
             "startlinecolor": "#2a3f5f"
            },
            "type": "carpet"
           }
          ],
          "choropleth": [
           {
            "colorbar": {
             "outlinewidth": 0,
             "ticks": ""
            },
            "type": "choropleth"
           }
          ],
          "contour": [
           {
            "colorbar": {
             "outlinewidth": 0,
             "ticks": ""
            },
            "colorscale": [
             [
              0,
              "#0d0887"
             ],
             [
              0.1111111111111111,
              "#46039f"
             ],
             [
              0.2222222222222222,
              "#7201a8"
             ],
             [
              0.3333333333333333,
              "#9c179e"
             ],
             [
              0.4444444444444444,
              "#bd3786"
             ],
             [
              0.5555555555555556,
              "#d8576b"
             ],
             [
              0.6666666666666666,
              "#ed7953"
             ],
             [
              0.7777777777777778,
              "#fb9f3a"
             ],
             [
              0.8888888888888888,
              "#fdca26"
             ],
             [
              1,
              "#f0f921"
             ]
            ],
            "type": "contour"
           }
          ],
          "contourcarpet": [
           {
            "colorbar": {
             "outlinewidth": 0,
             "ticks": ""
            },
            "type": "contourcarpet"
           }
          ],
          "heatmap": [
           {
            "colorbar": {
             "outlinewidth": 0,
             "ticks": ""
            },
            "colorscale": [
             [
              0,
              "#0d0887"
             ],
             [
              0.1111111111111111,
              "#46039f"
             ],
             [
              0.2222222222222222,
              "#7201a8"
             ],
             [
              0.3333333333333333,
              "#9c179e"
             ],
             [
              0.4444444444444444,
              "#bd3786"
             ],
             [
              0.5555555555555556,
              "#d8576b"
             ],
             [
              0.6666666666666666,
              "#ed7953"
             ],
             [
              0.7777777777777778,
              "#fb9f3a"
             ],
             [
              0.8888888888888888,
              "#fdca26"
             ],
             [
              1,
              "#f0f921"
             ]
            ],
            "type": "heatmap"
           }
          ],
          "heatmapgl": [
           {
            "colorbar": {
             "outlinewidth": 0,
             "ticks": ""
            },
            "colorscale": [
             [
              0,
              "#0d0887"
             ],
             [
              0.1111111111111111,
              "#46039f"
             ],
             [
              0.2222222222222222,
              "#7201a8"
             ],
             [
              0.3333333333333333,
              "#9c179e"
             ],
             [
              0.4444444444444444,
              "#bd3786"
             ],
             [
              0.5555555555555556,
              "#d8576b"
             ],
             [
              0.6666666666666666,
              "#ed7953"
             ],
             [
              0.7777777777777778,
              "#fb9f3a"
             ],
             [
              0.8888888888888888,
              "#fdca26"
             ],
             [
              1,
              "#f0f921"
             ]
            ],
            "type": "heatmapgl"
           }
          ],
          "histogram": [
           {
            "marker": {
             "pattern": {
              "fillmode": "overlay",
              "size": 10,
              "solidity": 0.2
             }
            },
            "type": "histogram"
           }
          ],
          "histogram2d": [
           {
            "colorbar": {
             "outlinewidth": 0,
             "ticks": ""
            },
            "colorscale": [
             [
              0,
              "#0d0887"
             ],
             [
              0.1111111111111111,
              "#46039f"
             ],
             [
              0.2222222222222222,
              "#7201a8"
             ],
             [
              0.3333333333333333,
              "#9c179e"
             ],
             [
              0.4444444444444444,
              "#bd3786"
             ],
             [
              0.5555555555555556,
              "#d8576b"
             ],
             [
              0.6666666666666666,
              "#ed7953"
             ],
             [
              0.7777777777777778,
              "#fb9f3a"
             ],
             [
              0.8888888888888888,
              "#fdca26"
             ],
             [
              1,
              "#f0f921"
             ]
            ],
            "type": "histogram2d"
           }
          ],
          "histogram2dcontour": [
           {
            "colorbar": {
             "outlinewidth": 0,
             "ticks": ""
            },
            "colorscale": [
             [
              0,
              "#0d0887"
             ],
             [
              0.1111111111111111,
              "#46039f"
             ],
             [
              0.2222222222222222,
              "#7201a8"
             ],
             [
              0.3333333333333333,
              "#9c179e"
             ],
             [
              0.4444444444444444,
              "#bd3786"
             ],
             [
              0.5555555555555556,
              "#d8576b"
             ],
             [
              0.6666666666666666,
              "#ed7953"
             ],
             [
              0.7777777777777778,
              "#fb9f3a"
             ],
             [
              0.8888888888888888,
              "#fdca26"
             ],
             [
              1,
              "#f0f921"
             ]
            ],
            "type": "histogram2dcontour"
           }
          ],
          "mesh3d": [
           {
            "colorbar": {
             "outlinewidth": 0,
             "ticks": ""
            },
            "type": "mesh3d"
           }
          ],
          "parcoords": [
           {
            "line": {
             "colorbar": {
              "outlinewidth": 0,
              "ticks": ""
             }
            },
            "type": "parcoords"
           }
          ],
          "pie": [
           {
            "automargin": true,
            "type": "pie"
           }
          ],
          "scatter": [
           {
            "fillpattern": {
             "fillmode": "overlay",
             "size": 10,
             "solidity": 0.2
            },
            "type": "scatter"
           }
          ],
          "scatter3d": [
           {
            "line": {
             "colorbar": {
              "outlinewidth": 0,
              "ticks": ""
             }
            },
            "marker": {
             "colorbar": {
              "outlinewidth": 0,
              "ticks": ""
             }
            },
            "type": "scatter3d"
           }
          ],
          "scattercarpet": [
           {
            "marker": {
             "colorbar": {
              "outlinewidth": 0,
              "ticks": ""
             }
            },
            "type": "scattercarpet"
           }
          ],
          "scattergeo": [
           {
            "marker": {
             "colorbar": {
              "outlinewidth": 0,
              "ticks": ""
             }
            },
            "type": "scattergeo"
           }
          ],
          "scattergl": [
           {
            "marker": {
             "colorbar": {
              "outlinewidth": 0,
              "ticks": ""
             }
            },
            "type": "scattergl"
           }
          ],
          "scattermapbox": [
           {
            "marker": {
             "colorbar": {
              "outlinewidth": 0,
              "ticks": ""
             }
            },
            "type": "scattermapbox"
           }
          ],
          "scatterpolar": [
           {
            "marker": {
             "colorbar": {
              "outlinewidth": 0,
              "ticks": ""
             }
            },
            "type": "scatterpolar"
           }
          ],
          "scatterpolargl": [
           {
            "marker": {
             "colorbar": {
              "outlinewidth": 0,
              "ticks": ""
             }
            },
            "type": "scatterpolargl"
           }
          ],
          "scatterternary": [
           {
            "marker": {
             "colorbar": {
              "outlinewidth": 0,
              "ticks": ""
             }
            },
            "type": "scatterternary"
           }
          ],
          "surface": [
           {
            "colorbar": {
             "outlinewidth": 0,
             "ticks": ""
            },
            "colorscale": [
             [
              0,
              "#0d0887"
             ],
             [
              0.1111111111111111,
              "#46039f"
             ],
             [
              0.2222222222222222,
              "#7201a8"
             ],
             [
              0.3333333333333333,
              "#9c179e"
             ],
             [
              0.4444444444444444,
              "#bd3786"
             ],
             [
              0.5555555555555556,
              "#d8576b"
             ],
             [
              0.6666666666666666,
              "#ed7953"
             ],
             [
              0.7777777777777778,
              "#fb9f3a"
             ],
             [
              0.8888888888888888,
              "#fdca26"
             ],
             [
              1,
              "#f0f921"
             ]
            ],
            "type": "surface"
           }
          ],
          "table": [
           {
            "cells": {
             "fill": {
              "color": "#EBF0F8"
             },
             "line": {
              "color": "white"
             }
            },
            "header": {
             "fill": {
              "color": "#C8D4E3"
             },
             "line": {
              "color": "white"
             }
            },
            "type": "table"
           }
          ]
         },
         "layout": {
          "annotationdefaults": {
           "arrowcolor": "#2a3f5f",
           "arrowhead": 0,
           "arrowwidth": 1
          },
          "autotypenumbers": "strict",
          "coloraxis": {
           "colorbar": {
            "outlinewidth": 0,
            "ticks": ""
           }
          },
          "colorscale": {
           "diverging": [
            [
             0,
             "#8e0152"
            ],
            [
             0.1,
             "#c51b7d"
            ],
            [
             0.2,
             "#de77ae"
            ],
            [
             0.3,
             "#f1b6da"
            ],
            [
             0.4,
             "#fde0ef"
            ],
            [
             0.5,
             "#f7f7f7"
            ],
            [
             0.6,
             "#e6f5d0"
            ],
            [
             0.7,
             "#b8e186"
            ],
            [
             0.8,
             "#7fbc41"
            ],
            [
             0.9,
             "#4d9221"
            ],
            [
             1,
             "#276419"
            ]
           ],
           "sequential": [
            [
             0,
             "#0d0887"
            ],
            [
             0.1111111111111111,
             "#46039f"
            ],
            [
             0.2222222222222222,
             "#7201a8"
            ],
            [
             0.3333333333333333,
             "#9c179e"
            ],
            [
             0.4444444444444444,
             "#bd3786"
            ],
            [
             0.5555555555555556,
             "#d8576b"
            ],
            [
             0.6666666666666666,
             "#ed7953"
            ],
            [
             0.7777777777777778,
             "#fb9f3a"
            ],
            [
             0.8888888888888888,
             "#fdca26"
            ],
            [
             1,
             "#f0f921"
            ]
           ],
           "sequentialminus": [
            [
             0,
             "#0d0887"
            ],
            [
             0.1111111111111111,
             "#46039f"
            ],
            [
             0.2222222222222222,
             "#7201a8"
            ],
            [
             0.3333333333333333,
             "#9c179e"
            ],
            [
             0.4444444444444444,
             "#bd3786"
            ],
            [
             0.5555555555555556,
             "#d8576b"
            ],
            [
             0.6666666666666666,
             "#ed7953"
            ],
            [
             0.7777777777777778,
             "#fb9f3a"
            ],
            [
             0.8888888888888888,
             "#fdca26"
            ],
            [
             1,
             "#f0f921"
            ]
           ]
          },
          "colorway": [
           "#636efa",
           "#EF553B",
           "#00cc96",
           "#ab63fa",
           "#FFA15A",
           "#19d3f3",
           "#FF6692",
           "#B6E880",
           "#FF97FF",
           "#FECB52"
          ],
          "font": {
           "color": "#2a3f5f"
          },
          "geo": {
           "bgcolor": "white",
           "lakecolor": "white",
           "landcolor": "#E5ECF6",
           "showlakes": true,
           "showland": true,
           "subunitcolor": "white"
          },
          "hoverlabel": {
           "align": "left"
          },
          "hovermode": "closest",
          "mapbox": {
           "style": "light"
          },
          "paper_bgcolor": "white",
          "plot_bgcolor": "#E5ECF6",
          "polar": {
           "angularaxis": {
            "gridcolor": "white",
            "linecolor": "white",
            "ticks": ""
           },
           "bgcolor": "#E5ECF6",
           "radialaxis": {
            "gridcolor": "white",
            "linecolor": "white",
            "ticks": ""
           }
          },
          "scene": {
           "xaxis": {
            "backgroundcolor": "#E5ECF6",
            "gridcolor": "white",
            "gridwidth": 2,
            "linecolor": "white",
            "showbackground": true,
            "ticks": "",
            "zerolinecolor": "white"
           },
           "yaxis": {
            "backgroundcolor": "#E5ECF6",
            "gridcolor": "white",
            "gridwidth": 2,
            "linecolor": "white",
            "showbackground": true,
            "ticks": "",
            "zerolinecolor": "white"
           },
           "zaxis": {
            "backgroundcolor": "#E5ECF6",
            "gridcolor": "white",
            "gridwidth": 2,
            "linecolor": "white",
            "showbackground": true,
            "ticks": "",
            "zerolinecolor": "white"
           }
          },
          "shapedefaults": {
           "line": {
            "color": "#2a3f5f"
           }
          },
          "ternary": {
           "aaxis": {
            "gridcolor": "white",
            "linecolor": "white",
            "ticks": ""
           },
           "baxis": {
            "gridcolor": "white",
            "linecolor": "white",
            "ticks": ""
           },
           "bgcolor": "#E5ECF6",
           "caxis": {
            "gridcolor": "white",
            "linecolor": "white",
            "ticks": ""
           }
          },
          "title": {
           "x": 0.05
          },
          "xaxis": {
           "automargin": true,
           "gridcolor": "white",
           "linecolor": "white",
           "ticks": "",
           "title": {
            "standoff": 15
           },
           "zerolinecolor": "white",
           "zerolinewidth": 2
          },
          "yaxis": {
           "automargin": true,
           "gridcolor": "white",
           "linecolor": "white",
           "ticks": "",
           "title": {
            "standoff": 15
           },
           "zerolinecolor": "white",
           "zerolinewidth": 2
          }
         }
        },
        "xaxis": {
         "anchor": "y",
         "domain": [
          0,
          1
         ],
         "title": {
          "text": "count"
         }
        },
        "yaxis": {
         "anchor": "x",
         "domain": [
          0,
          1
         ],
         "title": {
          "text": "val"
         }
        }
       }
      }
     },
     "metadata": {},
     "output_type": "display_data"
    }
   ],
   "source": [
    "fig = px.histogram(df_svm, y=\"val\", color=\"exp\", )\n",
    "fig.show()"
   ]
  },
  {
   "cell_type": "code",
   "execution_count": 35,
   "metadata": {},
   "outputs": [
    {
     "data": {
      "text/html": [
       "<div>\n",
       "<style scoped>\n",
       "    .dataframe tbody tr th:only-of-type {\n",
       "        vertical-align: middle;\n",
       "    }\n",
       "\n",
       "    .dataframe tbody tr th {\n",
       "        vertical-align: top;\n",
       "    }\n",
       "\n",
       "    .dataframe thead th {\n",
       "        text-align: right;\n",
       "    }\n",
       "</style>\n",
       "<table border=\"1\" class=\"dataframe\">\n",
       "  <thead>\n",
       "    <tr style=\"text-align: right;\">\n",
       "      <th></th>\n",
       "      <th>name</th>\n",
       "      <th>val</th>\n",
       "      <th>chart_name</th>\n",
       "      <th>exp</th>\n",
       "    </tr>\n",
       "  </thead>\n",
       "  <tbody>\n",
       "    <tr>\n",
       "      <th>0</th>\n",
       "      <td>$\\text{ST}$</td>\n",
       "      <td>0.724242</td>\n",
       "      <td>EWM</td>\n",
       "      <td>Exp A</td>\n",
       "    </tr>\n",
       "    <tr>\n",
       "      <th>114</th>\n",
       "      <td>$\\text{ST}$</td>\n",
       "      <td>0.461721</td>\n",
       "      <td>EWM</td>\n",
       "      <td>Exp B</td>\n",
       "    </tr>\n",
       "    <tr>\n",
       "      <th>228</th>\n",
       "      <td>$\\text{ST}$</td>\n",
       "      <td>0.437793</td>\n",
       "      <td>EWM</td>\n",
       "      <td>Exp C</td>\n",
       "    </tr>\n",
       "  </tbody>\n",
       "</table>\n",
       "</div>"
      ],
      "text/plain": [
       "            name       val chart_name    exp\n",
       "0    $\\text{ST}$  0.724242        EWM  Exp A\n",
       "114  $\\text{ST}$  0.461721        EWM  Exp B\n",
       "228  $\\text{ST}$  0.437793        EWM  Exp C"
      ]
     },
     "execution_count": 35,
     "metadata": {},
     "output_type": "execute_result"
    }
   ],
   "source": []
  },
  {
   "cell_type": "code",
   "execution_count": 11,
   "metadata": {},
   "outputs": [
    {
     "data": {
      "text/plain": [
       "{'f1': 'Macro Average F1 Score',\n",
       " 'hits_guesses_ratio': 'Hits/Guesses',\n",
       " 'guesses_actions_ratio': 'Guesses/Actions',\n",
       " 'opening_acc': 'Opening Accuracy',\n",
       " 'unbounded_opening_acc': 'Unbounded Opening Accuracy',\n",
       " 'true_time': 'True Opening Time',\n",
       " 'false_time': 'False Opening Time'}"
      ]
     },
     "execution_count": 11,
     "metadata": {},
     "output_type": "execute_result"
    }
   ],
   "source": [
    "proper_chart_titles_list = [\"Macro Average F1 Score\",\n",
    "                    \"Hits/Guesses\",\n",
    "                    \"Guesses/Actions\",\n",
    "                    \"Opening Accuracy\",\n",
    "                    \"Unbounded Opening Accuracy\",\n",
    "                    \"True Opening Time\",\n",
    "                    \"False Opening Time\"]\n",
    "proper_chart_titles = {k:v for k,v in zip(sort_key_dict.keys(), proper_chart_titles_list)}\n",
    "proper_chart_titles"
   ]
  },
  {
   "cell_type": "code",
   "execution_count": 45,
   "metadata": {},
   "outputs": [],
   "source": [
    "for ix, (k, v) in enumerate(dif_sort_dfs.items()):\n",
    "\n",
    "    fig = px.strip(v, x=\"chart_name\", y=\"val\", color=\"exp\", stripmode='overlay')\n",
    "\n",
    "    txt=\"r'{info}'\"\n",
    "    lnames = list(v[\"name\"].iloc[0:4])\n",
    "    fig.update_layout(title=proper_chart_titles[k],\n",
    "        xaxis= dict(\n",
    "            tickmode=\"array\",\n",
    "            tickvals= list(range(4)),\n",
    "            ticktext=[txt.format(info=l) for l in lnames], \n",
    "            tickfont = dict(size=30)\n",
    "        ),\n",
    "        xaxis_title='Models',\n",
    "        yaxis_title='Metric Values',\n",
    "        \n",
    "    )\n",
    "\n",
    "    fig.update_layout(legend_title_text='Experiments')\n",
    "\n",
    "    if ix != 0:\n",
    "        fig.update_layout(showlegend=False, xaxis_title=None,\n",
    "        yaxis_title=None)\n",
    "\n",
    "\n",
    "    fig.write_image(f\"../../summary/230613_buildsys/figs/{k}.png\", scale=4)\n"
   ]
  }
 ],
 "metadata": {
  "kernelspec": {
   "display_name": "localwindowsenv",
   "language": "python",
   "name": "python3"
  },
  "language_info": {
   "codemirror_mode": {
    "name": "ipython",
    "version": 3
   },
   "file_extension": ".py",
   "mimetype": "text/x-python",
   "name": "python",
   "nbconvert_exporter": "python",
   "pygments_lexer": "ipython3",
   "version": "3.9.15"
  },
  "orig_nbformat": 4
 },
 "nbformat": 4,
 "nbformat_minor": 2
}
