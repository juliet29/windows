{
 "cells": [
  {
   "cell_type": "code",
   "execution_count": 140,
   "metadata": {},
   "outputs": [],
   "source": [
    "import plotly.graph_objects as go\n",
    "import plotly.express as px\n",
    "from plotly.subplots import make_subplots\n",
    "import plotly.io as pio\n",
    "import pandas as pd\n",
    "import numpy as np\n",
    "\n",
    "import seaborn as sns\n",
    "import seaborn.objects as so\n",
    "# Apply the default theme\n",
    "sns.set_theme()\n",
    "sns.set_style(\"whitegrid\")\n",
    "import matplotlib.pyplot as plt\n",
    "\n",
    "from IPython.display import display, Latex\n",
    "\n",
    "\n",
    "import sys\n",
    "sys.path.insert(0, \"../scripts\")\n",
    "import ml_window as m \n",
    "import helpers as h\n",
    "\n",
    "import json \n",
    "# import streamlit as st\n"
   ]
  },
  {
   "attachments": {},
   "cell_type": "markdown",
   "metadata": {},
   "source": [
    "### import data"
   ]
  },
  {
   "cell_type": "code",
   "execution_count": 113,
   "metadata": {},
   "outputs": [],
   "source": [
    "# macro f1 score...\n",
    "with open(\"../constants/svm_metrics_230704.json\") as f:\n",
    "    svm_data =json.load(f)\n",
    "\n",
    "with open(\"../constants/ewm_metrics_230704.json\") as f:\n",
    "    ewm_data =json.load(f)"
   ]
  },
  {
   "attachments": {},
   "cell_type": "markdown",
   "metadata": {},
   "source": [
    "### transform times to hours in data sets"
   ]
  },
  {
   "cell_type": "code",
   "execution_count": 114,
   "metadata": {},
   "outputs": [],
   "source": [
    "# need to go through all the data and turn false and true open time and turn into hours\n",
    "\n",
    "def get_nice_time(td_string):\n",
    "    return pd.to_timedelta(td_string)/ np.timedelta64(1, 'h')\n",
    "\n",
    "for exp in svm_data.values():\n",
    "    for model in exp.values():\n",
    "        model[\"metrics\"][\"drdr\"][\"true open time\"] = get_nice_time(model[\"metrics\"][\"drdr\"][\"true open time\"])\n",
    "        model[\"metrics\"][\"drdr\"][\"false open time\"] = get_nice_time(model[\"metrics\"][\"drdr\"][\"false open time\"])\n",
    "\n",
    "for exp in ewm_data.values():\n",
    "    for model in exp.values():\n",
    "        model[\"drdr\"][\"true open time\"] = get_nice_time(model[\"drdr\"][\"true open time\"])\n",
    "        model[\"drdr\"][\"false open time\"] = get_nice_time(model[\"drdr\"][\"false open time\"])\n"
   ]
  },
  {
   "attachments": {},
   "cell_type": "markdown",
   "metadata": {},
   "source": [
    "### assemble data from svm and ewm datasets and sort "
   ]
  },
  {
   "cell_type": "code",
   "execution_count": 115,
   "metadata": {},
   "outputs": [],
   "source": [
    "def safeget(dct, keys_arr):\n",
    "    assert type(keys_arr) == list\n",
    "    keys = keys_arr\n",
    "    for key in keys:\n",
    "        try:\n",
    "            dct = dct[key]\n",
    "        except KeyError:\n",
    "            return False\n",
    "    return dct"
   ]
  },
  {
   "cell_type": "code",
   "execution_count": 116,
   "metadata": {},
   "outputs": [],
   "source": [
    "sort_key_dict = {\n",
    "        \"f1\": [\"standard\", \"macro avg\", \"f1-score\"],\n",
    "        \"hits_guesses_ratio\": [\"custom\", \"(hits + near hits)/guesses\",], #hits and near hits/guesses\n",
    "        \"guesses_actions_ratio\": [\"custom\", \"guesses/actions\",], #guesses/actions,\n",
    "        \"opening_acc\": [\"drdr\", \"bounded acc\"] ,#opening accuracy\n",
    "        \"unbounded_opening_acc\": [\"drdr\", \"unbounded acc\"], \n",
    "        \"true_time\": [\"drdr\", \"true open time\"],\n",
    "        \"false_time\": [\"drdr\", \"false open time\"] \n",
    "    } \n",
    "\n",
    "def sort_and_return_quick_result(all_results, data_type=\"svm\", sort_key=\"f1\", key_dict=sort_key_dict):   \n",
    "\n",
    "    key_arr = key_dict[sort_key]\n",
    "\n",
    "    # TODO consider this \n",
    "    # reverse_direction = False if sort_key == \"false_time\" or sort_key == \"guesses_actions_ratio\" else True\n",
    "\n",
    "    reverse_direction = False if sort_key == \"false_time\" else True\n",
    "\n",
    "    # svm \n",
    "    if data_type==\"svm\":\n",
    "        sorted_results = sorted(all_results.items(), key=lambda x:safeget(x[1][\"metrics\"], key_arr), reverse=reverse_direction)\n",
    "        quick_res = [\n",
    "            {\n",
    "            \"name\": v[\"name\"],\n",
    "            \"val\": safeget(v[\"metrics\"], key_arr)\n",
    "            }\n",
    "            for k,v in sorted_results]\n",
    "    # ewm \n",
    "    else:\n",
    "        sorted_results = sorted(all_results.items(), key=lambda x:safeget(x[1], key_arr), reverse=reverse_direction)\n",
    "        quick_res = [\n",
    "        {\n",
    "            \"name\": k,\n",
    "            \"val\":  safeget(v, key_arr),\n",
    "        }\n",
    "        for k,v in sorted_results]\n",
    "    return quick_res, sorted_results "
   ]
  },
  {
   "cell_type": "code",
   "execution_count": 117,
   "metadata": {},
   "outputs": [],
   "source": [
    "# quick, slow = sort_and_return_quick_result(svm_data[\"exp_A\"], \"svm\", \"f1\")\n",
    "# quick[0:3]\n",
    "\n",
    "# quick, slow = sort_and_return_quick_result(ewm_data[\"exp_A\"], \"ewm\")\n",
    "# quick"
   ]
  },
  {
   "cell_type": "code",
   "execution_count": 118,
   "metadata": {},
   "outputs": [],
   "source": [
    "dif_sort_dfs = {}\n",
    "\n",
    "for sort_key in sort_key_dict.keys():\n",
    "    exps = list(ewm_data.keys())\n",
    "\n",
    "    data_pts = {}\n",
    "    for exp in exps:\n",
    "        data_pts[exp] = []\n",
    "        for data_type, data in zip([\"ewm\", \"svm\"], [ewm_data, svm_data]):\n",
    "            quick, slow = sort_and_return_quick_result(data[exp], data_type, sort_key)\n",
    "            if data_type == \"ewm\":\n",
    "                res = list(filter(lambda x: True if x[\"name\"] == \"z=1\" else False, quick))\n",
    "                data_pts[exp].append(res[0])\n",
    "                data_pts[exp][0][\"chart_name\"] = \"EWM\"\n",
    "            else:\n",
    "                data_pts[exp].extend(quick)\n",
    "                for i in range(3):\n",
    "                    data_pts[exp][i+1][\"chart_name\"] = f\"SVM_{i+1}\"\n",
    "\n",
    "    for k,v in data_pts.items():\n",
    "        for small_dict in v:\n",
    "            small_dict[\"exp\"] = k\n",
    "\n",
    "    data_list = sum(data_pts.values(), [])\n",
    "\n",
    "    df = pd.DataFrame(data_list)\n",
    "\n",
    "    dif_sort_dfs[sort_key] = df\n"
   ]
  },
  {
   "cell_type": "code",
   "execution_count": 119,
   "metadata": {},
   "outputs": [
    {
     "data": {
      "text/html": [
       "<div>\n",
       "<style scoped>\n",
       "    .dataframe tbody tr th:only-of-type {\n",
       "        vertical-align: middle;\n",
       "    }\n",
       "\n",
       "    .dataframe tbody tr th {\n",
       "        vertical-align: top;\n",
       "    }\n",
       "\n",
       "    .dataframe thead th {\n",
       "        text-align: right;\n",
       "    }\n",
       "</style>\n",
       "<table border=\"1\" class=\"dataframe\">\n",
       "  <thead>\n",
       "    <tr style=\"text-align: right;\">\n",
       "      <th></th>\n",
       "      <th>name</th>\n",
       "      <th>val</th>\n",
       "      <th>chart_name</th>\n",
       "      <th>exp</th>\n",
       "    </tr>\n",
       "  </thead>\n",
       "  <tbody>\n",
       "    <tr>\n",
       "      <th>0</th>\n",
       "      <td>z=1</td>\n",
       "      <td>0.724242</td>\n",
       "      <td>EWM</td>\n",
       "      <td>exp_A</td>\n",
       "    </tr>\n",
       "    <tr>\n",
       "      <th>1</th>\n",
       "      <td>[dt_meas_temp, dt_meas_rh]</td>\n",
       "      <td>0.709422</td>\n",
       "      <td>SVM_1</td>\n",
       "      <td>exp_A</td>\n",
       "    </tr>\n",
       "    <tr>\n",
       "      <th>2</th>\n",
       "      <td>[meas_temp, meas_rh, dt_meas_temp, dt_amb_rh]</td>\n",
       "      <td>0.698951</td>\n",
       "      <td>SVM_2</td>\n",
       "      <td>exp_A</td>\n",
       "    </tr>\n",
       "    <tr>\n",
       "      <th>3</th>\n",
       "      <td>[meas_temp, meas_rh, dt_meas_temp, dt_amb_temp]</td>\n",
       "      <td>0.693715</td>\n",
       "      <td>SVM_3</td>\n",
       "      <td>exp_A</td>\n",
       "    </tr>\n",
       "    <tr>\n",
       "      <th>4</th>\n",
       "      <td>[meas_temp, dt_meas_temp, dt_meas_rh, dt_amb_rh]</td>\n",
       "      <td>0.686005</td>\n",
       "      <td>NaN</td>\n",
       "      <td>exp_A</td>\n",
       "    </tr>\n",
       "    <tr>\n",
       "      <th>...</th>\n",
       "      <td>...</td>\n",
       "      <td>...</td>\n",
       "      <td>...</td>\n",
       "      <td>...</td>\n",
       "    </tr>\n",
       "    <tr>\n",
       "      <th>337</th>\n",
       "      <td>[meas_temp, amb_temp]</td>\n",
       "      <td>0.459252</td>\n",
       "      <td>NaN</td>\n",
       "      <td>exp_C</td>\n",
       "    </tr>\n",
       "    <tr>\n",
       "      <th>338</th>\n",
       "      <td>[amb_minus_meas_temp, meas_minus_deriv_rh]</td>\n",
       "      <td>0.444231</td>\n",
       "      <td>NaN</td>\n",
       "      <td>exp_C</td>\n",
       "    </tr>\n",
       "    <tr>\n",
       "      <th>339</th>\n",
       "      <td>[meas_temp]</td>\n",
       "      <td>0.430241</td>\n",
       "      <td>NaN</td>\n",
       "      <td>exp_C</td>\n",
       "    </tr>\n",
       "    <tr>\n",
       "      <th>340</th>\n",
       "      <td>[amb_minus_meas_rh, meas_minus_deriv_temp]</td>\n",
       "      <td>0.414189</td>\n",
       "      <td>NaN</td>\n",
       "      <td>exp_C</td>\n",
       "    </tr>\n",
       "    <tr>\n",
       "      <th>341</th>\n",
       "      <td>[dt_amb_temp, dt_amb_rh]</td>\n",
       "      <td>0.193616</td>\n",
       "      <td>NaN</td>\n",
       "      <td>exp_C</td>\n",
       "    </tr>\n",
       "  </tbody>\n",
       "</table>\n",
       "<p>342 rows × 4 columns</p>\n",
       "</div>"
      ],
      "text/plain": [
       "                                                 name       val chart_name  \\\n",
       "0                                                 z=1  0.724242        EWM   \n",
       "1                          [dt_meas_temp, dt_meas_rh]  0.709422      SVM_1   \n",
       "2       [meas_temp, meas_rh, dt_meas_temp, dt_amb_rh]  0.698951      SVM_2   \n",
       "3     [meas_temp, meas_rh, dt_meas_temp, dt_amb_temp]  0.693715      SVM_3   \n",
       "4    [meas_temp, dt_meas_temp, dt_meas_rh, dt_amb_rh]  0.686005        NaN   \n",
       "..                                                ...       ...        ...   \n",
       "337                             [meas_temp, amb_temp]  0.459252        NaN   \n",
       "338        [amb_minus_meas_temp, meas_minus_deriv_rh]  0.444231        NaN   \n",
       "339                                       [meas_temp]  0.430241        NaN   \n",
       "340        [amb_minus_meas_rh, meas_minus_deriv_temp]  0.414189        NaN   \n",
       "341                          [dt_amb_temp, dt_amb_rh]  0.193616        NaN   \n",
       "\n",
       "       exp  \n",
       "0    exp_A  \n",
       "1    exp_A  \n",
       "2    exp_A  \n",
       "3    exp_A  \n",
       "4    exp_A  \n",
       "..     ...  \n",
       "337  exp_C  \n",
       "338  exp_C  \n",
       "339  exp_C  \n",
       "340  exp_C  \n",
       "341  exp_C  \n",
       "\n",
       "[342 rows x 4 columns]"
      ]
     },
     "execution_count": 119,
     "metadata": {},
     "output_type": "execute_result"
    }
   ],
   "source": [
    "dif_sort_dfs[\"f1\"]"
   ]
  },
  {
   "cell_type": "code",
   "execution_count": 120,
   "metadata": {},
   "outputs": [],
   "source": [
    "# dif_sort_dfs[\"guesses_actions_ratio\"] = dif_sort_dfs[\"guesses_actions_ratio\"].loc[dif_sort_dfs[\"guesses_actions_ratio\"][\"val\"] <20]\n",
    "\n",
    "# dif_sort_dfs[\"guesses_actions_ratio\"]"
   ]
  },
  {
   "attachments": {},
   "cell_type": "markdown",
   "metadata": {},
   "source": [
    "### make nicer names for plotting "
   ]
  },
  {
   "cell_type": "code",
   "execution_count": 121,
   "metadata": {},
   "outputs": [],
   "source": [
    "latex_names = {\n",
    "    \"meas_temp\": \"$T_{meas}$\",\n",
    "    \"meas_rh\": \"$RH_{meas}$\",\n",
    "\n",
    "    \"amb_temp\":\"$T_{amb}$\",\n",
    "    \"amb_rh\": \"$RH_{amb}$\",\n",
    "\n",
    "    \"dt_meas_temp\": \"$\\\\frac{\\mathrm{d}}{\\mathrm{d}t}T_{meas}$\",\n",
    "    \"dt_meas_rh\": \"$\\\\frac{\\mathrm{d}}{\\mathrm{d}t}RH_{meas}$\",\n",
    "    \"dt_amb_temp\": \"$\\\\frac{\\mathrm{d}}{\\mathrm{d}t}T_{amb}$\",\n",
    "    \"dt_amb_rh\": \"$\\\\frac{\\mathrm{d}}{\\mathrm{d}t}RH_{amb}$\",\n",
    "\n",
    "    \"amb_minus_meas_temp\": \"$T_{amb} - T_{meas}$\",\n",
    "    \"amb_minus_meas_rh\": \"$RH_{amb} - RH_{meas}$\",\n",
    "    \"meas_minus_deriv_temp\": \"$T_{meas} - \\\\frac{\\mathrm{d}}{\\mathrm{d}t}T_{meas}$\",\n",
    "    \"meas_minus_deriv_rh\": \"$RH_{meas} - \\\\frac{\\mathrm{d}}{\\mathrm{d}t}RH_{meas}$\",\n",
    "}\n",
    "\n",
    "experiment_names = {\n",
    "    \"exp_A\": \"Exp A\",\n",
    "    \"exp_B\": \"Exp B\",\n",
    "    \"exp_C\": \"Exp C\",\n",
    "}"
   ]
  },
  {
   "cell_type": "code",
   "execution_count": 122,
   "metadata": {},
   "outputs": [],
   "source": [
    "def change_name(x):\n",
    "    if type(x) is list:\n",
    "        # print(x)\n",
    "        for ix, item in enumerate(x):\n",
    "            try:\n",
    "                x[ix] = latex_names[item] \n",
    "            except KeyError:\n",
    "                # print(f\"passed on {x}\")  \n",
    "                pass \n",
    "        return x \n",
    "    else: \n",
    "        # smoothing technique\n",
    "        return \"$\\\\text{ST}$\" \n",
    "\n",
    "def join_names(x):\n",
    "    if type(x) is not list:\n",
    "        # smoothing technique \n",
    "        return x\n",
    "    if len(x) < 2:\n",
    "            temp = x[0]\n",
    "    else:\n",
    "        temp = \"/\".join(x)\n",
    "        temp = temp.replace(\"$/$\", \", \")\n",
    "    temp = temp.replace(\"$\", \"$\\\\text{SVM: }\", 1)\n",
    "    \n",
    "    return temp"
   ]
  },
  {
   "cell_type": "code",
   "execution_count": 123,
   "metadata": {},
   "outputs": [
    {
     "name": "stdout",
     "output_type": "stream",
     "text": [
      "\n",
      " f1\n",
      "\n",
      " hits_guesses_ratio\n",
      "\n",
      " guesses_actions_ratio\n",
      "\n",
      " opening_acc\n",
      "\n",
      " unbounded_opening_acc\n",
      "\n",
      " true_time\n",
      "\n",
      " false_time\n"
     ]
    }
   ],
   "source": [
    "# change tick names and legend names for plotting \n",
    "for k, v in dif_sort_dfs.items():\n",
    "    print(f\"\\n {k}\")\n",
    "    v[\"name\"] = v[\"name\"].apply(change_name)\n",
    "    v[\"name\"] = v[\"name\"].apply(join_names)\n",
    "    v[\"exp\"] = v[\"exp\"].apply(lambda x: experiment_names[x])"
   ]
  },
  {
   "cell_type": "code",
   "execution_count": 129,
   "metadata": {},
   "outputs": [
    {
     "data": {
      "text/html": [
       "<div>\n",
       "<style scoped>\n",
       "    .dataframe tbody tr th:only-of-type {\n",
       "        vertical-align: middle;\n",
       "    }\n",
       "\n",
       "    .dataframe tbody tr th {\n",
       "        vertical-align: top;\n",
       "    }\n",
       "\n",
       "    .dataframe thead th {\n",
       "        text-align: right;\n",
       "    }\n",
       "</style>\n",
       "<table border=\"1\" class=\"dataframe\">\n",
       "  <thead>\n",
       "    <tr style=\"text-align: right;\">\n",
       "      <th></th>\n",
       "      <th>name</th>\n",
       "      <th>val</th>\n",
       "      <th>chart_name</th>\n",
       "      <th>exp</th>\n",
       "    </tr>\n",
       "  </thead>\n",
       "  <tbody>\n",
       "    <tr>\n",
       "      <th>1</th>\n",
       "      <td>$\\text{SVM: }\\frac{\\mathrm{d}}{\\mathrm{d}t}T_{...</td>\n",
       "      <td>0.709422</td>\n",
       "      <td>SVM_1</td>\n",
       "      <td>Exp A</td>\n",
       "    </tr>\n",
       "    <tr>\n",
       "      <th>2</th>\n",
       "      <td>$\\text{SVM: }T_{meas}, RH_{meas}, \\frac{\\mathr...</td>\n",
       "      <td>0.698951</td>\n",
       "      <td>SVM_2</td>\n",
       "      <td>Exp A</td>\n",
       "    </tr>\n",
       "    <tr>\n",
       "      <th>3</th>\n",
       "      <td>$\\text{SVM: }T_{meas}, RH_{meas}, \\frac{\\mathr...</td>\n",
       "      <td>0.693715</td>\n",
       "      <td>SVM_3</td>\n",
       "      <td>Exp A</td>\n",
       "    </tr>\n",
       "    <tr>\n",
       "      <th>4</th>\n",
       "      <td>$\\text{SVM: }T_{meas}, \\frac{\\mathrm{d}}{\\math...</td>\n",
       "      <td>0.686005</td>\n",
       "      <td>NaN</td>\n",
       "      <td>Exp A</td>\n",
       "    </tr>\n",
       "    <tr>\n",
       "      <th>5</th>\n",
       "      <td>$\\text{SVM: }T_{meas}, \\frac{\\mathrm{d}}{\\math...</td>\n",
       "      <td>0.686005</td>\n",
       "      <td>NaN</td>\n",
       "      <td>Exp A</td>\n",
       "    </tr>\n",
       "    <tr>\n",
       "      <th>...</th>\n",
       "      <td>...</td>\n",
       "      <td>...</td>\n",
       "      <td>...</td>\n",
       "      <td>...</td>\n",
       "    </tr>\n",
       "    <tr>\n",
       "      <th>337</th>\n",
       "      <td>$\\text{SVM: }T_{meas}, T_{amb}$</td>\n",
       "      <td>0.459252</td>\n",
       "      <td>NaN</td>\n",
       "      <td>Exp C</td>\n",
       "    </tr>\n",
       "    <tr>\n",
       "      <th>338</th>\n",
       "      <td>$\\text{SVM: }T_{amb} - T_{meas}, RH_{meas} - \\...</td>\n",
       "      <td>0.444231</td>\n",
       "      <td>NaN</td>\n",
       "      <td>Exp C</td>\n",
       "    </tr>\n",
       "    <tr>\n",
       "      <th>339</th>\n",
       "      <td>$\\text{SVM: }T_{meas}$</td>\n",
       "      <td>0.430241</td>\n",
       "      <td>NaN</td>\n",
       "      <td>Exp C</td>\n",
       "    </tr>\n",
       "    <tr>\n",
       "      <th>340</th>\n",
       "      <td>$\\text{SVM: }RH_{amb} - RH_{meas}, T_{meas} - ...</td>\n",
       "      <td>0.414189</td>\n",
       "      <td>NaN</td>\n",
       "      <td>Exp C</td>\n",
       "    </tr>\n",
       "    <tr>\n",
       "      <th>341</th>\n",
       "      <td>$\\text{SVM: }\\frac{\\mathrm{d}}{\\mathrm{d}t}T_{...</td>\n",
       "      <td>0.193616</td>\n",
       "      <td>NaN</td>\n",
       "      <td>Exp C</td>\n",
       "    </tr>\n",
       "  </tbody>\n",
       "</table>\n",
       "<p>339 rows × 4 columns</p>\n",
       "</div>"
      ],
      "text/plain": [
       "                                                  name       val chart_name  \\\n",
       "1    $\\text{SVM: }\\frac{\\mathrm{d}}{\\mathrm{d}t}T_{...  0.709422      SVM_1   \n",
       "2    $\\text{SVM: }T_{meas}, RH_{meas}, \\frac{\\mathr...  0.698951      SVM_2   \n",
       "3    $\\text{SVM: }T_{meas}, RH_{meas}, \\frac{\\mathr...  0.693715      SVM_3   \n",
       "4    $\\text{SVM: }T_{meas}, \\frac{\\mathrm{d}}{\\math...  0.686005        NaN   \n",
       "5    $\\text{SVM: }T_{meas}, \\frac{\\mathrm{d}}{\\math...  0.686005        NaN   \n",
       "..                                                 ...       ...        ...   \n",
       "337                    $\\text{SVM: }T_{meas}, T_{amb}$  0.459252        NaN   \n",
       "338  $\\text{SVM: }T_{amb} - T_{meas}, RH_{meas} - \\...  0.444231        NaN   \n",
       "339                             $\\text{SVM: }T_{meas}$  0.430241        NaN   \n",
       "340  $\\text{SVM: }RH_{amb} - RH_{meas}, T_{meas} - ...  0.414189        NaN   \n",
       "341  $\\text{SVM: }\\frac{\\mathrm{d}}{\\mathrm{d}t}T_{...  0.193616        NaN   \n",
       "\n",
       "       exp  \n",
       "1    Exp A  \n",
       "2    Exp A  \n",
       "3    Exp A  \n",
       "4    Exp A  \n",
       "5    Exp A  \n",
       "..     ...  \n",
       "337  Exp C  \n",
       "338  Exp C  \n",
       "339  Exp C  \n",
       "340  Exp C  \n",
       "341  Exp C  \n",
       "\n",
       "[339 rows x 4 columns]"
      ]
     },
     "execution_count": 129,
     "metadata": {},
     "output_type": "execute_result"
    }
   ],
   "source": [
    "df_svm = dif_sort_dfs[\"f1\"].loc[dif_sort_dfs[\"f1\"].name.str.contains(\"ST\") == False]\n",
    "df_svm"
   ]
  },
  {
   "cell_type": "code",
   "execution_count": 130,
   "metadata": {},
   "outputs": [
    {
     "data": {
      "text/html": [
       "<div>\n",
       "<style scoped>\n",
       "    .dataframe tbody tr th:only-of-type {\n",
       "        vertical-align: middle;\n",
       "    }\n",
       "\n",
       "    .dataframe tbody tr th {\n",
       "        vertical-align: top;\n",
       "    }\n",
       "\n",
       "    .dataframe thead th {\n",
       "        text-align: right;\n",
       "    }\n",
       "</style>\n",
       "<table border=\"1\" class=\"dataframe\">\n",
       "  <thead>\n",
       "    <tr style=\"text-align: right;\">\n",
       "      <th></th>\n",
       "      <th>name</th>\n",
       "      <th>val</th>\n",
       "      <th>chart_name</th>\n",
       "      <th>exp</th>\n",
       "    </tr>\n",
       "  </thead>\n",
       "  <tbody>\n",
       "    <tr>\n",
       "      <th>0</th>\n",
       "      <td>$\\text{ST}$</td>\n",
       "      <td>0.724242</td>\n",
       "      <td>EWM</td>\n",
       "      <td>Exp A</td>\n",
       "    </tr>\n",
       "    <tr>\n",
       "      <th>114</th>\n",
       "      <td>$\\text{ST}$</td>\n",
       "      <td>0.461721</td>\n",
       "      <td>EWM</td>\n",
       "      <td>Exp B</td>\n",
       "    </tr>\n",
       "    <tr>\n",
       "      <th>228</th>\n",
       "      <td>$\\text{ST}$</td>\n",
       "      <td>0.437793</td>\n",
       "      <td>EWM</td>\n",
       "      <td>Exp C</td>\n",
       "    </tr>\n",
       "  </tbody>\n",
       "</table>\n",
       "</div>"
      ],
      "text/plain": [
       "            name       val chart_name    exp\n",
       "0    $\\text{ST}$  0.724242        EWM  Exp A\n",
       "114  $\\text{ST}$  0.461721        EWM  Exp B\n",
       "228  $\\text{ST}$  0.437793        EWM  Exp C"
      ]
     },
     "execution_count": 130,
     "metadata": {},
     "output_type": "execute_result"
    }
   ],
   "source": [
    "df_st = dif_sort_dfs[\"f1\"].loc[dif_sort_dfs[\"f1\"].name.str.contains(\"ST\")]\n",
    "df_st"
   ]
  },
  {
   "cell_type": "code",
   "execution_count": 138,
   "metadata": {},
   "outputs": [
    {
     "data": {
      "text/plain": [
       "Text(0.5, 0, '')"
      ]
     },
     "execution_count": 138,
     "metadata": {},
     "output_type": "execute_result"
    },
    {
     "data": {
      "image/png": "[encoded data removed]",
      "text/plain": [
       "<Figure size 350x200 with 2 Axes>"
      ]
     },
     "metadata": {},
     "output_type": "display_data"
    }
   ],
   "source": [
    "fig, axs = plt.subplots(1, 2,figsize=(3.5, 2), sharey=True, )\n",
    "sns.stripplot(data=df_st, y=\"val\",  hue=\"exp\", legend=True, ax=axs[0])\n",
    "sns.kdeplot(data=df_svm,  y=\"val\", hue=\"exp\",  fill=True, ax=axs[1], legend=False)\n",
    "\n",
    "axs[0].set_title(\"ST\")\n",
    "axs[1].set_title(\"SVM\")\n",
    "\n",
    "axs[0].set_ylabel(\"Metric Value\")\n",
    "axs[0].legend(title=\"\")\n",
    "\n",
    "axs[1].set_xticks([])\n",
    "axs[1].set_xlabel(\"\")\n"
   ]
  },
  {
   "cell_type": "code",
   "execution_count": 127,
   "metadata": {},
   "outputs": [
    {
     "data": {
      "text/plain": [
       "{'f1': 'Macro Average F1 Score',\n",
       " 'hits_guesses_ratio': 'Hits/Guesses',\n",
       " 'guesses_actions_ratio': 'Guesses/Actions',\n",
       " 'opening_acc': 'Opening Accuracy',\n",
       " 'unbounded_opening_acc': 'Unbounded Opening Accuracy',\n",
       " 'true_time': 'True Opening Time (Hours)',\n",
       " 'false_time': 'False Opening Time (Hours)'}"
      ]
     },
     "execution_count": 127,
     "metadata": {},
     "output_type": "execute_result"
    }
   ],
   "source": [
    "proper_chart_titles_list = [\"Macro Average F1 Score\",\n",
    "                    \"Hits/Guesses\",\n",
    "                    \"Guesses/Actions\",\n",
    "                    \"Opening Accuracy\",\n",
    "                    \"Unbounded Opening Accuracy\",\n",
    "                    \"True Opening Time (Hours)\",\n",
    "                    \"False Opening Time (Hours)\"]\n",
    "proper_chart_titles = {k:v for k,v in zip(sort_key_dict.keys(), proper_chart_titles_list)}\n",
    "proper_chart_titles"
   ]
  },
  {
   "cell_type": "code",
   "execution_count": 141,
   "metadata": {},
   "outputs": [
    {
     "name": "stdout",
     "output_type": "stream",
     "text": [
      "hi\n",
      "hi\n"
     ]
    },
    {
     "data": {
      "image/png": "[encoded data removed]",
      "text/plain": [
       "<Figure size 340x200 with 2 Axes>"
      ]
     },
     "metadata": {},
     "output_type": "display_data"
    },
    {
     "data": {
      "image/png": "[encoded data removed]",
      "text/plain": [
       "<Figure size 340x200 with 2 Axes>"
      ]
     },
     "metadata": {},
     "output_type": "display_data"
    },
    {
     "data": {
      "image/png": "[encoded data removed]",
      "text/plain": [
       "<Figure size 340x200 with 2 Axes>"
      ]
     },
     "metadata": {},
     "output_type": "display_data"
    },
    {
     "data": {
      "image/png": "[encoded data removed]",
      "text/plain": [
       "<Figure size 340x200 with 2 Axes>"
      ]
     },
     "metadata": {},
     "output_type": "display_data"
    },
    {
     "data": {
      "image/png": "[encoded data removed]",
      "text/plain": [
       "<Figure size 340x200 with 2 Axes>"
      ]
     },
     "metadata": {},
     "output_type": "display_data"
    },
    {
     "data": {
      "image/png": "[encoded data removed]",
      "text/plain": [
       "<Figure size 340x200 with 2 Axes>"
      ]
     },
     "metadata": {},
     "output_type": "display_data"
    },
    {
     "data": {
      "image/png": "[encoded data removed]",
      "text/plain": [
       "<Figure size 340x200 with 2 Axes>"
      ]
     },
     "metadata": {},
     "output_type": "display_data"
    }
   ],
   "source": [
    "for ix, (k, v) in enumerate(dif_sort_dfs.items()):\n",
    "\n",
    "    df_st = v.loc[v.name.str.contains(\"ST\")]\n",
    "    df_svm = v.loc[v.name.str.contains(\"ST\") == False]\n",
    "\n",
    "\n",
    "    fig, axs = plt.subplots(1, 2,figsize=(3.4, 2), sharey=True)\n",
    "    sns.stripplot(data=df_st, y=\"val\",  hue=\"exp\", legend=True, ax=axs[0], jitter=False)\n",
    "    sns.kdeplot(data=df_svm,  y=\"val\", hue=\"exp\",  fill=True, ax=axs[1], legend=False)\n",
    "\n",
    "    axs[0].set_title(\"ST\")\n",
    "    axs[1].set_title(\"SVM\")\n",
    "\n",
    "    axs[0].set_ylabel(\"\")\n",
    "    axs[0].legend(title=\"\")\n",
    "\n",
    "    axs[1].set_xticks([])\n",
    "    axs[1].set_xlabel(\"\")\n",
    "\n",
    "    if k == \"guesses_actions_ratio\" or k == \"f1\":\n",
    "        print(\"hi\")\n",
    "        axs[0].set_ylabel(\"Metric Value\")\n",
    "\n",
    "    if k == \"guesses_actions_ratio\":\n",
    "        plt.yscale(\"log\")\n",
    "\n",
    "    if ix != 0:\n",
    "        axs[0].get_legend().remove()\n",
    "        \n",
    "\n",
    "    plt.savefig(f\"../../summary/230613_buildsys/figs/res_dist_{k}.png\", bbox_inches=\"tight\")\n"
   ]
  }
 ],
 "metadata": {
  "kernelspec": {
   "display_name": "localwindowsenv",
   "language": "python",
   "name": "python3"
  },
  "language_info": {
   "codemirror_mode": {
    "name": "ipython",
    "version": 3
   },
   "file_extension": ".py",
   "mimetype": "text/x-python",
   "name": "python",
   "nbconvert_exporter": "python",
   "pygments_lexer": "ipython3",
   "version": "3.9.15"
  },
  "orig_nbformat": 4
 },
 "nbformat": 4,
 "nbformat_minor": 2
}
