{
 "cells": [
  {
   "cell_type": "code",
   "execution_count": 1,
   "metadata": {},
   "outputs": [],
   "source": [
    "import sys\n",
    "sys.path.insert(0, \"../scripts\")\n",
    "import ml_window as m \n",
    "import helpers as h\n",
    "\n",
    "import json \n"
   ]
  },
  {
   "cell_type": "code",
   "execution_count": 2,
   "metadata": {},
   "outputs": [],
   "source": [
    "test_set_name=\"test_set_230703\"\n",
    "with open(f'../constants/{test_set_name}.json') as f:\n",
    "    test_set = json.load(f)[\"data\"]"
   ]
  },
  {
   "attachments": {},
   "cell_type": "markdown",
   "metadata": {},
   "source": [
    "## exp A"
   ]
  },
  {
   "cell_type": "code",
   "execution_count": 8,
   "metadata": {},
   "outputs": [
    {
     "name": "stdout",
     "output_type": "stream",
     "text": [
      "[{'name': ['dt_meas_temp',\n",
      "           'dt_meas_rh'],\n",
      "  'val': 0.709},\n",
      " {'name': ['meas_temp',\n",
      "           'meas_rh',\n",
      "           'dt_meas_temp',\n",
      "           'dt_amb_rh'],\n",
      "  'val': 0.699},\n",
      " {'name': ['meas_temp',\n",
      "           'meas_rh',\n",
      "           'dt_meas_temp',\n",
      "           'dt_amb_temp'],\n",
      "  'val': 0.694}]\n"
     ]
    }
   ],
   "source": [
    "a00, a01 = h.import_desired_data(\"A\", \"15T\")\n",
    "m1a = m.ML_Window_Detect_Many(a01, test_set)\n",
    "m1a.create_data_dict()\n",
    "_ =  m1a.fit_and_score_many()\n",
    "_ = m1a.sort_by_performance()\n",
    "h.def_pprint(m1a.quick_res[0:3])  "
   ]
  },
  {
   "attachments": {},
   "cell_type": "markdown",
   "metadata": {},
   "source": [
    "## exp B"
   ]
  },
  {
   "cell_type": "code",
   "execution_count": 9,
   "metadata": {},
   "outputs": [
    {
     "name": "stdout",
     "output_type": "stream",
     "text": [
      "[{'name': ['amb_rh'],\n",
      "  'val': 0.445},\n",
      " {'name': ['amb_temp'],\n",
      "  'val': 0.424},\n",
      " {'name': ['amb_temp',\n",
      "           'dt_meas_temp',\n",
      "           'dt_amb_temp',\n",
      "           'dt_amb_rh'],\n",
      "  'val': 0.419}]\n"
     ]
    }
   ],
   "source": [
    "b00, b01 = h.import_desired_data(\"B\", \"15T\")\n",
    "m1b = m.ML_Window_Detect_Many(b00, test_set)\n",
    "m1b.create_data_dict()\n",
    "_ =  m1b.fit_and_score_many()\n",
    "_ = m1b.sort_by_performance()\n",
    "h.def_pprint(m1b.quick_res[0:3])  "
   ]
  },
  {
   "attachments": {},
   "cell_type": "markdown",
   "metadata": {},
   "source": [
    "## exp C"
   ]
  },
  {
   "cell_type": "code",
   "execution_count": 10,
   "metadata": {},
   "outputs": [
    {
     "name": "stdout",
     "output_type": "stream",
     "text": [
      "[{'name': ['amb_temp',\n",
      "           'amb_rh'],\n",
      "  'val': 0.626},\n",
      " {'name': ['amb_temp'],\n",
      "  'val': 0.61},\n",
      " {'name': ['meas_rh',\n",
      "           'amb_temp',\n",
      "           'amb_rh'],\n",
      "  'val': 0.609}]\n"
     ]
    }
   ],
   "source": [
    "c00, c01 = h.import_desired_data(\"C\", \"15T\")\n",
    "m1c = m.ML_Window_Detect_Many(c00, test_set)\n",
    "m1c.create_data_dict()\n",
    "_ =  m1c.fit_and_score_many()\n",
    "_ = m1c.sort_by_performance()\n",
    "h.def_pprint(m1c.quick_res[0:3])  "
   ]
  },
  {
   "cell_type": "code",
   "execution_count": 11,
   "metadata": {},
   "outputs": [
    {
     "name": "stdout",
     "output_type": "stream",
     "text": [
      "[(42,\n",
      "  {'name': ['dt_meas_temp',\n",
      "            'dt_meas_rh'],\n",
      "   'metrics': {'standard': {'macro avg f1-score': 0.709},\n",
      "               'drdr': {'unbounded acc': -10.25,\n",
      "                        'bounded acc': 0.00091},\n",
      "               'custom': {'(hits + near hits)/guesses': 0.446,\n",
      "                          'guesses/actions': 4.308}}}),\n",
      " (106,\n",
      "  {'name': ['meas_temp',\n",
      "            'meas_rh',\n",
      "            'dt_meas_temp',\n",
      "            'dt_amb_rh'],\n",
      "   'metrics': {'standard': {'macro avg f1-score': 0.699},\n",
      "               'drdr': {'unbounded acc': -11.33,\n",
      "                        'bounded acc': 0.0},\n",
      "               'custom': {'(hits + near hits)/guesses': 0.622,\n",
      "                          'guesses/actions': 3.462}}}),\n",
      " (30,\n",
      "  {'name': ['meas_temp',\n",
      "            'meas_rh',\n",
      "            'dt_meas_temp',\n",
      "            'dt_amb_temp'],\n",
      "   'metrics': {'standard': {'macro avg f1-score': 0.694},\n",
      "               'drdr': {'unbounded acc': -13.54,\n",
      "                        'bounded acc': 0.0},\n",
      "               'custom': {'(hits + near hits)/guesses': 0.509,\n",
      "                          'guesses/actions': 4.385}}})]\n"
     ]
    }
   ],
   "source": [
    "h.def_pprint(m1a.sorted_results[0:3])  "
   ]
  },
  {
   "cell_type": "code",
   "execution_count": 12,
   "metadata": {},
   "outputs": [
    {
     "name": "stdout",
     "output_type": "stream",
     "text": [
      "[(99,\n",
      "  {'name': ['amb_rh'],\n",
      "   'metrics': {'standard': {'macro avg f1-score': 0.445},\n",
      "               'drdr': {'unbounded acc': -188.94,\n",
      "                        'bounded acc': 0.02},\n",
      "               'custom': {'(hits + near hits)/guesses': 0.529,\n",
      "                          'guesses/actions': 12.75}}}),\n",
      " (66,\n",
      "  {'name': ['amb_temp'],\n",
      "   'metrics': {'standard': {'macro avg f1-score': 0.424},\n",
      "               'drdr': {'unbounded acc': -186.86,\n",
      "                        'bounded acc': 0.02041},\n",
      "               'custom': {'(hits + near hits)/guesses': 0.51,\n",
      "                          'guesses/actions': 12.25}}}),\n",
      " (65,\n",
      "  {'name': ['amb_temp',\n",
      "            'dt_meas_temp',\n",
      "            'dt_amb_temp',\n",
      "            'dt_amb_rh'],\n",
      "   'metrics': {'standard': {'macro avg f1-score': 0.419},\n",
      "               'drdr': {'unbounded acc': -195.77,\n",
      "                        'bounded acc': 0.00602},\n",
      "               'custom': {'(hits + near hits)/guesses': 0.462,\n",
      "                          'guesses/actions': 42.75}}})]\n"
     ]
    }
   ],
   "source": [
    "h.def_pprint(m1b.sorted_results[0:3])  "
   ]
  },
  {
   "cell_type": "code",
   "execution_count": 14,
   "metadata": {},
   "outputs": [
    {
     "name": "stdout",
     "output_type": "stream",
     "text": [
      "[(55,\n",
      "  {'name': ['amb_temp',\n",
      "            'amb_rh'],\n",
      "   'metrics': {'standard': {'macro avg f1-score': 0.626},\n",
      "               'drdr': {'unbounded acc': -22.52,\n",
      "                        'bounded acc': 0.09714},\n",
      "               'custom': {'(hits + near hits)/guesses': 0.4,\n",
      "                          'guesses/actions': 1.875}}}),\n",
      " (66,\n",
      "  {'name': ['amb_temp'],\n",
      "   'metrics': {'standard': {'macro avg f1-score': 0.61},\n",
      "               'drdr': {'unbounded acc': -22.56,\n",
      "                        'bounded acc': 0.1},\n",
      "               'custom': {'(hits + near hits)/guesses': 0.286,\n",
      "                          'guesses/actions': 2.625}}}),\n",
      " (14,\n",
      "  {'name': ['meas_rh',\n",
      "            'amb_temp',\n",
      "            'amb_rh'],\n",
      "   'metrics': {'standard': {'macro avg f1-score': 0.609},\n",
      "               'drdr': {'unbounded acc': -32.7,\n",
      "                        'bounded acc': 0.0},\n",
      "               'custom': {'(hits + near hits)/guesses': 0.371,\n",
      "                          'guesses/actions': 4.375}}})]\n"
     ]
    }
   ],
   "source": [
    "h.def_pprint(m1c.sorted_results[0:3])  "
   ]
  }
 ],
 "metadata": {
  "kernelspec": {
   "display_name": "localwindowsenv",
   "language": "python",
   "name": "python3"
  },
  "language_info": {
   "codemirror_mode": {
    "name": "ipython",
    "version": 3
   },
   "file_extension": ".py",
   "mimetype": "text/x-python",
   "name": "python",
   "nbconvert_exporter": "python",
   "pygments_lexer": "ipython3",
   "version": "3.9.15"
  },
  "orig_nbformat": 4
 },
 "nbformat": 4,
 "nbformat_minor": 2
}
