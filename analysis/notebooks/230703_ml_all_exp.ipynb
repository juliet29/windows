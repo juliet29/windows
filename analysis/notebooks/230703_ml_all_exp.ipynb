{
 "cells": [
  {
   "cell_type": "code",
   "execution_count": 1,
   "metadata": {},
   "outputs": [],
   "source": [
    "import sys\n",
    "sys.path.insert(0, \"../scripts\")\n",
    "import ml_window as m \n",
    "import helpers as h\n",
    "\n",
    "import json \n"
   ]
  },
  {
   "cell_type": "code",
   "execution_count": 2,
   "metadata": {},
   "outputs": [],
   "source": [
    "test_set_name=\"test_set_230703\"\n",
    "with open(f'../constants/{test_set_name}.json') as f:\n",
    "    test_set = json.load(f)[\"data\"]"
   ]
  },
  {
   "attachments": {},
   "cell_type": "markdown",
   "metadata": {},
   "source": [
    "## exp A"
   ]
  },
  {
   "cell_type": "code",
   "execution_count": 3,
   "metadata": {},
   "outputs": [
    {
     "name": "stdout",
     "output_type": "stream",
     "text": [
      "[{'name': ['dt_meas_temp',\n",
      "           'dt_meas_rh'],\n",
      "  'val': 0.709},\n",
      " {'name': ['meas_temp',\n",
      "           'meas_rh',\n",
      "           'dt_meas_temp',\n",
      "           'dt_amb_rh'],\n",
      "  'val': 0.699},\n",
      " {'name': ['meas_temp',\n",
      "           'meas_rh',\n",
      "           'dt_meas_temp',\n",
      "           'dt_amb_temp'],\n",
      "  'val': 0.694}]\n"
     ]
    }
   ],
   "source": [
    "a00, a01 = h.import_desired_data(\"A\", \"15T\")\n",
    "m1a = m.ML_Window_Detect_Many(a01, test_set)\n",
    "m1a.create_data_dict()\n",
    "_ =  m1a.fit_and_score_many()\n",
    "_ = m1a.sort_by_performance()\n",
    "h.def_pprint(m1a.quick_res[0:3])  "
   ]
  },
  {
   "attachments": {},
   "cell_type": "markdown",
   "metadata": {},
   "source": [
    "## exp B"
   ]
  },
  {
   "cell_type": "code",
   "execution_count": 4,
   "metadata": {},
   "outputs": [
    {
     "name": "stdout",
     "output_type": "stream",
     "text": [
      "[{'name': ['amb_rh'],\n",
      "  'val': 0.445},\n",
      " {'name': ['amb_temp'],\n",
      "  'val': 0.424},\n",
      " {'name': ['amb_temp',\n",
      "           'dt_meas_temp',\n",
      "           'dt_amb_temp',\n",
      "           'dt_amb_rh'],\n",
      "  'val': 0.419}]\n"
     ]
    }
   ],
   "source": [
    "b00, b01 = h.import_desired_data(\"B\", \"15T\")\n",
    "m1b = m.ML_Window_Detect_Many(b00, test_set)\n",
    "m1b.create_data_dict()\n",
    "_ =  m1b.fit_and_score_many()\n",
    "_ = m1b.sort_by_performance()\n",
    "h.def_pprint(m1b.quick_res[0:3])  "
   ]
  },
  {
   "attachments": {},
   "cell_type": "markdown",
   "metadata": {},
   "source": [
    "## exp C"
   ]
  },
  {
   "cell_type": "code",
   "execution_count": 5,
   "metadata": {},
   "outputs": [
    {
     "name": "stdout",
     "output_type": "stream",
     "text": [
      "[{'name': ['amb_temp',\n",
      "           'amb_rh'],\n",
      "  'val': 0.626},\n",
      " {'name': ['amb_temp'],\n",
      "  'val': 0.61},\n",
      " {'name': ['meas_rh',\n",
      "           'amb_temp',\n",
      "           'amb_rh'],\n",
      "  'val': 0.609}]\n"
     ]
    }
   ],
   "source": [
    "c00, c01 = h.import_desired_data(\"C\", \"15T\")\n",
    "m1c = m.ML_Window_Detect_Many(c00, test_set)\n",
    "m1c.create_data_dict()\n",
    "_ =  m1c.fit_and_score_many()\n",
    "_ = m1c.sort_by_performance()\n",
    "h.def_pprint(m1c.quick_res[0:3])  "
   ]
  },
  {
   "attachments": {},
   "cell_type": "markdown",
   "metadata": {},
   "source": [
    "### save data"
   ]
  },
  {
   "cell_type": "code",
   "execution_count": 14,
   "metadata": {},
   "outputs": [],
   "source": [
    "# svm_metrics = {\n",
    "\n",
    "# \"exp_A\": m1a.complete_results,\n",
    "# \"exp_B\": m1b.complete_results,\n",
    "# \"exp_C\": m1c.complete_results\n",
    "    \n",
    "# }\n",
    "\n",
    "# with open(\"../constants/svm_metrics_230704.json\", 'w') as convert_file:\n",
    "#      convert_file.write(json.dumps(svm_metrics, default=str))"
   ]
  },
  {
   "cell_type": "code",
   "execution_count": 7,
   "metadata": {},
   "outputs": [
    {
     "data": {
      "text/plain": [
       "5898003968"
      ]
     },
     "execution_count": 7,
     "metadata": {},
     "output_type": "execute_result"
    }
   ],
   "source": [
    "id(m1a.all_results)"
   ]
  },
  {
   "cell_type": "code",
   "execution_count": 8,
   "metadata": {},
   "outputs": [
    {
     "data": {
      "text/plain": [
       "{'name': ['amb_minus_meas_temp',\n",
       "  'meas_minus_deriv_temp',\n",
       "  'meas_minus_deriv_rh'],\n",
       " 'metrics': {'standard': {'0.0': {'precision': 0.4896907216494845,\n",
       "    'recall': 0.5974842767295597,\n",
       "    'f1-score': 0.5382436260623229,\n",
       "    'support': 159},\n",
       "   '1.0': {'precision': 0.6649214659685864,\n",
       "    'recall': 0.5619469026548672,\n",
       "    'f1-score': 0.6091127098321343,\n",
       "    'support': 226},\n",
       "   'accuracy': 0.5766233766233766,\n",
       "   'macro avg': {'precision': 0.5773060938090354,\n",
       "    'recall': 0.5797155896922135,\n",
       "    'f1-score': 0.5736781679472286,\n",
       "    'support': 385},\n",
       "   'weighted avg': {'precision': 0.5925534442887495,\n",
       "    'recall': 0.5766233766233766,\n",
       "    'f1-score': 0.5798446986129135,\n",
       "    'support': 385}},\n",
       "  'drdr': {'# true open instance': 9,\n",
       "   '# false open instance': 9,\n",
       "   'true open time': Timedelta('2 days 07:30:00'),\n",
       "   'false open time': Timedelta('1 days 16:45:00'),\n",
       "   'bounded acc': 0.1,\n",
       "   'unbounded acc': -10.88},\n",
       "  'custom': {'hits/guesses': 0.108,\n",
       "   'hits/actions': 0.308,\n",
       "   '(hits + near hits)/guesses': 0.595,\n",
       "   '(hits + near hits)/actions': 1.692,\n",
       "   'misses/guesses': 0.405,\n",
       "   'guesses/actions': 2.846,\n",
       "   'actions': 13,\n",
       "   'guesses': 37,\n",
       "   'hits': 4,\n",
       "   'near_hits': 18,\n",
       "   'miss': 15}}}"
      ]
     },
     "execution_count": 8,
     "metadata": {},
     "output_type": "execute_result"
    }
   ],
   "source": [
    "m1a.complete_results[0]"
   ]
  },
  {
   "cell_type": "code",
   "execution_count": 9,
   "metadata": {},
   "outputs": [
    {
     "data": {
      "text/plain": [
       "{'name': ['amb_minus_meas_temp',\n",
       "  'meas_minus_deriv_temp',\n",
       "  'meas_minus_deriv_rh'],\n",
       " 'metrics': {'standard': {'macro avg f1-score': 0.574},\n",
       "  'drdr': {'unbounded acc': -10.88, 'bounded acc': 0.1},\n",
       "  'custom': {'(hits + near hits)/guesses': 0.595, 'guesses/actions': 2.846}}}"
      ]
     },
     "execution_count": 9,
     "metadata": {},
     "output_type": "execute_result"
    }
   ],
   "source": [
    "m1a.all_results[0]\n"
   ]
  },
  {
   "cell_type": "code",
   "execution_count": 10,
   "metadata": {},
   "outputs": [
    {
     "data": {
      "text/plain": [
       "5897960576"
      ]
     },
     "execution_count": 10,
     "metadata": {},
     "output_type": "execute_result"
    }
   ],
   "source": [
    "id(m1a.complete_results)"
   ]
  },
  {
   "attachments": {},
   "cell_type": "markdown",
   "metadata": {},
   "source": [
    "## looking at more results.."
   ]
  },
  {
   "cell_type": "code",
   "execution_count": 11,
   "metadata": {},
   "outputs": [
    {
     "name": "stdout",
     "output_type": "stream",
     "text": [
      "[(42,\n",
      "  {'name': ['dt_meas_temp',\n",
      "            'dt_meas_rh'],\n",
      "   'metrics': {'standard': {'macro avg f1-score': 0.709},\n",
      "               'drdr': {'unbounded acc': -10.25,\n",
      "                        'bounded acc': 0.00091},\n",
      "               'custom': {'(hits + near hits)/guesses': 0.446,\n",
      "                          'guesses/actions': 4.308}}}),\n",
      " (106,\n",
      "  {'name': ['meas_temp',\n",
      "            'meas_rh',\n",
      "            'dt_meas_temp',\n",
      "            'dt_amb_rh'],\n",
      "   'metrics': {'standard': {'macro avg f1-score': 0.699},\n",
      "               'drdr': {'unbounded acc': -11.33,\n",
      "                        'bounded acc': 0.0},\n",
      "               'custom': {'(hits + near hits)/guesses': 0.622,\n",
      "                          'guesses/actions': 3.462}}}),\n",
      " (30,\n",
      "  {'name': ['meas_temp',\n",
      "            'meas_rh',\n",
      "            'dt_meas_temp',\n",
      "            'dt_amb_temp'],\n",
      "   'metrics': {'standard': {'macro avg f1-score': 0.694},\n",
      "               'drdr': {'unbounded acc': -13.54,\n",
      "                        'bounded acc': 0.0},\n",
      "               'custom': {'(hits + near hits)/guesses': 0.509,\n",
      "                          'guesses/actions': 4.385}}})]\n"
     ]
    }
   ],
   "source": [
    "h.def_pprint(m1a.sorted_results[0:3])  "
   ]
  },
  {
   "cell_type": "code",
   "execution_count": 12,
   "metadata": {},
   "outputs": [
    {
     "name": "stdout",
     "output_type": "stream",
     "text": [
      "[(99,\n",
      "  {'name': ['amb_rh'],\n",
      "   'metrics': {'standard': {'macro avg f1-score': 0.445},\n",
      "               'drdr': {'unbounded acc': -188.94,\n",
      "                        'bounded acc': 0.02},\n",
      "               'custom': {'(hits + near hits)/guesses': 0.529,\n",
      "                          'guesses/actions': 12.75}}}),\n",
      " (66,\n",
      "  {'name': ['amb_temp'],\n",
      "   'metrics': {'standard': {'macro avg f1-score': 0.424},\n",
      "               'drdr': {'unbounded acc': -186.86,\n",
      "                        'bounded acc': 0.02041},\n",
      "               'custom': {'(hits + near hits)/guesses': 0.51,\n",
      "                          'guesses/actions': 12.25}}}),\n",
      " (65,\n",
      "  {'name': ['amb_temp',\n",
      "            'dt_meas_temp',\n",
      "            'dt_amb_temp',\n",
      "            'dt_amb_rh'],\n",
      "   'metrics': {'standard': {'macro avg f1-score': 0.419},\n",
      "               'drdr': {'unbounded acc': -195.77,\n",
      "                        'bounded acc': 0.00602},\n",
      "               'custom': {'(hits + near hits)/guesses': 0.462,\n",
      "                          'guesses/actions': 42.75}}})]\n"
     ]
    }
   ],
   "source": [
    "h.def_pprint(m1b.sorted_results[0:3])  "
   ]
  },
  {
   "cell_type": "code",
   "execution_count": 13,
   "metadata": {},
   "outputs": [
    {
     "name": "stdout",
     "output_type": "stream",
     "text": [
      "[(55,\n",
      "  {'name': ['amb_temp',\n",
      "            'amb_rh'],\n",
      "   'metrics': {'standard': {'macro avg f1-score': 0.626},\n",
      "               'drdr': {'unbounded acc': -22.52,\n",
      "                        'bounded acc': 0.09714},\n",
      "               'custom': {'(hits + near hits)/guesses': 0.4,\n",
      "                          'guesses/actions': 1.875}}}),\n",
      " (66,\n",
      "  {'name': ['amb_temp'],\n",
      "   'metrics': {'standard': {'macro avg f1-score': 0.61},\n",
      "               'drdr': {'unbounded acc': -22.56,\n",
      "                        'bounded acc': 0.1},\n",
      "               'custom': {'(hits + near hits)/guesses': 0.286,\n",
      "                          'guesses/actions': 2.625}}}),\n",
      " (14,\n",
      "  {'name': ['meas_rh',\n",
      "            'amb_temp',\n",
      "            'amb_rh'],\n",
      "   'metrics': {'standard': {'macro avg f1-score': 0.609},\n",
      "               'drdr': {'unbounded acc': -32.7,\n",
      "                        'bounded acc': 0.0},\n",
      "               'custom': {'(hits + near hits)/guesses': 0.371,\n",
      "                          'guesses/actions': 4.375}}})]\n"
     ]
    }
   ],
   "source": [
    "h.def_pprint(m1c.sorted_results[0:3])  "
   ]
  }
 ],
 "metadata": {
  "kernelspec": {
   "display_name": "localwindowsenv",
   "language": "python",
   "name": "python3"
  },
  "language_info": {
   "codemirror_mode": {
    "name": "ipython",
    "version": 3
   },
   "file_extension": ".py",
   "mimetype": "text/x-python",
   "name": "python",
   "nbconvert_exporter": "python",
   "pygments_lexer": "ipython3",
   "version": "3.9.15"
  },
  "orig_nbformat": 4
 },
 "nbformat": 4,
 "nbformat_minor": 2
}
