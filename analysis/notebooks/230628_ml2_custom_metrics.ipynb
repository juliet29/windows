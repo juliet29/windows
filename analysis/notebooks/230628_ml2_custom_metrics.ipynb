{
 "cells": [
  {
   "cell_type": "code",
   "execution_count": 1,
   "metadata": {},
   "outputs": [],
   "source": [
    "import pandas as pd\n",
    "import numpy as np\n",
    "\n",
    "import sys\n",
    "sys.path.insert(0, \"../scripts\")\n",
    "import helpers as h\n",
    "import window_detect2 as w\n",
    "import scores as s\n",
    "import ml_window as m\n",
    "from icecream import ic\n",
    "\n",
    "import pickle\n",
    "\n",
    "import plotly.graph_objects as go"
   ]
  },
  {
   "cell_type": "code",
   "execution_count": 2,
   "metadata": {},
   "outputs": [],
   "source": [
    "a00, a01 = h.import_desired_data(\"A\", \"15T\")\n",
    "window_sched = np.array(a01[\"Window Open\"])"
   ]
  },
  {
   "cell_type": "code",
   "execution_count": 3,
   "metadata": {},
   "outputs": [],
   "source": [
    "with open('../constants/data_combos_230638.pkl', 'rb') as handle:\n",
    "    test_dict = pickle.load(handle)"
   ]
  },
  {
   "cell_type": "code",
   "execution_count": 4,
   "metadata": {},
   "outputs": [],
   "source": [
    "for k, v in test_dict.items():\n",
    "    # print(k)\n",
    "    obj = m.ML_Window_Detect(v[\"data\"], window_sched)\n",
    "    obj.run_all()\n",
    "    test_dict[k][\"accuracy\"] = obj.accuracy\n",
    "    test_dict[k][\"choices\"] = obj.choices"
   ]
  },
  {
   "cell_type": "code",
   "execution_count": 5,
   "metadata": {},
   "outputs": [],
   "source": [
    "def get_guess_times(test_dict_item):\n",
    "    choice_list = pd.Series(test_dict_item[\"choices\"])\n",
    "    mask = choice_list.shift() != choice_list\n",
    "    guesses = choice_list[mask].index\n",
    "    guess_times = a01[\"DateTime\"][guesses]\n",
    "\n",
    "    return guess_times\n",
    "\n",
    "for k in test_dict.keys():\n",
    "    g = get_guess_times(test_dict[k])\n",
    "    s1 = s.Scores(exp=a01, choices=test_dict[k][\"choices\"], guess_times=g,)\n",
    "    \n",
    "    test_dict[k][\"custom_report\"] = s1.calc_hit_scores()\n",
    "\n",
    "# with open(\"../constants/combo_results_230638.pkl\", \"wb\") as fp:\n",
    "#     pickle.dump(test_dict, fp )"
   ]
  },
  {
   "cell_type": "code",
   "execution_count": 6,
   "metadata": {},
   "outputs": [
    {
     "name": "stdout",
     "output_type": "stream",
     "text": [
      "dt_meas 3.231\n",
      "dt_sim 1.462\n",
      "dt_amb 0.231\n",
      "dt_meas+dt_sim+dt_amb 3.308\n",
      "meas 1.846\n",
      "amb 1.538\n",
      "sim 1.538\n",
      "meas+amb+sim 1.231\n",
      "dt_meas+dt_sim 2.538\n",
      "dt_meas+dt_amb 3.308\n",
      "dt_meas+meas 1.769\n",
      "dt_meas+amb 2.846\n",
      "dt_meas+sim 2.385\n",
      "dt_sim+dt_amb 4.846\n",
      "dt_sim+meas 2.231\n",
      "dt_sim+amb 2.0\n",
      "dt_sim+sim 2.077\n",
      "dt_amb+meas 4.615\n",
      "dt_amb+amb 4.923\n",
      "dt_amb+sim 5.385\n",
      "meas+amb 1.692\n",
      "meas+sim 1.923\n",
      "amb+sim 1.308\n",
      "amb_minus_meas 3.462\n",
      "meas_minus_amb 3.462\n",
      "abs_amb_meas_diff 3.692\n"
     ]
    }
   ],
   "source": [
    "for k, v in test_dict.items():\n",
    "    print(k, v[\"custom_report\"].loc[\"(hits + near hits)/actions\"][0])"
   ]
  },
  {
   "cell_type": "code",
   "execution_count": 7,
   "metadata": {},
   "outputs": [
    {
     "ename": "AttributeError",
     "evalue": "'dict' object has no attribute 'to_list'",
     "output_type": "error",
     "traceback": [
      "\u001b[0;31m---------------------------------------------------------------------------\u001b[0m",
      "\u001b[0;31mAttributeError\u001b[0m                            Traceback (most recent call last)",
      "Cell \u001b[0;32mIn[7], line 1\u001b[0m\n\u001b[0;32m----> 1\u001b[0m df \u001b[39m=\u001b[39m pd\u001b[39m.\u001b[39mDataFrame(s1\u001b[39m.\u001b[39;49mscores\u001b[39m.\u001b[39;49mto_list(), columns\u001b[39m=\u001b[39m[\u001b[39m\"\u001b[39m\u001b[39mExact\u001b[39m\u001b[39m\"\u001b[39m, \u001b[39m\"\u001b[39m\u001b[39mNearest\u001b[39m\u001b[39m\"\u001b[39m, \u001b[39m\"\u001b[39m\u001b[39mDistance\u001b[39m\u001b[39m\"\u001b[39m])\n\u001b[1;32m      2\u001b[0m df\n",
      "\u001b[0;31mAttributeError\u001b[0m: 'dict' object has no attribute 'to_list'"
     ]
    }
   ],
   "source": [
    "df = pd.DataFrame(s1.scores.to_list(), columns=[\"Exact\", \"Nearest\", \"Distance\"])\n",
    "df"
   ]
  },
  {
   "cell_type": "code",
   "execution_count": null,
   "metadata": {},
   "outputs": [
    {
     "data": {
      "text/plain": [
       "Int64Index([  0,   4,   8,   9,  11,  13,  14,  15,  19,  20,  21,  31,  32,\n",
       "             35,  45,  52,  53,  55,  56,  75,  76,  89,  93, 103, 105, 106,\n",
       "            107, 109, 111, 119, 123, 125, 127, 135, 137, 139, 140, 145, 147,\n",
       "            148, 151, 153, 156, 159, 161, 171, 173, 179, 199, 200, 205, 211,\n",
       "            239, 242, 244, 247, 248, 250, 251, 258, 291, 292, 306, 315, 319,\n",
       "            323, 331, 334, 335, 339, 340, 344, 345, 347, 348, 351, 352, 360,\n",
       "            371, 379, 383],\n",
       "           dtype='int64')"
      ]
     },
     "execution_count": 30,
     "metadata": {},
     "output_type": "execute_result"
    }
   ],
   "source": [
    "s1.guess_times.index"
   ]
  },
  {
   "cell_type": "code",
   "execution_count": null,
   "metadata": {},
   "outputs": [
    {
     "data": {
      "text/plain": [
       "array([  0,   2,  21,  61, 120, 127, 137, 158, 194, 208, 227, 255, 338])"
      ]
     },
     "execution_count": 33,
     "metadata": {},
     "output_type": "execute_result"
    }
   ],
   "source": [
    "shift = s1.exp[\"Window Open\"].shift() != s1.exp[\"Window Open\"]\n",
    "change_indices = np.where(shift==True)[0]\n",
    "change_indices"
   ]
  },
  {
   "cell_type": "code",
   "execution_count": null,
   "metadata": {},
   "outputs": [
    {
     "data": {
      "text/plain": [
       "{0: 0,\n",
       " 1: 2,\n",
       " 2: 21,\n",
       " 3: 61,\n",
       " 4: 120,\n",
       " 5: 127,\n",
       " 6: 137,\n",
       " 7: 158,\n",
       " 8: 194,\n",
       " 9: 208,\n",
       " 10: 227,\n",
       " 11: 255,\n",
       " 12: 338}"
      ]
     },
     "execution_count": 35,
     "metadata": {},
     "output_type": "execute_result"
    }
   ],
   "source": [
    "pred_change = {change_ix: time_ix for  change_ix, time_ix in  enumerate(s1.guess_times.index)}\n",
    "pred_change\n",
    "\n",
    "true_change = {change_ix: time_ix for  change_ix, time_ix in  enumerate(change_indices)\n",
    "}\n",
    "true_change"
   ]
  },
  {
   "cell_type": "code",
   "execution_count": null,
   "metadata": {},
   "outputs": [],
   "source": [
    "res = {}\n",
    "for k, v in pred_change.items():\n",
    "    nearest_ix = h.find_nearest(list(true_change.values()), v)\n",
    "    distance = v - nearest_ix\n",
    "    res[k] = {}\n",
    "    res[k][\"match?\"] = True if distance == 0 else False\n",
    "    res[k][\"nearest_ix\"] = nearest_ix\n",
    "    res[k][\"distance\"] = distance\n",
    "\n",
    "\n",
    "\n"
   ]
  },
  {
   "cell_type": "code",
   "execution_count": null,
   "metadata": {},
   "outputs": [],
   "source": [
    "\n",
    "hits = 0\n",
    "near_hits = 0\n",
    "miss = 0\n",
    "for k, v in res.items():\n",
    "    if v[\"match?\"]:\n",
    "        hits+=1\n",
    "    elif v[\"distance\"] <=2:\n",
    "        near_hits+=1\n",
    "    else:\n",
    "        miss+=1\n",
    "\n",
    "\n",
    "\n"
   ]
  },
  {
   "cell_type": "code",
   "execution_count": null,
   "metadata": {},
   "outputs": [],
   "source": [
    "scores = {\n",
    "    \"hits\": 0, \"near_hits\": 0, \"miss\": 0\n",
    "}\n",
    "\n",
    "for k, v in res.items():\n",
    "    if v[\"match?\"]:\n",
    "        scores[\"hits\"]+=1\n",
    "    elif v[\"distance\"] <=2:\n",
    "        scores[\"near_hits\"]+=1\n",
    "    else:\n",
    "        scores[\"miss\"]+=1\n"
   ]
  },
  {
   "cell_type": "code",
   "execution_count": null,
   "metadata": {},
   "outputs": [
    {
     "data": {
      "text/plain": [
       "3"
      ]
     },
     "execution_count": 53,
     "metadata": {},
     "output_type": "execute_result"
    }
   ],
   "source": [
    "len(scores)"
   ]
  },
  {
   "cell_type": "code",
   "execution_count": null,
   "metadata": {},
   "outputs": [
    {
     "name": "stderr",
     "output_type": "stream",
     "text": [
      "ic| hits: 4, near_hits: 44, miss: 33\n"
     ]
    },
    {
     "data": {
      "text/plain": [
       "(4, 44, 33)"
      ]
     },
     "execution_count": 49,
     "metadata": {},
     "output_type": "execute_result"
    }
   ],
   "source": [
    "ic(hits, near_hits, miss) # if hits + near hits > actions, then model is flawed.."
   ]
  },
  {
   "cell_type": "code",
   "execution_count": null,
   "metadata": {},
   "outputs": [
    {
     "data": {
      "text/plain": [
       "{0: {'match?': True, 'nearest_ix': 0, 'distance': 0},\n",
       " 1: {'match?': False, 'nearest_ix': 2, 'distance': 2},\n",
       " 2: {'match?': False, 'nearest_ix': 2, 'distance': 6},\n",
       " 3: {'match?': False, 'nearest_ix': 2, 'distance': 7},\n",
       " 4: {'match?': False, 'nearest_ix': 2, 'distance': 9},\n",
       " 5: {'match?': False, 'nearest_ix': 21, 'distance': -8},\n",
       " 6: {'match?': False, 'nearest_ix': 21, 'distance': -7},\n",
       " 7: {'match?': False, 'nearest_ix': 21, 'distance': -6},\n",
       " 8: {'match?': False, 'nearest_ix': 21, 'distance': -2},\n",
       " 9: {'match?': False, 'nearest_ix': 21, 'distance': -1},\n",
       " 10: {'match?': True, 'nearest_ix': 21, 'distance': 0},\n",
       " 11: {'match?': False, 'nearest_ix': 21, 'distance': 10},\n",
       " 12: {'match?': False, 'nearest_ix': 21, 'distance': 11},\n",
       " 13: {'match?': False, 'nearest_ix': 21, 'distance': 14},\n",
       " 14: {'match?': False, 'nearest_ix': 61, 'distance': -16},\n",
       " 15: {'match?': False, 'nearest_ix': 61, 'distance': -9},\n",
       " 16: {'match?': False, 'nearest_ix': 61, 'distance': -8},\n",
       " 17: {'match?': False, 'nearest_ix': 61, 'distance': -6},\n",
       " 18: {'match?': False, 'nearest_ix': 61, 'distance': -5},\n",
       " 19: {'match?': False, 'nearest_ix': 61, 'distance': 14},\n",
       " 20: {'match?': False, 'nearest_ix': 61, 'distance': 15},\n",
       " 21: {'match?': False, 'nearest_ix': 61, 'distance': 28},\n",
       " 22: {'match?': False, 'nearest_ix': 120, 'distance': -27},\n",
       " 23: {'match?': False, 'nearest_ix': 120, 'distance': -17},\n",
       " 24: {'match?': False, 'nearest_ix': 120, 'distance': -15},\n",
       " 25: {'match?': False, 'nearest_ix': 120, 'distance': -14},\n",
       " 26: {'match?': False, 'nearest_ix': 120, 'distance': -13},\n",
       " 27: {'match?': False, 'nearest_ix': 120, 'distance': -11},\n",
       " 28: {'match?': False, 'nearest_ix': 120, 'distance': -9},\n",
       " 29: {'match?': False, 'nearest_ix': 120, 'distance': -1},\n",
       " 30: {'match?': False, 'nearest_ix': 120, 'distance': 3},\n",
       " 31: {'match?': False, 'nearest_ix': 127, 'distance': -2},\n",
       " 32: {'match?': True, 'nearest_ix': 127, 'distance': 0},\n",
       " 33: {'match?': False, 'nearest_ix': 137, 'distance': -2},\n",
       " 34: {'match?': True, 'nearest_ix': 137, 'distance': 0},\n",
       " 35: {'match?': False, 'nearest_ix': 137, 'distance': 2},\n",
       " 36: {'match?': False, 'nearest_ix': 137, 'distance': 3},\n",
       " 37: {'match?': False, 'nearest_ix': 137, 'distance': 8},\n",
       " 38: {'match?': False, 'nearest_ix': 137, 'distance': 10},\n",
       " 39: {'match?': False, 'nearest_ix': 158, 'distance': -10},\n",
       " 40: {'match?': False, 'nearest_ix': 158, 'distance': -7},\n",
       " 41: {'match?': False, 'nearest_ix': 158, 'distance': -5},\n",
       " 42: {'match?': False, 'nearest_ix': 158, 'distance': -2},\n",
       " 43: {'match?': False, 'nearest_ix': 158, 'distance': 1},\n",
       " 44: {'match?': False, 'nearest_ix': 158, 'distance': 3},\n",
       " 45: {'match?': False, 'nearest_ix': 158, 'distance': 13},\n",
       " 46: {'match?': False, 'nearest_ix': 158, 'distance': 15},\n",
       " 47: {'match?': False, 'nearest_ix': 194, 'distance': -15},\n",
       " 48: {'match?': False, 'nearest_ix': 194, 'distance': 5},\n",
       " 49: {'match?': False, 'nearest_ix': 194, 'distance': 6},\n",
       " 50: {'match?': False, 'nearest_ix': 208, 'distance': -3},\n",
       " 51: {'match?': False, 'nearest_ix': 208, 'distance': 3},\n",
       " 52: {'match?': False, 'nearest_ix': 227, 'distance': 12},\n",
       " 53: {'match?': False, 'nearest_ix': 255, 'distance': -13},\n",
       " 54: {'match?': False, 'nearest_ix': 255, 'distance': -11},\n",
       " 55: {'match?': False, 'nearest_ix': 255, 'distance': -8},\n",
       " 56: {'match?': False, 'nearest_ix': 255, 'distance': -7},\n",
       " 57: {'match?': False, 'nearest_ix': 255, 'distance': -5},\n",
       " 58: {'match?': False, 'nearest_ix': 255, 'distance': -4},\n",
       " 59: {'match?': False, 'nearest_ix': 255, 'distance': 3},\n",
       " 60: {'match?': False, 'nearest_ix': 255, 'distance': 36},\n",
       " 61: {'match?': False, 'nearest_ix': 255, 'distance': 37},\n",
       " 62: {'match?': False, 'nearest_ix': 338, 'distance': -32},\n",
       " 63: {'match?': False, 'nearest_ix': 338, 'distance': -23},\n",
       " 64: {'match?': False, 'nearest_ix': 338, 'distance': -19},\n",
       " 65: {'match?': False, 'nearest_ix': 338, 'distance': -15},\n",
       " 66: {'match?': False, 'nearest_ix': 338, 'distance': -7},\n",
       " 67: {'match?': False, 'nearest_ix': 338, 'distance': -4},\n",
       " 68: {'match?': False, 'nearest_ix': 338, 'distance': -3},\n",
       " 69: {'match?': False, 'nearest_ix': 338, 'distance': 1},\n",
       " 70: {'match?': False, 'nearest_ix': 338, 'distance': 2},\n",
       " 71: {'match?': False, 'nearest_ix': 338, 'distance': 6},\n",
       " 72: {'match?': False, 'nearest_ix': 338, 'distance': 7},\n",
       " 73: {'match?': False, 'nearest_ix': 338, 'distance': 9},\n",
       " 74: {'match?': False, 'nearest_ix': 338, 'distance': 10},\n",
       " 75: {'match?': False, 'nearest_ix': 338, 'distance': 13},\n",
       " 76: {'match?': False, 'nearest_ix': 338, 'distance': 14},\n",
       " 77: {'match?': False, 'nearest_ix': 338, 'distance': 22},\n",
       " 78: {'match?': False, 'nearest_ix': 338, 'distance': 33},\n",
       " 79: {'match?': False, 'nearest_ix': 338, 'distance': 41},\n",
       " 80: {'match?': False, 'nearest_ix': 338, 'distance': 45}}"
      ]
     },
     "execution_count": 46,
     "metadata": {},
     "output_type": "execute_result"
    }
   ],
   "source": [
    "res"
   ]
  },
  {
   "cell_type": "code",
   "execution_count": null,
   "metadata": {},
   "outputs": [
    {
     "data": {
      "text/html": [
       "<div>\n",
       "<style scoped>\n",
       "    .dataframe tbody tr th:only-of-type {\n",
       "        vertical-align: middle;\n",
       "    }\n",
       "\n",
       "    .dataframe tbody tr th {\n",
       "        vertical-align: top;\n",
       "    }\n",
       "\n",
       "    .dataframe thead th {\n",
       "        text-align: right;\n",
       "    }\n",
       "</style>\n",
       "<table border=\"1\" class=\"dataframe\">\n",
       "  <thead>\n",
       "    <tr style=\"text-align: right;\">\n",
       "      <th></th>\n",
       "      <th>results</th>\n",
       "    </tr>\n",
       "  </thead>\n",
       "  <tbody>\n",
       "    <tr>\n",
       "      <th>hits/guesses</th>\n",
       "      <td>0.037</td>\n",
       "    </tr>\n",
       "    <tr>\n",
       "      <th>hits/actions</th>\n",
       "      <td>0.231</td>\n",
       "    </tr>\n",
       "    <tr>\n",
       "      <th>(hits + near hits)/guesses</th>\n",
       "      <td>0.160</td>\n",
       "    </tr>\n",
       "    <tr>\n",
       "      <th>(hits + near hits)/actions</th>\n",
       "      <td>1.000</td>\n",
       "    </tr>\n",
       "    <tr>\n",
       "      <th>misses/guesses</th>\n",
       "      <td>0.840</td>\n",
       "    </tr>\n",
       "    <tr>\n",
       "      <th>number of actions</th>\n",
       "      <td>13.000</td>\n",
       "    </tr>\n",
       "    <tr>\n",
       "      <th>number of guesses</th>\n",
       "      <td>81.000</td>\n",
       "    </tr>\n",
       "    <tr>\n",
       "      <th>hit</th>\n",
       "      <td>3.000</td>\n",
       "    </tr>\n",
       "    <tr>\n",
       "      <th>near_hit</th>\n",
       "      <td>10.000</td>\n",
       "    </tr>\n",
       "    <tr>\n",
       "      <th>miss</th>\n",
       "      <td>68.000</td>\n",
       "    </tr>\n",
       "  </tbody>\n",
       "</table>\n",
       "</div>"
      ],
      "text/plain": [
       "                            results\n",
       "hits/guesses                  0.037\n",
       "hits/actions                  0.231\n",
       "(hits + near hits)/guesses    0.160\n",
       "(hits + near hits)/actions    1.000\n",
       "misses/guesses                0.840\n",
       "number of actions            13.000\n",
       "number of guesses            81.000\n",
       "hit                           3.000\n",
       "near_hit                     10.000\n",
       "miss                         68.000"
      ]
     },
     "execution_count": 15,
     "metadata": {},
     "output_type": "execute_result"
    }
   ],
   "source": [
    "test_dict[\"abs_amb_meas_diff\"][\"custom_report\"]"
   ]
  },
  {
   "cell_type": "code",
   "execution_count": null,
   "metadata": {},
   "outputs": [],
   "source": []
  },
  {
   "cell_type": "code",
   "execution_count": null,
   "metadata": {},
   "outputs": [
    {
     "name": "stdout",
     "output_type": "stream",
     "text": [
      "dt_meas 153.8\n",
      "dt_sim 69.19999999999999\n",
      "dt_amb 7.7\n",
      "dt_meas+dt_sim+dt_amb 92.30000000000001\n",
      "meas 69.19999999999999\n",
      "amb 53.800000000000004\n",
      "sim 53.800000000000004\n",
      "meas+amb+sim 38.5\n",
      "dt_meas+dt_sim 107.69999999999999\n",
      "dt_meas+dt_amb 130.8\n",
      "dt_meas+meas 53.800000000000004\n",
      "dt_meas+amb 123.10000000000001\n",
      "dt_meas+sim 107.69999999999999\n",
      "dt_sim+dt_amb 100.0\n",
      "dt_sim+meas 92.30000000000001\n",
      "dt_sim+amb 76.9\n",
      "dt_sim+sim 92.30000000000001\n",
      "dt_amb+meas 107.69999999999999\n",
      "dt_amb+amb 153.8\n",
      "dt_amb+sim 146.2\n",
      "meas+amb 53.800000000000004\n",
      "meas+sim 61.5\n",
      "amb+sim 61.5\n",
      "amb_minus_meas 92.30000000000001\n",
      "meas_minus_amb 92.30000000000001\n",
      "abs_amb_meas_diff 100.0\n"
     ]
    }
   ],
   "source": [
    "for k, v in test_dict.items():\n",
    "    print(k, v[\"custom_report\"].loc[\"(hits + near hits)/actions\"][0])"
   ]
  }
 ],
 "metadata": {
  "kernelspec": {
   "display_name": "localwindowsenv",
   "language": "python",
   "name": "python3"
  },
  "language_info": {
   "codemirror_mode": {
    "name": "ipython",
    "version": 3
   },
   "file_extension": ".py",
   "mimetype": "text/x-python",
   "name": "python",
   "nbconvert_exporter": "python",
   "pygments_lexer": "ipython3",
   "version": "3.9.15"
  },
  "orig_nbformat": 4
 },
 "nbformat": 4,
 "nbformat_minor": 2
}
