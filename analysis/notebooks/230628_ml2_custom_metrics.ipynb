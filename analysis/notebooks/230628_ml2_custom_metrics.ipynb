{
 "cells": [
  {
   "cell_type": "code",
   "execution_count": 1,
   "metadata": {},
   "outputs": [],
   "source": [
    "import pandas as pd\n",
    "import numpy as np\n",
    "\n",
    "import sys\n",
    "sys.path.insert(0, \"../scripts\")\n",
    "import helpers as h\n",
    "import window_detect2 as w\n",
    "import scores as s\n",
    "import ml_window as m\n",
    "from icecream import ic\n",
    "\n",
    "import pickle\n",
    "\n",
    "import plotly.graph_objects as go"
   ]
  },
  {
   "cell_type": "code",
   "execution_count": 2,
   "metadata": {},
   "outputs": [],
   "source": [
    "a00, a01 = h.import_desired_data(\"A\", \"15T\")\n",
    "window_sched = np.array(a01[\"Window Open\"])"
   ]
  },
  {
   "cell_type": "code",
   "execution_count": 3,
   "metadata": {},
   "outputs": [],
   "source": [
    "with open('../constants/data_combos_230638.pkl', 'rb') as handle:\n",
    "    test_dict = pickle.load(handle)"
   ]
  },
  {
   "cell_type": "code",
   "execution_count": 4,
   "metadata": {},
   "outputs": [],
   "source": [
    "for k, v in test_dict.items():\n",
    "    # print(k)\n",
    "    obj = m.ML_Window_Detect(v[\"data\"], window_sched)\n",
    "    obj.run_all()\n",
    "    test_dict[k][\"accuracy\"] = obj.accuracy\n",
    "    test_dict[k][\"choices\"] = obj.choices"
   ]
  },
  {
   "cell_type": "code",
   "execution_count": 28,
   "metadata": {},
   "outputs": [],
   "source": [
    "def get_guess_times(test_dict_item):\n",
    "    choice_list = pd.Series(test_dict_item[\"choices\"])\n",
    "    mask = choice_list.shift() != choice_list\n",
    "    guesses = choice_list[mask].index\n",
    "    guess_times = a01[\"DateTime\"][guesses]\n",
    "\n",
    "    return guess_times\n"
   ]
  },
  {
   "cell_type": "code",
   "execution_count": 31,
   "metadata": {},
   "outputs": [],
   "source": [
    "for k in test_dict.keys():\n",
    "    s1 = s.Scores()\n",
    "    g = get_guess_times(test_dict[k])\n",
    "    test_dict[k][\"custom_report\"] = s1.report_scores(g, a01)"
   ]
  },
  {
   "cell_type": "code",
   "execution_count": 38,
   "metadata": {},
   "outputs": [
    {
     "name": "stdout",
     "output_type": "stream",
     "text": [
      "dt_meas 153.8\n",
      "dt_sim 69.19999999999999\n",
      "dt_amb 7.7\n",
      "dt_meas+dt_sim+dt_amb 92.30000000000001\n",
      "meas 69.19999999999999\n",
      "amb 53.800000000000004\n",
      "sim 53.800000000000004\n",
      "meas+amb+sim 38.5\n",
      "dt_meas+dt_sim 107.69999999999999\n",
      "dt_meas+dt_amb 130.8\n",
      "dt_meas+meas 53.800000000000004\n",
      "dt_meas+amb 123.10000000000001\n",
      "dt_meas+sim 107.69999999999999\n",
      "dt_sim+dt_amb 100.0\n",
      "dt_sim+meas 92.30000000000001\n",
      "dt_sim+amb 76.9\n",
      "dt_sim+sim 92.30000000000001\n",
      "dt_amb+meas 107.69999999999999\n",
      "dt_amb+amb 153.8\n",
      "dt_amb+sim 146.2\n",
      "meas+amb 53.800000000000004\n",
      "meas+sim 61.5\n",
      "amb+sim 61.5\n",
      "amb_minus_meas 92.30000000000001\n",
      "meas_minus_amb 92.30000000000001\n",
      "abs_amb_meas_diff 100.0\n"
     ]
    }
   ],
   "source": [
    "for k, v in test_dict.items():\n",
    "    print(k, v[\"custom_report\"].loc[\"(hits + near hits)/actions\"][0])"
   ]
  },
  {
   "cell_type": "code",
   "execution_count": 37,
   "metadata": {},
   "outputs": [
    {
     "data": {
      "text/plain": [
       "53.800000000000004"
      ]
     },
     "execution_count": 37,
     "metadata": {},
     "output_type": "execute_result"
    }
   ],
   "source": [
    "test_dict[\"dt_meas+meas\"][\"custom_report\"].loc[\"(hits + near hits)/actions\"][0]"
   ]
  },
  {
   "cell_type": "code",
   "execution_count": 30,
   "metadata": {},
   "outputs": [
    {
     "data": {
      "text/html": [
       "<div>\n",
       "<style scoped>\n",
       "    .dataframe tbody tr th:only-of-type {\n",
       "        vertical-align: middle;\n",
       "    }\n",
       "\n",
       "    .dataframe tbody tr th {\n",
       "        vertical-align: top;\n",
       "    }\n",
       "\n",
       "    .dataframe thead th {\n",
       "        text-align: right;\n",
       "    }\n",
       "</style>\n",
       "<table border=\"1\" class=\"dataframe\">\n",
       "  <thead>\n",
       "    <tr style=\"text-align: right;\">\n",
       "      <th></th>\n",
       "      <th>results</th>\n",
       "    </tr>\n",
       "  </thead>\n",
       "  <tbody>\n",
       "    <tr>\n",
       "      <th>hits/guesses</th>\n",
       "      <td>0.0</td>\n",
       "    </tr>\n",
       "    <tr>\n",
       "      <th>hits/actions</th>\n",
       "      <td>0.0</td>\n",
       "    </tr>\n",
       "    <tr>\n",
       "      <th>(hits + near hits)/guesses</th>\n",
       "      <td>23.5</td>\n",
       "    </tr>\n",
       "    <tr>\n",
       "      <th>(hits + near hits)/actions</th>\n",
       "      <td>61.5</td>\n",
       "    </tr>\n",
       "    <tr>\n",
       "      <th>misses/guesses</th>\n",
       "      <td>76.5</td>\n",
       "    </tr>\n",
       "    <tr>\n",
       "      <th>number of actions</th>\n",
       "      <td>13.0</td>\n",
       "    </tr>\n",
       "    <tr>\n",
       "      <th>number of guesses</th>\n",
       "      <td>34.0</td>\n",
       "    </tr>\n",
       "    <tr>\n",
       "      <th>hit</th>\n",
       "      <td>0.0</td>\n",
       "    </tr>\n",
       "    <tr>\n",
       "      <th>near_hit</th>\n",
       "      <td>8.0</td>\n",
       "    </tr>\n",
       "    <tr>\n",
       "      <th>miss</th>\n",
       "      <td>26.0</td>\n",
       "    </tr>\n",
       "  </tbody>\n",
       "</table>\n",
       "</div>"
      ],
      "text/plain": [
       "                            results\n",
       "hits/guesses                    0.0\n",
       "hits/actions                    0.0\n",
       "(hits + near hits)/guesses     23.5\n",
       "(hits + near hits)/actions     61.5\n",
       "misses/guesses                 76.5\n",
       "number of actions              13.0\n",
       "number of guesses              34.0\n",
       "hit                             0.0\n",
       "near_hit                        8.0\n",
       "miss                           26.0"
      ]
     },
     "execution_count": 30,
     "metadata": {},
     "output_type": "execute_result"
    }
   ],
   "source": [
    "s1 = s.Scores()\n",
    "g = get_guess_times(test_dict[\"amb+sim\"])\n",
    "s1.report_scores(g, a01)\n"
   ]
  }
 ],
 "metadata": {
  "kernelspec": {
   "display_name": "localwindowsenv",
   "language": "python",
   "name": "python3"
  },
  "language_info": {
   "codemirror_mode": {
    "name": "ipython",
    "version": 3
   },
   "file_extension": ".py",
   "mimetype": "text/x-python",
   "name": "python",
   "nbconvert_exporter": "python",
   "pygments_lexer": "ipython3",
   "version": "3.9.15"
  },
  "orig_nbformat": 4
 },
 "nbformat": 4,
 "nbformat_minor": 2
}
