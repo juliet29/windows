{
 "cells": [
  {
   "cell_type": "code",
   "execution_count": 1,
   "metadata": {},
   "outputs": [],
   "source": [
    "import pandas as pd\n",
    "import numpy as np\n",
    "\n",
    "import sys\n",
    "sys.path.insert(0, \"../scripts\")\n",
    "import helpers as h\n",
    "import window_detect2 as w\n",
    "import scores as s\n",
    "import ml_window as m\n",
    "from icecream import ic\n",
    "\n",
    "import pickle\n",
    "\n",
    "import plotly.graph_objects as go"
   ]
  },
  {
   "cell_type": "code",
   "execution_count": 2,
   "metadata": {},
   "outputs": [],
   "source": [
    "a00, a01 = h.import_desired_data(\"A\", \"15T\")\n",
    "window_sched = np.array(a01[\"Window Open\"])"
   ]
  },
  {
   "cell_type": "code",
   "execution_count": 3,
   "metadata": {},
   "outputs": [],
   "source": [
    "with open('../constants/data_combos_230638.pkl', 'rb') as handle:\n",
    "    test_dict = pickle.load(handle)"
   ]
  },
  {
   "cell_type": "code",
   "execution_count": 4,
   "metadata": {},
   "outputs": [],
   "source": [
    "for k, v in test_dict.items():\n",
    "    # print(k)\n",
    "    obj = m.ML_Window_Detect(v[\"data\"], window_sched)\n",
    "    obj.run_all()\n",
    "    test_dict[k][\"accuracy\"] = obj.accuracy\n",
    "    test_dict[k][\"choices\"] = obj.choices"
   ]
  },
  {
   "cell_type": "code",
   "execution_count": 31,
   "metadata": {},
   "outputs": [],
   "source": [
    "def get_guess_times(test_dict_item):\n",
    "    choice_list = pd.Series(test_dict_item[\"choices\"])\n",
    "    mask = choice_list.shift() != choice_list\n",
    "    guesses = choice_list[mask].index\n",
    "    guess_times = a01[\"DateTime\"][guesses]\n",
    "\n",
    "    return guess_times\n",
    "\n",
    "for k in test_dict.keys():\n",
    "    s1 = s.Scores(a01)\n",
    "    g = get_guess_times(test_dict[k])\n",
    "    test_dict[k][\"custom_report\"] = s1.report_scores(g)\n",
    "\n",
    "# with open(\"../constants/combo_results_230638.pkl\", \"wb\") as fp:\n",
    "#     pickle.dump(test_dict, fp )"
   ]
  },
  {
   "cell_type": "code",
   "execution_count": 38,
   "metadata": {},
   "outputs": [
    {
     "name": "stdout",
     "output_type": "stream",
     "text": [
      "dt_meas 153.8\n",
      "dt_sim 69.19999999999999\n",
      "dt_amb 7.7\n",
      "dt_meas+dt_sim+dt_amb 92.30000000000001\n",
      "meas 69.19999999999999\n",
      "amb 53.800000000000004\n",
      "sim 53.800000000000004\n",
      "meas+amb+sim 38.5\n",
      "dt_meas+dt_sim 107.69999999999999\n",
      "dt_meas+dt_amb 130.8\n",
      "dt_meas+meas 53.800000000000004\n",
      "dt_meas+amb 123.10000000000001\n",
      "dt_meas+sim 107.69999999999999\n",
      "dt_sim+dt_amb 100.0\n",
      "dt_sim+meas 92.30000000000001\n",
      "dt_sim+amb 76.9\n",
      "dt_sim+sim 92.30000000000001\n",
      "dt_amb+meas 107.69999999999999\n",
      "dt_amb+amb 153.8\n",
      "dt_amb+sim 146.2\n",
      "meas+amb 53.800000000000004\n",
      "meas+sim 61.5\n",
      "amb+sim 61.5\n",
      "amb_minus_meas 92.30000000000001\n",
      "meas_minus_amb 92.30000000000001\n",
      "abs_amb_meas_diff 100.0\n"
     ]
    }
   ],
   "source": [
    "for k, v in test_dict.items():\n",
    "    print(k, v[\"custom_report\"].loc[\"(hits + near hits)/actions\"][0])"
   ]
  },
  {
   "cell_type": "code",
   "execution_count": 44,
   "metadata": {},
   "outputs": [
    {
     "data": {
      "text/html": [
       "<div>\n",
       "<style scoped>\n",
       "    .dataframe tbody tr th:only-of-type {\n",
       "        vertical-align: middle;\n",
       "    }\n",
       "\n",
       "    .dataframe tbody tr th {\n",
       "        vertical-align: top;\n",
       "    }\n",
       "\n",
       "    .dataframe thead th {\n",
       "        text-align: right;\n",
       "    }\n",
       "</style>\n",
       "<table border=\"1\" class=\"dataframe\">\n",
       "  <thead>\n",
       "    <tr style=\"text-align: right;\">\n",
       "      <th></th>\n",
       "      <th>self</th>\n",
       "      <th>other</th>\n",
       "    </tr>\n",
       "  </thead>\n",
       "  <tbody>\n",
       "    <tr>\n",
       "      <th>0</th>\n",
       "      <td>0.0</td>\n",
       "      <td>1.0</td>\n",
       "    </tr>\n",
       "    <tr>\n",
       "      <th>1</th>\n",
       "      <td>0.0</td>\n",
       "      <td>1.0</td>\n",
       "    </tr>\n",
       "    <tr>\n",
       "      <th>21</th>\n",
       "      <td>0.0</td>\n",
       "      <td>1.0</td>\n",
       "    </tr>\n",
       "    <tr>\n",
       "      <th>22</th>\n",
       "      <td>0.0</td>\n",
       "      <td>1.0</td>\n",
       "    </tr>\n",
       "    <tr>\n",
       "      <th>23</th>\n",
       "      <td>0.0</td>\n",
       "      <td>1.0</td>\n",
       "    </tr>\n",
       "    <tr>\n",
       "      <th>...</th>\n",
       "      <td>...</td>\n",
       "      <td>...</td>\n",
       "    </tr>\n",
       "    <tr>\n",
       "      <th>338</th>\n",
       "      <td>0.0</td>\n",
       "      <td>1.0</td>\n",
       "    </tr>\n",
       "    <tr>\n",
       "      <th>339</th>\n",
       "      <td>0.0</td>\n",
       "      <td>1.0</td>\n",
       "    </tr>\n",
       "    <tr>\n",
       "      <th>340</th>\n",
       "      <td>0.0</td>\n",
       "      <td>1.0</td>\n",
       "    </tr>\n",
       "    <tr>\n",
       "      <th>341</th>\n",
       "      <td>0.0</td>\n",
       "      <td>1.0</td>\n",
       "    </tr>\n",
       "    <tr>\n",
       "      <th>342</th>\n",
       "      <td>0.0</td>\n",
       "      <td>1.0</td>\n",
       "    </tr>\n",
       "  </tbody>\n",
       "</table>\n",
       "<p>164 rows × 2 columns</p>\n",
       "</div>"
      ],
      "text/plain": [
       "     self  other\n",
       "0     0.0    1.0\n",
       "1     0.0    1.0\n",
       "21    0.0    1.0\n",
       "22    0.0    1.0\n",
       "23    0.0    1.0\n",
       "..    ...    ...\n",
       "338   0.0    1.0\n",
       "339   0.0    1.0\n",
       "340   0.0    1.0\n",
       "341   0.0    1.0\n",
       "342   0.0    1.0\n",
       "\n",
       "[164 rows x 2 columns]"
      ]
     },
     "execution_count": 44,
     "metadata": {},
     "output_type": "execute_result"
    }
   ],
   "source": [
    "# look at choices(t) and window_open(t), are they the same? \n",
    "wS = pd.Series(window_sched)\n",
    "tS = pd.Series(test_dict[\"amb+sim\"][\"choices\"])\n",
    "k = wS.compare(tS)\n",
    "k"
   ]
  },
  {
   "cell_type": "code",
   "execution_count": 45,
   "metadata": {},
   "outputs": [
    {
     "data": {
      "text/plain": [
       "164"
      ]
     },
     "execution_count": 45,
     "metadata": {},
     "output_type": "execute_result"
    }
   ],
   "source": [
    "len(k)"
   ]
  }
 ],
 "metadata": {
  "kernelspec": {
   "display_name": "localwindowsenv",
   "language": "python",
   "name": "python3"
  },
  "language_info": {
   "codemirror_mode": {
    "name": "ipython",
    "version": 3
   },
   "file_extension": ".py",
   "mimetype": "text/x-python",
   "name": "python",
   "nbconvert_exporter": "python",
   "pygments_lexer": "ipython3",
   "version": "3.9.15"
  },
  "orig_nbformat": 4
 },
 "nbformat": 4,
 "nbformat_minor": 2
}
