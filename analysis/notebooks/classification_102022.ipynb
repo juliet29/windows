{
 "cells": [
  {
   "cell_type": "markdown",
   "metadata": {},
   "source": [
    "# Classification 10/20/22\n",
    "\n",
    "* Goal: tried classifying td_ambient_1020222 using sktime module, specificaly classify based on differences in temp / rh \n",
    "* Update 11/10/22: introduce functions, start classification with sklearn bc clearer error messages and better documentation \n",
    "* Update 11/15/22: plotting performance of classifiers..\n",
    "\n"
   ]
  },
  {
   "cell_type": "code",
   "execution_count": 1,
   "metadata": {},
   "outputs": [],
   "source": [
    "import json\n",
    "import datetime\n",
    "import pandas as pd\n",
    "import numpy as np\n",
    "import sys\n",
    "import os\n",
    "\n",
    "import plotly.express as px\n",
    "import plotly.graph_objects as go\n",
    "\n",
    "\n",
    "from sklearn.model_selection import train_test_split\n",
    "from sklearn.linear_model import LogisticRegression\n",
    "from sklearn.model_selection import cross_val_score\n",
    "\n",
    "from scipy.stats import sem\n",
    "\n",
    "\n"
   ]
  },
  {
   "cell_type": "code",
   "execution_count": 2,
   "metadata": {},
   "outputs": [
    {
     "data": {
      "text/html": [
       "<div>\n",
       "<style scoped>\n",
       "    .dataframe tbody tr th:only-of-type {\n",
       "        vertical-align: middle;\n",
       "    }\n",
       "\n",
       "    .dataframe tbody tr th {\n",
       "        vertical-align: top;\n",
       "    }\n",
       "\n",
       "    .dataframe thead th {\n",
       "        text-align: right;\n",
       "    }\n",
       "</style>\n",
       "<table border=\"1\" class=\"dataframe\">\n",
       "  <thead>\n",
       "    <tr style=\"text-align: right;\">\n",
       "      <th></th>\n",
       "      <th>DateTime</th>\n",
       "      <th>Temp C</th>\n",
       "      <th>RH %</th>\n",
       "      <th>Room</th>\n",
       "      <th>Ambient Temp</th>\n",
       "      <th>Ambient RH</th>\n",
       "      <th>Window Open</th>\n",
       "    </tr>\n",
       "  </thead>\n",
       "  <tbody>\n",
       "    <tr>\n",
       "      <th>0</th>\n",
       "      <td>2022-07-20 07:20:00</td>\n",
       "      <td>23.189</td>\n",
       "      <td>51.268</td>\n",
       "      <td>0</td>\n",
       "      <td>14.333333</td>\n",
       "      <td>30.555556</td>\n",
       "      <td>1</td>\n",
       "    </tr>\n",
       "    <tr>\n",
       "      <th>1</th>\n",
       "      <td>2022-07-20 07:20:30</td>\n",
       "      <td>23.189</td>\n",
       "      <td>51.362</td>\n",
       "      <td>0</td>\n",
       "      <td>14.333333</td>\n",
       "      <td>30.555556</td>\n",
       "      <td>1</td>\n",
       "    </tr>\n",
       "    <tr>\n",
       "      <th>2</th>\n",
       "      <td>2022-07-20 07:21:00</td>\n",
       "      <td>23.189</td>\n",
       "      <td>51.488</td>\n",
       "      <td>0</td>\n",
       "      <td>14.333333</td>\n",
       "      <td>30.555556</td>\n",
       "      <td>1</td>\n",
       "    </tr>\n",
       "    <tr>\n",
       "      <th>3</th>\n",
       "      <td>2022-07-20 07:21:30</td>\n",
       "      <td>23.189</td>\n",
       "      <td>51.457</td>\n",
       "      <td>0</td>\n",
       "      <td>14.333333</td>\n",
       "      <td>30.555556</td>\n",
       "      <td>1</td>\n",
       "    </tr>\n",
       "    <tr>\n",
       "      <th>4</th>\n",
       "      <td>2022-07-20 07:22:00</td>\n",
       "      <td>23.165</td>\n",
       "      <td>51.517</td>\n",
       "      <td>0</td>\n",
       "      <td>14.333333</td>\n",
       "      <td>30.555556</td>\n",
       "      <td>1</td>\n",
       "    </tr>\n",
       "    <tr>\n",
       "      <th>...</th>\n",
       "      <td>...</td>\n",
       "      <td>...</td>\n",
       "      <td>...</td>\n",
       "      <td>...</td>\n",
       "      <td>...</td>\n",
       "      <td>...</td>\n",
       "      <td>...</td>\n",
       "    </tr>\n",
       "    <tr>\n",
       "      <th>123601</th>\n",
       "      <td>2022-09-11 07:58:00</td>\n",
       "      <td>29.196</td>\n",
       "      <td>50.861</td>\n",
       "      <td>1</td>\n",
       "      <td>19.611111</td>\n",
       "      <td>30.000000</td>\n",
       "      <td>0</td>\n",
       "    </tr>\n",
       "    <tr>\n",
       "      <th>123602</th>\n",
       "      <td>2022-09-11 07:58:30</td>\n",
       "      <td>29.196</td>\n",
       "      <td>50.861</td>\n",
       "      <td>1</td>\n",
       "      <td>19.611111</td>\n",
       "      <td>30.000000</td>\n",
       "      <td>0</td>\n",
       "    </tr>\n",
       "    <tr>\n",
       "      <th>123603</th>\n",
       "      <td>2022-09-11 07:59:00</td>\n",
       "      <td>29.196</td>\n",
       "      <td>50.796</td>\n",
       "      <td>1</td>\n",
       "      <td>19.611111</td>\n",
       "      <td>30.000000</td>\n",
       "      <td>0</td>\n",
       "    </tr>\n",
       "    <tr>\n",
       "      <th>123604</th>\n",
       "      <td>2022-09-11 07:59:30</td>\n",
       "      <td>29.196</td>\n",
       "      <td>50.796</td>\n",
       "      <td>1</td>\n",
       "      <td>19.611111</td>\n",
       "      <td>30.000000</td>\n",
       "      <td>0</td>\n",
       "    </tr>\n",
       "    <tr>\n",
       "      <th>123605</th>\n",
       "      <td>2022-09-11 08:00:00</td>\n",
       "      <td>29.196</td>\n",
       "      <td>50.796</td>\n",
       "      <td>1</td>\n",
       "      <td>19.833333</td>\n",
       "      <td>30.000000</td>\n",
       "      <td>0</td>\n",
       "    </tr>\n",
       "  </tbody>\n",
       "</table>\n",
       "<p>123606 rows × 7 columns</p>\n",
       "</div>"
      ],
      "text/plain": [
       "                   DateTime  Temp C    RH %  Room  Ambient Temp  Ambient RH  \\\n",
       "0       2022-07-20 07:20:00  23.189  51.268     0     14.333333   30.555556   \n",
       "1       2022-07-20 07:20:30  23.189  51.362     0     14.333333   30.555556   \n",
       "2       2022-07-20 07:21:00  23.189  51.488     0     14.333333   30.555556   \n",
       "3       2022-07-20 07:21:30  23.189  51.457     0     14.333333   30.555556   \n",
       "4       2022-07-20 07:22:00  23.165  51.517     0     14.333333   30.555556   \n",
       "...                     ...     ...     ...   ...           ...         ...   \n",
       "123601  2022-09-11 07:58:00  29.196  50.861     1     19.611111   30.000000   \n",
       "123602  2022-09-11 07:58:30  29.196  50.861     1     19.611111   30.000000   \n",
       "123603  2022-09-11 07:59:00  29.196  50.796     1     19.611111   30.000000   \n",
       "123604  2022-09-11 07:59:30  29.196  50.796     1     19.611111   30.000000   \n",
       "123605  2022-09-11 08:00:00  29.196  50.796     1     19.833333   30.000000   \n",
       "\n",
       "        Window Open  \n",
       "0                 1  \n",
       "1                 1  \n",
       "2                 1  \n",
       "3                 1  \n",
       "4                 1  \n",
       "...             ...  \n",
       "123601            0  \n",
       "123602            0  \n",
       "123603            0  \n",
       "123604            0  \n",
       "123605            0  \n",
       "\n",
       "[123606 rows x 7 columns]"
      ]
     },
     "execution_count": 2,
     "metadata": {},
     "output_type": "execute_result"
    }
   ],
   "source": [
    "df = pd.read_csv(\"../constants/td_ambient_102022.csv\", )\n",
    "df"
   ]
  },
  {
   "cell_type": "code",
   "execution_count": 3,
   "metadata": {},
   "outputs": [],
   "source": [
    "# add temperature and rh deltas for each observation \n",
    "df[\"T_Delta\"] =  df[\"Temp C\"] - df[\"Ambient Temp\"]\n",
    "df[\"RH_Delta\"] =  df[\"RH %\"]- df[\"Ambient RH\"]\n"
   ]
  },
  {
   "cell_type": "code",
   "execution_count": 4,
   "metadata": {},
   "outputs": [
    {
     "data": {
      "text/html": [
       "<div>\n",
       "<style scoped>\n",
       "    .dataframe tbody tr th:only-of-type {\n",
       "        vertical-align: middle;\n",
       "    }\n",
       "\n",
       "    .dataframe tbody tr th {\n",
       "        vertical-align: top;\n",
       "    }\n",
       "\n",
       "    .dataframe thead th {\n",
       "        text-align: right;\n",
       "    }\n",
       "</style>\n",
       "<table border=\"1\" class=\"dataframe\">\n",
       "  <thead>\n",
       "    <tr style=\"text-align: right;\">\n",
       "      <th></th>\n",
       "      <th>DateTime</th>\n",
       "      <th>Temp C</th>\n",
       "      <th>RH %</th>\n",
       "      <th>Room</th>\n",
       "      <th>Ambient Temp</th>\n",
       "      <th>Ambient RH</th>\n",
       "      <th>Window Open</th>\n",
       "      <th>T_Delta</th>\n",
       "      <th>RH_Delta</th>\n",
       "    </tr>\n",
       "  </thead>\n",
       "  <tbody>\n",
       "    <tr>\n",
       "      <th>0</th>\n",
       "      <td>2022-07-20 07:20:00</td>\n",
       "      <td>23.189</td>\n",
       "      <td>51.268</td>\n",
       "      <td>0</td>\n",
       "      <td>14.333333</td>\n",
       "      <td>30.555556</td>\n",
       "      <td>1</td>\n",
       "      <td>8.855667</td>\n",
       "      <td>20.712444</td>\n",
       "    </tr>\n",
       "    <tr>\n",
       "      <th>1</th>\n",
       "      <td>2022-07-20 07:20:30</td>\n",
       "      <td>23.189</td>\n",
       "      <td>51.362</td>\n",
       "      <td>0</td>\n",
       "      <td>14.333333</td>\n",
       "      <td>30.555556</td>\n",
       "      <td>1</td>\n",
       "      <td>8.855667</td>\n",
       "      <td>20.806444</td>\n",
       "    </tr>\n",
       "    <tr>\n",
       "      <th>2</th>\n",
       "      <td>2022-07-20 07:21:00</td>\n",
       "      <td>23.189</td>\n",
       "      <td>51.488</td>\n",
       "      <td>0</td>\n",
       "      <td>14.333333</td>\n",
       "      <td>30.555556</td>\n",
       "      <td>1</td>\n",
       "      <td>8.855667</td>\n",
       "      <td>20.932444</td>\n",
       "    </tr>\n",
       "    <tr>\n",
       "      <th>3</th>\n",
       "      <td>2022-07-20 07:21:30</td>\n",
       "      <td>23.189</td>\n",
       "      <td>51.457</td>\n",
       "      <td>0</td>\n",
       "      <td>14.333333</td>\n",
       "      <td>30.555556</td>\n",
       "      <td>1</td>\n",
       "      <td>8.855667</td>\n",
       "      <td>20.901444</td>\n",
       "    </tr>\n",
       "    <tr>\n",
       "      <th>4</th>\n",
       "      <td>2022-07-20 07:22:00</td>\n",
       "      <td>23.165</td>\n",
       "      <td>51.517</td>\n",
       "      <td>0</td>\n",
       "      <td>14.333333</td>\n",
       "      <td>30.555556</td>\n",
       "      <td>1</td>\n",
       "      <td>8.831667</td>\n",
       "      <td>20.961444</td>\n",
       "    </tr>\n",
       "  </tbody>\n",
       "</table>\n",
       "</div>"
      ],
      "text/plain": [
       "              DateTime  Temp C    RH %  Room  Ambient Temp  Ambient RH  \\\n",
       "0  2022-07-20 07:20:00  23.189  51.268     0     14.333333   30.555556   \n",
       "1  2022-07-20 07:20:30  23.189  51.362     0     14.333333   30.555556   \n",
       "2  2022-07-20 07:21:00  23.189  51.488     0     14.333333   30.555556   \n",
       "3  2022-07-20 07:21:30  23.189  51.457     0     14.333333   30.555556   \n",
       "4  2022-07-20 07:22:00  23.165  51.517     0     14.333333   30.555556   \n",
       "\n",
       "   Window Open   T_Delta   RH_Delta  \n",
       "0            1  8.855667  20.712444  \n",
       "1            1  8.855667  20.806444  \n",
       "2            1  8.855667  20.932444  \n",
       "3            1  8.855667  20.901444  \n",
       "4            1  8.831667  20.961444  "
      ]
     },
     "execution_count": 4,
     "metadata": {},
     "output_type": "execute_result"
    }
   ],
   "source": [
    "df.head()"
   ]
  },
  {
   "cell_type": "markdown",
   "metadata": {},
   "source": [
    "# Grouping and Statistics "
   ]
  },
  {
   "cell_type": "code",
   "execution_count": 5,
   "metadata": {},
   "outputs": [
    {
     "data": {
      "text/html": [
       "<div>\n",
       "<style scoped>\n",
       "    .dataframe tbody tr th:only-of-type {\n",
       "        vertical-align: middle;\n",
       "    }\n",
       "\n",
       "    .dataframe tbody tr th {\n",
       "        vertical-align: top;\n",
       "    }\n",
       "\n",
       "    .dataframe thead tr th {\n",
       "        text-align: left;\n",
       "    }\n",
       "\n",
       "    .dataframe thead tr:last-of-type th {\n",
       "        text-align: right;\n",
       "    }\n",
       "</style>\n",
       "<table border=\"1\" class=\"dataframe\">\n",
       "  <thead>\n",
       "    <tr>\n",
       "      <th></th>\n",
       "      <th colspan=\"2\" halign=\"left\">T_Delta</th>\n",
       "      <th colspan=\"2\" halign=\"left\">RH_Delta</th>\n",
       "    </tr>\n",
       "    <tr>\n",
       "      <th></th>\n",
       "      <th>mean</th>\n",
       "      <th>std</th>\n",
       "      <th>mean</th>\n",
       "      <th>std</th>\n",
       "    </tr>\n",
       "    <tr>\n",
       "      <th>Window Open</th>\n",
       "      <th></th>\n",
       "      <th></th>\n",
       "      <th></th>\n",
       "      <th></th>\n",
       "    </tr>\n",
       "  </thead>\n",
       "  <tbody>\n",
       "    <tr>\n",
       "      <th>0</th>\n",
       "      <td>5.752171</td>\n",
       "      <td>4.206669</td>\n",
       "      <td>30.640394</td>\n",
       "      <td>8.547424</td>\n",
       "    </tr>\n",
       "    <tr>\n",
       "      <th>1</th>\n",
       "      <td>6.257008</td>\n",
       "      <td>3.594757</td>\n",
       "      <td>28.279236</td>\n",
       "      <td>7.846737</td>\n",
       "    </tr>\n",
       "  </tbody>\n",
       "</table>\n",
       "</div>"
      ],
      "text/plain": [
       "              T_Delta             RH_Delta          \n",
       "                 mean       std       mean       std\n",
       "Window Open                                         \n",
       "0            5.752171  4.206669  30.640394  8.547424\n",
       "1            6.257008  3.594757  28.279236  7.846737"
      ]
     },
     "execution_count": 5,
     "metadata": {},
     "output_type": "execute_result"
    }
   ],
   "source": [
    "# do some grouping \n",
    "\n",
    "# group by window open vs window closed -> where are the deltas greater \n",
    "df.drop(\"DateTime\", axis=1).groupby([\"Window Open\"]).agg([\"mean\", \"std\"]).loc[:,[\"T_Delta\", \"RH_Delta\"]]"
   ]
  },
  {
   "cell_type": "code",
   "execution_count": 6,
   "metadata": {},
   "outputs": [
    {
     "data": {
      "text/html": [
       "<div>\n",
       "<style scoped>\n",
       "    .dataframe tbody tr th:only-of-type {\n",
       "        vertical-align: middle;\n",
       "    }\n",
       "\n",
       "    .dataframe tbody tr th {\n",
       "        vertical-align: top;\n",
       "    }\n",
       "\n",
       "    .dataframe thead tr th {\n",
       "        text-align: left;\n",
       "    }\n",
       "\n",
       "    .dataframe thead tr:last-of-type th {\n",
       "        text-align: right;\n",
       "    }\n",
       "</style>\n",
       "<table border=\"1\" class=\"dataframe\">\n",
       "  <thead>\n",
       "    <tr>\n",
       "      <th></th>\n",
       "      <th colspan=\"2\" halign=\"left\">T_Delta</th>\n",
       "      <th colspan=\"2\" halign=\"left\">RH_Delta</th>\n",
       "    </tr>\n",
       "    <tr>\n",
       "      <th></th>\n",
       "      <th>mean</th>\n",
       "      <th>std</th>\n",
       "      <th>mean</th>\n",
       "      <th>std</th>\n",
       "    </tr>\n",
       "    <tr>\n",
       "      <th>Room</th>\n",
       "      <th></th>\n",
       "      <th></th>\n",
       "      <th></th>\n",
       "      <th></th>\n",
       "    </tr>\n",
       "  </thead>\n",
       "  <tbody>\n",
       "    <tr>\n",
       "      <th>0</th>\n",
       "      <td>5.729435</td>\n",
       "      <td>3.780207</td>\n",
       "      <td>29.178837</td>\n",
       "      <td>8.143704</td>\n",
       "    </tr>\n",
       "    <tr>\n",
       "      <th>1</th>\n",
       "      <td>6.301897</td>\n",
       "      <td>4.010265</td>\n",
       "      <td>29.637181</td>\n",
       "      <td>8.395411</td>\n",
       "    </tr>\n",
       "  </tbody>\n",
       "</table>\n",
       "</div>"
      ],
      "text/plain": [
       "       T_Delta             RH_Delta          \n",
       "          mean       std       mean       std\n",
       "Room                                         \n",
       "0     5.729435  3.780207  29.178837  8.143704\n",
       "1     6.301897  4.010265  29.637181  8.395411"
      ]
     },
     "execution_count": 6,
     "metadata": {},
     "output_type": "execute_result"
    }
   ],
   "source": [
    "# group by rooms -> where are the deltas greater \n",
    "df.drop(\"DateTime\", axis=1).groupby([\"Room\"]).agg([\"mean\", \"std\"]).loc[:,[\"T_Delta\", \"RH_Delta\"]]"
   ]
  },
  {
   "cell_type": "code",
   "execution_count": 7,
   "metadata": {},
   "outputs": [
    {
     "data": {
      "text/html": [
       "<div>\n",
       "<style scoped>\n",
       "    .dataframe tbody tr th:only-of-type {\n",
       "        vertical-align: middle;\n",
       "    }\n",
       "\n",
       "    .dataframe tbody tr th {\n",
       "        vertical-align: top;\n",
       "    }\n",
       "\n",
       "    .dataframe thead tr th {\n",
       "        text-align: left;\n",
       "    }\n",
       "\n",
       "    .dataframe thead tr:last-of-type th {\n",
       "        text-align: right;\n",
       "    }\n",
       "</style>\n",
       "<table border=\"1\" class=\"dataframe\">\n",
       "  <thead>\n",
       "    <tr>\n",
       "      <th></th>\n",
       "      <th></th>\n",
       "      <th colspan=\"2\" halign=\"left\">T_Delta</th>\n",
       "      <th colspan=\"2\" halign=\"left\">RH_Delta</th>\n",
       "    </tr>\n",
       "    <tr>\n",
       "      <th></th>\n",
       "      <th></th>\n",
       "      <th>mean</th>\n",
       "      <th>std</th>\n",
       "      <th>mean</th>\n",
       "      <th>std</th>\n",
       "    </tr>\n",
       "    <tr>\n",
       "      <th>Window Open</th>\n",
       "      <th>Room</th>\n",
       "      <th></th>\n",
       "      <th></th>\n",
       "      <th></th>\n",
       "      <th></th>\n",
       "    </tr>\n",
       "  </thead>\n",
       "  <tbody>\n",
       "    <tr>\n",
       "      <th rowspan=\"2\" valign=\"top\">0</th>\n",
       "      <th>0</th>\n",
       "      <td>1.603624</td>\n",
       "      <td>4.786734</td>\n",
       "      <td>37.193811</td>\n",
       "      <td>7.443892</td>\n",
       "    </tr>\n",
       "    <tr>\n",
       "      <th>1</th>\n",
       "      <td>6.059046</td>\n",
       "      <td>3.992906</td>\n",
       "      <td>30.155626</td>\n",
       "      <td>8.423356</td>\n",
       "    </tr>\n",
       "    <tr>\n",
       "      <th rowspan=\"2\" valign=\"top\">1</th>\n",
       "      <th>0</th>\n",
       "      <td>6.020292</td>\n",
       "      <td>3.521054</td>\n",
       "      <td>28.613806</td>\n",
       "      <td>7.889349</td>\n",
       "    </tr>\n",
       "    <tr>\n",
       "      <th>1</th>\n",
       "      <td>8.272099</td>\n",
       "      <td>3.584829</td>\n",
       "      <td>25.431145</td>\n",
       "      <td>6.841461</td>\n",
       "    </tr>\n",
       "  </tbody>\n",
       "</table>\n",
       "</div>"
      ],
      "text/plain": [
       "                   T_Delta             RH_Delta          \n",
       "                      mean       std       mean       std\n",
       "Window Open Room                                         \n",
       "0           0     1.603624  4.786734  37.193811  7.443892\n",
       "            1     6.059046  3.992906  30.155626  8.423356\n",
       "1           0     6.020292  3.521054  28.613806  7.889349\n",
       "            1     8.272099  3.584829  25.431145  6.841461"
      ]
     },
     "execution_count": 7,
     "metadata": {},
     "output_type": "execute_result"
    }
   ],
   "source": [
    "# group by window open vs window closed and rooms -> where are the deltas greater \n",
    "df.drop(\"DateTime\", axis=1).groupby([\"Window Open\", \"Room\"]).agg([\"mean\", \"std\"]).loc[:,[\"T_Delta\", \"RH_Delta\"]]"
   ]
  },
  {
   "cell_type": "markdown",
   "metadata": {},
   "source": [
    "# Group data at various time intervals "
   ]
  },
  {
   "cell_type": "markdown",
   "metadata": {},
   "source": [
    "## hourly "
   ]
  },
  {
   "cell_type": "code",
   "execution_count": 8,
   "metadata": {},
   "outputs": [],
   "source": [
    "times = pd.to_datetime(df.DateTime)"
   ]
  },
  {
   "cell_type": "code",
   "execution_count": 9,
   "metadata": {},
   "outputs": [
    {
     "data": {
      "text/html": [
       "<div>\n",
       "<style scoped>\n",
       "    .dataframe tbody tr th:only-of-type {\n",
       "        vertical-align: middle;\n",
       "    }\n",
       "\n",
       "    .dataframe tbody tr th {\n",
       "        vertical-align: top;\n",
       "    }\n",
       "\n",
       "    .dataframe thead th {\n",
       "        text-align: right;\n",
       "    }\n",
       "</style>\n",
       "<table border=\"1\" class=\"dataframe\">\n",
       "  <thead>\n",
       "    <tr style=\"text-align: right;\">\n",
       "      <th></th>\n",
       "      <th></th>\n",
       "      <th></th>\n",
       "      <th>Temp C</th>\n",
       "      <th>RH %</th>\n",
       "      <th>Ambient Temp</th>\n",
       "      <th>Ambient RH</th>\n",
       "      <th>Window Open</th>\n",
       "      <th>T_Delta</th>\n",
       "      <th>RH_Delta</th>\n",
       "    </tr>\n",
       "    <tr>\n",
       "      <th>DateTime</th>\n",
       "      <th>DateTime</th>\n",
       "      <th>Room</th>\n",
       "      <th></th>\n",
       "      <th></th>\n",
       "      <th></th>\n",
       "      <th></th>\n",
       "      <th></th>\n",
       "      <th></th>\n",
       "      <th></th>\n",
       "    </tr>\n",
       "  </thead>\n",
       "  <tbody>\n",
       "    <tr>\n",
       "      <th rowspan=\"5\" valign=\"top\">2022-07-20</th>\n",
       "      <th rowspan=\"2\" valign=\"top\">7</th>\n",
       "      <th>0</th>\n",
       "      <td>23.326400</td>\n",
       "      <td>51.622238</td>\n",
       "      <td>14.333333</td>\n",
       "      <td>30.555556</td>\n",
       "      <td>1.0000</td>\n",
       "      <td>8.993067</td>\n",
       "      <td>21.066682</td>\n",
       "    </tr>\n",
       "    <tr>\n",
       "      <th>1</th>\n",
       "      <td>23.422100</td>\n",
       "      <td>52.867775</td>\n",
       "      <td>14.333333</td>\n",
       "      <td>30.555556</td>\n",
       "      <td>0.2375</td>\n",
       "      <td>9.088767</td>\n",
       "      <td>22.312219</td>\n",
       "    </tr>\n",
       "    <tr>\n",
       "      <th rowspan=\"2\" valign=\"top\">8</th>\n",
       "      <th>0</th>\n",
       "      <td>23.736167</td>\n",
       "      <td>50.783575</td>\n",
       "      <td>14.666667</td>\n",
       "      <td>30.555556</td>\n",
       "      <td>1.0000</td>\n",
       "      <td>9.069500</td>\n",
       "      <td>20.228019</td>\n",
       "    </tr>\n",
       "    <tr>\n",
       "      <th>1</th>\n",
       "      <td>23.740725</td>\n",
       "      <td>52.640442</td>\n",
       "      <td>14.666667</td>\n",
       "      <td>30.555556</td>\n",
       "      <td>1.0000</td>\n",
       "      <td>9.074058</td>\n",
       "      <td>22.084886</td>\n",
       "    </tr>\n",
       "    <tr>\n",
       "      <th>9</th>\n",
       "      <th>0</th>\n",
       "      <td>24.307792</td>\n",
       "      <td>50.038683</td>\n",
       "      <td>15.388889</td>\n",
       "      <td>28.888889</td>\n",
       "      <td>1.0000</td>\n",
       "      <td>8.918903</td>\n",
       "      <td>21.149794</td>\n",
       "    </tr>\n",
       "  </tbody>\n",
       "</table>\n",
       "</div>"
      ],
      "text/plain": [
       "                             Temp C       RH %  Ambient Temp  Ambient RH  \\\n",
       "DateTime   DateTime Room                                                   \n",
       "2022-07-20 7        0     23.326400  51.622238     14.333333   30.555556   \n",
       "                    1     23.422100  52.867775     14.333333   30.555556   \n",
       "           8        0     23.736167  50.783575     14.666667   30.555556   \n",
       "                    1     23.740725  52.640442     14.666667   30.555556   \n",
       "           9        0     24.307792  50.038683     15.388889   28.888889   \n",
       "\n",
       "                          Window Open   T_Delta   RH_Delta  \n",
       "DateTime   DateTime Room                                    \n",
       "2022-07-20 7        0          1.0000  8.993067  21.066682  \n",
       "                    1          0.2375  9.088767  22.312219  \n",
       "           8        0          1.0000  9.069500  20.228019  \n",
       "                    1          1.0000  9.074058  22.084886  \n",
       "           9        0          1.0000  8.918903  21.149794  "
      ]
     },
     "execution_count": 9,
     "metadata": {},
     "output_type": "execute_result"
    }
   ],
   "source": [
    "# aggregate data based on hour and room \n",
    "df_hour = df.groupby([times.dt.date, times.dt.hour, \"Room\"]).mean()\n",
    "df_hour.head()"
   ]
  },
  {
   "cell_type": "markdown",
   "metadata": {},
   "source": [
    "## half-hourly"
   ]
  },
  {
   "cell_type": "code",
   "execution_count": 10,
   "metadata": {},
   "outputs": [],
   "source": [
    "def make_df_with_freq(df, freq):\n",
    "    dftime = df.copy()\n",
    "\n",
    "    # transform datetime index to actual pandas datetime, and set as index of dataframe \n",
    "    dftime[\"DateTime\"] = pd.to_datetime(dftime[\"DateTime\"])\n",
    "    dftime.set_index(\"DateTime\", inplace=True)\n",
    "\n",
    "    # resample the dataframe to group by the correct index and drop nans\n",
    "    dftime_freq = dftime.groupby(\"Room\").resample(freq).mean()\n",
    "    dftime_freq.dropna(inplace=True)\n",
    "\n",
    "    # map window variables to 0 or 1\n",
    "    dftime_freq[\"Window Open\"] = dftime_freq[\"Window Open\"].round()\n",
    "\n",
    "    return dftime_freq\n"
   ]
  },
  {
   "cell_type": "code",
   "execution_count": 11,
   "metadata": {},
   "outputs": [
    {
     "data": {
      "text/html": [
       "<div>\n",
       "<style scoped>\n",
       "    .dataframe tbody tr th:only-of-type {\n",
       "        vertical-align: middle;\n",
       "    }\n",
       "\n",
       "    .dataframe tbody tr th {\n",
       "        vertical-align: top;\n",
       "    }\n",
       "\n",
       "    .dataframe thead th {\n",
       "        text-align: right;\n",
       "    }\n",
       "</style>\n",
       "<table border=\"1\" class=\"dataframe\">\n",
       "  <thead>\n",
       "    <tr style=\"text-align: right;\">\n",
       "      <th></th>\n",
       "      <th></th>\n",
       "      <th>Temp C</th>\n",
       "      <th>RH %</th>\n",
       "      <th>Room</th>\n",
       "      <th>Ambient Temp</th>\n",
       "      <th>Ambient RH</th>\n",
       "      <th>Window Open</th>\n",
       "      <th>T_Delta</th>\n",
       "      <th>RH_Delta</th>\n",
       "    </tr>\n",
       "    <tr>\n",
       "      <th>Room</th>\n",
       "      <th>DateTime</th>\n",
       "      <th></th>\n",
       "      <th></th>\n",
       "      <th></th>\n",
       "      <th></th>\n",
       "      <th></th>\n",
       "      <th></th>\n",
       "      <th></th>\n",
       "      <th></th>\n",
       "    </tr>\n",
       "  </thead>\n",
       "  <tbody>\n",
       "    <tr>\n",
       "      <th rowspan=\"5\" valign=\"top\">0</th>\n",
       "      <th>2022-07-20 07:00:00</th>\n",
       "      <td>23.180600</td>\n",
       "      <td>51.421100</td>\n",
       "      <td>0.0</td>\n",
       "      <td>14.333333</td>\n",
       "      <td>30.555556</td>\n",
       "      <td>1.0</td>\n",
       "      <td>8.847267</td>\n",
       "      <td>20.865544</td>\n",
       "    </tr>\n",
       "    <tr>\n",
       "      <th>2022-07-20 07:30:00</th>\n",
       "      <td>23.375000</td>\n",
       "      <td>51.689283</td>\n",
       "      <td>0.0</td>\n",
       "      <td>14.333333</td>\n",
       "      <td>30.555556</td>\n",
       "      <td>1.0</td>\n",
       "      <td>9.041667</td>\n",
       "      <td>21.133728</td>\n",
       "    </tr>\n",
       "    <tr>\n",
       "      <th>2022-07-20 08:00:00</th>\n",
       "      <td>23.581400</td>\n",
       "      <td>51.084233</td>\n",
       "      <td>0.0</td>\n",
       "      <td>14.666667</td>\n",
       "      <td>30.555556</td>\n",
       "      <td>1.0</td>\n",
       "      <td>8.914733</td>\n",
       "      <td>20.528678</td>\n",
       "    </tr>\n",
       "    <tr>\n",
       "      <th>2022-07-20 08:30:00</th>\n",
       "      <td>23.890933</td>\n",
       "      <td>50.482917</td>\n",
       "      <td>0.0</td>\n",
       "      <td>14.666667</td>\n",
       "      <td>30.555556</td>\n",
       "      <td>1.0</td>\n",
       "      <td>9.224267</td>\n",
       "      <td>19.927361</td>\n",
       "    </tr>\n",
       "    <tr>\n",
       "      <th>2022-07-20 09:00:00</th>\n",
       "      <td>24.194967</td>\n",
       "      <td>50.202333</td>\n",
       "      <td>0.0</td>\n",
       "      <td>15.388889</td>\n",
       "      <td>28.888889</td>\n",
       "      <td>1.0</td>\n",
       "      <td>8.806078</td>\n",
       "      <td>21.313444</td>\n",
       "    </tr>\n",
       "    <tr>\n",
       "      <th>...</th>\n",
       "      <th>...</th>\n",
       "      <td>...</td>\n",
       "      <td>...</td>\n",
       "      <td>...</td>\n",
       "      <td>...</td>\n",
       "      <td>...</td>\n",
       "      <td>...</td>\n",
       "      <td>...</td>\n",
       "      <td>...</td>\n",
       "    </tr>\n",
       "    <tr>\n",
       "      <th rowspan=\"5\" valign=\"top\">1</th>\n",
       "      <th>2022-09-11 06:00:00</th>\n",
       "      <td>29.271000</td>\n",
       "      <td>50.757817</td>\n",
       "      <td>1.0</td>\n",
       "      <td>19.500000</td>\n",
       "      <td>30.000000</td>\n",
       "      <td>0.0</td>\n",
       "      <td>9.771000</td>\n",
       "      <td>20.757817</td>\n",
       "    </tr>\n",
       "    <tr>\n",
       "      <th>2022-09-11 06:30:00</th>\n",
       "      <td>29.255583</td>\n",
       "      <td>50.776800</td>\n",
       "      <td>1.0</td>\n",
       "      <td>19.500000</td>\n",
       "      <td>30.000000</td>\n",
       "      <td>0.0</td>\n",
       "      <td>9.755583</td>\n",
       "      <td>20.776800</td>\n",
       "    </tr>\n",
       "    <tr>\n",
       "      <th>2022-09-11 07:00:00</th>\n",
       "      <td>29.241833</td>\n",
       "      <td>50.811517</td>\n",
       "      <td>1.0</td>\n",
       "      <td>19.611111</td>\n",
       "      <td>30.000000</td>\n",
       "      <td>0.0</td>\n",
       "      <td>9.630722</td>\n",
       "      <td>20.811517</td>\n",
       "    </tr>\n",
       "    <tr>\n",
       "      <th>2022-09-11 07:30:00</th>\n",
       "      <td>29.219333</td>\n",
       "      <td>50.808100</td>\n",
       "      <td>1.0</td>\n",
       "      <td>19.611111</td>\n",
       "      <td>30.000000</td>\n",
       "      <td>0.0</td>\n",
       "      <td>9.608222</td>\n",
       "      <td>20.808100</td>\n",
       "    </tr>\n",
       "    <tr>\n",
       "      <th>2022-09-11 08:00:00</th>\n",
       "      <td>29.196000</td>\n",
       "      <td>50.796000</td>\n",
       "      <td>1.0</td>\n",
       "      <td>19.833333</td>\n",
       "      <td>30.000000</td>\n",
       "      <td>0.0</td>\n",
       "      <td>9.362667</td>\n",
       "      <td>20.796000</td>\n",
       "    </tr>\n",
       "  </tbody>\n",
       "</table>\n",
       "<p>2066 rows × 8 columns</p>\n",
       "</div>"
      ],
      "text/plain": [
       "                             Temp C       RH %  Room  Ambient Temp  \\\n",
       "Room DateTime                                                        \n",
       "0    2022-07-20 07:00:00  23.180600  51.421100   0.0     14.333333   \n",
       "     2022-07-20 07:30:00  23.375000  51.689283   0.0     14.333333   \n",
       "     2022-07-20 08:00:00  23.581400  51.084233   0.0     14.666667   \n",
       "     2022-07-20 08:30:00  23.890933  50.482917   0.0     14.666667   \n",
       "     2022-07-20 09:00:00  24.194967  50.202333   0.0     15.388889   \n",
       "...                             ...        ...   ...           ...   \n",
       "1    2022-09-11 06:00:00  29.271000  50.757817   1.0     19.500000   \n",
       "     2022-09-11 06:30:00  29.255583  50.776800   1.0     19.500000   \n",
       "     2022-09-11 07:00:00  29.241833  50.811517   1.0     19.611111   \n",
       "     2022-09-11 07:30:00  29.219333  50.808100   1.0     19.611111   \n",
       "     2022-09-11 08:00:00  29.196000  50.796000   1.0     19.833333   \n",
       "\n",
       "                          Ambient RH  Window Open   T_Delta   RH_Delta  \n",
       "Room DateTime                                                           \n",
       "0    2022-07-20 07:00:00   30.555556          1.0  8.847267  20.865544  \n",
       "     2022-07-20 07:30:00   30.555556          1.0  9.041667  21.133728  \n",
       "     2022-07-20 08:00:00   30.555556          1.0  8.914733  20.528678  \n",
       "     2022-07-20 08:30:00   30.555556          1.0  9.224267  19.927361  \n",
       "     2022-07-20 09:00:00   28.888889          1.0  8.806078  21.313444  \n",
       "...                              ...          ...       ...        ...  \n",
       "1    2022-09-11 06:00:00   30.000000          0.0  9.771000  20.757817  \n",
       "     2022-09-11 06:30:00   30.000000          0.0  9.755583  20.776800  \n",
       "     2022-09-11 07:00:00   30.000000          0.0  9.630722  20.811517  \n",
       "     2022-09-11 07:30:00   30.000000          0.0  9.608222  20.808100  \n",
       "     2022-09-11 08:00:00   30.000000          0.0  9.362667  20.796000  \n",
       "\n",
       "[2066 rows x 8 columns]"
      ]
     },
     "execution_count": 11,
     "metadata": {},
     "output_type": "execute_result"
    }
   ],
   "source": [
    "df_30min = make_df_with_freq(df, \"30T\")\n",
    "df_15min = make_df_with_freq(df, \"15T\")\n",
    "df_15min = make_df_with_freq(df, \"15T\")\n",
    "df_30min"
   ]
  },
  {
   "cell_type": "code",
   "execution_count": 12,
   "metadata": {},
   "outputs": [],
   "source": [
    "freqs = [\"60T\", \"30T\", \"15T\", \"10T\", \"5T\", \"1T\", \"30s\"]\n",
    "df_freq_dict = {}\n",
    "for freq in freqs:\n",
    "    df_freq_dict[freq] = make_df_with_freq(df, freq)"
   ]
  },
  {
   "cell_type": "markdown",
   "metadata": {},
   "source": [
    "## create data for classification "
   ]
  },
  {
   "cell_type": "code",
   "execution_count": 27,
   "metadata": {},
   "outputs": [],
   "source": [
    "def make_univ_classif_data(df, x_var, y_var, seed=42):\n",
    "    \"\"\"make univariate classification data, split data into train and test and assert they have the right shapes.. \"\"\"\n",
    "    x = df.loc[:, [x_var]]\n",
    "    y = df.loc[:, y_var]\n",
    "\n",
    "    # convert from pandas series to numpy and reshape \n",
    "    xnp = x.to_numpy().flatten().reshape(-1, 1)\n",
    "    ynp = y.to_numpy()\n",
    "    # turn into categorical variable TODO -> better with np masks.... \n",
    "    ynp = np.array([0 if i < 0.5 else 1 for i in ynp ])\n",
    "\n",
    "    # assert that shapes are as needed for processing \n",
    "    assert(xnp.shape == (len(xnp),1))\n",
    "    assert(ynp.shape == (len(ynp),))\n",
    "\n",
    "    # split into test and training groups \n",
    "    x_train, x_test, y_train, y_test = train_test_split(xnp, ynp,test_size=0.2, random_state=seed)\n",
    "\n",
    "    data_dict = {\n",
    "        \"x_train\": x_train,\n",
    "        \"x_test\": x_test,\n",
    "        \"x_all\": xnp,\n",
    "        \"y_train\": y_train,\n",
    "        \"y_test\": y_test,\n",
    "        \"y_train\": y_train,\n",
    "        \"y_all\": ynp\n",
    "    }\n",
    "\n",
    "    return data_dict\n",
    "\n"
   ]
  },
  {
   "cell_type": "markdown",
   "metadata": {},
   "source": [
    "### sklearn logistic regression "
   ]
  },
  {
   "cell_type": "code",
   "execution_count": 33,
   "metadata": {},
   "outputs": [],
   "source": [
    "def run_log_reg(data):\n",
    "    \"runs logistic regression and note performance, taking in dictionary of required data \"\n",
    "    # TODO -> assertions that data is in correct format \n",
    "    logReg = LogisticRegression()\n",
    "    logReg.fit(data[\"x_train\"], data[\"y_train\"])\n",
    "    score = logReg.score(data[\"x_test\"], data[\"y_test\"])\n",
    "    return score \n",
    "\n",
    "def run_cv_log_reg(data):\n",
    "    \"runs logistic regression and note cross-validated performance, taking in dictionary of required data \"\n",
    "    # TODO -> assertions that data is in correct format \n",
    "    logReg = LogisticRegression()\n",
    "    logReg.fit(data[\"x_all\"], data[\"y_all\"])\n",
    "    # perform cross validation, \n",
    "    # TODO make sure this is doing the right thing????\n",
    "    scores = cross_val_score(logReg, data[\"x_all\"], data[\"y_all\"], cv=5)\n",
    "    # return mean and confidence interval (assuming normal distribution)\n",
    "    return (np.round(np.mean(scores), 3), np.round(1.96*sem(scores),3))"
   ]
  },
  {
   "cell_type": "code",
   "execution_count": 29,
   "metadata": {},
   "outputs": [
    {
     "data": {
      "text/plain": [
       "(0.591, 0.0588)"
      ]
     },
     "execution_count": 29,
     "metadata": {},
     "output_type": "execute_result"
    }
   ],
   "source": [
    "d = make_univ_classif_data(df_freq_dict[\"30T\"], \"Temp C\", \"Window Open\")\n",
    "scores = run_cv_log_reg(d)\n",
    "scores"
   ]
  },
  {
   "cell_type": "code",
   "execution_count": 30,
   "metadata": {},
   "outputs": [],
   "source": [
    "def see_scores(seed=42):\n",
    "    features = ['Temp C', 'RH %', 'Ambient Temp', 'Ambient RH', 'T_Delta', 'RH_Delta']\n",
    "    df_freq_scores = {}\n",
    "    for k,v in df_freq_dict.items():\n",
    "        feature_scores = {}\n",
    "        for feature in features:\n",
    "            d = make_univ_classif_data(v, feature, \"Window Open\", seed)\n",
    "            score = run_log_reg(d)\n",
    "            feature_scores[feature] = np.round(score,3)\n",
    "        df_freq_scores[k] = feature_scores\n",
    "\n",
    "    return pd.DataFrame(df_freq_scores)"
   ]
  },
  {
   "cell_type": "markdown",
   "metadata": {},
   "source": [
    "## cross validated scores of models trained with different features and at various frequency intervals "
   ]
  },
  {
   "cell_type": "code",
   "execution_count": 31,
   "metadata": {},
   "outputs": [],
   "source": [
    "def see_cv_scores():\n",
    "    features = ['Temp C', 'RH %', 'Ambient Temp', 'Ambient RH', 'T_Delta', 'RH_Delta']\n",
    "    df_freq_scores = {}\n",
    "    for k,v in df_freq_dict.items():\n",
    "        feature_scores = {}\n",
    "        for feature in features:\n",
    "            d = make_univ_classif_data(v, feature, \"Window Open\")\n",
    "            score_stats = run_cv_log_reg(d)\n",
    "            feature_scores[feature] = score_stats\n",
    "        df_freq_scores[k] = feature_scores\n",
    "\n",
    "    return pd.DataFrame(df_freq_scores)"
   ]
  },
  {
   "cell_type": "code",
   "execution_count": 34,
   "metadata": {},
   "outputs": [
    {
     "data": {
      "text/html": [
       "<div>\n",
       "<style scoped>\n",
       "    .dataframe tbody tr th:only-of-type {\n",
       "        vertical-align: middle;\n",
       "    }\n",
       "\n",
       "    .dataframe tbody tr th {\n",
       "        vertical-align: top;\n",
       "    }\n",
       "\n",
       "    .dataframe thead th {\n",
       "        text-align: right;\n",
       "    }\n",
       "</style>\n",
       "<table border=\"1\" class=\"dataframe\">\n",
       "  <thead>\n",
       "    <tr style=\"text-align: right;\">\n",
       "      <th></th>\n",
       "      <th>60T</th>\n",
       "      <th>30T</th>\n",
       "      <th>15T</th>\n",
       "      <th>10T</th>\n",
       "      <th>5T</th>\n",
       "      <th>1T</th>\n",
       "      <th>30s</th>\n",
       "    </tr>\n",
       "  </thead>\n",
       "  <tbody>\n",
       "    <tr>\n",
       "      <th>Temp C</th>\n",
       "      <td>(0.591, 0.065)</td>\n",
       "      <td>(0.591, 0.06)</td>\n",
       "      <td>(0.593, 0.059)</td>\n",
       "      <td>(0.592, 0.059)</td>\n",
       "      <td>(0.592, 0.058)</td>\n",
       "      <td>(0.592, 0.059)</td>\n",
       "      <td>(0.592, 0.06)</td>\n",
       "    </tr>\n",
       "    <tr>\n",
       "      <th>RH %</th>\n",
       "      <td>(0.509, 0.016)</td>\n",
       "      <td>(0.504, 0.017)</td>\n",
       "      <td>(0.503, 0.021)</td>\n",
       "      <td>(0.506, 0.015)</td>\n",
       "      <td>(0.506, 0.015)</td>\n",
       "      <td>(0.507, 0.014)</td>\n",
       "      <td>(0.507, 0.014)</td>\n",
       "    </tr>\n",
       "    <tr>\n",
       "      <th>Ambient Temp</th>\n",
       "      <td>(0.555, 0.049)</td>\n",
       "      <td>(0.554, 0.046)</td>\n",
       "      <td>(0.554, 0.046)</td>\n",
       "      <td>(0.554, 0.045)</td>\n",
       "      <td>(0.554, 0.046)</td>\n",
       "      <td>(0.554, 0.046)</td>\n",
       "      <td>(0.554, 0.046)</td>\n",
       "    </tr>\n",
       "    <tr>\n",
       "      <th>Ambient RH</th>\n",
       "      <td>(0.544, 0.033)</td>\n",
       "      <td>(0.545, 0.035)</td>\n",
       "      <td>(0.544, 0.032)</td>\n",
       "      <td>(0.544, 0.031)</td>\n",
       "      <td>(0.544, 0.031)</td>\n",
       "      <td>(0.544, 0.031)</td>\n",
       "      <td>(0.543, 0.032)</td>\n",
       "    </tr>\n",
       "    <tr>\n",
       "      <th>T_Delta</th>\n",
       "      <td>(0.528, 0.033)</td>\n",
       "      <td>(0.523, 0.031)</td>\n",
       "      <td>(0.522, 0.033)</td>\n",
       "      <td>(0.522, 0.032)</td>\n",
       "      <td>(0.523, 0.033)</td>\n",
       "      <td>(0.523, 0.033)</td>\n",
       "      <td>(0.524, 0.032)</td>\n",
       "    </tr>\n",
       "    <tr>\n",
       "      <th>RH_Delta</th>\n",
       "      <td>(0.547, 0.039)</td>\n",
       "      <td>(0.547, 0.04)</td>\n",
       "      <td>(0.546, 0.04)</td>\n",
       "      <td>(0.547, 0.04)</td>\n",
       "      <td>(0.546, 0.039)</td>\n",
       "      <td>(0.547, 0.04)</td>\n",
       "      <td>(0.547, 0.039)</td>\n",
       "    </tr>\n",
       "  </tbody>\n",
       "</table>\n",
       "</div>"
      ],
      "text/plain": [
       "                         60T             30T             15T             10T  \\\n",
       "Temp C        (0.591, 0.065)   (0.591, 0.06)  (0.593, 0.059)  (0.592, 0.059)   \n",
       "RH %          (0.509, 0.016)  (0.504, 0.017)  (0.503, 0.021)  (0.506, 0.015)   \n",
       "Ambient Temp  (0.555, 0.049)  (0.554, 0.046)  (0.554, 0.046)  (0.554, 0.045)   \n",
       "Ambient RH    (0.544, 0.033)  (0.545, 0.035)  (0.544, 0.032)  (0.544, 0.031)   \n",
       "T_Delta       (0.528, 0.033)  (0.523, 0.031)  (0.522, 0.033)  (0.522, 0.032)   \n",
       "RH_Delta      (0.547, 0.039)   (0.547, 0.04)   (0.546, 0.04)   (0.547, 0.04)   \n",
       "\n",
       "                          5T              1T             30s  \n",
       "Temp C        (0.592, 0.058)  (0.592, 0.059)   (0.592, 0.06)  \n",
       "RH %          (0.506, 0.015)  (0.507, 0.014)  (0.507, 0.014)  \n",
       "Ambient Temp  (0.554, 0.046)  (0.554, 0.046)  (0.554, 0.046)  \n",
       "Ambient RH    (0.544, 0.031)  (0.544, 0.031)  (0.543, 0.032)  \n",
       "T_Delta       (0.523, 0.033)  (0.523, 0.033)  (0.524, 0.032)  \n",
       "RH_Delta      (0.546, 0.039)   (0.547, 0.04)  (0.547, 0.039)  "
      ]
     },
     "execution_count": 34,
     "metadata": {},
     "output_type": "execute_result"
    }
   ],
   "source": [
    "a = see_cv_scores() \n",
    "a"
   ]
  },
  {
   "cell_type": "markdown",
   "metadata": {},
   "source": [
    "## plot performance of temperature feature across frequencies "
   ]
  },
  {
   "cell_type": "code",
   "execution_count": 19,
   "metadata": {},
   "outputs": [],
   "source": [
    "def see_freq_perf():\n",
    "    a = see_cv_scores()\n",
    "    means = [i[0] for i in a.loc[\"Temp C\", :]]\n",
    "    error = [i[1] for i in a.loc[\"Temp C\", :]]\n",
    "\n",
    "    x = [\"1hr\", \"30mins\", \"15mins\", \"10mins\", \"5mins\", \"1min\", \"30sec\"]\n",
    "    y = means\n",
    "    y_upper = [a+b for a,b in zip(means, error)]\n",
    "    y_lower = [a-b for a,b in zip(means, error)]\n",
    "\n",
    "    fig = go.Figure([\n",
    "        go.Scatter(\n",
    "            name='Average Score - 5 Fold Cross Validation',\n",
    "            x=x,\n",
    "            y=y,\n",
    "            mode='lines',\n",
    "            line=dict(color='rgb(31, 119, 180)'),\n",
    "        ),\n",
    "        go.Scatter(\n",
    "            name='Upper Bound',\n",
    "            x=x,\n",
    "            y=y_upper,\n",
    "            mode='lines',\n",
    "            marker=dict(color=\"#444\"),\n",
    "            line=dict(width=0),\n",
    "            showlegend=False\n",
    "        ),\n",
    "        go.Scatter(\n",
    "            name='Lower Bound',\n",
    "            x=x,\n",
    "            y=y_lower,\n",
    "            marker=dict(color=\"#444\"),\n",
    "            line=dict(width=0),\n",
    "            mode='lines',\n",
    "            fillcolor='rgba(68, 68, 68, 0.3)',\n",
    "            fill='tonexty',\n",
    "            showlegend=False\n",
    "        )\n",
    "    ])\n",
    "    fig.update_layout(\n",
    "        yaxis_title='Model Accuracy',\n",
    "        title=f'Logistic Regression Performance for Various Time Intervals',\n",
    "        hovermode=\"x\"\n",
    "    )\n",
    "    fig.show()"
   ]
  },
  {
   "cell_type": "code",
   "execution_count": 35,
   "metadata": {},
   "outputs": [
    {
     "data": {
      "application/vnd.plotly.v1+json": {
       "config": {
        "plotlyServerURL": "https://plotly.com"
       },
       "data": [
        {
         "line": {
          "color": "rgb(31, 119, 180)"
         },
         "mode": "lines",
         "name": "Average Score - 5 Fold Cross Validation",
         "type": "scatter",
         "x": [
          "1hr",
          "30mins",
          "15mins",
          "10mins",
          "5mins",
          "1min",
          "30sec"
         ],
         "y": [
          0.591,
          0.591,
          0.593,
          0.592,
          0.592,
          0.592,
          0.592
         ]
        },
        {
         "line": {
          "width": 0
         },
         "marker": {
          "color": "#444"
         },
         "mode": "lines",
         "name": "Upper Bound",
         "showlegend": false,
         "type": "scatter",
         "x": [
          "1hr",
          "30mins",
          "15mins",
          "10mins",
          "5mins",
          "1min",
          "30sec"
         ],
         "y": [
          0.6559999999999999,
          0.651,
          0.6519999999999999,
          0.651,
          0.65,
          0.651,
          0.6519999999999999
         ]
        },
        {
         "fill": "tonexty",
         "fillcolor": "rgba(68, 68, 68, 0.3)",
         "line": {
          "width": 0
         },
         "marker": {
          "color": "#444"
         },
         "mode": "lines",
         "name": "Lower Bound",
         "showlegend": false,
         "type": "scatter",
         "x": [
          "1hr",
          "30mins",
          "15mins",
          "10mins",
          "5mins",
          "1min",
          "30sec"
         ],
         "y": [
          0.526,
          0.5309999999999999,
          0.534,
          0.5329999999999999,
          0.5339999999999999,
          0.5329999999999999,
          0.532
         ]
        }
       ],
       "layout": {
        "hovermode": "x",
        "template": {
         "data": {
          "bar": [
           {
            "error_x": {
             "color": "#2a3f5f"
            },
            "error_y": {
             "color": "#2a3f5f"
            },
            "marker": {
             "line": {
              "color": "#E5ECF6",
              "width": 0.5
             },
             "pattern": {
              "fillmode": "overlay",
              "size": 10,
              "solidity": 0.2
             }
            },
            "type": "bar"
           }
          ],
          "barpolar": [
           {
            "marker": {
             "line": {
              "color": "#E5ECF6",
              "width": 0.5
             },
             "pattern": {
              "fillmode": "overlay",
              "size": 10,
              "solidity": 0.2
             }
            },
            "type": "barpolar"
           }
          ],
          "carpet": [
           {
            "aaxis": {
             "endlinecolor": "#2a3f5f",
             "gridcolor": "white",
             "linecolor": "white",
             "minorgridcolor": "white",
             "startlinecolor": "#2a3f5f"
            },
            "baxis": {
             "endlinecolor": "#2a3f5f",
             "gridcolor": "white",
             "linecolor": "white",
             "minorgridcolor": "white",
             "startlinecolor": "#2a3f5f"
            },
            "type": "carpet"
           }
          ],
          "choropleth": [
           {
            "colorbar": {
             "outlinewidth": 0,
             "ticks": ""
            },
            "type": "choropleth"
           }
          ],
          "contour": [
           {
            "colorbar": {
             "outlinewidth": 0,
             "ticks": ""
            },
            "colorscale": [
             [
              0,
              "#0d0887"
             ],
             [
              0.1111111111111111,
              "#46039f"
             ],
             [
              0.2222222222222222,
              "#7201a8"
             ],
             [
              0.3333333333333333,
              "#9c179e"
             ],
             [
              0.4444444444444444,
              "#bd3786"
             ],
             [
              0.5555555555555556,
              "#d8576b"
             ],
             [
              0.6666666666666666,
              "#ed7953"
             ],
             [
              0.7777777777777778,
              "#fb9f3a"
             ],
             [
              0.8888888888888888,
              "#fdca26"
             ],
             [
              1,
              "#f0f921"
             ]
            ],
            "type": "contour"
           }
          ],
          "contourcarpet": [
           {
            "colorbar": {
             "outlinewidth": 0,
             "ticks": ""
            },
            "type": "contourcarpet"
           }
          ],
          "heatmap": [
           {
            "colorbar": {
             "outlinewidth": 0,
             "ticks": ""
            },
            "colorscale": [
             [
              0,
              "#0d0887"
             ],
             [
              0.1111111111111111,
              "#46039f"
             ],
             [
              0.2222222222222222,
              "#7201a8"
             ],
             [
              0.3333333333333333,
              "#9c179e"
             ],
             [
              0.4444444444444444,
              "#bd3786"
             ],
             [
              0.5555555555555556,
              "#d8576b"
             ],
             [
              0.6666666666666666,
              "#ed7953"
             ],
             [
              0.7777777777777778,
              "#fb9f3a"
             ],
             [
              0.8888888888888888,
              "#fdca26"
             ],
             [
              1,
              "#f0f921"
             ]
            ],
            "type": "heatmap"
           }
          ],
          "heatmapgl": [
           {
            "colorbar": {
             "outlinewidth": 0,
             "ticks": ""
            },
            "colorscale": [
             [
              0,
              "#0d0887"
             ],
             [
              0.1111111111111111,
              "#46039f"
             ],
             [
              0.2222222222222222,
              "#7201a8"
             ],
             [
              0.3333333333333333,
              "#9c179e"
             ],
             [
              0.4444444444444444,
              "#bd3786"
             ],
             [
              0.5555555555555556,
              "#d8576b"
             ],
             [
              0.6666666666666666,
              "#ed7953"
             ],
             [
              0.7777777777777778,
              "#fb9f3a"
             ],
             [
              0.8888888888888888,
              "#fdca26"
             ],
             [
              1,
              "#f0f921"
             ]
            ],
            "type": "heatmapgl"
           }
          ],
          "histogram": [
           {
            "marker": {
             "pattern": {
              "fillmode": "overlay",
              "size": 10,
              "solidity": 0.2
             }
            },
            "type": "histogram"
           }
          ],
          "histogram2d": [
           {
            "colorbar": {
             "outlinewidth": 0,
             "ticks": ""
            },
            "colorscale": [
             [
              0,
              "#0d0887"
             ],
             [
              0.1111111111111111,
              "#46039f"
             ],
             [
              0.2222222222222222,
              "#7201a8"
             ],
             [
              0.3333333333333333,
              "#9c179e"
             ],
             [
              0.4444444444444444,
              "#bd3786"
             ],
             [
              0.5555555555555556,
              "#d8576b"
             ],
             [
              0.6666666666666666,
              "#ed7953"
             ],
             [
              0.7777777777777778,
              "#fb9f3a"
             ],
             [
              0.8888888888888888,
              "#fdca26"
             ],
             [
              1,
              "#f0f921"
             ]
            ],
            "type": "histogram2d"
           }
          ],
          "histogram2dcontour": [
           {
            "colorbar": {
             "outlinewidth": 0,
             "ticks": ""
            },
            "colorscale": [
             [
              0,
              "#0d0887"
             ],
             [
              0.1111111111111111,
              "#46039f"
             ],
             [
              0.2222222222222222,
              "#7201a8"
             ],
             [
              0.3333333333333333,
              "#9c179e"
             ],
             [
              0.4444444444444444,
              "#bd3786"
             ],
             [
              0.5555555555555556,
              "#d8576b"
             ],
             [
              0.6666666666666666,
              "#ed7953"
             ],
             [
              0.7777777777777778,
              "#fb9f3a"
             ],
             [
              0.8888888888888888,
              "#fdca26"
             ],
             [
              1,
              "#f0f921"
             ]
            ],
            "type": "histogram2dcontour"
           }
          ],
          "mesh3d": [
           {
            "colorbar": {
             "outlinewidth": 0,
             "ticks": ""
            },
            "type": "mesh3d"
           }
          ],
          "parcoords": [
           {
            "line": {
             "colorbar": {
              "outlinewidth": 0,
              "ticks": ""
             }
            },
            "type": "parcoords"
           }
          ],
          "pie": [
           {
            "automargin": true,
            "type": "pie"
           }
          ],
          "scatter": [
           {
            "fillpattern": {
             "fillmode": "overlay",
             "size": 10,
             "solidity": 0.2
            },
            "type": "scatter"
           }
          ],
          "scatter3d": [
           {
            "line": {
             "colorbar": {
              "outlinewidth": 0,
              "ticks": ""
             }
            },
            "marker": {
             "colorbar": {
              "outlinewidth": 0,
              "ticks": ""
             }
            },
            "type": "scatter3d"
           }
          ],
          "scattercarpet": [
           {
            "marker": {
             "colorbar": {
              "outlinewidth": 0,
              "ticks": ""
             }
            },
            "type": "scattercarpet"
           }
          ],
          "scattergeo": [
           {
            "marker": {
             "colorbar": {
              "outlinewidth": 0,
              "ticks": ""
             }
            },
            "type": "scattergeo"
           }
          ],
          "scattergl": [
           {
            "marker": {
             "colorbar": {
              "outlinewidth": 0,
              "ticks": ""
             }
            },
            "type": "scattergl"
           }
          ],
          "scattermapbox": [
           {
            "marker": {
             "colorbar": {
              "outlinewidth": 0,
              "ticks": ""
             }
            },
            "type": "scattermapbox"
           }
          ],
          "scatterpolar": [
           {
            "marker": {
             "colorbar": {
              "outlinewidth": 0,
              "ticks": ""
             }
            },
            "type": "scatterpolar"
           }
          ],
          "scatterpolargl": [
           {
            "marker": {
             "colorbar": {
              "outlinewidth": 0,
              "ticks": ""
             }
            },
            "type": "scatterpolargl"
           }
          ],
          "scatterternary": [
           {
            "marker": {
             "colorbar": {
              "outlinewidth": 0,
              "ticks": ""
             }
            },
            "type": "scatterternary"
           }
          ],
          "surface": [
           {
            "colorbar": {
             "outlinewidth": 0,
             "ticks": ""
            },
            "colorscale": [
             [
              0,
              "#0d0887"
             ],
             [
              0.1111111111111111,
              "#46039f"
             ],
             [
              0.2222222222222222,
              "#7201a8"
             ],
             [
              0.3333333333333333,
              "#9c179e"
             ],
             [
              0.4444444444444444,
              "#bd3786"
             ],
             [
              0.5555555555555556,
              "#d8576b"
             ],
             [
              0.6666666666666666,
              "#ed7953"
             ],
             [
              0.7777777777777778,
              "#fb9f3a"
             ],
             [
              0.8888888888888888,
              "#fdca26"
             ],
             [
              1,
              "#f0f921"
             ]
            ],
            "type": "surface"
           }
          ],
          "table": [
           {
            "cells": {
             "fill": {
              "color": "#EBF0F8"
             },
             "line": {
              "color": "white"
             }
            },
            "header": {
             "fill": {
              "color": "#C8D4E3"
             },
             "line": {
              "color": "white"
             }
            },
            "type": "table"
           }
          ]
         },
         "layout": {
          "annotationdefaults": {
           "arrowcolor": "#2a3f5f",
           "arrowhead": 0,
           "arrowwidth": 1
          },
          "autotypenumbers": "strict",
          "coloraxis": {
           "colorbar": {
            "outlinewidth": 0,
            "ticks": ""
           }
          },
          "colorscale": {
           "diverging": [
            [
             0,
             "#8e0152"
            ],
            [
             0.1,
             "#c51b7d"
            ],
            [
             0.2,
             "#de77ae"
            ],
            [
             0.3,
             "#f1b6da"
            ],
            [
             0.4,
             "#fde0ef"
            ],
            [
             0.5,
             "#f7f7f7"
            ],
            [
             0.6,
             "#e6f5d0"
            ],
            [
             0.7,
             "#b8e186"
            ],
            [
             0.8,
             "#7fbc41"
            ],
            [
             0.9,
             "#4d9221"
            ],
            [
             1,
             "#276419"
            ]
           ],
           "sequential": [
            [
             0,
             "#0d0887"
            ],
            [
             0.1111111111111111,
             "#46039f"
            ],
            [
             0.2222222222222222,
             "#7201a8"
            ],
            [
             0.3333333333333333,
             "#9c179e"
            ],
            [
             0.4444444444444444,
             "#bd3786"
            ],
            [
             0.5555555555555556,
             "#d8576b"
            ],
            [
             0.6666666666666666,
             "#ed7953"
            ],
            [
             0.7777777777777778,
             "#fb9f3a"
            ],
            [
             0.8888888888888888,
             "#fdca26"
            ],
            [
             1,
             "#f0f921"
            ]
           ],
           "sequentialminus": [
            [
             0,
             "#0d0887"
            ],
            [
             0.1111111111111111,
             "#46039f"
            ],
            [
             0.2222222222222222,
             "#7201a8"
            ],
            [
             0.3333333333333333,
             "#9c179e"
            ],
            [
             0.4444444444444444,
             "#bd3786"
            ],
            [
             0.5555555555555556,
             "#d8576b"
            ],
            [
             0.6666666666666666,
             "#ed7953"
            ],
            [
             0.7777777777777778,
             "#fb9f3a"
            ],
            [
             0.8888888888888888,
             "#fdca26"
            ],
            [
             1,
             "#f0f921"
            ]
           ]
          },
          "colorway": [
           "#636efa",
           "#EF553B",
           "#00cc96",
           "#ab63fa",
           "#FFA15A",
           "#19d3f3",
           "#FF6692",
           "#B6E880",
           "#FF97FF",
           "#FECB52"
          ],
          "font": {
           "color": "#2a3f5f"
          },
          "geo": {
           "bgcolor": "white",
           "lakecolor": "white",
           "landcolor": "#E5ECF6",
           "showlakes": true,
           "showland": true,
           "subunitcolor": "white"
          },
          "hoverlabel": {
           "align": "left"
          },
          "hovermode": "closest",
          "mapbox": {
           "style": "light"
          },
          "paper_bgcolor": "white",
          "plot_bgcolor": "#E5ECF6",
          "polar": {
           "angularaxis": {
            "gridcolor": "white",
            "linecolor": "white",
            "ticks": ""
           },
           "bgcolor": "#E5ECF6",
           "radialaxis": {
            "gridcolor": "white",
            "linecolor": "white",
            "ticks": ""
           }
          },
          "scene": {
           "xaxis": {
            "backgroundcolor": "#E5ECF6",
            "gridcolor": "white",
            "gridwidth": 2,
            "linecolor": "white",
            "showbackground": true,
            "ticks": "",
            "zerolinecolor": "white"
           },
           "yaxis": {
            "backgroundcolor": "#E5ECF6",
            "gridcolor": "white",
            "gridwidth": 2,
            "linecolor": "white",
            "showbackground": true,
            "ticks": "",
            "zerolinecolor": "white"
           },
           "zaxis": {
            "backgroundcolor": "#E5ECF6",
            "gridcolor": "white",
            "gridwidth": 2,
            "linecolor": "white",
            "showbackground": true,
            "ticks": "",
            "zerolinecolor": "white"
           }
          },
          "shapedefaults": {
           "line": {
            "color": "#2a3f5f"
           }
          },
          "ternary": {
           "aaxis": {
            "gridcolor": "white",
            "linecolor": "white",
            "ticks": ""
           },
           "baxis": {
            "gridcolor": "white",
            "linecolor": "white",
            "ticks": ""
           },
           "bgcolor": "#E5ECF6",
           "caxis": {
            "gridcolor": "white",
            "linecolor": "white",
            "ticks": ""
           }
          },
          "title": {
           "x": 0.05
          },
          "xaxis": {
           "automargin": true,
           "gridcolor": "white",
           "linecolor": "white",
           "ticks": "",
           "title": {
            "standoff": 15
           },
           "zerolinecolor": "white",
           "zerolinewidth": 2
          },
          "yaxis": {
           "automargin": true,
           "gridcolor": "white",
           "linecolor": "white",
           "ticks": "",
           "title": {
            "standoff": 15
           },
           "zerolinecolor": "white",
           "zerolinewidth": 2
          }
         }
        },
        "title": {
         "text": "Logistic Regression Performance for Various Time Intervals"
        },
        "yaxis": {
         "title": {
          "text": "Model Accuracy"
         }
        }
       }
      }
     },
     "metadata": {},
     "output_type": "display_data"
    }
   ],
   "source": [
    "see_freq_perf()"
   ]
  },
  {
   "cell_type": "markdown",
   "metadata": {},
   "source": [
    "# see peformance of model.."
   ]
  },
  {
   "cell_type": "code",
   "execution_count": 36,
   "metadata": {},
   "outputs": [
    {
     "data": {
      "text/html": [
       "<div>\n",
       "<style scoped>\n",
       "    .dataframe tbody tr th:only-of-type {\n",
       "        vertical-align: middle;\n",
       "    }\n",
       "\n",
       "    .dataframe tbody tr th {\n",
       "        vertical-align: top;\n",
       "    }\n",
       "\n",
       "    .dataframe thead th {\n",
       "        text-align: right;\n",
       "    }\n",
       "</style>\n",
       "<table border=\"1\" class=\"dataframe\">\n",
       "  <thead>\n",
       "    <tr style=\"text-align: right;\">\n",
       "      <th></th>\n",
       "      <th>DateTime</th>\n",
       "      <th>Temp C</th>\n",
       "      <th>RH %</th>\n",
       "      <th>Room</th>\n",
       "      <th>Ambient Temp</th>\n",
       "      <th>Ambient RH</th>\n",
       "      <th>Window Open</th>\n",
       "      <th>T_Delta</th>\n",
       "      <th>RH_Delta</th>\n",
       "    </tr>\n",
       "  </thead>\n",
       "  <tbody>\n",
       "    <tr>\n",
       "      <th>0</th>\n",
       "      <td>2022-07-20 07:20:00</td>\n",
       "      <td>23.189</td>\n",
       "      <td>51.268</td>\n",
       "      <td>0</td>\n",
       "      <td>14.333333</td>\n",
       "      <td>30.555556</td>\n",
       "      <td>1</td>\n",
       "      <td>8.855667</td>\n",
       "      <td>20.712444</td>\n",
       "    </tr>\n",
       "    <tr>\n",
       "      <th>1</th>\n",
       "      <td>2022-07-20 07:20:30</td>\n",
       "      <td>23.189</td>\n",
       "      <td>51.362</td>\n",
       "      <td>0</td>\n",
       "      <td>14.333333</td>\n",
       "      <td>30.555556</td>\n",
       "      <td>1</td>\n",
       "      <td>8.855667</td>\n",
       "      <td>20.806444</td>\n",
       "    </tr>\n",
       "    <tr>\n",
       "      <th>2</th>\n",
       "      <td>2022-07-20 07:21:00</td>\n",
       "      <td>23.189</td>\n",
       "      <td>51.488</td>\n",
       "      <td>0</td>\n",
       "      <td>14.333333</td>\n",
       "      <td>30.555556</td>\n",
       "      <td>1</td>\n",
       "      <td>8.855667</td>\n",
       "      <td>20.932444</td>\n",
       "    </tr>\n",
       "    <tr>\n",
       "      <th>3</th>\n",
       "      <td>2022-07-20 07:21:30</td>\n",
       "      <td>23.189</td>\n",
       "      <td>51.457</td>\n",
       "      <td>0</td>\n",
       "      <td>14.333333</td>\n",
       "      <td>30.555556</td>\n",
       "      <td>1</td>\n",
       "      <td>8.855667</td>\n",
       "      <td>20.901444</td>\n",
       "    </tr>\n",
       "    <tr>\n",
       "      <th>4</th>\n",
       "      <td>2022-07-20 07:22:00</td>\n",
       "      <td>23.165</td>\n",
       "      <td>51.517</td>\n",
       "      <td>0</td>\n",
       "      <td>14.333333</td>\n",
       "      <td>30.555556</td>\n",
       "      <td>1</td>\n",
       "      <td>8.831667</td>\n",
       "      <td>20.961444</td>\n",
       "    </tr>\n",
       "  </tbody>\n",
       "</table>\n",
       "</div>"
      ],
      "text/plain": [
       "              DateTime  Temp C    RH %  Room  Ambient Temp  Ambient RH  \\\n",
       "0  2022-07-20 07:20:00  23.189  51.268     0     14.333333   30.555556   \n",
       "1  2022-07-20 07:20:30  23.189  51.362     0     14.333333   30.555556   \n",
       "2  2022-07-20 07:21:00  23.189  51.488     0     14.333333   30.555556   \n",
       "3  2022-07-20 07:21:30  23.189  51.457     0     14.333333   30.555556   \n",
       "4  2022-07-20 07:22:00  23.165  51.517     0     14.333333   30.555556   \n",
       "\n",
       "   Window Open   T_Delta   RH_Delta  \n",
       "0            1  8.855667  20.712444  \n",
       "1            1  8.855667  20.806444  \n",
       "2            1  8.855667  20.932444  \n",
       "3            1  8.855667  20.901444  \n",
       "4            1  8.831667  20.961444  "
      ]
     },
     "execution_count": 36,
     "metadata": {},
     "output_type": "execute_result"
    }
   ],
   "source": [
    "df.head()"
   ]
  },
  {
   "cell_type": "code",
   "execution_count": null,
   "metadata": {},
   "outputs": [],
   "source": [
    "# for all time, plot temperature. then plot window open or closed (in seperate trace). seperate graphs for room 0 vs 1"
   ]
  },
  {
   "cell_type": "code",
   "execution_count": null,
   "metadata": {},
   "outputs": [],
   "source": []
  }
 ],
 "metadata": {
  "kernelspec": {
   "display_name": "Python 3.10.8 ('localwindowsenv': venv)",
   "language": "python",
   "name": "python3"
  },
  "language_info": {
   "codemirror_mode": {
    "name": "ipython",
    "version": 3
   },
   "file_extension": ".py",
   "mimetype": "text/x-python",
   "name": "python",
   "nbconvert_exporter": "python",
   "pygments_lexer": "ipython3",
   "version": "3.10.8"
  },
  "orig_nbformat": 4,
  "vscode": {
   "interpreter": {
    "hash": "f28a956a8a055d6b68b5cc293671ad0a6b47fe35ab4dad72e45e8f1e380b8050"
   }
  }
 },
 "nbformat": 4,
 "nbformat_minor": 2
}
