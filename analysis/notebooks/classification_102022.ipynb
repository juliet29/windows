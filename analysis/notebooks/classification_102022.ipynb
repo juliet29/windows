{
 "cells": [
  {
   "cell_type": "markdown",
   "metadata": {},
   "source": [
    "# Classification 10/20/22\n",
    "\n",
    "Goal: Start classifying tidydata_1020222 using sktime module\n",
    "\n"
   ]
  },
  {
   "cell_type": "code",
   "execution_count": 19,
   "metadata": {},
   "outputs": [],
   "source": [
    "import json\n",
    "import datetime\n",
    "import pandas as pd\n",
    "import numpy as np\n",
    "import sys\n",
    "import os\n",
    "import plotly.express as px\n",
    "from sktime.classification.kernel_based import RocketClassifier\n",
    "from sklearn.model_selection import train_test_split\n",
    "from sklearn.metrics import accuracy_score"
   ]
  },
  {
   "cell_type": "code",
   "execution_count": 4,
   "metadata": {},
   "outputs": [
    {
     "data": {
      "text/html": [
       "<div>\n",
       "<style scoped>\n",
       "    .dataframe tbody tr th:only-of-type {\n",
       "        vertical-align: middle;\n",
       "    }\n",
       "\n",
       "    .dataframe tbody tr th {\n",
       "        vertical-align: top;\n",
       "    }\n",
       "\n",
       "    .dataframe thead th {\n",
       "        text-align: right;\n",
       "    }\n",
       "</style>\n",
       "<table border=\"1\" class=\"dataframe\">\n",
       "  <thead>\n",
       "    <tr style=\"text-align: right;\">\n",
       "      <th></th>\n",
       "      <th>DateTime</th>\n",
       "      <th>Temp C</th>\n",
       "      <th>RH %</th>\n",
       "      <th>Room</th>\n",
       "      <th>Window Open</th>\n",
       "    </tr>\n",
       "  </thead>\n",
       "  <tbody>\n",
       "    <tr>\n",
       "      <th>0</th>\n",
       "      <td>2022-07-20 07:20:00</td>\n",
       "      <td>23.189</td>\n",
       "      <td>51.268</td>\n",
       "      <td>0</td>\n",
       "      <td>1</td>\n",
       "    </tr>\n",
       "    <tr>\n",
       "      <th>1</th>\n",
       "      <td>2022-07-20 07:20:30</td>\n",
       "      <td>23.189</td>\n",
       "      <td>51.362</td>\n",
       "      <td>0</td>\n",
       "      <td>1</td>\n",
       "    </tr>\n",
       "    <tr>\n",
       "      <th>2</th>\n",
       "      <td>2022-07-20 07:21:00</td>\n",
       "      <td>23.189</td>\n",
       "      <td>51.488</td>\n",
       "      <td>0</td>\n",
       "      <td>1</td>\n",
       "    </tr>\n",
       "    <tr>\n",
       "      <th>3</th>\n",
       "      <td>2022-07-20 07:21:30</td>\n",
       "      <td>23.189</td>\n",
       "      <td>51.457</td>\n",
       "      <td>0</td>\n",
       "      <td>1</td>\n",
       "    </tr>\n",
       "    <tr>\n",
       "      <th>4</th>\n",
       "      <td>2022-07-20 07:22:00</td>\n",
       "      <td>23.165</td>\n",
       "      <td>51.517</td>\n",
       "      <td>0</td>\n",
       "      <td>1</td>\n",
       "    </tr>\n",
       "    <tr>\n",
       "      <th>...</th>\n",
       "      <td>...</td>\n",
       "      <td>...</td>\n",
       "      <td>...</td>\n",
       "      <td>...</td>\n",
       "      <td>...</td>\n",
       "    </tr>\n",
       "    <tr>\n",
       "      <th>123601</th>\n",
       "      <td>2022-09-11 07:58:00</td>\n",
       "      <td>29.196</td>\n",
       "      <td>50.861</td>\n",
       "      <td>1</td>\n",
       "      <td>0</td>\n",
       "    </tr>\n",
       "    <tr>\n",
       "      <th>123602</th>\n",
       "      <td>2022-09-11 07:58:30</td>\n",
       "      <td>29.196</td>\n",
       "      <td>50.861</td>\n",
       "      <td>1</td>\n",
       "      <td>0</td>\n",
       "    </tr>\n",
       "    <tr>\n",
       "      <th>123603</th>\n",
       "      <td>2022-09-11 07:59:00</td>\n",
       "      <td>29.196</td>\n",
       "      <td>50.796</td>\n",
       "      <td>1</td>\n",
       "      <td>0</td>\n",
       "    </tr>\n",
       "    <tr>\n",
       "      <th>123604</th>\n",
       "      <td>2022-09-11 07:59:30</td>\n",
       "      <td>29.196</td>\n",
       "      <td>50.796</td>\n",
       "      <td>1</td>\n",
       "      <td>0</td>\n",
       "    </tr>\n",
       "    <tr>\n",
       "      <th>123605</th>\n",
       "      <td>2022-09-11 08:00:00</td>\n",
       "      <td>29.196</td>\n",
       "      <td>50.796</td>\n",
       "      <td>1</td>\n",
       "      <td>0</td>\n",
       "    </tr>\n",
       "  </tbody>\n",
       "</table>\n",
       "<p>123606 rows × 5 columns</p>\n",
       "</div>"
      ],
      "text/plain": [
       "                   DateTime  Temp C    RH %  Room  Window Open\n",
       "0       2022-07-20 07:20:00  23.189  51.268     0            1\n",
       "1       2022-07-20 07:20:30  23.189  51.362     0            1\n",
       "2       2022-07-20 07:21:00  23.189  51.488     0            1\n",
       "3       2022-07-20 07:21:30  23.189  51.457     0            1\n",
       "4       2022-07-20 07:22:00  23.165  51.517     0            1\n",
       "...                     ...     ...     ...   ...          ...\n",
       "123601  2022-09-11 07:58:00  29.196  50.861     1            0\n",
       "123602  2022-09-11 07:58:30  29.196  50.861     1            0\n",
       "123603  2022-09-11 07:59:00  29.196  50.796     1            0\n",
       "123604  2022-09-11 07:59:30  29.196  50.796     1            0\n",
       "123605  2022-09-11 08:00:00  29.196  50.796     1            0\n",
       "\n",
       "[123606 rows x 5 columns]"
      ]
     },
     "execution_count": 4,
     "metadata": {},
     "output_type": "execute_result"
    }
   ],
   "source": [
    "df = pd.read_csv(\"../constants/tidydata_102022.csv\", )\n",
    "df"
   ]
  },
  {
   "cell_type": "code",
   "execution_count": 32,
   "metadata": {},
   "outputs": [
    {
     "data": {
      "text/html": [
       "<div>\n",
       "<style scoped>\n",
       "    .dataframe tbody tr th:only-of-type {\n",
       "        vertical-align: middle;\n",
       "    }\n",
       "\n",
       "    .dataframe tbody tr th {\n",
       "        vertical-align: top;\n",
       "    }\n",
       "\n",
       "    .dataframe thead th {\n",
       "        text-align: right;\n",
       "    }\n",
       "</style>\n",
       "<table border=\"1\" class=\"dataframe\">\n",
       "  <thead>\n",
       "    <tr style=\"text-align: right;\">\n",
       "      <th></th>\n",
       "      <th>Temp C</th>\n",
       "      <th>RH %</th>\n",
       "      <th>Room</th>\n",
       "    </tr>\n",
       "  </thead>\n",
       "  <tbody>\n",
       "    <tr>\n",
       "      <th>0</th>\n",
       "      <td>23.189</td>\n",
       "      <td>51.268</td>\n",
       "      <td>0</td>\n",
       "    </tr>\n",
       "    <tr>\n",
       "      <th>1</th>\n",
       "      <td>23.189</td>\n",
       "      <td>51.362</td>\n",
       "      <td>0</td>\n",
       "    </tr>\n",
       "    <tr>\n",
       "      <th>2</th>\n",
       "      <td>23.189</td>\n",
       "      <td>51.488</td>\n",
       "      <td>0</td>\n",
       "    </tr>\n",
       "    <tr>\n",
       "      <th>3</th>\n",
       "      <td>23.189</td>\n",
       "      <td>51.457</td>\n",
       "      <td>0</td>\n",
       "    </tr>\n",
       "    <tr>\n",
       "      <th>4</th>\n",
       "      <td>23.165</td>\n",
       "      <td>51.517</td>\n",
       "      <td>0</td>\n",
       "    </tr>\n",
       "    <tr>\n",
       "      <th>...</th>\n",
       "      <td>...</td>\n",
       "      <td>...</td>\n",
       "      <td>...</td>\n",
       "    </tr>\n",
       "    <tr>\n",
       "      <th>123601</th>\n",
       "      <td>29.196</td>\n",
       "      <td>50.861</td>\n",
       "      <td>1</td>\n",
       "    </tr>\n",
       "    <tr>\n",
       "      <th>123602</th>\n",
       "      <td>29.196</td>\n",
       "      <td>50.861</td>\n",
       "      <td>1</td>\n",
       "    </tr>\n",
       "    <tr>\n",
       "      <th>123603</th>\n",
       "      <td>29.196</td>\n",
       "      <td>50.796</td>\n",
       "      <td>1</td>\n",
       "    </tr>\n",
       "    <tr>\n",
       "      <th>123604</th>\n",
       "      <td>29.196</td>\n",
       "      <td>50.796</td>\n",
       "      <td>1</td>\n",
       "    </tr>\n",
       "    <tr>\n",
       "      <th>123605</th>\n",
       "      <td>29.196</td>\n",
       "      <td>50.796</td>\n",
       "      <td>1</td>\n",
       "    </tr>\n",
       "  </tbody>\n",
       "</table>\n",
       "<p>123606 rows × 3 columns</p>\n",
       "</div>"
      ],
      "text/plain": [
       "        Temp C    RH %  Room\n",
       "0       23.189  51.268     0\n",
       "1       23.189  51.362     0\n",
       "2       23.189  51.488     0\n",
       "3       23.189  51.457     0\n",
       "4       23.165  51.517     0\n",
       "...        ...     ...   ...\n",
       "123601  29.196  50.861     1\n",
       "123602  29.196  50.861     1\n",
       "123603  29.196  50.796     1\n",
       "123604  29.196  50.796     1\n",
       "123605  29.196  50.796     1\n",
       "\n",
       "[123606 rows x 3 columns]"
      ]
     },
     "execution_count": 32,
     "metadata": {},
     "output_type": "execute_result"
    }
   ],
   "source": [
    "x = df.iloc[:, 1:4]\n",
    "x"
   ]
  },
  {
   "cell_type": "code",
   "execution_count": 33,
   "metadata": {},
   "outputs": [
    {
     "data": {
      "text/plain": [
       "array([[23.189, 51.268,  0.   ],\n",
       "       [23.189, 51.362,  0.   ],\n",
       "       [23.189, 51.488,  0.   ],\n",
       "       ...,\n",
       "       [29.196, 50.796,  1.   ],\n",
       "       [29.196, 50.796,  1.   ],\n",
       "       [29.196, 50.796,  1.   ]])"
      ]
     },
     "execution_count": 33,
     "metadata": {},
     "output_type": "execute_result"
    }
   ],
   "source": [
    "x = x.to_numpy()\n",
    "x"
   ]
  },
  {
   "cell_type": "code",
   "execution_count": 34,
   "metadata": {},
   "outputs": [
    {
     "data": {
      "text/plain": [
       "array([1, 1, 1, ..., 0, 0, 0])"
      ]
     },
     "execution_count": 34,
     "metadata": {},
     "output_type": "execute_result"
    }
   ],
   "source": [
    "y = df[\"Window Open\"]\n",
    "y = y.to_numpy()\n",
    "y"
   ]
  },
  {
   "cell_type": "code",
   "execution_count": 35,
   "metadata": {},
   "outputs": [],
   "source": [
    "\n",
    "X_train, X_test, y_train, y_test = train_test_split(x, y,test_size=0.2, random_state=42)"
   ]
  },
  {
   "cell_type": "code",
   "execution_count": 36,
   "metadata": {},
   "outputs": [
    {
     "data": {
      "text/plain": [
       "array([[24.731, 52.678,  1.   ],\n",
       "       [29.897, 48.431,  1.   ],\n",
       "       [24.103, 57.157,  1.   ],\n",
       "       ...,\n",
       "       [24.997, 49.381,  0.   ],\n",
       "       [25.288, 51.742,  1.   ],\n",
       "       [29.872, 49.011,  1.   ]])"
      ]
     },
     "execution_count": 36,
     "metadata": {},
     "output_type": "execute_result"
    }
   ],
   "source": [
    "X_train"
   ]
  },
  {
   "cell_type": "code",
   "execution_count": 37,
   "metadata": {},
   "outputs": [
    {
     "data": {
      "text/plain": [
       "array([0, 0, 0, ..., 1, 0, 0])"
      ]
     },
     "execution_count": 37,
     "metadata": {},
     "output_type": "execute_result"
    }
   ],
   "source": [
    "y_test"
   ]
  },
  {
   "cell_type": "code",
   "execution_count": 38,
   "metadata": {},
   "outputs": [],
   "source": [
    "# data tooo large -> 82 mins running and still not done \n",
    "# rocket = RocketClassifier()\n",
    "# rocket.fit(X_train, y_train)\n",
    "# y_pred = rocket.predict(X_test)\n",
    "# accuracy_score(y_test, y_pred)\n",
    "\n",
    "# try to sample the data instead...."
   ]
  }
 ],
 "metadata": {
  "kernelspec": {
   "display_name": "Python 3.10.6 ('localwindowsenv': venv)",
   "language": "python",
   "name": "python3"
  },
  "language_info": {
   "codemirror_mode": {
    "name": "ipython",
    "version": 3
   },
   "file_extension": ".py",
   "mimetype": "text/x-python",
   "name": "python",
   "nbconvert_exporter": "python",
   "pygments_lexer": "ipython3",
   "version": "3.10.6"
  },
  "orig_nbformat": 4,
  "vscode": {
   "interpreter": {
    "hash": "f28a956a8a055d6b68b5cc293671ad0a6b47fe35ab4dad72e45e8f1e380b8050"
   }
  }
 },
 "nbformat": 4,
 "nbformat_minor": 2
}
