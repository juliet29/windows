{
 "cells": [
  {
   "cell_type": "code",
   "execution_count": 1,
   "metadata": {},
   "outputs": [],
   "source": [
    "import plotly.graph_objects as go\n",
    "# import kaleido\n",
    "from plotly.subplots import make_subplots\n",
    "import plotly.io as pio\n",
    "import pandas as pd\n",
    "import numpy as np\n",
    "import json\n",
    "\n",
    "from statsmodels.tsa.seasonal import seasonal_decompose\n",
    "import statsmodels.api as sm\n",
    "\n",
    "import scipy.optimize\n",
    "\n",
    "import sys\n",
    "sys.path.insert(0, \"../scripts\")\n",
    "import helpers as h\n",
    "import seaborn as sns\n",
    "\n",
    "import window_detect2 as w"
   ]
  },
  {
   "cell_type": "code",
   "execution_count": 2,
   "metadata": {},
   "outputs": [],
   "source": [
    "# simulation data \n",
    "sim_data_path = \"../../data/energy_model/230307_and_smoothed.pkl\"\n",
    "sim_data = pd.read_pickle(sim_data_path)\n",
    "\n",
    "s1 = w.Window_Detect2(sim_data)\n",
    "s1.analyze_window_change(smooth_fx=None, sim_smooth=sim_data[\"sim_smooth\"])\n"
   ]
  },
  {
   "cell_type": "code",
   "execution_count": 3,
   "metadata": {},
   "outputs": [],
   "source": [
    "# measured data \n",
    "a00, a01 = h.import_desired_data(\"A\", \"15T\")"
   ]
  },
  {
   "cell_type": "code",
   "execution_count": 4,
   "metadata": {},
   "outputs": [],
   "source": [
    "smooth_fx = {\n",
    "    \"stl\": w.make_stl_smooth,\n",
    "    \"sin\": w.make_sin_smooth,\n",
    "    \"ewm\": w.make_ewm_smooth\n",
    "}"
   ]
  },
  {
   "cell_type": "code",
   "execution_count": 5,
   "metadata": {},
   "outputs": [],
   "source": [
    "obj_d = {}\n",
    "z = 1\n",
    "timedelta=0\n",
    "\n",
    "for obj in smooth_fx.keys():\n",
    "    w0 = w.Window_Detect2(a01)\n",
    "    w0.analyze_window_change(smooth_fx[obj])\n",
    "    w0.make_guesses(z=z, timedelta=timedelta)\n",
    "    obj_d[obj] = w0\n",
    "    "
   ]
  },
  {
   "cell_type": "code",
   "execution_count": 6,
   "metadata": {},
   "outputs": [
    {
     "name": "stdout",
     "output_type": "stream",
     "text": [
      "stl:                                 0\n",
      "hits/guesses                  0.0\n",
      "hits/actions                  0.0\n",
      "(hits + near hits)/guesses    0.0\n",
      "(hits + near hits)/actions    0.0\n",
      "misses/guesses              100.0\n",
      "number of actions            13.0\n",
      "number of guesses            22.0\n",
      "hit                           0.0\n",
      "near_hit                      0.0\n",
      "miss                         22.0 \n",
      "\n",
      "sin:                                0\n",
      "hits/guesses                10.0\n",
      "hits/actions                 7.7\n",
      "(hits + near hits)/guesses  60.0\n",
      "(hits + near hits)/actions  46.2\n",
      "misses/guesses              40.0\n",
      "number of actions           13.0\n",
      "number of guesses           10.0\n",
      "hit                          1.0\n",
      "near_hit                     5.0\n",
      "miss                         4.0 \n",
      "\n",
      "ewm:                                0\n",
      "hits/guesses                 9.4\n",
      "hits/actions                23.1\n",
      "(hits + near hits)/guesses  37.5\n",
      "(hits + near hits)/actions  92.3\n",
      "misses/guesses              62.5\n",
      "number of actions           13.0\n",
      "number of guesses           32.0\n",
      "hit                          3.0\n",
      "near_hit                     9.0\n",
      "miss                        20.0 \n",
      "\n"
     ]
    }
   ],
   "source": [
    "for k,v in obj_d.items():\n",
    "    results, df = h.report_score_ratios(v, exp=a01)\n",
    "    print(f\"{k}: \\n {df} \\n\")"
   ]
  },
  {
   "attachments": {},
   "cell_type": "markdown",
   "metadata": {},
   "source": [
    "```\n",
    "- For z in [z1,z2]\n",
    "  - For timedelta = [0, 15, 30]:\n",
    "    - For exp a, b, c, and simulation \n",
    "```"
   ]
  }
 ],
 "metadata": {
  "kernelspec": {
   "display_name": "localwindowsenv",
   "language": "python",
   "name": "python3"
  },
  "language_info": {
   "codemirror_mode": {
    "name": "ipython",
    "version": 3
   },
   "file_extension": ".py",
   "mimetype": "text/x-python",
   "name": "python",
   "nbconvert_exporter": "python",
   "pygments_lexer": "ipython3",
   "version": "3.9.15"
  },
  "orig_nbformat": 4
 },
 "nbformat": 4,
 "nbformat_minor": 2
}
