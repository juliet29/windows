{
 "cells": [
  {
   "cell_type": "code",
   "execution_count": 1,
   "metadata": {},
   "outputs": [],
   "source": [
    "import pandas as pd\n",
    "import numpy as np\n",
    "\n",
    "import sys\n",
    "sys.path.insert(0, \"../scripts\")\n",
    "import helpers as h\n",
    "import window_detect2 as w\n",
    "import scores as s\n",
    "import ml_window as m\n",
    "from icecream import ic\n",
    "\n",
    "import pickle\n",
    "\n",
    "import plotly.graph_objects as go"
   ]
  },
  {
   "cell_type": "code",
   "execution_count": 2,
   "metadata": {},
   "outputs": [],
   "source": [
    "a00, a01 = h.import_desired_data(\"A\", \"15T\")\n",
    "window_sched = np.array(a01[\"Window Open\"])\n",
    "\n",
    "with open('../constants/combo_results_230638.pkl', 'rb') as handle:\n",
    "    test_dict = pickle.load(handle)"
   ]
  },
  {
   "cell_type": "code",
   "execution_count": 4,
   "metadata": {},
   "outputs": [
    {
     "data": {
      "text/plain": [
       "(164, 221)"
      ]
     },
     "execution_count": 4,
     "metadata": {},
     "output_type": "execute_result"
    }
   ],
   "source": [
    "s1 = s.Scores(a01)\n",
    "to, fo = s1.calc_true_open(pd.Series(test_dict[\"amb+sim\"][\"choices\"]))\n",
    "s1.false_openings, s1.true_openings"
   ]
  },
  {
   "cell_type": "code",
   "execution_count": 18,
   "metadata": {},
   "outputs": [
    {
     "data": {
      "text/plain": [
       "Timedelta('0 days 00:15:00')"
      ]
     },
     "execution_count": 18,
     "metadata": {},
     "output_type": "execute_result"
    }
   ],
   "source": [
    "s1.exp[\"DateTime\"][1] - s1.exp[\"DateTime\"][0]"
   ]
  },
  {
   "cell_type": "code",
   "execution_count": 19,
   "metadata": {},
   "outputs": [
    {
     "data": {
      "text/plain": [
       "0      0.0\n",
       "1      0.0\n",
       "21     0.0\n",
       "22     0.0\n",
       "23     0.0\n",
       "      ... \n",
       "380    0.0\n",
       "381    0.0\n",
       "382    0.0\n",
       "383    0.0\n",
       "384    0.0\n",
       "Name: Window Open, Length: 159, dtype: float64"
      ]
     },
     "execution_count": 19,
     "metadata": {},
     "output_type": "execute_result"
    }
   ],
   "source": [
    "s1.truth[~s1.truth.astype(bool)]"
   ]
  }
 ],
 "metadata": {
  "kernelspec": {
   "display_name": "localwindowsenv",
   "language": "python",
   "name": "python3"
  },
  "language_info": {
   "codemirror_mode": {
    "name": "ipython",
    "version": 3
   },
   "file_extension": ".py",
   "mimetype": "text/x-python",
   "name": "python",
   "nbconvert_exporter": "python",
   "pygments_lexer": "ipython3",
   "version": "3.9.15"
  },
  "orig_nbformat": 4
 },
 "nbformat": 4,
 "nbformat_minor": 2
}
