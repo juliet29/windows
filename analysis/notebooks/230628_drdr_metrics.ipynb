{
 "cells": [
  {
   "cell_type": "code",
   "execution_count": 1,
   "metadata": {},
   "outputs": [],
   "source": [
    "import pandas as pd\n",
    "import numpy as np\n",
    "\n",
    "import sys\n",
    "sys.path.insert(0, \"../scripts\")\n",
    "import helpers as h\n",
    "import window_detect2 as w\n",
    "import scores as s\n",
    "import ml_window as m\n",
    "from icecream import ic\n",
    "\n",
    "import pickle\n",
    "\n",
    "import plotly.graph_objects as go\n",
    "from itertools import groupby"
   ]
  },
  {
   "cell_type": "code",
   "execution_count": 2,
   "metadata": {},
   "outputs": [],
   "source": [
    "a00, a01 = h.import_desired_data(\"A\", \"15T\")\n",
    "window_sched = np.array(a01[\"Window Open\"])\n",
    "\n",
    "with open('../constants/combo_results_230638.pkl', 'rb') as handle:\n",
    "    test_dict = pickle.load(handle)"
   ]
  },
  {
   "attachments": {},
   "cell_type": "markdown",
   "metadata": {},
   "source": [
    "## metric 1 opening numbers"
   ]
  },
  {
   "cell_type": "code",
   "execution_count": 3,
   "metadata": {},
   "outputs": [
    {
     "data": {
      "text/plain": [
       "(221, 164)"
      ]
     },
     "execution_count": 3,
     "metadata": {},
     "output_type": "execute_result"
    }
   ],
   "source": [
    "s1 = s.Scores(a01)\n",
    "to, fo = s1.calc_open_number(pd.Series(test_dict[\"amb+sim\"][\"choices\"]))\n",
    "to, fo"
   ]
  },
  {
   "attachments": {},
   "cell_type": "markdown",
   "metadata": {},
   "source": [
    "## metric 3 accuracy "
   ]
  },
  {
   "cell_type": "code",
   "execution_count": 4,
   "metadata": {},
   "outputs": [],
   "source": [
    "s1.calc_open_accuracy_score()"
   ]
  },
  {
   "cell_type": "code",
   "execution_count": 15,
   "metadata": {},
   "outputs": [],
   "source": [
    "\n",
    "def common_member(a, b):\n",
    "    a_set = set(a)\n",
    "    b_set = set(b)\n",
    "    len_intersect = len(a_set.intersection(b_set))\n",
    "    if len_intersect > 0:\n",
    "        return True, len_intersect\n",
    "    return False, 0 "
   ]
  },
  {
   "cell_type": "code",
   "execution_count": 27,
   "metadata": {},
   "outputs": [
    {
     "name": "stdout",
     "output_type": "stream",
     "text": [
      "po 0 | to 0 --- to len: 19, po len: 35, diff = 0  \n",
      "\n",
      "po 2 | to 1 --- to len: 59, po len: 3, diff = 58  \n",
      "\n",
      "po 3 | to 1 --- to len: 59, po len: 8, diff = 51  \n",
      "\n",
      "po 4 | to 1 --- to len: 59, po len: 20, diff = 39  \n",
      "\n",
      "po 5 | to 1 --- to len: 59, po len: 6, diff = 56  \n",
      "\n",
      "po 6 | to 2 --- to len: 10, po len: 1, diff = 9  \n",
      "\n",
      "po 8 | to 3 --- to len: 36, po len: 3, diff = 33  \n",
      "\n",
      "po 9 | to 3 --- to len: 36, po len: 4, diff = 32  \n",
      "\n",
      "po 12 | to 4 --- to len: 19, po len: 8, diff = 14  \n",
      "\n",
      "po 13 | to 5 --- to len: 83, po len: 24, diff = 67  \n",
      "\n",
      "po 14 | to 5 --- to len: 83, po len: 2, diff = 81  \n",
      "\n",
      "po 15 | to 5 --- to len: 83, po len: 2, diff = 81  \n",
      "\n",
      "po 16 | to 5 --- to len: 83, po len: 48, diff = 40  \n",
      "\n",
      "[1, -18.14, -15.830000000000002, -11.870000000000001, -17.48, -1.9700000000000002, -9.89, -9.56, -3.62, -21.11, -25.73, -25.73, -12.200000000000001] -13.24076923076923\n"
     ]
    }
   ],
   "source": [
    "\n",
    "scores = []\n",
    "ρ = 0.33 # de rautlin, two time step limit \n",
    "for pix, plst in enumerate(s1.predicted_openings):\n",
    "    for tix, tlst in enumerate(s1.true_openings):\n",
    "        bool_val, len_intersect = common_member(plst[\"ix\"], tlst[\"ix\"])\n",
    "        if bool_val:\n",
    "            difference = tlst['length'] - len_intersect\n",
    "            print(f\"po {pix} | to {tix} --- to len: {tlst['length']}, po len: {plst['length']}, diff = { difference}  \\n\")\n",
    "            if difference == 0:\n",
    "                scores.append(1)\n",
    "            else:\n",
    "                scores.append(1 - ρ*(difference))\n",
    "print(scores, np.mean(np.array(scores)))\n",
    "\n",
    "\n",
    "    \n"
   ]
  }
 ],
 "metadata": {
  "kernelspec": {
   "display_name": "localwindowsenv",
   "language": "python",
   "name": "python3"
  },
  "language_info": {
   "codemirror_mode": {
    "name": "ipython",
    "version": 3
   },
   "file_extension": ".py",
   "mimetype": "text/x-python",
   "name": "python",
   "nbconvert_exporter": "python",
   "pygments_lexer": "ipython3",
   "version": "3.9.15"
  },
  "orig_nbformat": 4
 },
 "nbformat": 4,
 "nbformat_minor": 2
}
