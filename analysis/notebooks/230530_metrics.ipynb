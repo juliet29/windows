{
 "cells": [
  {
   "cell_type": "code",
   "execution_count": 16,
   "metadata": {},
   "outputs": [],
   "source": [
    "import plotly.graph_objects as go\n",
    "# import kaleido\n",
    "from plotly.subplots import make_subplots\n",
    "import plotly.io as pio\n",
    "import pandas as pd\n",
    "import numpy as np\n",
    "import json\n",
    "\n",
    "from statsmodels.tsa.seasonal import seasonal_decompose\n",
    "import statsmodels.api as sm\n",
    "\n",
    "import scipy.optimize\n",
    "\n",
    "import sys\n",
    "sys.path.insert(0, \"../scripts\")\n",
    "import helpers as h\n",
    "import seaborn as sns\n",
    "\n",
    "import window_detect2 as wd2"
   ]
  },
  {
   "cell_type": "code",
   "execution_count": 17,
   "metadata": {},
   "outputs": [],
   "source": [
    "# simulation data \n",
    "sim_data_path = \"../../data/energy_model/230307_match.pkl\"\n",
    "sim_data = pd.read_pickle(sim_data_path)\n",
    "\n",
    "# smoothing on different time series than the observation \n",
    "sim_smooth = wd2.make_stl_smooth(series=sim_data[\"Always Closed\"], time=None, model=\"additive\")\n",
    "\n",
    "# rename label in simulation dataframe to match class\n",
    "sim_data.rename(columns={\"Varied\": \"Temp C\"}, inplace=True)\n",
    "\n",
    "s1 = wd2.Window_Detect2(sim_data)\n",
    "s1.analyze_window_change(smooth_fx=None, sim_smooth=sim_smooth)\n",
    "\n",
    "# measured data \n",
    "a00, a01 = h.import_desired_data(\"A\", \"15T\")\n",
    "\n",
    "w1 = wd2.Window_Detect2(a01)\n",
    "w1.analyze_window_change(wd2.make_stl_smooth)\n",
    "\n",
    "w2 = wd2.Window_Detect2(a01)\n",
    "w2.analyze_window_change(wd2.make_sin_smooth)\n",
    "\n",
    "w3 = wd2.Window_Detect2(a01)\n",
    "w3.analyze_window_change(wd2.make_ewm_smooth)\n",
    "\n"
   ]
  },
  {
   "cell_type": "code",
   "execution_count": 18,
   "metadata": {},
   "outputs": [],
   "source": [
    "# b00, b01 = h.import_desired_data(\"B\", \"15T\")\n",
    "# print(b00[\"Window Open\"].unique(), b01[\"Window Open\"].unique())\n",
    "\n",
    "# c00, c01 = h.import_desired_data(\"C\", \"15T\")\n",
    "# print(c00[\"Window Open\"].unique(), c01[\"Window Open\"].unique())\n",
    "\n",
    "# b00, c00"
   ]
  },
  {
   "cell_type": "code",
   "execution_count": 36,
   "metadata": {},
   "outputs": [],
   "source": [
    "def print_num_shift(data):\n",
    "    return len(data[(data[\"Window Open\"].shift() != data[\"Window Open\"])])"
   ]
  },
  {
   "cell_type": "code",
   "execution_count": null,
   "metadata": {},
   "outputs": [],
   "source": []
  },
  {
   "cell_type": "code",
   "execution_count": 1,
   "metadata": {},
   "outputs": [],
   "source": [
    "def count_score(c, hits, near_miss, miss, near_miss_lim=2):\n",
    "    if c == 0:\n",
    "        hits+=1\n",
    "    elif c <= near_miss_lim:\n",
    "        near_miss+=1\n",
    "    else:\n",
    "        miss+=1\n",
    "    \n",
    "    return hits, near_miss, miss\n",
    "\n",
    "\n",
    "def report_score_ratios(obj, z=2, timedelta=0, near_miss_lim=2):\n",
    "    \"\"\" \n",
    "    obj: window_detect2 object, see notebooks/230613_metrics2.ipynb and scripts/window_detect2.py \n",
    "    z: use first or second z score \n",
    "    timedelta: length of time to include to be considered 1 hit \n",
    "    near_miss_lim: number of timesteps away that can be considered a near miss TODO make this and timedelta the same..\n",
    "    \"\"\"\n",
    "\n",
    "    hit = 0 \n",
    "    near_miss = 0 \n",
    "    miss = 0\n",
    "    \n",
    "    obj.make_guesses(z=z, timedelta=timedelta)\n",
    "    # print(len(obj.guess_times))\n",
    "    # print(obj.guess_times.iloc[-1])\n",
    "\n",
    "    res = pd.DataFrame(obj.guess_times).apply(lambda x: h.calc_win_change_dist(a01, x.name), axis=1)\n",
    "\n",
    "    scores = res.apply(lambda x: count_score(np.abs(x[2]), hit, near_miss, miss, near_miss_lim))\n",
    "\n",
    "    score_sum = pd.DataFrame(scores.to_list(), columns=[\"hit\", \"near_hit\", \"miss\"]).sum()\n",
    "\n",
    "    correct = score_sum[\"hit\"] / len(scores) \n",
    "    almost_correct = (score_sum[\"hit\"] +  score_sum[\"near_hit\"])/ len(scores) \n",
    "    incorrect = score_sum[\"miss\"]/ len(scores) \n",
    "    ratios = [correct, almost_correct, incorrect]\n",
    "    ratio_nice = [100 * np.round(i, 2) for i in ratios]\n",
    "\n",
    "\n",
    "    return score_sum, ratio_nice\n"
   ]
  },
  {
   "cell_type": "code",
   "execution_count": 37,
   "metadata": {},
   "outputs": [
    {
     "name": "stdout",
     "output_type": "stream",
     "text": [
      "shift: 13\n",
      "shift: 8\n",
      "shift: 8\n"
     ]
    }
   ],
   "source": [
    "\n",
    "\n",
    "all_scores = {}\n",
    "exp_names = [\"A\", \"B\", \"C\"]\n",
    "smooth_names = [\"stl\", \"sin\", \"ewm\"]\n",
    "\n",
    "for data, name in zip([a01, b00, c00], exp_names):\n",
    "    all_scores[name] = {}\n",
    "    print(\"shift:\",  print_num_shift(data))\n",
    "\n",
    "    try:\n",
    "        w1 = wd2.Window_Detect2(data)\n",
    "        w1.analyze_window_change(wd2.make_stl_smooth)\n",
    "\n",
    "        w2 = wd2.Window_Detect2(data)\n",
    "        w2.analyze_window_change(wd2.make_sin_smooth)\n",
    "\n",
    "        w3 = wd2.Window_Detect2(data)\n",
    "        w3.analyze_window_change(wd2.make_ewm_smooth)\n",
    "\n",
    "        objects = [w1, w2, w3,]\n",
    "\n",
    "        for obj, sname in zip(objects, smooth_names):\n",
    "            a, r = report_score_ratios(obj, z=1)\n",
    "            all_scores[name][sname] = r[1]\n",
    "    except:\n",
    "        pass"
   ]
  },
  {
   "cell_type": "code",
   "execution_count": 38,
   "metadata": {},
   "outputs": [
    {
     "data": {
      "text/plain": [
       "{'A': {'stl': 0.0, 'sin': 60.0, 'ewm': 38.0},\n",
       " 'B': {},\n",
       " 'C': {'stl': 5.0, 'sin': 25.0, 'ewm': 12.0}}"
      ]
     },
     "execution_count": 38,
     "metadata": {},
     "output_type": "execute_result"
    }
   ],
   "source": [
    "all_scores"
   ]
  },
  {
   "cell_type": "code",
   "execution_count": 23,
   "metadata": {},
   "outputs": [],
   "source": [
    "objects = [s1, w1, w2, w3,]"
   ]
  },
  {
   "cell_type": "code",
   "execution_count": 24,
   "metadata": {},
   "outputs": [
    {
     "name": "stdout",
     "output_type": "stream",
     "text": [
      "hit          0\n",
      "near_hit     1\n",
      "miss        10\n",
      "dtype: int64 9.0 \n",
      "\n",
      "hit          0\n",
      "near_hit     1\n",
      "miss        18\n",
      "dtype: int64 5.0 \n",
      "\n",
      "hit         0\n",
      "near_hit    2\n",
      "miss        6\n",
      "dtype: int64 25.0 \n",
      "\n",
      "hit          1\n",
      "near_hit     1\n",
      "miss        14\n",
      "dtype: int64 12.0 \n",
      "\n"
     ]
    }
   ],
   "source": [
    "for obj in objects:\n",
    "    a, r = report_score_ratios(obj, z=1)\n",
    "    print(a, r[1], \"\\n\")\n",
    "    "
   ]
  },
  {
   "cell_type": "code",
   "execution_count": 25,
   "metadata": {},
   "outputs": [
    {
     "name": "stdout",
     "output_type": "stream",
     "text": [
      "hit          0\n",
      "near_hit     0\n",
      "miss        16\n",
      "dtype: int64 0.0 \n",
      "\n",
      "hit          0\n",
      "near_hit     0\n",
      "miss        17\n",
      "dtype: int64 0.0 \n",
      "\n",
      "hit          1\n",
      "near_hit     2\n",
      "miss        13\n",
      "dtype: int64 19.0 \n",
      "\n",
      "hit          1\n",
      "near_hit     2\n",
      "miss        15\n",
      "dtype: int64 17.0 \n",
      "\n"
     ]
    }
   ],
   "source": [
    "for obj in objects:\n",
    "    a, r = report_score_ratios(obj, z=2)\n",
    "    print(a, r[1], \"\\n\")"
   ]
  },
  {
   "cell_type": "code",
   "execution_count": 26,
   "metadata": {},
   "outputs": [
    {
     "data": {
      "text/plain": [
       "0.0"
      ]
     },
     "execution_count": 26,
     "metadata": {},
     "output_type": "execute_result"
    }
   ],
   "source": [
    "_, r = report_score_ratios(w1)\n",
    "r[1]"
   ]
  },
  {
   "cell_type": "code",
   "execution_count": 27,
   "metadata": {},
   "outputs": [],
   "source": [
    "w1.make_guesses(z=2, timedelta=0)"
   ]
  },
  {
   "cell_type": "code",
   "execution_count": 28,
   "metadata": {},
   "outputs": [],
   "source": [
    "res = pd.DataFrame(w1.guess_times).apply(lambda x: h.calc_win_change_dist(a01, x.name), axis=1)\n"
   ]
  },
  {
   "cell_type": "code",
   "execution_count": 29,
   "metadata": {},
   "outputs": [
    {
     "data": {
      "text/plain": [
       "Timedelta('0 days 00:15:00')"
      ]
     },
     "execution_count": 29,
     "metadata": {},
     "output_type": "execute_result"
    }
   ],
   "source": [
    "time = pd.Timedelta(minutes=15)\n",
    "time"
   ]
  },
  {
   "cell_type": "code",
   "execution_count": 30,
   "metadata": {},
   "outputs": [
    {
     "data": {
      "text/plain": [
       "46      0 days 03:45:00\n",
       "47      0 days 03:30:00\n",
       "49      0 days 03:00:00\n",
       "77    -1 days +20:00:00\n",
       "78    -1 days +19:45:00\n",
       "143   -1 days +22:30:00\n",
       "145   -1 days +22:00:00\n",
       "238   -1 days +21:15:00\n",
       "239   -1 days +21:00:00\n",
       "241   -1 days +20:30:00\n",
       "242     0 days 03:15:00\n",
       "269   -1 days +20:30:00\n",
       "270   -1 days +20:15:00\n",
       "280   -1 days +17:45:00\n",
       "281   -1 days +17:30:00\n",
       "285   -1 days +16:30:00\n",
       "286   -1 days +16:15:00\n",
       "dtype: timedelta64[ns]"
      ]
     },
     "execution_count": 30,
     "metadata": {},
     "output_type": "execute_result"
    }
   ],
   "source": [
    "res.apply(lambda x: x[2]*time)"
   ]
  },
  {
   "cell_type": "code",
   "execution_count": null,
   "metadata": {},
   "outputs": [],
   "source": [
    "\n"
   ]
  },
  {
   "cell_type": "code",
   "execution_count": 31,
   "metadata": {},
   "outputs": [
    {
     "data": {
      "text/plain": [
       "46     (0, 0, 1)\n",
       "47     (0, 0, 1)\n",
       "49     (0, 0, 1)\n",
       "77     (0, 0, 1)\n",
       "78     (0, 0, 1)\n",
       "143    (0, 0, 1)\n",
       "145    (0, 0, 1)\n",
       "238    (0, 0, 1)\n",
       "239    (0, 0, 1)\n",
       "241    (0, 0, 1)\n",
       "242    (0, 0, 1)\n",
       "269    (0, 0, 1)\n",
       "270    (0, 0, 1)\n",
       "280    (0, 0, 1)\n",
       "281    (0, 0, 1)\n",
       "285    (0, 0, 1)\n",
       "286    (0, 0, 1)\n",
       "dtype: object"
      ]
     },
     "execution_count": 31,
     "metadata": {},
     "output_type": "execute_result"
    }
   ],
   "source": [
    "hits = 0\n",
    "near_miss = 0\n",
    "miss = 0\n",
    "\n",
    "scores = res.apply(lambda x: count_score(np.abs(x[2]), hits, near_miss, miss))\n",
    "scores\n"
   ]
  },
  {
   "cell_type": "code",
   "execution_count": 32,
   "metadata": {},
   "outputs": [
    {
     "data": {
      "text/plain": [
       "17"
      ]
     },
     "execution_count": 32,
     "metadata": {},
     "output_type": "execute_result"
    }
   ],
   "source": [
    "len(scores)"
   ]
  },
  {
   "cell_type": "code",
   "execution_count": 33,
   "metadata": {},
   "outputs": [
    {
     "data": {
      "text/plain": [
       "hit           0\n",
       "near_miss     0\n",
       "miss         17\n",
       "dtype: int64"
      ]
     },
     "execution_count": 33,
     "metadata": {},
     "output_type": "execute_result"
    }
   ],
   "source": [
    "score_sum = pd.DataFrame(scores.to_list(), columns=[\"hit\", \"near_miss\", \"miss\"]).sum()\n",
    "score_sum"
   ]
  },
  {
   "cell_type": "code",
   "execution_count": 34,
   "metadata": {},
   "outputs": [
    {
     "name": "stdout",
     "output_type": "stream",
     "text": [
      "0.0 0.0 1.0\n"
     ]
    }
   ],
   "source": [
    "correct = score_sum[\"hit\"] / len(scores)\n",
    "almost_correct = score_sum[\"hit\"] +  score_sum[\"near_miss\"]/ len(scores)\n",
    "incorrect = score_sum[\"miss\"]/ len(scores)\n",
    "\n",
    "print(correct, almost_correct, incorrect)"
   ]
  },
  {
   "cell_type": "code",
   "execution_count": 35,
   "metadata": {},
   "outputs": [],
   "source": [
    "# hit = 0 \n",
    "# near miss => abs(distance) < 2 => 30 minustes\n",
    "# miss =>\n",
    "\n"
   ]
  }
 ],
 "metadata": {
  "kernelspec": {
   "display_name": "localwindowsenv",
   "language": "python",
   "name": "python3"
  },
  "language_info": {
   "codemirror_mode": {
    "name": "ipython",
    "version": 3
   },
   "file_extension": ".py",
   "mimetype": "text/x-python",
   "name": "python",
   "nbconvert_exporter": "python",
   "pygments_lexer": "ipython3",
   "version": "3.9.15"
  },
  "orig_nbformat": 4
 },
 "nbformat": 4,
 "nbformat_minor": 2
}
