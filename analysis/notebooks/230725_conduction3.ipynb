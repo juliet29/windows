{
 "cells": [
  {
   "cell_type": "code",
   "execution_count": 23,
   "metadata": {},
   "outputs": [],
   "source": [
    "from sympy import * \n",
    "\n",
    "import numpy as np\n",
    "\n",
    "import plotly.graph_objects as go\n",
    "from plotly.subplots import make_subplots\n",
    "\n",
    "smp.init_printing(pretty_print=True)"
   ]
  },
  {
   "cell_type": "markdown",
   "metadata": {},
   "source": [
    "# following mathcube tutorial from [medium](https://medium.com/@mathcube7/the-laplace-equation-solved-analytically-with-python-c788cb009773)\n",
    "\n",
    "- 2D laplace, div grad u(x,y) = 0 \n",
    "- semi infinite recatnagular domain: 0 <= x <= a, 0 <= y\n",
    "- BCs: \n",
    "  - u0 at y=0, 0 as y -> oo\n",
    "  - 0 at x=0, 0 at x=a\n",
    "- solution approach: seperation ansatz\n"
   ]
  },
  {
   "cell_type": "code",
   "execution_count": 30,
   "metadata": {},
   "outputs": [
    {
     "data": {
      "image/png": "[encoded data removed]",
      "text/latex": [
       "$\\displaystyle u{\\left(x,y \\right)}$"
      ],
      "text/plain": [
       "u(x, y)"
      ]
     },
     "execution_count": 30,
     "metadata": {},
     "output_type": "execute_result"
    }
   ],
   "source": [
    "# define variables\n",
    "x, y = symbols(\"x, y\")\n",
    "u = Function(\"u\")\n",
    "X, Y = symbols(\"X, Y\", cls=Function) # TODO why the difference here?\n",
    "\n",
    "u(x,y)"
   ]
  },
  {
   "cell_type": "code",
   "execution_count": 39,
   "metadata": {},
   "outputs": [],
   "source": [
    "# convenience function to apply opperation to both sides of an equation \n",
    "\n",
    "def apply(eq, func, *args):\n",
    "    return Eq(\n",
    "        func(eq.lhs, *args),\n",
    "        func(eq.rhs, *args)\n",
    "    )"
   ]
  },
  {
   "cell_type": "code",
   "execution_count": 56,
   "metadata": {},
   "outputs": [
    {
     "data": {
      "image/png": "[encoded data removed]",
      "text/latex": [
       "$\\displaystyle \\frac{\\partial^{2}}{\\partial x^{2}} u{\\left(x,y \\right)} + \\frac{\\partial^{2}}{\\partial y^{2}} u{\\left(x,y \\right)} = 0$"
      ],
      "text/plain": [
       "  2              2             \n",
       " ∂              ∂              \n",
       "───(u(x, y)) + ───(u(x, y)) = 0\n",
       "  2              2             \n",
       "∂x             ∂y              "
      ]
     },
     "execution_count": 56,
     "metadata": {},
     "output_type": "execute_result"
    }
   ],
   "source": [
    "# formulate Laplace equation \n",
    "\n",
    "EQ1 = Eq(\n",
    "    diff(u(x,y), (x, 2)) + diff(u(x,y), (y,2)), \n",
    "    0\n",
    ")\n",
    "EQ1"
   ]
  },
  {
   "cell_type": "markdown",
   "metadata": {},
   "source": [
    "### initial seperation "
   ]
  },
  {
   "cell_type": "code",
   "execution_count": 57,
   "metadata": {},
   "outputs": [
    {
     "data": {
      "image/png": "[encoded data removed]",
      "text/latex": [
       "$\\displaystyle \\frac{\\partial^{2}}{\\partial x^{2}} X{\\left(x \\right)} Y{\\left(y \\right)} + \\frac{\\partial^{2}}{\\partial y^{2}} X{\\left(x \\right)} Y{\\left(y \\right)} = 0$"
      ],
      "text/plain": [
       "  2                2               \n",
       " ∂                ∂                \n",
       "───(X(x)⋅Y(y)) + ───(X(x)⋅Y(y)) = 0\n",
       "  2                2               \n",
       "∂x               ∂y                "
      ]
     },
     "execution_count": 57,
     "metadata": {},
     "output_type": "execute_result"
    }
   ],
   "source": [
    "# substitue seperation ansatz\n",
    "EQ1.subs(u(x,y), X(x)*Y(y))"
   ]
  },
  {
   "cell_type": "code",
   "execution_count": 58,
   "metadata": {},
   "outputs": [
    {
     "data": {
      "image/png": "[encoded data removed]",
      "text/latex": [
       "$\\displaystyle X{\\left(x \\right)} \\frac{d^{2}}{d y^{2}} Y{\\left(y \\right)} + Y{\\left(y \\right)} \\frac{d^{2}}{d x^{2}} X{\\left(x \\right)} = 0$"
      ],
      "text/plain": [
       "       2                2          \n",
       "      d                d           \n",
       "X(x)⋅───(Y(y)) + Y(y)⋅───(X(x)) = 0\n",
       "       2                2          \n",
       "     dy               dx           "
      ]
     },
     "execution_count": 58,
     "metadata": {},
     "output_type": "execute_result"
    }
   ],
   "source": [
    "_.doit()"
   ]
  },
  {
   "cell_type": "code",
   "execution_count": 59,
   "metadata": {},
   "outputs": [
    {
     "data": {
      "image/png": "[encoded data removed]",
      "text/latex": [
       "$\\displaystyle \\frac{X{\\left(x \\right)} \\frac{d^{2}}{d y^{2}} Y{\\left(y \\right)} + Y{\\left(y \\right)} \\frac{d^{2}}{d x^{2}} X{\\left(x \\right)}}{X{\\left(x \\right)} Y{\\left(y \\right)}} = 0$"
      ],
      "text/plain": [
       "       2                2          \n",
       "      d                d           \n",
       "X(x)⋅───(Y(y)) + Y(y)⋅───(X(x))    \n",
       "       2                2          \n",
       "     dy               dx           \n",
       "─────────────────────────────── = 0\n",
       "           X(x)⋅Y(y)               "
      ]
     },
     "execution_count": 59,
     "metadata": {},
     "output_type": "execute_result"
    }
   ],
   "source": [
    "# divide bt the seperation ansatz \n",
    "apply(_, Mul, 1/ (X(x)*Y(y)))"
   ]
  },
  {
   "cell_type": "code",
   "execution_count": 60,
   "metadata": {},
   "outputs": [
    {
     "data": {
      "image/png": "[encoded data removed]",
      "text/latex": [
       "$\\displaystyle \\frac{\\frac{d^{2}}{d y^{2}} Y{\\left(y \\right)}}{Y{\\left(y \\right)}} + \\frac{\\frac{d^{2}}{d x^{2}} X{\\left(x \\right)}}{X{\\left(x \\right)}} = 0$"
      ],
      "text/plain": [
       "  2           2          \n",
       " d           d           \n",
       "───(Y(y))   ───(X(x))    \n",
       "  2           2          \n",
       "dy          dx           \n",
       "───────── + ───────── = 0\n",
       "   Y(y)        X(x)      "
      ]
     },
     "execution_count": 60,
     "metadata": {},
     "output_type": "execute_result"
    }
   ],
   "source": [
    "expand(_)"
   ]
  },
  {
   "cell_type": "code",
   "execution_count": 61,
   "metadata": {},
   "outputs": [
    {
     "data": {
      "image/png": "[encoded data removed]",
      "text/latex": [
       "$\\displaystyle \\frac{\\frac{d^{2}}{d x^{2}} X{\\left(x \\right)}}{X{\\left(x \\right)}} = - \\frac{\\frac{d^{2}}{d y^{2}} Y{\\left(y \\right)}}{Y{\\left(y \\right)}}$"
      ],
      "text/plain": [
       "  2            2       \n",
       " d            d        \n",
       "───(X(x))   -───(Y(y)) \n",
       "  2            2       \n",
       "dx           dy        \n",
       "───────── = ───────────\n",
       "   X(x)         Y(y)   "
      ]
     },
     "execution_count": 61,
     "metadata": {},
     "output_type": "execute_result"
    }
   ],
   "source": [
    "# put on different sides \n",
    "apply(_, Add, -_.lhs.args[1])"
   ]
  },
  {
   "cell_type": "code",
   "execution_count": 62,
   "metadata": {},
   "outputs": [],
   "source": [
    "EQ2 = _"
   ]
  },
  {
   "cell_type": "markdown",
   "metadata": {},
   "source": [
    "### solving for X(x)"
   ]
  },
  {
   "cell_type": "code",
   "execution_count": 64,
   "metadata": {},
   "outputs": [
    {
     "data": {
      "image/png": "[encoded data removed]",
      "text/latex": [
       "$\\displaystyle \\frac{\\frac{d^{2}}{d x^{2}} X{\\left(x \\right)}}{X{\\left(x \\right)}} = - k^{2}$"
      ],
      "text/plain": [
       "  2            \n",
       " d             \n",
       "───(X(x))      \n",
       "  2            \n",
       "dx            2\n",
       "───────── = -k \n",
       "   X(x)        "
      ]
     },
     "execution_count": 64,
     "metadata": {},
     "output_type": "execute_result"
    }
   ],
   "source": [
    "# each side must equal some negative constant # TODO => read in PDE book about this.. \n",
    "k = symbols(\"k\")\n",
    "\n",
    "Eq(EQ2.lhs, -k**2)"
   ]
  },
  {
   "cell_type": "code",
   "execution_count": 65,
   "metadata": {},
   "outputs": [
    {
     "data": {
      "image/png": "[encoded data removed]",
      "text/latex": [
       "$\\displaystyle \\frac{d^{2}}{d x^{2}} X{\\left(x \\right)} = - k^{2} X{\\left(x \\right)}$"
      ],
      "text/plain": [
       "  2                 \n",
       " d            2     \n",
       "───(X(x)) = -k ⋅X(x)\n",
       "  2                 \n",
       "dx                  "
      ]
     },
     "execution_count": 65,
     "metadata": {},
     "output_type": "execute_result"
    }
   ],
   "source": [
    "apply(_, Mul, X(x))"
   ]
  },
  {
   "cell_type": "code",
   "execution_count": 66,
   "metadata": {},
   "outputs": [],
   "source": [
    "EQ3 = _"
   ]
  },
  {
   "cell_type": "code",
   "execution_count": 68,
   "metadata": {},
   "outputs": [
    {
     "data": {
      "image/png": "[encoded data removed]",
      "text/latex": [
       "$\\displaystyle X{\\left(x \\right)} = A \\sin{\\left(k x \\right)} + B \\cos{\\left(k x \\right)}$"
      ],
      "text/plain": [
       "X(x) = A⋅sin(k⋅x) + B⋅cos(k⋅x)"
      ]
     },
     "execution_count": 68,
     "metadata": {},
     "output_type": "execute_result"
    }
   ],
   "source": [
    "# this is the ODE of a harmonic oscillator #TODO, refresh on ODEs \n",
    "# can write down solution for X(x) immediately \n",
    "\n",
    "var(\"A, B\")\n",
    "Eq(X(x), A * sin(k*x) + B * cos(k*x))"
   ]
  },
  {
   "cell_type": "markdown",
   "metadata": {},
   "source": [
    "#### boundary conditions on u(x)"
   ]
  },
  {
   "cell_type": "markdown",
   "metadata": {},
   "source": [
    "##### bc1: u(x=0, y) = 0"
   ]
  },
  {
   "cell_type": "code",
   "execution_count": 69,
   "metadata": {},
   "outputs": [
    {
     "data": {
      "image/png": "[encoded data removed]",
      "text/latex": [
       "$\\displaystyle X{\\left(x \\right)} = A \\sin{\\left(k x \\right)}$"
      ],
      "text/plain": [
       "X(x) = A⋅sin(k⋅x)"
      ]
     },
     "execution_count": 69,
     "metadata": {},
     "output_type": "execute_result"
    }
   ],
   "source": [
    "_.subs(B, 0) # note => skipped a step -> didnt acually solve out "
   ]
  },
  {
   "cell_type": "code",
   "execution_count": 70,
   "metadata": {},
   "outputs": [],
   "source": [
    "EQ4 = _"
   ]
  },
  {
   "cell_type": "markdown",
   "metadata": {},
   "source": [
    "##### bc2: u(x=a, y) = 0"
   ]
  },
  {
   "cell_type": "code",
   "execution_count": 71,
   "metadata": {},
   "outputs": [
    {
     "data": {
      "image/png": "[encoded data removed]",
      "text/latex": [
       "$\\displaystyle \\sin{\\left(a k \\right)} = 0$"
      ],
      "text/plain": [
       "sin(a⋅k) = 0"
      ]
     },
     "execution_count": 71,
     "metadata": {},
     "output_type": "execute_result"
    }
   ],
   "source": [
    "var(\"a\")\n",
    "\n",
    "Eq(sin(k*a), 0) # NOTE: left out the A / didnt use the whole equation - why?"
   ]
  },
  {
   "cell_type": "code",
   "execution_count": 72,
   "metadata": {},
   "outputs": [
    {
     "data": {
      "image/png": "[encoded data removed]",
      "text/latex": [
       "$\\displaystyle \\left[ 0, \\  \\pi\\right]$"
      ],
      "text/plain": [
       "[0, π]"
      ]
     },
     "execution_count": 72,
     "metadata": {},
     "output_type": "execute_result"
    }
   ],
   "source": [
    "solve(_, k*a)"
   ]
  },
  {
   "cell_type": "code",
   "execution_count": 73,
   "metadata": {},
   "outputs": [
    {
     "data": {
      "image/png": "[encoded data removed]",
      "text/latex": [
       "$\\displaystyle a k = \\pi n$"
      ],
      "text/plain": [
       "a⋅k = π⋅n"
      ]
     },
     "execution_count": 73,
     "metadata": {},
     "output_type": "execute_result"
    }
   ],
   "source": [
    "# 0, pi are possible values for k*a, but also all integrer multiples of pi \n",
    "var(\"n\", integer=True)\n",
    "\n",
    "Eq(k*a, n*pi)"
   ]
  },
  {
   "cell_type": "code",
   "execution_count": 74,
   "metadata": {},
   "outputs": [
    {
     "data": {
      "image/png": "[encoded data removed]",
      "text/latex": [
       "$\\displaystyle \\left[ \\frac{\\pi n}{a}\\right]$"
      ],
      "text/plain": [
       "⎡π⋅n⎤\n",
       "⎢───⎥\n",
       "⎣ a ⎦"
      ]
     },
     "execution_count": 74,
     "metadata": {},
     "output_type": "execute_result"
    }
   ],
   "source": [
    "solve(_, k)"
   ]
  },
  {
   "cell_type": "code",
   "execution_count": 76,
   "metadata": {},
   "outputs": [
    {
     "data": {
      "image/png": "[encoded data removed]",
      "text/latex": [
       "$\\displaystyle k = \\frac{\\pi n}{a}$"
      ],
      "text/plain": [
       "    π⋅n\n",
       "k = ───\n",
       "     a "
      ]
     },
     "execution_count": 76,
     "metadata": {},
     "output_type": "execute_result"
    }
   ],
   "source": [
    "Eq(k, _[0])"
   ]
  },
  {
   "cell_type": "code",
   "execution_count": 77,
   "metadata": {},
   "outputs": [],
   "source": [
    "EQ_k = _"
   ]
  },
  {
   "cell_type": "code",
   "execution_count": 78,
   "metadata": {},
   "outputs": [
    {
     "data": {
      "image/png": "[encoded data removed]",
      "text/latex": [
       "$\\displaystyle X{\\left(x \\right)} = A \\sin{\\left(\\frac{\\pi n x}{a} \\right)}$"
      ],
      "text/plain": [
       "            ⎛π⋅n⋅x⎞\n",
       "X(x) = A⋅sin⎜─────⎟\n",
       "            ⎝  a  ⎠"
      ]
     },
     "execution_count": 78,
     "metadata": {},
     "output_type": "execute_result"
    }
   ],
   "source": [
    "# now have a value for k, can eliminate from solution of x\n",
    "EQ4.subs(k, _.rhs)"
   ]
  },
  {
   "cell_type": "code",
   "execution_count": 79,
   "metadata": {},
   "outputs": [],
   "source": [
    "EQ5 = _"
   ]
  },
  {
   "cell_type": "markdown",
   "metadata": {},
   "source": [
    "### solving for Y(y)"
   ]
  },
  {
   "cell_type": "code",
   "execution_count": 81,
   "metadata": {},
   "outputs": [
    {
     "data": {
      "image/png": "[encoded data removed]",
      "text/latex": [
       "$\\displaystyle - \\frac{\\frac{d^{2}}{d y^{2}} Y{\\left(y \\right)}}{Y{\\left(y \\right)}} = - k^{2}$"
      ],
      "text/plain": [
       "   2             \n",
       "  d              \n",
       "-───(Y(y))       \n",
       "   2             \n",
       " dy             2\n",
       "─────────── = -k \n",
       "    Y(y)         "
      ]
     },
     "execution_count": 81,
     "metadata": {},
     "output_type": "execute_result"
    }
   ],
   "source": [
    "Eq(EQ2.rhs, -k**2)"
   ]
  },
  {
   "cell_type": "code",
   "execution_count": 82,
   "metadata": {},
   "outputs": [
    {
     "data": {
      "image/png": "[encoded data removed]",
      "text/latex": [
       "$\\displaystyle \\frac{d^{2}}{d y^{2}} Y{\\left(y \\right)} = k^{2} Y{\\left(y \\right)}$"
      ],
      "text/plain": [
       "  2                \n",
       " d           2     \n",
       "───(Y(y)) = k ⋅Y(y)\n",
       "  2                \n",
       "dy                 "
      ]
     },
     "execution_count": 82,
     "metadata": {},
     "output_type": "execute_result"
    }
   ],
   "source": [
    "apply(_, Mul, -Y(y))"
   ]
  },
  {
   "cell_type": "code",
   "execution_count": null,
   "metadata": {},
   "outputs": [],
   "source": [
    "# above ode is the hyperbolic counterpart of the harmonic oscillator #TODO review this..\n",
    "# again, can write down solution immediately \n",
    "\n",
    "var(\"C, D\")\n",
    "Eq(Y(y)), C * exp(k*y) + "
   ]
  }
 ],
 "metadata": {
  "kernelspec": {
   "display_name": "localwindowsenv",
   "language": "python",
   "name": "python3"
  },
  "language_info": {
   "codemirror_mode": {
    "name": "ipython",
    "version": 3
   },
   "file_extension": ".py",
   "mimetype": "text/x-python",
   "name": "python",
   "nbconvert_exporter": "python",
   "pygments_lexer": "ipython3",
   "version": "3.9.15"
  },
  "orig_nbformat": 4
 },
 "nbformat": 4,
 "nbformat_minor": 2
}
