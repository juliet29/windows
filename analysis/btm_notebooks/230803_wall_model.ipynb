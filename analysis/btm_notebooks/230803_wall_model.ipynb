{
 "cells": [
  {
   "cell_type": "code",
   "execution_count": 2,
   "metadata": {},
   "outputs": [],
   "source": [
    "import numpy as np\n",
    "\n",
    "import plotly.graph_objects as go\n",
    "from plotly.subplots import make_subplots\n",
    "\n",
    "from icecream import ic"
   ]
  },
  {
   "cell_type": "code",
   "execution_count": 3,
   "metadata": {},
   "outputs": [],
   "source": [
    "class FabricPhysicalConstants:\n",
    "    rho= 2300 #kg/m^3 \n",
    "    cp= 750 # J/(kg-K) \n",
    "    k=0.8 # W/(m-K)\n",
    "    h = 4 # W/(m-K)\n",
    "    T0= 293.15 # K \n",
    "\n",
    "    alpha = k/(cp*rho) # thermal diffusivity"
   ]
  },
  {
   "cell_type": "code",
   "execution_count": 35,
   "metadata": {},
   "outputs": [],
   "source": [
    "class TransientWallConduction:\n",
    "    def __init__(self, f:FabricPhysicalConstants):\n",
    "        self.f = f\n",
    "        # x vals init in example => th = 0.10 m, dt = 0.010 m \n",
    "        thickness = 0.10 \n",
    "        self.dx = 0.010\n",
    "        self.x_vals = np.arange(start=0, stop=thickness, step=self.dx)\n",
    "        self.M = len(self.x_vals)\n",
    "\n",
    "        # time vals init \n",
    "        self.dt = 15 # seconds also from example \n",
    "        period = self.dt * 4 * 60/20 # 1 hour/ \n",
    "        self.times = np.arange(start=0, stop=period , step=self.dt)\n",
    "        self.N = len(self.times)\n",
    "        # TODO resolve difference between this time formulation and that of indoor air, also use time stamps...\n",
    "\n",
    "        # initialize N*M matrix - time * x nodes \n",
    "        self.Ttx = np.zeros((self.N, self.M))\n",
    "        self.Ttx[0,:] = f.T0\n",
    "\n",
    "        # time constant\n",
    "        # # TODO check tau  \n",
    "        self.tau = self.f.alpha * self.dt / (self.dx**2)\n",
    "        \n",
    "\n",
    "    def calc_boundary_nodes(self, i):\n",
    "        # TODO beta should be different based on side of wall \n",
    "        beta = self.f.h * self.dx / self.f.k\n",
    "        eq = lambda Tself, Tnb: (1 -2*self.tau - 2*self.tau*beta)*Tself + 2*self.tau*Tnb + 2*self.tau*beta\n",
    "        \n",
    "        T0 = eq(self.Ttx[i,0], self.Ttx[i, 1] )\n",
    "        TM = eq(self.Ttx[i,self.M-1], self.Ttx[i, self.M-2] )\n",
    "\n",
    "        return T0, TM\n",
    "\n",
    "    def calc_interior_nodes(self, i):\n",
    "        Tint =  np.zeros(self.M)\n",
    "        row = self.Ttx[i,:] \n",
    "        for m in range(self.M):\n",
    "            m = m + 1 # avoid first and last nodes \n",
    "            if m < len(self.x_vals) - 1:\n",
    "                Tint[m] = self.tau*(row[m - 1] + row[m + 1]) + (1 - 2*self.tau)*row[m]\n",
    "        \n",
    "        assert Tint[0] == 0 and Tint[self.M-1] == 0 \n",
    "\n",
    "        return Tint \n",
    "    \n",
    "    def calc_Tx_at_t(self, i):\n",
    "        if i < self.N - 1:\n",
    "            self.Ttx[i+1, :] = self.calc_interior_nodes(i)\n",
    "            self.Ttx[i+1, 0], self.Ttx[i+1, self.M-1] = self.calc_boundary_nodes(i)\n",
    "\n",
    "            return self.Ttx[i+1, :]\n",
    "\n",
    "    def calc_all(self):\n",
    "        for i in range(self.N):\n",
    "            self.calc_Tx_at_t(i)\n",
    "\n",
    "        return self.Ttx"
   ]
  },
  {
   "cell_type": "code",
   "execution_count": 36,
   "metadata": {},
   "outputs": [],
   "source": [
    "t = TransientWallConduction(FabricPhysicalConstants())\n",
    "Txt = t.calc_all()"
   ]
  },
  {
   "cell_type": "code",
   "execution_count": 37,
   "metadata": {},
   "outputs": [
    {
     "data": {
      "application/vnd.plotly.v1+json": {
       "config": {
        "plotlyServerURL": "https://plotly.com"
       },
       "data": [
        {
         "mode": "lines+markers",
         "name": "0",
         "type": "scatter",
         "x": [
          0,
          0.01,
          0.02,
          0.03,
          0.04,
          0.05,
          0.06,
          0.07,
          0.08,
          0.09
         ],
         "y": [
          293.15,
          293.15,
          293.15,
          293.15,
          293.15,
          293.15,
          293.15,
          293.15,
          293.15,
          293.15
         ]
        },
        {
         "mode": "lines+markers",
         "name": "1",
         "type": "scatter",
         "x": [
          0,
          0.01,
          0.02,
          0.03,
          0.04,
          0.05,
          0.06,
          0.07,
          0.08,
          0.09
         ],
         "y": [
          291.11765217391303,
          293.15,
          293.15,
          293.15,
          293.15,
          293.15,
          293.15,
          293.15,
          293.15,
          291.11765217391303
         ]
        },
        {
         "mode": "lines+markers",
         "name": "2",
         "type": "scatter",
         "x": [
          0,
          0.01,
          0.02,
          0.03,
          0.04,
          0.05,
          0.06,
          0.07,
          0.08,
          0.09
         ],
         "y": [
          289.3822038563327,
          293.0086192816635,
          293.15,
          293.15,
          293.15,
          293.15,
          293.15,
          293.15,
          293.0086192816635,
          289.3822038563327
         ]
        },
        {
         "mode": "lines+markers",
         "name": "3",
         "type": "scatter",
         "x": [
          0,
          0.01,
          0.02,
          0.03,
          0.04,
          0.05,
          0.06,
          0.07,
          0.08,
          0.09
         ],
         "y": [
          287.8806115408564,
          292.7661820846552,
          293.14016481959396,
          293.15,
          293.15,
          293.15,
          293.15,
          293.14016481959396,
          292.7661820846552,
          287.8806115408564
         ]
        },
        {
         "mode": "lines+markers",
         "name": "4",
         "type": "scatter",
         "x": [
          0,
          0.01,
          0.02,
          0.03,
          0.04,
          0.05,
          0.06,
          0.07,
          0.08,
          0.09
         ],
         "y": [
          286.56465188405724,
          292.4523324979519,
          293.1148328158004,
          293.14931581353693,
          293.15,
          293.15,
          293.14931581353693,
          293.1148328158004,
          292.4523324979519,
          286.56465188405724
         ]
        },
        {
         "mode": "lines+markers",
         "name": "5",
         "type": "scatter",
         "x": [
          0,
          0.01,
          0.02,
          0.03,
          0.04,
          0.05,
          0.06,
          0.07,
          0.08,
          0.09
         ],
         "y": [
          285.3972707389709,
          292.0888416947487,
          293.07114465440134,
          293.14696459188315,
          293.14995240441993,
          293.14995240441993,
          293.14696459188315,
          293.07114465440134,
          292.0888416947487,
          285.3972707389709
         ]
        },
        {
         "mode": "lines+markers",
         "name": "6",
         "type": "scatter",
         "x": [
          0,
          0.01,
          0.02,
          0.03,
          0.04,
          0.05,
          0.06,
          0.07,
          0.08,
          0.09
         ],
         "y": [
          284.34985611898196,
          291.691675225453,
          293.0080849659025,
          293.1418980092783,
          293.1497445565913,
          293.1497445565913,
          293.1418980092783,
          293.0080849659025,
          291.691675225453,
          284.34985611898196
         ]
        },
        {
         "mode": "lines+markers",
         "name": "7",
         "type": "scatter",
         "x": [
          0,
          0.01,
          0.02,
          0.03,
          0.04,
          0.05,
          0.06,
          0.07,
          0.08,
          0.09
         ],
         "y": [
          283.4001971694894,
          291.27251631303415,
          292.92581736958437,
          293.13313512259566,
          293.1491987098217,
          293.1491987098217,
          293.13313512259566,
          292.92581736958437,
          291.27251631303415,
          283.4001971694894
         ]
        },
        {
         "mode": "lines+markers",
         "name": "8",
         "type": "scatter",
         "x": [
          0,
          0.01,
          0.02,
          0.03,
          0.04,
          0.05,
          0.06,
          0.07,
          0.08,
          0.09
         ],
         "y": [
          282.530953243934,
          290.83988896785195,
          292.8252272267295,
          293.1198304849758,
          293.14808124288425,
          293.14808124288425,
          293.1198304849758,
          292.8252272267295,
          290.83988896785195,
          282.530953243934
         ]
        },
        {
         "mode": "lines+markers",
         "name": "9",
         "type": "scatter",
         "x": [
          0,
          0.01,
          0.02,
          0.03,
          0.04,
          0.05,
          0.06,
          0.07,
          0.08,
          0.09
         ],
         "y": [
          281.72850288730393,
          290.39998653550134,
          292.7076108788595,
          293.1013016153871,
          293.1461159727689,
          293.1461159727689,
          293.1013016153871,
          292.7076108788595,
          290.39998653550134,
          281.72850288730393
         ]
        },
        {
         "mode": "lines+markers",
         "name": "10",
         "type": "scatter",
         "x": [
          0,
          0.01,
          0.02,
          0.03,
          0.04,
          0.05,
          0.06,
          0.07,
          0.08,
          0.09
         ],
         "y": [
          280.9820762443589,
          289.9572832795125,
          292.57446767142784,
          293.07703195422914,
          293.14299845225537,
          293.14299845225537,
          293.07703195422914,
          292.57446767142784,
          289.9572832795125,
          280.9820762443589
         ]
        },
        {
         "mode": "lines+markers",
         "name": "11",
         "type": "scatter",
         "x": [
          0,
          0.01,
          0.02,
          0.03,
          0.04,
          0.05,
          0.06,
          0.07,
          0.08,
          0.09
         ],
         "y": [
          280.283099301463,
          289.5149860521568,
          292.4273636638373,
          293.0466599344187,
          293.1384094784797,
          293.1384094784797,
          293.0466599344187,
          292.4273636638373,
          289.5149860521568,
          280.283099301463
         ]
        }
       ],
       "layout": {
        "template": {
         "data": {
          "bar": [
           {
            "error_x": {
             "color": "#2a3f5f"
            },
            "error_y": {
             "color": "#2a3f5f"
            },
            "marker": {
             "line": {
              "color": "#E5ECF6",
              "width": 0.5
             },
             "pattern": {
              "fillmode": "overlay",
              "size": 10,
              "solidity": 0.2
             }
            },
            "type": "bar"
           }
          ],
          "barpolar": [
           {
            "marker": {
             "line": {
              "color": "#E5ECF6",
              "width": 0.5
             },
             "pattern": {
              "fillmode": "overlay",
              "size": 10,
              "solidity": 0.2
             }
            },
            "type": "barpolar"
           }
          ],
          "carpet": [
           {
            "aaxis": {
             "endlinecolor": "#2a3f5f",
             "gridcolor": "white",
             "linecolor": "white",
             "minorgridcolor": "white",
             "startlinecolor": "#2a3f5f"
            },
            "baxis": {
             "endlinecolor": "#2a3f5f",
             "gridcolor": "white",
             "linecolor": "white",
             "minorgridcolor": "white",
             "startlinecolor": "#2a3f5f"
            },
            "type": "carpet"
           }
          ],
          "choropleth": [
           {
            "colorbar": {
             "outlinewidth": 0,
             "ticks": ""
            },
            "type": "choropleth"
           }
          ],
          "contour": [
           {
            "colorbar": {
             "outlinewidth": 0,
             "ticks": ""
            },
            "colorscale": [
             [
              0,
              "#0d0887"
             ],
             [
              0.1111111111111111,
              "#46039f"
             ],
             [
              0.2222222222222222,
              "#7201a8"
             ],
             [
              0.3333333333333333,
              "#9c179e"
             ],
             [
              0.4444444444444444,
              "#bd3786"
             ],
             [
              0.5555555555555556,
              "#d8576b"
             ],
             [
              0.6666666666666666,
              "#ed7953"
             ],
             [
              0.7777777777777778,
              "#fb9f3a"
             ],
             [
              0.8888888888888888,
              "#fdca26"
             ],
             [
              1,
              "#f0f921"
             ]
            ],
            "type": "contour"
           }
          ],
          "contourcarpet": [
           {
            "colorbar": {
             "outlinewidth": 0,
             "ticks": ""
            },
            "type": "contourcarpet"
           }
          ],
          "heatmap": [
           {
            "colorbar": {
             "outlinewidth": 0,
             "ticks": ""
            },
            "colorscale": [
             [
              0,
              "#0d0887"
             ],
             [
              0.1111111111111111,
              "#46039f"
             ],
             [
              0.2222222222222222,
              "#7201a8"
             ],
             [
              0.3333333333333333,
              "#9c179e"
             ],
             [
              0.4444444444444444,
              "#bd3786"
             ],
             [
              0.5555555555555556,
              "#d8576b"
             ],
             [
              0.6666666666666666,
              "#ed7953"
             ],
             [
              0.7777777777777778,
              "#fb9f3a"
             ],
             [
              0.8888888888888888,
              "#fdca26"
             ],
             [
              1,
              "#f0f921"
             ]
            ],
            "type": "heatmap"
           }
          ],
          "heatmapgl": [
           {
            "colorbar": {
             "outlinewidth": 0,
             "ticks": ""
            },
            "colorscale": [
             [
              0,
              "#0d0887"
             ],
             [
              0.1111111111111111,
              "#46039f"
             ],
             [
              0.2222222222222222,
              "#7201a8"
             ],
             [
              0.3333333333333333,
              "#9c179e"
             ],
             [
              0.4444444444444444,
              "#bd3786"
             ],
             [
              0.5555555555555556,
              "#d8576b"
             ],
             [
              0.6666666666666666,
              "#ed7953"
             ],
             [
              0.7777777777777778,
              "#fb9f3a"
             ],
             [
              0.8888888888888888,
              "#fdca26"
             ],
             [
              1,
              "#f0f921"
             ]
            ],
            "type": "heatmapgl"
           }
          ],
          "histogram": [
           {
            "marker": {
             "pattern": {
              "fillmode": "overlay",
              "size": 10,
              "solidity": 0.2
             }
            },
            "type": "histogram"
           }
          ],
          "histogram2d": [
           {
            "colorbar": {
             "outlinewidth": 0,
             "ticks": ""
            },
            "colorscale": [
             [
              0,
              "#0d0887"
             ],
             [
              0.1111111111111111,
              "#46039f"
             ],
             [
              0.2222222222222222,
              "#7201a8"
             ],
             [
              0.3333333333333333,
              "#9c179e"
             ],
             [
              0.4444444444444444,
              "#bd3786"
             ],
             [
              0.5555555555555556,
              "#d8576b"
             ],
             [
              0.6666666666666666,
              "#ed7953"
             ],
             [
              0.7777777777777778,
              "#fb9f3a"
             ],
             [
              0.8888888888888888,
              "#fdca26"
             ],
             [
              1,
              "#f0f921"
             ]
            ],
            "type": "histogram2d"
           }
          ],
          "histogram2dcontour": [
           {
            "colorbar": {
             "outlinewidth": 0,
             "ticks": ""
            },
            "colorscale": [
             [
              0,
              "#0d0887"
             ],
             [
              0.1111111111111111,
              "#46039f"
             ],
             [
              0.2222222222222222,
              "#7201a8"
             ],
             [
              0.3333333333333333,
              "#9c179e"
             ],
             [
              0.4444444444444444,
              "#bd3786"
             ],
             [
              0.5555555555555556,
              "#d8576b"
             ],
             [
              0.6666666666666666,
              "#ed7953"
             ],
             [
              0.7777777777777778,
              "#fb9f3a"
             ],
             [
              0.8888888888888888,
              "#fdca26"
             ],
             [
              1,
              "#f0f921"
             ]
            ],
            "type": "histogram2dcontour"
           }
          ],
          "mesh3d": [
           {
            "colorbar": {
             "outlinewidth": 0,
             "ticks": ""
            },
            "type": "mesh3d"
           }
          ],
          "parcoords": [
           {
            "line": {
             "colorbar": {
              "outlinewidth": 0,
              "ticks": ""
             }
            },
            "type": "parcoords"
           }
          ],
          "pie": [
           {
            "automargin": true,
            "type": "pie"
           }
          ],
          "scatter": [
           {
            "fillpattern": {
             "fillmode": "overlay",
             "size": 10,
             "solidity": 0.2
            },
            "type": "scatter"
           }
          ],
          "scatter3d": [
           {
            "line": {
             "colorbar": {
              "outlinewidth": 0,
              "ticks": ""
             }
            },
            "marker": {
             "colorbar": {
              "outlinewidth": 0,
              "ticks": ""
             }
            },
            "type": "scatter3d"
           }
          ],
          "scattercarpet": [
           {
            "marker": {
             "colorbar": {
              "outlinewidth": 0,
              "ticks": ""
             }
            },
            "type": "scattercarpet"
           }
          ],
          "scattergeo": [
           {
            "marker": {
             "colorbar": {
              "outlinewidth": 0,
              "ticks": ""
             }
            },
            "type": "scattergeo"
           }
          ],
          "scattergl": [
           {
            "marker": {
             "colorbar": {
              "outlinewidth": 0,
              "ticks": ""
             }
            },
            "type": "scattergl"
           }
          ],
          "scattermapbox": [
           {
            "marker": {
             "colorbar": {
              "outlinewidth": 0,
              "ticks": ""
             }
            },
            "type": "scattermapbox"
           }
          ],
          "scatterpolar": [
           {
            "marker": {
             "colorbar": {
              "outlinewidth": 0,
              "ticks": ""
             }
            },
            "type": "scatterpolar"
           }
          ],
          "scatterpolargl": [
           {
            "marker": {
             "colorbar": {
              "outlinewidth": 0,
              "ticks": ""
             }
            },
            "type": "scatterpolargl"
           }
          ],
          "scatterternary": [
           {
            "marker": {
             "colorbar": {
              "outlinewidth": 0,
              "ticks": ""
             }
            },
            "type": "scatterternary"
           }
          ],
          "surface": [
           {
            "colorbar": {
             "outlinewidth": 0,
             "ticks": ""
            },
            "colorscale": [
             [
              0,
              "#0d0887"
             ],
             [
              0.1111111111111111,
              "#46039f"
             ],
             [
              0.2222222222222222,
              "#7201a8"
             ],
             [
              0.3333333333333333,
              "#9c179e"
             ],
             [
              0.4444444444444444,
              "#bd3786"
             ],
             [
              0.5555555555555556,
              "#d8576b"
             ],
             [
              0.6666666666666666,
              "#ed7953"
             ],
             [
              0.7777777777777778,
              "#fb9f3a"
             ],
             [
              0.8888888888888888,
              "#fdca26"
             ],
             [
              1,
              "#f0f921"
             ]
            ],
            "type": "surface"
           }
          ],
          "table": [
           {
            "cells": {
             "fill": {
              "color": "#EBF0F8"
             },
             "line": {
              "color": "white"
             }
            },
            "header": {
             "fill": {
              "color": "#C8D4E3"
             },
             "line": {
              "color": "white"
             }
            },
            "type": "table"
           }
          ]
         },
         "layout": {
          "annotationdefaults": {
           "arrowcolor": "#2a3f5f",
           "arrowhead": 0,
           "arrowwidth": 1
          },
          "autotypenumbers": "strict",
          "coloraxis": {
           "colorbar": {
            "outlinewidth": 0,
            "ticks": ""
           }
          },
          "colorscale": {
           "diverging": [
            [
             0,
             "#8e0152"
            ],
            [
             0.1,
             "#c51b7d"
            ],
            [
             0.2,
             "#de77ae"
            ],
            [
             0.3,
             "#f1b6da"
            ],
            [
             0.4,
             "#fde0ef"
            ],
            [
             0.5,
             "#f7f7f7"
            ],
            [
             0.6,
             "#e6f5d0"
            ],
            [
             0.7,
             "#b8e186"
            ],
            [
             0.8,
             "#7fbc41"
            ],
            [
             0.9,
             "#4d9221"
            ],
            [
             1,
             "#276419"
            ]
           ],
           "sequential": [
            [
             0,
             "#0d0887"
            ],
            [
             0.1111111111111111,
             "#46039f"
            ],
            [
             0.2222222222222222,
             "#7201a8"
            ],
            [
             0.3333333333333333,
             "#9c179e"
            ],
            [
             0.4444444444444444,
             "#bd3786"
            ],
            [
             0.5555555555555556,
             "#d8576b"
            ],
            [
             0.6666666666666666,
             "#ed7953"
            ],
            [
             0.7777777777777778,
             "#fb9f3a"
            ],
            [
             0.8888888888888888,
             "#fdca26"
            ],
            [
             1,
             "#f0f921"
            ]
           ],
           "sequentialminus": [
            [
             0,
             "#0d0887"
            ],
            [
             0.1111111111111111,
             "#46039f"
            ],
            [
             0.2222222222222222,
             "#7201a8"
            ],
            [
             0.3333333333333333,
             "#9c179e"
            ],
            [
             0.4444444444444444,
             "#bd3786"
            ],
            [
             0.5555555555555556,
             "#d8576b"
            ],
            [
             0.6666666666666666,
             "#ed7953"
            ],
            [
             0.7777777777777778,
             "#fb9f3a"
            ],
            [
             0.8888888888888888,
             "#fdca26"
            ],
            [
             1,
             "#f0f921"
            ]
           ]
          },
          "colorway": [
           "#636efa",
           "#EF553B",
           "#00cc96",
           "#ab63fa",
           "#FFA15A",
           "#19d3f3",
           "#FF6692",
           "#B6E880",
           "#FF97FF",
           "#FECB52"
          ],
          "font": {
           "color": "#2a3f5f"
          },
          "geo": {
           "bgcolor": "white",
           "lakecolor": "white",
           "landcolor": "#E5ECF6",
           "showlakes": true,
           "showland": true,
           "subunitcolor": "white"
          },
          "hoverlabel": {
           "align": "left"
          },
          "hovermode": "closest",
          "mapbox": {
           "style": "light"
          },
          "paper_bgcolor": "white",
          "plot_bgcolor": "#E5ECF6",
          "polar": {
           "angularaxis": {
            "gridcolor": "white",
            "linecolor": "white",
            "ticks": ""
           },
           "bgcolor": "#E5ECF6",
           "radialaxis": {
            "gridcolor": "white",
            "linecolor": "white",
            "ticks": ""
           }
          },
          "scene": {
           "xaxis": {
            "backgroundcolor": "#E5ECF6",
            "gridcolor": "white",
            "gridwidth": 2,
            "linecolor": "white",
            "showbackground": true,
            "ticks": "",
            "zerolinecolor": "white"
           },
           "yaxis": {
            "backgroundcolor": "#E5ECF6",
            "gridcolor": "white",
            "gridwidth": 2,
            "linecolor": "white",
            "showbackground": true,
            "ticks": "",
            "zerolinecolor": "white"
           },
           "zaxis": {
            "backgroundcolor": "#E5ECF6",
            "gridcolor": "white",
            "gridwidth": 2,
            "linecolor": "white",
            "showbackground": true,
            "ticks": "",
            "zerolinecolor": "white"
           }
          },
          "shapedefaults": {
           "line": {
            "color": "#2a3f5f"
           }
          },
          "ternary": {
           "aaxis": {
            "gridcolor": "white",
            "linecolor": "white",
            "ticks": ""
           },
           "baxis": {
            "gridcolor": "white",
            "linecolor": "white",
            "ticks": ""
           },
           "bgcolor": "#E5ECF6",
           "caxis": {
            "gridcolor": "white",
            "linecolor": "white",
            "ticks": ""
           }
          },
          "title": {
           "x": 0.05
          },
          "xaxis": {
           "automargin": true,
           "gridcolor": "white",
           "linecolor": "white",
           "ticks": "",
           "title": {
            "standoff": 15
           },
           "zerolinecolor": "white",
           "zerolinewidth": 2
          },
          "yaxis": {
           "automargin": true,
           "gridcolor": "white",
           "linecolor": "white",
           "ticks": "",
           "title": {
            "standoff": 15
           },
           "zerolinecolor": "white",
           "zerolinewidth": 2
          }
         }
        },
        "title": {
         "text": "Heat Conduction in Wall"
        },
        "xaxis": {
         "title": {
          "text": "Distance Along Wall (X)"
         }
        },
        "yaxis": {
         "title": {
          "text": "Temperature (ºC)"
         }
        }
       }
      }
     },
     "metadata": {},
     "output_type": "display_data"
    }
   ],
   "source": [
    "fig = go.Figure()\n",
    "\n",
    "for time, x_at_time in enumerate(t.Ttx):\n",
    "    fig.add_trace(go.Scatter(x=t.x_vals, y=x_at_time, mode='lines+markers', name=time))\n",
    "fig.update_layout(xaxis_title='Distance Along Wall (X)',\n",
    "                  yaxis_title='Temperature (ºC)',\n",
    "                  title='Heat Conduction in Wall')\n"
   ]
  },
  {
   "cell_type": "code",
   "execution_count": 3,
   "metadata": {},
   "outputs": [],
   "source": [
    "def calc_boundary(i):\n",
    "    # TODO beta should be different based on side of wall \n",
    "    T0 = (1 -2*tau - 2*tau*beta)*Txt[i,0] + 2*tau*Txt[i, 1] + 2*tau*beta\n",
    "\n",
    "    TM = (1 -2*tau - 2*tau*beta)*Txt[i,M-1] + 2*tau*Txt[i, M-2] + 2*tau*beta\n",
    "\n",
    "    return T0, TM\n",
    "\n",
    "    # TODO make class!\n"
   ]
  },
  {
   "cell_type": "code",
   "execution_count": 4,
   "metadata": {},
   "outputs": [],
   "source": [
    "def calc_transient_wall_conduction(f:FabricPhysicalConstants):\n",
    "    # x vals init \n",
    "    \n",
    "    # in example => th = 0.10 m, dt = 0.010 m \n",
    "    thickness = 0.10 \n",
    "    dx = 0.010\n",
    "    x_vals = np.arange(start=0, stop=thickness, step=dx)\n",
    "    M = len(x_vals)\n",
    "\n",
    "    # time vals init \n",
    "    dt = 15 # seconds also from example \n",
    "    period = dt * 4 * 60/20 # 1 hour/ \n",
    "    times = np.arange(start=0, stop=period , step=dt)\n",
    "    N = len(times)\n",
    "    # TODO resolve difference between this time formulation and that of indoor air => ALSO need to do check of tau based on Cengel \n",
    "\n",
    "    # initialize big array \n",
    "    # # TODO should be called Ttx because t by x \n",
    "    Txt = np.zeros((N, M))\n",
    "    Txt[0,:] = f.T0\n",
    "\n",
    "\n",
    "    # initialize intermediate arrays for interior node calculation => # TODO put in own function \n",
    "    Ta =  np.zeros(M)\n",
    "    Tb = np.zeros(M)\n",
    "    ic(len(Ta), len(Tb), Txt.shape)\n",
    "\n",
    "    # beta => for convection \n",
    "    beta = f.h * dx / f.k\n",
    "    tau = f.alpha * dt / (dx**2)\n",
    "\n",
    "    for i, _ in enumerate(times):\n",
    "        row = Txt[i,:] # row at a given timestep\n",
    "        for m, _ in enumerate(Txt[i,:]): # iterate over the interior nodes\n",
    "            m = m + 1\n",
    "            if m < len(x_vals) - 1:\n",
    "                Ta[m] = row[m - 1] + row[m + 1]\n",
    "                Tb[m] = row[m]\n",
    "\n",
    "            if i < len(times) - 1:\n",
    "                Txt[i+1, :] = Ta*tau + Tb*(1 - 2*tau)\n",
    "                # update boundary conditions \n",
    "                T0, TM = calc_boundary(i)\n",
    "                Txt[i+1, 0] = T0\n",
    "                Txt[i+1, M-1] = TM\n",
    "\n",
    "    return Txt"
   ]
  },
  {
   "cell_type": "code",
   "execution_count": 5,
   "metadata": {},
   "outputs": [
    {
     "name": "stderr",
     "output_type": "stream",
     "text": [
      "ic| len(Ta): 10, len(Tb): 10, Txt.shape: (12, 10)\n"
     ]
    },
    {
     "ename": "NameError",
     "evalue": "name 'tau' is not defined",
     "output_type": "error",
     "traceback": [
      "\u001b[0;31m---------------------------------------------------------------------------\u001b[0m",
      "\u001b[0;31mNameError\u001b[0m                                 Traceback (most recent call last)",
      "Cell \u001b[0;32mIn[5], line 1\u001b[0m\n\u001b[0;32m----> 1\u001b[0m Txt \u001b[39m=\u001b[39m calc_transient_wall_conduction(FabricPhysicalConstants())\n",
      "Cell \u001b[0;32mIn[4], line 43\u001b[0m, in \u001b[0;36mcalc_transient_wall_conduction\u001b[0;34m(f)\u001b[0m\n\u001b[1;32m     41\u001b[0m Txt[i\u001b[39m+\u001b[39m\u001b[39m1\u001b[39m, :] \u001b[39m=\u001b[39m Ta\u001b[39m*\u001b[39mtau \u001b[39m+\u001b[39m Tb\u001b[39m*\u001b[39m(\u001b[39m1\u001b[39m \u001b[39m-\u001b[39m \u001b[39m2\u001b[39m\u001b[39m*\u001b[39mtau)\n\u001b[1;32m     42\u001b[0m \u001b[39m# update boundary conditions \u001b[39;00m\n\u001b[0;32m---> 43\u001b[0m T0, TM \u001b[39m=\u001b[39m calc_boundary(i)\n\u001b[1;32m     44\u001b[0m Txt[i\u001b[39m+\u001b[39m\u001b[39m1\u001b[39m, \u001b[39m0\u001b[39m] \u001b[39m=\u001b[39m T0\n\u001b[1;32m     45\u001b[0m Txt[i\u001b[39m+\u001b[39m\u001b[39m1\u001b[39m, M\u001b[39m-\u001b[39m\u001b[39m1\u001b[39m] \u001b[39m=\u001b[39m TM\n",
      "Cell \u001b[0;32mIn[3], line 3\u001b[0m, in \u001b[0;36mcalc_boundary\u001b[0;34m(i)\u001b[0m\n\u001b[1;32m      1\u001b[0m \u001b[39mdef\u001b[39;00m \u001b[39mcalc_boundary\u001b[39m(i):\n\u001b[1;32m      2\u001b[0m     \u001b[39m# TODO beta should be different based on side of wall \u001b[39;00m\n\u001b[0;32m----> 3\u001b[0m     T0 \u001b[39m=\u001b[39m (\u001b[39m1\u001b[39m \u001b[39m-\u001b[39m\u001b[39m2\u001b[39m\u001b[39m*\u001b[39mtau \u001b[39m-\u001b[39m \u001b[39m2\u001b[39m\u001b[39m*\u001b[39mtau\u001b[39m*\u001b[39mbeta)\u001b[39m*\u001b[39mTxt[i,\u001b[39m0\u001b[39m] \u001b[39m+\u001b[39m \u001b[39m2\u001b[39m\u001b[39m*\u001b[39mtau\u001b[39m*\u001b[39mTxt[i, \u001b[39m1\u001b[39m] \u001b[39m+\u001b[39m \u001b[39m2\u001b[39m\u001b[39m*\u001b[39mtau\u001b[39m*\u001b[39mbeta\n\u001b[1;32m      5\u001b[0m     TM \u001b[39m=\u001b[39m (\u001b[39m1\u001b[39m \u001b[39m-\u001b[39m\u001b[39m2\u001b[39m\u001b[39m*\u001b[39mtau \u001b[39m-\u001b[39m \u001b[39m2\u001b[39m\u001b[39m*\u001b[39mtau\u001b[39m*\u001b[39mbeta)\u001b[39m*\u001b[39mTxt[i,M\u001b[39m-\u001b[39m\u001b[39m1\u001b[39m] \u001b[39m+\u001b[39m \u001b[39m2\u001b[39m\u001b[39m*\u001b[39mtau\u001b[39m*\u001b[39mTxt[i, M\u001b[39m-\u001b[39m\u001b[39m2\u001b[39m] \u001b[39m+\u001b[39m \u001b[39m2\u001b[39m\u001b[39m*\u001b[39mtau\u001b[39m*\u001b[39mbeta\n\u001b[1;32m      7\u001b[0m     \u001b[39mreturn\u001b[39;00m T0, TM\n",
      "\u001b[0;31mNameError\u001b[0m: name 'tau' is not defined"
     ]
    }
   ],
   "source": [
    "Txt = calc_transient_wall_conduction(FabricPhysicalConstants())"
   ]
  },
  {
   "cell_type": "code",
   "execution_count": null,
   "metadata": {},
   "outputs": [
    {
     "data": {
      "application/vnd.plotly.v1+json": {
       "config": {
        "plotlyServerURL": "https://plotly.com"
       },
       "data": [
        {
         "mode": "lines+markers",
         "name": "0",
         "type": "scatter",
         "x": [
          0,
          0.01,
          0.02,
          0.03,
          0.04,
          0.05,
          0.06,
          0.07,
          0.08,
          0.09
         ],
         "y": [
          293.15,
          293.15,
          293.15,
          293.15,
          293.15,
          293.15,
          293.15,
          293.15,
          293.15,
          293.15
         ]
        },
        {
         "mode": "lines+markers",
         "name": "1",
         "type": "scatter",
         "x": [
          0,
          0.01,
          0.02,
          0.03,
          0.04,
          0.05,
          0.06,
          0.07,
          0.08,
          0.09
         ],
         "y": [
          291.11765217391303,
          293.15,
          293.15,
          293.15,
          293.15,
          293.15,
          293.15,
          293.15,
          293.15,
          291.11765217391303
         ]
        },
        {
         "mode": "lines+markers",
         "name": "2",
         "type": "scatter",
         "x": [
          0,
          0.01,
          0.02,
          0.03,
          0.04,
          0.05,
          0.06,
          0.07,
          0.08,
          0.09
         ],
         "y": [
          289.3822038563327,
          293.0086192816635,
          293.15,
          293.15,
          293.15,
          293.15,
          293.15,
          293.15,
          293.0086192816635,
          289.3822038563327
         ]
        },
        {
         "mode": "lines+markers",
         "name": "3",
         "type": "scatter",
         "x": [
          0,
          0.01,
          0.02,
          0.03,
          0.04,
          0.05,
          0.06,
          0.07,
          0.08,
          0.09
         ],
         "y": [
          287.8806115408564,
          292.7661820846552,
          293.14016481959396,
          293.15,
          293.15,
          293.15,
          293.15,
          293.14016481959396,
          292.7661820846552,
          287.8806115408564
         ]
        },
        {
         "mode": "lines+markers",
         "name": "4",
         "type": "scatter",
         "x": [
          0,
          0.01,
          0.02,
          0.03,
          0.04,
          0.05,
          0.06,
          0.07,
          0.08,
          0.09
         ],
         "y": [
          286.56465188405724,
          292.4523324979519,
          293.1148328158004,
          293.14931581353693,
          293.15,
          293.15,
          293.14931581353693,
          293.1148328158004,
          292.4523324979519,
          286.56465188405724
         ]
        },
        {
         "mode": "lines+markers",
         "name": "5",
         "type": "scatter",
         "x": [
          0,
          0.01,
          0.02,
          0.03,
          0.04,
          0.05,
          0.06,
          0.07,
          0.08,
          0.09
         ],
         "y": [
          285.3972707389709,
          292.0888416947487,
          293.07114465440134,
          293.14696459188315,
          293.14995240441993,
          293.14995240441993,
          293.14696459188315,
          293.07114465440134,
          292.0888416947487,
          285.3972707389709
         ]
        },
        {
         "mode": "lines+markers",
         "name": "6",
         "type": "scatter",
         "x": [
          0,
          0.01,
          0.02,
          0.03,
          0.04,
          0.05,
          0.06,
          0.07,
          0.08,
          0.09
         ],
         "y": [
          130.4933133884986,
          291.691675225453,
          293.0080849659025,
          293.1418980092783,
          293.1497445565913,
          293.1497445565913,
          293.1418980092783,
          293.0080849659025,
          291.691675225453,
          130.4933133884986
         ]
        },
        {
         "mode": "lines+markers",
         "name": "7",
         "type": "scatter",
         "x": [
          0,
          0.01,
          0.02,
          0.03,
          0.04,
          0.05,
          0.06,
          0.07,
          0.08,
          0.09
         ],
         "y": [
          123.36650866021408,
          280.5694524709136,
          292.92581736958437,
          293.13313512259566,
          293.1491987098217,
          293.1491987098217,
          293.13313512259566,
          292.92581736958437,
          280.5694524709136,
          123.36650866021408
         ]
        },
        {
         "mode": "lines+markers",
         "name": "8",
         "type": "scatter",
         "x": [
          0,
          0.01,
          0.02,
          0.03,
          0.04,
          0.05,
          0.06,
          0.07,
          0.08,
          0.09
         ],
         "y": [
          117.10952895285602,
          270.49316872051156,
          292.08066626379934,
          293.1198304849758,
          293.14808124288425,
          293.14808124288425,
          293.1198304849758,
          292.08066626379934,
          270.49316872051156,
          117.10952895285602
         ]
        },
        {
         "mode": "lines+markers",
         "name": "9",
         "type": "scatter",
         "x": [
          0,
          0.01,
          0.02,
          0.03,
          0.04,
          0.05,
          0.06,
          0.07,
          0.08,
          0.09
         ],
         "y": [
          111.58287906573372,
          261.3247414353382,
          290.6512169892177,
          293.0495060701398,
          293.1461159727689,
          293.1461159727689,
          293.0495060701398,
          290.6512169892177,
          261.3247414353382,
          111.58287906573372
         ]
        },
        {
         "mode": "lines+markers",
         "name": "10",
         "type": "scatter",
         "x": [
          0,
          0.01,
          0.02,
          0.03,
          0.04,
          0.05,
          0.06,
          0.07,
          0.08,
          0.09
         ],
         "y": [
          106.67278852712865,
          252.9480188742443,
          288.77795184327283,
          292.8893892577368,
          293.13939528389034,
          293.13939528389034,
          292.8893892577368,
          288.77795184327283,
          252.9480188742443,
          106.67278852712865
         ]
        },
        {
         "mode": "lines+markers",
         "name": "11",
         "type": "scatter",
         "x": [
          0,
          0.01,
          0.02,
          0.03,
          0.04,
          0.05,
          0.06,
          0.07,
          0.08,
          0.09
         ],
         "y": [
          102.28604953226098,
          245.26486775229043,
          286.57144780469446,
          292.6207679437674,
          293.12200356033185,
          293.12200356033185,
          292.6207679437674,
          286.57144780469446,
          245.26486775229043,
          102.28604953226098
         ]
        }
       ],
       "layout": {
        "template": {
         "data": {
          "bar": [
           {
            "error_x": {
             "color": "#2a3f5f"
            },
            "error_y": {
             "color": "#2a3f5f"
            },
            "marker": {
             "line": {
              "color": "#E5ECF6",
              "width": 0.5
             },
             "pattern": {
              "fillmode": "overlay",
              "size": 10,
              "solidity": 0.2
             }
            },
            "type": "bar"
           }
          ],
          "barpolar": [
           {
            "marker": {
             "line": {
              "color": "#E5ECF6",
              "width": 0.5
             },
             "pattern": {
              "fillmode": "overlay",
              "size": 10,
              "solidity": 0.2
             }
            },
            "type": "barpolar"
           }
          ],
          "carpet": [
           {
            "aaxis": {
             "endlinecolor": "#2a3f5f",
             "gridcolor": "white",
             "linecolor": "white",
             "minorgridcolor": "white",
             "startlinecolor": "#2a3f5f"
            },
            "baxis": {
             "endlinecolor": "#2a3f5f",
             "gridcolor": "white",
             "linecolor": "white",
             "minorgridcolor": "white",
             "startlinecolor": "#2a3f5f"
            },
            "type": "carpet"
           }
          ],
          "choropleth": [
           {
            "colorbar": {
             "outlinewidth": 0,
             "ticks": ""
            },
            "type": "choropleth"
           }
          ],
          "contour": [
           {
            "colorbar": {
             "outlinewidth": 0,
             "ticks": ""
            },
            "colorscale": [
             [
              0,
              "#0d0887"
             ],
             [
              0.1111111111111111,
              "#46039f"
             ],
             [
              0.2222222222222222,
              "#7201a8"
             ],
             [
              0.3333333333333333,
              "#9c179e"
             ],
             [
              0.4444444444444444,
              "#bd3786"
             ],
             [
              0.5555555555555556,
              "#d8576b"
             ],
             [
              0.6666666666666666,
              "#ed7953"
             ],
             [
              0.7777777777777778,
              "#fb9f3a"
             ],
             [
              0.8888888888888888,
              "#fdca26"
             ],
             [
              1,
              "#f0f921"
             ]
            ],
            "type": "contour"
           }
          ],
          "contourcarpet": [
           {
            "colorbar": {
             "outlinewidth": 0,
             "ticks": ""
            },
            "type": "contourcarpet"
           }
          ],
          "heatmap": [
           {
            "colorbar": {
             "outlinewidth": 0,
             "ticks": ""
            },
            "colorscale": [
             [
              0,
              "#0d0887"
             ],
             [
              0.1111111111111111,
              "#46039f"
             ],
             [
              0.2222222222222222,
              "#7201a8"
             ],
             [
              0.3333333333333333,
              "#9c179e"
             ],
             [
              0.4444444444444444,
              "#bd3786"
             ],
             [
              0.5555555555555556,
              "#d8576b"
             ],
             [
              0.6666666666666666,
              "#ed7953"
             ],
             [
              0.7777777777777778,
              "#fb9f3a"
             ],
             [
              0.8888888888888888,
              "#fdca26"
             ],
             [
              1,
              "#f0f921"
             ]
            ],
            "type": "heatmap"
           }
          ],
          "heatmapgl": [
           {
            "colorbar": {
             "outlinewidth": 0,
             "ticks": ""
            },
            "colorscale": [
             [
              0,
              "#0d0887"
             ],
             [
              0.1111111111111111,
              "#46039f"
             ],
             [
              0.2222222222222222,
              "#7201a8"
             ],
             [
              0.3333333333333333,
              "#9c179e"
             ],
             [
              0.4444444444444444,
              "#bd3786"
             ],
             [
              0.5555555555555556,
              "#d8576b"
             ],
             [
              0.6666666666666666,
              "#ed7953"
             ],
             [
              0.7777777777777778,
              "#fb9f3a"
             ],
             [
              0.8888888888888888,
              "#fdca26"
             ],
             [
              1,
              "#f0f921"
             ]
            ],
            "type": "heatmapgl"
           }
          ],
          "histogram": [
           {
            "marker": {
             "pattern": {
              "fillmode": "overlay",
              "size": 10,
              "solidity": 0.2
             }
            },
            "type": "histogram"
           }
          ],
          "histogram2d": [
           {
            "colorbar": {
             "outlinewidth": 0,
             "ticks": ""
            },
            "colorscale": [
             [
              0,
              "#0d0887"
             ],
             [
              0.1111111111111111,
              "#46039f"
             ],
             [
              0.2222222222222222,
              "#7201a8"
             ],
             [
              0.3333333333333333,
              "#9c179e"
             ],
             [
              0.4444444444444444,
              "#bd3786"
             ],
             [
              0.5555555555555556,
              "#d8576b"
             ],
             [
              0.6666666666666666,
              "#ed7953"
             ],
             [
              0.7777777777777778,
              "#fb9f3a"
             ],
             [
              0.8888888888888888,
              "#fdca26"
             ],
             [
              1,
              "#f0f921"
             ]
            ],
            "type": "histogram2d"
           }
          ],
          "histogram2dcontour": [
           {
            "colorbar": {
             "outlinewidth": 0,
             "ticks": ""
            },
            "colorscale": [
             [
              0,
              "#0d0887"
             ],
             [
              0.1111111111111111,
              "#46039f"
             ],
             [
              0.2222222222222222,
              "#7201a8"
             ],
             [
              0.3333333333333333,
              "#9c179e"
             ],
             [
              0.4444444444444444,
              "#bd3786"
             ],
             [
              0.5555555555555556,
              "#d8576b"
             ],
             [
              0.6666666666666666,
              "#ed7953"
             ],
             [
              0.7777777777777778,
              "#fb9f3a"
             ],
             [
              0.8888888888888888,
              "#fdca26"
             ],
             [
              1,
              "#f0f921"
             ]
            ],
            "type": "histogram2dcontour"
           }
          ],
          "mesh3d": [
           {
            "colorbar": {
             "outlinewidth": 0,
             "ticks": ""
            },
            "type": "mesh3d"
           }
          ],
          "parcoords": [
           {
            "line": {
             "colorbar": {
              "outlinewidth": 0,
              "ticks": ""
             }
            },
            "type": "parcoords"
           }
          ],
          "pie": [
           {
            "automargin": true,
            "type": "pie"
           }
          ],
          "scatter": [
           {
            "fillpattern": {
             "fillmode": "overlay",
             "size": 10,
             "solidity": 0.2
            },
            "type": "scatter"
           }
          ],
          "scatter3d": [
           {
            "line": {
             "colorbar": {
              "outlinewidth": 0,
              "ticks": ""
             }
            },
            "marker": {
             "colorbar": {
              "outlinewidth": 0,
              "ticks": ""
             }
            },
            "type": "scatter3d"
           }
          ],
          "scattercarpet": [
           {
            "marker": {
             "colorbar": {
              "outlinewidth": 0,
              "ticks": ""
             }
            },
            "type": "scattercarpet"
           }
          ],
          "scattergeo": [
           {
            "marker": {
             "colorbar": {
              "outlinewidth": 0,
              "ticks": ""
             }
            },
            "type": "scattergeo"
           }
          ],
          "scattergl": [
           {
            "marker": {
             "colorbar": {
              "outlinewidth": 0,
              "ticks": ""
             }
            },
            "type": "scattergl"
           }
          ],
          "scattermapbox": [
           {
            "marker": {
             "colorbar": {
              "outlinewidth": 0,
              "ticks": ""
             }
            },
            "type": "scattermapbox"
           }
          ],
          "scatterpolar": [
           {
            "marker": {
             "colorbar": {
              "outlinewidth": 0,
              "ticks": ""
             }
            },
            "type": "scatterpolar"
           }
          ],
          "scatterpolargl": [
           {
            "marker": {
             "colorbar": {
              "outlinewidth": 0,
              "ticks": ""
             }
            },
            "type": "scatterpolargl"
           }
          ],
          "scatterternary": [
           {
            "marker": {
             "colorbar": {
              "outlinewidth": 0,
              "ticks": ""
             }
            },
            "type": "scatterternary"
           }
          ],
          "surface": [
           {
            "colorbar": {
             "outlinewidth": 0,
             "ticks": ""
            },
            "colorscale": [
             [
              0,
              "#0d0887"
             ],
             [
              0.1111111111111111,
              "#46039f"
             ],
             [
              0.2222222222222222,
              "#7201a8"
             ],
             [
              0.3333333333333333,
              "#9c179e"
             ],
             [
              0.4444444444444444,
              "#bd3786"
             ],
             [
              0.5555555555555556,
              "#d8576b"
             ],
             [
              0.6666666666666666,
              "#ed7953"
             ],
             [
              0.7777777777777778,
              "#fb9f3a"
             ],
             [
              0.8888888888888888,
              "#fdca26"
             ],
             [
              1,
              "#f0f921"
             ]
            ],
            "type": "surface"
           }
          ],
          "table": [
           {
            "cells": {
             "fill": {
              "color": "#EBF0F8"
             },
             "line": {
              "color": "white"
             }
            },
            "header": {
             "fill": {
              "color": "#C8D4E3"
             },
             "line": {
              "color": "white"
             }
            },
            "type": "table"
           }
          ]
         },
         "layout": {
          "annotationdefaults": {
           "arrowcolor": "#2a3f5f",
           "arrowhead": 0,
           "arrowwidth": 1
          },
          "autotypenumbers": "strict",
          "coloraxis": {
           "colorbar": {
            "outlinewidth": 0,
            "ticks": ""
           }
          },
          "colorscale": {
           "diverging": [
            [
             0,
             "#8e0152"
            ],
            [
             0.1,
             "#c51b7d"
            ],
            [
             0.2,
             "#de77ae"
            ],
            [
             0.3,
             "#f1b6da"
            ],
            [
             0.4,
             "#fde0ef"
            ],
            [
             0.5,
             "#f7f7f7"
            ],
            [
             0.6,
             "#e6f5d0"
            ],
            [
             0.7,
             "#b8e186"
            ],
            [
             0.8,
             "#7fbc41"
            ],
            [
             0.9,
             "#4d9221"
            ],
            [
             1,
             "#276419"
            ]
           ],
           "sequential": [
            [
             0,
             "#0d0887"
            ],
            [
             0.1111111111111111,
             "#46039f"
            ],
            [
             0.2222222222222222,
             "#7201a8"
            ],
            [
             0.3333333333333333,
             "#9c179e"
            ],
            [
             0.4444444444444444,
             "#bd3786"
            ],
            [
             0.5555555555555556,
             "#d8576b"
            ],
            [
             0.6666666666666666,
             "#ed7953"
            ],
            [
             0.7777777777777778,
             "#fb9f3a"
            ],
            [
             0.8888888888888888,
             "#fdca26"
            ],
            [
             1,
             "#f0f921"
            ]
           ],
           "sequentialminus": [
            [
             0,
             "#0d0887"
            ],
            [
             0.1111111111111111,
             "#46039f"
            ],
            [
             0.2222222222222222,
             "#7201a8"
            ],
            [
             0.3333333333333333,
             "#9c179e"
            ],
            [
             0.4444444444444444,
             "#bd3786"
            ],
            [
             0.5555555555555556,
             "#d8576b"
            ],
            [
             0.6666666666666666,
             "#ed7953"
            ],
            [
             0.7777777777777778,
             "#fb9f3a"
            ],
            [
             0.8888888888888888,
             "#fdca26"
            ],
            [
             1,
             "#f0f921"
            ]
           ]
          },
          "colorway": [
           "#636efa",
           "#EF553B",
           "#00cc96",
           "#ab63fa",
           "#FFA15A",
           "#19d3f3",
           "#FF6692",
           "#B6E880",
           "#FF97FF",
           "#FECB52"
          ],
          "font": {
           "color": "#2a3f5f"
          },
          "geo": {
           "bgcolor": "white",
           "lakecolor": "white",
           "landcolor": "#E5ECF6",
           "showlakes": true,
           "showland": true,
           "subunitcolor": "white"
          },
          "hoverlabel": {
           "align": "left"
          },
          "hovermode": "closest",
          "mapbox": {
           "style": "light"
          },
          "paper_bgcolor": "white",
          "plot_bgcolor": "#E5ECF6",
          "polar": {
           "angularaxis": {
            "gridcolor": "white",
            "linecolor": "white",
            "ticks": ""
           },
           "bgcolor": "#E5ECF6",
           "radialaxis": {
            "gridcolor": "white",
            "linecolor": "white",
            "ticks": ""
           }
          },
          "scene": {
           "xaxis": {
            "backgroundcolor": "#E5ECF6",
            "gridcolor": "white",
            "gridwidth": 2,
            "linecolor": "white",
            "showbackground": true,
            "ticks": "",
            "zerolinecolor": "white"
           },
           "yaxis": {
            "backgroundcolor": "#E5ECF6",
            "gridcolor": "white",
            "gridwidth": 2,
            "linecolor": "white",
            "showbackground": true,
            "ticks": "",
            "zerolinecolor": "white"
           },
           "zaxis": {
            "backgroundcolor": "#E5ECF6",
            "gridcolor": "white",
            "gridwidth": 2,
            "linecolor": "white",
            "showbackground": true,
            "ticks": "",
            "zerolinecolor": "white"
           }
          },
          "shapedefaults": {
           "line": {
            "color": "#2a3f5f"
           }
          },
          "ternary": {
           "aaxis": {
            "gridcolor": "white",
            "linecolor": "white",
            "ticks": ""
           },
           "baxis": {
            "gridcolor": "white",
            "linecolor": "white",
            "ticks": ""
           },
           "bgcolor": "#E5ECF6",
           "caxis": {
            "gridcolor": "white",
            "linecolor": "white",
            "ticks": ""
           }
          },
          "title": {
           "x": 0.05
          },
          "xaxis": {
           "automargin": true,
           "gridcolor": "white",
           "linecolor": "white",
           "ticks": "",
           "title": {
            "standoff": 15
           },
           "zerolinecolor": "white",
           "zerolinewidth": 2
          },
          "yaxis": {
           "automargin": true,
           "gridcolor": "white",
           "linecolor": "white",
           "ticks": "",
           "title": {
            "standoff": 15
           },
           "zerolinecolor": "white",
           "zerolinewidth": 2
          }
         }
        },
        "title": {
         "text": "Heat Conduction in Wall"
        },
        "xaxis": {
         "title": {
          "text": "Distance Along Wall (X)"
         }
        },
        "yaxis": {
         "title": {
          "text": "Temperature (ºC)"
         }
        }
       }
      }
     },
     "metadata": {},
     "output_type": "display_data"
    }
   ],
   "source": [
    "fig = go.Figure()\n",
    "\n",
    "for t, x_at_time in enumerate(Txt):\n",
    "    fig.add_trace(go.Scatter(x=x_vals, y=x_at_time, mode='lines+markers', name=t))\n",
    "fig.update_layout(xaxis_title='Distance Along Wall (X)',\n",
    "                  yaxis_title='Temperature (ºC)',\n",
    "                  title='Heat Conduction in Wall')\n",
    "\n",
    "# TODO => temp at wall edges should be outdoor and indorr temps respectively... "
   ]
  }
 ],
 "metadata": {
  "kernelspec": {
   "display_name": "localwindowsenv",
   "language": "python",
   "name": "python3"
  },
  "language_info": {
   "codemirror_mode": {
    "name": "ipython",
    "version": 3
   },
   "file_extension": ".py",
   "mimetype": "text/x-python",
   "name": "python",
   "nbconvert_exporter": "python",
   "pygments_lexer": "ipython3",
   "version": "3.9.15"
  },
  "orig_nbformat": 4
 },
 "nbformat": 4,
 "nbformat_minor": 2
}
