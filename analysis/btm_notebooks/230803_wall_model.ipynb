{
 "cells": [
  {
   "cell_type": "code",
   "execution_count": 27,
   "metadata": {},
   "outputs": [],
   "source": [
    "import numpy as np\n",
    "\n",
    "import plotly.graph_objects as go\n",
    "from plotly.subplots import make_subplots\n",
    "\n",
    "from icecream import ic"
   ]
  },
  {
   "cell_type": "code",
   "execution_count": 33,
   "metadata": {},
   "outputs": [],
   "source": [
    "class FabricPhysicalConstants:\n",
    "    rho= 2300 #kg/m^3 \n",
    "    cp= 750 # J/(kg-K) \n",
    "    k=0.8 # W/(m-K)\n",
    "    h = 4 # W/(m-K)\n",
    "    T0= 293.15 # K \n",
    "\n",
    "    alpha = k/(cp*rho) # thermal diffusivity"
   ]
  },
  {
   "cell_type": "code",
   "execution_count": 4,
   "metadata": {},
   "outputs": [],
   "source": [
    "# in example => th = 0.10 m, dt = 0.010 m \n",
    "thickness = 0.10 \n",
    "dx = 0.010"
   ]
  },
  {
   "cell_type": "code",
   "execution_count": 36,
   "metadata": {},
   "outputs": [
    {
     "data": {
      "text/plain": [
       "10"
      ]
     },
     "execution_count": 36,
     "metadata": {},
     "output_type": "execute_result"
    }
   ],
   "source": [
    "x_vals = np.arange(start=0, stop=thickness, step=dx)\n",
    "M = len(x_vals)\n",
    "M"
   ]
  },
  {
   "cell_type": "code",
   "execution_count": 37,
   "metadata": {},
   "outputs": [],
   "source": [
    "dt = 15 # seconds\n",
    "period = dt * 4 * 60/20 # 1 hour/ \n",
    "times = np.arange(start=0, stop=period , step=dt)\n",
    "N = len(times)\n",
    "# TODO resolve difference between this time formulation and that of indoor air => ALSO need to do check of tau "
   ]
  },
  {
   "cell_type": "code",
   "execution_count": 22,
   "metadata": {},
   "outputs": [
    {
     "data": {
      "text/plain": [
       "(12, 10)"
      ]
     },
     "execution_count": 22,
     "metadata": {},
     "output_type": "execute_result"
    }
   ],
   "source": [
    "# initialize \n",
    "Txt = np.zeros((len(times), len(x_vals)))\n",
    "Txt[0,:] = f.T0\n",
    "Txt.shape"
   ]
  },
  {
   "cell_type": "code",
   "execution_count": 35,
   "metadata": {},
   "outputs": [
    {
     "data": {
      "text/plain": [
       "(0.06956521739130435, 0.049999999999999996)"
      ]
     },
     "execution_count": 35,
     "metadata": {},
     "output_type": "execute_result"
    }
   ],
   "source": [
    "f = FabricPhysicalConstants()\n",
    "tau = f.alpha * dt / (dx**2)\n",
    "Ta =  np.zeros(len(x_vals))\n",
    "Tb = np.zeros(len(x_vals))\n",
    "\n",
    "# beta => for convection \n",
    "beta = f.h * dx / f.k\n",
    "\n",
    "tau, beta\n",
    "\n",
    "# Ta = Tb = x => calling these the same pobject => pointing to the same place "
   ]
  },
  {
   "cell_type": "code",
   "execution_count": 42,
   "metadata": {},
   "outputs": [],
   "source": [
    "def calc_boundary(i):\n",
    "    # TODO beta should be different based on side of wall \n",
    "    T0 = (1 -2*tau - 2*tau*beta)*Txt[i,0] + 2*tau*Txt[i, 1] + 2*tau*beta\n",
    "\n",
    "    TM = (1 -2*tau - 2*tau*beta)*Txt[i,M-1] + 2*tau*Txt[i, M-2] + 2*tau*beta\n",
    "\n",
    "    return T0, TM\n"
   ]
  },
  {
   "cell_type": "code",
   "execution_count": 58,
   "metadata": {},
   "outputs": [],
   "source": [
    "def calc_transient_wall_conduction(f:FabricPhysicalConstants):\n",
    "    # x vals init \n",
    "    x_vals = np.arange(start=0, stop=thickness, step=dx)\n",
    "    M = len(x_vals)\n",
    "\n",
    "    # time vals init \n",
    "    dt = 15 # seconds\n",
    "    period = dt * 4 * 60/20 # 1 hour/ \n",
    "    times = np.arange(start=0, stop=period , step=dt)\n",
    "    N = len(times)\n",
    "    # TODO resolve difference between this time formulation and that of indoor air => ALSO need to do check of tau based on Cengel \n",
    "\n",
    "    # initialize big array \n",
    "    # # TODO should be called Ttx because t by x \n",
    "    Txt = np.zeros((N, M))\n",
    "    Txt[0,:] = f.T0\n",
    "\n",
    "\n",
    "    # initialize intermediate arrays for interior node calculation => # TODO put in own function \n",
    "    Ta =  np.zeros(M)\n",
    "    Tb = np.zeros(M)\n",
    "    ic(len(Ta), len(Tb), Txt.shape)\n",
    "\n",
    "    # beta => for convection \n",
    "    beta = f.h * dx / f.k\n",
    "    tau = f.alpha * dt / (dx**2)\n",
    "\n",
    "    for i, _ in enumerate(times):\n",
    "        row = Txt[i,:] # row at a given timestep\n",
    "        for m, _ in enumerate(Txt[i,:]): # iterate over the interior nodes\n",
    "            m = m + 1\n",
    "            if m < len(x_vals) - 1:\n",
    "                Ta[m] = row[m - 1] + row[m + 1]\n",
    "                Tb[m] = row[m]\n",
    "\n",
    "            if i < len(times) - 1:\n",
    "                Txt[i+1, :] = Ta*tau + Tb*(1 - 2*tau)\n",
    "                # update boundary conditions \n",
    "                T0, TM = calc_boundary(i)\n",
    "                Txt[i+1, 0] = T0\n",
    "                Txt[i+1, M-1] = TM\n",
    "\n",
    "    return Txt"
   ]
  },
  {
   "cell_type": "code",
   "execution_count": 59,
   "metadata": {},
   "outputs": [
    {
     "name": "stderr",
     "output_type": "stream",
     "text": [
      "ic| len(Ta): 10, len(Tb): 10, Txt.shape: (12, 10)\n"
     ]
    }
   ],
   "source": [
    "Txt = calc_transient_wall_conduction(FabricPhysicalConstants())"
   ]
  },
  {
   "cell_type": "code",
   "execution_count": 60,
   "metadata": {},
   "outputs": [
    {
     "data": {
      "application/vnd.plotly.v1+json": {
       "config": {
        "plotlyServerURL": "https://plotly.com"
       },
       "data": [
        {
         "mode": "lines+markers",
         "name": "0",
         "type": "scatter",
         "x": [
          0,
          0.01,
          0.02,
          0.03,
          0.04,
          0.05,
          0.06,
          0.07,
          0.08,
          0.09
         ],
         "y": [
          293.15,
          293.15,
          293.15,
          293.15,
          293.15,
          293.15,
          293.15,
          293.15,
          293.15,
          293.15
         ]
        },
        {
         "mode": "lines+markers",
         "name": "1",
         "type": "scatter",
         "x": [
          0,
          0.01,
          0.02,
          0.03,
          0.04,
          0.05,
          0.06,
          0.07,
          0.08,
          0.09
         ],
         "y": [
          33.39677305326954,
          293.15,
          293.15,
          293.15,
          293.15,
          293.15,
          293.15,
          293.15,
          293.15,
          33.39677305326954
         ]
        },
        {
         "mode": "lines+markers",
         "name": "2",
         "type": "scatter",
         "x": [
          0,
          0.01,
          0.02,
          0.03,
          0.04,
          0.05,
          0.06,
          0.07,
          0.08,
          0.09
         ],
         "y": [
          60.069095465600896,
          275.0802102993579,
          293.15,
          293.15,
          293.15,
          293.15,
          293.15,
          293.15,
          275.0802102993579,
          60.069095465600896
         ]
        },
        {
         "mode": "lines+markers",
         "name": "3",
         "type": "scatter",
         "x": [
          0,
          0.01,
          0.02,
          0.03,
          0.04,
          0.05,
          0.06,
          0.07,
          0.08,
          0.09
         ],
         "y": [
          81.54867875224421,
          261.3799442031412,
          291.89297115125964,
          293.15,
          293.15,
          293.15,
          293.15,
          291.89297115125964,
          261.3799442031412,
          81.54867875224421
         ]
        },
        {
         "mode": "lines+markers",
         "name": "4",
         "type": "scatter",
         "x": [
          0,
          0.01,
          0.02,
          0.03,
          0.04,
          0.05,
          0.06,
          0.07,
          0.08,
          0.09
         ],
         "y": [
          98.99711813674914,
          250.99258848120877,
          289.85777128347684,
          293.0625545148702,
          293.15,
          293.15,
          293.0625545148702,
          289.85777128347684,
          250.99258848120877,
          98.99711813674914
         ]
        },
        {
         "mode": "lines+markers",
         "name": "5",
         "type": "scatter",
         "x": [
          0,
          0.01,
          0.02,
          0.03,
          0.04,
          0.05,
          0.06,
          0.07,
          0.08,
          0.09
         ],
         "y": [
          113.29835550923237,
          243.12265543479543,
          287.37704783506814,
          292.8456962368693,
          293.14391683581704,
          293.14391683581704,
          292.8456962368693,
          287.37704783506814,
          243.12265543479543,
          113.29835550923237
         ]
        },
        {
         "mode": "lines+markers",
         "name": "6",
         "type": "scatter",
         "x": [
          0,
          0.01,
          0.02,
          0.03,
          0.04,
          0.05,
          0.06,
          0.07,
          0.08,
          0.09
         ],
         "y": [
          125.12754953014806,
          237.1699662156448,
          284.678909122131,
          292.4860143027578,
          293.1231710550207,
          293.1231710550207,
          292.4860143027578,
          284.678909122131,
          237.1699662156448,
          125.12754953014806
         ]
        },
        {
         "mode": "lines+markers",
         "name": "7",
         "type": "scatter",
         "x": [
          0,
          0.01,
          0.02,
          0.03,
          0.04,
          0.05,
          0.06,
          0.07,
          0.08,
          0.09
         ],
         "y": [
          135.0024608543992,
          232.68068108319187,
          281.9170421498973,
          291.9872352816542,
          293.0788471070372,
          293.0788471070372,
          291.9872352816542,
          281.9170421498973,
          232.68068108319187,
          135.0024608543992
         ]
        },
        {
         "mode": "lines+markers",
         "name": "8",
         "type": "scatter",
         "x": [
          0,
          0.01,
          0.02,
          0.03,
          0.04,
          0.05,
          0.06,
          0.07,
          0.08,
          0.09
         ],
         "y": [
          143.32186235090055,
          229.31081261974234,
          279.1924391631183,
          291.3626383212108,
          293.0029088930975,
          293.0029088930975,
          291.3626383212108,
          279.1924391631183,
          229.31081261974234,
          143.32186235090055
         ]
        },
        {
         "mode": "lines+markers",
         "name": "9",
         "type": "scatter",
         "x": [
          0,
          0.01,
          0.02,
          0.03,
          0.04,
          0.05,
          0.06,
          0.07,
          0.08,
          0.09
         ],
         "y": [
          150.3943075857214,
          226.7989987953621,
          276.5690355189247,
          290.6301215499965,
          292.88880311418364,
          292.88880311418364,
          290.6301215499965,
          276.5690355189247,
          226.7989987953621,
          150.3943075857214
         ]
        },
        {
         "mode": "lines+markers",
         "name": "10",
         "type": "scatter",
         "x": [
          0,
          0.01,
          0.02,
          0.03,
          0.04,
          0.05,
          0.06,
          0.07,
          0.08,
          0.09
         ],
         "y": [
          156.45972386198264,
          224.94615326589582,
          274.0849346011862,
          289.8090847175176,
          292.73167744015325,
          292.73167744015325,
          289.8090847175176,
          274.0849346011862,
          224.94615326589582,
          156.45972386198264
         ]
        },
        {
         "mode": "lines+markers",
         "name": "11",
         "type": "scatter",
         "x": [
          0,
          0.01,
          0.02,
          0.03,
          0.04,
          0.05,
          0.06,
          0.07,
          0.08,
          0.09
         ],
         "y": [
          161.70565673833426,
          223.60022992199163,
          271.76043851638906,
          288.91854159447786,
          292.5283666420569,
          292.5283666420569,
          288.91854159447786,
          271.76043851638906,
          223.60022992199163,
          161.70565673833426
         ]
        }
       ],
       "layout": {
        "template": {
         "data": {
          "bar": [
           {
            "error_x": {
             "color": "#2a3f5f"
            },
            "error_y": {
             "color": "#2a3f5f"
            },
            "marker": {
             "line": {
              "color": "#E5ECF6",
              "width": 0.5
             },
             "pattern": {
              "fillmode": "overlay",
              "size": 10,
              "solidity": 0.2
             }
            },
            "type": "bar"
           }
          ],
          "barpolar": [
           {
            "marker": {
             "line": {
              "color": "#E5ECF6",
              "width": 0.5
             },
             "pattern": {
              "fillmode": "overlay",
              "size": 10,
              "solidity": 0.2
             }
            },
            "type": "barpolar"
           }
          ],
          "carpet": [
           {
            "aaxis": {
             "endlinecolor": "#2a3f5f",
             "gridcolor": "white",
             "linecolor": "white",
             "minorgridcolor": "white",
             "startlinecolor": "#2a3f5f"
            },
            "baxis": {
             "endlinecolor": "#2a3f5f",
             "gridcolor": "white",
             "linecolor": "white",
             "minorgridcolor": "white",
             "startlinecolor": "#2a3f5f"
            },
            "type": "carpet"
           }
          ],
          "choropleth": [
           {
            "colorbar": {
             "outlinewidth": 0,
             "ticks": ""
            },
            "type": "choropleth"
           }
          ],
          "contour": [
           {
            "colorbar": {
             "outlinewidth": 0,
             "ticks": ""
            },
            "colorscale": [
             [
              0,
              "#0d0887"
             ],
             [
              0.1111111111111111,
              "#46039f"
             ],
             [
              0.2222222222222222,
              "#7201a8"
             ],
             [
              0.3333333333333333,
              "#9c179e"
             ],
             [
              0.4444444444444444,
              "#bd3786"
             ],
             [
              0.5555555555555556,
              "#d8576b"
             ],
             [
              0.6666666666666666,
              "#ed7953"
             ],
             [
              0.7777777777777778,
              "#fb9f3a"
             ],
             [
              0.8888888888888888,
              "#fdca26"
             ],
             [
              1,
              "#f0f921"
             ]
            ],
            "type": "contour"
           }
          ],
          "contourcarpet": [
           {
            "colorbar": {
             "outlinewidth": 0,
             "ticks": ""
            },
            "type": "contourcarpet"
           }
          ],
          "heatmap": [
           {
            "colorbar": {
             "outlinewidth": 0,
             "ticks": ""
            },
            "colorscale": [
             [
              0,
              "#0d0887"
             ],
             [
              0.1111111111111111,
              "#46039f"
             ],
             [
              0.2222222222222222,
              "#7201a8"
             ],
             [
              0.3333333333333333,
              "#9c179e"
             ],
             [
              0.4444444444444444,
              "#bd3786"
             ],
             [
              0.5555555555555556,
              "#d8576b"
             ],
             [
              0.6666666666666666,
              "#ed7953"
             ],
             [
              0.7777777777777778,
              "#fb9f3a"
             ],
             [
              0.8888888888888888,
              "#fdca26"
             ],
             [
              1,
              "#f0f921"
             ]
            ],
            "type": "heatmap"
           }
          ],
          "heatmapgl": [
           {
            "colorbar": {
             "outlinewidth": 0,
             "ticks": ""
            },
            "colorscale": [
             [
              0,
              "#0d0887"
             ],
             [
              0.1111111111111111,
              "#46039f"
             ],
             [
              0.2222222222222222,
              "#7201a8"
             ],
             [
              0.3333333333333333,
              "#9c179e"
             ],
             [
              0.4444444444444444,
              "#bd3786"
             ],
             [
              0.5555555555555556,
              "#d8576b"
             ],
             [
              0.6666666666666666,
              "#ed7953"
             ],
             [
              0.7777777777777778,
              "#fb9f3a"
             ],
             [
              0.8888888888888888,
              "#fdca26"
             ],
             [
              1,
              "#f0f921"
             ]
            ],
            "type": "heatmapgl"
           }
          ],
          "histogram": [
           {
            "marker": {
             "pattern": {
              "fillmode": "overlay",
              "size": 10,
              "solidity": 0.2
             }
            },
            "type": "histogram"
           }
          ],
          "histogram2d": [
           {
            "colorbar": {
             "outlinewidth": 0,
             "ticks": ""
            },
            "colorscale": [
             [
              0,
              "#0d0887"
             ],
             [
              0.1111111111111111,
              "#46039f"
             ],
             [
              0.2222222222222222,
              "#7201a8"
             ],
             [
              0.3333333333333333,
              "#9c179e"
             ],
             [
              0.4444444444444444,
              "#bd3786"
             ],
             [
              0.5555555555555556,
              "#d8576b"
             ],
             [
              0.6666666666666666,
              "#ed7953"
             ],
             [
              0.7777777777777778,
              "#fb9f3a"
             ],
             [
              0.8888888888888888,
              "#fdca26"
             ],
             [
              1,
              "#f0f921"
             ]
            ],
            "type": "histogram2d"
           }
          ],
          "histogram2dcontour": [
           {
            "colorbar": {
             "outlinewidth": 0,
             "ticks": ""
            },
            "colorscale": [
             [
              0,
              "#0d0887"
             ],
             [
              0.1111111111111111,
              "#46039f"
             ],
             [
              0.2222222222222222,
              "#7201a8"
             ],
             [
              0.3333333333333333,
              "#9c179e"
             ],
             [
              0.4444444444444444,
              "#bd3786"
             ],
             [
              0.5555555555555556,
              "#d8576b"
             ],
             [
              0.6666666666666666,
              "#ed7953"
             ],
             [
              0.7777777777777778,
              "#fb9f3a"
             ],
             [
              0.8888888888888888,
              "#fdca26"
             ],
             [
              1,
              "#f0f921"
             ]
            ],
            "type": "histogram2dcontour"
           }
          ],
          "mesh3d": [
           {
            "colorbar": {
             "outlinewidth": 0,
             "ticks": ""
            },
            "type": "mesh3d"
           }
          ],
          "parcoords": [
           {
            "line": {
             "colorbar": {
              "outlinewidth": 0,
              "ticks": ""
             }
            },
            "type": "parcoords"
           }
          ],
          "pie": [
           {
            "automargin": true,
            "type": "pie"
           }
          ],
          "scatter": [
           {
            "fillpattern": {
             "fillmode": "overlay",
             "size": 10,
             "solidity": 0.2
            },
            "type": "scatter"
           }
          ],
          "scatter3d": [
           {
            "line": {
             "colorbar": {
              "outlinewidth": 0,
              "ticks": ""
             }
            },
            "marker": {
             "colorbar": {
              "outlinewidth": 0,
              "ticks": ""
             }
            },
            "type": "scatter3d"
           }
          ],
          "scattercarpet": [
           {
            "marker": {
             "colorbar": {
              "outlinewidth": 0,
              "ticks": ""
             }
            },
            "type": "scattercarpet"
           }
          ],
          "scattergeo": [
           {
            "marker": {
             "colorbar": {
              "outlinewidth": 0,
              "ticks": ""
             }
            },
            "type": "scattergeo"
           }
          ],
          "scattergl": [
           {
            "marker": {
             "colorbar": {
              "outlinewidth": 0,
              "ticks": ""
             }
            },
            "type": "scattergl"
           }
          ],
          "scattermapbox": [
           {
            "marker": {
             "colorbar": {
              "outlinewidth": 0,
              "ticks": ""
             }
            },
            "type": "scattermapbox"
           }
          ],
          "scatterpolar": [
           {
            "marker": {
             "colorbar": {
              "outlinewidth": 0,
              "ticks": ""
             }
            },
            "type": "scatterpolar"
           }
          ],
          "scatterpolargl": [
           {
            "marker": {
             "colorbar": {
              "outlinewidth": 0,
              "ticks": ""
             }
            },
            "type": "scatterpolargl"
           }
          ],
          "scatterternary": [
           {
            "marker": {
             "colorbar": {
              "outlinewidth": 0,
              "ticks": ""
             }
            },
            "type": "scatterternary"
           }
          ],
          "surface": [
           {
            "colorbar": {
             "outlinewidth": 0,
             "ticks": ""
            },
            "colorscale": [
             [
              0,
              "#0d0887"
             ],
             [
              0.1111111111111111,
              "#46039f"
             ],
             [
              0.2222222222222222,
              "#7201a8"
             ],
             [
              0.3333333333333333,
              "#9c179e"
             ],
             [
              0.4444444444444444,
              "#bd3786"
             ],
             [
              0.5555555555555556,
              "#d8576b"
             ],
             [
              0.6666666666666666,
              "#ed7953"
             ],
             [
              0.7777777777777778,
              "#fb9f3a"
             ],
             [
              0.8888888888888888,
              "#fdca26"
             ],
             [
              1,
              "#f0f921"
             ]
            ],
            "type": "surface"
           }
          ],
          "table": [
           {
            "cells": {
             "fill": {
              "color": "#EBF0F8"
             },
             "line": {
              "color": "white"
             }
            },
            "header": {
             "fill": {
              "color": "#C8D4E3"
             },
             "line": {
              "color": "white"
             }
            },
            "type": "table"
           }
          ]
         },
         "layout": {
          "annotationdefaults": {
           "arrowcolor": "#2a3f5f",
           "arrowhead": 0,
           "arrowwidth": 1
          },
          "autotypenumbers": "strict",
          "coloraxis": {
           "colorbar": {
            "outlinewidth": 0,
            "ticks": ""
           }
          },
          "colorscale": {
           "diverging": [
            [
             0,
             "#8e0152"
            ],
            [
             0.1,
             "#c51b7d"
            ],
            [
             0.2,
             "#de77ae"
            ],
            [
             0.3,
             "#f1b6da"
            ],
            [
             0.4,
             "#fde0ef"
            ],
            [
             0.5,
             "#f7f7f7"
            ],
            [
             0.6,
             "#e6f5d0"
            ],
            [
             0.7,
             "#b8e186"
            ],
            [
             0.8,
             "#7fbc41"
            ],
            [
             0.9,
             "#4d9221"
            ],
            [
             1,
             "#276419"
            ]
           ],
           "sequential": [
            [
             0,
             "#0d0887"
            ],
            [
             0.1111111111111111,
             "#46039f"
            ],
            [
             0.2222222222222222,
             "#7201a8"
            ],
            [
             0.3333333333333333,
             "#9c179e"
            ],
            [
             0.4444444444444444,
             "#bd3786"
            ],
            [
             0.5555555555555556,
             "#d8576b"
            ],
            [
             0.6666666666666666,
             "#ed7953"
            ],
            [
             0.7777777777777778,
             "#fb9f3a"
            ],
            [
             0.8888888888888888,
             "#fdca26"
            ],
            [
             1,
             "#f0f921"
            ]
           ],
           "sequentialminus": [
            [
             0,
             "#0d0887"
            ],
            [
             0.1111111111111111,
             "#46039f"
            ],
            [
             0.2222222222222222,
             "#7201a8"
            ],
            [
             0.3333333333333333,
             "#9c179e"
            ],
            [
             0.4444444444444444,
             "#bd3786"
            ],
            [
             0.5555555555555556,
             "#d8576b"
            ],
            [
             0.6666666666666666,
             "#ed7953"
            ],
            [
             0.7777777777777778,
             "#fb9f3a"
            ],
            [
             0.8888888888888888,
             "#fdca26"
            ],
            [
             1,
             "#f0f921"
            ]
           ]
          },
          "colorway": [
           "#636efa",
           "#EF553B",
           "#00cc96",
           "#ab63fa",
           "#FFA15A",
           "#19d3f3",
           "#FF6692",
           "#B6E880",
           "#FF97FF",
           "#FECB52"
          ],
          "font": {
           "color": "#2a3f5f"
          },
          "geo": {
           "bgcolor": "white",
           "lakecolor": "white",
           "landcolor": "#E5ECF6",
           "showlakes": true,
           "showland": true,
           "subunitcolor": "white"
          },
          "hoverlabel": {
           "align": "left"
          },
          "hovermode": "closest",
          "mapbox": {
           "style": "light"
          },
          "paper_bgcolor": "white",
          "plot_bgcolor": "#E5ECF6",
          "polar": {
           "angularaxis": {
            "gridcolor": "white",
            "linecolor": "white",
            "ticks": ""
           },
           "bgcolor": "#E5ECF6",
           "radialaxis": {
            "gridcolor": "white",
            "linecolor": "white",
            "ticks": ""
           }
          },
          "scene": {
           "xaxis": {
            "backgroundcolor": "#E5ECF6",
            "gridcolor": "white",
            "gridwidth": 2,
            "linecolor": "white",
            "showbackground": true,
            "ticks": "",
            "zerolinecolor": "white"
           },
           "yaxis": {
            "backgroundcolor": "#E5ECF6",
            "gridcolor": "white",
            "gridwidth": 2,
            "linecolor": "white",
            "showbackground": true,
            "ticks": "",
            "zerolinecolor": "white"
           },
           "zaxis": {
            "backgroundcolor": "#E5ECF6",
            "gridcolor": "white",
            "gridwidth": 2,
            "linecolor": "white",
            "showbackground": true,
            "ticks": "",
            "zerolinecolor": "white"
           }
          },
          "shapedefaults": {
           "line": {
            "color": "#2a3f5f"
           }
          },
          "ternary": {
           "aaxis": {
            "gridcolor": "white",
            "linecolor": "white",
            "ticks": ""
           },
           "baxis": {
            "gridcolor": "white",
            "linecolor": "white",
            "ticks": ""
           },
           "bgcolor": "#E5ECF6",
           "caxis": {
            "gridcolor": "white",
            "linecolor": "white",
            "ticks": ""
           }
          },
          "title": {
           "x": 0.05
          },
          "xaxis": {
           "automargin": true,
           "gridcolor": "white",
           "linecolor": "white",
           "ticks": "",
           "title": {
            "standoff": 15
           },
           "zerolinecolor": "white",
           "zerolinewidth": 2
          },
          "yaxis": {
           "automargin": true,
           "gridcolor": "white",
           "linecolor": "white",
           "ticks": "",
           "title": {
            "standoff": 15
           },
           "zerolinecolor": "white",
           "zerolinewidth": 2
          }
         }
        },
        "title": {
         "text": "Heat Conduction in Wall"
        },
        "xaxis": {
         "title": {
          "text": "Distance Along Wall (X)"
         }
        },
        "yaxis": {
         "title": {
          "text": "Temperature (ºC)"
         }
        }
       }
      }
     },
     "metadata": {},
     "output_type": "display_data"
    }
   ],
   "source": [
    "fig = go.Figure()\n",
    "\n",
    "for t, x_at_time in enumerate(Txt):\n",
    "    fig.add_trace(go.Scatter(x=x_vals, y=x_at_time, mode='lines+markers', name=t))\n",
    "fig.update_layout(xaxis_title='Distance Along Wall (X)',\n",
    "                  yaxis_title='Temperature (ºC)',\n",
    "                  title='Heat Conduction in Wall')\n",
    "\n",
    "# TODO => temp at wall edges should be outdoor and indorr temps respectively... "
   ]
  },
  {
   "cell_type": "code",
   "execution_count": 45,
   "metadata": {},
   "outputs": [],
   "source": [
    "for i, _ in enumerate(times):\n",
    "    row = Txt[i,:] # row at a given timestep\n",
    "    for m, _ in enumerate(Txt[i,:]): # iterate over the interior nodes\n",
    "        m = m + 1\n",
    "        if m < len(x_vals) - 1:\n",
    "            Ta[m] = row[m - 1] + row[m + 1]\n",
    "            Tb[m] = row[m]\n",
    "\n",
    "    if i < len(times) - 1:\n",
    "        Txt[i+1, :] = Ta*tau + Tb*(1 - 2*tau)\n",
    "        # update boundary conditions \n",
    "        T0, TM = calc_boundary(i)\n",
    "        Txt[i+1, 0] = T0\n",
    "        Txt[i+1, M-1] = TM"
   ]
  },
  {
   "cell_type": "code",
   "execution_count": 46,
   "metadata": {},
   "outputs": [
    {
     "data": {
      "text/plain": [
       "array([[  0.        , 239.98930632, 289.2888143 , 293.05131155,\n",
       "        293.15      , 293.15      , 293.05131155, 289.2888143 ,\n",
       "        239.98930632,   0.        ],\n",
       "       [ 33.39677305, 226.72392904, 286.12102225, 292.79643789,\n",
       "        293.14313472, 293.14313472, 292.79643789, 286.12102225,\n",
       "        226.72392904,  33.39677305],\n",
       "       [ 60.06909547, 217.40705511, 282.45342729, 292.35617919,\n",
       "        293.11901668, 293.11901668, 292.35617919, 282.45342729,\n",
       "        217.40705511,  60.06909547],\n",
       "       [ 81.54867875, 210.98677077, 278.61734936, 291.72035906,\n",
       "        293.06594972, 293.06594972, 291.72035906, 278.61734936,\n",
       "        210.98677077,  81.54867875],\n",
       "       [ 98.99711814, 206.68711766, 274.82412717, 290.90245165,\n",
       "        292.97234341, 292.97234341, 290.90245165, 274.82412717,\n",
       "        206.68711766,  98.99711814],\n",
       "       [113.29835551, 203.93560531, 271.20265343, 289.92795198,\n",
       "        292.82835094, 292.82835094, 289.92795198, 271.20265343,\n",
       "        203.93560531, 113.29835551],\n",
       "       [125.12754953, 202.30985215, 267.82583607, 288.8270894 ,\n",
       "        292.62658406, 292.62658406, 288.8270894 , 267.82583607,\n",
       "        202.30985215, 125.12754953],\n",
       "       [135.00246085, 201.49828215, 264.72915916, 287.63044532,\n",
       "        292.36227139, 292.36227139, 287.63044532, 264.72915916,\n",
       "        201.49828215, 135.00246085],\n",
       "       [143.32186235, 201.27115559, 261.9236224 , 286.36648288,\n",
       "        292.03310088, 292.03310088, 286.36648288, 261.9236224 ,\n",
       "        201.27115559, 143.32186235],\n",
       "       [150.39430759, 201.45920245, 259.40469327, 285.06030949,\n",
       "        291.63890136, 291.63890136, 285.06030949, 259.40469327,\n",
       "        201.45920245, 150.39430759],\n",
       "       [156.45972386, 201.9378526 , 257.15844112, 283.73321214,\n",
       "        291.18126019, 291.18126019, 283.73321214, 257.15844112,\n",
       "        201.9378526 , 156.45972386],\n",
       "       [161.70565674, 202.61558894, 255.1656886 , 282.4026575 ,\n",
       "        290.66313511, 290.66313511, 282.4026575 , 255.1656886 ,\n",
       "        202.61558894, 161.70565674]])"
      ]
     },
     "execution_count": 46,
     "metadata": {},
     "output_type": "execute_result"
    }
   ],
   "source": [
    "Txt"
   ]
  },
  {
   "cell_type": "code",
   "execution_count": 15,
   "metadata": {},
   "outputs": [
    {
     "data": {
      "text/plain": [
       "array([  0.        , 272.75695652, 293.15      , 293.15      ,\n",
       "       293.15      , 293.15      , 293.15      , 293.15      ,\n",
       "       272.75695652,   0.        ])"
      ]
     },
     "execution_count": 15,
     "metadata": {},
     "output_type": "execute_result"
    }
   ],
   "source": [
    "Txt[1]"
   ]
  },
  {
   "cell_type": "code",
   "execution_count": 16,
   "metadata": {},
   "outputs": [
    {
     "data": {
      "text/plain": [
       "array([  0.        , 255.20120605, 291.7313535 , 293.15      ,\n",
       "       293.15      , 293.15      , 293.15      , 291.7313535 ,\n",
       "       255.20120605,   0.        ])"
      ]
     },
     "execution_count": 16,
     "metadata": {},
     "output_type": "execute_result"
    }
   ],
   "source": [
    "Txt[2]"
   ]
  },
  {
   "cell_type": "code",
   "execution_count": 17,
   "metadata": {},
   "outputs": [
    {
     "data": {
      "text/plain": [
       "array([0., 0., 0., 0., 0., 0., 0., 0., 0., 0.])"
      ]
     },
     "execution_count": 17,
     "metadata": {},
     "output_type": "execute_result"
    }
   ],
   "source": [
    "Txt[3]"
   ]
  },
  {
   "cell_type": "code",
   "execution_count": 10,
   "metadata": {},
   "outputs": [
    {
     "name": "stdout",
     "output_type": "stream",
     "text": [
      "[  0.  586.3 586.3 586.3 586.3 586.3 586.3 586.3 586.3   0. ] [  0.   293.15 293.15 293.15 293.15 293.15 293.15 293.15 293.15   0.  ]\n"
     ]
    },
    {
     "data": {
      "text/plain": [
       "array([  0.  , 293.15, 293.15, 293.15, 293.15, 293.15, 293.15, 293.15,\n",
       "       293.15,   0.  ])"
      ]
     },
     "execution_count": 10,
     "metadata": {},
     "output_type": "execute_result"
    }
   ],
   "source": [
    "row_num = 0\n",
    "row = Txt[row_num,:]\n",
    "for ix, _ in enumerate(Txt[row_num,:]):\n",
    "    ix = ix + 1\n",
    "    if ix < len(x_vals) - 1:\n",
    "        Ta[ix] = row[ix - 1] + row[ix + 1]\n",
    "        Tb[ix] = row[ix]\n",
    "\n",
    "print(Ta, Tb)\n",
    "\n",
    "Txt[1, :] = Ta*tau + Tb*(1 - 2*tau)\n",
    "\n",
    "Txt[1, :]\n",
    "    "
   ]
  },
  {
   "cell_type": "code",
   "execution_count": 11,
   "metadata": {},
   "outputs": [
    {
     "name": "stdout",
     "output_type": "stream",
     "text": [
      "[  0.   293.15 586.3  586.3  586.3  586.3  586.3  586.3  293.15   0.  ] [  0.   293.15 293.15 293.15 293.15 293.15 293.15 293.15 293.15   0.  ]\n"
     ]
    },
    {
     "data": {
      "text/plain": [
       "array([  0.        , 272.75695652, 293.15      , 293.15      ,\n",
       "       293.15      , 293.15      , 293.15      , 293.15      ,\n",
       "       272.75695652,   0.        ])"
      ]
     },
     "execution_count": 11,
     "metadata": {},
     "output_type": "execute_result"
    }
   ],
   "source": [
    "row_num = 1\n",
    "row = Txt[row_num,:]\n",
    "for ix, _ in enumerate(Txt[row_num,:]):\n",
    "    ix = ix + 1\n",
    "    if ix < len(x_vals) - 1:\n",
    "        Ta[ix] = row[ix - 1] + row[ix + 1]\n",
    "        Tb[ix] = row[ix]\n",
    "\n",
    "print(Ta, Tb)\n",
    "\n",
    "Txt[row_num+1, :] = Ta*tau + Tb*(1 - 2*tau)\n",
    "\n",
    "Txt[row_num+1, :]"
   ]
  }
 ],
 "metadata": {
  "kernelspec": {
   "display_name": "localwindowsenv",
   "language": "python",
   "name": "python3"
  },
  "language_info": {
   "codemirror_mode": {
    "name": "ipython",
    "version": 3
   },
   "file_extension": ".py",
   "mimetype": "text/x-python",
   "name": "python",
   "nbconvert_exporter": "python",
   "pygments_lexer": "ipython3",
   "version": "3.9.15"
  },
  "orig_nbformat": 4
 },
 "nbformat": 4,
 "nbformat_minor": 2
}
