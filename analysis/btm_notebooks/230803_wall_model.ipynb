{
 "cells": [
  {
   "cell_type": "code",
   "execution_count": 27,
   "metadata": {},
   "outputs": [],
   "source": [
    "import numpy as np\n",
    "\n",
    "import plotly.graph_objects as go\n",
    "from plotly.subplots import make_subplots\n",
    "\n",
    "from icecream import ic"
   ]
  },
  {
   "cell_type": "code",
   "execution_count": 2,
   "metadata": {},
   "outputs": [],
   "source": [
    "class FabricPhysicalConstants:\n",
    "    rho= 2300 #kg/m^3 \n",
    "    cp= 750 # J/(kg-K) \n",
    "    k=0.8 # W/(m-K)\n",
    "    h = 4 # W/(m-K)\n",
    "    T0= 293.15 # K \n",
    "\n",
    "    alpha = k/(cp*rho) # thermal diffusivity"
   ]
  },
  {
   "cell_type": "code",
   "execution_count": 3,
   "metadata": {},
   "outputs": [
    {
     "data": {
      "text/plain": [
       "4.6376811594202904e-07"
      ]
     },
     "execution_count": 3,
     "metadata": {},
     "output_type": "execute_result"
    }
   ],
   "source": [
    "f = FabricPhysicalConstants()\n",
    "f.alpha"
   ]
  },
  {
   "cell_type": "code",
   "execution_count": 4,
   "metadata": {},
   "outputs": [],
   "source": [
    "# in example => th = 0.10 m, dt = 0.010 m \n",
    "thickness = 0.10 \n",
    "dx = 0.010"
   ]
  },
  {
   "cell_type": "code",
   "execution_count": 5,
   "metadata": {},
   "outputs": [
    {
     "data": {
      "text/plain": [
       "10"
      ]
     },
     "execution_count": 5,
     "metadata": {},
     "output_type": "execute_result"
    }
   ],
   "source": [
    "x_vals = np.arange(start=0, stop=thickness, step=dx)\n",
    "len(x_vals)"
   ]
  },
  {
   "cell_type": "code",
   "execution_count": 21,
   "metadata": {},
   "outputs": [
    {
     "data": {
      "text/plain": [
       "12"
      ]
     },
     "execution_count": 21,
     "metadata": {},
     "output_type": "execute_result"
    }
   ],
   "source": [
    "dt = 15 # seconds\n",
    "period = dt * 4 * 60/20 # 1 hour/ \n",
    "times = np.arange(start=0, stop=period , step=dt)\n",
    "len(times)\n",
    "# TODO resolve difference between this time formulation and that of indoor air => ALSO need to do check of tau "
   ]
  },
  {
   "cell_type": "code",
   "execution_count": 22,
   "metadata": {},
   "outputs": [
    {
     "data": {
      "text/plain": [
       "(12, 10)"
      ]
     },
     "execution_count": 22,
     "metadata": {},
     "output_type": "execute_result"
    }
   ],
   "source": [
    "# initialize \n",
    "Txt = np.zeros((len(times), len(x_vals)))\n",
    "Txt[0,:] = f.T0\n",
    "Txt.shape"
   ]
  },
  {
   "cell_type": "code",
   "execution_count": 23,
   "metadata": {},
   "outputs": [],
   "source": [
    "tau = f.alpha * dt / (dx**2)\n",
    "tau\n",
    "Ta =  np.zeros(len(x_vals))\n",
    "Tb = np.zeros(len(x_vals))\n",
    "\n",
    "# Ta = Tb = x => calling these the same pobject => pointing to the same place "
   ]
  },
  {
   "cell_type": "code",
   "execution_count": 31,
   "metadata": {},
   "outputs": [],
   "source": [
    "for i, _ in enumerate(times):\n",
    "    row = Txt[i,:] # row at a given timestep\n",
    "    for m, _ in enumerate(Txt[i,:]):\n",
    "        m = m + 1\n",
    "        if m < len(x_vals) - 1:\n",
    "            Ta[m] = row[m - 1] + row[m + 1]\n",
    "            Tb[m] = row[m]\n",
    "\n",
    "    if i < len(times) - 1:\n",
    "        Txt[i+1, :] = Ta*tau + Tb*(1 - 2*tau)"
   ]
  },
  {
   "cell_type": "code",
   "execution_count": 32,
   "metadata": {},
   "outputs": [
    {
     "data": {
      "text/plain": [
       "array([[  0.        , 239.98930632, 289.2888143 , 293.05131155,\n",
       "        293.15      , 293.15      , 293.05131155, 289.2888143 ,\n",
       "        239.98930632,   0.        ],\n",
       "       [  0.        , 226.72392904, 286.12102225, 292.79643789,\n",
       "        293.14313472, 293.14313472, 292.79643789, 286.12102225,\n",
       "        226.72392904,   0.        ],\n",
       "       [  0.        , 215.08380133, 282.45342729, 292.35617919,\n",
       "        293.11901668, 293.11901668, 292.35617919, 282.45342729,\n",
       "        215.08380133,   0.        ],\n",
       "       [  0.        , 204.80803261, 278.4557317 , 291.72035906,\n",
       "        293.06594972, 293.06594972, 291.72035906, 278.4557317 ,\n",
       "        204.80803261,   0.        ],\n",
       "       [  0.        , 195.6838355 , 274.25517019, 290.89120868,\n",
       "        292.97234341, 292.97234341, 290.89120868, 274.25517019,\n",
       "        195.6838355 ,   0.        ],\n",
       "       [  0.        , 187.53687892, 269.94662785, 289.87869364,\n",
       "        292.82756882, 292.82756882, 289.87869364, 269.94662785,\n",
       "        187.53687892,   0.        ],\n",
       "       [  0.        , 180.22368727, 265.60035424, 288.69725429,\n",
       "        292.62242968, 292.62242968, 288.69725429, 265.60035424,\n",
       "        180.22368727,   0.        ],\n",
       "       [  0.        , 173.62563368, 261.26784871, 287.3635691 ,\n",
       "        292.349374  , 292.349374  , 287.3635691 , 261.26784871,\n",
       "        173.62563368,   0.        ],\n",
       "       [  0.        , 167.64417847, 256.98635343, 285.89505324,\n",
       "        292.0025354 , 292.0025354 , 285.89505324, 256.98635343,\n",
       "        167.64417847,   0.        ],\n",
       "       [  0.        , 162.19708258, 252.7822856 , 284.30888157,\n",
       "        291.57766707, 291.57766707, 284.30888157, 252.7822856 ,\n",
       "        162.19708258,   0.        ],\n",
       "       [  0.        , 157.21538661, 248.67386076, 282.62138172,\n",
       "        291.07201243, 291.07201243, 282.62138172, 248.67386076,\n",
       "        157.21538661,   0.        ],\n",
       "       [  0.        , 152.6409927 , 244.6730988 , 280.847685  ,\n",
       "        290.48414247, 290.48414247, 280.847685  , 244.6730988 ,\n",
       "        152.6409927 ,   0.        ]])"
      ]
     },
     "execution_count": 32,
     "metadata": {},
     "output_type": "execute_result"
    }
   ],
   "source": [
    "Txt"
   ]
  },
  {
   "cell_type": "code",
   "execution_count": 15,
   "metadata": {},
   "outputs": [
    {
     "data": {
      "text/plain": [
       "array([  0.        , 272.75695652, 293.15      , 293.15      ,\n",
       "       293.15      , 293.15      , 293.15      , 293.15      ,\n",
       "       272.75695652,   0.        ])"
      ]
     },
     "execution_count": 15,
     "metadata": {},
     "output_type": "execute_result"
    }
   ],
   "source": [
    "Txt[1]"
   ]
  },
  {
   "cell_type": "code",
   "execution_count": 16,
   "metadata": {},
   "outputs": [
    {
     "data": {
      "text/plain": [
       "array([  0.        , 255.20120605, 291.7313535 , 293.15      ,\n",
       "       293.15      , 293.15      , 293.15      , 291.7313535 ,\n",
       "       255.20120605,   0.        ])"
      ]
     },
     "execution_count": 16,
     "metadata": {},
     "output_type": "execute_result"
    }
   ],
   "source": [
    "Txt[2]"
   ]
  },
  {
   "cell_type": "code",
   "execution_count": 17,
   "metadata": {},
   "outputs": [
    {
     "data": {
      "text/plain": [
       "array([0., 0., 0., 0., 0., 0., 0., 0., 0., 0.])"
      ]
     },
     "execution_count": 17,
     "metadata": {},
     "output_type": "execute_result"
    }
   ],
   "source": [
    "Txt[3]"
   ]
  },
  {
   "cell_type": "code",
   "execution_count": 10,
   "metadata": {},
   "outputs": [
    {
     "name": "stdout",
     "output_type": "stream",
     "text": [
      "[  0.  586.3 586.3 586.3 586.3 586.3 586.3 586.3 586.3   0. ] [  0.   293.15 293.15 293.15 293.15 293.15 293.15 293.15 293.15   0.  ]\n"
     ]
    },
    {
     "data": {
      "text/plain": [
       "array([  0.  , 293.15, 293.15, 293.15, 293.15, 293.15, 293.15, 293.15,\n",
       "       293.15,   0.  ])"
      ]
     },
     "execution_count": 10,
     "metadata": {},
     "output_type": "execute_result"
    }
   ],
   "source": [
    "row_num = 0\n",
    "row = Txt[row_num,:]\n",
    "for ix, _ in enumerate(Txt[row_num,:]):\n",
    "    ix = ix + 1\n",
    "    if ix < len(x_vals) - 1:\n",
    "        Ta[ix] = row[ix - 1] + row[ix + 1]\n",
    "        Tb[ix] = row[ix]\n",
    "\n",
    "print(Ta, Tb)\n",
    "\n",
    "Txt[1, :] = Ta*tau + Tb*(1 - 2*tau)\n",
    "\n",
    "Txt[1, :]\n",
    "    "
   ]
  },
  {
   "cell_type": "code",
   "execution_count": 11,
   "metadata": {},
   "outputs": [
    {
     "name": "stdout",
     "output_type": "stream",
     "text": [
      "[  0.   293.15 586.3  586.3  586.3  586.3  586.3  586.3  293.15   0.  ] [  0.   293.15 293.15 293.15 293.15 293.15 293.15 293.15 293.15   0.  ]\n"
     ]
    },
    {
     "data": {
      "text/plain": [
       "array([  0.        , 272.75695652, 293.15      , 293.15      ,\n",
       "       293.15      , 293.15      , 293.15      , 293.15      ,\n",
       "       272.75695652,   0.        ])"
      ]
     },
     "execution_count": 11,
     "metadata": {},
     "output_type": "execute_result"
    }
   ],
   "source": [
    "row_num = 1\n",
    "row = Txt[row_num,:]\n",
    "for ix, _ in enumerate(Txt[row_num,:]):\n",
    "    ix = ix + 1\n",
    "    if ix < len(x_vals) - 1:\n",
    "        Ta[ix] = row[ix - 1] + row[ix + 1]\n",
    "        Tb[ix] = row[ix]\n",
    "\n",
    "print(Ta, Tb)\n",
    "\n",
    "Txt[row_num+1, :] = Ta*tau + Tb*(1 - 2*tau)\n",
    "\n",
    "Txt[row_num+1, :]"
   ]
  }
 ],
 "metadata": {
  "kernelspec": {
   "display_name": "localwindowsenv",
   "language": "python",
   "name": "python3"
  },
  "language_info": {
   "codemirror_mode": {
    "name": "ipython",
    "version": 3
   },
   "file_extension": ".py",
   "mimetype": "text/x-python",
   "name": "python",
   "nbconvert_exporter": "python",
   "pygments_lexer": "ipython3",
   "version": "3.9.15"
  },
  "orig_nbformat": 4
 },
 "nbformat": 4,
 "nbformat_minor": 2
}
