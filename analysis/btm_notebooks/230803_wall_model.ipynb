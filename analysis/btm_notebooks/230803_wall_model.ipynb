{
 "cells": [
  {
   "cell_type": "code",
   "execution_count": 58,
   "metadata": {},
   "outputs": [],
   "source": [
    "import numpy as np\n",
    "\n",
    "import plotly.graph_objects as go\n",
    "from plotly.subplots import make_subplots\n",
    "\n",
    "from icecream import ic"
   ]
  },
  {
   "cell_type": "code",
   "execution_count": 64,
   "metadata": {},
   "outputs": [],
   "source": [
    "class FabricPhysicalConstants:\n",
    "    # wind enegineering problem 6 defaults \n",
    "    rho= 2300 # kg/m^3 \n",
    "    cp= 750 # J/(kg-K) \n",
    "    k=0.8 # W/(m-K)\n",
    "    h_int = 4 # W/(m-K)\n",
    "    h_ext = 4 # W/(m-K)\n",
    "    T0 = 293.15 # K \n",
    "    Tinf_ext = 295.65 # K \n",
    "    Tinf_int = 295.65 # K \n",
    "\n",
    "    alpha = k/(cp*rho) # thermal diffusivity"
   ]
  },
  {
   "cell_type": "code",
   "execution_count": 69,
   "metadata": {},
   "outputs": [],
   "source": [
    "class TransientWallConduction:\n",
    "    def __init__(self, pc:FabricPhysicalConstants):\n",
    "        self.pc = pc\n",
    "        # x vals init in example => th = 0.10 m, dt = 0.010 m \n",
    "        thickness = 0.10 \n",
    "        self.dx = 0.010\n",
    "        self.x_vals = np.arange(start=0, stop=thickness, step=self.dx)\n",
    "        self.M = len(self.x_vals)\n",
    "\n",
    "        # time vals init \n",
    "        self.dt = 15 # seconds also from example \n",
    "        period = self.dt * 4 * 60/20 # 1 hour/ \n",
    "        self.times = np.arange(start=0, stop=period , step=self.dt)\n",
    "        self.N = len(self.times)\n",
    "        # TODO resolve difference between this time formulation and that of indoor air, also use time stamps...\n",
    "\n",
    "        # initialize N*M matrix - time * x nodes \n",
    "        self.Ttx = np.zeros((self.N, self.M))\n",
    "        self.Ttx[0,:] = self.pc.T0\n",
    "        self.Ttx[0,0] = self.pc.Tinf_ext \n",
    "        self.Ttx[0, self.M-1] = self.pc.Tinf_int\n",
    "\n",
    "        # time constant\n",
    "        # # TODO check tau  \n",
    "        self.tau = self.pc.alpha * self.dt / (self.dx**2)\n",
    "        \n",
    "\n",
    "    def calc_boundary_nodes(self, i):\n",
    "        beta = lambda h: h*self.dx/self.pc.k\n",
    "        eq = lambda Tself, Tnb, Tinf, h: (1 -2*self.tau - 2*self.tau*beta(h))*Tself + 2*self.tau*Tnb + 2*self.tau*beta(h)*Tinf\n",
    "        \n",
    "        # T0 at exterior, TM on interior \n",
    "        T0 = eq(self.Ttx[i,0], self.Ttx[i, 1], self.pc.Tinf_ext, self.pc.h_ext )\n",
    "        TM = eq(self.Ttx[i,self.M-1], self.Ttx[i, self.M-2], self.pc.Tinf_int, self.pc.h_int)\n",
    "\n",
    "        return T0, TM\n",
    "\n",
    "    def calc_interior_nodes(self, i):\n",
    "        Tint =  np.zeros(self.M)\n",
    "        row = self.Ttx[i,:] \n",
    "        for m in range(self.M):\n",
    "            m = m + 1 # avoid first and last nodes \n",
    "            if m < len(self.x_vals) - 1:\n",
    "                Tint[m] = self.tau*(row[m - 1] + row[m + 1]) + (1 - 2*self.tau)*row[m]\n",
    "        \n",
    "        assert Tint[0] == 0 and Tint[self.M-1] == 0 \n",
    "\n",
    "        return Tint \n",
    "    \n",
    "    def calc_Tx_at_t(self, i):\n",
    "        if i < self.N - 1:\n",
    "            self.Ttx[i+1, :] = self.calc_interior_nodes(i)\n",
    "            self.Ttx[i+1, 0], self.Ttx[i+1, self.M-1] = self.calc_boundary_nodes(i)\n",
    "\n",
    "            return self.Ttx[i+1, :]\n",
    "\n",
    "    def calc_all(self):\n",
    "        for i in range(self.N):\n",
    "            self.calc_Tx_at_t(i)\n",
    "\n",
    "        return self.Ttx"
   ]
  },
  {
   "cell_type": "code",
   "execution_count": 70,
   "metadata": {},
   "outputs": [],
   "source": [
    "f1 = FabricPhysicalConstants()\n",
    "f1.h_int = 8"
   ]
  },
  {
   "cell_type": "code",
   "execution_count": 71,
   "metadata": {},
   "outputs": [],
   "source": [
    "t = TransientWallConduction(f1)\n",
    "Txt = t.calc_all()"
   ]
  },
  {
   "cell_type": "code",
   "execution_count": 72,
   "metadata": {},
   "outputs": [
    {
     "data": {
      "application/vnd.plotly.v1+json": {
       "config": {
        "plotlyServerURL": "https://plotly.com"
       },
       "data": [
        {
         "mode": "lines+markers",
         "name": "0",
         "type": "scatter",
         "x": [
          0,
          0.01,
          0.02,
          0.03,
          0.04,
          0.05,
          0.06,
          0.07,
          0.08,
          0.09
         ],
         "y": [
          295.65,
          293.15,
          293.15,
          293.15,
          293.15,
          293.15,
          293.15,
          293.15,
          293.15,
          295.65
         ]
        },
        {
         "mode": "lines+markers",
         "name": "1",
         "type": "scatter",
         "x": [
          0,
          0.01,
          0.02,
          0.03,
          0.04,
          0.05,
          0.06,
          0.07,
          0.08,
          0.09
         ],
         "y": [
          295.3021739130435,
          293.3239130434782,
          293.15,
          293.15,
          293.15,
          293.15,
          293.15,
          293.15,
          293.3239130434782,
          295.3021739130435
         ]
        },
        {
         "mode": "lines+markers",
         "name": "2",
         "type": "scatter",
         "x": [
          0,
          0.01,
          0.02,
          0.03,
          0.04,
          0.05,
          0.06,
          0.07,
          0.08,
          0.09
         ],
         "y": [
          295.0293572778828,
          293.4494328922495,
          293.1620982986767,
          293.15,
          293.15,
          293.15,
          293.15,
          293.1620982986767,
          293.4494328922495,
          295.0317769376182
         ]
        },
        {
         "mode": "lines+markers",
         "name": "3",
         "type": "scatter",
         "x": [
          0,
          0.01,
          0.02,
          0.03,
          0.04,
          0.05,
          0.06,
          0.07,
          0.08,
          0.09
         ],
         "y": [
          294.81385922577465,
          293.539352182132,
          293.18124517136516,
          293.1508416207775,
          293.15,
          293.15,
          293.1508416207775,
          293.18124517136516,
          293.5395205062875,
          294.82022608695655
         ]
        },
        {
         "mode": "lines+markers",
         "name": "4",
         "type": "scatter",
         "x": [
          0,
          0.01,
          0.02,
          0.03,
          0.04,
          0.05,
          0.06,
          0.07,
          0.08,
          0.09
         ],
         "y": [
          294.642353138132,
          293.60310174963644,
          293.2040419338124,
          293.1528981028513,
          293.15005854753235,
          293.15005854753235,
          293.1528981028513,
          293.2040536433189,
          293.6036895668612,
          294.6535856432189
         ]
        },
        {
         "mode": "lines+markers",
         "name": "5",
         "type": "scatter",
         "x": [
          0,
          0.01,
          0.02,
          0.03,
          0.04,
          0.05,
          0.06,
          0.07,
          0.08,
          0.09
         ],
         "y": [
          294.5047713579022,
          293.64763681556144,
          293.2282447849333,
          293.15625840028724,
          293.1502560818154,
          293.1502560818154,
          293.1562592148616,
          293.22829575692407,
          293.64892505575267,
          294.52137630190697
         ]
        },
        {
         "mode": "lines+markers",
         "name": "6",
         "type": "scatter",
         "x": [
          0,
          0.01,
          0.02,
          0.03,
          0.04,
          0.05,
          0.06,
          0.07,
          0.08,
          0.09
         ],
         "y": [
          294.3934846643042,
          293.67808846855013,
          293.252412134219,
          293.160848596195,
          293.15067363440477,
          293.15067369107084,
          293.16085284331496,
          293.2525456878295,
          293.68035614774055,
          294.4156943712851
         ]
        },
        {
         "mode": "lines+markers",
         "name": "7",
         "type": "scatter",
         "x": [
          0,
          0.01,
          0.02,
          0.03,
          0.04,
          0.05,
          0.06,
          0.07,
          0.08,
          0.09
         ],
         "y": [
          294.30269225679547,
          293.6982428936926,
          293.27565476352737,
          293.1665104101939,
          293.15138146177566,
          293.1513818020676,
          293.1665233610381,
          293.27592778281365,
          293.70174938347157,
          294.3305593924089
         ]
        },
        {
         "mode": "lines+markers",
         "name": "8",
         "type": "scatter",
         "x": [
          0,
          0.01,
          0.02,
          0.03,
          0.04,
          0.05,
          0.06,
          0.07,
          0.08,
          0.09
         ],
         "y": [
          294.2279675297078,
          293.71089410989697,
          293.2974595480026,
          293.17305061227495,
          293.15243393403375,
          293.15243510423653,
          293.1730807775811,
          293.29793941264893,
          293.71587031622147,
          294.2614302170102
         ]
        },
        {
         "mode": "lines+markers",
         "name": "9",
         "type": "scatter",
         "x": [
          0,
          0.01,
          0.02,
          0.03,
          0.04,
          0.05,
          0.06,
          0.07,
          0.08,
          0.09
         ],
         "y": [
          294.1659192797884,
          293.71810376957814,
          293.3175656785186,
          293.18027094323054,
          293.1538682191429,
          293.1538712435855,
          293.18033037491836,
          293.31832704871886,
          293.7247488551582,
          294.2048454625768
         ]
        },
        {
         "mode": "lines+markers",
         "name": "10",
         "type": "scatter",
         "x": [
          0,
          0.01,
          0.02,
          0.03,
          0.04,
          0.05,
          0.06,
          0.07,
          0.08,
          0.09
         ],
         "y": [
          294.11393855294324,
          293.7213926335191,
          293.33587825978964,
          293.1879851700967,
          293.1557051407798,
          293.15571166841266,
          293.1880895083074,
          293.33700010142417,
          293.72987405870464,
          294.158155910761
         ]
        },
        {
         "mode": "lines+markers",
         "name": "11",
         "type": "scatter",
         "x": [
          0,
          0.01,
          0.02,
          0.03,
          0.04,
          0.05,
          0.06,
          0.07,
          0.08,
          0.09
         ],
         "y": [
          294.07000911335075,
          293.72188178452393,
          293.35240843607045,
          293.196027817775,
          293.1579511621328,
          293.1579635857874,
          293.19619613461856,
          293.35397146588775,
          293.7323372166021,
          294.11932496215127
         ]
        }
       ],
       "layout": {
        "template": {
         "data": {
          "bar": [
           {
            "error_x": {
             "color": "#2a3f5f"
            },
            "error_y": {
             "color": "#2a3f5f"
            },
            "marker": {
             "line": {
              "color": "#E5ECF6",
              "width": 0.5
             },
             "pattern": {
              "fillmode": "overlay",
              "size": 10,
              "solidity": 0.2
             }
            },
            "type": "bar"
           }
          ],
          "barpolar": [
           {
            "marker": {
             "line": {
              "color": "#E5ECF6",
              "width": 0.5
             },
             "pattern": {
              "fillmode": "overlay",
              "size": 10,
              "solidity": 0.2
             }
            },
            "type": "barpolar"
           }
          ],
          "carpet": [
           {
            "aaxis": {
             "endlinecolor": "#2a3f5f",
             "gridcolor": "white",
             "linecolor": "white",
             "minorgridcolor": "white",
             "startlinecolor": "#2a3f5f"
            },
            "baxis": {
             "endlinecolor": "#2a3f5f",
             "gridcolor": "white",
             "linecolor": "white",
             "minorgridcolor": "white",
             "startlinecolor": "#2a3f5f"
            },
            "type": "carpet"
           }
          ],
          "choropleth": [
           {
            "colorbar": {
             "outlinewidth": 0,
             "ticks": ""
            },
            "type": "choropleth"
           }
          ],
          "contour": [
           {
            "colorbar": {
             "outlinewidth": 0,
             "ticks": ""
            },
            "colorscale": [
             [
              0,
              "#0d0887"
             ],
             [
              0.1111111111111111,
              "#46039f"
             ],
             [
              0.2222222222222222,
              "#7201a8"
             ],
             [
              0.3333333333333333,
              "#9c179e"
             ],
             [
              0.4444444444444444,
              "#bd3786"
             ],
             [
              0.5555555555555556,
              "#d8576b"
             ],
             [
              0.6666666666666666,
              "#ed7953"
             ],
             [
              0.7777777777777778,
              "#fb9f3a"
             ],
             [
              0.8888888888888888,
              "#fdca26"
             ],
             [
              1,
              "#f0f921"
             ]
            ],
            "type": "contour"
           }
          ],
          "contourcarpet": [
           {
            "colorbar": {
             "outlinewidth": 0,
             "ticks": ""
            },
            "type": "contourcarpet"
           }
          ],
          "heatmap": [
           {
            "colorbar": {
             "outlinewidth": 0,
             "ticks": ""
            },
            "colorscale": [
             [
              0,
              "#0d0887"
             ],
             [
              0.1111111111111111,
              "#46039f"
             ],
             [
              0.2222222222222222,
              "#7201a8"
             ],
             [
              0.3333333333333333,
              "#9c179e"
             ],
             [
              0.4444444444444444,
              "#bd3786"
             ],
             [
              0.5555555555555556,
              "#d8576b"
             ],
             [
              0.6666666666666666,
              "#ed7953"
             ],
             [
              0.7777777777777778,
              "#fb9f3a"
             ],
             [
              0.8888888888888888,
              "#fdca26"
             ],
             [
              1,
              "#f0f921"
             ]
            ],
            "type": "heatmap"
           }
          ],
          "heatmapgl": [
           {
            "colorbar": {
             "outlinewidth": 0,
             "ticks": ""
            },
            "colorscale": [
             [
              0,
              "#0d0887"
             ],
             [
              0.1111111111111111,
              "#46039f"
             ],
             [
              0.2222222222222222,
              "#7201a8"
             ],
             [
              0.3333333333333333,
              "#9c179e"
             ],
             [
              0.4444444444444444,
              "#bd3786"
             ],
             [
              0.5555555555555556,
              "#d8576b"
             ],
             [
              0.6666666666666666,
              "#ed7953"
             ],
             [
              0.7777777777777778,
              "#fb9f3a"
             ],
             [
              0.8888888888888888,
              "#fdca26"
             ],
             [
              1,
              "#f0f921"
             ]
            ],
            "type": "heatmapgl"
           }
          ],
          "histogram": [
           {
            "marker": {
             "pattern": {
              "fillmode": "overlay",
              "size": 10,
              "solidity": 0.2
             }
            },
            "type": "histogram"
           }
          ],
          "histogram2d": [
           {
            "colorbar": {
             "outlinewidth": 0,
             "ticks": ""
            },
            "colorscale": [
             [
              0,
              "#0d0887"
             ],
             [
              0.1111111111111111,
              "#46039f"
             ],
             [
              0.2222222222222222,
              "#7201a8"
             ],
             [
              0.3333333333333333,
              "#9c179e"
             ],
             [
              0.4444444444444444,
              "#bd3786"
             ],
             [
              0.5555555555555556,
              "#d8576b"
             ],
             [
              0.6666666666666666,
              "#ed7953"
             ],
             [
              0.7777777777777778,
              "#fb9f3a"
             ],
             [
              0.8888888888888888,
              "#fdca26"
             ],
             [
              1,
              "#f0f921"
             ]
            ],
            "type": "histogram2d"
           }
          ],
          "histogram2dcontour": [
           {
            "colorbar": {
             "outlinewidth": 0,
             "ticks": ""
            },
            "colorscale": [
             [
              0,
              "#0d0887"
             ],
             [
              0.1111111111111111,
              "#46039f"
             ],
             [
              0.2222222222222222,
              "#7201a8"
             ],
             [
              0.3333333333333333,
              "#9c179e"
             ],
             [
              0.4444444444444444,
              "#bd3786"
             ],
             [
              0.5555555555555556,
              "#d8576b"
             ],
             [
              0.6666666666666666,
              "#ed7953"
             ],
             [
              0.7777777777777778,
              "#fb9f3a"
             ],
             [
              0.8888888888888888,
              "#fdca26"
             ],
             [
              1,
              "#f0f921"
             ]
            ],
            "type": "histogram2dcontour"
           }
          ],
          "mesh3d": [
           {
            "colorbar": {
             "outlinewidth": 0,
             "ticks": ""
            },
            "type": "mesh3d"
           }
          ],
          "parcoords": [
           {
            "line": {
             "colorbar": {
              "outlinewidth": 0,
              "ticks": ""
             }
            },
            "type": "parcoords"
           }
          ],
          "pie": [
           {
            "automargin": true,
            "type": "pie"
           }
          ],
          "scatter": [
           {
            "fillpattern": {
             "fillmode": "overlay",
             "size": 10,
             "solidity": 0.2
            },
            "type": "scatter"
           }
          ],
          "scatter3d": [
           {
            "line": {
             "colorbar": {
              "outlinewidth": 0,
              "ticks": ""
             }
            },
            "marker": {
             "colorbar": {
              "outlinewidth": 0,
              "ticks": ""
             }
            },
            "type": "scatter3d"
           }
          ],
          "scattercarpet": [
           {
            "marker": {
             "colorbar": {
              "outlinewidth": 0,
              "ticks": ""
             }
            },
            "type": "scattercarpet"
           }
          ],
          "scattergeo": [
           {
            "marker": {
             "colorbar": {
              "outlinewidth": 0,
              "ticks": ""
             }
            },
            "type": "scattergeo"
           }
          ],
          "scattergl": [
           {
            "marker": {
             "colorbar": {
              "outlinewidth": 0,
              "ticks": ""
             }
            },
            "type": "scattergl"
           }
          ],
          "scattermapbox": [
           {
            "marker": {
             "colorbar": {
              "outlinewidth": 0,
              "ticks": ""
             }
            },
            "type": "scattermapbox"
           }
          ],
          "scatterpolar": [
           {
            "marker": {
             "colorbar": {
              "outlinewidth": 0,
              "ticks": ""
             }
            },
            "type": "scatterpolar"
           }
          ],
          "scatterpolargl": [
           {
            "marker": {
             "colorbar": {
              "outlinewidth": 0,
              "ticks": ""
             }
            },
            "type": "scatterpolargl"
           }
          ],
          "scatterternary": [
           {
            "marker": {
             "colorbar": {
              "outlinewidth": 0,
              "ticks": ""
             }
            },
            "type": "scatterternary"
           }
          ],
          "surface": [
           {
            "colorbar": {
             "outlinewidth": 0,
             "ticks": ""
            },
            "colorscale": [
             [
              0,
              "#0d0887"
             ],
             [
              0.1111111111111111,
              "#46039f"
             ],
             [
              0.2222222222222222,
              "#7201a8"
             ],
             [
              0.3333333333333333,
              "#9c179e"
             ],
             [
              0.4444444444444444,
              "#bd3786"
             ],
             [
              0.5555555555555556,
              "#d8576b"
             ],
             [
              0.6666666666666666,
              "#ed7953"
             ],
             [
              0.7777777777777778,
              "#fb9f3a"
             ],
             [
              0.8888888888888888,
              "#fdca26"
             ],
             [
              1,
              "#f0f921"
             ]
            ],
            "type": "surface"
           }
          ],
          "table": [
           {
            "cells": {
             "fill": {
              "color": "#EBF0F8"
             },
             "line": {
              "color": "white"
             }
            },
            "header": {
             "fill": {
              "color": "#C8D4E3"
             },
             "line": {
              "color": "white"
             }
            },
            "type": "table"
           }
          ]
         },
         "layout": {
          "annotationdefaults": {
           "arrowcolor": "#2a3f5f",
           "arrowhead": 0,
           "arrowwidth": 1
          },
          "autotypenumbers": "strict",
          "coloraxis": {
           "colorbar": {
            "outlinewidth": 0,
            "ticks": ""
           }
          },
          "colorscale": {
           "diverging": [
            [
             0,
             "#8e0152"
            ],
            [
             0.1,
             "#c51b7d"
            ],
            [
             0.2,
             "#de77ae"
            ],
            [
             0.3,
             "#f1b6da"
            ],
            [
             0.4,
             "#fde0ef"
            ],
            [
             0.5,
             "#f7f7f7"
            ],
            [
             0.6,
             "#e6f5d0"
            ],
            [
             0.7,
             "#b8e186"
            ],
            [
             0.8,
             "#7fbc41"
            ],
            [
             0.9,
             "#4d9221"
            ],
            [
             1,
             "#276419"
            ]
           ],
           "sequential": [
            [
             0,
             "#0d0887"
            ],
            [
             0.1111111111111111,
             "#46039f"
            ],
            [
             0.2222222222222222,
             "#7201a8"
            ],
            [
             0.3333333333333333,
             "#9c179e"
            ],
            [
             0.4444444444444444,
             "#bd3786"
            ],
            [
             0.5555555555555556,
             "#d8576b"
            ],
            [
             0.6666666666666666,
             "#ed7953"
            ],
            [
             0.7777777777777778,
             "#fb9f3a"
            ],
            [
             0.8888888888888888,
             "#fdca26"
            ],
            [
             1,
             "#f0f921"
            ]
           ],
           "sequentialminus": [
            [
             0,
             "#0d0887"
            ],
            [
             0.1111111111111111,
             "#46039f"
            ],
            [
             0.2222222222222222,
             "#7201a8"
            ],
            [
             0.3333333333333333,
             "#9c179e"
            ],
            [
             0.4444444444444444,
             "#bd3786"
            ],
            [
             0.5555555555555556,
             "#d8576b"
            ],
            [
             0.6666666666666666,
             "#ed7953"
            ],
            [
             0.7777777777777778,
             "#fb9f3a"
            ],
            [
             0.8888888888888888,
             "#fdca26"
            ],
            [
             1,
             "#f0f921"
            ]
           ]
          },
          "colorway": [
           "#636efa",
           "#EF553B",
           "#00cc96",
           "#ab63fa",
           "#FFA15A",
           "#19d3f3",
           "#FF6692",
           "#B6E880",
           "#FF97FF",
           "#FECB52"
          ],
          "font": {
           "color": "#2a3f5f"
          },
          "geo": {
           "bgcolor": "white",
           "lakecolor": "white",
           "landcolor": "#E5ECF6",
           "showlakes": true,
           "showland": true,
           "subunitcolor": "white"
          },
          "hoverlabel": {
           "align": "left"
          },
          "hovermode": "closest",
          "mapbox": {
           "style": "light"
          },
          "paper_bgcolor": "white",
          "plot_bgcolor": "#E5ECF6",
          "polar": {
           "angularaxis": {
            "gridcolor": "white",
            "linecolor": "white",
            "ticks": ""
           },
           "bgcolor": "#E5ECF6",
           "radialaxis": {
            "gridcolor": "white",
            "linecolor": "white",
            "ticks": ""
           }
          },
          "scene": {
           "xaxis": {
            "backgroundcolor": "#E5ECF6",
            "gridcolor": "white",
            "gridwidth": 2,
            "linecolor": "white",
            "showbackground": true,
            "ticks": "",
            "zerolinecolor": "white"
           },
           "yaxis": {
            "backgroundcolor": "#E5ECF6",
            "gridcolor": "white",
            "gridwidth": 2,
            "linecolor": "white",
            "showbackground": true,
            "ticks": "",
            "zerolinecolor": "white"
           },
           "zaxis": {
            "backgroundcolor": "#E5ECF6",
            "gridcolor": "white",
            "gridwidth": 2,
            "linecolor": "white",
            "showbackground": true,
            "ticks": "",
            "zerolinecolor": "white"
           }
          },
          "shapedefaults": {
           "line": {
            "color": "#2a3f5f"
           }
          },
          "ternary": {
           "aaxis": {
            "gridcolor": "white",
            "linecolor": "white",
            "ticks": ""
           },
           "baxis": {
            "gridcolor": "white",
            "linecolor": "white",
            "ticks": ""
           },
           "bgcolor": "#E5ECF6",
           "caxis": {
            "gridcolor": "white",
            "linecolor": "white",
            "ticks": ""
           }
          },
          "title": {
           "x": 0.05
          },
          "xaxis": {
           "automargin": true,
           "gridcolor": "white",
           "linecolor": "white",
           "ticks": "",
           "title": {
            "standoff": 15
           },
           "zerolinecolor": "white",
           "zerolinewidth": 2
          },
          "yaxis": {
           "automargin": true,
           "gridcolor": "white",
           "linecolor": "white",
           "ticks": "",
           "title": {
            "standoff": 15
           },
           "zerolinecolor": "white",
           "zerolinewidth": 2
          }
         }
        },
        "title": {
         "text": "Heat Conduction in Wall"
        },
        "xaxis": {
         "title": {
          "text": "Distance Along Wall (X)"
         }
        },
        "yaxis": {
         "title": {
          "text": "Temperature (ºC)"
         }
        }
       }
      }
     },
     "metadata": {},
     "output_type": "display_data"
    }
   ],
   "source": [
    "fig = go.Figure()\n",
    "\n",
    "for time, x_at_time in enumerate(t.Ttx):\n",
    "    fig.add_trace(go.Scatter(x=t.x_vals, y=x_at_time, mode='lines+markers', name=time))\n",
    "fig.update_layout(xaxis_title='Distance Along Wall (X)',\n",
    "                  yaxis_title='Temperature (ºC)',\n",
    "                  title='Heat Conduction in Wall')\n"
   ]
  }
 ],
 "metadata": {
  "kernelspec": {
   "display_name": "localwindowsenv",
   "language": "python",
   "name": "python3"
  },
  "language_info": {
   "codemirror_mode": {
    "name": "ipython",
    "version": 3
   },
   "file_extension": ".py",
   "mimetype": "text/x-python",
   "name": "python",
   "nbconvert_exporter": "python",
   "pygments_lexer": "ipython3",
   "version": "3.9.15"
  },
  "orig_nbformat": 4
 },
 "nbformat": 4,
 "nbformat_minor": 2
}
