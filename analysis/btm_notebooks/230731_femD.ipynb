{
 "cells": [
  {
   "cell_type": "code",
   "execution_count": 2,
   "metadata": {},
   "outputs": [],
   "source": [
    "from shapely import *\n",
    "import shapely.plotting as splt\n",
    "import shapely.ops as sopt\n",
    "import shapely as shp\n",
    "\n",
    "import matplotlib.pyplot as plt\n",
    "import numpy as np\n",
    "\n",
    "import sympy as smp\n",
    "\n",
    "from enum import Enum\n",
    "\n",
    "from icecream import ic\n",
    "\n",
    "\n"
   ]
  },
  {
   "cell_type": "code",
   "execution_count": 40,
   "metadata": {},
   "outputs": [],
   "source": [
    "# create a room \n",
    "room_lx = 20 #m - length in x\n",
    "room_ly= 10 #m \n",
    "room_poly = box(0.0, 0.0, room_lx, room_ly)\n",
    "\n",
    "dx = dy = 1"
   ]
  },
  {
   "cell_type": "code",
   "execution_count": null,
   "metadata": {},
   "outputs": [],
   "source": []
  },
  {
   "cell_type": "code",
   "execution_count": 48,
   "metadata": {},
   "outputs": [],
   "source": [
    "class Position(Enum):\n",
    "    LEFT = 1\n",
    "    RIGHT = 2\n",
    "    TOP = 3\n",
    "    BOTTOM = 4"
   ]
  },
  {
   "cell_type": "code",
   "execution_count": 52,
   "metadata": {},
   "outputs": [],
   "source": [
    "class BoundaryCondition(Enum):\n",
    "    CONVECTION = 1\n",
    "    ADIABATIC = 2\n",
    "    FIXED_TEMP = 3\n",
    "    # conduction, radiation "
   ]
  },
  {
   "cell_type": "code",
   "execution_count": 49,
   "metadata": {},
   "outputs": [
    {
     "name": "stdout",
     "output_type": "stream",
     "text": [
      "Position.LEFT\n",
      "Position.RIGHT\n",
      "Position.TOP\n",
      "Position.BOTTOM\n"
     ]
    }
   ],
   "source": [
    "for p in Position:\n",
    "    print(p)"
   ]
  },
  {
   "cell_type": "code",
   "execution_count": 55,
   "metadata": {},
   "outputs": [
    {
     "data": {
      "text/plain": [
       "[<BoundaryCondition.CONVECTION: 1>,\n",
       " <BoundaryCondition.ADIABATIC: 2>,\n",
       " <BoundaryCondition.ADIABATIC: 2>,\n",
       " <BoundaryCondition.ADIABATIC: 2>]"
      ]
     },
     "execution_count": 55,
     "metadata": {},
     "output_type": "execute_result"
    }
   ],
   "source": [
    "positions = [\"LEFT\", \"RIGHT\", \"TOP\", \"BOTTOM\"]\n",
    "bc = [BoundaryCondition.CONVECTION] + [BoundaryCondition.ADIABATIC]*3\n",
    "bc"
   ]
  },
  {
   "cell_type": "code",
   "execution_count": 91,
   "metadata": {},
   "outputs": [],
   "source": [
    "class LineData:\n",
    "    dirxy = \"x\"\n",
    "    rel_len = 1\n",
    "\n",
    "    def hello(self):\n",
    "        return \"hi\""
   ]
  },
  {
   "cell_type": "code",
   "execution_count": 92,
   "metadata": {},
   "outputs": [
    {
     "data": {
      "text/plain": [
       "'hi'"
      ]
     },
     "execution_count": 92,
     "metadata": {},
     "output_type": "execute_result"
    }
   ],
   "source": [
    "l = LineData().hello()\n",
    "l"
   ]
  },
  {
   "cell_type": "code",
   "execution_count": 83,
   "metadata": {},
   "outputs": [],
   "source": [
    "l.dirxy = 3"
   ]
  },
  {
   "cell_type": "code",
   "execution_count": 87,
   "metadata": {},
   "outputs": [
    {
     "data": {
      "text/plain": [
       "1"
      ]
     },
     "execution_count": 87,
     "metadata": {},
     "output_type": "execute_result"
    }
   ],
   "source": [
    "l.rel_len"
   ]
  },
  {
   "cell_type": "code",
   "execution_count": 88,
   "metadata": {},
   "outputs": [
    {
     "data": {
      "text/plain": [
       "{'dirxy': 3}"
      ]
     },
     "execution_count": 88,
     "metadata": {},
     "output_type": "execute_result"
    }
   ],
   "source": [
    "l.__dict__"
   ]
  },
  {
   "cell_type": "code",
   "execution_count": 79,
   "metadata": {},
   "outputs": [],
   "source": [
    "def create_convection_term():\n",
    "    return 0 \n",
    "\n",
    "def create_adiabatic_term():\n",
    "    return 1 \n",
    "\n",
    "def create_BC_term(key):\n",
    "    term_creation = {\n",
    "        \"CONVECTION\": create_convection_term,\n",
    "        \"ADIABATIC\": create_adiabatic_term\n",
    "    }\n",
    "\n",
    "    res = term_creation[key]()\n",
    "\n",
    "    return res\n",
    "\n",
    "\n"
   ]
  },
  {
   "cell_type": "code",
   "execution_count": 80,
   "metadata": {},
   "outputs": [
    {
     "data": {
      "text/plain": [
       "1"
      ]
     },
     "execution_count": 80,
     "metadata": {},
     "output_type": "execute_result"
    }
   ],
   "source": [
    "create_BC_term(\"ADIABATIC\")"
   ]
  },
  {
   "cell_type": "code",
   "execution_count": 63,
   "metadata": {},
   "outputs": [
    {
     "data": {
      "text/plain": [
       "'LEFT'"
      ]
     },
     "execution_count": 63,
     "metadata": {},
     "output_type": "execute_result"
    }
   ],
   "source": [
    "Position.LEFT.name"
   ]
  },
  {
   "cell_type": "code",
   "execution_count": 64,
   "metadata": {},
   "outputs": [
    {
     "data": {
      "text/plain": [
       "['LEFT', 'RIGHT', 'TOP', 'BOTTOM']"
      ]
     },
     "execution_count": 64,
     "metadata": {},
     "output_type": "execute_result"
    }
   ],
   "source": [
    "[p.name for p in Position]"
   ]
  },
  {
   "cell_type": "code",
   "execution_count": 70,
   "metadata": {},
   "outputs": [],
   "source": [
    "bc_data = {}\n",
    "\n",
    "for pos in Position:\n",
    "    p = pos.name\n",
    "    bc_data[p] = {}\n",
    "    bc_data[p][\"poly\"] = generate_BC_geom(p, room_poly=room_poly, dx=dx, dy=dy)\n",
    "\n",
    "    if p == Position.LEFT.name:\n",
    "        bc_data[p][\"condition\"] = BoundaryCondition.CONVECTION.name\n",
    "    else:\n",
    "        bc_data[p][\"condition\"] = BoundaryCondition.ADIABATIC.name\n",
    "\n",
    "\n"
   ]
  },
  {
   "cell_type": "code",
   "execution_count": 43,
   "metadata": {},
   "outputs": [
    {
     "data": {
      "image/svg+xml": [
       "<svg xmlns=\"http://www.w3.org/2000/svg\" xmlns:xlink=\"http://www.w3.org/1999/xlink\" width=\"100.0\" height=\"100.0\" viewBox=\"-0.8 9.2 21.6 2.6000000000000014\" preserveAspectRatio=\"xMinYMin meet\"><g transform=\"matrix(1,0,0,-1,0,21.0)\"><path fill-rule=\"evenodd\" fill=\"#66cc99\" stroke=\"#555555\" stroke-width=\"0.43200000000000005\" opacity=\"0.6\" d=\"M 20.0,10.0 L 20.0,11.0 L 0.0,11.0 L 0.0,10.0 L 20.0,10.0 z\" /></g></svg>"
      ],
      "text/plain": [
       "<POLYGON ((20 10, 20 11, 0 11, 0 10, 20 10))>"
      ]
     },
     "execution_count": 43,
     "metadata": {},
     "output_type": "execute_result"
    }
   ],
   "source": [
    "generate_BC_geom(\"TOP\", room_poly=room_poly, dx=dx, dy=dy)"
   ]
  },
  {
   "cell_type": "code",
   "execution_count": 45,
   "metadata": {},
   "outputs": [
    {
     "data": {
      "image/svg+xml": [
       "<svg xmlns=\"http://www.w3.org/2000/svg\" xmlns:xlink=\"http://www.w3.org/1999/xlink\" width=\"100.0\" height=\"100.0\" viewBox=\"-0.8 -1.8 21.6 2.6\" preserveAspectRatio=\"xMinYMin meet\"><g transform=\"matrix(1,0,0,-1,0,-1.0)\"><path fill-rule=\"evenodd\" fill=\"#66cc99\" stroke=\"#555555\" stroke-width=\"0.43200000000000005\" opacity=\"0.6\" d=\"M 20.0,-1.0 L 20.0,0.0 L 0.0,0.0 L 0.0,-1.0 L 20.0,-1.0 z\" /></g></svg>"
      ],
      "text/plain": [
       "<POLYGON ((20 -1, 20 0, 0 0, 0 -1, 20 -1))>"
      ]
     },
     "execution_count": 45,
     "metadata": {},
     "output_type": "execute_result"
    }
   ],
   "source": [
    "generate_BC_geom(\"BOTTOM\", room_poly=room_poly, dx=dx, dy=dy)"
   ]
  },
  {
   "cell_type": "code",
   "execution_count": 39,
   "metadata": {},
   "outputs": [],
   "source": [
    "# create somewhat arbitrary BCs around this room \n",
    "def generate_BC_geom(pos, room_poly=room_poly, dx=dx, dy=dy):\n",
    "    rxy = room_poly.exterior.xy\n",
    "\n",
    "    rxmax = max(rxy[0])\n",
    "    rxmin = min(rxy[0])\n",
    "\n",
    "    rymax = max(rxy[1])\n",
    "    rymin = min(rxy[1])\n",
    "\n",
    "    d= {\n",
    "    \"xmin\": rxmin,\n",
    "    \"xmax\": rxmax, \n",
    "    \"ymin\": rymin,\n",
    "    \"ymax\": rymax\n",
    "    }\n",
    "\n",
    "    update_d = {\n",
    "        \"LEFT\": {\n",
    "            \"xmin\": rxmin - dx,\n",
    "            \"xmax\": rxmin,\n",
    "        },\n",
    "        \"RIGHT\": {\n",
    "            \"xmin\": rxmax,\n",
    "            \"xmax\": rxmax + dx,\n",
    "        },\n",
    "        \"TOP\": {\n",
    "            \"ymin\": rymax,\n",
    "            \"ymax\": rymax + dy,\n",
    "        },\n",
    "        \"BOTTOM\": {\n",
    "            \"ymin\": rymin - dy,\n",
    "            \"ymax\": rymin,\n",
    "        },\n",
    "    }\n",
    "\n",
    "    d.update(update_d[pos])\n",
    "\n",
    "    geo = box(**d)\n",
    "\n",
    "    return geo\n"
   ]
  },
  {
   "cell_type": "code",
   "execution_count": null,
   "metadata": {},
   "outputs": [],
   "source": []
  },
  {
   "cell_type": "code",
   "execution_count": 19,
   "metadata": {},
   "outputs": [],
   "source": [
    "# box? # (xmin, ymin, xmax, ymax,"
   ]
  },
  {
   "cell_type": "code",
   "execution_count": null,
   "metadata": {},
   "outputs": [],
   "source": [
    "update_d = {\n",
    "    \"LEFT\": {\n",
    "        \"xmin\": rxmin - dx,\n",
    "        \"xmax\": rxmin,\n",
    "    },\n",
    "    \"RIGHT\": {\n",
    "        \"xmin\": rxmax,\n",
    "        \"xmax\": rxmax + dx,\n",
    "    },\n",
    "    \"TOP\": {\n",
    "        \"ymin\": rymax,\n",
    "        \"ymax\": rymax + dy,\n",
    "    },\n",
    "    \"BOTTOM\": {\n",
    "        \"ymin\": rymin - dy,\n",
    "        \"ymax\": rymin,\n",
    "    },\n",
    "}"
   ]
  },
  {
   "cell_type": "code",
   "execution_count": 35,
   "metadata": {},
   "outputs": [
    {
     "data": {
      "text/plain": [
       "{'xmin': 0.0, 'xmax': 20.0, 'ymin': 0.0, 'ymax': 10.0}"
      ]
     },
     "execution_count": 35,
     "metadata": {},
     "output_type": "execute_result"
    }
   ],
   "source": [
    "rxy = room_poly.exterior.xy\n",
    "dx = dy = 1\n",
    "\n",
    "rxmax = max(rxy[0])\n",
    "rxmin = min(rxy[0])\n",
    "\n",
    "rymax = max(rxy[1])\n",
    "rymin = min(rxy[1])\n",
    "\n",
    "d= {\n",
    "    \"xmin\": rxmin,\n",
    "    \"xmax\": rxmax, \n",
    "    \"ymin\": rymin,\n",
    "    \"ymax\": rymax\n",
    "}\n",
    "d"
   ]
  },
  {
   "cell_type": "code",
   "execution_count": null,
   "metadata": {},
   "outputs": [],
   "source": [
    "if name == \"left\":\n",
    "    d[\"xmin\"] = rxmin - dx\n",
    "    d[\"xmax\"] = rxmax"
   ]
  },
  {
   "cell_type": "code",
   "execution_count": 38,
   "metadata": {},
   "outputs": [
    {
     "data": {
      "image/svg+xml": [
       "<svg xmlns=\"http://www.w3.org/2000/svg\" xmlns:xlink=\"http://www.w3.org/1999/xlink\" width=\"100.0\" height=\"100.0\" viewBox=\"-0.8 -0.8 21.6 11.600000000000001\" preserveAspectRatio=\"xMinYMin meet\"><g transform=\"matrix(1,0,0,-1,0,10.0)\"><path fill-rule=\"evenodd\" fill=\"#66cc99\" stroke=\"#555555\" stroke-width=\"0.43200000000000005\" opacity=\"0.6\" d=\"M 20.0,0.0 L 20.0,10.0 L 0.0,10.0 L 0.0,0.0 L 20.0,0.0 z\" /></g></svg>"
      ],
      "text/plain": [
       "<POLYGON ((20 0, 20 10, 0 10, 0 0, 20 0))>"
      ]
     },
     "execution_count": 38,
     "metadata": {},
     "output_type": "execute_result"
    }
   ],
   "source": [
    "dd = box(**d)\n",
    "dd"
   ]
  },
  {
   "cell_type": "code",
   "execution_count": 37,
   "metadata": {},
   "outputs": [
    {
     "data": {
      "text/plain": [
       "(array('d', [20.0, 20.0, 0.0, 0.0, 20.0]),\n",
       " array('d', [0.0, 10.0, 10.0, 0.0, 0.0]))"
      ]
     },
     "execution_count": 37,
     "metadata": {},
     "output_type": "execute_result"
    }
   ],
   "source": [
    "dd.exterior.xy"
   ]
  },
  {
   "cell_type": "code",
   "execution_count": 28,
   "metadata": {},
   "outputs": [
    {
     "data": {
      "image/svg+xml": [
       "<svg xmlns=\"http://www.w3.org/2000/svg\" xmlns:xlink=\"http://www.w3.org/1999/xlink\" width=\"100.0\" height=\"100.0\" viewBox=\"-1.8399999999999999 -0.84 22.68 11.68\" preserveAspectRatio=\"xMinYMin meet\"><g transform=\"matrix(1,0,0,-1,0,10.0)\"><path fill-rule=\"evenodd\" fill=\"#66cc99\" stroke=\"#555555\" stroke-width=\"0.4536\" opacity=\"0.6\" d=\"M 20.0,0.0 L 20.0,10.0 L -1.0,10.0 L -1.0,0.0 L 20.0,0.0 z\" /></g></svg>"
      ],
      "text/plain": [
       "<POLYGON ((20 0, 20 10, -1 10, -1 0, 20 0))>"
      ]
     },
     "execution_count": 28,
     "metadata": {},
     "output_type": "execute_result"
    }
   ],
   "source": [
    "\n",
    "\n",
    "\n",
    "# # xmin, ymin, xmax, ymax,\n",
    "# a = [rxmin, rymin, rxmax, rymax]\n",
    "\n",
    "# b = a.copy()\n",
    "# b[0] = b[0] - dx\n",
    "\n",
    "# c = a.copy()\n",
    "# c[0] = c[0] - dx\n",
    "\n",
    "\n",
    "box(*b)"
   ]
  },
  {
   "cell_type": "code",
   "execution_count": null,
   "metadata": {},
   "outputs": [],
   "source": []
  },
  {
   "cell_type": "code",
   "execution_count": 13,
   "metadata": {},
   "outputs": [
    {
     "data": {
      "image/svg+xml": [
       "<svg xmlns=\"http://www.w3.org/2000/svg\" xmlns:xlink=\"http://www.w3.org/1999/xlink\" width=\"100.0\" height=\"100.0\" viewBox=\"-1.4 -0.4 1.7999999999999998 10.8\" preserveAspectRatio=\"xMinYMin meet\"><g transform=\"matrix(1,0,0,-1,0,10.0)\"><path fill-rule=\"evenodd\" fill=\"#66cc99\" stroke=\"#555555\" stroke-width=\"0.21600000000000003\" opacity=\"0.6\" d=\"M 0.0,0.0 L 0.0,10.0 L -1.0,10.0 L -1.0,0.0 L 0.0,0.0 z\" /></g></svg>"
      ],
      "text/plain": [
       "<POLYGON ((0 0, 0 10, -1 10, -1 0, 0 0))>"
      ]
     },
     "execution_count": 13,
     "metadata": {},
     "output_type": "execute_result"
    }
   ],
   "source": [
    "generate_BC_geom(room_poly, 1, 1)"
   ]
  }
 ],
 "metadata": {
  "kernelspec": {
   "display_name": "localwindowsenv",
   "language": "python",
   "name": "python3"
  },
  "language_info": {
   "codemirror_mode": {
    "name": "ipython",
    "version": 3
   },
   "file_extension": ".py",
   "mimetype": "text/x-python",
   "name": "python",
   "nbconvert_exporter": "python",
   "pygments_lexer": "ipython3",
   "version": "3.9.15"
  },
  "orig_nbformat": 4
 },
 "nbformat": 4,
 "nbformat_minor": 2
}
