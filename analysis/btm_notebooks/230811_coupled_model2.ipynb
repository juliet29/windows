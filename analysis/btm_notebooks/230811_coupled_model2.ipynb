{
 "cells": [
  {
   "cell_type": "code",
   "execution_count": 48,
   "metadata": {},
   "outputs": [],
   "source": [
    "import sys\n",
    "sys.path.insert(0, \"../scripts\")\n",
    "import vavg_indoor_air as v\n",
    "import wall_cond as w\n",
    "\n",
    "from sympy import * \n",
    "from spb import *\n",
    "\n",
    "import numpy as np\n",
    "import pandas as pd\n",
    "\n",
    "import plotly.express as px\n",
    "import plotly.graph_objects as go\n",
    "from plotly.subplots import make_subplots\n",
    "import plotly as plotly\n",
    "\n",
    "from icecream import ic"
   ]
  },
  {
   "cell_type": "code",
   "execution_count": 2,
   "metadata": {},
   "outputs": [],
   "source": [
    "v1 = v.VavgIndoorAir(v.PhysicalConstants(), n_mins=60*24) #extend to 1 day "
   ]
  },
  {
   "cell_type": "code",
   "execution_count": 3,
   "metadata": {},
   "outputs": [],
   "source": [
    "times, temps = v1.calc_transient_indoor_air()"
   ]
  },
  {
   "cell_type": "code",
   "execution_count": 50,
   "metadata": {},
   "outputs": [],
   "source": [
    "def make_colors(min_interv):\n",
    "    n_colors = len([ix_time for ix_time,_ in enumerate(v1.all_wall_temps) if ix_time%(min_interv*4)==0]) + 1\n",
    "\n",
    "    colors = px.colors.sample_colorscale(\"aggrnyl\", [n/(n_colors -1) for n in range(n_colors)])\n",
    "\n",
    "    # print(len(colors))\n",
    "\n",
    "    return colors\n"
   ]
  },
  {
   "cell_type": "code",
   "execution_count": 13,
   "metadata": {},
   "outputs": [
    {
     "data": {
      "text/plain": [
       "[0.0,\n",
       " 120.0,\n",
       " 240.0,\n",
       " 360.0,\n",
       " 480.0,\n",
       " 600.0,\n",
       " 720.0,\n",
       " 840.0,\n",
       " 960.0,\n",
       " 1080.0,\n",
       " 1200.0,\n",
       " 1320.0]"
      ]
     },
     "execution_count": 13,
     "metadata": {},
     "output_type": "execute_result"
    }
   ],
   "source": [
    "t_plots = [times[ix_time] for ix_time,_ in enumerate(v1.all_wall_temps) if ix_time%(min_interv*4)==0]\n",
    "t_plots"
   ]
  },
  {
   "cell_type": "code",
   "execution_count": 42,
   "metadata": {},
   "outputs": [
    {
     "data": {
      "text/plain": [
       "Timestamp('2022-07-27 09:00:00', freq='15S')"
      ]
     },
     "execution_count": 42,
     "metadata": {},
     "output_type": "execute_result"
    }
   ],
   "source": [
    "v1.twall.ext_temps.index[0]"
   ]
  },
  {
   "cell_type": "code",
   "execution_count": 70,
   "metadata": {},
   "outputs": [
    {
     "data": {
      "application/vnd.plotly.v1+json": {
       "config": {
        "plotlyServerURL": "https://plotly.com"
       },
       "data": [
        {
         "legendgroup": "Same",
         "line": {
          "color": "rgb(36, 86, 104)"
         },
         "mode": "lines+markers",
         "name": "09 AM",
         "showlegend": false,
         "type": "scatter",
         "x": [
          "09 AM"
         ],
         "xaxis": "x",
         "y": [
          290.26111111111106
         ],
         "yaxis": "y"
        },
        {
         "legendgroup": "Same",
         "line": {
          "color": "rgb(36, 86, 104)"
         },
         "mode": "lines+markers",
         "name": "09 AM",
         "showlegend": true,
         "type": "scatter",
         "x": [
          0,
          0.01,
          0.02,
          0.03,
          0.04,
          0.05,
          0.06,
          0.07,
          0.08,
          0.09
         ],
         "xaxis": "x2",
         "y": [
          290.2618554303095,
          290.5820987654321,
          290.90308641975304,
          291.2240740740741,
          291.54506172839507,
          291.866049382716,
          292.187037037037,
          292.508024691358,
          292.82901234567896,
          293.14925568080156
         ],
         "yaxis": "y2"
        },
        {
         "legendgroup": "Same",
         "line": {
          "color": "rgb(36, 86, 104)"
         },
         "mode": "lines+markers",
         "name": "09 AM",
         "showlegend": false,
         "type": "scatter",
         "x": [
          "09 AM"
         ],
         "xaxis": "x3",
         "y": [
          293.15
         ],
         "yaxis": "y3"
        },
        {
         "legendgroup": "Same",
         "line": {
          "color": "rgb(26, 100, 112)"
         },
         "mode": "lines+markers",
         "name": "11 AM",
         "showlegend": false,
         "type": "scatter",
         "x": [
          "11 AM"
         ],
         "xaxis": "x",
         "y": [
          292.81666666666666
         ],
         "yaxis": "y"
        },
        {
         "legendgroup": "Same",
         "line": {
          "color": "rgb(26, 100, 112)"
         },
         "mode": "lines+markers",
         "name": "11 AM",
         "showlegend": true,
         "type": "scatter",
         "x": [
          0,
          0.01,
          0.02,
          0.03,
          0.04,
          0.05,
          0.06,
          0.07,
          0.08,
          0.09
         ],
         "xaxis": "x2",
         "y": [
          290.5202619869831,
          290.6377124966553,
          290.91201383425334,
          291.2252091771485,
          291.5451702524369,
          291.8659421723266,
          292.1859252326348,
          292.49944475110084,
          292.7773474507809,
          292.9222252752574
         ],
         "yaxis": "y2"
        },
        {
         "legendgroup": "Same",
         "line": {
          "color": "rgb(26, 100, 112)"
         },
         "mode": "lines+markers",
         "name": "11 AM",
         "showlegend": false,
         "type": "scatter",
         "x": [
          "11 AM"
         ],
         "xaxis": "x3",
         "y": [
          293.1500181888229
         ],
         "yaxis": "y3"
        },
        {
         "legendgroup": "Same",
         "line": {
          "color": "rgb(15, 114, 121)"
         },
         "mode": "lines+markers",
         "name": "01 PM",
         "showlegend": false,
         "type": "scatter",
         "x": [
          "01 PM"
         ],
         "xaxis": "x",
         "y": [
          293.81666666666666
         ],
         "yaxis": "y"
        },
        {
         "legendgroup": "Same",
         "line": {
          "color": "rgb(15, 114, 121)"
         },
         "mode": "lines+markers",
         "name": "01 PM",
         "showlegend": true,
         "type": "scatter",
         "x": [
          0,
          0.01,
          0.02,
          0.03,
          0.04,
          0.05,
          0.06,
          0.07,
          0.08,
          0.09
         ],
         "xaxis": "x2",
         "y": [
          290.7183756982586,
          290.73815081177,
          290.9460033101174,
          291.2338178003739,
          291.5466581782406,
          291.8646282658788,
          292.1783682580026,
          292.471361481969,
          292.70289996486116,
          292.8053136034851
         ],
         "yaxis": "y2"
        },
        {
         "legendgroup": "Same",
         "line": {
          "color": "rgb(15, 114, 121)"
         },
         "mode": "lines+markers",
         "name": "01 PM",
         "showlegend": false,
         "type": "scatter",
         "x": [
          "01 PM"
         ],
         "xaxis": "x3",
         "y": [
          293.1500586413605
         ],
         "yaxis": "y3"
        },
        {
         "legendgroup": "Same",
         "line": {
          "color": "rgb(14, 128, 125)"
         },
         "mode": "lines+markers",
         "name": "03 PM",
         "showlegend": false,
         "type": "scatter",
         "x": [
          "03 PM"
         ],
         "xaxis": "x",
         "y": [
          294.5388888888889
         ],
         "yaxis": "y"
        },
        {
         "legendgroup": "Same",
         "line": {
          "color": "rgb(14, 128, 125)"
         },
         "mode": "lines+markers",
         "name": "03 PM",
         "showlegend": true,
         "type": "scatter",
         "x": [
          0,
          0.01,
          0.02,
          0.03,
          0.04,
          0.05,
          0.06,
          0.07,
          0.08,
          0.09
         ],
         "xaxis": "x2",
         "y": [
          290.89257906171815,
          290.8461223066585,
          290.99761670419497,
          291.2529101214525,
          291.5512734083591,
          291.8612515492891,
          292.1635616018805,
          292.4343164956,
          292.6353184733724,
          292.7225262402606
         ],
         "yaxis": "y2"
        },
        {
         "legendgroup": "Same",
         "line": {
          "color": "rgb(14, 128, 125)"
         },
         "mode": "lines+markers",
         "name": "03 PM",
         "showlegend": false,
         "type": "scatter",
         "x": [
          "03 PM"
         ],
         "xaxis": "x3",
         "y": [
          293.15011264776695
         ],
         "yaxis": "y3"
        },
        {
         "legendgroup": "Same",
         "line": {
          "color": "rgb(13, 143, 129)"
         },
         "mode": "lines+markers",
         "name": "05 PM",
         "showlegend": false,
         "type": "scatter",
         "x": [
          "05 PM"
         ],
         "xaxis": "x",
         "y": [
          295.92777777777775
         ],
         "yaxis": "y"
        },
        {
         "legendgroup": "Same",
         "line": {
          "color": "rgb(13, 143, 129)"
         },
         "mode": "lines+markers",
         "name": "05 PM",
         "showlegend": true,
         "type": "scatter",
         "x": [
          0,
          0.01,
          0.02,
          0.03,
          0.04,
          0.05,
          0.06,
          0.07,
          0.08,
          0.09
         ],
         "xaxis": "x2",
         "y": [
          291.0523837888239,
          290.95518062993517,
          291.0593371891321,
          291.28096083568227,
          291.5595995249659,
          291.856483104881,
          292.1442782190715,
          292.3951400145768,
          292.5757575212331,
          292.6556510868882
         ],
         "yaxis": "y2"
        },
        {
         "legendgroup": "Same",
         "line": {
          "color": "rgb(13, 143, 129)"
         },
         "mode": "lines+markers",
         "name": "05 PM",
         "showlegend": false,
         "type": "scatter",
         "x": [
          "05 PM"
         ],
         "xaxis": "x3",
         "y": [
          293.1501769747711
         ],
         "yaxis": "y3"
        },
        {
         "legendgroup": "Same",
         "line": {
          "color": "rgb(35, 157, 128)"
         },
         "mode": "lines+markers",
         "name": "07 PM",
         "showlegend": false,
         "type": "scatter",
         "x": [
          "07 PM"
         ],
         "xaxis": "x",
         "y": [
          295.2055555555555
         ],
         "yaxis": "y"
        },
        {
         "legendgroup": "Same",
         "line": {
          "color": "rgb(35, 157, 128)"
         },
         "mode": "lines+markers",
         "name": "07 PM",
         "showlegend": true,
         "type": "scatter",
         "x": [
          0,
          0.01,
          0.02,
          0.03,
          0.04,
          0.05,
          0.06,
          0.07,
          0.08,
          0.09
         ],
         "xaxis": "x2",
         "y": [
          291.1929992218867,
          291.0650846533709,
          291.12750028105836,
          291.3157576689172,
          291.5714733948897,
          291.85153470093655,
          292.12322053379467,
          292.35671384893544,
          292.52270185464164,
          292.5983966692677
         ],
         "yaxis": "y2"
        },
        {
         "legendgroup": "Same",
         "line": {
          "color": "rgb(35, 157, 128)"
         },
         "mode": "lines+markers",
         "name": "07 PM",
         "showlegend": false,
         "type": "scatter",
         "x": [
          "07 PM"
         ],
         "xaxis": "x3",
         "y": [
          293.15024990907517
         ],
         "yaxis": "y3"
        },
        {
         "legendgroup": "Same",
         "line": {
          "color": "rgb(57, 171, 126)"
         },
         "mode": "lines+markers",
         "name": "09 PM",
         "showlegend": false,
         "type": "scatter",
         "x": [
          "09 PM"
         ],
         "xaxis": "x",
         "y": [
          290.81666666666666
         ],
         "yaxis": "y"
        },
        {
         "legendgroup": "Same",
         "line": {
          "color": "rgb(57, 171, 126)"
         },
         "mode": "lines+markers",
         "name": "09 PM",
         "showlegend": true,
         "type": "scatter",
         "x": [
          0,
          0.01,
          0.02,
          0.03,
          0.04,
          0.05,
          0.06,
          0.07,
          0.08,
          0.09
         ],
         "xaxis": "x2",
         "y": [
          291.2398979032715,
          291.1548328338672,
          291.1963120498353,
          291.3550951860897,
          291.5865240631278,
          291.8474483535545,
          292.1022563401381,
          292.320257320237,
          292.47491174664225,
          292.54789193360494
         ],
         "yaxis": "y2"
        },
        {
         "legendgroup": "Same",
         "line": {
          "color": "rgb(57, 171, 126)"
         },
         "mode": "lines+markers",
         "name": "09 PM",
         "showlegend": false,
         "type": "scatter",
         "x": [
          "09 PM"
         ],
         "xaxis": "x3",
         "y": [
          293.1503303341782
         ],
         "yaxis": "y3"
        },
        {
         "legendgroup": "Same",
         "line": {
          "color": "rgb(84, 184, 121)"
         },
         "mode": "lines+markers",
         "name": "11 PM",
         "showlegend": false,
         "type": "scatter",
         "x": [
          "11 PM"
         ],
         "xaxis": "x",
         "y": [
          288.5388888888889
         ],
         "yaxis": "y"
        },
        {
         "legendgroup": "Same",
         "line": {
          "color": "rgb(84, 184, 121)"
         },
         "mode": "lines+markers",
         "name": "11 PM",
         "showlegend": true,
         "type": "scatter",
         "x": [
          0,
          0.01,
          0.02,
          0.03,
          0.04,
          0.05,
          0.06,
          0.07,
          0.08,
          0.09
         ],
         "xaxis": "x2",
         "y": [
          291.1617474602808,
          291.19279260229587,
          291.2525849813928,
          291.3945923505334,
          291.603785193668,
          291.8448247651365,
          292.0825292087166,
          292.2863196995567,
          292.43157112908796,
          292.5026029011349
         ],
         "yaxis": "y2"
        },
        {
         "legendgroup": "Same",
         "line": {
          "color": "rgb(84, 184, 121)"
         },
         "mode": "lines+markers",
         "name": "11 PM",
         "showlegend": false,
         "type": "scatter",
         "x": [
          "11 PM"
         ],
         "xaxis": "x3",
         "y": [
          293.15041742794045
         ],
         "yaxis": "y3"
        },
        {
         "legendgroup": "Same",
         "line": {
          "color": "rgb(110, 197, 116)"
         },
         "mode": "lines+markers",
         "name": "01 AM",
         "showlegend": false,
         "type": "scatter",
         "x": [
          "01 AM"
         ],
         "xaxis": "x",
         "y": [
          287.59444444444443
         ],
         "yaxis": "y"
        },
        {
         "legendgroup": "Same",
         "line": {
          "color": "rgb(110, 197, 116)"
         },
         "mode": "lines+markers",
         "name": "01 AM",
         "showlegend": true,
         "type": "scatter",
         "x": [
          0,
          0.01,
          0.02,
          0.03,
          0.04,
          0.05,
          0.06,
          0.07,
          0.08,
          0.09
         ],
         "xaxis": "x2",
         "y": [
          291.0857938482862,
          291.1938290340918,
          291.28790073387694,
          291.4281785342908,
          291.62108724268177,
          291.8435642151968,
          292.0646005430709,
          292.2551347776789,
          292.3921526640222,
          292.46163768429835
         ],
         "yaxis": "y2"
        },
        {
         "legendgroup": "Same",
         "line": {
          "color": "rgb(110, 197, 116)"
         },
         "mode": "lines+markers",
         "name": "01 AM",
         "showlegend": false,
         "type": "scatter",
         "x": [
          "01 AM"
         ],
         "xaxis": "x3",
         "y": [
          293.1505105321979
         ],
         "yaxis": "y3"
        },
        {
         "legendgroup": "Same",
         "line": {
          "color": "rgb(140, 209, 110)"
         },
         "mode": "lines+markers",
         "name": "03 AM",
         "showlegend": false,
         "type": "scatter",
         "x": [
          "03 AM"
         ],
         "xaxis": "x",
         "y": [
          286.65
         ],
         "yaxis": "y"
        },
        {
         "legendgroup": "Same",
         "line": {
          "color": "rgb(140, 209, 110)"
         },
         "mode": "lines+markers",
         "name": "03 AM",
         "showlegend": true,
         "type": "scatter",
         "x": [
          0,
          0.01,
          0.02,
          0.03,
          0.04,
          0.05,
          0.06,
          0.07,
          0.08,
          0.09
         ],
         "xaxis": "x2",
         "y": [
          291.01978649138306,
          291.1802469654114,
          291.3062104655515,
          291.45292448438175,
          291.636038204322,
          291.84289807381555,
          292.04851362496873,
          292.22672095946825,
          292.35629128286814,
          292.4244424528268
         ],
         "yaxis": "y2"
        },
        {
         "legendgroup": "Same",
         "line": {
          "color": "rgb(140, 209, 110)"
         },
         "mode": "lines+markers",
         "name": "03 AM",
         "showlegend": false,
         "type": "scatter",
         "x": [
          "03 AM"
         ],
         "xaxis": "x3",
         "y": [
          293.1506090869367
         ],
         "yaxis": "y3"
        },
        {
         "legendgroup": "Same",
         "line": {
          "color": "rgb(169, 220, 103)"
         },
         "mode": "lines+markers",
         "name": "05 AM",
         "showlegend": false,
         "type": "scatter",
         "x": [
          "05 AM"
         ],
         "xaxis": "x",
         "y": [
          287.81666666666666
         ],
         "yaxis": "y"
        },
        {
         "legendgroup": "Same",
         "line": {
          "color": "rgb(169, 220, 103)"
         },
         "mode": "lines+markers",
         "name": "05 AM",
         "showlegend": true,
         "type": "scatter",
         "x": [
          0,
          0.01,
          0.02,
          0.03,
          0.04,
          0.05,
          0.06,
          0.07,
          0.08,
          0.09
         ],
         "xaxis": "x2",
         "y": [
          290.98948982005174,
          291.1622167967907,
          291.3127757147931,
          291.46901708226244,
          291.6472470849015,
          291.84189171404563,
          292.03394530101434,
          292.20091273098365,
          292.3236874058075,
          292.3906353318606
         ],
         "yaxis": "y2"
        },
        {
         "legendgroup": "Same",
         "line": {
          "color": "rgb(169, 220, 103)"
         },
         "mode": "lines+markers",
         "name": "05 AM",
         "showlegend": false,
         "type": "scatter",
         "x": [
          "05 AM"
         ],
         "xaxis": "x3",
         "y": [
          293.1507125957607
         ],
         "yaxis": "y3"
        },
        {
         "legendgroup": "Same",
         "line": {
          "color": "rgb(203, 230, 98)"
         },
         "mode": "lines+markers",
         "name": "07 AM",
         "showlegend": false,
         "type": "scatter",
         "x": [
          "07 AM"
         ],
         "xaxis": "x",
         "y": [
          288.3722222222222
         ],
         "yaxis": "y"
        },
        {
         "legendgroup": "Same",
         "line": {
          "color": "rgb(203, 230, 98)"
         },
         "mode": "lines+markers",
         "name": "07 AM",
         "showlegend": true,
         "type": "scatter",
         "x": [
          0,
          0.01,
          0.02,
          0.03,
          0.04,
          0.05,
          0.06,
          0.07,
          0.08,
          0.09
         ],
         "xaxis": "x2",
         "y": [
          291.0021881117362,
          291.15771070005076,
          291.3154375097434,
          291.4784539223643,
          291.6543971175041,
          291.83984339729477,
          292.02043165426693,
          292.17741504820316,
          292.2940473811116,
          292.35990539493775
         ],
         "yaxis": "y2"
        },
        {
         "legendgroup": "Same",
         "line": {
          "color": "rgb(203, 230, 98)"
         },
         "mode": "lines+markers",
         "name": "07 AM",
         "showlegend": false,
         "type": "scatter",
         "x": [
          "07 AM"
         ],
         "xaxis": "x3",
         "y": [
          293.1508206095657
         ],
         "yaxis": "y3"
        }
       ],
       "layout": {
        "annotations": [
         {
          "font": {
           "size": 16
          },
          "showarrow": false,
          "text": "Amb Temp",
          "x": 0.14444444444444446,
          "xanchor": "center",
          "xref": "paper",
          "y": 1,
          "yanchor": "bottom",
          "yref": "paper"
         },
         {
          "font": {
           "size": 16
          },
          "showarrow": false,
          "text": "Wall Temps",
          "x": 0.5,
          "xanchor": "center",
          "xref": "paper",
          "y": 1,
          "yanchor": "bottom",
          "yref": "paper"
         },
         {
          "font": {
           "size": 16
          },
          "showarrow": false,
          "text": "Room Temp",
          "x": 0.8555555555555556,
          "xanchor": "center",
          "xref": "paper",
          "y": 1,
          "yanchor": "bottom",
          "yref": "paper"
         }
        ],
        "template": {
         "data": {
          "bar": [
           {
            "error_x": {
             "color": "#2a3f5f"
            },
            "error_y": {
             "color": "#2a3f5f"
            },
            "marker": {
             "line": {
              "color": "#E5ECF6",
              "width": 0.5
             },
             "pattern": {
              "fillmode": "overlay",
              "size": 10,
              "solidity": 0.2
             }
            },
            "type": "bar"
           }
          ],
          "barpolar": [
           {
            "marker": {
             "line": {
              "color": "#E5ECF6",
              "width": 0.5
             },
             "pattern": {
              "fillmode": "overlay",
              "size": 10,
              "solidity": 0.2
             }
            },
            "type": "barpolar"
           }
          ],
          "carpet": [
           {
            "aaxis": {
             "endlinecolor": "#2a3f5f",
             "gridcolor": "white",
             "linecolor": "white",
             "minorgridcolor": "white",
             "startlinecolor": "#2a3f5f"
            },
            "baxis": {
             "endlinecolor": "#2a3f5f",
             "gridcolor": "white",
             "linecolor": "white",
             "minorgridcolor": "white",
             "startlinecolor": "#2a3f5f"
            },
            "type": "carpet"
           }
          ],
          "choropleth": [
           {
            "colorbar": {
             "outlinewidth": 0,
             "ticks": ""
            },
            "type": "choropleth"
           }
          ],
          "contour": [
           {
            "colorbar": {
             "outlinewidth": 0,
             "ticks": ""
            },
            "colorscale": [
             [
              0,
              "#0d0887"
             ],
             [
              0.1111111111111111,
              "#46039f"
             ],
             [
              0.2222222222222222,
              "#7201a8"
             ],
             [
              0.3333333333333333,
              "#9c179e"
             ],
             [
              0.4444444444444444,
              "#bd3786"
             ],
             [
              0.5555555555555556,
              "#d8576b"
             ],
             [
              0.6666666666666666,
              "#ed7953"
             ],
             [
              0.7777777777777778,
              "#fb9f3a"
             ],
             [
              0.8888888888888888,
              "#fdca26"
             ],
             [
              1,
              "#f0f921"
             ]
            ],
            "type": "contour"
           }
          ],
          "contourcarpet": [
           {
            "colorbar": {
             "outlinewidth": 0,
             "ticks": ""
            },
            "type": "contourcarpet"
           }
          ],
          "heatmap": [
           {
            "colorbar": {
             "outlinewidth": 0,
             "ticks": ""
            },
            "colorscale": [
             [
              0,
              "#0d0887"
             ],
             [
              0.1111111111111111,
              "#46039f"
             ],
             [
              0.2222222222222222,
              "#7201a8"
             ],
             [
              0.3333333333333333,
              "#9c179e"
             ],
             [
              0.4444444444444444,
              "#bd3786"
             ],
             [
              0.5555555555555556,
              "#d8576b"
             ],
             [
              0.6666666666666666,
              "#ed7953"
             ],
             [
              0.7777777777777778,
              "#fb9f3a"
             ],
             [
              0.8888888888888888,
              "#fdca26"
             ],
             [
              1,
              "#f0f921"
             ]
            ],
            "type": "heatmap"
           }
          ],
          "heatmapgl": [
           {
            "colorbar": {
             "outlinewidth": 0,
             "ticks": ""
            },
            "colorscale": [
             [
              0,
              "#0d0887"
             ],
             [
              0.1111111111111111,
              "#46039f"
             ],
             [
              0.2222222222222222,
              "#7201a8"
             ],
             [
              0.3333333333333333,
              "#9c179e"
             ],
             [
              0.4444444444444444,
              "#bd3786"
             ],
             [
              0.5555555555555556,
              "#d8576b"
             ],
             [
              0.6666666666666666,
              "#ed7953"
             ],
             [
              0.7777777777777778,
              "#fb9f3a"
             ],
             [
              0.8888888888888888,
              "#fdca26"
             ],
             [
              1,
              "#f0f921"
             ]
            ],
            "type": "heatmapgl"
           }
          ],
          "histogram": [
           {
            "marker": {
             "pattern": {
              "fillmode": "overlay",
              "size": 10,
              "solidity": 0.2
             }
            },
            "type": "histogram"
           }
          ],
          "histogram2d": [
           {
            "colorbar": {
             "outlinewidth": 0,
             "ticks": ""
            },
            "colorscale": [
             [
              0,
              "#0d0887"
             ],
             [
              0.1111111111111111,
              "#46039f"
             ],
             [
              0.2222222222222222,
              "#7201a8"
             ],
             [
              0.3333333333333333,
              "#9c179e"
             ],
             [
              0.4444444444444444,
              "#bd3786"
             ],
             [
              0.5555555555555556,
              "#d8576b"
             ],
             [
              0.6666666666666666,
              "#ed7953"
             ],
             [
              0.7777777777777778,
              "#fb9f3a"
             ],
             [
              0.8888888888888888,
              "#fdca26"
             ],
             [
              1,
              "#f0f921"
             ]
            ],
            "type": "histogram2d"
           }
          ],
          "histogram2dcontour": [
           {
            "colorbar": {
             "outlinewidth": 0,
             "ticks": ""
            },
            "colorscale": [
             [
              0,
              "#0d0887"
             ],
             [
              0.1111111111111111,
              "#46039f"
             ],
             [
              0.2222222222222222,
              "#7201a8"
             ],
             [
              0.3333333333333333,
              "#9c179e"
             ],
             [
              0.4444444444444444,
              "#bd3786"
             ],
             [
              0.5555555555555556,
              "#d8576b"
             ],
             [
              0.6666666666666666,
              "#ed7953"
             ],
             [
              0.7777777777777778,
              "#fb9f3a"
             ],
             [
              0.8888888888888888,
              "#fdca26"
             ],
             [
              1,
              "#f0f921"
             ]
            ],
            "type": "histogram2dcontour"
           }
          ],
          "mesh3d": [
           {
            "colorbar": {
             "outlinewidth": 0,
             "ticks": ""
            },
            "type": "mesh3d"
           }
          ],
          "parcoords": [
           {
            "line": {
             "colorbar": {
              "outlinewidth": 0,
              "ticks": ""
             }
            },
            "type": "parcoords"
           }
          ],
          "pie": [
           {
            "automargin": true,
            "type": "pie"
           }
          ],
          "scatter": [
           {
            "fillpattern": {
             "fillmode": "overlay",
             "size": 10,
             "solidity": 0.2
            },
            "type": "scatter"
           }
          ],
          "scatter3d": [
           {
            "line": {
             "colorbar": {
              "outlinewidth": 0,
              "ticks": ""
             }
            },
            "marker": {
             "colorbar": {
              "outlinewidth": 0,
              "ticks": ""
             }
            },
            "type": "scatter3d"
           }
          ],
          "scattercarpet": [
           {
            "marker": {
             "colorbar": {
              "outlinewidth": 0,
              "ticks": ""
             }
            },
            "type": "scattercarpet"
           }
          ],
          "scattergeo": [
           {
            "marker": {
             "colorbar": {
              "outlinewidth": 0,
              "ticks": ""
             }
            },
            "type": "scattergeo"
           }
          ],
          "scattergl": [
           {
            "marker": {
             "colorbar": {
              "outlinewidth": 0,
              "ticks": ""
             }
            },
            "type": "scattergl"
           }
          ],
          "scattermapbox": [
           {
            "marker": {
             "colorbar": {
              "outlinewidth": 0,
              "ticks": ""
             }
            },
            "type": "scattermapbox"
           }
          ],
          "scatterpolar": [
           {
            "marker": {
             "colorbar": {
              "outlinewidth": 0,
              "ticks": ""
             }
            },
            "type": "scatterpolar"
           }
          ],
          "scatterpolargl": [
           {
            "marker": {
             "colorbar": {
              "outlinewidth": 0,
              "ticks": ""
             }
            },
            "type": "scatterpolargl"
           }
          ],
          "scatterternary": [
           {
            "marker": {
             "colorbar": {
              "outlinewidth": 0,
              "ticks": ""
             }
            },
            "type": "scatterternary"
           }
          ],
          "surface": [
           {
            "colorbar": {
             "outlinewidth": 0,
             "ticks": ""
            },
            "colorscale": [
             [
              0,
              "#0d0887"
             ],
             [
              0.1111111111111111,
              "#46039f"
             ],
             [
              0.2222222222222222,
              "#7201a8"
             ],
             [
              0.3333333333333333,
              "#9c179e"
             ],
             [
              0.4444444444444444,
              "#bd3786"
             ],
             [
              0.5555555555555556,
              "#d8576b"
             ],
             [
              0.6666666666666666,
              "#ed7953"
             ],
             [
              0.7777777777777778,
              "#fb9f3a"
             ],
             [
              0.8888888888888888,
              "#fdca26"
             ],
             [
              1,
              "#f0f921"
             ]
            ],
            "type": "surface"
           }
          ],
          "table": [
           {
            "cells": {
             "fill": {
              "color": "#EBF0F8"
             },
             "line": {
              "color": "white"
             }
            },
            "header": {
             "fill": {
              "color": "#C8D4E3"
             },
             "line": {
              "color": "white"
             }
            },
            "type": "table"
           }
          ]
         },
         "layout": {
          "annotationdefaults": {
           "arrowcolor": "#2a3f5f",
           "arrowhead": 0,
           "arrowwidth": 1
          },
          "autotypenumbers": "strict",
          "coloraxis": {
           "colorbar": {
            "outlinewidth": 0,
            "ticks": ""
           }
          },
          "colorscale": {
           "diverging": [
            [
             0,
             "#8e0152"
            ],
            [
             0.1,
             "#c51b7d"
            ],
            [
             0.2,
             "#de77ae"
            ],
            [
             0.3,
             "#f1b6da"
            ],
            [
             0.4,
             "#fde0ef"
            ],
            [
             0.5,
             "#f7f7f7"
            ],
            [
             0.6,
             "#e6f5d0"
            ],
            [
             0.7,
             "#b8e186"
            ],
            [
             0.8,
             "#7fbc41"
            ],
            [
             0.9,
             "#4d9221"
            ],
            [
             1,
             "#276419"
            ]
           ],
           "sequential": [
            [
             0,
             "#0d0887"
            ],
            [
             0.1111111111111111,
             "#46039f"
            ],
            [
             0.2222222222222222,
             "#7201a8"
            ],
            [
             0.3333333333333333,
             "#9c179e"
            ],
            [
             0.4444444444444444,
             "#bd3786"
            ],
            [
             0.5555555555555556,
             "#d8576b"
            ],
            [
             0.6666666666666666,
             "#ed7953"
            ],
            [
             0.7777777777777778,
             "#fb9f3a"
            ],
            [
             0.8888888888888888,
             "#fdca26"
            ],
            [
             1,
             "#f0f921"
            ]
           ],
           "sequentialminus": [
            [
             0,
             "#0d0887"
            ],
            [
             0.1111111111111111,
             "#46039f"
            ],
            [
             0.2222222222222222,
             "#7201a8"
            ],
            [
             0.3333333333333333,
             "#9c179e"
            ],
            [
             0.4444444444444444,
             "#bd3786"
            ],
            [
             0.5555555555555556,
             "#d8576b"
            ],
            [
             0.6666666666666666,
             "#ed7953"
            ],
            [
             0.7777777777777778,
             "#fb9f3a"
            ],
            [
             0.8888888888888888,
             "#fdca26"
            ],
            [
             1,
             "#f0f921"
            ]
           ]
          },
          "colorway": [
           "#636efa",
           "#EF553B",
           "#00cc96",
           "#ab63fa",
           "#FFA15A",
           "#19d3f3",
           "#FF6692",
           "#B6E880",
           "#FF97FF",
           "#FECB52"
          ],
          "font": {
           "color": "#2a3f5f"
          },
          "geo": {
           "bgcolor": "white",
           "lakecolor": "white",
           "landcolor": "#E5ECF6",
           "showlakes": true,
           "showland": true,
           "subunitcolor": "white"
          },
          "hoverlabel": {
           "align": "left"
          },
          "hovermode": "closest",
          "mapbox": {
           "style": "light"
          },
          "paper_bgcolor": "white",
          "plot_bgcolor": "#E5ECF6",
          "polar": {
           "angularaxis": {
            "gridcolor": "white",
            "linecolor": "white",
            "ticks": ""
           },
           "bgcolor": "#E5ECF6",
           "radialaxis": {
            "gridcolor": "white",
            "linecolor": "white",
            "ticks": ""
           }
          },
          "scene": {
           "xaxis": {
            "backgroundcolor": "#E5ECF6",
            "gridcolor": "white",
            "gridwidth": 2,
            "linecolor": "white",
            "showbackground": true,
            "ticks": "",
            "zerolinecolor": "white"
           },
           "yaxis": {
            "backgroundcolor": "#E5ECF6",
            "gridcolor": "white",
            "gridwidth": 2,
            "linecolor": "white",
            "showbackground": true,
            "ticks": "",
            "zerolinecolor": "white"
           },
           "zaxis": {
            "backgroundcolor": "#E5ECF6",
            "gridcolor": "white",
            "gridwidth": 2,
            "linecolor": "white",
            "showbackground": true,
            "ticks": "",
            "zerolinecolor": "white"
           }
          },
          "shapedefaults": {
           "line": {
            "color": "#2a3f5f"
           }
          },
          "ternary": {
           "aaxis": {
            "gridcolor": "white",
            "linecolor": "white",
            "ticks": ""
           },
           "baxis": {
            "gridcolor": "white",
            "linecolor": "white",
            "ticks": ""
           },
           "bgcolor": "#E5ECF6",
           "caxis": {
            "gridcolor": "white",
            "linecolor": "white",
            "ticks": ""
           }
          },
          "title": {
           "x": 0.05
          },
          "xaxis": {
           "automargin": true,
           "gridcolor": "white",
           "linecolor": "white",
           "ticks": "",
           "title": {
            "standoff": 15
           },
           "zerolinecolor": "white",
           "zerolinewidth": 2
          },
          "yaxis": {
           "automargin": true,
           "gridcolor": "white",
           "linecolor": "white",
           "ticks": "",
           "title": {
            "standoff": 15
           },
           "zerolinecolor": "white",
           "zerolinewidth": 2
          }
         }
        },
        "xaxis": {
         "anchor": "y",
         "domain": [
          0,
          0.2888888888888889
         ],
         "title": {
          "text": "Time"
         }
        },
        "xaxis2": {
         "anchor": "y2",
         "domain": [
          0.35555555555555557,
          0.6444444444444445
         ],
         "title": {
          "text": "Wall Nodes Distance"
         }
        },
        "xaxis3": {
         "anchor": "y3",
         "domain": [
          0.7111111111111111,
          1
         ],
         "title": {
          "text": "Time"
         }
        },
        "yaxis": {
         "anchor": "x",
         "domain": [
          0,
          1
         ],
         "title": {
          "text": "Temperature (K )"
         }
        },
        "yaxis2": {
         "anchor": "x2",
         "domain": [
          0,
          1
         ]
        },
        "yaxis3": {
         "anchor": "x3",
         "domain": [
          0,
          1
         ]
        }
       }
      }
     },
     "metadata": {},
     "output_type": "display_data"
    }
   ],
   "source": [
    "# whether or not can turn time series off and on \n",
    "lg = False \n",
    "fig = make_subplots(rows=1, cols=3, shared_yaxes=False, subplot_titles=(\"Amb Temp\", \"Wall Temps\", \"Room Temp\"))\n",
    "\n",
    "#TODO relate \"4\" to number of time steps argument in VAvgIndoorAir function \n",
    "\n",
    "min_interv = 2*60 # interval to plot at in minutes \n",
    "colors = make_colors(min_interv=min_interv)\n",
    "\n",
    "cix=0\n",
    "for ix_time, x_at_time in enumerate(v1.all_wall_temps): # NEED way to abstract this \n",
    "    if ix_time%(min_interv*4)== 0:\n",
    "        timestamp = [(pd.Timedelta(times[ix_time], \"m\") + v1.twall.ext_temps.index[0]).strftime('%I %p') ]\n",
    "\n",
    "        legendgroup = \"Same\" if lg == False else timestamp[0]\n",
    "\n",
    "        # Outdoor Air \n",
    "        fig.add_trace(go.Scatter(x=timestamp, y=[v1.twall.ext_temps[ix_time]], mode='lines+markers', line=dict(color=colors[cix]),\n",
    "        showlegend=False, name=timestamp[0], legendgroup=legendgroup\n",
    "        ), row = 1, col = 1)\n",
    "\n",
    "        # Wall Temperature \n",
    "        fig.add_trace(go.Scatter(x=v1.twall.x_vals, y=x_at_time, mode='lines+markers', line=dict(color=colors[cix]),\n",
    "        showlegend=True, name=timestamp[0], legendgroup=legendgroup\n",
    "        ), row = 1, col = 2)\n",
    "\n",
    "        # Indoor Air \n",
    "        fig.add_trace(go.Scatter(x=timestamp, y=[temps[ix_time]], mode='lines+markers', line=dict(color=colors[cix]),\n",
    "        showlegend=False, name=timestamp[0], legendgroup=legendgroup\n",
    "        ), row = 1, col = 3)\n",
    "        cix+=1\n",
    "\n",
    "fig['layout']['yaxis']['title']='Temperature (K )'\n",
    "fig['layout']['xaxis1']['title']='Time'\n",
    "fig['layout']['xaxis2']['title']='Wall Nodes Distance'\n",
    "fig['layout']['xaxis3']['title']='Time'\n",
    "fig.show()"
   ]
  }
 ],
 "metadata": {
  "kernelspec": {
   "display_name": "localwindowsenv",
   "language": "python",
   "name": "python3"
  },
  "language_info": {
   "codemirror_mode": {
    "name": "ipython",
    "version": 3
   },
   "file_extension": ".py",
   "mimetype": "text/x-python",
   "name": "python",
   "nbconvert_exporter": "python",
   "pygments_lexer": "ipython3",
   "version": "3.9.15"
  },
  "orig_nbformat": 4
 },
 "nbformat": 4,
 "nbformat_minor": 2
}
