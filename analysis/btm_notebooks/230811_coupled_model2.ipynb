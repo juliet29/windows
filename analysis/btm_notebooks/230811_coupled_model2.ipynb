{
 "cells": [
  {
   "cell_type": "code",
   "execution_count": 15,
   "metadata": {},
   "outputs": [],
   "source": [
    "import sys\n",
    "sys.path.insert(0, \"../scripts\")\n",
    "import vavg_indoor_air as v\n",
    "import wall_cond as w\n",
    "\n",
    "from sympy import * \n",
    "from spb import *\n",
    "\n",
    "import numpy as np\n",
    "import pandas as pd\n",
    "\n",
    "import plotly.express as px\n",
    "import plotly.graph_objects as go\n",
    "from plotly.subplots import make_subplots\n",
    "import plotly as plotly"
   ]
  },
  {
   "cell_type": "code",
   "execution_count": 2,
   "metadata": {},
   "outputs": [],
   "source": [
    "v1 = v.VavgIndoorAir(v.PhysicalConstants(), n_mins=60*24) #extend to 1 day "
   ]
  },
  {
   "cell_type": "code",
   "execution_count": 3,
   "metadata": {},
   "outputs": [],
   "source": [
    "times, temps = v1.calc_transient_indoor_air()"
   ]
  },
  {
   "cell_type": "code",
   "execution_count": 4,
   "metadata": {},
   "outputs": [],
   "source": [
    "def make_colors(min_interv):\n",
    "    n_colors = len([ix_time for ix_time,_ in enumerate(v1.all_wall_temps) if ix_time%(min_interv*4)==0]) + 1\n",
    "\n",
    "    colors = px.colors.sample_colorscale(\"aggrnyl\", [n/(n_colors -1) for n in range(n_colors)])\n",
    "\n",
    "    print(len(colors))\n",
    "\n",
    "    return colors\n"
   ]
  },
  {
   "cell_type": "code",
   "execution_count": 13,
   "metadata": {},
   "outputs": [
    {
     "data": {
      "text/plain": [
       "[0.0,\n",
       " 120.0,\n",
       " 240.0,\n",
       " 360.0,\n",
       " 480.0,\n",
       " 600.0,\n",
       " 720.0,\n",
       " 840.0,\n",
       " 960.0,\n",
       " 1080.0,\n",
       " 1200.0,\n",
       " 1320.0]"
      ]
     },
     "execution_count": 13,
     "metadata": {},
     "output_type": "execute_result"
    }
   ],
   "source": [
    "t_plots = [times[ix_time] for ix_time,_ in enumerate(v1.all_wall_temps) if ix_time%(min_interv*4)==0]\n",
    "t_plots"
   ]
  },
  {
   "cell_type": "code",
   "execution_count": 17,
   "metadata": {},
   "outputs": [
    {
     "data": {
      "text/plain": [
       "[Timedelta('0 days 00:00:00'),\n",
       " Timedelta('0 days 00:02:00'),\n",
       " Timedelta('0 days 00:04:00'),\n",
       " Timedelta('0 days 00:06:00'),\n",
       " Timedelta('0 days 00:08:00'),\n",
       " Timedelta('0 days 00:10:00'),\n",
       " Timedelta('0 days 00:12:00'),\n",
       " Timedelta('0 days 00:14:00'),\n",
       " Timedelta('0 days 00:16:00'),\n",
       " Timedelta('0 days 00:18:00'),\n",
       " Timedelta('0 days 00:20:00'),\n",
       " Timedelta('0 days 00:22:00')]"
      ]
     },
     "execution_count": 17,
     "metadata": {},
     "output_type": "execute_result"
    }
   ],
   "source": [
    "[pd.Timedelta(t, \"s\") for t in t_plots]"
   ]
  },
  {
   "cell_type": "code",
   "execution_count": null,
   "metadata": {},
   "outputs": [],
   "source": [
    "fig = make_subplots(rows=1, cols=3, shared_yaxes=False, subplot_titles=(\"Amb Temp\", \"Wall Temps\", \"Room Temp\"))\n",
    "\n",
    "#TODO relate \"4\" to number of time steps argument in VAvgIndoorAir function \n",
    "\n",
    "min_interv = 2*60 # interval to plot at in minutes \n",
    "colors = make_colors(min_interv=min_interv)\n",
    "\n",
    "cix=0\n",
    "for ix_time, x_at_time in enumerate(v1.all_wall_temps): # NEED way to abstract this \n",
    "    if ix_time%(min_interv*4)== 0:\n",
    "        # Outdoor Air \n",
    "        fig.add_trace(go.Scatter(x=[times[ix_time]], y=[v1.twall.ext_temps[ix_time]], mode='lines+markers', name=f\"t={times[ix_time]}\", showlegend=False, line=dict(color=colors[cix])), row = 1, col = 1)\n",
    "\n",
    "        # Wall Temperature \n",
    "        fig.add_trace(go.Scatter(x=v1.twall.x_vals, y=x_at_time, mode='lines+markers', name=f\"t={times[ix_time]}\", line=dict(color=colors[cix])), row = 1, col = 2)\n",
    "\n",
    "        # Indoor Air \n",
    "        fig.add_trace(go.Scatter(x=[times[ix_time]], y=[temps[ix_time]], mode='lines+markers', name=f\"t={times[ix_time]}\", showlegend=False, line=dict(color=colors[cix])), row = 1, col = 3)\n",
    "        cix+=1\n",
    "\n",
    "fig['layout']['yaxis']['title']='Temperature (K )'\n",
    "fig['layout']['xaxis1']['title']='Time (s)'\n",
    "fig['layout']['xaxis2']['title']='Wall Nodes Distance'\n",
    "fig['layout']['xaxis3']['title']='Time (s)'\n",
    "fig.show("
   ]
  },
  {
   "cell_type": "code",
   "execution_count": 9,
   "metadata": {},
   "outputs": [
    {
     "name": "stdout",
     "output_type": "stream",
     "text": [
      "13\n"
     ]
    },
    {
     "data": {
      "application/vnd.plotly.v1+json": {
       "config": {
        "plotlyServerURL": "https://plotly.com"
       },
       "data": [
        {
         "line": {
          "color": "rgb(36, 86, 104)"
         },
         "mode": "lines+markers",
         "name": "t=0.0",
         "showlegend": false,
         "type": "scatter",
         "x": [
          0
         ],
         "xaxis": "x",
         "y": [
          290.26111111111106
         ],
         "yaxis": "y"
        },
        {
         "line": {
          "color": "rgb(36, 86, 104)"
         },
         "mode": "lines+markers",
         "name": "t=0.0",
         "type": "scatter",
         "x": [
          0,
          0.01,
          0.02,
          0.03,
          0.04,
          0.05,
          0.06,
          0.07,
          0.08,
          0.09
         ],
         "xaxis": "x2",
         "y": [
          290.2618554303095,
          290.5820987654321,
          290.90308641975304,
          291.2240740740741,
          291.54506172839507,
          291.866049382716,
          292.187037037037,
          292.508024691358,
          292.82901234567896,
          293.14925568080156
         ],
         "yaxis": "y2"
        },
        {
         "line": {
          "color": "rgb(36, 86, 104)"
         },
         "mode": "lines+markers",
         "name": "t=0.0",
         "showlegend": false,
         "type": "scatter",
         "x": [
          0
         ],
         "xaxis": "x3",
         "y": [
          293.15
         ],
         "yaxis": "y3"
        },
        {
         "line": {
          "color": "rgb(26, 100, 112)"
         },
         "mode": "lines+markers",
         "name": "t=120.0",
         "showlegend": false,
         "type": "scatter",
         "x": [
          120
         ],
         "xaxis": "x",
         "y": [
          292.81666666666666
         ],
         "yaxis": "y"
        },
        {
         "line": {
          "color": "rgb(26, 100, 112)"
         },
         "mode": "lines+markers",
         "name": "t=120.0",
         "type": "scatter",
         "x": [
          0,
          0.01,
          0.02,
          0.03,
          0.04,
          0.05,
          0.06,
          0.07,
          0.08,
          0.09
         ],
         "xaxis": "x2",
         "y": [
          290.5202619869831,
          290.6377124966553,
          290.91201383425334,
          291.2252091771485,
          291.5451702524369,
          291.8659421723266,
          292.1859252326348,
          292.49944475110084,
          292.7773474507809,
          292.9222252752574
         ],
         "yaxis": "y2"
        },
        {
         "line": {
          "color": "rgb(26, 100, 112)"
         },
         "mode": "lines+markers",
         "name": "t=120.0",
         "showlegend": false,
         "type": "scatter",
         "x": [
          120
         ],
         "xaxis": "x3",
         "y": [
          293.1500181888229
         ],
         "yaxis": "y3"
        },
        {
         "line": {
          "color": "rgb(15, 114, 121)"
         },
         "mode": "lines+markers",
         "name": "t=240.0",
         "showlegend": false,
         "type": "scatter",
         "x": [
          240
         ],
         "xaxis": "x",
         "y": [
          293.81666666666666
         ],
         "yaxis": "y"
        },
        {
         "line": {
          "color": "rgb(15, 114, 121)"
         },
         "mode": "lines+markers",
         "name": "t=240.0",
         "type": "scatter",
         "x": [
          0,
          0.01,
          0.02,
          0.03,
          0.04,
          0.05,
          0.06,
          0.07,
          0.08,
          0.09
         ],
         "xaxis": "x2",
         "y": [
          290.7183756982586,
          290.73815081177,
          290.9460033101174,
          291.2338178003739,
          291.5466581782406,
          291.8646282658788,
          292.1783682580026,
          292.471361481969,
          292.70289996486116,
          292.8053136034851
         ],
         "yaxis": "y2"
        },
        {
         "line": {
          "color": "rgb(15, 114, 121)"
         },
         "mode": "lines+markers",
         "name": "t=240.0",
         "showlegend": false,
         "type": "scatter",
         "x": [
          240
         ],
         "xaxis": "x3",
         "y": [
          293.1500586413605
         ],
         "yaxis": "y3"
        },
        {
         "line": {
          "color": "rgb(14, 128, 125)"
         },
         "mode": "lines+markers",
         "name": "t=360.0",
         "showlegend": false,
         "type": "scatter",
         "x": [
          360
         ],
         "xaxis": "x",
         "y": [
          294.5388888888889
         ],
         "yaxis": "y"
        },
        {
         "line": {
          "color": "rgb(14, 128, 125)"
         },
         "mode": "lines+markers",
         "name": "t=360.0",
         "type": "scatter",
         "x": [
          0,
          0.01,
          0.02,
          0.03,
          0.04,
          0.05,
          0.06,
          0.07,
          0.08,
          0.09
         ],
         "xaxis": "x2",
         "y": [
          290.89257906171815,
          290.8461223066585,
          290.99761670419497,
          291.2529101214525,
          291.5512734083591,
          291.8612515492891,
          292.1635616018805,
          292.4343164956,
          292.6353184733724,
          292.7225262402606
         ],
         "yaxis": "y2"
        },
        {
         "line": {
          "color": "rgb(14, 128, 125)"
         },
         "mode": "lines+markers",
         "name": "t=360.0",
         "showlegend": false,
         "type": "scatter",
         "x": [
          360
         ],
         "xaxis": "x3",
         "y": [
          293.15011264776695
         ],
         "yaxis": "y3"
        },
        {
         "line": {
          "color": "rgb(13, 143, 129)"
         },
         "mode": "lines+markers",
         "name": "t=480.0",
         "showlegend": false,
         "type": "scatter",
         "x": [
          480
         ],
         "xaxis": "x",
         "y": [
          295.92777777777775
         ],
         "yaxis": "y"
        },
        {
         "line": {
          "color": "rgb(13, 143, 129)"
         },
         "mode": "lines+markers",
         "name": "t=480.0",
         "type": "scatter",
         "x": [
          0,
          0.01,
          0.02,
          0.03,
          0.04,
          0.05,
          0.06,
          0.07,
          0.08,
          0.09
         ],
         "xaxis": "x2",
         "y": [
          291.0523837888239,
          290.95518062993517,
          291.0593371891321,
          291.28096083568227,
          291.5595995249659,
          291.856483104881,
          292.1442782190715,
          292.3951400145768,
          292.5757575212331,
          292.6556510868882
         ],
         "yaxis": "y2"
        },
        {
         "line": {
          "color": "rgb(13, 143, 129)"
         },
         "mode": "lines+markers",
         "name": "t=480.0",
         "showlegend": false,
         "type": "scatter",
         "x": [
          480
         ],
         "xaxis": "x3",
         "y": [
          293.1501769747711
         ],
         "yaxis": "y3"
        },
        {
         "line": {
          "color": "rgb(35, 157, 128)"
         },
         "mode": "lines+markers",
         "name": "t=600.0",
         "showlegend": false,
         "type": "scatter",
         "x": [
          600
         ],
         "xaxis": "x",
         "y": [
          295.2055555555555
         ],
         "yaxis": "y"
        },
        {
         "line": {
          "color": "rgb(35, 157, 128)"
         },
         "mode": "lines+markers",
         "name": "t=600.0",
         "type": "scatter",
         "x": [
          0,
          0.01,
          0.02,
          0.03,
          0.04,
          0.05,
          0.06,
          0.07,
          0.08,
          0.09
         ],
         "xaxis": "x2",
         "y": [
          291.1929992218867,
          291.0650846533709,
          291.12750028105836,
          291.3157576689172,
          291.5714733948897,
          291.85153470093655,
          292.12322053379467,
          292.35671384893544,
          292.52270185464164,
          292.5983966692677
         ],
         "yaxis": "y2"
        },
        {
         "line": {
          "color": "rgb(35, 157, 128)"
         },
         "mode": "lines+markers",
         "name": "t=600.0",
         "showlegend": false,
         "type": "scatter",
         "x": [
          600
         ],
         "xaxis": "x3",
         "y": [
          293.15024990907517
         ],
         "yaxis": "y3"
        },
        {
         "line": {
          "color": "rgb(57, 171, 126)"
         },
         "mode": "lines+markers",
         "name": "t=720.0",
         "showlegend": false,
         "type": "scatter",
         "x": [
          720
         ],
         "xaxis": "x",
         "y": [
          290.81666666666666
         ],
         "yaxis": "y"
        },
        {
         "line": {
          "color": "rgb(57, 171, 126)"
         },
         "mode": "lines+markers",
         "name": "t=720.0",
         "type": "scatter",
         "x": [
          0,
          0.01,
          0.02,
          0.03,
          0.04,
          0.05,
          0.06,
          0.07,
          0.08,
          0.09
         ],
         "xaxis": "x2",
         "y": [
          291.2398979032715,
          291.1548328338672,
          291.1963120498353,
          291.3550951860897,
          291.5865240631278,
          291.8474483535545,
          292.1022563401381,
          292.320257320237,
          292.47491174664225,
          292.54789193360494
         ],
         "yaxis": "y2"
        },
        {
         "line": {
          "color": "rgb(57, 171, 126)"
         },
         "mode": "lines+markers",
         "name": "t=720.0",
         "showlegend": false,
         "type": "scatter",
         "x": [
          720
         ],
         "xaxis": "x3",
         "y": [
          293.1503303341782
         ],
         "yaxis": "y3"
        },
        {
         "line": {
          "color": "rgb(84, 184, 121)"
         },
         "mode": "lines+markers",
         "name": "t=840.0",
         "showlegend": false,
         "type": "scatter",
         "x": [
          840
         ],
         "xaxis": "x",
         "y": [
          288.5388888888889
         ],
         "yaxis": "y"
        },
        {
         "line": {
          "color": "rgb(84, 184, 121)"
         },
         "mode": "lines+markers",
         "name": "t=840.0",
         "type": "scatter",
         "x": [
          0,
          0.01,
          0.02,
          0.03,
          0.04,
          0.05,
          0.06,
          0.07,
          0.08,
          0.09
         ],
         "xaxis": "x2",
         "y": [
          291.1617474602808,
          291.19279260229587,
          291.2525849813928,
          291.3945923505334,
          291.603785193668,
          291.8448247651365,
          292.0825292087166,
          292.2863196995567,
          292.43157112908796,
          292.5026029011349
         ],
         "yaxis": "y2"
        },
        {
         "line": {
          "color": "rgb(84, 184, 121)"
         },
         "mode": "lines+markers",
         "name": "t=840.0",
         "showlegend": false,
         "type": "scatter",
         "x": [
          840
         ],
         "xaxis": "x3",
         "y": [
          293.15041742794045
         ],
         "yaxis": "y3"
        },
        {
         "line": {
          "color": "rgb(110, 197, 116)"
         },
         "mode": "lines+markers",
         "name": "t=960.0",
         "showlegend": false,
         "type": "scatter",
         "x": [
          960
         ],
         "xaxis": "x",
         "y": [
          287.59444444444443
         ],
         "yaxis": "y"
        },
        {
         "line": {
          "color": "rgb(110, 197, 116)"
         },
         "mode": "lines+markers",
         "name": "t=960.0",
         "type": "scatter",
         "x": [
          0,
          0.01,
          0.02,
          0.03,
          0.04,
          0.05,
          0.06,
          0.07,
          0.08,
          0.09
         ],
         "xaxis": "x2",
         "y": [
          291.0857938482862,
          291.1938290340918,
          291.28790073387694,
          291.4281785342908,
          291.62108724268177,
          291.8435642151968,
          292.0646005430709,
          292.2551347776789,
          292.3921526640222,
          292.46163768429835
         ],
         "yaxis": "y2"
        },
        {
         "line": {
          "color": "rgb(110, 197, 116)"
         },
         "mode": "lines+markers",
         "name": "t=960.0",
         "showlegend": false,
         "type": "scatter",
         "x": [
          960
         ],
         "xaxis": "x3",
         "y": [
          293.1505105321979
         ],
         "yaxis": "y3"
        },
        {
         "line": {
          "color": "rgb(140, 209, 110)"
         },
         "mode": "lines+markers",
         "name": "t=1080.0",
         "showlegend": false,
         "type": "scatter",
         "x": [
          1080
         ],
         "xaxis": "x",
         "y": [
          286.65
         ],
         "yaxis": "y"
        },
        {
         "line": {
          "color": "rgb(140, 209, 110)"
         },
         "mode": "lines+markers",
         "name": "t=1080.0",
         "type": "scatter",
         "x": [
          0,
          0.01,
          0.02,
          0.03,
          0.04,
          0.05,
          0.06,
          0.07,
          0.08,
          0.09
         ],
         "xaxis": "x2",
         "y": [
          291.01978649138306,
          291.1802469654114,
          291.3062104655515,
          291.45292448438175,
          291.636038204322,
          291.84289807381555,
          292.04851362496873,
          292.22672095946825,
          292.35629128286814,
          292.4244424528268
         ],
         "yaxis": "y2"
        },
        {
         "line": {
          "color": "rgb(140, 209, 110)"
         },
         "mode": "lines+markers",
         "name": "t=1080.0",
         "showlegend": false,
         "type": "scatter",
         "x": [
          1080
         ],
         "xaxis": "x3",
         "y": [
          293.1506090869367
         ],
         "yaxis": "y3"
        },
        {
         "line": {
          "color": "rgb(169, 220, 103)"
         },
         "mode": "lines+markers",
         "name": "t=1200.0",
         "showlegend": false,
         "type": "scatter",
         "x": [
          1200
         ],
         "xaxis": "x",
         "y": [
          287.81666666666666
         ],
         "yaxis": "y"
        },
        {
         "line": {
          "color": "rgb(169, 220, 103)"
         },
         "mode": "lines+markers",
         "name": "t=1200.0",
         "type": "scatter",
         "x": [
          0,
          0.01,
          0.02,
          0.03,
          0.04,
          0.05,
          0.06,
          0.07,
          0.08,
          0.09
         ],
         "xaxis": "x2",
         "y": [
          290.98948982005174,
          291.1622167967907,
          291.3127757147931,
          291.46901708226244,
          291.6472470849015,
          291.84189171404563,
          292.03394530101434,
          292.20091273098365,
          292.3236874058075,
          292.3906353318606
         ],
         "yaxis": "y2"
        },
        {
         "line": {
          "color": "rgb(169, 220, 103)"
         },
         "mode": "lines+markers",
         "name": "t=1200.0",
         "showlegend": false,
         "type": "scatter",
         "x": [
          1200
         ],
         "xaxis": "x3",
         "y": [
          293.1507125957607
         ],
         "yaxis": "y3"
        },
        {
         "line": {
          "color": "rgb(203, 230, 98)"
         },
         "mode": "lines+markers",
         "name": "t=1320.0",
         "showlegend": false,
         "type": "scatter",
         "x": [
          1320
         ],
         "xaxis": "x",
         "y": [
          288.3722222222222
         ],
         "yaxis": "y"
        },
        {
         "line": {
          "color": "rgb(203, 230, 98)"
         },
         "mode": "lines+markers",
         "name": "t=1320.0",
         "type": "scatter",
         "x": [
          0,
          0.01,
          0.02,
          0.03,
          0.04,
          0.05,
          0.06,
          0.07,
          0.08,
          0.09
         ],
         "xaxis": "x2",
         "y": [
          291.0021881117362,
          291.15771070005076,
          291.3154375097434,
          291.4784539223643,
          291.6543971175041,
          291.83984339729477,
          292.02043165426693,
          292.17741504820316,
          292.2940473811116,
          292.35990539493775
         ],
         "yaxis": "y2"
        },
        {
         "line": {
          "color": "rgb(203, 230, 98)"
         },
         "mode": "lines+markers",
         "name": "t=1320.0",
         "showlegend": false,
         "type": "scatter",
         "x": [
          1320
         ],
         "xaxis": "x3",
         "y": [
          293.1508206095657
         ],
         "yaxis": "y3"
        }
       ],
       "layout": {
        "annotations": [
         {
          "font": {
           "size": 16
          },
          "showarrow": false,
          "text": "Amb Temp",
          "x": 0.14444444444444446,
          "xanchor": "center",
          "xref": "paper",
          "y": 1,
          "yanchor": "bottom",
          "yref": "paper"
         },
         {
          "font": {
           "size": 16
          },
          "showarrow": false,
          "text": "Wall Temps",
          "x": 0.5,
          "xanchor": "center",
          "xref": "paper",
          "y": 1,
          "yanchor": "bottom",
          "yref": "paper"
         },
         {
          "font": {
           "size": 16
          },
          "showarrow": false,
          "text": "Room Temp",
          "x": 0.8555555555555556,
          "xanchor": "center",
          "xref": "paper",
          "y": 1,
          "yanchor": "bottom",
          "yref": "paper"
         }
        ],
        "template": {
         "data": {
          "bar": [
           {
            "error_x": {
             "color": "#2a3f5f"
            },
            "error_y": {
             "color": "#2a3f5f"
            },
            "marker": {
             "line": {
              "color": "#E5ECF6",
              "width": 0.5
             },
             "pattern": {
              "fillmode": "overlay",
              "size": 10,
              "solidity": 0.2
             }
            },
            "type": "bar"
           }
          ],
          "barpolar": [
           {
            "marker": {
             "line": {
              "color": "#E5ECF6",
              "width": 0.5
             },
             "pattern": {
              "fillmode": "overlay",
              "size": 10,
              "solidity": 0.2
             }
            },
            "type": "barpolar"
           }
          ],
          "carpet": [
           {
            "aaxis": {
             "endlinecolor": "#2a3f5f",
             "gridcolor": "white",
             "linecolor": "white",
             "minorgridcolor": "white",
             "startlinecolor": "#2a3f5f"
            },
            "baxis": {
             "endlinecolor": "#2a3f5f",
             "gridcolor": "white",
             "linecolor": "white",
             "minorgridcolor": "white",
             "startlinecolor": "#2a3f5f"
            },
            "type": "carpet"
           }
          ],
          "choropleth": [
           {
            "colorbar": {
             "outlinewidth": 0,
             "ticks": ""
            },
            "type": "choropleth"
           }
          ],
          "contour": [
           {
            "colorbar": {
             "outlinewidth": 0,
             "ticks": ""
            },
            "colorscale": [
             [
              0,
              "#0d0887"
             ],
             [
              0.1111111111111111,
              "#46039f"
             ],
             [
              0.2222222222222222,
              "#7201a8"
             ],
             [
              0.3333333333333333,
              "#9c179e"
             ],
             [
              0.4444444444444444,
              "#bd3786"
             ],
             [
              0.5555555555555556,
              "#d8576b"
             ],
             [
              0.6666666666666666,
              "#ed7953"
             ],
             [
              0.7777777777777778,
              "#fb9f3a"
             ],
             [
              0.8888888888888888,
              "#fdca26"
             ],
             [
              1,
              "#f0f921"
             ]
            ],
            "type": "contour"
           }
          ],
          "contourcarpet": [
           {
            "colorbar": {
             "outlinewidth": 0,
             "ticks": ""
            },
            "type": "contourcarpet"
           }
          ],
          "heatmap": [
           {
            "colorbar": {
             "outlinewidth": 0,
             "ticks": ""
            },
            "colorscale": [
             [
              0,
              "#0d0887"
             ],
             [
              0.1111111111111111,
              "#46039f"
             ],
             [
              0.2222222222222222,
              "#7201a8"
             ],
             [
              0.3333333333333333,
              "#9c179e"
             ],
             [
              0.4444444444444444,
              "#bd3786"
             ],
             [
              0.5555555555555556,
              "#d8576b"
             ],
             [
              0.6666666666666666,
              "#ed7953"
             ],
             [
              0.7777777777777778,
              "#fb9f3a"
             ],
             [
              0.8888888888888888,
              "#fdca26"
             ],
             [
              1,
              "#f0f921"
             ]
            ],
            "type": "heatmap"
           }
          ],
          "heatmapgl": [
           {
            "colorbar": {
             "outlinewidth": 0,
             "ticks": ""
            },
            "colorscale": [
             [
              0,
              "#0d0887"
             ],
             [
              0.1111111111111111,
              "#46039f"
             ],
             [
              0.2222222222222222,
              "#7201a8"
             ],
             [
              0.3333333333333333,
              "#9c179e"
             ],
             [
              0.4444444444444444,
              "#bd3786"
             ],
             [
              0.5555555555555556,
              "#d8576b"
             ],
             [
              0.6666666666666666,
              "#ed7953"
             ],
             [
              0.7777777777777778,
              "#fb9f3a"
             ],
             [
              0.8888888888888888,
              "#fdca26"
             ],
             [
              1,
              "#f0f921"
             ]
            ],
            "type": "heatmapgl"
           }
          ],
          "histogram": [
           {
            "marker": {
             "pattern": {
              "fillmode": "overlay",
              "size": 10,
              "solidity": 0.2
             }
            },
            "type": "histogram"
           }
          ],
          "histogram2d": [
           {
            "colorbar": {
             "outlinewidth": 0,
             "ticks": ""
            },
            "colorscale": [
             [
              0,
              "#0d0887"
             ],
             [
              0.1111111111111111,
              "#46039f"
             ],
             [
              0.2222222222222222,
              "#7201a8"
             ],
             [
              0.3333333333333333,
              "#9c179e"
             ],
             [
              0.4444444444444444,
              "#bd3786"
             ],
             [
              0.5555555555555556,
              "#d8576b"
             ],
             [
              0.6666666666666666,
              "#ed7953"
             ],
             [
              0.7777777777777778,
              "#fb9f3a"
             ],
             [
              0.8888888888888888,
              "#fdca26"
             ],
             [
              1,
              "#f0f921"
             ]
            ],
            "type": "histogram2d"
           }
          ],
          "histogram2dcontour": [
           {
            "colorbar": {
             "outlinewidth": 0,
             "ticks": ""
            },
            "colorscale": [
             [
              0,
              "#0d0887"
             ],
             [
              0.1111111111111111,
              "#46039f"
             ],
             [
              0.2222222222222222,
              "#7201a8"
             ],
             [
              0.3333333333333333,
              "#9c179e"
             ],
             [
              0.4444444444444444,
              "#bd3786"
             ],
             [
              0.5555555555555556,
              "#d8576b"
             ],
             [
              0.6666666666666666,
              "#ed7953"
             ],
             [
              0.7777777777777778,
              "#fb9f3a"
             ],
             [
              0.8888888888888888,
              "#fdca26"
             ],
             [
              1,
              "#f0f921"
             ]
            ],
            "type": "histogram2dcontour"
           }
          ],
          "mesh3d": [
           {
            "colorbar": {
             "outlinewidth": 0,
             "ticks": ""
            },
            "type": "mesh3d"
           }
          ],
          "parcoords": [
           {
            "line": {
             "colorbar": {
              "outlinewidth": 0,
              "ticks": ""
             }
            },
            "type": "parcoords"
           }
          ],
          "pie": [
           {
            "automargin": true,
            "type": "pie"
           }
          ],
          "scatter": [
           {
            "fillpattern": {
             "fillmode": "overlay",
             "size": 10,
             "solidity": 0.2
            },
            "type": "scatter"
           }
          ],
          "scatter3d": [
           {
            "line": {
             "colorbar": {
              "outlinewidth": 0,
              "ticks": ""
             }
            },
            "marker": {
             "colorbar": {
              "outlinewidth": 0,
              "ticks": ""
             }
            },
            "type": "scatter3d"
           }
          ],
          "scattercarpet": [
           {
            "marker": {
             "colorbar": {
              "outlinewidth": 0,
              "ticks": ""
             }
            },
            "type": "scattercarpet"
           }
          ],
          "scattergeo": [
           {
            "marker": {
             "colorbar": {
              "outlinewidth": 0,
              "ticks": ""
             }
            },
            "type": "scattergeo"
           }
          ],
          "scattergl": [
           {
            "marker": {
             "colorbar": {
              "outlinewidth": 0,
              "ticks": ""
             }
            },
            "type": "scattergl"
           }
          ],
          "scattermapbox": [
           {
            "marker": {
             "colorbar": {
              "outlinewidth": 0,
              "ticks": ""
             }
            },
            "type": "scattermapbox"
           }
          ],
          "scatterpolar": [
           {
            "marker": {
             "colorbar": {
              "outlinewidth": 0,
              "ticks": ""
             }
            },
            "type": "scatterpolar"
           }
          ],
          "scatterpolargl": [
           {
            "marker": {
             "colorbar": {
              "outlinewidth": 0,
              "ticks": ""
             }
            },
            "type": "scatterpolargl"
           }
          ],
          "scatterternary": [
           {
            "marker": {
             "colorbar": {
              "outlinewidth": 0,
              "ticks": ""
             }
            },
            "type": "scatterternary"
           }
          ],
          "surface": [
           {
            "colorbar": {
             "outlinewidth": 0,
             "ticks": ""
            },
            "colorscale": [
             [
              0,
              "#0d0887"
             ],
             [
              0.1111111111111111,
              "#46039f"
             ],
             [
              0.2222222222222222,
              "#7201a8"
             ],
             [
              0.3333333333333333,
              "#9c179e"
             ],
             [
              0.4444444444444444,
              "#bd3786"
             ],
             [
              0.5555555555555556,
              "#d8576b"
             ],
             [
              0.6666666666666666,
              "#ed7953"
             ],
             [
              0.7777777777777778,
              "#fb9f3a"
             ],
             [
              0.8888888888888888,
              "#fdca26"
             ],
             [
              1,
              "#f0f921"
             ]
            ],
            "type": "surface"
           }
          ],
          "table": [
           {
            "cells": {
             "fill": {
              "color": "#EBF0F8"
             },
             "line": {
              "color": "white"
             }
            },
            "header": {
             "fill": {
              "color": "#C8D4E3"
             },
             "line": {
              "color": "white"
             }
            },
            "type": "table"
           }
          ]
         },
         "layout": {
          "annotationdefaults": {
           "arrowcolor": "#2a3f5f",
           "arrowhead": 0,
           "arrowwidth": 1
          },
          "autotypenumbers": "strict",
          "coloraxis": {
           "colorbar": {
            "outlinewidth": 0,
            "ticks": ""
           }
          },
          "colorscale": {
           "diverging": [
            [
             0,
             "#8e0152"
            ],
            [
             0.1,
             "#c51b7d"
            ],
            [
             0.2,
             "#de77ae"
            ],
            [
             0.3,
             "#f1b6da"
            ],
            [
             0.4,
             "#fde0ef"
            ],
            [
             0.5,
             "#f7f7f7"
            ],
            [
             0.6,
             "#e6f5d0"
            ],
            [
             0.7,
             "#b8e186"
            ],
            [
             0.8,
             "#7fbc41"
            ],
            [
             0.9,
             "#4d9221"
            ],
            [
             1,
             "#276419"
            ]
           ],
           "sequential": [
            [
             0,
             "#0d0887"
            ],
            [
             0.1111111111111111,
             "#46039f"
            ],
            [
             0.2222222222222222,
             "#7201a8"
            ],
            [
             0.3333333333333333,
             "#9c179e"
            ],
            [
             0.4444444444444444,
             "#bd3786"
            ],
            [
             0.5555555555555556,
             "#d8576b"
            ],
            [
             0.6666666666666666,
             "#ed7953"
            ],
            [
             0.7777777777777778,
             "#fb9f3a"
            ],
            [
             0.8888888888888888,
             "#fdca26"
            ],
            [
             1,
             "#f0f921"
            ]
           ],
           "sequentialminus": [
            [
             0,
             "#0d0887"
            ],
            [
             0.1111111111111111,
             "#46039f"
            ],
            [
             0.2222222222222222,
             "#7201a8"
            ],
            [
             0.3333333333333333,
             "#9c179e"
            ],
            [
             0.4444444444444444,
             "#bd3786"
            ],
            [
             0.5555555555555556,
             "#d8576b"
            ],
            [
             0.6666666666666666,
             "#ed7953"
            ],
            [
             0.7777777777777778,
             "#fb9f3a"
            ],
            [
             0.8888888888888888,
             "#fdca26"
            ],
            [
             1,
             "#f0f921"
            ]
           ]
          },
          "colorway": [
           "#636efa",
           "#EF553B",
           "#00cc96",
           "#ab63fa",
           "#FFA15A",
           "#19d3f3",
           "#FF6692",
           "#B6E880",
           "#FF97FF",
           "#FECB52"
          ],
          "font": {
           "color": "#2a3f5f"
          },
          "geo": {
           "bgcolor": "white",
           "lakecolor": "white",
           "landcolor": "#E5ECF6",
           "showlakes": true,
           "showland": true,
           "subunitcolor": "white"
          },
          "hoverlabel": {
           "align": "left"
          },
          "hovermode": "closest",
          "mapbox": {
           "style": "light"
          },
          "paper_bgcolor": "white",
          "plot_bgcolor": "#E5ECF6",
          "polar": {
           "angularaxis": {
            "gridcolor": "white",
            "linecolor": "white",
            "ticks": ""
           },
           "bgcolor": "#E5ECF6",
           "radialaxis": {
            "gridcolor": "white",
            "linecolor": "white",
            "ticks": ""
           }
          },
          "scene": {
           "xaxis": {
            "backgroundcolor": "#E5ECF6",
            "gridcolor": "white",
            "gridwidth": 2,
            "linecolor": "white",
            "showbackground": true,
            "ticks": "",
            "zerolinecolor": "white"
           },
           "yaxis": {
            "backgroundcolor": "#E5ECF6",
            "gridcolor": "white",
            "gridwidth": 2,
            "linecolor": "white",
            "showbackground": true,
            "ticks": "",
            "zerolinecolor": "white"
           },
           "zaxis": {
            "backgroundcolor": "#E5ECF6",
            "gridcolor": "white",
            "gridwidth": 2,
            "linecolor": "white",
            "showbackground": true,
            "ticks": "",
            "zerolinecolor": "white"
           }
          },
          "shapedefaults": {
           "line": {
            "color": "#2a3f5f"
           }
          },
          "ternary": {
           "aaxis": {
            "gridcolor": "white",
            "linecolor": "white",
            "ticks": ""
           },
           "baxis": {
            "gridcolor": "white",
            "linecolor": "white",
            "ticks": ""
           },
           "bgcolor": "#E5ECF6",
           "caxis": {
            "gridcolor": "white",
            "linecolor": "white",
            "ticks": ""
           }
          },
          "title": {
           "x": 0.05
          },
          "xaxis": {
           "automargin": true,
           "gridcolor": "white",
           "linecolor": "white",
           "ticks": "",
           "title": {
            "standoff": 15
           },
           "zerolinecolor": "white",
           "zerolinewidth": 2
          },
          "yaxis": {
           "automargin": true,
           "gridcolor": "white",
           "linecolor": "white",
           "ticks": "",
           "title": {
            "standoff": 15
           },
           "zerolinecolor": "white",
           "zerolinewidth": 2
          }
         }
        },
        "xaxis": {
         "anchor": "y",
         "domain": [
          0,
          0.2888888888888889
         ],
         "title": {
          "text": "Time (s)"
         }
        },
        "xaxis2": {
         "anchor": "y2",
         "domain": [
          0.35555555555555557,
          0.6444444444444445
         ],
         "title": {
          "text": "Wall Nodes Distance"
         }
        },
        "xaxis3": {
         "anchor": "y3",
         "domain": [
          0.7111111111111111,
          1
         ],
         "title": {
          "text": "Time (s)"
         }
        },
        "yaxis": {
         "anchor": "x",
         "domain": [
          0,
          1
         ],
         "title": {
          "text": "Temperature (K )"
         }
        },
        "yaxis2": {
         "anchor": "x2",
         "domain": [
          0,
          1
         ]
        },
        "yaxis3": {
         "anchor": "x3",
         "domain": [
          0,
          1
         ]
        }
       }
      }
     },
     "metadata": {},
     "output_type": "display_data"
    }
   ],
   "source": [
    "fig = make_subplots(rows=1, cols=3, shared_yaxes=False, subplot_titles=(\"Amb Temp\", \"Wall Temps\", \"Room Temp\"))\n",
    "\n",
    "#TODO relate \"4\" to number of time steps argument in VAvgIndoorAir function \n",
    "\n",
    "min_interv = 2*60 # interval to plot at in minutes \n",
    "colors = make_colors(min_interv=min_interv)\n",
    "\n",
    "cix=0\n",
    "for ix_time, x_at_time in enumerate(v1.all_wall_temps): # NEED way to abstract this \n",
    "    if ix_time%(min_interv*4)== 0:\n",
    "        # Outdoor Air \n",
    "        fig.add_trace(go.Scatter(x=[times[ix_time]], y=[v1.twall.ext_temps[ix_time]], mode='lines+markers', name=f\"t={times[ix_time]}\", showlegend=False, line=dict(color=colors[cix])), row = 1, col = 1)\n",
    "\n",
    "        # Wall Temperature \n",
    "        fig.add_trace(go.Scatter(x=v1.twall.x_vals, y=x_at_time, mode='lines+markers', name=f\"t={times[ix_time]}\", line=dict(color=colors[cix])), row = 1, col = 2)\n",
    "\n",
    "        # Indoor Air \n",
    "        fig.add_trace(go.Scatter(x=[times[ix_time]], y=[temps[ix_time]], mode='lines+markers', name=f\"t={times[ix_time]}\", showlegend=False, line=dict(color=colors[cix])), row = 1, col = 3)\n",
    "        cix+=1\n",
    "\n",
    "fig['layout']['yaxis']['title']='Temperature (K )'\n",
    "fig['layout']['xaxis1']['title']='Time (s)'\n",
    "fig['layout']['xaxis2']['title']='Wall Nodes Distance'\n",
    "fig['layout']['xaxis3']['title']='Time (s)'\n",
    "fig.show()"
   ]
  },
  {
   "cell_type": "code",
   "execution_count": null,
   "metadata": {},
   "outputs": [],
   "source": []
  },
  {
   "cell_type": "code",
   "execution_count": 6,
   "metadata": {},
   "outputs": [
    {
     "data": {
      "application/vnd.plotly.v1+json": {
       "config": {
        "plotlyServerURL": "https://plotly.com"
       },
       "data": [
        {
         "mode": "lines+markers",
         "name": "t=0.0",
         "type": "scatter",
         "x": [
          0,
          0.01,
          0.02,
          0.03,
          0.04,
          0.05,
          0.06,
          0.07,
          0.08,
          0.09
         ],
         "xaxis": "x",
         "y": [
          290.2618554303095,
          290.5820987654321,
          290.90308641975304,
          291.2240740740741,
          291.54506172839507,
          291.866049382716,
          292.187037037037,
          292.508024691358,
          292.82901234567896,
          293.14925568080156
         ],
         "yaxis": "y"
        },
        {
         "mode": "lines+markers",
         "name": "t=0.0",
         "showlegend": false,
         "type": "scatter",
         "x": [
          0
         ],
         "xaxis": "x2",
         "y": [
          293.15
         ],
         "yaxis": "y2"
        },
        {
         "mode": "lines+markers",
         "name": "t=10.0",
         "type": "scatter",
         "x": [
          0,
          0.01,
          0.02,
          0.03,
          0.04,
          0.05,
          0.06,
          0.07,
          0.08,
          0.09
         ],
         "xaxis": "x",
         "y": [
          290.2902080479931,
          290.5827644537127,
          290.90309639723023,
          291.22407418370364,
          291.54506172932895,
          291.86604938178345,
          292.1870369274088,
          292.5080147138819,
          292.8283466574024,
          293.1209030633948
         ],
         "yaxis": "y"
        },
        {
         "mode": "lines+markers",
         "name": "t=10.0",
         "showlegend": false,
         "type": "scatter",
         "x": [
          10
         ],
         "xaxis": "x2",
         "y": [
          293.1500001716364
         ],
         "yaxis": "y2"
        },
        {
         "mode": "lines+markers",
         "name": "t=20.0",
         "type": "scatter",
         "x": [
          0,
          0.01,
          0.02,
          0.03,
          0.04,
          0.05,
          0.06,
          0.07,
          0.08,
          0.09
         ],
         "xaxis": "x",
         "y": [
          290.3160371651141,
          290.58457301391337,
          290.9031609466815,
          291.22407574690646,
          291.54506175770854,
          291.8660493534051,
          292.18703536420685,
          292.50795016443254,
          292.8265380972455,
          293.0950739480205
         ],
         "yaxis": "y"
        },
        {
         "mode": "lines+markers",
         "name": "t=20.0",
         "showlegend": false,
         "type": "scatter",
         "x": [
          20
         ],
         "xaxis": "x2",
         "y": [
          293.15000065765906
         ],
         "yaxis": "y2"
        },
        {
         "mode": "lines+markers",
         "name": "t=30.0",
         "type": "scatter",
         "x": [
          0,
          0.01,
          0.02,
          0.03,
          0.04,
          0.05,
          0.06,
          0.07,
          0.08,
          0.09
         ],
         "xaxis": "x",
         "y": [
          290.3396692107446,
          290.58732193588054,
          290.9033214539846,
          291.2240820151581,
          291.5450619374857,
          291.8660491736288,
          292.1870290959563,
          292.50778965713556,
          292.82378917545003,
          293.0714419068036
         ],
         "yaxis": "y"
        },
        {
         "mode": "lines+markers",
         "name": "t=30.0",
         "showlegend": false,
         "type": "scatter",
         "x": [
          30
         ],
         "xaxis": "x2",
         "y": [
          293.1500014306842
         ],
         "yaxis": "y2"
        },
        {
         "mode": "lines+markers",
         "name": "t=40.0",
         "type": "scatter",
         "x": [
          0,
          0.01,
          0.02,
          0.03,
          0.04,
          0.05,
          0.06,
          0.07,
          0.08,
          0.09
         ],
         "xaxis": "x",
         "y": [
          290.36138385522463,
          290.590841654628,
          290.90360757526537,
          291.22409752793135,
          291.5450625477438,
          291.86604856337186,
          292.1870135831847,
          292.50750353587335,
          292.8202694571322,
          293.04972727038705
         ],
         "yaxis": "y"
        },
        {
         "mode": "lines+markers",
         "name": "t=40.0",
         "showlegend": false,
         "type": "scatter",
         "x": [
          40
         ],
         "xaxis": "x2",
         "y": [
          293.15000246684485
         ],
         "yaxis": "y2"
        },
        {
         "mode": "lines+markers",
         "name": "t=50.0",
         "type": "scatter",
         "x": [
          0,
          0.01,
          0.02,
          0.03,
          0.04,
          0.05,
          0.06,
          0.07,
          0.08,
          0.09
         ],
         "xaxis": "x",
         "y": [
          290.3814210300885,
          290.59499024896235,
          290.9040396619708,
          291.2241275409568,
          291.5450640453914,
          291.86604706572535,
          292.186983570162,
          292.50707144921216,
          292.8161208636435,
          293.02969010804173
         ],
         "yaxis": "y"
        },
        {
         "mode": "lines+markers",
         "name": "t=50.0",
         "showlegend": false,
         "type": "scatter",
         "x": [
          50
         ],
         "xaxis": "x2",
         "y": [
          293.15000374528717
         ],
         "yaxis": "y2"
        },
        {
         "mode": "lines+markers",
         "name": "t=60.0",
         "type": "scatter",
         "x": [
          0,
          0.01,
          0.02,
          0.03,
          0.04,
          0.05,
          0.06,
          0.07,
          0.08,
          0.09
         ],
         "xaxis": "x",
         "y": [
          290.4001543371029,
          290.59964899429986,
          290.90463073317665,
          291.2241776028779,
          291.5450670634539,
          291.8660440476645,
          292.18693350824674,
          292.5064803780966,
          292.8114621197446,
          293.0111242904804
         ],
         "yaxis": "y"
        },
        {
         "mode": "lines+markers",
         "name": "t=60.0",
         "showlegend": false,
         "type": "scatter",
         "x": [
          60
         ],
         "xaxis": "x2",
         "y": [
          293.150005247745
         ],
         "yaxis": "y2"
        },
        {
         "mode": "lines+markers",
         "name": "t=70.0",
         "type": "scatter",
         "x": [
          0,
          0.01,
          0.02,
          0.03,
          0.04,
          0.05,
          0.06,
          0.07,
          0.08,
          0.09
         ],
         "xaxis": "x",
         "y": [
          290.42380552440875,
          290.6048684113735,
          290.9053903208096,
          291.2242532726806,
          291.54507239405393,
          291.8660387172789,
          292.186857863121,
          292.505723035559,
          292.8063924847545,
          292.99385246543903
         ],
         "yaxis": "y"
        },
        {
         "mode": "lines+markers",
         "name": "t=70.0",
         "showlegend": false,
         "type": "scatter",
         "x": [
          70
         ],
         "xaxis": "x2",
         "y": [
          293.1500069581764
         ],
         "yaxis": "y2"
        },
        {
         "mode": "lines+markers",
         "name": "t=80.0",
         "type": "scatter",
         "x": [
          0,
          0.01,
          0.02,
          0.03,
          0.04,
          0.05,
          0.06,
          0.07,
          0.08,
          0.09
         ],
         "xaxis": "x",
         "y": [
          290.4457477674815,
          290.6106729419749,
          290.9063313084971,
          291.2243601558062,
          291.5450809677768,
          291.8660301501367,
          292.1867513317377,
          292.5047965717662,
          292.8009948833962,
          292.97772180309704
         ],
         "yaxis": "y"
        },
        {
         "mode": "lines+markers",
         "name": "t=80.0",
         "showlegend": false,
         "type": "scatter",
         "x": [
          80
         ],
         "xaxis": "x2",
         "y": [
          293.1500088624552
         ],
         "yaxis": "y2"
        },
        {
         "mode": "lines+markers",
         "name": "t=90.0",
         "type": "scatter",
         "x": [
          0,
          0.01,
          0.02,
          0.03,
          0.04,
          0.05,
          0.06,
          0.07,
          0.08,
          0.09
         ],
         "xaxis": "x",
         "y": [
          290.46618642559986,
          290.6169478039026,
          290.9074624654532,
          291.22450390839487,
          291.54509383974715,
          291.8660173205705,
          292.1866089895763,
          292.50370152936614,
          292.7953385332835,
          292.9626003910748
         ],
         "yaxis": "y"
        },
        {
         "mode": "lines+markers",
         "name": "t=90.0",
         "showlegend": false,
         "type": "scatter",
         "x": [
          90
         ],
         "xaxis": "x2",
         "y": [
          293.15001094810617
         ],
         "yaxis": "y2"
        },
        {
         "mode": "lines+markers",
         "name": "t=100.0",
         "type": "scatter",
         "x": [
          0,
          0.01,
          0.02,
          0.03,
          0.04,
          0.05,
          0.06,
          0.07,
          0.08,
          0.09
         ],
         "xaxis": "x",
         "y": [
          290.48529847646745,
          290.6235971293758,
          290.90878736897434,
          291.22469000403237,
          291.5451121720207,
          291.86599913483855,
          292.18642638461455,
          292.5024410037399,
          292.7894811502712,
          292.9483741777841
         ],
         "yaxis": "y"
        },
        {
         "mode": "lines+markers",
         "name": "t=100.0",
         "showlegend": false,
         "type": "scatter",
         "x": [
          100
         ],
         "xaxis": "x2",
         "y": [
          293.15001320408163
         ],
         "yaxis": "y2"
        },
        {
         "mode": "lines+markers",
         "name": "t=110.0",
         "type": "scatter",
         "x": [
          0,
          0.01,
          0.02,
          0.03,
          0.04,
          0.05,
          0.06,
          0.07,
          0.08,
          0.09
         ],
         "xaxis": "x",
         "y": [
          290.5032366892264,
          290.63054092094876,
          290.9103056223525,
          291.22492355167293,
          291.54513720944436,
          291.8659744636474,
          292.1861995909968,
          292.5010199707391,
          292.783470799729,
          292.934944378913
         ],
         "yaxis": "y"
        },
        {
         "mode": "lines+markers",
         "name": "t=110.0",
         "showlegend": false,
         "type": "scatter",
         "x": [
          110
         ],
         "xaxis": "x2",
         "y": [
          293.1500156205683
         ],
         "yaxis": "y2"
        },
        {
         "mode": "lines+markers",
         "name": "t=120.0",
         "type": "scatter",
         "x": [
          0,
          0.01,
          0.02,
          0.03,
          0.04,
          0.05,
          0.06,
          0.07,
          0.08,
          0.09
         ],
         "xaxis": "x",
         "y": [
          290.5202619869831,
          290.6377124966553,
          290.91201383425334,
          291.2252091771485,
          291.5451702524369,
          291.8659421723266,
          292.1859252326348,
          292.49944475110084,
          292.7773474507809,
          292.9222252752574
         ],
         "yaxis": "y"
        },
        {
         "mode": "lines+markers",
         "name": "t=120.0",
         "showlegend": false,
         "type": "scatter",
         "x": [
          120
         ],
         "xaxis": "x2",
         "y": [
          293.1500181888229
         ],
         "yaxis": "y2"
        },
        {
         "mode": "lines+markers",
         "name": "t=130.0",
         "type": "scatter",
         "x": [
          0,
          0.01,
          0.02,
          0.03,
          0.04,
          0.05,
          0.06,
          0.07,
          0.08,
          0.09
         ],
         "xaxis": "x",
         "y": [
          290.54113833454153,
          290.64517156076244,
          290.91390812996633,
          291.22555097193026,
          291.5452126294703,
          291.8659011476421,
          292.185600484765,
          292.4977225861707,
          292.7711442813207,
          292.91014234142256
         ],
         "yaxis": "y"
        },
        {
         "mode": "lines+markers",
         "name": "t=130.0",
         "showlegend": false,
         "type": "scatter",
         "x": [
          130
         ],
         "xaxis": "x2",
         "y": [
          293.15002090103184
         ],
         "yaxis": "y2"
        },
        {
         "mode": "lines+markers",
         "name": "t=140.0",
         "type": "scatter",
         "x": [
          0,
          0.01,
          0.02,
          0.03,
          0.04,
          0.05,
          0.06,
          0.07,
          0.08,
          0.09
         ],
         "xaxis": "x",
         "y": [
          290.56074992276325,
          290.652954562375,
          290.9159890411746,
          291.2259526537651,
          291.54526567500335,
          291.8658503207948,
          292.18522305971567,
          292.49586130409466,
          292.76488877388755,
          292.8986306544089
         ],
         "yaxis": "y"
        },
        {
         "mode": "lines+markers",
         "name": "t=140.0",
         "showlegend": false,
         "type": "scatter",
         "x": [
          140
         ],
         "xaxis": "x2",
         "y": [
          293.1500237501911
         ],
         "yaxis": "y2"
        },
        {
         "mode": "lines+markers",
         "name": "t=150.0",
         "type": "scatter",
         "x": [
          0,
          0.01,
          0.02,
          0.03,
          0.04,
          0.05,
          0.06,
          0.07,
          0.08,
          0.09
         ],
         "xaxis": "x",
         "y": [
          290.57923960457583,
          290.6609881704051,
          290.91825545480907,
          291.22641767585253,
          291.54533071835584,
          291.8657886867704,
          292.18479118174173,
          292.49386905934443,
          292.7586036360102,
          292.8876335390915
         ],
         "yaxis": "y"
        },
        {
         "mode": "lines+markers",
         "name": "t=150.0",
         "showlegend": false,
         "type": "scatter",
         "x": [
          150
         ],
         "xaxis": "x2",
         "y": [
          293.15002673000146
         ],
         "yaxis": "y2"
        },
        {
         "mode": "lines+markers",
         "name": "t=160.0",
         "type": "scatter",
         "x": [
          0,
          0.01,
          0.02,
          0.03,
          0.04,
          0.05,
          0.06,
          0.07,
          0.08,
          0.09
         ],
         "xaxis": "x",
         "y": [
          290.59673102735707,
          290.66921134574125,
          290.9207035284645,
          291.22694913154055,
          291.5454090736606,
          291.865715320255,
          292.18430355467177,
          292.49175413153745,
          292.75230757320355,
          292.8771014143256
         ],
         "yaxis": "y"
        },
        {
         "mode": "lines+markers",
         "name": "t=160.0",
         "showlegend": false,
         "type": "scatter",
         "x": [
          160
         ],
         "xaxis": "x2",
         "y": [
          293.15002983478
         ],
         "yaxis": "y2"
        },
        {
         "mode": "lines+markers",
         "name": "t=170.0",
         "type": "scatter",
         "x": [
          0,
          0.01,
          0.02,
          0.03,
          0.04,
          0.05,
          0.06,
          0.07,
          0.08,
          0.09
         ],
         "xaxis": "x",
         "y": [
          290.61333141535016,
          290.6775733578916,
          290.92332741491214,
          291.2275496807878,
          291.54550202731116,
          291.865629388093,
          292.18375932522423,
          292.48952477203386,
          292.7460159382545,
          292.8669908090717
         ],
         "yaxis": "y"
        },
        {
         "mode": "lines+markers",
         "name": "t=170.0",
         "showlegend": false,
         "type": "scatter",
         "x": [
          170
         ],
         "xaxis": "x2",
         "y": [
          293.15003305938404
         ],
         "yaxis": "y2"
        },
        {
         "mode": "lines+markers",
         "name": "t=180.0",
         "type": "scatter",
         "x": [
          0,
          0.01,
          0.02,
          0.03,
          0.04,
          0.05,
          0.06,
          0.07,
          0.08,
          0.09
         ],
         "xaxis": "x",
         "y": [
          290.62917257980513,
          290.6860321201884,
          290.92611983916,
          291.2282215113397,
          291.5456108245417,
          291.86553015838143,
          292.18315804412185,
          292.4871890889002,
          292.73974127663155,
          292.8572635226857
         ],
         "yaxis": "y"
        },
        {
         "mode": "lines+markers",
         "name": "t=180.0",
         "showlegend": false,
         "type": "scatter",
         "x": [
          180
         ],
         "xaxis": "x2",
         "y": [
          293.15003639914454
         ],
         "yaxis": "y2"
        },
        {
         "mode": "lines+markers",
         "name": "t=190.0",
         "type": "scatter",
         "x": [
          0,
          0.01,
          0.02,
          0.03,
          0.04,
          0.05,
          0.06,
          0.07,
          0.08,
          0.09
         ],
         "xaxis": "x",
         "y": [
          290.6457304927959,
          290.69458735682275,
          290.92907307349805,
          291.2289663313097,
          291.5457366564488,
          291.86541700642084,
          292.1824996265912,
          292.4847549625405,
          292.733493784652,
          292.84788590754977
         ],
         "yaxis": "y"
        },
        {
         "mode": "lines+markers",
         "name": "t=190.0",
         "showlegend": false,
         "type": "scatter",
         "x": [
          190
         ],
         "xaxis": "x2",
         "y": [
          293.15003984980916
         ],
         "yaxis": "y2"
        },
        {
         "mode": "lines+markers",
         "name": "t=200.0",
         "type": "scatter",
         "x": [
          0,
          0.01,
          0.02,
          0.03,
          0.04,
          0.05,
          0.06,
          0.07,
          0.08,
          0.09
         ],
         "xaxis": "x",
         "y": [
          290.6615113858613,
          290.7032350772153,
          290.93218057627126,
          291.2297854331187,
          291.54588064947615,
          291.86528941786617,
          292.18178431337765,
          292.4822299857258,
          292.7272816943702,
          292.83882825557964
         ],
         "yaxis": "y"
        },
        {
         "mode": "lines+markers",
         "name": "t=200.0",
         "showlegend": false,
         "type": "scatter",
         "x": [
          200
         ],
         "xaxis": "x2",
         "y": [
          293.1500434074934
         ],
         "yaxis": "y2"
        },
        {
         "mode": "lines+markers",
         "name": "t=210.0",
         "type": "scatter",
         "x": [
          0,
          0.01,
          0.02,
          0.03,
          0.04,
          0.05,
          0.06,
          0.07,
          0.08,
          0.09
         ],
         "xaxis": "x",
         "y": [
          290.6765940850517,
          290.7119410868406,
          290.93543530817794,
          291.23067974715536,
          291.54604385914723,
          291.8651469895238,
          292.18101263308733,
          292.4796214229156,
          292.72111159690417,
          292.83006427300876
         ],
         "yaxis": "y"
        },
        {
         "mode": "lines+markers",
         "name": "t=210.0",
         "showlegend": false,
         "type": "scatter",
         "x": [
          210
         ],
         "xaxis": "x2",
         "y": [
          293.15004706863743
         ],
         "yaxis": "y2"
        },
        {
         "mode": "lines+markers",
         "name": "t=220.0",
         "type": "scatter",
         "x": [
          0,
          0.01,
          0.02,
          0.03,
          0.04,
          0.05,
          0.06,
          0.07,
          0.08,
          0.09
         ],
         "xaxis": "x",
         "y": [
          290.6910473369759,
          290.72067716246113,
          290.93882950621634,
          291.2316498372306,
          291.5462272651429,
          291.8649894282116,
          292.180185366402,
          292.4769361847213,
          292.71498871403924,
          292.82157063024164
         ],
         "yaxis": "y"
        },
        {
         "mode": "lines+markers",
         "name": "t=220.0",
         "showlegend": false,
         "type": "scatter",
         "x": [
          220
         ],
         "xaxis": "x2",
         "y": [
          293.1500508299695
         ],
         "yaxis": "y2"
        },
        {
         "mode": "lines+markers",
         "name": "t=230.0",
         "type": "scatter",
         "x": [
          0,
          0.01,
          0.02,
          0.03,
          0.04,
          0.05,
          0.06,
          0.07,
          0.08,
          0.09
         ],
         "xaxis": "x",
         "y": [
          290.7049312298227,
          290.72942008228,
          290.9423549744836,
          291.2326959041803,
          291.54643176662626,
          291.86481654796825,
          292.1793035125175,
          292.47418081415833,
          292.70891712636126,
          292.81332657559904
         ],
         "yaxis": "y"
        },
        {
         "mode": "lines+markers",
         "name": "t=230.0",
         "showlegend": false,
         "type": "scatter",
         "x": [
          230
         ],
         "xaxis": "x2",
         "y": [
          293.1500546884733
         ],
         "yaxis": "y2"
        },
        {
         "mode": "lines+markers",
         "name": "t=240.0",
         "type": "scatter",
         "x": [
          0,
          0.01,
          0.02,
          0.03,
          0.04,
          0.05,
          0.06,
          0.07,
          0.08,
          0.09
         ],
         "xaxis": "x",
         "y": [
          290.7183756982586,
          290.73815081177,
          290.9460033101174,
          291.2338178003739,
          291.5466581782406,
          291.8646282658788,
          292.1783682580026,
          292.471361481969,
          292.70289996486116,
          292.8053136034851
         ],
         "yaxis": "y"
        },
        {
         "mode": "lines+markers",
         "name": "t=240.0",
         "showlegend": false,
         "type": "scatter",
         "x": [
          240
         ],
         "xaxis": "x2",
         "y": [
          293.1500586413605
         ],
         "yaxis": "y2"
        },
        {
         "mode": "lines+markers",
         "name": "t=250.0",
         "type": "scatter",
         "x": [
          0,
          0.01,
          0.02,
          0.03,
          0.04,
          0.05,
          0.06,
          0.07,
          0.08,
          0.09
         ],
         "xaxis": "x",
         "y": [
          290.73421668661695,
          290.7469229493279,
          290.9497671129929,
          291.23501506299243,
          291.54690722716833,
          291.8644245967888,
          292.17738094815854,
          292.46848398883867,
          292.69693957183176,
          292.79751516895374
         ],
         "yaxis": "y"
        },
        {
         "mode": "lines+markers",
         "name": "t=250.0",
         "showlegend": false,
         "type": "scatter",
         "x": [
          250
         ],
         "xaxis": "x2",
         "y": [
          293.1500626860462
         ],
         "yaxis": "y2"
        },
        {
         "mode": "lines+markers",
         "name": "t=260.0",
         "type": "scatter",
         "x": [
          0,
          0.01,
          0.02,
          0.03,
          0.04,
          0.05,
          0.06,
          0.07,
          0.08,
          0.09
         ],
         "xaxis": "x",
         "y": [
          290.7493658105523,
          290.7557734477877,
          290.95364267587956,
          291.236287057398,
          291.5471795537889,
          291.86420564720345,
          292.17634306088314,
          292.4655537727498,
          292.69103763594677,
          292.7899164418635
         ],
         "yaxis": "y"
        },
        {
         "mode": "lines+markers",
         "name": "t=260.0",
         "showlegend": false,
         "type": "scatter",
         "x": [
          260
         ],
         "xaxis": "x2",
         "y": [
          293.1500668201276
         ],
         "yaxis": "y2"
        },
        {
         "mode": "lines+markers",
         "name": "t=270.0",
         "type": "scatter",
         "x": [
          0,
          0.01,
          0.02,
          0.03,
          0.04,
          0.05,
          0.06,
          0.07,
          0.08,
          0.09
         ],
         "xaxis": "x",
         "y": [
          290.76389287110925,
          290.7646711245605,
          290.957626154056,
          291.237633076269,
          291.5474757186013,
          291.8639716087981,
          292.1752561829839,
          292.46257592007885,
          292.6851953056383,
          292.78250409484525
         ],
         "yaxis": "y"
        },
        {
         "mode": "lines+markers",
         "name": "t=270.0",
         "showlegend": false,
         "type": "scatter",
         "x": [
          270
         ],
         "xaxis": "x2",
         "y": [
          293.15007104136464
         ],
         "yaxis": "y2"
        },
        {
         "mode": "lines+markers",
         "name": "t=280.0",
         "type": "scatter",
         "x": [
          0,
          0.01,
          0.02,
          0.03,
          0.04,
          0.05,
          0.06,
          0.07,
          0.08,
          0.09
         ],
         "xaxis": "x",
         "y": [
          290.7778586720346,
          290.77359026200895,
          290.9617127511353,
          291.2390523056179,
          291.54779620908386,
          291.86372275183606,
          292.1741219888554,
          292.4595551793245,
          292.6794132842207,
          292.7752661201785
         ],
         "yaxis": "y"
        },
        {
         "mode": "lines+markers",
         "name": "t=280.0",
         "showlegend": false,
         "type": "scatter",
         "x": [
          280
         ],
         "xaxis": "x2",
         "y": [
          293.15007534766534
         ],
         "yaxis": "y2"
        },
        {
         "mode": "lines+markers",
         "name": "t=290.0",
         "type": "scatter",
         "x": [
          0,
          0.01,
          0.02,
          0.03,
          0.04,
          0.05,
          0.06,
          0.07,
          0.08,
          0.09
         ],
         "xaxis": "x",
         "y": [
          290.79131629905874,
          290.78250971740937,
          290.9658970202241,
          291.2405437957953,
          291.54814144407925,
          291.86345941852204,
          292.17294222140487,
          292.45649597659445,
          292.673691909669,
          292.76819167140366
         ],
         "yaxis": "y"
        },
        {
         "mode": "lines+markers",
         "name": "t=290.0",
         "showlegend": false,
         "type": "scatter",
         "x": [
          290
         ],
         "xaxis": "x2",
         "y": [
          293.1500797370693
         ],
         "yaxis": "y2"
        },
        {
         "mode": "lines+markers",
         "name": "t=300.0",
         "type": "scatter",
         "x": [
          0,
          0.01,
          0.02,
          0.03,
          0.04,
          0.05,
          0.06,
          0.07,
          0.08,
          0.09
         ],
         "xaxis": "x",
         "y": [
          290.804408826393,
          290.7914121761526,
          290.97017310120435,
          291.24210644712014,
          291.5485117765465,
          291.8631820163029,
          292.17171867508455,
          292.45340243216657,
          292.6680312214886,
          292.7612709261288
         ],
         "yaxis": "y"
        },
        {
         "mode": "lines+markers",
         "name": "t=300.0",
         "showlegend": false,
         "type": "scatter",
         "x": [
          300
         ],
         "xaxis": "x2",
         "y": [
          293.1500842077366
         ],
         "yaxis": "y2"
        },
        {
         "mode": "lines+markers",
         "name": "t=310.0",
         "type": "scatter",
         "x": [
          0,
          0.01,
          0.02,
          0.03,
          0.04,
          0.05,
          0.06,
          0.07,
          0.08,
          0.09
         ],
         "xaxis": "x",
         "y": [
          290.8206641575642,
          290.8003699365692,
          290.97453620133604,
          291.24373902045824,
          291.54890749550486,
          291.8628910111519,
          292.1704531808801,
          292.4502783775904,
          292.66243101672814,
          292.75449496700656
         ],
         "yaxis": "y"
        },
        {
         "mode": "lines+markers",
         "name": "t=310.0",
         "showlegend": false,
         "type": "scatter",
         "x": [
          310
         ],
         "xaxis": "x2",
         "y": [
          293.1500887579357
         ],
         "yaxis": "y2"
        },
        {
         "mode": "lines+markers",
         "name": "t=320.0",
         "type": "scatter",
         "x": [
          0,
          0.01,
          0.02,
          0.03,
          0.04,
          0.05,
          0.06,
          0.07,
          0.08,
          0.09
         ],
         "xaxis": "x",
         "y": [
          290.836206791589,
          290.8094335033073,
          290.9789859371765,
          291.24544028722653,
          291.54932883066607,
          291.8625869209455,
          292.1691475930966,
          292.447127372926,
          292.6568908968633,
          292.74785567831333
         ],
         "yaxis": "y"
        },
        {
         "mode": "lines+markers",
         "name": "t=320.0",
         "showlegend": false,
         "type": "scatter",
         "x": [
          320
         ],
         "xaxis": "x2",
         "y": [
          293.1500933860345
         ],
         "yaxis": "y2"
        },
        {
         "mode": "lines+markers",
         "name": "t=330.0",
         "type": "scatter",
         "x": [
          0,
          0.01,
          0.02,
          0.03,
          0.04,
          0.05,
          0.06,
          0.07,
          0.08,
          0.09
         ],
         "xaxis": "x",
         "y": [
          290.8511106991129,
          290.8185673859998,
          290.9835215342115,
          291.2472091260961,
          291.54977596337034,
          291.8622703092324,
          292.1678037777903,
          292.44395272380785,
          292.6514103069996,
          292.7413456559414
         ],
         "yaxis": "y"
        },
        {
         "mode": "lines+markers",
         "name": "t=330.0",
         "showlegend": false,
         "type": "scatter",
         "x": [
          330
         ],
         "xaxis": "x2",
         "y": [
          293.1500980904901
         ],
         "yaxis": "y2"
        },
        {
         "mode": "lines+markers",
         "name": "t=340.0",
         "type": "scatter",
         "x": [
          0,
          0.01,
          0.02,
          0.03,
          0.04,
          0.05,
          0.06,
          0.07,
          0.08,
          0.09
         ],
         "xaxis": "x",
         "y": [
          290.8654401154491,
          290.8277422350882,
          290.98814080324604,
          291.249044455385,
          291.5502490361769,
          291.8619417795607,
          292.1664236027119,
          292.44075749811014,
          292.6459885686157,
          292.7349581289277
         ],
         "yaxis": "y"
        },
        {
         "mode": "lines+markers",
         "name": "t=340.0",
         "showlegend": false,
         "type": "scatter",
         "x": [
          340
         ],
         "xaxis": "x2",
         "y": [
          293.1501028698425
         ],
         "yaxis": "y2"
        },
        {
         "mode": "lines+markers",
         "name": "t=350.0",
         "type": "scatter",
         "x": [
          0,
          0.01,
          0.02,
          0.03,
          0.04,
          0.05,
          0.06,
          0.07,
          0.08,
          0.09
         ],
         "xaxis": "x",
         "y": [
          290.87925094331945,
          290.83693384306946,
          290.99284051593327,
          291.2509451737873,
          291.55074815833126,
          291.86160197022355,
          292.1650089286276,
          292.4375445420478,
          292.6406249068756,
          292.728686890927
         ],
         "yaxis": "y"
        },
        {
         "mode": "lines+markers",
         "name": "t=350.0",
         "showlegend": false,
         "type": "scatter",
         "x": [
          350
         ],
         "xaxis": "x2",
         "y": [
          293.1501077227067
         ],
         "yaxis": "y2"
        },
        {
         "mode": "lines+markers",
         "name": "t=360.0",
         "type": "scatter",
         "x": [
          0,
          0.01,
          0.02,
          0.03,
          0.04,
          0.05,
          0.06,
          0.07,
          0.08,
          0.09
         ],
         "xaxis": "x",
         "y": [
          290.89257906171815,
          290.8461223066585,
          290.99761670419497,
          291.2529101214525,
          291.5512734083591,
          291.8612515492891,
          292.1635616018805,
          292.4343164956,
          292.6353184733724,
          292.7225262402606
         ],
         "yaxis": "y"
        },
        {
         "mode": "lines+markers",
         "name": "t=360.0",
         "showlegend": false,
         "type": "scatter",
         "x": [
          360
         ],
         "xaxis": "x2",
         "y": [
          293.15011264776695
         ],
         "yaxis": "y2"
        },
        {
         "mode": "lines+markers",
         "name": "t=370.0",
         "type": "scatter",
         "x": [
          0,
          0.01,
          0.02,
          0.03,
          0.04,
          0.05,
          0.06,
          0.07,
          0.08,
          0.09
         ],
         "xaxis": "x",
         "y": [
          290.90500214990584,
          290.8552798023786,
          291.0024647249307,
          291.2549380545601,
          291.5518248348287,
          291.8608912098379,
          292.1620834480667,
          292.4310758071816,
          292.63006836503075,
          292.7164709273758
         ],
         "yaxis": "y"
        },
        {
         "mode": "lines+markers",
         "name": "t=370.0",
         "showlegend": false,
         "type": "scatter",
         "x": [
          370
         ],
         "xaxis": "x2",
         "y": [
          293.15011764377056
         ],
         "yaxis": "y2"
        },
        {
         "mode": "lines+markers",
         "name": "t=380.0",
         "type": "scatter",
         "x": [
          0,
          0.01,
          0.02,
          0.03,
          0.04,
          0.05,
          0.06,
          0.07,
          0.08,
          0.09
         ],
         "xaxis": "x",
         "y": [
          290.9170790852741,
          290.8643847809841,
          291.00737902052447,
          291.2570276138007,
          291.55240245563914,
          291.86052166536626,
          292.1605762666955,
          292.42782474752414,
          292.62487363978,
          292.71051610871166
         ],
         "yaxis": "y"
        },
        {
         "mode": "lines+markers",
         "name": "t=380.0",
         "showlegend": false,
         "type": "scatter",
         "x": [
          380
         ],
         "xaxis": "x2",
         "y": [
          293.1501227095243
         ],
         "yaxis": "y2"
        },
        {
         "mode": "lines+markers",
         "name": "t=390.0",
         "type": "scatter",
         "x": [
          0,
          0.01,
          0.02,
          0.03,
          0.04,
          0.05,
          0.06,
          0.07,
          0.08,
          0.09
         ],
         "xaxis": "x",
         "y": [
          290.9288370498188,
          290.8734299740853,
          291.0123539195586,
          291.2591773090715,
          291.5530062559391,
          291.8601436453151,
          292.1590418267216,
          292.42456542273703,
          292.619733329516,
          292.7046573061166
         ],
         "yaxis": "y"
        },
        {
         "mode": "lines+markers",
         "name": "t=390.0",
         "showlegend": false,
         "type": "scatter",
         "x": [
          390
         ],
         "xaxis": "x2",
         "y": [
          293.15012784388836
         ],
         "yaxis": "y2"
        },
        {
         "mode": "lines+markers",
         "name": "t=400.0",
         "type": "scatter",
         "x": [
          0,
          0.01,
          0.02,
          0.03,
          0.04,
          0.05,
          0.06,
          0.07,
          0.08,
          0.09
         ],
         "xaxis": "x",
         "y": [
          290.9403001262476,
          290.8824096449632,
          291.01738389722715,
          291.26138553255214,
          291.55363618609243,
          291.85975789071733,
          292.15748186283713,
          292.4212997865574,
          292.6146464507835,
          292.6988903710803
         ],
         "yaxis": "y"
        },
        {
         "mode": "lines+markers",
         "name": "t=400.0",
         "showlegend": false,
         "type": "scatter",
         "x": [
          400
         ],
         "xaxis": "x2",
         "y": [
          293.1501330457733
         ],
         "yaxis": "y2"
        },
        {
         "mode": "lines+markers",
         "name": "t=410.0",
         "type": "scatter",
         "x": [
          0,
          0.01,
          0.02,
          0.03,
          0.04,
          0.05,
          0.06,
          0.07,
          0.08,
          0.09
         ],
         "xaxis": "x",
         "y": [
          290.9514897098745,
          290.8913193321271,
          291.02246361959,
          291.26365057509827,
          291.55429216032326,
          291.8593651500084,
          292.1558980724304,
          292.4180296517913,
          292.60961201354206,
          292.69321145314603
         ],
         "yaxis": "y"
        },
        {
         "mode": "lines+markers",
         "name": "t=410.0",
         "showlegend": false,
         "type": "scatter",
         "x": [
          410
         ],
         "xaxis": "x2",
         "y": [
          293.15013831413563
         ],
         "yaxis": "y2"
        },
        {
         "mode": "lines+markers",
         "name": "t=420.0",
         "type": "scatter",
         "x": [
          0,
          0.01,
          0.02,
          0.03,
          0.04,
          0.05,
          0.06,
          0.07,
          0.08,
          0.09
         ],
         "xaxis": "x",
         "y": [
          290.9625794507906,
          290.90015563419655,
          291.0275879741978,
          291.2659706427869,
          291.55497405603023,
          291.858966175039,
          292.1542921131215,
          292.41475670097265,
          292.6046290283286,
          292.6876169719632
         ],
         "yaxis": "y"
        },
        {
         "mode": "lines+markers",
         "name": "t=420.0",
         "showlegend": false,
         "type": "scatter",
         "x": [
          420
         ],
         "xaxis": "x2",
         "y": [
          293.1501436479756
         ],
         "yaxis": "y2"
        },
        {
         "mode": "lines+markers",
         "name": "t=430.0",
         "type": "scatter",
         "x": [
          0,
          0.01,
          0.02,
          0.03,
          0.04,
          0.05,
          0.06,
          0.07,
          0.08,
          0.09
         ],
         "xaxis": "x",
         "y": [
          290.97916581952677,
          290.9090542878168,
          291.03275416222056,
          291.2683438958594,
          291.5556817139156,
          291.858561717328,
          292.15266560080056,
          292.41148249626565,
          292.59969651207126,
          292.6821035925066
         ],
         "yaxis": "y"
        },
        {
         "mode": "lines+markers",
         "name": "t=430.0",
         "showlegend": false,
         "type": "scatter",
         "x": [
          430
         ],
         "xaxis": "x2",
         "y": [
          293.1501490463331
         ],
         "yaxis": "y2"
        },
        {
         "mode": "lines+markers",
         "name": "t=440.0",
         "type": "scatter",
         "x": [
          0,
          0.01,
          0.02,
          0.03,
          0.04,
          0.05,
          0.06,
          0.07,
          0.08,
          0.09
         ],
         "xaxis": "x",
         "y": [
          290.9950059296422,
          290.9181126070801,
          291.03796682737163,
          291.2707686977511,
          291.5564149436669,
          291.85815252466523,
          292.15102010810523,
          292.40820848864314,
          292.59481349277405,
          292.6766682030635
         ],
         "yaxis": "y"
        },
        {
         "mode": "lines+markers",
         "name": "t=440.0",
         "showlegend": false,
         "type": "scatter",
         "x": [
          440
         ],
         "xaxis": "x2",
         "y": [
          293.15015450828554
         ],
         "yaxis": "y2"
        },
        {
         "mode": "lines+markers",
         "name": "t=450.0",
         "type": "scatter",
         "x": [
          0,
          0.01,
          0.02,
          0.03,
          0.04,
          0.05,
          0.06,
          0.07,
          0.08,
          0.09
         ],
         "xaxis": "x",
         "y": [
          291.01018128551806,
          290.9272873405113,
          291.04323020478313,
          291.27324376938566,
          291.5571735403857,
          291.85773933846104,
          292.1493571632865,
          292.40493602637974,
          292.589979013257,
          292.6713078956372
         ],
         "yaxis": "y"
        },
        {
         "mode": "lines+markers",
         "name": "t=450.0",
         "showlegend": false,
         "type": "scatter",
         "x": [
          450
         ],
         "xaxis": "x2",
         "y": [
          293.1501600329453
         ],
         "yaxis": "y2"
        },
        {
         "mode": "lines+markers",
         "name": "t=460.0",
         "type": "scatter",
         "x": [
          0,
          0.01,
          0.02,
          0.03,
          0.04,
          0.05,
          0.06,
          0.07,
          0.08,
          0.09
         ],
         "xaxis": "x",
         "y": [
          291.0247623235766,
          290.936542574448,
          291.04854635122666,
          291.27576807389204,
          291.55795729910716,
          291.85732289202366,
          292.1476782494439,
          292.4016663628986,
          292.5851921341046,
          292.6660199484656
         ],
         "yaxis": "y"
        },
        {
         "mode": "lines+markers",
         "name": "t=460.0",
         "showlegend": false,
         "type": "scatter",
         "x": [
          460
         ],
         "xaxis": "x2",
         "y": [
          293.1501656194577
         ],
         "yaxis": "y2"
        },
        {
         "mode": "lines+markers",
         "name": "t=470.0",
         "type": "scatter",
         "x": [
          0,
          0.01,
          0.02,
          0.03,
          0.04,
          0.05,
          0.06,
          0.07,
          0.08,
          0.09
         ],
         "xaxis": "x",
         "y": [
          291.0388100361078,
          290.9458485430027,
          291.0539156450196,
          291.2783407100986,
          291.5587660226973,
          291.8569039094564,
          292.1459848040978,
          292.3984006640078,
          292.5804519359543,
          292.6608018103962
         ],
         "yaxis": "y"
        },
        {
         "mode": "lines+markers",
         "name": "t=470.0",
         "showlegend": false,
         "type": "scatter",
         "x": [
          470
         ],
         "xaxis": "x2",
         "y": [
          293.15017126699814
         ],
         "yaxis": "y2"
        },
        {
         "mode": "lines+markers",
         "name": "t=480.0",
         "type": "scatter",
         "x": [
          0,
          0.01,
          0.02,
          0.03,
          0.04,
          0.05,
          0.06,
          0.07,
          0.08,
          0.09
         ],
         "xaxis": "x",
         "y": [
          291.0523837888239,
          290.95518062993517,
          291.0593371891321,
          291.28096083568227,
          291.5595995249659,
          291.856483104881,
          292.1442782190715,
          292.3951400145768,
          292.5757575212331,
          292.6556510868882
         ],
         "yaxis": "y"
        },
        {
         "mode": "lines+markers",
         "name": "t=480.0",
         "showlegend": false,
         "type": "scatter",
         "x": [
          480
         ],
         "xaxis": "x2",
         "y": [
          293.1501769747711
         ],
         "yaxis": "y2"
        },
        {
         "mode": "lines+markers",
         "name": "t=490.0",
         "type": "scatter",
         "x": [
          0,
          0.01,
          0.02,
          0.03,
          0.04,
          0.05,
          0.06,
          0.07,
          0.08,
          0.09
         ],
         "xaxis": "x",
         "y": [
          291.0657620825634,
          290.96452429218914,
          291.06480922138746,
          291.28362761421766,
          291.56045763059825,
          291.8560611817905,
          292.14255984063277,
          292.3918854246846,
          292.57110801543695,
          292.6505655274514
         ],
         "yaxis": "y"
        },
        {
         "mode": "lines+markers",
         "name": "t=490.0",
         "showlegend": false,
         "type": "scatter",
         "x": [
          490
         ],
         "xaxis": "x2",
         "y": [
          293.1501827420078
         ],
         "yaxis": "y2"
        },
        {
         "mode": "lines+markers",
         "name": "t=500.0",
         "type": "scatter",
         "x": [
          0,
          0.01,
          0.02,
          0.03,
          0.04,
          0.05,
          0.06,
          0.07,
          0.08,
          0.09
         ],
         "xaxis": "x",
         "y": [
          291.07872427603274,
          290.973866965522,
          291.0703295867688,
          291.28634018862795,
          291.5613401732905,
          291.8556388324243,
          292.1408309698596,
          292.3886378352839,
          292.5665025680299,
          292.6455430143454
         ],
         "yaxis": "y"
        },
        {
         "mode": "lines+markers",
         "name": "t=500.0",
         "showlegend": false,
         "type": "scatter",
         "x": [
          500
         ],
         "xaxis": "x2",
         "y": [
          293.15018856796473
         ],
         "yaxis": "y2"
        },
        {
         "mode": "lines+markers",
         "name": "t=510.0",
         "type": "scatter",
         "x": [
          0,
          0.01,
          0.02,
          0.03,
          0.04,
          0.05,
          0.06,
          0.07,
          0.08,
          0.09
         ],
         "xaxis": "x",
         "y": [
          291.09130824118233,
          290.98319322465517,
          291.07589561630283,
          291.2890976641154,
          291.56224699316607,
          291.8552167371191,
          292.13909286318477,
          292.3853981234163,
          292.561940353028,
          292.64058155239405
         ],
         "yaxis": "y"
        },
        {
         "mode": "lines+markers",
         "name": "t=510.0",
         "showlegend": false,
         "type": "scatter",
         "x": [
          510
         ],
         "xaxis": "x2",
         "y": [
          293.1501944519227
         ],
         "yaxis": "y2"
        },
        {
         "mode": "lines+markers",
         "name": "t=520.0",
         "type": "scatter",
         "x": [
          0,
          0.01,
          0.02,
          0.03,
          0.04,
          0.05,
          0.06,
          0.07,
          0.08,
          0.09
         ],
         "xaxis": "x",
         "y": [
          291.10354709353857,
          290.9924904560626,
          291.08150421648986,
          291.29189908994425,
          291.5631779335682,
          291.8547955636163,
          292.1373467330862,
          292.38216710700976,
          292.5574205693235,
          292.6356792597883
         ],
         "yaxis": "y"
        },
        {
         "mode": "lines+markers",
         "name": "t=520.0",
         "showlegend": false,
         "type": "scatter",
         "x": [
          520
         ],
         "xaxis": "x2",
         "y": [
          293.15020039318455
         ],
         "yaxis": "y2"
        },
        {
         "mode": "lines+markers",
         "name": "t=530.0",
         "type": "scatter",
         "x": [
          0,
          0.01,
          0.02,
          0.03,
          0.04,
          0.05,
          0.06,
          0.07,
          0.08,
          0.09
         ],
         "xaxis": "x",
         "y": [
          291.1154698621075,
          291.0017483974176,
          291.08715201847565,
          291.2947434490498,
          291.56413283746207,
          291.8543759663114,
          292.13559374888655,
          292.3789455492973,
          292.5529424407988,
          292.6308343597602
         ],
         "yaxis": "y"
        },
        {
         "mode": "lines+markers",
         "name": "t=530.0",
         "showlegend": false,
         "type": "scatter",
         "x": [
          530
         ],
         "xaxis": "x2",
         "y": [
          293.1502063910744
         ],
         "yaxis": "y2"
        },
        {
         "mode": "lines+markers",
         "name": "t=540.0",
         "type": "scatter",
         "x": [
          0,
          0.01,
          0.02,
          0.03,
          0.04,
          0.05,
          0.06,
          0.07,
          0.08,
          0.09
         ],
         "xaxis": "x",
         "y": [
          291.1271085008584,
          291.0109587512179,
          291.0928354949423,
          291.2976296542882,
          291.565111543815,
          291.85395858544695,
          292.1338350376367,
          292.3757341628788,
          292.5485052162622,
          292.62604517303356
         ],
         "yaxis": "y"
        },
        {
         "mode": "lines+markers",
         "name": "t=540.0",
         "showlegend": false,
         "type": "scatter",
         "x": [
          540
         ],
         "xaxis": "x2",
         "y": [
          293.15021244493647
         ],
         "yaxis": "y2"
        },
        {
         "mode": "lines+markers",
         "name": "t=550.0",
         "type": "scatter",
         "x": [
          0,
          0.01,
          0.02,
          0.03,
          0.04,
          0.05,
          0.06,
          0.07,
          0.08,
          0.09
         ],
         "xaxis": "x",
         "y": [
          291.13871796892715,
          291.0201206214047,
          291.0985511371974,
          291.30055655039985,
          291.56611388421464,
          291.8535440462606,
          292.1320716850568,
          292.3725336134588,
          292.5441081692474,
          292.62131011096506
         ],
         "yaxis": "y"
        },
        {
         "mode": "lines+markers",
         "name": "t=550.0",
         "showlegend": false,
         "type": "scatter",
         "x": [
          550
         ],
         "xaxis": "x2",
         "y": [
          293.15021855413426
         ],
         "yaxis": "y2"
        },
        {
         "mode": "lines+markers",
         "name": "t=560.0",
         "type": "scatter",
         "x": [
          0,
          0.01,
          0.02,
          0.03,
          0.04,
          0.05,
          0.06,
          0.07,
          0.08,
          0.09
         ],
         "xaxis": "x",
         "y": [
          291.1500573768261,
          291.0292328493882,
          291.10429573803026,
          291.303522928069,
          291.5671396800775,
          291.8531329581123,
          292.1303047365126,
          292.369344523285,
          292.5397505976964,
          292.6166276692969
         ],
         "yaxis": "y"
        },
        {
         "mode": "lines+markers",
         "name": "t=560.0",
         "showlegend": false,
         "type": "scatter",
         "x": [
          560
         ],
         "xaxis": "x2",
         "y": [
          293.1502247180487
         ],
         "yaxis": "y2"
        },
        {
         "mode": "lines+markers",
         "name": "t=570.0",
         "type": "scatter",
         "x": [
          0,
          0.01,
          0.02,
          0.03,
          0.04,
          0.05,
          0.06,
          0.07,
          0.08,
          0.09
         ],
         "xaxis": "x",
         "y": [
          291.1611471538187,
          291.03828953527153,
          291.1100661170042,
          291.3065275362675,
          291.56818874075867,
          291.8527259136304,
          292.12853519801706,
          292.36616747430605,
          292.53543182355315,
          292.61199642246095
         ],
         "yaxis": "y"
        },
        {
         "mode": "lines+markers",
         "name": "t=570.0",
         "showlegend": false,
         "type": "scatter",
         "x": [
          570
         ],
         "xaxis": "x2",
         "y": [
          293.1502309360782
         ],
         "yaxis": "y2"
        },
        {
         "mode": "lines+markers",
         "name": "t=580.0",
         "type": "scatter",
         "x": [
          0,
          0.01,
          0.02,
          0.03,
          0.04,
          0.05,
          0.06,
          0.07,
          0.08,
          0.09
         ],
         "xaxis": "x",
         "y": [
          291.1720053649064,
          291.0472860136002,
          291.11585908571845,
          291.30956908476014,
          291.56926086207443,
          291.8523234879045,
          292.1267640372371,
          292.3630030110784,
          292.5311511922864,
          292.60741501837003
         ],
         "yaxis": "y"
        },
        {
         "mode": "lines+markers",
         "name": "t=580.0",
         "showlegend": false,
         "type": "scatter",
         "x": [
          580
         ],
         "xaxis": "x2",
         "y": [
          293.15023720763696
         ],
         "yaxis": "y2"
        },
        {
         "mode": "lines+markers",
         "name": "t=590.0",
         "type": "scatter",
         "x": [
          0,
          0.01,
          0.02,
          0.03,
          0.04,
          0.05,
          0.06,
          0.07,
          0.08,
          0.09
         ],
         "xaxis": "x",
         "y": [
          291.1826480303949,
          291.0562186470414,
          291.1216714969195,
          291.31264624772876,
          291.57035582504034,
          291.8519262377339,
          292.1249921845001,
          292.35985164343435,
          292.52690807235683,
          292.6028821736507
         ],
         "yaxis": "y"
        },
        {
         "mode": "lines+markers",
         "name": "t=590.0",
         "showlegend": false,
         "type": "scatter",
         "x": [
          590
         ],
         "xaxis": "x2",
         "y": [
          293.1502435321546
         ],
         "yaxis": "y2"
        },
        {
         "mode": "lines+markers",
         "name": "t=600.0",
         "type": "scatter",
         "x": [
          0,
          0.01,
          0.02,
          0.03,
          0.04,
          0.05,
          0.06,
          0.07,
          0.08,
          0.09
         ],
         "xaxis": "x",
         "y": [
          291.1929992218867,
          291.0650846533709,
          291.12750028105836,
          291.3157576689172,
          291.5714733948897,
          291.85153470093655,
          292.12322053379467,
          292.35671384893544,
          292.52270185464164,
          292.5983966692677
         ],
         "yaxis": "y"
        },
        {
         "mode": "lines+markers",
         "name": "t=600.0",
         "showlegend": false,
         "type": "scatter",
         "x": [
          600
         ],
         "xaxis": "x2",
         "y": [
          293.15024990907517
         ],
         "yaxis": "y2"
        },
        {
         "mode": "lines+markers",
         "name": "t=610.0",
         "type": "scatter",
         "x": [
          0,
          0.01,
          0.02,
          0.03,
          0.04,
          0.05,
          0.06,
          0.07,
          0.08,
          0.09
         ],
         "xaxis": "x",
         "y": [
          291.19981697583603,
          291.07380130972274,
          291.13334126400656,
          291.3189019543941,
          291.57261332028463,
          291.8511493957262,
          292.1214499437583,
          292.35359007512574,
          292.51853195183037,
          292.5939573465041
         ],
         "yaxis": "y"
        },
        {
         "mode": "lines+markers",
         "name": "t=610.0",
         "showlegend": false,
         "type": "scatter",
         "x": [
          610
         ],
         "xaxis": "x2",
         "y": [
          293.1502563378563
         ],
         "yaxis": "y2"
        },
        {
         "mode": "lines+markers",
         "name": "t=620.0",
         "type": "scatter",
         "x": [
          0,
          0.01,
          0.02,
          0.03,
          0.04,
          0.05,
          0.06,
          0.07,
          0.08,
          0.09
         ],
         "xaxis": "x",
         "y": [
          291.20676324880867,
          291.08230931975396,
          291.1391862004315,
          291.32207754277186,
          291.573775329918,
          291.8507708201174,
          292.1196812386425,
          292.35048074160096,
          292.5143977977967,
          292.5895631032618
         ],
         "yaxis": "y"
        },
        {
         "mode": "lines+markers",
         "name": "t=620.0",
         "showlegend": false,
         "type": "scatter",
         "x": [
          620
         ],
         "xaxis": "x2",
         "y": [
          293.1502628179694
         ],
         "yaxis": "y2"
        },
        {
         "mode": "lines+markers",
         "name": "t=630.0",
         "type": "scatter",
         "x": [
          0,
          0.01,
          0.02,
          0.03,
          0.04,
          0.05,
          0.06,
          0.07,
          0.08,
          0.09
         ],
         "xaxis": "x",
         "y": [
          291.2138086999774,
          291.09063222120704,
          291.14502736876915,
          291.3252826302089,
          291.5749591234234,
          291.85039945113795,
          292.11791520925544,
          292.34738624190663,
          292.5102988469581,
          292.58521289064436
         ],
         "yaxis": "y"
        },
        {
         "mode": "lines+markers",
         "name": "t=630.0",
         "showlegend": false,
         "type": "scatter",
         "x": [
          630
         ],
         "xaxis": "x2",
         "y": [
          293.15026934889767
         ],
         "yaxis": "y2"
        },
        {
         "mode": "lines+markers",
         "name": "t=640.0",
         "type": "scatter",
         "x": [
          0,
          0.01,
          0.02,
          0.03,
          0.04,
          0.05,
          0.06,
          0.07,
          0.08,
          0.09
         ],
         "xaxis": "x",
         "y": [
          291.2209286351268,
          291.0987899615981,
          291.1508586108989,
          291.3285152518658,
          291.57616436390805,
          291.85003574375844,
          292.1161526138579,
          292.3443069452838,
          292.5062345736266,
          292.5809057098065
         ],
         "yaxis": "y"
        },
        {
         "mode": "lines+markers",
         "name": "t=640.0",
         "showlegend": false,
         "type": "scatter",
         "x": [
          640
         ],
         "xaxis": "x2",
         "y": [
          293.1502759301367
         ],
         "yaxis": "y2"
        },
        {
         "mode": "lines+markers",
         "name": "t=650.0",
         "type": "scatter",
         "x": [
          0,
          0.01,
          0.02,
          0.03,
          0.04,
          0.05,
          0.06,
          0.07,
          0.08,
          0.09
         ],
         "xaxis": "x",
         "y": [
          291.228102283049,
          291.10679946902036,
          291.15667504180254,
          291.33177335721433,
          291.57739067477746,
          291.84968012971956,
          292.11439417900306,
          292.34124319826805,
          292.50220447135655,
          292.57664060903323
         ],
         "yaxis": "y"
        },
        {
         "mode": "lines+markers",
         "name": "t=650.0",
         "showlegend": false,
         "type": "scatter",
         "x": [
          650
         ],
         "xaxis": "x2",
         "y": [
          293.15028256119325
         ],
         "yaxis": "y2"
        },
        {
         "mode": "lines+markers",
         "name": "t=660.0",
         "type": "scatter",
         "x": [
          0,
          0.01,
          0.02,
          0.03,
          0.04,
          0.05,
          0.06,
          0.07,
          0.08,
          0.09
         ],
         "xaxis": "x",
         "y": [
          291.2351060663637,
          291.1146751311148,
          291.16247281112106,
          291.33505486690694,
          291.57863763971255,
          291.84933301643423,
          292.11264060032073,
          292.3381953261519,
          292.4982080522938,
          292.5724166810383
         ],
         "yaxis": "y"
        },
        {
         "mode": "lines+markers",
         "name": "t=660.0",
         "showlegend": false,
         "type": "scatter",
         "x": [
          660
         ],
         "xaxis": "x2",
         "y": [
          293.1502892415845
         ],
         "yaxis": "y2"
        },
        {
         "mode": "lines+markers",
         "name": "t=670.0",
         "type": "scatter",
         "x": [
          0,
          0.01,
          0.02,
          0.03,
          0.04,
          0.05,
          0.06,
          0.07,
          0.08,
          0.09
         ],
         "xaxis": "x",
         "y": [
          291.23448606960454,
          291.1222448526263,
          291.1682461445482,
          291.3383576846897,
          291.57990480453094,
          291.8489947860663,
          292.1108925432463,
          292.3351636343243,
          292.4942448465293,
          292.5682330604508
         ],
         "yaxis": "y"
        },
        {
         "mode": "lines+markers",
         "name": "t=670.0",
         "showlegend": false,
         "type": "scatter",
         "x": [
          670
         ],
         "xaxis": "x2",
         "y": [
          293.15029597083804
         ],
         "yaxis": "y2"
        },
        {
         "mode": "lines+markers",
         "name": "t=680.0",
         "type": "scatter",
         "x": [
          0,
          0.01,
          0.02,
          0.03,
          0.04,
          0.05,
          0.06,
          0.07,
          0.08,
          0.09
         ],
         "xaxis": "x",
         "y": [
          291.2345741881793,
          291.1293869386255,
          291.1739803602875,
          291.3416794167278,
          291.58119167375816,
          291.84866579474055,
          292.10915064370784,
          292.33214840949415,
          292.4903144014587,
          292.5640889214808
         ],
         "yaxis": "y"
        },
        {
         "mode": "lines+markers",
         "name": "t=680.0",
         "showlegend": false,
         "type": "scatter",
         "x": [
          680
         ],
         "xaxis": "x2",
         "y": [
          293.15030274849187
         ],
         "yaxis": "y2"
        },
        {
         "mode": "lines+markers",
         "name": "t=690.0",
         "type": "scatter",
         "x": [
          0,
          0.01,
          0.02,
          0.03,
          0.04,
          0.05,
          0.06,
          0.07,
          0.08,
          0.09
         ],
         "xaxis": "x",
         "y": [
          291.2352697295709,
          291.13616639952113,
          291.17966221266823,
          291.34501720693663,
          291.5824976943261,
          291.8483463713926,
          292.1074155087614,
          292.32914992080543,
          292.48641628115126,
          292.5599834757463
         ],
         "yaxis": "y"
        },
        {
         "mode": "lines+markers",
         "name": "t=690.0",
         "showlegend": false,
         "type": "scatter",
         "x": [
          690
         ],
         "xaxis": "x2",
         "y": [
          293.15030957409283
         ],
         "yaxis": "y2"
        },
        {
         "mode": "lines+markers",
         "name": "t=700.0",
         "type": "scatter",
         "x": [
          0,
          0.01,
          0.02,
          0.03,
          0.04,
          0.05,
          0.06,
          0.07,
          0.08,
          0.09
         ],
         "xaxis": "x",
         "y": [
          291.2364866389666,
          291.14263784293325,
          291.1852821446498,
          291.34836792325143,
          291.58382224275397,
          291.848036816041,
          292.1056877171527,
          292.32616842085366,
          292.4825500657289,
          292.55591597024636
         ],
         "yaxis": "y"
        },
        {
         "mode": "lines+markers",
         "name": "t=700.0",
         "showlegend": false,
         "type": "scatter",
         "x": [
          700
         ],
         "xaxis": "x2",
         "y": [
          293.1503164471967
         ],
         "yaxis": "y2"
        },
        {
         "mode": "lines+markers",
         "name": "t=710.0",
         "type": "scatter",
         "x": [
          0,
          0.01,
          0.02,
          0.03,
          0.04,
          0.05,
          0.06,
          0.07,
          0.08,
          0.09
         ],
         "xaxis": "x",
         "y": [
          291.2381512941592,
          291.14884714177293,
          291.19083352879437,
          291.3517283251861,
          291.5851646216994,
          291.847737397878,
          292.1039678197913,
          292.32320414660677,
          292.4787153507564,
          292.5518856854655
         ],
         "yaxis": "y"
        },
        {
         "mode": "lines+markers",
         "name": "t=710.0",
         "showlegend": false,
         "type": "scatter",
         "x": [
          710
         ],
         "xaxis": "x2",
         "y": [
          293.15032336736755
         ],
         "yaxis": "y2"
        },
        {
         "mode": "lines+markers",
         "name": "t=720.0",
         "type": "scatter",
         "x": [
          0,
          0.01,
          0.02,
          0.03,
          0.04,
          0.05,
          0.06,
          0.07,
          0.08,
          0.09
         ],
         "xaxis": "x",
         "y": [
          291.2398979032715,
          291.1548328338672,
          291.1963120498353,
          291.3550951860897,
          291.5865240631278,
          291.8474483535545,
          292.1022563401381,
          292.320257320237,
          292.47491174664225,
          292.54789193360494
         ],
         "yaxis": "y"
        },
        {
         "mode": "lines+markers",
         "name": "t=720.0",
         "showlegend": false,
         "type": "scatter",
         "x": [
          720
         ],
         "xaxis": "x2",
         "y": [
          293.1503303341782
         ],
         "yaxis": "y2"
        },
        {
         "mode": "lines+markers",
         "name": "t=730.0",
         "type": "scatter",
         "x": [
          0,
          0.01,
          0.02,
          0.03,
          0.04,
          0.05,
          0.06,
          0.07,
          0.08,
          0.09
         ],
         "xaxis": "x",
         "y": [
          291.2307459950104,
          291.1603565406195,
          291.20171114543774,
          291.3584653354774,
          291.58789973536256,
          291.8471698858689,
          292.10055377452727,
          292.31732814986896,
          292.4711388780528,
          292.54393405692235
         ],
         "yaxis": "y"
        },
        {
         "mode": "lines+markers",
         "name": "t=730.0",
         "showlegend": false,
         "type": "scatter",
         "x": [
          730
         ],
         "xaxis": "x2",
         "y": [
          293.15033734720896
         ],
         "yaxis": "y2"
        },
        {
         "mode": "lines+markers",
         "name": "t=740.0",
         "type": "scatter",
         "x": [
          0,
          0.01,
          0.02,
          0.03,
          0.04,
          0.05,
          0.06,
          0.07,
          0.08,
          0.09
         ],
         "xaxis": "x",
         "y": [
          291.2229046890439,
          291.16525137941187,
          291.20701157892415,
          291.36183526113206,
          291.589290742849,
          291.8469021628152,
          292.09886059244144,
          292.3144168302472,
          292.46739638333844,
          292.540011426176
         ],
         "yaxis": "y"
        },
        {
         "mode": "lines+markers",
         "name": "t=740.0",
         "showlegend": false,
         "type": "scatter",
         "x": [
          740
         ],
         "xaxis": "x2",
         "y": [
          293.1503444060481
         ],
         "yaxis": "y2"
        },
        {
         "mode": "lines+markers",
         "name": "t=750.0",
         "type": "scatter",
         "x": [
          0,
          0.01,
          0.02,
          0.03,
          0.04,
          0.05,
          0.06,
          0.07,
          0.08,
          0.09
         ],
         "xaxis": "x",
         "y": [
          291.21620132905014,
          291.16962257295125,
          291.21219649677226,
          291.3652008737947,
          291.5906961070528,
          291.8466453162691,
          292.0971772367443,
          292.3115235433333,
          292.46368391397147,
          292.5361234391629
         ],
         "yaxis": "y"
        },
        {
         "mode": "lines+markers",
         "name": "t=750.0",
         "showlegend": false,
         "type": "scatter",
         "x": [
          750
         ],
         "xaxis": "x2",
         "y": [
          293.1503515102899
         ],
         "yaxis": "y2"
        },
        {
         "mode": "lines+markers",
         "name": "t=760.0",
         "type": "scatter",
         "x": [
          0,
          0.01,
          0.02,
          0.03,
          0.04,
          0.05,
          0.06,
          0.07,
          0.08,
          0.09
         ],
         "xaxis": "x",
         "y": [
          291.210487840223,
          291.17355829194554,
          291.21725463113194,
          291.36855778161043,
          291.5921147522242,
          291.846399439969,
          292.09550412384095,
          292.3086484588315,
          292.4600011339953,
          292.53226951934374
         ],
         "yaxis": "y"
        },
        {
         "mode": "lines+markers",
         "name": "t=760.0",
         "showlegend": false,
         "type": "scatter",
         "x": [
          760
         ],
         "xaxis": "x2",
         "y": [
          293.1503586595366
         ],
         "yaxis": "y2"
        },
        {
         "mode": "lines+markers",
         "name": "t=770.0",
         "type": "scatter",
         "x": [
          0,
          0.01,
          0.02,
          0.03,
          0.04,
          0.05,
          0.06,
          0.07,
          0.08,
          0.09
         ],
         "xaxis": "x",
         "y": [
          291.2056370603679,
          291.1771323948518,
          291.22217910254506,
          291.37190153304516,
          291.59354550448757,
          291.8461645873544,
          292.0938416437535,
          292.30579173465094,
          292.4563477194864,
          292.52844911454736
         ],
         "yaxis": "y"
        },
        {
         "mode": "lines+markers",
         "name": "t=770.0",
         "showlegend": false,
         "type": "scatter",
         "x": [
          770
         ],
         "xaxis": "x2",
         "y": [
          293.1503658533966
         ],
         "yaxis": "y2"
        },
        {
         "mode": "lines+markers",
         "name": "t=780.0",
         "type": "scatter",
         "x": [
          0,
          0.01,
          0.02,
          0.03,
          0.04,
          0.05,
          0.06,
          0.07,
          0.08,
          0.09
         ],
         "xaxis": "x",
         "y": [
          291.2013979274558,
          291.18040672676665,
          291.22696644953584,
          291.37522779049687,
          291.5949871001042,
          291.8459407697745,
          292.092190160117,
          292.3029535173029,
          292.4527233580257,
          292.52466169574836
         ],
         "yaxis": "y"
        },
        {
         "mode": "lines+markers",
         "name": "t=780.0",
         "showlegend": false,
         "type": "scatter",
         "x": [
          780
         ],
         "xaxis": "x2",
         "y": [
          293.1503730914844
         ],
         "yaxis": "y2"
        },
        {
         "mode": "lines+markers",
         "name": "t=790.0",
         "type": "scatter",
         "x": [
          0,
          0.01,
          0.02,
          0.03,
          0.04,
          0.05,
          0.06,
          0.07,
          0.08,
          0.09
         ],
         "xaxis": "x",
         "y": [
          291.19256177483226,
          291.1833063118767,
          291.23161394474334,
          291.37853242933664,
          291.59643819922894,
          291.8457279553533,
          292.0905500101289,
          292.30013394224017,
          292.4491277481821,
          292.5209067559107
         ],
         "yaxis": "y"
        },
        {
         "mode": "lines+markers",
         "name": "t=790.0",
         "showlegend": false,
         "type": "scatter",
         "x": [
          790
         ],
         "xaxis": "x2",
         "y": [
          293.1503803734206
         ],
         "yaxis": "y2"
        },
        {
         "mode": "lines+markers",
         "name": "t=800.0",
         "type": "scatter",
         "x": [
          0,
          0.01,
          0.02,
          0.03,
          0.04,
          0.05,
          0.06,
          0.07,
          0.08,
          0.09
         ],
         "xaxis": "x",
         "y": [
          291.1847840027935,
          291.1857835979336,
          291.23611427207976,
          291.381811402441,
          291.5978973981746,
          291.84552606857255,
          292.08892150448105,
          292.29733313413914,
          292.4455605990052,
          292.51718380889656
         ],
         "yaxis": "y"
        },
        {
         "mode": "lines+markers",
         "name": "t=800.0",
         "showlegend": false,
         "type": "scatter",
         "x": [
          800
         ],
         "xaxis": "x2",
         "y": [
          293.1503876988317
         ],
         "yaxis": "y2"
        },
        {
         "mode": "lines+markers",
         "name": "t=810.0",
         "type": "scatter",
         "x": [
          0,
          0.01,
          0.02,
          0.03,
          0.04,
          0.05,
          0.06,
          0.07,
          0.08,
          0.09
         ],
         "xaxis": "x",
         "y": [
          291.17793229066103,
          291.1879133304187,
          291.2404622210202,
          291.3850606592951,
          291.599363233518,
          291.8453349902419,
          292.0873049273013,
          292.2945512071336,
          292.4420216295256,
          292.5134923884289
         ],
         "yaxis": "y"
        },
        {
         "mode": "lines+markers",
         "name": "t=810.0",
         "showlegend": false,
         "type": "scatter",
         "x": [
          810
         ],
         "xaxis": "x2",
         "y": [
          293.15039506734956
         ],
         "yaxis": "y2"
        },
        {
         "mode": "lines+markers",
         "name": "t=820.0",
         "type": "scatter",
         "x": [
          0,
          0.01,
          0.02,
          0.03,
          0.04,
          0.05,
          0.06,
          0.07,
          0.08,
          0.09
         ],
         "xaxis": "x",
         "y": [
          291.171892672495,
          291.1897580182721,
          291.24465590363053,
          291.388276287628,
          291.60083418829305,
          291.84515455765575,
          292.0857005361119,
          292.2917882650025,
          292.4385105682667,
          292.50983204710883
         ],
         "yaxis": "y"
        },
        {
         "mode": "lines+markers",
         "name": "t=820.0",
         "showlegend": false,
         "type": "scatter",
         "x": [
          820
         ],
         "xaxis": "x2",
         "y": [
          293.1504024786113
         ],
         "yaxis": "y2"
        },
        {
         "mode": "lines+markers",
         "name": "t=830.0",
         "type": "scatter",
         "x": [
          0,
          0.01,
          0.02,
          0.03,
          0.04,
          0.05,
          0.06,
          0.07,
          0.08,
          0.09
         ],
         "xaxis": "x",
         "y": [
          291.1665668379183,
          291.1913699014454,
          291.2486959706569,
          291.3914546285045,
          291.6023087036475,
          291.8449845651387,
          292.0841085618145,
          292.289044401317,
          292.43502715276344,
          292.50620235547916
         ],
         "yaxis": "y"
        },
        {
         "mode": "lines+markers",
         "name": "t=830.0",
         "showlegend": false,
         "type": "scatter",
         "x": [
          830
         ],
         "xaxis": "x2",
         "y": [
          293.1504099322592
         ],
         "yaxis": "y2"
        },
        {
         "mode": "lines+markers",
         "name": "t=840.0",
         "type": "scatter",
         "x": [
          0,
          0.01,
          0.02,
          0.03,
          0.04,
          0.05,
          0.06,
          0.07,
          0.08,
          0.09
         ],
         "xaxis": "x",
         "y": [
          291.1617474602808,
          291.19279260229587,
          291.2525849813928,
          291.3945923505334,
          291.603785193668,
          291.8448247651365,
          292.0825292087166,
          292.2863196995567,
          292.43157112908796,
          292.5026029011349
         ],
         "yaxis": "y"
        },
        {
         "mode": "lines+markers",
         "name": "t=840.0",
         "showlegend": false,
         "type": "scatter",
         "x": [
          840
         ],
         "xaxis": "x2",
         "y": [
          293.15041742794045
         ],
         "yaxis": "y2"
        },
        {
         "mode": "lines+markers",
         "name": "t=850.0",
         "type": "scatter",
         "x": [
          0,
          0.01,
          0.02,
          0.03,
          0.04,
          0.05,
          0.06,
          0.07,
          0.08,
          0.09
         ],
         "xaxis": "x",
         "y": [
          291.1529439632177,
          291.1939530572866,
          291.25632525870293,
          291.3976864750789,
          291.60526206137484,
          291.8446748699042,
          292.080962654623,
          292.2836142331938,
          292.42814225138585,
          292.4990332878748
         ],
         "yaxis": "y"
        },
        {
         "mode": "lines+markers",
         "name": "t=850.0",
         "showlegend": false,
         "type": "scatter",
         "x": [
          850
         ],
         "xaxis": "x2",
         "y": [
          293.1504249653072
         ],
         "yaxis": "y2"
        },
        {
         "mode": "lines+markers",
         "name": "t=860.0",
         "type": "scatter",
         "x": [
          0,
          0.01,
          0.02,
          0.03,
          0.04,
          0.05,
          0.06,
          0.07,
          0.08,
          0.09
         ],
         "xaxis": "x",
         "y": [
          291.1450469679878,
          291.19480312978027,
          291.2599144358202,
          291.4007342114187,
          291.60673771079104,
          291.8445345537056,
          292.0794090510086,
          292.2809280657582,
          292.42474028141675,
          292.4954931348887
         ],
         "yaxis": "y"
        },
        {
         "mode": "lines+markers",
         "name": "t=860.0",
         "showlegend": false,
         "type": "scatter",
         "x": [
          860
         ],
         "xaxis": "x2",
         "y": [
          293.15043254401576
         ],
         "yaxis": "y2"
        },
        {
         "mode": "lines+markers",
         "name": "t=870.0",
         "type": "scatter",
         "x": [
          0,
          0.01,
          0.02,
          0.03,
          0.04,
          0.05,
          0.06,
          0.07,
          0.08,
          0.09
         ],
         "xaxis": "x",
         "y": [
          291.1379474355775,
          291.19540134999534,
          291.263351357376,
          291.40373284912357,
          291.608210550052,
          291.84440345515156,
          292.0778685232797,
          292.27826125088416,
          292.42136498810584,
          292.49198207598226
         ],
         "yaxis": "y"
        },
        {
         "mode": "lines+markers",
         "name": "t=870.0",
         "showlegend": false,
         "type": "scatter",
         "x": [
          870
         ],
         "xaxis": "x2",
         "y": [
          293.15044016372684
         ],
         "yaxis": "y2"
        },
        {
         "mode": "lines+markers",
         "name": "t=880.0",
         "type": "scatter",
         "x": [
          0,
          0.01,
          0.02,
          0.03,
          0.04,
          0.05,
          0.06,
          0.07,
          0.08,
          0.09
         ],
         "xaxis": "x",
         "y": [
          291.1315511989968,
          291.195796561223,
          291.26663722996835,
          291.4066798507709,
          291.609678994964,
          291.8442811794604,
          292.0763411711175,
          292.2756138323473,
          292.4180161471026,
          292.4884997588338
         ],
         "yaxis": "y"
        },
        {
         "mode": "lines+markers",
         "name": "t=880.0",
         "showlegend": false,
         "type": "scatter",
         "x": [
          880
         ],
         "xaxis": "x2",
         "y": [
          293.15044782410513
         ],
         "yaxis": "y2"
        },
        {
         "mode": "lines+markers",
         "name": "t=890.0",
         "type": "scatter",
         "x": [
          0,
          0.01,
          0.02,
          0.03,
          0.04,
          0.05,
          0.06,
          0.07,
          0.08,
          0.09
         ],
         "xaxis": "x",
         "y": [
          291.1257767949026,
          291.1960294805564,
          291.26977502793994,
          291.4095729282895,
          291.61114147637,
          291.84416730077584,
          292.0748270688938,
          292.2729858440952,
          292.41469354034564,
          292.4850458442804
         ],
         "yaxis": "y"
        },
        {
         "mode": "lines+markers",
         "name": "t=890.0",
         "showlegend": false,
         "type": "scatter",
         "x": [
          890
         ],
         "xaxis": "x2",
         "y": [
          293.1504555248197
         ],
         "yaxis": "y2"
        },
        {
         "mode": "lines+markers",
         "name": "t=900.0",
         "type": "scatter",
         "x": [
          0,
          0.01,
          0.02,
          0.03,
          0.04,
          0.05,
          0.06,
          0.07,
          0.08,
          0.09
         ],
         "xaxis": "x",
         "y": [
          291.1204892112138,
          291.19613400883094,
          291.27276901807846,
          291.41241008926613,
          291.61259644966043,
          291.84406136468266,
          292.0733262661546,
          292.2703773102773,
          292.41139695563976,
          292.48162000563485
         ],
         "yaxis": "y"
        },
        {
         "mode": "lines+markers",
         "name": "t=900.0",
         "showlegend": false,
         "type": "scatter",
         "x": [
          900
         ],
         "xaxis": "x2",
         "y": [
          293.1504632655431
         ],
         "yaxis": "y2"
        },
        {
         "mode": "lines+markers",
         "name": "t=910.0",
         "type": "scatter",
         "x": [
          0,
          0.01,
          0.02,
          0.03,
          0.04,
          0.05,
          0.06,
          0.07,
          0.08,
          0.09
         ],
         "xaxis": "x",
         "y": [
          291.1133023813759,
          291.19608072256074,
          291.2756235178909,
          291.4151896512306,
          291.61404240501173,
          291.8439628909637,
          292.0718387881828,
          292.2677882452759,
          292.40812618623966,
          292.4782219280257
         ],
         "yaxis": "y"
        },
        {
         "mode": "lines+markers",
         "name": "t=910.0",
         "showlegend": false,
         "type": "scatter",
         "x": [
          910
         ],
         "xaxis": "x2",
         "y": [
          293.1504710459519
         ],
         "yaxis": "y2"
        },
        {
         "mode": "lines+markers",
         "name": "t=920.0",
         "type": "scatter",
         "x": [
          0,
          0.01,
          0.02,
          0.03,
          0.04,
          0.05,
          0.06,
          0.07,
          0.08,
          0.09
         ],
         "xaxis": "x",
         "y": [
          291.1067705382738,
          291.1958517175672,
          291.278340464031,
          291.41791015147146,
          291.6154778754193,
          291.8438713765628,
          292.0703646366374,
          292.2652186537427,
          292.4048810304446,
          292.4748513077647
         ],
         "yaxis": "y"
        },
        {
         "mode": "lines+markers",
         "name": "t=920.0",
         "showlegend": false,
         "type": "scatter",
         "x": [
          920
         ],
         "xaxis": "x2",
         "y": [
          293.15047886572626
         ],
         "yaxis": "y2"
        },
        {
         "mode": "lines+markers",
         "name": "t=930.0",
         "type": "scatter",
         "x": [
          0,
          0.01,
          0.02,
          0.03,
          0.04,
          0.05,
          0.06,
          0.07,
          0.08,
          0.09
         ],
         "xaxis": "x",
         "y": [
          291.10081894919824,
          291.1954838907313,
          291.2809224505257,
          291.4205702839055,
          291.6169014397225,
          291.8437862985545,
          292.0689037902708,
          292.2626685306445,
          292.40166129120286,
          292.47150785173704
         ],
         "yaxis": "y"
        },
        {
         "mode": "lines+markers",
         "name": "t=930.0",
         "showlegend": false,
         "type": "scatter",
         "x": [
          930
         ],
         "xaxis": "x2",
         "y": [
          293.1504867245495
         ],
         "yaxis": "y2"
        },
        {
         "mode": "lines+markers",
         "name": "t=940.0",
         "type": "scatter",
         "x": [
          0,
          0.01,
          0.02,
          0.03,
          0.04,
          0.05,
          0.06,
          0.07,
          0.08,
          0.09
         ],
         "xaxis": "x",
         "y": [
          291.09538280855065,
          291.19500792003487,
          291.2833732830318,
          291.42316893939,
          291.61831172548284,
          291.8437071169972,
          292.0674562057154,
          292.2601378613219,
          292.3984667757278,
          292.4681912768122
         ],
         "yaxis": "y"
        },
        {
         "mode": "lines+markers",
         "name": "t=940.0",
         "showlegend": false,
         "type": "scatter",
         "x": [
          940
         ],
         "xaxis": "x2",
         "y": [
          293.15049462210885
         ],
         "yaxis": "y2"
        },
        {
         "mode": "lines+markers",
         "name": "t=950.0",
         "type": "scatter",
         "x": [
          0,
          0.01,
          0.02,
          0.03,
          0.04,
          0.05,
          0.06,
          0.07,
          0.08,
          0.09
         ],
         "xaxis": "x",
         "y": [
          291.09040581066137,
          291.19444926974217,
          291.28569762783604,
          291.42570523622976,
          291.61970741344123,
          291.84363327773355,
          292.06602181832454,
          292.2576266215606,
          292.39529729512304,
          292.46490130927947
         ],
         "yaxis": "y"
        },
        {
         "mode": "lines+markers",
         "name": "t=950.0",
         "showlegend": false,
         "type": "scatter",
         "x": [
          950
         ],
         "xaxis": "x2",
         "y": [
          293.1505025580938
         ],
         "yaxis": "y2"
        },
        {
         "mode": "lines+markers",
         "name": "t=960.0",
         "type": "scatter",
         "x": [
          0,
          0.01,
          0.02,
          0.03,
          0.04,
          0.05,
          0.06,
          0.07,
          0.08,
          0.09
         ],
         "xaxis": "x",
         "y": [
          291.0857938482862,
          291.1938290340918,
          291.28790073387694,
          291.4281785342908,
          291.62108724268177,
          291.8435642151968,
          292.0646005430709,
          292.2551347776789,
          292.3921526640222,
          292.46163768429835
         ],
         "yaxis": "y"
        },
        {
         "mode": "lines+markers",
         "name": "t=960.0",
         "showlegend": false,
         "type": "scatter",
         "x": [
          960
         ],
         "xaxis": "x2",
         "y": [
          293.1505105321979
         ],
         "yaxis": "y2"
        },
        {
         "mode": "lines+markers",
         "name": "t=970.0",
         "type": "scatter",
         "x": [
          0,
          0.01,
          0.02,
          0.03,
          0.04,
          0.05,
          0.06,
          0.07,
          0.08,
          0.09
         ],
         "xaxis": "x",
         "y": [
          291.0798768208214,
          291.1931243201565,
          291.2899876097071,
          291.43058843047623,
          291.6224500157509,
          291.84349935524074,
          292.06319227549136,
          292.25266228663395,
          292.3890327002405,
          292.45840014537333
         ],
         "yaxis": "y"
        },
        {
         "mode": "lines+markers",
         "name": "t=970.0",
         "showlegend": false,
         "type": "scatter",
         "x": [
          970
         ],
         "xaxis": "x2",
         "y": [
          293.1505185441176
         ],
         "yaxis": "y2"
        },
        {
         "mode": "lines+markers",
         "name": "t=980.0",
         "type": "scatter",
         "x": [
          0,
          0.01,
          0.02,
          0.03,
          0.04,
          0.05,
          0.06,
          0.07,
          0.08,
          0.09
         ],
         "xaxis": "x",
         "y": [
          291.0744426334975,
          291.1923205867412,
          291.2919613603864,
          291.43293468414635,
          291.6237946018788,
          291.8434381179598,
          292.0617968926806,
          292.2502090961446,
          292.3859372244374,
          292.4551884438448
         ],
         "yaxis": "y"
        },
        {
         "mode": "lines+markers",
         "name": "t=980.0",
         "showlegend": false,
         "type": "scatter",
         "x": [
          980
         ],
         "xaxis": "x2",
         "y": [
          293.15052659355155
         ],
         "yaxis": "y2"
        },
        {
         "mode": "lines+markers",
         "name": "t=990.0",
         "type": "scatter",
         "x": [
          0,
          0.01,
          0.02,
          0.03,
          0.04,
          0.05,
          0.06,
          0.07,
          0.08,
          0.09
         ],
         "xaxis": "x",
         "y": [
          291.0694387543294,
          291.1914418982187,
          291.29382534722714,
          291.4352171639735,
          291.62511993648394,
          291.8433799203581,
          292.0604142543239,
          292.24777514483526,
          292.38286605979624,
          292.45200233839864
         ],
         "yaxis": "y"
        },
        {
         "mode": "lines+markers",
         "name": "t=990.0",
         "showlegend": false,
         "type": "scatter",
         "x": [
          990
         ],
         "xaxis": "x2",
         "y": [
          293.1505346802021
         ],
         "yaxis": "y2"
        },
        {
         "mode": "lines+markers",
         "name": "t=1000.0",
         "type": "scatter",
         "x": [
          0,
          0.01,
          0.02,
          0.03,
          0.04,
          0.05,
          0.06,
          0.07,
          0.08,
          0.09
         ],
         "xaxis": "x",
         "y": [
          291.064819474014,
          291.1905081740783,
          291.29558360371254,
          291.43743586923233,
          291.6264250204836,
          291.84332417878966,
          292.0590442037581,
          292.2453603623981,
          292.37981903171453,
          292.4488415945925
         ],
         "yaxis": "y"
        },
        {
         "mode": "lines+markers",
         "name": "t=1000.0",
         "showlegend": false,
         "type": "scatter",
         "x": [
          1000
         ],
         "xaxis": "x2",
         "y": [
          293.15054280377393
         ],
         "yaxis": "y2"
        },
        {
         "mode": "lines+markers",
         "name": "t=1010.0",
         "type": "scatter",
         "x": [
          0,
          0.01,
          0.02,
          0.03,
          0.04,
          0.05,
          0.06,
          0.07,
          0.08,
          0.09
         ],
         "xaxis": "x",
         "y": [
          291.06054493568575,
          291.18953586186217,
          291.2972406135047,
          291.4395909458626,
          291.62770892069074,
          291.8432703112261,
          292.0576865690516,
          292.24296466977535,
          292.3767959675112,
          292.4457059844018
         ],
         "yaxis": "y"
        },
        {
         "mode": "lines+markers",
         "name": "t=1010.0",
         "showlegend": false,
         "type": "scatter",
         "x": [
          1010
         ],
         "xaxis": "x2",
         "y": [
          293.1505509639744
         ],
         "yaxis": "y2"
        },
        {
         "mode": "lines+markers",
         "name": "t=1020.0",
         "type": "scatter",
         "x": [
          0,
          0.01,
          0.02,
          0.03,
          0.04,
          0.05,
          0.06,
          0.07,
          0.08,
          0.09
         ],
         "xaxis": "x",
         "y": [
          291.056483691116,
          291.18853850191056,
          291.29880113600706,
          291.4416826923772,
          291.62897077075655,
          291.8432177394007,
          292.05634116409334,
          292.2405879793623,
          292.37379669614603,
          292.4425952857802
         ],
         "yaxis": "y"
        },
        {
         "mode": "lines+markers",
         "name": "t=1020.0",
         "showlegend": false,
         "type": "scatter",
         "x": [
          1020
         ],
         "xaxis": "x2",
         "y": [
          293.1505591605136
         ],
         "yaxis": "y2"
        },
        {
         "mode": "lines+markers",
         "name": "t=1030.0",
         "type": "scatter",
         "x": [
          0,
          0.01,
          0.02,
          0.03,
          0.04,
          0.05,
          0.06,
          0.07,
          0.08,
          0.09
         ],
         "xaxis": "x",
         "y": [
          291.0491180833918,
          291.1874407898756,
          291.3002687753231,
          291.4437115442016,
          291.6302097720888,
          291.8431658908551,
          292.05500778968803,
          292.2382301952262,
          292.37082104795724,
          292.4395092822379
         ],
         "yaxis": "y"
        },
        {
         "mode": "lines+markers",
         "name": "t=1030.0",
         "showlegend": false,
         "type": "scatter",
         "x": [
          1030
         ],
         "xaxis": "x2",
         "y": [
          293.15056739310415
         ],
         "yaxis": "y2"
        },
        {
         "mode": "lines+markers",
         "name": "t=1040.0",
         "type": "scatter",
         "x": [
          0,
          0.01,
          0.02,
          0.03,
          0.04,
          0.05,
          0.06,
          0.07,
          0.08,
          0.09
         ],
         "xaxis": "x",
         "y": [
          291.0423326710895,
          291.1861898553342,
          291.3016426771296,
          291.4456779211064,
          291.6314251914555,
          291.84311420084714,
          292.0536862346529,
          292.2358912133454,
          292.36786885441194,
          292.43644776243656
         ],
         "yaxis": "y"
        },
        {
         "mode": "lines+markers",
         "name": "t=1040.0",
         "showlegend": false,
         "type": "scatter",
         "x": [
          1040
         ],
         "xaxis": "x2",
         "y": [
          293.15057566146083
         ],
         "yaxis": "y2"
        },
        {
         "mode": "lines+markers",
         "name": "t=1050.0",
         "type": "scatter",
         "x": [
          0,
          0.01,
          0.02,
          0.03,
          0.04,
          0.05,
          0.06,
          0.07,
          0.08,
          0.09
         ],
         "xaxis": "x",
         "y": [
          291.03606151440897,
          291.1848193557922,
          291.302922359115,
          291.44758212977484,
          291.6326163518013,
          291.84306211386894,
          292.05237627690525,
          292.23357092186274,
          292.36493994787196,
          292.43341051979974
         ],
         "yaxis": "y"
        },
        {
         "mode": "lines+markers",
         "name": "t=1050.0",
         "showlegend": false,
         "type": "scatter",
         "x": [
          1050
         ],
         "xaxis": "x2",
         "y": [
          293.15058396530145
         ],
         "yaxis": "y2"
        },
        {
         "mode": "lines+markers",
         "name": "t=1060.0",
         "type": "scatter",
         "x": [
          0,
          0.01,
          0.02,
          0.03,
          0.04,
          0.05,
          0.06,
          0.07,
          0.08,
          0.09
         ],
         "xaxis": "x",
         "y": [
          291.03024752061526,
          291.1833572508828,
          291.3041087576243,
          291.4494244319881,
          291.6337826240476,
          291.843009084662,
          292.0510776845212,
          292.23126920135707,
          292.36203416137744,
          292.43039735214006
         ],
         "yaxis": "y"
        },
        {
         "mode": "lines+markers",
         "name": "t=1060.0",
         "showlegend": false,
         "type": "scatter",
         "x": [
          1060
         ],
         "xaxis": "x2",
         "y": [
          293.150592304346
         ],
         "yaxis": "y2"
        },
        {
         "mode": "lines+markers",
         "name": "t=1070.0",
         "type": "scatter",
         "x": [
          0,
          0.01,
          0.02,
          0.03,
          0.04,
          0.05,
          0.06,
          0.07,
          0.08,
          0.09
         ],
         "xaxis": "x",
         "y": [
          291.02484115961266,
          291.18182672569657,
          291.305203869508,
          291.45120510537396,
          291.6349234227361,
          291.8429545789159,
          292.04979021674734,
          292.22898592512354,
          292.35915132844207,
          292.42740806130354
         ],
         "yaxis": "y"
        },
        {
         "mode": "lines+markers",
         "name": "t=1070.0",
         "showlegend": false,
         "type": "scatter",
         "x": [
          1070
         ],
         "xaxis": "x2",
         "y": [
          293.1506006783162
         ],
         "yaxis": "y2"
        },
        {
         "mode": "lines+markers",
         "name": "t=1080.0",
         "type": "scatter",
         "x": [
          0,
          0.01,
          0.02,
          0.03,
          0.04,
          0.05,
          0.06,
          0.07,
          0.08,
          0.09
         ],
         "xaxis": "x",
         "y": [
          291.01978649138306,
          291.1802469654114,
          291.3062104655515,
          291.45292448438175,
          291.636038204322,
          291.84289807381555,
          292.04851362496873,
          292.22672095946825,
          292.35629128286814,
          292.4244424528268
         ],
         "yaxis": "y"
        },
        {
         "mode": "lines+markers",
         "name": "t=1080.0",
         "showlegend": false,
         "type": "scatter",
         "x": [
          1080
         ],
         "xaxis": "x2",
         "y": [
          293.1506090869367
         ],
         "yaxis": "y2"
        },
        {
         "mode": "lines+markers",
         "name": "t=1090.0",
         "type": "scatter",
         "x": [
          0,
          0.01,
          0.02,
          0.03,
          0.04,
          0.05,
          0.06,
          0.07,
          0.08,
          0.09
         ],
         "xaxis": "x",
         "y": [
          291.01458105147213,
          291.1786222836928,
          291.30713168962797,
          291.4545829843104,
          291.63712646710036,
          291.8428390585466,
          292.047247653621,
          292.2244741640068,
          292.35345385857244,
          292.4215003356135
         ],
         "yaxis": "y"
        },
        {
         "mode": "lines+markers",
         "name": "t=1090.0",
         "showlegend": false,
         "type": "scatter",
         "x": [
          1090
         ],
         "xaxis": "x2",
         "y": [
          293.1506175299344
         ],
         "yaxis": "y2"
        },
        {
         "mode": "lines+markers",
         "name": "t=1100.0",
         "type": "scatter",
         "x": [
          0,
          0.01,
          0.02,
          0.03,
          0.04,
          0.05,
          0.06,
          0.07,
          0.08,
          0.09
         ],
         "xaxis": "x",
         "y": [
          291.00971360031207,
          291.17695745213666,
          291.3079704516612,
          291.45618109645346,
          291.6381877516288,
          291.84277703480615,
          292.04599204106023,
          292.222245391972,
          292.3506388894294,
          292.41858152162337
         ],
         "yaxis": "y"
        },
        {
         "mode": "lines+markers",
         "name": "t=1100.0",
         "showlegend": false,
         "type": "scatter",
         "x": [
          1100
         ],
         "xaxis": "x2",
         "y": [
          293.150626007038
         ],
         "yaxis": "y2"
        },
        {
         "mode": "lines+markers",
         "name": "t=1110.0",
         "type": "scatter",
         "x": [
          0,
          0.01,
          0.02,
          0.03,
          0.04,
          0.05,
          0.06,
          0.07,
          0.08,
          0.09
         ],
         "xaxis": "x",
         "y": [
          291.0051498264922,
          291.17526665921815,
          291.3087299403814,
          291.4577193826814,
          291.639221640699,
          291.84271151731804,
          292.04474652039227,
          292.2200344905223,
          292.3478462091265,
          292.4156858255788
         ],
         "yaxis": "y"
        },
        {
         "mode": "lines+markers",
         "name": "t=1110.0",
         "showlegend": false,
         "type": "scatter",
         "x": [
          1110
         ],
         "xaxis": "x2",
         "y": [
          293.1506345179784
         ],
         "yaxis": "y2"
        },
        {
         "mode": "lines+markers",
         "name": "t=1120.0",
         "type": "scatter",
         "x": [
          0,
          0.01,
          0.02,
          0.03,
          0.04,
          0.05,
          0.06,
          0.07,
          0.08,
          0.09
         ],
         "xaxis": "x",
         "y": [
          291.00085974737897,
          291.1735615601406,
          291.3094136602331,
          291.4591984863195,
          291.6402277595457,
          291.84264203433565,
          292.0435108202647,
          292.21784130105493,
          292.34507565103667,
          292.41281306468625
         ],
         "yaxis": "y"
        },
        {
         "mode": "lines+markers",
         "name": "t=1120.0",
         "showlegend": false,
         "type": "scatter",
         "x": [
          1120
         ],
         "xaxis": "x2",
         "y": [
          293.1506430624889
         ],
         "yaxis": "y2"
        },
        {
         "mode": "lines+markers",
         "name": "t=1130.0",
         "type": "scatter",
         "x": [
          0,
          0.01,
          0.02,
          0.03,
          0.04,
          0.05,
          0.06,
          0.07,
          0.08,
          0.09
         ],
         "xaxis": "x",
         "y": [
          290.99681710148104,
          291.1718516908112,
          291.3100253041734,
          291.4606191379094,
          291.6412057764583,
          291.84256812815806,
          292.0422846656254,
          292.2156656595182,
          292.34232704809983,
          292.40996305837234
         ],
         "yaxis": "y"
        },
        {
         "mode": "lines+markers",
         "name": "t=1130.0",
         "showlegend": false,
         "type": "scatter",
         "x": [
          1130
         ],
         "xaxis": "x2",
         "y": [
          293.1506516403048
         ],
         "yaxis": "y2"
        },
        {
         "mode": "lines+markers",
         "name": "t=1140.0",
         "type": "scatter",
         "x": [
          0,
          0.01,
          0.02,
          0.03,
          0.04,
          0.05,
          0.06,
          0.07,
          0.08,
          0.09
         ],
         "xaxis": "x",
         "y": [
          290.9930825668023,
          291.17014481519743,
          291.310568654728,
          291.4619821554908,
          291.6421554034864,
          291.8424893556589,
          292.04106777844794,
          292.2135073967269,
          292.3396002327203,
          292.4071356280342
         ],
         "yaxis": "y"
        },
        {
         "mode": "lines+markers",
         "name": "t=1140.0",
         "showlegend": false,
         "type": "scatter",
         "x": [
          1140
         ],
         "xaxis": "x2",
         "y": [
          293.1506602511633
         ],
         "yaxis": "y2"
        },
        {
         "mode": "lines+markers",
         "name": "t=1150.0",
         "type": "scatter",
         "x": [
          0,
          0.01,
          0.02,
          0.03,
          0.04,
          0.05,
          0.06,
          0.07,
          0.08,
          0.09
         ],
         "xaxis": "x",
         "y": [
          290.99265804542756,
          291.16852210671806,
          291.31104863034824,
          291.46328845335495,
          291.64307639713587,
          291.8424052888338,
          292.0398598784359,
          292.21136633867366,
          292.3368950366766,
          292.40433059680385
         ],
         "yaxis": "y"
        },
        {
         "mode": "lines+markers",
         "name": "t=1150.0",
         "showlegend": false,
         "type": "scatter",
         "x": [
          1150
         ],
         "xaxis": "x2",
         "y": [
          293.15066889480386
         ],
         "yaxis": "y2"
        },
        {
         "mode": "lines+markers",
         "name": "t=1160.0",
         "type": "scatter",
         "x": [
          0,
          0.01,
          0.02,
          0.03,
          0.04,
          0.05,
          0.06,
          0.07,
          0.08,
          0.09
         ],
         "xaxis": "x",
         "y": [
          290.9921358001087,
          291.1670422960898,
          291.31147399964266,
          291.46453916237454,
          291.6439685615293,
          291.84231551539375,
          292.03866068369786,
          292.2092423068421,
          292.33421129104016,
          292.40154778933027
         ],
         "yaxis": "y"
        },
        {
         "mode": "lines+markers",
         "name": "t=1160.0",
         "showlegend": false,
         "type": "scatter",
         "x": [
          1160
         ],
         "xaxis": "x2",
         "y": [
          293.15067757096796
         ],
         "yaxis": "y2"
        },
        {
         "mode": "lines+markers",
         "name": "t=1170.0",
         "type": "scatter",
         "x": [
          0,
          0.01,
          0.02,
          0.03,
          0.04,
          0.05,
          0.06,
          0.07,
          0.08,
          0.09
         ],
         "xaxis": "x",
         "y": [
          290.9915367082427,
          291.16568661772664,
          291.3118530830316,
          291.46573569788364,
          291.6448317568105,
          291.84221963960147,
          292.0374699114107,
          292.20713511851824,
          292.33154882611,
          292.3987870315719
         ],
         "yaxis": "y"
        },
        {
         "mode": "lines+markers",
         "name": "t=1170.0",
         "showlegend": false,
         "type": "scatter",
         "x": [
          1170
         ],
         "xaxis": "x2",
         "y": [
          293.1506862793993
         ],
         "yaxis": "y2"
        },
        {
         "mode": "lines+markers",
         "name": "t=1180.0",
         "type": "scatter",
         "x": [
          0,
          0.01,
          0.02,
          0.03,
          0.04,
          0.05,
          0.06,
          0.07,
          0.08,
          0.09
         ],
         "xaxis": "x",
         "y": [
          290.9908781756622,
          291.1644391537565,
          291.31219276295155,
          291.46687968119943,
          291.64566590594893,
          291.8421172834263,
          292.03628727848104,
          292.20504458709945,
          292.328907471353,
          292.39604815060403
         ],
         "yaxis": "y"
        },
        {
         "mode": "lines+markers",
         "name": "t=1180.0",
         "showlegend": false,
         "type": "scatter",
         "x": [
          1180
         ],
         "xaxis": "x2",
         "y": [
          293.1506950198432
         ],
         "yaxis": "y2"
        },
        {
         "mode": "lines+markers",
         "name": "t=1190.0",
         "type": "scatter",
         "x": [
          0,
          0.01,
          0.02,
          0.03,
          0.04,
          0.05,
          0.06,
          0.07,
          0.08,
          0.09
         ],
         "xaxis": "x",
         "y": [
          290.99017469073254,
          291.1632863820061,
          291.3124987348742,
          291.4679728661421,
          291.64647099743235,
          291.8420080878348,
          292.03511250221834,
          292.20297052240454,
          292.32628705535984,
          292.3933309744389
         ],
         "yaxis": "y"
        },
        {
         "mode": "lines+markers",
         "name": "t=1190.0",
         "showlegend": false,
         "type": "scatter",
         "x": [
          1190
         ],
         "xaxis": "x2",
         "y": [
          293.1507037920472
         ],
         "yaxis": "y2"
        },
        {
         "mode": "lines+markers",
         "name": "t=1200.0",
         "type": "scatter",
         "x": [
          0,
          0.01,
          0.02,
          0.03,
          0.04,
          0.05,
          0.06,
          0.07,
          0.08,
          0.09
         ],
         "xaxis": "x",
         "y": [
          290.98948982005174,
          291.1622167967907,
          291.3127757147931,
          291.46901708226244,
          291.6472470849015,
          291.84189171404563,
          292.03394530101434,
          292.20091273098365,
          292.3236874058075,
          292.3906353318606
         ],
         "yaxis": "y"
        },
        {
         "mode": "lines+markers",
         "name": "t=1200.0",
         "showlegend": false,
         "type": "scatter",
         "x": [
          1200
         ],
         "xaxis": "x2",
         "y": [
          293.1507125957607
         ],
         "yaxis": "y2"
        },
        {
         "mode": "lines+markers",
         "name": "t=1210.0",
         "type": "scatter",
         "x": [
          0,
          0.01,
          0.02,
          0.03,
          0.04,
          0.05,
          0.06,
          0.07,
          0.08,
          0.09
         ],
         "xaxis": "x",
         "y": [
          290.99069335464424,
          291.1612666768105,
          291.3130283014104,
          291.47001419901306,
          291.6479942847188,
          291.8417678446375,
          292.03278539503475,
          292.19887101643116,
          292.3211083494337,
          292.38796105227027
         ],
         "yaxis": "y"
        },
        {
         "mode": "lines+markers",
         "name": "t=1210.0",
         "showlegend": false,
         "type": "scatter",
         "x": [
          1210
         ],
         "xaxis": "x2",
         "y": [
          293.1507214307351
         ],
         "yaxis": "y2"
        },
        {
         "mode": "lines+markers",
         "name": "t=1220.0",
         "type": "scatter",
         "x": [
          0,
          0.01,
          0.02,
          0.03,
          0.04,
          0.05,
          0.06,
          0.07,
          0.08,
          0.09
         ],
         "xaxis": "x",
         "y": [
          290.99170749379886,
          291.1604606816145,
          291.31326282355104,
          291.4709661708221,
          291.64871277379405,
          291.84163618447303,
          292.03163250690494,
          292.1968451796985,
          292.3185497120187,
          292.3853079655446
         ],
         "yaxis": "y"
        },
        {
         "mode": "lines+markers",
         "name": "t=1220.0",
         "showlegend": false,
         "type": "scatter",
         "x": [
          1220
         ],
         "xaxis": "x2",
         "y": [
          293.1507302967236
         ],
         "yaxis": "y2"
        },
        {
         "mode": "lines+markers",
         "name": "t=1230.0",
         "type": "scatter",
         "x": [
          0,
          0.01,
          0.02,
          0.03,
          0.04,
          0.05,
          0.06,
          0.07,
          0.08,
          0.09
         ],
         "xaxis": "x",
         "y": [
          290.9925616304599,
          291.1597776219307,
          291.3134848383682,
          291.47187505934994,
          291.64940278994993,
          291.84149646153537,
          292.03048636238793,
          292.19483501941073,
          292.31601131838084,
          292.38267590190844
         ],
         "yaxis": "y"
        },
        {
         "mode": "lines+markers",
         "name": "t=1230.0",
         "showlegend": false,
         "type": "scatter",
         "x": [
          1230
         ],
         "xaxis": "x2",
         "y": [
          293.1507391934823
         ],
         "yaxis": "y2"
        },
        {
         "mode": "lines+markers",
         "name": "t=1240.0",
         "type": "scatter",
         "x": [
          0,
          0.01,
          0.02,
          0.03,
          0.04,
          0.05,
          0.06,
          0.07,
          0.08,
          0.09
         ],
         "xaxis": "x",
         "y": [
          290.9932807007947,
          291.15919960785106,
          291.3136986378998,
          291.47274297291557,
          291.65006463104265,
          291.8413484277231,
          292.0293466910533,
          292.1928403321831,
          292.3134929923758,
          292.38006469181454
         ],
         "yaxis": "y"
        },
        {
         "mode": "lines+markers",
         "name": "t=1240.0",
         "showlegend": false,
         "type": "scatter",
         "x": [
          1240
         ],
         "xaxis": "x2",
         "y": [
          293.1507481207682
         ],
         "yaxis": "y2"
        },
        {
         "mode": "lines+markers",
         "name": "t=1250.0",
         "type": "scatter",
         "x": [
          0,
          0.01,
          0.02,
          0.03,
          0.04,
          0.05,
          0.06,
          0.07,
          0.08,
          0.09
         ],
         "xaxis": "x",
         "y": [
          290.9938858664824,
          291.158711523561,
          291.3139074965438,
          291.47357201447767,
          291.65069865157915,
          291.8411918595085,
          292.02821322693245,
          292.190860912941,
          292.31099455690935,
          292.3774741658403
         ],
         "yaxis": "y"
        },
        {
         "mode": "lines+markers",
         "name": "t=1250.0",
         "showlegend": false,
         "type": "scatter",
         "x": [
          1250
         ],
         "xaxis": "x2",
         "y": [
          293.1507570783405
         ],
         "yaxis": "y2"
        },
        {
         "mode": "lines+markers",
         "name": "t=1260.0",
         "type": "scatter",
         "x": [
          0,
          0.01,
          0.02,
          0.03,
          0.04,
          0.05,
          0.06,
          0.07,
          0.08,
          0.09
         ],
         "xaxis": "x",
         "y": [
          290.99442729706266,
          291.15830058645236,
          291.314113873229,
          291.4743642439846,
          291.6513052576832,
          291.841026558376,
          292.02708570915485,
          292.1888965552395,
          292.3085158339565,
          292.3749041545912
         ],
         "yaxis": "y"
        },
        {
         "mode": "lines+markers",
         "name": "t=1260.0",
         "showlegend": false,
         "type": "scatter",
         "x": [
          1260
         ],
         "xaxis": "x2",
         "y": [
          293.1507660659607
         ],
         "yaxis": "y2"
        },
        {
         "mode": "lines+markers",
         "name": "t=1270.0",
         "type": "scatter",
         "x": [
          0,
          0.01,
          0.02,
          0.03,
          0.04,
          0.05,
          0.06,
          0.07,
          0.08,
          0.09
         ],
         "xaxis": "x",
         "y": [
          290.996082628298,
          291.1579847808047,
          291.31432000801396,
          291.4751216566791,
          291.65188490114815,
          291.8408523510033,
          292.02596388255796,
          292.18694705158345,
          292.30605664458875,
          292.3723544886182
         ],
         "yaxis": "y"
        },
        {
         "mode": "lines+markers",
         "name": "t=1270.0",
         "showlegend": false,
         "type": "scatter",
         "x": [
          1270
         ],
         "xaxis": "x2",
         "y": [
          293.1507750833919
         ],
         "yaxis": "y2"
        },
        {
         "mode": "lines+markers",
         "name": "t=1280.0",
         "type": "scatter",
         "x": [
          0,
          0.01,
          0.02,
          0.03,
          0.04,
          0.05,
          0.06,
          0.07,
          0.08,
          0.09
         ],
         "xaxis": "x",
         "y": [
          290.99756103266026,
          291.15777558670163,
          291.3145291224331,
          291.47584621400654,
          291.65243807409337,
          291.84066908919397,
          292.02484749825635,
          292.18501219374764,
          292.3036168090121,
          292.36982499834346
         ],
         "yaxis": "y"
        },
        {
         "mode": "lines+markers",
         "name": "t=1280.0",
         "showlegend": false,
         "type": "scatter",
         "x": [
          1280
         ],
         "xaxis": "x2",
         "y": [
          293.1507841303994
         ],
         "yaxis": "y2"
        },
        {
         "mode": "lines+markers",
         "name": "t=1290.0",
         "type": "scatter",
         "x": [
          0,
          0.01,
          0.02,
          0.03,
          0.04,
          0.05,
          0.06,
          0.07,
          0.08,
          0.09
         ],
         "xaxis": "x",
         "y": [
          290.9988876349954,
          291.15765646559873,
          291.3147438918336,
          291.47653986165835,
          291.6529653056874,
          291.84047664965055,
          292.0237363141693,
          292.18309177309396,
          292.30119614661135,
          292.3673155139972
         ],
         "yaxis": "y"
        },
        {
         "mode": "lines+markers",
         "name": "t=1290.0",
         "showlegend": false,
         "type": "scatter",
         "x": [
          1290
         ],
         "xaxis": "x2",
         "y": [
          293.1507932067505
         ],
         "yaxis": "y2"
        },
        {
         "mode": "lines+markers",
         "name": "t=1300.0",
         "type": "scatter",
         "x": [
          0,
          0.01,
          0.02,
          0.03,
          0.04,
          0.05,
          0.06,
          0.07,
          0.08,
          0.09
         ],
         "xaxis": "x",
         "y": [
          291.0000838797365,
          291.157613476348,
          291.314966165017,
          291.4772044967495,
          291.6534671585716,
          291.84027493364783,
          292.02263009550313,
          292.1811855808851,
          292.2987944759999,
          292.3648258655672
         ],
         "yaxis": "y"
        },
        {
         "mode": "lines+markers",
         "name": "t=1300.0",
         "showlegend": false,
         "type": "scatter",
         "x": [
          1300
         ],
         "xaxis": "x2",
         "y": [
          293.1508023122142
         ],
         "yaxis": "y2"
        },
        {
         "mode": "lines+markers",
         "name": "t=1310.0",
         "type": "scatter",
         "x": [
          0,
          0.01,
          0.02,
          0.03,
          0.04,
          0.05,
          0.06,
          0.07,
          0.08,
          0.09
         ],
         "xaxis": "x",
         "y": [
          291.0011680839881,
          291.15763486151576,
          291.3151971405722,
          291.4778419408701,
          291.65394422418564,
          291.8400638665716,
          292.0215286151887,
          292.17929340859314,
          292.29641161508107,
          292.36235588275395
         ],
         "yaxis": "y"
        },
        {
         "mode": "lines+markers",
         "name": "t=1310.0",
         "showlegend": false,
         "type": "scatter",
         "x": [
          1310
         ],
         "xaxis": "x2",
         "y": [
          293.1508114465616
         ],
         "yaxis": "y2"
        },
        {
         "mode": "lines+markers",
         "name": "t=1320.0",
         "type": "scatter",
         "x": [
          0,
          0.01,
          0.02,
          0.03,
          0.04,
          0.05,
          0.06,
          0.07,
          0.08,
          0.09
         ],
         "xaxis": "x",
         "y": [
          291.0021881117362,
          291.15771070005076,
          291.3154375097434,
          291.4784539223643,
          291.6543971175041,
          291.83984339729477,
          292.02043165426693,
          292.17741504820316,
          292.2940473811116,
          292.35990539493775
         ],
         "yaxis": "y"
        },
        {
         "mode": "lines+markers",
         "name": "t=1320.0",
         "showlegend": false,
         "type": "scatter",
         "x": [
          1320
         ],
         "xaxis": "x2",
         "y": [
          293.1508206095657
         ],
         "yaxis": "y2"
        },
        {
         "mode": "lines+markers",
         "name": "t=1330.0",
         "type": "scatter",
         "x": [
          0,
          0.01,
          0.02,
          0.03,
          0.04,
          0.05,
          0.06,
          0.07,
          0.08,
          0.09
         ],
         "xaxis": "x",
         "y": [
          291.004319741713,
          291.15786141941754,
          291.31568800357996,
          291.47904207039664,
          291.6548264716221,
          291.8396134973847,
          292.0193390022236,
          292.175550292506,
          292.2917015907749,
          292.3574742311538
         ],
         "yaxis": "y"
        },
        {
         "mode": "lines+markers",
         "name": "t=1330.0",
         "showlegend": false,
         "type": "scatter",
         "x": [
          1330
         ],
         "xaxis": "x2",
         "y": [
          293.15082980100203
         ],
         "yaxis": "y2"
        },
        {
         "mode": "lines+markers",
         "name": "t=1340.0",
         "type": "scatter",
         "x": [
          0,
          0.01,
          0.02,
          0.03,
          0.04,
          0.05,
          0.06,
          0.07,
          0.08,
          0.09
         ],
         "xaxis": "x",
         "y": [
          291.006270662165,
          291.15810059032896,
          291.3159505520364,
          291.47960795825605,
          291.65523293347906,
          291.83937416017267,
          292.0182504572692,
          292.1736989353855,
          292.289374060258,
          292.3550622200772
         ],
         "yaxis": "y"
        },
        {
         "mode": "lines+markers",
         "name": "t=1340.0",
         "showlegend": false,
         "type": "scatter",
         "x": [
          1340
         ],
         "xaxis": "x2",
         "y": [
          293.1508390206472
         ],
         "yaxis": "y2"
        },
        {
         "mode": "lines+markers",
         "name": "t=1350.0",
         "type": "scatter",
         "x": [
          0,
          0.01,
          0.02,
          0.03,
          0.04,
          0.05,
          0.06,
          0.07,
          0.08,
          0.09
         ],
         "xaxis": "x",
         "y": [
          291.0080648231811,
          291.1584134675366,
          291.3162267218855,
          291.4801531310725,
          291.65561716200745,
          291.8391253997842,
          292.01716582656326,
          292.1718607720924,
          292.2870646053333,
          292.35266919001714
         ],
         "yaxis": "y"
        },
        {
         "mode": "lines+markers",
         "name": "t=1350.0",
         "showlegend": false,
         "type": "scatter",
         "x": [
          1350
         ],
         "xaxis": "x2",
         "y": [
          293.15084826828036
         ],
         "yaxis": "y2"
        },
        {
         "mode": "lines+markers",
         "name": "t=1360.0",
         "type": "scatter",
         "x": [
          0,
          0.01,
          0.02,
          0.03,
          0.04,
          0.05,
          0.06,
          0.07,
          0.08,
          0.09
         ],
         "xaxis": "x",
         "y": [
          291.00972275093676,
          291.1587876522104,
          291.31651740761765,
          291.4806790804856,
          291.6559798262028,
          291.8388672501883,
          292.0160849263885,
          292.1700355995072,
          292.284773041446,
          292.350294968917
         ],
         "yaxis": "y"
        },
        {
         "mode": "lines+markers",
         "name": "t=1360.0",
         "showlegend": false,
         "type": "scatter",
         "x": [
          1360
         ],
         "xaxis": "x2",
         "y": [
          293.1508575436828
         ],
         "yaxis": "y2"
        },
        {
         "mode": "lines+markers",
         "name": "t=1370.0",
         "type": "scatter",
         "x": [
          0,
          0.01,
          0.02,
          0.03,
          0.04,
          0.05,
          0.06,
          0.07,
          0.08,
          0.09
         ],
         "xaxis": "x",
         "y": [
          291.01126205649734,
          291.15921271718315,
          291.316822983758,
          291.48118722342826,
          291.65632160222015,
          291.8385997642305,
          292.0150075822773,
          292.1682232163918,
          292.2824991838051,
          292.34793938436326
         ],
         "yaxis": "y"
        },
        {
         "mode": "lines+markers",
         "name": "t=1370.0",
         "showlegend": false,
         "type": "scatter",
         "x": [
          1370
         ],
         "xaxis": "x2",
         "y": [
          293.1508668466375
         ],
         "yaxis": "y2"
        },
        {
         "mode": "lines+markers",
         "name": "t=1380.0",
         "type": "scatter",
         "x": [
          0,
          0.01,
          0.02,
          0.03,
          0.04,
          0.05,
          0.06,
          0.07,
          0.08,
          0.09
         ],
         "xaxis": "x",
         "y": [
          291.01278804403995,
          291.15967989231484,
          291.31714342765713,
          291.48167888873434,
          291.6566431699215,
          291.838323012615,
          292.0139336290966,
          292.1664234236255,
          292.280242847477,
          292.3456022636015
         ],
         "yaxis": "y"
        },
        {
         "mode": "lines+markers",
         "name": "t=1380.0",
         "showlegend": false,
         "type": "scatter",
         "x": [
          1380
         ],
         "xaxis": "x2",
         "y": [
          293.1508761769293
         ],
         "yaxis": "y2"
        },
        {
         "mode": "lines+markers",
         "name": "t=1390.0",
         "type": "scatter",
         "x": [
          0,
          0.01,
          0.02,
          0.03,
          0.04,
          0.05,
          0.06,
          0.07,
          0.08,
          0.09
         ],
         "xaxis": "x",
         "y": [
          291.0175683964757,
          291.1602624509843,
          291.31747962693277,
          291.48215532295256,
          291.65694520934136,
          291.83803708281977,
          292.01286291108613,
          292.1646360244275,
          292.27800384748264,
          292.3432834335613
         ],
         "yaxis": "y"
        },
        {
         "mode": "lines+markers",
         "name": "t=1390.0",
         "showlegend": false,
         "type": "scatter",
         "x": [
          1390
         ],
         "xaxis": "x2",
         "y": [
          293.1508855343452
         ],
         "yaxis": "y2"
        },
        {
         "mode": "lines+markers",
         "name": "t=1400.0",
         "type": "scatter",
         "x": [
          0,
          0.01,
          0.02,
          0.03,
          0.04,
          0.05,
          0.06,
          0.07,
          0.08,
          0.09
         ],
         "xaxis": "x",
         "y": [
          291.0219637304579,
          291.16101199943796,
          291.3178364435457,
          291.482617823568,
          291.6572284001149,
          291.83774207799814,
          292.0117952818553,
          292.162860824566,
          292.27578199889666,
          292.34098272088397
         ],
         "yaxis": "y"
        },
        {
         "mode": "lines+markers",
         "name": "t=1400.0",
         "showlegend": false,
         "type": "scatter",
         "x": [
          1400
         ],
         "xaxis": "x2",
         "y": [
          293.1508949186745
         ],
         "yaxis": "y2"
        },
        {
         "mode": "lines+markers",
         "name": "t=1410.0",
         "type": "scatter",
         "x": [
          0,
          0.01,
          0.02,
          0.03,
          0.04,
          0.05,
          0.06,
          0.07,
          0.08,
          0.09
         ],
         "xaxis": "x",
         "y": [
          291.0260232488445,
          291.16189878093843,
          291.3182181938826,
          291.4830678207751,
          291.65749342711155,
          291.8374381160949,
          292.010730604344,
          292.16109763255173,
          292.2735771169474,
          292.3386999519602
         ],
         "yaxis": "y"
        },
        {
         "mode": "lines+markers",
         "name": "t=1410.0",
         "showlegend": false,
         "type": "scatter",
         "x": [
          1410
         ],
         "xaxis": "x2",
         "y": [
          293.15090432970817
         ],
         "yaxis": "y2"
        },
        {
         "mode": "lines+markers",
         "name": "t=1420.0",
         "type": "scatter",
         "x": [
          0,
          0.01,
          0.02,
          0.03,
          0.04,
          0.05,
          0.06,
          0.07,
          0.08,
          0.09
         ],
         "xaxis": "x",
         "y": [
          291.02978916782564,
          291.162897858115,
          291.3186276661003,
          291.4835068049813,
          291.6577409850284,
          291.8371253292958,
          292.0096687507631,
          292.15934625981504,
          292.27138901711925,
          292.3364349529701
         ],
         "yaxis": "y"
        },
        {
         "mode": "lines+markers",
         "name": "t=1420.0",
         "showlegend": false,
         "type": "scatter",
         "x": [
          1420
         ],
         "xaxis": "x2",
         "y": [
          293.1509137672394
         ],
         "yaxis": "y2"
        },
        {
         "mode": "lines+markers",
         "name": "t=1430.0",
         "type": "scatter",
         "x": [
          0,
          0.01,
          0.02,
          0.03,
          0.04,
          0.05,
          0.06,
          0.07,
          0.08,
          0.09
         ],
         "xaxis": "x",
         "y": [
          291.0332977575247,
          291.16398833909034,
          291.31906645300404,
          291.48393626173896,
          291.6579717793037,
          291.8368038636416,
          292.0086096025294,
          292.1576065208717,
          292.26921751525447,
          292.3341875499305
         ],
         "yaxis": "y"
        },
        {
         "mode": "lines+markers",
         "name": "t=1430.0",
         "showlegend": false,
         "type": "scatter",
         "x": [
          1430
         ],
         "xaxis": "x2",
         "y": [
          293.15092323106285
         ],
         "yaxis": "y2"
        }
       ],
       "layout": {
        "annotations": [
         {
          "font": {
           "size": 16
          },
          "showarrow": false,
          "text": "Wall Temps",
          "x": 0.225,
          "xanchor": "center",
          "xref": "paper",
          "y": 1,
          "yanchor": "bottom",
          "yref": "paper"
         },
         {
          "font": {
           "size": 16
          },
          "showarrow": false,
          "text": "Room Temp",
          "x": 0.775,
          "xanchor": "center",
          "xref": "paper",
          "y": 1,
          "yanchor": "bottom",
          "yref": "paper"
         }
        ],
        "template": {
         "data": {
          "bar": [
           {
            "error_x": {
             "color": "#2a3f5f"
            },
            "error_y": {
             "color": "#2a3f5f"
            },
            "marker": {
             "line": {
              "color": "#E5ECF6",
              "width": 0.5
             },
             "pattern": {
              "fillmode": "overlay",
              "size": 10,
              "solidity": 0.2
             }
            },
            "type": "bar"
           }
          ],
          "barpolar": [
           {
            "marker": {
             "line": {
              "color": "#E5ECF6",
              "width": 0.5
             },
             "pattern": {
              "fillmode": "overlay",
              "size": 10,
              "solidity": 0.2
             }
            },
            "type": "barpolar"
           }
          ],
          "carpet": [
           {
            "aaxis": {
             "endlinecolor": "#2a3f5f",
             "gridcolor": "white",
             "linecolor": "white",
             "minorgridcolor": "white",
             "startlinecolor": "#2a3f5f"
            },
            "baxis": {
             "endlinecolor": "#2a3f5f",
             "gridcolor": "white",
             "linecolor": "white",
             "minorgridcolor": "white",
             "startlinecolor": "#2a3f5f"
            },
            "type": "carpet"
           }
          ],
          "choropleth": [
           {
            "colorbar": {
             "outlinewidth": 0,
             "ticks": ""
            },
            "type": "choropleth"
           }
          ],
          "contour": [
           {
            "colorbar": {
             "outlinewidth": 0,
             "ticks": ""
            },
            "colorscale": [
             [
              0,
              "#0d0887"
             ],
             [
              0.1111111111111111,
              "#46039f"
             ],
             [
              0.2222222222222222,
              "#7201a8"
             ],
             [
              0.3333333333333333,
              "#9c179e"
             ],
             [
              0.4444444444444444,
              "#bd3786"
             ],
             [
              0.5555555555555556,
              "#d8576b"
             ],
             [
              0.6666666666666666,
              "#ed7953"
             ],
             [
              0.7777777777777778,
              "#fb9f3a"
             ],
             [
              0.8888888888888888,
              "#fdca26"
             ],
             [
              1,
              "#f0f921"
             ]
            ],
            "type": "contour"
           }
          ],
          "contourcarpet": [
           {
            "colorbar": {
             "outlinewidth": 0,
             "ticks": ""
            },
            "type": "contourcarpet"
           }
          ],
          "heatmap": [
           {
            "colorbar": {
             "outlinewidth": 0,
             "ticks": ""
            },
            "colorscale": [
             [
              0,
              "#0d0887"
             ],
             [
              0.1111111111111111,
              "#46039f"
             ],
             [
              0.2222222222222222,
              "#7201a8"
             ],
             [
              0.3333333333333333,
              "#9c179e"
             ],
             [
              0.4444444444444444,
              "#bd3786"
             ],
             [
              0.5555555555555556,
              "#d8576b"
             ],
             [
              0.6666666666666666,
              "#ed7953"
             ],
             [
              0.7777777777777778,
              "#fb9f3a"
             ],
             [
              0.8888888888888888,
              "#fdca26"
             ],
             [
              1,
              "#f0f921"
             ]
            ],
            "type": "heatmap"
           }
          ],
          "heatmapgl": [
           {
            "colorbar": {
             "outlinewidth": 0,
             "ticks": ""
            },
            "colorscale": [
             [
              0,
              "#0d0887"
             ],
             [
              0.1111111111111111,
              "#46039f"
             ],
             [
              0.2222222222222222,
              "#7201a8"
             ],
             [
              0.3333333333333333,
              "#9c179e"
             ],
             [
              0.4444444444444444,
              "#bd3786"
             ],
             [
              0.5555555555555556,
              "#d8576b"
             ],
             [
              0.6666666666666666,
              "#ed7953"
             ],
             [
              0.7777777777777778,
              "#fb9f3a"
             ],
             [
              0.8888888888888888,
              "#fdca26"
             ],
             [
              1,
              "#f0f921"
             ]
            ],
            "type": "heatmapgl"
           }
          ],
          "histogram": [
           {
            "marker": {
             "pattern": {
              "fillmode": "overlay",
              "size": 10,
              "solidity": 0.2
             }
            },
            "type": "histogram"
           }
          ],
          "histogram2d": [
           {
            "colorbar": {
             "outlinewidth": 0,
             "ticks": ""
            },
            "colorscale": [
             [
              0,
              "#0d0887"
             ],
             [
              0.1111111111111111,
              "#46039f"
             ],
             [
              0.2222222222222222,
              "#7201a8"
             ],
             [
              0.3333333333333333,
              "#9c179e"
             ],
             [
              0.4444444444444444,
              "#bd3786"
             ],
             [
              0.5555555555555556,
              "#d8576b"
             ],
             [
              0.6666666666666666,
              "#ed7953"
             ],
             [
              0.7777777777777778,
              "#fb9f3a"
             ],
             [
              0.8888888888888888,
              "#fdca26"
             ],
             [
              1,
              "#f0f921"
             ]
            ],
            "type": "histogram2d"
           }
          ],
          "histogram2dcontour": [
           {
            "colorbar": {
             "outlinewidth": 0,
             "ticks": ""
            },
            "colorscale": [
             [
              0,
              "#0d0887"
             ],
             [
              0.1111111111111111,
              "#46039f"
             ],
             [
              0.2222222222222222,
              "#7201a8"
             ],
             [
              0.3333333333333333,
              "#9c179e"
             ],
             [
              0.4444444444444444,
              "#bd3786"
             ],
             [
              0.5555555555555556,
              "#d8576b"
             ],
             [
              0.6666666666666666,
              "#ed7953"
             ],
             [
              0.7777777777777778,
              "#fb9f3a"
             ],
             [
              0.8888888888888888,
              "#fdca26"
             ],
             [
              1,
              "#f0f921"
             ]
            ],
            "type": "histogram2dcontour"
           }
          ],
          "mesh3d": [
           {
            "colorbar": {
             "outlinewidth": 0,
             "ticks": ""
            },
            "type": "mesh3d"
           }
          ],
          "parcoords": [
           {
            "line": {
             "colorbar": {
              "outlinewidth": 0,
              "ticks": ""
             }
            },
            "type": "parcoords"
           }
          ],
          "pie": [
           {
            "automargin": true,
            "type": "pie"
           }
          ],
          "scatter": [
           {
            "fillpattern": {
             "fillmode": "overlay",
             "size": 10,
             "solidity": 0.2
            },
            "type": "scatter"
           }
          ],
          "scatter3d": [
           {
            "line": {
             "colorbar": {
              "outlinewidth": 0,
              "ticks": ""
             }
            },
            "marker": {
             "colorbar": {
              "outlinewidth": 0,
              "ticks": ""
             }
            },
            "type": "scatter3d"
           }
          ],
          "scattercarpet": [
           {
            "marker": {
             "colorbar": {
              "outlinewidth": 0,
              "ticks": ""
             }
            },
            "type": "scattercarpet"
           }
          ],
          "scattergeo": [
           {
            "marker": {
             "colorbar": {
              "outlinewidth": 0,
              "ticks": ""
             }
            },
            "type": "scattergeo"
           }
          ],
          "scattergl": [
           {
            "marker": {
             "colorbar": {
              "outlinewidth": 0,
              "ticks": ""
             }
            },
            "type": "scattergl"
           }
          ],
          "scattermapbox": [
           {
            "marker": {
             "colorbar": {
              "outlinewidth": 0,
              "ticks": ""
             }
            },
            "type": "scattermapbox"
           }
          ],
          "scatterpolar": [
           {
            "marker": {
             "colorbar": {
              "outlinewidth": 0,
              "ticks": ""
             }
            },
            "type": "scatterpolar"
           }
          ],
          "scatterpolargl": [
           {
            "marker": {
             "colorbar": {
              "outlinewidth": 0,
              "ticks": ""
             }
            },
            "type": "scatterpolargl"
           }
          ],
          "scatterternary": [
           {
            "marker": {
             "colorbar": {
              "outlinewidth": 0,
              "ticks": ""
             }
            },
            "type": "scatterternary"
           }
          ],
          "surface": [
           {
            "colorbar": {
             "outlinewidth": 0,
             "ticks": ""
            },
            "colorscale": [
             [
              0,
              "#0d0887"
             ],
             [
              0.1111111111111111,
              "#46039f"
             ],
             [
              0.2222222222222222,
              "#7201a8"
             ],
             [
              0.3333333333333333,
              "#9c179e"
             ],
             [
              0.4444444444444444,
              "#bd3786"
             ],
             [
              0.5555555555555556,
              "#d8576b"
             ],
             [
              0.6666666666666666,
              "#ed7953"
             ],
             [
              0.7777777777777778,
              "#fb9f3a"
             ],
             [
              0.8888888888888888,
              "#fdca26"
             ],
             [
              1,
              "#f0f921"
             ]
            ],
            "type": "surface"
           }
          ],
          "table": [
           {
            "cells": {
             "fill": {
              "color": "#EBF0F8"
             },
             "line": {
              "color": "white"
             }
            },
            "header": {
             "fill": {
              "color": "#C8D4E3"
             },
             "line": {
              "color": "white"
             }
            },
            "type": "table"
           }
          ]
         },
         "layout": {
          "annotationdefaults": {
           "arrowcolor": "#2a3f5f",
           "arrowhead": 0,
           "arrowwidth": 1
          },
          "autotypenumbers": "strict",
          "coloraxis": {
           "colorbar": {
            "outlinewidth": 0,
            "ticks": ""
           }
          },
          "colorscale": {
           "diverging": [
            [
             0,
             "#8e0152"
            ],
            [
             0.1,
             "#c51b7d"
            ],
            [
             0.2,
             "#de77ae"
            ],
            [
             0.3,
             "#f1b6da"
            ],
            [
             0.4,
             "#fde0ef"
            ],
            [
             0.5,
             "#f7f7f7"
            ],
            [
             0.6,
             "#e6f5d0"
            ],
            [
             0.7,
             "#b8e186"
            ],
            [
             0.8,
             "#7fbc41"
            ],
            [
             0.9,
             "#4d9221"
            ],
            [
             1,
             "#276419"
            ]
           ],
           "sequential": [
            [
             0,
             "#0d0887"
            ],
            [
             0.1111111111111111,
             "#46039f"
            ],
            [
             0.2222222222222222,
             "#7201a8"
            ],
            [
             0.3333333333333333,
             "#9c179e"
            ],
            [
             0.4444444444444444,
             "#bd3786"
            ],
            [
             0.5555555555555556,
             "#d8576b"
            ],
            [
             0.6666666666666666,
             "#ed7953"
            ],
            [
             0.7777777777777778,
             "#fb9f3a"
            ],
            [
             0.8888888888888888,
             "#fdca26"
            ],
            [
             1,
             "#f0f921"
            ]
           ],
           "sequentialminus": [
            [
             0,
             "#0d0887"
            ],
            [
             0.1111111111111111,
             "#46039f"
            ],
            [
             0.2222222222222222,
             "#7201a8"
            ],
            [
             0.3333333333333333,
             "#9c179e"
            ],
            [
             0.4444444444444444,
             "#bd3786"
            ],
            [
             0.5555555555555556,
             "#d8576b"
            ],
            [
             0.6666666666666666,
             "#ed7953"
            ],
            [
             0.7777777777777778,
             "#fb9f3a"
            ],
            [
             0.8888888888888888,
             "#fdca26"
            ],
            [
             1,
             "#f0f921"
            ]
           ]
          },
          "colorway": [
           "#636efa",
           "#EF553B",
           "#00cc96",
           "#ab63fa",
           "#FFA15A",
           "#19d3f3",
           "#FF6692",
           "#B6E880",
           "#FF97FF",
           "#FECB52"
          ],
          "font": {
           "color": "#2a3f5f"
          },
          "geo": {
           "bgcolor": "white",
           "lakecolor": "white",
           "landcolor": "#E5ECF6",
           "showlakes": true,
           "showland": true,
           "subunitcolor": "white"
          },
          "hoverlabel": {
           "align": "left"
          },
          "hovermode": "closest",
          "mapbox": {
           "style": "light"
          },
          "paper_bgcolor": "white",
          "plot_bgcolor": "#E5ECF6",
          "polar": {
           "angularaxis": {
            "gridcolor": "white",
            "linecolor": "white",
            "ticks": ""
           },
           "bgcolor": "#E5ECF6",
           "radialaxis": {
            "gridcolor": "white",
            "linecolor": "white",
            "ticks": ""
           }
          },
          "scene": {
           "xaxis": {
            "backgroundcolor": "#E5ECF6",
            "gridcolor": "white",
            "gridwidth": 2,
            "linecolor": "white",
            "showbackground": true,
            "ticks": "",
            "zerolinecolor": "white"
           },
           "yaxis": {
            "backgroundcolor": "#E5ECF6",
            "gridcolor": "white",
            "gridwidth": 2,
            "linecolor": "white",
            "showbackground": true,
            "ticks": "",
            "zerolinecolor": "white"
           },
           "zaxis": {
            "backgroundcolor": "#E5ECF6",
            "gridcolor": "white",
            "gridwidth": 2,
            "linecolor": "white",
            "showbackground": true,
            "ticks": "",
            "zerolinecolor": "white"
           }
          },
          "shapedefaults": {
           "line": {
            "color": "#2a3f5f"
           }
          },
          "ternary": {
           "aaxis": {
            "gridcolor": "white",
            "linecolor": "white",
            "ticks": ""
           },
           "baxis": {
            "gridcolor": "white",
            "linecolor": "white",
            "ticks": ""
           },
           "bgcolor": "#E5ECF6",
           "caxis": {
            "gridcolor": "white",
            "linecolor": "white",
            "ticks": ""
           }
          },
          "title": {
           "x": 0.05
          },
          "xaxis": {
           "automargin": true,
           "gridcolor": "white",
           "linecolor": "white",
           "ticks": "",
           "title": {
            "standoff": 15
           },
           "zerolinecolor": "white",
           "zerolinewidth": 2
          },
          "yaxis": {
           "automargin": true,
           "gridcolor": "white",
           "linecolor": "white",
           "ticks": "",
           "title": {
            "standoff": 15
           },
           "zerolinecolor": "white",
           "zerolinewidth": 2
          }
         }
        },
        "xaxis": {
         "anchor": "y",
         "domain": [
          0,
          0.45
         ],
         "title": {
          "text": "Wall Nodes Distance"
         }
        },
        "xaxis2": {
         "anchor": "y2",
         "domain": [
          0.55,
          1
         ],
         "title": {
          "text": "Time (s)"
         }
        },
        "yaxis": {
         "anchor": "x",
         "domain": [
          0,
          1
         ],
         "title": {
          "text": "Temperature (K )"
         }
        },
        "yaxis2": {
         "anchor": "x2",
         "domain": [
          0,
          1
         ]
        }
       }
      }
     },
     "metadata": {},
     "output_type": "display_data"
    }
   ],
   "source": [
    "fig = make_subplots(rows=1, cols=2, shared_yaxes=False, subplot_titles=(\"Wall Temps\", \"Room Temp\"))\n",
    "\n",
    "\n",
    "\n",
    "cix=0\n",
    "for ix_time, x_at_time in enumerate(v1.all_wall_temps):\n",
    "    if ix_time%(10*4)== 0:\n",
    "        fig.add_trace(go.Scatter(x=v1.twall.x_vals, y=x_at_time, mode='lines+markers', name=f\"t={times[ix_time]}\", ), row = 1, col = 1)\n",
    "\n",
    "\n",
    "        fig.add_trace(go.Scatter(x=[times[ix_time]], y=[temps[ix_time]], mode='lines+markers', name=f\"t={times[ix_time]}\", showlegend=False, ), row = 1, col = 2)\n",
    "        cix+=1\n",
    "\n",
    "fig['layout']['yaxis']['title']='Temperature (K )'\n",
    "fig['layout']['xaxis']['title']='Wall Nodes Distance'\n",
    "fig['layout']['xaxis2']['title']='Time (s)'\n",
    "fig.show()"
   ]
  }
 ],
 "metadata": {
  "kernelspec": {
   "display_name": "localwindowsenv",
   "language": "python",
   "name": "python3"
  },
  "language_info": {
   "codemirror_mode": {
    "name": "ipython",
    "version": 3
   },
   "file_extension": ".py",
   "mimetype": "text/x-python",
   "name": "python",
   "nbconvert_exporter": "python",
   "pygments_lexer": "ipython3",
   "version": "3.9.15"
  },
  "orig_nbformat": 4
 },
 "nbformat": 4,
 "nbformat_minor": 2
}
