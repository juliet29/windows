{
 "cells": [
  {
   "cell_type": "code",
   "execution_count": 12,
   "metadata": {},
   "outputs": [],
   "source": [
    "import sys\n",
    "sys.path.insert(0, \"../scripts\")\n",
    "import vavg_indoor_air as v\n",
    "import wall_cond as w\n",
    "import helpers as h\n",
    "\n",
    "from sympy import * \n",
    "from spb import *\n",
    "\n",
    "import numpy as np\n",
    "import pandas as pd\n",
    "\n",
    "import plotly.express as px\n",
    "import plotly.graph_objects as go\n",
    "from plotly.subplots import make_subplots\n",
    "import plotly as plotly\n",
    "\n",
    "from icecream import ic"
   ]
  },
  {
   "cell_type": "code",
   "execution_count": 13,
   "metadata": {},
   "outputs": [],
   "source": [
    "v1 = v.VavgIndoorAir(v.PhysicalConstants(), n_mins=60*24*3) #extend to 1 day "
   ]
  },
  {
   "cell_type": "code",
   "execution_count": 14,
   "metadata": {},
   "outputs": [
    {
     "data": {
      "text/plain": [
       "4320"
      ]
     },
     "execution_count": 14,
     "metadata": {},
     "output_type": "execute_result"
    }
   ],
   "source": [
    "60*24*3"
   ]
  },
  {
   "cell_type": "code",
   "execution_count": 15,
   "metadata": {},
   "outputs": [
    {
     "data": {
      "text/plain": [
       "17280"
      ]
     },
     "execution_count": 15,
     "metadata": {},
     "output_type": "execute_result"
    }
   ],
   "source": [
    "len(v1.twall.ext_temps)"
   ]
  },
  {
   "cell_type": "code",
   "execution_count": 16,
   "metadata": {},
   "outputs": [
    {
     "data": {
      "text/plain": [
       "6.0"
      ]
     },
     "execution_count": 16,
     "metadata": {},
     "output_type": "execute_result"
    }
   ],
   "source": [
    "len(v1.times)/2880"
   ]
  },
  {
   "cell_type": "code",
   "execution_count": 17,
   "metadata": {},
   "outputs": [
    {
     "data": {
      "text/plain": [
       "17280"
      ]
     },
     "execution_count": 17,
     "metadata": {},
     "output_type": "execute_result"
    }
   ],
   "source": [
    "v1.twall.N"
   ]
  },
  {
   "cell_type": "code",
   "execution_count": 34,
   "metadata": {},
   "outputs": [],
   "source": [
    "def make_colors(min_interv):\n",
    "    n_colors = len([ix_time for ix_time,_ in enumerate(v1.all_wall_temps) if ix_time%(min_interv*4)==0]) + 1\n",
    "\n",
    "    colors = px.colors.sample_colorscale(\"aggrnyl\", [n/(n_colors -1) for n in range(n_colors)])\n",
    "\n",
    "    colors2 = px.colors.sample_colorscale(\"agsunset\", [n/(n_colors -1) for n in range(n_colors)])\n",
    "\n",
    "    # print(len(colors))\n",
    "\n",
    "    return colors, colors2\n",
    "\n",
    "str_names = \"%a-%I %p\""
   ]
  },
  {
   "cell_type": "code",
   "execution_count": 68,
   "metadata": {},
   "outputs": [],
   "source": [
    "v1.twall.pc.h_ext = 50\n",
    "\n",
    "v1.twall.pc.h_int = 2\n",
    "\n",
    "v1.twall.pc.k = 0.8"
   ]
  },
  {
   "cell_type": "code",
   "execution_count": 69,
   "metadata": {},
   "outputs": [],
   "source": [
    "times, temps = v1.calc_transient_indoor_air()"
   ]
  },
  {
   "cell_type": "code",
   "execution_count": 70,
   "metadata": {},
   "outputs": [
    {
     "data": {
      "application/vnd.plotly.v1+json": {
       "config": {
        "plotlyServerURL": "https://plotly.com"
       },
       "data": [
        {
         "legendgroup": "Wed-09 AM",
         "line": {
          "color": "rgb(36, 86, 104)"
         },
         "mode": "lines+markers",
         "name": "Wed-09 AM",
         "showlegend": false,
         "type": "scatter",
         "x": [
          "Wed-09 AM"
         ],
         "xaxis": "x",
         "y": [
          290.26111111111106
         ],
         "yaxis": "y"
        },
        {
         "legendgroup": "Wed-09 AM",
         "line": {
          "color": "rgb(36, 86, 104)"
         },
         "mode": "lines+markers",
         "name": "Wed-09 AM",
         "showlegend": true,
         "type": "scatter",
         "x": [
          0,
          0.01,
          0.02,
          0.03,
          0.04,
          0.05,
          0.06,
          0.07,
          0.08,
          0.09
         ],
         "xaxis": "x2",
         "y": [
          290.2618554303095,
          290.5820987654321,
          290.90308641975304,
          291.2240740740741,
          291.54506172839507,
          291.866049382716,
          292.187037037037,
          292.508024691358,
          292.82901234567896,
          293.14925568080156
         ],
         "yaxis": "y2"
        },
        {
         "legendgroup": "Wed-09 AM",
         "line": {
          "color": "rgb(36, 86, 104)"
         },
         "mode": "lines+markers",
         "name": "Wed-09 AM",
         "showlegend": false,
         "type": "scatter",
         "x": [
          "Wed-09 AM"
         ],
         "xaxis": "x3",
         "y": [
          293.15
         ],
         "yaxis": "y3"
        },
        {
         "legendgroup": "Wed-11 AM",
         "line": {
          "color": "rgb(32, 91, 107)"
         },
         "mode": "lines+markers",
         "name": "Wed-11 AM",
         "showlegend": false,
         "type": "scatter",
         "x": [
          "Wed-11 AM"
         ],
         "xaxis": "x",
         "y": [
          292.81666666666666
         ],
         "yaxis": "y"
        },
        {
         "legendgroup": "Wed-11 AM",
         "line": {
          "color": "rgb(32, 91, 107)"
         },
         "mode": "lines+markers",
         "name": "Wed-11 AM",
         "showlegend": true,
         "type": "scatter",
         "x": [
          0,
          0.01,
          0.02,
          0.03,
          0.04,
          0.05,
          0.06,
          0.07,
          0.08,
          0.09
         ],
         "xaxis": "x2",
         "y": [
          290.77993757062376,
          290.6699368998167,
          290.91455801107986,
          291.2253374857152,
          291.54517282859047,
          291.8659414081292,
          292.1859192952821,
          292.4993888825036,
          292.7769152975794,
          292.9196074193376
         ],
         "yaxis": "y2"
        },
        {
         "legendgroup": "Wed-11 AM",
         "line": {
          "color": "rgb(32, 91, 107)"
         },
         "mode": "lines+markers",
         "name": "Wed-11 AM",
         "showlegend": false,
         "type": "scatter",
         "x": [
          "Wed-11 AM"
         ],
         "xaxis": "x3",
         "y": [
          293.14999083572087
         ],
         "yaxis": "y3"
        },
        {
         "legendgroup": "Wed-01 PM",
         "line": {
          "color": "rgb(29, 95, 110)"
         },
         "mode": "lines+markers",
         "name": "Wed-01 PM",
         "showlegend": false,
         "type": "scatter",
         "x": [
          "Wed-01 PM"
         ],
         "xaxis": "x",
         "y": [
          293.81666666666666
         ],
         "yaxis": "y"
        },
        {
         "legendgroup": "Wed-01 PM",
         "line": {
          "color": "rgb(29, 95, 110)"
         },
         "mode": "lines+markers",
         "name": "Wed-01 PM",
         "showlegend": true,
         "type": "scatter",
         "x": [
          0,
          0.01,
          0.02,
          0.03,
          0.04,
          0.05,
          0.06,
          0.07,
          0.08,
          0.09
         ],
         "xaxis": "x2",
         "y": [
          291.55226833605195,
          290.9735622651125,
          290.99647354584016,
          291.24252143830284,
          291.547905897886,
          291.86476606030715,
          292.17829601035413,
          292.4709165028212,
          292.70100013844575,
          292.7986545906055
         ],
         "yaxis": "y2"
        },
        {
         "legendgroup": "Wed-01 PM",
         "line": {
          "color": "rgb(29, 95, 110)"
         },
         "mode": "lines+markers",
         "name": "Wed-01 PM",
         "showlegend": false,
         "type": "scatter",
         "x": [
          "Wed-01 PM"
         ],
         "xaxis": "x3",
         "y": [
          293.14997029212884
         ],
         "yaxis": "y3"
        },
        {
         "legendgroup": "Wed-03 PM",
         "line": {
          "color": "rgb(26, 100, 112)"
         },
         "mode": "lines+markers",
         "name": "Wed-03 PM",
         "showlegend": false,
         "type": "scatter",
         "x": [
          "Wed-03 PM"
         ],
         "xaxis": "x",
         "y": [
          294.5388888888889
         ],
         "yaxis": "y"
        },
        {
         "legendgroup": "Wed-03 PM",
         "line": {
          "color": "rgb(26, 100, 112)"
         },
         "mode": "lines+markers",
         "name": "Wed-03 PM",
         "showlegend": true,
         "type": "scatter",
         "x": [
          0,
          0.01,
          0.02,
          0.03,
          0.04,
          0.05,
          0.06,
          0.07,
          0.08,
          0.09
         ],
         "xaxis": "x2",
         "y": [
          292.2970090649585,
          291.3545971297934,
          291.15389642881905,
          291.2939974043472,
          291.56056351444255,
          291.8630054248409,
          292.16353555718814,
          292.4331067596204,
          292.6313522610363,
          292.7117772685673
         ],
         "yaxis": "y2"
        },
        {
         "legendgroup": "Wed-03 PM",
         "line": {
          "color": "rgb(26, 100, 112)"
         },
         "mode": "lines+markers",
         "name": "Wed-03 PM",
         "showlegend": false,
         "type": "scatter",
         "x": [
          "Wed-03 PM"
         ],
         "xaxis": "x3",
         "y": [
          293.1499426917564
         ],
         "yaxis": "y3"
        },
        {
         "legendgroup": "Wed-05 PM",
         "line": {
          "color": "rgb(22, 105, 115)"
         },
         "mode": "lines+markers",
         "name": "Wed-05 PM",
         "showlegend": false,
         "type": "scatter",
         "x": [
          "Wed-05 PM"
         ],
         "xaxis": "x",
         "y": [
          295.92777777777775
         ],
         "yaxis": "y"
        },
        {
         "legendgroup": "Wed-05 PM",
         "line": {
          "color": "rgb(22, 105, 115)"
         },
         "mode": "lines+markers",
         "name": "Wed-05 PM",
         "showlegend": true,
         "type": "scatter",
         "x": [
          0,
          0.01,
          0.02,
          0.03,
          0.04,
          0.05,
          0.06,
          0.07,
          0.08,
          0.09
         ],
         "xaxis": "x2",
         "y": [
          292.9719159142867,
          291.7633773689541,
          291.3640897156811,
          291.38224650532516,
          291.589223609084,
          291.8639682214854,
          292.14526575419427,
          292.3931016198467,
          292.56947275148246,
          292.6409010478306
         ],
         "yaxis": "y2"
        },
        {
         "legendgroup": "Wed-05 PM",
         "line": {
          "color": "rgb(22, 105, 115)"
         },
         "mode": "lines+markers",
         "name": "Wed-05 PM",
         "showlegend": false,
         "type": "scatter",
         "x": [
          "Wed-05 PM"
         ],
         "xaxis": "x3",
         "y": [
          293.149909655342
         ],
         "yaxis": "y3"
        },
        {
         "legendgroup": "Wed-07 PM",
         "line": {
          "color": "rgb(18, 109, 118)"
         },
         "mode": "lines+markers",
         "name": "Wed-07 PM",
         "showlegend": false,
         "type": "scatter",
         "x": [
          "Wed-07 PM"
         ],
         "xaxis": "x",
         "y": [
          295.2055555555555
         ],
         "yaxis": "y"
        },
        {
         "legendgroup": "Wed-07 PM",
         "line": {
          "color": "rgb(18, 109, 118)"
         },
         "mode": "lines+markers",
         "name": "Wed-07 PM",
         "showlegend": true,
         "type": "scatter",
         "x": [
          0,
          0.01,
          0.02,
          0.03,
          0.04,
          0.05,
          0.06,
          0.07,
          0.08,
          0.09
         ],
         "xaxis": "x2",
         "y": [
          293.45623764481707,
          292.18909183652136,
          291.61380353448754,
          291.50329589948643,
          291.6363891020502,
          291.871412810786,
          292.12753482441406,
          292.3543852919009,
          292.51415140582634,
          292.57981853498984
         ],
         "yaxis": "y2"
        },
        {
         "legendgroup": "Wed-07 PM",
         "line": {
          "color": "rgb(18, 109, 118)"
         },
         "mode": "lines+markers",
         "name": "Wed-07 PM",
         "showlegend": false,
         "type": "scatter",
         "x": [
          "Wed-07 PM"
         ],
         "xaxis": "x3",
         "y": [
          293.14987204922954
         ],
         "yaxis": "y3"
        },
        {
         "legendgroup": "Wed-09 PM",
         "line": {
          "color": "rgb(15, 114, 121)"
         },
         "mode": "lines+markers",
         "name": "Wed-09 PM",
         "showlegend": false,
         "type": "scatter",
         "x": [
          "Wed-09 PM"
         ],
         "xaxis": "x",
         "y": [
          290.81666666666666
         ],
         "yaxis": "y"
        },
        {
         "legendgroup": "Wed-09 PM",
         "line": {
          "color": "rgb(15, 114, 121)"
         },
         "mode": "lines+markers",
         "name": "Wed-09 PM",
         "showlegend": true,
         "type": "scatter",
         "x": [
          0,
          0.01,
          0.02,
          0.03,
          0.04,
          0.05,
          0.06,
          0.07,
          0.08,
          0.09
         ],
         "xaxis": "x2",
         "y": [
          293.04276573689924,
          292.4102430523024,
          291.8520361253905,
          291.64662094260325,
          291.7018069130101,
          291.8881140107174,
          292.11360085542293,
          292.31896413886244,
          292.4645394978035,
          292.525852351697
         ],
         "yaxis": "y2"
        },
        {
         "legendgroup": "Wed-09 PM",
         "line": {
          "color": "rgb(15, 114, 121)"
         },
         "mode": "lines+markers",
         "name": "Wed-09 PM",
         "showlegend": false,
         "type": "scatter",
         "x": [
          "Wed-09 PM"
         ],
         "xaxis": "x3",
         "y": [
          293.1498304505091
         ],
         "yaxis": "y3"
        },
        {
         "legendgroup": "Wed-11 PM",
         "line": {
          "color": "rgb(15, 119, 122)"
         },
         "mode": "lines+markers",
         "name": "Wed-11 PM",
         "showlegend": false,
         "type": "scatter",
         "x": [
          "Wed-11 PM"
         ],
         "xaxis": "x",
         "y": [
          288.5388888888889
         ],
         "yaxis": "y"
        },
        {
         "legendgroup": "Wed-11 PM",
         "line": {
          "color": "rgb(15, 119, 122)"
         },
         "mode": "lines+markers",
         "name": "Wed-11 PM",
         "showlegend": true,
         "type": "scatter",
         "x": [
          0,
          0.01,
          0.02,
          0.03,
          0.04,
          0.05,
          0.06,
          0.07,
          0.08,
          0.09
         ],
         "xaxis": "x2",
         "y": [
          291.6523173131408,
          292.1620723612902,
          291.9591166000371,
          291.7756376894489,
          291.77761117320125,
          291.91448118639335,
          292.1055958729011,
          292.2882027098042,
          292.4203170338461,
          292.47779972334246
         ],
         "yaxis": "y2"
        },
        {
         "legendgroup": "Wed-11 PM",
         "line": {
          "color": "rgb(15, 119, 122)"
         },
         "mode": "lines+markers",
         "name": "Wed-11 PM",
         "showlegend": false,
         "type": "scatter",
         "x": [
          "Wed-11 PM"
         ],
         "xaxis": "x3",
         "y": [
          293.14978530726773
         ],
         "yaxis": "y3"
        },
        {
         "legendgroup": "Thu-01 AM",
         "line": {
          "color": "rgb(14, 124, 124)"
         },
         "mode": "lines+markers",
         "name": "Thu-01 AM",
         "showlegend": false,
         "type": "scatter",
         "x": [
          "Thu-01 AM"
         ],
         "xaxis": "x",
         "y": [
          287.59444444444443
         ],
         "yaxis": "y"
        },
        {
         "legendgroup": "Thu-01 AM",
         "line": {
          "color": "rgb(14, 124, 124)"
         },
         "mode": "lines+markers",
         "name": "Thu-01 AM",
         "showlegend": true,
         "type": "scatter",
         "x": [
          0,
          0.01,
          0.02,
          0.03,
          0.04,
          0.05,
          0.06,
          0.07,
          0.08,
          0.09
         ],
         "xaxis": "x2",
         "y": [
          290.6315756411468,
          291.69172623466363,
          291.88943387721525,
          291.8419539873598,
          291.8443858542169,
          291.9459894181965,
          292.1037858116597,
          292.26288706815996,
          292.3814864562918,
          292.43520555479677
         ],
         "yaxis": "y2"
        },
        {
         "legendgroup": "Thu-01 AM",
         "line": {
          "color": "rgb(14, 124, 124)"
         },
         "mode": "lines+markers",
         "name": "Thu-01 AM",
         "showlegend": false,
         "type": "scatter",
         "x": [
          "Thu-01 AM"
         ],
         "xaxis": "x3",
         "y": [
          293.1497370126251
         ],
         "yaxis": "y3"
        },
        {
         "legendgroup": "Thu-03 AM",
         "line": {
          "color": "rgb(14, 128, 125)"
         },
         "mode": "lines+markers",
         "name": "Thu-03 AM",
         "showlegend": false,
         "type": "scatter",
         "x": [
          "Thu-03 AM"
         ],
         "xaxis": "x",
         "y": [
          286.65
         ],
         "yaxis": "y"
        },
        {
         "legendgroup": "Thu-03 AM",
         "line": {
          "color": "rgb(14, 128, 125)"
         },
         "mode": "lines+markers",
         "name": "Thu-03 AM",
         "showlegend": true,
         "type": "scatter",
         "x": [
          0,
          0.01,
          0.02,
          0.03,
          0.04,
          0.05,
          0.06,
          0.07,
          0.08,
          0.09
         ],
         "xaxis": "x2",
         "y": [
          289.85061229414794,
          291.2132921323316,
          291.71284572771395,
          291.83440908030764,
          291.8838271019602,
          291.97394652244463,
          292.10589029942304,
          292.2428721988667,
          292.3480622920072,
          292.39794992459326
         ],
         "yaxis": "y2"
        },
        {
         "legendgroup": "Thu-03 AM",
         "line": {
          "color": "rgb(14, 128, 125)"
         },
         "mode": "lines+markers",
         "name": "Thu-03 AM",
         "showlegend": false,
         "type": "scatter",
         "x": [
          "Thu-03 AM"
         ],
         "xaxis": "x3",
         "y": [
          293.1496859417667
         ],
         "yaxis": "y3"
        },
        {
         "legendgroup": "Thu-05 AM",
         "line": {
          "color": "rgb(14, 133, 126)"
         },
         "mode": "lines+markers",
         "name": "Thu-05 AM",
         "showlegend": false,
         "type": "scatter",
         "x": [
          "Thu-05 AM"
         ],
         "xaxis": "x",
         "y": [
          287.81666666666666
         ],
         "yaxis": "y"
        },
        {
         "legendgroup": "Thu-05 AM",
         "line": {
          "color": "rgb(14, 133, 126)"
         },
         "mode": "lines+markers",
         "name": "Thu-05 AM",
         "showlegend": true,
         "type": "scatter",
         "x": [
          0,
          0.01,
          0.02,
          0.03,
          0.04,
          0.05,
          0.06,
          0.07,
          0.08,
          0.09
         ],
         "xaxis": "x2",
         "y": [
          289.5432389971111,
          290.79683638056423,
          291.48622964690554,
          291.7677236101263,
          291.8893000459825,
          291.9904957680212,
          292.108009831956,
          292.2269266195435,
          292.3197465431158,
          292.36589572513685
         ],
         "yaxis": "y2"
        },
        {
         "legendgroup": "Thu-05 AM",
         "line": {
          "color": "rgb(14, 133, 126)"
         },
         "mode": "lines+markers",
         "name": "Thu-05 AM",
         "showlegend": false,
         "type": "scatter",
         "x": [
          "Thu-05 AM"
         ],
         "xaxis": "x3",
         "y": [
          293.1496324628218
         ],
         "yaxis": "y3"
        },
        {
         "legendgroup": "Thu-07 AM",
         "line": {
          "color": "rgb(13, 138, 128)"
         },
         "mode": "lines+markers",
         "name": "Thu-07 AM",
         "showlegend": false,
         "type": "scatter",
         "x": [
          "Thu-07 AM"
         ],
         "xaxis": "x",
         "y": [
          288.3722222222222
         ],
         "yaxis": "y"
        },
        {
         "legendgroup": "Thu-07 AM",
         "line": {
          "color": "rgb(13, 138, 128)"
         },
         "mode": "lines+markers",
         "name": "Thu-07 AM",
         "showlegend": true,
         "type": "scatter",
         "x": [
          0,
          0.01,
          0.02,
          0.03,
          0.04,
          0.05,
          0.06,
          0.07,
          0.08,
          0.09
         ],
         "xaxis": "x2",
         "y": [
          289.62005663646465,
          290.58282112373666,
          291.2830268407178,
          291.66792247845797,
          291.86373446202055,
          291.99145648113284,
          292.10635433843146,
          292.2131244613133,
          292.29577641257424,
          292.3386196652933
         ],
         "yaxis": "y2"
        },
        {
         "legendgroup": "Thu-07 AM",
         "line": {
          "color": "rgb(13, 138, 128)"
         },
         "mode": "lines+markers",
         "name": "Thu-07 AM",
         "showlegend": false,
         "type": "scatter",
         "x": [
          "Thu-07 AM"
         ],
         "xaxis": "x3",
         "y": [
          293.1495769255235
         ],
         "yaxis": "y3"
        },
        {
         "legendgroup": "Thu-09 AM",
         "line": {
          "color": "rgb(13, 143, 129)"
         },
         "mode": "lines+markers",
         "name": "Thu-09 AM",
         "showlegend": false,
         "type": "scatter",
         "x": [
          "Thu-09 AM"
         ],
         "xaxis": "x",
         "y": [
          290.0388888888889
         ],
         "yaxis": "y"
        },
        {
         "legendgroup": "Thu-09 AM",
         "line": {
          "color": "rgb(13, 143, 129)"
         },
         "mode": "lines+markers",
         "name": "Thu-09 AM",
         "showlegend": true,
         "type": "scatter",
         "x": [
          0,
          0.01,
          0.02,
          0.03,
          0.04,
          0.05,
          0.06,
          0.07,
          0.08,
          0.09
         ],
         "xaxis": "x2",
         "y": [
          289.8622674170296,
          290.50485486716786,
          291.1369254150364,
          291.5650312905598,
          291.81777711665126,
          291.9770469394499,
          292.0984635658809,
          292.19946147288294,
          292.27500459253673,
          292.31531907842106
         ],
         "yaxis": "y2"
        },
        {
         "legendgroup": "Thu-09 AM",
         "line": {
          "color": "rgb(13, 143, 129)"
         },
         "mode": "lines+markers",
         "name": "Thu-09 AM",
         "showlegend": false,
         "type": "scatter",
         "x": [
          "Thu-09 AM"
         ],
         "xaxis": "x3",
         "y": [
          293.14951963689975
         ],
         "yaxis": "y3"
        },
        {
         "legendgroup": "Thu-11 AM",
         "line": {
          "color": "rgb(20, 148, 128)"
         },
         "mode": "lines+markers",
         "name": "Thu-11 AM",
         "showlegend": false,
         "type": "scatter",
         "x": [
          "Thu-11 AM"
         ],
         "xaxis": "x",
         "y": [
          292.9833333333333
         ],
         "yaxis": "y"
        },
        {
         "legendgroup": "Thu-11 AM",
         "line": {
          "color": "rgb(20, 148, 128)"
         },
         "mode": "lines+markers",
         "name": "Thu-11 AM",
         "showlegend": true,
         "type": "scatter",
         "x": [
          0,
          0.01,
          0.02,
          0.03,
          0.04,
          0.05,
          0.06,
          0.07,
          0.08,
          0.09
         ],
         "xaxis": "x2",
         "y": [
          290.6918397237859,
          290.6373644733991,
          291.06878207082747,
          291.47914088806135,
          291.76366809336366,
          291.95092372616836,
          292.083746985338,
          292.1843988229559,
          292.25612981338,
          292.2949004092887
         ],
         "yaxis": "y2"
        },
        {
         "legendgroup": "Thu-11 AM",
         "line": {
          "color": "rgb(20, 148, 128)"
         },
         "mode": "lines+markers",
         "name": "Thu-11 AM",
         "showlegend": false,
         "type": "scatter",
         "x": [
          "Thu-11 AM"
         ],
         "xaxis": "x3",
         "y": [
          293.1494608370298
         ],
         "yaxis": "y3"
        },
        {
         "legendgroup": "Thu-01 PM",
         "line": {
          "color": "rgb(28, 152, 128)"
         },
         "mode": "lines+markers",
         "name": "Thu-01 PM",
         "showlegend": false,
         "type": "scatter",
         "x": [
          "Thu-01 PM"
         ],
         "xaxis": "x",
         "y": [
          293.2611111111111
         ],
         "yaxis": "y"
        },
        {
         "legendgroup": "Thu-01 PM",
         "line": {
          "color": "rgb(28, 152, 128)"
         },
         "mode": "lines+markers",
         "name": "Thu-01 PM",
         "showlegend": true,
         "type": "scatter",
         "x": [
          0,
          0.01,
          0.02,
          0.03,
          0.04,
          0.05,
          0.06,
          0.07,
          0.08,
          0.09
         ],
         "xaxis": "x2",
         "y": [
          291.37669786798494,
          290.9800912450768,
          291.1198452603712,
          291.4337992283902,
          291.7142237077385,
          291.91857441841927,
          292.0632505435414,
          292.1671466782532,
          292.2379616925778,
          292.27618071119156
         ],
         "yaxis": "y2"
        },
        {
         "legendgroup": "Thu-01 PM",
         "line": {
          "color": "rgb(28, 152, 128)"
         },
         "mode": "lines+markers",
         "name": "Thu-01 PM",
         "showlegend": false,
         "type": "scatter",
         "x": [
          "Thu-01 PM"
         ],
         "xaxis": "x3",
         "y": [
          293.14940068542177
         ],
         "yaxis": "y3"
        },
        {
         "legendgroup": "Thu-03 PM",
         "line": {
          "color": "rgb(35, 157, 128)"
         },
         "mode": "lines+markers",
         "name": "Thu-03 PM",
         "showlegend": false,
         "type": "scatter",
         "x": [
          "Thu-03 PM"
         ],
         "xaxis": "x",
         "y": [
          294.81666666666666
         ],
         "yaxis": "y"
        },
        {
         "legendgroup": "Thu-03 PM",
         "line": {
          "color": "rgb(35, 157, 128)"
         },
         "mode": "lines+markers",
         "name": "Thu-03 PM",
         "showlegend": true,
         "type": "scatter",
         "x": [
          0,
          0.01,
          0.02,
          0.03,
          0.04,
          0.05,
          0.06,
          0.07,
          0.08,
          0.09
         ],
         "xaxis": "x2",
         "y": [
          291.9910064819021,
          291.31189317208873,
          291.24288811545745,
          291.43855445182464,
          291.68197767768794,
          291.88687230122105,
          292.0393561626324,
          292.1477270666195,
          292.21962757860535,
          292.25810753685096
         ],
         "yaxis": "y2"
        },
        {
         "legendgroup": "Thu-03 PM",
         "line": {
          "color": "rgb(35, 157, 128)"
         },
         "mode": "lines+markers",
         "name": "Thu-03 PM",
         "showlegend": false,
         "type": "scatter",
         "x": [
          "Thu-03 PM"
         ],
         "xaxis": "x3",
         "y": [
          293.1493392625576
         ],
         "yaxis": "y3"
        },
        {
         "legendgroup": "Thu-05 PM",
         "line": {
          "color": "rgb(42, 162, 127)"
         },
         "mode": "lines+markers",
         "name": "Thu-05 PM",
         "showlegend": false,
         "type": "scatter",
         "x": [
          "Thu-05 PM"
         ],
         "xaxis": "x",
         "y": [
          296.4833333333333
         ],
         "yaxis": "y"
        },
        {
         "legendgroup": "Thu-05 PM",
         "line": {
          "color": "rgb(42, 162, 127)"
         },
         "mode": "lines+markers",
         "name": "Thu-05 PM",
         "showlegend": true,
         "type": "scatter",
         "x": [
          0,
          0.01,
          0.02,
          0.03,
          0.04,
          0.05,
          0.06,
          0.07,
          0.08,
          0.09
         ],
         "xaxis": "x2",
         "y": [
          292.8129713396554,
          291.72420029809973,
          291.4193745647969,
          291.48527727495576,
          291.6719663770812,
          291.8618231044363,
          292.01522480894107,
          292.1269223059863,
          292.2007074962341,
          292.23993845749766
         ],
         "yaxis": "y2"
        },
        {
         "legendgroup": "Thu-05 PM",
         "line": {
          "color": "rgb(42, 162, 127)"
         },
         "mode": "lines+markers",
         "name": "Thu-05 PM",
         "showlegend": false,
         "type": "scatter",
         "x": [
          "Thu-05 PM"
         ],
         "xaxis": "x3",
         "y": [
          293.14927658553563
         ],
         "yaxis": "y3"
        },
        {
         "legendgroup": "Thu-07 PM",
         "line": {
          "color": "rgb(50, 166, 126)"
         },
         "mode": "lines+markers",
         "name": "Thu-07 PM",
         "showlegend": false,
         "type": "scatter",
         "x": [
          "Thu-07 PM"
         ],
         "xaxis": "x",
         "y": [
          294.5388888888889
         ],
         "yaxis": "y"
        },
        {
         "legendgroup": "Thu-07 PM",
         "line": {
          "color": "rgb(50, 166, 126)"
         },
         "mode": "lines+markers",
         "name": "Thu-07 PM",
         "showlegend": true,
         "type": "scatter",
         "x": [
          0,
          0.01,
          0.02,
          0.03,
          0.04,
          0.05,
          0.06,
          0.07,
          0.08,
          0.09
         ],
         "xaxis": "x2",
         "y": [
          293.55257353943284,
          292.2045287408232,
          291.6560018739753,
          291.5733429060848,
          291.68612590296834,
          291.8473388068981,
          291.99384572860924,
          292.10599161929144,
          292.18126291825536,
          292.2213491916294
         ],
         "yaxis": "y2"
        },
        {
         "legendgroup": "Thu-07 PM",
         "line": {
          "color": "rgb(50, 166, 126)"
         },
         "mode": "lines+markers",
         "name": "Thu-07 PM",
         "showlegend": false,
         "type": "scatter",
         "x": [
          "Thu-07 PM"
         ],
         "xaxis": "x3",
         "y": [
          293.1492126339477
         ],
         "yaxis": "y3"
        },
        {
         "legendgroup": "Thu-09 PM",
         "line": {
          "color": "rgb(57, 171, 126)"
         },
         "mode": "lines+markers",
         "name": "Thu-09 PM",
         "showlegend": false,
         "type": "scatter",
         "x": [
          "Thu-09 PM"
         ],
         "xaxis": "x",
         "y": [
          290.9833333333333
         ],
         "yaxis": "y"
        },
        {
         "legendgroup": "Thu-09 PM",
         "line": {
          "color": "rgb(57, 171, 126)"
         },
         "mode": "lines+markers",
         "name": "Thu-09 PM",
         "showlegend": true,
         "type": "scatter",
         "x": [
          0,
          0.01,
          0.02,
          0.03,
          0.04,
          0.05,
          0.06,
          0.07,
          0.08,
          0.09
         ],
         "xaxis": "x2",
         "y": [
          292.9753853793308,
          292.4075950587459,
          291.88751730158435,
          291.6943109584089,
          291.72531981225455,
          291.84615983856435,
          291.9777308299656,
          292.0863602846847,
          292.1617524218518,
          292.2024395539346
         ],
         "yaxis": "y2"
        },
        {
         "legendgroup": "Thu-09 PM",
         "line": {
          "color": "rgb(57, 171, 126)"
         },
         "mode": "lines+markers",
         "name": "Thu-09 PM",
         "showlegend": false,
         "type": "scatter",
         "x": [
          "Thu-09 PM"
         ],
         "xaxis": "x3",
         "y": [
          293.14914737979086
         ],
         "yaxis": "y3"
        },
        {
         "legendgroup": "Thu-11 PM",
         "line": {
          "color": "rgb(66, 175, 124)"
         },
         "mode": "lines+markers",
         "name": "Thu-11 PM",
         "showlegend": false,
         "type": "scatter",
         "x": [
          "Thu-11 PM"
         ],
         "xaxis": "x",
         "y": [
          288.59444444444443
         ],
         "yaxis": "y"
        },
        {
         "legendgroup": "Thu-11 PM",
         "line": {
          "color": "rgb(66, 175, 124)"
         },
         "mode": "lines+markers",
         "name": "Thu-11 PM",
         "showlegend": true,
         "type": "scatter",
         "x": [
          0,
          0.01,
          0.02,
          0.03,
          0.04,
          0.05,
          0.06,
          0.07,
          0.08,
          0.09
         ],
         "xaxis": "x2",
         "y": [
          291.7232822421412,
          292.17849975999513,
          291.9845969871988,
          291.8045762321495,
          291.78055916262826,
          291.8585365386257,
          291.96870155965564,
          292.06943328007975,
          292.14291282822467,
          292.1836621659311
         ],
         "yaxis": "y2"
        },
        {
         "legendgroup": "Thu-11 PM",
         "line": {
          "color": "rgb(66, 175, 124)"
         },
         "mode": "lines+markers",
         "name": "Thu-11 PM",
         "showlegend": false,
         "type": "scatter",
         "x": [
          "Thu-11 PM"
         ],
         "xaxis": "x3",
         "y": [
          293.1490808148082
         ],
         "yaxis": "y3"
        },
        {
         "legendgroup": "Fri-01 AM",
         "line": {
          "color": "rgb(75, 180, 123)"
         },
         "mode": "lines+markers",
         "name": "Fri-01 AM",
         "showlegend": false,
         "type": "scatter",
         "x": [
          "Fri-01 AM"
         ],
         "xaxis": "x",
         "y": [
          287.65
         ],
         "yaxis": "y"
        },
        {
         "legendgroup": "Fri-01 AM",
         "line": {
          "color": "rgb(75, 180, 123)"
         },
         "mode": "lines+markers",
         "name": "Fri-01 AM",
         "showlegend": true,
         "type": "scatter",
         "x": [
          0,
          0.01,
          0.02,
          0.03,
          0.04,
          0.05,
          0.06,
          0.07,
          0.08,
          0.09
         ],
         "xaxis": "x2",
         "y": [
          290.6752893675761,
          291.72229794555,
          291.9137920186264,
          291.8574515953968,
          291.8312555059229,
          291.87928767117796,
          291.96681374281496,
          292.0562466305,
          292.12560246249154,
          292.1657100223911
         ],
         "yaxis": "y2"
        },
        {
         "legendgroup": "Fri-01 AM",
         "line": {
          "color": "rgb(75, 180, 123)"
         },
         "mode": "lines+markers",
         "name": "Fri-01 AM",
         "showlegend": false,
         "type": "scatter",
         "x": [
          "Fri-01 AM"
         ],
         "xaxis": "x3",
         "y": [
          293.1490129714045
         ],
         "yaxis": "y3"
        },
        {
         "legendgroup": "Fri-03 AM",
         "line": {
          "color": "rgb(84, 184, 121)"
         },
         "mode": "lines+markers",
         "name": "Fri-03 AM",
         "showlegend": false,
         "type": "scatter",
         "x": [
          "Fri-03 AM"
         ],
         "xaxis": "x",
         "y": [
          287.92777777777775
         ],
         "yaxis": "y"
        },
        {
         "legendgroup": "Fri-03 AM",
         "line": {
          "color": "rgb(84, 184, 121)"
         },
         "mode": "lines+markers",
         "name": "Fri-03 AM",
         "showlegend": true,
         "type": "scatter",
         "x": [
          0,
          0.01,
          0.02,
          0.03,
          0.04,
          0.05,
          0.06,
          0.07,
          0.08,
          0.09
         ],
         "xaxis": "x2",
         "y": [
          290.14012389044336,
          291.27783307477176,
          291.73765250993455,
          291.84054706152045,
          291.8587155370854,
          291.8992810577737,
          291.96962687543726,
          292.04692963440596,
          292.11053477396274,
          292.14933454722706
         ],
         "yaxis": "y2"
        },
        {
         "legendgroup": "Fri-03 AM",
         "line": {
          "color": "rgb(84, 184, 121)"
         },
         "mode": "lines+markers",
         "name": "Fri-03 AM",
         "showlegend": false,
         "type": "scatter",
         "x": [
          "Fri-03 AM"
         ],
         "xaxis": "x3",
         "y": [
          293.1489439335867
         ],
         "yaxis": "y3"
        },
        {
         "legendgroup": "Fri-05 AM",
         "line": {
          "color": "rgb(92, 188, 119)"
         },
         "mode": "lines+markers",
         "name": "Fri-05 AM",
         "showlegend": false,
         "type": "scatter",
         "x": [
          "Fri-05 AM"
         ],
         "xaxis": "x",
         "y": [
          286.76111111111106
         ],
         "yaxis": "y"
        },
        {
         "legendgroup": "Fri-05 AM",
         "line": {
          "color": "rgb(92, 188, 119)"
         },
         "mode": "lines+markers",
         "name": "Fri-05 AM",
         "showlegend": true,
         "type": "scatter",
         "x": [
          0,
          0.01,
          0.02,
          0.03,
          0.04,
          0.05,
          0.06,
          0.07,
          0.08,
          0.09
         ],
         "xaxis": "x2",
         "y": [
          289.7219243548458,
          290.9379721755858,
          291.53762045347,
          291.7728131995908,
          291.85632985739056,
          291.91034326121195,
          291.973151468794,
          292.04051100214963,
          292.097986186098,
          292.13509032503305
         ],
         "yaxis": "y2"
        },
        {
         "legendgroup": "Fri-05 AM",
         "line": {
          "color": "rgb(92, 188, 119)"
         },
         "mode": "lines+markers",
         "name": "Fri-05 AM",
         "showlegend": false,
         "type": "scatter",
         "x": [
          "Fri-05 AM"
         ],
         "xaxis": "x3",
         "y": [
          293.1488738323669
         ],
         "yaxis": "y3"
        },
        {
         "legendgroup": "Fri-07 AM",
         "line": {
          "color": "rgb(101, 193, 118)"
         },
         "mode": "lines+markers",
         "name": "Fri-07 AM",
         "showlegend": false,
         "type": "scatter",
         "x": [
          "Fri-07 AM"
         ],
         "xaxis": "x",
         "y": [
          288.42777777777775
         ],
         "yaxis": "y"
        },
        {
         "legendgroup": "Fri-07 AM",
         "line": {
          "color": "rgb(101, 193, 118)"
         },
         "mode": "lines+markers",
         "name": "Fri-07 AM",
         "showlegend": true,
         "type": "scatter",
         "x": [
          0,
          0.01,
          0.02,
          0.03,
          0.04,
          0.05,
          0.06,
          0.07,
          0.08,
          0.09
         ],
         "xaxis": "x2",
         "y": [
          289.43718525114514,
          290.6119526249487,
          291.32879630744924,
          291.6755917123365,
          291.8278230372066,
          291.90851236798903,
          291.97365361455564,
          292.0353179523034,
          292.08767309451355,
          292.1231172573863
         ],
         "yaxis": "y2"
        },
        {
         "legendgroup": "Fri-07 AM",
         "line": {
          "color": "rgb(101, 193, 118)"
         },
         "mode": "lines+markers",
         "name": "Fri-07 AM",
         "showlegend": false,
         "type": "scatter",
         "x": [
          "Fri-07 AM"
         ],
         "xaxis": "x3",
         "y": [
          293.1488028238346
         ],
         "yaxis": "y3"
        },
        {
         "legendgroup": "Fri-09 AM",
         "line": {
          "color": "rgb(110, 197, 116)"
         },
         "mode": "lines+markers",
         "name": "Fri-09 AM",
         "showlegend": false,
         "type": "scatter",
         "x": [
          "Fri-09 AM"
         ],
         "xaxis": "x",
         "y": [
          290.26111111111106
         ],
         "yaxis": "y"
        },
        {
         "legendgroup": "Fri-09 AM",
         "line": {
          "color": "rgb(110, 197, 116)"
         },
         "mode": "lines+markers",
         "name": "Fri-09 AM",
         "showlegend": true,
         "type": "scatter",
         "x": [
          0,
          0.01,
          0.02,
          0.03,
          0.04,
          0.05,
          0.06,
          0.07,
          0.08,
          0.09
         ],
         "xaxis": "x2",
         "y": [
          289.87806061744817,
          290.50845122811586,
          291.1547906571233,
          291.56440649075506,
          291.7790779831221,
          291.89326324444346,
          291.968723502004,
          292.0296102891739,
          292.07886419642165,
          292.11308442074795
         ],
         "yaxis": "y2"
        },
        {
         "legendgroup": "Fri-09 AM",
         "line": {
          "color": "rgb(110, 197, 116)"
         },
         "mode": "lines+markers",
         "name": "Fri-09 AM",
         "showlegend": false,
         "type": "scatter",
         "x": [
          "Fri-09 AM"
         ],
         "xaxis": "x3",
         "y": [
          293.1487310572204
         ],
         "yaxis": "y3"
        },
        {
         "legendgroup": "Fri-11 AM",
         "line": {
          "color": "rgb(120, 201, 114)"
         },
         "mode": "lines+markers",
         "name": "Fri-11 AM",
         "showlegend": false,
         "type": "scatter",
         "x": [
          "Fri-11 AM"
         ],
         "xaxis": "x",
         "y": [
          293.2055555555555
         ],
         "yaxis": "y"
        },
        {
         "legendgroup": "Fri-11 AM",
         "line": {
          "color": "rgb(120, 201, 114)"
         },
         "mode": "lines+markers",
         "name": "Fri-11 AM",
         "showlegend": true,
         "type": "scatter",
         "x": [
          0,
          0.01,
          0.02,
          0.03,
          0.04,
          0.05,
          0.06,
          0.07,
          0.08,
          0.09
         ],
         "xaxis": "x2",
         "y": [
          290.58051937977586,
          290.637645325202,
          291.0756402469739,
          291.46873304547466,
          291.720500430144,
          291.8666418083592,
          291.95736317138363,
          292.0219902129078,
          292.07060820732056,
          292.1043011278344
         ],
         "yaxis": "y2"
        },
        {
         "legendgroup": "Fri-11 AM",
         "line": {
          "color": "rgb(120, 201, 114)"
         },
         "mode": "lines+markers",
         "name": "Fri-11 AM",
         "showlegend": false,
         "type": "scatter",
         "x": [
          "Fri-11 AM"
         ],
         "xaxis": "x3",
         "y": [
          293.1486586452396
         ],
         "yaxis": "y3"
        },
        {
         "legendgroup": "Fri-01 PM",
         "line": {
          "color": "rgb(130, 205, 112)"
         },
         "mode": "lines+markers",
         "name": "Fri-01 PM",
         "showlegend": false,
         "type": "scatter",
         "x": [
          "Fri-01 PM"
         ],
         "xaxis": "x",
         "y": [
          295.3722222222222
         ],
         "yaxis": "y"
        },
        {
         "legendgroup": "Fri-01 PM",
         "line": {
          "color": "rgb(130, 205, 112)"
         },
         "mode": "lines+markers",
         "name": "Fri-01 PM",
         "showlegend": true,
         "type": "scatter",
         "x": [
          0,
          0.01,
          0.02,
          0.03,
          0.04,
          0.05,
          0.06,
          0.07,
          0.08,
          0.09
         ],
         "xaxis": "x2",
         "y": [
          292.0661727033398,
          291.06626552829425,
          291.12295221117694,
          291.4152142347817,
          291.66641896398085,
          291.83369907254803,
          291.94017831206054,
          292.0116514012068,
          292.0619625904769,
          292.095906311043
         ],
         "yaxis": "y2"
        },
        {
         "legendgroup": "Fri-01 PM",
         "line": {
          "color": "rgb(130, 205, 112)"
         },
         "mode": "lines+markers",
         "name": "Fri-01 PM",
         "showlegend": false,
         "type": "scatter",
         "x": [
          "Fri-01 PM"
         ],
         "xaxis": "x3",
         "y": [
          293.1485856454075
         ],
         "yaxis": "y3"
        },
        {
         "legendgroup": "Fri-03 PM",
         "line": {
          "color": "rgb(140, 209, 110)"
         },
         "mode": "lines+markers",
         "name": "Fri-03 PM",
         "showlegend": false,
         "type": "scatter",
         "x": [
          "Fri-03 PM"
         ],
         "xaxis": "x",
         "y": [
          295.9833333333333
         ],
         "yaxis": "y"
        },
        {
         "legendgroup": "Fri-03 PM",
         "line": {
          "color": "rgb(140, 209, 110)"
         },
         "mode": "lines+markers",
         "name": "Fri-03 PM",
         "showlegend": true,
         "type": "scatter",
         "x": [
          0,
          0.01,
          0.02,
          0.03,
          0.04,
          0.05,
          0.06,
          0.07,
          0.08,
          0.09
         ],
         "xaxis": "x2",
         "y": [
          292.72655375844124,
          291.6107331953742,
          291.3150798043507,
          291.4294179983579,
          291.6325477369222,
          291.8017209862688,
          291.91941130138264,
          291.99858408105166,
          292.0522136075078,
          292.0870776733899
         ],
         "yaxis": "y2"
        },
        {
         "legendgroup": "Fri-03 PM",
         "line": {
          "color": "rgb(140, 209, 110)"
         },
         "mode": "lines+markers",
         "name": "Fri-03 PM",
         "showlegend": false,
         "type": "scatter",
         "x": [
          "Fri-03 PM"
         ],
         "xaxis": "x3",
         "y": [
          293.14851205541214
         ],
         "yaxis": "y3"
        },
        {
         "legendgroup": "Fri-05 PM",
         "line": {
          "color": "rgb(149, 212, 107)"
         },
         "mode": "lines+markers",
         "name": "Fri-05 PM",
         "showlegend": false,
         "type": "scatter",
         "x": [
          "Fri-05 PM"
         ],
         "xaxis": "x",
         "y": [
          297.59444444444443
         ],
         "yaxis": "y"
        },
        {
         "legendgroup": "Fri-05 PM",
         "line": {
          "color": "rgb(149, 212, 107)"
         },
         "mode": "lines+markers",
         "name": "Fri-05 PM",
         "showlegend": true,
         "type": "scatter",
         "x": [
          0,
          0.01,
          0.02,
          0.03,
          0.04,
          0.05,
          0.06,
          0.07,
          0.08,
          0.09
         ],
         "xaxis": "x2",
         "y": [
          293.7857068071475,
          292.1310058280565,
          291.564801552782,
          291.50586329739866,
          291.6299994872014,
          291.7788536896252,
          291.8986658970191,
          291.9836614101401,
          292.04106487142394,
          292.07723412062626
         ],
         "yaxis": "y2"
        },
        {
         "legendgroup": "Fri-05 PM",
         "line": {
          "color": "rgb(149, 212, 107)"
         },
         "mode": "lines+markers",
         "name": "Fri-05 PM",
         "showlegend": false,
         "type": "scatter",
         "x": [
          "Fri-05 PM"
         ],
         "xaxis": "x3",
         "y": [
          293.14843782296794
         ],
         "yaxis": "y3"
        },
        {
         "legendgroup": "Fri-07 PM",
         "line": {
          "color": "rgb(159, 216, 105)"
         },
         "mode": "lines+markers",
         "name": "Fri-07 PM",
         "showlegend": false,
         "type": "scatter",
         "x": [
          "Fri-07 PM"
         ],
         "xaxis": "x",
         "y": [
          295.26111111111106
         ],
         "yaxis": "y"
        },
        {
         "legendgroup": "Fri-07 PM",
         "line": {
          "color": "rgb(159, 216, 105)"
         },
         "mode": "lines+markers",
         "name": "Fri-07 PM",
         "showlegend": true,
         "type": "scatter",
         "x": [
          0,
          0.01,
          0.02,
          0.03,
          0.04,
          0.05,
          0.06,
          0.07,
          0.08,
          0.09
         ],
         "xaxis": "x2",
         "y": [
          294.1996159616855,
          292.65890631347395,
          291.86927850639245,
          291.63211773211316,
          291.6599827753082,
          291.7706605553034,
          291.881864820183,
          291.9684872523113,
          292.0287484469422,
          292.0661989325826
         ],
         "yaxis": "y2"
        },
        {
         "legendgroup": "Fri-07 PM",
         "line": {
          "color": "rgb(159, 216, 105)"
         },
         "mode": "lines+markers",
         "name": "Fri-07 PM",
         "showlegend": false,
         "type": "scatter",
         "x": [
          "Fri-07 PM"
         ],
         "xaxis": "x3",
         "y": [
          293.14836286864164
         ],
         "yaxis": "y3"
        },
        {
         "legendgroup": "Fri-09 PM",
         "line": {
          "color": "rgb(169, 220, 103)"
         },
         "mode": "lines+markers",
         "name": "Fri-09 PM",
         "showlegend": false,
         "type": "scatter",
         "x": [
          "Fri-09 PM"
         ],
         "xaxis": "x",
         "y": [
          291.3722222222222
         ],
         "yaxis": "y"
        },
        {
         "legendgroup": "Fri-09 PM",
         "line": {
          "color": "rgb(169, 220, 103)"
         },
         "mode": "lines+markers",
         "name": "Fri-09 PM",
         "showlegend": true,
         "type": "scatter",
         "x": [
          0,
          0.01,
          0.02,
          0.03,
          0.04,
          0.05,
          0.06,
          0.07,
          0.08,
          0.09
         ],
         "xaxis": "x2",
         "y": [
          293.3424757237696,
          292.80682029800306,
          292.128667409282,
          291.7871430095858,
          291.7197389256601,
          291.77984705160804,
          291.87218631216143,
          291.9549510340549,
          292.01598287681986,
          292.05426795711617
         ],
         "yaxis": "y2"
        },
        {
         "legendgroup": "Fri-09 PM",
         "line": {
          "color": "rgb(169, 220, 103)"
         },
         "mode": "lines+markers",
         "name": "Fri-09 PM",
         "showlegend": false,
         "type": "scatter",
         "x": [
          "Fri-09 PM"
         ],
         "xaxis": "x3",
         "y": [
          293.14828711710544
         ],
         "yaxis": "y3"
        },
        {
         "legendgroup": "Fri-11 PM",
         "line": {
          "color": "rgb(180, 223, 101)"
         },
         "mode": "lines+markers",
         "name": "Fri-11 PM",
         "showlegend": false,
         "type": "scatter",
         "x": [
          "Fri-11 PM"
         ],
         "xaxis": "x",
         "y": [
          289.92777777777775
         ],
         "yaxis": "y"
        },
        {
         "legendgroup": "Fri-11 PM",
         "line": {
          "color": "rgb(180, 223, 101)"
         },
         "mode": "lines+markers",
         "name": "Fri-11 PM",
         "showlegend": true,
         "type": "scatter",
         "x": [
          0,
          0.01,
          0.02,
          0.03,
          0.04,
          0.05,
          0.06,
          0.07,
          0.08,
          0.09
         ],
         "xaxis": "x2",
         "y": [
          292.130909468743,
          292.5197919765531,
          292.21965624848804,
          291.91726662699085,
          291.7944813834795,
          291.805016792482,
          291.87147346047726,
          291.9448109764387,
          292.00380849353917,
          292.04215042078664
         ],
         "yaxis": "y2"
        },
        {
         "legendgroup": "Fri-11 PM",
         "line": {
          "color": "rgb(180, 223, 101)"
         },
         "mode": "lines+markers",
         "name": "Fri-11 PM",
         "showlegend": false,
         "type": "scatter",
         "x": [
          "Fri-11 PM"
         ],
         "xaxis": "x3",
         "y": [
          293.14821052865364
         ],
         "yaxis": "y3"
        },
        {
         "legendgroup": "Sat-01 AM",
         "line": {
          "color": "rgb(192, 226, 100)"
         },
         "mode": "lines+markers",
         "name": "Sat-01 AM",
         "showlegend": false,
         "type": "scatter",
         "x": [
          "Sat-01 AM"
         ],
         "xaxis": "x",
         "y": [
          288.92777777777775
         ],
         "yaxis": "y"
        },
        {
         "legendgroup": "Sat-01 AM",
         "line": {
          "color": "rgb(192, 226, 100)"
         },
         "mode": "lines+markers",
         "name": "Sat-01 AM",
         "showlegend": true,
         "type": "scatter",
         "x": [
          0,
          0.01,
          0.02,
          0.03,
          0.04,
          0.05,
          0.06,
          0.07,
          0.08,
          0.09
         ],
         "xaxis": "x2",
         "y": [
          291.28305735554477,
          292.1060526109111,
          292.1529768528401,
          291.98125069222857,
          291.8605185924842,
          291.8387536040923,
          291.8791359700977,
          291.9391817818101,
          291.9933407848289,
          292.03080972055915
         ],
         "yaxis": "y2"
        },
        {
         "legendgroup": "Sat-01 AM",
         "line": {
          "color": "rgb(192, 226, 100)"
         },
         "mode": "lines+markers",
         "name": "Sat-01 AM",
         "showlegend": false,
         "type": "scatter",
         "x": [
          "Sat-01 AM"
         ],
         "xaxis": "x3",
         "y": [
          293.1481331229848
         ],
         "yaxis": "y3"
        },
        {
         "legendgroup": "Sat-03 AM",
         "line": {
          "color": "rgb(203, 230, 98)"
         },
         "mode": "lines+markers",
         "name": "Sat-03 AM",
         "showlegend": false,
         "type": "scatter",
         "x": [
          "Sat-03 AM"
         ],
         "xaxis": "x",
         "y": [
          288.59444444444443
         ],
         "yaxis": "y"
        },
        {
         "legendgroup": "Sat-03 AM",
         "line": {
          "color": "rgb(203, 230, 98)"
         },
         "mode": "lines+markers",
         "name": "Sat-03 AM",
         "showlegend": true,
         "type": "scatter",
         "x": [
          0,
          0.01,
          0.02,
          0.03,
          0.04,
          0.05,
          0.06,
          0.07,
          0.08,
          0.09
         ],
         "xaxis": "x2",
         "y": [
          290.78842306216126,
          291.7096546610144,
          291.9996508082025,
          291.97825896416106,
          291.9013559368188,
          291.8709938029769,
          291.8919613460037,
          291.93801987034294,
          291.98543120099055,
          292.02120963393213
         ],
         "yaxis": "y2"
        },
        {
         "legendgroup": "Sat-03 AM",
         "line": {
          "color": "rgb(203, 230, 98)"
         },
         "mode": "lines+markers",
         "name": "Sat-03 AM",
         "showlegend": false,
         "type": "scatter",
         "x": [
          "Sat-03 AM"
         ],
         "xaxis": "x3",
         "y": [
          293.148054988599
         ],
         "yaxis": "y3"
        },
        {
         "legendgroup": "Sat-05 AM",
         "line": {
          "color": "rgb(214, 233, 96)"
         },
         "mode": "lines+markers",
         "name": "Sat-05 AM",
         "showlegend": false,
         "type": "scatter",
         "x": [
          "Sat-05 AM"
         ],
         "xaxis": "x",
         "y": [
          289.15
         ],
         "yaxis": "y"
        },
        {
         "legendgroup": "Sat-05 AM",
         "line": {
          "color": "rgb(214, 233, 96)"
         },
         "mode": "lines+markers",
         "name": "Sat-05 AM",
         "showlegend": true,
         "type": "scatter",
         "x": [
          0,
          0.01,
          0.02,
          0.03,
          0.04,
          0.05,
          0.06,
          0.07,
          0.08,
          0.09
         ],
         "xaxis": "x2",
         "y": [
          290.5129996067184,
          291.39661971351666,
          291.82096469110076,
          291.9273340810858,
          291.9127764586266,
          291.89402145607414,
          291.90563234670293,
          291.94014177114946,
          291.9803809695902,
          292.0140168866168
         ],
         "yaxis": "y2"
        },
        {
         "legendgroup": "Sat-05 AM",
         "line": {
          "color": "rgb(214, 233, 96)"
         },
         "mode": "lines+markers",
         "name": "Sat-05 AM",
         "showlegend": false,
         "type": "scatter",
         "x": [
          "Sat-05 AM"
         ],
         "xaxis": "x3",
         "y": [
          293.1479762723735
         ],
         "yaxis": "y3"
        },
        {
         "legendgroup": "Sat-07 AM",
         "line": {
          "color": "rgb(226, 236, 95)"
         },
         "mode": "lines+markers",
         "name": "Sat-07 AM",
         "showlegend": false,
         "type": "scatter",
         "x": [
          "Sat-07 AM"
         ],
         "xaxis": "x",
         "y": [
          288.4833333333333
         ],
         "yaxis": "y"
        },
        {
         "legendgroup": "Sat-07 AM",
         "line": {
          "color": "rgb(226, 236, 95)"
         },
         "mode": "lines+markers",
         "name": "Sat-07 AM",
         "showlegend": true,
         "type": "scatter",
         "x": [
          0,
          0.01,
          0.02,
          0.03,
          0.04,
          0.05,
          0.06,
          0.07,
          0.08,
          0.09
         ],
         "xaxis": "x2",
         "y": [
          290.38259024628644,
          291.1916260438233,
          291.6575031272206,
          291.85143487248695,
          291.8991002950257,
          291.9043524514618,
          291.9164372932519,
          291.94377081953604,
          291.9778838775768,
          292.0094013091359
         ],
         "yaxis": "y2"
        },
        {
         "legendgroup": "Sat-07 AM",
         "line": {
          "color": "rgb(226, 236, 95)"
         },
         "mode": "lines+markers",
         "name": "Sat-07 AM",
         "showlegend": false,
         "type": "scatter",
         "x": [
          "Sat-07 AM"
         ],
         "xaxis": "x3",
         "y": [
          293.14789715097044
         ],
         "yaxis": "y3"
        }
       ],
       "layout": {
        "annotations": [
         {
          "font": {
           "size": 16
          },
          "showarrow": false,
          "text": "Amb Temp",
          "x": 0.14444444444444446,
          "xanchor": "center",
          "xref": "paper",
          "y": 1,
          "yanchor": "bottom",
          "yref": "paper"
         },
         {
          "font": {
           "size": 16
          },
          "showarrow": false,
          "text": "Wall Temps",
          "x": 0.5,
          "xanchor": "center",
          "xref": "paper",
          "y": 1,
          "yanchor": "bottom",
          "yref": "paper"
         },
         {
          "font": {
           "size": 16
          },
          "showarrow": false,
          "text": "Room Temp",
          "x": 0.8555555555555556,
          "xanchor": "center",
          "xref": "paper",
          "y": 1,
          "yanchor": "bottom",
          "yref": "paper"
         }
        ],
        "template": {
         "data": {
          "bar": [
           {
            "error_x": {
             "color": "#2a3f5f"
            },
            "error_y": {
             "color": "#2a3f5f"
            },
            "marker": {
             "line": {
              "color": "#E5ECF6",
              "width": 0.5
             },
             "pattern": {
              "fillmode": "overlay",
              "size": 10,
              "solidity": 0.2
             }
            },
            "type": "bar"
           }
          ],
          "barpolar": [
           {
            "marker": {
             "line": {
              "color": "#E5ECF6",
              "width": 0.5
             },
             "pattern": {
              "fillmode": "overlay",
              "size": 10,
              "solidity": 0.2
             }
            },
            "type": "barpolar"
           }
          ],
          "carpet": [
           {
            "aaxis": {
             "endlinecolor": "#2a3f5f",
             "gridcolor": "white",
             "linecolor": "white",
             "minorgridcolor": "white",
             "startlinecolor": "#2a3f5f"
            },
            "baxis": {
             "endlinecolor": "#2a3f5f",
             "gridcolor": "white",
             "linecolor": "white",
             "minorgridcolor": "white",
             "startlinecolor": "#2a3f5f"
            },
            "type": "carpet"
           }
          ],
          "choropleth": [
           {
            "colorbar": {
             "outlinewidth": 0,
             "ticks": ""
            },
            "type": "choropleth"
           }
          ],
          "contour": [
           {
            "colorbar": {
             "outlinewidth": 0,
             "ticks": ""
            },
            "colorscale": [
             [
              0,
              "#0d0887"
             ],
             [
              0.1111111111111111,
              "#46039f"
             ],
             [
              0.2222222222222222,
              "#7201a8"
             ],
             [
              0.3333333333333333,
              "#9c179e"
             ],
             [
              0.4444444444444444,
              "#bd3786"
             ],
             [
              0.5555555555555556,
              "#d8576b"
             ],
             [
              0.6666666666666666,
              "#ed7953"
             ],
             [
              0.7777777777777778,
              "#fb9f3a"
             ],
             [
              0.8888888888888888,
              "#fdca26"
             ],
             [
              1,
              "#f0f921"
             ]
            ],
            "type": "contour"
           }
          ],
          "contourcarpet": [
           {
            "colorbar": {
             "outlinewidth": 0,
             "ticks": ""
            },
            "type": "contourcarpet"
           }
          ],
          "heatmap": [
           {
            "colorbar": {
             "outlinewidth": 0,
             "ticks": ""
            },
            "colorscale": [
             [
              0,
              "#0d0887"
             ],
             [
              0.1111111111111111,
              "#46039f"
             ],
             [
              0.2222222222222222,
              "#7201a8"
             ],
             [
              0.3333333333333333,
              "#9c179e"
             ],
             [
              0.4444444444444444,
              "#bd3786"
             ],
             [
              0.5555555555555556,
              "#d8576b"
             ],
             [
              0.6666666666666666,
              "#ed7953"
             ],
             [
              0.7777777777777778,
              "#fb9f3a"
             ],
             [
              0.8888888888888888,
              "#fdca26"
             ],
             [
              1,
              "#f0f921"
             ]
            ],
            "type": "heatmap"
           }
          ],
          "heatmapgl": [
           {
            "colorbar": {
             "outlinewidth": 0,
             "ticks": ""
            },
            "colorscale": [
             [
              0,
              "#0d0887"
             ],
             [
              0.1111111111111111,
              "#46039f"
             ],
             [
              0.2222222222222222,
              "#7201a8"
             ],
             [
              0.3333333333333333,
              "#9c179e"
             ],
             [
              0.4444444444444444,
              "#bd3786"
             ],
             [
              0.5555555555555556,
              "#d8576b"
             ],
             [
              0.6666666666666666,
              "#ed7953"
             ],
             [
              0.7777777777777778,
              "#fb9f3a"
             ],
             [
              0.8888888888888888,
              "#fdca26"
             ],
             [
              1,
              "#f0f921"
             ]
            ],
            "type": "heatmapgl"
           }
          ],
          "histogram": [
           {
            "marker": {
             "pattern": {
              "fillmode": "overlay",
              "size": 10,
              "solidity": 0.2
             }
            },
            "type": "histogram"
           }
          ],
          "histogram2d": [
           {
            "colorbar": {
             "outlinewidth": 0,
             "ticks": ""
            },
            "colorscale": [
             [
              0,
              "#0d0887"
             ],
             [
              0.1111111111111111,
              "#46039f"
             ],
             [
              0.2222222222222222,
              "#7201a8"
             ],
             [
              0.3333333333333333,
              "#9c179e"
             ],
             [
              0.4444444444444444,
              "#bd3786"
             ],
             [
              0.5555555555555556,
              "#d8576b"
             ],
             [
              0.6666666666666666,
              "#ed7953"
             ],
             [
              0.7777777777777778,
              "#fb9f3a"
             ],
             [
              0.8888888888888888,
              "#fdca26"
             ],
             [
              1,
              "#f0f921"
             ]
            ],
            "type": "histogram2d"
           }
          ],
          "histogram2dcontour": [
           {
            "colorbar": {
             "outlinewidth": 0,
             "ticks": ""
            },
            "colorscale": [
             [
              0,
              "#0d0887"
             ],
             [
              0.1111111111111111,
              "#46039f"
             ],
             [
              0.2222222222222222,
              "#7201a8"
             ],
             [
              0.3333333333333333,
              "#9c179e"
             ],
             [
              0.4444444444444444,
              "#bd3786"
             ],
             [
              0.5555555555555556,
              "#d8576b"
             ],
             [
              0.6666666666666666,
              "#ed7953"
             ],
             [
              0.7777777777777778,
              "#fb9f3a"
             ],
             [
              0.8888888888888888,
              "#fdca26"
             ],
             [
              1,
              "#f0f921"
             ]
            ],
            "type": "histogram2dcontour"
           }
          ],
          "mesh3d": [
           {
            "colorbar": {
             "outlinewidth": 0,
             "ticks": ""
            },
            "type": "mesh3d"
           }
          ],
          "parcoords": [
           {
            "line": {
             "colorbar": {
              "outlinewidth": 0,
              "ticks": ""
             }
            },
            "type": "parcoords"
           }
          ],
          "pie": [
           {
            "automargin": true,
            "type": "pie"
           }
          ],
          "scatter": [
           {
            "fillpattern": {
             "fillmode": "overlay",
             "size": 10,
             "solidity": 0.2
            },
            "type": "scatter"
           }
          ],
          "scatter3d": [
           {
            "line": {
             "colorbar": {
              "outlinewidth": 0,
              "ticks": ""
             }
            },
            "marker": {
             "colorbar": {
              "outlinewidth": 0,
              "ticks": ""
             }
            },
            "type": "scatter3d"
           }
          ],
          "scattercarpet": [
           {
            "marker": {
             "colorbar": {
              "outlinewidth": 0,
              "ticks": ""
             }
            },
            "type": "scattercarpet"
           }
          ],
          "scattergeo": [
           {
            "marker": {
             "colorbar": {
              "outlinewidth": 0,
              "ticks": ""
             }
            },
            "type": "scattergeo"
           }
          ],
          "scattergl": [
           {
            "marker": {
             "colorbar": {
              "outlinewidth": 0,
              "ticks": ""
             }
            },
            "type": "scattergl"
           }
          ],
          "scattermapbox": [
           {
            "marker": {
             "colorbar": {
              "outlinewidth": 0,
              "ticks": ""
             }
            },
            "type": "scattermapbox"
           }
          ],
          "scatterpolar": [
           {
            "marker": {
             "colorbar": {
              "outlinewidth": 0,
              "ticks": ""
             }
            },
            "type": "scatterpolar"
           }
          ],
          "scatterpolargl": [
           {
            "marker": {
             "colorbar": {
              "outlinewidth": 0,
              "ticks": ""
             }
            },
            "type": "scatterpolargl"
           }
          ],
          "scatterternary": [
           {
            "marker": {
             "colorbar": {
              "outlinewidth": 0,
              "ticks": ""
             }
            },
            "type": "scatterternary"
           }
          ],
          "surface": [
           {
            "colorbar": {
             "outlinewidth": 0,
             "ticks": ""
            },
            "colorscale": [
             [
              0,
              "#0d0887"
             ],
             [
              0.1111111111111111,
              "#46039f"
             ],
             [
              0.2222222222222222,
              "#7201a8"
             ],
             [
              0.3333333333333333,
              "#9c179e"
             ],
             [
              0.4444444444444444,
              "#bd3786"
             ],
             [
              0.5555555555555556,
              "#d8576b"
             ],
             [
              0.6666666666666666,
              "#ed7953"
             ],
             [
              0.7777777777777778,
              "#fb9f3a"
             ],
             [
              0.8888888888888888,
              "#fdca26"
             ],
             [
              1,
              "#f0f921"
             ]
            ],
            "type": "surface"
           }
          ],
          "table": [
           {
            "cells": {
             "fill": {
              "color": "#EBF0F8"
             },
             "line": {
              "color": "white"
             }
            },
            "header": {
             "fill": {
              "color": "#C8D4E3"
             },
             "line": {
              "color": "white"
             }
            },
            "type": "table"
           }
          ]
         },
         "layout": {
          "annotationdefaults": {
           "arrowcolor": "#2a3f5f",
           "arrowhead": 0,
           "arrowwidth": 1
          },
          "autotypenumbers": "strict",
          "coloraxis": {
           "colorbar": {
            "outlinewidth": 0,
            "ticks": ""
           }
          },
          "colorscale": {
           "diverging": [
            [
             0,
             "#8e0152"
            ],
            [
             0.1,
             "#c51b7d"
            ],
            [
             0.2,
             "#de77ae"
            ],
            [
             0.3,
             "#f1b6da"
            ],
            [
             0.4,
             "#fde0ef"
            ],
            [
             0.5,
             "#f7f7f7"
            ],
            [
             0.6,
             "#e6f5d0"
            ],
            [
             0.7,
             "#b8e186"
            ],
            [
             0.8,
             "#7fbc41"
            ],
            [
             0.9,
             "#4d9221"
            ],
            [
             1,
             "#276419"
            ]
           ],
           "sequential": [
            [
             0,
             "#0d0887"
            ],
            [
             0.1111111111111111,
             "#46039f"
            ],
            [
             0.2222222222222222,
             "#7201a8"
            ],
            [
             0.3333333333333333,
             "#9c179e"
            ],
            [
             0.4444444444444444,
             "#bd3786"
            ],
            [
             0.5555555555555556,
             "#d8576b"
            ],
            [
             0.6666666666666666,
             "#ed7953"
            ],
            [
             0.7777777777777778,
             "#fb9f3a"
            ],
            [
             0.8888888888888888,
             "#fdca26"
            ],
            [
             1,
             "#f0f921"
            ]
           ],
           "sequentialminus": [
            [
             0,
             "#0d0887"
            ],
            [
             0.1111111111111111,
             "#46039f"
            ],
            [
             0.2222222222222222,
             "#7201a8"
            ],
            [
             0.3333333333333333,
             "#9c179e"
            ],
            [
             0.4444444444444444,
             "#bd3786"
            ],
            [
             0.5555555555555556,
             "#d8576b"
            ],
            [
             0.6666666666666666,
             "#ed7953"
            ],
            [
             0.7777777777777778,
             "#fb9f3a"
            ],
            [
             0.8888888888888888,
             "#fdca26"
            ],
            [
             1,
             "#f0f921"
            ]
           ]
          },
          "colorway": [
           "#636efa",
           "#EF553B",
           "#00cc96",
           "#ab63fa",
           "#FFA15A",
           "#19d3f3",
           "#FF6692",
           "#B6E880",
           "#FF97FF",
           "#FECB52"
          ],
          "font": {
           "color": "#2a3f5f"
          },
          "geo": {
           "bgcolor": "white",
           "lakecolor": "white",
           "landcolor": "#E5ECF6",
           "showlakes": true,
           "showland": true,
           "subunitcolor": "white"
          },
          "hoverlabel": {
           "align": "left"
          },
          "hovermode": "closest",
          "mapbox": {
           "style": "light"
          },
          "paper_bgcolor": "white",
          "plot_bgcolor": "#E5ECF6",
          "polar": {
           "angularaxis": {
            "gridcolor": "white",
            "linecolor": "white",
            "ticks": ""
           },
           "bgcolor": "#E5ECF6",
           "radialaxis": {
            "gridcolor": "white",
            "linecolor": "white",
            "ticks": ""
           }
          },
          "scene": {
           "xaxis": {
            "backgroundcolor": "#E5ECF6",
            "gridcolor": "white",
            "gridwidth": 2,
            "linecolor": "white",
            "showbackground": true,
            "ticks": "",
            "zerolinecolor": "white"
           },
           "yaxis": {
            "backgroundcolor": "#E5ECF6",
            "gridcolor": "white",
            "gridwidth": 2,
            "linecolor": "white",
            "showbackground": true,
            "ticks": "",
            "zerolinecolor": "white"
           },
           "zaxis": {
            "backgroundcolor": "#E5ECF6",
            "gridcolor": "white",
            "gridwidth": 2,
            "linecolor": "white",
            "showbackground": true,
            "ticks": "",
            "zerolinecolor": "white"
           }
          },
          "shapedefaults": {
           "line": {
            "color": "#2a3f5f"
           }
          },
          "ternary": {
           "aaxis": {
            "gridcolor": "white",
            "linecolor": "white",
            "ticks": ""
           },
           "baxis": {
            "gridcolor": "white",
            "linecolor": "white",
            "ticks": ""
           },
           "bgcolor": "#E5ECF6",
           "caxis": {
            "gridcolor": "white",
            "linecolor": "white",
            "ticks": ""
           }
          },
          "title": {
           "x": 0.05
          },
          "xaxis": {
           "automargin": true,
           "gridcolor": "white",
           "linecolor": "white",
           "ticks": "",
           "title": {
            "standoff": 15
           },
           "zerolinecolor": "white",
           "zerolinewidth": 2
          },
          "yaxis": {
           "automargin": true,
           "gridcolor": "white",
           "linecolor": "white",
           "ticks": "",
           "title": {
            "standoff": 15
           },
           "zerolinecolor": "white",
           "zerolinewidth": 2
          }
         }
        },
        "xaxis": {
         "anchor": "y",
         "domain": [
          0,
          0.2888888888888889
         ],
         "title": {
          "text": "Time"
         }
        },
        "xaxis2": {
         "anchor": "y2",
         "domain": [
          0.35555555555555557,
          0.6444444444444445
         ],
         "title": {
          "text": "Wall Nodes Distance"
         }
        },
        "xaxis3": {
         "anchor": "y3",
         "domain": [
          0.7111111111111111,
          1
         ],
         "title": {
          "text": "Time"
         }
        },
        "yaxis": {
         "anchor": "x",
         "domain": [
          0,
          1
         ],
         "title": {
          "text": "Temperature (K )"
         }
        },
        "yaxis2": {
         "anchor": "x2",
         "domain": [
          0,
          1
         ]
        },
        "yaxis3": {
         "anchor": "x3",
         "domain": [
          0,
          1
         ]
        }
       }
      }
     },
     "metadata": {},
     "output_type": "display_data"
    }
   ],
   "source": [
    "# whether or not can turn time series off and on \n",
    "lg = True\n",
    "fig = make_subplots(rows=1, cols=3, shared_yaxes=False, subplot_titles=(\"Amb Temp\", \"Wall Temps\", \"Room Temp\"))\n",
    "\n",
    "#TODO relate \"4\" to number of time steps argument in VAvgIndoorAir function \n",
    "\n",
    "min_interv = 2*60 # interval to plot at in minutes, ie, once every two hours \n",
    "colors, colors2 = make_colors(min_interv=min_interv)\n",
    "\n",
    "cix=0\n",
    "for ix_time, x_at_time in enumerate(v1.all_wall_temps): # NEED way to abstract this \n",
    "    if ix_time%(min_interv*4)== 0:\n",
    "        timestamp = [(pd.Timedelta(times[ix_time], \"m\") + v1.twall.ext_temps.index[0]).strftime(str_names) ]\n",
    "\n",
    "        legendgroup = \"Same\" if lg == False else timestamp[0]\n",
    "\n",
    "        # Outdoor Air \n",
    "        fig.add_trace(go.Scatter(x=timestamp, y=[v1.twall.ext_temps[ix_time]], mode='lines+markers', line=dict(color=colors[cix]),\n",
    "        showlegend=False, name=timestamp[0], legendgroup=legendgroup\n",
    "        ), row = 1, col = 1)\n",
    "\n",
    "        # Wall Temperature \n",
    "        fig.add_trace(go.Scatter(x=v1.twall.x_vals, y=x_at_time, mode='lines+markers', line=dict(color=colors[cix]),\n",
    "        showlegend=True, name=timestamp[0], legendgroup=legendgroup\n",
    "        ), row = 1, col = 2)\n",
    "\n",
    "        # Indoor Air \n",
    "        fig.add_trace(go.Scatter(x=timestamp, y=[temps[ix_time]], mode='lines+markers', line=dict(color=colors[cix]),\n",
    "        showlegend=False, name=timestamp[0], legendgroup=legendgroup\n",
    "        ), row = 1, col = 3)\n",
    "\n",
    "\n",
    "\n",
    "        cix+=1\n",
    "\n",
    "fig['layout']['yaxis']['title']='Temperature (K )'\n",
    "fig['layout']['xaxis1']['title']='Time'\n",
    "fig['layout']['xaxis2']['title']='Wall Nodes Distance'\n",
    "fig['layout']['xaxis3']['title']='Time'\n",
    "fig.show()"
   ]
  },
  {
   "cell_type": "code",
   "execution_count": 71,
   "metadata": {},
   "outputs": [
    {
     "data": {
      "application/vnd.plotly.v1+json": {
       "config": {
        "plotlyServerURL": "https://plotly.com"
       },
       "data": [
        {
         "line": {
          "color": "blue"
         },
         "mode": "markers+lines",
         "name": "Simulation",
         "type": "scatter",
         "x": [
          "Wed-09 AM",
          "Wed-11 AM",
          "Wed-01 PM",
          "Wed-03 PM",
          "Wed-05 PM",
          "Wed-07 PM",
          "Wed-09 PM",
          "Wed-11 PM",
          "Thu-01 AM",
          "Thu-03 AM",
          "Thu-05 AM",
          "Thu-07 AM",
          "Thu-09 AM",
          "Thu-11 AM",
          "Thu-01 PM",
          "Thu-03 PM",
          "Thu-05 PM",
          "Thu-07 PM",
          "Thu-09 PM",
          "Thu-11 PM",
          "Fri-01 AM",
          "Fri-03 AM",
          "Fri-05 AM",
          "Fri-07 AM",
          "Fri-09 AM",
          "Fri-11 AM",
          "Fri-01 PM",
          "Fri-03 PM",
          "Fri-05 PM",
          "Fri-07 PM",
          "Fri-09 PM",
          "Fri-11 PM",
          "Sat-01 AM",
          "Sat-03 AM",
          "Sat-05 AM",
          "Sat-07 AM"
         ],
         "xaxis": "x",
         "y": [
          293.15,
          293.14999083572087,
          293.14997029212884,
          293.1499426917564,
          293.149909655342,
          293.14987204922954,
          293.1498304505091,
          293.14978530726773,
          293.1497370126251,
          293.1496859417667,
          293.1496324628218,
          293.1495769255235,
          293.14951963689975,
          293.1494608370298,
          293.14940068542177,
          293.1493392625576,
          293.14927658553563,
          293.1492126339477,
          293.14914737979086,
          293.1490808148082,
          293.1490129714045,
          293.1489439335867,
          293.1488738323669,
          293.1488028238346,
          293.1487310572204,
          293.1486586452396,
          293.1485856454075,
          293.14851205541214,
          293.14843782296794,
          293.14836286864164,
          293.14828711710544,
          293.14821052865364,
          293.1481331229848,
          293.148054988599,
          293.1479762723735,
          293.14789715097044
         ],
         "yaxis": "y"
        },
        {
         "line": {
          "color": "red"
         },
         "mode": "markers+lines",
         "name": "Real",
         "type": "scatter",
         "x": [
          "Wed-09 AM",
          "Wed-11 AM",
          "Wed-01 PM",
          "Wed-03 PM",
          "Wed-05 PM",
          "Wed-07 PM",
          "Wed-09 PM",
          "Wed-11 PM",
          "Thu-01 AM",
          "Thu-03 AM",
          "Thu-05 AM",
          "Thu-07 AM",
          "Thu-09 AM",
          "Thu-11 AM",
          "Thu-01 PM",
          "Thu-03 PM",
          "Thu-05 PM",
          "Thu-07 PM",
          "Thu-09 PM",
          "Thu-11 PM",
          "Fri-01 AM",
          "Fri-03 AM",
          "Fri-05 AM",
          "Fri-07 AM",
          "Fri-09 AM",
          "Fri-11 AM",
          "Fri-01 PM",
          "Fri-03 PM",
          "Fri-05 PM",
          "Fri-07 PM",
          "Fri-09 PM",
          "Fri-11 PM",
          "Sat-01 AM",
          "Sat-03 AM",
          "Sat-05 AM",
          "Sat-07 AM"
         ],
         "xaxis": "x",
         "y": [
          297.26099999999997,
          297.8336,
          297.8986,
          297.9362,
          297.97459999999995,
          297.79839999999996,
          297.5553333333333,
          297.4676,
          297.383,
          297.27779999999996,
          297.2018,
          297.13439999999997,
          297.51559999999995,
          297.78479999999996,
          297.7784,
          297.856,
          297.977,
          297.89619999999996,
          297.48839999999996,
          297.181,
          297.181,
          297.18739999999997,
          297.132,
          297.10639999999995,
          297.30019999999996,
          297.6518,
          297.9658,
          298.0972333333333,
          298.123,
          298.0268,
          297.8008,
          297.635,
          297.2394,
          297.0136,
          297.108,
          297.1128
         ],
         "yaxis": "y"
        },
        {
         "line": {
          "color": "blue"
         },
         "mode": "markers+lines",
         "name": "Simulation",
         "showlegend": false,
         "type": "scatter",
         "x": [
          "Wed-09 AM",
          "Wed-11 AM",
          "Wed-01 PM",
          "Wed-03 PM",
          "Wed-05 PM",
          "Wed-07 PM",
          "Wed-09 PM",
          "Wed-11 PM",
          "Thu-01 AM",
          "Thu-03 AM",
          "Thu-05 AM",
          "Thu-07 AM",
          "Thu-09 AM",
          "Thu-11 AM",
          "Thu-01 PM",
          "Thu-03 PM",
          "Thu-05 PM",
          "Thu-07 PM",
          "Thu-09 PM",
          "Thu-11 PM",
          "Fri-01 AM",
          "Fri-03 AM",
          "Fri-05 AM",
          "Fri-07 AM",
          "Fri-09 AM",
          "Fri-11 AM",
          "Fri-01 PM",
          "Fri-03 PM",
          "Fri-05 PM",
          "Fri-07 PM",
          "Fri-09 PM",
          "Fri-11 PM",
          "Sat-01 AM",
          "Sat-03 AM",
          "Sat-05 AM",
          "Sat-07 AM"
         ],
         "xaxis": "x2",
         "y": [
          1,
          0.9956419700237608,
          0.9858725611215033,
          0.9727473333660872,
          0.957037021348845,
          0.9391536108220417,
          0.9193715342940477,
          0.8979038774411072,
          0.8749375864967132,
          0.8506510791367071,
          0.8252194175477011,
          0.7988089156456369,
          0.7715655791380455,
          0.7436035765645448,
          0.7149987613039264,
          0.6857894061314346,
          0.655983642104728,
          0.6255717641959281,
          0.5945404557633134,
          0.5628857902476204,
          0.5306231775923012,
          0.4977925669115707,
          0.4644562604161516,
          0.4306884856949967,
          0.3965602086745871,
          0.3621250306003124,
          0.32741030258032194,
          0.292414925211541,
          0.2571140342949907,
          0.2214698557347783,
          0.1854465677398046,
          0.1490252884521946,
          0.11221538543706523,
          0.07505894446908315,
          0.03762581239263452,
          0
         ],
         "yaxis": "y2"
        },
        {
         "line": {
          "color": "red"
         },
         "mode": "markers+lines",
         "name": "Real",
         "showlegend": false,
         "type": "scatter",
         "x": [
          "Wed-09 AM",
          "Wed-11 AM",
          "Wed-01 PM",
          "Wed-03 PM",
          "Wed-05 PM",
          "Wed-07 PM",
          "Wed-09 PM",
          "Wed-11 PM",
          "Thu-01 AM",
          "Thu-03 AM",
          "Thu-05 AM",
          "Thu-07 AM",
          "Thu-09 AM",
          "Thu-11 AM",
          "Thu-01 PM",
          "Thu-03 PM",
          "Thu-05 PM",
          "Thu-07 PM",
          "Thu-09 PM",
          "Thu-11 PM",
          "Fri-01 AM",
          "Fri-03 AM",
          "Fri-05 AM",
          "Fri-07 AM",
          "Fri-09 AM",
          "Fri-11 AM",
          "Fri-01 PM",
          "Fri-03 PM",
          "Fri-05 PM",
          "Fri-07 PM",
          "Fri-09 PM",
          "Fri-11 PM",
          "Sat-01 AM",
          "Sat-03 AM",
          "Sat-05 AM",
          "Sat-07 AM"
         ],
         "xaxis": "x2",
         "y": [
          0.22300342527489808,
          0.7391382729403262,
          0.7977285018929114,
          0.8316206958716367,
          0.8662340003605203,
          0.7074094104921272,
          0.48831200048071094,
          0.40923021453038605,
          0.3329727780782285,
          0.2381467459887879,
          0.1696412475211789,
          0.10888768703801599,
          0.45249684514147787,
          0.6951505318189735,
          0.6893816477375014,
          0.7593293672255297,
          0.868397331891098,
          0.7955651703623338,
          0.4279790877951703,
          0.15089237425634341,
          0.15089237425634341,
          0.1566612583378155,
          0.10672435550748958,
          0.0836488191814988,
          0.2583378402739914,
          0.5752659095006193,
          0.8583017847485219,
          0.9767742323177412,
          1,
          0.9132864611501615,
          0.7095727420227049,
          0.5601225887867295,
          0.2035334414999042,
          0,
          0.08509104020191806,
          0.08941770326302212
         ],
         "yaxis": "y2"
        }
       ],
       "layout": {
        "annotations": [
         {
          "font": {
           "size": 16
          },
          "showarrow": false,
          "text": "Unnormalized",
          "x": 0.225,
          "xanchor": "center",
          "xref": "paper",
          "y": 1,
          "yanchor": "bottom",
          "yref": "paper"
         },
         {
          "font": {
           "size": 16
          },
          "showarrow": false,
          "text": "Normalized",
          "x": 0.775,
          "xanchor": "center",
          "xref": "paper",
          "y": 1,
          "yanchor": "bottom",
          "yref": "paper"
         }
        ],
        "template": {
         "data": {
          "bar": [
           {
            "error_x": {
             "color": "#2a3f5f"
            },
            "error_y": {
             "color": "#2a3f5f"
            },
            "marker": {
             "line": {
              "color": "#E5ECF6",
              "width": 0.5
             },
             "pattern": {
              "fillmode": "overlay",
              "size": 10,
              "solidity": 0.2
             }
            },
            "type": "bar"
           }
          ],
          "barpolar": [
           {
            "marker": {
             "line": {
              "color": "#E5ECF6",
              "width": 0.5
             },
             "pattern": {
              "fillmode": "overlay",
              "size": 10,
              "solidity": 0.2
             }
            },
            "type": "barpolar"
           }
          ],
          "carpet": [
           {
            "aaxis": {
             "endlinecolor": "#2a3f5f",
             "gridcolor": "white",
             "linecolor": "white",
             "minorgridcolor": "white",
             "startlinecolor": "#2a3f5f"
            },
            "baxis": {
             "endlinecolor": "#2a3f5f",
             "gridcolor": "white",
             "linecolor": "white",
             "minorgridcolor": "white",
             "startlinecolor": "#2a3f5f"
            },
            "type": "carpet"
           }
          ],
          "choropleth": [
           {
            "colorbar": {
             "outlinewidth": 0,
             "ticks": ""
            },
            "type": "choropleth"
           }
          ],
          "contour": [
           {
            "colorbar": {
             "outlinewidth": 0,
             "ticks": ""
            },
            "colorscale": [
             [
              0,
              "#0d0887"
             ],
             [
              0.1111111111111111,
              "#46039f"
             ],
             [
              0.2222222222222222,
              "#7201a8"
             ],
             [
              0.3333333333333333,
              "#9c179e"
             ],
             [
              0.4444444444444444,
              "#bd3786"
             ],
             [
              0.5555555555555556,
              "#d8576b"
             ],
             [
              0.6666666666666666,
              "#ed7953"
             ],
             [
              0.7777777777777778,
              "#fb9f3a"
             ],
             [
              0.8888888888888888,
              "#fdca26"
             ],
             [
              1,
              "#f0f921"
             ]
            ],
            "type": "contour"
           }
          ],
          "contourcarpet": [
           {
            "colorbar": {
             "outlinewidth": 0,
             "ticks": ""
            },
            "type": "contourcarpet"
           }
          ],
          "heatmap": [
           {
            "colorbar": {
             "outlinewidth": 0,
             "ticks": ""
            },
            "colorscale": [
             [
              0,
              "#0d0887"
             ],
             [
              0.1111111111111111,
              "#46039f"
             ],
             [
              0.2222222222222222,
              "#7201a8"
             ],
             [
              0.3333333333333333,
              "#9c179e"
             ],
             [
              0.4444444444444444,
              "#bd3786"
             ],
             [
              0.5555555555555556,
              "#d8576b"
             ],
             [
              0.6666666666666666,
              "#ed7953"
             ],
             [
              0.7777777777777778,
              "#fb9f3a"
             ],
             [
              0.8888888888888888,
              "#fdca26"
             ],
             [
              1,
              "#f0f921"
             ]
            ],
            "type": "heatmap"
           }
          ],
          "heatmapgl": [
           {
            "colorbar": {
             "outlinewidth": 0,
             "ticks": ""
            },
            "colorscale": [
             [
              0,
              "#0d0887"
             ],
             [
              0.1111111111111111,
              "#46039f"
             ],
             [
              0.2222222222222222,
              "#7201a8"
             ],
             [
              0.3333333333333333,
              "#9c179e"
             ],
             [
              0.4444444444444444,
              "#bd3786"
             ],
             [
              0.5555555555555556,
              "#d8576b"
             ],
             [
              0.6666666666666666,
              "#ed7953"
             ],
             [
              0.7777777777777778,
              "#fb9f3a"
             ],
             [
              0.8888888888888888,
              "#fdca26"
             ],
             [
              1,
              "#f0f921"
             ]
            ],
            "type": "heatmapgl"
           }
          ],
          "histogram": [
           {
            "marker": {
             "pattern": {
              "fillmode": "overlay",
              "size": 10,
              "solidity": 0.2
             }
            },
            "type": "histogram"
           }
          ],
          "histogram2d": [
           {
            "colorbar": {
             "outlinewidth": 0,
             "ticks": ""
            },
            "colorscale": [
             [
              0,
              "#0d0887"
             ],
             [
              0.1111111111111111,
              "#46039f"
             ],
             [
              0.2222222222222222,
              "#7201a8"
             ],
             [
              0.3333333333333333,
              "#9c179e"
             ],
             [
              0.4444444444444444,
              "#bd3786"
             ],
             [
              0.5555555555555556,
              "#d8576b"
             ],
             [
              0.6666666666666666,
              "#ed7953"
             ],
             [
              0.7777777777777778,
              "#fb9f3a"
             ],
             [
              0.8888888888888888,
              "#fdca26"
             ],
             [
              1,
              "#f0f921"
             ]
            ],
            "type": "histogram2d"
           }
          ],
          "histogram2dcontour": [
           {
            "colorbar": {
             "outlinewidth": 0,
             "ticks": ""
            },
            "colorscale": [
             [
              0,
              "#0d0887"
             ],
             [
              0.1111111111111111,
              "#46039f"
             ],
             [
              0.2222222222222222,
              "#7201a8"
             ],
             [
              0.3333333333333333,
              "#9c179e"
             ],
             [
              0.4444444444444444,
              "#bd3786"
             ],
             [
              0.5555555555555556,
              "#d8576b"
             ],
             [
              0.6666666666666666,
              "#ed7953"
             ],
             [
              0.7777777777777778,
              "#fb9f3a"
             ],
             [
              0.8888888888888888,
              "#fdca26"
             ],
             [
              1,
              "#f0f921"
             ]
            ],
            "type": "histogram2dcontour"
           }
          ],
          "mesh3d": [
           {
            "colorbar": {
             "outlinewidth": 0,
             "ticks": ""
            },
            "type": "mesh3d"
           }
          ],
          "parcoords": [
           {
            "line": {
             "colorbar": {
              "outlinewidth": 0,
              "ticks": ""
             }
            },
            "type": "parcoords"
           }
          ],
          "pie": [
           {
            "automargin": true,
            "type": "pie"
           }
          ],
          "scatter": [
           {
            "fillpattern": {
             "fillmode": "overlay",
             "size": 10,
             "solidity": 0.2
            },
            "type": "scatter"
           }
          ],
          "scatter3d": [
           {
            "line": {
             "colorbar": {
              "outlinewidth": 0,
              "ticks": ""
             }
            },
            "marker": {
             "colorbar": {
              "outlinewidth": 0,
              "ticks": ""
             }
            },
            "type": "scatter3d"
           }
          ],
          "scattercarpet": [
           {
            "marker": {
             "colorbar": {
              "outlinewidth": 0,
              "ticks": ""
             }
            },
            "type": "scattercarpet"
           }
          ],
          "scattergeo": [
           {
            "marker": {
             "colorbar": {
              "outlinewidth": 0,
              "ticks": ""
             }
            },
            "type": "scattergeo"
           }
          ],
          "scattergl": [
           {
            "marker": {
             "colorbar": {
              "outlinewidth": 0,
              "ticks": ""
             }
            },
            "type": "scattergl"
           }
          ],
          "scattermapbox": [
           {
            "marker": {
             "colorbar": {
              "outlinewidth": 0,
              "ticks": ""
             }
            },
            "type": "scattermapbox"
           }
          ],
          "scatterpolar": [
           {
            "marker": {
             "colorbar": {
              "outlinewidth": 0,
              "ticks": ""
             }
            },
            "type": "scatterpolar"
           }
          ],
          "scatterpolargl": [
           {
            "marker": {
             "colorbar": {
              "outlinewidth": 0,
              "ticks": ""
             }
            },
            "type": "scatterpolargl"
           }
          ],
          "scatterternary": [
           {
            "marker": {
             "colorbar": {
              "outlinewidth": 0,
              "ticks": ""
             }
            },
            "type": "scatterternary"
           }
          ],
          "surface": [
           {
            "colorbar": {
             "outlinewidth": 0,
             "ticks": ""
            },
            "colorscale": [
             [
              0,
              "#0d0887"
             ],
             [
              0.1111111111111111,
              "#46039f"
             ],
             [
              0.2222222222222222,
              "#7201a8"
             ],
             [
              0.3333333333333333,
              "#9c179e"
             ],
             [
              0.4444444444444444,
              "#bd3786"
             ],
             [
              0.5555555555555556,
              "#d8576b"
             ],
             [
              0.6666666666666666,
              "#ed7953"
             ],
             [
              0.7777777777777778,
              "#fb9f3a"
             ],
             [
              0.8888888888888888,
              "#fdca26"
             ],
             [
              1,
              "#f0f921"
             ]
            ],
            "type": "surface"
           }
          ],
          "table": [
           {
            "cells": {
             "fill": {
              "color": "#EBF0F8"
             },
             "line": {
              "color": "white"
             }
            },
            "header": {
             "fill": {
              "color": "#C8D4E3"
             },
             "line": {
              "color": "white"
             }
            },
            "type": "table"
           }
          ]
         },
         "layout": {
          "annotationdefaults": {
           "arrowcolor": "#2a3f5f",
           "arrowhead": 0,
           "arrowwidth": 1
          },
          "autotypenumbers": "strict",
          "coloraxis": {
           "colorbar": {
            "outlinewidth": 0,
            "ticks": ""
           }
          },
          "colorscale": {
           "diverging": [
            [
             0,
             "#8e0152"
            ],
            [
             0.1,
             "#c51b7d"
            ],
            [
             0.2,
             "#de77ae"
            ],
            [
             0.3,
             "#f1b6da"
            ],
            [
             0.4,
             "#fde0ef"
            ],
            [
             0.5,
             "#f7f7f7"
            ],
            [
             0.6,
             "#e6f5d0"
            ],
            [
             0.7,
             "#b8e186"
            ],
            [
             0.8,
             "#7fbc41"
            ],
            [
             0.9,
             "#4d9221"
            ],
            [
             1,
             "#276419"
            ]
           ],
           "sequential": [
            [
             0,
             "#0d0887"
            ],
            [
             0.1111111111111111,
             "#46039f"
            ],
            [
             0.2222222222222222,
             "#7201a8"
            ],
            [
             0.3333333333333333,
             "#9c179e"
            ],
            [
             0.4444444444444444,
             "#bd3786"
            ],
            [
             0.5555555555555556,
             "#d8576b"
            ],
            [
             0.6666666666666666,
             "#ed7953"
            ],
            [
             0.7777777777777778,
             "#fb9f3a"
            ],
            [
             0.8888888888888888,
             "#fdca26"
            ],
            [
             1,
             "#f0f921"
            ]
           ],
           "sequentialminus": [
            [
             0,
             "#0d0887"
            ],
            [
             0.1111111111111111,
             "#46039f"
            ],
            [
             0.2222222222222222,
             "#7201a8"
            ],
            [
             0.3333333333333333,
             "#9c179e"
            ],
            [
             0.4444444444444444,
             "#bd3786"
            ],
            [
             0.5555555555555556,
             "#d8576b"
            ],
            [
             0.6666666666666666,
             "#ed7953"
            ],
            [
             0.7777777777777778,
             "#fb9f3a"
            ],
            [
             0.8888888888888888,
             "#fdca26"
            ],
            [
             1,
             "#f0f921"
            ]
           ]
          },
          "colorway": [
           "#636efa",
           "#EF553B",
           "#00cc96",
           "#ab63fa",
           "#FFA15A",
           "#19d3f3",
           "#FF6692",
           "#B6E880",
           "#FF97FF",
           "#FECB52"
          ],
          "font": {
           "color": "#2a3f5f"
          },
          "geo": {
           "bgcolor": "white",
           "lakecolor": "white",
           "landcolor": "#E5ECF6",
           "showlakes": true,
           "showland": true,
           "subunitcolor": "white"
          },
          "hoverlabel": {
           "align": "left"
          },
          "hovermode": "closest",
          "mapbox": {
           "style": "light"
          },
          "paper_bgcolor": "white",
          "plot_bgcolor": "#E5ECF6",
          "polar": {
           "angularaxis": {
            "gridcolor": "white",
            "linecolor": "white",
            "ticks": ""
           },
           "bgcolor": "#E5ECF6",
           "radialaxis": {
            "gridcolor": "white",
            "linecolor": "white",
            "ticks": ""
           }
          },
          "scene": {
           "xaxis": {
            "backgroundcolor": "#E5ECF6",
            "gridcolor": "white",
            "gridwidth": 2,
            "linecolor": "white",
            "showbackground": true,
            "ticks": "",
            "zerolinecolor": "white"
           },
           "yaxis": {
            "backgroundcolor": "#E5ECF6",
            "gridcolor": "white",
            "gridwidth": 2,
            "linecolor": "white",
            "showbackground": true,
            "ticks": "",
            "zerolinecolor": "white"
           },
           "zaxis": {
            "backgroundcolor": "#E5ECF6",
            "gridcolor": "white",
            "gridwidth": 2,
            "linecolor": "white",
            "showbackground": true,
            "ticks": "",
            "zerolinecolor": "white"
           }
          },
          "shapedefaults": {
           "line": {
            "color": "#2a3f5f"
           }
          },
          "ternary": {
           "aaxis": {
            "gridcolor": "white",
            "linecolor": "white",
            "ticks": ""
           },
           "baxis": {
            "gridcolor": "white",
            "linecolor": "white",
            "ticks": ""
           },
           "bgcolor": "#E5ECF6",
           "caxis": {
            "gridcolor": "white",
            "linecolor": "white",
            "ticks": ""
           }
          },
          "title": {
           "x": 0.05
          },
          "xaxis": {
           "automargin": true,
           "gridcolor": "white",
           "linecolor": "white",
           "ticks": "",
           "title": {
            "standoff": 15
           },
           "zerolinecolor": "white",
           "zerolinewidth": 2
          },
          "yaxis": {
           "automargin": true,
           "gridcolor": "white",
           "linecolor": "white",
           "ticks": "",
           "title": {
            "standoff": 15
           },
           "zerolinecolor": "white",
           "zerolinewidth": 2
          }
         }
        },
        "title": {
         "text": "Comparison of Room Temperatures"
        },
        "xaxis": {
         "anchor": "y",
         "domain": [
          0,
          0.45
         ],
         "title": {
          "text": "Time"
         }
        },
        "xaxis2": {
         "anchor": "y2",
         "domain": [
          0.55,
          1
         ]
        },
        "yaxis": {
         "anchor": "x",
         "domain": [
          0,
          1
         ],
         "title": {
          "text": "Temperature"
         }
        },
        "yaxis2": {
         "anchor": "x2",
         "domain": [
          0,
          1
         ]
        }
       }
      }
     },
     "metadata": {},
     "output_type": "display_data"
    }
   ],
   "source": [
    "fig = go.Figure()\n",
    "\n",
    "fig = make_subplots(rows=1, cols=2, shared_yaxes=False, subplot_titles=(\"Unnormalized\", \"Normalized\"))\n",
    "\n",
    "ix_times = [ix_time for ix_time,_ in enumerate(v1.all_wall_temps) if ix_time%(min_interv*4)==0]\n",
    "timestamps = [(pd.Timedelta(times[i], \"m\") + v1.twall.ext_temps.index[0]).strftime(str_names) for i in ix_times]\n",
    "\n",
    "\n",
    "fig.add_trace(go.Scatter(x=timestamps, y=temps[ix_times], mode='markers+lines', name=\"Simulation\", line=dict(color=\"blue\")), row = 1, col = 1)\n",
    "fig.add_trace(go.Scatter(x=timestamps, y=v1.twall.real_temps[ix_times], mode='markers+lines', name=\"Real\", \n",
    "line=dict(color=\"red\")\n",
    " ), row = 1, col = 1)\n",
    "\n",
    "\n",
    "fig.add_trace(go.Scatter(x=timestamps, y=h.normalize(temps[ix_times]), mode='markers+lines', name=\"Simulation\", line=dict(color=\"blue\"), showlegend=False), row = 1, col = 2)\n",
    "fig.add_trace(go.Scatter(x=timestamps, y=h.normalize(v1.twall.real_temps[ix_times]), mode='markers+lines', name=\"Real\",\n",
    "line=dict(color=\"red\"), showlegend=False\n",
    " ), row = 1, col = 2)\n",
    "\n",
    "fig.update_layout(xaxis_title='Time',\n",
    "                  yaxis_title='Temperature',\n",
    "                  title='Comparison of Room Temperatures')\n"
   ]
  },
  {
   "cell_type": "code",
   "execution_count": 72,
   "metadata": {},
   "outputs": [
    {
     "data": {
      "application/vnd.plotly.v1+json": {
       "config": {
        "plotlyServerURL": "https://plotly.com"
       },
       "data": [
        {
         "mode": "markers+lines",
         "type": "scatter",
         "x": [
          "Wed-09 AM",
          "Wed-11 AM",
          "Wed-01 PM",
          "Wed-03 PM",
          "Wed-05 PM",
          "Wed-07 PM",
          "Wed-09 PM",
          "Wed-11 PM",
          "Thu-01 AM",
          "Thu-03 AM",
          "Thu-05 AM",
          "Thu-07 AM",
          "Thu-09 AM",
          "Thu-11 AM",
          "Thu-01 PM",
          "Thu-03 PM",
          "Thu-05 PM",
          "Thu-07 PM",
          "Thu-09 PM",
          "Thu-11 PM",
          "Fri-01 AM",
          "Fri-03 AM",
          "Fri-05 AM",
          "Fri-07 AM",
          "Fri-09 AM",
          "Fri-11 AM",
          "Fri-01 PM",
          "Fri-03 PM",
          "Fri-05 PM",
          "Fri-07 PM",
          "Fri-09 PM",
          "Fri-11 PM",
          "Sat-01 AM",
          "Sat-03 AM",
          "Sat-05 AM",
          "Sat-07 AM"
         ],
         "y": [
          -0.001488638396835995,
          -0.4607668327665806,
          -0.7026314030466665,
          -0.8763308463782096,
          -1.0180172150228373,
          -1.140107028479406,
          -1.2479561976242621,
          -1.3439711678505546,
          -1.4290629156566865,
          -1.503472034346828,
          -1.5674734753698658,
          -1.6219145204603365,
          -1.6684011169573978,
          -1.7091208554821833,
          -1.74643994846042,
          -1.782463451413264,
          -1.8186762560759462,
          -1.8557268846366242,
          -1.8934156517125302,
          -1.9308372977542376,
          -1.966605898026728,
          -1.9992187727192459,
          -2.0275670146677385,
          -2.0513711328966338,
          -2.0712932729448994,
          -2.088715034810434,
          -2.105358668728968,
          -2.122868764044483,
          -2.142407404683354,
          -2.164327872118065,
          -2.1880383199785456,
          -2.2121202157339894,
          -2.234646804851309,
          -2.253690709333682,
          -2.2679187715134503,
          -2.2769916836690527
         ]
        }
       ],
       "layout": {
        "template": {
         "data": {
          "bar": [
           {
            "error_x": {
             "color": "#2a3f5f"
            },
            "error_y": {
             "color": "#2a3f5f"
            },
            "marker": {
             "line": {
              "color": "#E5ECF6",
              "width": 0.5
             },
             "pattern": {
              "fillmode": "overlay",
              "size": 10,
              "solidity": 0.2
             }
            },
            "type": "bar"
           }
          ],
          "barpolar": [
           {
            "marker": {
             "line": {
              "color": "#E5ECF6",
              "width": 0.5
             },
             "pattern": {
              "fillmode": "overlay",
              "size": 10,
              "solidity": 0.2
             }
            },
            "type": "barpolar"
           }
          ],
          "carpet": [
           {
            "aaxis": {
             "endlinecolor": "#2a3f5f",
             "gridcolor": "white",
             "linecolor": "white",
             "minorgridcolor": "white",
             "startlinecolor": "#2a3f5f"
            },
            "baxis": {
             "endlinecolor": "#2a3f5f",
             "gridcolor": "white",
             "linecolor": "white",
             "minorgridcolor": "white",
             "startlinecolor": "#2a3f5f"
            },
            "type": "carpet"
           }
          ],
          "choropleth": [
           {
            "colorbar": {
             "outlinewidth": 0,
             "ticks": ""
            },
            "type": "choropleth"
           }
          ],
          "contour": [
           {
            "colorbar": {
             "outlinewidth": 0,
             "ticks": ""
            },
            "colorscale": [
             [
              0,
              "#0d0887"
             ],
             [
              0.1111111111111111,
              "#46039f"
             ],
             [
              0.2222222222222222,
              "#7201a8"
             ],
             [
              0.3333333333333333,
              "#9c179e"
             ],
             [
              0.4444444444444444,
              "#bd3786"
             ],
             [
              0.5555555555555556,
              "#d8576b"
             ],
             [
              0.6666666666666666,
              "#ed7953"
             ],
             [
              0.7777777777777778,
              "#fb9f3a"
             ],
             [
              0.8888888888888888,
              "#fdca26"
             ],
             [
              1,
              "#f0f921"
             ]
            ],
            "type": "contour"
           }
          ],
          "contourcarpet": [
           {
            "colorbar": {
             "outlinewidth": 0,
             "ticks": ""
            },
            "type": "contourcarpet"
           }
          ],
          "heatmap": [
           {
            "colorbar": {
             "outlinewidth": 0,
             "ticks": ""
            },
            "colorscale": [
             [
              0,
              "#0d0887"
             ],
             [
              0.1111111111111111,
              "#46039f"
             ],
             [
              0.2222222222222222,
              "#7201a8"
             ],
             [
              0.3333333333333333,
              "#9c179e"
             ],
             [
              0.4444444444444444,
              "#bd3786"
             ],
             [
              0.5555555555555556,
              "#d8576b"
             ],
             [
              0.6666666666666666,
              "#ed7953"
             ],
             [
              0.7777777777777778,
              "#fb9f3a"
             ],
             [
              0.8888888888888888,
              "#fdca26"
             ],
             [
              1,
              "#f0f921"
             ]
            ],
            "type": "heatmap"
           }
          ],
          "heatmapgl": [
           {
            "colorbar": {
             "outlinewidth": 0,
             "ticks": ""
            },
            "colorscale": [
             [
              0,
              "#0d0887"
             ],
             [
              0.1111111111111111,
              "#46039f"
             ],
             [
              0.2222222222222222,
              "#7201a8"
             ],
             [
              0.3333333333333333,
              "#9c179e"
             ],
             [
              0.4444444444444444,
              "#bd3786"
             ],
             [
              0.5555555555555556,
              "#d8576b"
             ],
             [
              0.6666666666666666,
              "#ed7953"
             ],
             [
              0.7777777777777778,
              "#fb9f3a"
             ],
             [
              0.8888888888888888,
              "#fdca26"
             ],
             [
              1,
              "#f0f921"
             ]
            ],
            "type": "heatmapgl"
           }
          ],
          "histogram": [
           {
            "marker": {
             "pattern": {
              "fillmode": "overlay",
              "size": 10,
              "solidity": 0.2
             }
            },
            "type": "histogram"
           }
          ],
          "histogram2d": [
           {
            "colorbar": {
             "outlinewidth": 0,
             "ticks": ""
            },
            "colorscale": [
             [
              0,
              "#0d0887"
             ],
             [
              0.1111111111111111,
              "#46039f"
             ],
             [
              0.2222222222222222,
              "#7201a8"
             ],
             [
              0.3333333333333333,
              "#9c179e"
             ],
             [
              0.4444444444444444,
              "#bd3786"
             ],
             [
              0.5555555555555556,
              "#d8576b"
             ],
             [
              0.6666666666666666,
              "#ed7953"
             ],
             [
              0.7777777777777778,
              "#fb9f3a"
             ],
             [
              0.8888888888888888,
              "#fdca26"
             ],
             [
              1,
              "#f0f921"
             ]
            ],
            "type": "histogram2d"
           }
          ],
          "histogram2dcontour": [
           {
            "colorbar": {
             "outlinewidth": 0,
             "ticks": ""
            },
            "colorscale": [
             [
              0,
              "#0d0887"
             ],
             [
              0.1111111111111111,
              "#46039f"
             ],
             [
              0.2222222222222222,
              "#7201a8"
             ],
             [
              0.3333333333333333,
              "#9c179e"
             ],
             [
              0.4444444444444444,
              "#bd3786"
             ],
             [
              0.5555555555555556,
              "#d8576b"
             ],
             [
              0.6666666666666666,
              "#ed7953"
             ],
             [
              0.7777777777777778,
              "#fb9f3a"
             ],
             [
              0.8888888888888888,
              "#fdca26"
             ],
             [
              1,
              "#f0f921"
             ]
            ],
            "type": "histogram2dcontour"
           }
          ],
          "mesh3d": [
           {
            "colorbar": {
             "outlinewidth": 0,
             "ticks": ""
            },
            "type": "mesh3d"
           }
          ],
          "parcoords": [
           {
            "line": {
             "colorbar": {
              "outlinewidth": 0,
              "ticks": ""
             }
            },
            "type": "parcoords"
           }
          ],
          "pie": [
           {
            "automargin": true,
            "type": "pie"
           }
          ],
          "scatter": [
           {
            "fillpattern": {
             "fillmode": "overlay",
             "size": 10,
             "solidity": 0.2
            },
            "type": "scatter"
           }
          ],
          "scatter3d": [
           {
            "line": {
             "colorbar": {
              "outlinewidth": 0,
              "ticks": ""
             }
            },
            "marker": {
             "colorbar": {
              "outlinewidth": 0,
              "ticks": ""
             }
            },
            "type": "scatter3d"
           }
          ],
          "scattercarpet": [
           {
            "marker": {
             "colorbar": {
              "outlinewidth": 0,
              "ticks": ""
             }
            },
            "type": "scattercarpet"
           }
          ],
          "scattergeo": [
           {
            "marker": {
             "colorbar": {
              "outlinewidth": 0,
              "ticks": ""
             }
            },
            "type": "scattergeo"
           }
          ],
          "scattergl": [
           {
            "marker": {
             "colorbar": {
              "outlinewidth": 0,
              "ticks": ""
             }
            },
            "type": "scattergl"
           }
          ],
          "scattermapbox": [
           {
            "marker": {
             "colorbar": {
              "outlinewidth": 0,
              "ticks": ""
             }
            },
            "type": "scattermapbox"
           }
          ],
          "scatterpolar": [
           {
            "marker": {
             "colorbar": {
              "outlinewidth": 0,
              "ticks": ""
             }
            },
            "type": "scatterpolar"
           }
          ],
          "scatterpolargl": [
           {
            "marker": {
             "colorbar": {
              "outlinewidth": 0,
              "ticks": ""
             }
            },
            "type": "scatterpolargl"
           }
          ],
          "scatterternary": [
           {
            "marker": {
             "colorbar": {
              "outlinewidth": 0,
              "ticks": ""
             }
            },
            "type": "scatterternary"
           }
          ],
          "surface": [
           {
            "colorbar": {
             "outlinewidth": 0,
             "ticks": ""
            },
            "colorscale": [
             [
              0,
              "#0d0887"
             ],
             [
              0.1111111111111111,
              "#46039f"
             ],
             [
              0.2222222222222222,
              "#7201a8"
             ],
             [
              0.3333333333333333,
              "#9c179e"
             ],
             [
              0.4444444444444444,
              "#bd3786"
             ],
             [
              0.5555555555555556,
              "#d8576b"
             ],
             [
              0.6666666666666666,
              "#ed7953"
             ],
             [
              0.7777777777777778,
              "#fb9f3a"
             ],
             [
              0.8888888888888888,
              "#fdca26"
             ],
             [
              1,
              "#f0f921"
             ]
            ],
            "type": "surface"
           }
          ],
          "table": [
           {
            "cells": {
             "fill": {
              "color": "#EBF0F8"
             },
             "line": {
              "color": "white"
             }
            },
            "header": {
             "fill": {
              "color": "#C8D4E3"
             },
             "line": {
              "color": "white"
             }
            },
            "type": "table"
           }
          ]
         },
         "layout": {
          "annotationdefaults": {
           "arrowcolor": "#2a3f5f",
           "arrowhead": 0,
           "arrowwidth": 1
          },
          "autotypenumbers": "strict",
          "coloraxis": {
           "colorbar": {
            "outlinewidth": 0,
            "ticks": ""
           }
          },
          "colorscale": {
           "diverging": [
            [
             0,
             "#8e0152"
            ],
            [
             0.1,
             "#c51b7d"
            ],
            [
             0.2,
             "#de77ae"
            ],
            [
             0.3,
             "#f1b6da"
            ],
            [
             0.4,
             "#fde0ef"
            ],
            [
             0.5,
             "#f7f7f7"
            ],
            [
             0.6,
             "#e6f5d0"
            ],
            [
             0.7,
             "#b8e186"
            ],
            [
             0.8,
             "#7fbc41"
            ],
            [
             0.9,
             "#4d9221"
            ],
            [
             1,
             "#276419"
            ]
           ],
           "sequential": [
            [
             0,
             "#0d0887"
            ],
            [
             0.1111111111111111,
             "#46039f"
            ],
            [
             0.2222222222222222,
             "#7201a8"
            ],
            [
             0.3333333333333333,
             "#9c179e"
            ],
            [
             0.4444444444444444,
             "#bd3786"
            ],
            [
             0.5555555555555556,
             "#d8576b"
            ],
            [
             0.6666666666666666,
             "#ed7953"
            ],
            [
             0.7777777777777778,
             "#fb9f3a"
            ],
            [
             0.8888888888888888,
             "#fdca26"
            ],
            [
             1,
             "#f0f921"
            ]
           ],
           "sequentialminus": [
            [
             0,
             "#0d0887"
            ],
            [
             0.1111111111111111,
             "#46039f"
            ],
            [
             0.2222222222222222,
             "#7201a8"
            ],
            [
             0.3333333333333333,
             "#9c179e"
            ],
            [
             0.4444444444444444,
             "#bd3786"
            ],
            [
             0.5555555555555556,
             "#d8576b"
            ],
            [
             0.6666666666666666,
             "#ed7953"
            ],
            [
             0.7777777777777778,
             "#fb9f3a"
            ],
            [
             0.8888888888888888,
             "#fdca26"
            ],
            [
             1,
             "#f0f921"
            ]
           ]
          },
          "colorway": [
           "#636efa",
           "#EF553B",
           "#00cc96",
           "#ab63fa",
           "#FFA15A",
           "#19d3f3",
           "#FF6692",
           "#B6E880",
           "#FF97FF",
           "#FECB52"
          ],
          "font": {
           "color": "#2a3f5f"
          },
          "geo": {
           "bgcolor": "white",
           "lakecolor": "white",
           "landcolor": "#E5ECF6",
           "showlakes": true,
           "showland": true,
           "subunitcolor": "white"
          },
          "hoverlabel": {
           "align": "left"
          },
          "hovermode": "closest",
          "mapbox": {
           "style": "light"
          },
          "paper_bgcolor": "white",
          "plot_bgcolor": "#E5ECF6",
          "polar": {
           "angularaxis": {
            "gridcolor": "white",
            "linecolor": "white",
            "ticks": ""
           },
           "bgcolor": "#E5ECF6",
           "radialaxis": {
            "gridcolor": "white",
            "linecolor": "white",
            "ticks": ""
           }
          },
          "scene": {
           "xaxis": {
            "backgroundcolor": "#E5ECF6",
            "gridcolor": "white",
            "gridwidth": 2,
            "linecolor": "white",
            "showbackground": true,
            "ticks": "",
            "zerolinecolor": "white"
           },
           "yaxis": {
            "backgroundcolor": "#E5ECF6",
            "gridcolor": "white",
            "gridwidth": 2,
            "linecolor": "white",
            "showbackground": true,
            "ticks": "",
            "zerolinecolor": "white"
           },
           "zaxis": {
            "backgroundcolor": "#E5ECF6",
            "gridcolor": "white",
            "gridwidth": 2,
            "linecolor": "white",
            "showbackground": true,
            "ticks": "",
            "zerolinecolor": "white"
           }
          },
          "shapedefaults": {
           "line": {
            "color": "#2a3f5f"
           }
          },
          "ternary": {
           "aaxis": {
            "gridcolor": "white",
            "linecolor": "white",
            "ticks": ""
           },
           "baxis": {
            "gridcolor": "white",
            "linecolor": "white",
            "ticks": ""
           },
           "bgcolor": "#E5ECF6",
           "caxis": {
            "gridcolor": "white",
            "linecolor": "white",
            "ticks": ""
           }
          },
          "title": {
           "x": 0.05
          },
          "xaxis": {
           "automargin": true,
           "gridcolor": "white",
           "linecolor": "white",
           "ticks": "",
           "title": {
            "standoff": 15
           },
           "zerolinecolor": "white",
           "zerolinewidth": 2
          },
          "yaxis": {
           "automargin": true,
           "gridcolor": "white",
           "linecolor": "white",
           "ticks": "",
           "title": {
            "standoff": 15
           },
           "zerolinecolor": "white",
           "zerolinewidth": 2
          }
         }
        },
        "title": {
         "text": "Heat Transfer from Wall to Room"
        },
        "xaxis": {
         "title": {
          "text": "Time"
         }
        },
        "yaxis": {
         "title": {
          "text": "Heat Flux"
         }
        }
       }
      }
     },
     "metadata": {},
     "output_type": "display_data"
    }
   ],
   "source": [
    "fig = go.Figure()\n",
    "\n",
    "ix_times = [ix_time for ix_time,_ in enumerate(v1.all_wall_temps) if ix_time%(min_interv*4)==0]\n",
    "timestamps = [(pd.Timedelta(times[i], \"m\") + v1.twall.ext_temps.index[0]).strftime(str_names) for i in ix_times]\n",
    "\n",
    "fig.add_trace(go.Scatter(x=timestamps, y=v1.wall_heat_flux[ix_times], mode='markers+lines',))\n",
    "fig.update_layout(xaxis_title='Time',\n",
    "                  yaxis_title='Heat Flux',\n",
    "                  title='Heat Transfer from Wall to Room')\n",
    "\n"
   ]
  },
  {
   "cell_type": "markdown",
   "metadata": {},
   "source": [
    "### plot on same scale!"
   ]
  },
  {
   "cell_type": "code",
   "execution_count": 73,
   "metadata": {},
   "outputs": [
    {
     "data": {
      "application/vnd.plotly.v1+json": {
       "config": {
        "plotlyServerURL": "https://plotly.com"
       },
       "data": [
        {
         "legendgroup": "09 AM",
         "line": {
          "color": "rgb(36, 86, 104)"
         },
         "mode": "lines+markers",
         "name": "09 AM",
         "showlegend": false,
         "type": "scatter",
         "x": [
          "09 AM"
         ],
         "xaxis": "x",
         "y": [
          290.26111111111106
         ],
         "yaxis": "y"
        },
        {
         "legendgroup": "09 AM",
         "line": {
          "color": "rgb(36, 86, 104)"
         },
         "mode": "lines+markers",
         "name": "09 AM",
         "showlegend": true,
         "type": "scatter",
         "x": [
          0,
          0.01,
          0.02,
          0.03,
          0.04,
          0.05,
          0.06,
          0.07,
          0.08,
          0.09
         ],
         "xaxis": "x2",
         "y": [
          290.2618554303095,
          290.5820987654321,
          290.90308641975304,
          291.2240740740741,
          291.54506172839507,
          291.866049382716,
          292.187037037037,
          292.508024691358,
          292.82901234567896,
          293.14925568080156
         ],
         "yaxis": "y2"
        },
        {
         "legendgroup": "09 AM",
         "line": {
          "color": "rgb(36, 86, 104)"
         },
         "mode": "lines+markers",
         "name": "09 AM",
         "showlegend": false,
         "type": "scatter",
         "x": [
          "09 AM"
         ],
         "xaxis": "x3",
         "y": [
          293.15
         ],
         "yaxis": "y3"
        },
        {
         "legendgroup": "11 AM",
         "line": {
          "color": "rgb(32, 91, 107)"
         },
         "mode": "lines+markers",
         "name": "11 AM",
         "showlegend": false,
         "type": "scatter",
         "x": [
          "11 AM"
         ],
         "xaxis": "x",
         "y": [
          292.81666666666666
         ],
         "yaxis": "y"
        },
        {
         "legendgroup": "11 AM",
         "line": {
          "color": "rgb(32, 91, 107)"
         },
         "mode": "lines+markers",
         "name": "11 AM",
         "showlegend": true,
         "type": "scatter",
         "x": [
          0,
          0.01,
          0.02,
          0.03,
          0.04,
          0.05,
          0.06,
          0.07,
          0.08,
          0.09
         ],
         "xaxis": "x2",
         "y": [
          290.77993757062376,
          290.6699368998167,
          290.91455801107986,
          291.2253374857152,
          291.54517282859047,
          291.8659414081292,
          292.1859192952821,
          292.4993888825036,
          292.7769152975794,
          292.9196074193376
         ],
         "yaxis": "y2"
        },
        {
         "legendgroup": "11 AM",
         "line": {
          "color": "rgb(32, 91, 107)"
         },
         "mode": "lines+markers",
         "name": "11 AM",
         "showlegend": false,
         "type": "scatter",
         "x": [
          "11 AM"
         ],
         "xaxis": "x3",
         "y": [
          293.14999083572087
         ],
         "yaxis": "y3"
        },
        {
         "legendgroup": "01 PM",
         "line": {
          "color": "rgb(29, 95, 110)"
         },
         "mode": "lines+markers",
         "name": "01 PM",
         "showlegend": false,
         "type": "scatter",
         "x": [
          "01 PM"
         ],
         "xaxis": "x",
         "y": [
          293.81666666666666
         ],
         "yaxis": "y"
        },
        {
         "legendgroup": "01 PM",
         "line": {
          "color": "rgb(29, 95, 110)"
         },
         "mode": "lines+markers",
         "name": "01 PM",
         "showlegend": true,
         "type": "scatter",
         "x": [
          0,
          0.01,
          0.02,
          0.03,
          0.04,
          0.05,
          0.06,
          0.07,
          0.08,
          0.09
         ],
         "xaxis": "x2",
         "y": [
          291.55226833605195,
          290.9735622651125,
          290.99647354584016,
          291.24252143830284,
          291.547905897886,
          291.86476606030715,
          292.17829601035413,
          292.4709165028212,
          292.70100013844575,
          292.7986545906055
         ],
         "yaxis": "y2"
        },
        {
         "legendgroup": "01 PM",
         "line": {
          "color": "rgb(29, 95, 110)"
         },
         "mode": "lines+markers",
         "name": "01 PM",
         "showlegend": false,
         "type": "scatter",
         "x": [
          "01 PM"
         ],
         "xaxis": "x3",
         "y": [
          293.14997029212884
         ],
         "yaxis": "y3"
        },
        {
         "legendgroup": "03 PM",
         "line": {
          "color": "rgb(26, 100, 112)"
         },
         "mode": "lines+markers",
         "name": "03 PM",
         "showlegend": false,
         "type": "scatter",
         "x": [
          "03 PM"
         ],
         "xaxis": "x",
         "y": [
          294.5388888888889
         ],
         "yaxis": "y"
        },
        {
         "legendgroup": "03 PM",
         "line": {
          "color": "rgb(26, 100, 112)"
         },
         "mode": "lines+markers",
         "name": "03 PM",
         "showlegend": true,
         "type": "scatter",
         "x": [
          0,
          0.01,
          0.02,
          0.03,
          0.04,
          0.05,
          0.06,
          0.07,
          0.08,
          0.09
         ],
         "xaxis": "x2",
         "y": [
          292.2970090649585,
          291.3545971297934,
          291.15389642881905,
          291.2939974043472,
          291.56056351444255,
          291.8630054248409,
          292.16353555718814,
          292.4331067596204,
          292.6313522610363,
          292.7117772685673
         ],
         "yaxis": "y2"
        },
        {
         "legendgroup": "03 PM",
         "line": {
          "color": "rgb(26, 100, 112)"
         },
         "mode": "lines+markers",
         "name": "03 PM",
         "showlegend": false,
         "type": "scatter",
         "x": [
          "03 PM"
         ],
         "xaxis": "x3",
         "y": [
          293.1499426917564
         ],
         "yaxis": "y3"
        },
        {
         "legendgroup": "05 PM",
         "line": {
          "color": "rgb(22, 105, 115)"
         },
         "mode": "lines+markers",
         "name": "05 PM",
         "showlegend": false,
         "type": "scatter",
         "x": [
          "05 PM"
         ],
         "xaxis": "x",
         "y": [
          295.92777777777775
         ],
         "yaxis": "y"
        },
        {
         "legendgroup": "05 PM",
         "line": {
          "color": "rgb(22, 105, 115)"
         },
         "mode": "lines+markers",
         "name": "05 PM",
         "showlegend": true,
         "type": "scatter",
         "x": [
          0,
          0.01,
          0.02,
          0.03,
          0.04,
          0.05,
          0.06,
          0.07,
          0.08,
          0.09
         ],
         "xaxis": "x2",
         "y": [
          292.9719159142867,
          291.7633773689541,
          291.3640897156811,
          291.38224650532516,
          291.589223609084,
          291.8639682214854,
          292.14526575419427,
          292.3931016198467,
          292.56947275148246,
          292.6409010478306
         ],
         "yaxis": "y2"
        },
        {
         "legendgroup": "05 PM",
         "line": {
          "color": "rgb(22, 105, 115)"
         },
         "mode": "lines+markers",
         "name": "05 PM",
         "showlegend": false,
         "type": "scatter",
         "x": [
          "05 PM"
         ],
         "xaxis": "x3",
         "y": [
          293.149909655342
         ],
         "yaxis": "y3"
        },
        {
         "legendgroup": "07 PM",
         "line": {
          "color": "rgb(18, 109, 118)"
         },
         "mode": "lines+markers",
         "name": "07 PM",
         "showlegend": false,
         "type": "scatter",
         "x": [
          "07 PM"
         ],
         "xaxis": "x",
         "y": [
          295.2055555555555
         ],
         "yaxis": "y"
        },
        {
         "legendgroup": "07 PM",
         "line": {
          "color": "rgb(18, 109, 118)"
         },
         "mode": "lines+markers",
         "name": "07 PM",
         "showlegend": true,
         "type": "scatter",
         "x": [
          0,
          0.01,
          0.02,
          0.03,
          0.04,
          0.05,
          0.06,
          0.07,
          0.08,
          0.09
         ],
         "xaxis": "x2",
         "y": [
          293.45623764481707,
          292.18909183652136,
          291.61380353448754,
          291.50329589948643,
          291.6363891020502,
          291.871412810786,
          292.12753482441406,
          292.3543852919009,
          292.51415140582634,
          292.57981853498984
         ],
         "yaxis": "y2"
        },
        {
         "legendgroup": "07 PM",
         "line": {
          "color": "rgb(18, 109, 118)"
         },
         "mode": "lines+markers",
         "name": "07 PM",
         "showlegend": false,
         "type": "scatter",
         "x": [
          "07 PM"
         ],
         "xaxis": "x3",
         "y": [
          293.14987204922954
         ],
         "yaxis": "y3"
        },
        {
         "legendgroup": "09 PM",
         "line": {
          "color": "rgb(15, 114, 121)"
         },
         "mode": "lines+markers",
         "name": "09 PM",
         "showlegend": false,
         "type": "scatter",
         "x": [
          "09 PM"
         ],
         "xaxis": "x",
         "y": [
          290.81666666666666
         ],
         "yaxis": "y"
        },
        {
         "legendgroup": "09 PM",
         "line": {
          "color": "rgb(15, 114, 121)"
         },
         "mode": "lines+markers",
         "name": "09 PM",
         "showlegend": true,
         "type": "scatter",
         "x": [
          0,
          0.01,
          0.02,
          0.03,
          0.04,
          0.05,
          0.06,
          0.07,
          0.08,
          0.09
         ],
         "xaxis": "x2",
         "y": [
          293.04276573689924,
          292.4102430523024,
          291.8520361253905,
          291.64662094260325,
          291.7018069130101,
          291.8881140107174,
          292.11360085542293,
          292.31896413886244,
          292.4645394978035,
          292.525852351697
         ],
         "yaxis": "y2"
        },
        {
         "legendgroup": "09 PM",
         "line": {
          "color": "rgb(15, 114, 121)"
         },
         "mode": "lines+markers",
         "name": "09 PM",
         "showlegend": false,
         "type": "scatter",
         "x": [
          "09 PM"
         ],
         "xaxis": "x3",
         "y": [
          293.1498304505091
         ],
         "yaxis": "y3"
        },
        {
         "legendgroup": "11 PM",
         "line": {
          "color": "rgb(15, 119, 122)"
         },
         "mode": "lines+markers",
         "name": "11 PM",
         "showlegend": false,
         "type": "scatter",
         "x": [
          "11 PM"
         ],
         "xaxis": "x",
         "y": [
          288.5388888888889
         ],
         "yaxis": "y"
        },
        {
         "legendgroup": "11 PM",
         "line": {
          "color": "rgb(15, 119, 122)"
         },
         "mode": "lines+markers",
         "name": "11 PM",
         "showlegend": true,
         "type": "scatter",
         "x": [
          0,
          0.01,
          0.02,
          0.03,
          0.04,
          0.05,
          0.06,
          0.07,
          0.08,
          0.09
         ],
         "xaxis": "x2",
         "y": [
          291.6523173131408,
          292.1620723612902,
          291.9591166000371,
          291.7756376894489,
          291.77761117320125,
          291.91448118639335,
          292.1055958729011,
          292.2882027098042,
          292.4203170338461,
          292.47779972334246
         ],
         "yaxis": "y2"
        },
        {
         "legendgroup": "11 PM",
         "line": {
          "color": "rgb(15, 119, 122)"
         },
         "mode": "lines+markers",
         "name": "11 PM",
         "showlegend": false,
         "type": "scatter",
         "x": [
          "11 PM"
         ],
         "xaxis": "x3",
         "y": [
          293.14978530726773
         ],
         "yaxis": "y3"
        },
        {
         "legendgroup": "01 AM",
         "line": {
          "color": "rgb(14, 124, 124)"
         },
         "mode": "lines+markers",
         "name": "01 AM",
         "showlegend": false,
         "type": "scatter",
         "x": [
          "01 AM"
         ],
         "xaxis": "x",
         "y": [
          287.59444444444443
         ],
         "yaxis": "y"
        },
        {
         "legendgroup": "01 AM",
         "line": {
          "color": "rgb(14, 124, 124)"
         },
         "mode": "lines+markers",
         "name": "01 AM",
         "showlegend": true,
         "type": "scatter",
         "x": [
          0,
          0.01,
          0.02,
          0.03,
          0.04,
          0.05,
          0.06,
          0.07,
          0.08,
          0.09
         ],
         "xaxis": "x2",
         "y": [
          290.6315756411468,
          291.69172623466363,
          291.88943387721525,
          291.8419539873598,
          291.8443858542169,
          291.9459894181965,
          292.1037858116597,
          292.26288706815996,
          292.3814864562918,
          292.43520555479677
         ],
         "yaxis": "y2"
        },
        {
         "legendgroup": "01 AM",
         "line": {
          "color": "rgb(14, 124, 124)"
         },
         "mode": "lines+markers",
         "name": "01 AM",
         "showlegend": false,
         "type": "scatter",
         "x": [
          "01 AM"
         ],
         "xaxis": "x3",
         "y": [
          293.1497370126251
         ],
         "yaxis": "y3"
        },
        {
         "legendgroup": "03 AM",
         "line": {
          "color": "rgb(14, 128, 125)"
         },
         "mode": "lines+markers",
         "name": "03 AM",
         "showlegend": false,
         "type": "scatter",
         "x": [
          "03 AM"
         ],
         "xaxis": "x",
         "y": [
          286.65
         ],
         "yaxis": "y"
        },
        {
         "legendgroup": "03 AM",
         "line": {
          "color": "rgb(14, 128, 125)"
         },
         "mode": "lines+markers",
         "name": "03 AM",
         "showlegend": true,
         "type": "scatter",
         "x": [
          0,
          0.01,
          0.02,
          0.03,
          0.04,
          0.05,
          0.06,
          0.07,
          0.08,
          0.09
         ],
         "xaxis": "x2",
         "y": [
          289.85061229414794,
          291.2132921323316,
          291.71284572771395,
          291.83440908030764,
          291.8838271019602,
          291.97394652244463,
          292.10589029942304,
          292.2428721988667,
          292.3480622920072,
          292.39794992459326
         ],
         "yaxis": "y2"
        },
        {
         "legendgroup": "03 AM",
         "line": {
          "color": "rgb(14, 128, 125)"
         },
         "mode": "lines+markers",
         "name": "03 AM",
         "showlegend": false,
         "type": "scatter",
         "x": [
          "03 AM"
         ],
         "xaxis": "x3",
         "y": [
          293.1496859417667
         ],
         "yaxis": "y3"
        },
        {
         "legendgroup": "05 AM",
         "line": {
          "color": "rgb(14, 133, 126)"
         },
         "mode": "lines+markers",
         "name": "05 AM",
         "showlegend": false,
         "type": "scatter",
         "x": [
          "05 AM"
         ],
         "xaxis": "x",
         "y": [
          287.81666666666666
         ],
         "yaxis": "y"
        },
        {
         "legendgroup": "05 AM",
         "line": {
          "color": "rgb(14, 133, 126)"
         },
         "mode": "lines+markers",
         "name": "05 AM",
         "showlegend": true,
         "type": "scatter",
         "x": [
          0,
          0.01,
          0.02,
          0.03,
          0.04,
          0.05,
          0.06,
          0.07,
          0.08,
          0.09
         ],
         "xaxis": "x2",
         "y": [
          289.5432389971111,
          290.79683638056423,
          291.48622964690554,
          291.7677236101263,
          291.8893000459825,
          291.9904957680212,
          292.108009831956,
          292.2269266195435,
          292.3197465431158,
          292.36589572513685
         ],
         "yaxis": "y2"
        },
        {
         "legendgroup": "05 AM",
         "line": {
          "color": "rgb(14, 133, 126)"
         },
         "mode": "lines+markers",
         "name": "05 AM",
         "showlegend": false,
         "type": "scatter",
         "x": [
          "05 AM"
         ],
         "xaxis": "x3",
         "y": [
          293.1496324628218
         ],
         "yaxis": "y3"
        },
        {
         "legendgroup": "07 AM",
         "line": {
          "color": "rgb(13, 138, 128)"
         },
         "mode": "lines+markers",
         "name": "07 AM",
         "showlegend": false,
         "type": "scatter",
         "x": [
          "07 AM"
         ],
         "xaxis": "x",
         "y": [
          288.3722222222222
         ],
         "yaxis": "y"
        },
        {
         "legendgroup": "07 AM",
         "line": {
          "color": "rgb(13, 138, 128)"
         },
         "mode": "lines+markers",
         "name": "07 AM",
         "showlegend": true,
         "type": "scatter",
         "x": [
          0,
          0.01,
          0.02,
          0.03,
          0.04,
          0.05,
          0.06,
          0.07,
          0.08,
          0.09
         ],
         "xaxis": "x2",
         "y": [
          289.62005663646465,
          290.58282112373666,
          291.2830268407178,
          291.66792247845797,
          291.86373446202055,
          291.99145648113284,
          292.10635433843146,
          292.2131244613133,
          292.29577641257424,
          292.3386196652933
         ],
         "yaxis": "y2"
        },
        {
         "legendgroup": "07 AM",
         "line": {
          "color": "rgb(13, 138, 128)"
         },
         "mode": "lines+markers",
         "name": "07 AM",
         "showlegend": false,
         "type": "scatter",
         "x": [
          "07 AM"
         ],
         "xaxis": "x3",
         "y": [
          293.1495769255235
         ],
         "yaxis": "y3"
        },
        {
         "legendgroup": "09 AM",
         "line": {
          "color": "rgb(13, 143, 129)"
         },
         "mode": "lines+markers",
         "name": "09 AM",
         "showlegend": false,
         "type": "scatter",
         "x": [
          "09 AM"
         ],
         "xaxis": "x",
         "y": [
          290.0388888888889
         ],
         "yaxis": "y"
        },
        {
         "legendgroup": "09 AM",
         "line": {
          "color": "rgb(13, 143, 129)"
         },
         "mode": "lines+markers",
         "name": "09 AM",
         "showlegend": true,
         "type": "scatter",
         "x": [
          0,
          0.01,
          0.02,
          0.03,
          0.04,
          0.05,
          0.06,
          0.07,
          0.08,
          0.09
         ],
         "xaxis": "x2",
         "y": [
          289.8622674170296,
          290.50485486716786,
          291.1369254150364,
          291.5650312905598,
          291.81777711665126,
          291.9770469394499,
          292.0984635658809,
          292.19946147288294,
          292.27500459253673,
          292.31531907842106
         ],
         "yaxis": "y2"
        },
        {
         "legendgroup": "09 AM",
         "line": {
          "color": "rgb(13, 143, 129)"
         },
         "mode": "lines+markers",
         "name": "09 AM",
         "showlegend": false,
         "type": "scatter",
         "x": [
          "09 AM"
         ],
         "xaxis": "x3",
         "y": [
          293.14951963689975
         ],
         "yaxis": "y3"
        },
        {
         "legendgroup": "11 AM",
         "line": {
          "color": "rgb(20, 148, 128)"
         },
         "mode": "lines+markers",
         "name": "11 AM",
         "showlegend": false,
         "type": "scatter",
         "x": [
          "11 AM"
         ],
         "xaxis": "x",
         "y": [
          292.9833333333333
         ],
         "yaxis": "y"
        },
        {
         "legendgroup": "11 AM",
         "line": {
          "color": "rgb(20, 148, 128)"
         },
         "mode": "lines+markers",
         "name": "11 AM",
         "showlegend": true,
         "type": "scatter",
         "x": [
          0,
          0.01,
          0.02,
          0.03,
          0.04,
          0.05,
          0.06,
          0.07,
          0.08,
          0.09
         ],
         "xaxis": "x2",
         "y": [
          290.6918397237859,
          290.6373644733991,
          291.06878207082747,
          291.47914088806135,
          291.76366809336366,
          291.95092372616836,
          292.083746985338,
          292.1843988229559,
          292.25612981338,
          292.2949004092887
         ],
         "yaxis": "y2"
        },
        {
         "legendgroup": "11 AM",
         "line": {
          "color": "rgb(20, 148, 128)"
         },
         "mode": "lines+markers",
         "name": "11 AM",
         "showlegend": false,
         "type": "scatter",
         "x": [
          "11 AM"
         ],
         "xaxis": "x3",
         "y": [
          293.1494608370298
         ],
         "yaxis": "y3"
        },
        {
         "legendgroup": "01 PM",
         "line": {
          "color": "rgb(28, 152, 128)"
         },
         "mode": "lines+markers",
         "name": "01 PM",
         "showlegend": false,
         "type": "scatter",
         "x": [
          "01 PM"
         ],
         "xaxis": "x",
         "y": [
          293.2611111111111
         ],
         "yaxis": "y"
        },
        {
         "legendgroup": "01 PM",
         "line": {
          "color": "rgb(28, 152, 128)"
         },
         "mode": "lines+markers",
         "name": "01 PM",
         "showlegend": true,
         "type": "scatter",
         "x": [
          0,
          0.01,
          0.02,
          0.03,
          0.04,
          0.05,
          0.06,
          0.07,
          0.08,
          0.09
         ],
         "xaxis": "x2",
         "y": [
          291.37669786798494,
          290.9800912450768,
          291.1198452603712,
          291.4337992283902,
          291.7142237077385,
          291.91857441841927,
          292.0632505435414,
          292.1671466782532,
          292.2379616925778,
          292.27618071119156
         ],
         "yaxis": "y2"
        },
        {
         "legendgroup": "01 PM",
         "line": {
          "color": "rgb(28, 152, 128)"
         },
         "mode": "lines+markers",
         "name": "01 PM",
         "showlegend": false,
         "type": "scatter",
         "x": [
          "01 PM"
         ],
         "xaxis": "x3",
         "y": [
          293.14940068542177
         ],
         "yaxis": "y3"
        },
        {
         "legendgroup": "03 PM",
         "line": {
          "color": "rgb(35, 157, 128)"
         },
         "mode": "lines+markers",
         "name": "03 PM",
         "showlegend": false,
         "type": "scatter",
         "x": [
          "03 PM"
         ],
         "xaxis": "x",
         "y": [
          294.81666666666666
         ],
         "yaxis": "y"
        },
        {
         "legendgroup": "03 PM",
         "line": {
          "color": "rgb(35, 157, 128)"
         },
         "mode": "lines+markers",
         "name": "03 PM",
         "showlegend": true,
         "type": "scatter",
         "x": [
          0,
          0.01,
          0.02,
          0.03,
          0.04,
          0.05,
          0.06,
          0.07,
          0.08,
          0.09
         ],
         "xaxis": "x2",
         "y": [
          291.9910064819021,
          291.31189317208873,
          291.24288811545745,
          291.43855445182464,
          291.68197767768794,
          291.88687230122105,
          292.0393561626324,
          292.1477270666195,
          292.21962757860535,
          292.25810753685096
         ],
         "yaxis": "y2"
        },
        {
         "legendgroup": "03 PM",
         "line": {
          "color": "rgb(35, 157, 128)"
         },
         "mode": "lines+markers",
         "name": "03 PM",
         "showlegend": false,
         "type": "scatter",
         "x": [
          "03 PM"
         ],
         "xaxis": "x3",
         "y": [
          293.1493392625576
         ],
         "yaxis": "y3"
        },
        {
         "legendgroup": "05 PM",
         "line": {
          "color": "rgb(42, 162, 127)"
         },
         "mode": "lines+markers",
         "name": "05 PM",
         "showlegend": false,
         "type": "scatter",
         "x": [
          "05 PM"
         ],
         "xaxis": "x",
         "y": [
          296.4833333333333
         ],
         "yaxis": "y"
        },
        {
         "legendgroup": "05 PM",
         "line": {
          "color": "rgb(42, 162, 127)"
         },
         "mode": "lines+markers",
         "name": "05 PM",
         "showlegend": true,
         "type": "scatter",
         "x": [
          0,
          0.01,
          0.02,
          0.03,
          0.04,
          0.05,
          0.06,
          0.07,
          0.08,
          0.09
         ],
         "xaxis": "x2",
         "y": [
          292.8129713396554,
          291.72420029809973,
          291.4193745647969,
          291.48527727495576,
          291.6719663770812,
          291.8618231044363,
          292.01522480894107,
          292.1269223059863,
          292.2007074962341,
          292.23993845749766
         ],
         "yaxis": "y2"
        },
        {
         "legendgroup": "05 PM",
         "line": {
          "color": "rgb(42, 162, 127)"
         },
         "mode": "lines+markers",
         "name": "05 PM",
         "showlegend": false,
         "type": "scatter",
         "x": [
          "05 PM"
         ],
         "xaxis": "x3",
         "y": [
          293.14927658553563
         ],
         "yaxis": "y3"
        },
        {
         "legendgroup": "07 PM",
         "line": {
          "color": "rgb(50, 166, 126)"
         },
         "mode": "lines+markers",
         "name": "07 PM",
         "showlegend": false,
         "type": "scatter",
         "x": [
          "07 PM"
         ],
         "xaxis": "x",
         "y": [
          294.5388888888889
         ],
         "yaxis": "y"
        },
        {
         "legendgroup": "07 PM",
         "line": {
          "color": "rgb(50, 166, 126)"
         },
         "mode": "lines+markers",
         "name": "07 PM",
         "showlegend": true,
         "type": "scatter",
         "x": [
          0,
          0.01,
          0.02,
          0.03,
          0.04,
          0.05,
          0.06,
          0.07,
          0.08,
          0.09
         ],
         "xaxis": "x2",
         "y": [
          293.55257353943284,
          292.2045287408232,
          291.6560018739753,
          291.5733429060848,
          291.68612590296834,
          291.8473388068981,
          291.99384572860924,
          292.10599161929144,
          292.18126291825536,
          292.2213491916294
         ],
         "yaxis": "y2"
        },
        {
         "legendgroup": "07 PM",
         "line": {
          "color": "rgb(50, 166, 126)"
         },
         "mode": "lines+markers",
         "name": "07 PM",
         "showlegend": false,
         "type": "scatter",
         "x": [
          "07 PM"
         ],
         "xaxis": "x3",
         "y": [
          293.1492126339477
         ],
         "yaxis": "y3"
        },
        {
         "legendgroup": "09 PM",
         "line": {
          "color": "rgb(57, 171, 126)"
         },
         "mode": "lines+markers",
         "name": "09 PM",
         "showlegend": false,
         "type": "scatter",
         "x": [
          "09 PM"
         ],
         "xaxis": "x",
         "y": [
          290.9833333333333
         ],
         "yaxis": "y"
        },
        {
         "legendgroup": "09 PM",
         "line": {
          "color": "rgb(57, 171, 126)"
         },
         "mode": "lines+markers",
         "name": "09 PM",
         "showlegend": true,
         "type": "scatter",
         "x": [
          0,
          0.01,
          0.02,
          0.03,
          0.04,
          0.05,
          0.06,
          0.07,
          0.08,
          0.09
         ],
         "xaxis": "x2",
         "y": [
          292.9753853793308,
          292.4075950587459,
          291.88751730158435,
          291.6943109584089,
          291.72531981225455,
          291.84615983856435,
          291.9777308299656,
          292.0863602846847,
          292.1617524218518,
          292.2024395539346
         ],
         "yaxis": "y2"
        },
        {
         "legendgroup": "09 PM",
         "line": {
          "color": "rgb(57, 171, 126)"
         },
         "mode": "lines+markers",
         "name": "09 PM",
         "showlegend": false,
         "type": "scatter",
         "x": [
          "09 PM"
         ],
         "xaxis": "x3",
         "y": [
          293.14914737979086
         ],
         "yaxis": "y3"
        },
        {
         "legendgroup": "11 PM",
         "line": {
          "color": "rgb(66, 175, 124)"
         },
         "mode": "lines+markers",
         "name": "11 PM",
         "showlegend": false,
         "type": "scatter",
         "x": [
          "11 PM"
         ],
         "xaxis": "x",
         "y": [
          288.59444444444443
         ],
         "yaxis": "y"
        },
        {
         "legendgroup": "11 PM",
         "line": {
          "color": "rgb(66, 175, 124)"
         },
         "mode": "lines+markers",
         "name": "11 PM",
         "showlegend": true,
         "type": "scatter",
         "x": [
          0,
          0.01,
          0.02,
          0.03,
          0.04,
          0.05,
          0.06,
          0.07,
          0.08,
          0.09
         ],
         "xaxis": "x2",
         "y": [
          291.7232822421412,
          292.17849975999513,
          291.9845969871988,
          291.8045762321495,
          291.78055916262826,
          291.8585365386257,
          291.96870155965564,
          292.06943328007975,
          292.14291282822467,
          292.1836621659311
         ],
         "yaxis": "y2"
        },
        {
         "legendgroup": "11 PM",
         "line": {
          "color": "rgb(66, 175, 124)"
         },
         "mode": "lines+markers",
         "name": "11 PM",
         "showlegend": false,
         "type": "scatter",
         "x": [
          "11 PM"
         ],
         "xaxis": "x3",
         "y": [
          293.1490808148082
         ],
         "yaxis": "y3"
        },
        {
         "legendgroup": "01 AM",
         "line": {
          "color": "rgb(75, 180, 123)"
         },
         "mode": "lines+markers",
         "name": "01 AM",
         "showlegend": false,
         "type": "scatter",
         "x": [
          "01 AM"
         ],
         "xaxis": "x",
         "y": [
          287.65
         ],
         "yaxis": "y"
        },
        {
         "legendgroup": "01 AM",
         "line": {
          "color": "rgb(75, 180, 123)"
         },
         "mode": "lines+markers",
         "name": "01 AM",
         "showlegend": true,
         "type": "scatter",
         "x": [
          0,
          0.01,
          0.02,
          0.03,
          0.04,
          0.05,
          0.06,
          0.07,
          0.08,
          0.09
         ],
         "xaxis": "x2",
         "y": [
          290.6752893675761,
          291.72229794555,
          291.9137920186264,
          291.8574515953968,
          291.8312555059229,
          291.87928767117796,
          291.96681374281496,
          292.0562466305,
          292.12560246249154,
          292.1657100223911
         ],
         "yaxis": "y2"
        },
        {
         "legendgroup": "01 AM",
         "line": {
          "color": "rgb(75, 180, 123)"
         },
         "mode": "lines+markers",
         "name": "01 AM",
         "showlegend": false,
         "type": "scatter",
         "x": [
          "01 AM"
         ],
         "xaxis": "x3",
         "y": [
          293.1490129714045
         ],
         "yaxis": "y3"
        },
        {
         "legendgroup": "03 AM",
         "line": {
          "color": "rgb(84, 184, 121)"
         },
         "mode": "lines+markers",
         "name": "03 AM",
         "showlegend": false,
         "type": "scatter",
         "x": [
          "03 AM"
         ],
         "xaxis": "x",
         "y": [
          287.92777777777775
         ],
         "yaxis": "y"
        },
        {
         "legendgroup": "03 AM",
         "line": {
          "color": "rgb(84, 184, 121)"
         },
         "mode": "lines+markers",
         "name": "03 AM",
         "showlegend": true,
         "type": "scatter",
         "x": [
          0,
          0.01,
          0.02,
          0.03,
          0.04,
          0.05,
          0.06,
          0.07,
          0.08,
          0.09
         ],
         "xaxis": "x2",
         "y": [
          290.14012389044336,
          291.27783307477176,
          291.73765250993455,
          291.84054706152045,
          291.8587155370854,
          291.8992810577737,
          291.96962687543726,
          292.04692963440596,
          292.11053477396274,
          292.14933454722706
         ],
         "yaxis": "y2"
        },
        {
         "legendgroup": "03 AM",
         "line": {
          "color": "rgb(84, 184, 121)"
         },
         "mode": "lines+markers",
         "name": "03 AM",
         "showlegend": false,
         "type": "scatter",
         "x": [
          "03 AM"
         ],
         "xaxis": "x3",
         "y": [
          293.1489439335867
         ],
         "yaxis": "y3"
        },
        {
         "legendgroup": "05 AM",
         "line": {
          "color": "rgb(92, 188, 119)"
         },
         "mode": "lines+markers",
         "name": "05 AM",
         "showlegend": false,
         "type": "scatter",
         "x": [
          "05 AM"
         ],
         "xaxis": "x",
         "y": [
          286.76111111111106
         ],
         "yaxis": "y"
        },
        {
         "legendgroup": "05 AM",
         "line": {
          "color": "rgb(92, 188, 119)"
         },
         "mode": "lines+markers",
         "name": "05 AM",
         "showlegend": true,
         "type": "scatter",
         "x": [
          0,
          0.01,
          0.02,
          0.03,
          0.04,
          0.05,
          0.06,
          0.07,
          0.08,
          0.09
         ],
         "xaxis": "x2",
         "y": [
          289.7219243548458,
          290.9379721755858,
          291.53762045347,
          291.7728131995908,
          291.85632985739056,
          291.91034326121195,
          291.973151468794,
          292.04051100214963,
          292.097986186098,
          292.13509032503305
         ],
         "yaxis": "y2"
        },
        {
         "legendgroup": "05 AM",
         "line": {
          "color": "rgb(92, 188, 119)"
         },
         "mode": "lines+markers",
         "name": "05 AM",
         "showlegend": false,
         "type": "scatter",
         "x": [
          "05 AM"
         ],
         "xaxis": "x3",
         "y": [
          293.1488738323669
         ],
         "yaxis": "y3"
        },
        {
         "legendgroup": "07 AM",
         "line": {
          "color": "rgb(101, 193, 118)"
         },
         "mode": "lines+markers",
         "name": "07 AM",
         "showlegend": false,
         "type": "scatter",
         "x": [
          "07 AM"
         ],
         "xaxis": "x",
         "y": [
          288.42777777777775
         ],
         "yaxis": "y"
        },
        {
         "legendgroup": "07 AM",
         "line": {
          "color": "rgb(101, 193, 118)"
         },
         "mode": "lines+markers",
         "name": "07 AM",
         "showlegend": true,
         "type": "scatter",
         "x": [
          0,
          0.01,
          0.02,
          0.03,
          0.04,
          0.05,
          0.06,
          0.07,
          0.08,
          0.09
         ],
         "xaxis": "x2",
         "y": [
          289.43718525114514,
          290.6119526249487,
          291.32879630744924,
          291.6755917123365,
          291.8278230372066,
          291.90851236798903,
          291.97365361455564,
          292.0353179523034,
          292.08767309451355,
          292.1231172573863
         ],
         "yaxis": "y2"
        },
        {
         "legendgroup": "07 AM",
         "line": {
          "color": "rgb(101, 193, 118)"
         },
         "mode": "lines+markers",
         "name": "07 AM",
         "showlegend": false,
         "type": "scatter",
         "x": [
          "07 AM"
         ],
         "xaxis": "x3",
         "y": [
          293.1488028238346
         ],
         "yaxis": "y3"
        },
        {
         "legendgroup": "09 AM",
         "line": {
          "color": "rgb(110, 197, 116)"
         },
         "mode": "lines+markers",
         "name": "09 AM",
         "showlegend": false,
         "type": "scatter",
         "x": [
          "09 AM"
         ],
         "xaxis": "x",
         "y": [
          290.26111111111106
         ],
         "yaxis": "y"
        },
        {
         "legendgroup": "09 AM",
         "line": {
          "color": "rgb(110, 197, 116)"
         },
         "mode": "lines+markers",
         "name": "09 AM",
         "showlegend": true,
         "type": "scatter",
         "x": [
          0,
          0.01,
          0.02,
          0.03,
          0.04,
          0.05,
          0.06,
          0.07,
          0.08,
          0.09
         ],
         "xaxis": "x2",
         "y": [
          289.87806061744817,
          290.50845122811586,
          291.1547906571233,
          291.56440649075506,
          291.7790779831221,
          291.89326324444346,
          291.968723502004,
          292.0296102891739,
          292.07886419642165,
          292.11308442074795
         ],
         "yaxis": "y2"
        },
        {
         "legendgroup": "09 AM",
         "line": {
          "color": "rgb(110, 197, 116)"
         },
         "mode": "lines+markers",
         "name": "09 AM",
         "showlegend": false,
         "type": "scatter",
         "x": [
          "09 AM"
         ],
         "xaxis": "x3",
         "y": [
          293.1487310572204
         ],
         "yaxis": "y3"
        },
        {
         "legendgroup": "11 AM",
         "line": {
          "color": "rgb(120, 201, 114)"
         },
         "mode": "lines+markers",
         "name": "11 AM",
         "showlegend": false,
         "type": "scatter",
         "x": [
          "11 AM"
         ],
         "xaxis": "x",
         "y": [
          293.2055555555555
         ],
         "yaxis": "y"
        },
        {
         "legendgroup": "11 AM",
         "line": {
          "color": "rgb(120, 201, 114)"
         },
         "mode": "lines+markers",
         "name": "11 AM",
         "showlegend": true,
         "type": "scatter",
         "x": [
          0,
          0.01,
          0.02,
          0.03,
          0.04,
          0.05,
          0.06,
          0.07,
          0.08,
          0.09
         ],
         "xaxis": "x2",
         "y": [
          290.58051937977586,
          290.637645325202,
          291.0756402469739,
          291.46873304547466,
          291.720500430144,
          291.8666418083592,
          291.95736317138363,
          292.0219902129078,
          292.07060820732056,
          292.1043011278344
         ],
         "yaxis": "y2"
        },
        {
         "legendgroup": "11 AM",
         "line": {
          "color": "rgb(120, 201, 114)"
         },
         "mode": "lines+markers",
         "name": "11 AM",
         "showlegend": false,
         "type": "scatter",
         "x": [
          "11 AM"
         ],
         "xaxis": "x3",
         "y": [
          293.1486586452396
         ],
         "yaxis": "y3"
        },
        {
         "legendgroup": "01 PM",
         "line": {
          "color": "rgb(130, 205, 112)"
         },
         "mode": "lines+markers",
         "name": "01 PM",
         "showlegend": false,
         "type": "scatter",
         "x": [
          "01 PM"
         ],
         "xaxis": "x",
         "y": [
          295.3722222222222
         ],
         "yaxis": "y"
        },
        {
         "legendgroup": "01 PM",
         "line": {
          "color": "rgb(130, 205, 112)"
         },
         "mode": "lines+markers",
         "name": "01 PM",
         "showlegend": true,
         "type": "scatter",
         "x": [
          0,
          0.01,
          0.02,
          0.03,
          0.04,
          0.05,
          0.06,
          0.07,
          0.08,
          0.09
         ],
         "xaxis": "x2",
         "y": [
          292.0661727033398,
          291.06626552829425,
          291.12295221117694,
          291.4152142347817,
          291.66641896398085,
          291.83369907254803,
          291.94017831206054,
          292.0116514012068,
          292.0619625904769,
          292.095906311043
         ],
         "yaxis": "y2"
        },
        {
         "legendgroup": "01 PM",
         "line": {
          "color": "rgb(130, 205, 112)"
         },
         "mode": "lines+markers",
         "name": "01 PM",
         "showlegend": false,
         "type": "scatter",
         "x": [
          "01 PM"
         ],
         "xaxis": "x3",
         "y": [
          293.1485856454075
         ],
         "yaxis": "y3"
        },
        {
         "legendgroup": "03 PM",
         "line": {
          "color": "rgb(140, 209, 110)"
         },
         "mode": "lines+markers",
         "name": "03 PM",
         "showlegend": false,
         "type": "scatter",
         "x": [
          "03 PM"
         ],
         "xaxis": "x",
         "y": [
          295.9833333333333
         ],
         "yaxis": "y"
        },
        {
         "legendgroup": "03 PM",
         "line": {
          "color": "rgb(140, 209, 110)"
         },
         "mode": "lines+markers",
         "name": "03 PM",
         "showlegend": true,
         "type": "scatter",
         "x": [
          0,
          0.01,
          0.02,
          0.03,
          0.04,
          0.05,
          0.06,
          0.07,
          0.08,
          0.09
         ],
         "xaxis": "x2",
         "y": [
          292.72655375844124,
          291.6107331953742,
          291.3150798043507,
          291.4294179983579,
          291.6325477369222,
          291.8017209862688,
          291.91941130138264,
          291.99858408105166,
          292.0522136075078,
          292.0870776733899
         ],
         "yaxis": "y2"
        },
        {
         "legendgroup": "03 PM",
         "line": {
          "color": "rgb(140, 209, 110)"
         },
         "mode": "lines+markers",
         "name": "03 PM",
         "showlegend": false,
         "type": "scatter",
         "x": [
          "03 PM"
         ],
         "xaxis": "x3",
         "y": [
          293.14851205541214
         ],
         "yaxis": "y3"
        },
        {
         "legendgroup": "05 PM",
         "line": {
          "color": "rgb(149, 212, 107)"
         },
         "mode": "lines+markers",
         "name": "05 PM",
         "showlegend": false,
         "type": "scatter",
         "x": [
          "05 PM"
         ],
         "xaxis": "x",
         "y": [
          297.59444444444443
         ],
         "yaxis": "y"
        },
        {
         "legendgroup": "05 PM",
         "line": {
          "color": "rgb(149, 212, 107)"
         },
         "mode": "lines+markers",
         "name": "05 PM",
         "showlegend": true,
         "type": "scatter",
         "x": [
          0,
          0.01,
          0.02,
          0.03,
          0.04,
          0.05,
          0.06,
          0.07,
          0.08,
          0.09
         ],
         "xaxis": "x2",
         "y": [
          293.7857068071475,
          292.1310058280565,
          291.564801552782,
          291.50586329739866,
          291.6299994872014,
          291.7788536896252,
          291.8986658970191,
          291.9836614101401,
          292.04106487142394,
          292.07723412062626
         ],
         "yaxis": "y2"
        },
        {
         "legendgroup": "05 PM",
         "line": {
          "color": "rgb(149, 212, 107)"
         },
         "mode": "lines+markers",
         "name": "05 PM",
         "showlegend": false,
         "type": "scatter",
         "x": [
          "05 PM"
         ],
         "xaxis": "x3",
         "y": [
          293.14843782296794
         ],
         "yaxis": "y3"
        },
        {
         "legendgroup": "07 PM",
         "line": {
          "color": "rgb(159, 216, 105)"
         },
         "mode": "lines+markers",
         "name": "07 PM",
         "showlegend": false,
         "type": "scatter",
         "x": [
          "07 PM"
         ],
         "xaxis": "x",
         "y": [
          295.26111111111106
         ],
         "yaxis": "y"
        },
        {
         "legendgroup": "07 PM",
         "line": {
          "color": "rgb(159, 216, 105)"
         },
         "mode": "lines+markers",
         "name": "07 PM",
         "showlegend": true,
         "type": "scatter",
         "x": [
          0,
          0.01,
          0.02,
          0.03,
          0.04,
          0.05,
          0.06,
          0.07,
          0.08,
          0.09
         ],
         "xaxis": "x2",
         "y": [
          294.1996159616855,
          292.65890631347395,
          291.86927850639245,
          291.63211773211316,
          291.6599827753082,
          291.7706605553034,
          291.881864820183,
          291.9684872523113,
          292.0287484469422,
          292.0661989325826
         ],
         "yaxis": "y2"
        },
        {
         "legendgroup": "07 PM",
         "line": {
          "color": "rgb(159, 216, 105)"
         },
         "mode": "lines+markers",
         "name": "07 PM",
         "showlegend": false,
         "type": "scatter",
         "x": [
          "07 PM"
         ],
         "xaxis": "x3",
         "y": [
          293.14836286864164
         ],
         "yaxis": "y3"
        },
        {
         "legendgroup": "09 PM",
         "line": {
          "color": "rgb(169, 220, 103)"
         },
         "mode": "lines+markers",
         "name": "09 PM",
         "showlegend": false,
         "type": "scatter",
         "x": [
          "09 PM"
         ],
         "xaxis": "x",
         "y": [
          291.3722222222222
         ],
         "yaxis": "y"
        },
        {
         "legendgroup": "09 PM",
         "line": {
          "color": "rgb(169, 220, 103)"
         },
         "mode": "lines+markers",
         "name": "09 PM",
         "showlegend": true,
         "type": "scatter",
         "x": [
          0,
          0.01,
          0.02,
          0.03,
          0.04,
          0.05,
          0.06,
          0.07,
          0.08,
          0.09
         ],
         "xaxis": "x2",
         "y": [
          293.3424757237696,
          292.80682029800306,
          292.128667409282,
          291.7871430095858,
          291.7197389256601,
          291.77984705160804,
          291.87218631216143,
          291.9549510340549,
          292.01598287681986,
          292.05426795711617
         ],
         "yaxis": "y2"
        },
        {
         "legendgroup": "09 PM",
         "line": {
          "color": "rgb(169, 220, 103)"
         },
         "mode": "lines+markers",
         "name": "09 PM",
         "showlegend": false,
         "type": "scatter",
         "x": [
          "09 PM"
         ],
         "xaxis": "x3",
         "y": [
          293.14828711710544
         ],
         "yaxis": "y3"
        },
        {
         "legendgroup": "11 PM",
         "line": {
          "color": "rgb(180, 223, 101)"
         },
         "mode": "lines+markers",
         "name": "11 PM",
         "showlegend": false,
         "type": "scatter",
         "x": [
          "11 PM"
         ],
         "xaxis": "x",
         "y": [
          289.92777777777775
         ],
         "yaxis": "y"
        },
        {
         "legendgroup": "11 PM",
         "line": {
          "color": "rgb(180, 223, 101)"
         },
         "mode": "lines+markers",
         "name": "11 PM",
         "showlegend": true,
         "type": "scatter",
         "x": [
          0,
          0.01,
          0.02,
          0.03,
          0.04,
          0.05,
          0.06,
          0.07,
          0.08,
          0.09
         ],
         "xaxis": "x2",
         "y": [
          292.130909468743,
          292.5197919765531,
          292.21965624848804,
          291.91726662699085,
          291.7944813834795,
          291.805016792482,
          291.87147346047726,
          291.9448109764387,
          292.00380849353917,
          292.04215042078664
         ],
         "yaxis": "y2"
        },
        {
         "legendgroup": "11 PM",
         "line": {
          "color": "rgb(180, 223, 101)"
         },
         "mode": "lines+markers",
         "name": "11 PM",
         "showlegend": false,
         "type": "scatter",
         "x": [
          "11 PM"
         ],
         "xaxis": "x3",
         "y": [
          293.14821052865364
         ],
         "yaxis": "y3"
        },
        {
         "legendgroup": "01 AM",
         "line": {
          "color": "rgb(192, 226, 100)"
         },
         "mode": "lines+markers",
         "name": "01 AM",
         "showlegend": false,
         "type": "scatter",
         "x": [
          "01 AM"
         ],
         "xaxis": "x",
         "y": [
          288.92777777777775
         ],
         "yaxis": "y"
        },
        {
         "legendgroup": "01 AM",
         "line": {
          "color": "rgb(192, 226, 100)"
         },
         "mode": "lines+markers",
         "name": "01 AM",
         "showlegend": true,
         "type": "scatter",
         "x": [
          0,
          0.01,
          0.02,
          0.03,
          0.04,
          0.05,
          0.06,
          0.07,
          0.08,
          0.09
         ],
         "xaxis": "x2",
         "y": [
          291.28305735554477,
          292.1060526109111,
          292.1529768528401,
          291.98125069222857,
          291.8605185924842,
          291.8387536040923,
          291.8791359700977,
          291.9391817818101,
          291.9933407848289,
          292.03080972055915
         ],
         "yaxis": "y2"
        },
        {
         "legendgroup": "01 AM",
         "line": {
          "color": "rgb(192, 226, 100)"
         },
         "mode": "lines+markers",
         "name": "01 AM",
         "showlegend": false,
         "type": "scatter",
         "x": [
          "01 AM"
         ],
         "xaxis": "x3",
         "y": [
          293.1481331229848
         ],
         "yaxis": "y3"
        },
        {
         "legendgroup": "03 AM",
         "line": {
          "color": "rgb(203, 230, 98)"
         },
         "mode": "lines+markers",
         "name": "03 AM",
         "showlegend": false,
         "type": "scatter",
         "x": [
          "03 AM"
         ],
         "xaxis": "x",
         "y": [
          288.59444444444443
         ],
         "yaxis": "y"
        },
        {
         "legendgroup": "03 AM",
         "line": {
          "color": "rgb(203, 230, 98)"
         },
         "mode": "lines+markers",
         "name": "03 AM",
         "showlegend": true,
         "type": "scatter",
         "x": [
          0,
          0.01,
          0.02,
          0.03,
          0.04,
          0.05,
          0.06,
          0.07,
          0.08,
          0.09
         ],
         "xaxis": "x2",
         "y": [
          290.78842306216126,
          291.7096546610144,
          291.9996508082025,
          291.97825896416106,
          291.9013559368188,
          291.8709938029769,
          291.8919613460037,
          291.93801987034294,
          291.98543120099055,
          292.02120963393213
         ],
         "yaxis": "y2"
        },
        {
         "legendgroup": "03 AM",
         "line": {
          "color": "rgb(203, 230, 98)"
         },
         "mode": "lines+markers",
         "name": "03 AM",
         "showlegend": false,
         "type": "scatter",
         "x": [
          "03 AM"
         ],
         "xaxis": "x3",
         "y": [
          293.148054988599
         ],
         "yaxis": "y3"
        },
        {
         "legendgroup": "05 AM",
         "line": {
          "color": "rgb(214, 233, 96)"
         },
         "mode": "lines+markers",
         "name": "05 AM",
         "showlegend": false,
         "type": "scatter",
         "x": [
          "05 AM"
         ],
         "xaxis": "x",
         "y": [
          289.15
         ],
         "yaxis": "y"
        },
        {
         "legendgroup": "05 AM",
         "line": {
          "color": "rgb(214, 233, 96)"
         },
         "mode": "lines+markers",
         "name": "05 AM",
         "showlegend": true,
         "type": "scatter",
         "x": [
          0,
          0.01,
          0.02,
          0.03,
          0.04,
          0.05,
          0.06,
          0.07,
          0.08,
          0.09
         ],
         "xaxis": "x2",
         "y": [
          290.5129996067184,
          291.39661971351666,
          291.82096469110076,
          291.9273340810858,
          291.9127764586266,
          291.89402145607414,
          291.90563234670293,
          291.94014177114946,
          291.9803809695902,
          292.0140168866168
         ],
         "yaxis": "y2"
        },
        {
         "legendgroup": "05 AM",
         "line": {
          "color": "rgb(214, 233, 96)"
         },
         "mode": "lines+markers",
         "name": "05 AM",
         "showlegend": false,
         "type": "scatter",
         "x": [
          "05 AM"
         ],
         "xaxis": "x3",
         "y": [
          293.1479762723735
         ],
         "yaxis": "y3"
        },
        {
         "legendgroup": "07 AM",
         "line": {
          "color": "rgb(226, 236, 95)"
         },
         "mode": "lines+markers",
         "name": "07 AM",
         "showlegend": false,
         "type": "scatter",
         "x": [
          "07 AM"
         ],
         "xaxis": "x",
         "y": [
          288.4833333333333
         ],
         "yaxis": "y"
        },
        {
         "legendgroup": "07 AM",
         "line": {
          "color": "rgb(226, 236, 95)"
         },
         "mode": "lines+markers",
         "name": "07 AM",
         "showlegend": true,
         "type": "scatter",
         "x": [
          0,
          0.01,
          0.02,
          0.03,
          0.04,
          0.05,
          0.06,
          0.07,
          0.08,
          0.09
         ],
         "xaxis": "x2",
         "y": [
          290.38259024628644,
          291.1916260438233,
          291.6575031272206,
          291.85143487248695,
          291.8991002950257,
          291.9043524514618,
          291.9164372932519,
          291.94377081953604,
          291.9778838775768,
          292.0094013091359
         ],
         "yaxis": "y2"
        },
        {
         "legendgroup": "07 AM",
         "line": {
          "color": "rgb(226, 236, 95)"
         },
         "mode": "lines+markers",
         "name": "07 AM",
         "showlegend": false,
         "type": "scatter",
         "x": [
          "07 AM"
         ],
         "xaxis": "x3",
         "y": [
          293.14789715097044
         ],
         "yaxis": "y3"
        }
       ],
       "layout": {
        "annotations": [
         {
          "font": {
           "size": 16
          },
          "showarrow": false,
          "text": "Amb Temp",
          "x": 0.14444444444444446,
          "xanchor": "center",
          "xref": "paper",
          "y": 1,
          "yanchor": "bottom",
          "yref": "paper"
         },
         {
          "font": {
           "size": 16
          },
          "showarrow": false,
          "text": "Wall Temps",
          "x": 0.5,
          "xanchor": "center",
          "xref": "paper",
          "y": 1,
          "yanchor": "bottom",
          "yref": "paper"
         },
         {
          "font": {
           "size": 16
          },
          "showarrow": false,
          "text": "Room Temp",
          "x": 0.8555555555555556,
          "xanchor": "center",
          "xref": "paper",
          "y": 1,
          "yanchor": "bottom",
          "yref": "paper"
         }
        ],
        "template": {
         "data": {
          "bar": [
           {
            "error_x": {
             "color": "#2a3f5f"
            },
            "error_y": {
             "color": "#2a3f5f"
            },
            "marker": {
             "line": {
              "color": "#E5ECF6",
              "width": 0.5
             },
             "pattern": {
              "fillmode": "overlay",
              "size": 10,
              "solidity": 0.2
             }
            },
            "type": "bar"
           }
          ],
          "barpolar": [
           {
            "marker": {
             "line": {
              "color": "#E5ECF6",
              "width": 0.5
             },
             "pattern": {
              "fillmode": "overlay",
              "size": 10,
              "solidity": 0.2
             }
            },
            "type": "barpolar"
           }
          ],
          "carpet": [
           {
            "aaxis": {
             "endlinecolor": "#2a3f5f",
             "gridcolor": "white",
             "linecolor": "white",
             "minorgridcolor": "white",
             "startlinecolor": "#2a3f5f"
            },
            "baxis": {
             "endlinecolor": "#2a3f5f",
             "gridcolor": "white",
             "linecolor": "white",
             "minorgridcolor": "white",
             "startlinecolor": "#2a3f5f"
            },
            "type": "carpet"
           }
          ],
          "choropleth": [
           {
            "colorbar": {
             "outlinewidth": 0,
             "ticks": ""
            },
            "type": "choropleth"
           }
          ],
          "contour": [
           {
            "colorbar": {
             "outlinewidth": 0,
             "ticks": ""
            },
            "colorscale": [
             [
              0,
              "#0d0887"
             ],
             [
              0.1111111111111111,
              "#46039f"
             ],
             [
              0.2222222222222222,
              "#7201a8"
             ],
             [
              0.3333333333333333,
              "#9c179e"
             ],
             [
              0.4444444444444444,
              "#bd3786"
             ],
             [
              0.5555555555555556,
              "#d8576b"
             ],
             [
              0.6666666666666666,
              "#ed7953"
             ],
             [
              0.7777777777777778,
              "#fb9f3a"
             ],
             [
              0.8888888888888888,
              "#fdca26"
             ],
             [
              1,
              "#f0f921"
             ]
            ],
            "type": "contour"
           }
          ],
          "contourcarpet": [
           {
            "colorbar": {
             "outlinewidth": 0,
             "ticks": ""
            },
            "type": "contourcarpet"
           }
          ],
          "heatmap": [
           {
            "colorbar": {
             "outlinewidth": 0,
             "ticks": ""
            },
            "colorscale": [
             [
              0,
              "#0d0887"
             ],
             [
              0.1111111111111111,
              "#46039f"
             ],
             [
              0.2222222222222222,
              "#7201a8"
             ],
             [
              0.3333333333333333,
              "#9c179e"
             ],
             [
              0.4444444444444444,
              "#bd3786"
             ],
             [
              0.5555555555555556,
              "#d8576b"
             ],
             [
              0.6666666666666666,
              "#ed7953"
             ],
             [
              0.7777777777777778,
              "#fb9f3a"
             ],
             [
              0.8888888888888888,
              "#fdca26"
             ],
             [
              1,
              "#f0f921"
             ]
            ],
            "type": "heatmap"
           }
          ],
          "heatmapgl": [
           {
            "colorbar": {
             "outlinewidth": 0,
             "ticks": ""
            },
            "colorscale": [
             [
              0,
              "#0d0887"
             ],
             [
              0.1111111111111111,
              "#46039f"
             ],
             [
              0.2222222222222222,
              "#7201a8"
             ],
             [
              0.3333333333333333,
              "#9c179e"
             ],
             [
              0.4444444444444444,
              "#bd3786"
             ],
             [
              0.5555555555555556,
              "#d8576b"
             ],
             [
              0.6666666666666666,
              "#ed7953"
             ],
             [
              0.7777777777777778,
              "#fb9f3a"
             ],
             [
              0.8888888888888888,
              "#fdca26"
             ],
             [
              1,
              "#f0f921"
             ]
            ],
            "type": "heatmapgl"
           }
          ],
          "histogram": [
           {
            "marker": {
             "pattern": {
              "fillmode": "overlay",
              "size": 10,
              "solidity": 0.2
             }
            },
            "type": "histogram"
           }
          ],
          "histogram2d": [
           {
            "colorbar": {
             "outlinewidth": 0,
             "ticks": ""
            },
            "colorscale": [
             [
              0,
              "#0d0887"
             ],
             [
              0.1111111111111111,
              "#46039f"
             ],
             [
              0.2222222222222222,
              "#7201a8"
             ],
             [
              0.3333333333333333,
              "#9c179e"
             ],
             [
              0.4444444444444444,
              "#bd3786"
             ],
             [
              0.5555555555555556,
              "#d8576b"
             ],
             [
              0.6666666666666666,
              "#ed7953"
             ],
             [
              0.7777777777777778,
              "#fb9f3a"
             ],
             [
              0.8888888888888888,
              "#fdca26"
             ],
             [
              1,
              "#f0f921"
             ]
            ],
            "type": "histogram2d"
           }
          ],
          "histogram2dcontour": [
           {
            "colorbar": {
             "outlinewidth": 0,
             "ticks": ""
            },
            "colorscale": [
             [
              0,
              "#0d0887"
             ],
             [
              0.1111111111111111,
              "#46039f"
             ],
             [
              0.2222222222222222,
              "#7201a8"
             ],
             [
              0.3333333333333333,
              "#9c179e"
             ],
             [
              0.4444444444444444,
              "#bd3786"
             ],
             [
              0.5555555555555556,
              "#d8576b"
             ],
             [
              0.6666666666666666,
              "#ed7953"
             ],
             [
              0.7777777777777778,
              "#fb9f3a"
             ],
             [
              0.8888888888888888,
              "#fdca26"
             ],
             [
              1,
              "#f0f921"
             ]
            ],
            "type": "histogram2dcontour"
           }
          ],
          "mesh3d": [
           {
            "colorbar": {
             "outlinewidth": 0,
             "ticks": ""
            },
            "type": "mesh3d"
           }
          ],
          "parcoords": [
           {
            "line": {
             "colorbar": {
              "outlinewidth": 0,
              "ticks": ""
             }
            },
            "type": "parcoords"
           }
          ],
          "pie": [
           {
            "automargin": true,
            "type": "pie"
           }
          ],
          "scatter": [
           {
            "fillpattern": {
             "fillmode": "overlay",
             "size": 10,
             "solidity": 0.2
            },
            "type": "scatter"
           }
          ],
          "scatter3d": [
           {
            "line": {
             "colorbar": {
              "outlinewidth": 0,
              "ticks": ""
             }
            },
            "marker": {
             "colorbar": {
              "outlinewidth": 0,
              "ticks": ""
             }
            },
            "type": "scatter3d"
           }
          ],
          "scattercarpet": [
           {
            "marker": {
             "colorbar": {
              "outlinewidth": 0,
              "ticks": ""
             }
            },
            "type": "scattercarpet"
           }
          ],
          "scattergeo": [
           {
            "marker": {
             "colorbar": {
              "outlinewidth": 0,
              "ticks": ""
             }
            },
            "type": "scattergeo"
           }
          ],
          "scattergl": [
           {
            "marker": {
             "colorbar": {
              "outlinewidth": 0,
              "ticks": ""
             }
            },
            "type": "scattergl"
           }
          ],
          "scattermapbox": [
           {
            "marker": {
             "colorbar": {
              "outlinewidth": 0,
              "ticks": ""
             }
            },
            "type": "scattermapbox"
           }
          ],
          "scatterpolar": [
           {
            "marker": {
             "colorbar": {
              "outlinewidth": 0,
              "ticks": ""
             }
            },
            "type": "scatterpolar"
           }
          ],
          "scatterpolargl": [
           {
            "marker": {
             "colorbar": {
              "outlinewidth": 0,
              "ticks": ""
             }
            },
            "type": "scatterpolargl"
           }
          ],
          "scatterternary": [
           {
            "marker": {
             "colorbar": {
              "outlinewidth": 0,
              "ticks": ""
             }
            },
            "type": "scatterternary"
           }
          ],
          "surface": [
           {
            "colorbar": {
             "outlinewidth": 0,
             "ticks": ""
            },
            "colorscale": [
             [
              0,
              "#0d0887"
             ],
             [
              0.1111111111111111,
              "#46039f"
             ],
             [
              0.2222222222222222,
              "#7201a8"
             ],
             [
              0.3333333333333333,
              "#9c179e"
             ],
             [
              0.4444444444444444,
              "#bd3786"
             ],
             [
              0.5555555555555556,
              "#d8576b"
             ],
             [
              0.6666666666666666,
              "#ed7953"
             ],
             [
              0.7777777777777778,
              "#fb9f3a"
             ],
             [
              0.8888888888888888,
              "#fdca26"
             ],
             [
              1,
              "#f0f921"
             ]
            ],
            "type": "surface"
           }
          ],
          "table": [
           {
            "cells": {
             "fill": {
              "color": "#EBF0F8"
             },
             "line": {
              "color": "white"
             }
            },
            "header": {
             "fill": {
              "color": "#C8D4E3"
             },
             "line": {
              "color": "white"
             }
            },
            "type": "table"
           }
          ]
         },
         "layout": {
          "annotationdefaults": {
           "arrowcolor": "#2a3f5f",
           "arrowhead": 0,
           "arrowwidth": 1
          },
          "autotypenumbers": "strict",
          "coloraxis": {
           "colorbar": {
            "outlinewidth": 0,
            "ticks": ""
           }
          },
          "colorscale": {
           "diverging": [
            [
             0,
             "#8e0152"
            ],
            [
             0.1,
             "#c51b7d"
            ],
            [
             0.2,
             "#de77ae"
            ],
            [
             0.3,
             "#f1b6da"
            ],
            [
             0.4,
             "#fde0ef"
            ],
            [
             0.5,
             "#f7f7f7"
            ],
            [
             0.6,
             "#e6f5d0"
            ],
            [
             0.7,
             "#b8e186"
            ],
            [
             0.8,
             "#7fbc41"
            ],
            [
             0.9,
             "#4d9221"
            ],
            [
             1,
             "#276419"
            ]
           ],
           "sequential": [
            [
             0,
             "#0d0887"
            ],
            [
             0.1111111111111111,
             "#46039f"
            ],
            [
             0.2222222222222222,
             "#7201a8"
            ],
            [
             0.3333333333333333,
             "#9c179e"
            ],
            [
             0.4444444444444444,
             "#bd3786"
            ],
            [
             0.5555555555555556,
             "#d8576b"
            ],
            [
             0.6666666666666666,
             "#ed7953"
            ],
            [
             0.7777777777777778,
             "#fb9f3a"
            ],
            [
             0.8888888888888888,
             "#fdca26"
            ],
            [
             1,
             "#f0f921"
            ]
           ],
           "sequentialminus": [
            [
             0,
             "#0d0887"
            ],
            [
             0.1111111111111111,
             "#46039f"
            ],
            [
             0.2222222222222222,
             "#7201a8"
            ],
            [
             0.3333333333333333,
             "#9c179e"
            ],
            [
             0.4444444444444444,
             "#bd3786"
            ],
            [
             0.5555555555555556,
             "#d8576b"
            ],
            [
             0.6666666666666666,
             "#ed7953"
            ],
            [
             0.7777777777777778,
             "#fb9f3a"
            ],
            [
             0.8888888888888888,
             "#fdca26"
            ],
            [
             1,
             "#f0f921"
            ]
           ]
          },
          "colorway": [
           "#636efa",
           "#EF553B",
           "#00cc96",
           "#ab63fa",
           "#FFA15A",
           "#19d3f3",
           "#FF6692",
           "#B6E880",
           "#FF97FF",
           "#FECB52"
          ],
          "font": {
           "color": "#2a3f5f"
          },
          "geo": {
           "bgcolor": "white",
           "lakecolor": "white",
           "landcolor": "#E5ECF6",
           "showlakes": true,
           "showland": true,
           "subunitcolor": "white"
          },
          "hoverlabel": {
           "align": "left"
          },
          "hovermode": "closest",
          "mapbox": {
           "style": "light"
          },
          "paper_bgcolor": "white",
          "plot_bgcolor": "#E5ECF6",
          "polar": {
           "angularaxis": {
            "gridcolor": "white",
            "linecolor": "white",
            "ticks": ""
           },
           "bgcolor": "#E5ECF6",
           "radialaxis": {
            "gridcolor": "white",
            "linecolor": "white",
            "ticks": ""
           }
          },
          "scene": {
           "xaxis": {
            "backgroundcolor": "#E5ECF6",
            "gridcolor": "white",
            "gridwidth": 2,
            "linecolor": "white",
            "showbackground": true,
            "ticks": "",
            "zerolinecolor": "white"
           },
           "yaxis": {
            "backgroundcolor": "#E5ECF6",
            "gridcolor": "white",
            "gridwidth": 2,
            "linecolor": "white",
            "showbackground": true,
            "ticks": "",
            "zerolinecolor": "white"
           },
           "zaxis": {
            "backgroundcolor": "#E5ECF6",
            "gridcolor": "white",
            "gridwidth": 2,
            "linecolor": "white",
            "showbackground": true,
            "ticks": "",
            "zerolinecolor": "white"
           }
          },
          "shapedefaults": {
           "line": {
            "color": "#2a3f5f"
           }
          },
          "ternary": {
           "aaxis": {
            "gridcolor": "white",
            "linecolor": "white",
            "ticks": ""
           },
           "baxis": {
            "gridcolor": "white",
            "linecolor": "white",
            "ticks": ""
           },
           "bgcolor": "#E5ECF6",
           "caxis": {
            "gridcolor": "white",
            "linecolor": "white",
            "ticks": ""
           }
          },
          "title": {
           "x": 0.05
          },
          "xaxis": {
           "automargin": true,
           "gridcolor": "white",
           "linecolor": "white",
           "ticks": "",
           "title": {
            "standoff": 15
           },
           "zerolinecolor": "white",
           "zerolinewidth": 2
          },
          "yaxis": {
           "automargin": true,
           "gridcolor": "white",
           "linecolor": "white",
           "ticks": "",
           "title": {
            "standoff": 15
           },
           "zerolinecolor": "white",
           "zerolinewidth": 2
          }
         }
        },
        "xaxis": {
         "anchor": "y",
         "domain": [
          0,
          0.2888888888888889
         ],
         "title": {
          "text": "Time"
         }
        },
        "xaxis2": {
         "anchor": "y2",
         "domain": [
          0.35555555555555557,
          0.6444444444444445
         ],
         "title": {
          "text": "Wall Nodes Distance"
         }
        },
        "xaxis3": {
         "anchor": "y3",
         "domain": [
          0.7111111111111111,
          1
         ],
         "title": {
          "text": "Time"
         }
        },
        "yaxis": {
         "anchor": "x",
         "domain": [
          0,
          1
         ],
         "title": {
          "text": "Temperature (K )"
         }
        },
        "yaxis2": {
         "anchor": "x2",
         "domain": [
          0,
          1
         ],
         "matches": "y",
         "showticklabels": false
        },
        "yaxis3": {
         "anchor": "x3",
         "domain": [
          0,
          1
         ],
         "matches": "y",
         "showticklabels": false
        }
       }
      }
     },
     "metadata": {},
     "output_type": "display_data"
    }
   ],
   "source": [
    "# whether or not can turn time series off and on \n",
    "lg = True\n",
    "fig = make_subplots(rows=1, cols=3, shared_yaxes=True, subplot_titles=(\"Amb Temp\", \"Wall Temps\", \"Room Temp\"))\n",
    "\n",
    "#TODO relate \"4\" to number of time steps argument in VAvgIndoorAir function \n",
    "\n",
    "min_interv = 2*60 # interval to plot at in minutes \n",
    "colors, colors2 = make_colors(min_interv=min_interv)\n",
    "\n",
    "cix=0\n",
    "for ix_time, x_at_time in enumerate(v1.all_wall_temps): # NEED way to abstract this \n",
    "    if ix_time%(min_interv*4)== 0:\n",
    "        timestamp = [(pd.Timedelta(times[ix_time], \"m\") + v1.twall.ext_temps.index[0]).strftime('%I %p') ]\n",
    "\n",
    "        legendgroup = \"Same\" if lg == False else timestamp[0]\n",
    "\n",
    "        # Outdoor Air \n",
    "        fig.add_trace(go.Scatter(x=timestamp, y=[v1.twall.ext_temps[ix_time]], mode='lines+markers', line=dict(color=colors[cix]),\n",
    "        showlegend=False, name=timestamp[0], legendgroup=legendgroup\n",
    "        ), row = 1, col = 1)\n",
    "\n",
    "        # Wall Temperature \n",
    "        fig.add_trace(go.Scatter(x=v1.twall.x_vals, y=x_at_time, mode='lines+markers', line=dict(color=colors[cix]),\n",
    "        showlegend=True, name=timestamp[0], legendgroup=legendgroup\n",
    "        ), row = 1, col = 2)\n",
    "\n",
    "        # Indoor Air \n",
    "        fig.add_trace(go.Scatter(x=timestamp, y=[temps[ix_time]], mode='lines+markers', line=dict(color=colors[cix]),\n",
    "        showlegend=False, name=timestamp[0], legendgroup=legendgroup\n",
    "        ), row = 1, col = 3)\n",
    "        cix+=1\n",
    "\n",
    "fig['layout']['yaxis']['title']='Temperature (K )'\n",
    "fig['layout']['xaxis1']['title']='Time'\n",
    "fig['layout']['xaxis2']['title']='Wall Nodes Distance'\n",
    "fig['layout']['xaxis3']['title']='Time'\n",
    "fig.show()"
   ]
  }
 ],
 "metadata": {
  "kernelspec": {
   "display_name": "localwindowsenv",
   "language": "python",
   "name": "python3"
  },
  "language_info": {
   "codemirror_mode": {
    "name": "ipython",
    "version": 3
   },
   "file_extension": ".py",
   "mimetype": "text/x-python",
   "name": "python",
   "nbconvert_exporter": "python",
   "pygments_lexer": "ipython3",
   "version": "3.9.15"
  },
  "orig_nbformat": 4
 },
 "nbformat": 4,
 "nbformat_minor": 2
}
