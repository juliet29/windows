{
 "cells": [
  {
   "cell_type": "code",
   "execution_count": 1,
   "metadata": {},
   "outputs": [],
   "source": [
    "import sys\n",
    "sys.path.insert(0, \"../scripts\")\n",
    "import vavg_indoor_air as v\n",
    "import wall_cond as w\n",
    "import helpers as h\n",
    "\n",
    "from sympy import * \n",
    "from spb import *\n",
    "\n",
    "import numpy as np\n",
    "import pandas as pd\n",
    "\n",
    "import plotly.express as px\n",
    "import plotly.graph_objects as go\n",
    "from plotly.subplots import make_subplots\n",
    "import plotly as plotly\n",
    "\n",
    "from icecream import ic"
   ]
  },
  {
   "cell_type": "code",
   "execution_count": 2,
   "metadata": {},
   "outputs": [],
   "source": [
    "v1 = v.VavgIndoorAir(v.PhysicalConstants(), n_mins=60*24*2) #extend to 1 day "
   ]
  },
  {
   "cell_type": "code",
   "execution_count": 3,
   "metadata": {},
   "outputs": [
    {
     "data": {
      "text/plain": [
       "2880"
      ]
     },
     "execution_count": 3,
     "metadata": {},
     "output_type": "execute_result"
    }
   ],
   "source": [
    "60*24*2"
   ]
  },
  {
   "cell_type": "code",
   "execution_count": 4,
   "metadata": {},
   "outputs": [
    {
     "data": {
      "text/plain": [
       "11520"
      ]
     },
     "execution_count": 4,
     "metadata": {},
     "output_type": "execute_result"
    }
   ],
   "source": [
    "len(v1.twall.ext_temps)"
   ]
  },
  {
   "cell_type": "code",
   "execution_count": 5,
   "metadata": {},
   "outputs": [
    {
     "data": {
      "text/plain": [
       "4.0"
      ]
     },
     "execution_count": 5,
     "metadata": {},
     "output_type": "execute_result"
    }
   ],
   "source": [
    "len(v1.times)/2880"
   ]
  },
  {
   "cell_type": "code",
   "execution_count": 10,
   "metadata": {},
   "outputs": [
    {
     "data": {
      "text/plain": [
       "11520"
      ]
     },
     "execution_count": 10,
     "metadata": {},
     "output_type": "execute_result"
    }
   ],
   "source": [
    "v1.twall.N"
   ]
  },
  {
   "cell_type": "code",
   "execution_count": 6,
   "metadata": {},
   "outputs": [],
   "source": [
    "times, temps = v1.calc_transient_indoor_air()"
   ]
  },
  {
   "cell_type": "code",
   "execution_count": 7,
   "metadata": {},
   "outputs": [],
   "source": [
    "def make_colors(min_interv):\n",
    "    n_colors = len([ix_time for ix_time,_ in enumerate(v1.all_wall_temps) if ix_time%(min_interv*4)==0]) + 1\n",
    "\n",
    "    colors = px.colors.sample_colorscale(\"aggrnyl\", [n/(n_colors -1) for n in range(n_colors)])\n",
    "\n",
    "    colors2 = px.colors.sample_colorscale(\"agsunset\", [n/(n_colors -1) for n in range(n_colors)])\n",
    "\n",
    "    # print(len(colors))\n",
    "\n",
    "    return colors, colors2\n"
   ]
  },
  {
   "cell_type": "code",
   "execution_count": 8,
   "metadata": {},
   "outputs": [
    {
     "data": {
      "application/vnd.plotly.v1+json": {
       "config": {
        "plotlyServerURL": "https://plotly.com"
       },
       "data": [
        {
         "legendgroup": "09 AM",
         "line": {
          "color": "rgb(36, 86, 104)"
         },
         "mode": "lines+markers",
         "name": "09 AM",
         "showlegend": false,
         "type": "scatter",
         "x": [
          "09 AM"
         ],
         "xaxis": "x",
         "y": [
          290.26111111111106
         ],
         "yaxis": "y"
        },
        {
         "legendgroup": "09 AM",
         "line": {
          "color": "rgb(36, 86, 104)"
         },
         "mode": "lines+markers",
         "name": "09 AM",
         "showlegend": true,
         "type": "scatter",
         "x": [
          0,
          0.01,
          0.02,
          0.03,
          0.04,
          0.05,
          0.06,
          0.07,
          0.08,
          0.09
         ],
         "xaxis": "x2",
         "y": [
          290.2618554303095,
          290.5820987654321,
          290.90308641975304,
          291.2240740740741,
          291.54506172839507,
          291.866049382716,
          292.187037037037,
          292.508024691358,
          292.82901234567896,
          293.14925568080156
         ],
         "yaxis": "y2"
        },
        {
         "legendgroup": "09 AM",
         "line": {
          "color": "rgb(36, 86, 104)"
         },
         "mode": "lines+markers",
         "name": "09 AM",
         "showlegend": false,
         "type": "scatter",
         "x": [
          "09 AM"
         ],
         "xaxis": "x3",
         "y": [
          293.15
         ],
         "yaxis": "y3"
        },
        {
         "legendgroup": "11 AM",
         "line": {
          "color": "rgb(31, 93, 108)"
         },
         "mode": "lines+markers",
         "name": "11 AM",
         "showlegend": false,
         "type": "scatter",
         "x": [
          "11 AM"
         ],
         "xaxis": "x",
         "y": [
          292.81666666666666
         ],
         "yaxis": "y"
        },
        {
         "legendgroup": "11 AM",
         "line": {
          "color": "rgb(31, 93, 108)"
         },
         "mode": "lines+markers",
         "name": "11 AM",
         "showlegend": true,
         "type": "scatter",
         "x": [
          0,
          0.01,
          0.02,
          0.03,
          0.04,
          0.05,
          0.06,
          0.07,
          0.08,
          0.09
         ],
         "xaxis": "x2",
         "y": [
          290.5202619869831,
          290.6377124966553,
          290.91201383425334,
          291.22520917714843,
          291.54517025243365,
          291.86594217228026,
          292.1859252320137,
          292.4994447439738,
          292.77734738115913,
          292.92222471138365
         ],
         "yaxis": "y2"
        },
        {
         "legendgroup": "11 AM",
         "line": {
          "color": "rgb(31, 93, 108)"
         },
         "mode": "lines+markers",
         "name": "11 AM",
         "showlegend": false,
         "type": "scatter",
         "x": [
          "11 AM"
         ],
         "xaxis": "x3",
         "y": [
          293.1499818129649
         ],
         "yaxis": "y3"
        },
        {
         "legendgroup": "01 PM",
         "line": {
          "color": "rgb(26, 100, 112)"
         },
         "mode": "lines+markers",
         "name": "01 PM",
         "showlegend": false,
         "type": "scatter",
         "x": [
          "01 PM"
         ],
         "xaxis": "x",
         "y": [
          293.81666666666666
         ],
         "yaxis": "y"
        },
        {
         "legendgroup": "01 PM",
         "line": {
          "color": "rgb(26, 100, 112)"
         },
         "mode": "lines+markers",
         "name": "01 PM",
         "showlegend": true,
         "type": "scatter",
         "x": [
          0,
          0.01,
          0.02,
          0.03,
          0.04,
          0.05,
          0.06,
          0.07,
          0.08,
          0.09
         ],
         "xaxis": "x2",
         "y": [
          290.7183756982585,
          290.73815081176963,
          290.94600331011287,
          291.2338178003299,
          291.54665817786207,
          291.86462826292995,
          292.1783682374741,
          292.4713613558433,
          292.70289928959085,
          292.8053104968547
         ],
         "yaxis": "y2"
        },
        {
         "legendgroup": "01 PM",
         "line": {
          "color": "rgb(26, 100, 112)"
         },
         "mode": "lines+markers",
         "name": "01 PM",
         "showlegend": false,
         "type": "scatter",
         "x": [
          "01 PM"
         ],
         "xaxis": "x3",
         "y": [
          293.14994137050877
         ],
         "yaxis": "y3"
        },
        {
         "legendgroup": "03 PM",
         "line": {
          "color": "rgb(20, 107, 117)"
         },
         "mode": "lines+markers",
         "name": "03 PM",
         "showlegend": false,
         "type": "scatter",
         "x": [
          "03 PM"
         ],
         "xaxis": "x",
         "y": [
          294.5388888888889
         ],
         "yaxis": "y"
        },
        {
         "legendgroup": "03 PM",
         "line": {
          "color": "rgb(20, 107, 117)"
         },
         "mode": "lines+markers",
         "name": "03 PM",
         "showlegend": true,
         "type": "scatter",
         "x": [
          0,
          0.01,
          0.02,
          0.03,
          0.04,
          0.05,
          0.06,
          0.07,
          0.08,
          0.09
         ],
         "xaxis": "x2",
         "y": [
          290.892579061714,
          290.846122306641,
          290.9976167040707,
          291.25291012063917,
          291.5512734034836,
          291.8612515227139,
          292.16356147102766,
          292.43431591797963,
          292.63531620466995,
          292.7225183662459
         ],
         "yaxis": "y2"
        },
        {
         "legendgroup": "03 PM",
         "line": {
          "color": "rgb(20, 107, 117)"
         },
         "mode": "lines+markers",
         "name": "03 PM",
         "showlegend": false,
         "type": "scatter",
         "x": [
          "03 PM"
         ],
         "xaxis": "x3",
         "y": [
          293.14988738692955
         ],
         "yaxis": "y3"
        },
        {
         "legendgroup": "05 PM",
         "line": {
          "color": "rgb(15, 114, 121)"
         },
         "mode": "lines+markers",
         "name": "05 PM",
         "showlegend": false,
         "type": "scatter",
         "x": [
          "05 PM"
         ],
         "xaxis": "x",
         "y": [
          295.92777777777775
         ],
         "yaxis": "y"
        },
        {
         "legendgroup": "05 PM",
         "line": {
          "color": "rgb(15, 114, 121)"
         },
         "mode": "lines+markers",
         "name": "05 PM",
         "showlegend": true,
         "type": "scatter",
         "x": [
          0,
          0.01,
          0.02,
          0.03,
          0.04,
          0.05,
          0.06,
          0.07,
          0.08,
          0.09
         ],
         "xaxis": "x2",
         "y": [
          291.05238378875833,
          290.95518062973235,
          291.05933718804295,
          291.28096083014225,
          291.55959949897033,
          291.85648299296633,
          292.14427777911254,
          292.395138442742,
          292.57575243877375,
          292.65563625679675
         ],
         "yaxis": "y2"
        },
        {
         "legendgroup": "05 PM",
         "line": {
          "color": "rgb(15, 114, 121)"
         },
         "mode": "lines+markers",
         "name": "05 PM",
         "showlegend": false,
         "type": "scatter",
         "x": [
          "05 PM"
         ],
         "xaxis": "x3",
         "y": [
          293.1498230984568
         ],
         "yaxis": "y3"
        },
        {
         "legendgroup": "07 PM",
         "line": {
          "color": "rgb(14, 121, 123)"
         },
         "mode": "lines+markers",
         "name": "07 PM",
         "showlegend": false,
         "type": "scatter",
         "x": [
          "07 PM"
         ],
         "xaxis": "x",
         "y": [
          295.2055555555555
         ],
         "yaxis": "y"
        },
        {
         "legendgroup": "07 PM",
         "line": {
          "color": "rgb(14, 121, 123)"
         },
         "mode": "lines+markers",
         "name": "07 PM",
         "showlegend": true,
         "type": "scatter",
         "x": [
          0,
          0.01,
          0.02,
          0.03,
          0.04,
          0.05,
          0.06,
          0.07,
          0.08,
          0.09
         ],
         "xaxis": "x2",
         "y": [
          291.1929992214214,
          291.06508465217337,
          291.1275002758051,
          291.3157576467127,
          291.57147330766134,
          291.85153438399226,
          292.1232194721142,
          292.3567105795079,
          292.522692617551,
          292.59837274576785
         ],
         "yaxis": "y2"
        },
        {
         "legendgroup": "07 PM",
         "line": {
          "color": "rgb(14, 121, 123)"
         },
         "mode": "lines+markers",
         "name": "07 PM",
         "showlegend": false,
         "type": "scatter",
         "x": [
          "07 PM"
         ],
         "xaxis": "x3",
         "y": [
          293.1497502207022
         ],
         "yaxis": "y3"
        },
        {
         "legendgroup": "09 PM",
         "line": {
          "color": "rgb(14, 128, 125)"
         },
         "mode": "lines+markers",
         "name": "09 PM",
         "showlegend": false,
         "type": "scatter",
         "x": [
          "09 PM"
         ],
         "xaxis": "x",
         "y": [
          290.81666666666666
         ],
         "yaxis": "y"
        },
        {
         "legendgroup": "09 PM",
         "line": {
          "color": "rgb(14, 128, 125)"
         },
         "mode": "lines+markers",
         "name": "09 PM",
         "showlegend": true,
         "type": "scatter",
         "x": [
          0,
          0.01,
          0.02,
          0.03,
          0.04,
          0.05,
          0.06,
          0.07,
          0.08,
          0.09
         ],
         "xaxis": "x2",
         "y": [
          291.23989790118054,
          291.1548328291635,
          291.1963120322288,
          291.35509512157853,
          291.58652384187496,
          291.84744764661264,
          292.1022542403688,
          292.32025153145474,
          292.47489694542946,
          292.5478568251285
         ],
         "yaxis": "y2"
        },
        {
         "legendgroup": "09 PM",
         "line": {
          "color": "rgb(14, 128, 125)"
         },
         "mode": "lines+markers",
         "name": "09 PM",
         "showlegend": false,
         "type": "scatter",
         "x": [
          "09 PM"
         ],
         "xaxis": "x3",
         "y": [
          293.1496698721006
         ],
         "yaxis": "y3"
        },
        {
         "legendgroup": "11 PM",
         "line": {
          "color": "rgb(14, 136, 127)"
         },
         "mode": "lines+markers",
         "name": "11 PM",
         "showlegend": false,
         "type": "scatter",
         "x": [
          "11 PM"
         ],
         "xaxis": "x",
         "y": [
          288.5388888888889
         ],
         "yaxis": "y"
        },
        {
         "legendgroup": "11 PM",
         "line": {
          "color": "rgb(14, 136, 127)"
         },
         "mode": "lines+markers",
         "name": "11 PM",
         "showlegend": true,
         "type": "scatter",
         "x": [
          0,
          0.01,
          0.02,
          0.03,
          0.04,
          0.05,
          0.06,
          0.07,
          0.08,
          0.09
         ],
         "xaxis": "x2",
         "y": [
          291.1617474533228,
          291.1927925882021,
          291.2525849350314,
          291.3945921990324,
          291.6037847270295,
          291.8448234174836,
          292.08252556479414,
          292.28631048145417,
          292.4315493126911,
          292.50255455751113
         ],
         "yaxis": "y2"
        },
        {
         "legendgroup": "11 PM",
         "line": {
          "color": "rgb(14, 136, 127)"
         },
         "mode": "lines+markers",
         "name": "11 PM",
         "showlegend": false,
         "type": "scatter",
         "x": [
          "11 PM"
         ],
         "xaxis": "x3",
         "y": [
          293.1495828764686
         ],
         "yaxis": "y3"
        },
        {
         "legendgroup": "01 AM",
         "line": {
          "color": "rgb(13, 143, 129)"
         },
         "mode": "lines+markers",
         "name": "01 AM",
         "showlegend": false,
         "type": "scatter",
         "x": [
          "01 AM"
         ],
         "xaxis": "x",
         "y": [
          287.59444444444443
         ],
         "yaxis": "y"
        },
        {
         "legendgroup": "01 AM",
         "line": {
          "color": "rgb(13, 143, 129)"
         },
         "mode": "lines+markers",
         "name": "01 AM",
         "showlegend": true,
         "type": "scatter",
         "x": [
          0,
          0.01,
          0.02,
          0.03,
          0.04,
          0.05,
          0.06,
          0.07,
          0.08,
          0.09
         ],
         "xaxis": "x2",
         "y": [
          291.0857938295627,
          291.19382899921203,
          291.28790063085154,
          291.4281782278546,
          291.621086377852,
          291.84356191353737,
          292.0645947727569,
          292.2551211533688,
          292.3921223559735,
          292.4615740947579
         ],
         "yaxis": "y2"
        },
        {
         "legendgroup": "01 AM",
         "line": {
          "color": "rgb(13, 143, 129)"
         },
         "mode": "lines+markers",
         "name": "01 AM",
         "showlegend": false,
         "type": "scatter",
         "x": [
          "01 AM"
         ],
         "xaxis": "x3",
         "y": [
          293.14948989344697
         ],
         "yaxis": "y3"
        },
        {
         "legendgroup": "03 AM",
         "line": {
          "color": "rgb(24, 150, 128)"
         },
         "mode": "lines+markers",
         "name": "03 AM",
         "showlegend": false,
         "type": "scatter",
         "x": [
          "03 AM"
         ],
         "xaxis": "x",
         "y": [
          286.65
         ],
         "yaxis": "y"
        },
        {
         "legendgroup": "03 AM",
         "line": {
          "color": "rgb(24, 150, 128)"
         },
         "mode": "lines+markers",
         "name": "03 AM",
         "showlegend": true,
         "type": "scatter",
         "x": [
          0,
          0.01,
          0.02,
          0.03,
          0.04,
          0.05,
          0.06,
          0.07,
          0.08,
          0.09
         ],
         "xaxis": "x2",
         "y": [
          291.01978644831297,
          291.1802468904447,
          291.3062102634186,
          291.45292392884915,
          291.6360367463512,
          291.84289444700556,
          292.0485050816338,
          292.2267019006346,
          292.35625099222995,
          292.42436164577913
         ],
         "yaxis": "y2"
        },
        {
         "legendgroup": "03 AM",
         "line": {
          "color": "rgb(24, 150, 128)"
         },
         "mode": "lines+markers",
         "name": "03 AM",
         "showlegend": false,
         "type": "scatter",
         "x": [
          "03 AM"
         ],
         "xaxis": "x3",
         "y": [
          293.14939148436343
         ],
         "yaxis": "y3"
        },
        {
         "legendgroup": "05 AM",
         "line": {
          "color": "rgb(35, 157, 128)"
         },
         "mode": "lines+markers",
         "name": "05 AM",
         "showlegend": false,
         "type": "scatter",
         "x": [
          "05 AM"
         ],
         "xaxis": "x",
         "y": [
          287.81666666666666
         ],
         "yaxis": "y"
        },
        {
         "legendgroup": "05 AM",
         "line": {
          "color": "rgb(35, 157, 128)"
         },
         "mode": "lines+markers",
         "name": "05 AM",
         "showlegend": true,
         "type": "scatter",
         "x": [
          0,
          0.01,
          0.02,
          0.03,
          0.04,
          0.05,
          0.06,
          0.07,
          0.08,
          0.09
         ],
         "xaxis": "x2",
         "y": [
          290.9894897321411,
          291.16221665208514,
          291.31277535400096,
          291.4690161554164,
          291.6472447974115,
          291.84188633830945,
          292.03393328363245,
          292.2008871696479,
          292.3236356353647,
          292.3905353758833
         ],
         "yaxis": "y2"
        },
        {
         "legendgroup": "05 AM",
         "line": {
          "color": "rgb(35, 157, 128)"
         },
         "mode": "lines+markers",
         "name": "05 AM",
         "showlegend": false,
         "type": "scatter",
         "x": [
          "05 AM"
         ],
         "xaxis": "x3",
         "y": [
          293.14928814678694
         ],
         "yaxis": "y3"
        },
        {
         "legendgroup": "07 AM",
         "line": {
          "color": "rgb(46, 164, 127)"
         },
         "mode": "lines+markers",
         "name": "07 AM",
         "showlegend": false,
         "type": "scatter",
         "x": [
          "07 AM"
         ],
         "xaxis": "x",
         "y": [
          288.3722222222222
         ],
         "yaxis": "y"
        },
        {
         "legendgroup": "07 AM",
         "line": {
          "color": "rgb(46, 164, 127)"
         },
         "mode": "lines+markers",
         "name": "07 AM",
         "showlegend": true,
         "type": "scatter",
         "x": [
          0,
          0.01,
          0.02,
          0.03,
          0.04,
          0.05,
          0.06,
          0.07,
          0.08,
          0.09
         ],
         "xaxis": "x2",
         "y": [
          291.00218794832205,
          291.15771044328034,
          291.3154369115504,
          291.4784524729799,
          291.6543937242355,
          291.8398358014038,
          292.02041541589364,
          292.1773818860466,
          292.2939826339583,
          292.35978440032517
         ],
         "yaxis": "y2"
        },
        {
         "legendgroup": "07 AM",
         "line": {
          "color": "rgb(46, 164, 127)"
         },
         "mode": "lines+markers",
         "name": "07 AM",
         "showlegend": false,
         "type": "scatter",
         "x": [
          "07 AM"
         ],
         "xaxis": "x3",
         "y": [
          293.1491803308668
         ],
         "yaxis": "y3"
        },
        {
         "legendgroup": "09 AM",
         "line": {
          "color": "rgb(57, 171, 126)"
         },
         "mode": "lines+markers",
         "name": "09 AM",
         "showlegend": false,
         "type": "scatter",
         "x": [
          "09 AM"
         ],
         "xaxis": "x",
         "y": [
          290.0388888888889
         ],
         "yaxis": "y"
        },
        {
         "legendgroup": "09 AM",
         "line": {
          "color": "rgb(57, 171, 126)"
         },
         "mode": "lines+markers",
         "name": "09 AM",
         "showlegend": true,
         "type": "scatter",
         "x": [
          0,
          0.01,
          0.02,
          0.03,
          0.04,
          0.05,
          0.06,
          0.07,
          0.08,
          0.09
         ],
         "xaxis": "x2",
         "y": [
          291.03668300074764,
          291.16515230214145,
          291.3195342863282,
          291.48435547330365,
          291.65818171131815,
          291.83646354884206,
          292.0075318052181,
          292.155836349479,
          292.26698321267196,
          292.33181368901927
         ],
         "yaxis": "y2"
        },
        {
         "legendgroup": "09 AM",
         "line": {
          "color": "rgb(57, 171, 126)"
         },
         "mode": "lines+markers",
         "name": "09 AM",
         "showlegend": false,
         "type": "scatter",
         "x": [
          "09 AM"
         ],
         "xaxis": "x3",
         "y": [
          293.1490684449126
         ],
         "yaxis": "y3"
        },
        {
         "legendgroup": "11 AM",
         "line": {
          "color": "rgb(70, 178, 124)"
         },
         "mode": "lines+markers",
         "name": "11 AM",
         "showlegend": false,
         "type": "scatter",
         "x": [
          "11 AM"
         ],
         "xaxis": "x",
         "y": [
          292.9833333333333
         ],
         "yaxis": "y"
        },
        {
         "legendgroup": "11 AM",
         "line": {
          "color": "rgb(70, 178, 124)"
         },
         "mode": "lines+markers",
         "name": "11 AM",
         "showlegend": true,
         "type": "scatter",
         "x": [
          0,
          0.01,
          0.02,
          0.03,
          0.04,
          0.05,
          0.06,
          0.07,
          0.08,
          0.09
         ],
         "xaxis": "x2",
         "y": [
          291.13542929118347,
          291.19335496850783,
          291.3287743033814,
          291.4893439680444,
          291.6597786975623,
          291.83191093143205,
          291.9950221106565,
          292.13591886600994,
          292.2423207260656,
          292.306324877651
         ],
         "yaxis": "y2"
        },
        {
         "legendgroup": "11 AM",
         "line": {
          "color": "rgb(70, 178, 124)"
         },
         "mode": "lines+markers",
         "name": "11 AM",
         "showlegend": false,
         "type": "scatter",
         "x": [
          "11 AM"
         ],
         "xaxis": "x3",
         "y": [
          293.1489528559222
         ],
         "yaxis": "y3"
        },
        {
         "legendgroup": "01 PM",
         "line": {
          "color": "rgb(84, 184, 121)"
         },
         "mode": "lines+markers",
         "name": "01 PM",
         "showlegend": false,
         "type": "scatter",
         "x": [
          "01 PM"
         ],
         "xaxis": "x",
         "y": [
          293.2611111111111
         ],
         "yaxis": "y"
        },
        {
         "legendgroup": "01 PM",
         "line": {
          "color": "rgb(84, 184, 121)"
         },
         "mode": "lines+markers",
         "name": "01 PM",
         "showlegend": true,
         "type": "scatter",
         "x": [
          0,
          0.01,
          0.02,
          0.03,
          0.04,
          0.05,
          0.06,
          0.07,
          0.08,
          0.09
         ],
         "xaxis": "x2",
         "y": [
          291.24197513812965,
          291.2471476710189,
          291.3490099619539,
          291.49650963428445,
          291.66062417719644,
          291.8266153295322,
          291.9828101411732,
          292.11736542559885,
          292.2196920928479,
          292.2830214271318
         ],
         "yaxis": "y2"
        },
        {
         "legendgroup": "01 PM",
         "line": {
          "color": "rgb(84, 184, 121)"
         },
         "mode": "lines+markers",
         "name": "01 PM",
         "showlegend": false,
         "type": "scatter",
         "x": [
          "01 PM"
         ],
         "xaxis": "x3",
         "y": [
          293.1488338892713
         ],
         "yaxis": "y3"
        },
        {
         "legendgroup": "03 PM",
         "line": {
          "color": "rgb(97, 190, 118)"
         },
         "mode": "lines+markers",
         "name": "03 PM",
         "showlegend": false,
         "type": "scatter",
         "x": [
          "03 PM"
         ],
         "xaxis": "x",
         "y": [
          294.81666666666666
         ],
         "yaxis": "y"
        },
        {
         "legendgroup": "03 PM",
         "line": {
          "color": "rgb(97, 190, 118)"
         },
         "mode": "lines+markers",
         "name": "03 PM",
         "showlegend": true,
         "type": "scatter",
         "x": [
          0,
          0.01,
          0.02,
          0.03,
          0.04,
          0.05,
          0.06,
          0.07,
          0.08,
          0.09
         ],
         "xaxis": "x2",
         "y": [
          291.3437139576853,
          291.3057439916092,
          291.3779054390878,
          291.5079266641679,
          291.66232903294645,
          291.8212661184977,
          291.97099913173565,
          292.100004329588,
          292.1988305202654,
          292.26162527842365
         ],
         "yaxis": "y2"
        },
        {
         "legendgroup": "03 PM",
         "line": {
          "color": "rgb(97, 190, 118)"
         },
         "mode": "lines+markers",
         "name": "03 PM",
         "showlegend": false,
         "type": "scatter",
         "x": [
          "03 PM"
         ],
         "xaxis": "x3",
         "y": [
          293.14871183006755
         ],
         "yaxis": "y3"
        },
        {
         "legendgroup": "05 PM",
         "line": {
          "color": "rgb(110, 197, 116)"
         },
         "mode": "lines+markers",
         "name": "05 PM",
         "showlegend": false,
         "type": "scatter",
         "x": [
          "05 PM"
         ],
         "xaxis": "x",
         "y": [
          296.4833333333333
         ],
         "yaxis": "y"
        },
        {
         "legendgroup": "05 PM",
         "line": {
          "color": "rgb(110, 197, 116)"
         },
         "mode": "lines+markers",
         "name": "05 PM",
         "showlegend": true,
         "type": "scatter",
         "x": [
          0,
          0.01,
          0.02,
          0.03,
          0.04,
          0.05,
          0.06,
          0.07,
          0.08,
          0.09
         ],
         "xaxis": "x2",
         "y": [
          291.4713054885819,
          291.3755639907394,
          291.4138370716258,
          291.52367042422446,
          291.66589504646794,
          291.8165856293806,
          291.959832076134,
          292.08376481783347,
          292.1795243853743,
          292.24189561878217
         ],
         "yaxis": "y2"
        },
        {
         "legendgroup": "05 PM",
         "line": {
          "color": "rgb(110, 197, 116)"
         },
         "mode": "lines+markers",
         "name": "05 PM",
         "showlegend": false,
         "type": "scatter",
         "x": [
          "05 PM"
         ],
         "xaxis": "x3",
         "y": [
          293.1485869270433
         ],
         "yaxis": "y3"
        },
        {
         "legendgroup": "07 PM",
         "line": {
          "color": "rgb(125, 203, 113)"
         },
         "mode": "lines+markers",
         "name": "07 PM",
         "showlegend": false,
         "type": "scatter",
         "x": [
          "07 PM"
         ],
         "xaxis": "x",
         "y": [
          294.5388888888889
         ],
         "yaxis": "y"
        },
        {
         "legendgroup": "07 PM",
         "line": {
          "color": "rgb(125, 203, 113)"
         },
         "mode": "lines+markers",
         "name": "07 PM",
         "showlegend": true,
         "type": "scatter",
         "x": [
          0,
          0.01,
          0.02,
          0.03,
          0.04,
          0.05,
          0.06,
          0.07,
          0.08,
          0.09
         ],
         "xaxis": "x2",
         "y": [
          291.60075806268634,
          291.45671720539224,
          291.4577735897567,
          291.54416384368227,
          291.6719392979182,
          291.8131482128693,
          291.94959571413966,
          292.068657979528,
          292.1616267204383,
          292.22364383937133
         ],
         "yaxis": "y2"
        },
        {
         "legendgroup": "07 PM",
         "line": {
          "color": "rgb(125, 203, 113)"
         },
         "mode": "lines+markers",
         "name": "07 PM",
         "showlegend": false,
         "type": "scatter",
         "x": [
          "07 PM"
         ],
         "xaxis": "x3",
         "y": [
          293.1484593988629
         ],
         "yaxis": "y3"
        },
        {
         "legendgroup": "09 PM",
         "line": {
          "color": "rgb(140, 209, 110)"
         },
         "mode": "lines+markers",
         "name": "09 PM",
         "showlegend": false,
         "type": "scatter",
         "x": [
          "09 PM"
         ],
         "xaxis": "x",
         "y": [
          290.9833333333333
         ],
         "yaxis": "y"
        },
        {
         "legendgroup": "09 PM",
         "line": {
          "color": "rgb(140, 209, 110)"
         },
         "mode": "lines+markers",
         "name": "09 PM",
         "showlegend": true,
         "type": "scatter",
         "x": [
          0,
          0.01,
          0.02,
          0.03,
          0.04,
          0.05,
          0.06,
          0.07,
          0.08,
          0.09
         ],
         "xaxis": "x2",
         "y": [
          291.60178025255243,
          291.51603577203406,
          291.50413754965786,
          291.5690979044348,
          291.6809159780014,
          291.8114209502447,
          291.94056956177997,
          292.05474593062263,
          292.14505197686947,
          292.20673928577304
         ],
         "yaxis": "y2"
        },
        {
         "legendgroup": "09 PM",
         "line": {
          "color": "rgb(140, 209, 110)"
         },
         "mode": "lines+markers",
         "name": "09 PM",
         "showlegend": false,
         "type": "scatter",
         "x": [
          "09 PM"
         ],
         "xaxis": "x3",
         "y": [
          293.1483294419209
         ],
         "yaxis": "y3"
        },
        {
         "legendgroup": "11 PM",
         "line": {
          "color": "rgb(154, 214, 106)"
         },
         "mode": "lines+markers",
         "name": "11 PM",
         "showlegend": false,
         "type": "scatter",
         "x": [
          "11 PM"
         ],
         "xaxis": "x",
         "y": [
          288.59444444444443
         ],
         "yaxis": "y"
        },
        {
         "legendgroup": "11 PM",
         "line": {
          "color": "rgb(154, 214, 106)"
         },
         "mode": "lines+markers",
         "name": "11 PM",
         "showlegend": true,
         "type": "scatter",
         "x": [
          0,
          0.01,
          0.02,
          0.03,
          0.04,
          0.05,
          0.06,
          0.07,
          0.08,
          0.09
         ],
         "xaxis": "x2",
         "y": [
          291.50898413876047,
          291.52908964727703,
          291.53886381952003,
          291.5944207226748,
          291.69227556885596,
          291.81163000590175,
          291.93299055798514,
          292.04211831082483,
          292.1297662245965,
          292.1911060013634
         ],
         "yaxis": "y2"
        },
        {
         "legendgroup": "11 PM",
         "line": {
          "color": "rgb(154, 214, 106)"
         },
         "mode": "lines+markers",
         "name": "11 PM",
         "showlegend": false,
         "type": "scatter",
         "x": [
          "11 PM"
         ],
         "xaxis": "x3",
         "y": [
          293.1481972382673
         ],
         "yaxis": "y3"
        },
        {
         "legendgroup": "01 AM",
         "line": {
          "color": "rgb(169, 220, 103)"
         },
         "mode": "lines+markers",
         "name": "01 AM",
         "showlegend": false,
         "type": "scatter",
         "x": [
          "01 AM"
         ],
         "xaxis": "x",
         "y": [
          287.65
         ],
         "yaxis": "y"
        },
        {
         "legendgroup": "01 AM",
         "line": {
          "color": "rgb(169, 220, 103)"
         },
         "mode": "lines+markers",
         "name": "01 AM",
         "showlegend": true,
         "type": "scatter",
         "x": [
          0,
          0.01,
          0.02,
          0.03,
          0.04,
          0.05,
          0.06,
          0.07,
          0.08,
          0.09
         ],
         "xaxis": "x2",
         "y": [
          291.4076138501921,
          291.50795943358156,
          291.55487546862986,
          291.6146634024436,
          291.70402931474393,
          291.81341635165967,
          291.92693233617825,
          292.03085232617923,
          292.1157713907297,
          292.1767132996511
         ],
         "yaxis": "y2"
        },
        {
         "legendgroup": "01 AM",
         "line": {
          "color": "rgb(169, 220, 103)"
         },
         "mode": "lines+markers",
         "name": "01 AM",
         "showlegend": false,
         "type": "scatter",
         "x": [
          "01 AM"
         ],
         "xaxis": "x3",
         "y": [
          293.1480629626452
         ],
         "yaxis": "y3"
        },
        {
         "legendgroup": "03 AM",
         "line": {
          "color": "rgb(186, 225, 100)"
         },
         "mode": "lines+markers",
         "name": "03 AM",
         "showlegend": false,
         "type": "scatter",
         "x": [
          "03 AM"
         ],
         "xaxis": "x",
         "y": [
          287.92777777777775
         ],
         "yaxis": "y"
        },
        {
         "legendgroup": "03 AM",
         "line": {
          "color": "rgb(186, 225, 100)"
         },
         "mode": "lines+markers",
         "name": "03 AM",
         "showlegend": true,
         "type": "scatter",
         "x": [
          0,
          0.01,
          0.02,
          0.03,
          0.04,
          0.05,
          0.06,
          0.07,
          0.08,
          0.09
         ],
         "xaxis": "x2",
         "y": [
          291.34227403340316,
          291.47596083028236,
          291.5555073628739,
          291.6270774870972,
          291.7139181725037,
          291.8158693153959,
          291.9221924389505,
          292.02094741935093,
          292.1030761011234,
          292.16355748407756
         ],
         "yaxis": "y2"
        },
        {
         "legendgroup": "03 AM",
         "line": {
          "color": "rgb(186, 225, 100)"
         },
         "mode": "lines+markers",
         "name": "03 AM",
         "showlegend": false,
         "type": "scatter",
         "x": [
          "03 AM"
         ],
         "xaxis": "x3",
         "y": [
          293.147926787656
         ],
         "yaxis": "y3"
        },
        {
         "legendgroup": "05 AM",
         "line": {
          "color": "rgb(203, 230, 98)"
         },
         "mode": "lines+markers",
         "name": "05 AM",
         "showlegend": false,
         "type": "scatter",
         "x": [
          "05 AM"
         ],
         "xaxis": "x",
         "y": [
          286.76111111111106
         ],
         "yaxis": "y"
        },
        {
         "legendgroup": "05 AM",
         "line": {
          "color": "rgb(203, 230, 98)"
         },
         "mode": "lines+markers",
         "name": "05 AM",
         "showlegend": true,
         "type": "scatter",
         "x": [
          0,
          0.01,
          0.02,
          0.03,
          0.04,
          0.05,
          0.06,
          0.07,
          0.08,
          0.09
         ],
         "xaxis": "x2",
         "y": [
          291.29031475324405,
          291.44712467545276,
          291.54838830568565,
          291.6323582463723,
          291.72064658453274,
          291.81798408429466,
          291.91834214689976,
          292.012284656441,
          292.09165910632953,
          292.15163322001894
         ],
         "yaxis": "y2"
        },
        {
         "legendgroup": "05 AM",
         "line": {
          "color": "rgb(203, 230, 98)"
         },
         "mode": "lines+markers",
         "name": "05 AM",
         "showlegend": false,
         "type": "scatter",
         "x": [
          "05 AM"
         ],
         "xaxis": "x3",
         "y": [
          293.1477888856163
         ],
         "yaxis": "y3"
        },
        {
         "legendgroup": "07 AM",
         "line": {
          "color": "rgb(220, 234, 96)"
         },
         "mode": "lines+markers",
         "name": "07 AM",
         "showlegend": false,
         "type": "scatter",
         "x": [
          "07 AM"
         ],
         "xaxis": "x",
         "y": [
          288.42777777777775
         ],
         "yaxis": "y"
        },
        {
         "legendgroup": "07 AM",
         "line": {
          "color": "rgb(220, 234, 96)"
         },
         "mode": "lines+markers",
         "name": "07 AM",
         "showlegend": true,
         "type": "scatter",
         "x": [
          0,
          0.01,
          0.02,
          0.03,
          0.04,
          0.05,
          0.06,
          0.07,
          0.08,
          0.09
         ],
         "xaxis": "x2",
         "y": [
          291.2461397282422,
          291.41553922698193,
          291.53627520369156,
          291.6322898304701,
          291.7240547933258,
          291.81907549181824,
          291.91489930889645,
          292.00464786022724,
          292.0814456268198,
          292.14090459815674
         ],
         "yaxis": "y2"
        },
        {
         "legendgroup": "07 AM",
         "line": {
          "color": "rgb(220, 234, 96)"
         },
         "mode": "lines+markers",
         "name": "07 AM",
         "showlegend": false,
         "type": "scatter",
         "x": [
          "07 AM"
         ],
         "xaxis": "x3",
         "y": [
          293.14764942622935
         ],
         "yaxis": "y3"
        }
       ],
       "layout": {
        "annotations": [
         {
          "font": {
           "size": 16
          },
          "showarrow": false,
          "text": "Amb Temp",
          "x": 0.14444444444444446,
          "xanchor": "center",
          "xref": "paper",
          "y": 1,
          "yanchor": "bottom",
          "yref": "paper"
         },
         {
          "font": {
           "size": 16
          },
          "showarrow": false,
          "text": "Wall Temps",
          "x": 0.5,
          "xanchor": "center",
          "xref": "paper",
          "y": 1,
          "yanchor": "bottom",
          "yref": "paper"
         },
         {
          "font": {
           "size": 16
          },
          "showarrow": false,
          "text": "Room Temp",
          "x": 0.8555555555555556,
          "xanchor": "center",
          "xref": "paper",
          "y": 1,
          "yanchor": "bottom",
          "yref": "paper"
         }
        ],
        "template": {
         "data": {
          "bar": [
           {
            "error_x": {
             "color": "#2a3f5f"
            },
            "error_y": {
             "color": "#2a3f5f"
            },
            "marker": {
             "line": {
              "color": "#E5ECF6",
              "width": 0.5
             },
             "pattern": {
              "fillmode": "overlay",
              "size": 10,
              "solidity": 0.2
             }
            },
            "type": "bar"
           }
          ],
          "barpolar": [
           {
            "marker": {
             "line": {
              "color": "#E5ECF6",
              "width": 0.5
             },
             "pattern": {
              "fillmode": "overlay",
              "size": 10,
              "solidity": 0.2
             }
            },
            "type": "barpolar"
           }
          ],
          "carpet": [
           {
            "aaxis": {
             "endlinecolor": "#2a3f5f",
             "gridcolor": "white",
             "linecolor": "white",
             "minorgridcolor": "white",
             "startlinecolor": "#2a3f5f"
            },
            "baxis": {
             "endlinecolor": "#2a3f5f",
             "gridcolor": "white",
             "linecolor": "white",
             "minorgridcolor": "white",
             "startlinecolor": "#2a3f5f"
            },
            "type": "carpet"
           }
          ],
          "choropleth": [
           {
            "colorbar": {
             "outlinewidth": 0,
             "ticks": ""
            },
            "type": "choropleth"
           }
          ],
          "contour": [
           {
            "colorbar": {
             "outlinewidth": 0,
             "ticks": ""
            },
            "colorscale": [
             [
              0,
              "#0d0887"
             ],
             [
              0.1111111111111111,
              "#46039f"
             ],
             [
              0.2222222222222222,
              "#7201a8"
             ],
             [
              0.3333333333333333,
              "#9c179e"
             ],
             [
              0.4444444444444444,
              "#bd3786"
             ],
             [
              0.5555555555555556,
              "#d8576b"
             ],
             [
              0.6666666666666666,
              "#ed7953"
             ],
             [
              0.7777777777777778,
              "#fb9f3a"
             ],
             [
              0.8888888888888888,
              "#fdca26"
             ],
             [
              1,
              "#f0f921"
             ]
            ],
            "type": "contour"
           }
          ],
          "contourcarpet": [
           {
            "colorbar": {
             "outlinewidth": 0,
             "ticks": ""
            },
            "type": "contourcarpet"
           }
          ],
          "heatmap": [
           {
            "colorbar": {
             "outlinewidth": 0,
             "ticks": ""
            },
            "colorscale": [
             [
              0,
              "#0d0887"
             ],
             [
              0.1111111111111111,
              "#46039f"
             ],
             [
              0.2222222222222222,
              "#7201a8"
             ],
             [
              0.3333333333333333,
              "#9c179e"
             ],
             [
              0.4444444444444444,
              "#bd3786"
             ],
             [
              0.5555555555555556,
              "#d8576b"
             ],
             [
              0.6666666666666666,
              "#ed7953"
             ],
             [
              0.7777777777777778,
              "#fb9f3a"
             ],
             [
              0.8888888888888888,
              "#fdca26"
             ],
             [
              1,
              "#f0f921"
             ]
            ],
            "type": "heatmap"
           }
          ],
          "heatmapgl": [
           {
            "colorbar": {
             "outlinewidth": 0,
             "ticks": ""
            },
            "colorscale": [
             [
              0,
              "#0d0887"
             ],
             [
              0.1111111111111111,
              "#46039f"
             ],
             [
              0.2222222222222222,
              "#7201a8"
             ],
             [
              0.3333333333333333,
              "#9c179e"
             ],
             [
              0.4444444444444444,
              "#bd3786"
             ],
             [
              0.5555555555555556,
              "#d8576b"
             ],
             [
              0.6666666666666666,
              "#ed7953"
             ],
             [
              0.7777777777777778,
              "#fb9f3a"
             ],
             [
              0.8888888888888888,
              "#fdca26"
             ],
             [
              1,
              "#f0f921"
             ]
            ],
            "type": "heatmapgl"
           }
          ],
          "histogram": [
           {
            "marker": {
             "pattern": {
              "fillmode": "overlay",
              "size": 10,
              "solidity": 0.2
             }
            },
            "type": "histogram"
           }
          ],
          "histogram2d": [
           {
            "colorbar": {
             "outlinewidth": 0,
             "ticks": ""
            },
            "colorscale": [
             [
              0,
              "#0d0887"
             ],
             [
              0.1111111111111111,
              "#46039f"
             ],
             [
              0.2222222222222222,
              "#7201a8"
             ],
             [
              0.3333333333333333,
              "#9c179e"
             ],
             [
              0.4444444444444444,
              "#bd3786"
             ],
             [
              0.5555555555555556,
              "#d8576b"
             ],
             [
              0.6666666666666666,
              "#ed7953"
             ],
             [
              0.7777777777777778,
              "#fb9f3a"
             ],
             [
              0.8888888888888888,
              "#fdca26"
             ],
             [
              1,
              "#f0f921"
             ]
            ],
            "type": "histogram2d"
           }
          ],
          "histogram2dcontour": [
           {
            "colorbar": {
             "outlinewidth": 0,
             "ticks": ""
            },
            "colorscale": [
             [
              0,
              "#0d0887"
             ],
             [
              0.1111111111111111,
              "#46039f"
             ],
             [
              0.2222222222222222,
              "#7201a8"
             ],
             [
              0.3333333333333333,
              "#9c179e"
             ],
             [
              0.4444444444444444,
              "#bd3786"
             ],
             [
              0.5555555555555556,
              "#d8576b"
             ],
             [
              0.6666666666666666,
              "#ed7953"
             ],
             [
              0.7777777777777778,
              "#fb9f3a"
             ],
             [
              0.8888888888888888,
              "#fdca26"
             ],
             [
              1,
              "#f0f921"
             ]
            ],
            "type": "histogram2dcontour"
           }
          ],
          "mesh3d": [
           {
            "colorbar": {
             "outlinewidth": 0,
             "ticks": ""
            },
            "type": "mesh3d"
           }
          ],
          "parcoords": [
           {
            "line": {
             "colorbar": {
              "outlinewidth": 0,
              "ticks": ""
             }
            },
            "type": "parcoords"
           }
          ],
          "pie": [
           {
            "automargin": true,
            "type": "pie"
           }
          ],
          "scatter": [
           {
            "fillpattern": {
             "fillmode": "overlay",
             "size": 10,
             "solidity": 0.2
            },
            "type": "scatter"
           }
          ],
          "scatter3d": [
           {
            "line": {
             "colorbar": {
              "outlinewidth": 0,
              "ticks": ""
             }
            },
            "marker": {
             "colorbar": {
              "outlinewidth": 0,
              "ticks": ""
             }
            },
            "type": "scatter3d"
           }
          ],
          "scattercarpet": [
           {
            "marker": {
             "colorbar": {
              "outlinewidth": 0,
              "ticks": ""
             }
            },
            "type": "scattercarpet"
           }
          ],
          "scattergeo": [
           {
            "marker": {
             "colorbar": {
              "outlinewidth": 0,
              "ticks": ""
             }
            },
            "type": "scattergeo"
           }
          ],
          "scattergl": [
           {
            "marker": {
             "colorbar": {
              "outlinewidth": 0,
              "ticks": ""
             }
            },
            "type": "scattergl"
           }
          ],
          "scattermapbox": [
           {
            "marker": {
             "colorbar": {
              "outlinewidth": 0,
              "ticks": ""
             }
            },
            "type": "scattermapbox"
           }
          ],
          "scatterpolar": [
           {
            "marker": {
             "colorbar": {
              "outlinewidth": 0,
              "ticks": ""
             }
            },
            "type": "scatterpolar"
           }
          ],
          "scatterpolargl": [
           {
            "marker": {
             "colorbar": {
              "outlinewidth": 0,
              "ticks": ""
             }
            },
            "type": "scatterpolargl"
           }
          ],
          "scatterternary": [
           {
            "marker": {
             "colorbar": {
              "outlinewidth": 0,
              "ticks": ""
             }
            },
            "type": "scatterternary"
           }
          ],
          "surface": [
           {
            "colorbar": {
             "outlinewidth": 0,
             "ticks": ""
            },
            "colorscale": [
             [
              0,
              "#0d0887"
             ],
             [
              0.1111111111111111,
              "#46039f"
             ],
             [
              0.2222222222222222,
              "#7201a8"
             ],
             [
              0.3333333333333333,
              "#9c179e"
             ],
             [
              0.4444444444444444,
              "#bd3786"
             ],
             [
              0.5555555555555556,
              "#d8576b"
             ],
             [
              0.6666666666666666,
              "#ed7953"
             ],
             [
              0.7777777777777778,
              "#fb9f3a"
             ],
             [
              0.8888888888888888,
              "#fdca26"
             ],
             [
              1,
              "#f0f921"
             ]
            ],
            "type": "surface"
           }
          ],
          "table": [
           {
            "cells": {
             "fill": {
              "color": "#EBF0F8"
             },
             "line": {
              "color": "white"
             }
            },
            "header": {
             "fill": {
              "color": "#C8D4E3"
             },
             "line": {
              "color": "white"
             }
            },
            "type": "table"
           }
          ]
         },
         "layout": {
          "annotationdefaults": {
           "arrowcolor": "#2a3f5f",
           "arrowhead": 0,
           "arrowwidth": 1
          },
          "autotypenumbers": "strict",
          "coloraxis": {
           "colorbar": {
            "outlinewidth": 0,
            "ticks": ""
           }
          },
          "colorscale": {
           "diverging": [
            [
             0,
             "#8e0152"
            ],
            [
             0.1,
             "#c51b7d"
            ],
            [
             0.2,
             "#de77ae"
            ],
            [
             0.3,
             "#f1b6da"
            ],
            [
             0.4,
             "#fde0ef"
            ],
            [
             0.5,
             "#f7f7f7"
            ],
            [
             0.6,
             "#e6f5d0"
            ],
            [
             0.7,
             "#b8e186"
            ],
            [
             0.8,
             "#7fbc41"
            ],
            [
             0.9,
             "#4d9221"
            ],
            [
             1,
             "#276419"
            ]
           ],
           "sequential": [
            [
             0,
             "#0d0887"
            ],
            [
             0.1111111111111111,
             "#46039f"
            ],
            [
             0.2222222222222222,
             "#7201a8"
            ],
            [
             0.3333333333333333,
             "#9c179e"
            ],
            [
             0.4444444444444444,
             "#bd3786"
            ],
            [
             0.5555555555555556,
             "#d8576b"
            ],
            [
             0.6666666666666666,
             "#ed7953"
            ],
            [
             0.7777777777777778,
             "#fb9f3a"
            ],
            [
             0.8888888888888888,
             "#fdca26"
            ],
            [
             1,
             "#f0f921"
            ]
           ],
           "sequentialminus": [
            [
             0,
             "#0d0887"
            ],
            [
             0.1111111111111111,
             "#46039f"
            ],
            [
             0.2222222222222222,
             "#7201a8"
            ],
            [
             0.3333333333333333,
             "#9c179e"
            ],
            [
             0.4444444444444444,
             "#bd3786"
            ],
            [
             0.5555555555555556,
             "#d8576b"
            ],
            [
             0.6666666666666666,
             "#ed7953"
            ],
            [
             0.7777777777777778,
             "#fb9f3a"
            ],
            [
             0.8888888888888888,
             "#fdca26"
            ],
            [
             1,
             "#f0f921"
            ]
           ]
          },
          "colorway": [
           "#636efa",
           "#EF553B",
           "#00cc96",
           "#ab63fa",
           "#FFA15A",
           "#19d3f3",
           "#FF6692",
           "#B6E880",
           "#FF97FF",
           "#FECB52"
          ],
          "font": {
           "color": "#2a3f5f"
          },
          "geo": {
           "bgcolor": "white",
           "lakecolor": "white",
           "landcolor": "#E5ECF6",
           "showlakes": true,
           "showland": true,
           "subunitcolor": "white"
          },
          "hoverlabel": {
           "align": "left"
          },
          "hovermode": "closest",
          "mapbox": {
           "style": "light"
          },
          "paper_bgcolor": "white",
          "plot_bgcolor": "#E5ECF6",
          "polar": {
           "angularaxis": {
            "gridcolor": "white",
            "linecolor": "white",
            "ticks": ""
           },
           "bgcolor": "#E5ECF6",
           "radialaxis": {
            "gridcolor": "white",
            "linecolor": "white",
            "ticks": ""
           }
          },
          "scene": {
           "xaxis": {
            "backgroundcolor": "#E5ECF6",
            "gridcolor": "white",
            "gridwidth": 2,
            "linecolor": "white",
            "showbackground": true,
            "ticks": "",
            "zerolinecolor": "white"
           },
           "yaxis": {
            "backgroundcolor": "#E5ECF6",
            "gridcolor": "white",
            "gridwidth": 2,
            "linecolor": "white",
            "showbackground": true,
            "ticks": "",
            "zerolinecolor": "white"
           },
           "zaxis": {
            "backgroundcolor": "#E5ECF6",
            "gridcolor": "white",
            "gridwidth": 2,
            "linecolor": "white",
            "showbackground": true,
            "ticks": "",
            "zerolinecolor": "white"
           }
          },
          "shapedefaults": {
           "line": {
            "color": "#2a3f5f"
           }
          },
          "ternary": {
           "aaxis": {
            "gridcolor": "white",
            "linecolor": "white",
            "ticks": ""
           },
           "baxis": {
            "gridcolor": "white",
            "linecolor": "white",
            "ticks": ""
           },
           "bgcolor": "#E5ECF6",
           "caxis": {
            "gridcolor": "white",
            "linecolor": "white",
            "ticks": ""
           }
          },
          "title": {
           "x": 0.05
          },
          "xaxis": {
           "automargin": true,
           "gridcolor": "white",
           "linecolor": "white",
           "ticks": "",
           "title": {
            "standoff": 15
           },
           "zerolinecolor": "white",
           "zerolinewidth": 2
          },
          "yaxis": {
           "automargin": true,
           "gridcolor": "white",
           "linecolor": "white",
           "ticks": "",
           "title": {
            "standoff": 15
           },
           "zerolinecolor": "white",
           "zerolinewidth": 2
          }
         }
        },
        "xaxis": {
         "anchor": "y",
         "domain": [
          0,
          0.2888888888888889
         ],
         "title": {
          "text": "Time"
         }
        },
        "xaxis2": {
         "anchor": "y2",
         "domain": [
          0.35555555555555557,
          0.6444444444444445
         ],
         "title": {
          "text": "Wall Nodes Distance"
         }
        },
        "xaxis3": {
         "anchor": "y3",
         "domain": [
          0.7111111111111111,
          1
         ],
         "title": {
          "text": "Time"
         }
        },
        "yaxis": {
         "anchor": "x",
         "domain": [
          0,
          1
         ],
         "title": {
          "text": "Temperature (K )"
         }
        },
        "yaxis2": {
         "anchor": "x2",
         "domain": [
          0,
          1
         ]
        },
        "yaxis3": {
         "anchor": "x3",
         "domain": [
          0,
          1
         ]
        }
       }
      }
     },
     "metadata": {},
     "output_type": "display_data"
    }
   ],
   "source": [
    "# whether or not can turn time series off and on \n",
    "lg = True\n",
    "fig = make_subplots(rows=1, cols=3, shared_yaxes=False, subplot_titles=(\"Amb Temp\", \"Wall Temps\", \"Room Temp\"))\n",
    "\n",
    "#TODO relate \"4\" to number of time steps argument in VAvgIndoorAir function \n",
    "\n",
    "min_interv = 2*60 # interval to plot at in minutes, ie, once every two hours \n",
    "colors, colors2 = make_colors(min_interv=min_interv)\n",
    "\n",
    "cix=0\n",
    "for ix_time, x_at_time in enumerate(v1.all_wall_temps): # NEED way to abstract this \n",
    "    if ix_time%(min_interv*4)== 0:\n",
    "        timestamp = [(pd.Timedelta(times[ix_time], \"m\") + v1.twall.ext_temps.index[0]).strftime('%I %p') ]\n",
    "\n",
    "        legendgroup = \"Same\" if lg == False else timestamp[0]\n",
    "\n",
    "        # Outdoor Air \n",
    "        fig.add_trace(go.Scatter(x=timestamp, y=[v1.twall.ext_temps[ix_time]], mode='lines+markers', line=dict(color=colors[cix]),\n",
    "        showlegend=False, name=timestamp[0], legendgroup=legendgroup\n",
    "        ), row = 1, col = 1)\n",
    "\n",
    "        # Wall Temperature \n",
    "        fig.add_trace(go.Scatter(x=v1.twall.x_vals, y=x_at_time, mode='lines+markers', line=dict(color=colors[cix]),\n",
    "        showlegend=True, name=timestamp[0], legendgroup=legendgroup\n",
    "        ), row = 1, col = 2)\n",
    "\n",
    "        # Indoor Air \n",
    "        fig.add_trace(go.Scatter(x=timestamp, y=[temps[ix_time]], mode='lines+markers', line=dict(color=colors[cix]),\n",
    "        showlegend=False, name=timestamp[0], legendgroup=legendgroup\n",
    "        ), row = 1, col = 3)\n",
    "\n",
    "\n",
    "\n",
    "        cix+=1\n",
    "\n",
    "fig['layout']['yaxis']['title']='Temperature (K )'\n",
    "fig['layout']['xaxis1']['title']='Time'\n",
    "fig['layout']['xaxis2']['title']='Wall Nodes Distance'\n",
    "fig['layout']['xaxis3']['title']='Time'\n",
    "fig.show()"
   ]
  },
  {
   "cell_type": "code",
   "execution_count": 7,
   "metadata": {},
   "outputs": [
    {
     "data": {
      "application/vnd.plotly.v1+json": {
       "config": {
        "plotlyServerURL": "https://plotly.com"
       },
       "data": [
        {
         "line": {
          "color": "blue"
         },
         "mode": "markers+lines",
         "name": "Simulation",
         "type": "scatter",
         "x": [
          "09 AM",
          "11 AM",
          "01 PM",
          "03 PM",
          "05 PM",
          "07 PM",
          "09 PM",
          "11 PM",
          "01 AM",
          "03 AM",
          "05 AM",
          "07 AM"
         ],
         "xaxis": "x",
         "y": [
          293.15,
          293.1499818129649,
          293.14994137050877,
          293.14988738692955,
          293.1498230984568,
          293.1497502207022,
          293.1496698721006,
          293.1495828764686,
          293.14948989344697,
          293.14939148436343,
          293.14928814678694,
          293.1491803308668
         ],
         "yaxis": "y"
        },
        {
         "line": {
          "color": "red"
         },
         "mode": "markers+lines",
         "name": "Real",
         "type": "scatter",
         "x": [
          "09 AM",
          "11 AM",
          "01 PM",
          "03 PM",
          "05 PM",
          "07 PM",
          "09 PM",
          "11 PM",
          "01 AM",
          "03 AM",
          "05 AM",
          "07 AM"
         ],
         "xaxis": "x",
         "y": [
          297.26099999999997,
          297.8336,
          297.8986,
          297.9362,
          297.97459999999995,
          297.79839999999996,
          297.5553333333333,
          297.4676,
          297.383,
          297.27779999999996,
          297.2018,
          297.13439999999997
         ],
         "yaxis": "y"
        },
        {
         "line": {
          "color": "blue"
         },
         "mode": "markers+lines",
         "name": "Simulation",
         "showlegend": false,
         "type": "scatter",
         "x": [
          "09 AM",
          "11 AM",
          "01 PM",
          "03 PM",
          "05 PM",
          "07 PM",
          "09 PM",
          "11 PM",
          "01 AM",
          "03 AM",
          "05 AM",
          "07 AM"
         ],
         "xaxis": "x2",
         "y": [
          1,
          0.9778117360295667,
          0.9284717591128195,
          0.8626115515791593,
          0.7841793279669362,
          0.6952681421218427,
          0.5972424896930162,
          0.49110743047714256,
          0.37766772914676605,
          0.2576082081164207,
          0.13153590368801205,
          0
         ],
         "yaxis": "y2"
        },
        {
         "line": {
          "color": "red"
         },
         "mode": "markers+lines",
         "name": "Real",
         "showlegend": false,
         "type": "scatter",
         "x": [
          "09 AM",
          "11 AM",
          "01 PM",
          "03 PM",
          "05 PM",
          "07 PM",
          "09 PM",
          "11 PM",
          "01 AM",
          "03 AM",
          "05 AM",
          "07 AM"
         ],
         "xaxis": "x2",
         "y": [
          0.15067840990240305,
          0.8321828136158465,
          0.9095453463461478,
          0.9542965960485977,
          1,
          0.790288026660321,
          0.5009918273426953,
          0.3965722447036905,
          0.29588193287314424,
          0.17067364913114577,
          0.08021899547729354,
          0
         ],
         "yaxis": "y2"
        }
       ],
       "layout": {
        "annotations": [
         {
          "font": {
           "size": 16
          },
          "showarrow": false,
          "text": "Unnormalized",
          "x": 0.225,
          "xanchor": "center",
          "xref": "paper",
          "y": 1,
          "yanchor": "bottom",
          "yref": "paper"
         },
         {
          "font": {
           "size": 16
          },
          "showarrow": false,
          "text": "Normalized",
          "x": 0.775,
          "xanchor": "center",
          "xref": "paper",
          "y": 1,
          "yanchor": "bottom",
          "yref": "paper"
         }
        ],
        "template": {
         "data": {
          "bar": [
           {
            "error_x": {
             "color": "#2a3f5f"
            },
            "error_y": {
             "color": "#2a3f5f"
            },
            "marker": {
             "line": {
              "color": "#E5ECF6",
              "width": 0.5
             },
             "pattern": {
              "fillmode": "overlay",
              "size": 10,
              "solidity": 0.2
             }
            },
            "type": "bar"
           }
          ],
          "barpolar": [
           {
            "marker": {
             "line": {
              "color": "#E5ECF6",
              "width": 0.5
             },
             "pattern": {
              "fillmode": "overlay",
              "size": 10,
              "solidity": 0.2
             }
            },
            "type": "barpolar"
           }
          ],
          "carpet": [
           {
            "aaxis": {
             "endlinecolor": "#2a3f5f",
             "gridcolor": "white",
             "linecolor": "white",
             "minorgridcolor": "white",
             "startlinecolor": "#2a3f5f"
            },
            "baxis": {
             "endlinecolor": "#2a3f5f",
             "gridcolor": "white",
             "linecolor": "white",
             "minorgridcolor": "white",
             "startlinecolor": "#2a3f5f"
            },
            "type": "carpet"
           }
          ],
          "choropleth": [
           {
            "colorbar": {
             "outlinewidth": 0,
             "ticks": ""
            },
            "type": "choropleth"
           }
          ],
          "contour": [
           {
            "colorbar": {
             "outlinewidth": 0,
             "ticks": ""
            },
            "colorscale": [
             [
              0,
              "#0d0887"
             ],
             [
              0.1111111111111111,
              "#46039f"
             ],
             [
              0.2222222222222222,
              "#7201a8"
             ],
             [
              0.3333333333333333,
              "#9c179e"
             ],
             [
              0.4444444444444444,
              "#bd3786"
             ],
             [
              0.5555555555555556,
              "#d8576b"
             ],
             [
              0.6666666666666666,
              "#ed7953"
             ],
             [
              0.7777777777777778,
              "#fb9f3a"
             ],
             [
              0.8888888888888888,
              "#fdca26"
             ],
             [
              1,
              "#f0f921"
             ]
            ],
            "type": "contour"
           }
          ],
          "contourcarpet": [
           {
            "colorbar": {
             "outlinewidth": 0,
             "ticks": ""
            },
            "type": "contourcarpet"
           }
          ],
          "heatmap": [
           {
            "colorbar": {
             "outlinewidth": 0,
             "ticks": ""
            },
            "colorscale": [
             [
              0,
              "#0d0887"
             ],
             [
              0.1111111111111111,
              "#46039f"
             ],
             [
              0.2222222222222222,
              "#7201a8"
             ],
             [
              0.3333333333333333,
              "#9c179e"
             ],
             [
              0.4444444444444444,
              "#bd3786"
             ],
             [
              0.5555555555555556,
              "#d8576b"
             ],
             [
              0.6666666666666666,
              "#ed7953"
             ],
             [
              0.7777777777777778,
              "#fb9f3a"
             ],
             [
              0.8888888888888888,
              "#fdca26"
             ],
             [
              1,
              "#f0f921"
             ]
            ],
            "type": "heatmap"
           }
          ],
          "heatmapgl": [
           {
            "colorbar": {
             "outlinewidth": 0,
             "ticks": ""
            },
            "colorscale": [
             [
              0,
              "#0d0887"
             ],
             [
              0.1111111111111111,
              "#46039f"
             ],
             [
              0.2222222222222222,
              "#7201a8"
             ],
             [
              0.3333333333333333,
              "#9c179e"
             ],
             [
              0.4444444444444444,
              "#bd3786"
             ],
             [
              0.5555555555555556,
              "#d8576b"
             ],
             [
              0.6666666666666666,
              "#ed7953"
             ],
             [
              0.7777777777777778,
              "#fb9f3a"
             ],
             [
              0.8888888888888888,
              "#fdca26"
             ],
             [
              1,
              "#f0f921"
             ]
            ],
            "type": "heatmapgl"
           }
          ],
          "histogram": [
           {
            "marker": {
             "pattern": {
              "fillmode": "overlay",
              "size": 10,
              "solidity": 0.2
             }
            },
            "type": "histogram"
           }
          ],
          "histogram2d": [
           {
            "colorbar": {
             "outlinewidth": 0,
             "ticks": ""
            },
            "colorscale": [
             [
              0,
              "#0d0887"
             ],
             [
              0.1111111111111111,
              "#46039f"
             ],
             [
              0.2222222222222222,
              "#7201a8"
             ],
             [
              0.3333333333333333,
              "#9c179e"
             ],
             [
              0.4444444444444444,
              "#bd3786"
             ],
             [
              0.5555555555555556,
              "#d8576b"
             ],
             [
              0.6666666666666666,
              "#ed7953"
             ],
             [
              0.7777777777777778,
              "#fb9f3a"
             ],
             [
              0.8888888888888888,
              "#fdca26"
             ],
             [
              1,
              "#f0f921"
             ]
            ],
            "type": "histogram2d"
           }
          ],
          "histogram2dcontour": [
           {
            "colorbar": {
             "outlinewidth": 0,
             "ticks": ""
            },
            "colorscale": [
             [
              0,
              "#0d0887"
             ],
             [
              0.1111111111111111,
              "#46039f"
             ],
             [
              0.2222222222222222,
              "#7201a8"
             ],
             [
              0.3333333333333333,
              "#9c179e"
             ],
             [
              0.4444444444444444,
              "#bd3786"
             ],
             [
              0.5555555555555556,
              "#d8576b"
             ],
             [
              0.6666666666666666,
              "#ed7953"
             ],
             [
              0.7777777777777778,
              "#fb9f3a"
             ],
             [
              0.8888888888888888,
              "#fdca26"
             ],
             [
              1,
              "#f0f921"
             ]
            ],
            "type": "histogram2dcontour"
           }
          ],
          "mesh3d": [
           {
            "colorbar": {
             "outlinewidth": 0,
             "ticks": ""
            },
            "type": "mesh3d"
           }
          ],
          "parcoords": [
           {
            "line": {
             "colorbar": {
              "outlinewidth": 0,
              "ticks": ""
             }
            },
            "type": "parcoords"
           }
          ],
          "pie": [
           {
            "automargin": true,
            "type": "pie"
           }
          ],
          "scatter": [
           {
            "fillpattern": {
             "fillmode": "overlay",
             "size": 10,
             "solidity": 0.2
            },
            "type": "scatter"
           }
          ],
          "scatter3d": [
           {
            "line": {
             "colorbar": {
              "outlinewidth": 0,
              "ticks": ""
             }
            },
            "marker": {
             "colorbar": {
              "outlinewidth": 0,
              "ticks": ""
             }
            },
            "type": "scatter3d"
           }
          ],
          "scattercarpet": [
           {
            "marker": {
             "colorbar": {
              "outlinewidth": 0,
              "ticks": ""
             }
            },
            "type": "scattercarpet"
           }
          ],
          "scattergeo": [
           {
            "marker": {
             "colorbar": {
              "outlinewidth": 0,
              "ticks": ""
             }
            },
            "type": "scattergeo"
           }
          ],
          "scattergl": [
           {
            "marker": {
             "colorbar": {
              "outlinewidth": 0,
              "ticks": ""
             }
            },
            "type": "scattergl"
           }
          ],
          "scattermapbox": [
           {
            "marker": {
             "colorbar": {
              "outlinewidth": 0,
              "ticks": ""
             }
            },
            "type": "scattermapbox"
           }
          ],
          "scatterpolar": [
           {
            "marker": {
             "colorbar": {
              "outlinewidth": 0,
              "ticks": ""
             }
            },
            "type": "scatterpolar"
           }
          ],
          "scatterpolargl": [
           {
            "marker": {
             "colorbar": {
              "outlinewidth": 0,
              "ticks": ""
             }
            },
            "type": "scatterpolargl"
           }
          ],
          "scatterternary": [
           {
            "marker": {
             "colorbar": {
              "outlinewidth": 0,
              "ticks": ""
             }
            },
            "type": "scatterternary"
           }
          ],
          "surface": [
           {
            "colorbar": {
             "outlinewidth": 0,
             "ticks": ""
            },
            "colorscale": [
             [
              0,
              "#0d0887"
             ],
             [
              0.1111111111111111,
              "#46039f"
             ],
             [
              0.2222222222222222,
              "#7201a8"
             ],
             [
              0.3333333333333333,
              "#9c179e"
             ],
             [
              0.4444444444444444,
              "#bd3786"
             ],
             [
              0.5555555555555556,
              "#d8576b"
             ],
             [
              0.6666666666666666,
              "#ed7953"
             ],
             [
              0.7777777777777778,
              "#fb9f3a"
             ],
             [
              0.8888888888888888,
              "#fdca26"
             ],
             [
              1,
              "#f0f921"
             ]
            ],
            "type": "surface"
           }
          ],
          "table": [
           {
            "cells": {
             "fill": {
              "color": "#EBF0F8"
             },
             "line": {
              "color": "white"
             }
            },
            "header": {
             "fill": {
              "color": "#C8D4E3"
             },
             "line": {
              "color": "white"
             }
            },
            "type": "table"
           }
          ]
         },
         "layout": {
          "annotationdefaults": {
           "arrowcolor": "#2a3f5f",
           "arrowhead": 0,
           "arrowwidth": 1
          },
          "autotypenumbers": "strict",
          "coloraxis": {
           "colorbar": {
            "outlinewidth": 0,
            "ticks": ""
           }
          },
          "colorscale": {
           "diverging": [
            [
             0,
             "#8e0152"
            ],
            [
             0.1,
             "#c51b7d"
            ],
            [
             0.2,
             "#de77ae"
            ],
            [
             0.3,
             "#f1b6da"
            ],
            [
             0.4,
             "#fde0ef"
            ],
            [
             0.5,
             "#f7f7f7"
            ],
            [
             0.6,
             "#e6f5d0"
            ],
            [
             0.7,
             "#b8e186"
            ],
            [
             0.8,
             "#7fbc41"
            ],
            [
             0.9,
             "#4d9221"
            ],
            [
             1,
             "#276419"
            ]
           ],
           "sequential": [
            [
             0,
             "#0d0887"
            ],
            [
             0.1111111111111111,
             "#46039f"
            ],
            [
             0.2222222222222222,
             "#7201a8"
            ],
            [
             0.3333333333333333,
             "#9c179e"
            ],
            [
             0.4444444444444444,
             "#bd3786"
            ],
            [
             0.5555555555555556,
             "#d8576b"
            ],
            [
             0.6666666666666666,
             "#ed7953"
            ],
            [
             0.7777777777777778,
             "#fb9f3a"
            ],
            [
             0.8888888888888888,
             "#fdca26"
            ],
            [
             1,
             "#f0f921"
            ]
           ],
           "sequentialminus": [
            [
             0,
             "#0d0887"
            ],
            [
             0.1111111111111111,
             "#46039f"
            ],
            [
             0.2222222222222222,
             "#7201a8"
            ],
            [
             0.3333333333333333,
             "#9c179e"
            ],
            [
             0.4444444444444444,
             "#bd3786"
            ],
            [
             0.5555555555555556,
             "#d8576b"
            ],
            [
             0.6666666666666666,
             "#ed7953"
            ],
            [
             0.7777777777777778,
             "#fb9f3a"
            ],
            [
             0.8888888888888888,
             "#fdca26"
            ],
            [
             1,
             "#f0f921"
            ]
           ]
          },
          "colorway": [
           "#636efa",
           "#EF553B",
           "#00cc96",
           "#ab63fa",
           "#FFA15A",
           "#19d3f3",
           "#FF6692",
           "#B6E880",
           "#FF97FF",
           "#FECB52"
          ],
          "font": {
           "color": "#2a3f5f"
          },
          "geo": {
           "bgcolor": "white",
           "lakecolor": "white",
           "landcolor": "#E5ECF6",
           "showlakes": true,
           "showland": true,
           "subunitcolor": "white"
          },
          "hoverlabel": {
           "align": "left"
          },
          "hovermode": "closest",
          "mapbox": {
           "style": "light"
          },
          "paper_bgcolor": "white",
          "plot_bgcolor": "#E5ECF6",
          "polar": {
           "angularaxis": {
            "gridcolor": "white",
            "linecolor": "white",
            "ticks": ""
           },
           "bgcolor": "#E5ECF6",
           "radialaxis": {
            "gridcolor": "white",
            "linecolor": "white",
            "ticks": ""
           }
          },
          "scene": {
           "xaxis": {
            "backgroundcolor": "#E5ECF6",
            "gridcolor": "white",
            "gridwidth": 2,
            "linecolor": "white",
            "showbackground": true,
            "ticks": "",
            "zerolinecolor": "white"
           },
           "yaxis": {
            "backgroundcolor": "#E5ECF6",
            "gridcolor": "white",
            "gridwidth": 2,
            "linecolor": "white",
            "showbackground": true,
            "ticks": "",
            "zerolinecolor": "white"
           },
           "zaxis": {
            "backgroundcolor": "#E5ECF6",
            "gridcolor": "white",
            "gridwidth": 2,
            "linecolor": "white",
            "showbackground": true,
            "ticks": "",
            "zerolinecolor": "white"
           }
          },
          "shapedefaults": {
           "line": {
            "color": "#2a3f5f"
           }
          },
          "ternary": {
           "aaxis": {
            "gridcolor": "white",
            "linecolor": "white",
            "ticks": ""
           },
           "baxis": {
            "gridcolor": "white",
            "linecolor": "white",
            "ticks": ""
           },
           "bgcolor": "#E5ECF6",
           "caxis": {
            "gridcolor": "white",
            "linecolor": "white",
            "ticks": ""
           }
          },
          "title": {
           "x": 0.05
          },
          "xaxis": {
           "automargin": true,
           "gridcolor": "white",
           "linecolor": "white",
           "ticks": "",
           "title": {
            "standoff": 15
           },
           "zerolinecolor": "white",
           "zerolinewidth": 2
          },
          "yaxis": {
           "automargin": true,
           "gridcolor": "white",
           "linecolor": "white",
           "ticks": "",
           "title": {
            "standoff": 15
           },
           "zerolinecolor": "white",
           "zerolinewidth": 2
          }
         }
        },
        "title": {
         "text": "Comparison of Room Temperatures"
        },
        "xaxis": {
         "anchor": "y",
         "domain": [
          0,
          0.45
         ],
         "title": {
          "text": "Time"
         }
        },
        "xaxis2": {
         "anchor": "y2",
         "domain": [
          0.55,
          1
         ]
        },
        "yaxis": {
         "anchor": "x",
         "domain": [
          0,
          1
         ],
         "title": {
          "text": "Temperature"
         }
        },
        "yaxis2": {
         "anchor": "x2",
         "domain": [
          0,
          1
         ]
        }
       }
      }
     },
     "metadata": {},
     "output_type": "display_data"
    }
   ],
   "source": [
    "fig = go.Figure()\n",
    "\n",
    "fig = make_subplots(rows=1, cols=2, shared_yaxes=False, subplot_titles=(\"Unnormalized\", \"Normalized\"))\n",
    "\n",
    "ix_times = [ix_time for ix_time,_ in enumerate(v1.all_wall_temps) if ix_time%(min_interv*4)==0]\n",
    "timestamps = [(pd.Timedelta(times[i], \"m\") + v1.twall.ext_temps.index[0]).strftime('%I %p') for i in ix_times]\n",
    "\n",
    "\n",
    "fig.add_trace(go.Scatter(x=timestamps, y=temps[ix_times], mode='markers+lines', name=\"Simulation\", line=dict(color=\"blue\")), row = 1, col = 1)\n",
    "fig.add_trace(go.Scatter(x=timestamps, y=v1.twall.real_temps[ix_times], mode='markers+lines', name=\"Real\", \n",
    "line=dict(color=\"red\")\n",
    " ), row = 1, col = 1)\n",
    "\n",
    "\n",
    "fig.add_trace(go.Scatter(x=timestamps, y=h.normalize(temps[ix_times]), mode='markers+lines', name=\"Simulation\", line=dict(color=\"blue\"), showlegend=False), row = 1, col = 2)\n",
    "fig.add_trace(go.Scatter(x=timestamps, y=h.normalize(v1.twall.real_temps[ix_times]), mode='markers+lines', name=\"Real\",\n",
    "line=dict(color=\"red\"), showlegend=False\n",
    " ), row = 1, col = 2)\n",
    "\n",
    "fig.update_layout(xaxis_title='Time',\n",
    "                  yaxis_title='Temperature',\n",
    "                  title='Comparison of Room Temperatures')\n"
   ]
  },
  {
   "cell_type": "code",
   "execution_count": 8,
   "metadata": {},
   "outputs": [
    {
     "data": {
      "application/vnd.plotly.v1+json": {
       "config": {
        "plotlyServerURL": "https://plotly.com"
       },
       "data": [
        {
         "mode": "markers+lines",
         "type": "scatter",
         "x": [
          "09 AM",
          "11 AM",
          "01 PM",
          "03 PM",
          "05 PM",
          "07 PM",
          "09 PM",
          "11 PM",
          "01 AM",
          "03 AM",
          "05 AM",
          "07 AM"
         ],
         "y": [
          -0.00297727679367199,
          -0.911028406324931,
          -1.3785234946162745,
          -1.7094760827346818,
          -1.9767473666402111,
          -2.205509899737308,
          -2.407252187888389,
          -2.5881132758299827,
          -2.7516631947562473,
          -2.900119354337221,
          -3.035011083614563,
          -3.157583722166464
         ]
        }
       ],
       "layout": {
        "template": {
         "data": {
          "bar": [
           {
            "error_x": {
             "color": "#2a3f5f"
            },
            "error_y": {
             "color": "#2a3f5f"
            },
            "marker": {
             "line": {
              "color": "#E5ECF6",
              "width": 0.5
             },
             "pattern": {
              "fillmode": "overlay",
              "size": 10,
              "solidity": 0.2
             }
            },
            "type": "bar"
           }
          ],
          "barpolar": [
           {
            "marker": {
             "line": {
              "color": "#E5ECF6",
              "width": 0.5
             },
             "pattern": {
              "fillmode": "overlay",
              "size": 10,
              "solidity": 0.2
             }
            },
            "type": "barpolar"
           }
          ],
          "carpet": [
           {
            "aaxis": {
             "endlinecolor": "#2a3f5f",
             "gridcolor": "white",
             "linecolor": "white",
             "minorgridcolor": "white",
             "startlinecolor": "#2a3f5f"
            },
            "baxis": {
             "endlinecolor": "#2a3f5f",
             "gridcolor": "white",
             "linecolor": "white",
             "minorgridcolor": "white",
             "startlinecolor": "#2a3f5f"
            },
            "type": "carpet"
           }
          ],
          "choropleth": [
           {
            "colorbar": {
             "outlinewidth": 0,
             "ticks": ""
            },
            "type": "choropleth"
           }
          ],
          "contour": [
           {
            "colorbar": {
             "outlinewidth": 0,
             "ticks": ""
            },
            "colorscale": [
             [
              0,
              "#0d0887"
             ],
             [
              0.1111111111111111,
              "#46039f"
             ],
             [
              0.2222222222222222,
              "#7201a8"
             ],
             [
              0.3333333333333333,
              "#9c179e"
             ],
             [
              0.4444444444444444,
              "#bd3786"
             ],
             [
              0.5555555555555556,
              "#d8576b"
             ],
             [
              0.6666666666666666,
              "#ed7953"
             ],
             [
              0.7777777777777778,
              "#fb9f3a"
             ],
             [
              0.8888888888888888,
              "#fdca26"
             ],
             [
              1,
              "#f0f921"
             ]
            ],
            "type": "contour"
           }
          ],
          "contourcarpet": [
           {
            "colorbar": {
             "outlinewidth": 0,
             "ticks": ""
            },
            "type": "contourcarpet"
           }
          ],
          "heatmap": [
           {
            "colorbar": {
             "outlinewidth": 0,
             "ticks": ""
            },
            "colorscale": [
             [
              0,
              "#0d0887"
             ],
             [
              0.1111111111111111,
              "#46039f"
             ],
             [
              0.2222222222222222,
              "#7201a8"
             ],
             [
              0.3333333333333333,
              "#9c179e"
             ],
             [
              0.4444444444444444,
              "#bd3786"
             ],
             [
              0.5555555555555556,
              "#d8576b"
             ],
             [
              0.6666666666666666,
              "#ed7953"
             ],
             [
              0.7777777777777778,
              "#fb9f3a"
             ],
             [
              0.8888888888888888,
              "#fdca26"
             ],
             [
              1,
              "#f0f921"
             ]
            ],
            "type": "heatmap"
           }
          ],
          "heatmapgl": [
           {
            "colorbar": {
             "outlinewidth": 0,
             "ticks": ""
            },
            "colorscale": [
             [
              0,
              "#0d0887"
             ],
             [
              0.1111111111111111,
              "#46039f"
             ],
             [
              0.2222222222222222,
              "#7201a8"
             ],
             [
              0.3333333333333333,
              "#9c179e"
             ],
             [
              0.4444444444444444,
              "#bd3786"
             ],
             [
              0.5555555555555556,
              "#d8576b"
             ],
             [
              0.6666666666666666,
              "#ed7953"
             ],
             [
              0.7777777777777778,
              "#fb9f3a"
             ],
             [
              0.8888888888888888,
              "#fdca26"
             ],
             [
              1,
              "#f0f921"
             ]
            ],
            "type": "heatmapgl"
           }
          ],
          "histogram": [
           {
            "marker": {
             "pattern": {
              "fillmode": "overlay",
              "size": 10,
              "solidity": 0.2
             }
            },
            "type": "histogram"
           }
          ],
          "histogram2d": [
           {
            "colorbar": {
             "outlinewidth": 0,
             "ticks": ""
            },
            "colorscale": [
             [
              0,
              "#0d0887"
             ],
             [
              0.1111111111111111,
              "#46039f"
             ],
             [
              0.2222222222222222,
              "#7201a8"
             ],
             [
              0.3333333333333333,
              "#9c179e"
             ],
             [
              0.4444444444444444,
              "#bd3786"
             ],
             [
              0.5555555555555556,
              "#d8576b"
             ],
             [
              0.6666666666666666,
              "#ed7953"
             ],
             [
              0.7777777777777778,
              "#fb9f3a"
             ],
             [
              0.8888888888888888,
              "#fdca26"
             ],
             [
              1,
              "#f0f921"
             ]
            ],
            "type": "histogram2d"
           }
          ],
          "histogram2dcontour": [
           {
            "colorbar": {
             "outlinewidth": 0,
             "ticks": ""
            },
            "colorscale": [
             [
              0,
              "#0d0887"
             ],
             [
              0.1111111111111111,
              "#46039f"
             ],
             [
              0.2222222222222222,
              "#7201a8"
             ],
             [
              0.3333333333333333,
              "#9c179e"
             ],
             [
              0.4444444444444444,
              "#bd3786"
             ],
             [
              0.5555555555555556,
              "#d8576b"
             ],
             [
              0.6666666666666666,
              "#ed7953"
             ],
             [
              0.7777777777777778,
              "#fb9f3a"
             ],
             [
              0.8888888888888888,
              "#fdca26"
             ],
             [
              1,
              "#f0f921"
             ]
            ],
            "type": "histogram2dcontour"
           }
          ],
          "mesh3d": [
           {
            "colorbar": {
             "outlinewidth": 0,
             "ticks": ""
            },
            "type": "mesh3d"
           }
          ],
          "parcoords": [
           {
            "line": {
             "colorbar": {
              "outlinewidth": 0,
              "ticks": ""
             }
            },
            "type": "parcoords"
           }
          ],
          "pie": [
           {
            "automargin": true,
            "type": "pie"
           }
          ],
          "scatter": [
           {
            "fillpattern": {
             "fillmode": "overlay",
             "size": 10,
             "solidity": 0.2
            },
            "type": "scatter"
           }
          ],
          "scatter3d": [
           {
            "line": {
             "colorbar": {
              "outlinewidth": 0,
              "ticks": ""
             }
            },
            "marker": {
             "colorbar": {
              "outlinewidth": 0,
              "ticks": ""
             }
            },
            "type": "scatter3d"
           }
          ],
          "scattercarpet": [
           {
            "marker": {
             "colorbar": {
              "outlinewidth": 0,
              "ticks": ""
             }
            },
            "type": "scattercarpet"
           }
          ],
          "scattergeo": [
           {
            "marker": {
             "colorbar": {
              "outlinewidth": 0,
              "ticks": ""
             }
            },
            "type": "scattergeo"
           }
          ],
          "scattergl": [
           {
            "marker": {
             "colorbar": {
              "outlinewidth": 0,
              "ticks": ""
             }
            },
            "type": "scattergl"
           }
          ],
          "scattermapbox": [
           {
            "marker": {
             "colorbar": {
              "outlinewidth": 0,
              "ticks": ""
             }
            },
            "type": "scattermapbox"
           }
          ],
          "scatterpolar": [
           {
            "marker": {
             "colorbar": {
              "outlinewidth": 0,
              "ticks": ""
             }
            },
            "type": "scatterpolar"
           }
          ],
          "scatterpolargl": [
           {
            "marker": {
             "colorbar": {
              "outlinewidth": 0,
              "ticks": ""
             }
            },
            "type": "scatterpolargl"
           }
          ],
          "scatterternary": [
           {
            "marker": {
             "colorbar": {
              "outlinewidth": 0,
              "ticks": ""
             }
            },
            "type": "scatterternary"
           }
          ],
          "surface": [
           {
            "colorbar": {
             "outlinewidth": 0,
             "ticks": ""
            },
            "colorscale": [
             [
              0,
              "#0d0887"
             ],
             [
              0.1111111111111111,
              "#46039f"
             ],
             [
              0.2222222222222222,
              "#7201a8"
             ],
             [
              0.3333333333333333,
              "#9c179e"
             ],
             [
              0.4444444444444444,
              "#bd3786"
             ],
             [
              0.5555555555555556,
              "#d8576b"
             ],
             [
              0.6666666666666666,
              "#ed7953"
             ],
             [
              0.7777777777777778,
              "#fb9f3a"
             ],
             [
              0.8888888888888888,
              "#fdca26"
             ],
             [
              1,
              "#f0f921"
             ]
            ],
            "type": "surface"
           }
          ],
          "table": [
           {
            "cells": {
             "fill": {
              "color": "#EBF0F8"
             },
             "line": {
              "color": "white"
             }
            },
            "header": {
             "fill": {
              "color": "#C8D4E3"
             },
             "line": {
              "color": "white"
             }
            },
            "type": "table"
           }
          ]
         },
         "layout": {
          "annotationdefaults": {
           "arrowcolor": "#2a3f5f",
           "arrowhead": 0,
           "arrowwidth": 1
          },
          "autotypenumbers": "strict",
          "coloraxis": {
           "colorbar": {
            "outlinewidth": 0,
            "ticks": ""
           }
          },
          "colorscale": {
           "diverging": [
            [
             0,
             "#8e0152"
            ],
            [
             0.1,
             "#c51b7d"
            ],
            [
             0.2,
             "#de77ae"
            ],
            [
             0.3,
             "#f1b6da"
            ],
            [
             0.4,
             "#fde0ef"
            ],
            [
             0.5,
             "#f7f7f7"
            ],
            [
             0.6,
             "#e6f5d0"
            ],
            [
             0.7,
             "#b8e186"
            ],
            [
             0.8,
             "#7fbc41"
            ],
            [
             0.9,
             "#4d9221"
            ],
            [
             1,
             "#276419"
            ]
           ],
           "sequential": [
            [
             0,
             "#0d0887"
            ],
            [
             0.1111111111111111,
             "#46039f"
            ],
            [
             0.2222222222222222,
             "#7201a8"
            ],
            [
             0.3333333333333333,
             "#9c179e"
            ],
            [
             0.4444444444444444,
             "#bd3786"
            ],
            [
             0.5555555555555556,
             "#d8576b"
            ],
            [
             0.6666666666666666,
             "#ed7953"
            ],
            [
             0.7777777777777778,
             "#fb9f3a"
            ],
            [
             0.8888888888888888,
             "#fdca26"
            ],
            [
             1,
             "#f0f921"
            ]
           ],
           "sequentialminus": [
            [
             0,
             "#0d0887"
            ],
            [
             0.1111111111111111,
             "#46039f"
            ],
            [
             0.2222222222222222,
             "#7201a8"
            ],
            [
             0.3333333333333333,
             "#9c179e"
            ],
            [
             0.4444444444444444,
             "#bd3786"
            ],
            [
             0.5555555555555556,
             "#d8576b"
            ],
            [
             0.6666666666666666,
             "#ed7953"
            ],
            [
             0.7777777777777778,
             "#fb9f3a"
            ],
            [
             0.8888888888888888,
             "#fdca26"
            ],
            [
             1,
             "#f0f921"
            ]
           ]
          },
          "colorway": [
           "#636efa",
           "#EF553B",
           "#00cc96",
           "#ab63fa",
           "#FFA15A",
           "#19d3f3",
           "#FF6692",
           "#B6E880",
           "#FF97FF",
           "#FECB52"
          ],
          "font": {
           "color": "#2a3f5f"
          },
          "geo": {
           "bgcolor": "white",
           "lakecolor": "white",
           "landcolor": "#E5ECF6",
           "showlakes": true,
           "showland": true,
           "subunitcolor": "white"
          },
          "hoverlabel": {
           "align": "left"
          },
          "hovermode": "closest",
          "mapbox": {
           "style": "light"
          },
          "paper_bgcolor": "white",
          "plot_bgcolor": "#E5ECF6",
          "polar": {
           "angularaxis": {
            "gridcolor": "white",
            "linecolor": "white",
            "ticks": ""
           },
           "bgcolor": "#E5ECF6",
           "radialaxis": {
            "gridcolor": "white",
            "linecolor": "white",
            "ticks": ""
           }
          },
          "scene": {
           "xaxis": {
            "backgroundcolor": "#E5ECF6",
            "gridcolor": "white",
            "gridwidth": 2,
            "linecolor": "white",
            "showbackground": true,
            "ticks": "",
            "zerolinecolor": "white"
           },
           "yaxis": {
            "backgroundcolor": "#E5ECF6",
            "gridcolor": "white",
            "gridwidth": 2,
            "linecolor": "white",
            "showbackground": true,
            "ticks": "",
            "zerolinecolor": "white"
           },
           "zaxis": {
            "backgroundcolor": "#E5ECF6",
            "gridcolor": "white",
            "gridwidth": 2,
            "linecolor": "white",
            "showbackground": true,
            "ticks": "",
            "zerolinecolor": "white"
           }
          },
          "shapedefaults": {
           "line": {
            "color": "#2a3f5f"
           }
          },
          "ternary": {
           "aaxis": {
            "gridcolor": "white",
            "linecolor": "white",
            "ticks": ""
           },
           "baxis": {
            "gridcolor": "white",
            "linecolor": "white",
            "ticks": ""
           },
           "bgcolor": "#E5ECF6",
           "caxis": {
            "gridcolor": "white",
            "linecolor": "white",
            "ticks": ""
           }
          },
          "title": {
           "x": 0.05
          },
          "xaxis": {
           "automargin": true,
           "gridcolor": "white",
           "linecolor": "white",
           "ticks": "",
           "title": {
            "standoff": 15
           },
           "zerolinecolor": "white",
           "zerolinewidth": 2
          },
          "yaxis": {
           "automargin": true,
           "gridcolor": "white",
           "linecolor": "white",
           "ticks": "",
           "title": {
            "standoff": 15
           },
           "zerolinecolor": "white",
           "zerolinewidth": 2
          }
         }
        },
        "title": {
         "text": "Heat Transfer from Wall to Room"
        },
        "xaxis": {
         "title": {
          "text": "Time"
         }
        },
        "yaxis": {
         "title": {
          "text": "Heat Flux"
         }
        }
       }
      }
     },
     "metadata": {},
     "output_type": "display_data"
    }
   ],
   "source": [
    "fig = go.Figure()\n",
    "\n",
    "ix_times = [ix_time for ix_time,_ in enumerate(v1.all_wall_temps) if ix_time%(min_interv*4)==0]\n",
    "timestamps = [(pd.Timedelta(times[i], \"m\") + v1.twall.ext_temps.index[0]).strftime('%I %p') for i in ix_times]\n",
    "\n",
    "fig.add_trace(go.Scatter(x=timestamps, y=v1.wall_heat_flux[ix_times], mode='markers+lines',))\n",
    "fig.update_layout(xaxis_title='Time',\n",
    "                  yaxis_title='Heat Flux',\n",
    "                  title='Heat Transfer from Wall to Room')\n",
    "\n"
   ]
  },
  {
   "cell_type": "markdown",
   "metadata": {},
   "source": [
    "### plot on same scale!"
   ]
  },
  {
   "cell_type": "code",
   "execution_count": 9,
   "metadata": {},
   "outputs": [
    {
     "data": {
      "application/vnd.plotly.v1+json": {
       "config": {
        "plotlyServerURL": "https://plotly.com"
       },
       "data": [
        {
         "legendgroup": "09 AM",
         "line": {
          "color": "rgb(36, 86, 104)"
         },
         "mode": "lines+markers",
         "name": "09 AM",
         "showlegend": false,
         "type": "scatter",
         "x": [
          "09 AM"
         ],
         "xaxis": "x",
         "y": [
          290.26111111111106
         ],
         "yaxis": "y"
        },
        {
         "legendgroup": "09 AM",
         "line": {
          "color": "rgb(36, 86, 104)"
         },
         "mode": "lines+markers",
         "name": "09 AM",
         "showlegend": true,
         "type": "scatter",
         "x": [
          0,
          0.01,
          0.02,
          0.03,
          0.04,
          0.05,
          0.06,
          0.07,
          0.08,
          0.09
         ],
         "xaxis": "x2",
         "y": [
          290.2618554303095,
          290.5820987654321,
          290.90308641975304,
          291.2240740740741,
          291.54506172839507,
          291.866049382716,
          292.187037037037,
          292.508024691358,
          292.82901234567896,
          293.14925568080156
         ],
         "yaxis": "y2"
        },
        {
         "legendgroup": "09 AM",
         "line": {
          "color": "rgb(36, 86, 104)"
         },
         "mode": "lines+markers",
         "name": "09 AM",
         "showlegend": false,
         "type": "scatter",
         "x": [
          "09 AM"
         ],
         "xaxis": "x3",
         "y": [
          293.15
         ],
         "yaxis": "y3"
        },
        {
         "legendgroup": "11 AM",
         "line": {
          "color": "rgb(26, 100, 112)"
         },
         "mode": "lines+markers",
         "name": "11 AM",
         "showlegend": false,
         "type": "scatter",
         "x": [
          "11 AM"
         ],
         "xaxis": "x",
         "y": [
          292.81666666666666
         ],
         "yaxis": "y"
        },
        {
         "legendgroup": "11 AM",
         "line": {
          "color": "rgb(26, 100, 112)"
         },
         "mode": "lines+markers",
         "name": "11 AM",
         "showlegend": true,
         "type": "scatter",
         "x": [
          0,
          0.01,
          0.02,
          0.03,
          0.04,
          0.05,
          0.06,
          0.07,
          0.08,
          0.09
         ],
         "xaxis": "x2",
         "y": [
          290.5202619869831,
          290.6377124966553,
          290.91201383425334,
          291.22520917714843,
          291.54517025243365,
          291.86594217228026,
          292.1859252320137,
          292.4994447439738,
          292.77734738115913,
          292.92222471138365
         ],
         "yaxis": "y2"
        },
        {
         "legendgroup": "11 AM",
         "line": {
          "color": "rgb(26, 100, 112)"
         },
         "mode": "lines+markers",
         "name": "11 AM",
         "showlegend": false,
         "type": "scatter",
         "x": [
          "11 AM"
         ],
         "xaxis": "x3",
         "y": [
          293.1499818129649
         ],
         "yaxis": "y3"
        },
        {
         "legendgroup": "01 PM",
         "line": {
          "color": "rgb(15, 114, 121)"
         },
         "mode": "lines+markers",
         "name": "01 PM",
         "showlegend": false,
         "type": "scatter",
         "x": [
          "01 PM"
         ],
         "xaxis": "x",
         "y": [
          293.81666666666666
         ],
         "yaxis": "y"
        },
        {
         "legendgroup": "01 PM",
         "line": {
          "color": "rgb(15, 114, 121)"
         },
         "mode": "lines+markers",
         "name": "01 PM",
         "showlegend": true,
         "type": "scatter",
         "x": [
          0,
          0.01,
          0.02,
          0.03,
          0.04,
          0.05,
          0.06,
          0.07,
          0.08,
          0.09
         ],
         "xaxis": "x2",
         "y": [
          290.7183756982585,
          290.73815081176963,
          290.94600331011287,
          291.2338178003299,
          291.54665817786207,
          291.86462826292995,
          292.1783682374741,
          292.4713613558433,
          292.70289928959085,
          292.8053104968547
         ],
         "yaxis": "y2"
        },
        {
         "legendgroup": "01 PM",
         "line": {
          "color": "rgb(15, 114, 121)"
         },
         "mode": "lines+markers",
         "name": "01 PM",
         "showlegend": false,
         "type": "scatter",
         "x": [
          "01 PM"
         ],
         "xaxis": "x3",
         "y": [
          293.14994137050877
         ],
         "yaxis": "y3"
        },
        {
         "legendgroup": "03 PM",
         "line": {
          "color": "rgb(14, 128, 125)"
         },
         "mode": "lines+markers",
         "name": "03 PM",
         "showlegend": false,
         "type": "scatter",
         "x": [
          "03 PM"
         ],
         "xaxis": "x",
         "y": [
          294.5388888888889
         ],
         "yaxis": "y"
        },
        {
         "legendgroup": "03 PM",
         "line": {
          "color": "rgb(14, 128, 125)"
         },
         "mode": "lines+markers",
         "name": "03 PM",
         "showlegend": true,
         "type": "scatter",
         "x": [
          0,
          0.01,
          0.02,
          0.03,
          0.04,
          0.05,
          0.06,
          0.07,
          0.08,
          0.09
         ],
         "xaxis": "x2",
         "y": [
          290.892579061714,
          290.846122306641,
          290.9976167040707,
          291.25291012063917,
          291.5512734034836,
          291.8612515227139,
          292.16356147102766,
          292.43431591797963,
          292.63531620466995,
          292.7225183662459
         ],
         "yaxis": "y2"
        },
        {
         "legendgroup": "03 PM",
         "line": {
          "color": "rgb(14, 128, 125)"
         },
         "mode": "lines+markers",
         "name": "03 PM",
         "showlegend": false,
         "type": "scatter",
         "x": [
          "03 PM"
         ],
         "xaxis": "x3",
         "y": [
          293.14988738692955
         ],
         "yaxis": "y3"
        },
        {
         "legendgroup": "05 PM",
         "line": {
          "color": "rgb(13, 143, 129)"
         },
         "mode": "lines+markers",
         "name": "05 PM",
         "showlegend": false,
         "type": "scatter",
         "x": [
          "05 PM"
         ],
         "xaxis": "x",
         "y": [
          295.92777777777775
         ],
         "yaxis": "y"
        },
        {
         "legendgroup": "05 PM",
         "line": {
          "color": "rgb(13, 143, 129)"
         },
         "mode": "lines+markers",
         "name": "05 PM",
         "showlegend": true,
         "type": "scatter",
         "x": [
          0,
          0.01,
          0.02,
          0.03,
          0.04,
          0.05,
          0.06,
          0.07,
          0.08,
          0.09
         ],
         "xaxis": "x2",
         "y": [
          291.05238378875833,
          290.95518062973235,
          291.05933718804295,
          291.28096083014225,
          291.55959949897033,
          291.85648299296633,
          292.14427777911254,
          292.395138442742,
          292.57575243877375,
          292.65563625679675
         ],
         "yaxis": "y2"
        },
        {
         "legendgroup": "05 PM",
         "line": {
          "color": "rgb(13, 143, 129)"
         },
         "mode": "lines+markers",
         "name": "05 PM",
         "showlegend": false,
         "type": "scatter",
         "x": [
          "05 PM"
         ],
         "xaxis": "x3",
         "y": [
          293.1498230984568
         ],
         "yaxis": "y3"
        },
        {
         "legendgroup": "07 PM",
         "line": {
          "color": "rgb(35, 157, 128)"
         },
         "mode": "lines+markers",
         "name": "07 PM",
         "showlegend": false,
         "type": "scatter",
         "x": [
          "07 PM"
         ],
         "xaxis": "x",
         "y": [
          295.2055555555555
         ],
         "yaxis": "y"
        },
        {
         "legendgroup": "07 PM",
         "line": {
          "color": "rgb(35, 157, 128)"
         },
         "mode": "lines+markers",
         "name": "07 PM",
         "showlegend": true,
         "type": "scatter",
         "x": [
          0,
          0.01,
          0.02,
          0.03,
          0.04,
          0.05,
          0.06,
          0.07,
          0.08,
          0.09
         ],
         "xaxis": "x2",
         "y": [
          291.1929992214214,
          291.06508465217337,
          291.1275002758051,
          291.3157576467127,
          291.57147330766134,
          291.85153438399226,
          292.1232194721142,
          292.3567105795079,
          292.522692617551,
          292.59837274576785
         ],
         "yaxis": "y2"
        },
        {
         "legendgroup": "07 PM",
         "line": {
          "color": "rgb(35, 157, 128)"
         },
         "mode": "lines+markers",
         "name": "07 PM",
         "showlegend": false,
         "type": "scatter",
         "x": [
          "07 PM"
         ],
         "xaxis": "x3",
         "y": [
          293.1497502207022
         ],
         "yaxis": "y3"
        },
        {
         "legendgroup": "09 PM",
         "line": {
          "color": "rgb(57, 171, 126)"
         },
         "mode": "lines+markers",
         "name": "09 PM",
         "showlegend": false,
         "type": "scatter",
         "x": [
          "09 PM"
         ],
         "xaxis": "x",
         "y": [
          290.81666666666666
         ],
         "yaxis": "y"
        },
        {
         "legendgroup": "09 PM",
         "line": {
          "color": "rgb(57, 171, 126)"
         },
         "mode": "lines+markers",
         "name": "09 PM",
         "showlegend": true,
         "type": "scatter",
         "x": [
          0,
          0.01,
          0.02,
          0.03,
          0.04,
          0.05,
          0.06,
          0.07,
          0.08,
          0.09
         ],
         "xaxis": "x2",
         "y": [
          291.23989790118054,
          291.1548328291635,
          291.1963120322288,
          291.35509512157853,
          291.58652384187496,
          291.84744764661264,
          292.1022542403688,
          292.32025153145474,
          292.47489694542946,
          292.5478568251285
         ],
         "yaxis": "y2"
        },
        {
         "legendgroup": "09 PM",
         "line": {
          "color": "rgb(57, 171, 126)"
         },
         "mode": "lines+markers",
         "name": "09 PM",
         "showlegend": false,
         "type": "scatter",
         "x": [
          "09 PM"
         ],
         "xaxis": "x3",
         "y": [
          293.1496698721006
         ],
         "yaxis": "y3"
        },
        {
         "legendgroup": "11 PM",
         "line": {
          "color": "rgb(84, 184, 121)"
         },
         "mode": "lines+markers",
         "name": "11 PM",
         "showlegend": false,
         "type": "scatter",
         "x": [
          "11 PM"
         ],
         "xaxis": "x",
         "y": [
          288.5388888888889
         ],
         "yaxis": "y"
        },
        {
         "legendgroup": "11 PM",
         "line": {
          "color": "rgb(84, 184, 121)"
         },
         "mode": "lines+markers",
         "name": "11 PM",
         "showlegend": true,
         "type": "scatter",
         "x": [
          0,
          0.01,
          0.02,
          0.03,
          0.04,
          0.05,
          0.06,
          0.07,
          0.08,
          0.09
         ],
         "xaxis": "x2",
         "y": [
          291.1617474533228,
          291.1927925882021,
          291.2525849350314,
          291.3945921990324,
          291.6037847270295,
          291.8448234174836,
          292.08252556479414,
          292.28631048145417,
          292.4315493126911,
          292.50255455751113
         ],
         "yaxis": "y2"
        },
        {
         "legendgroup": "11 PM",
         "line": {
          "color": "rgb(84, 184, 121)"
         },
         "mode": "lines+markers",
         "name": "11 PM",
         "showlegend": false,
         "type": "scatter",
         "x": [
          "11 PM"
         ],
         "xaxis": "x3",
         "y": [
          293.1495828764686
         ],
         "yaxis": "y3"
        },
        {
         "legendgroup": "01 AM",
         "line": {
          "color": "rgb(110, 197, 116)"
         },
         "mode": "lines+markers",
         "name": "01 AM",
         "showlegend": false,
         "type": "scatter",
         "x": [
          "01 AM"
         ],
         "xaxis": "x",
         "y": [
          287.59444444444443
         ],
         "yaxis": "y"
        },
        {
         "legendgroup": "01 AM",
         "line": {
          "color": "rgb(110, 197, 116)"
         },
         "mode": "lines+markers",
         "name": "01 AM",
         "showlegend": true,
         "type": "scatter",
         "x": [
          0,
          0.01,
          0.02,
          0.03,
          0.04,
          0.05,
          0.06,
          0.07,
          0.08,
          0.09
         ],
         "xaxis": "x2",
         "y": [
          291.0857938295627,
          291.19382899921203,
          291.28790063085154,
          291.4281782278546,
          291.621086377852,
          291.84356191353737,
          292.0645947727569,
          292.2551211533688,
          292.3921223559735,
          292.4615740947579
         ],
         "yaxis": "y2"
        },
        {
         "legendgroup": "01 AM",
         "line": {
          "color": "rgb(110, 197, 116)"
         },
         "mode": "lines+markers",
         "name": "01 AM",
         "showlegend": false,
         "type": "scatter",
         "x": [
          "01 AM"
         ],
         "xaxis": "x3",
         "y": [
          293.14948989344697
         ],
         "yaxis": "y3"
        },
        {
         "legendgroup": "03 AM",
         "line": {
          "color": "rgb(140, 209, 110)"
         },
         "mode": "lines+markers",
         "name": "03 AM",
         "showlegend": false,
         "type": "scatter",
         "x": [
          "03 AM"
         ],
         "xaxis": "x",
         "y": [
          286.65
         ],
         "yaxis": "y"
        },
        {
         "legendgroup": "03 AM",
         "line": {
          "color": "rgb(140, 209, 110)"
         },
         "mode": "lines+markers",
         "name": "03 AM",
         "showlegend": true,
         "type": "scatter",
         "x": [
          0,
          0.01,
          0.02,
          0.03,
          0.04,
          0.05,
          0.06,
          0.07,
          0.08,
          0.09
         ],
         "xaxis": "x2",
         "y": [
          291.01978644831297,
          291.1802468904447,
          291.3062102634186,
          291.45292392884915,
          291.6360367463512,
          291.84289444700556,
          292.0485050816338,
          292.2267019006346,
          292.35625099222995,
          292.42436164577913
         ],
         "yaxis": "y2"
        },
        {
         "legendgroup": "03 AM",
         "line": {
          "color": "rgb(140, 209, 110)"
         },
         "mode": "lines+markers",
         "name": "03 AM",
         "showlegend": false,
         "type": "scatter",
         "x": [
          "03 AM"
         ],
         "xaxis": "x3",
         "y": [
          293.14939148436343
         ],
         "yaxis": "y3"
        },
        {
         "legendgroup": "05 AM",
         "line": {
          "color": "rgb(169, 220, 103)"
         },
         "mode": "lines+markers",
         "name": "05 AM",
         "showlegend": false,
         "type": "scatter",
         "x": [
          "05 AM"
         ],
         "xaxis": "x",
         "y": [
          287.81666666666666
         ],
         "yaxis": "y"
        },
        {
         "legendgroup": "05 AM",
         "line": {
          "color": "rgb(169, 220, 103)"
         },
         "mode": "lines+markers",
         "name": "05 AM",
         "showlegend": true,
         "type": "scatter",
         "x": [
          0,
          0.01,
          0.02,
          0.03,
          0.04,
          0.05,
          0.06,
          0.07,
          0.08,
          0.09
         ],
         "xaxis": "x2",
         "y": [
          290.9894897321411,
          291.16221665208514,
          291.31277535400096,
          291.4690161554164,
          291.6472447974115,
          291.84188633830945,
          292.03393328363245,
          292.2008871696479,
          292.3236356353647,
          292.3905353758833
         ],
         "yaxis": "y2"
        },
        {
         "legendgroup": "05 AM",
         "line": {
          "color": "rgb(169, 220, 103)"
         },
         "mode": "lines+markers",
         "name": "05 AM",
         "showlegend": false,
         "type": "scatter",
         "x": [
          "05 AM"
         ],
         "xaxis": "x3",
         "y": [
          293.14928814678694
         ],
         "yaxis": "y3"
        },
        {
         "legendgroup": "07 AM",
         "line": {
          "color": "rgb(203, 230, 98)"
         },
         "mode": "lines+markers",
         "name": "07 AM",
         "showlegend": false,
         "type": "scatter",
         "x": [
          "07 AM"
         ],
         "xaxis": "x",
         "y": [
          288.3722222222222
         ],
         "yaxis": "y"
        },
        {
         "legendgroup": "07 AM",
         "line": {
          "color": "rgb(203, 230, 98)"
         },
         "mode": "lines+markers",
         "name": "07 AM",
         "showlegend": true,
         "type": "scatter",
         "x": [
          0,
          0.01,
          0.02,
          0.03,
          0.04,
          0.05,
          0.06,
          0.07,
          0.08,
          0.09
         ],
         "xaxis": "x2",
         "y": [
          291.00218794832205,
          291.15771044328034,
          291.3154369115504,
          291.4784524729799,
          291.6543937242355,
          291.8398358014038,
          292.02041541589364,
          292.1773818860466,
          292.2939826339583,
          292.35978440032517
         ],
         "yaxis": "y2"
        },
        {
         "legendgroup": "07 AM",
         "line": {
          "color": "rgb(203, 230, 98)"
         },
         "mode": "lines+markers",
         "name": "07 AM",
         "showlegend": false,
         "type": "scatter",
         "x": [
          "07 AM"
         ],
         "xaxis": "x3",
         "y": [
          293.1491803308668
         ],
         "yaxis": "y3"
        }
       ],
       "layout": {
        "annotations": [
         {
          "font": {
           "size": 16
          },
          "showarrow": false,
          "text": "Amb Temp",
          "x": 0.14444444444444446,
          "xanchor": "center",
          "xref": "paper",
          "y": 1,
          "yanchor": "bottom",
          "yref": "paper"
         },
         {
          "font": {
           "size": 16
          },
          "showarrow": false,
          "text": "Wall Temps",
          "x": 0.5,
          "xanchor": "center",
          "xref": "paper",
          "y": 1,
          "yanchor": "bottom",
          "yref": "paper"
         },
         {
          "font": {
           "size": 16
          },
          "showarrow": false,
          "text": "Room Temp",
          "x": 0.8555555555555556,
          "xanchor": "center",
          "xref": "paper",
          "y": 1,
          "yanchor": "bottom",
          "yref": "paper"
         }
        ],
        "template": {
         "data": {
          "bar": [
           {
            "error_x": {
             "color": "#2a3f5f"
            },
            "error_y": {
             "color": "#2a3f5f"
            },
            "marker": {
             "line": {
              "color": "#E5ECF6",
              "width": 0.5
             },
             "pattern": {
              "fillmode": "overlay",
              "size": 10,
              "solidity": 0.2
             }
            },
            "type": "bar"
           }
          ],
          "barpolar": [
           {
            "marker": {
             "line": {
              "color": "#E5ECF6",
              "width": 0.5
             },
             "pattern": {
              "fillmode": "overlay",
              "size": 10,
              "solidity": 0.2
             }
            },
            "type": "barpolar"
           }
          ],
          "carpet": [
           {
            "aaxis": {
             "endlinecolor": "#2a3f5f",
             "gridcolor": "white",
             "linecolor": "white",
             "minorgridcolor": "white",
             "startlinecolor": "#2a3f5f"
            },
            "baxis": {
             "endlinecolor": "#2a3f5f",
             "gridcolor": "white",
             "linecolor": "white",
             "minorgridcolor": "white",
             "startlinecolor": "#2a3f5f"
            },
            "type": "carpet"
           }
          ],
          "choropleth": [
           {
            "colorbar": {
             "outlinewidth": 0,
             "ticks": ""
            },
            "type": "choropleth"
           }
          ],
          "contour": [
           {
            "colorbar": {
             "outlinewidth": 0,
             "ticks": ""
            },
            "colorscale": [
             [
              0,
              "#0d0887"
             ],
             [
              0.1111111111111111,
              "#46039f"
             ],
             [
              0.2222222222222222,
              "#7201a8"
             ],
             [
              0.3333333333333333,
              "#9c179e"
             ],
             [
              0.4444444444444444,
              "#bd3786"
             ],
             [
              0.5555555555555556,
              "#d8576b"
             ],
             [
              0.6666666666666666,
              "#ed7953"
             ],
             [
              0.7777777777777778,
              "#fb9f3a"
             ],
             [
              0.8888888888888888,
              "#fdca26"
             ],
             [
              1,
              "#f0f921"
             ]
            ],
            "type": "contour"
           }
          ],
          "contourcarpet": [
           {
            "colorbar": {
             "outlinewidth": 0,
             "ticks": ""
            },
            "type": "contourcarpet"
           }
          ],
          "heatmap": [
           {
            "colorbar": {
             "outlinewidth": 0,
             "ticks": ""
            },
            "colorscale": [
             [
              0,
              "#0d0887"
             ],
             [
              0.1111111111111111,
              "#46039f"
             ],
             [
              0.2222222222222222,
              "#7201a8"
             ],
             [
              0.3333333333333333,
              "#9c179e"
             ],
             [
              0.4444444444444444,
              "#bd3786"
             ],
             [
              0.5555555555555556,
              "#d8576b"
             ],
             [
              0.6666666666666666,
              "#ed7953"
             ],
             [
              0.7777777777777778,
              "#fb9f3a"
             ],
             [
              0.8888888888888888,
              "#fdca26"
             ],
             [
              1,
              "#f0f921"
             ]
            ],
            "type": "heatmap"
           }
          ],
          "heatmapgl": [
           {
            "colorbar": {
             "outlinewidth": 0,
             "ticks": ""
            },
            "colorscale": [
             [
              0,
              "#0d0887"
             ],
             [
              0.1111111111111111,
              "#46039f"
             ],
             [
              0.2222222222222222,
              "#7201a8"
             ],
             [
              0.3333333333333333,
              "#9c179e"
             ],
             [
              0.4444444444444444,
              "#bd3786"
             ],
             [
              0.5555555555555556,
              "#d8576b"
             ],
             [
              0.6666666666666666,
              "#ed7953"
             ],
             [
              0.7777777777777778,
              "#fb9f3a"
             ],
             [
              0.8888888888888888,
              "#fdca26"
             ],
             [
              1,
              "#f0f921"
             ]
            ],
            "type": "heatmapgl"
           }
          ],
          "histogram": [
           {
            "marker": {
             "pattern": {
              "fillmode": "overlay",
              "size": 10,
              "solidity": 0.2
             }
            },
            "type": "histogram"
           }
          ],
          "histogram2d": [
           {
            "colorbar": {
             "outlinewidth": 0,
             "ticks": ""
            },
            "colorscale": [
             [
              0,
              "#0d0887"
             ],
             [
              0.1111111111111111,
              "#46039f"
             ],
             [
              0.2222222222222222,
              "#7201a8"
             ],
             [
              0.3333333333333333,
              "#9c179e"
             ],
             [
              0.4444444444444444,
              "#bd3786"
             ],
             [
              0.5555555555555556,
              "#d8576b"
             ],
             [
              0.6666666666666666,
              "#ed7953"
             ],
             [
              0.7777777777777778,
              "#fb9f3a"
             ],
             [
              0.8888888888888888,
              "#fdca26"
             ],
             [
              1,
              "#f0f921"
             ]
            ],
            "type": "histogram2d"
           }
          ],
          "histogram2dcontour": [
           {
            "colorbar": {
             "outlinewidth": 0,
             "ticks": ""
            },
            "colorscale": [
             [
              0,
              "#0d0887"
             ],
             [
              0.1111111111111111,
              "#46039f"
             ],
             [
              0.2222222222222222,
              "#7201a8"
             ],
             [
              0.3333333333333333,
              "#9c179e"
             ],
             [
              0.4444444444444444,
              "#bd3786"
             ],
             [
              0.5555555555555556,
              "#d8576b"
             ],
             [
              0.6666666666666666,
              "#ed7953"
             ],
             [
              0.7777777777777778,
              "#fb9f3a"
             ],
             [
              0.8888888888888888,
              "#fdca26"
             ],
             [
              1,
              "#f0f921"
             ]
            ],
            "type": "histogram2dcontour"
           }
          ],
          "mesh3d": [
           {
            "colorbar": {
             "outlinewidth": 0,
             "ticks": ""
            },
            "type": "mesh3d"
           }
          ],
          "parcoords": [
           {
            "line": {
             "colorbar": {
              "outlinewidth": 0,
              "ticks": ""
             }
            },
            "type": "parcoords"
           }
          ],
          "pie": [
           {
            "automargin": true,
            "type": "pie"
           }
          ],
          "scatter": [
           {
            "fillpattern": {
             "fillmode": "overlay",
             "size": 10,
             "solidity": 0.2
            },
            "type": "scatter"
           }
          ],
          "scatter3d": [
           {
            "line": {
             "colorbar": {
              "outlinewidth": 0,
              "ticks": ""
             }
            },
            "marker": {
             "colorbar": {
              "outlinewidth": 0,
              "ticks": ""
             }
            },
            "type": "scatter3d"
           }
          ],
          "scattercarpet": [
           {
            "marker": {
             "colorbar": {
              "outlinewidth": 0,
              "ticks": ""
             }
            },
            "type": "scattercarpet"
           }
          ],
          "scattergeo": [
           {
            "marker": {
             "colorbar": {
              "outlinewidth": 0,
              "ticks": ""
             }
            },
            "type": "scattergeo"
           }
          ],
          "scattergl": [
           {
            "marker": {
             "colorbar": {
              "outlinewidth": 0,
              "ticks": ""
             }
            },
            "type": "scattergl"
           }
          ],
          "scattermapbox": [
           {
            "marker": {
             "colorbar": {
              "outlinewidth": 0,
              "ticks": ""
             }
            },
            "type": "scattermapbox"
           }
          ],
          "scatterpolar": [
           {
            "marker": {
             "colorbar": {
              "outlinewidth": 0,
              "ticks": ""
             }
            },
            "type": "scatterpolar"
           }
          ],
          "scatterpolargl": [
           {
            "marker": {
             "colorbar": {
              "outlinewidth": 0,
              "ticks": ""
             }
            },
            "type": "scatterpolargl"
           }
          ],
          "scatterternary": [
           {
            "marker": {
             "colorbar": {
              "outlinewidth": 0,
              "ticks": ""
             }
            },
            "type": "scatterternary"
           }
          ],
          "surface": [
           {
            "colorbar": {
             "outlinewidth": 0,
             "ticks": ""
            },
            "colorscale": [
             [
              0,
              "#0d0887"
             ],
             [
              0.1111111111111111,
              "#46039f"
             ],
             [
              0.2222222222222222,
              "#7201a8"
             ],
             [
              0.3333333333333333,
              "#9c179e"
             ],
             [
              0.4444444444444444,
              "#bd3786"
             ],
             [
              0.5555555555555556,
              "#d8576b"
             ],
             [
              0.6666666666666666,
              "#ed7953"
             ],
             [
              0.7777777777777778,
              "#fb9f3a"
             ],
             [
              0.8888888888888888,
              "#fdca26"
             ],
             [
              1,
              "#f0f921"
             ]
            ],
            "type": "surface"
           }
          ],
          "table": [
           {
            "cells": {
             "fill": {
              "color": "#EBF0F8"
             },
             "line": {
              "color": "white"
             }
            },
            "header": {
             "fill": {
              "color": "#C8D4E3"
             },
             "line": {
              "color": "white"
             }
            },
            "type": "table"
           }
          ]
         },
         "layout": {
          "annotationdefaults": {
           "arrowcolor": "#2a3f5f",
           "arrowhead": 0,
           "arrowwidth": 1
          },
          "autotypenumbers": "strict",
          "coloraxis": {
           "colorbar": {
            "outlinewidth": 0,
            "ticks": ""
           }
          },
          "colorscale": {
           "diverging": [
            [
             0,
             "#8e0152"
            ],
            [
             0.1,
             "#c51b7d"
            ],
            [
             0.2,
             "#de77ae"
            ],
            [
             0.3,
             "#f1b6da"
            ],
            [
             0.4,
             "#fde0ef"
            ],
            [
             0.5,
             "#f7f7f7"
            ],
            [
             0.6,
             "#e6f5d0"
            ],
            [
             0.7,
             "#b8e186"
            ],
            [
             0.8,
             "#7fbc41"
            ],
            [
             0.9,
             "#4d9221"
            ],
            [
             1,
             "#276419"
            ]
           ],
           "sequential": [
            [
             0,
             "#0d0887"
            ],
            [
             0.1111111111111111,
             "#46039f"
            ],
            [
             0.2222222222222222,
             "#7201a8"
            ],
            [
             0.3333333333333333,
             "#9c179e"
            ],
            [
             0.4444444444444444,
             "#bd3786"
            ],
            [
             0.5555555555555556,
             "#d8576b"
            ],
            [
             0.6666666666666666,
             "#ed7953"
            ],
            [
             0.7777777777777778,
             "#fb9f3a"
            ],
            [
             0.8888888888888888,
             "#fdca26"
            ],
            [
             1,
             "#f0f921"
            ]
           ],
           "sequentialminus": [
            [
             0,
             "#0d0887"
            ],
            [
             0.1111111111111111,
             "#46039f"
            ],
            [
             0.2222222222222222,
             "#7201a8"
            ],
            [
             0.3333333333333333,
             "#9c179e"
            ],
            [
             0.4444444444444444,
             "#bd3786"
            ],
            [
             0.5555555555555556,
             "#d8576b"
            ],
            [
             0.6666666666666666,
             "#ed7953"
            ],
            [
             0.7777777777777778,
             "#fb9f3a"
            ],
            [
             0.8888888888888888,
             "#fdca26"
            ],
            [
             1,
             "#f0f921"
            ]
           ]
          },
          "colorway": [
           "#636efa",
           "#EF553B",
           "#00cc96",
           "#ab63fa",
           "#FFA15A",
           "#19d3f3",
           "#FF6692",
           "#B6E880",
           "#FF97FF",
           "#FECB52"
          ],
          "font": {
           "color": "#2a3f5f"
          },
          "geo": {
           "bgcolor": "white",
           "lakecolor": "white",
           "landcolor": "#E5ECF6",
           "showlakes": true,
           "showland": true,
           "subunitcolor": "white"
          },
          "hoverlabel": {
           "align": "left"
          },
          "hovermode": "closest",
          "mapbox": {
           "style": "light"
          },
          "paper_bgcolor": "white",
          "plot_bgcolor": "#E5ECF6",
          "polar": {
           "angularaxis": {
            "gridcolor": "white",
            "linecolor": "white",
            "ticks": ""
           },
           "bgcolor": "#E5ECF6",
           "radialaxis": {
            "gridcolor": "white",
            "linecolor": "white",
            "ticks": ""
           }
          },
          "scene": {
           "xaxis": {
            "backgroundcolor": "#E5ECF6",
            "gridcolor": "white",
            "gridwidth": 2,
            "linecolor": "white",
            "showbackground": true,
            "ticks": "",
            "zerolinecolor": "white"
           },
           "yaxis": {
            "backgroundcolor": "#E5ECF6",
            "gridcolor": "white",
            "gridwidth": 2,
            "linecolor": "white",
            "showbackground": true,
            "ticks": "",
            "zerolinecolor": "white"
           },
           "zaxis": {
            "backgroundcolor": "#E5ECF6",
            "gridcolor": "white",
            "gridwidth": 2,
            "linecolor": "white",
            "showbackground": true,
            "ticks": "",
            "zerolinecolor": "white"
           }
          },
          "shapedefaults": {
           "line": {
            "color": "#2a3f5f"
           }
          },
          "ternary": {
           "aaxis": {
            "gridcolor": "white",
            "linecolor": "white",
            "ticks": ""
           },
           "baxis": {
            "gridcolor": "white",
            "linecolor": "white",
            "ticks": ""
           },
           "bgcolor": "#E5ECF6",
           "caxis": {
            "gridcolor": "white",
            "linecolor": "white",
            "ticks": ""
           }
          },
          "title": {
           "x": 0.05
          },
          "xaxis": {
           "automargin": true,
           "gridcolor": "white",
           "linecolor": "white",
           "ticks": "",
           "title": {
            "standoff": 15
           },
           "zerolinecolor": "white",
           "zerolinewidth": 2
          },
          "yaxis": {
           "automargin": true,
           "gridcolor": "white",
           "linecolor": "white",
           "ticks": "",
           "title": {
            "standoff": 15
           },
           "zerolinecolor": "white",
           "zerolinewidth": 2
          }
         }
        },
        "xaxis": {
         "anchor": "y",
         "domain": [
          0,
          0.2888888888888889
         ],
         "title": {
          "text": "Time"
         }
        },
        "xaxis2": {
         "anchor": "y2",
         "domain": [
          0.35555555555555557,
          0.6444444444444445
         ],
         "title": {
          "text": "Wall Nodes Distance"
         }
        },
        "xaxis3": {
         "anchor": "y3",
         "domain": [
          0.7111111111111111,
          1
         ],
         "title": {
          "text": "Time"
         }
        },
        "yaxis": {
         "anchor": "x",
         "domain": [
          0,
          1
         ],
         "title": {
          "text": "Temperature (K )"
         }
        },
        "yaxis2": {
         "anchor": "x2",
         "domain": [
          0,
          1
         ],
         "matches": "y",
         "showticklabels": false
        },
        "yaxis3": {
         "anchor": "x3",
         "domain": [
          0,
          1
         ],
         "matches": "y",
         "showticklabels": false
        }
       }
      }
     },
     "metadata": {},
     "output_type": "display_data"
    }
   ],
   "source": [
    "# whether or not can turn time series off and on \n",
    "lg = True\n",
    "fig = make_subplots(rows=1, cols=3, shared_yaxes=True, subplot_titles=(\"Amb Temp\", \"Wall Temps\", \"Room Temp\"))\n",
    "\n",
    "#TODO relate \"4\" to number of time steps argument in VAvgIndoorAir function \n",
    "\n",
    "min_interv = 2*60 # interval to plot at in minutes \n",
    "colors, colors2 = make_colors(min_interv=min_interv)\n",
    "\n",
    "cix=0\n",
    "for ix_time, x_at_time in enumerate(v1.all_wall_temps): # NEED way to abstract this \n",
    "    if ix_time%(min_interv*4)== 0:\n",
    "        timestamp = [(pd.Timedelta(times[ix_time], \"m\") + v1.twall.ext_temps.index[0]).strftime('%I %p') ]\n",
    "\n",
    "        legendgroup = \"Same\" if lg == False else timestamp[0]\n",
    "\n",
    "        # Outdoor Air \n",
    "        fig.add_trace(go.Scatter(x=timestamp, y=[v1.twall.ext_temps[ix_time]], mode='lines+markers', line=dict(color=colors[cix]),\n",
    "        showlegend=False, name=timestamp[0], legendgroup=legendgroup\n",
    "        ), row = 1, col = 1)\n",
    "\n",
    "        # Wall Temperature \n",
    "        fig.add_trace(go.Scatter(x=v1.twall.x_vals, y=x_at_time, mode='lines+markers', line=dict(color=colors[cix]),\n",
    "        showlegend=True, name=timestamp[0], legendgroup=legendgroup\n",
    "        ), row = 1, col = 2)\n",
    "\n",
    "        # Indoor Air \n",
    "        fig.add_trace(go.Scatter(x=timestamp, y=[temps[ix_time]], mode='lines+markers', line=dict(color=colors[cix]),\n",
    "        showlegend=False, name=timestamp[0], legendgroup=legendgroup\n",
    "        ), row = 1, col = 3)\n",
    "        cix+=1\n",
    "\n",
    "fig['layout']['yaxis']['title']='Temperature (K )'\n",
    "fig['layout']['xaxis1']['title']='Time'\n",
    "fig['layout']['xaxis2']['title']='Wall Nodes Distance'\n",
    "fig['layout']['xaxis3']['title']='Time'\n",
    "fig.show()"
   ]
  }
 ],
 "metadata": {
  "kernelspec": {
   "display_name": "localwindowsenv",
   "language": "python",
   "name": "python3"
  },
  "language_info": {
   "codemirror_mode": {
    "name": "ipython",
    "version": 3
   },
   "file_extension": ".py",
   "mimetype": "text/x-python",
   "name": "python",
   "nbconvert_exporter": "python",
   "pygments_lexer": "ipython3",
   "version": "3.9.15"
  },
  "orig_nbformat": 4
 },
 "nbformat": 4,
 "nbformat_minor": 2
}
