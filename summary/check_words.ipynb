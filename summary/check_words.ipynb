{
 "cells": [
  {
   "cell_type": "code",
   "execution_count": 1,
   "metadata": {},
   "outputs": [],
   "source": [
    "import PyPDF2"
   ]
  },
  {
   "cell_type": "code",
   "execution_count": 3,
   "metadata": {},
   "outputs": [],
   "source": [
    "file = open('230613_buildsys/index.pdf', 'rb')"
   ]
  },
  {
   "cell_type": "code",
   "execution_count": 5,
   "metadata": {},
   "outputs": [],
   "source": [
    "pdfReader = PyPDF2.PdfReader(file)"
   ]
  },
  {
   "cell_type": "code",
   "execution_count": 7,
   "metadata": {},
   "outputs": [
    {
     "name": "stdout",
     "output_type": "stream",
     "text": [
      "\u001b[0;31mType:\u001b[0m        PdfReader\n",
      "\u001b[0;31mString form:\u001b[0m <PyPDF2._reader.PdfReader object at 0x1048667f0>\n",
      "\u001b[0;31mFile:\u001b[0m        ~/_UILCode/windows/localwindowsenv/lib/python3.9/site-packages/PyPDF2/_reader.py\n",
      "\u001b[0;31mDocstring:\u001b[0m  \n",
      "Initialize a PdfReader object.\n",
      "\n",
      "This operation can take some time, as the PDF stream's cross-reference\n",
      "tables are read into memory.\n",
      "\n",
      ":param stream: A File object or an object that supports the standard read\n",
      "    and seek methods similar to a File object. Could also be a\n",
      "    string representing a path to a PDF file.\n",
      ":param bool strict: Determines whether user should be warned of all\n",
      "    problems and also causes some correctable problems to be fatal.\n",
      "    Defaults to ``False``.\n",
      ":param None/str/bytes password: Decrypt PDF file at initialization. If the\n",
      "    password is None, the file will not be decrypted.\n",
      "    Defaults to ``None``\n"
     ]
    }
   ],
   "source": [
    "pdfReader?"
   ]
  }
 ],
 "metadata": {
  "kernelspec": {
   "display_name": "localwindowsenv",
   "language": "python",
   "name": "python3"
  },
  "language_info": {
   "codemirror_mode": {
    "name": "ipython",
    "version": 3
   },
   "file_extension": ".py",
   "mimetype": "text/x-python",
   "name": "python",
   "nbconvert_exporter": "python",
   "pygments_lexer": "ipython3",
   "version": "3.9.15"
  },
  "orig_nbformat": 4
 },
 "nbformat": 4,
 "nbformat_minor": 2
}
