{
  "cells": [
    {
      "cell_type": "markdown",
      "metadata": {},
      "source": [
        "# Analysis: Building Energy Modeling \n",
        "\n",
        "## Energy+ Simulation\n",
        "\n",
        "\n",
        ":::\n",
        ":::{ height=\"3in\" fig-align=\"center\"}\n",
        "![](figures/bem_01/model.png){ height=\"3in\" fig-align=\"center\"}\n",
        ":::\n",
        "\n",
        ":::{.smaller}\n",
        "- Adiabatic conditions where room intersects with other parts of the building\n",
        "- Air flow network used to simulate ventilation \n",
        "- Representative, uncalibrated model \n",
        ":::\n",
        "\n",
        ":::\n",
        "\n",
        "\n",
        "\n",
        "## Energy+ Simulation Results  "
      ],
      "id": "d8ce27ae"
    },
    {
      "cell_type": "code",
      "metadata": {},
      "source": [
        "sim_data_path = \"../../data/energy_model/230307_match.pkl\"\n",
        "sim_data = pd.read_pickle(sim_data_path)\n",
        "\n",
        "# smoothing on different time series than the observation \n",
        "sim_smooth = wd2.make_stl_smooth(series=sim_data[\"Always Closed\"], time=None, model=\"additive\")\n",
        "\n",
        "# rename label in simulation dataframe to match class\n",
        "sim_data.rename(columns={\"Varied\": \"Temp C\"}, inplace=True)\n",
        "\n",
        "\n",
        "s1 = wd2.Window_Detect2(sim_data)\n",
        "s1.analyze_window_change(smooth_fx=None, sim_smooth=sim_smooth)\n",
        "\n",
        "all_names = [\"Window\", \"Observed Temp\", \"Smoothed\", \"Difference\", \"Deriv1\", \"Deriv2\"]\n",
        "all_traces = [\"window_norm\", \"temp_norm\", \"smooth_series\", \"dif\", \"deriv\", \"deriv2\"]\n",
        "fig, names = wd2.make_dual_plot_abstract(time=s1.time, objects=[s1], names=all_names, traces=all_traces, title_arr=[\"\"], )\n",
        "\n",
        "\n",
        "# want to look at the observed data and the counterfactual ~ always cloesed \n",
        "fig = wd2.update_dual_plot(fig,  names, [\"Window\", \"Observed Temp\"],)\n",
        "fig.add_trace(go.Scatter(x=sim_data[\"DateTime\"], y=h.normalize(sim_data[\"Always Closed\"]), mode='lines', name=\"Control (Always Closed)\"))\n",
        "\n",
        "fig.update_layout(autosize=False, width=1000, height=500,)\n",
        "\n",
        "fig.show()"
      ],
      "id": "48aba6fb",
      "execution_count": null,
      "outputs": []
    },
    {
      "cell_type": "markdown",
      "metadata": {},
      "source": [
        "## Smoothing with STL"
      ],
      "id": "18c02a7a"
    },
    {
      "cell_type": "code",
      "metadata": {},
      "source": [
        "fig.update_traces(visible=False,selector=dict(name=\"Control (Always Closed)\"))\n",
        "\n",
        "fig = wd2.update_dual_plot(fig,  names, [\"Window\", \"Smoothed\"],)\n",
        "fig.show()"
      ],
      "id": "d482f026",
      "execution_count": null,
      "outputs": []
    },
    {
      "cell_type": "markdown",
      "metadata": {},
      "source": [
        "## Difference"
      ],
      "id": "b2c44f43"
    },
    {
      "cell_type": "code",
      "metadata": {},
      "source": [
        "fig = wd2.update_dual_plot(fig,  names, [\"Window\", \"Difference\"],)\n",
        "fig.show()"
      ],
      "id": "52bd732a",
      "execution_count": null,
      "outputs": []
    },
    {
      "cell_type": "markdown",
      "metadata": {},
      "source": [
        "## Derivatives"
      ],
      "id": "65f8ed47"
    },
    {
      "cell_type": "code",
      "metadata": {},
      "source": [
        "fig = wd2.update_dual_plot(fig,  names, [\"Window\", \"Deriv1\",],)\n",
        "fig.show()"
      ],
      "id": "bd895e78",
      "execution_count": null,
      "outputs": []
    },
    {
      "cell_type": "markdown",
      "metadata": {},
      "source": [
        "## Derivatives"
      ],
      "id": "ae34f507"
    },
    {
      "cell_type": "code",
      "metadata": {},
      "source": [
        "fig = wd2.update_dual_plot(fig,  names, [\"Window\", \"Deriv1\", \"Deriv2\"])\n",
        "fig.show()"
      ],
      "id": "0810bfaa",
      "execution_count": null,
      "outputs": []
    }
  ],
  "metadata": {
    "kernelspec": {
      "name": "python3910jvsc74a57bd02e1112880b8b77c737d87a21cd97a438f2a350819192e38379716d1f1fc02bad",
      "language": "python",
      "display_name": "Python 3.9.10 ('env261': venv)"
    }
  },
  "nbformat": 4,
  "nbformat_minor": 5
}