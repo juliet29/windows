{
  "cells": [
    {
      "cell_type": "markdown",
      "metadata": {},
      "source": [
        "# Analysis: Measurements \n",
        "\n",
        "\n",
        "## Simulated vs Measured Results \n",
        "<!-- TODO: real vs observed data   -->"
      ],
      "id": "c555c8eb"
    },
    {
      "cell_type": "code",
      "metadata": {},
      "source": [
        "a00, a01 = h.import_desired_data(\"A\", \"15T\")\n",
        "\n",
        "w1 = wd2.Window_Detect2(a01)\n",
        "w1.analyze_window_change(wd2.make_stl_smooth)\n",
        "# fig = w1.plot_analysis()\n",
        "\n",
        "# for name in [\"Smoothed\", \"Difference\", \"Deriv1\", \"Deriv2\"]:\n",
        "#     fig.update_traces(visible=\"legendonly\",selector=dict(name=name))\n",
        "# fig.show()"
      ],
      "id": "cff0a46f",
      "execution_count": null,
      "outputs": []
    },
    {
      "cell_type": "code",
      "metadata": {},
      "source": [
        "#| layout-ncol: 2\n",
        "\n",
        "def show_double_fig(trace, obj1=s1, obj2=w1):\n",
        "    fig1 = show_single_trace(obj1, trace, showlegend=False, width=480)\n",
        "    fig1.show()\n",
        "    fig2 = show_single_trace(obj2, trace, width=500)\n",
        "    fig2.show()\n",
        "\n",
        "show_double_fig(\"Observed Temp\")"
      ],
      "id": "01f4e5d0",
      "execution_count": null,
      "outputs": []
    },
    {
      "cell_type": "markdown",
      "metadata": {},
      "source": [
        "## Smoothing with STL\n",
        "<!-- TODO: STL figure-->\n"
      ],
      "id": "ab56fa1f"
    },
    {
      "cell_type": "code",
      "metadata": {},
      "source": [
        "#| layout-ncol: 2\n",
        "show_double_fig(\"Smoothed\")"
      ],
      "id": "2828cb29",
      "execution_count": null,
      "outputs": []
    },
    {
      "cell_type": "markdown",
      "metadata": {},
      "source": [
        "## 3. Difference"
      ],
      "id": "0dd6505d"
    },
    {
      "cell_type": "code",
      "metadata": {},
      "source": [
        "#| layout-ncol: 2\n",
        "show_double_fig(\"Difference\")"
      ],
      "id": "9d4a4300",
      "execution_count": null,
      "outputs": []
    },
    {
      "cell_type": "markdown",
      "metadata": {},
      "source": [
        "## Derivatives "
      ],
      "id": "45bbba5b"
    },
    {
      "cell_type": "code",
      "metadata": {},
      "source": [
        "#| layout-ncol: 2\n",
        "show_double_fig(\"Deriv1\")"
      ],
      "id": "6011a6c8",
      "execution_count": null,
      "outputs": []
    },
    {
      "cell_type": "markdown",
      "metadata": {},
      "source": [
        "## Derivatives\n"
      ],
      "id": "f118ac65"
    },
    {
      "cell_type": "code",
      "metadata": {},
      "source": [
        "#| layout-ncol: 2\n",
        "show_double_fig(\"Deriv2\")"
      ],
      "id": "32483e90",
      "execution_count": null,
      "outputs": []
    },
    {
      "cell_type": "markdown",
      "metadata": {},
      "source": [
        "## Making Predictions \n",
        "::: {.r-stack}\n"
      ],
      "id": "db7b817e"
    },
    {
      "cell_type": "code",
      "metadata": {
        "output-location": "fragment"
      },
      "source": [
        "#| layout-ncol: 2\n",
        "\n",
        "def show_double_result(func, obj1=s1, obj2=w1, width=500, height=500):\n",
        "    if func == \"dist\":\n",
        "        fig1 = obj1.plot_distributions()\n",
        "        fig2 = obj2.plot_distributions()\n",
        "    elif func == \"z\":\n",
        "        fig1 = obj1.plot_zscore()\n",
        "        fig2 = obj2.plot_zscore()\n",
        "    elif func == \"guess_nofilter\":\n",
        "        fig1 = obj1.plot_guesses(timedelta=1)\n",
        "        fig2 = obj2.plot_guesses(timedelta=1)\n",
        "    else:\n",
        "        fig1 = obj1.plot_guesses()\n",
        "        fig2 = obj2.plot_guesses()\n",
        "    fig1.update_layout(autosize=False, width=width, height=height, showlegend=False)\n",
        "    fig2.update_layout(autosize=False, width=width, height=height,)\n",
        "    fig1.show()\n",
        "    fig2.show()\n",
        "\n",
        "show_double_result(\"dist\")"
      ],
      "id": "3feb94ea",
      "execution_count": null,
      "outputs": []
    },
    {
      "cell_type": "markdown",
      "metadata": {},
      "source": [
        "::: {.fragment}"
      ],
      "id": "59292a76"
    },
    {
      "cell_type": "code",
      "metadata": {
        "output-location": "fragment"
      },
      "source": [
        "#| layout-ncol: 2\n",
        "show_double_result(\"z\")"
      ],
      "id": "6b6f58b8",
      "execution_count": null,
      "outputs": []
    },
    {
      "cell_type": "markdown",
      "metadata": {},
      "source": [
        ":::\n",
        "\n",
        "::: {.fragment}"
      ],
      "id": "845fbd85"
    },
    {
      "cell_type": "code",
      "metadata": {
        "output-location": "fragment"
      },
      "source": [
        "#| layout-ncol: 2\n",
        "show_double_result(\"guess_nofilter\")"
      ],
      "id": "e0ec1f00",
      "execution_count": null,
      "outputs": []
    },
    {
      "cell_type": "markdown",
      "metadata": {},
      "source": [
        ":::\n",
        "\n",
        "::: {.fragment}"
      ],
      "id": "1485b8cc"
    },
    {
      "cell_type": "code",
      "metadata": {
        "output-location": "fragment"
      },
      "source": [
        "#| layout-ncol: 2\n",
        "show_double_result(\"guess\")"
      ],
      "id": "62fd20e1",
      "execution_count": null,
      "outputs": []
    },
    {
      "cell_type": "markdown",
      "metadata": {},
      "source": [
        ":::\n",
        "\n",
        "\n",
        ":::\n",
        "\n",
        "\n",
        "\n",
        "## Other Smoothing Techniques \n",
        "- Fitting a sinusoid \n",
        "- Modifying the STL technique?\n",
        "- Exponentially weighted mean function \n",
        "\n",
        "## Other Smoothing Techniques Results\n",
        "<!-- TODO: othe rsmoothing technique figures -->\n",
        "\n",
        "::: {.r-stack}"
      ],
      "id": "98b7d1b2"
    },
    {
      "cell_type": "code",
      "metadata": {},
      "source": [
        "w2 = wd2.Window_Detect2(a01)\n",
        "w2.analyze_window_change(wd2.make_sin_smooth)\n",
        "\n",
        "w3 = wd2.Window_Detect2(a01)\n",
        "w3.analyze_window_change(wd2.make_ewm_smooth)\n",
        "\n",
        "fig, names = wd2.make_dual_plot(w2.time, w2, w3, [\"Sinusoid\", \"EWM\"])\n",
        "fig = fig.update_layout(autosize=False, width=1000, height=500,)\n",
        "\n",
        "fig1 = wd2.update_dual_plot(fig,  names, [\"Window\", \"Observed Temp\", \"Smoothed\"],)\n",
        "\n",
        "fig1.show()"
      ],
      "id": "61395e41",
      "execution_count": null,
      "outputs": []
    },
    {
      "cell_type": "markdown",
      "metadata": {},
      "source": [
        "::: {.fragment}"
      ],
      "id": "121c0ce7"
    },
    {
      "cell_type": "code",
      "metadata": {},
      "source": [
        "fig1 = wd2.update_dual_plot(fig,  names, [\"Window\", \"Deriv1\",],)\n",
        "\n",
        "fig1.show()"
      ],
      "id": "f233634c",
      "execution_count": null,
      "outputs": []
    },
    {
      "cell_type": "markdown",
      "metadata": {},
      "source": [
        ":::\n",
        "\n",
        "\n",
        ":::\n",
        "\n",
        "\n",
        "## Comparing Results \n",
        "<!-- table TODO: de raultin de roy metrics + compare to other ML methods on same data  -->\n",
        "\n",
        "\n",
        "## reflections \n",
        "- better understanding the unique way that w/o/c appears in the time series\n",
        "  - how this differs \n",
        "    - based on time of day \n",
        "    - length of w/o/c\n",
        "  - can use BEM + CFD for this?\n",
        "- when sort of smoothing method is truly best for this use case?\n",
        "- test on larger external data set \n",
        "<!-- TODO: progress on cfd so far?  -->"
      ],
      "id": "f3cba7c1"
    }
  ],
  "metadata": {
    "kernelspec": {
      "name": "python3910jvsc74a57bd02e1112880b8b77c737d87a21cd97a438f2a350819192e38379716d1f1fc02bad",
      "language": "python",
      "display_name": "Python 3.9.10 ('env261': venv)"
    }
  },
  "nbformat": 4,
  "nbformat_minor": 5
}