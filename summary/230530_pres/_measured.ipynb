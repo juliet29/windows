{
  "cells": [
    {
      "cell_type": "markdown",
      "metadata": {},
      "source": [
        "# Analysis: Measurements \n",
        "\n",
        "\n",
        "## back to reality -> 1. observed data \n",
        "<!-- TODO: real vs observed data   -->"
      ],
      "id": "1c394700"
    },
    {
      "cell_type": "code",
      "metadata": {},
      "source": [
        "#| label: july_observed\n",
        "#| fig-cap: 'Observe indoor temperature, July experiment'\n",
        "\n",
        "a00, a01 = h.import_desired_data(\"A\", \"15T\")\n",
        "\n",
        "w1 = wd2.Window_Detect2(a01)\n",
        "w1.analyze_window_change(wd2.make_stl_smooth)\n",
        "fig = w1.plot_analysis()\n",
        "\n",
        "for name in [\"Smoothed\", \"Difference\", \"Deriv1\", \"Deriv2\"]:\n",
        "    fig.update_traces(visible=False,selector=dict(name=name))\n",
        "fig.show()"
      ],
      "id": "july_observed",
      "execution_count": null,
      "outputs": []
    },
    {
      "cell_type": "markdown",
      "metadata": {},
      "source": [
        "## 2. smoothing: STL results \n",
        "<!-- TODO: STL figure-->\n"
      ],
      "id": "38b3948f"
    },
    {
      "cell_type": "code",
      "metadata": {},
      "source": [
        "a00, a01 = h.import_desired_data(\"A\", \"15T\")\n",
        "\n",
        "w1 = wd2.Window_Detect2(a01)\n",
        "w1.analyze_window_change(wd2.make_stl_smooth)\n",
        "fig = w1.plot_analysis()\n",
        "\n",
        "# for name in [\"Smoothed\", \"Difference\", \"Deriv1\", \"Deriv2\"]:\n",
        "#     fig.update_traces(visible=False,selector=dict(name=name))\n",
        "fig.show()"
      ],
      "id": "2cb6b959",
      "execution_count": null,
      "outputs": []
    },
    {
      "cell_type": "markdown",
      "metadata": {},
      "source": [
        "## 2. smoothing: other smoothing techniques \n",
        "<!-- TODO: othe rsmoothing technique figures -->\n",
        "\n",
        "\n",
        "## results \n",
        "<!-- TODO: de raultin de roy metrics + compare to other ML methods on same data  -->\n",
        "\n",
        "\n",
        "## reflections \n",
        "- better understanding the unique way that w/o/c appears in the time series\n",
        "  - how this differs \n",
        "    - based on time of day \n",
        "    - length of w/o/c\n",
        "  - can use BEM + CFD for this?\n",
        "- when sort of smoothing method is truly best for this use case?\n",
        "- test on larger external data set \n",
        "<!-- TODO: progress on cfd so far?  -->"
      ],
      "id": "830a23ac"
    }
  ],
  "metadata": {
    "kernelspec": {
      "name": "python3",
      "language": "python",
      "display_name": "Python 3 (ipykernel)"
    }
  },
  "nbformat": 4,
  "nbformat_minor": 5
}