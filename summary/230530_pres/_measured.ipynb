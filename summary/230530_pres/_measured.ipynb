{
  "cells": [
    {
      "cell_type": "markdown",
      "metadata": {},
      "source": [
        "# Analysis: Measurements \n",
        "\n",
        "\n",
        "## back to reality -> 1. observed data \n",
        "<!-- TODO: real vs observed data   -->"
      ],
      "id": "ce6255ad"
    },
    {
      "cell_type": "code",
      "metadata": {},
      "source": [
        "a00, a01 = h.import_desired_data(\"A\", \"15T\")\n",
        "\n",
        "w1 = wd2.Window_Detect2(a01)\n",
        "w1.analyze_window_change(wd2.make_stl_smooth)\n",
        "fig = w1.plot_analysis()\n",
        "\n",
        "for name in [\"Smoothed\", \"Difference\", \"Deriv1\", \"Deriv2\"]:\n",
        "    fig.update_traces(visible=False,selector=dict(name=name))\n",
        "fig.show()"
      ],
      "id": "17b16b4d",
      "execution_count": null,
      "outputs": []
    },
    {
      "cell_type": "markdown",
      "metadata": {},
      "source": [
        "## 2. smoothing: STL results \n",
        "<!-- TODO: STL figure-->\n",
        "\n",
        ":::: {.columns}\n",
        "\n",
        "::: {.column width=\"50%\"}"
      ],
      "id": "c7656b80"
    },
    {
      "cell_type": "code",
      "metadata": {},
      "source": [
        "a00, a01 = h.import_desired_data(\"A\", \"15T\")\n",
        "\n",
        "w1 = wd2.Window_Detect2(a01)\n",
        "w1.analyze_window_change(wd2.make_stl_smooth)\n",
        "fig = w1.plot_analysis()\n",
        "\n",
        "# for name in [\"Smoothed\", \"Difference\", \"Deriv1\", \"Deriv2\"]:\n",
        "#     fig.update_traces(visible=False,selector=dict(name=name))\n",
        "fig.show()"
      ],
      "id": "5c4e2d5d",
      "execution_count": null,
      "outputs": []
    },
    {
      "cell_type": "markdown",
      "metadata": {},
      "source": [
        ":::\n",
        "\n",
        "::: {.column width=\"50%\"}"
      ],
      "id": "7dd006ac"
    },
    {
      "cell_type": "code",
      "metadata": {},
      "source": [
        "#| layout-nrow: 2\n",
        "fig2 = w1.plot_distributions()\n",
        "fig2.show()\n",
        "\n",
        "fig3 = w1.plot_zscore()\n",
        "fig3.show()"
      ],
      "id": "d19fd260",
      "execution_count": null,
      "outputs": []
    },
    {
      "cell_type": "markdown",
      "metadata": {},
      "source": [
        ":::\n",
        "\n",
        "::::\n",
        "\n",
        "\n",
        "\n",
        "## 2. smoothing: other smoothing techniques \n",
        "<!-- TODO: othe rsmoothing technique figures -->\n",
        "\n",
        "\n",
        "## results \n",
        "<!-- TODO: de raultin de roy metrics + compare to other ML methods on same data  -->\n",
        "\n",
        "\n",
        "## reflections \n",
        "- better understanding the unique way that w/o/c appears in the time series\n",
        "  - how this differs \n",
        "    - based on time of day \n",
        "    - length of w/o/c\n",
        "  - can use BEM + CFD for this?\n",
        "- when sort of smoothing method is truly best for this use case?\n",
        "- test on larger external data set \n",
        "<!-- TODO: progress on cfd so far?  -->"
      ],
      "id": "2871897d"
    }
  ],
  "metadata": {
    "kernelspec": {
      "name": "python3",
      "language": "python",
      "display_name": "Python 3 (ipykernel)"
    }
  },
  "nbformat": 4,
  "nbformat_minor": 5
}