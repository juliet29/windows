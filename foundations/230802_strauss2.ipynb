{
 "cells": [
  {
   "cell_type": "code",
   "execution_count": 1,
   "metadata": {},
   "outputs": [],
   "source": [
    "from sympy import * "
   ]
  },
  {
   "cell_type": "code",
   "execution_count": 21,
   "metadata": {},
   "outputs": [],
   "source": [
    "def integrate_by_parts(integral, u, vp):\n",
    "    \"\"\" Makes SymPy integrate by parts\n",
    "    \n",
    "        integral: A SymPy Integral object\n",
    "        u: u(x)\n",
    "        vp: derivative of v(x)    \n",
    "    \"\"\"\n",
    "    integrand, (x_, a_, b_) = integral.args    \n",
    "    assert integrand == u * vp\n",
    "    v = Integral(vp, x_).doit()\n",
    "    return (\n",
    "      limit(u*v, x_, b_) - limit(u*v, x_, a_)\n",
    "       - Integral(diff(u, x_)*v, (x_, a_, b_))\n",
    "           )"
   ]
  },
  {
   "cell_type": "code",
   "execution_count": 25,
   "metadata": {},
   "outputs": [],
   "source": [
    "u, t, x, a, b  = symbols(\"u t x a b\")\n",
    "u = Function(\"u\")(x,t)"
   ]
  },
  {
   "cell_type": "code",
   "execution_count": 33,
   "metadata": {},
   "outputs": [
    {
     "data": {
      "text/latex": [
       "$\\displaystyle \\frac{\\partial}{\\partial x} u{\\left(x,t \\right)} \\frac{\\partial^{2}}{\\partial x\\partial t} u{\\left(x,t \\right)}$"
      ],
      "text/plain": [
       "Derivative(u(x, t), x)*Derivative(u(x, t), t, x)"
      ]
     },
     "execution_count": 33,
     "metadata": {},
     "output_type": "execute_result"
    }
   ],
   "source": [
    "u.diff(t).diff(x)*u.diff(x).doit()"
   ]
  },
  {
   "cell_type": "markdown",
   "metadata": {},
   "source": [
    "..."
   ]
  },
  {
   "cell_type": "code",
   "execution_count": 15,
   "metadata": {},
   "outputs": [
    {
     "data": {
      "text/latex": [
       "$\\displaystyle u{\\left(x,t \\right)}$"
      ],
      "text/plain": [
       "u(x, t)"
      ]
     },
     "execution_count": 15,
     "metadata": {},
     "output_type": "execute_result"
    }
   ],
   "source": [
    "u"
   ]
  },
  {
   "cell_type": "code",
   "execution_count": 26,
   "metadata": {},
   "outputs": [
    {
     "data": {
      "text/latex": [
       "$\\displaystyle \\int\\limits_{a}^{b} \\frac{\\partial}{\\partial t} u{\\left(x,t \\right)} \\frac{\\partial^{2}}{\\partial x^{2}} u{\\left(x,t \\right)}\\, dx$"
      ],
      "text/plain": [
       "Integral(Derivative(u(x, t), t)*Derivative(u(x, t), (x, 2)), (x, a, b))"
      ]
     },
     "execution_count": 26,
     "metadata": {},
     "output_type": "execute_result"
    }
   ],
   "source": [
    "Ii = Integral(u.diff(t)*u.diff(x,2), (x, a, b))\n",
    "Ii"
   ]
  },
  {
   "cell_type": "code",
   "execution_count": 28,
   "metadata": {},
   "outputs": [],
   "source": [
    "# integrate_by_parts(Ii, u.diff(t), u.diff(x,2) )"
   ]
  },
  {
   "cell_type": "markdown",
   "metadata": {},
   "source": [
    ".."
   ]
  },
  {
   "cell_type": "code",
   "execution_count": 3,
   "metadata": {},
   "outputs": [],
   "source": [
    "g, c, x, t, = symbols(\"g, c, x, t\")"
   ]
  },
  {
   "cell_type": "code",
   "execution_count": 4,
   "metadata": {},
   "outputs": [
    {
     "data": {
      "text/latex": [
       "$\\displaystyle \\frac{\\sin{\\left(c t \\right)} \\cos{\\left(x \\right)}}{c}$"
      ],
      "text/plain": [
       "sin(c*t)*cos(x)/c"
      ]
     },
     "execution_count": 4,
     "metadata": {},
     "output_type": "execute_result"
    }
   ],
   "source": [
    "g = (1/c)*cos(x)*sin(c*t)\n",
    "g"
   ]
  },
  {
   "cell_type": "code",
   "execution_count": 5,
   "metadata": {},
   "outputs": [
    {
     "data": {
      "text/latex": [
       "$\\displaystyle \\cos{\\left(x \\right)} \\cos{\\left(c t \\right)}$"
      ],
      "text/plain": [
       "cos(x)*cos(c*t)"
      ]
     },
     "execution_count": 5,
     "metadata": {},
     "output_type": "execute_result"
    }
   ],
   "source": [
    "g.diff(t)"
   ]
  },
  {
   "cell_type": "code",
   "execution_count": 6,
   "metadata": {},
   "outputs": [
    {
     "data": {
      "text/latex": [
       "$\\displaystyle - c \\sin{\\left(c t \\right)} \\cos{\\left(x \\right)}$"
      ],
      "text/plain": [
       "-c*sin(c*t)*cos(x)"
      ]
     },
     "execution_count": 6,
     "metadata": {},
     "output_type": "execute_result"
    }
   ],
   "source": [
    "g.diff(t, 2)"
   ]
  }
 ],
 "metadata": {
  "kernelspec": {
   "display_name": "localwindowsenv",
   "language": "python",
   "name": "python3"
  },
  "language_info": {
   "codemirror_mode": {
    "name": "ipython",
    "version": 3
   },
   "file_extension": ".py",
   "mimetype": "text/x-python",
   "name": "python",
   "nbconvert_exporter": "python",
   "pygments_lexer": "ipython3",
   "version": "3.9.15"
  },
  "orig_nbformat": 4
 },
 "nbformat": 4,
 "nbformat_minor": 2
}
